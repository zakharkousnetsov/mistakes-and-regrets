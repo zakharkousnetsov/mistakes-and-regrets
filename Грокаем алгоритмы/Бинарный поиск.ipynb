{
 "cells": [
  {
   "cell_type": "markdown",
   "source": [
    "# Алгоритм бинарного поиска"
   ],
   "metadata": {
    "collapsed": false,
    "pycharm": {
     "name": "#%% md\n"
    }
   }
  },
  {
   "cell_type": "markdown",
   "source": [
    "## Реализация алгоритма из книги"
   ],
   "metadata": {
    "collapsed": false,
    "pycharm": {
     "name": "#%% md\n"
    }
   }
  },
  {
   "cell_type": "code",
   "execution_count": 163,
   "outputs": [],
   "source": [
    "# Пример из книги. Работает, но в нем отсутствует деление интервала пополам, то есть поиск не бинарный\n",
    "\n",
    "def binary_search_book(lst, item):\n",
    "    low = 0\n",
    "    high = len(lst) - 1\n",
    "    i = 0\n",
    "\n",
    "    while low<=high:\n",
    "        i+=1\n",
    "        mid = low+high\n",
    "        guess=lst[mid]\n",
    "        if guess == item:\n",
    "            return i, mid\n",
    "\n",
    "        if guess>item:\n",
    "            high=mid-1\n",
    "        else:\n",
    "            low = mid+1\n",
    "\n",
    "    return i, None"
   ],
   "metadata": {
    "collapsed": false,
    "pycharm": {
     "name": "#%%\n"
    }
   }
  },
  {
   "cell_type": "markdown",
   "source": [
    "## Корректная реализация алгоритма"
   ],
   "metadata": {
    "collapsed": false,
    "pycharm": {
     "name": "#%% md\n"
    }
   }
  },
  {
   "cell_type": "code",
   "execution_count": 164,
   "outputs": [],
   "source": [
    "def binary_search(lst, item):\n",
    "    low = 0\n",
    "    high = len(lst) - 1\n",
    "    i = 0\n",
    "\n",
    "    while low<high:\n",
    "        i+=1\n",
    "        mid = round((low+high)/2)\n",
    "        if lst[mid] == item:\n",
    "            return i, mid\n",
    "\n",
    "        if lst[mid]<item:\n",
    "            low = mid\n",
    "        else:\n",
    "            high = mid\n",
    "\n",
    "    return i, None"
   ],
   "metadata": {
    "collapsed": false,
    "pycharm": {
     "name": "#%%\n"
    }
   }
  },
  {
   "cell_type": "markdown",
   "source": [
    "## Проверка работы"
   ],
   "metadata": {
    "collapsed": false,
    "pycharm": {
     "name": "#%% md\n"
    }
   }
  },
  {
   "cell_type": "code",
   "execution_count": 171,
   "outputs": [],
   "source": [
    "lst = [i for i in range(1, 10000000)]\n",
    "item = 222"
   ],
   "metadata": {
    "collapsed": false,
    "pycharm": {
     "name": "#%%\n"
    }
   }
  },
  {
   "cell_type": "code",
   "execution_count": 172,
   "outputs": [
    {
     "name": "stdout",
     "output_type": "stream",
     "text": [
      "Искомый индекс: 222221, Потребовалось 23 итераций. Время указано ниже\n",
      "CPU times: total: 0 ns\n",
      "Wall time: 0 ns\n"
     ]
    }
   ],
   "source": [
    "%%time\n",
    "res = binary_search(lst, item)\n",
    "print(f'Искомый индекс: {res[1]}, Потребовалось {res[0]} итераций. Время указано ниже')"
   ],
   "metadata": {
    "collapsed": false,
    "pycharm": {
     "name": "#%%\n"
    }
   }
  },
  {
   "cell_type": "code",
   "execution_count": 173,
   "outputs": [
    {
     "name": "stdout",
     "output_type": "stream",
     "text": [
      "Искомый индекс: 222221, Потребовалось 9777778 итераций. Время указано ниже\n",
      "CPU times: total: 1.34 s\n",
      "Wall time: 1.38 s\n"
     ]
    }
   ],
   "source": [
    "%%time\n",
    "res_book = binary_search_book(lst, item)\n",
    "print(f'Искомый индекс: {res_book[1]}, Потребовалось {res_book[0]} итераций. Время указано ниже')"
   ],
   "metadata": {
    "collapsed": false,
    "pycharm": {
     "name": "#%%\n"
    }
   }
  },
  {
   "cell_type": "markdown",
   "source": [
    "# Упражнения"
   ],
   "metadata": {
    "collapsed": false,
    "pycharm": {
     "name": "#%% md\n"
    }
   }
  },
  {
   "cell_type": "markdown",
   "source": [
    "***Вопрос***\n",
    "Имеется отсортированный список из 128 имен, и вы ищете в нем значение\n",
    "методом бинарного поиска. Какое максимальное количество\n",
    "проверок для этого может потребоваться?\n",
    "***Ответ***\n",
    "log128 = 7"
   ],
   "metadata": {
    "collapsed": false,
    "pycharm": {
     "name": "#%% md\n"
    }
   }
  },
  {
   "cell_type": "markdown",
   "source": [
    "***Вопрос***\n",
    "Предположим, размер списка увеличился вдвое. Как изменится максимальное\n",
    "количество проверок?\n",
    "***Ответ***\n",
    "На единицу"
   ],
   "metadata": {
    "collapsed": false,
    "pycharm": {
     "name": "#%% md\n"
    }
   }
  },
  {
   "cell_type": "code",
   "execution_count": null,
   "outputs": [],
   "source": [],
   "metadata": {
    "collapsed": false,
    "pycharm": {
     "name": "#%%\n"
    }
   }
  },
  {
   "cell_type": "code",
   "execution_count": null,
   "outputs": [],
   "source": [],
   "metadata": {
    "collapsed": false,
    "pycharm": {
     "name": "#%%\n"
    }
   }
  },
  {
   "cell_type": "code",
   "execution_count": null,
   "outputs": [],
   "source": [],
   "metadata": {
    "collapsed": false,
    "pycharm": {
     "name": "#%%\n"
    }
   }
  },
  {
   "cell_type": "code",
   "execution_count": null,
   "outputs": [],
   "source": [],
   "metadata": {
    "collapsed": false,
    "pycharm": {
     "name": "#%%\n"
    }
   }
  }
 ],
 "metadata": {
  "kernelspec": {
   "display_name": "Python 3",
   "language": "python",
   "name": "python3"
  },
  "language_info": {
   "codemirror_mode": {
    "name": "ipython",
    "version": 2
   },
   "file_extension": ".py",
   "mimetype": "text/x-python",
   "name": "python",
   "nbconvert_exporter": "python",
   "pygments_lexer": "ipython2",
   "version": "2.7.6"
  }
 },
 "nbformat": 4,
 "nbformat_minor": 0
}