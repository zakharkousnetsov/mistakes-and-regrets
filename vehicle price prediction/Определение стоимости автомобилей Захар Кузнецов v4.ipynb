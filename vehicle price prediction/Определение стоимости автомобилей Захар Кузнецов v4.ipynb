{
 "cells": [
  {
   "cell_type": "markdown",
   "metadata": {
    "pycharm": {
     "name": "#%% md\n"
    }
   },
   "source": [
    "<font color='steelblue' size=5><b>Комментарий ревьюера</b></font>\n",
    "\n",
    "<font color='steelblue'>Привет, Захар! Меня зовут Ольга Васильева, я буду проверять этот проект. Спасибо за проделанную работу! Предлагаю общаться на «ты».</font>\n",
    "\n",
    "<font color='steelblue'>Я буду использовать различные цвета и знаки, чтобы было удобнее воспринимать мои комментарии:</font>\n",
    "\n",
    "\n",
    "---\n",
    "\n",
    "\n",
    "<font color='steelblue'>синий текст - просто текст комментария</font>\n",
    "\n",
    "<font color='green'>✔️ и зеленый текст - все отлично</font>\n",
    "\n",
    "<font color='darkorange'>⚠️ и оранжевый текст - сделано все правильно, однако есть рекомендации, на что стоит обратить внимание</font>\n",
    "\n",
    "<font color='crimson'>❌ и красный текст - есть недочеты</font>\n",
    "\n",
    "---\n",
    "\n",
    "<font color='steelblue'>Пожалуйста, не удаляй мои комментарии в случае возврата работы, так будет проще разобраться, какие были недочеты, а также сразу увидеть исправленное. \n",
    "\n",
    "Ответы на мои комментарии лучше тоже помечать.\n",
    "Например, так: <b>Комментарий студента</b>\n",
    "\n",
    "<b>Давай смотреть, что получилось!</b></font>"
   ]
  },
  {
   "cell_type": "markdown",
   "metadata": {
    "pycharm": {
     "name": "#%% md\n"
    }
   },
   "source": [
    "<font color='steelblue'>Комментарий ревьюера <b>v2</b>: так я буду помечать комментарии второй проверки.<br>\n",
    "</font>\n",
    "<font color='steelblue'>Комментарий ревьюера <b>v3</b>: так я буду помечать комментарии третьей проверки.<br>\n",
    "</font>"
   ]
  },
  {
   "cell_type": "markdown",
   "metadata": {
    "toc": true,
    "pycharm": {
     "name": "#%% md\n"
    }
   },
   "source": [
    "<h1>Table of Contents<span class=\"tocSkip\"></span></h1>\n",
    "<div class=\"toc\"><ul class=\"toc-item\"><li><span><a href=\"#Загрузка-и-обработка-данных\" data-toc-modified-id=\"Загрузка-и-обработка-данных-1\"><span class=\"toc-item-num\">1&nbsp;&nbsp;</span>Загрузка и обработка данных</a></span><ul class=\"toc-item\"><li><span><a href=\"#Обработка-дискретных-признаков\" data-toc-modified-id=\"Обработка-дискретных-признаков-1.1\"><span class=\"toc-item-num\">1.1&nbsp;&nbsp;</span>Обработка дискретных признаков</a></span></li><li><span><a href=\"#Оценка-важности-признаков\" data-toc-modified-id=\"Оценка-важности-признаков-1.2\"><span class=\"toc-item-num\">1.2&nbsp;&nbsp;</span>Оценка важности признаков</a></span></li><li><span><a href=\"#Обработка-числовых-признаков\" data-toc-modified-id=\"Обработка-числовых-признаков-1.3\"><span class=\"toc-item-num\">1.3&nbsp;&nbsp;</span>Обработка числовых признаков</a></span></li></ul></li><li><span><a href=\"#Обучение-моделей\" data-toc-modified-id=\"Обучение-моделей-2\"><span class=\"toc-item-num\">2&nbsp;&nbsp;</span>Обучение моделей</a></span><ul class=\"toc-item\"><li><span><a href=\"#Извлечение-выборок\" data-toc-modified-id=\"Извлечение-выборок-2.1\"><span class=\"toc-item-num\">2.1&nbsp;&nbsp;</span>Извлечение выборок</a></span></li><li><span><a href=\"#Введение-инструмента-оценки-адекватности\" data-toc-modified-id=\"Введение-инструмента-оценки-адекватности-2.2\"><span class=\"toc-item-num\">2.2&nbsp;&nbsp;</span>Введение инструмента оценки адекватности</a></span></li><li><span><a href=\"#Линейные-модели\" data-toc-modified-id=\"Линейные-модели-2.3\"><span class=\"toc-item-num\">2.3&nbsp;&nbsp;</span>Линейные модели</a></span><ul class=\"toc-item\"><li><span><a href=\"#Линейная-регрессия\" data-toc-modified-id=\"Линейная-регрессия-2.3.1\"><span class=\"toc-item-num\">2.3.1&nbsp;&nbsp;</span>Линейная регрессия</a></span></li><li><span><a href=\"#Lasso\" data-toc-modified-id=\"Lasso-2.3.2\"><span class=\"toc-item-num\">2.3.2&nbsp;&nbsp;</span>Lasso</a></span></li><li><span><a href=\"#Ridge\" data-toc-modified-id=\"Ridge-2.3.3\"><span class=\"toc-item-num\">2.3.3&nbsp;&nbsp;</span>Ridge</a></span></li><li><span><a href=\"#ElasticNet\" data-toc-modified-id=\"ElasticNet-2.3.4\"><span class=\"toc-item-num\">2.3.4&nbsp;&nbsp;</span>ElasticNet</a></span></li></ul></li><li><span><a href=\"#Случайный-лес\" data-toc-modified-id=\"Случайный-лес-2.4\"><span class=\"toc-item-num\">2.4&nbsp;&nbsp;</span>Случайный лес</a></span></li><li><span><a href=\"#LightGBM\" data-toc-modified-id=\"LightGBM-2.5\"><span class=\"toc-item-num\">2.5&nbsp;&nbsp;</span>LightGBM</a></span></li><li><span><a href=\"#Выбор-лучшей-модели\" data-toc-modified-id=\"Выбор-лучшей-модели-2.6\"><span class=\"toc-item-num\">2.6&nbsp;&nbsp;</span>Выбор лучшей модели</a></span></li></ul></li><li><span><a href=\"#Вывод\" data-toc-modified-id=\"Вывод-3\"><span class=\"toc-item-num\">3&nbsp;&nbsp;</span>Вывод</a></span></li></ul></div>"
   ]
  },
  {
   "cell_type": "code",
   "execution_count": 1,
   "metadata": {
    "pycharm": {
     "name": "#%%\n"
    }
   },
   "outputs": [
    {
     "name": "stdout",
     "output_type": "stream",
     "text": [
      "Requirement already satisfied: lightgbm in c:\\anaconda3\\lib\\site-packages (3.3.2)\n",
      "Requirement already satisfied: numpy in c:\\anaconda3\\lib\\site-packages (from lightgbm) (1.19.2)\n",
      "Requirement already satisfied: scikit-learn!=0.22.0 in c:\\anaconda3\\lib\\site-packages (from lightgbm) (1.0.2)\n",
      "Requirement already satisfied: scipy in c:\\anaconda3\\lib\\site-packages (from lightgbm) (1.5.2)\n",
      "Requirement already satisfied: wheel in c:\\anaconda3\\lib\\site-packages (from lightgbm) (0.35.1)\n",
      "Requirement already satisfied: joblib>=0.11 in c:\\anaconda3\\lib\\site-packages (from scikit-learn!=0.22.0->lightgbm) (0.17.0)\n",
      "Requirement already satisfied: threadpoolctl>=2.0.0 in c:\\anaconda3\\lib\\site-packages (from scikit-learn!=0.22.0->lightgbm) (2.1.0)\n",
      "Note: you may need to restart the kernel to use updated packages.\n"
     ]
    }
   ],
   "source": [
    "pip install lightgbm"
   ]
  },
  {
   "cell_type": "code",
   "execution_count": 2,
   "metadata": {
    "pycharm": {
     "name": "#%%\n"
    }
   },
   "outputs": [],
   "source": [
    "import math\n",
    "import time\n",
    "\n",
    "import matplotlib.pyplot as plt\n",
    "import numpy as np\n",
    "import pandas as pd\n",
    "\n",
    "from sklearn.metrics import make_scorer, mean_squared_error as mse\n",
    "from sklearn.preprocessing import StandardScaler\n",
    "from sklearn.model_selection import cross_val_score, GridSearchCV, train_test_split\n",
    "from sklearn.linear_model import LinearRegression, Ridge, RidgeCV, Lasso, ElasticNet\n",
    "from sklearn.ensemble import RandomForestRegressor\n",
    "from sklearn.dummy import DummyRegressor\n",
    "from lightgbm import LGBMRegressor"
   ]
  },
  {
   "cell_type": "markdown",
   "metadata": {
    "pycharm": {
     "name": "#%% md\n"
    }
   },
   "source": [
    "<font color='steelblue'><b>Комментарий ревьюера: </b></font> ✔️ <br>\n",
    "<font color='green'>Здорово, что все импорты находятся в одной ячейке.<br>\n",
    "Если хочешь сделать ещё лучше, соблюдай стандарт PEP-8, в каждой группе отсортируй импорты в алфовитном порядке. Рекомендации PEP-8:<br> <br>\n",
    "    \n",
    "Импорты всегда помещаются в начале файла, сразу после комментариев к модулю и строк документации, и перед объявлением констант. <br> <br>\n",
    "\n",
    "Импорты должны быть сгруппированы в следующем порядке: <br>\n",
    "    \n",
    "импорты из стандартной библиотеки <br>\n",
    "импорты сторонних библиотек <br>\n",
    "импорты модулей текущего проекта <br>\n",
    "\n",
    "Вставляйте пустую строку между каждой группой импортов. <br>\n",
    "\n",
    "Ссылка для ознакомления: https://pythonworld.ru/osnovy/pep-8-rukovodstvo-po-napisaniyu-koda-na-python.html\n",
    "\n",
    "</font>\n"
   ]
  },
  {
   "cell_type": "markdown",
   "metadata": {
    "pycharm": {
     "name": "#%% md\n"
    }
   },
   "source": [
    "<div class=\"alert alert-info\"> <b>Комментарий студента:</b>\n",
    "  \n",
    "Привет, сгруппировал\n",
    "\n",
    "</div>"
   ]
  },
  {
   "cell_type": "markdown",
   "metadata": {
    "pycharm": {
     "name": "#%% md\n"
    }
   },
   "source": [
    "<font color='steelblue'><b>Комментарий ревьюера: </b></font> ✔️ <br>\n",
    "<font color='green'>👍🏼</font>"
   ]
  },
  {
   "cell_type": "markdown",
   "metadata": {
    "pycharm": {
     "name": "#%% md\n"
    }
   },
   "source": [
    "# Загрузка и обработка данных"
   ]
  },
  {
   "cell_type": "code",
   "execution_count": 3,
   "metadata": {
    "pycharm": {
     "name": "#%%\n"
    }
   },
   "outputs": [],
   "source": [
    "try:\n",
    "    data = pd.read_csv('autos.csv')    \n",
    "except:\n",
    "    data = pd.read_csv('https://code.s3.yandex.net/datasets/autos.csv')"
   ]
  },
  {
   "cell_type": "markdown",
   "metadata": {
    "pycharm": {
     "name": "#%% md\n"
    }
   },
   "source": [
    "<font color='steelblue'><b>Комментарий ревьюера: </b></font> ✔️ <br>\n",
    "<font color='green'>Применена конструкция try... except... для загрузки данных.</font>\n"
   ]
  },
  {
   "cell_type": "markdown",
   "metadata": {
    "pycharm": {
     "name": "#%% md\n"
    }
   },
   "source": [
    "Выведем три случайных записи из датасета"
   ]
  },
  {
   "cell_type": "code",
   "execution_count": 4,
   "metadata": {
    "pycharm": {
     "name": "#%%\n"
    }
   },
   "outputs": [
    {
     "data": {
      "text/html": [
       "<div>\n",
       "<style scoped>\n",
       "    .dataframe tbody tr th:only-of-type {\n",
       "        vertical-align: middle;\n",
       "    }\n",
       "\n",
       "    .dataframe tbody tr th {\n",
       "        vertical-align: top;\n",
       "    }\n",
       "\n",
       "    .dataframe thead th {\n",
       "        text-align: right;\n",
       "    }\n",
       "</style>\n",
       "<table border=\"1\" class=\"dataframe\">\n",
       "  <thead>\n",
       "    <tr style=\"text-align: right;\">\n",
       "      <th></th>\n",
       "      <th>DateCrawled</th>\n",
       "      <th>Price</th>\n",
       "      <th>VehicleType</th>\n",
       "      <th>RegistrationYear</th>\n",
       "      <th>Gearbox</th>\n",
       "      <th>Power</th>\n",
       "      <th>Model</th>\n",
       "      <th>Kilometer</th>\n",
       "      <th>RegistrationMonth</th>\n",
       "      <th>FuelType</th>\n",
       "      <th>Brand</th>\n",
       "      <th>NotRepaired</th>\n",
       "      <th>DateCreated</th>\n",
       "      <th>NumberOfPictures</th>\n",
       "      <th>PostalCode</th>\n",
       "      <th>LastSeen</th>\n",
       "    </tr>\n",
       "  </thead>\n",
       "  <tbody>\n",
       "    <tr>\n",
       "      <th>176741</th>\n",
       "      <td>2016-03-10 17:57:09</td>\n",
       "      <td>1200</td>\n",
       "      <td>wagon</td>\n",
       "      <td>2005</td>\n",
       "      <td>manual</td>\n",
       "      <td>115</td>\n",
       "      <td>mondeo</td>\n",
       "      <td>150000</td>\n",
       "      <td>5</td>\n",
       "      <td>NaN</td>\n",
       "      <td>ford</td>\n",
       "      <td>yes</td>\n",
       "      <td>2016-03-10 00:00:00</td>\n",
       "      <td>0</td>\n",
       "      <td>41236</td>\n",
       "      <td>2016-03-13 00:15:30</td>\n",
       "    </tr>\n",
       "    <tr>\n",
       "      <th>228617</th>\n",
       "      <td>2016-03-27 14:56:11</td>\n",
       "      <td>10500</td>\n",
       "      <td>wagon</td>\n",
       "      <td>2008</td>\n",
       "      <td>auto</td>\n",
       "      <td>143</td>\n",
       "      <td>a4</td>\n",
       "      <td>150000</td>\n",
       "      <td>8</td>\n",
       "      <td>gasoline</td>\n",
       "      <td>audi</td>\n",
       "      <td>no</td>\n",
       "      <td>2016-03-27 00:00:00</td>\n",
       "      <td>0</td>\n",
       "      <td>7646</td>\n",
       "      <td>2016-04-07 11:45:21</td>\n",
       "    </tr>\n",
       "    <tr>\n",
       "      <th>298577</th>\n",
       "      <td>2016-03-27 19:52:37</td>\n",
       "      <td>2800</td>\n",
       "      <td>sedan</td>\n",
       "      <td>1999</td>\n",
       "      <td>manual</td>\n",
       "      <td>101</td>\n",
       "      <td>bora</td>\n",
       "      <td>150000</td>\n",
       "      <td>2</td>\n",
       "      <td>petrol</td>\n",
       "      <td>volkswagen</td>\n",
       "      <td>no</td>\n",
       "      <td>2016-03-27 00:00:00</td>\n",
       "      <td>0</td>\n",
       "      <td>1156</td>\n",
       "      <td>2016-04-05 18:16:11</td>\n",
       "    </tr>\n",
       "  </tbody>\n",
       "</table>\n",
       "</div>"
      ],
      "text/plain": [
       "                DateCrawled  Price VehicleType  RegistrationYear Gearbox  \\\n",
       "176741  2016-03-10 17:57:09   1200       wagon              2005  manual   \n",
       "228617  2016-03-27 14:56:11  10500       wagon              2008    auto   \n",
       "298577  2016-03-27 19:52:37   2800       sedan              1999  manual   \n",
       "\n",
       "        Power   Model  Kilometer  RegistrationMonth  FuelType       Brand  \\\n",
       "176741    115  mondeo     150000                  5       NaN        ford   \n",
       "228617    143      a4     150000                  8  gasoline        audi   \n",
       "298577    101    bora     150000                  2    petrol  volkswagen   \n",
       "\n",
       "       NotRepaired          DateCreated  NumberOfPictures  PostalCode  \\\n",
       "176741         yes  2016-03-10 00:00:00                 0       41236   \n",
       "228617          no  2016-03-27 00:00:00                 0        7646   \n",
       "298577          no  2016-03-27 00:00:00                 0        1156   \n",
       "\n",
       "                   LastSeen  \n",
       "176741  2016-03-13 00:15:30  \n",
       "228617  2016-04-07 11:45:21  \n",
       "298577  2016-04-05 18:16:11  "
      ]
     },
     "execution_count": 4,
     "metadata": {},
     "output_type": "execute_result"
    }
   ],
   "source": [
    "data.sample(3)"
   ]
  },
  {
   "cell_type": "markdown",
   "metadata": {
    "pycharm": {
     "name": "#%% md\n"
    }
   },
   "source": [
    "Прежде чем начать обработку датасета, разделим слова в названии признаков нижним подчеркиванием и приведем их к нижнему регистру"
   ]
  },
  {
   "cell_type": "code",
   "execution_count": 5,
   "metadata": {
    "pycharm": {
     "name": "#%%\n"
    }
   },
   "outputs": [],
   "source": [
    "def snake_caser(word):\n",
    "    word = list(word)\n",
    "    for i in range(1, len(word)):\n",
    "        if word[-i].isupper():\n",
    "            word.insert(-i, '_')\n",
    "    return(''.join(word).lower())"
   ]
  },
  {
   "cell_type": "code",
   "execution_count": 6,
   "metadata": {
    "pycharm": {
     "name": "#%%\n"
    }
   },
   "outputs": [],
   "source": [
    "data.columns = [snake_caser(word) for word in list(data.columns)]"
   ]
  },
  {
   "cell_type": "markdown",
   "metadata": {
    "pycharm": {
     "name": "#%% md\n"
    }
   },
   "source": [
    "<font color='steelblue'><b>Комментарий ревьюера: </b></font> ✔️ <br>\n",
    "<font color='green'>Хорошо, что приводишь к нижнему регистру. Еще можно разделить слова нижним подчёркиванием.</font>\n"
   ]
  },
  {
   "cell_type": "markdown",
   "metadata": {
    "pycharm": {
     "name": "#%% md\n"
    }
   },
   "source": [
    "<div class=\"alert alert-info\"> <b>Комментарий студента:</b>\n",
    "  \n",
    "Стащил функцию из своего старого проекта) Можно это реализовать как-то покороче?)\n",
    "\n",
    "</div>"
   ]
  },
  {
   "cell_type": "markdown",
   "metadata": {
    "pycharm": {
     "name": "#%% md\n"
    }
   },
   "source": [
    "<font color='steelblue'><b>Комментарий ревьюера v2: </b><br>\n",
    "Очень круто, что не останавливаешься на достигнутом :) Вот так можно сделать, используя регулярки и list comprehension:</font>\n"
   ]
  },
  {
   "cell_type": "code",
   "execution_count": 7,
   "metadata": {
    "pycharm": {
     "name": "#%%\n"
    }
   },
   "outputs": [],
   "source": [
    "# #код ревьюера\n",
    "# import re\n",
    "\n",
    "# data.columns = ['_'.join(words).lower() for words in [re.findall(r'([A-Z]{1}[a-z]+)', el) for el in data.columns]]"
   ]
  },
  {
   "cell_type": "markdown",
   "metadata": {
    "pycharm": {
     "name": "#%% md\n"
    }
   },
   "source": [
    "Почтовый индекс владельца анкеты мог помочь выявить некоторые региональные особенности рынков подержанных авто, но для этого потребовалось бы подтверждение составителя датасета, так как почтовые индексы разных стран могут формироваться по разным стандартам и совпадать. Подавляющее число наблюдений относится к немецкому рынку. Ограничимся этим знанием и удалим столбец с почтовым индексом."
   ]
  },
  {
   "cell_type": "code",
   "execution_count": 8,
   "metadata": {
    "pycharm": {
     "name": "#%%\n"
    }
   },
   "outputs": [],
   "source": [
    "data = data.drop('postal_code', axis=1)"
   ]
  },
  {
   "cell_type": "markdown",
   "metadata": {
    "pycharm": {
     "name": "#%% md\n"
    }
   },
   "source": [
    "<font color='steelblue'><b>Комментарий ревьюера: </b></font> ✔️ <br>\n",
    "<font color='green'>Хорошо.</font>\n"
   ]
  },
  {
   "cell_type": "markdown",
   "metadata": {
    "pycharm": {
     "name": "#%% md\n"
    }
   },
   "source": [
    "Выведем сводную таблицу по датасету, совмещающую в себе функции методов `info()` и `describe()`, а также подсчитывающую количество пропущенных значений"
   ]
  },
  {
   "cell_type": "code",
   "execution_count": 9,
   "metadata": {
    "pycharm": {
     "name": "#%%\n"
    }
   },
   "outputs": [],
   "source": [
    "def full_info(df):\n",
    "    display(pd.DataFrame({'Non-Null Count': (~df.isna()).sum(), \n",
    "                          'Null Count': df.isna().sum(), \n",
    "                          'Dtype': df.dtypes}).join(df.describe().T).rename_axis('Feature', axis=1).fillna(''))"
   ]
  },
  {
   "cell_type": "code",
   "execution_count": 10,
   "metadata": {
    "pycharm": {
     "name": "#%%\n"
    }
   },
   "outputs": [
    {
     "data": {
      "text/html": [
       "<div>\n",
       "<style scoped>\n",
       "    .dataframe tbody tr th:only-of-type {\n",
       "        vertical-align: middle;\n",
       "    }\n",
       "\n",
       "    .dataframe tbody tr th {\n",
       "        vertical-align: top;\n",
       "    }\n",
       "\n",
       "    .dataframe thead th {\n",
       "        text-align: right;\n",
       "    }\n",
       "</style>\n",
       "<table border=\"1\" class=\"dataframe\">\n",
       "  <thead>\n",
       "    <tr style=\"text-align: right;\">\n",
       "      <th>Feature</th>\n",
       "      <th>Non-Null Count</th>\n",
       "      <th>Null Count</th>\n",
       "      <th>Dtype</th>\n",
       "      <th>count</th>\n",
       "      <th>mean</th>\n",
       "      <th>std</th>\n",
       "      <th>min</th>\n",
       "      <th>25%</th>\n",
       "      <th>50%</th>\n",
       "      <th>75%</th>\n",
       "      <th>max</th>\n",
       "    </tr>\n",
       "  </thead>\n",
       "  <tbody>\n",
       "    <tr>\n",
       "      <th>date_crawled</th>\n",
       "      <td>354369</td>\n",
       "      <td>0</td>\n",
       "      <td>object</td>\n",
       "      <td></td>\n",
       "      <td></td>\n",
       "      <td></td>\n",
       "      <td></td>\n",
       "      <td></td>\n",
       "      <td></td>\n",
       "      <td></td>\n",
       "      <td></td>\n",
       "    </tr>\n",
       "    <tr>\n",
       "      <th>price</th>\n",
       "      <td>354369</td>\n",
       "      <td>0</td>\n",
       "      <td>int64</td>\n",
       "      <td>354369</td>\n",
       "      <td>4416.66</td>\n",
       "      <td>4514.16</td>\n",
       "      <td>0</td>\n",
       "      <td>1050</td>\n",
       "      <td>2700</td>\n",
       "      <td>6400</td>\n",
       "      <td>20000</td>\n",
       "    </tr>\n",
       "    <tr>\n",
       "      <th>vehicle_type</th>\n",
       "      <td>316879</td>\n",
       "      <td>37490</td>\n",
       "      <td>object</td>\n",
       "      <td></td>\n",
       "      <td></td>\n",
       "      <td></td>\n",
       "      <td></td>\n",
       "      <td></td>\n",
       "      <td></td>\n",
       "      <td></td>\n",
       "      <td></td>\n",
       "    </tr>\n",
       "    <tr>\n",
       "      <th>registration_year</th>\n",
       "      <td>354369</td>\n",
       "      <td>0</td>\n",
       "      <td>int64</td>\n",
       "      <td>354369</td>\n",
       "      <td>2004.23</td>\n",
       "      <td>90.228</td>\n",
       "      <td>1000</td>\n",
       "      <td>1999</td>\n",
       "      <td>2003</td>\n",
       "      <td>2008</td>\n",
       "      <td>9999</td>\n",
       "    </tr>\n",
       "    <tr>\n",
       "      <th>gearbox</th>\n",
       "      <td>334536</td>\n",
       "      <td>19833</td>\n",
       "      <td>object</td>\n",
       "      <td></td>\n",
       "      <td></td>\n",
       "      <td></td>\n",
       "      <td></td>\n",
       "      <td></td>\n",
       "      <td></td>\n",
       "      <td></td>\n",
       "      <td></td>\n",
       "    </tr>\n",
       "    <tr>\n",
       "      <th>power</th>\n",
       "      <td>354369</td>\n",
       "      <td>0</td>\n",
       "      <td>int64</td>\n",
       "      <td>354369</td>\n",
       "      <td>110.094</td>\n",
       "      <td>189.85</td>\n",
       "      <td>0</td>\n",
       "      <td>69</td>\n",
       "      <td>105</td>\n",
       "      <td>143</td>\n",
       "      <td>20000</td>\n",
       "    </tr>\n",
       "    <tr>\n",
       "      <th>model</th>\n",
       "      <td>334664</td>\n",
       "      <td>19705</td>\n",
       "      <td>object</td>\n",
       "      <td></td>\n",
       "      <td></td>\n",
       "      <td></td>\n",
       "      <td></td>\n",
       "      <td></td>\n",
       "      <td></td>\n",
       "      <td></td>\n",
       "      <td></td>\n",
       "    </tr>\n",
       "    <tr>\n",
       "      <th>kilometer</th>\n",
       "      <td>354369</td>\n",
       "      <td>0</td>\n",
       "      <td>int64</td>\n",
       "      <td>354369</td>\n",
       "      <td>128211</td>\n",
       "      <td>37905.3</td>\n",
       "      <td>5000</td>\n",
       "      <td>125000</td>\n",
       "      <td>150000</td>\n",
       "      <td>150000</td>\n",
       "      <td>150000</td>\n",
       "    </tr>\n",
       "    <tr>\n",
       "      <th>registration_month</th>\n",
       "      <td>354369</td>\n",
       "      <td>0</td>\n",
       "      <td>int64</td>\n",
       "      <td>354369</td>\n",
       "      <td>5.71464</td>\n",
       "      <td>3.72642</td>\n",
       "      <td>0</td>\n",
       "      <td>3</td>\n",
       "      <td>6</td>\n",
       "      <td>9</td>\n",
       "      <td>12</td>\n",
       "    </tr>\n",
       "    <tr>\n",
       "      <th>fuel_type</th>\n",
       "      <td>321474</td>\n",
       "      <td>32895</td>\n",
       "      <td>object</td>\n",
       "      <td></td>\n",
       "      <td></td>\n",
       "      <td></td>\n",
       "      <td></td>\n",
       "      <td></td>\n",
       "      <td></td>\n",
       "      <td></td>\n",
       "      <td></td>\n",
       "    </tr>\n",
       "    <tr>\n",
       "      <th>brand</th>\n",
       "      <td>354369</td>\n",
       "      <td>0</td>\n",
       "      <td>object</td>\n",
       "      <td></td>\n",
       "      <td></td>\n",
       "      <td></td>\n",
       "      <td></td>\n",
       "      <td></td>\n",
       "      <td></td>\n",
       "      <td></td>\n",
       "      <td></td>\n",
       "    </tr>\n",
       "    <tr>\n",
       "      <th>not_repaired</th>\n",
       "      <td>283215</td>\n",
       "      <td>71154</td>\n",
       "      <td>object</td>\n",
       "      <td></td>\n",
       "      <td></td>\n",
       "      <td></td>\n",
       "      <td></td>\n",
       "      <td></td>\n",
       "      <td></td>\n",
       "      <td></td>\n",
       "      <td></td>\n",
       "    </tr>\n",
       "    <tr>\n",
       "      <th>date_created</th>\n",
       "      <td>354369</td>\n",
       "      <td>0</td>\n",
       "      <td>object</td>\n",
       "      <td></td>\n",
       "      <td></td>\n",
       "      <td></td>\n",
       "      <td></td>\n",
       "      <td></td>\n",
       "      <td></td>\n",
       "      <td></td>\n",
       "      <td></td>\n",
       "    </tr>\n",
       "    <tr>\n",
       "      <th>number_of_pictures</th>\n",
       "      <td>354369</td>\n",
       "      <td>0</td>\n",
       "      <td>int64</td>\n",
       "      <td>354369</td>\n",
       "      <td>0</td>\n",
       "      <td>0</td>\n",
       "      <td>0</td>\n",
       "      <td>0</td>\n",
       "      <td>0</td>\n",
       "      <td>0</td>\n",
       "      <td>0</td>\n",
       "    </tr>\n",
       "    <tr>\n",
       "      <th>last_seen</th>\n",
       "      <td>354369</td>\n",
       "      <td>0</td>\n",
       "      <td>object</td>\n",
       "      <td></td>\n",
       "      <td></td>\n",
       "      <td></td>\n",
       "      <td></td>\n",
       "      <td></td>\n",
       "      <td></td>\n",
       "      <td></td>\n",
       "      <td></td>\n",
       "    </tr>\n",
       "  </tbody>\n",
       "</table>\n",
       "</div>"
      ],
      "text/plain": [
       "Feature             Non-Null Count  Null Count   Dtype   count     mean  \\\n",
       "date_crawled                354369           0  object                    \n",
       "price                       354369           0   int64  354369  4416.66   \n",
       "vehicle_type                316879       37490  object                    \n",
       "registration_year           354369           0   int64  354369  2004.23   \n",
       "gearbox                     334536       19833  object                    \n",
       "power                       354369           0   int64  354369  110.094   \n",
       "model                       334664       19705  object                    \n",
       "kilometer                   354369           0   int64  354369   128211   \n",
       "registration_month          354369           0   int64  354369  5.71464   \n",
       "fuel_type                   321474       32895  object                    \n",
       "brand                       354369           0  object                    \n",
       "not_repaired                283215       71154  object                    \n",
       "date_created                354369           0  object                    \n",
       "number_of_pictures          354369           0   int64  354369        0   \n",
       "last_seen                   354369           0  object                    \n",
       "\n",
       "Feature                 std   min     25%     50%     75%     max  \n",
       "date_crawled                                                       \n",
       "price               4514.16     0    1050    2700    6400   20000  \n",
       "vehicle_type                                                       \n",
       "registration_year    90.228  1000    1999    2003    2008    9999  \n",
       "gearbox                                                            \n",
       "power                189.85     0      69     105     143   20000  \n",
       "model                                                              \n",
       "kilometer           37905.3  5000  125000  150000  150000  150000  \n",
       "registration_month  3.72642     0       3       6       9      12  \n",
       "fuel_type                                                          \n",
       "brand                                                              \n",
       "not_repaired                                                       \n",
       "date_created                                                       \n",
       "number_of_pictures        0     0       0       0       0       0  \n",
       "last_seen                                                          "
      ]
     },
     "metadata": {},
     "output_type": "display_data"
    }
   ],
   "source": [
    "full_info(data)"
   ]
  },
  {
   "cell_type": "markdown",
   "metadata": {
    "pycharm": {
     "name": "#%% md\n"
    }
   },
   "source": [
    "<font color='steelblue'><b>Комментарий ревьюера: </b></font> ✔️ <br>\n",
    "<font color='green'>Отличная идея, всё очень наглядно.</font>\n"
   ]
  },
  {
   "cell_type": "markdown",
   "metadata": {
    "pycharm": {
     "name": "#%% md\n"
    }
   },
   "source": [
    "Видны следующие проблемы:\n",
    "* несоответствие типов во временных признаках\n",
    "* большое количество пропусков в категориальных признаках\n",
    "* Выбросы в числовых признаках"
   ]
  },
  {
   "cell_type": "markdown",
   "metadata": {
    "pycharm": {
     "name": "#%% md\n"
    }
   },
   "source": [
    "Начнем с приведения признаков к корректным типам данных"
   ]
  },
  {
   "cell_type": "code",
   "execution_count": 11,
   "metadata": {
    "pycharm": {
     "name": "#%%\n"
    }
   },
   "outputs": [],
   "source": [
    "data['date_crawled'] = pd.to_datetime(data['date_crawled'])\n",
    "data['date_created'] = pd.to_datetime(data['date_created'])\n",
    "data['last_seen'] = pd.to_datetime(data['last_seen'])"
   ]
  },
  {
   "cell_type": "markdown",
   "metadata": {
    "pycharm": {
     "name": "#%% md\n"
    }
   },
   "source": [
    "В столбце с числом фотографий одни нули, убедимся в этом и удалим признак"
   ]
  },
  {
   "cell_type": "code",
   "execution_count": 12,
   "metadata": {
    "scrolled": false,
    "pycharm": {
     "name": "#%%\n"
    }
   },
   "outputs": [
    {
     "data": {
      "text/plain": [
       "0    354369\n",
       "Name: number_of_pictures, dtype: int64"
      ]
     },
     "metadata": {},
     "output_type": "display_data"
    }
   ],
   "source": [
    "display(data['number_of_pictures'].value_counts())\n",
    "data = data.drop('number_of_pictures', axis=1)"
   ]
  },
  {
   "cell_type": "markdown",
   "metadata": {
    "pycharm": {
     "name": "#%% md\n"
    }
   },
   "source": [
    "<font color='steelblue'><b>Комментарий ревьюера: </b></font> ✔️ <br>\n",
    "<font color='green'>Всё верно.</font>\n"
   ]
  },
  {
   "cell_type": "markdown",
   "metadata": {
    "pycharm": {
     "name": "#%% md\n"
    }
   },
   "source": [
    "## Обработка дискретных признаков"
   ]
  },
  {
   "cell_type": "markdown",
   "metadata": {
    "pycharm": {
     "name": "#%% md\n"
    }
   },
   "source": [
    "Займемся обработкой категориальных переменных, в которых были пропуски. Начнем с форм-фактора кузова. Тип кузова можно достаточно однозначно определить по модели. Конечно, есть риск, что одна и та же модель выпускается с разным кузовом, или тип кузова может быть неоднозначно определен автором объявления. Рассмотрим, как пользователи определяли форм-фактор разных моделей."
   ]
  },
  {
   "cell_type": "code",
   "execution_count": 13,
   "metadata": {
    "pycharm": {
     "name": "#%%\n"
    }
   },
   "outputs": [
    {
     "data": {
      "text/html": [
       "<div>\n",
       "<style scoped>\n",
       "    .dataframe tbody tr th:only-of-type {\n",
       "        vertical-align: middle;\n",
       "    }\n",
       "\n",
       "    .dataframe tbody tr th {\n",
       "        vertical-align: top;\n",
       "    }\n",
       "\n",
       "    .dataframe thead th {\n",
       "        text-align: right;\n",
       "    }\n",
       "</style>\n",
       "<table border=\"1\" class=\"dataframe\">\n",
       "  <thead>\n",
       "    <tr style=\"text-align: right;\">\n",
       "      <th></th>\n",
       "      <th></th>\n",
       "      <th>vehicle_type</th>\n",
       "    </tr>\n",
       "    <tr>\n",
       "      <th>brand</th>\n",
       "      <th>model</th>\n",
       "      <th></th>\n",
       "    </tr>\n",
       "  </thead>\n",
       "  <tbody>\n",
       "    <tr>\n",
       "      <th>chrysler</th>\n",
       "      <th>voyager</th>\n",
       "      <td>[bus, nan, other, sedan, wagon, suv]</td>\n",
       "    </tr>\n",
       "    <tr>\n",
       "      <th>audi</th>\n",
       "      <th>200</th>\n",
       "      <td>[sedan, convertible, nan, wagon]</td>\n",
       "    </tr>\n",
       "    <tr>\n",
       "      <th>chrysler</th>\n",
       "      <th>crossfire</th>\n",
       "      <td>[convertible, coupe, nan, other]</td>\n",
       "    </tr>\n",
       "    <tr>\n",
       "      <th>ford</th>\n",
       "      <th>fiesta</th>\n",
       "      <td>[small, nan, sedan, bus, wagon, coupe, convert...</td>\n",
       "    </tr>\n",
       "    <tr>\n",
       "      <th>volkswagen</th>\n",
       "      <th>eos</th>\n",
       "      <td>[convertible, nan]</td>\n",
       "    </tr>\n",
       "  </tbody>\n",
       "</table>\n",
       "</div>"
      ],
      "text/plain": [
       "                                                           vehicle_type\n",
       "brand      model                                                       \n",
       "chrysler   voyager                 [bus, nan, other, sedan, wagon, suv]\n",
       "audi       200                         [sedan, convertible, nan, wagon]\n",
       "chrysler   crossfire                   [convertible, coupe, nan, other]\n",
       "ford       fiesta     [small, nan, sedan, bus, wagon, coupe, convert...\n",
       "volkswagen eos                                       [convertible, nan]"
      ]
     },
     "execution_count": 13,
     "metadata": {},
     "output_type": "execute_result"
    }
   ],
   "source": [
    "data.groupby(['brand', 'model'])['vehicle_type'].unique().to_frame().sample(5)"
   ]
  },
  {
   "cell_type": "markdown",
   "metadata": {
    "pycharm": {
     "name": "#%% md\n"
    }
   },
   "source": [
    "Выведем частоту упоминания каждого типа автомобиля"
   ]
  },
  {
   "cell_type": "code",
   "execution_count": 14,
   "metadata": {
    "pycharm": {
     "name": "#%%\n"
    }
   },
   "outputs": [
    {
     "data": {
      "text/html": [
       "<div>\n",
       "<style scoped>\n",
       "    .dataframe tbody tr th:only-of-type {\n",
       "        vertical-align: middle;\n",
       "    }\n",
       "\n",
       "    .dataframe tbody tr th {\n",
       "        vertical-align: top;\n",
       "    }\n",
       "\n",
       "    .dataframe thead th {\n",
       "        text-align: right;\n",
       "    }\n",
       "</style>\n",
       "<table border=\"1\" class=\"dataframe\">\n",
       "  <thead>\n",
       "    <tr style=\"text-align: right;\">\n",
       "      <th></th>\n",
       "      <th></th>\n",
       "      <th></th>\n",
       "      <th>vehicle_type</th>\n",
       "    </tr>\n",
       "    <tr>\n",
       "      <th>brand</th>\n",
       "      <th>model</th>\n",
       "      <th>vehicle_type</th>\n",
       "      <th></th>\n",
       "    </tr>\n",
       "  </thead>\n",
       "  <tbody>\n",
       "    <tr>\n",
       "      <th rowspan=\"10\" valign=\"top\">alfa_romeo</th>\n",
       "      <th rowspan=\"4\" valign=\"top\">145</th>\n",
       "      <th>small</th>\n",
       "      <td>19</td>\n",
       "    </tr>\n",
       "    <tr>\n",
       "      <th>sedan</th>\n",
       "      <td>13</td>\n",
       "    </tr>\n",
       "    <tr>\n",
       "      <th>coupe</th>\n",
       "      <td>2</td>\n",
       "    </tr>\n",
       "    <tr>\n",
       "      <th>other</th>\n",
       "      <td>1</td>\n",
       "    </tr>\n",
       "    <tr>\n",
       "      <th rowspan=\"6\" valign=\"top\">147</th>\n",
       "      <th>sedan</th>\n",
       "      <td>358</td>\n",
       "    </tr>\n",
       "    <tr>\n",
       "      <th>small</th>\n",
       "      <td>97</td>\n",
       "    </tr>\n",
       "    <tr>\n",
       "      <th>coupe</th>\n",
       "      <td>27</td>\n",
       "    </tr>\n",
       "    <tr>\n",
       "      <th>other</th>\n",
       "      <td>7</td>\n",
       "    </tr>\n",
       "    <tr>\n",
       "      <th>wagon</th>\n",
       "      <td>2</td>\n",
       "    </tr>\n",
       "    <tr>\n",
       "      <th>suv</th>\n",
       "      <td>1</td>\n",
       "    </tr>\n",
       "  </tbody>\n",
       "</table>\n",
       "</div>"
      ],
      "text/plain": [
       "                               vehicle_type\n",
       "brand      model vehicle_type              \n",
       "alfa_romeo 145   small                   19\n",
       "                 sedan                   13\n",
       "                 coupe                    2\n",
       "                 other                    1\n",
       "           147   sedan                  358\n",
       "                 small                   97\n",
       "                 coupe                   27\n",
       "                 other                    7\n",
       "                 wagon                    2\n",
       "                 suv                      1"
      ]
     },
     "execution_count": 14,
     "metadata": {},
     "output_type": "execute_result"
    }
   ],
   "source": [
    "vehicletype_pivot = data.groupby(['brand', 'model'])['vehicle_type'].value_counts().to_frame()\n",
    "vehicletype_pivot.head(10)"
   ]
  },
  {
   "cell_type": "markdown",
   "metadata": {
    "pycharm": {
     "name": "#%% md\n"
    }
   },
   "source": [
    "Итак, форму автомобиля можно с определенной вероятностью восстановить по марке и модели. Напишем соответствующую функцию"
   ]
  },
  {
   "cell_type": "code",
   "execution_count": 15,
   "metadata": {
    "pycharm": {
     "name": "#%%\n"
    }
   },
   "outputs": [],
   "source": [
    "# def isNaN(num):\n",
    "#     return num!= num\n",
    "\n",
    "# def vehicletype_filler(row):\n",
    "#     if isNaN(row['vehicle_type']) and not isNaN(row['brand']) and not isNaN(row['model']):\n",
    "#         return vehicletype_pivot.loc[(row['brand'], row['model']), :].index[0]\n",
    "#     else:\n",
    "#         return row['vehicle_type']"
   ]
  },
  {
   "cell_type": "code",
   "execution_count": 16,
   "metadata": {
    "pycharm": {
     "name": "#%%\n"
    }
   },
   "outputs": [],
   "source": [
    "def vehicletype_filler(row):\n",
    "    if pd.isna(row['vehicle_type']) and not pd.isna(row['model']):\n",
    "        return vehicletype_pivot.loc[(row['brand'], row['model']), :].index[0]\n",
    "    return row['vehicle_type']"
   ]
  },
  {
   "cell_type": "markdown",
   "metadata": {
    "pycharm": {
     "name": "#%% md\n"
    }
   },
   "source": [
    "<font color='steelblue'><b>Комментарий ревьюера: </b></font> ⚠️ <br>\n",
    "<font color='darkorange'>Заполнить пропуски модой по марке и модели — хорошая идея.<br>\n",
    "Условие not isNaN(row['brand']) не нужно, в брендах нет пропусков.<br>\n",
    "Функцию isNaN писать не нужно, в Pandas есть готовая: pd.isna(num).<br>\n",
    "Сразу получить самый частый тип кузова для марки и модели можно так:<br>\n",
    "data.groupby(['brand', 'model'])['vehicle_type'].agg(lambda x: x.value_counts().index[0]).to_frame()</font>"
   ]
  },
  {
   "cell_type": "markdown",
   "metadata": {
    "pycharm": {
     "name": "#%% md\n"
    }
   },
   "source": [
    "<div class=\"alert alert-info\"> <b>Комментарий студента:</b>\n",
    "  \n",
    "Исправил свою функцию по твоим замечаниям, спасибо! И хотя они больше не нужны, оставил обе версии на память\n",
    "    \n",
    "Я там чуть дальше написал универсальную функцию, которая не привязана к конкретному признаку.\n",
    "\n",
    "А вот этот код зависает на маленьких датасетах, к сожалению.\n",
    "    \n",
    "    data.groupby(['brand', 'model'])['vehicletype'].agg(lambda x: x.value_counts().index[0]).to_frame()\n",
    "    \n",
    "\n",
    "</div>"
   ]
  },
  {
   "cell_type": "markdown",
   "metadata": {
    "pycharm": {
     "name": "#%% md\n"
    }
   },
   "source": [
    "<font color='steelblue'><b>Комментарий ревьюера v2: </b><br>\n",
    "Что значит зависает? Вроде всё работает, смотри следующую ячейку (vehicle_type вместо vehicletype). Закомментила твою первую версию, чтобы не путаться.</font>"
   ]
  },
  {
   "cell_type": "code",
   "execution_count": 17,
   "metadata": {
    "pycharm": {
     "name": "#%%\n"
    }
   },
   "outputs": [],
   "source": [
    "# # код ревьюера\n",
    "# small_df = data.head(10)\n",
    "# small_df.groupby(['brand', 'model'])['vehicle_type'].agg(lambda x: x.value_counts().index[0]).to_frame()"
   ]
  },
  {
   "cell_type": "markdown",
   "metadata": {
    "pycharm": {
     "name": "#%% md\n"
    }
   },
   "source": [
    "<div class=\"alert alert-info\"> <b>Комментарий студента 2:</b>\n",
    "  \n",
    "Вот я наконец-то разобрался, в чем дело. Код работает, но его нужно было слегка допилить - дописать dropna=False внутри value_counts(). Сделал отдельную тетрадку для демонстрации\n",
    "    \n",
    "    https://disk.yandex.ru/d/HDl9zotQP0Dtew\n",
    "    \n",
    "Переписываю)\n",
    "    \n",
    "</div>"
   ]
  },
  {
   "cell_type": "markdown",
   "metadata": {
    "pycharm": {
     "name": "#%% md\n"
    }
   },
   "source": [
    "<font color='steelblue'><b>Комментарий ревьюера v3: </b><br>\n",
    "Посмотрела, ты молодец 👍🏼</font>"
   ]
  },
  {
   "cell_type": "code",
   "execution_count": 18,
   "metadata": {
    "pycharm": {
     "name": "#%%\n"
    }
   },
   "outputs": [],
   "source": [
    "def get_brand_model_dict(data, col):\n",
    "    return data.groupby(['brand', 'model'])[col].agg(lambda x: x.value_counts(dropna=False).index[0]).to_dict()"
   ]
  },
  {
   "cell_type": "code",
   "execution_count": 19,
   "metadata": {
    "pycharm": {
     "name": "#%%\n"
    }
   },
   "outputs": [],
   "source": [
    "def feature_filler(row, col, brand_model_dict):\n",
    "    \n",
    "    if pd.isna(row[col]) and not pd.isna(row['model']):\n",
    "        return brand_model_dict.get((row['brand'], row['model']))\n",
    "    return row[col]"
   ]
  },
  {
   "cell_type": "markdown",
   "metadata": {
    "pycharm": {
     "name": "#%% md\n"
    }
   },
   "source": [
    "<font color='steelblue'><b>Комментарий ревьюера v2: </b></font> ⚠️ <br>\n",
    "<font color='darkorange'>Давай договоримся называть переменные очевидно даже внутри функции, что за aaa и bbb :) Я бы написала так:</font>"
   ]
  },
  {
   "cell_type": "markdown",
   "metadata": {
    "pycharm": {
     "name": "#%% md\n"
    }
   },
   "source": [
    "<div class=\"alert alert-info\"> <b>Комментарий студента 2:</b>\n",
    "  \n",
    "Точно, не заметил, когда переносил из черновика) На самом деле это я там просто так неуклюже разделил очень длинную формулу и у каждой строчки не было отдельного смысла. Спасибо, что с твоей помощью получилось этот вспомогательный расчет побороть)\n",
    "    \n",
    "</div>"
   ]
  },
  {
   "cell_type": "markdown",
   "metadata": {
    "pycharm": {
     "name": "#%% md\n"
    }
   },
   "source": [
    "<font color='steelblue'><b>Комментарий ревьюера v3: </b></font> ✔️ <br>\n",
    "<font color='green'>😉</font>"
   ]
  },
  {
   "cell_type": "code",
   "execution_count": 20,
   "metadata": {
    "pycharm": {
     "name": "#%%\n"
    }
   },
   "outputs": [],
   "source": [
    "## код ревьюера\n",
    "# def get_brand_model_dict(column):\n",
    "#     return data.groupby(\n",
    "#             ['brand', 'model']\n",
    "#         )[column].agg(\n",
    "#             lambda x: x.value_counts().index[0]\n",
    "#         ).to_dict()\n",
    "\n",
    "\n",
    "# def feature_filler(row, column, brand_model_dict):\n",
    "#     if pd.isna(row[column]) and not pd.isna(row['model']):\n",
    "#         return brand_model_dict.get((row['brand'], row['model']))\n",
    "#     else:\n",
    "#         return row[column]\n",
    "\n",
    "    \n",
    "# display(data['vehicle_type'].value_counts())\n",
    "\n",
    "# for column in ['vehicle_type', 'fuel_type', 'gearbox']:\n",
    "#     column_brand_model_dict = get_brand_model_dict(column)\n",
    "#     data[column] = data.apply(feature_filler, column=column, brand_model_dict=column_brand_model_dict, axis=1)\n",
    "    \n",
    "# display(data['vehicle_type'].value_counts())"
   ]
  },
  {
   "cell_type": "code",
   "execution_count": 21,
   "metadata": {
    "pycharm": {
     "name": "#%%\n"
    }
   },
   "outputs": [
    {
     "data": {
      "text/plain": [
       "sedan          91457\n",
       "small          79831\n",
       "wagon          65166\n",
       "bus            28775\n",
       "convertible    20203\n",
       "coupe          16163\n",
       "suv            11996\n",
       "other           3288\n",
       "Name: vehicle_type, dtype: int64"
      ]
     },
     "metadata": {},
     "output_type": "display_data"
    },
    {
     "data": {
      "text/plain": [
       "sedan          104115\n",
       "small           88946\n",
       "wagon           68707\n",
       "bus             32534\n",
       "convertible     20475\n",
       "coupe           16780\n",
       "suv             12666\n",
       "other            3313\n",
       "Name: vehicle_type, dtype: int64"
      ]
     },
     "metadata": {},
     "output_type": "display_data"
    },
    {
     "name": "stdout",
     "output_type": "stream",
     "text": [
      "Wall time: 22.8 s\n"
     ]
    }
   ],
   "source": [
    "%%time\n",
    "display(data['vehicle_type'].value_counts())\n",
    "\n",
    "for col in ['vehicle_type', 'fuel_type', 'gearbox']:\n",
    "    column_brand_model_dict = get_brand_model_dict(data, col)\n",
    "    data[col] = data.apply(feature_filler, col=col, brand_model_dict=column_brand_model_dict, axis=1)\n",
    "    \n",
    "display(data['vehicle_type'].value_counts())"
   ]
  },
  {
   "cell_type": "markdown",
   "metadata": {
    "pycharm": {
     "name": "#%% md\n"
    }
   },
   "source": [
    "<font color='steelblue'><b>Комментарий ревьюера: </b></font> ❌ <br>\n",
    "<font color='crimson'>Обрати внимание на то, что написаны три абсолютно одинаковые функции. Можно обойтись одной, у котрой будет имя столбца в аргументах.</font><br>"
   ]
  },
  {
   "cell_type": "markdown",
   "metadata": {
    "pycharm": {
     "name": "#%% md\n"
    }
   },
   "source": [
    "<font color='steelblue'><b>Комментарий ревьюера v2: </b></font> ✔️ <br>\n",
    "<font color='green'>Хорошо.</font>"
   ]
  },
  {
   "cell_type": "markdown",
   "metadata": {
    "pycharm": {
     "name": "#%% md\n"
    }
   },
   "source": [
    "Рассмотрим, какие значения есть у признака `notrepaired`"
   ]
  },
  {
   "cell_type": "code",
   "execution_count": 22,
   "metadata": {
    "pycharm": {
     "name": "#%%\n"
    }
   },
   "outputs": [
    {
     "data": {
      "text/plain": [
       "array([nan, 'yes', 'no'], dtype=object)"
      ]
     },
     "execution_count": 22,
     "metadata": {},
     "output_type": "execute_result"
    }
   ],
   "source": [
    "data['not_repaired'].unique()"
   ]
  },
  {
   "cell_type": "code",
   "execution_count": 23,
   "metadata": {
    "pycharm": {
     "name": "#%%\n"
    }
   },
   "outputs": [
    {
     "data": {
      "text/plain": [
       "no     247161\n",
       "yes     36054\n",
       "Name: not_repaired, dtype: int64"
      ]
     },
     "execution_count": 23,
     "metadata": {},
     "output_type": "execute_result"
    }
   ],
   "source": [
    "data['not_repaired'].value_counts()"
   ]
  },
  {
   "cell_type": "markdown",
   "metadata": {
    "pycharm": {
     "name": "#%% md\n"
    }
   },
   "source": [
    "Вероятно, у признака не совсем верное название, и на самом деле лишь капитальному ремонту подвергается лишь каждая девятая машина, а  не наоборот. Подтвердим это расчетом среднего года выпуска ремонтированных и неремонтированных машин."
   ]
  },
  {
   "cell_type": "code",
   "execution_count": 24,
   "metadata": {
    "pycharm": {
     "name": "#%%\n"
    }
   },
   "outputs": [
    {
     "name": "stdout",
     "output_type": "stream",
     "text": [
      "not_repaired=yes 2001.6177955289288\n",
      "not_repaired=no 2003.7621267109294\n"
     ]
    }
   ],
   "source": [
    "print('not_repaired=yes', data[data['not_repaired']=='yes']['registration_year'].mean())\n",
    "print('not_repaired=no', data[data['not_repaired']=='no']['registration_year'].mean())"
   ]
  },
  {
   "cell_type": "markdown",
   "metadata": {
    "pycharm": {
     "name": "#%% md\n"
    }
   },
   "source": [
    "Но восстановим данные согласно заданию"
   ]
  },
  {
   "cell_type": "code",
   "execution_count": 25,
   "metadata": {
    "pycharm": {
     "name": "#%%\n"
    }
   },
   "outputs": [],
   "source": [
    "data['not_repaired'] = data['not_repaired'].fillna(False)\n",
    "data['not_repaired'] = data['not_repaired'].replace('no', False)\n",
    "data['not_repaired'] = data['not_repaired'].replace('yes', True)"
   ]
  },
  {
   "cell_type": "code",
   "execution_count": 26,
   "metadata": {
    "pycharm": {
     "name": "#%%\n"
    }
   },
   "outputs": [
    {
     "data": {
      "text/plain": [
       "False    318315\n",
       "True      36054\n",
       "Name: not_repaired, dtype: int64"
      ]
     },
     "execution_count": 26,
     "metadata": {},
     "output_type": "execute_result"
    }
   ],
   "source": [
    "data['not_repaired'].value_counts()"
   ]
  },
  {
   "cell_type": "markdown",
   "metadata": {
    "pycharm": {
     "name": "#%% md\n"
    }
   },
   "source": [
    "## Оценка важности признаков"
   ]
  },
  {
   "cell_type": "markdown",
   "metadata": {
    "pycharm": {
     "name": "#%% md\n"
    }
   },
   "source": [
    "Оценим важность признаков по простым моделям - линейной регрессии и случайному лесу"
   ]
  },
  {
   "cell_type": "code",
   "execution_count": 27,
   "metadata": {
    "pycharm": {
     "name": "#%%\n"
    }
   },
   "outputs": [],
   "source": [
    "protodata = data.drop(['date_crawled', 'date_created', 'last_seen'], axis=1).dropna()\n",
    "proto_features = protodata.drop('price', axis=1)\n",
    "proto_target = protodata['price']\n",
    "\n",
    "proto_data_train_features, proto_data_test_features, proto_data_train_target, proto_data_test_target = train_test_split(proto_features, \n",
    "                                                                                                                        proto_target, \n",
    "                                                                                                                        test_size=0.2,\n",
    "                                                                                                                        random_state=123)\n",
    "proto_train_indexes = proto_data_train_features.index\n",
    "proto_test_indexes = proto_data_test_features.index"
   ]
  },
  {
   "cell_type": "markdown",
   "metadata": {
    "pycharm": {
     "name": "#%% md\n"
    }
   },
   "source": [
    "<font color='steelblue'><b>Комментарий ревьюера: </b></font> ✔️ <br>\n",
    "<font color='green'>Хорошо.</font>"
   ]
  },
  {
   "cell_type": "code",
   "execution_count": 28,
   "metadata": {
    "pycharm": {
     "name": "#%%\n"
    }
   },
   "outputs": [],
   "source": [
    "protodata_ohe = pd.get_dummies(protodata, columns=['vehicle_type', \n",
    "                                                   'gearbox', \n",
    "                                                   'model', \n",
    "                                                   'fuel_type', \n",
    "                                                   'brand', \n",
    "                                                   'not_repaired'], drop_first=True)\n",
    "proto_data_train_features_ohe = protodata_ohe.loc[proto_train_indexes].drop('price', axis=1)\n",
    "proto_data_test_features_ohe = protodata_ohe.loc[proto_test_indexes].drop('price', axis=1)"
   ]
  },
  {
   "cell_type": "code",
   "execution_count": 29,
   "metadata": {
    "pycharm": {
     "name": "#%%\n"
    }
   },
   "outputs": [],
   "source": [
    "proto_numeric_features = ['registration_year', 'power', 'kilometer', 'registration_month']\n",
    "\n",
    "scaler = StandardScaler()\n",
    "scaler.fit(proto_data_train_features[proto_numeric_features]);"
   ]
  },
  {
   "cell_type": "code",
   "execution_count": 30,
   "metadata": {
    "pycharm": {
     "name": "#%%\n"
    }
   },
   "outputs": [],
   "source": [
    "proto_data_train_features_ohe_scaled = proto_data_train_features_ohe\n",
    "proto_data_train_features_ohe_scaled.loc[:, proto_numeric_features] = scaler.transform(proto_data_train_features_ohe[proto_numeric_features])\n",
    "\n",
    "proto_data_test_features_ohe_scaled = proto_data_test_features_ohe\n",
    "proto_data_test_features_ohe_scaled.loc[:, proto_numeric_features] = scaler.transform(proto_data_test_features_ohe[proto_numeric_features])"
   ]
  },
  {
   "cell_type": "markdown",
   "metadata": {
    "pycharm": {
     "name": "#%% md\n"
    }
   },
   "source": [
    "<font color='steelblue'><b>Комментарий ревьюера: </b></font> ✔️ <br>\n",
    "<font color='green'>Всё верно.</font>"
   ]
  },
  {
   "cell_type": "code",
   "execution_count": 31,
   "metadata": {
    "pycharm": {
     "name": "#%%\n"
    }
   },
   "outputs": [],
   "source": [
    "proto_model_lr = LinearRegression(n_jobs=-1)\n",
    "proto_model_lr.fit(proto_data_train_features_ohe_scaled, proto_data_train_target);\n",
    "proto_model_lr_predicted = proto_model_lr.predict(proto_data_test_features_ohe_scaled)"
   ]
  },
  {
   "cell_type": "markdown",
   "metadata": {
    "pycharm": {
     "name": "#%% md\n"
    }
   },
   "source": [
    "Проведем проверку модели на адекватность, сравнив метрику предсказания модели с предсказанием среднего целевого признака по обучающей выборке"
   ]
  },
  {
   "cell_type": "code",
   "execution_count": 32,
   "metadata": {
    "pycharm": {
     "name": "#%%\n"
    }
   },
   "outputs": [
    {
     "name": "stdout",
     "output_type": "stream",
     "text": [
      "RMSE модели: 3211.356846410017\n",
      "RMSE предсказания средним: 4518.845325464483\n"
     ]
    }
   ],
   "source": [
    "print('RMSE модели:', mse(proto_data_test_target, proto_model_lr_predicted, squared=False))\n",
    "print('RMSE предсказания средним:', mse(proto_data_test_target, len(proto_data_test_target)*[proto_data_train_target.mean()], squared=False))"
   ]
  },
  {
   "cell_type": "markdown",
   "metadata": {
    "pycharm": {
     "name": "#%% md\n"
    }
   },
   "source": [
    "Построим графики с распределением коэффициентов линейной регрессии"
   ]
  },
  {
   "cell_type": "code",
   "execution_count": 33,
   "metadata": {
    "pycharm": {
     "name": "#%%\n"
    }
   },
   "outputs": [
    {
     "data": {
      "image/png": "[encoded data removed]",
      "text/plain": [
       "<Figure size 1152x432 with 3 Axes>"
      ]
     },
     "metadata": {
      "needs_background": "light"
     },
     "output_type": "display_data"
    }
   ],
   "source": [
    "plt.figure(figsize=(16,6))\n",
    "plt.suptitle('Важность признаков для линейной регрессии')\n",
    "\n",
    "plt.subplot(1,3,1)\n",
    "pd.Series(proto_model_lr.coef_, index=proto_data_train_features_ohe_scaled.columns)[proto_numeric_features][::-1].plot(kind='barh');\n",
    "plt.title('Числовые признаки')\n",
    "plt.axvline(x=0, color='grey');\n",
    "\n",
    "plt.subplot(1, 3, 2)\n",
    "pd.Series(proto_model_lr.coef_, index=proto_data_train_features_ohe_scaled.columns).sort_values().head(15)[::-1].plot(kind='barh');\n",
    "plt.title('Дискретные признаки (отр-ые)')\n",
    "\n",
    "plt.subplot(1, 3, 3)\n",
    "pd.Series(proto_model_lr.coef_, index=proto_data_train_features_ohe_scaled.columns).sort_values(ascending=False).head(15)[::-1].plot(kind='barh');\n",
    "plt.title('Дискретные признаки (пол-ые)');\n",
    "\n",
    "plt.subplots_adjust(wspace=0.7)"
   ]
  },
  {
   "cell_type": "markdown",
   "metadata": {
    "pycharm": {
     "name": "#%% md\n"
    }
   },
   "source": [
    "Итак, среди числовых признаков сильнее всего на цену влияет ее пробег. На основе этого вывода мы будем принимать решение об исключении признаков из модели обучения. Про дискретные признаки на основе линейной регрессии мы такие выводы сделать не можем."
   ]
  },
  {
   "cell_type": "markdown",
   "metadata": {
    "pycharm": {
     "name": "#%% md\n"
    }
   },
   "source": [
    "Проведем проверку важности признаков по модели случайного леса"
   ]
  },
  {
   "cell_type": "code",
   "execution_count": 34,
   "metadata": {
    "pycharm": {
     "name": "#%%\n"
    }
   },
   "outputs": [],
   "source": [
    "proto_model_rfr = RandomForestRegressor(n_estimators=20, max_depth=10, random_state=123, n_jobs=-1)\n",
    "proto_model_rfr.fit(proto_data_train_features_ohe_scaled, proto_data_train_target)\n",
    "proto_model_rfr_predicted = proto_model_rfr.predict(proto_data_test_features_ohe_scaled)"
   ]
  },
  {
   "cell_type": "markdown",
   "metadata": {
    "pycharm": {
     "name": "#%% md\n"
    }
   },
   "source": [
    "Проведем проверку модели на адекватность, сравнив метрику предсказания модели с предсказанием среднего целевого признака по обучающей выборке"
   ]
  },
  {
   "cell_type": "code",
   "execution_count": 35,
   "metadata": {
    "pycharm": {
     "name": "#%%\n"
    }
   },
   "outputs": [
    {
     "name": "stdout",
     "output_type": "stream",
     "text": [
      "RMSE модели: 2021.858764933303\n",
      "RMSE предсказания средним: 4518.845325464483\n"
     ]
    }
   ],
   "source": [
    "print('RMSE модели:', mse(proto_data_test_target, proto_model_rfr_predicted, squared=False))\n",
    "print('RMSE предсказания средним:', mse(proto_data_test_target, len(proto_data_test_target)*[proto_data_train_target.mean()], squared=False))"
   ]
  },
  {
   "cell_type": "markdown",
   "metadata": {
    "pycharm": {
     "name": "#%% md\n"
    }
   },
   "source": [
    "Построим графики с важностью признаков"
   ]
  },
  {
   "cell_type": "code",
   "execution_count": 36,
   "metadata": {
    "pycharm": {
     "name": "#%%\n"
    }
   },
   "outputs": [
    {
     "data": {
      "image/png": "[encoded data removed]",
      "text/plain": [
       "<Figure size 1152x432 with 2 Axes>"
      ]
     },
     "metadata": {
      "needs_background": "light"
     },
     "output_type": "display_data"
    }
   ],
   "source": [
    "plt.figure(figsize=(16,6))\n",
    "plt.suptitle('Важность признаков для случайного леса')\n",
    "\n",
    "plt.subplot(1,2,1)\n",
    "pd.Series(proto_model_rfr.feature_importances_, index=proto_data_train_features_ohe_scaled.columns)[proto_numeric_features][::-1].plot(kind='barh');\n",
    "plt.title('Числовые признаки')\n",
    "plt.axvline(x=0, color='grey');\n",
    "\n",
    "plt.subplot(1, 2, 2)\n",
    "pd.Series(proto_model_rfr.feature_importances_, index=proto_data_train_features_ohe_scaled.columns).sort_values(ascending=False).head(15)[::-1].plot(kind='barh');\n",
    "plt.title('Все признаки');\n",
    "\n",
    "plt.subplots_adjust(wspace=0.5)"
   ]
  },
  {
   "cell_type": "markdown",
   "metadata": {
    "pycharm": {
     "name": "#%% md\n"
    }
   },
   "source": [
    "Итак, по версии случайного леса, в основном цена зависит от числовых признаков: года регистрации, мощности и пробега. Месяц регистрации и отдельные дискретные признаки на цену влияют незначительно."
   ]
  },
  {
   "cell_type": "markdown",
   "metadata": {
    "pycharm": {
     "name": "#%% md\n"
    }
   },
   "source": [
    "**Выводы**\n",
    "\n",
    "* Из датасета можно удалить признак `registrationmonth`\n",
    "* Оценка важности проводилась для неочищенного датасета, в котором (как это станет видно позднее) у целевого признака есть много выбросов"
   ]
  },
  {
   "cell_type": "markdown",
   "metadata": {
    "pycharm": {
     "name": "#%% md\n"
    }
   },
   "source": [
    "<font color='steelblue'><b>Комментарий ревьюера: </b></font> ✔️ <br>\n",
    "<font color='green'>Хорошо.</font>"
   ]
  },
  {
   "cell_type": "markdown",
   "metadata": {
    "pycharm": {
     "name": "#%% md\n"
    }
   },
   "source": [
    "## Обработка числовых признаков"
   ]
  },
  {
   "cell_type": "markdown",
   "metadata": {
    "pycharm": {
     "name": "#%% md\n"
    }
   },
   "source": [
    "Удалим из датасета месяц регистрации автомобиля"
   ]
  },
  {
   "cell_type": "code",
   "execution_count": 37,
   "metadata": {
    "pycharm": {
     "name": "#%%\n"
    }
   },
   "outputs": [],
   "source": [
    "data = data.drop('registration_month', axis=1)"
   ]
  },
  {
   "cell_type": "markdown",
   "metadata": {
    "pycharm": {
     "name": "#%% md\n"
    }
   },
   "source": [
    "Построим распределения оставшихся числовых признаков"
   ]
  },
  {
   "cell_type": "code",
   "execution_count": 38,
   "metadata": {
    "pycharm": {
     "name": "#%%\n"
    }
   },
   "outputs": [
    {
     "data": {
      "image/png": "[encoded data removed]",
      "text/plain": [
       "<Figure size 1440x1152 with 4 Axes>"
      ]
     },
     "metadata": {
      "needs_background": "light"
     },
     "output_type": "display_data"
    }
   ],
   "source": [
    "plt.figure(figsize=(20, 16))\n",
    "\n",
    "for i, feature in enumerate(['price', 'registration_year', 'power', 'kilometer']):\n",
    "    ax = plt.subplot(2, 2, i+1)\n",
    "    data.boxplot(column=feature, fontsize=16)"
   ]
  },
  {
   "cell_type": "markdown",
   "metadata": {
    "pycharm": {
     "name": "#%% md\n"
    }
   },
   "source": [
    "Целью проекта является предсказание цены автомобиля, поэтому объявления, в которых указана низкая или нулевая цена, исключим из датасета. Согласно данным площадки подержанных машин в Германии https://www.ooyyo.com/germany/used-cars-for-sale/c=CDA31D7114D3854F111BFE6FAA652D53EDA2/, цена автомобилей начинается от 100 евро. Это, как правило, машины, нуждающиеся в ремонте, поэтому удалим из датасета машины с ценой менее 200 евро"
   ]
  },
  {
   "cell_type": "code",
   "execution_count": 39,
   "metadata": {
    "pycharm": {
     "name": "#%%\n"
    }
   },
   "outputs": [],
   "source": [
    "data = data[data['price']>200].reset_index(drop=True)"
   ]
  },
  {
   "cell_type": "markdown",
   "metadata": {
    "pycharm": {
     "name": "#%% md\n"
    }
   },
   "source": [
    "Год выпуска (регистрации) автомобиля явно коррелирует с ценой, поэтому этот признак нужно обработать. Проверим, нет ли в датасете объявлений, в которых дата регистрации машины позднее, чем дата создания объявления, его скачивания и последней активности пользователя "
   ]
  },
  {
   "cell_type": "code",
   "execution_count": 40,
   "metadata": {
    "pycharm": {
     "name": "#%%\n"
    }
   },
   "outputs": [
    {
     "data": {
      "text/plain": [
       "13577"
      ]
     },
     "metadata": {},
     "output_type": "display_data"
    },
    {
     "data": {
      "text/plain": [
       "13577"
      ]
     },
     "metadata": {},
     "output_type": "display_data"
    },
    {
     "data": {
      "text/plain": [
       "13577"
      ]
     },
     "metadata": {},
     "output_type": "display_data"
    }
   ],
   "source": [
    "display(data[data['registration_year']>data['date_crawled'].dt.year].shape[0])\n",
    "display(data[data['registration_year']>data['date_created'].dt.year].shape[0])\n",
    "display(data[data['registration_year']>data['last_seen'].dt.year].shape[0])"
   ]
  },
  {
   "cell_type": "markdown",
   "metadata": {
    "pycharm": {
     "name": "#%% md\n"
    }
   },
   "source": [
    "Посмотрим, что это за данные"
   ]
  },
  {
   "cell_type": "code",
   "execution_count": 41,
   "metadata": {
    "pycharm": {
     "name": "#%%\n"
    }
   },
   "outputs": [
    {
     "data": {
      "text/plain": [
       "2017    9742\n",
       "2018    3758\n",
       "2019      14\n",
       "9999      12\n",
       "5000      11\n",
       "Name: registration_year, dtype: int64"
      ]
     },
     "execution_count": 41,
     "metadata": {},
     "output_type": "execute_result"
    }
   ],
   "source": [
    "data[data['registration_year']>data['date_crawled'].dt.year]['registration_year'].value_counts().head(5)"
   ]
  },
  {
   "cell_type": "markdown",
   "metadata": {
    "pycharm": {
     "name": "#%% md\n"
    }
   },
   "source": [
    "Большая часть из них относится к 2017-2019 годам, и теоретически это могут быть настоящие адекватные объвления. Следовало бы обратиться к составителю датасета за объяснением временных признаков, но чтобы не терять ценные наблюдения, примем решение заменить год выпуска медианой."
   ]
  },
  {
   "cell_type": "markdown",
   "metadata": {
    "pycharm": {
     "name": "#%% md\n"
    }
   },
   "source": [
    "Определим нижний порог адекватной даты регистрации автомобиля"
   ]
  },
  {
   "cell_type": "code",
   "execution_count": 42,
   "metadata": {
    "pycharm": {
     "name": "#%%\n"
    }
   },
   "outputs": [
    {
     "data": {
      "text/plain": [
       "1910    25\n",
       "1000    20\n",
       "1929     6\n",
       "1800     4\n",
       "1234     3\n",
       "1600     2\n",
       "1928     2\n",
       "1923     2\n",
       "1500     2\n",
       "1602     1\n",
       "1111     1\n",
       "1300     1\n",
       "1039     1\n",
       "1001     1\n",
       "1927     1\n",
       "1925     1\n",
       "1400     1\n",
       "Name: registration_year, dtype: int64"
      ]
     },
     "execution_count": 42,
     "metadata": {},
     "output_type": "execute_result"
    }
   ],
   "source": [
    "data[data['registration_year']<1930]['registration_year'].value_counts()"
   ]
  },
  {
   "cell_type": "markdown",
   "metadata": {
    "pycharm": {
     "name": "#%% md\n"
    }
   },
   "source": [
    "То, что единичные раритетные машины могли быть выпущены в двадцатых, можно легко себе представить, но все значения ниже 1900 года заменим медианой. Также поступим с пропусками"
   ]
  },
  {
   "cell_type": "code",
   "execution_count": 43,
   "metadata": {
    "pycharm": {
     "name": "#%%\n"
    }
   },
   "outputs": [],
   "source": [
    "data.loc[(data['registration_year']<1900) | (data['registration_year']>2019), 'registration_year'] = data['registration_year'].median()\n",
    "data['registration_year'] = data['registration_year'].fillna(data['registration_year'].median())"
   ]
  },
  {
   "cell_type": "markdown",
   "metadata": {
    "pycharm": {
     "name": "#%% md\n"
    }
   },
   "source": [
    "Данные о создании объявления, его скачивании и последней активности пользователя в целом больше не нужны. Их тоже можно удалить."
   ]
  },
  {
   "cell_type": "code",
   "execution_count": 44,
   "metadata": {
    "pycharm": {
     "name": "#%%\n"
    }
   },
   "outputs": [],
   "source": [
    "data = data.drop(['date_crawled', 'date_created', 'last_seen'], axis=1)"
   ]
  },
  {
   "cell_type": "markdown",
   "metadata": {
    "pycharm": {
     "name": "#%% md\n"
    }
   },
   "source": [
    "Рассмотрим диаграмму плотности распределения указанных в объявлениях мощностей автомобилей"
   ]
  },
  {
   "cell_type": "code",
   "execution_count": 45,
   "metadata": {
    "pycharm": {
     "name": "#%%\n"
    }
   },
   "outputs": [
    {
     "data": {
      "image/png": "[encoded data removed]",
      "text/plain": [
       "<Figure size 1152x576 with 1 Axes>"
      ]
     },
     "metadata": {
      "needs_background": "light"
     },
     "output_type": "display_data"
    }
   ],
   "source": [
    "plt.figure(figsize=(16, 8))\n",
    "data[(data['power']>0)&(data['power']<800)]['power'].plot.kde()\n",
    "plt.xlim([0, 800])\n",
    "plt.axhline(y=0, color='grey', alpha=0.5, linestyle='--')\n",
    "plt.xticks(range(0, 800, 40))\n",
    "plt.grid(b=True, axis='x')\n",
    "plt.title('Плотность распределения величин мощности двигателя')\n",
    "plt.xlabel('Мощность двигателя, л.с.');"
   ]
  },
  {
   "cell_type": "markdown",
   "metadata": {
    "pycharm": {
     "name": "#%% md\n"
    }
   },
   "source": [
    "Наблюдается большой всплеск околонулевых значений, а автомобилей с мощностью выше 600 лошадиных сил практически нет. Заменим оба этих диапазона на меданное значение мощности двигателя. То же самое сделаем с пропусками."
   ]
  },
  {
   "cell_type": "code",
   "execution_count": 46,
   "metadata": {
    "pycharm": {
     "name": "#%%\n"
    }
   },
   "outputs": [],
   "source": [
    "data.loc[(data['power']<40) | (data['power']>600), 'power'] = data['power'].median()\n",
    "data['power'] = data['power'].fillna(data['power'].median())"
   ]
  },
  {
   "cell_type": "markdown",
   "metadata": {
    "pycharm": {
     "name": "#%% md\n"
    }
   },
   "source": [
    "Рассмотрим распределение пробега"
   ]
  },
  {
   "cell_type": "code",
   "execution_count": 47,
   "metadata": {
    "pycharm": {
     "name": "#%%\n"
    }
   },
   "outputs": [
    {
     "data": {
      "image/png": "[encoded data removed]",
      "text/plain": [
       "<Figure size 1152x432 with 1 Axes>"
      ]
     },
     "metadata": {
      "needs_background": "light"
     },
     "output_type": "display_data"
    }
   ],
   "source": [
    "plt.figure(figsize=(16, 6))\n",
    "data['kilometer'].plot.kde();\n",
    "plt.xlim([0, 2e5])\n",
    "plt.axhline(y=0, color='grey', alpha=0.5, linestyle='--')\n",
    "plt.axvline(x=150000, color='grey', alpha=0.5, linestyle='--')\n",
    "plt.title('Плотность распределения пробега автомобиля')\n",
    "plt.xlabel('Пробег, км');"
   ]
  },
  {
   "cell_type": "markdown",
   "metadata": {
    "pycharm": {
     "name": "#%% md\n"
    }
   },
   "source": [
    "Для подавляющего большинства автомобилей пробег проставлен в формате \"больше 150 тыс. км\", что наделяет этот признак дискретными свойствами. С другой стороны, реальный пробег вряд ли в разы превосходит это пороговое значение, поэтому даже если в будущем на сайте площадки станет возможно указывать бОльшее значение пробега, модель не будет сильно ошибаться."
   ]
  },
  {
   "cell_type": "markdown",
   "metadata": {
    "pycharm": {
     "name": "#%% md\n"
    }
   },
   "source": [
    "Оценим количество оставшихся наблюдений"
   ]
  },
  {
   "cell_type": "code",
   "execution_count": 48,
   "metadata": {
    "pycharm": {
     "name": "#%%\n"
    }
   },
   "outputs": [
    {
     "data": {
      "text/plain": [
       "(334921, 10)"
      ]
     },
     "execution_count": 48,
     "metadata": {},
     "output_type": "execute_result"
    }
   ],
   "source": [
    "data.shape"
   ]
  },
  {
   "cell_type": "markdown",
   "metadata": {
    "pycharm": {
     "name": "#%% md\n"
    }
   },
   "source": [
    "Записей стало примерно на 6% меньше, удалены только те наблюдения, по которым отсутствует адекватное значение целевой переменной."
   ]
  },
  {
   "cell_type": "markdown",
   "metadata": {
    "pycharm": {
     "name": "#%% md\n"
    }
   },
   "source": [
    "<font color='steelblue'><b>Комментарий ревьюера: </b></font> ⚠️ <br>\n",
    "<font color='darkorange'>Удалить 20% наблюдения — многовато, на мой взгляд.</font>"
   ]
  },
  {
   "cell_type": "markdown",
   "metadata": {
    "pycharm": {
     "name": "#%% md\n"
    }
   },
   "source": [
    "<font color='steelblue'><b>Комментарий ревьюера v2: </b></font> ✔️ <br>\n",
    "<font color='green'>Хорошо.</font>"
   ]
  },
  {
   "cell_type": "markdown",
   "metadata": {
    "pycharm": {
     "name": "#%% md\n"
    }
   },
   "source": [
    "# Обучение моделей"
   ]
  },
  {
   "cell_type": "markdown",
   "metadata": {
    "pycharm": {
     "name": "#%% md\n"
    }
   },
   "source": [
    "## Извлечение выборок"
   ]
  },
  {
   "cell_type": "code",
   "execution_count": 49,
   "metadata": {
    "pycharm": {
     "name": "#%%\n"
    }
   },
   "outputs": [],
   "source": [
    "features = data.drop('price', axis=1)\n",
    "target = data['price']"
   ]
  },
  {
   "cell_type": "code",
   "execution_count": 50,
   "metadata": {
    "pycharm": {
     "name": "#%%\n"
    }
   },
   "outputs": [],
   "source": [
    "data_train_features, data_test_features, data_train_target, data_test_target = train_test_split(features, \n",
    "                                                                                                target, \n",
    "                                                                                                test_size=0.2,\n",
    "                                                                                                random_state=123)\n",
    "train_indexes = data_train_features.index\n",
    "test_indexes = data_test_features.index"
   ]
  },
  {
   "cell_type": "code",
   "execution_count": 51,
   "metadata": {
    "pycharm": {
     "name": "#%%\n"
    }
   },
   "outputs": [
    {
     "data": {
      "text/html": [
       "<div>\n",
       "<style scoped>\n",
       "    .dataframe tbody tr th:only-of-type {\n",
       "        vertical-align: middle;\n",
       "    }\n",
       "\n",
       "    .dataframe tbody tr th {\n",
       "        vertical-align: top;\n",
       "    }\n",
       "\n",
       "    .dataframe thead th {\n",
       "        text-align: right;\n",
       "    }\n",
       "</style>\n",
       "<table border=\"1\" class=\"dataframe\">\n",
       "  <thead>\n",
       "    <tr style=\"text-align: right;\">\n",
       "      <th></th>\n",
       "      <th>vehicle_type</th>\n",
       "      <th>registration_year</th>\n",
       "      <th>gearbox</th>\n",
       "      <th>power</th>\n",
       "      <th>model</th>\n",
       "      <th>kilometer</th>\n",
       "      <th>fuel_type</th>\n",
       "      <th>brand</th>\n",
       "      <th>not_repaired</th>\n",
       "    </tr>\n",
       "  </thead>\n",
       "  <tbody>\n",
       "    <tr>\n",
       "      <th>253172</th>\n",
       "      <td>wagon</td>\n",
       "      <td>1997</td>\n",
       "      <td>auto</td>\n",
       "      <td>133</td>\n",
       "      <td>galant</td>\n",
       "      <td>150000</td>\n",
       "      <td>petrol</td>\n",
       "      <td>mitsubishi</td>\n",
       "      <td>False</td>\n",
       "    </tr>\n",
       "    <tr>\n",
       "      <th>66834</th>\n",
       "      <td>convertible</td>\n",
       "      <td>1997</td>\n",
       "      <td>manual</td>\n",
       "      <td>90</td>\n",
       "      <td>megane</td>\n",
       "      <td>150000</td>\n",
       "      <td>petrol</td>\n",
       "      <td>renault</td>\n",
       "      <td>False</td>\n",
       "    </tr>\n",
       "    <tr>\n",
       "      <th>324206</th>\n",
       "      <td>small</td>\n",
       "      <td>2004</td>\n",
       "      <td>manual</td>\n",
       "      <td>69</td>\n",
       "      <td>ka</td>\n",
       "      <td>150000</td>\n",
       "      <td>petrol</td>\n",
       "      <td>ford</td>\n",
       "      <td>False</td>\n",
       "    </tr>\n",
       "    <tr>\n",
       "      <th>15700</th>\n",
       "      <td>wagon</td>\n",
       "      <td>2012</td>\n",
       "      <td>manual</td>\n",
       "      <td>131</td>\n",
       "      <td>insignia</td>\n",
       "      <td>150000</td>\n",
       "      <td>gasoline</td>\n",
       "      <td>opel</td>\n",
       "      <td>False</td>\n",
       "    </tr>\n",
       "    <tr>\n",
       "      <th>67596</th>\n",
       "      <td>wagon</td>\n",
       "      <td>2007</td>\n",
       "      <td>manual</td>\n",
       "      <td>170</td>\n",
       "      <td>passat</td>\n",
       "      <td>125000</td>\n",
       "      <td>gasoline</td>\n",
       "      <td>volkswagen</td>\n",
       "      <td>False</td>\n",
       "    </tr>\n",
       "    <tr>\n",
       "      <th>...</th>\n",
       "      <td>...</td>\n",
       "      <td>...</td>\n",
       "      <td>...</td>\n",
       "      <td>...</td>\n",
       "      <td>...</td>\n",
       "      <td>...</td>\n",
       "      <td>...</td>\n",
       "      <td>...</td>\n",
       "      <td>...</td>\n",
       "    </tr>\n",
       "    <tr>\n",
       "      <th>192476</th>\n",
       "      <td>bus</td>\n",
       "      <td>2018</td>\n",
       "      <td>manual</td>\n",
       "      <td>105</td>\n",
       "      <td>kangoo</td>\n",
       "      <td>150000</td>\n",
       "      <td>petrol</td>\n",
       "      <td>renault</td>\n",
       "      <td>False</td>\n",
       "    </tr>\n",
       "    <tr>\n",
       "      <th>17730</th>\n",
       "      <td>sedan</td>\n",
       "      <td>2016</td>\n",
       "      <td>manual</td>\n",
       "      <td>114</td>\n",
       "      <td>3_reihe</td>\n",
       "      <td>150000</td>\n",
       "      <td>petrol</td>\n",
       "      <td>mazda</td>\n",
       "      <td>False</td>\n",
       "    </tr>\n",
       "    <tr>\n",
       "      <th>28030</th>\n",
       "      <td>suv</td>\n",
       "      <td>2012</td>\n",
       "      <td>manual</td>\n",
       "      <td>143</td>\n",
       "      <td>x_reihe</td>\n",
       "      <td>50000</td>\n",
       "      <td>gasoline</td>\n",
       "      <td>bmw</td>\n",
       "      <td>False</td>\n",
       "    </tr>\n",
       "    <tr>\n",
       "      <th>277869</th>\n",
       "      <td>wagon</td>\n",
       "      <td>2007</td>\n",
       "      <td>manual</td>\n",
       "      <td>105</td>\n",
       "      <td>astra</td>\n",
       "      <td>125000</td>\n",
       "      <td>petrol</td>\n",
       "      <td>opel</td>\n",
       "      <td>False</td>\n",
       "    </tr>\n",
       "    <tr>\n",
       "      <th>249342</th>\n",
       "      <td>small</td>\n",
       "      <td>2007</td>\n",
       "      <td>manual</td>\n",
       "      <td>150</td>\n",
       "      <td>polo</td>\n",
       "      <td>150000</td>\n",
       "      <td>petrol</td>\n",
       "      <td>volkswagen</td>\n",
       "      <td>False</td>\n",
       "    </tr>\n",
       "  </tbody>\n",
       "</table>\n",
       "<p>267936 rows × 9 columns</p>\n",
       "</div>"
      ],
      "text/plain": [
       "       vehicle_type  registration_year gearbox  power     model  kilometer  \\\n",
       "253172        wagon               1997    auto    133    galant     150000   \n",
       "66834   convertible               1997  manual     90    megane     150000   \n",
       "324206        small               2004  manual     69        ka     150000   \n",
       "15700         wagon               2012  manual    131  insignia     150000   \n",
       "67596         wagon               2007  manual    170    passat     125000   \n",
       "...             ...                ...     ...    ...       ...        ...   \n",
       "192476          bus               2018  manual    105    kangoo     150000   \n",
       "17730         sedan               2016  manual    114   3_reihe     150000   \n",
       "28030           suv               2012  manual    143   x_reihe      50000   \n",
       "277869        wagon               2007  manual    105     astra     125000   \n",
       "249342        small               2007  manual    150      polo     150000   \n",
       "\n",
       "       fuel_type       brand  not_repaired  \n",
       "253172    petrol  mitsubishi         False  \n",
       "66834     petrol     renault         False  \n",
       "324206    petrol        ford         False  \n",
       "15700   gasoline        opel         False  \n",
       "67596   gasoline  volkswagen         False  \n",
       "...          ...         ...           ...  \n",
       "192476    petrol     renault         False  \n",
       "17730     petrol       mazda         False  \n",
       "28030   gasoline         bmw         False  \n",
       "277869    petrol        opel         False  \n",
       "249342    petrol  volkswagen         False  \n",
       "\n",
       "[267936 rows x 9 columns]"
      ]
     },
     "execution_count": 51,
     "metadata": {},
     "output_type": "execute_result"
    }
   ],
   "source": [
    "data_train_features"
   ]
  },
  {
   "cell_type": "markdown",
   "metadata": {
    "pycharm": {
     "name": "#%% md\n"
    }
   },
   "source": [
    "Закодируем дискретные переменные по технике OHE"
   ]
  },
  {
   "cell_type": "code",
   "execution_count": 52,
   "metadata": {
    "scrolled": true,
    "pycharm": {
     "name": "#%%\n"
    }
   },
   "outputs": [],
   "source": [
    "data_ohe = pd.get_dummies(features, columns=['vehicle_type', \n",
    "                                             'gearbox', \n",
    "                                             'model', \n",
    "                                             'fuel_type', \n",
    "                                             'brand', \n",
    "                                             'not_repaired'], drop_first=True)\n",
    "data_train_features_ohe = data_ohe.loc[train_indexes]\n",
    "data_test_features_ohe = data_ohe.loc[test_indexes]"
   ]
  },
  {
   "cell_type": "markdown",
   "metadata": {
    "pycharm": {
     "name": "#%% md\n"
    }
   },
   "source": [
    "Отмасштабируем данные по обучающей выборке"
   ]
  },
  {
   "cell_type": "code",
   "execution_count": 53,
   "metadata": {
    "pycharm": {
     "name": "#%%\n"
    }
   },
   "outputs": [],
   "source": [
    "numeric_features = ['registration_year', 'power', 'kilometer']\n",
    "scaler = StandardScaler()\n",
    "scaler.fit(data_train_features[numeric_features]);"
   ]
  },
  {
   "cell_type": "code",
   "execution_count": 54,
   "metadata": {
    "pycharm": {
     "name": "#%%\n"
    }
   },
   "outputs": [],
   "source": [
    "data_train_features_ohe_scaled = data_train_features_ohe.copy()\n",
    "data_train_features_ohe_scaled.loc[:, numeric_features] = scaler.transform(data_train_features_ohe.loc[:, numeric_features])\n",
    "\n",
    "data_test_features_ohe_scaled = data_test_features_ohe.copy()\n",
    "data_test_features_ohe_scaled.loc[:, numeric_features] = scaler.transform(data_test_features_ohe.loc[:, numeric_features])"
   ]
  },
  {
   "cell_type": "markdown",
   "metadata": {
    "pycharm": {
     "name": "#%% md\n"
    }
   },
   "source": [
    "<font color='steelblue'><b>Комментарий ревьюера: </b></font> ✔️ <br>\n",
    "<font color='green'>Все признаки обработаны..</font>"
   ]
  },
  {
   "cell_type": "markdown",
   "metadata": {
    "pycharm": {
     "name": "#%% md\n"
    }
   },
   "source": [
    "## Введение инструмента оценки адекватности"
   ]
  },
  {
   "cell_type": "markdown",
   "metadata": {
    "pycharm": {
     "name": "#%% md\n"
    }
   },
   "source": [
    "Для оценки адекватности модели будем использовать DummyRegressor, предсказывающий среднее значение целевого признака обучающей выборки"
   ]
  },
  {
   "cell_type": "code",
   "execution_count": 55,
   "metadata": {
    "pycharm": {
     "name": "#%%\n"
    }
   },
   "outputs": [],
   "source": [
    "dummy = DummyRegressor(strategy='mean')\n",
    "dummy.fit(data_train_features_ohe_scaled, data_train_target)\n",
    "dummy_predicted = dummy.predict(data_test_features_ohe_scaled)"
   ]
  },
  {
   "cell_type": "markdown",
   "metadata": {
    "pycharm": {
     "name": "#%% md\n"
    }
   },
   "source": [
    "Создадим таблицу для учета скорости и качества работы разных моделей"
   ]
  },
  {
   "cell_type": "code",
   "execution_count": 56,
   "metadata": {
    "pycharm": {
     "name": "#%%\n"
    }
   },
   "outputs": [],
   "source": [
    "results = pd.DataFrame(columns=['best_params', 'valid_RMSE', 'test_RMSE', 'train_time', 'predict_time'])"
   ]
  },
  {
   "cell_type": "markdown",
   "metadata": {
    "pycharm": {
     "name": "#%% md\n"
    }
   },
   "source": [
    "Создадим пользовательскую метрику - среднеквадратичную ошибку"
   ]
  },
  {
   "cell_type": "code",
   "execution_count": 57,
   "metadata": {
    "pycharm": {
     "name": "#%%\n"
    }
   },
   "outputs": [],
   "source": [
    "#def mse_not_squared(y_true, y_pred):\n",
    "#    return mse(y_true, y_pred, squared=False)\n",
    "\n",
    "rmse = make_scorer(mse, squared=False, greater_is_better=False)"
   ]
  },
  {
   "cell_type": "markdown",
   "metadata": {
    "pycharm": {
     "name": "#%% md\n"
    }
   },
   "source": [
    "## Линейные модели"
   ]
  },
  {
   "cell_type": "markdown",
   "metadata": {
    "pycharm": {
     "name": "#%% md\n"
    }
   },
   "source": [
    "### Линейная регрессия"
   ]
  },
  {
   "cell_type": "markdown",
   "metadata": {
    "pycharm": {
     "name": "#%% md\n"
    }
   },
   "source": [
    "~~Специально для линейной регрессии разделим обучающую выборку на обучающую и валидационную~~"
   ]
  },
  {
   "cell_type": "code",
   "execution_count": 58,
   "metadata": {
    "pycharm": {
     "name": "#%%\n"
    }
   },
   "outputs": [],
   "source": [
    "#lr_train_features, lr_valid_features, lr_train_target, lr_valid_target = train_test_split(data_train_features_ohe_scaled, data_train_target, train_size=0.75)"
   ]
  },
  {
   "cell_type": "markdown",
   "metadata": {
    "pycharm": {
     "name": "#%% md\n"
    }
   },
   "source": [
    "<font color='steelblue'><b>Комментарий ревьюера v3: </b></font> ⚠️ <br>\n",
    "<font color='darkorange'>Здесь датафреймы для всех моделей, из названий лучше удалить lr_ в начале.</font>"
   ]
  },
  {
   "cell_type": "code",
   "execution_count": 59,
   "metadata": {
    "pycharm": {
     "name": "#%%\n"
    }
   },
   "outputs": [],
   "source": [
    "lr_model = LinearRegression(n_jobs=-1)\n",
    "lr_cv_rmse = cross_val_score(lr_model, data_train_features_ohe_scaled, data_train_target, scoring=rmse, cv=3, n_jobs=-1).mean()\n",
    "\n",
    "#lr_time1 = time.time()\n",
    "#lr_model.fit(lr_train_features, lr_train_target)\n",
    "#lr_time2 = time.time()\n",
    "#lr_predicted = lr_model.predict(lr_valid_features)"
   ]
  },
  {
   "cell_type": "markdown",
   "metadata": {
    "pycharm": {
     "name": "#%% md\n"
    }
   },
   "source": [
    "<font color='steelblue'><b>Комментарий ревьюера: </b></font> ❌ <br>\n",
    "<font color='crimson'>Требуется подобрать лучшие гиперпараметры, обучить модель на train и предсказать validation (либо использовать кросс-валидацию), найти лучшую модель и предсказать test. Пожалуйста, учти это для всех моделей.</font>"
   ]
  },
  {
   "cell_type": "markdown",
   "metadata": {
    "pycharm": {
     "name": "#%% md\n"
    }
   },
   "source": [
    "<div class=\"alert alert-info\"> <b>Комментарий студента:</b>\n",
    "  \n",
    "Конкретно здесь у линейной регрессии вроде бы нечего перебирать на кросс-валидации... Для всех следующих моделей у меня есть подбор гиперпараметров    \n",
    "\n",
    "</div>"
   ]
  },
  {
   "cell_type": "markdown",
   "metadata": {
    "pycharm": {
     "name": "#%% md\n"
    }
   },
   "source": [
    "<font color='steelblue'><b>Комментарий ревьюера v2: </b></font> ❌ <br>\n",
    "<font color='crimson'>Давай я напишу подробный план.</font><br>\n",
    "<font color='steelblue'><b>Что делаем: </b><br>\n",
    "1. Делим тренировочную выборку на тренировочную и валидационную.\n",
    "2. Для LinearRegression обучаем на тренировочной, предсказываем на валидационной, считаем rmse, записываем полученное значение и время в табличку results.\n",
    "3. Для остальных используем GridSearchCV (RidgeCV для Ridge) на тренировочной выборке, предсказываем на валидационной с найденными лучшими гиперпараметрами, считаем rmse, записываем полученное значение и время в табличку results.\n",
    "4. Выбираем лучшую модель по качеству предсказания и времени.\n",
    "5. Предсказываем уже обученной лучшей моделью на тестовой выборке, проверяем, что модель предсказывает примерно так же хорошо.\n",
    "</font>\n",
    " \n"
   ]
  },
  {
   "cell_type": "markdown",
   "metadata": {
    "pycharm": {
     "name": "#%% md\n"
    }
   },
   "source": [
    "<div class=\"alert alert-info\"> <b>Комментарий студента 2:</b>\n",
    "  \n",
    "Кажется, понял тебя. \n",
    "    \n",
    "</div>"
   ]
  },
  {
   "cell_type": "markdown",
   "metadata": {
    "pycharm": {
     "name": "#%% md\n"
    }
   },
   "source": [
    "<font color='steelblue'><b>Комментарий ревьюера v3: </b></font> ❌ <br>\n",
    "<font color='crimson'>Почти :) Время ещё нужно засекать, нам нужно выбрать лучшую модель с оптимальным соотношением качество/врямя обучения/время предсказания.</font><br>\n",
    "<font color='steelblue'><b>Что делаем: </b><br>\n",
    "1. Делим тренировочную выборку на тренировочную и валидационную. ✔️\n",
    "2. Для LinearRegression обучаем на тренировочной, предсказываем на валидационной, считаем rmse, записываем полученное значение и время в табличку results.<br>⚠️ Добавь еще lr_time3 после predict. lr_time2 - lr_time1 = время обучения, lr_time3 - lr_time2 = время предсказания, оба значения добавь в табличку с итогами.\n",
    "3. Для остальных используем GridSearchCV (RidgeCV для Ridge) на тренировочной выборке, предсказываем на валидационной с найденными лучшими гиперпараметрами, считаем rmse, записываем полученное значение и время в табличку results.<br>⚠️ Давай на примере Lasso:<br>\n",
    "Нашли лучшие гиперпараметры с помощью GridSearchCV,<br>\n",
    "lasso_time1 = time.time(),<br>\n",
    "обучаешь мадель с лучшими гиперпараметрами на тренировочной выборке,<br>\n",
    "lasso_time2 = time.time(),<br>\n",
    "предсказываешь га валидационной выборке,<br>\n",
    "lasso_time3 = time.time().<br>\n",
    "Рассчитываешь round(mse(valid_target, predicted, squared=False), 1), время обучения, время предсказания и всё записываешь в табличку с результатами.\n",
    "4. Выбираем лучшую модель по качеству предсказания и времени.\n",
    "5. Предсказываем уже обученной лучшей моделью на тестовой выборке, проверяем, что модель предсказывает примерно так же хорошо.\n",
    "\n",
    "Нам нужно узнать, сколько каждая модель по времени учится и предсказывает, на GridSearchCV перебирается разное количество гиперпараметров, где-то вообще без него, например в лошистической регрессии. Поэтому план такой, что мы ищем лучшие гиперпараметры (если это возможно), а потом каждую модель просто обучаем на тренировочной (не изначальной тренировочной, а на той, которая получилась после train_test_split, это первая ячейка в шаге 2.3.1) и предсказываем на валидационной, засейкая время обученяи и время предсказания. Для полученного пердсказания и таргета рассчитываем rmse.\n",
    "</font>"
   ]
  },
  {
   "cell_type": "markdown",
   "metadata": {
    "pycharm": {
     "name": "#%% md\n"
    }
   },
   "source": [
    "Проверим метрику RMSE модели и сравним ее с dummy-предиктором"
   ]
  },
  {
   "cell_type": "code",
   "execution_count": 60,
   "metadata": {
    "pycharm": {
     "name": "#%%\n"
    }
   },
   "outputs": [
    {
     "name": "stdout",
     "output_type": "stream",
     "text": [
      "RMSE линейной регрессии: 2759.3\n",
      "RMSE dummy-предиктора: 4528.8\n"
     ]
    }
   ],
   "source": [
    "print('RMSE линейной регрессии: {:.1f}'.format(abs(lr_cv_rmse)))\n",
    "print('RMSE dummy-предиктора: {:.1f}'.format(mse(data_test_target, dummy_predicted, squared=False)))"
   ]
  },
  {
   "cell_type": "code",
   "execution_count": 61,
   "metadata": {
    "pycharm": {
     "name": "#%%\n"
    }
   },
   "outputs": [],
   "source": [
    "# Замер времени обучения на обучающей выборке и предсказания на тестовой\n",
    "\n",
    "lr_time1 = time.time()\n",
    "lr_model.fit(data_train_features_ohe_scaled, data_train_target)\n",
    "lr_time2 = time.time()\n",
    "lr_test_predicted = lr_model.predict(data_test_features_ohe_scaled)\n",
    "lr_time3 = time.time()"
   ]
  },
  {
   "cell_type": "code",
   "execution_count": 62,
   "metadata": {
    "pycharm": {
     "name": "#%%\n"
    }
   },
   "outputs": [],
   "source": [
    "results.loc['LinearRegression', 'valid_RMSE'] = abs(lr_cv_rmse)\n",
    "results.loc['LinearRegression', 'test_RMSE'] = mse(data_test_target, lr_test_predicted, squared=False)\n",
    "results.loc['LinearRegression', 'best_params'] = '-'\n",
    "results.loc['LinearRegression', 'train_time'] = lr_time2 - lr_time1\n",
    "results.loc['LinearRegression', 'predict_time'] = lr_time3 - lr_time2"
   ]
  },
  {
   "cell_type": "markdown",
   "metadata": {
    "pycharm": {
     "name": "#%% md\n"
    }
   },
   "source": [
    "### Lasso"
   ]
  },
  {
   "cell_type": "code",
   "execution_count": 63,
   "metadata": {
    "pycharm": {
     "name": "#%%\n"
    }
   },
   "outputs": [],
   "source": [
    "l_params = {'alpha': [0.3, 0.7]}\n",
    "l_gs = GridSearchCV(estimator=Lasso(random_state=123), param_grid=l_params, scoring=rmse, cv=3, n_jobs=-1)\n",
    "l_study = l_gs.fit(data_train_features_ohe_scaled, data_train_target)"
   ]
  },
  {
   "cell_type": "markdown",
   "metadata": {
    "pycharm": {
     "name": "#%% md\n"
    }
   },
   "source": [
    "<font color='steelblue'><b>Комментарий ревьюера v3: </b></font> ⚠️ <br>\n",
    "<font color='darkorange'>Делаем гридсёрч на тренировочных данных, которые сейчас у тебя называются lr_train_features и lr_train_target.</font>"
   ]
  },
  {
   "cell_type": "code",
   "execution_count": 64,
   "metadata": {
    "pycharm": {
     "name": "#%%\n"
    }
   },
   "outputs": [
    {
     "data": {
      "text/html": [
       "<div>\n",
       "<style scoped>\n",
       "    .dataframe tbody tr th:only-of-type {\n",
       "        vertical-align: middle;\n",
       "    }\n",
       "\n",
       "    .dataframe tbody tr th {\n",
       "        vertical-align: top;\n",
       "    }\n",
       "\n",
       "    .dataframe thead th {\n",
       "        text-align: right;\n",
       "    }\n",
       "</style>\n",
       "<table border=\"1\" class=\"dataframe\">\n",
       "  <thead>\n",
       "    <tr style=\"text-align: right;\">\n",
       "      <th></th>\n",
       "      <th>mean_fit_time</th>\n",
       "      <th>std_fit_time</th>\n",
       "      <th>mean_score_time</th>\n",
       "      <th>std_score_time</th>\n",
       "      <th>param_alpha</th>\n",
       "      <th>split0_test_score</th>\n",
       "      <th>split1_test_score</th>\n",
       "      <th>split2_test_score</th>\n",
       "      <th>mean_test_score</th>\n",
       "      <th>std_test_score</th>\n",
       "      <th>rank_test_score</th>\n",
       "    </tr>\n",
       "  </thead>\n",
       "  <tbody>\n",
       "    <tr>\n",
       "      <th>0</th>\n",
       "      <td>64.706733</td>\n",
       "      <td>4.112618</td>\n",
       "      <td>0.113452</td>\n",
       "      <td>0.018269</td>\n",
       "      <td>0.3</td>\n",
       "      <td>-2768.664888</td>\n",
       "      <td>-2750.861052</td>\n",
       "      <td>-2780.486566</td>\n",
       "      <td>-2766.670835</td>\n",
       "      <td>12.176479</td>\n",
       "      <td>1</td>\n",
       "    </tr>\n",
       "    <tr>\n",
       "      <th>1</th>\n",
       "      <td>50.617887</td>\n",
       "      <td>0.724092</td>\n",
       "      <td>0.267613</td>\n",
       "      <td>0.087744</td>\n",
       "      <td>0.7</td>\n",
       "      <td>-2782.800248</td>\n",
       "      <td>-2764.303091</td>\n",
       "      <td>-2793.776541</td>\n",
       "      <td>-2780.293293</td>\n",
       "      <td>12.162365</td>\n",
       "      <td>2</td>\n",
       "    </tr>\n",
       "  </tbody>\n",
       "</table>\n",
       "</div>"
      ],
      "text/plain": [
       "   mean_fit_time  std_fit_time  mean_score_time  std_score_time param_alpha  \\\n",
       "0      64.706733      4.112618         0.113452        0.018269         0.3   \n",
       "1      50.617887      0.724092         0.267613        0.087744         0.7   \n",
       "\n",
       "   split0_test_score  split1_test_score  split2_test_score  mean_test_score  \\\n",
       "0       -2768.664888       -2750.861052       -2780.486566     -2766.670835   \n",
       "1       -2782.800248       -2764.303091       -2793.776541     -2780.293293   \n",
       "\n",
       "   std_test_score  rank_test_score  \n",
       "0       12.176479                1  \n",
       "1       12.162365                2  "
      ]
     },
     "execution_count": 64,
     "metadata": {},
     "output_type": "execute_result"
    }
   ],
   "source": [
    "pd.DataFrame(l_study.cv_results_).drop('params', axis=1).sort_values(by='rank_test_score')"
   ]
  },
  {
   "cell_type": "code",
   "execution_count": 65,
   "metadata": {
    "pycharm": {
     "name": "#%%\n"
    }
   },
   "outputs": [
    {
     "name": "stdout",
     "output_type": "stream",
     "text": [
      "RMSE Lasso: 2766.7\n",
      "RMSE dummy-предиктора: 4528.8\n"
     ]
    }
   ],
   "source": [
    "print('RMSE Lasso: {:.1f}'.format(abs(l_study.best_score_), squared=False))\n",
    "print('RMSE dummy-предиктора: {:.1f}'.format(mse(data_test_target, dummy_predicted, squared=False)))"
   ]
  },
  {
   "cell_type": "markdown",
   "metadata": {
    "pycharm": {
     "name": "#%% md\n"
    }
   },
   "source": [
    "<font color='steelblue'><b>Комментарий ревьюера v3: </b></font> ⚠️ <br>\n",
    "<font color='darkorange'>Создаём модель с лучшими гиперпараметрами, её обучаем на lr_train_features и lr_train_target, предсказываем lr_valid_features и рассчитываем rmse между полученным предсказанием и lr_valid_target. Не забываем засекать время!</font>"
   ]
  },
  {
   "cell_type": "code",
   "execution_count": 66,
   "metadata": {
    "pycharm": {
     "name": "#%%\n"
    }
   },
   "outputs": [],
   "source": [
    "l_time1 = time.time()\n",
    "l_study.best_estimator_.fit(data_train_features_ohe_scaled, data_train_target)\n",
    "l_time2 = time.time()\n",
    "l_test_predicted = l_study.best_estimator_.predict(data_test_features_ohe_scaled)\n",
    "l_time3 = time.time()"
   ]
  },
  {
   "cell_type": "code",
   "execution_count": 67,
   "metadata": {
    "pycharm": {
     "name": "#%%\n"
    }
   },
   "outputs": [],
   "source": [
    "results.loc['Lasso', 'valid_RMSE'] = abs(l_study.best_score_)\n",
    "results.loc['Lasso', 'test_RMSE'] = mse(data_test_target, l_test_predicted, squared=False) \n",
    "results.loc['Lasso', 'best_params'] = list(zip(l_study.best_params_.keys(), l_study.best_params_.values()))\n",
    "results.loc['Lasso', 'train_time'] = l_time2 - l_time1\n",
    "results.loc['Lasso', 'predict_time'] = l_time3 - l_time2"
   ]
  },
  {
   "cell_type": "markdown",
   "metadata": {
    "pycharm": {
     "name": "#%% md\n"
    }
   },
   "source": [
    "### Ridge"
   ]
  },
  {
   "cell_type": "code",
   "execution_count": 68,
   "metadata": {
    "pycharm": {
     "name": "#%%\n"
    }
   },
   "outputs": [],
   "source": [
    "r_model = RidgeCV(alphas=(0.3, 0.6, 0.9), scoring=rmse, store_cv_values=True)\n",
    "r_model.fit(data_train_features_ohe_scaled, data_train_target);"
   ]
  },
  {
   "cell_type": "code",
   "execution_count": 69,
   "metadata": {
    "pycharm": {
     "name": "#%%\n"
    }
   },
   "outputs": [],
   "source": [
    "ridge_best_estimator = Ridge(alpha=r_model.alpha_)\n",
    "\n",
    "r_time1 = time.time()\n",
    "ridge_best_estimator.fit(data_train_features_ohe_scaled, data_train_target)\n",
    "r_time2 = time.time()\n",
    "r_test_predicted = ridge_best_estimator.predict(data_test_features_ohe_scaled)\n",
    "r_time3 = time.time()"
   ]
  },
  {
   "cell_type": "code",
   "execution_count": 70,
   "metadata": {
    "pycharm": {
     "name": "#%%\n"
    }
   },
   "outputs": [],
   "source": [
    "results.loc['Ridge', 'valid_RMSE'] = abs(r_model.best_score_)\n",
    "results.loc['Ridge', 'test_RMSE'] = mse(data_test_target, r_test_predicted, squared=False)  \n",
    "results.loc['Ridge', 'best_params'] = ('[(alpha, {})]'.format(r_model.alpha_))\n",
    "results.loc['Ridge', 'train_time'] = r_time2 - r_time1\n",
    "results.loc['Ridge', 'predict_time'] = r_time3 - r_time2"
   ]
  },
  {
   "cell_type": "markdown",
   "metadata": {
    "pycharm": {
     "name": "#%% md\n"
    }
   },
   "source": [
    "### ElasticNet"
   ]
  },
  {
   "cell_type": "code",
   "execution_count": 71,
   "metadata": {
    "pycharm": {
     "name": "#%%\n"
    }
   },
   "outputs": [],
   "source": [
    "en_params = {'alpha': [0.1, 0.3, 0.6, 0.9,], 'l1_ratio':[0.3, 0.6, 0.8]}\n",
    "en_gs = GridSearchCV(estimator=ElasticNet(), param_grid=en_params, scoring=rmse, cv=3, n_jobs=-1)\n",
    "en_study = en_gs.fit(data_train_features_ohe_scaled, data_train_target)"
   ]
  },
  {
   "cell_type": "code",
   "execution_count": 72,
   "metadata": {
    "scrolled": true,
    "pycharm": {
     "name": "#%%\n"
    }
   },
   "outputs": [
    {
     "data": {
      "text/html": [
       "<div>\n",
       "<style scoped>\n",
       "    .dataframe tbody tr th:only-of-type {\n",
       "        vertical-align: middle;\n",
       "    }\n",
       "\n",
       "    .dataframe tbody tr th {\n",
       "        vertical-align: top;\n",
       "    }\n",
       "\n",
       "    .dataframe thead th {\n",
       "        text-align: right;\n",
       "    }\n",
       "</style>\n",
       "<table border=\"1\" class=\"dataframe\">\n",
       "  <thead>\n",
       "    <tr style=\"text-align: right;\">\n",
       "      <th></th>\n",
       "      <th>mean_fit_time</th>\n",
       "      <th>std_fit_time</th>\n",
       "      <th>mean_score_time</th>\n",
       "      <th>std_score_time</th>\n",
       "      <th>param_alpha</th>\n",
       "      <th>param_l1_ratio</th>\n",
       "      <th>split0_test_score</th>\n",
       "      <th>split1_test_score</th>\n",
       "      <th>split2_test_score</th>\n",
       "      <th>mean_test_score</th>\n",
       "      <th>std_test_score</th>\n",
       "      <th>rank_test_score</th>\n",
       "    </tr>\n",
       "  </thead>\n",
       "  <tbody>\n",
       "    <tr>\n",
       "      <th>2</th>\n",
       "      <td>33.327204</td>\n",
       "      <td>0.393209</td>\n",
       "      <td>0.528584</td>\n",
       "      <td>0.019254</td>\n",
       "      <td>0.1</td>\n",
       "      <td>0.8</td>\n",
       "      <td>-2907.125527</td>\n",
       "      <td>-2883.702002</td>\n",
       "      <td>-2920.509063</td>\n",
       "      <td>-2903.778864</td>\n",
       "      <td>15.211619</td>\n",
       "      <td>1</td>\n",
       "    </tr>\n",
       "    <tr>\n",
       "      <th>1</th>\n",
       "      <td>29.092864</td>\n",
       "      <td>0.241403</td>\n",
       "      <td>0.775923</td>\n",
       "      <td>0.075513</td>\n",
       "      <td>0.1</td>\n",
       "      <td>0.6</td>\n",
       "      <td>-2942.873109</td>\n",
       "      <td>-2919.117913</td>\n",
       "      <td>-2956.723498</td>\n",
       "      <td>-2939.571507</td>\n",
       "      <td>15.528907</td>\n",
       "      <td>2</td>\n",
       "    </tr>\n",
       "    <tr>\n",
       "      <th>5</th>\n",
       "      <td>16.901797</td>\n",
       "      <td>0.027722</td>\n",
       "      <td>0.448134</td>\n",
       "      <td>0.023619</td>\n",
       "      <td>0.3</td>\n",
       "      <td>0.8</td>\n",
       "      <td>-2968.324293</td>\n",
       "      <td>-2944.360316</td>\n",
       "      <td>-2982.421452</td>\n",
       "      <td>-2965.035354</td>\n",
       "      <td>15.711469</td>\n",
       "      <td>3</td>\n",
       "    </tr>\n",
       "  </tbody>\n",
       "</table>\n",
       "</div>"
      ],
      "text/plain": [
       "   mean_fit_time  std_fit_time  mean_score_time  std_score_time param_alpha  \\\n",
       "2      33.327204      0.393209         0.528584        0.019254         0.1   \n",
       "1      29.092864      0.241403         0.775923        0.075513         0.1   \n",
       "5      16.901797      0.027722         0.448134        0.023619         0.3   \n",
       "\n",
       "  param_l1_ratio  split0_test_score  split1_test_score  split2_test_score  \\\n",
       "2            0.8       -2907.125527       -2883.702002       -2920.509063   \n",
       "1            0.6       -2942.873109       -2919.117913       -2956.723498   \n",
       "5            0.8       -2968.324293       -2944.360316       -2982.421452   \n",
       "\n",
       "   mean_test_score  std_test_score  rank_test_score  \n",
       "2     -2903.778864       15.211619                1  \n",
       "1     -2939.571507       15.528907                2  \n",
       "5     -2965.035354       15.711469                3  "
      ]
     },
     "execution_count": 72,
     "metadata": {},
     "output_type": "execute_result"
    }
   ],
   "source": [
    "pd.DataFrame(en_study.cv_results_).drop('params', axis=1).sort_values(by='rank_test_score').head(3)"
   ]
  },
  {
   "cell_type": "code",
   "execution_count": 73,
   "metadata": {
    "pycharm": {
     "name": "#%%\n"
    }
   },
   "outputs": [],
   "source": [
    "en_time1 = time.time()\n",
    "en_study.best_estimator_.fit(data_train_features_ohe_scaled, data_train_target)\n",
    "en_time2 = time.time()\n",
    "en_test_predicted = en_study.best_estimator_.predict(data_test_features_ohe_scaled)\n",
    "en_time3 = time.time()"
   ]
  },
  {
   "cell_type": "code",
   "execution_count": 74,
   "metadata": {
    "pycharm": {
     "name": "#%%\n"
    }
   },
   "outputs": [],
   "source": [
    "results.loc['ElasticNet', 'valid_RMSE'] = abs(en_study.best_score_)\n",
    "results.loc['ElasticNet', 'test_RMSE'] = mse(data_test_target, en_test_predicted, squared=False)  \n",
    "results.loc['ElasticNet', 'best_params'] = list(zip(en_study.best_params_.keys(), en_study.best_params_.values()))\n",
    "results.loc['ElasticNet', 'train_time'] = en_time2 - en_time1\n",
    "results.loc['ElasticNet', 'predict_time'] = en_time3 - en_time2"
   ]
  },
  {
   "cell_type": "markdown",
   "metadata": {
    "pycharm": {
     "name": "#%% md\n"
    }
   },
   "source": [
    "## Случайный лес"
   ]
  },
  {
   "cell_type": "markdown",
   "metadata": {
    "pycharm": {
     "name": "#%% md\n"
    }
   },
   "source": [
    "Проверим качество случайного леса. Для этого сперва обучим модель на простом наборе гиперпараметров, чтобы выделить важные признаки"
   ]
  },
  {
   "cell_type": "code",
   "execution_count": 75,
   "metadata": {
    "pycharm": {
     "name": "#%%\n"
    }
   },
   "outputs": [],
   "source": [
    "rfr_proto_model = RandomForestRegressor(max_depth=10, n_estimators=10)\n",
    "rfr_proto_model.fit(data_train_features_ohe_scaled, data_train_target)\n",
    "rfr_proto_predicted = rfr_proto_model.predict(data_test_features_ohe_scaled)"
   ]
  },
  {
   "cell_type": "markdown",
   "metadata": {
    "pycharm": {
     "name": "#%% md\n"
    }
   },
   "source": [
    "Выведем признаки по степени убывания их важности"
   ]
  },
  {
   "cell_type": "code",
   "execution_count": 76,
   "metadata": {
    "pycharm": {
     "name": "#%%\n"
    }
   },
   "outputs": [
    {
     "data": {
      "text/plain": [
       "registration_year           0.566282\n",
       "power                       0.309492\n",
       "kilometer                   0.051829\n",
       "vehicle_type_convertible    0.013507\n",
       "model_transporter           0.011208\n",
       "not_repaired_True           0.007125\n",
       "brand_audi                  0.004280\n",
       "brand_volkswagen            0.003341\n",
       "fuel_type_gasoline          0.002973\n",
       "vehicle_type_small          0.002687\n",
       "brand_bmw                   0.002405\n",
       "brand_mercedes_benz         0.002158\n",
       "vehicle_type_suv            0.001724\n",
       "gearbox_manual              0.001702\n",
       "brand_opel                  0.001571\n",
       "dtype: float64"
      ]
     },
     "execution_count": 76,
     "metadata": {},
     "output_type": "execute_result"
    }
   ],
   "source": [
    "pd.Series(rfr_proto_model.feature_importances_, index=data_train_features_ohe_scaled.columns).sort_values(ascending=False).head(15)"
   ]
  },
  {
   "cell_type": "code",
   "execution_count": 77,
   "metadata": {
    "pycharm": {
     "name": "#%%\n"
    }
   },
   "outputs": [],
   "source": [
    "rfr_important_features = pd.Series(rfr_proto_model.feature_importances_, index=data_train_features_ohe_scaled.columns).sort_values(ascending=False).head(15).index"
   ]
  },
  {
   "cell_type": "markdown",
   "metadata": {
    "pycharm": {
     "name": "#%% md\n"
    }
   },
   "source": [
    "Переберем несколько наборов гиперпараметров, чтобы найти лучшую модель"
   ]
  },
  {
   "cell_type": "code",
   "execution_count": 78,
   "metadata": {
    "pycharm": {
     "name": "#%%\n"
    }
   },
   "outputs": [],
   "source": [
    "rfr_params = {'max_depth': [10, 60], 'n_estimators': [10, 90]}\n",
    "rfr_gs = GridSearchCV(estimator = RandomForestRegressor(),\n",
    "                      param_grid=rfr_params,\n",
    "                      scoring=rmse,\n",
    "                      cv=3,\n",
    "                      n_jobs=-1)\n",
    "rfr_study = rfr_gs.fit(data_train_features_ohe_scaled[rfr_important_features], data_train_target)"
   ]
  },
  {
   "cell_type": "code",
   "execution_count": 79,
   "metadata": {
    "pycharm": {
     "name": "#%%\n"
    }
   },
   "outputs": [],
   "source": [
    "rfr_time1 = time.time()\n",
    "rfr_study.best_estimator_.fit(data_train_features_ohe_scaled, data_train_target)\n",
    "rfr_time2 = time.time()\n",
    "rfr_test_predicted = rfr_study.best_estimator_.predict(data_test_features_ohe_scaled)\n",
    "rfr_time3 = time.time()"
   ]
  },
  {
   "cell_type": "code",
   "execution_count": 80,
   "metadata": {
    "pycharm": {
     "name": "#%%\n"
    }
   },
   "outputs": [],
   "source": [
    "results.loc['RamdomForestRegressor', 'valid_RMSE'] = abs(rfr_gs.best_score_)\n",
    "results.loc['RamdomForestRegressor', 'test_RMSE'] = mse(data_test_target, rfr_test_predicted, squared=False)\n",
    "results.loc['RamdomForestRegressor', 'best_params'] = list(zip(rfr_gs.best_params_.keys(), rfr_gs.best_params_.values()))\n",
    "results.loc['RamdomForestRegressor', 'train_time'] = rfr_time2 - rfr_time1\n",
    "results.loc['RamdomForestRegressor', 'predict_time'] = rfr_time3 - rfr_time2"
   ]
  },
  {
   "cell_type": "markdown",
   "metadata": {
    "pycharm": {
     "name": "#%% md\n"
    }
   },
   "source": [
    "## LightGBM"
   ]
  },
  {
   "cell_type": "code",
   "execution_count": 81,
   "metadata": {
    "pycharm": {
     "name": "#%%\n"
    }
   },
   "outputs": [
    {
     "name": "stdout",
     "output_type": "stream",
     "text": [
      "Wall time: 3min 32s\n"
     ]
    }
   ],
   "source": [
    "%%time\n",
    "lgbp_params = {'n_estimators': [2000, 5000, 8000]}\n",
    "lgbm_gs = GridSearchCV(LGBMRegressor(verbose=-1), param_grid=lgbp_params, scoring=rmse, cv=3, n_jobs=-1);\n",
    "lgbm_study = lgbm_gs.fit(data_train_features_ohe_scaled, data_train_target);"
   ]
  },
  {
   "cell_type": "code",
   "execution_count": 82,
   "metadata": {
    "pycharm": {
     "name": "#%%\n"
    }
   },
   "outputs": [],
   "source": [
    "lgbm_time1 = time.time()\n",
    "lgbm_study.best_estimator_.fit(data_train_features_ohe_scaled, data_train_target)\n",
    "lgbm_time2 = time.time()\n",
    "lgbm_test_predicted = lgbm_study.best_estimator_.predict(data_test_features_ohe_scaled)\n",
    "lgbm_time3 = time.time()"
   ]
  },
  {
   "cell_type": "code",
   "execution_count": 83,
   "metadata": {
    "pycharm": {
     "name": "#%%\n"
    }
   },
   "outputs": [],
   "source": [
    "results.loc['LightGBM', 'valid_RMSE'] = abs(lgbm_study.best_score_)\n",
    "results.loc['LightGBM', 'test_RMSE'] = mse(data_test_target, lgbm_test_predicted, squared=False)\n",
    "results.loc['LightGBM', 'best_params'] = list(zip(lgbm_study.best_params_.keys(), lgbm_study.best_params_.values()))\n",
    "results.loc['LightGBM', 'train_time'] = lgbm_time2 - lgbm_time1\n",
    "results.loc['LightGBM', 'predict_time'] = lgbm_time3 - lgbm_time2"
   ]
  },
  {
   "cell_type": "markdown",
   "metadata": {
    "pycharm": {
     "name": "#%% md\n"
    }
   },
   "source": [
    "## Выбор лучшей модели"
   ]
  },
  {
   "cell_type": "markdown",
   "metadata": {
    "pycharm": {
     "name": "#%% md\n"
    }
   },
   "source": [
    "Выберем лучшую модель"
   ]
  },
  {
   "cell_type": "code",
   "execution_count": 84,
   "metadata": {
    "pycharm": {
     "name": "#%%\n"
    }
   },
   "outputs": [
    {
     "data": {
      "text/html": [
       "<div>\n",
       "<style scoped>\n",
       "    .dataframe tbody tr th:only-of-type {\n",
       "        vertical-align: middle;\n",
       "    }\n",
       "\n",
       "    .dataframe tbody tr th {\n",
       "        vertical-align: top;\n",
       "    }\n",
       "\n",
       "    .dataframe thead th {\n",
       "        text-align: right;\n",
       "    }\n",
       "</style>\n",
       "<table border=\"1\" class=\"dataframe\">\n",
       "  <thead>\n",
       "    <tr style=\"text-align: right;\">\n",
       "      <th></th>\n",
       "      <th>best_params</th>\n",
       "      <th>valid_RMSE</th>\n",
       "      <th>test_RMSE</th>\n",
       "      <th>train_time</th>\n",
       "      <th>predict_time</th>\n",
       "    </tr>\n",
       "  </thead>\n",
       "  <tbody>\n",
       "    <tr>\n",
       "      <th>LinearRegression</th>\n",
       "      <td>-</td>\n",
       "      <td>2759.31</td>\n",
       "      <td>2782.99</td>\n",
       "      <td>3.33011</td>\n",
       "      <td>0.0947459</td>\n",
       "    </tr>\n",
       "    <tr>\n",
       "      <th>Lasso</th>\n",
       "      <td>[(alpha, 0.3)]</td>\n",
       "      <td>2766.67</td>\n",
       "      <td>2791.17</td>\n",
       "      <td>11.5868</td>\n",
       "      <td>0.0807843</td>\n",
       "    </tr>\n",
       "    <tr>\n",
       "      <th>Ridge</th>\n",
       "      <td>[(alpha, 0.6)]</td>\n",
       "      <td>2758.09</td>\n",
       "      <td>2783.01</td>\n",
       "      <td>0.942056</td>\n",
       "      <td>0.0967422</td>\n",
       "    </tr>\n",
       "    <tr>\n",
       "      <th>ElasticNet</th>\n",
       "      <td>[(alpha, 0.1), (l1_ratio, 0.8)]</td>\n",
       "      <td>2903.78</td>\n",
       "      <td>2930.59</td>\n",
       "      <td>2.13751</td>\n",
       "      <td>0.0997334</td>\n",
       "    </tr>\n",
       "    <tr>\n",
       "      <th>RamdomForestRegressor</th>\n",
       "      <td>[(max_depth, 60), (n_estimators, 90)]</td>\n",
       "      <td>1797.99</td>\n",
       "      <td>1635.31</td>\n",
       "      <td>468.586</td>\n",
       "      <td>2.19594</td>\n",
       "    </tr>\n",
       "    <tr>\n",
       "      <th>LightGBM</th>\n",
       "      <td>[(n_estimators, 5000)]</td>\n",
       "      <td>1609.44</td>\n",
       "      <td>1572.62</td>\n",
       "      <td>19.4722</td>\n",
       "      <td>3.96639</td>\n",
       "    </tr>\n",
       "  </tbody>\n",
       "</table>\n",
       "</div>"
      ],
      "text/plain": [
       "                                                 best_params valid_RMSE  \\\n",
       "LinearRegression                                           -    2759.31   \n",
       "Lasso                                         [(alpha, 0.3)]    2766.67   \n",
       "Ridge                                         [(alpha, 0.6)]    2758.09   \n",
       "ElasticNet                   [(alpha, 0.1), (l1_ratio, 0.8)]    2903.78   \n",
       "RamdomForestRegressor  [(max_depth, 60), (n_estimators, 90)]    1797.99   \n",
       "LightGBM                              [(n_estimators, 5000)]    1609.44   \n",
       "\n",
       "                      test_RMSE train_time predict_time  \n",
       "LinearRegression        2782.99    3.33011    0.0947459  \n",
       "Lasso                   2791.17    11.5868    0.0807843  \n",
       "Ridge                   2783.01   0.942056    0.0967422  \n",
       "ElasticNet              2930.59    2.13751    0.0997334  \n",
       "RamdomForestRegressor   1635.31    468.586      2.19594  \n",
       "LightGBM                1572.62    19.4722      3.96639  "
      ]
     },
     "execution_count": 84,
     "metadata": {},
     "output_type": "execute_result"
    }
   ],
   "source": [
    "results"
   ]
  },
  {
   "cell_type": "markdown",
   "metadata": {
    "pycharm": {
     "name": "#%% md\n"
    }
   },
   "source": [
    "~~Лучший результат показала модель градиентного бустинга на базе 5000 слабых классификаторов. Проверим ее качество на тестовой выборке~~ \n",
    "\n",
    "Ну собственно это уже сделано в рамках сравнения моделей)"
   ]
  },
  {
   "cell_type": "markdown",
   "metadata": {
    "pycharm": {
     "name": "#%% md\n"
    }
   },
   "source": [
    "<font color='steelblue'><b>Комментарий ревьюера v3: </b></font> ⚠️ <br>\n",
    "<font color='darkorange'>Нужно добавить в табличку время обучения и время предсказания.</font>"
   ]
  },
  {
   "cell_type": "code",
   "execution_count": 85,
   "metadata": {
    "pycharm": {
     "name": "#%%\n"
    }
   },
   "outputs": [
    {
     "name": "stdout",
     "output_type": "stream",
     "text": [
      "RMSE лучшей из исследованных моделей равна 1572.62\n",
      "Wall time: 23.6 s\n"
     ]
    }
   ],
   "source": [
    "%%time\n",
    "best_model = LGBMRegressor(n_estimators=5000, verbose=-1)\n",
    "best_model.fit(data_train_features_ohe_scaled, data_train_target)\n",
    "best_predicted = best_model.predict(data_test_features_ohe_scaled)\n",
    "print('RMSE лучшей из исследованных моделей равна {:.2f}'.format(mse(data_test_target, best_predicted, squared=False)))"
   ]
  },
  {
   "cell_type": "markdown",
   "metadata": {
    "pycharm": {
     "name": "#%% md\n"
    }
   },
   "source": [
    "Точность работы модели на тестовой выборке не уступает результату кросс-валидации"
   ]
  },
  {
   "cell_type": "markdown",
   "metadata": {
    "pycharm": {
     "name": "#%% md\n"
    }
   },
   "source": [
    "<font color='steelblue'><b>Комментарий ревьюера: </b></font> ✔️ <br>\n",
    "<font color='green'>Здорово, что используешь 6 моделей.</font>"
   ]
  },
  {
   "cell_type": "markdown",
   "metadata": {
    "pycharm": {
     "name": "#%% md\n"
    }
   },
   "source": [
    "# Вывод"
   ]
  },
  {
   "cell_type": "markdown",
   "metadata": {
    "pycharm": {
     "name": "#%% md\n"
    }
   },
   "source": [
    "Из всех моделей наивысшую эффективность показал градиентный бустинг. Этот алгоритм имеет умеренную скорость вычислений. Самыми быстрыми моделями являются линейные модели, но добиться при их использовании высокой точности сложно. Случайный лес точнее линейных моделей, но по скорости и качеству все же уступает градиентному бустингу."
   ]
  },
  {
   "cell_type": "markdown",
   "metadata": {
    "pycharm": {
     "name": "#%% md\n"
    }
   },
   "source": [
    "<font color='steelblue'><b>Комментарий ревьюера: </b></font> ⚠️ <br>\n",
    "<font color='darkorange'>Пожалуйста, не забудь проверить корректность вывода после внесённых изменений.</font>"
   ]
  },
  {
   "cell_type": "markdown",
   "metadata": {
    "pycharm": {
     "name": "#%% md\n"
    }
   },
   "source": [
    "<br><br><font color='steelblue'><b>Итоговый комментарий ревьюера</b></font><br>\n",
    "\n",
    "<font color='green'>В твоём проекте много хороших решений, однако, есть несколько нюансов.</font>\n",
    "\n",
    "<font color='steelblue'>Что можно сделать лучше:</font>\n",
    "\n",
    "<ul><font color='crimson'>1. В шаге 1.1 написаны три абсолютно одинаковые функции. Можно обойтись одной, у котрой будет имя столбца в аргументах.</font></ul>\n",
    "<ul><font color='crimson'>2. Требуется подобрать лучшие гиперпараметры, обучить модель на train и предсказать validation (либо использовать кросс-валидацию), найти лучшую модель и предсказать test. Пожалуйста, учти это для всех моделей.</font></ul>\n",
    "<ul><font color='darkorange'>3. Заполнить пропуски модой в шаге 1.1 по марке и модели — хорошая идея.\n",
    "Оставила комментарии по коду.</font></ul>\n",
    "<ul><font color='darkorange'>4. Удалить 20% наблюдения — многовато, на мой взгляд.</font></ul>\n",
    "\n",
    "<font color='steelblue'><b>Спасибо, удачи!</b></font><br><br><br>"
   ]
  },
  {
   "cell_type": "markdown",
   "metadata": {
    "pycharm": {
     "name": "#%% md\n"
    }
   },
   "source": [
    "<br><br><font color='steelblue'><b>Итоговый комментарий ревьюера v2</b></font><br>\n",
    "\n",
    "<font color='green'>Здорово, что удалось улучшить проект. Я оставила ответы на вопросы и комментарии выше.</font>\n",
    "\n",
    "<font color='steelblue'>Что можно сделать лучше:</font>\n",
    "\n",
    "<ul><font color='crimson'>Требуется обучить модели на train и предсказать validation, найти лучшую модель и предсказать test.</font></ul>\n",
    "\n",
    "<font color='steelblue'><b>Спасибо, удачи!</b></font><br><br><br>"
   ]
  },
  {
   "cell_type": "markdown",
   "metadata": {
    "pycharm": {
     "name": "#%% md\n"
    }
   },
   "source": [
    "<br><br><font color='steelblue'><b>Итоговый комментарий ревьюера v3</b></font><br>\n",
    "\n",
    "<font color='green'>Твой проект почти готов, осталось чуть-чуть.</font>\n",
    "\n",
    "<font color='steelblue'>Что можно сделать лучше:</font>\n",
    "\n",
    "<ul><font color='crimson'>Нам нужно засечь время обучения моделей и время предсказания, после чего выбрать лучшую модель.</font></ul>\n",
    "\n",
    "<font color='steelblue'><b>Спасибо, удачи!</b></font><br><br><br>"
   ]
  },
  {
   "cell_type": "code",
   "execution_count": null,
   "metadata": {
    "pycharm": {
     "name": "#%%\n"
    }
   },
   "outputs": [],
   "source": []
  }
 ],
 "metadata": {
  "ExecuteTimeLog": [
   {
    "duration": 80,
    "start_time": "2022-03-31T18:30:07.080Z"
   },
   {
    "duration": 357,
    "start_time": "2022-03-31T18:30:19.679Z"
   },
   {
    "duration": 7,
    "start_time": "2022-03-31T18:30:32.531Z"
   },
   {
    "duration": 4269,
    "start_time": "2022-03-31T18:34:46.320Z"
   },
   {
    "duration": 2070,
    "start_time": "2022-03-31T18:34:50.593Z"
   },
   {
    "duration": 1898,
    "start_time": "2022-03-31T18:34:52.669Z"
   },
   {
    "duration": 34,
    "start_time": "2022-03-31T18:34:54.570Z"
   },
   {
    "duration": 4,
    "start_time": "2022-03-31T18:34:54.607Z"
   },
   {
    "duration": 115,
    "start_time": "2022-03-31T18:34:54.613Z"
   },
   {
    "duration": 6,
    "start_time": "2022-03-31T18:34:54.731Z"
   },
   {
    "duration": 424,
    "start_time": "2022-03-31T18:34:54.740Z"
   },
   {
    "duration": 365,
    "start_time": "2022-03-31T18:34:55.168Z"
   },
   {
    "duration": 72,
    "start_time": "2022-03-31T18:34:55.538Z"
   },
   {
    "duration": 205,
    "start_time": "2022-03-31T18:34:55.612Z"
   },
   {
    "duration": 183,
    "start_time": "2022-03-31T18:34:55.820Z"
   },
   {
    "duration": 6,
    "start_time": "2022-03-31T18:34:56.005Z"
   },
   {
    "duration": 109,
    "start_time": "2022-03-31T18:35:50.794Z"
   },
   {
    "duration": 12,
    "start_time": "2022-03-31T18:35:57.798Z"
   },
   {
    "duration": 13,
    "start_time": "2022-03-31T18:36:21.711Z"
   },
   {
    "duration": 4703,
    "start_time": "2022-03-31T18:37:26.482Z"
   },
   {
    "duration": 15,
    "start_time": "2022-03-31T18:44:36.612Z"
   },
   {
    "duration": 14,
    "start_time": "2022-03-31T18:44:53.130Z"
   },
   {
    "duration": 7,
    "start_time": "2022-03-31T18:48:53.795Z"
   },
   {
    "duration": 158,
    "start_time": "2022-03-31T18:49:05.519Z"
   },
   {
    "duration": 518,
    "start_time": "2022-03-31T18:49:19.665Z"
   },
   {
    "duration": 115,
    "start_time": "2022-03-31T18:49:32.090Z"
   },
   {
    "duration": 151,
    "start_time": "2022-03-31T18:49:38.875Z"
   },
   {
    "duration": 153,
    "start_time": "2022-03-31T18:49:44.524Z"
   },
   {
    "duration": 252,
    "start_time": "2022-03-31T18:51:28.206Z"
   },
   {
    "duration": 251,
    "start_time": "2022-03-31T18:51:40.318Z"
   },
   {
    "duration": 251,
    "start_time": "2022-03-31T18:52:04.952Z"
   },
   {
    "duration": 252,
    "start_time": "2022-03-31T18:52:28.218Z"
   },
   {
    "duration": 17,
    "start_time": "2022-03-31T18:52:33.763Z"
   },
   {
    "duration": 102,
    "start_time": "2022-03-31T18:52:56.467Z"
   },
   {
    "duration": 96,
    "start_time": "2022-03-31T18:53:08.324Z"
   },
   {
    "duration": 160,
    "start_time": "2022-03-31T18:53:13.049Z"
   },
   {
    "duration": 148,
    "start_time": "2022-03-31T18:53:24.708Z"
   },
   {
    "duration": 465,
    "start_time": "2022-03-31T18:56:11.967Z"
   },
   {
    "duration": 249,
    "start_time": "2022-03-31T18:57:18.392Z"
   },
   {
    "duration": 5,
    "start_time": "2022-03-31T18:58:48.164Z"
   },
   {
    "duration": 94,
    "start_time": "2022-03-31T18:58:54.446Z"
   },
   {
    "duration": 971,
    "start_time": "2022-03-31T18:59:16.892Z"
   },
   {
    "duration": 308,
    "start_time": "2022-03-31T19:01:36.621Z"
   },
   {
    "duration": 11,
    "start_time": "2022-03-31T19:02:17.846Z"
   },
   {
    "duration": 26,
    "start_time": "2022-03-31T19:02:24.229Z"
   },
   {
    "duration": 305,
    "start_time": "2022-03-31T19:04:23.786Z"
   },
   {
    "duration": 3332,
    "start_time": "2022-03-31T19:10:09.452Z"
   },
   {
    "duration": 2189,
    "start_time": "2022-03-31T19:10:12.787Z"
   },
   {
    "duration": 1966,
    "start_time": "2022-03-31T19:10:14.979Z"
   },
   {
    "duration": 44,
    "start_time": "2022-03-31T19:10:16.948Z"
   },
   {
    "duration": 4,
    "start_time": "2022-03-31T19:10:16.995Z"
   },
   {
    "duration": 102,
    "start_time": "2022-03-31T19:10:17.001Z"
   },
   {
    "duration": 5,
    "start_time": "2022-03-31T19:10:17.105Z"
   },
   {
    "duration": 432,
    "start_time": "2022-03-31T19:10:17.112Z"
   },
   {
    "duration": 407,
    "start_time": "2022-03-31T19:10:17.546Z"
   },
   {
    "duration": 67,
    "start_time": "2022-03-31T19:10:17.958Z"
   },
   {
    "duration": 241,
    "start_time": "2022-03-31T19:10:18.027Z"
   },
   {
    "duration": 176,
    "start_time": "2022-03-31T19:10:18.271Z"
   },
   {
    "duration": 4,
    "start_time": "2022-03-31T19:10:18.450Z"
   },
   {
    "duration": 4040,
    "start_time": "2022-03-31T19:16:12.894Z"
   },
   {
    "duration": 2129,
    "start_time": "2022-03-31T19:16:16.937Z"
   },
   {
    "duration": 1743,
    "start_time": "2022-03-31T19:16:19.068Z"
   },
   {
    "duration": 37,
    "start_time": "2022-03-31T19:16:20.813Z"
   },
   {
    "duration": 4,
    "start_time": "2022-03-31T19:16:20.867Z"
   },
   {
    "duration": 75,
    "start_time": "2022-03-31T19:16:20.873Z"
   },
   {
    "duration": 18,
    "start_time": "2022-03-31T19:16:20.950Z"
   },
   {
    "duration": 414,
    "start_time": "2022-03-31T19:16:20.970Z"
   },
   {
    "duration": 358,
    "start_time": "2022-03-31T19:16:21.387Z"
   },
   {
    "duration": 65,
    "start_time": "2022-03-31T19:16:21.747Z"
   },
   {
    "duration": 200,
    "start_time": "2022-03-31T19:16:21.814Z"
   },
   {
    "duration": 169,
    "start_time": "2022-03-31T19:16:22.018Z"
   },
   {
    "duration": 6,
    "start_time": "2022-03-31T19:16:22.189Z"
   },
   {
    "duration": 24345,
    "start_time": "2022-03-31T19:16:22.197Z"
   },
   {
    "duration": 306,
    "start_time": "2022-03-31T19:16:46.544Z"
   },
   {
    "duration": 6,
    "start_time": "2022-03-31T19:16:46.852Z"
   },
   {
    "duration": 38579,
    "start_time": "2022-03-31T19:16:46.860Z"
   },
   {
    "duration": 33,
    "start_time": "2022-03-31T19:17:25.441Z"
   },
   {
    "duration": 42,
    "start_time": "2022-03-31T19:17:25.476Z"
   },
   {
    "duration": 161,
    "start_time": "2022-03-31T19:17:25.521Z"
   },
   {
    "duration": 140,
    "start_time": "2022-03-31T19:17:25.684Z"
   },
   {
    "duration": 16,
    "start_time": "2022-03-31T19:17:25.826Z"
   },
   {
    "duration": 60,
    "start_time": "2022-03-31T19:17:25.844Z"
   },
   {
    "duration": 94,
    "start_time": "2022-03-31T19:19:31.273Z"
   },
   {
    "duration": 4609,
    "start_time": "2022-03-31T19:19:43.413Z"
   },
   {
    "duration": 2495,
    "start_time": "2022-03-31T19:19:48.026Z"
   },
   {
    "duration": 3764,
    "start_time": "2022-03-31T19:19:50.524Z"
   },
   {
    "duration": 46,
    "start_time": "2022-03-31T19:19:54.292Z"
   },
   {
    "duration": 5,
    "start_time": "2022-03-31T19:19:54.341Z"
   },
   {
    "duration": 79,
    "start_time": "2022-03-31T19:19:54.369Z"
   },
   {
    "duration": 19,
    "start_time": "2022-03-31T19:19:54.450Z"
   },
   {
    "duration": 625,
    "start_time": "2022-03-31T19:19:54.472Z"
   },
   {
    "duration": 585,
    "start_time": "2022-03-31T19:19:55.100Z"
   },
   {
    "duration": 59,
    "start_time": "2022-03-31T19:19:55.690Z"
   },
   {
    "duration": 221,
    "start_time": "2022-03-31T19:19:55.752Z"
   },
   {
    "duration": 174,
    "start_time": "2022-03-31T19:19:55.976Z"
   },
   {
    "duration": 15,
    "start_time": "2022-03-31T19:19:56.153Z"
   },
   {
    "duration": 25136,
    "start_time": "2022-03-31T19:19:56.170Z"
   },
   {
    "duration": 304,
    "start_time": "2022-03-31T19:20:21.309Z"
   },
   {
    "duration": 6,
    "start_time": "2022-03-31T19:20:21.615Z"
   },
   {
    "duration": 45425,
    "start_time": "2022-03-31T19:20:21.624Z"
   },
   {
    "duration": 33,
    "start_time": "2022-03-31T19:21:07.052Z"
   },
   {
    "duration": 46,
    "start_time": "2022-03-31T19:21:07.087Z"
   },
   {
    "duration": 115,
    "start_time": "2022-03-31T19:21:07.136Z"
   },
   {
    "duration": 98,
    "start_time": "2022-03-31T19:21:07.253Z"
   },
   {
    "duration": 24,
    "start_time": "2022-03-31T19:21:07.353Z"
   },
   {
    "duration": 100,
    "start_time": "2022-03-31T19:21:07.380Z"
   },
   {
    "duration": 295,
    "start_time": "2022-03-31T19:21:46.839Z"
   },
   {
    "duration": 246,
    "start_time": "2022-03-31T19:22:07.882Z"
   },
   {
    "duration": 14,
    "start_time": "2022-03-31T19:22:18.532Z"
   },
   {
    "duration": 80,
    "start_time": "2022-03-31T19:22:26.096Z"
   },
   {
    "duration": 84,
    "start_time": "2022-03-31T19:23:25.920Z"
   },
   {
    "duration": 11,
    "start_time": "2022-03-31T19:34:32.093Z"
   },
   {
    "duration": 57,
    "start_time": "2022-03-31T19:34:40.227Z"
   },
   {
    "duration": 3981,
    "start_time": "2022-03-31T19:54:00.032Z"
   },
   {
    "duration": 2008,
    "start_time": "2022-03-31T19:54:04.016Z"
   },
   {
    "duration": 1813,
    "start_time": "2022-03-31T19:54:06.027Z"
   },
   {
    "duration": 41,
    "start_time": "2022-03-31T19:54:07.843Z"
   },
   {
    "duration": 5,
    "start_time": "2022-03-31T19:54:07.886Z"
   },
   {
    "duration": 110,
    "start_time": "2022-03-31T19:54:07.893Z"
   },
   {
    "duration": 7,
    "start_time": "2022-03-31T19:54:08.006Z"
   },
   {
    "duration": 427,
    "start_time": "2022-03-31T19:54:08.016Z"
   },
   {
    "duration": 376,
    "start_time": "2022-03-31T19:54:08.446Z"
   },
   {
    "duration": 73,
    "start_time": "2022-03-31T19:54:08.828Z"
   },
   {
    "duration": 199,
    "start_time": "2022-03-31T19:54:08.903Z"
   },
   {
    "duration": 181,
    "start_time": "2022-03-31T19:54:09.105Z"
   },
   {
    "duration": 5,
    "start_time": "2022-03-31T19:54:09.289Z"
   },
   {
    "duration": 25220,
    "start_time": "2022-03-31T19:54:09.296Z"
   },
   {
    "duration": 303,
    "start_time": "2022-03-31T19:54:34.519Z"
   },
   {
    "duration": 7,
    "start_time": "2022-03-31T19:54:34.825Z"
   },
   {
    "duration": 38756,
    "start_time": "2022-03-31T19:54:34.835Z"
   },
   {
    "duration": 28,
    "start_time": "2022-03-31T19:55:13.593Z"
   },
   {
    "duration": 60,
    "start_time": "2022-03-31T19:55:13.623Z"
   },
   {
    "duration": 105,
    "start_time": "2022-03-31T19:55:13.686Z"
   },
   {
    "duration": 103,
    "start_time": "2022-03-31T19:55:13.793Z"
   },
   {
    "duration": 13,
    "start_time": "2022-03-31T19:55:13.899Z"
   },
   {
    "duration": 309,
    "start_time": "2022-03-31T19:55:13.914Z"
   },
   {
    "duration": 1661,
    "start_time": "2022-03-31T19:55:14.226Z"
   },
   {
    "duration": 24,
    "start_time": "2022-03-31T19:55:15.889Z"
   },
   {
    "duration": 268,
    "start_time": "2022-03-31T19:55:15.915Z"
   },
   {
    "duration": 36589,
    "start_time": "2022-03-31T19:55:16.185Z"
   },
   {
    "duration": 17,
    "start_time": "2022-03-31T19:55:52.867Z"
   },
   {
    "duration": 1019,
    "start_time": "2022-03-31T19:55:52.887Z"
   },
   {
    "duration": 111559,
    "start_time": "2022-03-31T19:55:53.908Z"
   },
   {
    "duration": 18,
    "start_time": "2022-03-31T19:57:45.470Z"
   },
   {
    "duration": 785,
    "start_time": "2022-03-31T19:57:45.491Z"
   },
   {
    "duration": 32,
    "start_time": "2022-03-31T19:57:46.278Z"
   },
   {
    "duration": 2163,
    "start_time": "2022-03-31T19:57:46.313Z"
   },
   {
    "duration": 92,
    "start_time": "2022-03-31T19:57:48.478Z"
   },
   {
    "duration": 156,
    "start_time": "2022-03-31T19:57:48.573Z"
   },
   {
    "duration": 64,
    "start_time": "2022-03-31T19:57:48.731Z"
   },
   {
    "duration": 87,
    "start_time": "2022-03-31T19:57:48.797Z"
   },
   {
    "duration": 344,
    "start_time": "2022-03-31T19:57:48.886Z"
   },
   {
    "duration": 49,
    "start_time": "2022-03-31T19:57:49.233Z"
   },
   {
    "duration": 25,
    "start_time": "2022-03-31T19:57:49.285Z"
   },
   {
    "duration": 7037,
    "start_time": "2022-03-31T19:57:49.313Z"
   },
   {
    "duration": 57,
    "start_time": "2022-03-31T19:57:56.353Z"
   },
   {
    "duration": 6635,
    "start_time": "2022-03-31T19:57:56.413Z"
   },
   {
    "duration": 126,
    "start_time": "2022-03-31T19:58:03.051Z"
   },
   {
    "duration": 199,
    "start_time": "2022-03-31T19:58:03.179Z"
   },
   {
    "duration": 18,
    "start_time": "2022-03-31T19:58:03.380Z"
   },
   {
    "duration": 26,
    "start_time": "2022-03-31T19:58:03.401Z"
   },
   {
    "duration": 128,
    "start_time": "2022-03-31T19:58:03.428Z"
   },
   {
    "duration": 30,
    "start_time": "2022-03-31T19:58:03.558Z"
   },
   {
    "duration": 909,
    "start_time": "2022-03-31T19:58:03.591Z"
   },
   {
    "duration": 17,
    "start_time": "2022-03-31T19:58:04.502Z"
   },
   {
    "duration": 233,
    "start_time": "2022-03-31T19:58:04.521Z"
   },
   {
    "duration": 2728,
    "start_time": "2022-04-03T03:36:40.377Z"
   },
   {
    "duration": 1758,
    "start_time": "2022-04-03T03:36:43.108Z"
   },
   {
    "duration": 2078,
    "start_time": "2022-04-03T03:36:44.868Z"
   },
   {
    "duration": 28,
    "start_time": "2022-04-03T03:36:46.949Z"
   },
   {
    "duration": 4,
    "start_time": "2022-04-03T03:36:46.978Z"
   },
   {
    "duration": 19,
    "start_time": "2022-04-03T03:36:46.984Z"
   },
   {
    "duration": 11,
    "start_time": "2022-04-03T03:36:47.005Z"
   },
   {
    "duration": 5,
    "start_time": "2022-04-03T03:37:10.737Z"
   },
   {
    "duration": 2404,
    "start_time": "2022-04-03T03:37:18.849Z"
   },
   {
    "duration": 5,
    "start_time": "2022-04-03T03:37:21.257Z"
   },
   {
    "duration": 1698,
    "start_time": "2022-04-03T03:37:21.264Z"
   },
   {
    "duration": 22,
    "start_time": "2022-04-03T03:37:22.965Z"
   },
   {
    "duration": 5,
    "start_time": "2022-04-03T03:37:27.681Z"
   },
   {
    "duration": 119,
    "start_time": "2022-04-03T03:38:58.193Z"
   },
   {
    "duration": 3,
    "start_time": "2022-04-03T03:39:04.109Z"
   },
   {
    "duration": 6,
    "start_time": "2022-04-03T03:39:11.905Z"
   },
   {
    "duration": 5,
    "start_time": "2022-04-03T03:39:30.286Z"
   },
   {
    "duration": 5,
    "start_time": "2022-04-03T03:39:59.602Z"
   },
   {
    "duration": 5,
    "start_time": "2022-04-03T03:40:13.006Z"
   },
   {
    "duration": 6,
    "start_time": "2022-04-03T03:40:21.097Z"
   },
   {
    "duration": 5,
    "start_time": "2022-04-03T03:40:32.381Z"
   },
   {
    "duration": 11,
    "start_time": "2022-04-03T03:41:02.250Z"
   },
   {
    "duration": 6,
    "start_time": "2022-04-03T03:41:10.673Z"
   },
   {
    "duration": 3,
    "start_time": "2022-04-03T03:41:26.203Z"
   },
   {
    "duration": 14,
    "start_time": "2022-04-03T03:42:16.158Z"
   },
   {
    "duration": 5,
    "start_time": "2022-04-03T03:42:44.970Z"
   },
   {
    "duration": 5,
    "start_time": "2022-04-03T03:42:53.906Z"
   },
   {
    "duration": 4,
    "start_time": "2022-04-03T03:43:16.694Z"
   },
   {
    "duration": 24,
    "start_time": "2022-04-03T03:43:23.274Z"
   },
   {
    "duration": 2364,
    "start_time": "2022-04-03T03:46:22.502Z"
   },
   {
    "duration": 1585,
    "start_time": "2022-04-03T03:46:24.868Z"
   },
   {
    "duration": 1518,
    "start_time": "2022-04-03T03:46:26.455Z"
   },
   {
    "duration": 36,
    "start_time": "2022-04-03T03:46:27.976Z"
   },
   {
    "duration": 3,
    "start_time": "2022-04-03T03:46:28.014Z"
   },
   {
    "duration": 6,
    "start_time": "2022-04-03T03:46:28.019Z"
   },
   {
    "duration": 7,
    "start_time": "2022-04-03T03:46:28.026Z"
   },
   {
    "duration": 114,
    "start_time": "2022-04-03T03:48:20.547Z"
   },
   {
    "duration": 2361,
    "start_time": "2022-04-03T03:48:27.385Z"
   },
   {
    "duration": 4,
    "start_time": "2022-04-03T03:48:29.749Z"
   },
   {
    "duration": 1427,
    "start_time": "2022-04-03T03:48:29.755Z"
   },
   {
    "duration": 29,
    "start_time": "2022-04-03T03:48:31.184Z"
   },
   {
    "duration": 4,
    "start_time": "2022-04-03T03:48:31.216Z"
   },
   {
    "duration": 10,
    "start_time": "2022-04-03T03:48:31.222Z"
   },
   {
    "duration": 10,
    "start_time": "2022-04-03T03:48:31.235Z"
   },
   {
    "duration": 70,
    "start_time": "2022-04-03T03:48:31.247Z"
   },
   {
    "duration": 11,
    "start_time": "2022-04-03T03:48:31.319Z"
   },
   {
    "duration": 345,
    "start_time": "2022-04-03T03:48:31.334Z"
   },
   {
    "duration": 272,
    "start_time": "2022-04-03T03:48:31.681Z"
   },
   {
    "duration": 50,
    "start_time": "2022-04-03T03:48:31.955Z"
   },
   {
    "duration": 138,
    "start_time": "2022-04-03T03:48:32.007Z"
   },
   {
    "duration": 150,
    "start_time": "2022-04-03T03:48:32.146Z"
   },
   {
    "duration": 5,
    "start_time": "2022-04-03T03:48:32.297Z"
   },
   {
    "duration": 8,
    "start_time": "2022-04-03T03:48:32.304Z"
   },
   {
    "duration": 18,
    "start_time": "2022-04-03T03:48:33.901Z"
   },
   {
    "duration": 206,
    "start_time": "2022-04-03T03:48:52.845Z"
   },
   {
    "duration": 15,
    "start_time": "2022-04-03T04:39:25.444Z"
   },
   {
    "duration": 14,
    "start_time": "2022-04-03T04:39:44.175Z"
   },
   {
    "duration": 14,
    "start_time": "2022-04-03T04:39:50.012Z"
   },
   {
    "duration": 2,
    "start_time": "2022-04-03T04:42:15.244Z"
   },
   {
    "duration": 3,
    "start_time": "2022-04-03T04:43:16.947Z"
   },
   {
    "duration": 10,
    "start_time": "2022-04-03T04:46:19.340Z"
   },
   {
    "duration": 4,
    "start_time": "2022-04-03T04:46:23.612Z"
   },
   {
    "duration": 4,
    "start_time": "2022-04-03T04:46:24.007Z"
   },
   {
    "duration": 134,
    "start_time": "2022-04-03T04:46:24.111Z"
   },
   {
    "duration": 9,
    "start_time": "2022-04-03T04:46:30.620Z"
   },
   {
    "duration": 143,
    "start_time": "2022-04-03T04:46:42.302Z"
   },
   {
    "duration": 11,
    "start_time": "2022-04-03T04:47:18.376Z"
   },
   {
    "duration": 225,
    "start_time": "2022-04-03T04:47:24.220Z"
   },
   {
    "duration": 4,
    "start_time": "2022-04-03T04:52:44.304Z"
   },
   {
    "duration": 3956,
    "start_time": "2022-04-03T04:52:47.712Z"
   },
   {
    "duration": 5,
    "start_time": "2022-04-03T04:53:24.796Z"
   },
   {
    "duration": 144163,
    "start_time": "2022-04-03T04:53:33.684Z"
   },
   {
    "duration": 2584,
    "start_time": "2022-04-03T04:56:25.484Z"
   },
   {
    "duration": 5,
    "start_time": "2022-04-03T04:56:28.070Z"
   },
   {
    "duration": 1624,
    "start_time": "2022-04-03T04:56:28.076Z"
   },
   {
    "duration": 26,
    "start_time": "2022-04-03T04:56:29.702Z"
   },
   {
    "duration": 7,
    "start_time": "2022-04-03T04:56:29.730Z"
   },
   {
    "duration": 5,
    "start_time": "2022-04-03T04:56:29.740Z"
   },
   {
    "duration": 7,
    "start_time": "2022-04-03T04:56:29.747Z"
   },
   {
    "duration": 70,
    "start_time": "2022-04-03T04:56:29.756Z"
   },
   {
    "duration": 4,
    "start_time": "2022-04-03T04:56:29.829Z"
   },
   {
    "duration": 352,
    "start_time": "2022-04-03T04:56:29.837Z"
   },
   {
    "duration": 252,
    "start_time": "2022-04-03T04:56:30.192Z"
   },
   {
    "duration": 41,
    "start_time": "2022-04-03T04:56:30.446Z"
   },
   {
    "duration": 139,
    "start_time": "2022-04-03T04:56:30.501Z"
   },
   {
    "duration": 142,
    "start_time": "2022-04-03T04:56:30.642Z"
   },
   {
    "duration": 3,
    "start_time": "2022-04-03T04:56:30.786Z"
   },
   {
    "duration": 13,
    "start_time": "2022-04-03T04:56:30.790Z"
   },
   {
    "duration": 17,
    "start_time": "2022-04-03T04:56:30.805Z"
   },
   {
    "duration": 8,
    "start_time": "2022-04-03T04:56:30.824Z"
   },
   {
    "duration": 17,
    "start_time": "2022-04-03T04:56:30.833Z"
   },
   {
    "duration": 13,
    "start_time": "2022-04-03T04:56:30.851Z"
   },
   {
    "duration": 19842,
    "start_time": "2022-04-03T04:56:38.404Z"
   },
   {
    "duration": 2490,
    "start_time": "2022-04-03T05:01:42.943Z"
   },
   {
    "duration": 6,
    "start_time": "2022-04-03T05:01:45.435Z"
   },
   {
    "duration": 1535,
    "start_time": "2022-04-03T05:01:45.442Z"
   },
   {
    "duration": 29,
    "start_time": "2022-04-03T05:01:46.979Z"
   },
   {
    "duration": 12,
    "start_time": "2022-04-03T05:01:47.010Z"
   },
   {
    "duration": 11,
    "start_time": "2022-04-03T05:01:47.024Z"
   },
   {
    "duration": 10,
    "start_time": "2022-04-03T05:01:47.037Z"
   },
   {
    "duration": 43,
    "start_time": "2022-04-03T05:01:47.049Z"
   },
   {
    "duration": 4,
    "start_time": "2022-04-03T05:01:47.101Z"
   },
   {
    "duration": 344,
    "start_time": "2022-04-03T05:01:47.108Z"
   },
   {
    "duration": 247,
    "start_time": "2022-04-03T05:01:47.454Z"
   },
   {
    "duration": 38,
    "start_time": "2022-04-03T05:01:47.703Z"
   },
   {
    "duration": 140,
    "start_time": "2022-04-03T05:01:47.743Z"
   },
   {
    "duration": 141,
    "start_time": "2022-04-03T05:01:47.885Z"
   },
   {
    "duration": 2,
    "start_time": "2022-04-03T05:01:48.028Z"
   },
   {
    "duration": 13,
    "start_time": "2022-04-03T05:01:48.032Z"
   },
   {
    "duration": 7,
    "start_time": "2022-04-03T05:01:48.046Z"
   },
   {
    "duration": 6,
    "start_time": "2022-04-03T05:01:48.054Z"
   },
   {
    "duration": 9,
    "start_time": "2022-04-03T05:01:48.062Z"
   },
   {
    "duration": 6,
    "start_time": "2022-04-03T05:01:48.073Z"
   },
   {
    "duration": 20510,
    "start_time": "2022-04-03T05:02:13.784Z"
   },
   {
    "duration": 87,
    "start_time": "2022-04-03T05:03:25.248Z"
   },
   {
    "duration": 2434,
    "start_time": "2022-04-03T05:05:28.366Z"
   },
   {
    "duration": 4,
    "start_time": "2022-04-03T05:05:30.803Z"
   },
   {
    "duration": 1423,
    "start_time": "2022-04-03T05:05:30.809Z"
   },
   {
    "duration": 25,
    "start_time": "2022-04-03T05:05:32.234Z"
   },
   {
    "duration": 10,
    "start_time": "2022-04-03T05:05:32.261Z"
   },
   {
    "duration": 7,
    "start_time": "2022-04-03T05:05:32.273Z"
   },
   {
    "duration": 6,
    "start_time": "2022-04-03T05:05:32.282Z"
   },
   {
    "duration": 50,
    "start_time": "2022-04-03T05:05:32.302Z"
   },
   {
    "duration": 4,
    "start_time": "2022-04-03T05:05:32.354Z"
   },
   {
    "duration": 347,
    "start_time": "2022-04-03T05:05:32.361Z"
   },
   {
    "duration": 246,
    "start_time": "2022-04-03T05:05:32.710Z"
   },
   {
    "duration": 48,
    "start_time": "2022-04-03T05:05:32.958Z"
   },
   {
    "duration": 133,
    "start_time": "2022-04-03T05:05:33.008Z"
   },
   {
    "duration": 142,
    "start_time": "2022-04-03T05:05:33.143Z"
   },
   {
    "duration": 3,
    "start_time": "2022-04-03T05:05:33.286Z"
   },
   {
    "duration": 13,
    "start_time": "2022-04-03T05:05:33.291Z"
   },
   {
    "duration": 10,
    "start_time": "2022-04-03T05:05:33.305Z"
   },
   {
    "duration": 14,
    "start_time": "2022-04-03T05:05:33.317Z"
   },
   {
    "duration": 14,
    "start_time": "2022-04-03T05:05:33.333Z"
   },
   {
    "duration": 8,
    "start_time": "2022-04-03T05:05:33.350Z"
   },
   {
    "duration": 19823,
    "start_time": "2022-04-03T05:05:44.064Z"
   },
   {
    "duration": 2427,
    "start_time": "2022-04-03T05:09:11.930Z"
   },
   {
    "duration": 1608,
    "start_time": "2022-04-03T05:09:14.360Z"
   },
   {
    "duration": 1587,
    "start_time": "2022-04-03T05:09:15.970Z"
   },
   {
    "duration": 27,
    "start_time": "2022-04-03T05:09:17.560Z"
   },
   {
    "duration": 12,
    "start_time": "2022-04-03T05:09:17.589Z"
   },
   {
    "duration": 3,
    "start_time": "2022-04-03T05:09:17.603Z"
   },
   {
    "duration": 6,
    "start_time": "2022-04-03T05:09:17.608Z"
   },
   {
    "duration": 55,
    "start_time": "2022-04-03T05:09:17.616Z"
   },
   {
    "duration": 4,
    "start_time": "2022-04-03T05:09:17.672Z"
   },
   {
    "duration": 362,
    "start_time": "2022-04-03T05:09:17.679Z"
   },
   {
    "duration": 265,
    "start_time": "2022-04-03T05:09:18.043Z"
   },
   {
    "duration": 37,
    "start_time": "2022-04-03T05:09:18.310Z"
   },
   {
    "duration": 150,
    "start_time": "2022-04-03T05:09:18.349Z"
   },
   {
    "duration": 139,
    "start_time": "2022-04-03T05:09:18.501Z"
   },
   {
    "duration": 3,
    "start_time": "2022-04-03T05:09:18.641Z"
   },
   {
    "duration": 11,
    "start_time": "2022-04-03T05:09:18.646Z"
   },
   {
    "duration": 5,
    "start_time": "2022-04-03T05:09:18.659Z"
   },
   {
    "duration": 5,
    "start_time": "2022-04-03T05:09:18.666Z"
   },
   {
    "duration": 6,
    "start_time": "2022-04-03T05:09:18.673Z"
   },
   {
    "duration": 20,
    "start_time": "2022-04-03T05:09:18.681Z"
   },
   {
    "duration": 20934,
    "start_time": "2022-04-03T05:09:18.703Z"
   },
   {
    "duration": 23,
    "start_time": "2022-04-03T05:09:39.639Z"
   },
   {
    "duration": 54,
    "start_time": "2022-04-03T05:09:39.664Z"
   },
   {
    "duration": 66,
    "start_time": "2022-04-03T05:09:39.720Z"
   },
   {
    "duration": 76,
    "start_time": "2022-04-03T05:09:39.788Z"
   },
   {
    "duration": 9,
    "start_time": "2022-04-03T05:09:39.866Z"
   },
   {
    "duration": 224,
    "start_time": "2022-04-03T05:09:39.877Z"
   },
   {
    "duration": 1563,
    "start_time": "2022-04-03T05:09:40.106Z"
   },
   {
    "duration": 30,
    "start_time": "2022-04-03T05:09:41.671Z"
   },
   {
    "duration": 209,
    "start_time": "2022-04-03T05:09:41.703Z"
   },
   {
    "duration": 25205,
    "start_time": "2022-04-03T05:09:41.914Z"
   },
   {
    "duration": 104,
    "start_time": "2022-04-03T05:10:07.200Z"
   },
   {
    "duration": 579,
    "start_time": "2022-04-03T05:10:07.306Z"
   },
   {
    "duration": 73395,
    "start_time": "2022-04-03T05:10:07.887Z"
   },
   {
    "duration": 19,
    "start_time": "2022-04-03T05:11:21.285Z"
   },
   {
    "duration": 429,
    "start_time": "2022-04-03T05:11:21.306Z"
   },
   {
    "duration": 19,
    "start_time": "2022-04-03T05:11:21.737Z"
   },
   {
    "duration": 1738,
    "start_time": "2022-04-03T05:11:21.758Z"
   },
   {
    "duration": 50,
    "start_time": "2022-04-03T05:11:23.501Z"
   },
   {
    "duration": 126,
    "start_time": "2022-04-03T05:11:23.553Z"
   },
   {
    "duration": 48,
    "start_time": "2022-04-03T05:11:23.681Z"
   },
   {
    "duration": 8,
    "start_time": "2022-04-03T05:11:23.730Z"
   },
   {
    "duration": 29,
    "start_time": "2022-04-03T05:11:23.739Z"
   },
   {
    "duration": 39,
    "start_time": "2022-04-03T05:11:23.770Z"
   },
   {
    "duration": 4951,
    "start_time": "2022-04-03T05:11:23.811Z"
   },
   {
    "duration": 38,
    "start_time": "2022-04-03T05:11:28.764Z"
   },
   {
    "duration": 5434,
    "start_time": "2022-04-03T05:11:28.804Z"
   },
   {
    "duration": 3,
    "start_time": "2022-04-03T05:11:34.240Z"
   },
   {
    "duration": 216,
    "start_time": "2022-04-03T05:11:34.244Z"
   },
   {
    "duration": 15,
    "start_time": "2022-04-03T05:11:34.462Z"
   },
   {
    "duration": 81,
    "start_time": "2022-04-03T05:11:34.479Z"
   },
   {
    "duration": 20,
    "start_time": "2022-04-03T05:11:34.562Z"
   },
   {
    "duration": 1379,
    "start_time": "2022-04-03T05:11:34.584Z"
   },
   {
    "duration": 20,
    "start_time": "2022-04-03T05:11:35.965Z"
   },
   {
    "duration": 192,
    "start_time": "2022-04-03T05:11:36.000Z"
   },
   {
    "duration": 9,
    "start_time": "2022-04-03T05:11:36.194Z"
   },
   {
    "duration": 12,
    "start_time": "2022-04-03T05:11:36.205Z"
   },
   {
    "duration": 24490,
    "start_time": "2022-04-03T05:11:36.219Z"
   },
   {
    "duration": 94,
    "start_time": "2022-04-03T05:12:00.712Z"
   },
   {
    "duration": 116,
    "start_time": "2022-04-03T05:12:00.809Z"
   },
   {
    "duration": 437676,
    "start_time": "2022-04-03T05:12:00.927Z"
   },
   {
    "duration": 97,
    "start_time": "2022-04-03T05:19:18.606Z"
   },
   {
    "duration": 6,
    "start_time": "2022-04-03T05:19:18.705Z"
   },
   {
    "duration": 35220,
    "start_time": "2022-04-03T05:19:18.713Z"
   },
   {
    "duration": 6,
    "start_time": "2022-04-03T05:19:54.003Z"
   },
   {
    "duration": 4201,
    "start_time": "2022-04-03T05:19:54.100Z"
   },
   {
    "duration": 98,
    "start_time": "2022-04-03T05:19:58.304Z"
   },
   {
    "duration": 6,
    "start_time": "2022-04-03T05:19:58.404Z"
   },
   {
    "duration": 157893,
    "start_time": "2022-04-03T05:19:58.412Z"
   },
   {
    "duration": 201,
    "start_time": "2022-04-03T05:22:36.307Z"
   },
   {
    "duration": 11191,
    "start_time": "2022-04-03T05:22:36.510Z"
   },
   {
    "duration": 8,
    "start_time": "2022-04-03T05:22:47.704Z"
   },
   {
    "duration": 11,
    "start_time": "2022-04-03T05:22:47.800Z"
   },
   {
    "duration": 35477,
    "start_time": "2022-04-03T05:22:47.813Z"
   },
   {
    "duration": 15,
    "start_time": "2022-04-03T05:23:23.292Z"
   },
   {
    "duration": 7,
    "start_time": "2022-04-03T05:23:23.309Z"
   },
   {
    "duration": 221423,
    "start_time": "2022-04-03T05:23:23.318Z"
   },
   {
    "duration": 37514,
    "start_time": "2022-04-03T05:27:04.743Z"
   },
   {
    "duration": 6,
    "start_time": "2022-04-03T05:27:42.259Z"
   },
   {
    "duration": 18,
    "start_time": "2022-04-03T05:27:42.267Z"
   },
   {
    "duration": 1938224,
    "start_time": "2022-04-03T05:27:42.287Z"
   },
   {
    "duration": 18,
    "start_time": "2022-04-03T06:00:00.518Z"
   },
   {
    "duration": 89574,
    "start_time": "2022-04-03T06:00:00.538Z"
   },
   {
    "duration": 6,
    "start_time": "2022-04-03T06:01:30.114Z"
   },
   {
    "duration": 16,
    "start_time": "2022-04-03T06:01:30.122Z"
   },
   {
    "duration": 12,
    "start_time": "2022-04-03T06:01:30.140Z"
   },
   {
    "duration": 40701,
    "start_time": "2022-04-03T06:07:51.403Z"
   }
  ],
  "kernelspec": {
   "display_name": "Python 3",
   "language": "python",
   "name": "python3"
  },
  "language_info": {
   "codemirror_mode": {
    "name": "ipython",
    "version": 3
   },
   "file_extension": ".py",
   "mimetype": "text/x-python",
   "name": "python",
   "nbconvert_exporter": "python",
   "pygments_lexer": "ipython3",
   "version": "3.8.5"
  },
  "latex_envs": {
   "LaTeX_envs_menu_present": true,
   "autoclose": true,
   "autocomplete": true,
   "bibliofile": "biblio.bib",
   "cite_by": "apalike",
   "current_citInitial": 1,
   "eqLabelWithNumbers": true,
   "eqNumInitial": 1,
   "hotkeys": {
    "equation": "Ctrl-E",
    "itemize": "Ctrl-I"
   },
   "labels_anchors": false,
   "latex_user_defs": false,
   "report_style_numbering": true,
   "user_envs_cfg": false
  },
  "toc": {
   "base_numbering": 1,
   "nav_menu": {},
   "number_sections": true,
   "sideBar": true,
   "skip_h1_title": false,
   "title_cell": "Table of Contents",
   "title_sidebar": "Contents",
   "toc_cell": true,
   "toc_position": {
    "height": "621.778px",
    "left": "55px",
    "top": "190.139px",
    "width": "341.306px"
   },
   "toc_section_display": true,
   "toc_window_display": true
  }
 },
 "nbformat": 4,
 "nbformat_minor": 4
}