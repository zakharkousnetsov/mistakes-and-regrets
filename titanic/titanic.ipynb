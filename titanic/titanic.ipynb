{
 "cells": [
  {
   "cell_type": "code",
   "execution_count": 38,
   "metadata": {
    "collapsed": true,
    "pycharm": {
     "name": "#%%\n"
    }
   },
   "outputs": [],
   "source": [
    "import pandas as pd\n",
    "import matplotlib.pyplot as plt\n",
    "import seaborn as sns\n",
    "from sklearn.compose import ColumnTransformer\n",
    "from sklearn.experimental import enable_iterative_imputer\n",
    "from sklearn.impute import SimpleImputer, IterativeImputer\n",
    "from sklearn.preprocessing import StandardScaler, OneHotEncoder\n",
    "from sklearn.pipeline import Pipeline\n",
    "from sklearn.compose import make_column_selector as selector\n",
    "from sklearn.linear_model import LogisticRegression\n",
    "from sklearn.model_selection import cross_val_score\n",
    "from sklearn.model_selection import GridSearchCV"
   ]
  },
  {
   "cell_type": "markdown",
   "source": [
    "# Импорт библиотек"
   ],
   "metadata": {
    "collapsed": false,
    "pycharm": {
     "name": "#%% md\n"
    }
   }
  },
  {
   "cell_type": "code",
   "execution_count": 39,
   "outputs": [
    {
     "data": {
      "text/plain": "     PassengerId  Survived  Pclass  \\\n120          121         0       2   \n571          572         1       1   \n71            72         0       3   \n\n                                              Name     Sex   Age  SibSp  \\\n120                    Hickman, Mr. Stanley George    male  21.0      2   \n571  Appleton, Mrs. Edward Dale (Charlotte Lamson)  female  53.0      2   \n71                      Goodwin, Miss. Lillian Amy  female  16.0      5   \n\n     Parch        Ticket     Fare Cabin Embarked  \n120      0  S.O.C. 14879  73.5000   NaN        S  \n571      0         11769  51.4792  C101        S  \n71       2       CA 2144  46.9000   NaN        S  ",
      "text/html": "<div>\n<style scoped>\n    .dataframe tbody tr th:only-of-type {\n        vertical-align: middle;\n    }\n\n    .dataframe tbody tr th {\n        vertical-align: top;\n    }\n\n    .dataframe thead th {\n        text-align: right;\n    }\n</style>\n<table border=\"1\" class=\"dataframe\">\n  <thead>\n    <tr style=\"text-align: right;\">\n      <th></th>\n      <th>PassengerId</th>\n      <th>Survived</th>\n      <th>Pclass</th>\n      <th>Name</th>\n      <th>Sex</th>\n      <th>Age</th>\n      <th>SibSp</th>\n      <th>Parch</th>\n      <th>Ticket</th>\n      <th>Fare</th>\n      <th>Cabin</th>\n      <th>Embarked</th>\n    </tr>\n  </thead>\n  <tbody>\n    <tr>\n      <th>120</th>\n      <td>121</td>\n      <td>0</td>\n      <td>2</td>\n      <td>Hickman, Mr. Stanley George</td>\n      <td>male</td>\n      <td>21.0</td>\n      <td>2</td>\n      <td>0</td>\n      <td>S.O.C. 14879</td>\n      <td>73.5000</td>\n      <td>NaN</td>\n      <td>S</td>\n    </tr>\n    <tr>\n      <th>571</th>\n      <td>572</td>\n      <td>1</td>\n      <td>1</td>\n      <td>Appleton, Mrs. Edward Dale (Charlotte Lamson)</td>\n      <td>female</td>\n      <td>53.0</td>\n      <td>2</td>\n      <td>0</td>\n      <td>11769</td>\n      <td>51.4792</td>\n      <td>C101</td>\n      <td>S</td>\n    </tr>\n    <tr>\n      <th>71</th>\n      <td>72</td>\n      <td>0</td>\n      <td>3</td>\n      <td>Goodwin, Miss. Lillian Amy</td>\n      <td>female</td>\n      <td>16.0</td>\n      <td>5</td>\n      <td>2</td>\n      <td>CA 2144</td>\n      <td>46.9000</td>\n      <td>NaN</td>\n      <td>S</td>\n    </tr>\n  </tbody>\n</table>\n</div>"
     },
     "execution_count": 39,
     "metadata": {},
     "output_type": "execute_result"
    }
   ],
   "source": [
    "df = pd.read_csv('train.csv')\n",
    "test = pd.read_csv('test.csv')\n",
    "df.sample(3)"
   ],
   "metadata": {
    "collapsed": false,
    "pycharm": {
     "name": "#%%\n"
    }
   }
  },
  {
   "cell_type": "markdown",
   "source": [
    "## Выставление настроек"
   ],
   "metadata": {
    "collapsed": false,
    "pycharm": {
     "name": "#%% md\n"
    }
   }
  },
  {
   "cell_type": "code",
   "execution_count": 40,
   "outputs": [
    {
     "data": {
      "text/plain": "4"
     },
     "execution_count": 40,
     "metadata": {},
     "output_type": "execute_result"
    }
   ],
   "source": [
    "2+2"
   ],
   "metadata": {
    "collapsed": false,
    "pycharm": {
     "name": "#%%\n"
    }
   }
  },
  {
   "cell_type": "code",
   "execution_count": 40,
   "outputs": [],
   "source": [],
   "metadata": {
    "collapsed": false,
    "pycharm": {
     "name": "#%%\n"
    }
   }
  },
  {
   "cell_type": "markdown",
   "source": [
    "# Обработка данных"
   ],
   "metadata": {
    "collapsed": false,
    "pycharm": {
     "name": "#%% md\n"
    }
   }
  },
  {
   "cell_type": "markdown",
   "source": [
    "Начнем с того, что приведем все названия колонок к \"змеиной нотации\""
   ],
   "metadata": {
    "collapsed": false,
    "pycharm": {
     "name": "#%% md\n"
    }
   }
  },
  {
   "cell_type": "code",
   "execution_count": 41,
   "outputs": [],
   "source": [
    "df.columns = df.columns.str.lower()\n",
    "test.columns = test.columns.str.lower()"
   ],
   "metadata": {
    "collapsed": false,
    "pycharm": {
     "name": "#%%\n"
    }
   }
  },
  {
   "cell_type": "markdown",
   "source": [
    "Переведем колонку с индексом в индекс датафрейма"
   ],
   "metadata": {
    "collapsed": false,
    "pycharm": {
     "name": "#%% md\n"
    }
   }
  },
  {
   "cell_type": "code",
   "execution_count": 42,
   "outputs": [],
   "source": [
    "df = df.set_index('passengerid')\n",
    "test = test.set_index('passengerid')"
   ],
   "metadata": {
    "collapsed": false,
    "pycharm": {
     "name": "#%%\n"
    }
   }
  },
  {
   "cell_type": "markdown",
   "source": [
    "Выведем общую информацию об обучающем и тестовом датасетах"
   ],
   "metadata": {
    "collapsed": false,
    "pycharm": {
     "name": "#%% md\n"
    }
   }
  },
  {
   "cell_type": "code",
   "execution_count": 43,
   "outputs": [],
   "source": [
    "def full_info(df):\n",
    "    display(pd.DataFrame({'Non-Null Count': (~df.isna()).sum(),\n",
    "                          'Null Count': df.isna().sum(),\n",
    "                          'Dtype': df.dtypes}).join(df.describe().T).rename_axis('Feature', axis=1).fillna(''))"
   ],
   "metadata": {
    "collapsed": false,
    "pycharm": {
     "name": "#%%\n"
    }
   }
  },
  {
   "cell_type": "code",
   "execution_count": 44,
   "outputs": [
    {
     "data": {
      "text/plain": "Feature   Non-Null Count  Null Count    Dtype  count       mean        std  \\\nsurvived             891           0    int64  891.0   0.383838   0.486592   \npclass               891           0    int64  891.0   2.308642   0.836071   \nname                 891           0   object                                \nsex                  891           0   object                                \nage                  714         177  float64  714.0  29.699118  14.526497   \nsibsp                891           0    int64  891.0   0.523008   1.102743   \nparch                891           0    int64  891.0   0.381594   0.806057   \nticket               891           0   object                                \nfare                 891           0  float64  891.0  32.204208  49.693429   \ncabin                204         687   object                                \nembarked             889           2   object                                \n\nFeature    min     25%      50%   75%       max  \nsurvived   0.0     0.0      0.0   1.0       1.0  \npclass     1.0     2.0      3.0   3.0       3.0  \nname                                             \nsex                                              \nage       0.42  20.125     28.0  38.0      80.0  \nsibsp      0.0     0.0      0.0   1.0       8.0  \nparch      0.0     0.0      0.0   0.0       6.0  \nticket                                           \nfare       0.0  7.9104  14.4542  31.0  512.3292  \ncabin                                            \nembarked                                         ",
      "text/html": "<div>\n<style scoped>\n    .dataframe tbody tr th:only-of-type {\n        vertical-align: middle;\n    }\n\n    .dataframe tbody tr th {\n        vertical-align: top;\n    }\n\n    .dataframe thead th {\n        text-align: right;\n    }\n</style>\n<table border=\"1\" class=\"dataframe\">\n  <thead>\n    <tr style=\"text-align: right;\">\n      <th>Feature</th>\n      <th>Non-Null Count</th>\n      <th>Null Count</th>\n      <th>Dtype</th>\n      <th>count</th>\n      <th>mean</th>\n      <th>std</th>\n      <th>min</th>\n      <th>25%</th>\n      <th>50%</th>\n      <th>75%</th>\n      <th>max</th>\n    </tr>\n  </thead>\n  <tbody>\n    <tr>\n      <th>survived</th>\n      <td>891</td>\n      <td>0</td>\n      <td>int64</td>\n      <td>891.0</td>\n      <td>0.383838</td>\n      <td>0.486592</td>\n      <td>0.0</td>\n      <td>0.0</td>\n      <td>0.0</td>\n      <td>1.0</td>\n      <td>1.0</td>\n    </tr>\n    <tr>\n      <th>pclass</th>\n      <td>891</td>\n      <td>0</td>\n      <td>int64</td>\n      <td>891.0</td>\n      <td>2.308642</td>\n      <td>0.836071</td>\n      <td>1.0</td>\n      <td>2.0</td>\n      <td>3.0</td>\n      <td>3.0</td>\n      <td>3.0</td>\n    </tr>\n    <tr>\n      <th>name</th>\n      <td>891</td>\n      <td>0</td>\n      <td>object</td>\n      <td></td>\n      <td></td>\n      <td></td>\n      <td></td>\n      <td></td>\n      <td></td>\n      <td></td>\n      <td></td>\n    </tr>\n    <tr>\n      <th>sex</th>\n      <td>891</td>\n      <td>0</td>\n      <td>object</td>\n      <td></td>\n      <td></td>\n      <td></td>\n      <td></td>\n      <td></td>\n      <td></td>\n      <td></td>\n      <td></td>\n    </tr>\n    <tr>\n      <th>age</th>\n      <td>714</td>\n      <td>177</td>\n      <td>float64</td>\n      <td>714.0</td>\n      <td>29.699118</td>\n      <td>14.526497</td>\n      <td>0.42</td>\n      <td>20.125</td>\n      <td>28.0</td>\n      <td>38.0</td>\n      <td>80.0</td>\n    </tr>\n    <tr>\n      <th>sibsp</th>\n      <td>891</td>\n      <td>0</td>\n      <td>int64</td>\n      <td>891.0</td>\n      <td>0.523008</td>\n      <td>1.102743</td>\n      <td>0.0</td>\n      <td>0.0</td>\n      <td>0.0</td>\n      <td>1.0</td>\n      <td>8.0</td>\n    </tr>\n    <tr>\n      <th>parch</th>\n      <td>891</td>\n      <td>0</td>\n      <td>int64</td>\n      <td>891.0</td>\n      <td>0.381594</td>\n      <td>0.806057</td>\n      <td>0.0</td>\n      <td>0.0</td>\n      <td>0.0</td>\n      <td>0.0</td>\n      <td>6.0</td>\n    </tr>\n    <tr>\n      <th>ticket</th>\n      <td>891</td>\n      <td>0</td>\n      <td>object</td>\n      <td></td>\n      <td></td>\n      <td></td>\n      <td></td>\n      <td></td>\n      <td></td>\n      <td></td>\n      <td></td>\n    </tr>\n    <tr>\n      <th>fare</th>\n      <td>891</td>\n      <td>0</td>\n      <td>float64</td>\n      <td>891.0</td>\n      <td>32.204208</td>\n      <td>49.693429</td>\n      <td>0.0</td>\n      <td>7.9104</td>\n      <td>14.4542</td>\n      <td>31.0</td>\n      <td>512.3292</td>\n    </tr>\n    <tr>\n      <th>cabin</th>\n      <td>204</td>\n      <td>687</td>\n      <td>object</td>\n      <td></td>\n      <td></td>\n      <td></td>\n      <td></td>\n      <td></td>\n      <td></td>\n      <td></td>\n      <td></td>\n    </tr>\n    <tr>\n      <th>embarked</th>\n      <td>889</td>\n      <td>2</td>\n      <td>object</td>\n      <td></td>\n      <td></td>\n      <td></td>\n      <td></td>\n      <td></td>\n      <td></td>\n      <td></td>\n      <td></td>\n    </tr>\n  </tbody>\n</table>\n</div>"
     },
     "metadata": {},
     "output_type": "display_data"
    }
   ],
   "source": [
    "full_info(df)"
   ],
   "metadata": {
    "collapsed": false,
    "pycharm": {
     "name": "#%%\n"
    }
   }
  },
  {
   "cell_type": "code",
   "execution_count": 45,
   "outputs": [
    {
     "data": {
      "text/plain": "Feature   Non-Null Count  Null Count    Dtype  count       mean        std  \\\npclass               418           0    int64  418.0    2.26555   0.841838   \nname                 418           0   object                                \nsex                  418           0   object                                \nage                  332          86  float64  332.0   30.27259  14.181209   \nsibsp                418           0    int64  418.0   0.447368    0.89676   \nparch                418           0    int64  418.0   0.392344   0.981429   \nticket               418           0   object                                \nfare                 417           1  float64  417.0  35.627188  55.907576   \ncabin                 91         327   object                                \nembarked             418           0   object                                \n\nFeature    min     25%      50%   75%       max  \npclass     1.0     1.0      3.0   3.0       3.0  \nname                                             \nsex                                              \nage       0.17    21.0     27.0  39.0      76.0  \nsibsp      0.0     0.0      0.0   1.0       8.0  \nparch      0.0     0.0      0.0   0.0       9.0  \nticket                                           \nfare       0.0  7.8958  14.4542  31.5  512.3292  \ncabin                                            \nembarked                                         ",
      "text/html": "<div>\n<style scoped>\n    .dataframe tbody tr th:only-of-type {\n        vertical-align: middle;\n    }\n\n    .dataframe tbody tr th {\n        vertical-align: top;\n    }\n\n    .dataframe thead th {\n        text-align: right;\n    }\n</style>\n<table border=\"1\" class=\"dataframe\">\n  <thead>\n    <tr style=\"text-align: right;\">\n      <th>Feature</th>\n      <th>Non-Null Count</th>\n      <th>Null Count</th>\n      <th>Dtype</th>\n      <th>count</th>\n      <th>mean</th>\n      <th>std</th>\n      <th>min</th>\n      <th>25%</th>\n      <th>50%</th>\n      <th>75%</th>\n      <th>max</th>\n    </tr>\n  </thead>\n  <tbody>\n    <tr>\n      <th>pclass</th>\n      <td>418</td>\n      <td>0</td>\n      <td>int64</td>\n      <td>418.0</td>\n      <td>2.26555</td>\n      <td>0.841838</td>\n      <td>1.0</td>\n      <td>1.0</td>\n      <td>3.0</td>\n      <td>3.0</td>\n      <td>3.0</td>\n    </tr>\n    <tr>\n      <th>name</th>\n      <td>418</td>\n      <td>0</td>\n      <td>object</td>\n      <td></td>\n      <td></td>\n      <td></td>\n      <td></td>\n      <td></td>\n      <td></td>\n      <td></td>\n      <td></td>\n    </tr>\n    <tr>\n      <th>sex</th>\n      <td>418</td>\n      <td>0</td>\n      <td>object</td>\n      <td></td>\n      <td></td>\n      <td></td>\n      <td></td>\n      <td></td>\n      <td></td>\n      <td></td>\n      <td></td>\n    </tr>\n    <tr>\n      <th>age</th>\n      <td>332</td>\n      <td>86</td>\n      <td>float64</td>\n      <td>332.0</td>\n      <td>30.27259</td>\n      <td>14.181209</td>\n      <td>0.17</td>\n      <td>21.0</td>\n      <td>27.0</td>\n      <td>39.0</td>\n      <td>76.0</td>\n    </tr>\n    <tr>\n      <th>sibsp</th>\n      <td>418</td>\n      <td>0</td>\n      <td>int64</td>\n      <td>418.0</td>\n      <td>0.447368</td>\n      <td>0.89676</td>\n      <td>0.0</td>\n      <td>0.0</td>\n      <td>0.0</td>\n      <td>1.0</td>\n      <td>8.0</td>\n    </tr>\n    <tr>\n      <th>parch</th>\n      <td>418</td>\n      <td>0</td>\n      <td>int64</td>\n      <td>418.0</td>\n      <td>0.392344</td>\n      <td>0.981429</td>\n      <td>0.0</td>\n      <td>0.0</td>\n      <td>0.0</td>\n      <td>0.0</td>\n      <td>9.0</td>\n    </tr>\n    <tr>\n      <th>ticket</th>\n      <td>418</td>\n      <td>0</td>\n      <td>object</td>\n      <td></td>\n      <td></td>\n      <td></td>\n      <td></td>\n      <td></td>\n      <td></td>\n      <td></td>\n      <td></td>\n    </tr>\n    <tr>\n      <th>fare</th>\n      <td>417</td>\n      <td>1</td>\n      <td>float64</td>\n      <td>417.0</td>\n      <td>35.627188</td>\n      <td>55.907576</td>\n      <td>0.0</td>\n      <td>7.8958</td>\n      <td>14.4542</td>\n      <td>31.5</td>\n      <td>512.3292</td>\n    </tr>\n    <tr>\n      <th>cabin</th>\n      <td>91</td>\n      <td>327</td>\n      <td>object</td>\n      <td></td>\n      <td></td>\n      <td></td>\n      <td></td>\n      <td></td>\n      <td></td>\n      <td></td>\n      <td></td>\n    </tr>\n    <tr>\n      <th>embarked</th>\n      <td>418</td>\n      <td>0</td>\n      <td>object</td>\n      <td></td>\n      <td></td>\n      <td></td>\n      <td></td>\n      <td></td>\n      <td></td>\n      <td></td>\n      <td></td>\n    </tr>\n  </tbody>\n</table>\n</div>"
     },
     "metadata": {},
     "output_type": "display_data"
    }
   ],
   "source": [
    "full_info(test)"
   ],
   "metadata": {
    "collapsed": false,
    "pycharm": {
     "name": "#%%\n"
    }
   }
  },
  {
   "cell_type": "markdown",
   "source": [
    "Выводы следующие:\n",
    "* В обучающем датасете 891 наблюдение\n",
    "* Пропуски есть в колонках с возрастом и номером кабины(?). Пропуски есть также и в тестовом датасете, поэтому модель должна уметь работать с ними\n",
    "* Не все типы данных оптимальны\n",
    "* есть небольшой дисбаланс в пользу погибших"
   ],
   "metadata": {
    "collapsed": false,
    "pycharm": {
     "name": "#%% md\n"
    }
   }
  },
  {
   "cell_type": "markdown",
   "source": [
    "Удалим признак с номером кабины, так как восстановить эту информацию и использовать далее не удастся"
   ],
   "metadata": {
    "collapsed": false,
    "pycharm": {
     "name": "#%% md\n"
    }
   }
  },
  {
   "cell_type": "code",
   "execution_count": 46,
   "outputs": [],
   "source": [
    "try:\n",
    "    df = df.drop('cabin', axis=1)\n",
    "    test = test.drop('cabin', axis=1)\n",
    "except:\n",
    "    print('Признака уже нет')"
   ],
   "metadata": {
    "collapsed": false,
    "pycharm": {
     "name": "#%%\n"
    }
   }
  },
  {
   "cell_type": "markdown",
   "source": [
    "Поменяем типы данных"
   ],
   "metadata": {
    "collapsed": false,
    "pycharm": {
     "name": "#%% md\n"
    }
   }
  },
  {
   "cell_type": "code",
   "execution_count": 47,
   "outputs": [],
   "source": [
    "df['pclass'] = df['pclass'].replace({1: 'first', 2: 'second', 3: 'third'})\n",
    "test['pclass'] = test['pclass'].replace({1: 'first', 2: 'second', 3: 'third'})"
   ],
   "metadata": {
    "collapsed": false,
    "pycharm": {
     "name": "#%%\n"
    }
   }
  },
  {
   "cell_type": "code",
   "execution_count": 48,
   "outputs": [],
   "source": [
    "df['sex'] = df['sex'].replace({'male': 0, 'female': 1}).astype('bool')\n",
    "test['sex'] = test['sex'].replace({'male': 0, 'female': 1}).astype('bool')"
   ],
   "metadata": {
    "collapsed": false,
    "pycharm": {
     "name": "#%%\n"
    }
   }
  },
  {
   "cell_type": "markdown",
   "source": [
    "Добавим новый признак, равный длине имени. Позже проверим, как это влияет на шансы выжить"
   ],
   "metadata": {
    "collapsed": false,
    "pycharm": {
     "name": "#%% md\n"
    }
   }
  },
  {
   "cell_type": "code",
   "execution_count": 49,
   "outputs": [],
   "source": [
    "df['name_length'] = df['name'].apply(len)\n",
    "test['name_length'] = test['name'].apply(len)"
   ],
   "metadata": {
    "collapsed": false,
    "pycharm": {
     "name": "#%%\n"
    }
   }
  },
  {
   "cell_type": "markdown",
   "source": [
    "Посмотрим на признак \"номер билета\""
   ],
   "metadata": {
    "collapsed": false,
    "pycharm": {
     "name": "#%% md\n"
    }
   }
  },
  {
   "cell_type": "code",
   "execution_count": 50,
   "outputs": [
    {
     "data": {
      "text/plain": "ticket\n347082      7\nCA. 2343    7\n1601        7\n3101295     6\nCA 2144     6\n           ..\n9234        1\n19988       1\n2693        1\nPC 17612    1\n370376      1\nName: count, Length: 681, dtype: int64"
     },
     "execution_count": 50,
     "metadata": {},
     "output_type": "execute_result"
    }
   ],
   "source": [
    "df['ticket'].value_counts()"
   ],
   "metadata": {
    "collapsed": false,
    "pycharm": {
     "name": "#%%\n"
    }
   }
  },
  {
   "cell_type": "markdown",
   "source": [
    "Совпадающих значений мало, удалим признак"
   ],
   "metadata": {
    "collapsed": false,
    "pycharm": {
     "name": "#%% md\n"
    }
   }
  },
  {
   "cell_type": "code",
   "execution_count": 51,
   "outputs": [],
   "source": [
    "df = df.drop('ticket', axis=1)\n",
    "test = test.drop('ticket', axis=1)"
   ],
   "metadata": {
    "collapsed": false,
    "pycharm": {
     "name": "#%%\n"
    }
   }
  },
  {
   "cell_type": "markdown",
   "source": [
    "# Исследование данных"
   ],
   "metadata": {
    "collapsed": false,
    "pycharm": {
     "name": "#%% md\n"
    }
   }
  },
  {
   "cell_type": "markdown",
   "source": [
    "Построим по порядку для всех признаков графики, позволяющие пока визуально оценить влияние признака на целевую переменную"
   ],
   "metadata": {
    "collapsed": false,
    "pycharm": {
     "name": "#%% md\n"
    }
   }
  },
  {
   "cell_type": "markdown",
   "source": [
    "## Номер класса"
   ],
   "metadata": {
    "collapsed": false,
    "pycharm": {
     "name": "#%% md\n"
    }
   }
  },
  {
   "cell_type": "code",
   "execution_count": 52,
   "outputs": [
    {
     "data": {
      "text/plain": "pclass  survived\nfirst   1           0.63\n        0           0.37\nsecond  0           0.53\n        1           0.47\nthird   0           0.76\n        1           0.24\nName: proportion, dtype: float64"
     },
     "execution_count": 52,
     "metadata": {},
     "output_type": "execute_result"
    }
   ],
   "source": [
    "df.groupby('pclass')['survived'].value_counts(normalize=True).round(2)"
   ],
   "metadata": {
    "collapsed": false,
    "pycharm": {
     "name": "#%%\n"
    }
   }
  },
  {
   "cell_type": "code",
   "execution_count": 53,
   "outputs": [
    {
     "data": {
      "text/plain": "<Figure size 1600x600 with 2 Axes>",
      "image/png": "[encoded data removed]"
     },
     "metadata": {},
     "output_type": "display_data"
    }
   ],
   "source": [
    "fig, [ax1, ax2] = plt.subplots(1, 2, figsize=(16, 6))\n",
    "\n",
    "plt.suptitle('Барчарты выживаемости для пассажиров разного класса')\n",
    "df.groupby(['pclass', 'survived'])['survived'].value_counts().unstack().plot.barh(ax=ax1);\n",
    "ax1.legend(loc='lower right');\n",
    "ax1.set_title('матплотлиб')\n",
    "\n",
    "sns.barplot(data=df.groupby(['pclass', 'survived'])['survived'].value_counts().reset_index(),\n",
    "            y='pclass',\n",
    "            order=['third', 'second', 'first'],\n",
    "            x='count',\n",
    "            hue='survived',\n",
    "            # hue_order=[0, 1],\n",
    "            orient='h',\n",
    "            ax=ax2);\n",
    "ax2.set_title('сиборн');"
   ],
   "metadata": {
    "collapsed": false,
    "pycharm": {
     "name": "#%%\n"
    }
   }
  },
  {
   "cell_type": "markdown",
   "source": [
    "Предсказуемо, шансы выжить у пассажиров первого класса были выше"
   ],
   "metadata": {
    "collapsed": false,
    "pycharm": {
     "name": "#%% md\n"
    }
   }
  },
  {
   "cell_type": "markdown",
   "source": [
    "## Имя\n",
    "\n",
    "Проверим, существует ли связь между длиной имени и вероятностью выжить."
   ],
   "metadata": {
    "collapsed": false,
    "pycharm": {
     "name": "#%% md\n"
    }
   }
  },
  {
   "cell_type": "code",
   "execution_count": 54,
   "outputs": [
    {
     "data": {
      "text/plain": "<Figure size 640x480 with 1 Axes>",
      "image/png": "[encoded data removed]"
     },
     "metadata": {},
     "output_type": "display_data"
    }
   ],
   "source": [
    "df.groupby('survived')['name_length'].plot(bins=20, alpha=0.5, kind='hist', grid=False);\n",
    "plt.legend();\n",
    "plt.title('Зависимость длины имени от вероятности выжить')\n",
    "plt.xlabel('Длина имени в билете');"
   ],
   "metadata": {
    "collapsed": false,
    "pycharm": {
     "name": "#%%\n"
    }
   }
  },
  {
   "cell_type": "markdown",
   "source": [
    "Удалим признак с именем"
   ],
   "metadata": {
    "collapsed": false,
    "pycharm": {
     "name": "#%% md\n"
    }
   }
  },
  {
   "cell_type": "code",
   "execution_count": 55,
   "outputs": [],
   "source": [
    "df = df.drop('name', axis=1)"
   ],
   "metadata": {
    "collapsed": false,
    "pycharm": {
     "name": "#%%\n"
    }
   }
  },
  {
   "cell_type": "markdown",
   "source": [
    "## Пол"
   ],
   "metadata": {
    "collapsed": false,
    "pycharm": {
     "name": "#%% md\n"
    }
   }
  },
  {
   "cell_type": "code",
   "execution_count": 56,
   "outputs": [
    {
     "data": {
      "text/plain": "<Figure size 640x480 with 2 Axes>",
      "image/png": "[encoded data removed]"
     },
     "metadata": {},
     "output_type": "display_data"
    }
   ],
   "source": [
    "sns.heatmap(df.groupby(['sex', 'survived'])['survived'].count().unstack(), annot=True, fmt='.3g');"
   ],
   "metadata": {
    "collapsed": false,
    "pycharm": {
     "name": "#%%\n"
    }
   }
  },
  {
   "cell_type": "markdown",
   "source": [
    "Среди женщин выжило примерно 75%, среди мужчин - 20%"
   ],
   "metadata": {
    "collapsed": false,
    "pycharm": {
     "name": "#%% md\n"
    }
   }
  },
  {
   "cell_type": "markdown",
   "source": [
    "## Возраст"
   ],
   "metadata": {
    "collapsed": false,
    "pycharm": {
     "name": "#%% md\n"
    }
   }
  },
  {
   "cell_type": "code",
   "execution_count": 57,
   "outputs": [
    {
     "data": {
      "text/plain": "<Figure size 1600x600 with 2 Axes>",
      "image/png": "[encoded data removed]"
     },
     "metadata": {},
     "output_type": "display_data"
    }
   ],
   "source": [
    "fig, [ax1, ax2] = plt.subplots(1, 2, figsize=(16, 6))\n",
    "\n",
    "# fig.title('a')\n",
    "fig.suptitle('b')\n",
    "plt.title('c')\n",
    "plt.suptitle('d')\n",
    "\n",
    "df.groupby('survived')['age'].plot(bins=20, alpha=0.5, kind='hist', grid=False, ax=ax1);\n",
    "ax1.legend();\n",
    "ax1.set_xlabel('Возраст');\n",
    "\n",
    "df.boxplot(column='age', by='survived', grid=False, ax=ax2);\n",
    "ax2.set_xlabel('');\n",
    "ax2.set_title('')\n",
    "ax2.set_xlabel('Выжил/нет выжил')\n",
    "ax2.set_ylabel('Возраст');"
   ],
   "metadata": {
    "collapsed": false,
    "pycharm": {
     "name": "#%%\n"
    }
   }
  },
  {
   "cell_type": "code",
   "execution_count": 57,
   "outputs": [],
   "source": [],
   "metadata": {
    "collapsed": false,
    "pycharm": {
     "name": "#%%\n"
    }
   }
  },
  {
   "cell_type": "markdown",
   "source": [
    "# Обучение моделей"
   ],
   "metadata": {
    "collapsed": false,
    "pycharm": {
     "name": "#%% md\n"
    }
   }
  },
  {
   "cell_type": "markdown",
   "source": [
    "## Разделение датасета на признаки и таргет"
   ],
   "metadata": {
    "collapsed": false,
    "pycharm": {
     "name": "#%% md\n"
    }
   }
  },
  {
   "cell_type": "code",
   "execution_count": 58,
   "outputs": [],
   "source": [
    "x = df.drop('survived', axis=1)\n",
    "y = df['survived']"
   ],
   "metadata": {
    "collapsed": false,
    "pycharm": {
     "name": "#%%\n"
    }
   }
  },
  {
   "cell_type": "markdown",
   "source": [
    "## Линейные модели"
   ],
   "metadata": {
    "collapsed": false,
    "pycharm": {
     "name": "#%% md\n"
    }
   }
  },
  {
   "cell_type": "markdown",
   "source": [
    "Построим пайплайн преобразования признаков для линейной модели"
   ],
   "metadata": {
    "collapsed": false,
    "pycharm": {
     "name": "#%% md\n"
    }
   }
  },
  {
   "cell_type": "code",
   "execution_count": 59,
   "outputs": [
    {
     "data": {
      "text/plain": "Pipeline(steps=[('',\n                 ColumnTransformer(remainder='passthrough',\n                                   transformers=[('nums',\n                                                  Pipeline(steps=[('imputer',\n                                                                   SimpleImputer()),\n                                                                  ('scaler',\n                                                                   StandardScaler())]),\n                                                  <sklearn.compose._column_transformer.make_column_selector object at 0x00000232A196C940>),\n                                                 ('cats',\n                                                  Pipeline(steps=[('imputer',\n                                                                   SimpleImputer(strategy='most_frequent')),\n                                                                  ('ohe',\n                                                                   OneHotEncoder(drop='first'))]),\n                                                  <sklearn.compose._column_transformer.make_column_selector object at 0x00000232A196CB80>)]))])",
      "text/html": "<style>#sk-container-id-4 {color: black;background-color: white;}#sk-container-id-4 pre{padding: 0;}#sk-container-id-4 div.sk-toggleable {background-color: white;}#sk-container-id-4 label.sk-toggleable__label {cursor: pointer;display: block;width: 100%;margin-bottom: 0;padding: 0.3em;box-sizing: border-box;text-align: center;}#sk-container-id-4 label.sk-toggleable__label-arrow:before {content: \"▸\";float: left;margin-right: 0.25em;color: #696969;}#sk-container-id-4 label.sk-toggleable__label-arrow:hover:before {color: black;}#sk-container-id-4 div.sk-estimator:hover label.sk-toggleable__label-arrow:before {color: black;}#sk-container-id-4 div.sk-toggleable__content {max-height: 0;max-width: 0;overflow: hidden;text-align: left;background-color: #f0f8ff;}#sk-container-id-4 div.sk-toggleable__content pre {margin: 0.2em;color: black;border-radius: 0.25em;background-color: #f0f8ff;}#sk-container-id-4 input.sk-toggleable__control:checked~div.sk-toggleable__content {max-height: 200px;max-width: 100%;overflow: auto;}#sk-container-id-4 input.sk-toggleable__control:checked~label.sk-toggleable__label-arrow:before {content: \"▾\";}#sk-container-id-4 div.sk-estimator input.sk-toggleable__control:checked~label.sk-toggleable__label {background-color: #d4ebff;}#sk-container-id-4 div.sk-label input.sk-toggleable__control:checked~label.sk-toggleable__label {background-color: #d4ebff;}#sk-container-id-4 input.sk-hidden--visually {border: 0;clip: rect(1px 1px 1px 1px);clip: rect(1px, 1px, 1px, 1px);height: 1px;margin: -1px;overflow: hidden;padding: 0;position: absolute;width: 1px;}#sk-container-id-4 div.sk-estimator {font-family: monospace;background-color: #f0f8ff;border: 1px dotted black;border-radius: 0.25em;box-sizing: border-box;margin-bottom: 0.5em;}#sk-container-id-4 div.sk-estimator:hover {background-color: #d4ebff;}#sk-container-id-4 div.sk-parallel-item::after {content: \"\";width: 100%;border-bottom: 1px solid gray;flex-grow: 1;}#sk-container-id-4 div.sk-label:hover label.sk-toggleable__label {background-color: #d4ebff;}#sk-container-id-4 div.sk-serial::before {content: \"\";position: absolute;border-left: 1px solid gray;box-sizing: border-box;top: 0;bottom: 0;left: 50%;z-index: 0;}#sk-container-id-4 div.sk-serial {display: flex;flex-direction: column;align-items: center;background-color: white;padding-right: 0.2em;padding-left: 0.2em;position: relative;}#sk-container-id-4 div.sk-item {position: relative;z-index: 1;}#sk-container-id-4 div.sk-parallel {display: flex;align-items: stretch;justify-content: center;background-color: white;position: relative;}#sk-container-id-4 div.sk-item::before, #sk-container-id-4 div.sk-parallel-item::before {content: \"\";position: absolute;border-left: 1px solid gray;box-sizing: border-box;top: 0;bottom: 0;left: 50%;z-index: -1;}#sk-container-id-4 div.sk-parallel-item {display: flex;flex-direction: column;z-index: 1;position: relative;background-color: white;}#sk-container-id-4 div.sk-parallel-item:first-child::after {align-self: flex-end;width: 50%;}#sk-container-id-4 div.sk-parallel-item:last-child::after {align-self: flex-start;width: 50%;}#sk-container-id-4 div.sk-parallel-item:only-child::after {width: 0;}#sk-container-id-4 div.sk-dashed-wrapped {border: 1px dashed gray;margin: 0 0.4em 0.5em 0.4em;box-sizing: border-box;padding-bottom: 0.4em;background-color: white;}#sk-container-id-4 div.sk-label label {font-family: monospace;font-weight: bold;display: inline-block;line-height: 1.2em;}#sk-container-id-4 div.sk-label-container {text-align: center;}#sk-container-id-4 div.sk-container {/* jupyter's `normalize.less` sets `[hidden] { display: none; }` but bootstrap.min.css set `[hidden] { display: none !important; }` so we also need the `!important` here to be able to override the default hidden behavior on the sphinx rendered scikit-learn.org. See: https://github.com/scikit-learn/scikit-learn/issues/21755 */display: inline-block !important;position: relative;}#sk-container-id-4 div.sk-text-repr-fallback {display: none;}</style><div id=\"sk-container-id-4\" class=\"sk-top-container\"><div class=\"sk-text-repr-fallback\"><pre>Pipeline(steps=[(&#x27;&#x27;,\n                 ColumnTransformer(remainder=&#x27;passthrough&#x27;,\n                                   transformers=[(&#x27;nums&#x27;,\n                                                  Pipeline(steps=[(&#x27;imputer&#x27;,\n                                                                   SimpleImputer()),\n                                                                  (&#x27;scaler&#x27;,\n                                                                   StandardScaler())]),\n                                                  &lt;sklearn.compose._column_transformer.make_column_selector object at 0x00000232A196C940&gt;),\n                                                 (&#x27;cats&#x27;,\n                                                  Pipeline(steps=[(&#x27;imputer&#x27;,\n                                                                   SimpleImputer(strategy=&#x27;most_frequent&#x27;)),\n                                                                  (&#x27;ohe&#x27;,\n                                                                   OneHotEncoder(drop=&#x27;first&#x27;))]),\n                                                  &lt;sklearn.compose._column_transformer.make_column_selector object at 0x00000232A196CB80&gt;)]))])</pre><b>In a Jupyter environment, please rerun this cell to show the HTML representation or trust the notebook. <br />On GitHub, the HTML representation is unable to render, please try loading this page with nbviewer.org.</b></div><div class=\"sk-container\" hidden><div class=\"sk-item sk-dashed-wrapped\"><div class=\"sk-label-container\"><div class=\"sk-label sk-toggleable\"><input class=\"sk-toggleable__control sk-hidden--visually\" id=\"sk-estimator-id-27\" type=\"checkbox\" ><label for=\"sk-estimator-id-27\" class=\"sk-toggleable__label sk-toggleable__label-arrow\">Pipeline</label><div class=\"sk-toggleable__content\"><pre>Pipeline(steps=[(&#x27;&#x27;,\n                 ColumnTransformer(remainder=&#x27;passthrough&#x27;,\n                                   transformers=[(&#x27;nums&#x27;,\n                                                  Pipeline(steps=[(&#x27;imputer&#x27;,\n                                                                   SimpleImputer()),\n                                                                  (&#x27;scaler&#x27;,\n                                                                   StandardScaler())]),\n                                                  &lt;sklearn.compose._column_transformer.make_column_selector object at 0x00000232A196C940&gt;),\n                                                 (&#x27;cats&#x27;,\n                                                  Pipeline(steps=[(&#x27;imputer&#x27;,\n                                                                   SimpleImputer(strategy=&#x27;most_frequent&#x27;)),\n                                                                  (&#x27;ohe&#x27;,\n                                                                   OneHotEncoder(drop=&#x27;first&#x27;))]),\n                                                  &lt;sklearn.compose._column_transformer.make_column_selector object at 0x00000232A196CB80&gt;)]))])</pre></div></div></div><div class=\"sk-serial\"><div class=\"sk-item sk-dashed-wrapped\"><div class=\"sk-label-container\"><div class=\"sk-label sk-toggleable\"><input class=\"sk-toggleable__control sk-hidden--visually\" id=\"sk-estimator-id-28\" type=\"checkbox\" ><label for=\"sk-estimator-id-28\" class=\"sk-toggleable__label sk-toggleable__label-arrow\">: ColumnTransformer</label><div class=\"sk-toggleable__content\"><pre>ColumnTransformer(remainder=&#x27;passthrough&#x27;,\n                  transformers=[(&#x27;nums&#x27;,\n                                 Pipeline(steps=[(&#x27;imputer&#x27;, SimpleImputer()),\n                                                 (&#x27;scaler&#x27;, StandardScaler())]),\n                                 &lt;sklearn.compose._column_transformer.make_column_selector object at 0x00000232A196C940&gt;),\n                                (&#x27;cats&#x27;,\n                                 Pipeline(steps=[(&#x27;imputer&#x27;,\n                                                  SimpleImputer(strategy=&#x27;most_frequent&#x27;)),\n                                                 (&#x27;ohe&#x27;,\n                                                  OneHotEncoder(drop=&#x27;first&#x27;))]),\n                                 &lt;sklearn.compose._column_transformer.make_column_selector object at 0x00000232A196CB80&gt;)])</pre></div></div></div><div class=\"sk-parallel\"><div class=\"sk-parallel-item\"><div class=\"sk-item\"><div class=\"sk-label-container\"><div class=\"sk-label sk-toggleable\"><input class=\"sk-toggleable__control sk-hidden--visually\" id=\"sk-estimator-id-29\" type=\"checkbox\" ><label for=\"sk-estimator-id-29\" class=\"sk-toggleable__label sk-toggleable__label-arrow\">nums</label><div class=\"sk-toggleable__content\"><pre>&lt;sklearn.compose._column_transformer.make_column_selector object at 0x00000232A196C940&gt;</pre></div></div></div><div class=\"sk-serial\"><div class=\"sk-item\"><div class=\"sk-serial\"><div class=\"sk-item\"><div class=\"sk-estimator sk-toggleable\"><input class=\"sk-toggleable__control sk-hidden--visually\" id=\"sk-estimator-id-30\" type=\"checkbox\" ><label for=\"sk-estimator-id-30\" class=\"sk-toggleable__label sk-toggleable__label-arrow\">SimpleImputer</label><div class=\"sk-toggleable__content\"><pre>SimpleImputer()</pre></div></div></div><div class=\"sk-item\"><div class=\"sk-estimator sk-toggleable\"><input class=\"sk-toggleable__control sk-hidden--visually\" id=\"sk-estimator-id-31\" type=\"checkbox\" ><label for=\"sk-estimator-id-31\" class=\"sk-toggleable__label sk-toggleable__label-arrow\">StandardScaler</label><div class=\"sk-toggleable__content\"><pre>StandardScaler()</pre></div></div></div></div></div></div></div></div><div class=\"sk-parallel-item\"><div class=\"sk-item\"><div class=\"sk-label-container\"><div class=\"sk-label sk-toggleable\"><input class=\"sk-toggleable__control sk-hidden--visually\" id=\"sk-estimator-id-32\" type=\"checkbox\" ><label for=\"sk-estimator-id-32\" class=\"sk-toggleable__label sk-toggleable__label-arrow\">cats</label><div class=\"sk-toggleable__content\"><pre>&lt;sklearn.compose._column_transformer.make_column_selector object at 0x00000232A196CB80&gt;</pre></div></div></div><div class=\"sk-serial\"><div class=\"sk-item\"><div class=\"sk-serial\"><div class=\"sk-item\"><div class=\"sk-estimator sk-toggleable\"><input class=\"sk-toggleable__control sk-hidden--visually\" id=\"sk-estimator-id-33\" type=\"checkbox\" ><label for=\"sk-estimator-id-33\" class=\"sk-toggleable__label sk-toggleable__label-arrow\">SimpleImputer</label><div class=\"sk-toggleable__content\"><pre>SimpleImputer(strategy=&#x27;most_frequent&#x27;)</pre></div></div></div><div class=\"sk-item\"><div class=\"sk-estimator sk-toggleable\"><input class=\"sk-toggleable__control sk-hidden--visually\" id=\"sk-estimator-id-34\" type=\"checkbox\" ><label for=\"sk-estimator-id-34\" class=\"sk-toggleable__label sk-toggleable__label-arrow\">OneHotEncoder</label><div class=\"sk-toggleable__content\"><pre>OneHotEncoder(drop=&#x27;first&#x27;)</pre></div></div></div></div></div></div></div></div><div class=\"sk-parallel-item\"><div class=\"sk-item\"><div class=\"sk-label-container\"><div class=\"sk-label sk-toggleable\"><input class=\"sk-toggleable__control sk-hidden--visually\" id=\"sk-estimator-id-35\" type=\"checkbox\" ><label for=\"sk-estimator-id-35\" class=\"sk-toggleable__label sk-toggleable__label-arrow\">remainder</label><div class=\"sk-toggleable__content\"><pre></pre></div></div></div><div class=\"sk-serial\"><div class=\"sk-item\"><div class=\"sk-estimator sk-toggleable\"><input class=\"sk-toggleable__control sk-hidden--visually\" id=\"sk-estimator-id-36\" type=\"checkbox\" ><label for=\"sk-estimator-id-36\" class=\"sk-toggleable__label sk-toggleable__label-arrow\">passthrough</label><div class=\"sk-toggleable__content\"><pre>passthrough</pre></div></div></div></div></div></div></div></div></div></div></div></div>"
     },
     "execution_count": 59,
     "metadata": {},
     "output_type": "execute_result"
    }
   ],
   "source": [
    "num_ct = Pipeline(steps=[('imputer', SimpleImputer(strategy='mean')),\n",
    "                         ('scaler', StandardScaler())])\n",
    "\n",
    "cat_ct = Pipeline(steps=[('imputer', SimpleImputer(strategy='most_frequent')),\n",
    "                         ('ohe', OneHotEncoder(drop='first'))])\n",
    "\n",
    "transformer = ColumnTransformer(transformers=[('nums', num_ct, selector(dtype_exclude=\"object\")),\n",
    "                                              ('cats', cat_ct, selector(dtype_include=\"object\"))],\n",
    "                                remainder='passthrough')\n",
    "Pipeline(steps=[('', transformer)])"
   ],
   "metadata": {
    "collapsed": false,
    "pycharm": {
     "name": "#%%\n"
    }
   }
  },
  {
   "cell_type": "markdown",
   "source": [
    "Посмотрим на получившиеся признаки. У них теперь нет имен, но по порядку преобразвоаний можно увидеть, что последние 4 признака - это категориальные признаки, подвергнутые OHE."
   ],
   "metadata": {
    "collapsed": false,
    "pycharm": {
     "name": "#%% md\n"
    }
   }
  },
  {
   "cell_type": "code",
   "execution_count": 60,
   "outputs": [
    {
     "data": {
      "text/plain": "Feature  Non-Null Count  Null Count    Dtype  count          mean       std  \\\n0                   891           0  float64  891.0  3.987333e-17  1.000562   \n1                   891           0  float64  891.0  2.232906e-16  1.000562   \n2                   891           0  float64  891.0  4.386066e-17  1.000562   \n3                   891           0  float64  891.0  5.382900e-17  1.000562   \n4                   891           0  float64  891.0  3.987333e-18  1.000562   \n5                   891           0  float64  891.0 -1.415503e-16  1.000562   \n6                   891           0  float64  891.0  2.065095e-01  0.405028   \n7                   891           0  float64  891.0  5.510662e-01  0.497665   \n8                   891           0  float64  891.0  8.641975e-02  0.281141   \n9                   891           0  float64  891.0  7.250281e-01  0.446751   \n\nFeature       min       25%       50%       75%       max  \n0       -0.737695 -0.737695 -0.737695  1.355574  1.355574  \n1       -2.253155 -0.592481  0.000000  0.407926  3.870872  \n2       -0.474545 -0.474545 -0.474545  0.432793  6.784163  \n3       -0.473674 -0.473674 -0.473674 -0.473674  6.974147  \n4       -0.648422 -0.489148 -0.357391 -0.024246  9.667167  \n5       -1.613257 -0.750853 -0.211850  0.327152  5.932777  \n6        0.000000  0.000000  0.000000  0.000000  1.000000  \n7        0.000000  0.000000  1.000000  1.000000  1.000000  \n8        0.000000  0.000000  0.000000  0.000000  1.000000  \n9        0.000000  0.000000  1.000000  1.000000  1.000000  ",
      "text/html": "<div>\n<style scoped>\n    .dataframe tbody tr th:only-of-type {\n        vertical-align: middle;\n    }\n\n    .dataframe tbody tr th {\n        vertical-align: top;\n    }\n\n    .dataframe thead th {\n        text-align: right;\n    }\n</style>\n<table border=\"1\" class=\"dataframe\">\n  <thead>\n    <tr style=\"text-align: right;\">\n      <th>Feature</th>\n      <th>Non-Null Count</th>\n      <th>Null Count</th>\n      <th>Dtype</th>\n      <th>count</th>\n      <th>mean</th>\n      <th>std</th>\n      <th>min</th>\n      <th>25%</th>\n      <th>50%</th>\n      <th>75%</th>\n      <th>max</th>\n    </tr>\n  </thead>\n  <tbody>\n    <tr>\n      <th>0</th>\n      <td>891</td>\n      <td>0</td>\n      <td>float64</td>\n      <td>891.0</td>\n      <td>3.987333e-17</td>\n      <td>1.000562</td>\n      <td>-0.737695</td>\n      <td>-0.737695</td>\n      <td>-0.737695</td>\n      <td>1.355574</td>\n      <td>1.355574</td>\n    </tr>\n    <tr>\n      <th>1</th>\n      <td>891</td>\n      <td>0</td>\n      <td>float64</td>\n      <td>891.0</td>\n      <td>2.232906e-16</td>\n      <td>1.000562</td>\n      <td>-2.253155</td>\n      <td>-0.592481</td>\n      <td>0.000000</td>\n      <td>0.407926</td>\n      <td>3.870872</td>\n    </tr>\n    <tr>\n      <th>2</th>\n      <td>891</td>\n      <td>0</td>\n      <td>float64</td>\n      <td>891.0</td>\n      <td>4.386066e-17</td>\n      <td>1.000562</td>\n      <td>-0.474545</td>\n      <td>-0.474545</td>\n      <td>-0.474545</td>\n      <td>0.432793</td>\n      <td>6.784163</td>\n    </tr>\n    <tr>\n      <th>3</th>\n      <td>891</td>\n      <td>0</td>\n      <td>float64</td>\n      <td>891.0</td>\n      <td>5.382900e-17</td>\n      <td>1.000562</td>\n      <td>-0.473674</td>\n      <td>-0.473674</td>\n      <td>-0.473674</td>\n      <td>-0.473674</td>\n      <td>6.974147</td>\n    </tr>\n    <tr>\n      <th>4</th>\n      <td>891</td>\n      <td>0</td>\n      <td>float64</td>\n      <td>891.0</td>\n      <td>3.987333e-18</td>\n      <td>1.000562</td>\n      <td>-0.648422</td>\n      <td>-0.489148</td>\n      <td>-0.357391</td>\n      <td>-0.024246</td>\n      <td>9.667167</td>\n    </tr>\n    <tr>\n      <th>5</th>\n      <td>891</td>\n      <td>0</td>\n      <td>float64</td>\n      <td>891.0</td>\n      <td>-1.415503e-16</td>\n      <td>1.000562</td>\n      <td>-1.613257</td>\n      <td>-0.750853</td>\n      <td>-0.211850</td>\n      <td>0.327152</td>\n      <td>5.932777</td>\n    </tr>\n    <tr>\n      <th>6</th>\n      <td>891</td>\n      <td>0</td>\n      <td>float64</td>\n      <td>891.0</td>\n      <td>2.065095e-01</td>\n      <td>0.405028</td>\n      <td>0.000000</td>\n      <td>0.000000</td>\n      <td>0.000000</td>\n      <td>0.000000</td>\n      <td>1.000000</td>\n    </tr>\n    <tr>\n      <th>7</th>\n      <td>891</td>\n      <td>0</td>\n      <td>float64</td>\n      <td>891.0</td>\n      <td>5.510662e-01</td>\n      <td>0.497665</td>\n      <td>0.000000</td>\n      <td>0.000000</td>\n      <td>1.000000</td>\n      <td>1.000000</td>\n      <td>1.000000</td>\n    </tr>\n    <tr>\n      <th>8</th>\n      <td>891</td>\n      <td>0</td>\n      <td>float64</td>\n      <td>891.0</td>\n      <td>8.641975e-02</td>\n      <td>0.281141</td>\n      <td>0.000000</td>\n      <td>0.000000</td>\n      <td>0.000000</td>\n      <td>0.000000</td>\n      <td>1.000000</td>\n    </tr>\n    <tr>\n      <th>9</th>\n      <td>891</td>\n      <td>0</td>\n      <td>float64</td>\n      <td>891.0</td>\n      <td>7.250281e-01</td>\n      <td>0.446751</td>\n      <td>0.000000</td>\n      <td>0.000000</td>\n      <td>1.000000</td>\n      <td>1.000000</td>\n      <td>1.000000</td>\n    </tr>\n  </tbody>\n</table>\n</div>"
     },
     "metadata": {},
     "output_type": "display_data"
    }
   ],
   "source": [
    "full_info(pd.DataFrame(transformer.fit_transform(x)).astype('float'))"
   ],
   "metadata": {
    "collapsed": false,
    "pycharm": {
     "name": "#%%\n"
    }
   }
  },
  {
   "cell_type": "markdown",
   "source": [
    "Добавим в пайплайн классификатор"
   ],
   "metadata": {
    "collapsed": false,
    "pycharm": {
     "name": "#%% md\n"
    }
   }
  },
  {
   "cell_type": "code",
   "execution_count": 82,
   "outputs": [
    {
     "name": "stdout",
     "output_type": "stream",
     "text": [
      "Fitting 3 folds for each of 24 candidates, totalling 72 fits\n"
     ]
    },
    {
     "data": {
      "text/plain": "GridSearchCV(cv=3,\n             estimator=Pipeline(steps=[('transformer',\n                                        ColumnTransformer(remainder='passthrough',\n                                                          transformers=[('nums',\n                                                                         Pipeline(steps=[('imputer',\n                                                                                          SimpleImputer()),\n                                                                                         ('scaler',\n                                                                                          StandardScaler())]),\n                                                                         <sklearn.compose._column_transformer.make_column_selector object at 0x00000232A196C940>),\n                                                                        ('cats',\n                                                                         Pipeline(steps=[('imputer',\n                                                                                          SimpleImputer(strategy='most_fre...\n                                                                         <sklearn.compose._column_transformer.make_column_selector object at 0x00000232A196CB80>)])),\n                                       ('clf', LogisticRegression())]),\n             n_jobs=-1,\n             param_grid=[{'clf__C': [0.1, 1, 10, 100],\n                          'clf__penalty': ['none', 'l2'],\n                          'transformer__nums__imputer': [SimpleImputer()],\n                          'transformer__nums__imputer__strategy': ['mean',\n                                                                   'median']},\n                         {'clf__C': [0.1, 1, 10, 100],\n                          'clf__penalty': ['none', 'l2'],\n                          'transformer__nums__imputer': [IterativeImputer()]}],\n             scoring='roc_auc', verbose=10)",
      "text/html": "<style>#sk-container-id-8 {color: black;background-color: white;}#sk-container-id-8 pre{padding: 0;}#sk-container-id-8 div.sk-toggleable {background-color: white;}#sk-container-id-8 label.sk-toggleable__label {cursor: pointer;display: block;width: 100%;margin-bottom: 0;padding: 0.3em;box-sizing: border-box;text-align: center;}#sk-container-id-8 label.sk-toggleable__label-arrow:before {content: \"▸\";float: left;margin-right: 0.25em;color: #696969;}#sk-container-id-8 label.sk-toggleable__label-arrow:hover:before {color: black;}#sk-container-id-8 div.sk-estimator:hover label.sk-toggleable__label-arrow:before {color: black;}#sk-container-id-8 div.sk-toggleable__content {max-height: 0;max-width: 0;overflow: hidden;text-align: left;background-color: #f0f8ff;}#sk-container-id-8 div.sk-toggleable__content pre {margin: 0.2em;color: black;border-radius: 0.25em;background-color: #f0f8ff;}#sk-container-id-8 input.sk-toggleable__control:checked~div.sk-toggleable__content {max-height: 200px;max-width: 100%;overflow: auto;}#sk-container-id-8 input.sk-toggleable__control:checked~label.sk-toggleable__label-arrow:before {content: \"▾\";}#sk-container-id-8 div.sk-estimator input.sk-toggleable__control:checked~label.sk-toggleable__label {background-color: #d4ebff;}#sk-container-id-8 div.sk-label input.sk-toggleable__control:checked~label.sk-toggleable__label {background-color: #d4ebff;}#sk-container-id-8 input.sk-hidden--visually {border: 0;clip: rect(1px 1px 1px 1px);clip: rect(1px, 1px, 1px, 1px);height: 1px;margin: -1px;overflow: hidden;padding: 0;position: absolute;width: 1px;}#sk-container-id-8 div.sk-estimator {font-family: monospace;background-color: #f0f8ff;border: 1px dotted black;border-radius: 0.25em;box-sizing: border-box;margin-bottom: 0.5em;}#sk-container-id-8 div.sk-estimator:hover {background-color: #d4ebff;}#sk-container-id-8 div.sk-parallel-item::after {content: \"\";width: 100%;border-bottom: 1px solid gray;flex-grow: 1;}#sk-container-id-8 div.sk-label:hover label.sk-toggleable__label {background-color: #d4ebff;}#sk-container-id-8 div.sk-serial::before {content: \"\";position: absolute;border-left: 1px solid gray;box-sizing: border-box;top: 0;bottom: 0;left: 50%;z-index: 0;}#sk-container-id-8 div.sk-serial {display: flex;flex-direction: column;align-items: center;background-color: white;padding-right: 0.2em;padding-left: 0.2em;position: relative;}#sk-container-id-8 div.sk-item {position: relative;z-index: 1;}#sk-container-id-8 div.sk-parallel {display: flex;align-items: stretch;justify-content: center;background-color: white;position: relative;}#sk-container-id-8 div.sk-item::before, #sk-container-id-8 div.sk-parallel-item::before {content: \"\";position: absolute;border-left: 1px solid gray;box-sizing: border-box;top: 0;bottom: 0;left: 50%;z-index: -1;}#sk-container-id-8 div.sk-parallel-item {display: flex;flex-direction: column;z-index: 1;position: relative;background-color: white;}#sk-container-id-8 div.sk-parallel-item:first-child::after {align-self: flex-end;width: 50%;}#sk-container-id-8 div.sk-parallel-item:last-child::after {align-self: flex-start;width: 50%;}#sk-container-id-8 div.sk-parallel-item:only-child::after {width: 0;}#sk-container-id-8 div.sk-dashed-wrapped {border: 1px dashed gray;margin: 0 0.4em 0.5em 0.4em;box-sizing: border-box;padding-bottom: 0.4em;background-color: white;}#sk-container-id-8 div.sk-label label {font-family: monospace;font-weight: bold;display: inline-block;line-height: 1.2em;}#sk-container-id-8 div.sk-label-container {text-align: center;}#sk-container-id-8 div.sk-container {/* jupyter's `normalize.less` sets `[hidden] { display: none; }` but bootstrap.min.css set `[hidden] { display: none !important; }` so we also need the `!important` here to be able to override the default hidden behavior on the sphinx rendered scikit-learn.org. See: https://github.com/scikit-learn/scikit-learn/issues/21755 */display: inline-block !important;position: relative;}#sk-container-id-8 div.sk-text-repr-fallback {display: none;}</style><div id=\"sk-container-id-8\" class=\"sk-top-container\"><div class=\"sk-text-repr-fallback\"><pre>GridSearchCV(cv=3,\n             estimator=Pipeline(steps=[(&#x27;transformer&#x27;,\n                                        ColumnTransformer(remainder=&#x27;passthrough&#x27;,\n                                                          transformers=[(&#x27;nums&#x27;,\n                                                                         Pipeline(steps=[(&#x27;imputer&#x27;,\n                                                                                          SimpleImputer()),\n                                                                                         (&#x27;scaler&#x27;,\n                                                                                          StandardScaler())]),\n                                                                         &lt;sklearn.compose._column_transformer.make_column_selector object at 0x00000232A196C940&gt;),\n                                                                        (&#x27;cats&#x27;,\n                                                                         Pipeline(steps=[(&#x27;imputer&#x27;,\n                                                                                          SimpleImputer(strategy=&#x27;most_fre...\n                                                                         &lt;sklearn.compose._column_transformer.make_column_selector object at 0x00000232A196CB80&gt;)])),\n                                       (&#x27;clf&#x27;, LogisticRegression())]),\n             n_jobs=-1,\n             param_grid=[{&#x27;clf__C&#x27;: [0.1, 1, 10, 100],\n                          &#x27;clf__penalty&#x27;: [&#x27;none&#x27;, &#x27;l2&#x27;],\n                          &#x27;transformer__nums__imputer&#x27;: [SimpleImputer()],\n                          &#x27;transformer__nums__imputer__strategy&#x27;: [&#x27;mean&#x27;,\n                                                                   &#x27;median&#x27;]},\n                         {&#x27;clf__C&#x27;: [0.1, 1, 10, 100],\n                          &#x27;clf__penalty&#x27;: [&#x27;none&#x27;, &#x27;l2&#x27;],\n                          &#x27;transformer__nums__imputer&#x27;: [IterativeImputer()]}],\n             scoring=&#x27;roc_auc&#x27;, verbose=10)</pre><b>In a Jupyter environment, please rerun this cell to show the HTML representation or trust the notebook. <br />On GitHub, the HTML representation is unable to render, please try loading this page with nbviewer.org.</b></div><div class=\"sk-container\" hidden><div class=\"sk-item sk-dashed-wrapped\"><div class=\"sk-label-container\"><div class=\"sk-label sk-toggleable\"><input class=\"sk-toggleable__control sk-hidden--visually\" id=\"sk-estimator-id-65\" type=\"checkbox\" ><label for=\"sk-estimator-id-65\" class=\"sk-toggleable__label sk-toggleable__label-arrow\">GridSearchCV</label><div class=\"sk-toggleable__content\"><pre>GridSearchCV(cv=3,\n             estimator=Pipeline(steps=[(&#x27;transformer&#x27;,\n                                        ColumnTransformer(remainder=&#x27;passthrough&#x27;,\n                                                          transformers=[(&#x27;nums&#x27;,\n                                                                         Pipeline(steps=[(&#x27;imputer&#x27;,\n                                                                                          SimpleImputer()),\n                                                                                         (&#x27;scaler&#x27;,\n                                                                                          StandardScaler())]),\n                                                                         &lt;sklearn.compose._column_transformer.make_column_selector object at 0x00000232A196C940&gt;),\n                                                                        (&#x27;cats&#x27;,\n                                                                         Pipeline(steps=[(&#x27;imputer&#x27;,\n                                                                                          SimpleImputer(strategy=&#x27;most_fre...\n                                                                         &lt;sklearn.compose._column_transformer.make_column_selector object at 0x00000232A196CB80&gt;)])),\n                                       (&#x27;clf&#x27;, LogisticRegression())]),\n             n_jobs=-1,\n             param_grid=[{&#x27;clf__C&#x27;: [0.1, 1, 10, 100],\n                          &#x27;clf__penalty&#x27;: [&#x27;none&#x27;, &#x27;l2&#x27;],\n                          &#x27;transformer__nums__imputer&#x27;: [SimpleImputer()],\n                          &#x27;transformer__nums__imputer__strategy&#x27;: [&#x27;mean&#x27;,\n                                                                   &#x27;median&#x27;]},\n                         {&#x27;clf__C&#x27;: [0.1, 1, 10, 100],\n                          &#x27;clf__penalty&#x27;: [&#x27;none&#x27;, &#x27;l2&#x27;],\n                          &#x27;transformer__nums__imputer&#x27;: [IterativeImputer()]}],\n             scoring=&#x27;roc_auc&#x27;, verbose=10)</pre></div></div></div><div class=\"sk-parallel\"><div class=\"sk-parallel-item\"><div class=\"sk-item\"><div class=\"sk-label-container\"><div class=\"sk-label sk-toggleable\"><input class=\"sk-toggleable__control sk-hidden--visually\" id=\"sk-estimator-id-66\" type=\"checkbox\" ><label for=\"sk-estimator-id-66\" class=\"sk-toggleable__label sk-toggleable__label-arrow\">estimator: Pipeline</label><div class=\"sk-toggleable__content\"><pre>Pipeline(steps=[(&#x27;transformer&#x27;,\n                 ColumnTransformer(remainder=&#x27;passthrough&#x27;,\n                                   transformers=[(&#x27;nums&#x27;,\n                                                  Pipeline(steps=[(&#x27;imputer&#x27;,\n                                                                   SimpleImputer()),\n                                                                  (&#x27;scaler&#x27;,\n                                                                   StandardScaler())]),\n                                                  &lt;sklearn.compose._column_transformer.make_column_selector object at 0x00000232A196C940&gt;),\n                                                 (&#x27;cats&#x27;,\n                                                  Pipeline(steps=[(&#x27;imputer&#x27;,\n                                                                   SimpleImputer(strategy=&#x27;most_frequent&#x27;)),\n                                                                  (&#x27;ohe&#x27;,\n                                                                   OneHotEncoder(drop=&#x27;first&#x27;))]),\n                                                  &lt;sklearn.compose._column_transformer.make_column_selector object at 0x00000232A196CB80&gt;)])),\n                (&#x27;clf&#x27;, LogisticRegression())])</pre></div></div></div><div class=\"sk-serial\"><div class=\"sk-item\"><div class=\"sk-serial\"><div class=\"sk-item sk-dashed-wrapped\"><div class=\"sk-label-container\"><div class=\"sk-label sk-toggleable\"><input class=\"sk-toggleable__control sk-hidden--visually\" id=\"sk-estimator-id-67\" type=\"checkbox\" ><label for=\"sk-estimator-id-67\" class=\"sk-toggleable__label sk-toggleable__label-arrow\">transformer: ColumnTransformer</label><div class=\"sk-toggleable__content\"><pre>ColumnTransformer(remainder=&#x27;passthrough&#x27;,\n                  transformers=[(&#x27;nums&#x27;,\n                                 Pipeline(steps=[(&#x27;imputer&#x27;, SimpleImputer()),\n                                                 (&#x27;scaler&#x27;, StandardScaler())]),\n                                 &lt;sklearn.compose._column_transformer.make_column_selector object at 0x00000232A196C940&gt;),\n                                (&#x27;cats&#x27;,\n                                 Pipeline(steps=[(&#x27;imputer&#x27;,\n                                                  SimpleImputer(strategy=&#x27;most_frequent&#x27;)),\n                                                 (&#x27;ohe&#x27;,\n                                                  OneHotEncoder(drop=&#x27;first&#x27;))]),\n                                 &lt;sklearn.compose._column_transformer.make_column_selector object at 0x00000232A196CB80&gt;)])</pre></div></div></div><div class=\"sk-parallel\"><div class=\"sk-parallel-item\"><div class=\"sk-item\"><div class=\"sk-label-container\"><div class=\"sk-label sk-toggleable\"><input class=\"sk-toggleable__control sk-hidden--visually\" id=\"sk-estimator-id-68\" type=\"checkbox\" ><label for=\"sk-estimator-id-68\" class=\"sk-toggleable__label sk-toggleable__label-arrow\">nums</label><div class=\"sk-toggleable__content\"><pre>&lt;sklearn.compose._column_transformer.make_column_selector object at 0x00000232A196C940&gt;</pre></div></div></div><div class=\"sk-serial\"><div class=\"sk-item\"><div class=\"sk-serial\"><div class=\"sk-item\"><div class=\"sk-estimator sk-toggleable\"><input class=\"sk-toggleable__control sk-hidden--visually\" id=\"sk-estimator-id-69\" type=\"checkbox\" ><label for=\"sk-estimator-id-69\" class=\"sk-toggleable__label sk-toggleable__label-arrow\">SimpleImputer</label><div class=\"sk-toggleable__content\"><pre>SimpleImputer()</pre></div></div></div><div class=\"sk-item\"><div class=\"sk-estimator sk-toggleable\"><input class=\"sk-toggleable__control sk-hidden--visually\" id=\"sk-estimator-id-70\" type=\"checkbox\" ><label for=\"sk-estimator-id-70\" class=\"sk-toggleable__label sk-toggleable__label-arrow\">StandardScaler</label><div class=\"sk-toggleable__content\"><pre>StandardScaler()</pre></div></div></div></div></div></div></div></div><div class=\"sk-parallel-item\"><div class=\"sk-item\"><div class=\"sk-label-container\"><div class=\"sk-label sk-toggleable\"><input class=\"sk-toggleable__control sk-hidden--visually\" id=\"sk-estimator-id-71\" type=\"checkbox\" ><label for=\"sk-estimator-id-71\" class=\"sk-toggleable__label sk-toggleable__label-arrow\">cats</label><div class=\"sk-toggleable__content\"><pre>&lt;sklearn.compose._column_transformer.make_column_selector object at 0x00000232A196CB80&gt;</pre></div></div></div><div class=\"sk-serial\"><div class=\"sk-item\"><div class=\"sk-serial\"><div class=\"sk-item\"><div class=\"sk-estimator sk-toggleable\"><input class=\"sk-toggleable__control sk-hidden--visually\" id=\"sk-estimator-id-72\" type=\"checkbox\" ><label for=\"sk-estimator-id-72\" class=\"sk-toggleable__label sk-toggleable__label-arrow\">SimpleImputer</label><div class=\"sk-toggleable__content\"><pre>SimpleImputer(strategy=&#x27;most_frequent&#x27;)</pre></div></div></div><div class=\"sk-item\"><div class=\"sk-estimator sk-toggleable\"><input class=\"sk-toggleable__control sk-hidden--visually\" id=\"sk-estimator-id-73\" type=\"checkbox\" ><label for=\"sk-estimator-id-73\" class=\"sk-toggleable__label sk-toggleable__label-arrow\">OneHotEncoder</label><div class=\"sk-toggleable__content\"><pre>OneHotEncoder(drop=&#x27;first&#x27;)</pre></div></div></div></div></div></div></div></div><div class=\"sk-parallel-item\"><div class=\"sk-item\"><div class=\"sk-label-container\"><div class=\"sk-label sk-toggleable\"><input class=\"sk-toggleable__control sk-hidden--visually\" id=\"sk-estimator-id-74\" type=\"checkbox\" ><label for=\"sk-estimator-id-74\" class=\"sk-toggleable__label sk-toggleable__label-arrow\">remainder</label><div class=\"sk-toggleable__content\"><pre>[]</pre></div></div></div><div class=\"sk-serial\"><div class=\"sk-item\"><div class=\"sk-estimator sk-toggleable\"><input class=\"sk-toggleable__control sk-hidden--visually\" id=\"sk-estimator-id-75\" type=\"checkbox\" ><label for=\"sk-estimator-id-75\" class=\"sk-toggleable__label sk-toggleable__label-arrow\">passthrough</label><div class=\"sk-toggleable__content\"><pre>passthrough</pre></div></div></div></div></div></div></div></div><div class=\"sk-item\"><div class=\"sk-estimator sk-toggleable\"><input class=\"sk-toggleable__control sk-hidden--visually\" id=\"sk-estimator-id-76\" type=\"checkbox\" ><label for=\"sk-estimator-id-76\" class=\"sk-toggleable__label sk-toggleable__label-arrow\">LogisticRegression</label><div class=\"sk-toggleable__content\"><pre>LogisticRegression()</pre></div></div></div></div></div></div></div></div></div></div></div></div>"
     },
     "execution_count": 82,
     "metadata": {},
     "output_type": "execute_result"
    }
   ],
   "source": [
    "lr_pipe = Pipeline(steps=[('transformer', transformer), ('clf', LogisticRegression())])\n",
    "\n",
    "params = [{'transformer__nums__imputer': [SimpleImputer()],\n",
    "           'transformer__nums__imputer__strategy': ['mean', 'median'],\n",
    "           'clf__penalty': ['none', 'l2'],\n",
    "           'clf__C': [0.1, 1, 10, 100]\n",
    "          },\n",
    "          { 'transformer__nums__imputer': [IterativeImputer()],\n",
    "           'clf__penalty': ['none', 'l2'],\n",
    "           'clf__C': [0.1, 1, 10, 100]\n",
    "          }]\n",
    "\n",
    "lr_gs    = GridSearchCV(estimator=lr_pipe,\n",
    "                        param_grid=params,\n",
    "                        scoring='roc_auc',\n",
    "                        refit=True,\n",
    "                        cv=3,\n",
    "                        n_jobs=-1,\n",
    "                        verbose=10)\n",
    "lr_gs.fit(x, y)"
   ],
   "metadata": {
    "collapsed": false,
    "pycharm": {
     "name": "#%%\n"
    }
   }
  },
  {
   "cell_type": "code",
   "execution_count": 83,
   "outputs": [
    {
     "data": {
      "text/plain": "    mean_fit_time  std_fit_time  mean_score_time  std_score_time param_clf__C  \\\n19       0.072333      0.009673         0.014000        0.000816            1   \n20       0.070667      0.009177         0.013666        0.000472           10   \n18       0.070335      0.005794         0.016333        0.001884            1   \n16       0.070334      0.002623         0.018666        0.002055          0.1   \n22       0.063666      0.001247         0.010331        0.000943          100   \n21       0.064000      0.002944         0.013333        0.000943           10   \n23       0.049663      0.005249         0.006666        0.000944          100   \n6        0.035002      0.003558         0.015000        0.000001            1   \n10       0.033666      0.002624         0.014333        0.000472           10   \n14       0.032668      0.002357         0.013666        0.000472          100   \n12       0.032332      0.002055         0.013336        0.000471          100   \n0        0.037667      0.002357         0.012999        0.000001          0.1   \n8        0.032999      0.001415         0.014000        0.000816           10   \n4        0.034333      0.002495         0.013332        0.000470            1   \n7        0.031668      0.000942         0.014333        0.000471            1   \n15       0.037666      0.004922         0.015001        0.001415          100   \n11       0.034998      0.004965         0.014334        0.000944           10   \n13       0.032335      0.000469         0.012998        0.000002          100   \n5        0.034667      0.000472         0.014333        0.001246            1   \n1        0.044334      0.011146         0.014667        0.001700          0.1   \n9        0.036668      0.000470         0.014665        0.000471           10   \n2        0.039667      0.006600         0.016333        0.003399          0.1   \n17       0.065001      0.004966         0.014665        0.001247          0.1   \n3        0.035999      0.001636         0.014332        0.001886          0.1   \n\n   param_clf__penalty param_transformer__nums__imputer  \\\n19                 l2               IterativeImputer()   \n20               none               IterativeImputer()   \n18               none               IterativeImputer()   \n16               none               IterativeImputer()   \n22               none               IterativeImputer()   \n21                 l2               IterativeImputer()   \n23                 l2               IterativeImputer()   \n6                  l2                  SimpleImputer()   \n10                 l2                  SimpleImputer()   \n14                 l2                  SimpleImputer()   \n12               none                  SimpleImputer()   \n0                none                  SimpleImputer()   \n8                none                  SimpleImputer()   \n4                none                  SimpleImputer()   \n7                  l2                  SimpleImputer()   \n15                 l2                  SimpleImputer()   \n11                 l2                  SimpleImputer()   \n13               none                  SimpleImputer()   \n5                none                  SimpleImputer()   \n1                none                  SimpleImputer()   \n9                none                  SimpleImputer()   \n2                  l2                  SimpleImputer()   \n17                 l2               IterativeImputer()   \n3                  l2                  SimpleImputer()   \n\n   param_transformer__nums__imputer__strategy  \\\n19                                        NaN   \n20                                        NaN   \n18                                        NaN   \n16                                        NaN   \n22                                        NaN   \n21                                        NaN   \n23                                        NaN   \n6                                        mean   \n10                                       mean   \n14                                       mean   \n12                                       mean   \n0                                        mean   \n8                                        mean   \n4                                        mean   \n7                                      median   \n15                                     median   \n11                                     median   \n13                                     median   \n5                                      median   \n1                                      median   \n9                                      median   \n2                                        mean   \n17                                        NaN   \n3                                      median   \n\n                                               params  split0_test_score  \\\n19  {'clf__C': 1, 'clf__penalty': 'l2', 'transform...           0.839133   \n20  {'clf__C': 10, 'clf__penalty': 'none', 'transf...           0.838414   \n18  {'clf__C': 1, 'clf__penalty': 'none', 'transfo...           0.838414   \n16  {'clf__C': 0.1, 'clf__penalty': 'none', 'trans...           0.838414   \n22  {'clf__C': 100, 'clf__penalty': 'none', 'trans...           0.838414   \n21  {'clf__C': 10, 'clf__penalty': 'l2', 'transfor...           0.838462   \n23  {'clf__C': 100, 'clf__penalty': 'l2', 'transfo...           0.838462   \n6   {'clf__C': 1, 'clf__penalty': 'l2', 'transform...           0.839804   \n10  {'clf__C': 10, 'clf__penalty': 'l2', 'transfor...           0.838606   \n14  {'clf__C': 100, 'clf__penalty': 'l2', 'transfo...           0.838366   \n12  {'clf__C': 100, 'clf__penalty': 'none', 'trans...           0.838223   \n0   {'clf__C': 0.1, 'clf__penalty': 'none', 'trans...           0.838223   \n8   {'clf__C': 10, 'clf__penalty': 'none', 'transf...           0.838223   \n4   {'clf__C': 1, 'clf__penalty': 'none', 'transfo...           0.838223   \n7   {'clf__C': 1, 'clf__penalty': 'l2', 'transform...           0.839948   \n15  {'clf__C': 100, 'clf__penalty': 'l2', 'transfo...           0.838846   \n11  {'clf__C': 10, 'clf__penalty': 'l2', 'transfor...           0.838942   \n13  {'clf__C': 100, 'clf__penalty': 'none', 'trans...           0.838798   \n5   {'clf__C': 1, 'clf__penalty': 'none', 'transfo...           0.838798   \n1   {'clf__C': 0.1, 'clf__penalty': 'none', 'trans...           0.838798   \n9   {'clf__C': 10, 'clf__penalty': 'none', 'transf...           0.838798   \n2   {'clf__C': 0.1, 'clf__penalty': 'l2', 'transfo...           0.838175   \n17  {'clf__C': 0.1, 'clf__penalty': 'l2', 'transfo...           0.837072   \n3   {'clf__C': 0.1, 'clf__penalty': 'l2', 'transfo...           0.837695   \n\n    split1_test_score  split2_test_score  mean_test_score  std_test_score  \\\n19           0.862957           0.855119         0.852403        0.009914   \n20           0.861806           0.856941         0.852387        0.010078   \n18           0.861806           0.856941         0.852387        0.010078   \n16           0.861806           0.856941         0.852387        0.010078   \n22           0.861806           0.856941         0.852387        0.010078   \n21           0.861710           0.856845         0.852339        0.010011   \n23           0.861710           0.856797         0.852323        0.010004   \n6            0.861135           0.854688         0.851876        0.008932   \n10           0.860128           0.855742         0.851492        0.009286   \n14           0.859889           0.855982         0.851412        0.009362   \n12           0.859889           0.856078         0.851396        0.009444   \n0            0.859889           0.856078         0.851396        0.009444   \n8            0.859889           0.856078         0.851396        0.009444   \n4            0.859889           0.856078         0.851396        0.009444   \n7            0.859745           0.854209         0.851301        0.008339   \n15           0.859026           0.854976         0.850949        0.008717   \n11           0.859074           0.854832         0.850949        0.008665   \n13           0.858882           0.854976         0.850885        0.008695   \n5            0.858882           0.854976         0.850885        0.008695   \n1            0.858882           0.854976         0.850885        0.008695   \n9            0.858882           0.854976         0.850885        0.008695   \n2            0.863100           0.850086         0.850454        0.010179   \n17           0.863724           0.849176         0.849990        0.010896   \n3            0.861662           0.849847         0.849735        0.009785   \n\n    rank_test_score  \n19                1  \n20                2  \n18                2  \n16                2  \n22                2  \n21                6  \n23                7  \n6                 8  \n10                9  \n14               10  \n12               11  \n0                11  \n8                11  \n4                11  \n7                15  \n15               16  \n11               16  \n13               18  \n5                18  \n1                18  \n9                18  \n2                22  \n17               23  \n3                24  ",
      "text/html": "<div>\n<style scoped>\n    .dataframe tbody tr th:only-of-type {\n        vertical-align: middle;\n    }\n\n    .dataframe tbody tr th {\n        vertical-align: top;\n    }\n\n    .dataframe thead th {\n        text-align: right;\n    }\n</style>\n<table border=\"1\" class=\"dataframe\">\n  <thead>\n    <tr style=\"text-align: right;\">\n      <th></th>\n      <th>mean_fit_time</th>\n      <th>std_fit_time</th>\n      <th>mean_score_time</th>\n      <th>std_score_time</th>\n      <th>param_clf__C</th>\n      <th>param_clf__penalty</th>\n      <th>param_transformer__nums__imputer</th>\n      <th>param_transformer__nums__imputer__strategy</th>\n      <th>params</th>\n      <th>split0_test_score</th>\n      <th>split1_test_score</th>\n      <th>split2_test_score</th>\n      <th>mean_test_score</th>\n      <th>std_test_score</th>\n      <th>rank_test_score</th>\n    </tr>\n  </thead>\n  <tbody>\n    <tr>\n      <th>19</th>\n      <td>0.072333</td>\n      <td>0.009673</td>\n      <td>0.014000</td>\n      <td>0.000816</td>\n      <td>1</td>\n      <td>l2</td>\n      <td>IterativeImputer()</td>\n      <td>NaN</td>\n      <td>{'clf__C': 1, 'clf__penalty': 'l2', 'transform...</td>\n      <td>0.839133</td>\n      <td>0.862957</td>\n      <td>0.855119</td>\n      <td>0.852403</td>\n      <td>0.009914</td>\n      <td>1</td>\n    </tr>\n    <tr>\n      <th>20</th>\n      <td>0.070667</td>\n      <td>0.009177</td>\n      <td>0.013666</td>\n      <td>0.000472</td>\n      <td>10</td>\n      <td>none</td>\n      <td>IterativeImputer()</td>\n      <td>NaN</td>\n      <td>{'clf__C': 10, 'clf__penalty': 'none', 'transf...</td>\n      <td>0.838414</td>\n      <td>0.861806</td>\n      <td>0.856941</td>\n      <td>0.852387</td>\n      <td>0.010078</td>\n      <td>2</td>\n    </tr>\n    <tr>\n      <th>18</th>\n      <td>0.070335</td>\n      <td>0.005794</td>\n      <td>0.016333</td>\n      <td>0.001884</td>\n      <td>1</td>\n      <td>none</td>\n      <td>IterativeImputer()</td>\n      <td>NaN</td>\n      <td>{'clf__C': 1, 'clf__penalty': 'none', 'transfo...</td>\n      <td>0.838414</td>\n      <td>0.861806</td>\n      <td>0.856941</td>\n      <td>0.852387</td>\n      <td>0.010078</td>\n      <td>2</td>\n    </tr>\n    <tr>\n      <th>16</th>\n      <td>0.070334</td>\n      <td>0.002623</td>\n      <td>0.018666</td>\n      <td>0.002055</td>\n      <td>0.1</td>\n      <td>none</td>\n      <td>IterativeImputer()</td>\n      <td>NaN</td>\n      <td>{'clf__C': 0.1, 'clf__penalty': 'none', 'trans...</td>\n      <td>0.838414</td>\n      <td>0.861806</td>\n      <td>0.856941</td>\n      <td>0.852387</td>\n      <td>0.010078</td>\n      <td>2</td>\n    </tr>\n    <tr>\n      <th>22</th>\n      <td>0.063666</td>\n      <td>0.001247</td>\n      <td>0.010331</td>\n      <td>0.000943</td>\n      <td>100</td>\n      <td>none</td>\n      <td>IterativeImputer()</td>\n      <td>NaN</td>\n      <td>{'clf__C': 100, 'clf__penalty': 'none', 'trans...</td>\n      <td>0.838414</td>\n      <td>0.861806</td>\n      <td>0.856941</td>\n      <td>0.852387</td>\n      <td>0.010078</td>\n      <td>2</td>\n    </tr>\n    <tr>\n      <th>21</th>\n      <td>0.064000</td>\n      <td>0.002944</td>\n      <td>0.013333</td>\n      <td>0.000943</td>\n      <td>10</td>\n      <td>l2</td>\n      <td>IterativeImputer()</td>\n      <td>NaN</td>\n      <td>{'clf__C': 10, 'clf__penalty': 'l2', 'transfor...</td>\n      <td>0.838462</td>\n      <td>0.861710</td>\n      <td>0.856845</td>\n      <td>0.852339</td>\n      <td>0.010011</td>\n      <td>6</td>\n    </tr>\n    <tr>\n      <th>23</th>\n      <td>0.049663</td>\n      <td>0.005249</td>\n      <td>0.006666</td>\n      <td>0.000944</td>\n      <td>100</td>\n      <td>l2</td>\n      <td>IterativeImputer()</td>\n      <td>NaN</td>\n      <td>{'clf__C': 100, 'clf__penalty': 'l2', 'transfo...</td>\n      <td>0.838462</td>\n      <td>0.861710</td>\n      <td>0.856797</td>\n      <td>0.852323</td>\n      <td>0.010004</td>\n      <td>7</td>\n    </tr>\n    <tr>\n      <th>6</th>\n      <td>0.035002</td>\n      <td>0.003558</td>\n      <td>0.015000</td>\n      <td>0.000001</td>\n      <td>1</td>\n      <td>l2</td>\n      <td>SimpleImputer()</td>\n      <td>mean</td>\n      <td>{'clf__C': 1, 'clf__penalty': 'l2', 'transform...</td>\n      <td>0.839804</td>\n      <td>0.861135</td>\n      <td>0.854688</td>\n      <td>0.851876</td>\n      <td>0.008932</td>\n      <td>8</td>\n    </tr>\n    <tr>\n      <th>10</th>\n      <td>0.033666</td>\n      <td>0.002624</td>\n      <td>0.014333</td>\n      <td>0.000472</td>\n      <td>10</td>\n      <td>l2</td>\n      <td>SimpleImputer()</td>\n      <td>mean</td>\n      <td>{'clf__C': 10, 'clf__penalty': 'l2', 'transfor...</td>\n      <td>0.838606</td>\n      <td>0.860128</td>\n      <td>0.855742</td>\n      <td>0.851492</td>\n      <td>0.009286</td>\n      <td>9</td>\n    </tr>\n    <tr>\n      <th>14</th>\n      <td>0.032668</td>\n      <td>0.002357</td>\n      <td>0.013666</td>\n      <td>0.000472</td>\n      <td>100</td>\n      <td>l2</td>\n      <td>SimpleImputer()</td>\n      <td>mean</td>\n      <td>{'clf__C': 100, 'clf__penalty': 'l2', 'transfo...</td>\n      <td>0.838366</td>\n      <td>0.859889</td>\n      <td>0.855982</td>\n      <td>0.851412</td>\n      <td>0.009362</td>\n      <td>10</td>\n    </tr>\n    <tr>\n      <th>12</th>\n      <td>0.032332</td>\n      <td>0.002055</td>\n      <td>0.013336</td>\n      <td>0.000471</td>\n      <td>100</td>\n      <td>none</td>\n      <td>SimpleImputer()</td>\n      <td>mean</td>\n      <td>{'clf__C': 100, 'clf__penalty': 'none', 'trans...</td>\n      <td>0.838223</td>\n      <td>0.859889</td>\n      <td>0.856078</td>\n      <td>0.851396</td>\n      <td>0.009444</td>\n      <td>11</td>\n    </tr>\n    <tr>\n      <th>0</th>\n      <td>0.037667</td>\n      <td>0.002357</td>\n      <td>0.012999</td>\n      <td>0.000001</td>\n      <td>0.1</td>\n      <td>none</td>\n      <td>SimpleImputer()</td>\n      <td>mean</td>\n      <td>{'clf__C': 0.1, 'clf__penalty': 'none', 'trans...</td>\n      <td>0.838223</td>\n      <td>0.859889</td>\n      <td>0.856078</td>\n      <td>0.851396</td>\n      <td>0.009444</td>\n      <td>11</td>\n    </tr>\n    <tr>\n      <th>8</th>\n      <td>0.032999</td>\n      <td>0.001415</td>\n      <td>0.014000</td>\n      <td>0.000816</td>\n      <td>10</td>\n      <td>none</td>\n      <td>SimpleImputer()</td>\n      <td>mean</td>\n      <td>{'clf__C': 10, 'clf__penalty': 'none', 'transf...</td>\n      <td>0.838223</td>\n      <td>0.859889</td>\n      <td>0.856078</td>\n      <td>0.851396</td>\n      <td>0.009444</td>\n      <td>11</td>\n    </tr>\n    <tr>\n      <th>4</th>\n      <td>0.034333</td>\n      <td>0.002495</td>\n      <td>0.013332</td>\n      <td>0.000470</td>\n      <td>1</td>\n      <td>none</td>\n      <td>SimpleImputer()</td>\n      <td>mean</td>\n      <td>{'clf__C': 1, 'clf__penalty': 'none', 'transfo...</td>\n      <td>0.838223</td>\n      <td>0.859889</td>\n      <td>0.856078</td>\n      <td>0.851396</td>\n      <td>0.009444</td>\n      <td>11</td>\n    </tr>\n    <tr>\n      <th>7</th>\n      <td>0.031668</td>\n      <td>0.000942</td>\n      <td>0.014333</td>\n      <td>0.000471</td>\n      <td>1</td>\n      <td>l2</td>\n      <td>SimpleImputer()</td>\n      <td>median</td>\n      <td>{'clf__C': 1, 'clf__penalty': 'l2', 'transform...</td>\n      <td>0.839948</td>\n      <td>0.859745</td>\n      <td>0.854209</td>\n      <td>0.851301</td>\n      <td>0.008339</td>\n      <td>15</td>\n    </tr>\n    <tr>\n      <th>15</th>\n      <td>0.037666</td>\n      <td>0.004922</td>\n      <td>0.015001</td>\n      <td>0.001415</td>\n      <td>100</td>\n      <td>l2</td>\n      <td>SimpleImputer()</td>\n      <td>median</td>\n      <td>{'clf__C': 100, 'clf__penalty': 'l2', 'transfo...</td>\n      <td>0.838846</td>\n      <td>0.859026</td>\n      <td>0.854976</td>\n      <td>0.850949</td>\n      <td>0.008717</td>\n      <td>16</td>\n    </tr>\n    <tr>\n      <th>11</th>\n      <td>0.034998</td>\n      <td>0.004965</td>\n      <td>0.014334</td>\n      <td>0.000944</td>\n      <td>10</td>\n      <td>l2</td>\n      <td>SimpleImputer()</td>\n      <td>median</td>\n      <td>{'clf__C': 10, 'clf__penalty': 'l2', 'transfor...</td>\n      <td>0.838942</td>\n      <td>0.859074</td>\n      <td>0.854832</td>\n      <td>0.850949</td>\n      <td>0.008665</td>\n      <td>16</td>\n    </tr>\n    <tr>\n      <th>13</th>\n      <td>0.032335</td>\n      <td>0.000469</td>\n      <td>0.012998</td>\n      <td>0.000002</td>\n      <td>100</td>\n      <td>none</td>\n      <td>SimpleImputer()</td>\n      <td>median</td>\n      <td>{'clf__C': 100, 'clf__penalty': 'none', 'trans...</td>\n      <td>0.838798</td>\n      <td>0.858882</td>\n      <td>0.854976</td>\n      <td>0.850885</td>\n      <td>0.008695</td>\n      <td>18</td>\n    </tr>\n    <tr>\n      <th>5</th>\n      <td>0.034667</td>\n      <td>0.000472</td>\n      <td>0.014333</td>\n      <td>0.001246</td>\n      <td>1</td>\n      <td>none</td>\n      <td>SimpleImputer()</td>\n      <td>median</td>\n      <td>{'clf__C': 1, 'clf__penalty': 'none', 'transfo...</td>\n      <td>0.838798</td>\n      <td>0.858882</td>\n      <td>0.854976</td>\n      <td>0.850885</td>\n      <td>0.008695</td>\n      <td>18</td>\n    </tr>\n    <tr>\n      <th>1</th>\n      <td>0.044334</td>\n      <td>0.011146</td>\n      <td>0.014667</td>\n      <td>0.001700</td>\n      <td>0.1</td>\n      <td>none</td>\n      <td>SimpleImputer()</td>\n      <td>median</td>\n      <td>{'clf__C': 0.1, 'clf__penalty': 'none', 'trans...</td>\n      <td>0.838798</td>\n      <td>0.858882</td>\n      <td>0.854976</td>\n      <td>0.850885</td>\n      <td>0.008695</td>\n      <td>18</td>\n    </tr>\n    <tr>\n      <th>9</th>\n      <td>0.036668</td>\n      <td>0.000470</td>\n      <td>0.014665</td>\n      <td>0.000471</td>\n      <td>10</td>\n      <td>none</td>\n      <td>SimpleImputer()</td>\n      <td>median</td>\n      <td>{'clf__C': 10, 'clf__penalty': 'none', 'transf...</td>\n      <td>0.838798</td>\n      <td>0.858882</td>\n      <td>0.854976</td>\n      <td>0.850885</td>\n      <td>0.008695</td>\n      <td>18</td>\n    </tr>\n    <tr>\n      <th>2</th>\n      <td>0.039667</td>\n      <td>0.006600</td>\n      <td>0.016333</td>\n      <td>0.003399</td>\n      <td>0.1</td>\n      <td>l2</td>\n      <td>SimpleImputer()</td>\n      <td>mean</td>\n      <td>{'clf__C': 0.1, 'clf__penalty': 'l2', 'transfo...</td>\n      <td>0.838175</td>\n      <td>0.863100</td>\n      <td>0.850086</td>\n      <td>0.850454</td>\n      <td>0.010179</td>\n      <td>22</td>\n    </tr>\n    <tr>\n      <th>17</th>\n      <td>0.065001</td>\n      <td>0.004966</td>\n      <td>0.014665</td>\n      <td>0.001247</td>\n      <td>0.1</td>\n      <td>l2</td>\n      <td>IterativeImputer()</td>\n      <td>NaN</td>\n      <td>{'clf__C': 0.1, 'clf__penalty': 'l2', 'transfo...</td>\n      <td>0.837072</td>\n      <td>0.863724</td>\n      <td>0.849176</td>\n      <td>0.849990</td>\n      <td>0.010896</td>\n      <td>23</td>\n    </tr>\n    <tr>\n      <th>3</th>\n      <td>0.035999</td>\n      <td>0.001636</td>\n      <td>0.014332</td>\n      <td>0.001886</td>\n      <td>0.1</td>\n      <td>l2</td>\n      <td>SimpleImputer()</td>\n      <td>median</td>\n      <td>{'clf__C': 0.1, 'clf__penalty': 'l2', 'transfo...</td>\n      <td>0.837695</td>\n      <td>0.861662</td>\n      <td>0.849847</td>\n      <td>0.849735</td>\n      <td>0.009785</td>\n      <td>24</td>\n    </tr>\n  </tbody>\n</table>\n</div>"
     },
     "execution_count": 83,
     "metadata": {},
     "output_type": "execute_result"
    }
   ],
   "source": [
    "pd.DataFrame(lr_gs.cv_results_).sort_values('rank_test_score')"
   ],
   "metadata": {
    "collapsed": false,
    "pycharm": {
     "name": "#%%\n"
    }
   }
  },
  {
   "cell_type": "code",
   "execution_count": 88,
   "outputs": [],
   "source": [
    "lr = lr_gs.best_estimator_"
   ],
   "metadata": {
    "collapsed": false,
    "pycharm": {
     "name": "#%%\n"
    }
   }
  },
  {
   "cell_type": "code",
   "execution_count": 90,
   "outputs": [
    {
     "data": {
      "text/plain": "['__abstractmethods__',\n '__annotations__',\n '__class__',\n '__delattr__',\n '__dict__',\n '__dir__',\n '__doc__',\n '__eq__',\n '__format__',\n '__ge__',\n '__getattribute__',\n '__getitem__',\n '__getstate__',\n '__gt__',\n '__hash__',\n '__init__',\n '__init_subclass__',\n '__le__',\n '__len__',\n '__lt__',\n '__module__',\n '__ne__',\n '__new__',\n '__reduce__',\n '__reduce_ex__',\n '__repr__',\n '__setattr__',\n '__setstate__',\n '__sizeof__',\n '__sklearn_is_fitted__',\n '__str__',\n '__subclasshook__',\n '__weakref__',\n '_abc_impl',\n '_can_inverse_transform',\n '_can_transform',\n '_check_feature_names',\n '_check_fit_params',\n '_check_n_features',\n '_estimator_type',\n '_final_estimator',\n '_fit',\n '_get_param_names',\n '_get_params',\n '_get_tags',\n '_iter',\n '_log_message',\n '_more_tags',\n '_replace_estimator',\n '_repr_html_',\n '_repr_html_inner',\n '_repr_mimebundle_',\n '_required_parameters',\n '_set_params',\n '_sk_visual_block_',\n '_validate_data',\n '_validate_names',\n '_validate_params',\n '_validate_steps',\n 'classes_',\n 'decision_function',\n 'feature_names_in_',\n 'fit',\n 'fit_predict',\n 'fit_transform',\n 'get_feature_names_out',\n 'get_params',\n 'inverse_transform',\n 'memory',\n 'n_features_in_',\n 'named_steps',\n 'predict',\n 'predict_log_proba',\n 'predict_proba',\n 'score',\n 'score_samples',\n 'set_output',\n 'set_params',\n 'steps',\n 'transform',\n 'verbose']"
     },
     "execution_count": 90,
     "metadata": {},
     "output_type": "execute_result"
    }
   ],
   "source": [
    "dir(lr)"
   ],
   "metadata": {
    "collapsed": false,
    "pycharm": {
     "name": "#%%\n"
    }
   }
  },
  {
   "cell_type": "code",
   "execution_count": 96,
   "outputs": [
    {
     "data": {
      "text/plain": "array([[ 1.13070513, -0.54454893, -0.46106546, -0.15139654,  0.1896602 ,\n         0.39716796, -0.69978659, -1.8592616 ,  0.04168653, -0.51174865]])"
     },
     "execution_count": 96,
     "metadata": {},
     "output_type": "execute_result"
    }
   ],
   "source": [
    "lr.named_steps['clf'].coef_"
   ],
   "metadata": {
    "collapsed": false,
    "pycharm": {
     "name": "#%%\n"
    }
   }
  },
  {
   "cell_type": "code",
   "execution_count": null,
   "outputs": [],
   "source": [],
   "metadata": {
    "collapsed": false,
    "pycharm": {
     "name": "#%%\n"
    }
   }
  },
  {
   "cell_type": "code",
   "execution_count": 97,
   "outputs": [
    {
     "data": {
      "text/plain": "             pclass    sex   age  sibsp  parch     fare embarked  name_length\npassengerid                                                                  \n1             third  False  22.0      1      0   7.2500        S           23\n2             first   True  38.0      1      0  71.2833        C           51\n3             third   True  26.0      0      0   7.9250        S           22\n4             first   True  35.0      1      0  53.1000        S           44\n5             third  False  35.0      0      0   8.0500        S           24\n...             ...    ...   ...    ...    ...      ...      ...          ...\n887          second  False  27.0      0      0  13.0000        S           21\n888           first   True  19.0      0      0  30.0000        S           28\n889           third   True   NaN      1      2  23.4500        S           40\n890           first  False  26.0      0      0  30.0000        C           21\n891           third  False  32.0      0      0   7.7500        Q           19\n\n[891 rows x 8 columns]",
      "text/html": "<div>\n<style scoped>\n    .dataframe tbody tr th:only-of-type {\n        vertical-align: middle;\n    }\n\n    .dataframe tbody tr th {\n        vertical-align: top;\n    }\n\n    .dataframe thead th {\n        text-align: right;\n    }\n</style>\n<table border=\"1\" class=\"dataframe\">\n  <thead>\n    <tr style=\"text-align: right;\">\n      <th></th>\n      <th>pclass</th>\n      <th>sex</th>\n      <th>age</th>\n      <th>sibsp</th>\n      <th>parch</th>\n      <th>fare</th>\n      <th>embarked</th>\n      <th>name_length</th>\n    </tr>\n    <tr>\n      <th>passengerid</th>\n      <th></th>\n      <th></th>\n      <th></th>\n      <th></th>\n      <th></th>\n      <th></th>\n      <th></th>\n      <th></th>\n    </tr>\n  </thead>\n  <tbody>\n    <tr>\n      <th>1</th>\n      <td>third</td>\n      <td>False</td>\n      <td>22.0</td>\n      <td>1</td>\n      <td>0</td>\n      <td>7.2500</td>\n      <td>S</td>\n      <td>23</td>\n    </tr>\n    <tr>\n      <th>2</th>\n      <td>first</td>\n      <td>True</td>\n      <td>38.0</td>\n      <td>1</td>\n      <td>0</td>\n      <td>71.2833</td>\n      <td>C</td>\n      <td>51</td>\n    </tr>\n    <tr>\n      <th>3</th>\n      <td>third</td>\n      <td>True</td>\n      <td>26.0</td>\n      <td>0</td>\n      <td>0</td>\n      <td>7.9250</td>\n      <td>S</td>\n      <td>22</td>\n    </tr>\n    <tr>\n      <th>4</th>\n      <td>first</td>\n      <td>True</td>\n      <td>35.0</td>\n      <td>1</td>\n      <td>0</td>\n      <td>53.1000</td>\n      <td>S</td>\n      <td>44</td>\n    </tr>\n    <tr>\n      <th>5</th>\n      <td>third</td>\n      <td>False</td>\n      <td>35.0</td>\n      <td>0</td>\n      <td>0</td>\n      <td>8.0500</td>\n      <td>S</td>\n      <td>24</td>\n    </tr>\n    <tr>\n      <th>...</th>\n      <td>...</td>\n      <td>...</td>\n      <td>...</td>\n      <td>...</td>\n      <td>...</td>\n      <td>...</td>\n      <td>...</td>\n      <td>...</td>\n    </tr>\n    <tr>\n      <th>887</th>\n      <td>second</td>\n      <td>False</td>\n      <td>27.0</td>\n      <td>0</td>\n      <td>0</td>\n      <td>13.0000</td>\n      <td>S</td>\n      <td>21</td>\n    </tr>\n    <tr>\n      <th>888</th>\n      <td>first</td>\n      <td>True</td>\n      <td>19.0</td>\n      <td>0</td>\n      <td>0</td>\n      <td>30.0000</td>\n      <td>S</td>\n      <td>28</td>\n    </tr>\n    <tr>\n      <th>889</th>\n      <td>third</td>\n      <td>True</td>\n      <td>NaN</td>\n      <td>1</td>\n      <td>2</td>\n      <td>23.4500</td>\n      <td>S</td>\n      <td>40</td>\n    </tr>\n    <tr>\n      <th>890</th>\n      <td>first</td>\n      <td>False</td>\n      <td>26.0</td>\n      <td>0</td>\n      <td>0</td>\n      <td>30.0000</td>\n      <td>C</td>\n      <td>21</td>\n    </tr>\n    <tr>\n      <th>891</th>\n      <td>third</td>\n      <td>False</td>\n      <td>32.0</td>\n      <td>0</td>\n      <td>0</td>\n      <td>7.7500</td>\n      <td>Q</td>\n      <td>19</td>\n    </tr>\n  </tbody>\n</table>\n<p>891 rows × 8 columns</p>\n</div>"
     },
     "execution_count": 97,
     "metadata": {},
     "output_type": "execute_result"
    }
   ],
   "source": [
    "x"
   ],
   "metadata": {
    "collapsed": false,
    "pycharm": {
     "name": "#%%\n"
    }
   }
  },
  {
   "cell_type": "code",
   "execution_count": null,
   "outputs": [],
   "source": [],
   "metadata": {
    "collapsed": false,
    "pycharm": {
     "name": "#%%\n"
    }
   }
  },
  {
   "cell_type": "code",
   "execution_count": null,
   "outputs": [],
   "source": [],
   "metadata": {
    "collapsed": false,
    "pycharm": {
     "name": "#%%\n"
    }
   }
  },
  {
   "cell_type": "code",
   "execution_count": null,
   "outputs": [],
   "source": [],
   "metadata": {
    "collapsed": false,
    "pycharm": {
     "name": "#%%\n"
    }
   }
  },
  {
   "cell_type": "code",
   "execution_count": null,
   "outputs": [],
   "source": [],
   "metadata": {
    "collapsed": false,
    "pycharm": {
     "name": "#%%\n"
    }
   }
  },
  {
   "cell_type": "code",
   "execution_count": null,
   "outputs": [],
   "source": [],
   "metadata": {
    "collapsed": false,
    "pycharm": {
     "name": "#%%\n"
    }
   }
  },
  {
   "cell_type": "code",
   "execution_count": null,
   "outputs": [],
   "source": [],
   "metadata": {
    "collapsed": false,
    "pycharm": {
     "name": "#%%\n"
    }
   }
  },
  {
   "cell_type": "code",
   "execution_count": null,
   "outputs": [],
   "source": [],
   "metadata": {
    "collapsed": false,
    "pycharm": {
     "name": "#%%\n"
    }
   }
  },
  {
   "cell_type": "code",
   "execution_count": null,
   "outputs": [],
   "source": [],
   "metadata": {
    "collapsed": false,
    "pycharm": {
     "name": "#%%\n"
    }
   }
  },
  {
   "cell_type": "code",
   "execution_count": null,
   "outputs": [],
   "source": [],
   "metadata": {
    "collapsed": false,
    "pycharm": {
     "name": "#%%\n"
    }
   }
  },
  {
   "cell_type": "code",
   "execution_count": null,
   "outputs": [],
   "source": [],
   "metadata": {
    "collapsed": false,
    "pycharm": {
     "name": "#%%\n"
    }
   }
  },
  {
   "cell_type": "code",
   "execution_count": null,
   "outputs": [],
   "source": [],
   "metadata": {
    "collapsed": false,
    "pycharm": {
     "name": "#%%\n"
    }
   }
  },
  {
   "cell_type": "code",
   "execution_count": null,
   "outputs": [],
   "source": [],
   "metadata": {
    "collapsed": false,
    "pycharm": {
     "name": "#%%\n"
    }
   }
  },
  {
   "cell_type": "code",
   "execution_count": null,
   "outputs": [],
   "source": [],
   "metadata": {
    "collapsed": false,
    "pycharm": {
     "name": "#%%\n"
    }
   }
  },
  {
   "cell_type": "code",
   "execution_count": null,
   "outputs": [],
   "source": [],
   "metadata": {
    "collapsed": false,
    "pycharm": {
     "name": "#%%\n"
    }
   }
  },
  {
   "cell_type": "code",
   "execution_count": null,
   "outputs": [],
   "source": [],
   "metadata": {
    "collapsed": false,
    "pycharm": {
     "name": "#%%\n"
    }
   }
  },
  {
   "cell_type": "code",
   "execution_count": null,
   "outputs": [],
   "source": [],
   "metadata": {
    "collapsed": false,
    "pycharm": {
     "name": "#%%\n"
    }
   }
  },
  {
   "cell_type": "code",
   "execution_count": null,
   "outputs": [],
   "source": [],
   "metadata": {
    "collapsed": false,
    "pycharm": {
     "name": "#%%\n"
    }
   }
  },
  {
   "cell_type": "code",
   "execution_count": null,
   "outputs": [],
   "source": [],
   "metadata": {
    "collapsed": false,
    "pycharm": {
     "name": "#%%\n"
    }
   }
  }
 ],
 "metadata": {
  "kernelspec": {
   "display_name": "Python 3",
   "language": "python",
   "name": "python3"
  },
  "language_info": {
   "codemirror_mode": {
    "name": "ipython",
    "version": 2
   },
   "file_extension": ".py",
   "mimetype": "text/x-python",
   "name": "python",
   "nbconvert_exporter": "python",
   "pygments_lexer": "ipython2",
   "version": "2.7.6"
  }
 },
 "nbformat": 4,
 "nbformat_minor": 0
}