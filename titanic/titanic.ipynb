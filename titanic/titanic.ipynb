{
 "cells": [
  {
   "cell_type": "code",
   "execution_count": null,
   "metadata": {
    "collapsed": true,
    "pycharm": {
     "name": "#%%\n",
     "is_executing": true
    }
   },
   "outputs": [],
   "source": [
    "import pandas as pd\n",
    "import numpy as np\n",
    "import matplotlib.pyplot as plt\n",
    "import seaborn as sns\n",
    "from sklearn.compose import ColumnTransformer\n",
    "from sklearn.experimental import enable_iterative_imputer\n",
    "from sklearn.impute import SimpleImputer, IterativeImputer\n",
    "from sklearn.preprocessing import StandardScaler, MinMaxScaler, OneHotEncoder, LabelEncoder, OrdinalEncoder, PolynomialFeatures\n",
    "from sklearn.pipeline import Pipeline\n",
    "from sklearn.compose import make_column_selector as selector\n",
    "from sklearn.linear_model import LogisticRegression\n",
    "from sklearn.model_selection import cross_val_score\n",
    "from sklearn.model_selection import GridSearchCV\n",
    "from sklearn.inspection import permutation_importance\n",
    "from sklearn.feature_selection import RFECV\n",
    "from sklearn.feature_selection import RFE\n",
    "from sklearn.svm import SVC, LinearSVC\n",
    "from sklearn.naive_bayes import BernoulliNB, CategoricalNB, ComplementNB, GaussianNB, MultinomialNB\n",
    "from sklearn.tree import DecisionTreeClassifier\n",
    "from sklearn.ensemble import RandomForestClassifier, ExtraTreesClassifier, RandomTreesEmbedding, BaggingClassifier, StackingClassifier, VotingClassifier\n",
    "from sklearn.metrics import roc_curve, roc_auc_score\n",
    "from sklearn.model_selection import train_test_split\n",
    "\n",
    "import xgboost as xgb\n",
    "import optuna\n"
   ]
  },
  {
   "cell_type": "markdown",
   "source": [
    "# Импорт библиотек"
   ],
   "metadata": {
    "collapsed": false,
    "pycharm": {
     "name": "#%% md\n"
    }
   }
  },
  {
   "cell_type": "code",
   "execution_count": null,
   "outputs": [],
   "source": [
    "df = pd.read_csv('train.csv')\n",
    "test = pd.read_csv('test.csv')\n",
    "df.sample(3)"
   ],
   "metadata": {
    "collapsed": false,
    "pycharm": {
     "name": "#%%\n",
     "is_executing": true
    }
   }
  },
  {
   "cell_type": "markdown",
   "source": [
    "## Выставление настроек"
   ],
   "metadata": {
    "collapsed": false,
    "pycharm": {
     "name": "#%% md\n"
    }
   }
  },
  {
   "cell_type": "code",
   "execution_count": null,
   "outputs": [],
   "source": [
    "2+2"
   ],
   "metadata": {
    "collapsed": false,
    "pycharm": {
     "name": "#%%\n",
     "is_executing": true
    }
   }
  },
  {
   "cell_type": "code",
   "execution_count": null,
   "outputs": [],
   "source": [],
   "metadata": {
    "collapsed": false,
    "pycharm": {
     "name": "#%%\n",
     "is_executing": true
    }
   }
  },
  {
   "cell_type": "markdown",
   "source": [
    "# Обработка данных"
   ],
   "metadata": {
    "collapsed": false,
    "pycharm": {
     "name": "#%% md\n"
    }
   }
  },
  {
   "cell_type": "markdown",
   "source": [
    "Начнем с того, что приведем все названия колонок к \"змеиной нотации\""
   ],
   "metadata": {
    "collapsed": false,
    "pycharm": {
     "name": "#%% md\n"
    }
   }
  },
  {
   "cell_type": "code",
   "execution_count": null,
   "outputs": [],
   "source": [
    "df.columns = df.columns.str.lower()\n",
    "test.columns = test.columns.str.lower()"
   ],
   "metadata": {
    "collapsed": false,
    "pycharm": {
     "name": "#%%\n",
     "is_executing": true
    }
   }
  },
  {
   "cell_type": "markdown",
   "source": [
    "Переведем колонку с индексом в индекс датафрейма"
   ],
   "metadata": {
    "collapsed": false,
    "pycharm": {
     "name": "#%% md\n"
    }
   }
  },
  {
   "cell_type": "code",
   "execution_count": null,
   "outputs": [],
   "source": [
    "df = df.set_index('passengerid')\n",
    "test = test.set_index('passengerid')"
   ],
   "metadata": {
    "collapsed": false,
    "pycharm": {
     "name": "#%%\n",
     "is_executing": true
    }
   }
  },
  {
   "cell_type": "markdown",
   "source": [
    "Выведем общую информацию об обучающем и тестовом датасетах"
   ],
   "metadata": {
    "collapsed": false,
    "pycharm": {
     "name": "#%% md\n"
    }
   }
  },
  {
   "cell_type": "code",
   "execution_count": null,
   "outputs": [],
   "source": [
    "def full_info(df):\n",
    "    display(pd.DataFrame({'Non-Null Count': (~df.isna()).sum(),\n",
    "                          'Null Count': df.isna().sum(),\n",
    "                          'Dtype': df.dtypes}).join(df.describe().T).rename_axis('Feature', axis=1).fillna(''))"
   ],
   "metadata": {
    "collapsed": false,
    "pycharm": {
     "name": "#%%\n",
     "is_executing": true
    }
   }
  },
  {
   "cell_type": "code",
   "execution_count": null,
   "outputs": [],
   "source": [
    "full_info(df)"
   ],
   "metadata": {
    "collapsed": false,
    "pycharm": {
     "name": "#%%\n",
     "is_executing": true
    }
   }
  },
  {
   "cell_type": "code",
   "execution_count": null,
   "outputs": [],
   "source": [
    "full_info(test)"
   ],
   "metadata": {
    "collapsed": false,
    "pycharm": {
     "name": "#%%\n",
     "is_executing": true
    }
   }
  },
  {
   "cell_type": "markdown",
   "source": [
    "Выводы следующие:\n",
    "* В обучающем датасете 891 наблюдение\n",
    "* Пропуски есть в колонках с возрастом и номером кабины(?). Пропуски есть также и в тестовом датасете, поэтому модель должна уметь работать с ними\n",
    "* Не все типы данных оптимальны\n",
    "* есть небольшой дисбаланс в пользу погибших"
   ],
   "metadata": {
    "collapsed": false,
    "pycharm": {
     "name": "#%% md\n"
    }
   }
  },
  {
   "cell_type": "markdown",
   "source": [
    "Удалим признак с номером кабины, так как восстановить эту информацию и использовать далее не удастся"
   ],
   "metadata": {
    "collapsed": false,
    "pycharm": {
     "name": "#%% md\n"
    }
   }
  },
  {
   "cell_type": "code",
   "execution_count": null,
   "outputs": [],
   "source": [
    "try:\n",
    "    df = df.drop('cabin', axis=1)\n",
    "    test = test.drop('cabin', axis=1)\n",
    "except:\n",
    "    print('Признака уже нет')"
   ],
   "metadata": {
    "collapsed": false,
    "pycharm": {
     "name": "#%%\n",
     "is_executing": true
    }
   }
  },
  {
   "cell_type": "markdown",
   "source": [
    "Поменяем типы данных"
   ],
   "metadata": {
    "collapsed": false,
    "pycharm": {
     "name": "#%% md\n"
    }
   }
  },
  {
   "cell_type": "code",
   "execution_count": null,
   "outputs": [],
   "source": [
    "df['pclass'] = df['pclass'].replace({1: 'first', 2: 'second', 3: 'third'})\n",
    "test['pclass'] = test['pclass'].replace({1: 'first', 2: 'second', 3: 'third'})"
   ],
   "metadata": {
    "collapsed": false,
    "pycharm": {
     "name": "#%%\n",
     "is_executing": true
    }
   }
  },
  {
   "cell_type": "code",
   "execution_count": null,
   "outputs": [],
   "source": [
    "df['sex'] = df['sex'].replace({'male': 0, 'female': 1}).astype('bool')\n",
    "test['sex'] = test['sex'].replace({'male': 0, 'female': 1}).astype('bool')"
   ],
   "metadata": {
    "collapsed": false,
    "pycharm": {
     "name": "#%%\n",
     "is_executing": true
    }
   }
  },
  {
   "cell_type": "markdown",
   "source": [
    "Добавим новый признак, равный длине имени. Позже проверим, как это влияет на шансы выжить"
   ],
   "metadata": {
    "collapsed": false,
    "pycharm": {
     "name": "#%% md\n"
    }
   }
  },
  {
   "cell_type": "code",
   "execution_count": null,
   "outputs": [],
   "source": [
    "df['name_length'] = df['name'].apply(len)\n",
    "test['name_length'] = test['name'].apply(len)"
   ],
   "metadata": {
    "collapsed": false,
    "pycharm": {
     "name": "#%%\n",
     "is_executing": true
    }
   }
  },
  {
   "cell_type": "markdown",
   "source": [
    "Посмотрим на признак \"номер билета\""
   ],
   "metadata": {
    "collapsed": false,
    "pycharm": {
     "name": "#%% md\n"
    }
   }
  },
  {
   "cell_type": "code",
   "execution_count": null,
   "outputs": [],
   "source": [
    "df['ticket'].value_counts()"
   ],
   "metadata": {
    "collapsed": false,
    "pycharm": {
     "name": "#%%\n",
     "is_executing": true
    }
   }
  },
  {
   "cell_type": "markdown",
   "source": [
    "Совпадающих значений мало, удалим признак"
   ],
   "metadata": {
    "collapsed": false,
    "pycharm": {
     "name": "#%% md\n"
    }
   }
  },
  {
   "cell_type": "code",
   "execution_count": null,
   "outputs": [],
   "source": [
    "df = df.drop('ticket', axis=1)\n",
    "test = test.drop('ticket', axis=1)"
   ],
   "metadata": {
    "collapsed": false,
    "pycharm": {
     "name": "#%%\n",
     "is_executing": true
    }
   }
  },
  {
   "cell_type": "markdown",
   "source": [
    "# Исследование данных"
   ],
   "metadata": {
    "collapsed": false,
    "pycharm": {
     "name": "#%% md\n"
    }
   }
  },
  {
   "cell_type": "markdown",
   "source": [
    "Построим по порядку для всех признаков графики, позволяющие пока визуально оценить влияние признака на целевую переменную"
   ],
   "metadata": {
    "collapsed": false,
    "pycharm": {
     "name": "#%% md\n"
    }
   }
  },
  {
   "cell_type": "markdown",
   "source": [
    "## Номер класса"
   ],
   "metadata": {
    "collapsed": false,
    "pycharm": {
     "name": "#%% md\n"
    }
   }
  },
  {
   "cell_type": "code",
   "execution_count": null,
   "outputs": [],
   "source": [
    "df.groupby('pclass')['survived'].value_counts(normalize=True).round(2)"
   ],
   "metadata": {
    "collapsed": false,
    "pycharm": {
     "name": "#%%\n",
     "is_executing": true
    }
   }
  },
  {
   "cell_type": "code",
   "execution_count": null,
   "outputs": [],
   "source": [
    "fig, [ax1, ax2] = plt.subplots(1, 2, figsize=(16, 6))\n",
    "\n",
    "plt.suptitle('Барчарты выживаемости для пассажиров разного класса')\n",
    "df.groupby(['pclass', 'survived'])['survived'].value_counts().unstack().plot.barh(ax=ax1);\n",
    "ax1.legend(loc='lower right');\n",
    "ax1.set_title('матплотлиб')\n",
    "\n",
    "sns.barplot(data=df.groupby(['pclass', 'survived'])['survived'].value_counts().reset_index(),\n",
    "            y='pclass',\n",
    "            order=['third', 'second', 'first'],\n",
    "            x='count',\n",
    "            hue='survived',\n",
    "            # hue_order=[0, 1],\n",
    "            orient='h',\n",
    "            ax=ax2);\n",
    "ax2.set_title('сиборн');"
   ],
   "metadata": {
    "collapsed": false,
    "pycharm": {
     "name": "#%%\n",
     "is_executing": true
    }
   }
  },
  {
   "cell_type": "markdown",
   "source": [
    "Предсказуемо, шансы выжить у пассажиров первого класса были выше"
   ],
   "metadata": {
    "collapsed": false,
    "pycharm": {
     "name": "#%% md\n"
    }
   }
  },
  {
   "cell_type": "markdown",
   "source": [
    "## Имя\n",
    "\n",
    "Проверим, существует ли связь между длиной имени и вероятностью выжить."
   ],
   "metadata": {
    "collapsed": false,
    "pycharm": {
     "name": "#%% md\n"
    }
   }
  },
  {
   "cell_type": "code",
   "execution_count": null,
   "outputs": [],
   "source": [
    "df.groupby('survived')['name_length'].plot(bins=20, alpha=0.5, kind='hist', grid=False);\n",
    "plt.legend();\n",
    "plt.title('Зависимость длины имени от вероятности выжить')\n",
    "plt.xlabel('Длина имени в билете');"
   ],
   "metadata": {
    "collapsed": false,
    "pycharm": {
     "name": "#%%\n",
     "is_executing": true
    }
   }
  },
  {
   "cell_type": "markdown",
   "source": [
    "Удалим признак с именем"
   ],
   "metadata": {
    "collapsed": false,
    "pycharm": {
     "name": "#%% md\n"
    }
   }
  },
  {
   "cell_type": "code",
   "execution_count": null,
   "outputs": [],
   "source": [
    "df = df.drop('name', axis=1)"
   ],
   "metadata": {
    "collapsed": false,
    "pycharm": {
     "name": "#%%\n",
     "is_executing": true
    }
   }
  },
  {
   "cell_type": "markdown",
   "source": [
    "## Пол"
   ],
   "metadata": {
    "collapsed": false,
    "pycharm": {
     "name": "#%% md\n"
    }
   }
  },
  {
   "cell_type": "code",
   "execution_count": null,
   "outputs": [],
   "source": [
    "sns.heatmap(df.groupby(['sex', 'survived'])['survived'].count().unstack(), annot=True, fmt='.3g');"
   ],
   "metadata": {
    "collapsed": false,
    "pycharm": {
     "name": "#%%\n",
     "is_executing": true
    }
   }
  },
  {
   "cell_type": "markdown",
   "source": [
    "Среди женщин выжило примерно 75%, среди мужчин - 20%"
   ],
   "metadata": {
    "collapsed": false,
    "pycharm": {
     "name": "#%% md\n"
    }
   }
  },
  {
   "cell_type": "markdown",
   "source": [
    "## Возраст"
   ],
   "metadata": {
    "collapsed": false,
    "pycharm": {
     "name": "#%% md\n"
    }
   }
  },
  {
   "cell_type": "code",
   "execution_count": null,
   "outputs": [],
   "source": [
    "fig, [ax1, ax2] = plt.subplots(1, 2, figsize=(16, 6))\n",
    "\n",
    "# fig.title('a')\n",
    "fig.suptitle('b')\n",
    "plt.title('c')\n",
    "plt.suptitle('d')\n",
    "\n",
    "df.groupby('survived')['age'].plot(bins=20, alpha=0.5, kind='hist', grid=False, ax=ax1);\n",
    "ax1.legend();\n",
    "ax1.set_xlabel('Возраст');\n",
    "\n",
    "df.boxplot(column='age', by='survived', grid=False, ax=ax2);\n",
    "ax2.set_xlabel('');\n",
    "ax2.set_title('')\n",
    "ax2.set_xlabel('Выжил/нет выжил')\n",
    "ax2.set_ylabel('Возраст');"
   ],
   "metadata": {
    "collapsed": false,
    "pycharm": {
     "name": "#%%\n",
     "is_executing": true
    }
   }
  },
  {
   "cell_type": "markdown",
   "source": [
    "# Обучение моделей"
   ],
   "metadata": {
    "collapsed": false,
    "pycharm": {
     "name": "#%% md\n"
    }
   }
  },
  {
   "cell_type": "markdown",
   "source": [
    "## Разделение датасета на признаки и таргет, на обучающую и тестовую выборки"
   ],
   "metadata": {
    "collapsed": false,
    "pycharm": {
     "name": "#%% md\n"
    }
   }
  },
  {
   "cell_type": "code",
   "execution_count": null,
   "outputs": [],
   "source": [
    "x = df.drop('survived', axis=1)\n",
    "y = df['survived']\n",
    "x_train, x_test, y_train, y_test = train_test_split(x, y, test_size=0.2, random_state=123)"
   ],
   "metadata": {
    "collapsed": false,
    "pycharm": {
     "name": "#%%\n",
     "is_executing": true
    }
   }
  },
  {
   "cell_type": "markdown",
   "source": [
    "## Линейные модели"
   ],
   "metadata": {
    "collapsed": false,
    "pycharm": {
     "name": "#%% md\n"
    }
   }
  },
  {
   "cell_type": "markdown",
   "source": [
    "Построим пайплайн преобразования признаков для линейной модели"
   ],
   "metadata": {
    "collapsed": false,
    "pycharm": {
     "name": "#%% md\n"
    }
   }
  },
  {
   "cell_type": "code",
   "execution_count": null,
   "outputs": [],
   "source": [
    "num_ct = Pipeline(steps=[('imputer', SimpleImputer(strategy='mean')),\n",
    "                         ('scaler', StandardScaler())])\n",
    "\n",
    "cat_ct = Pipeline(steps=[('imputer', SimpleImputer(strategy='most_frequent')),\n",
    "                         ('ohe', OneHotEncoder(drop='first'))])\n",
    "\n",
    "transformer = ColumnTransformer(transformers=[('nums', num_ct, selector(dtype_exclude=\"object\")),\n",
    "                                              ('cats', cat_ct, selector(dtype_include=\"object\"))],\n",
    "                                remainder='passthrough')\n",
    "Pipeline(steps=[('', transformer)])"
   ],
   "metadata": {
    "collapsed": false,
    "pycharm": {
     "name": "#%%\n",
     "is_executing": true
    }
   }
  },
  {
   "cell_type": "markdown",
   "source": [
    "Посмотрим на получившиеся признаки. У них теперь нет имен, но по порядку преобразвоаний можно увидеть, что последние 4 признака - это категориальные признаки, подвергнутые OHE."
   ],
   "metadata": {
    "collapsed": false,
    "pycharm": {
     "name": "#%% md\n"
    }
   }
  },
  {
   "cell_type": "code",
   "execution_count": null,
   "outputs": [],
   "source": [
    "full_info(pd.DataFrame(transformer.fit_transform(x_train)).astype('float'))"
   ],
   "metadata": {
    "collapsed": false,
    "pycharm": {
     "name": "#%%\n",
     "is_executing": true
    }
   }
  },
  {
   "cell_type": "markdown",
   "source": [
    "Добавим в пайплайн классификатор"
   ],
   "metadata": {
    "collapsed": false,
    "pycharm": {
     "name": "#%% md\n"
    }
   }
  },
  {
   "cell_type": "code",
   "execution_count": null,
   "outputs": [],
   "source": [
    "lr_pipe = Pipeline(steps=[('transformer', transformer), ('clf', LogisticRegression(random_state=123))])\n",
    "\n",
    "params = [{'transformer__nums__imputer': [SimpleImputer()],\n",
    "           'transformer__nums__imputer__strategy': ['mean', 'median'],\n",
    "           'clf__penalty': ['none', 'l2'],\n",
    "           'clf__C': [0.1, 1, 10, 100]\n",
    "          },\n",
    "          { 'transformer__nums__imputer': [IterativeImputer(random_state=123)],\n",
    "           'clf__penalty': ['none', 'l2'],\n",
    "           'clf__C': [0.1, 1, 10, 100]\n",
    "          }]\n",
    "\n",
    "lr_gs    = GridSearchCV(estimator=lr_pipe,\n",
    "                        param_grid=params,\n",
    "                        scoring='roc_auc',\n",
    "                        refit=True,\n",
    "                        cv=3,\n",
    "                        n_jobs=-1,\n",
    "                        verbose=10)\n",
    "lr_gs.fit(x_train, y_train)\n",
    "lr_best = lr_gs.best_estimator_;"
   ],
   "metadata": {
    "collapsed": false,
    "pycharm": {
     "name": "#%%\n",
     "is_executing": true
    }
   }
  },
  {
   "cell_type": "code",
   "execution_count": null,
   "outputs": [],
   "source": [
    "display(pd.DataFrame(lr_gs.cv_results_).sort_values('rank_test_score'))\n",
    "print(f'параметры: {pd.DataFrame(lr_gs.cv_results_).sort_values(\"rank_test_score\").head(1)[\"params\"].values[0]}',\n",
    "      f'\\nroc-auc: {pd.DataFrame(lr_gs.cv_results_).sort_values(\"rank_test_score\").head(1)[\"mean_test_score\"].values[0]:.4f}')"
   ],
   "metadata": {
    "collapsed": false,
    "pycharm": {
     "name": "#%%\n",
     "is_executing": true
    }
   }
  },
  {
   "cell_type": "code",
   "execution_count": null,
   "outputs": [],
   "source": [
    "lr = lr_gs.best_estimator_"
   ],
   "metadata": {
    "collapsed": false,
    "pycharm": {
     "name": "#%%\n",
     "is_executing": true
    }
   }
  },
  {
   "cell_type": "markdown",
   "source": [
    "Классификатор обучен и может уже что-то предсказывать. Посмотрим на важность признаков с точки зрения коэффициентов логистической регрессии и permutation_importance"
   ],
   "metadata": {
    "collapsed": false,
    "pycharm": {
     "name": "#%% md\n"
    }
   }
  },
  {
   "cell_type": "code",
   "execution_count": null,
   "outputs": [],
   "source": [
    "fig, (ax1, ax2) = plt.subplots(1, 2, figsize=(16, 6))\n",
    "\n",
    "pd.Series(lr.named_steps['clf'].coef_.reshape(-1), index=lr.named_steps['transformer'].get_feature_names_out()).sort_values().plot.barh(ax=ax1);\n",
    "ax1.set_title('LR coefs');\n",
    "\n",
    "r = permutation_importance(lr, x_train, y_train, scoring='roc_auc', n_repeats=30, random_state=123)\n",
    "pd.Series(r.importances_mean, index=x_train.columns).sort_values().plot.barh(xerr=r.importances_std, ax=ax2);\n",
    "ax2.set_title('Permutation importances');"
   ],
   "metadata": {
    "collapsed": false,
    "pycharm": {
     "name": "#%%\n",
     "is_executing": true
    }
   }
  },
  {
   "cell_type": "markdown",
   "source": [
    "### Добавление полиномиальных признаков"
   ],
   "metadata": {
    "collapsed": false,
    "pycharm": {
     "name": "#%% md\n"
    }
   }
  },
  {
   "cell_type": "code",
   "execution_count": null,
   "outputs": [],
   "source": [
    "num_ct_poly = Pipeline(steps=[('imputer', IterativeImputer(random_state=123)),\n",
    "                              ('scaler', StandardScaler()),\n",
    "                              ('poly', PolynomialFeatures())])\n",
    "\n",
    "cat_ct = Pipeline(steps=[('imputer', SimpleImputer(strategy='most_frequent')),\n",
    "                         ('ohe', OneHotEncoder(drop='first'))])\n",
    "\n",
    "transformer_poly = ColumnTransformer(transformers=[('nums', num_ct_poly, selector(dtype_exclude=\"object\")),\n",
    "                                                   ('cats', cat_ct, selector(dtype_include=\"object\"))],\n",
    "                                                    remainder='passthrough')\n",
    "\n",
    "clf_lr = LogisticRegression()\n",
    "# lr_pipe = Pipeline(steps=[('transformer', transformer_poly), ('clf', clf_lr)])\n",
    "#\n",
    "# lr_pipe.fit(x, y)"
   ],
   "metadata": {
    "collapsed": false,
    "pycharm": {
     "name": "#%%\n",
     "is_executing": true
    }
   }
  },
  {
   "cell_type": "code",
   "execution_count": null,
   "outputs": [],
   "source": [
    "rfe = RFE(clf_lr)"
   ],
   "metadata": {
    "collapsed": false,
    "pycharm": {
     "name": "#%%\n",
     "is_executing": true
    }
   }
  },
  {
   "cell_type": "code",
   "execution_count": null,
   "outputs": [],
   "source": [
    "# создание словаря с признаками после всех преобразований можно было использовать rfe.support_\n",
    "poly_features = pd.DataFrame({f'x{i}': transformer_poly.fit_transform(x_train)[: , i] for i in range(1, transformer_poly.fit_transform(x_train).shape[1])})\n",
    "poly_features.sample()"
   ],
   "metadata": {
    "collapsed": false,
    "pycharm": {
     "name": "#%%\n",
     "is_executing": true
    }
   }
  },
  {
   "cell_type": "code",
   "execution_count": null,
   "outputs": [],
   "source": [
    "rfe.fit(poly_features, y_train)"
   ],
   "metadata": {
    "collapsed": false,
    "pycharm": {
     "name": "#%%\n",
     "is_executing": true
    }
   }
  },
  {
   "cell_type": "code",
   "execution_count": null,
   "outputs": [],
   "source": [
    "rfe.ranking_"
   ],
   "metadata": {
    "collapsed": false,
    "pycharm": {
     "name": "#%%\n",
     "is_executing": true
    }
   }
  },
  {
   "cell_type": "code",
   "execution_count": null,
   "outputs": [],
   "source": [
    "rfe.estimator_.coef_"
   ],
   "metadata": {
    "collapsed": false,
    "pycharm": {
     "name": "#%%\n",
     "is_executing": true
    }
   }
  },
  {
   "cell_type": "code",
   "execution_count": null,
   "outputs": [],
   "source": [
    "rfe_imp_features = rfe.get_feature_names_out()\n",
    "rfe_imp_features.shape"
   ],
   "metadata": {
    "collapsed": false,
    "pycharm": {
     "name": "#%%\n",
     "is_executing": true
    }
   }
  },
  {
   "cell_type": "code",
   "execution_count": null,
   "outputs": [],
   "source": [
    "cross_val_score(clf_lr, poly_features[rfe_imp_features], y_train, cv=3, scoring='roc_auc').mean()"
   ],
   "metadata": {
    "collapsed": false,
    "pycharm": {
     "name": "#%%\n",
     "is_executing": true
    }
   }
  },
  {
   "cell_type": "markdown",
   "source": [
    "### Встраивание RFE в Gridsearch"
   ],
   "metadata": {
    "collapsed": false,
    "pycharm": {
     "name": "#%% md\n"
    }
   }
  },
  {
   "cell_type": "code",
   "execution_count": null,
   "outputs": [],
   "source": [
    "# класс, который возвращает коэффициенты логистической регрессии\n",
    "# https://stackoverflow.com/questions/36683230/grid-search-with-recursive-feature-elimination-in-scikit-learn-pipeline-returns\n",
    "\n",
    "class MyPipe(Pipeline):\n",
    "\n",
    "    def fit(self, X, y=None, **fit_params):\n",
    "        \"\"\"Calls last elements .coef_ method.\n",
    "        Based on the sourcecode for decision_function(X).\n",
    "        Link: https://github.com/scikit-learn/scikit-learn/blob/master/sklearn/pipeline.py\n",
    "        ----------\n",
    "        \"\"\"\n",
    "        super(MyPipe, self).fit(X, y, **fit_params)\n",
    "        self.coef_ = self.steps[-1][-1].coef_\n",
    "        return self"
   ],
   "metadata": {
    "collapsed": false,
    "pycharm": {
     "name": "#%%\n",
     "is_executing": true
    }
   }
  },
  {
   "cell_type": "code",
   "execution_count": null,
   "outputs": [],
   "source": [
    "num_ct_poly = Pipeline(steps=[('imputer', IterativeImputer(random_state=123)),\n",
    "                              ('scaler', StandardScaler()),\n",
    "                              ('poly', PolynomialFeatures())])\n",
    "\n",
    "cat_ct = Pipeline(steps=[('imputer', SimpleImputer(strategy='most_frequent')),\n",
    "                         ('ohe', OneHotEncoder(drop='first'))])\n",
    "\n",
    "transformer_poly = ColumnTransformer(transformers=[('nums', num_ct_poly, selector(dtype_exclude=\"object\")),\n",
    "                                                   ('cats', cat_ct, selector(dtype_include=\"object\"))],\n",
    "                                                    remainder='passthrough')\n",
    "\n",
    "x_poly = transformer_poly.fit_transform(x_train)\n",
    "\n",
    "params = [{'rfe__estimator__penalty': [None, 'l2'],\n",
    "           'rfe__estimator__C': [0.1, 1, 10, 100],\n",
    "           'rfe__n_features_to_select': range(5, 20)\n",
    "          }]\n",
    "\n",
    "clf_lr = LogisticRegression()\n",
    "rfe = RFE(estimator=clf_lr, verbose=99)\n",
    "\n",
    "lr_pipe_poly = Pipeline(steps=[('transformer', transformer_poly), ('rfe', rfe)])\n",
    "\n",
    "lr_gs_poly=GridSearchCV(estimator=lr_pipe_poly,\n",
    "                        param_grid=params,\n",
    "                        scoring='roc_auc',\n",
    "                        refit=True,\n",
    "                        cv=3,\n",
    "                        n_jobs=-1,\n",
    "                        verbose=10)\n",
    "\n",
    "lr_gs_poly.fit(x_train, y_train)"
   ],
   "metadata": {
    "collapsed": false,
    "pycharm": {
     "name": "#%%\n",
     "is_executing": true
    }
   }
  },
  {
   "cell_type": "code",
   "execution_count": null,
   "outputs": [],
   "source": [
    "pd.DataFrame(lr_gs_poly.cv_results_).sort_values('rank_test_score').head(33)"
   ],
   "metadata": {
    "collapsed": false,
    "pycharm": {
     "name": "#%%\n",
     "is_executing": true
    }
   }
  },
  {
   "cell_type": "markdown",
   "source": [
    "НИЧЕГО НЕ ПОЛУЧИЛОСЬ"
   ],
   "metadata": {
    "collapsed": false,
    "pycharm": {
     "name": "#%% md\n"
    }
   }
  },
  {
   "cell_type": "markdown",
   "source": [
    "### Метод опорных векторов"
   ],
   "metadata": {
    "collapsed": false,
    "pycharm": {
     "name": "#%% md\n"
    }
   }
  },
  {
   "cell_type": "markdown",
   "source": [
    "#### SVC"
   ],
   "metadata": {
    "collapsed": false,
    "pycharm": {
     "name": "#%% md\n"
    }
   }
  },
  {
   "cell_type": "code",
   "execution_count": null,
   "outputs": [],
   "source": [
    "%%time\n",
    "num_ct = Pipeline(steps=[('imputer', IterativeImputer(random_state=123)),\n",
    "                         ('scaler', StandardScaler())])\n",
    "\n",
    "cat_ct = Pipeline(steps=[('imputer', SimpleImputer(strategy='most_frequent')),\n",
    "                         ('ohe', OneHotEncoder(drop='first'))])\n",
    "\n",
    "transformer = ColumnTransformer(transformers=[('nums', num_ct, selector(dtype_exclude=\"object\")),\n",
    "                                              ('cats', cat_ct, selector(dtype_include=\"object\"))],\n",
    "                                                    remainder='passthrough')\n",
    "\n",
    "# Параметр probability нужен, чтобы вернулись predict_proba. Это нужно для построения roc-auc и soft-voting\n",
    "svm_pipe = Pipeline(steps=[('transformer', transformer), ('estimator', SVC(random_state=123, probability=True))])\n",
    "\n",
    "params = {'transformer__nums__scaler': [StandardScaler(), MinMaxScaler()],\n",
    "          'estimator__C': range(1, 20),\n",
    "          'estimator__gamma': [i/10000 for i in range(10)]}\n",
    "\n",
    "gs_svm = GridSearchCV(svm_pipe, param_grid=params, scoring='roc_auc', cv=3, n_jobs=-1, refit=True)\n",
    "\n",
    "gs_svm.fit(x_train, y_train)\n",
    "# {'estimator__C': 9, 'estimator__gamma': 0.009\n",
    "svm_best = gs_svm.best_estimator_\n"
   ],
   "metadata": {
    "collapsed": false,
    "pycharm": {
     "name": "#%%\n",
     "is_executing": true
    }
   }
  },
  {
   "cell_type": "code",
   "execution_count": null,
   "outputs": [],
   "source": [
    "display(pd.DataFrame(gs_svm.cv_results_).sort_values('rank_test_score'))\n",
    "print(f'параметры: {pd.DataFrame(gs_svm.cv_results_).sort_values(\"rank_test_score\").head(1)[\"params\"].values[0]}',\n",
    "      f'\\nroc-auc: {pd.DataFrame(gs_svm.cv_results_).sort_values(\"rank_test_score\").head(1)[\"mean_test_score\"].values[0]:.4f}')"
   ],
   "metadata": {
    "collapsed": false,
    "pycharm": {
     "name": "#%%\n",
     "is_executing": true
    }
   }
  },
  {
   "cell_type": "markdown",
   "source": [
    "#### LinearSVC"
   ],
   "metadata": {
    "collapsed": false,
    "pycharm": {
     "name": "#%% md\n"
    }
   }
  },
  {
   "cell_type": "code",
   "execution_count": null,
   "outputs": [],
   "source": [
    "%%time\n",
    "num_ct = Pipeline(steps=[('imputer', IterativeImputer(random_state=123)),\n",
    "                         ('scaler', StandardScaler())])\n",
    "\n",
    "cat_ct = Pipeline(steps=[('imputer', SimpleImputer(strategy='most_frequent')),\n",
    "                         ('ohe', OneHotEncoder(drop='first'))])\n",
    "\n",
    "transformer = ColumnTransformer(transformers=[('nums', num_ct, selector(dtype_exclude=\"object\")),\n",
    "                                              ('cats', cat_ct, selector(dtype_include=\"object\"))],\n",
    "                                                    remainder='passthrough')\n",
    "\n",
    "\n",
    "svm_pipe = Pipeline(steps=[('transformer', transformer), ('estimator', LinearSVC(max_iter=100000, random_state=123))])\n",
    "\n",
    "params = {'transformer__nums__scaler': [StandardScaler(), MinMaxScaler()],\n",
    "          'estimator__C': [2*i/100 for i in range(1, 100)]}\n",
    "\n",
    "gs_lsvm = GridSearchCV(svm_pipe, param_grid=params, scoring='roc_auc', cv=3, n_jobs=-1, refit=True, error_score='raise')\n",
    "gs_lsvm.fit(x_train, y_train);\n",
    "lsvm_best = gs_lsvm.best_estimator_"
   ],
   "metadata": {
    "collapsed": false,
    "pycharm": {
     "name": "#%%\n",
     "is_executing": true
    }
   }
  },
  {
   "cell_type": "code",
   "execution_count": null,
   "outputs": [],
   "source": [
    "display(pd.DataFrame(gs_lsvm.cv_results_).sort_values('rank_test_score'))\n",
    "print(f'параметры: {pd.DataFrame(gs_lsvm.cv_results_).sort_values(\"rank_test_score\").head(1)[\"params\"].values[0]}',\n",
    "      f'\\nroc-auc: {pd.DataFrame(gs_lsvm.cv_results_).sort_values(\"rank_test_score\").head(1)[\"mean_test_score\"].values[0]:.4f}')"
   ],
   "metadata": {
    "collapsed": false,
    "pycharm": {
     "name": "#%%\n",
     "is_executing": true
    }
   }
  },
  {
   "cell_type": "markdown",
   "source": [
    "## Наивный Байес"
   ],
   "metadata": {
    "collapsed": false,
    "pycharm": {
     "name": "#%% md\n"
    }
   }
  },
  {
   "cell_type": "code",
   "execution_count": null,
   "outputs": [],
   "source": [
    "%%time\n",
    "num_ct = Pipeline(steps=[('imputer', IterativeImputer(random_state=123)),\n",
    "                         ('scaler', MinMaxScaler())])\n",
    "\n",
    "cat_ct = Pipeline(steps=[('imputer', SimpleImputer(strategy='most_frequent')),\n",
    "                         ('ohe', OneHotEncoder(drop='first'))])\n",
    "\n",
    "transformer_poly = ColumnTransformer(transformers=[('nums', num_ct, selector(dtype_exclude=\"object\")),\n",
    "                                                   ('cats', cat_ct, selector(dtype_include=\"object\"))],\n",
    "                                                    remainder='passthrough')\n",
    "\n",
    "bayes_pipe = Pipeline(steps=[('transformer', transformer_poly), ('estimator', BernoulliNB())])\n",
    "\n",
    "params = [{'estimator': [BernoulliNB(), CategoricalNB(), ComplementNB()],\n",
    "           'estimator__alpha': [0.1, 1, 10]},\n",
    "\n",
    "          {'estimator': [GaussianNB()]}\n",
    "         ]\n",
    "\n",
    "gs_bayes = GridSearchCV(bayes_pipe, param_grid=params, scoring='roc_auc', cv=3, n_jobs=-1)\n",
    "\n",
    "gs_bayes.fit(x_train, y_train);"
   ],
   "metadata": {
    "collapsed": false,
    "pycharm": {
     "name": "#%%\n",
     "is_executing": true
    }
   }
  },
  {
   "cell_type": "code",
   "execution_count": null,
   "outputs": [],
   "source": [
    "display(pd.DataFrame(gs_bayes.cv_results_).sort_values('rank_test_score'))\n",
    "print(f'параметры: {pd.DataFrame(gs_bayes.cv_results_).sort_values(\"rank_test_score\").head(1)[\"params\"].values[0]}',\n",
    "      f'\\nroc-auc: {pd.DataFrame(gs_bayes.cv_results_).sort_values(\"rank_test_score\").head(1)[\"mean_test_score\"].values[0]:.4f}')"
   ],
   "metadata": {
    "collapsed": false,
    "pycharm": {
     "name": "#%%\n",
     "is_executing": true
    }
   }
  },
  {
   "cell_type": "markdown",
   "source": [
    "## Деревянные модели"
   ],
   "metadata": {
    "collapsed": false,
    "pycharm": {
     "name": "#%% md\n"
    }
   }
  },
  {
   "cell_type": "markdown",
   "source": [
    "### Дерево решений"
   ],
   "metadata": {
    "collapsed": false,
    "pycharm": {
     "name": "#%% md\n"
    }
   }
  },
  {
   "cell_type": "code",
   "execution_count": null,
   "outputs": [],
   "source": [
    "%%time\n",
    "num_ct = Pipeline(steps=[('imputer', IterativeImputer(random_state=123))])\n",
    "\n",
    "cat_ct = Pipeline(steps=[('imputer', SimpleImputer(strategy='most_frequent')),\n",
    "                         ('encoder', OneHotEncoder(drop='first'))])\n",
    "\n",
    "transformer = ColumnTransformer(transformers=[('nums', num_ct, selector(dtype_exclude=\"object\")),\n",
    "                                                   ('cats', cat_ct, selector(dtype_include=\"object\"))],\n",
    "                                                    remainder='passthrough')\n",
    "\n",
    "tree_pipe = Pipeline(steps=[('transformer', transformer), ('clf', DecisionTreeClassifier(random_state=123))])\n",
    "\n",
    "tree_params = {'transformer__cats__encoder': [OneHotEncoder(drop='first'), LabelEncoder()],\n",
    "               'clf__max_depth': [2, 3, 4, 5, 7, 9],\n",
    "               'clf__min_samples_split': [2, 3, 4, 5, 6, 8, 9, 10, 11],\n",
    "               'clf__min_samples_leaf': [3, 5, 8, 9, 10, 11, 12, 14, 16]}\n",
    "\n",
    "tree_gs = GridSearchCV(tree_pipe, param_grid=tree_params, scoring='roc_auc', cv=3, n_jobs=-1)\n",
    "tree_gs.fit(x_train, y_train);\n",
    "tree_best = tree_gs.best_estimator_"
   ],
   "metadata": {
    "collapsed": false,
    "pycharm": {
     "name": "#%%\n",
     "is_executing": true
    }
   }
  },
  {
   "cell_type": "code",
   "execution_count": null,
   "outputs": [],
   "source": [
    "display(pd.DataFrame(tree_gs.cv_results_).sort_values('rank_test_score'))\n",
    "print(f'параметры: {pd.DataFrame(tree_gs.cv_results_).sort_values(\"rank_test_score\").head(1)[\"params\"].values[0]}',\n",
    "      f'\\nroc-auc: {pd.DataFrame(tree_gs.cv_results_).sort_values(\"rank_test_score\").head(1)[\"mean_test_score\"].values[0]:.4f}')"
   ],
   "metadata": {
    "collapsed": false,
    "pycharm": {
     "name": "#%%\n",
     "is_executing": true
    }
   }
  },
  {
   "cell_type": "markdown",
   "source": [
    "### Случайный лес"
   ],
   "metadata": {
    "collapsed": false,
    "pycharm": {
     "name": "#%% md\n"
    }
   }
  },
  {
   "cell_type": "code",
   "execution_count": null,
   "outputs": [],
   "source": [
    "%%time\n",
    "num_ct = Pipeline(steps=[('imputer', IterativeImputer(random_state=123))])\n",
    "\n",
    "cat_ct = Pipeline(steps=[('imputer', SimpleImputer(strategy='most_frequent')),\n",
    "                         ('encoder', OneHotEncoder(drop='first'))])\n",
    "\n",
    "transformer = ColumnTransformer(transformers=[('nums', num_ct, selector(dtype_exclude=\"object\")),\n",
    "                                              ('cats', cat_ct, selector(dtype_include=\"object\"))],\n",
    "                                                remainder='passthrough')\n",
    "\n",
    "rf_pipe = Pipeline(steps=[('transformer', transformer), ('clf', RandomForestClassifier(random_state=123))])\n",
    "\n",
    "rf_params = {'clf__n_estimators': [10, 15, 20, 25, 30],\n",
    "             'clf__max_depth': [5, 6, 7, 8, 9],\n",
    "             'clf__min_samples_split': [2, 3, 4, 5, 6],\n",
    "             'clf__min_samples_leaf': [2, 3, 4, 5, 6, 7, 8]}\n",
    "\n",
    "rf_gs = GridSearchCV(rf_pipe, param_grid=rf_params, scoring='roc_auc', cv=3, n_jobs=-1, refit=True)\n",
    "rf_gs.fit(x_train, y_train);\n",
    "rf_best = rf_gs.best_estimator_"
   ],
   "metadata": {
    "collapsed": false,
    "pycharm": {
     "name": "#%%\n",
     "is_executing": true
    }
   }
  },
  {
   "cell_type": "code",
   "execution_count": null,
   "outputs": [],
   "source": [
    "display(pd.DataFrame(rf_gs.cv_results_).sort_values('rank_test_score'))\n",
    "print(f'параметры: {pd.DataFrame(rf_gs.cv_results_).sort_values(\"rank_test_score\").head(1)[\"params\"].values[0]}',\n",
    "      f'\\nroc-auc: {pd.DataFrame(rf_gs.cv_results_).sort_values(\"rank_test_score\").head(1)[\"mean_test_score\"].values[0]:.4f}')"
   ],
   "metadata": {
    "collapsed": false,
    "pycharm": {
     "name": "#%%\n",
     "is_executing": true
    }
   }
  },
  {
   "cell_type": "markdown",
   "source": [
    "### ExtraTreesClassifier"
   ],
   "metadata": {
    "collapsed": false,
    "pycharm": {
     "name": "#%% md\n"
    }
   }
  },
  {
   "cell_type": "code",
   "execution_count": null,
   "outputs": [],
   "source": [
    "%%time\n",
    "num_ct = Pipeline(steps=[('imputer', IterativeImputer(random_state=123))])\n",
    "\n",
    "cat_ct = Pipeline(steps=[('imputer', SimpleImputer(strategy='most_frequent')),\n",
    "                         ('encoder', OneHotEncoder(drop='first'))])\n",
    "\n",
    "transformer = ColumnTransformer(transformers=[('nums', num_ct, selector(dtype_exclude=\"object\")),\n",
    "                                              ('cats', cat_ct, selector(dtype_include=\"object\"))],\n",
    "                                                remainder='passthrough')\n",
    "\n",
    "et_pipe = Pipeline(steps=[('transformer', transformer), ('clf', ExtraTreesClassifier(random_state=123))])\n",
    "\n",
    "et_params = {'clf__n_estimators': [10, 15, 20, 25, 30],\n",
    "             'clf__max_depth': [5, 6, 7, 8, 9],\n",
    "             'clf__min_samples_split': [2, 3, 4, 5, 6],\n",
    "             'clf__min_samples_leaf': [2, 3, 4, 5, 6, 7, 8]}\n",
    "\n",
    "et_gs = GridSearchCV(et_pipe, param_grid=et_params, scoring='roc_auc', cv=3, n_jobs=-1, refit=True)\n",
    "et_gs.fit(x_train, y_train);\n",
    "et_best = et_gs.best_estimator_"
   ],
   "metadata": {
    "collapsed": false,
    "pycharm": {
     "name": "#%%\n",
     "is_executing": true
    }
   }
  },
  {
   "cell_type": "code",
   "execution_count": null,
   "outputs": [],
   "source": [
    "display(pd.DataFrame(et_gs.cv_results_).sort_values('rank_test_score'))\n",
    "print(f'параметры: {pd.DataFrame(et_gs.cv_results_).sort_values(\"rank_test_score\").head(1)[\"params\"].values[0]}',\n",
    "      f'\\nroc-auc: {pd.DataFrame(et_gs.cv_results_).sort_values(\"rank_test_score\").head(1)[\"mean_test_score\"].values[0]:.4f}')"
   ],
   "metadata": {
    "collapsed": false,
    "pycharm": {
     "name": "#%%\n",
     "is_executing": true
    }
   }
  },
  {
   "cell_type": "markdown",
   "source": [
    "### RandomTreesEmbedding"
   ],
   "metadata": {
    "collapsed": false,
    "pycharm": {
     "name": "#%% md\n"
    }
   }
  },
  {
   "cell_type": "code",
   "execution_count": null,
   "outputs": [],
   "source": [
    "%%time\n",
    "num_ct = Pipeline(steps=[('imputer', IterativeImputer(random_state=123))])\n",
    "\n",
    "cat_ct = Pipeline(steps=[('imputer', SimpleImputer(strategy='most_frequent')),\n",
    "                         ('encoder', OneHotEncoder(drop='first'))])\n",
    "\n",
    "transformer = ColumnTransformer(transformers=[('nums', num_ct, selector(dtype_exclude=\"object\")),\n",
    "                                              ('cats', cat_ct, selector(dtype_include=\"object\"))],\n",
    "                                                remainder='passthrough')\n",
    "\n",
    "rte_pipe = Pipeline(steps=[('transformer', transformer), ('clf', RandomTreesEmbedding(random_state=123))])\n",
    "\n",
    "rte_params = {'clf__n_estimators': [10, 15, 20, 25, 30],\n",
    "             'clf__max_depth': [5, 6, 7, 8, 9],\n",
    "             'clf__min_samples_split': [2, 3, 4, 5, 6],\n",
    "             'clf__min_samples_leaf': [2, 3, 4, 5, 6, 7, 8]}\n",
    "\n",
    "rte_gs = GridSearchCV(rte_pipe, param_grid=rte_params, scoring='roc_auc', cv=3, n_jobs=-1)\n",
    "rte_gs.fit(x_train, y_train);"
   ],
   "metadata": {
    "collapsed": false,
    "pycharm": {
     "name": "#%%\n",
     "is_executing": true
    }
   }
  },
  {
   "cell_type": "code",
   "execution_count": null,
   "outputs": [],
   "source": [
    "display(pd.DataFrame(rte_gs.cv_results_).sort_values('rank_test_score'))\n",
    "print(f'параметры: {pd.DataFrame(rte_gs.cv_results_).sort_values(\"rank_test_score\").head(1)[\"params\"].values[0]}',\n",
    "      f'\\nroc-auc: {pd.DataFrame(rte_gs.cv_results_).sort_values(\"rank_test_score\").head(1)[\"mean_test_score\"].values[0]:.4f}')"
   ],
   "metadata": {
    "collapsed": false,
    "pycharm": {
     "name": "#%%\n",
     "is_executing": true
    }
   }
  },
  {
   "cell_type": "markdown",
   "source": [
    "## Ансамбли"
   ],
   "metadata": {
    "collapsed": false,
    "pycharm": {
     "name": "#%% md\n"
    }
   }
  },
  {
   "cell_type": "markdown",
   "source": [
    "### BaggingClassifier"
   ],
   "metadata": {
    "collapsed": false,
    "pycharm": {
     "name": "#%% md\n"
    }
   }
  },
  {
   "cell_type": "markdown",
   "source": [
    "BaggingClassifier почему-то не воспринимает трансформации по типам колонок внутри пайплайна, поэтому перепишем трансформер и пересоберем пайплайн, указав трансформируемые признаки индексами"
   ],
   "metadata": {
    "collapsed": false,
    "pycharm": {
     "name": "#%% md\n"
    }
   }
  },
  {
   "cell_type": "code",
   "execution_count": null,
   "outputs": [],
   "source": [
    "num_ct = Pipeline(steps=[('imputer', SimpleImputer(strategy='mean')),\n",
    "                         ('scaler', StandardScaler())])\n",
    "\n",
    "cat_ct = Pipeline(steps=[('imputer', SimpleImputer(strategy='most_frequent')),\n",
    "                         ('ohe', OneHotEncoder(drop='first'))])\n",
    "\n",
    "transformer = ColumnTransformer(transformers=[('nums', num_ct, (1, 2, 3, 4, 5, 7)),\n",
    "                                              ('cats', cat_ct, [0, 6])],\n",
    "                                remainder='passthrough')\n",
    "\n",
    "lr_pipe = Pipeline(steps=[('transformer', transformer), ('clf', LogisticRegression(random_state=123))])\n",
    "\n",
    "params = [{'transformer__nums__imputer': [SimpleImputer()],\n",
    "           'transformer__nums__imputer__strategy': ['mean', 'median'],\n",
    "           'clf__penalty': ['none', 'l2'],\n",
    "           'clf__C': [0.1, 1, 10, 100]\n",
    "          },\n",
    "          { 'transformer__nums__imputer': [IterativeImputer(random_state=123)],\n",
    "           'clf__penalty': ['none', 'l2'],\n",
    "           'clf__C': [0.1, 1, 10, 100]\n",
    "          }]\n",
    "\n",
    "lr_gs    = GridSearchCV(estimator=lr_pipe,\n",
    "                        param_grid=params,\n",
    "                        scoring='roc_auc',\n",
    "                        refit=True,\n",
    "                        cv=3,\n",
    "                        n_jobs=-1,\n",
    "                        verbose=10)\n",
    "lr_gs.fit(x_train, y_train)\n",
    "lr_best = lr_gs.best_estimator_;"
   ],
   "metadata": {
    "collapsed": false,
    "pycharm": {
     "name": "#%%\n",
     "is_executing": true
    }
   }
  },
  {
   "cell_type": "code",
   "execution_count": null,
   "outputs": [],
   "source": [
    "bc = BaggingClassifier(estimator=lr_best, n_estimators=10, random_state=123)\n",
    "cross_val_score(bc, x_train, y_train, scoring='roc_auc', cv=5, n_jobs=-1).mean().round(4)"
   ],
   "metadata": {
    "collapsed": false,
    "pycharm": {
     "name": "#%%\n",
     "is_executing": true
    }
   }
  },
  {
   "cell_type": "markdown",
   "source": [
    "ну хз"
   ],
   "metadata": {
    "collapsed": false,
    "pycharm": {
     "name": "#%% md\n"
    }
   }
  },
  {
   "cell_type": "markdown",
   "source": [
    "### StackingClassifier"
   ],
   "metadata": {
    "collapsed": false,
    "pycharm": {
     "name": "#%% md\n"
    }
   }
  },
  {
   "cell_type": "code",
   "execution_count": null,
   "outputs": [],
   "source": [
    "sc = StackingClassifier(estimators=[('rf', rf_best), ('et', et_best)],\n",
    "                        final_estimator=RandomForestClassifier(n_estimators=15, max_depth=7),\n",
    "                        cv=3,\n",
    "                        n_jobs=-1)\n",
    "cross_val_score(sc, x_train, y_train, scoring='roc_auc', cv=5, n_jobs=-1).mean().round(4)"
   ],
   "metadata": {
    "collapsed": false,
    "pycharm": {
     "name": "#%%\n",
     "is_executing": true
    }
   }
  },
  {
   "cell_type": "markdown",
   "source": [
    "### VotingClassifier"
   ],
   "metadata": {
    "collapsed": false,
    "pycharm": {
     "name": "#%% md\n"
    }
   }
  },
  {
   "cell_type": "code",
   "execution_count": null,
   "outputs": [],
   "source": [
    "vc = VotingClassifier(estimators=[('lr', lr_best),\n",
    "                                  ('tree', tree_best),\n",
    "                                  ('rf', rf_best),\n",
    "                                  ('et', et_best)],\n",
    "                      voting='soft', n_jobs=-1)\n",
    "print(cross_val_score(vc, x_train, y_train, scoring='roc_auc', cv=3, n_jobs=-1).mean().round(4))"
   ],
   "metadata": {
    "collapsed": false,
    "pycharm": {
     "name": "#%%\n",
     "is_executing": true
    }
   }
  },
  {
   "cell_type": "markdown",
   "source": [
    "## Градиентный бустинг"
   ],
   "metadata": {
    "collapsed": false,
    "pycharm": {
     "name": "#%% md\n"
    }
   }
  },
  {
   "cell_type": "markdown",
   "source": [
    "### XGBoost"
   ],
   "metadata": {
    "collapsed": false,
    "pycharm": {
     "name": "#%% md\n"
    }
   }
  },
  {
   "cell_type": "markdown",
   "source": [
    "XGBoost не умеет работать с категориальными признаками напрямую, поэтому преобразуем данные заранее"
   ],
   "metadata": {
    "collapsed": false,
    "pycharm": {
     "name": "#%% md\n"
    }
   }
  },
  {
   "cell_type": "code",
   "execution_count": null,
   "outputs": [],
   "source": [
    "%%time\n",
    "num_ct = Pipeline(steps=[('imputer', SimpleImputer(strategy='mean')),\n",
    "                         ('scaler', StandardScaler())])\n",
    "\n",
    "cat_ct = Pipeline(steps=[('imputer', SimpleImputer(strategy='most_frequent')),\n",
    "                         ('ohe', OneHotEncoder(drop='first'))])\n",
    "\n",
    "transformer = ColumnTransformer(transformers=[('nums', num_ct, (1, 2, 3, 4, 5, 7)),\n",
    "                                              ('cats', cat_ct, [0, 6])],\n",
    "                                remainder='passthrough')\n",
    "\n",
    "xgb_pipe = Pipeline(steps=[('transformer', transformer), ('clf', xgb.XGBClassifier())])\n",
    "\n",
    "params = {'clf__n_estimators': [15, 25, 50],\n",
    "          'clf__max_depth': [3, 4, 5, 6, 7],\n",
    "          'clf__learning_rate': [00.1, 0.1, 0.4]}\n",
    "\n",
    "xgb_gs   = GridSearchCV(estimator=xgb_pipe,\n",
    "                        param_grid=params,\n",
    "                        scoring='roc_auc',\n",
    "                        refit=True,\n",
    "                        cv=3,\n",
    "                        n_jobs=-1,\n",
    "                        verbose=10)\n",
    "xgb_gs.fit(x_train, y_train)\n",
    "xgb_best = xgb_gs.best_estimator_;"
   ],
   "metadata": {
    "collapsed": false,
    "pycharm": {
     "name": "#%%\n",
     "is_executing": true
    }
   }
  },
  {
   "cell_type": "code",
   "execution_count": null,
   "outputs": [],
   "source": [
    "display(pd.DataFrame(xgb_gs.cv_results_).sort_values('rank_test_score'))\n",
    "print(f'параметры: {pd.DataFrame(xgb_gs.cv_results_).sort_values(\"rank_test_score\").head(1)[\"params\"].values[0]}',\n",
    "      f'\\nroc-auc: {pd.DataFrame(xgb_gs.cv_results_).sort_values(\"rank_test_score\").head(1)[\"mean_test_score\"].values[0]:.4f}')"
   ],
   "metadata": {
    "collapsed": false,
    "pycharm": {
     "name": "#%%\n",
     "is_executing": true
    }
   }
  },
  {
   "cell_type": "code",
   "execution_count": null,
   "outputs": [],
   "source": [
    "display(pd.DataFrame(xgb_gs.cv_results_).sort_values('rank_test_score'))\n",
    "print(f'параметры: {pd.DataFrame(xgb_gs.cv_results_).sort_values(\"rank_test_score\").head(1)[\"params\"].values[0]}',\n",
    "      f'\\nroc-auc: {pd.DataFrame(xgb_gs.cv_results_).sort_values(\"rank_test_score\").head(1)[\"mean_test_score\"].values[0]:.4f}')"
   ],
   "metadata": {
    "collapsed": false,
    "pycharm": {
     "name": "#%%\n",
     "is_executing": true
    }
   }
  },
  {
   "cell_type": "markdown",
   "source": [],
   "metadata": {
    "collapsed": false,
    "pycharm": {
     "name": "#%% md\n"
    }
   }
  },
  {
   "cell_type": "markdown",
   "source": [
    "Попробуем добавить регуляризацию при помощи early_stopping. Встроить такую конструкцию в ГридСерч не получилось"
   ],
   "metadata": {
    "collapsed": false,
    "pycharm": {
     "name": "#%% md\n"
    }
   }
  },
  {
   "cell_type": "code",
   "execution_count": null,
   "outputs": [],
   "source": [
    "%%time\n",
    "num_ct = Pipeline(steps=[('imputer', SimpleImputer(strategy='mean')),\n",
    "                         ('scaler', StandardScaler())])\n",
    "\n",
    "cat_ct = Pipeline(steps=[('imputer', SimpleImputer(strategy='most_frequent')),\n",
    "                         ('ohe', OneHotEncoder(drop='first'))])\n",
    "\n",
    "transformer = ColumnTransformer(transformers=[('nums', num_ct, (1, 2, 3, 4, 5, 7)),\n",
    "                                              ('cats', cat_ct, [0, 6])],\n",
    "                                remainder='passthrough')\n",
    "\n",
    "x_train_tr = transformer.fit_transform(x_train)\n",
    "x_test_tr = transformer.fit_transform(x_test)\n",
    "\n",
    "xgb_clf = xgb.XGBClassifier(n_estimators=500,\n",
    "                            max_depth=3,\n",
    "                            eval_metric=\"auc\",\n",
    "                            learning_rate=0.05,\n",
    "                            early_stopping_rounds=50)\n",
    "\n",
    "xgb_clf.fit(x_train_tr, y_train, eval_set=[(x_train_tr, y_train), (x_test_tr, y_test)]);"
   ],
   "metadata": {
    "collapsed": false,
    "pycharm": {
     "name": "#%%\n",
     "is_executing": true
    }
   }
  },
  {
   "cell_type": "code",
   "execution_count": null,
   "outputs": [],
   "source": [],
   "metadata": {
    "collapsed": false,
    "pycharm": {
     "name": "#%%\n",
     "is_executing": true
    }
   }
  },
  {
   "cell_type": "code",
   "execution_count": null,
   "outputs": [],
   "source": [
    "xgb_clf.evals_result_"
   ],
   "metadata": {
    "collapsed": false,
    "pycharm": {
     "name": "#%%\n",
     "is_executing": true
    }
   }
  },
  {
   "cell_type": "markdown",
   "source": [
    "Прикрутим Оптуну"
   ],
   "metadata": {
    "collapsed": false,
    "pycharm": {
     "name": "#%% md\n"
    }
   }
  },
  {
   "cell_type": "code",
   "execution_count": null,
   "outputs": [],
   "source": [
    "def objective(trial):\n",
    "    # Define the search space for hyperparameters\n",
    "    param = {\n",
    "        'objective': 'binary:logitraw',\n",
    "        'eval_metric': 'auc',\n",
    "        'eta': trial.suggest_float('eta', 0.01, 0.3),\n",
    "        # 'num_boost_round': 100000, # Fix the boosting round and use early stopping\n",
    "        'max_depth': trial.suggest_int('max_depth', 3, 10)\n",
    "        # 'subsample': trial.suggest_float('subsample', 0.5, 1.0),\n",
    "        # 'colsample_bytree': trial.suggest_float('colsample_bytree', 0.5, 1.0),\n",
    "        # 'gamma': trial.suggest_float('gamma', 0.0, 10.0),\n",
    "        # 'min_child_weight': trial.suggest_float('min_child_weight', 0.1, 10.0),\n",
    "        # 'lambda': trial.suggest_float('lambda', 0.1, 10.0),\n",
    "        # 'alpha': trial.suggest_float('alpha', 0.0, 10.0),\n",
    "    }\n",
    "\n",
    "    # Split the data into further training and validation sets (three sets are preferable)\n",
    "    train_data, valid_data, train_target, valid_target = train_test_split(x_train_tr, y_train, test_size=0.2, random_state=42)\n",
    "\n",
    "    # Convert the data into DMatrix format\n",
    "    dtrain = xgb.DMatrix(train_data, label=train_target)\n",
    "    dvalid = xgb.DMatrix(valid_data, label=valid_target)\n",
    "\n",
    "    # Define the pruning callback for early stopping\n",
    "    pruning_callback = optuna.integration.XGBoostPruningCallback(trial, 'validation-rmse')\n",
    "\n",
    "    # Train the model with early stopping\n",
    "    model = xgb.train(param, dtrain, evals=[(dvalid, 'validation')], num_boost_round=1000000, early_stopping_rounds=50)\n",
    "\n",
    "                      # , callbacks=[pruning_callback])\n",
    "\n",
    "    # Make predictions on the test set\n",
    "    dtest = xgb.DMatrix(valid_data)\n",
    "    y_pred = model.predict(dtest)\n",
    "\n",
    "    # Calculate the root mean squared error\n",
    "    roc_auc = roc_auc_score(valid_target, y_pred)\n",
    "\n",
    "    return roc_auc\n",
    "\n",
    "# Create an Optuna study and optimize the objective function\n",
    "study = optuna.create_study(direction='maximize')\n",
    "optuna.logging.set_verbosity(optuna.logging.WARNING)\n",
    "study.optimize(objective, n_trials=100, timeout=10, n_jobs=-1) # Control the number of trials\n",
    "\n",
    "# Print the best hyperparameters and the best score\n",
    "best_params = study.best_params\n",
    "best_roc_auc = study.best_value\n",
    "print(\"Best Hyperparameters: \", best_params)\n",
    "print(\"Best roc_auc: \", best_roc_auc)"
   ],
   "metadata": {
    "collapsed": false,
    "pycharm": {
     "name": "#%%\n",
     "is_executing": true
    }
   }
  },
  {
   "cell_type": "code",
   "execution_count": null,
   "outputs": [],
   "source": [],
   "metadata": {
    "collapsed": false,
    "pycharm": {
     "name": "#%%\n",
     "is_executing": true
    }
   }
  },
  {
   "cell_type": "code",
   "execution_count": null,
   "outputs": [],
   "source": [],
   "metadata": {
    "collapsed": false,
    "pycharm": {
     "name": "#%%\n",
     "is_executing": true
    }
   }
  },
  {
   "cell_type": "code",
   "execution_count": null,
   "outputs": [],
   "source": [],
   "metadata": {
    "collapsed": false,
    "pycharm": {
     "name": "#%%\n",
     "is_executing": true
    }
   }
  },
  {
   "cell_type": "code",
   "execution_count": null,
   "outputs": [],
   "source": [],
   "metadata": {
    "collapsed": false,
    "pycharm": {
     "name": "#%%\n",
     "is_executing": true
    }
   }
  },
  {
   "cell_type": "code",
   "execution_count": null,
   "outputs": [],
   "source": [],
   "metadata": {
    "collapsed": false,
    "pycharm": {
     "name": "#%%\n",
     "is_executing": true
    }
   }
  },
  {
   "cell_type": "code",
   "execution_count": null,
   "outputs": [],
   "source": [],
   "metadata": {
    "collapsed": false,
    "pycharm": {
     "name": "#%%\n",
     "is_executing": true
    }
   }
  },
  {
   "cell_type": "code",
   "execution_count": null,
   "outputs": [],
   "source": [],
   "metadata": {
    "collapsed": false,
    "pycharm": {
     "name": "#%%\n",
     "is_executing": true
    }
   }
  },
  {
   "cell_type": "code",
   "execution_count": null,
   "outputs": [],
   "source": [],
   "metadata": {
    "collapsed": false,
    "pycharm": {
     "name": "#%%\n",
     "is_executing": true
    }
   }
  },
  {
   "cell_type": "code",
   "execution_count": null,
   "outputs": [],
   "source": [],
   "metadata": {
    "collapsed": false,
    "pycharm": {
     "name": "#%%\n",
     "is_executing": true
    }
   }
  },
  {
   "cell_type": "code",
   "execution_count": null,
   "outputs": [],
   "source": [],
   "metadata": {
    "collapsed": false,
    "pycharm": {
     "name": "#%%\n",
     "is_executing": true
    }
   }
  },
  {
   "cell_type": "code",
   "execution_count": null,
   "outputs": [],
   "source": [],
   "metadata": {
    "collapsed": false,
    "pycharm": {
     "name": "#%%\n",
     "is_executing": true
    }
   }
  },
  {
   "cell_type": "code",
   "execution_count": null,
   "outputs": [],
   "source": [],
   "metadata": {
    "collapsed": false,
    "pycharm": {
     "name": "#%%\n",
     "is_executing": true
    }
   }
  },
  {
   "cell_type": "code",
   "execution_count": null,
   "outputs": [],
   "source": [],
   "metadata": {
    "collapsed": false,
    "pycharm": {
     "name": "#%%\n",
     "is_executing": true
    }
   }
  },
  {
   "cell_type": "code",
   "execution_count": null,
   "outputs": [],
   "source": [],
   "metadata": {
    "collapsed": false,
    "pycharm": {
     "name": "#%%\n",
     "is_executing": true
    }
   }
  },
  {
   "cell_type": "code",
   "execution_count": null,
   "outputs": [],
   "source": [],
   "metadata": {
    "collapsed": false,
    "pycharm": {
     "name": "#%%\n",
     "is_executing": true
    }
   }
  },
  {
   "cell_type": "code",
   "execution_count": null,
   "outputs": [],
   "source": [],
   "metadata": {
    "collapsed": false,
    "pycharm": {
     "name": "#%%\n",
     "is_executing": true
    }
   }
  },
  {
   "cell_type": "markdown",
   "source": [
    "## Построение графиков roc-auc кривых"
   ],
   "metadata": {
    "collapsed": false,
    "pycharm": {
     "name": "#%% md\n"
    }
   }
  },
  {
   "cell_type": "code",
   "execution_count": null,
   "outputs": [],
   "source": [
    "plt.figure(figsize=(15, 6));\n",
    "plt.xlim([0, 1])\n",
    "plt.ylim([0, 1])\n",
    "\n",
    "plt.plot([0, 1], [0, 1]);\n",
    "\n",
    "for model, label in zip((vc, sc, bc, rf_best),\n",
    "                        ('VotingClassifier', 'StackingClassifier', 'BaggingClassifier', 'RandomForest')):\n",
    "    fpr, tpr, thresholds = roc_curve(y_train, model.fit(x_train, y_train).predict_proba(x_train)[:, 0])\n",
    "    plt.plot(tpr, fpr, label=label);\n",
    "    plt.legend(loc='lower right')\n",
    "    plt.legend(loc='upper left')"
   ],
   "metadata": {
    "collapsed": false,
    "pycharm": {
     "name": "#%%\n",
     "is_executing": true
    }
   }
  },
  {
   "cell_type": "code",
   "execution_count": null,
   "outputs": [],
   "source": [],
   "metadata": {
    "collapsed": false,
    "pycharm": {
     "name": "#%%\n",
     "is_executing": true
    }
   }
  },
  {
   "cell_type": "code",
   "execution_count": null,
   "outputs": [],
   "source": [
    "roc_auc_score(y_train, vc.fit(x_train, y_train).predict(x_train))"
   ],
   "metadata": {
    "collapsed": false,
    "pycharm": {
     "name": "#%%\n",
     "is_executing": true
    }
   }
  },
  {
   "cell_type": "code",
   "execution_count": null,
   "outputs": [],
   "source": [
    "roc_auc_score(y_train, rf_best.fit(x_train, y_train).predict(x_train))"
   ],
   "metadata": {
    "collapsed": false,
    "pycharm": {
     "name": "#%%\n",
     "is_executing": true
    }
   }
  },
  {
   "cell_type": "code",
   "execution_count": null,
   "outputs": [],
   "source": [],
   "metadata": {
    "collapsed": false,
    "pycharm": {
     "name": "#%%\n",
     "is_executing": true
    }
   }
  },
  {
   "cell_type": "code",
   "execution_count": null,
   "outputs": [],
   "source": [],
   "metadata": {
    "collapsed": false,
    "pycharm": {
     "name": "#%%\n",
     "is_executing": true
    }
   }
  },
  {
   "cell_type": "code",
   "execution_count": null,
   "outputs": [],
   "source": [],
   "metadata": {
    "collapsed": false,
    "pycharm": {
     "name": "#%%\n",
     "is_executing": true
    }
   }
  }
 ],
 "metadata": {
  "kernelspec": {
   "display_name": "Python 3",
   "language": "python",
   "name": "python3"
  },
  "language_info": {
   "codemirror_mode": {
    "name": "ipython",
    "version": 2
   },
   "file_extension": ".py",
   "mimetype": "text/x-python",
   "name": "python",
   "nbconvert_exporter": "python",
   "pygments_lexer": "ipython2",
   "version": "2.7.6"
  }
 },
 "nbformat": 4,
 "nbformat_minor": 0
}