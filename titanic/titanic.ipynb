{
 "cells": [
  {
   "cell_type": "code",
   "execution_count": 5,
   "metadata": {
    "collapsed": true,
    "pycharm": {
     "name": "#%%\n"
    }
   },
   "outputs": [],
   "source": [
    "import pandas as pd\n",
    "import matplotlib.pyplot as plt\n",
    "import seaborn as sns\n",
    "from sklearn.compose import ColumnTransformer\n",
    "from sklearn.experimental import enable_iterative_imputer\n",
    "from sklearn.impute import SimpleImputer, IterativeImputer\n",
    "from sklearn.preprocessing import StandardScaler, MinMaxScaler, OneHotEncoder, LabelEncoder, OrdinalEncoder, PolynomialFeatures\n",
    "from sklearn.pipeline import Pipeline\n",
    "from sklearn.compose import make_column_selector as selector\n",
    "from sklearn.linear_model import LogisticRegression\n",
    "from sklearn.model_selection import cross_val_score\n",
    "from sklearn.model_selection import GridSearchCV\n",
    "from sklearn.inspection import permutation_importance\n",
    "from sklearn.feature_selection import RFECV\n",
    "from sklearn.feature_selection import RFE\n",
    "from sklearn.svm import SVC, LinearSVC\n",
    "from sklearn.naive_bayes import BernoulliNB, CategoricalNB, ComplementNB, GaussianNB, MultinomialNB\n",
    "from sklearn.tree import DecisionTreeClassifier\n",
    "from sklearn.ensemble import RandomForestClassifier, ExtraTreesClassifier, RandomTreesEmbedding, BaggingClassifier, StackingClassifier, VotingClassifier\n",
    "from sklearn.metrics import roc_curve, roc_auc_score\n",
    "from sklearn.model_selection import train_test_split\n",
    "\n",
    "from xgboost import XGBClassifier"
   ]
  },
  {
   "cell_type": "markdown",
   "source": [
    "# Импорт библиотек"
   ],
   "metadata": {
    "collapsed": false,
    "pycharm": {
     "name": "#%% md\n"
    }
   }
  },
  {
   "cell_type": "code",
   "execution_count": 6,
   "outputs": [
    {
     "data": {
      "text/plain": "     PassengerId  Survived  Pclass                                 Name   Sex  \\\n802          803         1       1  Carter, Master. William Thornton II  male   \n465          466         0       3      Goncalves, Mr. Manuel Estanslas  male   \n461          462         0       3                  Morley, Mr. William  male   \n\n      Age  SibSp  Parch              Ticket    Fare    Cabin Embarked  \n802  11.0      1      2              113760  120.00  B96 B98        S  \n465  38.0      0      0  SOTON/O.Q. 3101306    7.05      NaN        S  \n461  34.0      0      0              364506    8.05      NaN        S  ",
      "text/html": "<div>\n<style scoped>\n    .dataframe tbody tr th:only-of-type {\n        vertical-align: middle;\n    }\n\n    .dataframe tbody tr th {\n        vertical-align: top;\n    }\n\n    .dataframe thead th {\n        text-align: right;\n    }\n</style>\n<table border=\"1\" class=\"dataframe\">\n  <thead>\n    <tr style=\"text-align: right;\">\n      <th></th>\n      <th>PassengerId</th>\n      <th>Survived</th>\n      <th>Pclass</th>\n      <th>Name</th>\n      <th>Sex</th>\n      <th>Age</th>\n      <th>SibSp</th>\n      <th>Parch</th>\n      <th>Ticket</th>\n      <th>Fare</th>\n      <th>Cabin</th>\n      <th>Embarked</th>\n    </tr>\n  </thead>\n  <tbody>\n    <tr>\n      <th>802</th>\n      <td>803</td>\n      <td>1</td>\n      <td>1</td>\n      <td>Carter, Master. William Thornton II</td>\n      <td>male</td>\n      <td>11.0</td>\n      <td>1</td>\n      <td>2</td>\n      <td>113760</td>\n      <td>120.00</td>\n      <td>B96 B98</td>\n      <td>S</td>\n    </tr>\n    <tr>\n      <th>465</th>\n      <td>466</td>\n      <td>0</td>\n      <td>3</td>\n      <td>Goncalves, Mr. Manuel Estanslas</td>\n      <td>male</td>\n      <td>38.0</td>\n      <td>0</td>\n      <td>0</td>\n      <td>SOTON/O.Q. 3101306</td>\n      <td>7.05</td>\n      <td>NaN</td>\n      <td>S</td>\n    </tr>\n    <tr>\n      <th>461</th>\n      <td>462</td>\n      <td>0</td>\n      <td>3</td>\n      <td>Morley, Mr. William</td>\n      <td>male</td>\n      <td>34.0</td>\n      <td>0</td>\n      <td>0</td>\n      <td>364506</td>\n      <td>8.05</td>\n      <td>NaN</td>\n      <td>S</td>\n    </tr>\n  </tbody>\n</table>\n</div>"
     },
     "execution_count": 6,
     "metadata": {},
     "output_type": "execute_result"
    }
   ],
   "source": [
    "df = pd.read_csv('train.csv')\n",
    "test = pd.read_csv('test.csv')\n",
    "df.sample(3)"
   ],
   "metadata": {
    "collapsed": false,
    "pycharm": {
     "name": "#%%\n"
    }
   }
  },
  {
   "cell_type": "markdown",
   "source": [
    "## Выставление настроек"
   ],
   "metadata": {
    "collapsed": false,
    "pycharm": {
     "name": "#%% md\n"
    }
   }
  },
  {
   "cell_type": "code",
   "execution_count": 7,
   "outputs": [
    {
     "data": {
      "text/plain": "4"
     },
     "execution_count": 7,
     "metadata": {},
     "output_type": "execute_result"
    }
   ],
   "source": [
    "2+2"
   ],
   "metadata": {
    "collapsed": false,
    "pycharm": {
     "name": "#%%\n"
    }
   }
  },
  {
   "cell_type": "code",
   "execution_count": 7,
   "outputs": [],
   "source": [],
   "metadata": {
    "collapsed": false,
    "pycharm": {
     "name": "#%%\n"
    }
   }
  },
  {
   "cell_type": "markdown",
   "source": [
    "# Обработка данных"
   ],
   "metadata": {
    "collapsed": false,
    "pycharm": {
     "name": "#%% md\n"
    }
   }
  },
  {
   "cell_type": "markdown",
   "source": [
    "Начнем с того, что приведем все названия колонок к \"змеиной нотации\""
   ],
   "metadata": {
    "collapsed": false,
    "pycharm": {
     "name": "#%% md\n"
    }
   }
  },
  {
   "cell_type": "code",
   "execution_count": 8,
   "outputs": [],
   "source": [
    "df.columns = df.columns.str.lower()\n",
    "test.columns = test.columns.str.lower()"
   ],
   "metadata": {
    "collapsed": false,
    "pycharm": {
     "name": "#%%\n"
    }
   }
  },
  {
   "cell_type": "markdown",
   "source": [
    "Переведем колонку с индексом в индекс датафрейма"
   ],
   "metadata": {
    "collapsed": false,
    "pycharm": {
     "name": "#%% md\n"
    }
   }
  },
  {
   "cell_type": "code",
   "execution_count": 9,
   "outputs": [],
   "source": [
    "df = df.set_index('passengerid')\n",
    "test = test.set_index('passengerid')"
   ],
   "metadata": {
    "collapsed": false,
    "pycharm": {
     "name": "#%%\n"
    }
   }
  },
  {
   "cell_type": "markdown",
   "source": [
    "Выведем общую информацию об обучающем и тестовом датасетах"
   ],
   "metadata": {
    "collapsed": false,
    "pycharm": {
     "name": "#%% md\n"
    }
   }
  },
  {
   "cell_type": "code",
   "execution_count": 10,
   "outputs": [],
   "source": [
    "def full_info(df):\n",
    "    display(pd.DataFrame({'Non-Null Count': (~df.isna()).sum(),\n",
    "                          'Null Count': df.isna().sum(),\n",
    "                          'Dtype': df.dtypes}).join(df.describe().T).rename_axis('Feature', axis=1).fillna(''))"
   ],
   "metadata": {
    "collapsed": false,
    "pycharm": {
     "name": "#%%\n"
    }
   }
  },
  {
   "cell_type": "code",
   "execution_count": 11,
   "outputs": [
    {
     "data": {
      "text/plain": "Feature   Non-Null Count  Null Count    Dtype  count       mean        std  \\\nsurvived             891           0    int64  891.0   0.383838   0.486592   \npclass               891           0    int64  891.0   2.308642   0.836071   \nname                 891           0   object                                \nsex                  891           0   object                                \nage                  714         177  float64  714.0  29.699118  14.526497   \nsibsp                891           0    int64  891.0   0.523008   1.102743   \nparch                891           0    int64  891.0   0.381594   0.806057   \nticket               891           0   object                                \nfare                 891           0  float64  891.0  32.204208  49.693429   \ncabin                204         687   object                                \nembarked             889           2   object                                \n\nFeature    min     25%      50%   75%       max  \nsurvived   0.0     0.0      0.0   1.0       1.0  \npclass     1.0     2.0      3.0   3.0       3.0  \nname                                             \nsex                                              \nage       0.42  20.125     28.0  38.0      80.0  \nsibsp      0.0     0.0      0.0   1.0       8.0  \nparch      0.0     0.0      0.0   0.0       6.0  \nticket                                           \nfare       0.0  7.9104  14.4542  31.0  512.3292  \ncabin                                            \nembarked                                         ",
      "text/html": "<div>\n<style scoped>\n    .dataframe tbody tr th:only-of-type {\n        vertical-align: middle;\n    }\n\n    .dataframe tbody tr th {\n        vertical-align: top;\n    }\n\n    .dataframe thead th {\n        text-align: right;\n    }\n</style>\n<table border=\"1\" class=\"dataframe\">\n  <thead>\n    <tr style=\"text-align: right;\">\n      <th>Feature</th>\n      <th>Non-Null Count</th>\n      <th>Null Count</th>\n      <th>Dtype</th>\n      <th>count</th>\n      <th>mean</th>\n      <th>std</th>\n      <th>min</th>\n      <th>25%</th>\n      <th>50%</th>\n      <th>75%</th>\n      <th>max</th>\n    </tr>\n  </thead>\n  <tbody>\n    <tr>\n      <th>survived</th>\n      <td>891</td>\n      <td>0</td>\n      <td>int64</td>\n      <td>891.0</td>\n      <td>0.383838</td>\n      <td>0.486592</td>\n      <td>0.0</td>\n      <td>0.0</td>\n      <td>0.0</td>\n      <td>1.0</td>\n      <td>1.0</td>\n    </tr>\n    <tr>\n      <th>pclass</th>\n      <td>891</td>\n      <td>0</td>\n      <td>int64</td>\n      <td>891.0</td>\n      <td>2.308642</td>\n      <td>0.836071</td>\n      <td>1.0</td>\n      <td>2.0</td>\n      <td>3.0</td>\n      <td>3.0</td>\n      <td>3.0</td>\n    </tr>\n    <tr>\n      <th>name</th>\n      <td>891</td>\n      <td>0</td>\n      <td>object</td>\n      <td></td>\n      <td></td>\n      <td></td>\n      <td></td>\n      <td></td>\n      <td></td>\n      <td></td>\n      <td></td>\n    </tr>\n    <tr>\n      <th>sex</th>\n      <td>891</td>\n      <td>0</td>\n      <td>object</td>\n      <td></td>\n      <td></td>\n      <td></td>\n      <td></td>\n      <td></td>\n      <td></td>\n      <td></td>\n      <td></td>\n    </tr>\n    <tr>\n      <th>age</th>\n      <td>714</td>\n      <td>177</td>\n      <td>float64</td>\n      <td>714.0</td>\n      <td>29.699118</td>\n      <td>14.526497</td>\n      <td>0.42</td>\n      <td>20.125</td>\n      <td>28.0</td>\n      <td>38.0</td>\n      <td>80.0</td>\n    </tr>\n    <tr>\n      <th>sibsp</th>\n      <td>891</td>\n      <td>0</td>\n      <td>int64</td>\n      <td>891.0</td>\n      <td>0.523008</td>\n      <td>1.102743</td>\n      <td>0.0</td>\n      <td>0.0</td>\n      <td>0.0</td>\n      <td>1.0</td>\n      <td>8.0</td>\n    </tr>\n    <tr>\n      <th>parch</th>\n      <td>891</td>\n      <td>0</td>\n      <td>int64</td>\n      <td>891.0</td>\n      <td>0.381594</td>\n      <td>0.806057</td>\n      <td>0.0</td>\n      <td>0.0</td>\n      <td>0.0</td>\n      <td>0.0</td>\n      <td>6.0</td>\n    </tr>\n    <tr>\n      <th>ticket</th>\n      <td>891</td>\n      <td>0</td>\n      <td>object</td>\n      <td></td>\n      <td></td>\n      <td></td>\n      <td></td>\n      <td></td>\n      <td></td>\n      <td></td>\n      <td></td>\n    </tr>\n    <tr>\n      <th>fare</th>\n      <td>891</td>\n      <td>0</td>\n      <td>float64</td>\n      <td>891.0</td>\n      <td>32.204208</td>\n      <td>49.693429</td>\n      <td>0.0</td>\n      <td>7.9104</td>\n      <td>14.4542</td>\n      <td>31.0</td>\n      <td>512.3292</td>\n    </tr>\n    <tr>\n      <th>cabin</th>\n      <td>204</td>\n      <td>687</td>\n      <td>object</td>\n      <td></td>\n      <td></td>\n      <td></td>\n      <td></td>\n      <td></td>\n      <td></td>\n      <td></td>\n      <td></td>\n    </tr>\n    <tr>\n      <th>embarked</th>\n      <td>889</td>\n      <td>2</td>\n      <td>object</td>\n      <td></td>\n      <td></td>\n      <td></td>\n      <td></td>\n      <td></td>\n      <td></td>\n      <td></td>\n      <td></td>\n    </tr>\n  </tbody>\n</table>\n</div>"
     },
     "metadata": {},
     "output_type": "display_data"
    }
   ],
   "source": [
    "full_info(df)"
   ],
   "metadata": {
    "collapsed": false,
    "pycharm": {
     "name": "#%%\n"
    }
   }
  },
  {
   "cell_type": "code",
   "execution_count": 12,
   "outputs": [
    {
     "data": {
      "text/plain": "Feature   Non-Null Count  Null Count    Dtype  count       mean        std  \\\npclass               418           0    int64  418.0    2.26555   0.841838   \nname                 418           0   object                                \nsex                  418           0   object                                \nage                  332          86  float64  332.0   30.27259  14.181209   \nsibsp                418           0    int64  418.0   0.447368    0.89676   \nparch                418           0    int64  418.0   0.392344   0.981429   \nticket               418           0   object                                \nfare                 417           1  float64  417.0  35.627188  55.907576   \ncabin                 91         327   object                                \nembarked             418           0   object                                \n\nFeature    min     25%      50%   75%       max  \npclass     1.0     1.0      3.0   3.0       3.0  \nname                                             \nsex                                              \nage       0.17    21.0     27.0  39.0      76.0  \nsibsp      0.0     0.0      0.0   1.0       8.0  \nparch      0.0     0.0      0.0   0.0       9.0  \nticket                                           \nfare       0.0  7.8958  14.4542  31.5  512.3292  \ncabin                                            \nembarked                                         ",
      "text/html": "<div>\n<style scoped>\n    .dataframe tbody tr th:only-of-type {\n        vertical-align: middle;\n    }\n\n    .dataframe tbody tr th {\n        vertical-align: top;\n    }\n\n    .dataframe thead th {\n        text-align: right;\n    }\n</style>\n<table border=\"1\" class=\"dataframe\">\n  <thead>\n    <tr style=\"text-align: right;\">\n      <th>Feature</th>\n      <th>Non-Null Count</th>\n      <th>Null Count</th>\n      <th>Dtype</th>\n      <th>count</th>\n      <th>mean</th>\n      <th>std</th>\n      <th>min</th>\n      <th>25%</th>\n      <th>50%</th>\n      <th>75%</th>\n      <th>max</th>\n    </tr>\n  </thead>\n  <tbody>\n    <tr>\n      <th>pclass</th>\n      <td>418</td>\n      <td>0</td>\n      <td>int64</td>\n      <td>418.0</td>\n      <td>2.26555</td>\n      <td>0.841838</td>\n      <td>1.0</td>\n      <td>1.0</td>\n      <td>3.0</td>\n      <td>3.0</td>\n      <td>3.0</td>\n    </tr>\n    <tr>\n      <th>name</th>\n      <td>418</td>\n      <td>0</td>\n      <td>object</td>\n      <td></td>\n      <td></td>\n      <td></td>\n      <td></td>\n      <td></td>\n      <td></td>\n      <td></td>\n      <td></td>\n    </tr>\n    <tr>\n      <th>sex</th>\n      <td>418</td>\n      <td>0</td>\n      <td>object</td>\n      <td></td>\n      <td></td>\n      <td></td>\n      <td></td>\n      <td></td>\n      <td></td>\n      <td></td>\n      <td></td>\n    </tr>\n    <tr>\n      <th>age</th>\n      <td>332</td>\n      <td>86</td>\n      <td>float64</td>\n      <td>332.0</td>\n      <td>30.27259</td>\n      <td>14.181209</td>\n      <td>0.17</td>\n      <td>21.0</td>\n      <td>27.0</td>\n      <td>39.0</td>\n      <td>76.0</td>\n    </tr>\n    <tr>\n      <th>sibsp</th>\n      <td>418</td>\n      <td>0</td>\n      <td>int64</td>\n      <td>418.0</td>\n      <td>0.447368</td>\n      <td>0.89676</td>\n      <td>0.0</td>\n      <td>0.0</td>\n      <td>0.0</td>\n      <td>1.0</td>\n      <td>8.0</td>\n    </tr>\n    <tr>\n      <th>parch</th>\n      <td>418</td>\n      <td>0</td>\n      <td>int64</td>\n      <td>418.0</td>\n      <td>0.392344</td>\n      <td>0.981429</td>\n      <td>0.0</td>\n      <td>0.0</td>\n      <td>0.0</td>\n      <td>0.0</td>\n      <td>9.0</td>\n    </tr>\n    <tr>\n      <th>ticket</th>\n      <td>418</td>\n      <td>0</td>\n      <td>object</td>\n      <td></td>\n      <td></td>\n      <td></td>\n      <td></td>\n      <td></td>\n      <td></td>\n      <td></td>\n      <td></td>\n    </tr>\n    <tr>\n      <th>fare</th>\n      <td>417</td>\n      <td>1</td>\n      <td>float64</td>\n      <td>417.0</td>\n      <td>35.627188</td>\n      <td>55.907576</td>\n      <td>0.0</td>\n      <td>7.8958</td>\n      <td>14.4542</td>\n      <td>31.5</td>\n      <td>512.3292</td>\n    </tr>\n    <tr>\n      <th>cabin</th>\n      <td>91</td>\n      <td>327</td>\n      <td>object</td>\n      <td></td>\n      <td></td>\n      <td></td>\n      <td></td>\n      <td></td>\n      <td></td>\n      <td></td>\n      <td></td>\n    </tr>\n    <tr>\n      <th>embarked</th>\n      <td>418</td>\n      <td>0</td>\n      <td>object</td>\n      <td></td>\n      <td></td>\n      <td></td>\n      <td></td>\n      <td></td>\n      <td></td>\n      <td></td>\n      <td></td>\n    </tr>\n  </tbody>\n</table>\n</div>"
     },
     "metadata": {},
     "output_type": "display_data"
    }
   ],
   "source": [
    "full_info(test)"
   ],
   "metadata": {
    "collapsed": false,
    "pycharm": {
     "name": "#%%\n"
    }
   }
  },
  {
   "cell_type": "markdown",
   "source": [
    "Выводы следующие:\n",
    "* В обучающем датасете 891 наблюдение\n",
    "* Пропуски есть в колонках с возрастом и номером кабины(?). Пропуски есть также и в тестовом датасете, поэтому модель должна уметь работать с ними\n",
    "* Не все типы данных оптимальны\n",
    "* есть небольшой дисбаланс в пользу погибших"
   ],
   "metadata": {
    "collapsed": false,
    "pycharm": {
     "name": "#%% md\n"
    }
   }
  },
  {
   "cell_type": "markdown",
   "source": [
    "Удалим признак с номером кабины, так как восстановить эту информацию и использовать далее не удастся"
   ],
   "metadata": {
    "collapsed": false,
    "pycharm": {
     "name": "#%% md\n"
    }
   }
  },
  {
   "cell_type": "code",
   "execution_count": 13,
   "outputs": [],
   "source": [
    "try:\n",
    "    df = df.drop('cabin', axis=1)\n",
    "    test = test.drop('cabin', axis=1)\n",
    "except:\n",
    "    print('Признака уже нет')"
   ],
   "metadata": {
    "collapsed": false,
    "pycharm": {
     "name": "#%%\n"
    }
   }
  },
  {
   "cell_type": "markdown",
   "source": [
    "Поменяем типы данных"
   ],
   "metadata": {
    "collapsed": false,
    "pycharm": {
     "name": "#%% md\n"
    }
   }
  },
  {
   "cell_type": "code",
   "execution_count": 14,
   "outputs": [],
   "source": [
    "df['pclass'] = df['pclass'].replace({1: 'first', 2: 'second', 3: 'third'})\n",
    "test['pclass'] = test['pclass'].replace({1: 'first', 2: 'second', 3: 'third'})"
   ],
   "metadata": {
    "collapsed": false,
    "pycharm": {
     "name": "#%%\n"
    }
   }
  },
  {
   "cell_type": "code",
   "execution_count": 15,
   "outputs": [],
   "source": [
    "df['sex'] = df['sex'].replace({'male': 0, 'female': 1}).astype('bool')\n",
    "test['sex'] = test['sex'].replace({'male': 0, 'female': 1}).astype('bool')"
   ],
   "metadata": {
    "collapsed": false,
    "pycharm": {
     "name": "#%%\n"
    }
   }
  },
  {
   "cell_type": "markdown",
   "source": [
    "Добавим новый признак, равный длине имени. Позже проверим, как это влияет на шансы выжить"
   ],
   "metadata": {
    "collapsed": false,
    "pycharm": {
     "name": "#%% md\n"
    }
   }
  },
  {
   "cell_type": "code",
   "execution_count": 16,
   "outputs": [],
   "source": [
    "df['name_length'] = df['name'].apply(len)\n",
    "test['name_length'] = test['name'].apply(len)"
   ],
   "metadata": {
    "collapsed": false,
    "pycharm": {
     "name": "#%%\n"
    }
   }
  },
  {
   "cell_type": "markdown",
   "source": [
    "Посмотрим на признак \"номер билета\""
   ],
   "metadata": {
    "collapsed": false,
    "pycharm": {
     "name": "#%% md\n"
    }
   }
  },
  {
   "cell_type": "code",
   "execution_count": 17,
   "outputs": [
    {
     "data": {
      "text/plain": "ticket\n347082      7\nCA. 2343    7\n1601        7\n3101295     6\nCA 2144     6\n           ..\n9234        1\n19988       1\n2693        1\nPC 17612    1\n370376      1\nName: count, Length: 681, dtype: int64"
     },
     "execution_count": 17,
     "metadata": {},
     "output_type": "execute_result"
    }
   ],
   "source": [
    "df['ticket'].value_counts()"
   ],
   "metadata": {
    "collapsed": false,
    "pycharm": {
     "name": "#%%\n"
    }
   }
  },
  {
   "cell_type": "markdown",
   "source": [
    "Совпадающих значений мало, удалим признак"
   ],
   "metadata": {
    "collapsed": false,
    "pycharm": {
     "name": "#%% md\n"
    }
   }
  },
  {
   "cell_type": "code",
   "execution_count": 18,
   "outputs": [],
   "source": [
    "df = df.drop('ticket', axis=1)\n",
    "test = test.drop('ticket', axis=1)"
   ],
   "metadata": {
    "collapsed": false,
    "pycharm": {
     "name": "#%%\n"
    }
   }
  },
  {
   "cell_type": "markdown",
   "source": [
    "# Исследование данных"
   ],
   "metadata": {
    "collapsed": false,
    "pycharm": {
     "name": "#%% md\n"
    }
   }
  },
  {
   "cell_type": "markdown",
   "source": [
    "Построим по порядку для всех признаков графики, позволяющие пока визуально оценить влияние признака на целевую переменную"
   ],
   "metadata": {
    "collapsed": false,
    "pycharm": {
     "name": "#%% md\n"
    }
   }
  },
  {
   "cell_type": "markdown",
   "source": [
    "## Номер класса"
   ],
   "metadata": {
    "collapsed": false,
    "pycharm": {
     "name": "#%% md\n"
    }
   }
  },
  {
   "cell_type": "code",
   "execution_count": 19,
   "outputs": [
    {
     "data": {
      "text/plain": "pclass  survived\nfirst   1           0.63\n        0           0.37\nsecond  0           0.53\n        1           0.47\nthird   0           0.76\n        1           0.24\nName: proportion, dtype: float64"
     },
     "execution_count": 19,
     "metadata": {},
     "output_type": "execute_result"
    }
   ],
   "source": [
    "df.groupby('pclass')['survived'].value_counts(normalize=True).round(2)"
   ],
   "metadata": {
    "collapsed": false,
    "pycharm": {
     "name": "#%%\n"
    }
   }
  },
  {
   "cell_type": "code",
   "execution_count": 20,
   "outputs": [
    {
     "data": {
      "text/plain": "<Figure size 1600x600 with 2 Axes>",
      "image/png": "[encoded data removed]"
     },
     "metadata": {},
     "output_type": "display_data"
    }
   ],
   "source": [
    "fig, [ax1, ax2] = plt.subplots(1, 2, figsize=(16, 6))\n",
    "\n",
    "plt.suptitle('Барчарты выживаемости для пассажиров разного класса')\n",
    "df.groupby(['pclass', 'survived'])['survived'].value_counts().unstack().plot.barh(ax=ax1);\n",
    "ax1.legend(loc='lower right');\n",
    "ax1.set_title('матплотлиб')\n",
    "\n",
    "sns.barplot(data=df.groupby(['pclass', 'survived'])['survived'].value_counts().reset_index(),\n",
    "            y='pclass',\n",
    "            order=['third', 'second', 'first'],\n",
    "            x='count',\n",
    "            hue='survived',\n",
    "            # hue_order=[0, 1],\n",
    "            orient='h',\n",
    "            ax=ax2);\n",
    "ax2.set_title('сиборн');"
   ],
   "metadata": {
    "collapsed": false,
    "pycharm": {
     "name": "#%%\n"
    }
   }
  },
  {
   "cell_type": "markdown",
   "source": [
    "Предсказуемо, шансы выжить у пассажиров первого класса были выше"
   ],
   "metadata": {
    "collapsed": false,
    "pycharm": {
     "name": "#%% md\n"
    }
   }
  },
  {
   "cell_type": "markdown",
   "source": [
    "## Имя\n",
    "\n",
    "Проверим, существует ли связь между длиной имени и вероятностью выжить."
   ],
   "metadata": {
    "collapsed": false,
    "pycharm": {
     "name": "#%% md\n"
    }
   }
  },
  {
   "cell_type": "code",
   "execution_count": 21,
   "outputs": [
    {
     "data": {
      "text/plain": "<Figure size 640x480 with 1 Axes>",
      "image/png": "[encoded data removed]"
     },
     "metadata": {},
     "output_type": "display_data"
    }
   ],
   "source": [
    "df.groupby('survived')['name_length'].plot(bins=20, alpha=0.5, kind='hist', grid=False);\n",
    "plt.legend();\n",
    "plt.title('Зависимость длины имени от вероятности выжить')\n",
    "plt.xlabel('Длина имени в билете');"
   ],
   "metadata": {
    "collapsed": false,
    "pycharm": {
     "name": "#%%\n"
    }
   }
  },
  {
   "cell_type": "markdown",
   "source": [
    "Удалим признак с именем"
   ],
   "metadata": {
    "collapsed": false,
    "pycharm": {
     "name": "#%% md\n"
    }
   }
  },
  {
   "cell_type": "code",
   "execution_count": 22,
   "outputs": [],
   "source": [
    "df = df.drop('name', axis=1)"
   ],
   "metadata": {
    "collapsed": false,
    "pycharm": {
     "name": "#%%\n"
    }
   }
  },
  {
   "cell_type": "markdown",
   "source": [
    "## Пол"
   ],
   "metadata": {
    "collapsed": false,
    "pycharm": {
     "name": "#%% md\n"
    }
   }
  },
  {
   "cell_type": "code",
   "execution_count": 23,
   "outputs": [
    {
     "data": {
      "text/plain": "<Figure size 640x480 with 2 Axes>",
      "image/png": "[encoded data removed]"
     },
     "metadata": {},
     "output_type": "display_data"
    }
   ],
   "source": [
    "sns.heatmap(df.groupby(['sex', 'survived'])['survived'].count().unstack(), annot=True, fmt='.3g');"
   ],
   "metadata": {
    "collapsed": false,
    "pycharm": {
     "name": "#%%\n"
    }
   }
  },
  {
   "cell_type": "markdown",
   "source": [
    "Среди женщин выжило примерно 75%, среди мужчин - 20%"
   ],
   "metadata": {
    "collapsed": false,
    "pycharm": {
     "name": "#%% md\n"
    }
   }
  },
  {
   "cell_type": "markdown",
   "source": [
    "## Возраст"
   ],
   "metadata": {
    "collapsed": false,
    "pycharm": {
     "name": "#%% md\n"
    }
   }
  },
  {
   "cell_type": "code",
   "execution_count": 24,
   "outputs": [
    {
     "data": {
      "text/plain": "<Figure size 1600x600 with 2 Axes>",
      "image/png": "[encoded data removed]"
     },
     "metadata": {},
     "output_type": "display_data"
    }
   ],
   "source": [
    "fig, [ax1, ax2] = plt.subplots(1, 2, figsize=(16, 6))\n",
    "\n",
    "# fig.title('a')\n",
    "fig.suptitle('b')\n",
    "plt.title('c')\n",
    "plt.suptitle('d')\n",
    "\n",
    "df.groupby('survived')['age'].plot(bins=20, alpha=0.5, kind='hist', grid=False, ax=ax1);\n",
    "ax1.legend();\n",
    "ax1.set_xlabel('Возраст');\n",
    "\n",
    "df.boxplot(column='age', by='survived', grid=False, ax=ax2);\n",
    "ax2.set_xlabel('');\n",
    "ax2.set_title('')\n",
    "ax2.set_xlabel('Выжил/нет выжил')\n",
    "ax2.set_ylabel('Возраст');"
   ],
   "metadata": {
    "collapsed": false,
    "pycharm": {
     "name": "#%%\n"
    }
   }
  },
  {
   "cell_type": "markdown",
   "source": [
    "# Обучение моделей"
   ],
   "metadata": {
    "collapsed": false,
    "pycharm": {
     "name": "#%% md\n"
    }
   }
  },
  {
   "cell_type": "markdown",
   "source": [
    "## Разделение датасета на признаки и таргет, на обучающую и тестовую выборки"
   ],
   "metadata": {
    "collapsed": false,
    "pycharm": {
     "name": "#%% md\n"
    }
   }
  },
  {
   "cell_type": "code",
   "execution_count": 25,
   "outputs": [],
   "source": [
    "x = df.drop('survived', axis=1)\n",
    "y = df['survived']\n",
    "x_train, x_test, y_train, y_test = train_test_split(x, y, test_size=0.2, random_state=123)"
   ],
   "metadata": {
    "collapsed": false,
    "pycharm": {
     "name": "#%%\n"
    }
   }
  },
  {
   "cell_type": "markdown",
   "source": [
    "## Линейные модели"
   ],
   "metadata": {
    "collapsed": false,
    "pycharm": {
     "name": "#%% md\n"
    }
   }
  },
  {
   "cell_type": "markdown",
   "source": [
    "Построим пайплайн преобразования признаков для линейной модели"
   ],
   "metadata": {
    "collapsed": false,
    "pycharm": {
     "name": "#%% md\n"
    }
   }
  },
  {
   "cell_type": "code",
   "execution_count": 26,
   "outputs": [
    {
     "data": {
      "text/plain": "Pipeline(steps=[('',\n                 ColumnTransformer(remainder='passthrough',\n                                   transformers=[('nums',\n                                                  Pipeline(steps=[('imputer',\n                                                                   SimpleImputer()),\n                                                                  ('scaler',\n                                                                   StandardScaler())]),\n                                                  <sklearn.compose._column_transformer.make_column_selector object at 0x00000212A307FA60>),\n                                                 ('cats',\n                                                  Pipeline(steps=[('imputer',\n                                                                   SimpleImputer(strategy='most_frequent')),\n                                                                  ('ohe',\n                                                                   OneHotEncoder(drop='first'))]),\n                                                  <sklearn.compose._column_transformer.make_column_selector object at 0x00000212A307FA30>)]))])",
      "text/html": "<style>#sk-container-id-1 {color: black;background-color: white;}#sk-container-id-1 pre{padding: 0;}#sk-container-id-1 div.sk-toggleable {background-color: white;}#sk-container-id-1 label.sk-toggleable__label {cursor: pointer;display: block;width: 100%;margin-bottom: 0;padding: 0.3em;box-sizing: border-box;text-align: center;}#sk-container-id-1 label.sk-toggleable__label-arrow:before {content: \"▸\";float: left;margin-right: 0.25em;color: #696969;}#sk-container-id-1 label.sk-toggleable__label-arrow:hover:before {color: black;}#sk-container-id-1 div.sk-estimator:hover label.sk-toggleable__label-arrow:before {color: black;}#sk-container-id-1 div.sk-toggleable__content {max-height: 0;max-width: 0;overflow: hidden;text-align: left;background-color: #f0f8ff;}#sk-container-id-1 div.sk-toggleable__content pre {margin: 0.2em;color: black;border-radius: 0.25em;background-color: #f0f8ff;}#sk-container-id-1 input.sk-toggleable__control:checked~div.sk-toggleable__content {max-height: 200px;max-width: 100%;overflow: auto;}#sk-container-id-1 input.sk-toggleable__control:checked~label.sk-toggleable__label-arrow:before {content: \"▾\";}#sk-container-id-1 div.sk-estimator input.sk-toggleable__control:checked~label.sk-toggleable__label {background-color: #d4ebff;}#sk-container-id-1 div.sk-label input.sk-toggleable__control:checked~label.sk-toggleable__label {background-color: #d4ebff;}#sk-container-id-1 input.sk-hidden--visually {border: 0;clip: rect(1px 1px 1px 1px);clip: rect(1px, 1px, 1px, 1px);height: 1px;margin: -1px;overflow: hidden;padding: 0;position: absolute;width: 1px;}#sk-container-id-1 div.sk-estimator {font-family: monospace;background-color: #f0f8ff;border: 1px dotted black;border-radius: 0.25em;box-sizing: border-box;margin-bottom: 0.5em;}#sk-container-id-1 div.sk-estimator:hover {background-color: #d4ebff;}#sk-container-id-1 div.sk-parallel-item::after {content: \"\";width: 100%;border-bottom: 1px solid gray;flex-grow: 1;}#sk-container-id-1 div.sk-label:hover label.sk-toggleable__label {background-color: #d4ebff;}#sk-container-id-1 div.sk-serial::before {content: \"\";position: absolute;border-left: 1px solid gray;box-sizing: border-box;top: 0;bottom: 0;left: 50%;z-index: 0;}#sk-container-id-1 div.sk-serial {display: flex;flex-direction: column;align-items: center;background-color: white;padding-right: 0.2em;padding-left: 0.2em;position: relative;}#sk-container-id-1 div.sk-item {position: relative;z-index: 1;}#sk-container-id-1 div.sk-parallel {display: flex;align-items: stretch;justify-content: center;background-color: white;position: relative;}#sk-container-id-1 div.sk-item::before, #sk-container-id-1 div.sk-parallel-item::before {content: \"\";position: absolute;border-left: 1px solid gray;box-sizing: border-box;top: 0;bottom: 0;left: 50%;z-index: -1;}#sk-container-id-1 div.sk-parallel-item {display: flex;flex-direction: column;z-index: 1;position: relative;background-color: white;}#sk-container-id-1 div.sk-parallel-item:first-child::after {align-self: flex-end;width: 50%;}#sk-container-id-1 div.sk-parallel-item:last-child::after {align-self: flex-start;width: 50%;}#sk-container-id-1 div.sk-parallel-item:only-child::after {width: 0;}#sk-container-id-1 div.sk-dashed-wrapped {border: 1px dashed gray;margin: 0 0.4em 0.5em 0.4em;box-sizing: border-box;padding-bottom: 0.4em;background-color: white;}#sk-container-id-1 div.sk-label label {font-family: monospace;font-weight: bold;display: inline-block;line-height: 1.2em;}#sk-container-id-1 div.sk-label-container {text-align: center;}#sk-container-id-1 div.sk-container {/* jupyter's `normalize.less` sets `[hidden] { display: none; }` but bootstrap.min.css set `[hidden] { display: none !important; }` so we also need the `!important` here to be able to override the default hidden behavior on the sphinx rendered scikit-learn.org. See: https://github.com/scikit-learn/scikit-learn/issues/21755 */display: inline-block !important;position: relative;}#sk-container-id-1 div.sk-text-repr-fallback {display: none;}</style><div id=\"sk-container-id-1\" class=\"sk-top-container\"><div class=\"sk-text-repr-fallback\"><pre>Pipeline(steps=[(&#x27;&#x27;,\n                 ColumnTransformer(remainder=&#x27;passthrough&#x27;,\n                                   transformers=[(&#x27;nums&#x27;,\n                                                  Pipeline(steps=[(&#x27;imputer&#x27;,\n                                                                   SimpleImputer()),\n                                                                  (&#x27;scaler&#x27;,\n                                                                   StandardScaler())]),\n                                                  &lt;sklearn.compose._column_transformer.make_column_selector object at 0x00000212A307FA60&gt;),\n                                                 (&#x27;cats&#x27;,\n                                                  Pipeline(steps=[(&#x27;imputer&#x27;,\n                                                                   SimpleImputer(strategy=&#x27;most_frequent&#x27;)),\n                                                                  (&#x27;ohe&#x27;,\n                                                                   OneHotEncoder(drop=&#x27;first&#x27;))]),\n                                                  &lt;sklearn.compose._column_transformer.make_column_selector object at 0x00000212A307FA30&gt;)]))])</pre><b>In a Jupyter environment, please rerun this cell to show the HTML representation or trust the notebook. <br />On GitHub, the HTML representation is unable to render, please try loading this page with nbviewer.org.</b></div><div class=\"sk-container\" hidden><div class=\"sk-item sk-dashed-wrapped\"><div class=\"sk-label-container\"><div class=\"sk-label sk-toggleable\"><input class=\"sk-toggleable__control sk-hidden--visually\" id=\"sk-estimator-id-1\" type=\"checkbox\" ><label for=\"sk-estimator-id-1\" class=\"sk-toggleable__label sk-toggleable__label-arrow\">Pipeline</label><div class=\"sk-toggleable__content\"><pre>Pipeline(steps=[(&#x27;&#x27;,\n                 ColumnTransformer(remainder=&#x27;passthrough&#x27;,\n                                   transformers=[(&#x27;nums&#x27;,\n                                                  Pipeline(steps=[(&#x27;imputer&#x27;,\n                                                                   SimpleImputer()),\n                                                                  (&#x27;scaler&#x27;,\n                                                                   StandardScaler())]),\n                                                  &lt;sklearn.compose._column_transformer.make_column_selector object at 0x00000212A307FA60&gt;),\n                                                 (&#x27;cats&#x27;,\n                                                  Pipeline(steps=[(&#x27;imputer&#x27;,\n                                                                   SimpleImputer(strategy=&#x27;most_frequent&#x27;)),\n                                                                  (&#x27;ohe&#x27;,\n                                                                   OneHotEncoder(drop=&#x27;first&#x27;))]),\n                                                  &lt;sklearn.compose._column_transformer.make_column_selector object at 0x00000212A307FA30&gt;)]))])</pre></div></div></div><div class=\"sk-serial\"><div class=\"sk-item sk-dashed-wrapped\"><div class=\"sk-label-container\"><div class=\"sk-label sk-toggleable\"><input class=\"sk-toggleable__control sk-hidden--visually\" id=\"sk-estimator-id-2\" type=\"checkbox\" ><label for=\"sk-estimator-id-2\" class=\"sk-toggleable__label sk-toggleable__label-arrow\">: ColumnTransformer</label><div class=\"sk-toggleable__content\"><pre>ColumnTransformer(remainder=&#x27;passthrough&#x27;,\n                  transformers=[(&#x27;nums&#x27;,\n                                 Pipeline(steps=[(&#x27;imputer&#x27;, SimpleImputer()),\n                                                 (&#x27;scaler&#x27;, StandardScaler())]),\n                                 &lt;sklearn.compose._column_transformer.make_column_selector object at 0x00000212A307FA60&gt;),\n                                (&#x27;cats&#x27;,\n                                 Pipeline(steps=[(&#x27;imputer&#x27;,\n                                                  SimpleImputer(strategy=&#x27;most_frequent&#x27;)),\n                                                 (&#x27;ohe&#x27;,\n                                                  OneHotEncoder(drop=&#x27;first&#x27;))]),\n                                 &lt;sklearn.compose._column_transformer.make_column_selector object at 0x00000212A307FA30&gt;)])</pre></div></div></div><div class=\"sk-parallel\"><div class=\"sk-parallel-item\"><div class=\"sk-item\"><div class=\"sk-label-container\"><div class=\"sk-label sk-toggleable\"><input class=\"sk-toggleable__control sk-hidden--visually\" id=\"sk-estimator-id-3\" type=\"checkbox\" ><label for=\"sk-estimator-id-3\" class=\"sk-toggleable__label sk-toggleable__label-arrow\">nums</label><div class=\"sk-toggleable__content\"><pre>&lt;sklearn.compose._column_transformer.make_column_selector object at 0x00000212A307FA60&gt;</pre></div></div></div><div class=\"sk-serial\"><div class=\"sk-item\"><div class=\"sk-serial\"><div class=\"sk-item\"><div class=\"sk-estimator sk-toggleable\"><input class=\"sk-toggleable__control sk-hidden--visually\" id=\"sk-estimator-id-4\" type=\"checkbox\" ><label for=\"sk-estimator-id-4\" class=\"sk-toggleable__label sk-toggleable__label-arrow\">SimpleImputer</label><div class=\"sk-toggleable__content\"><pre>SimpleImputer()</pre></div></div></div><div class=\"sk-item\"><div class=\"sk-estimator sk-toggleable\"><input class=\"sk-toggleable__control sk-hidden--visually\" id=\"sk-estimator-id-5\" type=\"checkbox\" ><label for=\"sk-estimator-id-5\" class=\"sk-toggleable__label sk-toggleable__label-arrow\">StandardScaler</label><div class=\"sk-toggleable__content\"><pre>StandardScaler()</pre></div></div></div></div></div></div></div></div><div class=\"sk-parallel-item\"><div class=\"sk-item\"><div class=\"sk-label-container\"><div class=\"sk-label sk-toggleable\"><input class=\"sk-toggleable__control sk-hidden--visually\" id=\"sk-estimator-id-6\" type=\"checkbox\" ><label for=\"sk-estimator-id-6\" class=\"sk-toggleable__label sk-toggleable__label-arrow\">cats</label><div class=\"sk-toggleable__content\"><pre>&lt;sklearn.compose._column_transformer.make_column_selector object at 0x00000212A307FA30&gt;</pre></div></div></div><div class=\"sk-serial\"><div class=\"sk-item\"><div class=\"sk-serial\"><div class=\"sk-item\"><div class=\"sk-estimator sk-toggleable\"><input class=\"sk-toggleable__control sk-hidden--visually\" id=\"sk-estimator-id-7\" type=\"checkbox\" ><label for=\"sk-estimator-id-7\" class=\"sk-toggleable__label sk-toggleable__label-arrow\">SimpleImputer</label><div class=\"sk-toggleable__content\"><pre>SimpleImputer(strategy=&#x27;most_frequent&#x27;)</pre></div></div></div><div class=\"sk-item\"><div class=\"sk-estimator sk-toggleable\"><input class=\"sk-toggleable__control sk-hidden--visually\" id=\"sk-estimator-id-8\" type=\"checkbox\" ><label for=\"sk-estimator-id-8\" class=\"sk-toggleable__label sk-toggleable__label-arrow\">OneHotEncoder</label><div class=\"sk-toggleable__content\"><pre>OneHotEncoder(drop=&#x27;first&#x27;)</pre></div></div></div></div></div></div></div></div><div class=\"sk-parallel-item\"><div class=\"sk-item\"><div class=\"sk-label-container\"><div class=\"sk-label sk-toggleable\"><input class=\"sk-toggleable__control sk-hidden--visually\" id=\"sk-estimator-id-9\" type=\"checkbox\" ><label for=\"sk-estimator-id-9\" class=\"sk-toggleable__label sk-toggleable__label-arrow\">remainder</label><div class=\"sk-toggleable__content\"><pre></pre></div></div></div><div class=\"sk-serial\"><div class=\"sk-item\"><div class=\"sk-estimator sk-toggleable\"><input class=\"sk-toggleable__control sk-hidden--visually\" id=\"sk-estimator-id-10\" type=\"checkbox\" ><label for=\"sk-estimator-id-10\" class=\"sk-toggleable__label sk-toggleable__label-arrow\">passthrough</label><div class=\"sk-toggleable__content\"><pre>passthrough</pre></div></div></div></div></div></div></div></div></div></div></div></div>"
     },
     "execution_count": 26,
     "metadata": {},
     "output_type": "execute_result"
    }
   ],
   "source": [
    "num_ct = Pipeline(steps=[('imputer', SimpleImputer(strategy='mean')),\n",
    "                         ('scaler', StandardScaler())])\n",
    "\n",
    "cat_ct = Pipeline(steps=[('imputer', SimpleImputer(strategy='most_frequent')),\n",
    "                         ('ohe', OneHotEncoder(drop='first'))])\n",
    "\n",
    "transformer = ColumnTransformer(transformers=[('nums', num_ct, selector(dtype_exclude=\"object\")),\n",
    "                                              ('cats', cat_ct, selector(dtype_include=\"object\"))],\n",
    "                                remainder='passthrough')\n",
    "Pipeline(steps=[('', transformer)])"
   ],
   "metadata": {
    "collapsed": false,
    "pycharm": {
     "name": "#%%\n"
    }
   }
  },
  {
   "cell_type": "markdown",
   "source": [
    "Посмотрим на получившиеся признаки. У них теперь нет имен, но по порядку преобразвоаний можно увидеть, что последние 4 признака - это категориальные признаки, подвергнутые OHE."
   ],
   "metadata": {
    "collapsed": false,
    "pycharm": {
     "name": "#%% md\n"
    }
   }
  },
  {
   "cell_type": "code",
   "execution_count": 27,
   "outputs": [
    {
     "data": {
      "text/plain": "Feature  Non-Null Count  Null Count    Dtype  count          mean       std  \\\n0                   712           0  float64  712.0  2.993860e-17  1.000703   \n1                   712           0  float64  712.0 -2.183023e-16  1.000703   \n2                   712           0  float64  712.0  5.738231e-17  1.000703   \n3                   712           0  float64  712.0 -1.247442e-17  1.000703   \n4                   712           0  float64  712.0 -7.235161e-17  1.000703   \n5                   712           0  float64  712.0 -1.459507e-16  1.000703   \n6                   712           0  float64  712.0  2.092697e-01  0.407073   \n7                   712           0  float64  712.0  5.575843e-01  0.497022   \n8                   712           0  float64  712.0  9.410112e-02  0.292175   \n9                   712           0  float64  712.0  7.261236e-01  0.446260   \n\nFeature       min       25%       50%       75%       max  \n0       -0.737881 -0.737881 -0.737881  1.355232  1.355232  \n1       -2.310194 -0.615224  0.000000  0.405842  3.940300  \n2       -0.460103 -0.460103 -0.460103  0.437413  6.720019  \n3       -0.474312 -0.474312 -0.474312 -0.474312  6.045189  \n4       -0.620689 -0.469374 -0.361976 -0.044414  9.197546  \n5       -1.640237 -0.749089 -0.192122  0.364845  4.486401  \n6        0.000000  0.000000  0.000000  0.000000  1.000000  \n7        0.000000  0.000000  1.000000  1.000000  1.000000  \n8        0.000000  0.000000  0.000000  0.000000  1.000000  \n9        0.000000  0.000000  1.000000  1.000000  1.000000  ",
      "text/html": "<div>\n<style scoped>\n    .dataframe tbody tr th:only-of-type {\n        vertical-align: middle;\n    }\n\n    .dataframe tbody tr th {\n        vertical-align: top;\n    }\n\n    .dataframe thead th {\n        text-align: right;\n    }\n</style>\n<table border=\"1\" class=\"dataframe\">\n  <thead>\n    <tr style=\"text-align: right;\">\n      <th>Feature</th>\n      <th>Non-Null Count</th>\n      <th>Null Count</th>\n      <th>Dtype</th>\n      <th>count</th>\n      <th>mean</th>\n      <th>std</th>\n      <th>min</th>\n      <th>25%</th>\n      <th>50%</th>\n      <th>75%</th>\n      <th>max</th>\n    </tr>\n  </thead>\n  <tbody>\n    <tr>\n      <th>0</th>\n      <td>712</td>\n      <td>0</td>\n      <td>float64</td>\n      <td>712.0</td>\n      <td>2.993860e-17</td>\n      <td>1.000703</td>\n      <td>-0.737881</td>\n      <td>-0.737881</td>\n      <td>-0.737881</td>\n      <td>1.355232</td>\n      <td>1.355232</td>\n    </tr>\n    <tr>\n      <th>1</th>\n      <td>712</td>\n      <td>0</td>\n      <td>float64</td>\n      <td>712.0</td>\n      <td>-2.183023e-16</td>\n      <td>1.000703</td>\n      <td>-2.310194</td>\n      <td>-0.615224</td>\n      <td>0.000000</td>\n      <td>0.405842</td>\n      <td>3.940300</td>\n    </tr>\n    <tr>\n      <th>2</th>\n      <td>712</td>\n      <td>0</td>\n      <td>float64</td>\n      <td>712.0</td>\n      <td>5.738231e-17</td>\n      <td>1.000703</td>\n      <td>-0.460103</td>\n      <td>-0.460103</td>\n      <td>-0.460103</td>\n      <td>0.437413</td>\n      <td>6.720019</td>\n    </tr>\n    <tr>\n      <th>3</th>\n      <td>712</td>\n      <td>0</td>\n      <td>float64</td>\n      <td>712.0</td>\n      <td>-1.247442e-17</td>\n      <td>1.000703</td>\n      <td>-0.474312</td>\n      <td>-0.474312</td>\n      <td>-0.474312</td>\n      <td>-0.474312</td>\n      <td>6.045189</td>\n    </tr>\n    <tr>\n      <th>4</th>\n      <td>712</td>\n      <td>0</td>\n      <td>float64</td>\n      <td>712.0</td>\n      <td>-7.235161e-17</td>\n      <td>1.000703</td>\n      <td>-0.620689</td>\n      <td>-0.469374</td>\n      <td>-0.361976</td>\n      <td>-0.044414</td>\n      <td>9.197546</td>\n    </tr>\n    <tr>\n      <th>5</th>\n      <td>712</td>\n      <td>0</td>\n      <td>float64</td>\n      <td>712.0</td>\n      <td>-1.459507e-16</td>\n      <td>1.000703</td>\n      <td>-1.640237</td>\n      <td>-0.749089</td>\n      <td>-0.192122</td>\n      <td>0.364845</td>\n      <td>4.486401</td>\n    </tr>\n    <tr>\n      <th>6</th>\n      <td>712</td>\n      <td>0</td>\n      <td>float64</td>\n      <td>712.0</td>\n      <td>2.092697e-01</td>\n      <td>0.407073</td>\n      <td>0.000000</td>\n      <td>0.000000</td>\n      <td>0.000000</td>\n      <td>0.000000</td>\n      <td>1.000000</td>\n    </tr>\n    <tr>\n      <th>7</th>\n      <td>712</td>\n      <td>0</td>\n      <td>float64</td>\n      <td>712.0</td>\n      <td>5.575843e-01</td>\n      <td>0.497022</td>\n      <td>0.000000</td>\n      <td>0.000000</td>\n      <td>1.000000</td>\n      <td>1.000000</td>\n      <td>1.000000</td>\n    </tr>\n    <tr>\n      <th>8</th>\n      <td>712</td>\n      <td>0</td>\n      <td>float64</td>\n      <td>712.0</td>\n      <td>9.410112e-02</td>\n      <td>0.292175</td>\n      <td>0.000000</td>\n      <td>0.000000</td>\n      <td>0.000000</td>\n      <td>0.000000</td>\n      <td>1.000000</td>\n    </tr>\n    <tr>\n      <th>9</th>\n      <td>712</td>\n      <td>0</td>\n      <td>float64</td>\n      <td>712.0</td>\n      <td>7.261236e-01</td>\n      <td>0.446260</td>\n      <td>0.000000</td>\n      <td>0.000000</td>\n      <td>1.000000</td>\n      <td>1.000000</td>\n      <td>1.000000</td>\n    </tr>\n  </tbody>\n</table>\n</div>"
     },
     "metadata": {},
     "output_type": "display_data"
    }
   ],
   "source": [
    "full_info(pd.DataFrame(transformer.fit_transform(x_train)).astype('float'))"
   ],
   "metadata": {
    "collapsed": false,
    "pycharm": {
     "name": "#%%\n"
    }
   }
  },
  {
   "cell_type": "markdown",
   "source": [
    "Добавим в пайплайн классификатор"
   ],
   "metadata": {
    "collapsed": false,
    "pycharm": {
     "name": "#%% md\n"
    }
   }
  },
  {
   "cell_type": "code",
   "execution_count": 28,
   "outputs": [
    {
     "name": "stdout",
     "output_type": "stream",
     "text": [
      "Fitting 3 folds for each of 24 candidates, totalling 72 fits\n"
     ]
    }
   ],
   "source": [
    "lr_pipe = Pipeline(steps=[('transformer', transformer), ('clf', LogisticRegression(random_state=123))])\n",
    "\n",
    "params = [{'transformer__nums__imputer': [SimpleImputer()],\n",
    "           'transformer__nums__imputer__strategy': ['mean', 'median'],\n",
    "           'clf__penalty': ['none', 'l2'],\n",
    "           'clf__C': [0.1, 1, 10, 100]\n",
    "          },\n",
    "          { 'transformer__nums__imputer': [IterativeImputer(random_state=123)],\n",
    "           'clf__penalty': ['none', 'l2'],\n",
    "           'clf__C': [0.1, 1, 10, 100]\n",
    "          }]\n",
    "\n",
    "lr_gs    = GridSearchCV(estimator=lr_pipe,\n",
    "                        param_grid=params,\n",
    "                        scoring='roc_auc',\n",
    "                        refit=True,\n",
    "                        cv=3,\n",
    "                        n_jobs=-1,\n",
    "                        verbose=10)\n",
    "lr_gs.fit(x_train, y_train)\n",
    "lr_best = lr_gs.best_estimator_;"
   ],
   "metadata": {
    "collapsed": false,
    "pycharm": {
     "name": "#%%\n"
    }
   }
  },
  {
   "cell_type": "code",
   "execution_count": 29,
   "outputs": [
    {
     "data": {
      "text/plain": "    mean_fit_time  std_fit_time  mean_score_time  std_score_time param_clf__C  \\\n23       0.058998      0.002944         0.010998        0.002160          100   \n20       0.068333      0.001885         0.016000        0.002826           10   \n18       0.086998      0.016392         0.014667        0.000942            1   \n16       0.069333      0.000472         0.013666        0.000470          0.1   \n22       0.076332      0.007409         0.010334        0.001700          100   \n21       0.065000      0.004966         0.013334        0.000475           10   \n12       0.045335      0.005906         0.020000        0.006377          100   \n8        0.043332      0.011784         0.018002        0.003742           10   \n0        0.039330      0.002627         0.015338        0.000945          0.1   \n4        0.033332      0.001697         0.012999        0.000002            1   \n10       0.034334      0.003301         0.015332        0.001700           10   \n14       0.036002      0.003560         0.014332        0.001249          100   \n6        0.038332      0.009673         0.014002        0.000001            1   \n19       0.069665      0.008013         0.014002        0.000004            1   \n11       0.033334      0.001248         0.015334        0.003300           10   \n15       0.031999      0.000817         0.013668        0.000473          100   \n7        0.034003      0.000815         0.013666        0.000467            1   \n9        0.035671      0.003861         0.020329        0.007543           10   \n5        0.031666      0.000470         0.013336        0.000473            1   \n13       0.035334      0.003398         0.016000        0.002828          100   \n1        0.050333      0.004922         0.014002        0.000818          0.1   \n2        0.037998      0.002449         0.015667        0.002358          0.1   \n3        0.042335      0.012553         0.013668        0.000473          0.1   \n17       0.074999      0.012755         0.015334        0.001247          0.1   \n\n   param_clf__penalty    param_transformer__nums__imputer  \\\n23                 l2  IterativeImputer(random_state=123)   \n20               none  IterativeImputer(random_state=123)   \n18               none  IterativeImputer(random_state=123)   \n16               none  IterativeImputer(random_state=123)   \n22               none  IterativeImputer(random_state=123)   \n21                 l2  IterativeImputer(random_state=123)   \n12               none                     SimpleImputer()   \n8                none                     SimpleImputer()   \n0                none                     SimpleImputer()   \n4                none                     SimpleImputer()   \n10                 l2                     SimpleImputer()   \n14                 l2                     SimpleImputer()   \n6                  l2                     SimpleImputer()   \n19                 l2  IterativeImputer(random_state=123)   \n11                 l2                     SimpleImputer()   \n15                 l2                     SimpleImputer()   \n7                  l2                     SimpleImputer()   \n9                none                     SimpleImputer()   \n5                none                     SimpleImputer()   \n13               none                     SimpleImputer()   \n1                none                     SimpleImputer()   \n2                  l2                     SimpleImputer()   \n3                  l2                     SimpleImputer()   \n17                 l2  IterativeImputer(random_state=123)   \n\n   param_transformer__nums__imputer__strategy  \\\n23                                        NaN   \n20                                        NaN   \n18                                        NaN   \n16                                        NaN   \n22                                        NaN   \n21                                        NaN   \n12                                       mean   \n8                                        mean   \n0                                        mean   \n4                                        mean   \n10                                       mean   \n14                                       mean   \n6                                        mean   \n19                                        NaN   \n11                                     median   \n15                                     median   \n7                                      median   \n9                                      median   \n5                                      median   \n13                                     median   \n1                                      median   \n2                                        mean   \n3                                      median   \n17                                        NaN   \n\n                                               params  split0_test_score  \\\n23  {'clf__C': 100, 'clf__penalty': 'l2', 'transfo...           0.868854   \n20  {'clf__C': 10, 'clf__penalty': 'none', 'transf...           0.868854   \n18  {'clf__C': 1, 'clf__penalty': 'none', 'transfo...           0.868854   \n16  {'clf__C': 0.1, 'clf__penalty': 'none', 'trans...           0.868854   \n22  {'clf__C': 100, 'clf__penalty': 'none', 'trans...           0.868854   \n21  {'clf__C': 10, 'clf__penalty': 'l2', 'transfor...           0.868854   \n12  {'clf__C': 100, 'clf__penalty': 'none', 'trans...           0.868928   \n8   {'clf__C': 10, 'clf__penalty': 'none', 'transf...           0.868928   \n0   {'clf__C': 0.1, 'clf__penalty': 'none', 'trans...           0.868928   \n4   {'clf__C': 1, 'clf__penalty': 'none', 'transfo...           0.868928   \n10  {'clf__C': 10, 'clf__penalty': 'l2', 'transfor...           0.868706   \n14  {'clf__C': 100, 'clf__penalty': 'l2', 'transfo...           0.868780   \n6   {'clf__C': 1, 'clf__penalty': 'l2', 'transform...           0.870263   \n19  {'clf__C': 1, 'clf__penalty': 'l2', 'transform...           0.869744   \n11  {'clf__C': 10, 'clf__penalty': 'l2', 'transfor...           0.867964   \n15  {'clf__C': 100, 'clf__penalty': 'l2', 'transfo...           0.867816   \n7   {'clf__C': 1, 'clf__penalty': 'l2', 'transform...           0.869744   \n9   {'clf__C': 10, 'clf__penalty': 'none', 'transf...           0.867816   \n5   {'clf__C': 1, 'clf__penalty': 'none', 'transfo...           0.867816   \n13  {'clf__C': 100, 'clf__penalty': 'none', 'trans...           0.867816   \n1   {'clf__C': 0.1, 'clf__penalty': 'none', 'trans...           0.867816   \n2   {'clf__C': 0.1, 'clf__penalty': 'l2', 'transfo...           0.870041   \n3   {'clf__C': 0.1, 'clf__penalty': 'l2', 'transfo...           0.869744   \n17  {'clf__C': 0.1, 'clf__penalty': 'l2', 'transfo...           0.868928   \n\n    split1_test_score  split2_test_score  mean_test_score  std_test_score  \\\n23           0.810270           0.886582         0.855235        0.032609   \n20           0.810195           0.886582         0.855210        0.032643   \n18           0.810195           0.886582         0.855210        0.032643   \n16           0.810195           0.886582         0.855210        0.032643   \n22           0.810195           0.886582         0.855210        0.032643   \n21           0.809445           0.886207         0.854835        0.032868   \n12           0.808396           0.886507         0.854610        0.033457   \n8            0.808396           0.886507         0.854610        0.033457   \n0            0.808396           0.886507         0.854610        0.033457   \n4            0.808396           0.886507         0.854610        0.033457   \n10           0.808621           0.886357         0.854561        0.033274   \n14           0.808396           0.886507         0.854561        0.033436   \n6            0.806972           0.885532         0.854256        0.034011   \n19           0.807871           0.884633         0.854083        0.033237   \n11           0.808246           0.885607         0.853939        0.033103   \n15           0.807721           0.885907         0.853815        0.033419   \n7            0.806597           0.885082         0.853808        0.033965   \n9            0.807646           0.885832         0.853765        0.033430   \n5            0.807646           0.885832         0.853765        0.033430   \n13           0.807646           0.885832         0.853765        0.033430   \n1            0.807646           0.885832         0.853765        0.033430   \n2            0.802249           0.881184         0.851158        0.034882   \n3            0.801499           0.880285         0.850509        0.034922   \n17           0.802024           0.880510         0.850487        0.034593   \n\n    rank_test_score  \n23                1  \n20                2  \n18                2  \n16                2  \n22                2  \n21                6  \n12                7  \n8                 7  \n0                 7  \n4                 7  \n10               11  \n14               12  \n6                13  \n19               14  \n11               15  \n15               16  \n7                17  \n9                18  \n5                18  \n13               18  \n1                18  \n2                22  \n3                23  \n17               24  ",
      "text/html": "<div>\n<style scoped>\n    .dataframe tbody tr th:only-of-type {\n        vertical-align: middle;\n    }\n\n    .dataframe tbody tr th {\n        vertical-align: top;\n    }\n\n    .dataframe thead th {\n        text-align: right;\n    }\n</style>\n<table border=\"1\" class=\"dataframe\">\n  <thead>\n    <tr style=\"text-align: right;\">\n      <th></th>\n      <th>mean_fit_time</th>\n      <th>std_fit_time</th>\n      <th>mean_score_time</th>\n      <th>std_score_time</th>\n      <th>param_clf__C</th>\n      <th>param_clf__penalty</th>\n      <th>param_transformer__nums__imputer</th>\n      <th>param_transformer__nums__imputer__strategy</th>\n      <th>params</th>\n      <th>split0_test_score</th>\n      <th>split1_test_score</th>\n      <th>split2_test_score</th>\n      <th>mean_test_score</th>\n      <th>std_test_score</th>\n      <th>rank_test_score</th>\n    </tr>\n  </thead>\n  <tbody>\n    <tr>\n      <th>23</th>\n      <td>0.058998</td>\n      <td>0.002944</td>\n      <td>0.010998</td>\n      <td>0.002160</td>\n      <td>100</td>\n      <td>l2</td>\n      <td>IterativeImputer(random_state=123)</td>\n      <td>NaN</td>\n      <td>{'clf__C': 100, 'clf__penalty': 'l2', 'transfo...</td>\n      <td>0.868854</td>\n      <td>0.810270</td>\n      <td>0.886582</td>\n      <td>0.855235</td>\n      <td>0.032609</td>\n      <td>1</td>\n    </tr>\n    <tr>\n      <th>20</th>\n      <td>0.068333</td>\n      <td>0.001885</td>\n      <td>0.016000</td>\n      <td>0.002826</td>\n      <td>10</td>\n      <td>none</td>\n      <td>IterativeImputer(random_state=123)</td>\n      <td>NaN</td>\n      <td>{'clf__C': 10, 'clf__penalty': 'none', 'transf...</td>\n      <td>0.868854</td>\n      <td>0.810195</td>\n      <td>0.886582</td>\n      <td>0.855210</td>\n      <td>0.032643</td>\n      <td>2</td>\n    </tr>\n    <tr>\n      <th>18</th>\n      <td>0.086998</td>\n      <td>0.016392</td>\n      <td>0.014667</td>\n      <td>0.000942</td>\n      <td>1</td>\n      <td>none</td>\n      <td>IterativeImputer(random_state=123)</td>\n      <td>NaN</td>\n      <td>{'clf__C': 1, 'clf__penalty': 'none', 'transfo...</td>\n      <td>0.868854</td>\n      <td>0.810195</td>\n      <td>0.886582</td>\n      <td>0.855210</td>\n      <td>0.032643</td>\n      <td>2</td>\n    </tr>\n    <tr>\n      <th>16</th>\n      <td>0.069333</td>\n      <td>0.000472</td>\n      <td>0.013666</td>\n      <td>0.000470</td>\n      <td>0.1</td>\n      <td>none</td>\n      <td>IterativeImputer(random_state=123)</td>\n      <td>NaN</td>\n      <td>{'clf__C': 0.1, 'clf__penalty': 'none', 'trans...</td>\n      <td>0.868854</td>\n      <td>0.810195</td>\n      <td>0.886582</td>\n      <td>0.855210</td>\n      <td>0.032643</td>\n      <td>2</td>\n    </tr>\n    <tr>\n      <th>22</th>\n      <td>0.076332</td>\n      <td>0.007409</td>\n      <td>0.010334</td>\n      <td>0.001700</td>\n      <td>100</td>\n      <td>none</td>\n      <td>IterativeImputer(random_state=123)</td>\n      <td>NaN</td>\n      <td>{'clf__C': 100, 'clf__penalty': 'none', 'trans...</td>\n      <td>0.868854</td>\n      <td>0.810195</td>\n      <td>0.886582</td>\n      <td>0.855210</td>\n      <td>0.032643</td>\n      <td>2</td>\n    </tr>\n    <tr>\n      <th>21</th>\n      <td>0.065000</td>\n      <td>0.004966</td>\n      <td>0.013334</td>\n      <td>0.000475</td>\n      <td>10</td>\n      <td>l2</td>\n      <td>IterativeImputer(random_state=123)</td>\n      <td>NaN</td>\n      <td>{'clf__C': 10, 'clf__penalty': 'l2', 'transfor...</td>\n      <td>0.868854</td>\n      <td>0.809445</td>\n      <td>0.886207</td>\n      <td>0.854835</td>\n      <td>0.032868</td>\n      <td>6</td>\n    </tr>\n    <tr>\n      <th>12</th>\n      <td>0.045335</td>\n      <td>0.005906</td>\n      <td>0.020000</td>\n      <td>0.006377</td>\n      <td>100</td>\n      <td>none</td>\n      <td>SimpleImputer()</td>\n      <td>mean</td>\n      <td>{'clf__C': 100, 'clf__penalty': 'none', 'trans...</td>\n      <td>0.868928</td>\n      <td>0.808396</td>\n      <td>0.886507</td>\n      <td>0.854610</td>\n      <td>0.033457</td>\n      <td>7</td>\n    </tr>\n    <tr>\n      <th>8</th>\n      <td>0.043332</td>\n      <td>0.011784</td>\n      <td>0.018002</td>\n      <td>0.003742</td>\n      <td>10</td>\n      <td>none</td>\n      <td>SimpleImputer()</td>\n      <td>mean</td>\n      <td>{'clf__C': 10, 'clf__penalty': 'none', 'transf...</td>\n      <td>0.868928</td>\n      <td>0.808396</td>\n      <td>0.886507</td>\n      <td>0.854610</td>\n      <td>0.033457</td>\n      <td>7</td>\n    </tr>\n    <tr>\n      <th>0</th>\n      <td>0.039330</td>\n      <td>0.002627</td>\n      <td>0.015338</td>\n      <td>0.000945</td>\n      <td>0.1</td>\n      <td>none</td>\n      <td>SimpleImputer()</td>\n      <td>mean</td>\n      <td>{'clf__C': 0.1, 'clf__penalty': 'none', 'trans...</td>\n      <td>0.868928</td>\n      <td>0.808396</td>\n      <td>0.886507</td>\n      <td>0.854610</td>\n      <td>0.033457</td>\n      <td>7</td>\n    </tr>\n    <tr>\n      <th>4</th>\n      <td>0.033332</td>\n      <td>0.001697</td>\n      <td>0.012999</td>\n      <td>0.000002</td>\n      <td>1</td>\n      <td>none</td>\n      <td>SimpleImputer()</td>\n      <td>mean</td>\n      <td>{'clf__C': 1, 'clf__penalty': 'none', 'transfo...</td>\n      <td>0.868928</td>\n      <td>0.808396</td>\n      <td>0.886507</td>\n      <td>0.854610</td>\n      <td>0.033457</td>\n      <td>7</td>\n    </tr>\n    <tr>\n      <th>10</th>\n      <td>0.034334</td>\n      <td>0.003301</td>\n      <td>0.015332</td>\n      <td>0.001700</td>\n      <td>10</td>\n      <td>l2</td>\n      <td>SimpleImputer()</td>\n      <td>mean</td>\n      <td>{'clf__C': 10, 'clf__penalty': 'l2', 'transfor...</td>\n      <td>0.868706</td>\n      <td>0.808621</td>\n      <td>0.886357</td>\n      <td>0.854561</td>\n      <td>0.033274</td>\n      <td>11</td>\n    </tr>\n    <tr>\n      <th>14</th>\n      <td>0.036002</td>\n      <td>0.003560</td>\n      <td>0.014332</td>\n      <td>0.001249</td>\n      <td>100</td>\n      <td>l2</td>\n      <td>SimpleImputer()</td>\n      <td>mean</td>\n      <td>{'clf__C': 100, 'clf__penalty': 'l2', 'transfo...</td>\n      <td>0.868780</td>\n      <td>0.808396</td>\n      <td>0.886507</td>\n      <td>0.854561</td>\n      <td>0.033436</td>\n      <td>12</td>\n    </tr>\n    <tr>\n      <th>6</th>\n      <td>0.038332</td>\n      <td>0.009673</td>\n      <td>0.014002</td>\n      <td>0.000001</td>\n      <td>1</td>\n      <td>l2</td>\n      <td>SimpleImputer()</td>\n      <td>mean</td>\n      <td>{'clf__C': 1, 'clf__penalty': 'l2', 'transform...</td>\n      <td>0.870263</td>\n      <td>0.806972</td>\n      <td>0.885532</td>\n      <td>0.854256</td>\n      <td>0.034011</td>\n      <td>13</td>\n    </tr>\n    <tr>\n      <th>19</th>\n      <td>0.069665</td>\n      <td>0.008013</td>\n      <td>0.014002</td>\n      <td>0.000004</td>\n      <td>1</td>\n      <td>l2</td>\n      <td>IterativeImputer(random_state=123)</td>\n      <td>NaN</td>\n      <td>{'clf__C': 1, 'clf__penalty': 'l2', 'transform...</td>\n      <td>0.869744</td>\n      <td>0.807871</td>\n      <td>0.884633</td>\n      <td>0.854083</td>\n      <td>0.033237</td>\n      <td>14</td>\n    </tr>\n    <tr>\n      <th>11</th>\n      <td>0.033334</td>\n      <td>0.001248</td>\n      <td>0.015334</td>\n      <td>0.003300</td>\n      <td>10</td>\n      <td>l2</td>\n      <td>SimpleImputer()</td>\n      <td>median</td>\n      <td>{'clf__C': 10, 'clf__penalty': 'l2', 'transfor...</td>\n      <td>0.867964</td>\n      <td>0.808246</td>\n      <td>0.885607</td>\n      <td>0.853939</td>\n      <td>0.033103</td>\n      <td>15</td>\n    </tr>\n    <tr>\n      <th>15</th>\n      <td>0.031999</td>\n      <td>0.000817</td>\n      <td>0.013668</td>\n      <td>0.000473</td>\n      <td>100</td>\n      <td>l2</td>\n      <td>SimpleImputer()</td>\n      <td>median</td>\n      <td>{'clf__C': 100, 'clf__penalty': 'l2', 'transfo...</td>\n      <td>0.867816</td>\n      <td>0.807721</td>\n      <td>0.885907</td>\n      <td>0.853815</td>\n      <td>0.033419</td>\n      <td>16</td>\n    </tr>\n    <tr>\n      <th>7</th>\n      <td>0.034003</td>\n      <td>0.000815</td>\n      <td>0.013666</td>\n      <td>0.000467</td>\n      <td>1</td>\n      <td>l2</td>\n      <td>SimpleImputer()</td>\n      <td>median</td>\n      <td>{'clf__C': 1, 'clf__penalty': 'l2', 'transform...</td>\n      <td>0.869744</td>\n      <td>0.806597</td>\n      <td>0.885082</td>\n      <td>0.853808</td>\n      <td>0.033965</td>\n      <td>17</td>\n    </tr>\n    <tr>\n      <th>9</th>\n      <td>0.035671</td>\n      <td>0.003861</td>\n      <td>0.020329</td>\n      <td>0.007543</td>\n      <td>10</td>\n      <td>none</td>\n      <td>SimpleImputer()</td>\n      <td>median</td>\n      <td>{'clf__C': 10, 'clf__penalty': 'none', 'transf...</td>\n      <td>0.867816</td>\n      <td>0.807646</td>\n      <td>0.885832</td>\n      <td>0.853765</td>\n      <td>0.033430</td>\n      <td>18</td>\n    </tr>\n    <tr>\n      <th>5</th>\n      <td>0.031666</td>\n      <td>0.000470</td>\n      <td>0.013336</td>\n      <td>0.000473</td>\n      <td>1</td>\n      <td>none</td>\n      <td>SimpleImputer()</td>\n      <td>median</td>\n      <td>{'clf__C': 1, 'clf__penalty': 'none', 'transfo...</td>\n      <td>0.867816</td>\n      <td>0.807646</td>\n      <td>0.885832</td>\n      <td>0.853765</td>\n      <td>0.033430</td>\n      <td>18</td>\n    </tr>\n    <tr>\n      <th>13</th>\n      <td>0.035334</td>\n      <td>0.003398</td>\n      <td>0.016000</td>\n      <td>0.002828</td>\n      <td>100</td>\n      <td>none</td>\n      <td>SimpleImputer()</td>\n      <td>median</td>\n      <td>{'clf__C': 100, 'clf__penalty': 'none', 'trans...</td>\n      <td>0.867816</td>\n      <td>0.807646</td>\n      <td>0.885832</td>\n      <td>0.853765</td>\n      <td>0.033430</td>\n      <td>18</td>\n    </tr>\n    <tr>\n      <th>1</th>\n      <td>0.050333</td>\n      <td>0.004922</td>\n      <td>0.014002</td>\n      <td>0.000818</td>\n      <td>0.1</td>\n      <td>none</td>\n      <td>SimpleImputer()</td>\n      <td>median</td>\n      <td>{'clf__C': 0.1, 'clf__penalty': 'none', 'trans...</td>\n      <td>0.867816</td>\n      <td>0.807646</td>\n      <td>0.885832</td>\n      <td>0.853765</td>\n      <td>0.033430</td>\n      <td>18</td>\n    </tr>\n    <tr>\n      <th>2</th>\n      <td>0.037998</td>\n      <td>0.002449</td>\n      <td>0.015667</td>\n      <td>0.002358</td>\n      <td>0.1</td>\n      <td>l2</td>\n      <td>SimpleImputer()</td>\n      <td>mean</td>\n      <td>{'clf__C': 0.1, 'clf__penalty': 'l2', 'transfo...</td>\n      <td>0.870041</td>\n      <td>0.802249</td>\n      <td>0.881184</td>\n      <td>0.851158</td>\n      <td>0.034882</td>\n      <td>22</td>\n    </tr>\n    <tr>\n      <th>3</th>\n      <td>0.042335</td>\n      <td>0.012553</td>\n      <td>0.013668</td>\n      <td>0.000473</td>\n      <td>0.1</td>\n      <td>l2</td>\n      <td>SimpleImputer()</td>\n      <td>median</td>\n      <td>{'clf__C': 0.1, 'clf__penalty': 'l2', 'transfo...</td>\n      <td>0.869744</td>\n      <td>0.801499</td>\n      <td>0.880285</td>\n      <td>0.850509</td>\n      <td>0.034922</td>\n      <td>23</td>\n    </tr>\n    <tr>\n      <th>17</th>\n      <td>0.074999</td>\n      <td>0.012755</td>\n      <td>0.015334</td>\n      <td>0.001247</td>\n      <td>0.1</td>\n      <td>l2</td>\n      <td>IterativeImputer(random_state=123)</td>\n      <td>NaN</td>\n      <td>{'clf__C': 0.1, 'clf__penalty': 'l2', 'transfo...</td>\n      <td>0.868928</td>\n      <td>0.802024</td>\n      <td>0.880510</td>\n      <td>0.850487</td>\n      <td>0.034593</td>\n      <td>24</td>\n    </tr>\n  </tbody>\n</table>\n</div>"
     },
     "metadata": {},
     "output_type": "display_data"
    },
    {
     "name": "stdout",
     "output_type": "stream",
     "text": [
      "параметры: {'clf__C': 100, 'clf__penalty': 'l2', 'transformer__nums__imputer': IterativeImputer(random_state=123)} \n",
      "roc-auc: 0.8552\n"
     ]
    }
   ],
   "source": [
    "display(pd.DataFrame(lr_gs.cv_results_).sort_values('rank_test_score'))\n",
    "print(f'параметры: {pd.DataFrame(lr_gs.cv_results_).sort_values(\"rank_test_score\").head(1)[\"params\"].values[0]}',\n",
    "      f'\\nroc-auc: {pd.DataFrame(lr_gs.cv_results_).sort_values(\"rank_test_score\").head(1)[\"mean_test_score\"].values[0]:.4f}')"
   ],
   "metadata": {
    "collapsed": false,
    "pycharm": {
     "name": "#%%\n"
    }
   }
  },
  {
   "cell_type": "code",
   "execution_count": 30,
   "outputs": [],
   "source": [
    "lr = lr_gs.best_estimator_"
   ],
   "metadata": {
    "collapsed": false,
    "pycharm": {
     "name": "#%%\n"
    }
   }
  },
  {
   "cell_type": "markdown",
   "source": [
    "Классификатор обучен и может уже что-то предсказывать. Посмотрим на важность признаков с точки зрения коэффициентов логистической регрессии и permutation_importance"
   ],
   "metadata": {
    "collapsed": false,
    "pycharm": {
     "name": "#%% md\n"
    }
   }
  },
  {
   "cell_type": "code",
   "execution_count": 31,
   "outputs": [
    {
     "data": {
      "text/plain": "<Figure size 1600x600 with 2 Axes>",
      "image/png": "[encoded data removed]"
     },
     "metadata": {},
     "output_type": "display_data"
    }
   ],
   "source": [
    "fig, (ax1, ax2) = plt.subplots(1, 2, figsize=(16, 6))\n",
    "\n",
    "pd.Series(lr.named_steps['clf'].coef_.reshape(-1), index=lr.named_steps['transformer'].get_feature_names_out()).sort_values().plot.barh(ax=ax1);\n",
    "ax1.set_title('LR coefs');\n",
    "\n",
    "r = permutation_importance(lr, x_train, y_train, scoring='roc_auc', n_repeats=30, random_state=123)\n",
    "pd.Series(r.importances_mean, index=x_train.columns).sort_values().plot.barh(xerr=r.importances_std, ax=ax2);\n",
    "ax2.set_title('Permutation importances');"
   ],
   "metadata": {
    "collapsed": false,
    "pycharm": {
     "name": "#%%\n"
    }
   }
  },
  {
   "cell_type": "markdown",
   "source": [
    "### Добавление полиномиальных признаков"
   ],
   "metadata": {
    "collapsed": false,
    "pycharm": {
     "name": "#%% md\n"
    }
   }
  },
  {
   "cell_type": "code",
   "execution_count": 32,
   "outputs": [],
   "source": [
    "num_ct_poly = Pipeline(steps=[('imputer', IterativeImputer(random_state=123)),\n",
    "                              ('scaler', StandardScaler()),\n",
    "                              ('poly', PolynomialFeatures())])\n",
    "\n",
    "cat_ct = Pipeline(steps=[('imputer', SimpleImputer(strategy='most_frequent')),\n",
    "                         ('ohe', OneHotEncoder(drop='first'))])\n",
    "\n",
    "transformer_poly = ColumnTransformer(transformers=[('nums', num_ct_poly, selector(dtype_exclude=\"object\")),\n",
    "                                                   ('cats', cat_ct, selector(dtype_include=\"object\"))],\n",
    "                                                    remainder='passthrough')\n",
    "\n",
    "clf_lr = LogisticRegression()\n",
    "# lr_pipe = Pipeline(steps=[('transformer', transformer_poly), ('clf', clf_lr)])\n",
    "#\n",
    "# lr_pipe.fit(x, y)"
   ],
   "metadata": {
    "collapsed": false,
    "pycharm": {
     "name": "#%%\n"
    }
   }
  },
  {
   "cell_type": "code",
   "execution_count": 33,
   "outputs": [],
   "source": [
    "rfe = RFE(clf_lr)"
   ],
   "metadata": {
    "collapsed": false,
    "pycharm": {
     "name": "#%%\n"
    }
   }
  },
  {
   "cell_type": "code",
   "execution_count": 34,
   "outputs": [
    {
     "data": {
      "text/plain": "           x1        x2        x3        x4        x5        x6        x7  \\\n335  1.355232  0.407639 -0.460103 -0.474312 -0.218246 -0.080729  1.836653   \n\n           x8        x9       x10  ...       x22       x23       x24  \\\n335  0.552446 -0.623546 -0.642803  ...  0.224972  0.103517  0.038291   \n\n          x25       x26       x27  x28  x29  x30  x31  \n335  0.047631  0.017619  0.006517  1.0  0.0  0.0  1.0  \n\n[1 rows x 31 columns]",
      "text/html": "<div>\n<style scoped>\n    .dataframe tbody tr th:only-of-type {\n        vertical-align: middle;\n    }\n\n    .dataframe tbody tr th {\n        vertical-align: top;\n    }\n\n    .dataframe thead th {\n        text-align: right;\n    }\n</style>\n<table border=\"1\" class=\"dataframe\">\n  <thead>\n    <tr style=\"text-align: right;\">\n      <th></th>\n      <th>x1</th>\n      <th>x2</th>\n      <th>x3</th>\n      <th>x4</th>\n      <th>x5</th>\n      <th>x6</th>\n      <th>x7</th>\n      <th>x8</th>\n      <th>x9</th>\n      <th>x10</th>\n      <th>...</th>\n      <th>x22</th>\n      <th>x23</th>\n      <th>x24</th>\n      <th>x25</th>\n      <th>x26</th>\n      <th>x27</th>\n      <th>x28</th>\n      <th>x29</th>\n      <th>x30</th>\n      <th>x31</th>\n    </tr>\n  </thead>\n  <tbody>\n    <tr>\n      <th>335</th>\n      <td>1.355232</td>\n      <td>0.407639</td>\n      <td>-0.460103</td>\n      <td>-0.474312</td>\n      <td>-0.218246</td>\n      <td>-0.080729</td>\n      <td>1.836653</td>\n      <td>0.552446</td>\n      <td>-0.623546</td>\n      <td>-0.642803</td>\n      <td>...</td>\n      <td>0.224972</td>\n      <td>0.103517</td>\n      <td>0.038291</td>\n      <td>0.047631</td>\n      <td>0.017619</td>\n      <td>0.006517</td>\n      <td>1.0</td>\n      <td>0.0</td>\n      <td>0.0</td>\n      <td>1.0</td>\n    </tr>\n  </tbody>\n</table>\n<p>1 rows × 31 columns</p>\n</div>"
     },
     "execution_count": 34,
     "metadata": {},
     "output_type": "execute_result"
    }
   ],
   "source": [
    "# создание словаря с признаками после всех преобразований можно было использовать rfe.support_\n",
    "poly_features = pd.DataFrame({f'x{i}': transformer_poly.fit_transform(x_train)[: , i] for i in range(1, transformer_poly.fit_transform(x_train).shape[1])})\n",
    "poly_features.sample()"
   ],
   "metadata": {
    "collapsed": false,
    "pycharm": {
     "name": "#%%\n"
    }
   }
  },
  {
   "cell_type": "code",
   "execution_count": 35,
   "outputs": [
    {
     "name": "stderr",
     "output_type": "stream",
     "text": [
      "C:\\work_and_fun\\partisans\\PP\\mistakes-and-regrets\\lib\\site-packages\\sklearn\\linear_model\\_logistic.py:458: ConvergenceWarning: lbfgs failed to converge (status=1):\n",
      "STOP: TOTAL NO. of ITERATIONS REACHED LIMIT.\n",
      "\n",
      "Increase the number of iterations (max_iter) or scale the data as shown in:\n",
      "    https://scikit-learn.org/stable/modules/preprocessing.html\n",
      "Please also refer to the documentation for alternative solver options:\n",
      "    https://scikit-learn.org/stable/modules/linear_model.html#logistic-regression\n",
      "  n_iter_i = _check_optimize_result(\n"
     ]
    },
    {
     "data": {
      "text/plain": "RFE(estimator=LogisticRegression())",
      "text/html": "<style>#sk-container-id-2 {color: black;background-color: white;}#sk-container-id-2 pre{padding: 0;}#sk-container-id-2 div.sk-toggleable {background-color: white;}#sk-container-id-2 label.sk-toggleable__label {cursor: pointer;display: block;width: 100%;margin-bottom: 0;padding: 0.3em;box-sizing: border-box;text-align: center;}#sk-container-id-2 label.sk-toggleable__label-arrow:before {content: \"▸\";float: left;margin-right: 0.25em;color: #696969;}#sk-container-id-2 label.sk-toggleable__label-arrow:hover:before {color: black;}#sk-container-id-2 div.sk-estimator:hover label.sk-toggleable__label-arrow:before {color: black;}#sk-container-id-2 div.sk-toggleable__content {max-height: 0;max-width: 0;overflow: hidden;text-align: left;background-color: #f0f8ff;}#sk-container-id-2 div.sk-toggleable__content pre {margin: 0.2em;color: black;border-radius: 0.25em;background-color: #f0f8ff;}#sk-container-id-2 input.sk-toggleable__control:checked~div.sk-toggleable__content {max-height: 200px;max-width: 100%;overflow: auto;}#sk-container-id-2 input.sk-toggleable__control:checked~label.sk-toggleable__label-arrow:before {content: \"▾\";}#sk-container-id-2 div.sk-estimator input.sk-toggleable__control:checked~label.sk-toggleable__label {background-color: #d4ebff;}#sk-container-id-2 div.sk-label input.sk-toggleable__control:checked~label.sk-toggleable__label {background-color: #d4ebff;}#sk-container-id-2 input.sk-hidden--visually {border: 0;clip: rect(1px 1px 1px 1px);clip: rect(1px, 1px, 1px, 1px);height: 1px;margin: -1px;overflow: hidden;padding: 0;position: absolute;width: 1px;}#sk-container-id-2 div.sk-estimator {font-family: monospace;background-color: #f0f8ff;border: 1px dotted black;border-radius: 0.25em;box-sizing: border-box;margin-bottom: 0.5em;}#sk-container-id-2 div.sk-estimator:hover {background-color: #d4ebff;}#sk-container-id-2 div.sk-parallel-item::after {content: \"\";width: 100%;border-bottom: 1px solid gray;flex-grow: 1;}#sk-container-id-2 div.sk-label:hover label.sk-toggleable__label {background-color: #d4ebff;}#sk-container-id-2 div.sk-serial::before {content: \"\";position: absolute;border-left: 1px solid gray;box-sizing: border-box;top: 0;bottom: 0;left: 50%;z-index: 0;}#sk-container-id-2 div.sk-serial {display: flex;flex-direction: column;align-items: center;background-color: white;padding-right: 0.2em;padding-left: 0.2em;position: relative;}#sk-container-id-2 div.sk-item {position: relative;z-index: 1;}#sk-container-id-2 div.sk-parallel {display: flex;align-items: stretch;justify-content: center;background-color: white;position: relative;}#sk-container-id-2 div.sk-item::before, #sk-container-id-2 div.sk-parallel-item::before {content: \"\";position: absolute;border-left: 1px solid gray;box-sizing: border-box;top: 0;bottom: 0;left: 50%;z-index: -1;}#sk-container-id-2 div.sk-parallel-item {display: flex;flex-direction: column;z-index: 1;position: relative;background-color: white;}#sk-container-id-2 div.sk-parallel-item:first-child::after {align-self: flex-end;width: 50%;}#sk-container-id-2 div.sk-parallel-item:last-child::after {align-self: flex-start;width: 50%;}#sk-container-id-2 div.sk-parallel-item:only-child::after {width: 0;}#sk-container-id-2 div.sk-dashed-wrapped {border: 1px dashed gray;margin: 0 0.4em 0.5em 0.4em;box-sizing: border-box;padding-bottom: 0.4em;background-color: white;}#sk-container-id-2 div.sk-label label {font-family: monospace;font-weight: bold;display: inline-block;line-height: 1.2em;}#sk-container-id-2 div.sk-label-container {text-align: center;}#sk-container-id-2 div.sk-container {/* jupyter's `normalize.less` sets `[hidden] { display: none; }` but bootstrap.min.css set `[hidden] { display: none !important; }` so we also need the `!important` here to be able to override the default hidden behavior on the sphinx rendered scikit-learn.org. See: https://github.com/scikit-learn/scikit-learn/issues/21755 */display: inline-block !important;position: relative;}#sk-container-id-2 div.sk-text-repr-fallback {display: none;}</style><div id=\"sk-container-id-2\" class=\"sk-top-container\"><div class=\"sk-text-repr-fallback\"><pre>RFE(estimator=LogisticRegression())</pre><b>In a Jupyter environment, please rerun this cell to show the HTML representation or trust the notebook. <br />On GitHub, the HTML representation is unable to render, please try loading this page with nbviewer.org.</b></div><div class=\"sk-container\" hidden><div class=\"sk-item sk-dashed-wrapped\"><div class=\"sk-label-container\"><div class=\"sk-label sk-toggleable\"><input class=\"sk-toggleable__control sk-hidden--visually\" id=\"sk-estimator-id-11\" type=\"checkbox\" ><label for=\"sk-estimator-id-11\" class=\"sk-toggleable__label sk-toggleable__label-arrow\">RFE</label><div class=\"sk-toggleable__content\"><pre>RFE(estimator=LogisticRegression())</pre></div></div></div><div class=\"sk-parallel\"><div class=\"sk-parallel-item\"><div class=\"sk-item\"><div class=\"sk-label-container\"><div class=\"sk-label sk-toggleable\"><input class=\"sk-toggleable__control sk-hidden--visually\" id=\"sk-estimator-id-12\" type=\"checkbox\" ><label for=\"sk-estimator-id-12\" class=\"sk-toggleable__label sk-toggleable__label-arrow\">estimator: LogisticRegression</label><div class=\"sk-toggleable__content\"><pre>LogisticRegression()</pre></div></div></div><div class=\"sk-serial\"><div class=\"sk-item\"><div class=\"sk-estimator sk-toggleable\"><input class=\"sk-toggleable__control sk-hidden--visually\" id=\"sk-estimator-id-13\" type=\"checkbox\" ><label for=\"sk-estimator-id-13\" class=\"sk-toggleable__label sk-toggleable__label-arrow\">LogisticRegression</label><div class=\"sk-toggleable__content\"><pre>LogisticRegression()</pre></div></div></div></div></div></div></div></div></div></div>"
     },
     "execution_count": 35,
     "metadata": {},
     "output_type": "execute_result"
    }
   ],
   "source": [
    "rfe.fit(poly_features, y_train)"
   ],
   "metadata": {
    "collapsed": false,
    "pycharm": {
     "name": "#%%\n"
    }
   }
  },
  {
   "cell_type": "code",
   "execution_count": 36,
   "outputs": [
    {
     "data": {
      "text/plain": "array([ 1,  1, 14, 11,  1,  1,  1,  1, 10,  2,  1,  1,  7,  1,  1,  1,  9,\n        1, 15, 17,  8,  5, 12,  3, 13, 16,  6,  1,  1,  4,  1])"
     },
     "execution_count": 36,
     "metadata": {},
     "output_type": "execute_result"
    }
   ],
   "source": [
    "rfe.ranking_"
   ],
   "metadata": {
    "collapsed": false,
    "pycharm": {
     "name": "#%%\n"
    }
   }
  },
  {
   "cell_type": "code",
   "execution_count": 37,
   "outputs": [
    {
     "data": {
      "text/plain": "array([[ 0.91629682, -0.35695898,  0.21786848,  0.52987345,  0.56544174,\n         0.37042107,  0.47137532, -0.27034299,  0.18905224, -0.49893444,\n         0.58547265, -0.27852124, -0.82206213, -1.63396132, -0.49676722]])"
     },
     "execution_count": 37,
     "metadata": {},
     "output_type": "execute_result"
    }
   ],
   "source": [
    "rfe.estimator_.coef_"
   ],
   "metadata": {
    "collapsed": false,
    "pycharm": {
     "name": "#%%\n"
    }
   }
  },
  {
   "cell_type": "code",
   "execution_count": 38,
   "outputs": [
    {
     "data": {
      "text/plain": "(15,)"
     },
     "execution_count": 38,
     "metadata": {},
     "output_type": "execute_result"
    }
   ],
   "source": [
    "rfe_imp_features = rfe.get_feature_names_out()\n",
    "rfe_imp_features.shape"
   ],
   "metadata": {
    "collapsed": false,
    "pycharm": {
     "name": "#%%\n"
    }
   }
  },
  {
   "cell_type": "code",
   "execution_count": 39,
   "outputs": [
    {
     "data": {
      "text/plain": "0.868694147549881"
     },
     "execution_count": 39,
     "metadata": {},
     "output_type": "execute_result"
    }
   ],
   "source": [
    "cross_val_score(clf_lr, poly_features[rfe_imp_features], y_train, cv=3, scoring='roc_auc').mean()"
   ],
   "metadata": {
    "collapsed": false,
    "pycharm": {
     "name": "#%%\n"
    }
   }
  },
  {
   "cell_type": "markdown",
   "source": [
    "### Встраивание RFE в Gridsearch"
   ],
   "metadata": {
    "collapsed": false,
    "pycharm": {
     "name": "#%% md\n"
    }
   }
  },
  {
   "cell_type": "code",
   "execution_count": 40,
   "outputs": [],
   "source": [
    "# класс, который возвращает коэффициенты логистической регрессии\n",
    "# https://stackoverflow.com/questions/36683230/grid-search-with-recursive-feature-elimination-in-scikit-learn-pipeline-returns\n",
    "\n",
    "class MyPipe(Pipeline):\n",
    "\n",
    "    def fit(self, X, y=None, **fit_params):\n",
    "        \"\"\"Calls last elements .coef_ method.\n",
    "        Based on the sourcecode for decision_function(X).\n",
    "        Link: https://github.com/scikit-learn/scikit-learn/blob/master/sklearn/pipeline.py\n",
    "        ----------\n",
    "        \"\"\"\n",
    "        super(MyPipe, self).fit(X, y, **fit_params)\n",
    "        self.coef_ = self.steps[-1][-1].coef_\n",
    "        return self"
   ],
   "metadata": {
    "collapsed": false,
    "pycharm": {
     "name": "#%%\n"
    }
   }
  },
  {
   "cell_type": "code",
   "execution_count": 41,
   "outputs": [
    {
     "name": "stdout",
     "output_type": "stream",
     "text": [
      "Fitting 3 folds for each of 120 candidates, totalling 360 fits\n",
      "Fitting estimator with 32 features.\n",
      "Fitting estimator with 31 features.\n",
      "Fitting estimator with 30 features.\n",
      "Fitting estimator with 29 features.\n",
      "Fitting estimator with 28 features.\n",
      "Fitting estimator with 27 features.\n",
      "Fitting estimator with 26 features.\n",
      "Fitting estimator with 25 features.\n",
      "Fitting estimator with 24 features.\n",
      "Fitting estimator with 23 features.\n",
      "Fitting estimator with 22 features.\n",
      "Fitting estimator with 21 features.\n",
      "Fitting estimator with 20 features.\n",
      "Fitting estimator with 19 features.\n",
      "Fitting estimator with 18 features.\n",
      "Fitting estimator with 17 features.\n",
      "Fitting estimator with 16 features.\n",
      "Fitting estimator with 15 features.\n"
     ]
    },
    {
     "data": {
      "text/plain": "GridSearchCV(cv=3,\n             estimator=Pipeline(steps=[('transformer',\n                                        ColumnTransformer(remainder='passthrough',\n                                                          transformers=[('nums',\n                                                                         Pipeline(steps=[('imputer',\n                                                                                          IterativeImputer(random_state=123)),\n                                                                                         ('scaler',\n                                                                                          StandardScaler()),\n                                                                                         ('poly',\n                                                                                          PolynomialFeatures())]),\n                                                                         <sklearn.compose._column_transformer.make_column_selector object at 0x00000212A5CD4790>),\n                                                                        ('cats',\n                                                                         Pipeline(s...\n                                                                                         ('ohe',\n                                                                                          OneHotEncoder(drop='first'))]),\n                                                                         <sklearn.compose._column_transformer.make_column_selector object at 0x00000212A5CD4DF0>)])),\n                                       ('rfe',\n                                        RFE(estimator=LogisticRegression(),\n                                            verbose=99))]),\n             n_jobs=-1,\n             param_grid=[{'rfe__estimator__C': [0.1, 1, 10, 100],\n                          'rfe__estimator__penalty': [None, 'l2'],\n                          'rfe__n_features_to_select': range(5, 20)}],\n             scoring='roc_auc', verbose=10)",
      "text/html": "<style>#sk-container-id-3 {color: black;background-color: white;}#sk-container-id-3 pre{padding: 0;}#sk-container-id-3 div.sk-toggleable {background-color: white;}#sk-container-id-3 label.sk-toggleable__label {cursor: pointer;display: block;width: 100%;margin-bottom: 0;padding: 0.3em;box-sizing: border-box;text-align: center;}#sk-container-id-3 label.sk-toggleable__label-arrow:before {content: \"▸\";float: left;margin-right: 0.25em;color: #696969;}#sk-container-id-3 label.sk-toggleable__label-arrow:hover:before {color: black;}#sk-container-id-3 div.sk-estimator:hover label.sk-toggleable__label-arrow:before {color: black;}#sk-container-id-3 div.sk-toggleable__content {max-height: 0;max-width: 0;overflow: hidden;text-align: left;background-color: #f0f8ff;}#sk-container-id-3 div.sk-toggleable__content pre {margin: 0.2em;color: black;border-radius: 0.25em;background-color: #f0f8ff;}#sk-container-id-3 input.sk-toggleable__control:checked~div.sk-toggleable__content {max-height: 200px;max-width: 100%;overflow: auto;}#sk-container-id-3 input.sk-toggleable__control:checked~label.sk-toggleable__label-arrow:before {content: \"▾\";}#sk-container-id-3 div.sk-estimator input.sk-toggleable__control:checked~label.sk-toggleable__label {background-color: #d4ebff;}#sk-container-id-3 div.sk-label input.sk-toggleable__control:checked~label.sk-toggleable__label {background-color: #d4ebff;}#sk-container-id-3 input.sk-hidden--visually {border: 0;clip: rect(1px 1px 1px 1px);clip: rect(1px, 1px, 1px, 1px);height: 1px;margin: -1px;overflow: hidden;padding: 0;position: absolute;width: 1px;}#sk-container-id-3 div.sk-estimator {font-family: monospace;background-color: #f0f8ff;border: 1px dotted black;border-radius: 0.25em;box-sizing: border-box;margin-bottom: 0.5em;}#sk-container-id-3 div.sk-estimator:hover {background-color: #d4ebff;}#sk-container-id-3 div.sk-parallel-item::after {content: \"\";width: 100%;border-bottom: 1px solid gray;flex-grow: 1;}#sk-container-id-3 div.sk-label:hover label.sk-toggleable__label {background-color: #d4ebff;}#sk-container-id-3 div.sk-serial::before {content: \"\";position: absolute;border-left: 1px solid gray;box-sizing: border-box;top: 0;bottom: 0;left: 50%;z-index: 0;}#sk-container-id-3 div.sk-serial {display: flex;flex-direction: column;align-items: center;background-color: white;padding-right: 0.2em;padding-left: 0.2em;position: relative;}#sk-container-id-3 div.sk-item {position: relative;z-index: 1;}#sk-container-id-3 div.sk-parallel {display: flex;align-items: stretch;justify-content: center;background-color: white;position: relative;}#sk-container-id-3 div.sk-item::before, #sk-container-id-3 div.sk-parallel-item::before {content: \"\";position: absolute;border-left: 1px solid gray;box-sizing: border-box;top: 0;bottom: 0;left: 50%;z-index: -1;}#sk-container-id-3 div.sk-parallel-item {display: flex;flex-direction: column;z-index: 1;position: relative;background-color: white;}#sk-container-id-3 div.sk-parallel-item:first-child::after {align-self: flex-end;width: 50%;}#sk-container-id-3 div.sk-parallel-item:last-child::after {align-self: flex-start;width: 50%;}#sk-container-id-3 div.sk-parallel-item:only-child::after {width: 0;}#sk-container-id-3 div.sk-dashed-wrapped {border: 1px dashed gray;margin: 0 0.4em 0.5em 0.4em;box-sizing: border-box;padding-bottom: 0.4em;background-color: white;}#sk-container-id-3 div.sk-label label {font-family: monospace;font-weight: bold;display: inline-block;line-height: 1.2em;}#sk-container-id-3 div.sk-label-container {text-align: center;}#sk-container-id-3 div.sk-container {/* jupyter's `normalize.less` sets `[hidden] { display: none; }` but bootstrap.min.css set `[hidden] { display: none !important; }` so we also need the `!important` here to be able to override the default hidden behavior on the sphinx rendered scikit-learn.org. See: https://github.com/scikit-learn/scikit-learn/issues/21755 */display: inline-block !important;position: relative;}#sk-container-id-3 div.sk-text-repr-fallback {display: none;}</style><div id=\"sk-container-id-3\" class=\"sk-top-container\"><div class=\"sk-text-repr-fallback\"><pre>GridSearchCV(cv=3,\n             estimator=Pipeline(steps=[(&#x27;transformer&#x27;,\n                                        ColumnTransformer(remainder=&#x27;passthrough&#x27;,\n                                                          transformers=[(&#x27;nums&#x27;,\n                                                                         Pipeline(steps=[(&#x27;imputer&#x27;,\n                                                                                          IterativeImputer(random_state=123)),\n                                                                                         (&#x27;scaler&#x27;,\n                                                                                          StandardScaler()),\n                                                                                         (&#x27;poly&#x27;,\n                                                                                          PolynomialFeatures())]),\n                                                                         &lt;sklearn.compose._column_transformer.make_column_selector object at 0x00000212A5CD4790&gt;),\n                                                                        (&#x27;cats&#x27;,\n                                                                         Pipeline(s...\n                                                                                         (&#x27;ohe&#x27;,\n                                                                                          OneHotEncoder(drop=&#x27;first&#x27;))]),\n                                                                         &lt;sklearn.compose._column_transformer.make_column_selector object at 0x00000212A5CD4DF0&gt;)])),\n                                       (&#x27;rfe&#x27;,\n                                        RFE(estimator=LogisticRegression(),\n                                            verbose=99))]),\n             n_jobs=-1,\n             param_grid=[{&#x27;rfe__estimator__C&#x27;: [0.1, 1, 10, 100],\n                          &#x27;rfe__estimator__penalty&#x27;: [None, &#x27;l2&#x27;],\n                          &#x27;rfe__n_features_to_select&#x27;: range(5, 20)}],\n             scoring=&#x27;roc_auc&#x27;, verbose=10)</pre><b>In a Jupyter environment, please rerun this cell to show the HTML representation or trust the notebook. <br />On GitHub, the HTML representation is unable to render, please try loading this page with nbviewer.org.</b></div><div class=\"sk-container\" hidden><div class=\"sk-item sk-dashed-wrapped\"><div class=\"sk-label-container\"><div class=\"sk-label sk-toggleable\"><input class=\"sk-toggleable__control sk-hidden--visually\" id=\"sk-estimator-id-14\" type=\"checkbox\" ><label for=\"sk-estimator-id-14\" class=\"sk-toggleable__label sk-toggleable__label-arrow\">GridSearchCV</label><div class=\"sk-toggleable__content\"><pre>GridSearchCV(cv=3,\n             estimator=Pipeline(steps=[(&#x27;transformer&#x27;,\n                                        ColumnTransformer(remainder=&#x27;passthrough&#x27;,\n                                                          transformers=[(&#x27;nums&#x27;,\n                                                                         Pipeline(steps=[(&#x27;imputer&#x27;,\n                                                                                          IterativeImputer(random_state=123)),\n                                                                                         (&#x27;scaler&#x27;,\n                                                                                          StandardScaler()),\n                                                                                         (&#x27;poly&#x27;,\n                                                                                          PolynomialFeatures())]),\n                                                                         &lt;sklearn.compose._column_transformer.make_column_selector object at 0x00000212A5CD4790&gt;),\n                                                                        (&#x27;cats&#x27;,\n                                                                         Pipeline(s...\n                                                                                         (&#x27;ohe&#x27;,\n                                                                                          OneHotEncoder(drop=&#x27;first&#x27;))]),\n                                                                         &lt;sklearn.compose._column_transformer.make_column_selector object at 0x00000212A5CD4DF0&gt;)])),\n                                       (&#x27;rfe&#x27;,\n                                        RFE(estimator=LogisticRegression(),\n                                            verbose=99))]),\n             n_jobs=-1,\n             param_grid=[{&#x27;rfe__estimator__C&#x27;: [0.1, 1, 10, 100],\n                          &#x27;rfe__estimator__penalty&#x27;: [None, &#x27;l2&#x27;],\n                          &#x27;rfe__n_features_to_select&#x27;: range(5, 20)}],\n             scoring=&#x27;roc_auc&#x27;, verbose=10)</pre></div></div></div><div class=\"sk-parallel\"><div class=\"sk-parallel-item\"><div class=\"sk-item\"><div class=\"sk-label-container\"><div class=\"sk-label sk-toggleable\"><input class=\"sk-toggleable__control sk-hidden--visually\" id=\"sk-estimator-id-15\" type=\"checkbox\" ><label for=\"sk-estimator-id-15\" class=\"sk-toggleable__label sk-toggleable__label-arrow\">estimator: Pipeline</label><div class=\"sk-toggleable__content\"><pre>Pipeline(steps=[(&#x27;transformer&#x27;,\n                 ColumnTransformer(remainder=&#x27;passthrough&#x27;,\n                                   transformers=[(&#x27;nums&#x27;,\n                                                  Pipeline(steps=[(&#x27;imputer&#x27;,\n                                                                   IterativeImputer(random_state=123)),\n                                                                  (&#x27;scaler&#x27;,\n                                                                   StandardScaler()),\n                                                                  (&#x27;poly&#x27;,\n                                                                   PolynomialFeatures())]),\n                                                  &lt;sklearn.compose._column_transformer.make_column_selector object at 0x00000212A5CD4790&gt;),\n                                                 (&#x27;cats&#x27;,\n                                                  Pipeline(steps=[(&#x27;imputer&#x27;,\n                                                                   SimpleImputer(strategy=&#x27;most_frequent&#x27;)),\n                                                                  (&#x27;ohe&#x27;,\n                                                                   OneHotEncoder(drop=&#x27;first&#x27;))]),\n                                                  &lt;sklearn.compose._column_transformer.make_column_selector object at 0x00000212A5CD4DF0&gt;)])),\n                (&#x27;rfe&#x27;, RFE(estimator=LogisticRegression(), verbose=99))])</pre></div></div></div><div class=\"sk-serial\"><div class=\"sk-item\"><div class=\"sk-serial\"><div class=\"sk-item sk-dashed-wrapped\"><div class=\"sk-label-container\"><div class=\"sk-label sk-toggleable\"><input class=\"sk-toggleable__control sk-hidden--visually\" id=\"sk-estimator-id-16\" type=\"checkbox\" ><label for=\"sk-estimator-id-16\" class=\"sk-toggleable__label sk-toggleable__label-arrow\">transformer: ColumnTransformer</label><div class=\"sk-toggleable__content\"><pre>ColumnTransformer(remainder=&#x27;passthrough&#x27;,\n                  transformers=[(&#x27;nums&#x27;,\n                                 Pipeline(steps=[(&#x27;imputer&#x27;,\n                                                  IterativeImputer(random_state=123)),\n                                                 (&#x27;scaler&#x27;, StandardScaler()),\n                                                 (&#x27;poly&#x27;,\n                                                  PolynomialFeatures())]),\n                                 &lt;sklearn.compose._column_transformer.make_column_selector object at 0x00000212A5CD4790&gt;),\n                                (&#x27;cats&#x27;,\n                                 Pipeline(steps=[(&#x27;imputer&#x27;,\n                                                  SimpleImputer(strategy=&#x27;most_frequent&#x27;)),\n                                                 (&#x27;ohe&#x27;,\n                                                  OneHotEncoder(drop=&#x27;first&#x27;))]),\n                                 &lt;sklearn.compose._column_transformer.make_column_selector object at 0x00000212A5CD4DF0&gt;)])</pre></div></div></div><div class=\"sk-parallel\"><div class=\"sk-parallel-item\"><div class=\"sk-item\"><div class=\"sk-label-container\"><div class=\"sk-label sk-toggleable\"><input class=\"sk-toggleable__control sk-hidden--visually\" id=\"sk-estimator-id-17\" type=\"checkbox\" ><label for=\"sk-estimator-id-17\" class=\"sk-toggleable__label sk-toggleable__label-arrow\">nums</label><div class=\"sk-toggleable__content\"><pre>&lt;sklearn.compose._column_transformer.make_column_selector object at 0x00000212A5CD4790&gt;</pre></div></div></div><div class=\"sk-serial\"><div class=\"sk-item\"><div class=\"sk-serial\"><div class=\"sk-item\"><div class=\"sk-estimator sk-toggleable\"><input class=\"sk-toggleable__control sk-hidden--visually\" id=\"sk-estimator-id-18\" type=\"checkbox\" ><label for=\"sk-estimator-id-18\" class=\"sk-toggleable__label sk-toggleable__label-arrow\">IterativeImputer</label><div class=\"sk-toggleable__content\"><pre>IterativeImputer(random_state=123)</pre></div></div></div><div class=\"sk-item\"><div class=\"sk-estimator sk-toggleable\"><input class=\"sk-toggleable__control sk-hidden--visually\" id=\"sk-estimator-id-19\" type=\"checkbox\" ><label for=\"sk-estimator-id-19\" class=\"sk-toggleable__label sk-toggleable__label-arrow\">StandardScaler</label><div class=\"sk-toggleable__content\"><pre>StandardScaler()</pre></div></div></div><div class=\"sk-item\"><div class=\"sk-estimator sk-toggleable\"><input class=\"sk-toggleable__control sk-hidden--visually\" id=\"sk-estimator-id-20\" type=\"checkbox\" ><label for=\"sk-estimator-id-20\" class=\"sk-toggleable__label sk-toggleable__label-arrow\">PolynomialFeatures</label><div class=\"sk-toggleable__content\"><pre>PolynomialFeatures()</pre></div></div></div></div></div></div></div></div><div class=\"sk-parallel-item\"><div class=\"sk-item\"><div class=\"sk-label-container\"><div class=\"sk-label sk-toggleable\"><input class=\"sk-toggleable__control sk-hidden--visually\" id=\"sk-estimator-id-21\" type=\"checkbox\" ><label for=\"sk-estimator-id-21\" class=\"sk-toggleable__label sk-toggleable__label-arrow\">cats</label><div class=\"sk-toggleable__content\"><pre>&lt;sklearn.compose._column_transformer.make_column_selector object at 0x00000212A5CD4DF0&gt;</pre></div></div></div><div class=\"sk-serial\"><div class=\"sk-item\"><div class=\"sk-serial\"><div class=\"sk-item\"><div class=\"sk-estimator sk-toggleable\"><input class=\"sk-toggleable__control sk-hidden--visually\" id=\"sk-estimator-id-22\" type=\"checkbox\" ><label for=\"sk-estimator-id-22\" class=\"sk-toggleable__label sk-toggleable__label-arrow\">SimpleImputer</label><div class=\"sk-toggleable__content\"><pre>SimpleImputer(strategy=&#x27;most_frequent&#x27;)</pre></div></div></div><div class=\"sk-item\"><div class=\"sk-estimator sk-toggleable\"><input class=\"sk-toggleable__control sk-hidden--visually\" id=\"sk-estimator-id-23\" type=\"checkbox\" ><label for=\"sk-estimator-id-23\" class=\"sk-toggleable__label sk-toggleable__label-arrow\">OneHotEncoder</label><div class=\"sk-toggleable__content\"><pre>OneHotEncoder(drop=&#x27;first&#x27;)</pre></div></div></div></div></div></div></div></div><div class=\"sk-parallel-item\"><div class=\"sk-item\"><div class=\"sk-label-container\"><div class=\"sk-label sk-toggleable\"><input class=\"sk-toggleable__control sk-hidden--visually\" id=\"sk-estimator-id-24\" type=\"checkbox\" ><label for=\"sk-estimator-id-24\" class=\"sk-toggleable__label sk-toggleable__label-arrow\">remainder</label><div class=\"sk-toggleable__content\"><pre>[]</pre></div></div></div><div class=\"sk-serial\"><div class=\"sk-item\"><div class=\"sk-estimator sk-toggleable\"><input class=\"sk-toggleable__control sk-hidden--visually\" id=\"sk-estimator-id-25\" type=\"checkbox\" ><label for=\"sk-estimator-id-25\" class=\"sk-toggleable__label sk-toggleable__label-arrow\">passthrough</label><div class=\"sk-toggleable__content\"><pre>passthrough</pre></div></div></div></div></div></div></div></div><div class=\"sk-item sk-dashed-wrapped\"><div class=\"sk-label-container\"><div class=\"sk-label sk-toggleable\"><input class=\"sk-toggleable__control sk-hidden--visually\" id=\"sk-estimator-id-26\" type=\"checkbox\" ><label for=\"sk-estimator-id-26\" class=\"sk-toggleable__label sk-toggleable__label-arrow\">rfe: RFE</label><div class=\"sk-toggleable__content\"><pre>RFE(estimator=LogisticRegression(), verbose=99)</pre></div></div></div><div class=\"sk-parallel\"><div class=\"sk-parallel-item\"><div class=\"sk-item\"><div class=\"sk-label-container\"><div class=\"sk-label sk-toggleable\"><input class=\"sk-toggleable__control sk-hidden--visually\" id=\"sk-estimator-id-27\" type=\"checkbox\" ><label for=\"sk-estimator-id-27\" class=\"sk-toggleable__label sk-toggleable__label-arrow\">estimator: LogisticRegression</label><div class=\"sk-toggleable__content\"><pre>LogisticRegression()</pre></div></div></div><div class=\"sk-serial\"><div class=\"sk-item\"><div class=\"sk-estimator sk-toggleable\"><input class=\"sk-toggleable__control sk-hidden--visually\" id=\"sk-estimator-id-28\" type=\"checkbox\" ><label for=\"sk-estimator-id-28\" class=\"sk-toggleable__label sk-toggleable__label-arrow\">LogisticRegression</label><div class=\"sk-toggleable__content\"><pre>LogisticRegression()</pre></div></div></div></div></div></div></div></div></div></div></div></div></div></div></div></div></div>"
     },
     "execution_count": 41,
     "metadata": {},
     "output_type": "execute_result"
    }
   ],
   "source": [
    "num_ct_poly = Pipeline(steps=[('imputer', IterativeImputer(random_state=123)),\n",
    "                              ('scaler', StandardScaler()),\n",
    "                              ('poly', PolynomialFeatures())])\n",
    "\n",
    "cat_ct = Pipeline(steps=[('imputer', SimpleImputer(strategy='most_frequent')),\n",
    "                         ('ohe', OneHotEncoder(drop='first'))])\n",
    "\n",
    "transformer_poly = ColumnTransformer(transformers=[('nums', num_ct_poly, selector(dtype_exclude=\"object\")),\n",
    "                                                   ('cats', cat_ct, selector(dtype_include=\"object\"))],\n",
    "                                                    remainder='passthrough')\n",
    "\n",
    "x_poly = transformer_poly.fit_transform(x_train)\n",
    "\n",
    "params = [{'rfe__estimator__penalty': [None, 'l2'],\n",
    "           'rfe__estimator__C': [0.1, 1, 10, 100],\n",
    "           'rfe__n_features_to_select': range(5, 20)\n",
    "          }]\n",
    "\n",
    "clf_lr = LogisticRegression()\n",
    "rfe = RFE(estimator=clf_lr, verbose=99)\n",
    "\n",
    "lr_pipe_poly = Pipeline(steps=[('transformer', transformer_poly), ('rfe', rfe)])\n",
    "\n",
    "lr_gs_poly=GridSearchCV(estimator=lr_pipe_poly,\n",
    "                        param_grid=params,\n",
    "                        scoring='roc_auc',\n",
    "                        refit=True,\n",
    "                        cv=3,\n",
    "                        n_jobs=-1,\n",
    "                        verbose=10)\n",
    "\n",
    "lr_gs_poly.fit(x_train, y_train)"
   ],
   "metadata": {
    "collapsed": false,
    "pycharm": {
     "name": "#%%\n"
    }
   }
  },
  {
   "cell_type": "code",
   "execution_count": 42,
   "outputs": [
    {
     "data": {
      "text/plain": "     mean_fit_time  std_fit_time  mean_score_time  std_score_time  \\\n24        0.411332      0.040713         0.022999    7.117626e-03   \n85        0.488000      0.008288         0.014000    1.655632e-06   \n115       0.404666      0.064999         0.014000    8.165352e-04   \n11        0.382005      0.039640         0.015661    1.692490e-03   \n41        0.356333      0.010077         0.014000    9.798072e-07   \n101       0.381666      0.036809         0.015000    2.159796e-03   \n71        0.389668      0.046690         0.015333    1.887956e-03   \n26        0.250001      0.013736         0.015332    4.698531e-04   \n25        0.309666      0.050341         0.015003    4.913197e-06   \n28        0.252999      0.026127         0.014333    4.717090e-04   \n116       0.404999      0.093191         0.013667    4.710332e-04   \n27        0.256999      0.016392         0.015666    1.699332e-03   \n29        0.260665      0.031564         0.018667    2.624196e-03   \n58        0.415333      0.060971         0.015668    4.721603e-04   \n70        0.448333      0.045294         0.015001    8.160546e-04   \n40        0.367666      0.009177         0.014333    4.713710e-04   \n100       0.388332      0.031982         0.014000    8.159508e-04   \n10        0.389662      0.073086         0.019333    7.541869e-03   \n86        0.525666      0.080732         0.015335    1.884470e-03   \n55        0.376333      0.010780         0.014001    6.257699e-07   \n57        0.376668      0.035829         0.014999    8.168301e-04   \n56        0.474999      0.073341         0.015666    9.425733e-04   \n59        0.392001      0.076436         0.015334    1.886212e-03   \n54        0.453335      0.051770         0.015666    1.700361e-03   \n83        0.477999      0.019304         0.014001    8.155615e-04   \n42        0.320332      0.019293         0.015334    9.424599e-04   \n102       0.362665      0.031115         0.014667    4.708104e-04   \n72        0.339332      0.026234         0.019001    6.377515e-03   \n12        0.374002      0.048299         0.015332    4.712594e-04   \n114       0.441665      0.125247         0.014001    8.167295e-04   \n84        0.462665      0.007133         0.014334    4.710896e-04   \n23        0.316335      0.035215         0.015665    4.723274e-04   \n117       0.354002      0.048643         0.009998    2.160753e-03   \n\n    param_rfe__estimator__C param_rfe__estimator__penalty  \\\n24                      0.1                            l2   \n85                       10                            l2   \n115                     100                            l2   \n11                      0.1                          None   \n41                        1                          None   \n101                     100                          None   \n71                       10                          None   \n26                      0.1                            l2   \n25                      0.1                            l2   \n28                      0.1                            l2   \n116                     100                            l2   \n27                      0.1                            l2   \n29                      0.1                            l2   \n58                        1                            l2   \n70                       10                          None   \n40                        1                          None   \n100                     100                          None   \n10                      0.1                          None   \n86                       10                            l2   \n55                        1                            l2   \n57                        1                            l2   \n56                        1                            l2   \n59                        1                            l2   \n54                        1                            l2   \n83                       10                            l2   \n42                        1                          None   \n102                     100                          None   \n72                       10                          None   \n12                      0.1                          None   \n114                     100                            l2   \n84                       10                            l2   \n23                      0.1                            l2   \n117                     100                            l2   \n\n    param_rfe__n_features_to_select  \\\n24                               14   \n85                               15   \n115                              15   \n11                               16   \n41                               16   \n101                              16   \n71                               16   \n26                               16   \n25                               15   \n28                               18   \n116                              16   \n27                               17   \n29                               19   \n58                               18   \n70                               15   \n40                               15   \n100                              15   \n10                               15   \n86                               16   \n55                               15   \n57                               17   \n56                               16   \n59                               19   \n54                               14   \n83                               13   \n42                               17   \n102                              17   \n72                               17   \n12                               17   \n114                              14   \n84                               14   \n23                               13   \n117                              17   \n\n                                                params  split0_test_score  \\\n24   {'rfe__estimator__C': 0.1, 'rfe__estimator__pe...           0.876863   \n85   {'rfe__estimator__C': 10, 'rfe__estimator__pen...           0.875454   \n115  {'rfe__estimator__C': 100, 'rfe__estimator__pe...           0.875232   \n11   {'rfe__estimator__C': 0.1, 'rfe__estimator__pe...           0.875158   \n41   {'rfe__estimator__C': 1, 'rfe__estimator__pena...           0.875158   \n101  {'rfe__estimator__C': 100, 'rfe__estimator__pe...           0.875158   \n71   {'rfe__estimator__C': 10, 'rfe__estimator__pen...           0.875158   \n26   {'rfe__estimator__C': 0.1, 'rfe__estimator__pe...           0.875380   \n25   {'rfe__estimator__C': 0.1, 'rfe__estimator__pe...           0.874713   \n28   {'rfe__estimator__C': 0.1, 'rfe__estimator__pe...           0.877308   \n116  {'rfe__estimator__C': 100, 'rfe__estimator__pe...           0.875232   \n27   {'rfe__estimator__C': 0.1, 'rfe__estimator__pe...           0.875528   \n29   {'rfe__estimator__C': 0.1, 'rfe__estimator__pe...           0.876047   \n58   {'rfe__estimator__C': 1, 'rfe__estimator__pena...           0.874490   \n70   {'rfe__estimator__C': 10, 'rfe__estimator__pen...           0.867742   \n40   {'rfe__estimator__C': 1, 'rfe__estimator__pena...           0.867742   \n100  {'rfe__estimator__C': 100, 'rfe__estimator__pe...           0.867742   \n10   {'rfe__estimator__C': 0.1, 'rfe__estimator__pe...           0.867742   \n86   {'rfe__estimator__C': 10, 'rfe__estimator__pen...           0.871598   \n55   {'rfe__estimator__C': 1, 'rfe__estimator__pena...           0.874564   \n57   {'rfe__estimator__C': 1, 'rfe__estimator__pena...           0.873452   \n56   {'rfe__estimator__C': 1, 'rfe__estimator__pena...           0.874194   \n59   {'rfe__estimator__C': 1, 'rfe__estimator__pena...           0.874490   \n54   {'rfe__estimator__C': 1, 'rfe__estimator__pena...           0.877234   \n83   {'rfe__estimator__C': 10, 'rfe__estimator__pen...           0.871821   \n42   {'rfe__estimator__C': 1, 'rfe__estimator__pena...           0.871079   \n102  {'rfe__estimator__C': 100, 'rfe__estimator__pe...           0.871079   \n72   {'rfe__estimator__C': 10, 'rfe__estimator__pen...           0.871079   \n12   {'rfe__estimator__C': 0.1, 'rfe__estimator__pe...           0.871079   \n114  {'rfe__estimator__C': 100, 'rfe__estimator__pe...           0.867964   \n84   {'rfe__estimator__C': 10, 'rfe__estimator__pen...           0.868113   \n23   {'rfe__estimator__C': 0.1, 'rfe__estimator__pe...           0.869818   \n117  {'rfe__estimator__C': 100, 'rfe__estimator__pe...           0.871376   \n\n     split1_test_score  split2_test_score  mean_test_score  std_test_score  \\\n24            0.811019           0.890555         0.859479        0.034719   \n85            0.821664           0.880960         0.859359        0.026749   \n115           0.821064           0.881409         0.859235        0.027108   \n11            0.821139           0.881334         0.859210        0.027038   \n41            0.821139           0.881334         0.859210        0.027038   \n101           0.821139           0.881334         0.859210        0.027038   \n71            0.821139           0.881334         0.859210        0.027038   \n26            0.816567           0.883208         0.858385        0.029742   \n25            0.814543           0.885307         0.858188        0.031163   \n28            0.812369           0.884858         0.858178        0.032538   \n116           0.817916           0.881259         0.858136        0.028546   \n27            0.814318           0.884483         0.858110        0.031181   \n29            0.812519           0.884708         0.857758        0.032184   \n58            0.817841           0.879835         0.857389        0.028049   \n70            0.822939           0.881409         0.857363        0.024973   \n40            0.822939           0.881409         0.857363        0.024973   \n100           0.822939           0.881409         0.857363        0.024973   \n10            0.822939           0.881409         0.857363        0.024973   \n86            0.817616           0.881484         0.856900        0.028069   \n55            0.819640           0.876162         0.856789        0.026276   \n57            0.816792           0.879835         0.856693        0.028335   \n56            0.816042           0.879610         0.856615        0.028775   \n59            0.817691           0.877361         0.856514        0.027477   \n54            0.815892           0.876387         0.856504        0.028719   \n83            0.824888           0.872564         0.856424        0.022302   \n42            0.817766           0.878561         0.855802        0.027068   \n102           0.817766           0.878561         0.855802        0.027068   \n72            0.817766           0.878561         0.855802        0.027068   \n12            0.817766           0.878561         0.855802        0.027068   \n114           0.823088           0.876087         0.855713        0.023306   \n84            0.822564           0.876162         0.855613        0.023599   \n23            0.811844           0.885157         0.855607        0.031572   \n117           0.816792           0.878561         0.855576        0.027581   \n\n     rank_test_score  \n24                 1  \n85                 2  \n115                3  \n11                 4  \n41                 4  \n101                4  \n71                 4  \n26                 8  \n25                 9  \n28                10  \n116               11  \n27                12  \n29                13  \n58                14  \n70                15  \n40                15  \n100               15  \n10                15  \n86                19  \n55                20  \n57                21  \n56                22  \n59                23  \n54                24  \n83                25  \n42                26  \n102               26  \n72                26  \n12                26  \n114               30  \n84                31  \n23                32  \n117               33  ",
      "text/html": "<div>\n<style scoped>\n    .dataframe tbody tr th:only-of-type {\n        vertical-align: middle;\n    }\n\n    .dataframe tbody tr th {\n        vertical-align: top;\n    }\n\n    .dataframe thead th {\n        text-align: right;\n    }\n</style>\n<table border=\"1\" class=\"dataframe\">\n  <thead>\n    <tr style=\"text-align: right;\">\n      <th></th>\n      <th>mean_fit_time</th>\n      <th>std_fit_time</th>\n      <th>mean_score_time</th>\n      <th>std_score_time</th>\n      <th>param_rfe__estimator__C</th>\n      <th>param_rfe__estimator__penalty</th>\n      <th>param_rfe__n_features_to_select</th>\n      <th>params</th>\n      <th>split0_test_score</th>\n      <th>split1_test_score</th>\n      <th>split2_test_score</th>\n      <th>mean_test_score</th>\n      <th>std_test_score</th>\n      <th>rank_test_score</th>\n    </tr>\n  </thead>\n  <tbody>\n    <tr>\n      <th>24</th>\n      <td>0.411332</td>\n      <td>0.040713</td>\n      <td>0.022999</td>\n      <td>7.117626e-03</td>\n      <td>0.1</td>\n      <td>l2</td>\n      <td>14</td>\n      <td>{'rfe__estimator__C': 0.1, 'rfe__estimator__pe...</td>\n      <td>0.876863</td>\n      <td>0.811019</td>\n      <td>0.890555</td>\n      <td>0.859479</td>\n      <td>0.034719</td>\n      <td>1</td>\n    </tr>\n    <tr>\n      <th>85</th>\n      <td>0.488000</td>\n      <td>0.008288</td>\n      <td>0.014000</td>\n      <td>1.655632e-06</td>\n      <td>10</td>\n      <td>l2</td>\n      <td>15</td>\n      <td>{'rfe__estimator__C': 10, 'rfe__estimator__pen...</td>\n      <td>0.875454</td>\n      <td>0.821664</td>\n      <td>0.880960</td>\n      <td>0.859359</td>\n      <td>0.026749</td>\n      <td>2</td>\n    </tr>\n    <tr>\n      <th>115</th>\n      <td>0.404666</td>\n      <td>0.064999</td>\n      <td>0.014000</td>\n      <td>8.165352e-04</td>\n      <td>100</td>\n      <td>l2</td>\n      <td>15</td>\n      <td>{'rfe__estimator__C': 100, 'rfe__estimator__pe...</td>\n      <td>0.875232</td>\n      <td>0.821064</td>\n      <td>0.881409</td>\n      <td>0.859235</td>\n      <td>0.027108</td>\n      <td>3</td>\n    </tr>\n    <tr>\n      <th>11</th>\n      <td>0.382005</td>\n      <td>0.039640</td>\n      <td>0.015661</td>\n      <td>1.692490e-03</td>\n      <td>0.1</td>\n      <td>None</td>\n      <td>16</td>\n      <td>{'rfe__estimator__C': 0.1, 'rfe__estimator__pe...</td>\n      <td>0.875158</td>\n      <td>0.821139</td>\n      <td>0.881334</td>\n      <td>0.859210</td>\n      <td>0.027038</td>\n      <td>4</td>\n    </tr>\n    <tr>\n      <th>41</th>\n      <td>0.356333</td>\n      <td>0.010077</td>\n      <td>0.014000</td>\n      <td>9.798072e-07</td>\n      <td>1</td>\n      <td>None</td>\n      <td>16</td>\n      <td>{'rfe__estimator__C': 1, 'rfe__estimator__pena...</td>\n      <td>0.875158</td>\n      <td>0.821139</td>\n      <td>0.881334</td>\n      <td>0.859210</td>\n      <td>0.027038</td>\n      <td>4</td>\n    </tr>\n    <tr>\n      <th>101</th>\n      <td>0.381666</td>\n      <td>0.036809</td>\n      <td>0.015000</td>\n      <td>2.159796e-03</td>\n      <td>100</td>\n      <td>None</td>\n      <td>16</td>\n      <td>{'rfe__estimator__C': 100, 'rfe__estimator__pe...</td>\n      <td>0.875158</td>\n      <td>0.821139</td>\n      <td>0.881334</td>\n      <td>0.859210</td>\n      <td>0.027038</td>\n      <td>4</td>\n    </tr>\n    <tr>\n      <th>71</th>\n      <td>0.389668</td>\n      <td>0.046690</td>\n      <td>0.015333</td>\n      <td>1.887956e-03</td>\n      <td>10</td>\n      <td>None</td>\n      <td>16</td>\n      <td>{'rfe__estimator__C': 10, 'rfe__estimator__pen...</td>\n      <td>0.875158</td>\n      <td>0.821139</td>\n      <td>0.881334</td>\n      <td>0.859210</td>\n      <td>0.027038</td>\n      <td>4</td>\n    </tr>\n    <tr>\n      <th>26</th>\n      <td>0.250001</td>\n      <td>0.013736</td>\n      <td>0.015332</td>\n      <td>4.698531e-04</td>\n      <td>0.1</td>\n      <td>l2</td>\n      <td>16</td>\n      <td>{'rfe__estimator__C': 0.1, 'rfe__estimator__pe...</td>\n      <td>0.875380</td>\n      <td>0.816567</td>\n      <td>0.883208</td>\n      <td>0.858385</td>\n      <td>0.029742</td>\n      <td>8</td>\n    </tr>\n    <tr>\n      <th>25</th>\n      <td>0.309666</td>\n      <td>0.050341</td>\n      <td>0.015003</td>\n      <td>4.913197e-06</td>\n      <td>0.1</td>\n      <td>l2</td>\n      <td>15</td>\n      <td>{'rfe__estimator__C': 0.1, 'rfe__estimator__pe...</td>\n      <td>0.874713</td>\n      <td>0.814543</td>\n      <td>0.885307</td>\n      <td>0.858188</td>\n      <td>0.031163</td>\n      <td>9</td>\n    </tr>\n    <tr>\n      <th>28</th>\n      <td>0.252999</td>\n      <td>0.026127</td>\n      <td>0.014333</td>\n      <td>4.717090e-04</td>\n      <td>0.1</td>\n      <td>l2</td>\n      <td>18</td>\n      <td>{'rfe__estimator__C': 0.1, 'rfe__estimator__pe...</td>\n      <td>0.877308</td>\n      <td>0.812369</td>\n      <td>0.884858</td>\n      <td>0.858178</td>\n      <td>0.032538</td>\n      <td>10</td>\n    </tr>\n    <tr>\n      <th>116</th>\n      <td>0.404999</td>\n      <td>0.093191</td>\n      <td>0.013667</td>\n      <td>4.710332e-04</td>\n      <td>100</td>\n      <td>l2</td>\n      <td>16</td>\n      <td>{'rfe__estimator__C': 100, 'rfe__estimator__pe...</td>\n      <td>0.875232</td>\n      <td>0.817916</td>\n      <td>0.881259</td>\n      <td>0.858136</td>\n      <td>0.028546</td>\n      <td>11</td>\n    </tr>\n    <tr>\n      <th>27</th>\n      <td>0.256999</td>\n      <td>0.016392</td>\n      <td>0.015666</td>\n      <td>1.699332e-03</td>\n      <td>0.1</td>\n      <td>l2</td>\n      <td>17</td>\n      <td>{'rfe__estimator__C': 0.1, 'rfe__estimator__pe...</td>\n      <td>0.875528</td>\n      <td>0.814318</td>\n      <td>0.884483</td>\n      <td>0.858110</td>\n      <td>0.031181</td>\n      <td>12</td>\n    </tr>\n    <tr>\n      <th>29</th>\n      <td>0.260665</td>\n      <td>0.031564</td>\n      <td>0.018667</td>\n      <td>2.624196e-03</td>\n      <td>0.1</td>\n      <td>l2</td>\n      <td>19</td>\n      <td>{'rfe__estimator__C': 0.1, 'rfe__estimator__pe...</td>\n      <td>0.876047</td>\n      <td>0.812519</td>\n      <td>0.884708</td>\n      <td>0.857758</td>\n      <td>0.032184</td>\n      <td>13</td>\n    </tr>\n    <tr>\n      <th>58</th>\n      <td>0.415333</td>\n      <td>0.060971</td>\n      <td>0.015668</td>\n      <td>4.721603e-04</td>\n      <td>1</td>\n      <td>l2</td>\n      <td>18</td>\n      <td>{'rfe__estimator__C': 1, 'rfe__estimator__pena...</td>\n      <td>0.874490</td>\n      <td>0.817841</td>\n      <td>0.879835</td>\n      <td>0.857389</td>\n      <td>0.028049</td>\n      <td>14</td>\n    </tr>\n    <tr>\n      <th>70</th>\n      <td>0.448333</td>\n      <td>0.045294</td>\n      <td>0.015001</td>\n      <td>8.160546e-04</td>\n      <td>10</td>\n      <td>None</td>\n      <td>15</td>\n      <td>{'rfe__estimator__C': 10, 'rfe__estimator__pen...</td>\n      <td>0.867742</td>\n      <td>0.822939</td>\n      <td>0.881409</td>\n      <td>0.857363</td>\n      <td>0.024973</td>\n      <td>15</td>\n    </tr>\n    <tr>\n      <th>40</th>\n      <td>0.367666</td>\n      <td>0.009177</td>\n      <td>0.014333</td>\n      <td>4.713710e-04</td>\n      <td>1</td>\n      <td>None</td>\n      <td>15</td>\n      <td>{'rfe__estimator__C': 1, 'rfe__estimator__pena...</td>\n      <td>0.867742</td>\n      <td>0.822939</td>\n      <td>0.881409</td>\n      <td>0.857363</td>\n      <td>0.024973</td>\n      <td>15</td>\n    </tr>\n    <tr>\n      <th>100</th>\n      <td>0.388332</td>\n      <td>0.031982</td>\n      <td>0.014000</td>\n      <td>8.159508e-04</td>\n      <td>100</td>\n      <td>None</td>\n      <td>15</td>\n      <td>{'rfe__estimator__C': 100, 'rfe__estimator__pe...</td>\n      <td>0.867742</td>\n      <td>0.822939</td>\n      <td>0.881409</td>\n      <td>0.857363</td>\n      <td>0.024973</td>\n      <td>15</td>\n    </tr>\n    <tr>\n      <th>10</th>\n      <td>0.389662</td>\n      <td>0.073086</td>\n      <td>0.019333</td>\n      <td>7.541869e-03</td>\n      <td>0.1</td>\n      <td>None</td>\n      <td>15</td>\n      <td>{'rfe__estimator__C': 0.1, 'rfe__estimator__pe...</td>\n      <td>0.867742</td>\n      <td>0.822939</td>\n      <td>0.881409</td>\n      <td>0.857363</td>\n      <td>0.024973</td>\n      <td>15</td>\n    </tr>\n    <tr>\n      <th>86</th>\n      <td>0.525666</td>\n      <td>0.080732</td>\n      <td>0.015335</td>\n      <td>1.884470e-03</td>\n      <td>10</td>\n      <td>l2</td>\n      <td>16</td>\n      <td>{'rfe__estimator__C': 10, 'rfe__estimator__pen...</td>\n      <td>0.871598</td>\n      <td>0.817616</td>\n      <td>0.881484</td>\n      <td>0.856900</td>\n      <td>0.028069</td>\n      <td>19</td>\n    </tr>\n    <tr>\n      <th>55</th>\n      <td>0.376333</td>\n      <td>0.010780</td>\n      <td>0.014001</td>\n      <td>6.257699e-07</td>\n      <td>1</td>\n      <td>l2</td>\n      <td>15</td>\n      <td>{'rfe__estimator__C': 1, 'rfe__estimator__pena...</td>\n      <td>0.874564</td>\n      <td>0.819640</td>\n      <td>0.876162</td>\n      <td>0.856789</td>\n      <td>0.026276</td>\n      <td>20</td>\n    </tr>\n    <tr>\n      <th>57</th>\n      <td>0.376668</td>\n      <td>0.035829</td>\n      <td>0.014999</td>\n      <td>8.168301e-04</td>\n      <td>1</td>\n      <td>l2</td>\n      <td>17</td>\n      <td>{'rfe__estimator__C': 1, 'rfe__estimator__pena...</td>\n      <td>0.873452</td>\n      <td>0.816792</td>\n      <td>0.879835</td>\n      <td>0.856693</td>\n      <td>0.028335</td>\n      <td>21</td>\n    </tr>\n    <tr>\n      <th>56</th>\n      <td>0.474999</td>\n      <td>0.073341</td>\n      <td>0.015666</td>\n      <td>9.425733e-04</td>\n      <td>1</td>\n      <td>l2</td>\n      <td>16</td>\n      <td>{'rfe__estimator__C': 1, 'rfe__estimator__pena...</td>\n      <td>0.874194</td>\n      <td>0.816042</td>\n      <td>0.879610</td>\n      <td>0.856615</td>\n      <td>0.028775</td>\n      <td>22</td>\n    </tr>\n    <tr>\n      <th>59</th>\n      <td>0.392001</td>\n      <td>0.076436</td>\n      <td>0.015334</td>\n      <td>1.886212e-03</td>\n      <td>1</td>\n      <td>l2</td>\n      <td>19</td>\n      <td>{'rfe__estimator__C': 1, 'rfe__estimator__pena...</td>\n      <td>0.874490</td>\n      <td>0.817691</td>\n      <td>0.877361</td>\n      <td>0.856514</td>\n      <td>0.027477</td>\n      <td>23</td>\n    </tr>\n    <tr>\n      <th>54</th>\n      <td>0.453335</td>\n      <td>0.051770</td>\n      <td>0.015666</td>\n      <td>1.700361e-03</td>\n      <td>1</td>\n      <td>l2</td>\n      <td>14</td>\n      <td>{'rfe__estimator__C': 1, 'rfe__estimator__pena...</td>\n      <td>0.877234</td>\n      <td>0.815892</td>\n      <td>0.876387</td>\n      <td>0.856504</td>\n      <td>0.028719</td>\n      <td>24</td>\n    </tr>\n    <tr>\n      <th>83</th>\n      <td>0.477999</td>\n      <td>0.019304</td>\n      <td>0.014001</td>\n      <td>8.155615e-04</td>\n      <td>10</td>\n      <td>l2</td>\n      <td>13</td>\n      <td>{'rfe__estimator__C': 10, 'rfe__estimator__pen...</td>\n      <td>0.871821</td>\n      <td>0.824888</td>\n      <td>0.872564</td>\n      <td>0.856424</td>\n      <td>0.022302</td>\n      <td>25</td>\n    </tr>\n    <tr>\n      <th>42</th>\n      <td>0.320332</td>\n      <td>0.019293</td>\n      <td>0.015334</td>\n      <td>9.424599e-04</td>\n      <td>1</td>\n      <td>None</td>\n      <td>17</td>\n      <td>{'rfe__estimator__C': 1, 'rfe__estimator__pena...</td>\n      <td>0.871079</td>\n      <td>0.817766</td>\n      <td>0.878561</td>\n      <td>0.855802</td>\n      <td>0.027068</td>\n      <td>26</td>\n    </tr>\n    <tr>\n      <th>102</th>\n      <td>0.362665</td>\n      <td>0.031115</td>\n      <td>0.014667</td>\n      <td>4.708104e-04</td>\n      <td>100</td>\n      <td>None</td>\n      <td>17</td>\n      <td>{'rfe__estimator__C': 100, 'rfe__estimator__pe...</td>\n      <td>0.871079</td>\n      <td>0.817766</td>\n      <td>0.878561</td>\n      <td>0.855802</td>\n      <td>0.027068</td>\n      <td>26</td>\n    </tr>\n    <tr>\n      <th>72</th>\n      <td>0.339332</td>\n      <td>0.026234</td>\n      <td>0.019001</td>\n      <td>6.377515e-03</td>\n      <td>10</td>\n      <td>None</td>\n      <td>17</td>\n      <td>{'rfe__estimator__C': 10, 'rfe__estimator__pen...</td>\n      <td>0.871079</td>\n      <td>0.817766</td>\n      <td>0.878561</td>\n      <td>0.855802</td>\n      <td>0.027068</td>\n      <td>26</td>\n    </tr>\n    <tr>\n      <th>12</th>\n      <td>0.374002</td>\n      <td>0.048299</td>\n      <td>0.015332</td>\n      <td>4.712594e-04</td>\n      <td>0.1</td>\n      <td>None</td>\n      <td>17</td>\n      <td>{'rfe__estimator__C': 0.1, 'rfe__estimator__pe...</td>\n      <td>0.871079</td>\n      <td>0.817766</td>\n      <td>0.878561</td>\n      <td>0.855802</td>\n      <td>0.027068</td>\n      <td>26</td>\n    </tr>\n    <tr>\n      <th>114</th>\n      <td>0.441665</td>\n      <td>0.125247</td>\n      <td>0.014001</td>\n      <td>8.167295e-04</td>\n      <td>100</td>\n      <td>l2</td>\n      <td>14</td>\n      <td>{'rfe__estimator__C': 100, 'rfe__estimator__pe...</td>\n      <td>0.867964</td>\n      <td>0.823088</td>\n      <td>0.876087</td>\n      <td>0.855713</td>\n      <td>0.023306</td>\n      <td>30</td>\n    </tr>\n    <tr>\n      <th>84</th>\n      <td>0.462665</td>\n      <td>0.007133</td>\n      <td>0.014334</td>\n      <td>4.710896e-04</td>\n      <td>10</td>\n      <td>l2</td>\n      <td>14</td>\n      <td>{'rfe__estimator__C': 10, 'rfe__estimator__pen...</td>\n      <td>0.868113</td>\n      <td>0.822564</td>\n      <td>0.876162</td>\n      <td>0.855613</td>\n      <td>0.023599</td>\n      <td>31</td>\n    </tr>\n    <tr>\n      <th>23</th>\n      <td>0.316335</td>\n      <td>0.035215</td>\n      <td>0.015665</td>\n      <td>4.723274e-04</td>\n      <td>0.1</td>\n      <td>l2</td>\n      <td>13</td>\n      <td>{'rfe__estimator__C': 0.1, 'rfe__estimator__pe...</td>\n      <td>0.869818</td>\n      <td>0.811844</td>\n      <td>0.885157</td>\n      <td>0.855607</td>\n      <td>0.031572</td>\n      <td>32</td>\n    </tr>\n    <tr>\n      <th>117</th>\n      <td>0.354002</td>\n      <td>0.048643</td>\n      <td>0.009998</td>\n      <td>2.160753e-03</td>\n      <td>100</td>\n      <td>l2</td>\n      <td>17</td>\n      <td>{'rfe__estimator__C': 100, 'rfe__estimator__pe...</td>\n      <td>0.871376</td>\n      <td>0.816792</td>\n      <td>0.878561</td>\n      <td>0.855576</td>\n      <td>0.027581</td>\n      <td>33</td>\n    </tr>\n  </tbody>\n</table>\n</div>"
     },
     "execution_count": 42,
     "metadata": {},
     "output_type": "execute_result"
    }
   ],
   "source": [
    "pd.DataFrame(lr_gs_poly.cv_results_).sort_values('rank_test_score').head(33)"
   ],
   "metadata": {
    "collapsed": false,
    "pycharm": {
     "name": "#%%\n"
    }
   }
  },
  {
   "cell_type": "markdown",
   "source": [
    "НИЧЕГО НЕ ПОЛУЧИЛОСЬ"
   ],
   "metadata": {
    "collapsed": false,
    "pycharm": {
     "name": "#%% md\n"
    }
   }
  },
  {
   "cell_type": "markdown",
   "source": [
    "### Метод опорных векторов"
   ],
   "metadata": {
    "collapsed": false,
    "pycharm": {
     "name": "#%% md\n"
    }
   }
  },
  {
   "cell_type": "markdown",
   "source": [
    "#### SVC"
   ],
   "metadata": {
    "collapsed": false,
    "pycharm": {
     "name": "#%% md\n"
    }
   }
  },
  {
   "cell_type": "code",
   "execution_count": 43,
   "outputs": [
    {
     "name": "stdout",
     "output_type": "stream",
     "text": [
      "CPU times: total: 3.84 s\n",
      "Wall time: 17.8 s\n"
     ]
    }
   ],
   "source": [
    "%%time\n",
    "num_ct = Pipeline(steps=[('imputer', IterativeImputer(random_state=123)),\n",
    "                         ('scaler', StandardScaler())])\n",
    "\n",
    "cat_ct = Pipeline(steps=[('imputer', SimpleImputer(strategy='most_frequent')),\n",
    "                         ('ohe', OneHotEncoder(drop='first'))])\n",
    "\n",
    "transformer = ColumnTransformer(transformers=[('nums', num_ct, selector(dtype_exclude=\"object\")),\n",
    "                                              ('cats', cat_ct, selector(dtype_include=\"object\"))],\n",
    "                                                    remainder='passthrough')\n",
    "\n",
    "# Параметр probability нужен, чтобы вернулись predict_proba. Это нужно для построения roc-auc и soft-voting\n",
    "svm_pipe = Pipeline(steps=[('transformer', transformer), ('estimator', SVC(random_state=123, probability=True))])\n",
    "\n",
    "params = {'transformer__nums__scaler': [StandardScaler(), MinMaxScaler()],\n",
    "          'estimator__C': range(1, 20),\n",
    "          'estimator__gamma': [i/10000 for i in range(10)]}\n",
    "\n",
    "gs_svm = GridSearchCV(svm_pipe, param_grid=params, scoring='roc_auc', cv=3, n_jobs=-1, refit=True)\n",
    "\n",
    "gs_svm.fit(x_train, y_train)\n",
    "# {'estimator__C': 9, 'estimator__gamma': 0.009\n",
    "svm_best = gs_svm.best_estimator_\n"
   ],
   "metadata": {
    "collapsed": false,
    "pycharm": {
     "name": "#%%\n"
    }
   }
  },
  {
   "cell_type": "code",
   "execution_count": 44,
   "outputs": [
    {
     "data": {
      "text/plain": "     mean_fit_time  std_fit_time  mean_score_time  std_score_time  \\\n319       0.135332      0.004028         0.028334        0.000471   \n379       0.123331      0.003771         0.016000        0.002450   \n299       0.140000      0.004082         0.030000        0.000817   \n357       0.134662      0.002500         0.029001        0.000817   \n375       0.149332      0.003771         0.030668        0.008178   \n..             ...           ...              ...             ...   \n261       0.132332      0.006343         0.035668        0.007319   \n260       0.126666      0.002493         0.031667        0.000472   \n80        0.124000      0.002450         0.039001        0.012028   \n300       0.125001      0.002829         0.031332        0.001886   \n0         0.152330      0.037968         0.033004        0.004242   \n\n    param_estimator__C param_estimator__gamma param_transformer__nums__scaler  \\\n319                 16                 0.0009                  MinMaxScaler()   \n379                 19                 0.0009                  MinMaxScaler()   \n299                 15                 0.0009                  MinMaxScaler()   \n357                 18                 0.0008                  MinMaxScaler()   \n375                 19                 0.0007                  MinMaxScaler()   \n..                 ...                    ...                             ...   \n261                 14                    0.0                  MinMaxScaler()   \n260                 14                    0.0                StandardScaler()   \n80                   5                    0.0                StandardScaler()   \n300                 16                    0.0                StandardScaler()   \n0                    1                    0.0                StandardScaler()   \n\n                                                params  split0_test_score  \\\n319  {'estimator__C': 16, 'estimator__gamma': 0.000...           0.860771   \n379  {'estimator__C': 19, 'estimator__gamma': 0.000...           0.860771   \n299  {'estimator__C': 15, 'estimator__gamma': 0.000...           0.859733   \n357  {'estimator__C': 18, 'estimator__gamma': 0.000...           0.860623   \n375  {'estimator__C': 19, 'estimator__gamma': 0.000...           0.859511   \n..                                                 ...                ...   \n261  {'estimator__C': 14, 'estimator__gamma': 0.0, ...           0.500000   \n260  {'estimator__C': 14, 'estimator__gamma': 0.0, ...           0.500000   \n80   {'estimator__C': 5, 'estimator__gamma': 0.0, '...           0.500000   \n300  {'estimator__C': 16, 'estimator__gamma': 0.0, ...           0.500000   \n0    {'estimator__C': 1, 'estimator__gamma': 0.0, '...           0.500000   \n\n     split1_test_score  split2_test_score  mean_test_score  std_test_score  \\\n319           0.799925           0.885157         0.848618        0.035841   \n379           0.798126           0.886882         0.848593        0.037244   \n299           0.800750           0.885232         0.848572        0.035381   \n357           0.799775           0.885157         0.848518        0.035893   \n375           0.800750           0.885232         0.848498        0.035358   \n..                 ...                ...              ...             ...   \n261           0.500000           0.500000         0.500000        0.000000   \n260           0.500000           0.500000         0.500000        0.000000   \n80            0.500000           0.500000         0.500000        0.000000   \n300           0.500000           0.500000         0.500000        0.000000   \n0             0.500000           0.500000         0.500000        0.000000   \n\n     rank_test_score  \n319                1  \n379                2  \n299                3  \n357                4  \n375                5  \n..               ...  \n261              343  \n260              343  \n80               343  \n300              343  \n0                343  \n\n[380 rows x 14 columns]",
      "text/html": "<div>\n<style scoped>\n    .dataframe tbody tr th:only-of-type {\n        vertical-align: middle;\n    }\n\n    .dataframe tbody tr th {\n        vertical-align: top;\n    }\n\n    .dataframe thead th {\n        text-align: right;\n    }\n</style>\n<table border=\"1\" class=\"dataframe\">\n  <thead>\n    <tr style=\"text-align: right;\">\n      <th></th>\n      <th>mean_fit_time</th>\n      <th>std_fit_time</th>\n      <th>mean_score_time</th>\n      <th>std_score_time</th>\n      <th>param_estimator__C</th>\n      <th>param_estimator__gamma</th>\n      <th>param_transformer__nums__scaler</th>\n      <th>params</th>\n      <th>split0_test_score</th>\n      <th>split1_test_score</th>\n      <th>split2_test_score</th>\n      <th>mean_test_score</th>\n      <th>std_test_score</th>\n      <th>rank_test_score</th>\n    </tr>\n  </thead>\n  <tbody>\n    <tr>\n      <th>319</th>\n      <td>0.135332</td>\n      <td>0.004028</td>\n      <td>0.028334</td>\n      <td>0.000471</td>\n      <td>16</td>\n      <td>0.0009</td>\n      <td>MinMaxScaler()</td>\n      <td>{'estimator__C': 16, 'estimator__gamma': 0.000...</td>\n      <td>0.860771</td>\n      <td>0.799925</td>\n      <td>0.885157</td>\n      <td>0.848618</td>\n      <td>0.035841</td>\n      <td>1</td>\n    </tr>\n    <tr>\n      <th>379</th>\n      <td>0.123331</td>\n      <td>0.003771</td>\n      <td>0.016000</td>\n      <td>0.002450</td>\n      <td>19</td>\n      <td>0.0009</td>\n      <td>MinMaxScaler()</td>\n      <td>{'estimator__C': 19, 'estimator__gamma': 0.000...</td>\n      <td>0.860771</td>\n      <td>0.798126</td>\n      <td>0.886882</td>\n      <td>0.848593</td>\n      <td>0.037244</td>\n      <td>2</td>\n    </tr>\n    <tr>\n      <th>299</th>\n      <td>0.140000</td>\n      <td>0.004082</td>\n      <td>0.030000</td>\n      <td>0.000817</td>\n      <td>15</td>\n      <td>0.0009</td>\n      <td>MinMaxScaler()</td>\n      <td>{'estimator__C': 15, 'estimator__gamma': 0.000...</td>\n      <td>0.859733</td>\n      <td>0.800750</td>\n      <td>0.885232</td>\n      <td>0.848572</td>\n      <td>0.035381</td>\n      <td>3</td>\n    </tr>\n    <tr>\n      <th>357</th>\n      <td>0.134662</td>\n      <td>0.002500</td>\n      <td>0.029001</td>\n      <td>0.000817</td>\n      <td>18</td>\n      <td>0.0008</td>\n      <td>MinMaxScaler()</td>\n      <td>{'estimator__C': 18, 'estimator__gamma': 0.000...</td>\n      <td>0.860623</td>\n      <td>0.799775</td>\n      <td>0.885157</td>\n      <td>0.848518</td>\n      <td>0.035893</td>\n      <td>4</td>\n    </tr>\n    <tr>\n      <th>375</th>\n      <td>0.149332</td>\n      <td>0.003771</td>\n      <td>0.030668</td>\n      <td>0.008178</td>\n      <td>19</td>\n      <td>0.0007</td>\n      <td>MinMaxScaler()</td>\n      <td>{'estimator__C': 19, 'estimator__gamma': 0.000...</td>\n      <td>0.859511</td>\n      <td>0.800750</td>\n      <td>0.885232</td>\n      <td>0.848498</td>\n      <td>0.035358</td>\n      <td>5</td>\n    </tr>\n    <tr>\n      <th>...</th>\n      <td>...</td>\n      <td>...</td>\n      <td>...</td>\n      <td>...</td>\n      <td>...</td>\n      <td>...</td>\n      <td>...</td>\n      <td>...</td>\n      <td>...</td>\n      <td>...</td>\n      <td>...</td>\n      <td>...</td>\n      <td>...</td>\n      <td>...</td>\n    </tr>\n    <tr>\n      <th>261</th>\n      <td>0.132332</td>\n      <td>0.006343</td>\n      <td>0.035668</td>\n      <td>0.007319</td>\n      <td>14</td>\n      <td>0.0</td>\n      <td>MinMaxScaler()</td>\n      <td>{'estimator__C': 14, 'estimator__gamma': 0.0, ...</td>\n      <td>0.500000</td>\n      <td>0.500000</td>\n      <td>0.500000</td>\n      <td>0.500000</td>\n      <td>0.000000</td>\n      <td>343</td>\n    </tr>\n    <tr>\n      <th>260</th>\n      <td>0.126666</td>\n      <td>0.002493</td>\n      <td>0.031667</td>\n      <td>0.000472</td>\n      <td>14</td>\n      <td>0.0</td>\n      <td>StandardScaler()</td>\n      <td>{'estimator__C': 14, 'estimator__gamma': 0.0, ...</td>\n      <td>0.500000</td>\n      <td>0.500000</td>\n      <td>0.500000</td>\n      <td>0.500000</td>\n      <td>0.000000</td>\n      <td>343</td>\n    </tr>\n    <tr>\n      <th>80</th>\n      <td>0.124000</td>\n      <td>0.002450</td>\n      <td>0.039001</td>\n      <td>0.012028</td>\n      <td>5</td>\n      <td>0.0</td>\n      <td>StandardScaler()</td>\n      <td>{'estimator__C': 5, 'estimator__gamma': 0.0, '...</td>\n      <td>0.500000</td>\n      <td>0.500000</td>\n      <td>0.500000</td>\n      <td>0.500000</td>\n      <td>0.000000</td>\n      <td>343</td>\n    </tr>\n    <tr>\n      <th>300</th>\n      <td>0.125001</td>\n      <td>0.002829</td>\n      <td>0.031332</td>\n      <td>0.001886</td>\n      <td>16</td>\n      <td>0.0</td>\n      <td>StandardScaler()</td>\n      <td>{'estimator__C': 16, 'estimator__gamma': 0.0, ...</td>\n      <td>0.500000</td>\n      <td>0.500000</td>\n      <td>0.500000</td>\n      <td>0.500000</td>\n      <td>0.000000</td>\n      <td>343</td>\n    </tr>\n    <tr>\n      <th>0</th>\n      <td>0.152330</td>\n      <td>0.037968</td>\n      <td>0.033004</td>\n      <td>0.004242</td>\n      <td>1</td>\n      <td>0.0</td>\n      <td>StandardScaler()</td>\n      <td>{'estimator__C': 1, 'estimator__gamma': 0.0, '...</td>\n      <td>0.500000</td>\n      <td>0.500000</td>\n      <td>0.500000</td>\n      <td>0.500000</td>\n      <td>0.000000</td>\n      <td>343</td>\n    </tr>\n  </tbody>\n</table>\n<p>380 rows × 14 columns</p>\n</div>"
     },
     "metadata": {},
     "output_type": "display_data"
    },
    {
     "name": "stdout",
     "output_type": "stream",
     "text": [
      "параметры: {'estimator__C': 16, 'estimator__gamma': 0.0009, 'transformer__nums__scaler': MinMaxScaler()} \n",
      "roc-auc: 0.8486\n"
     ]
    }
   ],
   "source": [
    "display(pd.DataFrame(gs_svm.cv_results_).sort_values('rank_test_score'))\n",
    "print(f'параметры: {pd.DataFrame(gs_svm.cv_results_).sort_values(\"rank_test_score\").head(1)[\"params\"].values[0]}',\n",
    "      f'\\nroc-auc: {pd.DataFrame(gs_svm.cv_results_).sort_values(\"rank_test_score\").head(1)[\"mean_test_score\"].values[0]:.4f}')"
   ],
   "metadata": {
    "collapsed": false,
    "pycharm": {
     "name": "#%%\n"
    }
   }
  },
  {
   "cell_type": "markdown",
   "source": [
    "#### LinearSVC"
   ],
   "metadata": {
    "collapsed": false,
    "pycharm": {
     "name": "#%% md\n"
    }
   }
  },
  {
   "cell_type": "code",
   "execution_count": 45,
   "outputs": [
    {
     "name": "stdout",
     "output_type": "stream",
     "text": [
      "CPU times: total: 1.81 s\n",
      "Wall time: 5.22 s\n"
     ]
    }
   ],
   "source": [
    "%%time\n",
    "num_ct = Pipeline(steps=[('imputer', IterativeImputer(random_state=123)),\n",
    "                         ('scaler', StandardScaler())])\n",
    "\n",
    "cat_ct = Pipeline(steps=[('imputer', SimpleImputer(strategy='most_frequent')),\n",
    "                         ('ohe', OneHotEncoder(drop='first'))])\n",
    "\n",
    "transformer = ColumnTransformer(transformers=[('nums', num_ct, selector(dtype_exclude=\"object\")),\n",
    "                                              ('cats', cat_ct, selector(dtype_include=\"object\"))],\n",
    "                                                    remainder='passthrough')\n",
    "\n",
    "\n",
    "svm_pipe = Pipeline(steps=[('transformer', transformer), ('estimator', LinearSVC(max_iter=100000, random_state=123))])\n",
    "\n",
    "params = {'transformer__nums__scaler': [StandardScaler(), MinMaxScaler()],\n",
    "          'estimator__C': [2*i/100 for i in range(1, 100)]}\n",
    "\n",
    "gs_lsvm = GridSearchCV(svm_pipe, param_grid=params, scoring='roc_auc', cv=3, n_jobs=-1, refit=True, error_score='raise')\n",
    "gs_lsvm.fit(x_train, y_train);\n",
    "lsvm_best = gs_lsvm.best_estimator_"
   ],
   "metadata": {
    "collapsed": false,
    "pycharm": {
     "name": "#%%\n"
    }
   }
  },
  {
   "cell_type": "code",
   "execution_count": 46,
   "outputs": [
    {
     "data": {
      "text/plain": "     mean_fit_time  std_fit_time  mean_score_time  std_score_time  \\\n189       0.060999      0.001414         0.013001        0.001414   \n191       0.064664      0.005436         0.013668        0.001701   \n187       0.066340      0.007132         0.012662        0.000467   \n183       0.070334      0.008993         0.018332        0.002495   \n185       0.061333      0.001248         0.017001        0.003266   \n..             ...           ...              ...             ...   \n9         0.053672      0.001251         0.013662        0.000468   \n7         0.065328      0.003395         0.012667        0.000943   \n5         0.055333      0.002345         0.014996        0.002832   \n3         0.059666      0.004644         0.012666        0.000944   \n1         0.054002      0.002945         0.013666        0.000944   \n\n    param_estimator__C param_transformer__nums__scaler  \\\n189                1.9                  MinMaxScaler()   \n191               1.92                  MinMaxScaler()   \n187               1.88                  MinMaxScaler()   \n183               1.84                  MinMaxScaler()   \n185               1.86                  MinMaxScaler()   \n..                 ...                             ...   \n9                  0.1                  MinMaxScaler()   \n7                 0.08                  MinMaxScaler()   \n5                 0.06                  MinMaxScaler()   \n3                 0.04                  MinMaxScaler()   \n1                 0.02                  MinMaxScaler()   \n\n                                                params  split0_test_score  \\\n189  {'estimator__C': 1.9, 'transformer__nums__scal...           0.871376   \n191  {'estimator__C': 1.92, 'transformer__nums__sca...           0.871301   \n187  {'estimator__C': 1.88, 'transformer__nums__sca...           0.871301   \n183  {'estimator__C': 1.84, 'transformer__nums__sca...           0.871301   \n185  {'estimator__C': 1.86, 'transformer__nums__sca...           0.871301   \n..                                                 ...                ...   \n9    {'estimator__C': 0.1, 'transformer__nums__scal...           0.868113   \n7    {'estimator__C': 0.08, 'transformer__nums__sca...           0.866926   \n5    {'estimator__C': 0.06, 'transformer__nums__sca...           0.865369   \n3    {'estimator__C': 0.04, 'transformer__nums__sca...           0.863515   \n1    {'estimator__C': 0.02, 'transformer__nums__sca...           0.860178   \n\n     split1_test_score  split2_test_score  mean_test_score  std_test_score  \\\n189           0.810495           0.884258         0.855376        0.032169   \n191           0.810495           0.884258         0.855351        0.032156   \n187           0.810495           0.884258         0.855351        0.032156   \n183           0.810420           0.884258         0.855326        0.032191   \n185           0.810420           0.884258         0.855326        0.032191   \n..                 ...                ...              ...             ...   \n9             0.805172           0.880435         0.851240        0.032961   \n7             0.804498           0.880735         0.850720        0.033166   \n5             0.804573           0.880660         0.850200        0.032862   \n3             0.804198           0.879835         0.849183        0.032499   \n1             0.801424           0.880435         0.847346        0.033508   \n\n     rank_test_score  \n189                1  \n191                2  \n187                2  \n183                4  \n185                4  \n..               ...  \n9                194  \n7                195  \n5                196  \n3                197  \n1                198  \n\n[198 rows x 13 columns]",
      "text/html": "<div>\n<style scoped>\n    .dataframe tbody tr th:only-of-type {\n        vertical-align: middle;\n    }\n\n    .dataframe tbody tr th {\n        vertical-align: top;\n    }\n\n    .dataframe thead th {\n        text-align: right;\n    }\n</style>\n<table border=\"1\" class=\"dataframe\">\n  <thead>\n    <tr style=\"text-align: right;\">\n      <th></th>\n      <th>mean_fit_time</th>\n      <th>std_fit_time</th>\n      <th>mean_score_time</th>\n      <th>std_score_time</th>\n      <th>param_estimator__C</th>\n      <th>param_transformer__nums__scaler</th>\n      <th>params</th>\n      <th>split0_test_score</th>\n      <th>split1_test_score</th>\n      <th>split2_test_score</th>\n      <th>mean_test_score</th>\n      <th>std_test_score</th>\n      <th>rank_test_score</th>\n    </tr>\n  </thead>\n  <tbody>\n    <tr>\n      <th>189</th>\n      <td>0.060999</td>\n      <td>0.001414</td>\n      <td>0.013001</td>\n      <td>0.001414</td>\n      <td>1.9</td>\n      <td>MinMaxScaler()</td>\n      <td>{'estimator__C': 1.9, 'transformer__nums__scal...</td>\n      <td>0.871376</td>\n      <td>0.810495</td>\n      <td>0.884258</td>\n      <td>0.855376</td>\n      <td>0.032169</td>\n      <td>1</td>\n    </tr>\n    <tr>\n      <th>191</th>\n      <td>0.064664</td>\n      <td>0.005436</td>\n      <td>0.013668</td>\n      <td>0.001701</td>\n      <td>1.92</td>\n      <td>MinMaxScaler()</td>\n      <td>{'estimator__C': 1.92, 'transformer__nums__sca...</td>\n      <td>0.871301</td>\n      <td>0.810495</td>\n      <td>0.884258</td>\n      <td>0.855351</td>\n      <td>0.032156</td>\n      <td>2</td>\n    </tr>\n    <tr>\n      <th>187</th>\n      <td>0.066340</td>\n      <td>0.007132</td>\n      <td>0.012662</td>\n      <td>0.000467</td>\n      <td>1.88</td>\n      <td>MinMaxScaler()</td>\n      <td>{'estimator__C': 1.88, 'transformer__nums__sca...</td>\n      <td>0.871301</td>\n      <td>0.810495</td>\n      <td>0.884258</td>\n      <td>0.855351</td>\n      <td>0.032156</td>\n      <td>2</td>\n    </tr>\n    <tr>\n      <th>183</th>\n      <td>0.070334</td>\n      <td>0.008993</td>\n      <td>0.018332</td>\n      <td>0.002495</td>\n      <td>1.84</td>\n      <td>MinMaxScaler()</td>\n      <td>{'estimator__C': 1.84, 'transformer__nums__sca...</td>\n      <td>0.871301</td>\n      <td>0.810420</td>\n      <td>0.884258</td>\n      <td>0.855326</td>\n      <td>0.032191</td>\n      <td>4</td>\n    </tr>\n    <tr>\n      <th>185</th>\n      <td>0.061333</td>\n      <td>0.001248</td>\n      <td>0.017001</td>\n      <td>0.003266</td>\n      <td>1.86</td>\n      <td>MinMaxScaler()</td>\n      <td>{'estimator__C': 1.86, 'transformer__nums__sca...</td>\n      <td>0.871301</td>\n      <td>0.810420</td>\n      <td>0.884258</td>\n      <td>0.855326</td>\n      <td>0.032191</td>\n      <td>4</td>\n    </tr>\n    <tr>\n      <th>...</th>\n      <td>...</td>\n      <td>...</td>\n      <td>...</td>\n      <td>...</td>\n      <td>...</td>\n      <td>...</td>\n      <td>...</td>\n      <td>...</td>\n      <td>...</td>\n      <td>...</td>\n      <td>...</td>\n      <td>...</td>\n      <td>...</td>\n    </tr>\n    <tr>\n      <th>9</th>\n      <td>0.053672</td>\n      <td>0.001251</td>\n      <td>0.013662</td>\n      <td>0.000468</td>\n      <td>0.1</td>\n      <td>MinMaxScaler()</td>\n      <td>{'estimator__C': 0.1, 'transformer__nums__scal...</td>\n      <td>0.868113</td>\n      <td>0.805172</td>\n      <td>0.880435</td>\n      <td>0.851240</td>\n      <td>0.032961</td>\n      <td>194</td>\n    </tr>\n    <tr>\n      <th>7</th>\n      <td>0.065328</td>\n      <td>0.003395</td>\n      <td>0.012667</td>\n      <td>0.000943</td>\n      <td>0.08</td>\n      <td>MinMaxScaler()</td>\n      <td>{'estimator__C': 0.08, 'transformer__nums__sca...</td>\n      <td>0.866926</td>\n      <td>0.804498</td>\n      <td>0.880735</td>\n      <td>0.850720</td>\n      <td>0.033166</td>\n      <td>195</td>\n    </tr>\n    <tr>\n      <th>5</th>\n      <td>0.055333</td>\n      <td>0.002345</td>\n      <td>0.014996</td>\n      <td>0.002832</td>\n      <td>0.06</td>\n      <td>MinMaxScaler()</td>\n      <td>{'estimator__C': 0.06, 'transformer__nums__sca...</td>\n      <td>0.865369</td>\n      <td>0.804573</td>\n      <td>0.880660</td>\n      <td>0.850200</td>\n      <td>0.032862</td>\n      <td>196</td>\n    </tr>\n    <tr>\n      <th>3</th>\n      <td>0.059666</td>\n      <td>0.004644</td>\n      <td>0.012666</td>\n      <td>0.000944</td>\n      <td>0.04</td>\n      <td>MinMaxScaler()</td>\n      <td>{'estimator__C': 0.04, 'transformer__nums__sca...</td>\n      <td>0.863515</td>\n      <td>0.804198</td>\n      <td>0.879835</td>\n      <td>0.849183</td>\n      <td>0.032499</td>\n      <td>197</td>\n    </tr>\n    <tr>\n      <th>1</th>\n      <td>0.054002</td>\n      <td>0.002945</td>\n      <td>0.013666</td>\n      <td>0.000944</td>\n      <td>0.02</td>\n      <td>MinMaxScaler()</td>\n      <td>{'estimator__C': 0.02, 'transformer__nums__sca...</td>\n      <td>0.860178</td>\n      <td>0.801424</td>\n      <td>0.880435</td>\n      <td>0.847346</td>\n      <td>0.033508</td>\n      <td>198</td>\n    </tr>\n  </tbody>\n</table>\n<p>198 rows × 13 columns</p>\n</div>"
     },
     "metadata": {},
     "output_type": "display_data"
    },
    {
     "name": "stdout",
     "output_type": "stream",
     "text": [
      "параметры: {'estimator__C': 1.9, 'transformer__nums__scaler': MinMaxScaler()} \n",
      "roc-auc: 0.8554\n"
     ]
    }
   ],
   "source": [
    "display(pd.DataFrame(gs_lsvm.cv_results_).sort_values('rank_test_score'))\n",
    "print(f'параметры: {pd.DataFrame(gs_lsvm.cv_results_).sort_values(\"rank_test_score\").head(1)[\"params\"].values[0]}',\n",
    "      f'\\nroc-auc: {pd.DataFrame(gs_lsvm.cv_results_).sort_values(\"rank_test_score\").head(1)[\"mean_test_score\"].values[0]:.4f}')"
   ],
   "metadata": {
    "collapsed": false,
    "pycharm": {
     "name": "#%%\n"
    }
   }
  },
  {
   "cell_type": "markdown",
   "source": [
    "## Наивный Байес"
   ],
   "metadata": {
    "collapsed": false,
    "pycharm": {
     "name": "#%% md\n"
    }
   }
  },
  {
   "cell_type": "code",
   "execution_count": 47,
   "outputs": [
    {
     "name": "stdout",
     "output_type": "stream",
     "text": [
      "CPU times: total: 125 ms\n",
      "Wall time: 292 ms\n"
     ]
    }
   ],
   "source": [
    "%%time\n",
    "num_ct = Pipeline(steps=[('imputer', IterativeImputer(random_state=123)),\n",
    "                         ('scaler', MinMaxScaler())])\n",
    "\n",
    "cat_ct = Pipeline(steps=[('imputer', SimpleImputer(strategy='most_frequent')),\n",
    "                         ('ohe', OneHotEncoder(drop='first'))])\n",
    "\n",
    "transformer_poly = ColumnTransformer(transformers=[('nums', num_ct, selector(dtype_exclude=\"object\")),\n",
    "                                                   ('cats', cat_ct, selector(dtype_include=\"object\"))],\n",
    "                                                    remainder='passthrough')\n",
    "\n",
    "bayes_pipe = Pipeline(steps=[('transformer', transformer_poly), ('estimator', BernoulliNB())])\n",
    "\n",
    "params = [{'estimator': [BernoulliNB(), CategoricalNB(), ComplementNB()],\n",
    "           'estimator__alpha': [0.1, 1, 10]},\n",
    "\n",
    "          {'estimator': [GaussianNB()]}\n",
    "         ]\n",
    "\n",
    "gs_bayes = GridSearchCV(bayes_pipe, param_grid=params, scoring='roc_auc', cv=3, n_jobs=-1)\n",
    "\n",
    "gs_bayes.fit(x_train, y_train);"
   ],
   "metadata": {
    "collapsed": false,
    "pycharm": {
     "name": "#%%\n"
    }
   }
  },
  {
   "cell_type": "code",
   "execution_count": 48,
   "outputs": [
    {
     "data": {
      "text/plain": "   mean_fit_time  std_fit_time  mean_score_time  std_score_time  \\\n7       0.064665      0.006181         0.013665        0.001248   \n6       0.066003      0.013733         0.013665        0.000472   \n8       0.052664      0.002624         0.011667        0.001247   \n9       0.048331      0.003398         0.010332        0.001245   \n0       0.053998      0.000814         0.016000        0.000817   \n1       0.057336      0.002629         0.015330        0.001244   \n4       0.070333      0.005436         0.021334        0.005249   \n3       0.066332      0.003298         0.027666        0.020039   \n5       0.056667      0.002494         0.014334        0.001884   \n2       0.055666      0.002053         0.015667        0.001700   \n\n         param_estimator param_estimator__alpha  \\\n7  ComplementNB(alpha=1)                      1   \n6  ComplementNB(alpha=1)                    0.1   \n8  ComplementNB(alpha=1)                     10   \n9           GaussianNB()                    NaN   \n0          BernoulliNB()                    0.1   \n1          BernoulliNB()                      1   \n4        CategoricalNB()                      1   \n3        CategoricalNB()                    0.1   \n5        CategoricalNB()                     10   \n2          BernoulliNB()                     10   \n\n                                              params  split0_test_score  \\\n7  {'estimator': ComplementNB(alpha=1), 'estimato...           0.840971   \n6  {'estimator': ComplementNB(alpha=1), 'estimato...           0.841194   \n8  {'estimator': ComplementNB(alpha=1), 'estimato...           0.838895   \n9                        {'estimator': GaussianNB()}           0.826585   \n0  {'estimator': BernoulliNB(), 'estimator__alpha...           0.828105   \n1  {'estimator': BernoulliNB(), 'estimator__alpha...           0.827364   \n4  {'estimator': CategoricalNB(), 'estimator__alp...           0.824064   \n3  {'estimator': CategoricalNB(), 'estimator__alp...           0.825102   \n5  {'estimator': CategoricalNB(), 'estimator__alp...           0.823322   \n2  {'estimator': BernoulliNB(), 'estimator__alpha...           0.824842   \n\n   split1_test_score  split2_test_score  mean_test_score  std_test_score  \\\n7           0.787481           0.867766         0.832073        0.033375   \n6           0.787931           0.865892         0.831672        0.032532   \n8           0.784858           0.868216         0.830656        0.034526   \n9           0.796777           0.860720         0.828027        0.026125   \n0           0.776537           0.854648         0.819763        0.032430   \n1           0.773838           0.856897         0.819366        0.034377   \n4           0.778636           0.854835         0.819178        0.031300   \n3           0.780735           0.850937         0.818925        0.028991   \n5           0.777211           0.854835         0.818456        0.031876   \n2           0.771514           0.856447         0.817601        0.035050   \n\n   rank_test_score  \n7                1  \n6                2  \n8                3  \n9                4  \n0                5  \n1                6  \n4                7  \n3                8  \n5                9  \n2               10  ",
      "text/html": "<div>\n<style scoped>\n    .dataframe tbody tr th:only-of-type {\n        vertical-align: middle;\n    }\n\n    .dataframe tbody tr th {\n        vertical-align: top;\n    }\n\n    .dataframe thead th {\n        text-align: right;\n    }\n</style>\n<table border=\"1\" class=\"dataframe\">\n  <thead>\n    <tr style=\"text-align: right;\">\n      <th></th>\n      <th>mean_fit_time</th>\n      <th>std_fit_time</th>\n      <th>mean_score_time</th>\n      <th>std_score_time</th>\n      <th>param_estimator</th>\n      <th>param_estimator__alpha</th>\n      <th>params</th>\n      <th>split0_test_score</th>\n      <th>split1_test_score</th>\n      <th>split2_test_score</th>\n      <th>mean_test_score</th>\n      <th>std_test_score</th>\n      <th>rank_test_score</th>\n    </tr>\n  </thead>\n  <tbody>\n    <tr>\n      <th>7</th>\n      <td>0.064665</td>\n      <td>0.006181</td>\n      <td>0.013665</td>\n      <td>0.001248</td>\n      <td>ComplementNB(alpha=1)</td>\n      <td>1</td>\n      <td>{'estimator': ComplementNB(alpha=1), 'estimato...</td>\n      <td>0.840971</td>\n      <td>0.787481</td>\n      <td>0.867766</td>\n      <td>0.832073</td>\n      <td>0.033375</td>\n      <td>1</td>\n    </tr>\n    <tr>\n      <th>6</th>\n      <td>0.066003</td>\n      <td>0.013733</td>\n      <td>0.013665</td>\n      <td>0.000472</td>\n      <td>ComplementNB(alpha=1)</td>\n      <td>0.1</td>\n      <td>{'estimator': ComplementNB(alpha=1), 'estimato...</td>\n      <td>0.841194</td>\n      <td>0.787931</td>\n      <td>0.865892</td>\n      <td>0.831672</td>\n      <td>0.032532</td>\n      <td>2</td>\n    </tr>\n    <tr>\n      <th>8</th>\n      <td>0.052664</td>\n      <td>0.002624</td>\n      <td>0.011667</td>\n      <td>0.001247</td>\n      <td>ComplementNB(alpha=1)</td>\n      <td>10</td>\n      <td>{'estimator': ComplementNB(alpha=1), 'estimato...</td>\n      <td>0.838895</td>\n      <td>0.784858</td>\n      <td>0.868216</td>\n      <td>0.830656</td>\n      <td>0.034526</td>\n      <td>3</td>\n    </tr>\n    <tr>\n      <th>9</th>\n      <td>0.048331</td>\n      <td>0.003398</td>\n      <td>0.010332</td>\n      <td>0.001245</td>\n      <td>GaussianNB()</td>\n      <td>NaN</td>\n      <td>{'estimator': GaussianNB()}</td>\n      <td>0.826585</td>\n      <td>0.796777</td>\n      <td>0.860720</td>\n      <td>0.828027</td>\n      <td>0.026125</td>\n      <td>4</td>\n    </tr>\n    <tr>\n      <th>0</th>\n      <td>0.053998</td>\n      <td>0.000814</td>\n      <td>0.016000</td>\n      <td>0.000817</td>\n      <td>BernoulliNB()</td>\n      <td>0.1</td>\n      <td>{'estimator': BernoulliNB(), 'estimator__alpha...</td>\n      <td>0.828105</td>\n      <td>0.776537</td>\n      <td>0.854648</td>\n      <td>0.819763</td>\n      <td>0.032430</td>\n      <td>5</td>\n    </tr>\n    <tr>\n      <th>1</th>\n      <td>0.057336</td>\n      <td>0.002629</td>\n      <td>0.015330</td>\n      <td>0.001244</td>\n      <td>BernoulliNB()</td>\n      <td>1</td>\n      <td>{'estimator': BernoulliNB(), 'estimator__alpha...</td>\n      <td>0.827364</td>\n      <td>0.773838</td>\n      <td>0.856897</td>\n      <td>0.819366</td>\n      <td>0.034377</td>\n      <td>6</td>\n    </tr>\n    <tr>\n      <th>4</th>\n      <td>0.070333</td>\n      <td>0.005436</td>\n      <td>0.021334</td>\n      <td>0.005249</td>\n      <td>CategoricalNB()</td>\n      <td>1</td>\n      <td>{'estimator': CategoricalNB(), 'estimator__alp...</td>\n      <td>0.824064</td>\n      <td>0.778636</td>\n      <td>0.854835</td>\n      <td>0.819178</td>\n      <td>0.031300</td>\n      <td>7</td>\n    </tr>\n    <tr>\n      <th>3</th>\n      <td>0.066332</td>\n      <td>0.003298</td>\n      <td>0.027666</td>\n      <td>0.020039</td>\n      <td>CategoricalNB()</td>\n      <td>0.1</td>\n      <td>{'estimator': CategoricalNB(), 'estimator__alp...</td>\n      <td>0.825102</td>\n      <td>0.780735</td>\n      <td>0.850937</td>\n      <td>0.818925</td>\n      <td>0.028991</td>\n      <td>8</td>\n    </tr>\n    <tr>\n      <th>5</th>\n      <td>0.056667</td>\n      <td>0.002494</td>\n      <td>0.014334</td>\n      <td>0.001884</td>\n      <td>CategoricalNB()</td>\n      <td>10</td>\n      <td>{'estimator': CategoricalNB(), 'estimator__alp...</td>\n      <td>0.823322</td>\n      <td>0.777211</td>\n      <td>0.854835</td>\n      <td>0.818456</td>\n      <td>0.031876</td>\n      <td>9</td>\n    </tr>\n    <tr>\n      <th>2</th>\n      <td>0.055666</td>\n      <td>0.002053</td>\n      <td>0.015667</td>\n      <td>0.001700</td>\n      <td>BernoulliNB()</td>\n      <td>10</td>\n      <td>{'estimator': BernoulliNB(), 'estimator__alpha...</td>\n      <td>0.824842</td>\n      <td>0.771514</td>\n      <td>0.856447</td>\n      <td>0.817601</td>\n      <td>0.035050</td>\n      <td>10</td>\n    </tr>\n  </tbody>\n</table>\n</div>"
     },
     "metadata": {},
     "output_type": "display_data"
    },
    {
     "name": "stdout",
     "output_type": "stream",
     "text": [
      "параметры: {'estimator': ComplementNB(alpha=1), 'estimator__alpha': 1} \n",
      "roc-auc: 0.8321\n"
     ]
    }
   ],
   "source": [
    "display(pd.DataFrame(gs_bayes.cv_results_).sort_values('rank_test_score'))\n",
    "print(f'параметры: {pd.DataFrame(gs_bayes.cv_results_).sort_values(\"rank_test_score\").head(1)[\"params\"].values[0]}',\n",
    "      f'\\nroc-auc: {pd.DataFrame(gs_bayes.cv_results_).sort_values(\"rank_test_score\").head(1)[\"mean_test_score\"].values[0]:.4f}')"
   ],
   "metadata": {
    "collapsed": false,
    "pycharm": {
     "name": "#%%\n"
    }
   }
  },
  {
   "cell_type": "markdown",
   "source": [
    "## Деревянные модели"
   ],
   "metadata": {
    "collapsed": false,
    "pycharm": {
     "name": "#%% md\n"
    }
   }
  },
  {
   "cell_type": "markdown",
   "source": [
    "### Дерево решений"
   ],
   "metadata": {
    "collapsed": false,
    "pycharm": {
     "name": "#%% md\n"
    }
   }
  },
  {
   "cell_type": "code",
   "execution_count": 49,
   "outputs": [
    {
     "name": "stdout",
     "output_type": "stream",
     "text": [
      "CPU times: total: 7.55 s\n",
      "Wall time: 18 s\n"
     ]
    },
    {
     "name": "stderr",
     "output_type": "stream",
     "text": [
      "C:\\work_and_fun\\partisans\\PP\\mistakes-and-regrets\\lib\\site-packages\\sklearn\\model_selection\\_validation.py:378: FitFailedWarning: \n",
      "1458 fits failed out of a total of 2916.\n",
      "The score on these train-test partitions for these parameters will be set to nan.\n",
      "If these failures are not expected, you can try to debug them by setting error_score='raise'.\n",
      "\n",
      "Below are more details about the failures:\n",
      "--------------------------------------------------------------------------------\n",
      "1458 fits failed with the following error:\n",
      "Traceback (most recent call last):\n",
      "  File \"C:\\work_and_fun\\partisans\\PP\\mistakes-and-regrets\\lib\\site-packages\\sklearn\\model_selection\\_validation.py\", line 686, in _fit_and_score\n",
      "    estimator.fit(X_train, y_train, **fit_params)\n",
      "  File \"C:\\work_and_fun\\partisans\\PP\\mistakes-and-regrets\\lib\\site-packages\\sklearn\\pipeline.py\", line 401, in fit\n",
      "    Xt = self._fit(X, y, **fit_params_steps)\n",
      "  File \"C:\\work_and_fun\\partisans\\PP\\mistakes-and-regrets\\lib\\site-packages\\sklearn\\pipeline.py\", line 359, in _fit\n",
      "    X, fitted_transformer = fit_transform_one_cached(\n",
      "  File \"C:\\work_and_fun\\partisans\\PP\\mistakes-and-regrets\\lib\\site-packages\\joblib\\memory.py\", line 349, in __call__\n",
      "    return self.func(*args, **kwargs)\n",
      "  File \"C:\\work_and_fun\\partisans\\PP\\mistakes-and-regrets\\lib\\site-packages\\sklearn\\pipeline.py\", line 893, in _fit_transform_one\n",
      "    res = transformer.fit_transform(X, y, **fit_params)\n",
      "  File \"C:\\work_and_fun\\partisans\\PP\\mistakes-and-regrets\\lib\\site-packages\\sklearn\\utils\\_set_output.py\", line 140, in wrapped\n",
      "    data_to_wrap = f(self, X, *args, **kwargs)\n",
      "  File \"C:\\work_and_fun\\partisans\\PP\\mistakes-and-regrets\\lib\\site-packages\\sklearn\\compose\\_column_transformer.py\", line 727, in fit_transform\n",
      "    result = self._fit_transform(X, y, _fit_transform_one)\n",
      "  File \"C:\\work_and_fun\\partisans\\PP\\mistakes-and-regrets\\lib\\site-packages\\sklearn\\compose\\_column_transformer.py\", line 658, in _fit_transform\n",
      "    return Parallel(n_jobs=self.n_jobs)(\n",
      "  File \"C:\\work_and_fun\\partisans\\PP\\mistakes-and-regrets\\lib\\site-packages\\sklearn\\utils\\parallel.py\", line 63, in __call__\n",
      "    return super().__call__(iterable_with_config)\n",
      "  File \"C:\\work_and_fun\\partisans\\PP\\mistakes-and-regrets\\lib\\site-packages\\joblib\\parallel.py\", line 1088, in __call__\n",
      "    while self.dispatch_one_batch(iterator):\n",
      "  File \"C:\\work_and_fun\\partisans\\PP\\mistakes-and-regrets\\lib\\site-packages\\joblib\\parallel.py\", line 901, in dispatch_one_batch\n",
      "    self._dispatch(tasks)\n",
      "  File \"C:\\work_and_fun\\partisans\\PP\\mistakes-and-regrets\\lib\\site-packages\\joblib\\parallel.py\", line 819, in _dispatch\n",
      "    job = self._backend.apply_async(batch, callback=cb)\n",
      "  File \"C:\\work_and_fun\\partisans\\PP\\mistakes-and-regrets\\lib\\site-packages\\joblib\\_parallel_backends.py\", line 208, in apply_async\n",
      "    result = ImmediateResult(func)\n",
      "  File \"C:\\work_and_fun\\partisans\\PP\\mistakes-and-regrets\\lib\\site-packages\\joblib\\_parallel_backends.py\", line 597, in __init__\n",
      "    self.results = batch()\n",
      "  File \"C:\\work_and_fun\\partisans\\PP\\mistakes-and-regrets\\lib\\site-packages\\joblib\\parallel.py\", line 288, in __call__\n",
      "    return [func(*args, **kwargs)\n",
      "  File \"C:\\work_and_fun\\partisans\\PP\\mistakes-and-regrets\\lib\\site-packages\\joblib\\parallel.py\", line 288, in <listcomp>\n",
      "    return [func(*args, **kwargs)\n",
      "  File \"C:\\work_and_fun\\partisans\\PP\\mistakes-and-regrets\\lib\\site-packages\\sklearn\\utils\\parallel.py\", line 123, in __call__\n",
      "    return self.function(*args, **kwargs)\n",
      "  File \"C:\\work_and_fun\\partisans\\PP\\mistakes-and-regrets\\lib\\site-packages\\sklearn\\pipeline.py\", line 893, in _fit_transform_one\n",
      "    res = transformer.fit_transform(X, y, **fit_params)\n",
      "  File \"C:\\work_and_fun\\partisans\\PP\\mistakes-and-regrets\\lib\\site-packages\\sklearn\\pipeline.py\", line 445, in fit_transform\n",
      "    return last_step.fit_transform(Xt, y, **fit_params_last_step)\n",
      "  File \"C:\\work_and_fun\\partisans\\PP\\mistakes-and-regrets\\lib\\site-packages\\sklearn\\utils\\_set_output.py\", line 140, in wrapped\n",
      "    data_to_wrap = f(self, X, *args, **kwargs)\n",
      "TypeError: fit_transform() takes 2 positional arguments but 3 were given\n",
      "\n",
      "  warnings.warn(some_fits_failed_message, FitFailedWarning)\n",
      "C:\\work_and_fun\\partisans\\PP\\mistakes-and-regrets\\lib\\site-packages\\sklearn\\model_selection\\_search.py:952: UserWarning: One or more of the test scores are non-finite: [0.80833992        nan 0.80833992        nan 0.80833992        nan\n",
      " 0.80833992        nan 0.80833992        nan 0.80833992        nan\n",
      " 0.80833992        nan 0.80833992        nan 0.80833992        nan\n",
      " 0.80833992        nan 0.80833992        nan 0.80833992        nan\n",
      " 0.80833992        nan 0.80833992        nan 0.80833992        nan\n",
      " 0.80833992        nan 0.80833992        nan 0.80833992        nan\n",
      " 0.80833992        nan 0.80833992        nan 0.80833992        nan\n",
      " 0.80833992        nan 0.80833992        nan 0.80833992        nan\n",
      " 0.80833992        nan 0.80833992        nan 0.80833992        nan\n",
      " 0.80833992        nan 0.80833992        nan 0.80833992        nan\n",
      " 0.80833992        nan 0.80833992        nan 0.80833992        nan\n",
      " 0.80833992        nan 0.80833992        nan 0.80833992        nan\n",
      " 0.80833992        nan 0.80833992        nan 0.80833992        nan\n",
      " 0.80833992        nan 0.80833992        nan 0.80833992        nan\n",
      " 0.80833992        nan 0.80833992        nan 0.80833992        nan\n",
      " 0.80833992        nan 0.80833992        nan 0.80833992        nan\n",
      " 0.80833992        nan 0.80833992        nan 0.80833992        nan\n",
      " 0.80833992        nan 0.80833992        nan 0.80833992        nan\n",
      " 0.80833992        nan 0.80833992        nan 0.80833992        nan\n",
      " 0.80833992        nan 0.80833992        nan 0.80833992        nan\n",
      " 0.80833992        nan 0.80833992        nan 0.80833992        nan\n",
      " 0.80833992        nan 0.80833992        nan 0.80833992        nan\n",
      " 0.80833992        nan 0.80833992        nan 0.80833992        nan\n",
      " 0.80833992        nan 0.80833992        nan 0.80833992        nan\n",
      " 0.80833992        nan 0.80833992        nan 0.80833992        nan\n",
      " 0.80833992        nan 0.80833992        nan 0.80833992        nan\n",
      " 0.80833992        nan 0.80833992        nan 0.80833992        nan\n",
      " 0.81636749        nan 0.81636749        nan 0.81636749        nan\n",
      " 0.81636749        nan 0.81636749        nan 0.81636749        nan\n",
      " 0.81636749        nan 0.81636749        nan 0.81636749        nan\n",
      " 0.81711711        nan 0.81711711        nan 0.81711711        nan\n",
      " 0.81711711        nan 0.81711711        nan 0.81711711        nan\n",
      " 0.81711711        nan 0.81711711        nan 0.81711711        nan\n",
      " 0.80457755        nan 0.80457755        nan 0.80457755        nan\n",
      " 0.80457755        nan 0.80457755        nan 0.80457755        nan\n",
      " 0.80457755        nan 0.80457755        nan 0.80457755        nan\n",
      " 0.80412777        nan 0.80412777        nan 0.80412777        nan\n",
      " 0.80412777        nan 0.80412777        nan 0.80412777        nan\n",
      " 0.80412777        nan 0.80412777        nan 0.80412777        nan\n",
      " 0.79498235        nan 0.79498235        nan 0.79498235        nan\n",
      " 0.79498235        nan 0.79498235        nan 0.79498235        nan\n",
      " 0.79498235        nan 0.79498235        nan 0.79498235        nan\n",
      " 0.79422023        nan 0.79422023        nan 0.79422023        nan\n",
      " 0.79422023        nan 0.79422023        nan 0.79422023        nan\n",
      " 0.79422023        nan 0.79422023        nan 0.79422023        nan\n",
      " 0.79684392        nan 0.79684392        nan 0.79684392        nan\n",
      " 0.79684392        nan 0.79684392        nan 0.79684392        nan\n",
      " 0.79684392        nan 0.79684392        nan 0.79684392        nan\n",
      " 0.79684392        nan 0.79684392        nan 0.79684392        nan\n",
      " 0.79684392        nan 0.79684392        nan 0.79684392        nan\n",
      " 0.79684392        nan 0.79684392        nan 0.79684392        nan\n",
      " 0.80077166        nan 0.80077166        nan 0.80077166        nan\n",
      " 0.80077166        nan 0.80077166        nan 0.80077166        nan\n",
      " 0.80077166        nan 0.80077166        nan 0.80077166        nan\n",
      " 0.83075962        nan 0.83075962        nan 0.83075962        nan\n",
      " 0.83075962        nan 0.83075962        nan 0.82753623        nan\n",
      " 0.82753623        nan 0.82753623        nan 0.826999          nan\n",
      " 0.82318679        nan 0.82318679        nan 0.82318679        nan\n",
      " 0.82318679        nan 0.82318679        nan 0.82318679        nan\n",
      " 0.82318679        nan 0.82318679        nan 0.82268704        nan\n",
      " 0.80884141        nan 0.80884141        nan 0.80884141        nan\n",
      " 0.80884141        nan 0.80884141        nan 0.80884141        nan\n",
      " 0.80884141        nan 0.80884141        nan 0.80884141        nan\n",
      " 0.81247871        nan 0.81247871        nan 0.81247871        nan\n",
      " 0.81247871        nan 0.81247871        nan 0.81247871        nan\n",
      " 0.81247871        nan 0.81247871        nan 0.81247871        nan\n",
      " 0.81095447        nan 0.81095447        nan 0.81095447        nan\n",
      " 0.81095447        nan 0.81095447        nan 0.81095447        nan\n",
      " 0.81095447        nan 0.81095447        nan 0.81095447        nan\n",
      " 0.80969542        nan 0.80969542        nan 0.80969542        nan\n",
      " 0.80969542        nan 0.80969542        nan 0.80969542        nan\n",
      " 0.80969542        nan 0.80969542        nan 0.80969542        nan\n",
      " 0.81159743        nan 0.81159743        nan 0.81159743        nan\n",
      " 0.81159743        nan 0.81159743        nan 0.81159743        nan\n",
      " 0.81159743        nan 0.81159743        nan 0.81159743        nan\n",
      " 0.82220744        nan 0.82220744        nan 0.82220744        nan\n",
      " 0.82220744        nan 0.82220744        nan 0.82220744        nan\n",
      " 0.82220744        nan 0.82220744        nan 0.82220744        nan\n",
      " 0.82274468        nan 0.82274468        nan 0.82274468        nan\n",
      " 0.82274468        nan 0.82274468        nan 0.82274468        nan\n",
      " 0.82274468        nan 0.82274468        nan 0.82274468        nan\n",
      " 0.83945917        nan 0.83945917        nan 0.83945917        nan\n",
      " 0.83945917        nan 0.83945917        nan 0.83392188        nan\n",
      " 0.83685792        nan 0.83685792        nan 0.83665802        nan\n",
      " 0.83109735        nan 0.83109735        nan 0.83109735        nan\n",
      " 0.83109735        nan 0.83109735        nan 0.83109735        nan\n",
      " 0.83109735        nan 0.83109735        nan 0.83022279        nan\n",
      " 0.82318935        nan 0.82318935        nan 0.82318935        nan\n",
      " 0.82318935        nan 0.82318935        nan 0.82318935        nan\n",
      " 0.82318935        nan 0.82318935        nan 0.82318935        nan\n",
      " 0.82511432        nan 0.82511432        nan 0.82511432        nan\n",
      " 0.82511432        nan 0.82511432        nan 0.82511432        nan\n",
      " 0.82511432        nan 0.82511432        nan 0.82511432        nan\n",
      " 0.82752938        nan 0.82752938        nan 0.82752938        nan\n",
      " 0.82752938        nan 0.82752938        nan 0.82752938        nan\n",
      " 0.82752938        nan 0.82752938        nan 0.82752938        nan\n",
      " 0.82750184        nan 0.82750184        nan 0.82750184        nan\n",
      " 0.82750184        nan 0.82750184        nan 0.82750184        nan\n",
      " 0.82750184        nan 0.82750184        nan 0.82750184        nan\n",
      " 0.81838315        nan 0.81838315        nan 0.81838315        nan\n",
      " 0.81838315        nan 0.81838315        nan 0.81838315        nan\n",
      " 0.81838315        nan 0.81838315        nan 0.81838315        nan\n",
      " 0.82264217        nan 0.82264217        nan 0.82264217        nan\n",
      " 0.82264217        nan 0.82264217        nan 0.82264217        nan\n",
      " 0.82264217        nan 0.82264217        nan 0.82264217        nan\n",
      " 0.82747202        nan 0.82747202        nan 0.82747202        nan\n",
      " 0.82747202        nan 0.82747202        nan 0.82747202        nan\n",
      " 0.82747202        nan 0.82747202        nan 0.82747202        nan\n",
      " 0.81761391        nan 0.81761391        nan 0.81761391        nan\n",
      " 0.81761391        nan 0.81761391        nan 0.82534378        nan\n",
      " 0.8249245         nan 0.82583654        nan 0.82458717        nan\n",
      " 0.8348792         nan 0.8348792         nan 0.8348792         nan\n",
      " 0.8348792         nan 0.8348792         nan 0.8348792         nan\n",
      " 0.8348792         nan 0.8348792         nan 0.83405461        nan\n",
      " 0.81250732        nan 0.81250732        nan 0.81250732        nan\n",
      " 0.81250732        nan 0.81250732        nan 0.81250732        nan\n",
      " 0.81250732        nan 0.81250732        nan 0.81250732        nan\n",
      " 0.81569377        nan 0.81569377        nan 0.81569377        nan\n",
      " 0.81569377        nan 0.81569377        nan 0.81569377        nan\n",
      " 0.81569377        nan 0.81569377        nan 0.81569377        nan\n",
      " 0.83029278        nan 0.83029278        nan 0.83029278        nan\n",
      " 0.83029278        nan 0.83029278        nan 0.83029278        nan\n",
      " 0.83029278        nan 0.83029278        nan 0.83029278        nan\n",
      " 0.82565854        nan 0.82565854        nan 0.82565854        nan\n",
      " 0.82565854        nan 0.82565854        nan 0.82565854        nan\n",
      " 0.82565854        nan 0.82565854        nan 0.82565854        nan\n",
      " 0.820434          nan 0.820434          nan 0.820434          nan\n",
      " 0.820434          nan 0.820434          nan 0.820434          nan\n",
      " 0.820434          nan 0.820434          nan 0.820434          nan\n",
      " 0.8213263         nan 0.8213263         nan 0.8213263         nan\n",
      " 0.8213263         nan 0.8213263         nan 0.8213263         nan\n",
      " 0.8213263         nan 0.8213263         nan 0.8213263         nan\n",
      " 0.82212509        nan 0.82212509        nan 0.82212509        nan\n",
      " 0.82212509        nan 0.82212509        nan 0.82212509        nan\n",
      " 0.82212509        nan 0.82212509        nan 0.82212509        nan\n",
      " 0.81327052        nan 0.81327052        nan 0.81327052        nan\n",
      " 0.81327052        nan 0.81327052        nan 0.81232005        nan\n",
      " 0.81551267        nan 0.81932569        nan 0.81763903        nan\n",
      " 0.82391345        nan 0.82391345        nan 0.82391345        nan\n",
      " 0.82391345        nan 0.82391345        nan 0.82391345        nan\n",
      " 0.82391345        nan 0.82391345        nan 0.82844868        nan\n",
      " 0.81210376        nan 0.81210376        nan 0.81210376        nan\n",
      " 0.81210376        nan 0.81210376        nan 0.81210376        nan\n",
      " 0.81210376        nan 0.81210376        nan 0.81210376        nan\n",
      " 0.81442934        nan 0.81442934        nan 0.81442934        nan\n",
      " 0.81442934        nan 0.81442934        nan 0.81442934        nan\n",
      " 0.81442934        nan 0.81442934        nan 0.81442934        nan\n",
      " 0.82692363        nan 0.82692363        nan 0.82692363        nan\n",
      " 0.82692363        nan 0.82692363        nan 0.82692363        nan\n",
      " 0.82692363        nan 0.82692363        nan 0.82692363        nan\n",
      " 0.82704602        nan 0.82704602        nan 0.82704602        nan\n",
      " 0.82704602        nan 0.82704602        nan 0.82704602        nan\n",
      " 0.82704602        nan 0.82704602        nan 0.82704602        nan\n",
      " 0.81378813        nan 0.81378813        nan 0.81378813        nan\n",
      " 0.81378813        nan 0.81378813        nan 0.81378813        nan\n",
      " 0.81378813        nan 0.81378813        nan 0.81378813        nan\n",
      " 0.82086403        nan 0.82086403        nan 0.82086403        nan\n",
      " 0.82086403        nan 0.82086403        nan 0.82086403        nan\n",
      " 0.82086403        nan 0.82086403        nan 0.82086403        nan\n",
      " 0.82138796        nan 0.82138796        nan 0.82138796        nan\n",
      " 0.82138796        nan 0.82138796        nan 0.82138796        nan\n",
      " 0.82138796        nan 0.82138796        nan 0.82138796        nan]\n",
      "  warnings.warn(\n"
     ]
    }
   ],
   "source": [
    "%%time\n",
    "num_ct = Pipeline(steps=[('imputer', IterativeImputer(random_state=123))])\n",
    "\n",
    "cat_ct = Pipeline(steps=[('imputer', SimpleImputer(strategy='most_frequent')),\n",
    "                         ('encoder', OneHotEncoder(drop='first'))])\n",
    "\n",
    "transformer = ColumnTransformer(transformers=[('nums', num_ct, selector(dtype_exclude=\"object\")),\n",
    "                                                   ('cats', cat_ct, selector(dtype_include=\"object\"))],\n",
    "                                                    remainder='passthrough')\n",
    "\n",
    "tree_pipe = Pipeline(steps=[('transformer', transformer), ('clf', DecisionTreeClassifier(random_state=123))])\n",
    "\n",
    "tree_params = {'transformer__cats__encoder': [OneHotEncoder(drop='first'), LabelEncoder()],\n",
    "               'clf__max_depth': [2, 3, 4, 5, 7, 9],\n",
    "               'clf__min_samples_split': [2, 3, 4, 5, 6, 8, 9, 10, 11],\n",
    "               'clf__min_samples_leaf': [3, 5, 8, 9, 10, 11, 12, 14, 16]}\n",
    "\n",
    "tree_gs = GridSearchCV(tree_pipe, param_grid=tree_params, scoring='roc_auc', cv=3, n_jobs=-1)\n",
    "tree_gs.fit(x_train, y_train);\n",
    "tree_best = tree_gs.best_estimator_"
   ],
   "metadata": {
    "collapsed": false,
    "pycharm": {
     "name": "#%%\n"
    }
   }
  },
  {
   "cell_type": "code",
   "execution_count": 50,
   "outputs": [
    {
     "data": {
      "text/plain": "     mean_fit_time  std_fit_time  mean_score_time  std_score_time  \\\n494       0.062667      0.009427         0.013334        0.000472   \n492       0.068667      0.008956         0.016000        0.002828   \n490       0.057000      0.002450         0.016000        0.002159   \n488       0.052333      0.000471         0.012333        0.000471   \n486       0.056000      0.002160         0.016333        0.002054   \n..             ...           ...              ...             ...   \n435       0.049666      0.003091         0.000000        0.000000   \n437       0.055000      0.007071         0.000000        0.000000   \n439       0.049000      0.001633         0.000000        0.000000   \n403       0.050333      0.001249         0.000000        0.000000   \n971       0.034664      0.003092         0.000000        0.000000   \n\n    param_clf__max_depth param_clf__min_samples_leaf  \\\n494                    5                           3   \n492                    5                           3   \n490                    5                           3   \n488                    5                           3   \n486                    5                           3   \n..                   ...                         ...   \n435                    4                          12   \n437                    4                          12   \n439                    4                          12   \n403                    4                          10   \n971                    9                          16   \n\n    param_clf__min_samples_split param_transformer__cats__encoder  \\\n494                            6      OneHotEncoder(drop='first')   \n492                            5      OneHotEncoder(drop='first')   \n490                            4      OneHotEncoder(drop='first')   \n488                            3      OneHotEncoder(drop='first')   \n486                            2      OneHotEncoder(drop='first')   \n..                           ...                              ...   \n435                            3                   LabelEncoder()   \n437                            4                   LabelEncoder()   \n439                            5                   LabelEncoder()   \n403                            5                   LabelEncoder()   \n971                           11                   LabelEncoder()   \n\n                                                params  split0_test_score  \\\n494  {'clf__max_depth': 5, 'clf__min_samples_leaf':...           0.881683   \n492  {'clf__max_depth': 5, 'clf__min_samples_leaf':...           0.881683   \n490  {'clf__max_depth': 5, 'clf__min_samples_leaf':...           0.881683   \n488  {'clf__max_depth': 5, 'clf__min_samples_leaf':...           0.881683   \n486  {'clf__max_depth': 5, 'clf__min_samples_leaf':...           0.881683   \n..                                                 ...                ...   \n435  {'clf__max_depth': 4, 'clf__min_samples_leaf':...                NaN   \n437  {'clf__max_depth': 4, 'clf__min_samples_leaf':...                NaN   \n439  {'clf__max_depth': 4, 'clf__min_samples_leaf':...                NaN   \n403  {'clf__max_depth': 4, 'clf__min_samples_leaf':...                NaN   \n971  {'clf__max_depth': 9, 'clf__min_samples_leaf':...                NaN   \n\n     split1_test_score  split2_test_score  mean_test_score  std_test_score  \\\n494           0.799438           0.837256         0.839459        0.033613   \n492           0.799438           0.837256         0.839459        0.033613   \n490           0.799438           0.837256         0.839459        0.033613   \n488           0.799438           0.837256         0.839459        0.033613   \n486           0.799438           0.837256         0.839459        0.033613   \n..                 ...                ...              ...             ...   \n435                NaN                NaN              NaN             NaN   \n437                NaN                NaN              NaN             NaN   \n439                NaN                NaN              NaN             NaN   \n403                NaN                NaN              NaN             NaN   \n971                NaN                NaN              NaN             NaN   \n\n     rank_test_score  \n494                1  \n492                1  \n490                1  \n488                1  \n486                1  \n..               ...  \n435              487  \n437              487  \n439              487  \n403              487  \n971              487  \n\n[972 rows x 15 columns]",
      "text/html": "<div>\n<style scoped>\n    .dataframe tbody tr th:only-of-type {\n        vertical-align: middle;\n    }\n\n    .dataframe tbody tr th {\n        vertical-align: top;\n    }\n\n    .dataframe thead th {\n        text-align: right;\n    }\n</style>\n<table border=\"1\" class=\"dataframe\">\n  <thead>\n    <tr style=\"text-align: right;\">\n      <th></th>\n      <th>mean_fit_time</th>\n      <th>std_fit_time</th>\n      <th>mean_score_time</th>\n      <th>std_score_time</th>\n      <th>param_clf__max_depth</th>\n      <th>param_clf__min_samples_leaf</th>\n      <th>param_clf__min_samples_split</th>\n      <th>param_transformer__cats__encoder</th>\n      <th>params</th>\n      <th>split0_test_score</th>\n      <th>split1_test_score</th>\n      <th>split2_test_score</th>\n      <th>mean_test_score</th>\n      <th>std_test_score</th>\n      <th>rank_test_score</th>\n    </tr>\n  </thead>\n  <tbody>\n    <tr>\n      <th>494</th>\n      <td>0.062667</td>\n      <td>0.009427</td>\n      <td>0.013334</td>\n      <td>0.000472</td>\n      <td>5</td>\n      <td>3</td>\n      <td>6</td>\n      <td>OneHotEncoder(drop='first')</td>\n      <td>{'clf__max_depth': 5, 'clf__min_samples_leaf':...</td>\n      <td>0.881683</td>\n      <td>0.799438</td>\n      <td>0.837256</td>\n      <td>0.839459</td>\n      <td>0.033613</td>\n      <td>1</td>\n    </tr>\n    <tr>\n      <th>492</th>\n      <td>0.068667</td>\n      <td>0.008956</td>\n      <td>0.016000</td>\n      <td>0.002828</td>\n      <td>5</td>\n      <td>3</td>\n      <td>5</td>\n      <td>OneHotEncoder(drop='first')</td>\n      <td>{'clf__max_depth': 5, 'clf__min_samples_leaf':...</td>\n      <td>0.881683</td>\n      <td>0.799438</td>\n      <td>0.837256</td>\n      <td>0.839459</td>\n      <td>0.033613</td>\n      <td>1</td>\n    </tr>\n    <tr>\n      <th>490</th>\n      <td>0.057000</td>\n      <td>0.002450</td>\n      <td>0.016000</td>\n      <td>0.002159</td>\n      <td>5</td>\n      <td>3</td>\n      <td>4</td>\n      <td>OneHotEncoder(drop='first')</td>\n      <td>{'clf__max_depth': 5, 'clf__min_samples_leaf':...</td>\n      <td>0.881683</td>\n      <td>0.799438</td>\n      <td>0.837256</td>\n      <td>0.839459</td>\n      <td>0.033613</td>\n      <td>1</td>\n    </tr>\n    <tr>\n      <th>488</th>\n      <td>0.052333</td>\n      <td>0.000471</td>\n      <td>0.012333</td>\n      <td>0.000471</td>\n      <td>5</td>\n      <td>3</td>\n      <td>3</td>\n      <td>OneHotEncoder(drop='first')</td>\n      <td>{'clf__max_depth': 5, 'clf__min_samples_leaf':...</td>\n      <td>0.881683</td>\n      <td>0.799438</td>\n      <td>0.837256</td>\n      <td>0.839459</td>\n      <td>0.033613</td>\n      <td>1</td>\n    </tr>\n    <tr>\n      <th>486</th>\n      <td>0.056000</td>\n      <td>0.002160</td>\n      <td>0.016333</td>\n      <td>0.002054</td>\n      <td>5</td>\n      <td>3</td>\n      <td>2</td>\n      <td>OneHotEncoder(drop='first')</td>\n      <td>{'clf__max_depth': 5, 'clf__min_samples_leaf':...</td>\n      <td>0.881683</td>\n      <td>0.799438</td>\n      <td>0.837256</td>\n      <td>0.839459</td>\n      <td>0.033613</td>\n      <td>1</td>\n    </tr>\n    <tr>\n      <th>...</th>\n      <td>...</td>\n      <td>...</td>\n      <td>...</td>\n      <td>...</td>\n      <td>...</td>\n      <td>...</td>\n      <td>...</td>\n      <td>...</td>\n      <td>...</td>\n      <td>...</td>\n      <td>...</td>\n      <td>...</td>\n      <td>...</td>\n      <td>...</td>\n      <td>...</td>\n    </tr>\n    <tr>\n      <th>435</th>\n      <td>0.049666</td>\n      <td>0.003091</td>\n      <td>0.000000</td>\n      <td>0.000000</td>\n      <td>4</td>\n      <td>12</td>\n      <td>3</td>\n      <td>LabelEncoder()</td>\n      <td>{'clf__max_depth': 4, 'clf__min_samples_leaf':...</td>\n      <td>NaN</td>\n      <td>NaN</td>\n      <td>NaN</td>\n      <td>NaN</td>\n      <td>NaN</td>\n      <td>487</td>\n    </tr>\n    <tr>\n      <th>437</th>\n      <td>0.055000</td>\n      <td>0.007071</td>\n      <td>0.000000</td>\n      <td>0.000000</td>\n      <td>4</td>\n      <td>12</td>\n      <td>4</td>\n      <td>LabelEncoder()</td>\n      <td>{'clf__max_depth': 4, 'clf__min_samples_leaf':...</td>\n      <td>NaN</td>\n      <td>NaN</td>\n      <td>NaN</td>\n      <td>NaN</td>\n      <td>NaN</td>\n      <td>487</td>\n    </tr>\n    <tr>\n      <th>439</th>\n      <td>0.049000</td>\n      <td>0.001633</td>\n      <td>0.000000</td>\n      <td>0.000000</td>\n      <td>4</td>\n      <td>12</td>\n      <td>5</td>\n      <td>LabelEncoder()</td>\n      <td>{'clf__max_depth': 4, 'clf__min_samples_leaf':...</td>\n      <td>NaN</td>\n      <td>NaN</td>\n      <td>NaN</td>\n      <td>NaN</td>\n      <td>NaN</td>\n      <td>487</td>\n    </tr>\n    <tr>\n      <th>403</th>\n      <td>0.050333</td>\n      <td>0.001249</td>\n      <td>0.000000</td>\n      <td>0.000000</td>\n      <td>4</td>\n      <td>10</td>\n      <td>5</td>\n      <td>LabelEncoder()</td>\n      <td>{'clf__max_depth': 4, 'clf__min_samples_leaf':...</td>\n      <td>NaN</td>\n      <td>NaN</td>\n      <td>NaN</td>\n      <td>NaN</td>\n      <td>NaN</td>\n      <td>487</td>\n    </tr>\n    <tr>\n      <th>971</th>\n      <td>0.034664</td>\n      <td>0.003092</td>\n      <td>0.000000</td>\n      <td>0.000000</td>\n      <td>9</td>\n      <td>16</td>\n      <td>11</td>\n      <td>LabelEncoder()</td>\n      <td>{'clf__max_depth': 9, 'clf__min_samples_leaf':...</td>\n      <td>NaN</td>\n      <td>NaN</td>\n      <td>NaN</td>\n      <td>NaN</td>\n      <td>NaN</td>\n      <td>487</td>\n    </tr>\n  </tbody>\n</table>\n<p>972 rows × 15 columns</p>\n</div>"
     },
     "metadata": {},
     "output_type": "display_data"
    },
    {
     "name": "stdout",
     "output_type": "stream",
     "text": [
      "параметры: {'clf__max_depth': 5, 'clf__min_samples_leaf': 3, 'clf__min_samples_split': 6, 'transformer__cats__encoder': OneHotEncoder(drop='first')} \n",
      "roc-auc: 0.8395\n"
     ]
    }
   ],
   "source": [
    "display(pd.DataFrame(tree_gs.cv_results_).sort_values('rank_test_score'))\n",
    "print(f'параметры: {pd.DataFrame(tree_gs.cv_results_).sort_values(\"rank_test_score\").head(1)[\"params\"].values[0]}',\n",
    "      f'\\nroc-auc: {pd.DataFrame(tree_gs.cv_results_).sort_values(\"rank_test_score\").head(1)[\"mean_test_score\"].values[0]:.4f}')"
   ],
   "metadata": {
    "collapsed": false,
    "pycharm": {
     "name": "#%%\n"
    }
   }
  },
  {
   "cell_type": "markdown",
   "source": [
    "### Случайный лес"
   ],
   "metadata": {
    "collapsed": false,
    "pycharm": {
     "name": "#%% md\n"
    }
   }
  },
  {
   "cell_type": "code",
   "execution_count": 51,
   "outputs": [
    {
     "name": "stdout",
     "output_type": "stream",
     "text": [
      "CPU times: total: 8.67 s\n",
      "Wall time: 30.8 s\n"
     ]
    }
   ],
   "source": [
    "%%time\n",
    "num_ct = Pipeline(steps=[('imputer', IterativeImputer(random_state=123))])\n",
    "\n",
    "cat_ct = Pipeline(steps=[('imputer', SimpleImputer(strategy='most_frequent')),\n",
    "                         ('encoder', OneHotEncoder(drop='first'))])\n",
    "\n",
    "transformer = ColumnTransformer(transformers=[('nums', num_ct, selector(dtype_exclude=\"object\")),\n",
    "                                              ('cats', cat_ct, selector(dtype_include=\"object\"))],\n",
    "                                                remainder='passthrough')\n",
    "\n",
    "rf_pipe = Pipeline(steps=[('transformer', transformer), ('clf', RandomForestClassifier(random_state=123))])\n",
    "\n",
    "rf_params = {'clf__n_estimators': [10, 15, 20, 25, 30],\n",
    "             'clf__max_depth': [5, 6, 7, 8, 9],\n",
    "             'clf__min_samples_split': [2, 3, 4, 5, 6],\n",
    "             'clf__min_samples_leaf': [2, 3, 4, 5, 6, 7, 8]}\n",
    "\n",
    "rf_gs = GridSearchCV(rf_pipe, param_grid=rf_params, scoring='roc_auc', cv=3, n_jobs=-1, refit=True)\n",
    "rf_gs.fit(x_train, y_train);\n",
    "rf_best = rf_gs.best_estimator_"
   ],
   "metadata": {
    "collapsed": false,
    "pycharm": {
     "name": "#%%\n"
    }
   }
  },
  {
   "cell_type": "code",
   "execution_count": 52,
   "outputs": [
    {
     "data": {
      "text/plain": "     mean_fit_time  std_fit_time  mean_score_time  std_score_time  \\\n461       0.098644      0.000910         0.016309        0.000438   \n456       0.100334      0.009105         0.018333        0.002624   \n471       0.105667      0.006182         0.017000        0.000817   \n451       0.110667      0.012499         0.017000        0.000816   \n466       0.112507      0.010413         0.017000        0.000816   \n..             ...           ...              ...             ...   \n508       0.134999      0.008043         0.018668        0.000942   \n503       0.128863      0.005177         0.018334        0.000471   \n700       0.091333      0.011086         0.016000        0.000816   \n705       0.094333      0.017461         0.015666        0.000943   \n710       0.085667      0.005735         0.015333        0.000471   \n\n    param_clf__max_depth param_clf__min_samples_leaf  \\\n461                    7                           6   \n456                    7                           6   \n471                    7                           6   \n451                    7                           6   \n466                    7                           6   \n..                   ...                         ...   \n508                    7                           8   \n503                    7                           8   \n700                    9                           2   \n705                    9                           2   \n710                    9                           2   \n\n    param_clf__min_samples_split param_clf__n_estimators  \\\n461                            4                      15   \n456                            3                      15   \n471                            6                      15   \n451                            2                      15   \n466                            5                      15   \n..                           ...                     ...   \n508                            3                      25   \n503                            2                      25   \n700                            2                      10   \n705                            3                      10   \n710                            4                      10   \n\n                                                params  split0_test_score  \\\n461  {'clf__max_depth': 7, 'clf__min_samples_leaf':...           0.875603   \n456  {'clf__max_depth': 7, 'clf__min_samples_leaf':...           0.875603   \n471  {'clf__max_depth': 7, 'clf__min_samples_leaf':...           0.875603   \n451  {'clf__max_depth': 7, 'clf__min_samples_leaf':...           0.875603   \n466  {'clf__max_depth': 7, 'clf__min_samples_leaf':...           0.875603   \n..                                                 ...                ...   \n508  {'clf__max_depth': 7, 'clf__min_samples_leaf':...           0.853541   \n503  {'clf__max_depth': 7, 'clf__min_samples_leaf':...           0.853541   \n700  {'clf__max_depth': 9, 'clf__min_samples_leaf':...           0.861550   \n705  {'clf__max_depth': 9, 'clf__min_samples_leaf':...           0.861550   \n710  {'clf__max_depth': 9, 'clf__min_samples_leaf':...           0.861550   \n\n     split1_test_score  split2_test_score  mean_test_score  std_test_score  \\\n461           0.828223           0.896252         0.866693        0.028478   \n456           0.828223           0.896252         0.866693        0.028478   \n471           0.828223           0.896252         0.866693        0.028478   \n451           0.828223           0.896252         0.866693        0.028478   \n466           0.828223           0.896252         0.866693        0.028478   \n..                 ...                ...              ...             ...   \n508           0.816004           0.871889         0.847145        0.023259   \n503           0.816004           0.871889         0.847145        0.023259   \n700           0.815630           0.862181         0.846454        0.021797   \n705           0.815630           0.862181         0.846454        0.021797   \n710           0.815630           0.862181         0.846454        0.021797   \n\n     rank_test_score  \n461                1  \n456                1  \n471                1  \n451                1  \n466                1  \n..               ...  \n508              868  \n503              868  \n700              873  \n705              873  \n710              873  \n\n[875 rows x 15 columns]",
      "text/html": "<div>\n<style scoped>\n    .dataframe tbody tr th:only-of-type {\n        vertical-align: middle;\n    }\n\n    .dataframe tbody tr th {\n        vertical-align: top;\n    }\n\n    .dataframe thead th {\n        text-align: right;\n    }\n</style>\n<table border=\"1\" class=\"dataframe\">\n  <thead>\n    <tr style=\"text-align: right;\">\n      <th></th>\n      <th>mean_fit_time</th>\n      <th>std_fit_time</th>\n      <th>mean_score_time</th>\n      <th>std_score_time</th>\n      <th>param_clf__max_depth</th>\n      <th>param_clf__min_samples_leaf</th>\n      <th>param_clf__min_samples_split</th>\n      <th>param_clf__n_estimators</th>\n      <th>params</th>\n      <th>split0_test_score</th>\n      <th>split1_test_score</th>\n      <th>split2_test_score</th>\n      <th>mean_test_score</th>\n      <th>std_test_score</th>\n      <th>rank_test_score</th>\n    </tr>\n  </thead>\n  <tbody>\n    <tr>\n      <th>461</th>\n      <td>0.098644</td>\n      <td>0.000910</td>\n      <td>0.016309</td>\n      <td>0.000438</td>\n      <td>7</td>\n      <td>6</td>\n      <td>4</td>\n      <td>15</td>\n      <td>{'clf__max_depth': 7, 'clf__min_samples_leaf':...</td>\n      <td>0.875603</td>\n      <td>0.828223</td>\n      <td>0.896252</td>\n      <td>0.866693</td>\n      <td>0.028478</td>\n      <td>1</td>\n    </tr>\n    <tr>\n      <th>456</th>\n      <td>0.100334</td>\n      <td>0.009105</td>\n      <td>0.018333</td>\n      <td>0.002624</td>\n      <td>7</td>\n      <td>6</td>\n      <td>3</td>\n      <td>15</td>\n      <td>{'clf__max_depth': 7, 'clf__min_samples_leaf':...</td>\n      <td>0.875603</td>\n      <td>0.828223</td>\n      <td>0.896252</td>\n      <td>0.866693</td>\n      <td>0.028478</td>\n      <td>1</td>\n    </tr>\n    <tr>\n      <th>471</th>\n      <td>0.105667</td>\n      <td>0.006182</td>\n      <td>0.017000</td>\n      <td>0.000817</td>\n      <td>7</td>\n      <td>6</td>\n      <td>6</td>\n      <td>15</td>\n      <td>{'clf__max_depth': 7, 'clf__min_samples_leaf':...</td>\n      <td>0.875603</td>\n      <td>0.828223</td>\n      <td>0.896252</td>\n      <td>0.866693</td>\n      <td>0.028478</td>\n      <td>1</td>\n    </tr>\n    <tr>\n      <th>451</th>\n      <td>0.110667</td>\n      <td>0.012499</td>\n      <td>0.017000</td>\n      <td>0.000816</td>\n      <td>7</td>\n      <td>6</td>\n      <td>2</td>\n      <td>15</td>\n      <td>{'clf__max_depth': 7, 'clf__min_samples_leaf':...</td>\n      <td>0.875603</td>\n      <td>0.828223</td>\n      <td>0.896252</td>\n      <td>0.866693</td>\n      <td>0.028478</td>\n      <td>1</td>\n    </tr>\n    <tr>\n      <th>466</th>\n      <td>0.112507</td>\n      <td>0.010413</td>\n      <td>0.017000</td>\n      <td>0.000816</td>\n      <td>7</td>\n      <td>6</td>\n      <td>5</td>\n      <td>15</td>\n      <td>{'clf__max_depth': 7, 'clf__min_samples_leaf':...</td>\n      <td>0.875603</td>\n      <td>0.828223</td>\n      <td>0.896252</td>\n      <td>0.866693</td>\n      <td>0.028478</td>\n      <td>1</td>\n    </tr>\n    <tr>\n      <th>...</th>\n      <td>...</td>\n      <td>...</td>\n      <td>...</td>\n      <td>...</td>\n      <td>...</td>\n      <td>...</td>\n      <td>...</td>\n      <td>...</td>\n      <td>...</td>\n      <td>...</td>\n      <td>...</td>\n      <td>...</td>\n      <td>...</td>\n      <td>...</td>\n      <td>...</td>\n    </tr>\n    <tr>\n      <th>508</th>\n      <td>0.134999</td>\n      <td>0.008043</td>\n      <td>0.018668</td>\n      <td>0.000942</td>\n      <td>7</td>\n      <td>8</td>\n      <td>3</td>\n      <td>25</td>\n      <td>{'clf__max_depth': 7, 'clf__min_samples_leaf':...</td>\n      <td>0.853541</td>\n      <td>0.816004</td>\n      <td>0.871889</td>\n      <td>0.847145</td>\n      <td>0.023259</td>\n      <td>868</td>\n    </tr>\n    <tr>\n      <th>503</th>\n      <td>0.128863</td>\n      <td>0.005177</td>\n      <td>0.018334</td>\n      <td>0.000471</td>\n      <td>7</td>\n      <td>8</td>\n      <td>2</td>\n      <td>25</td>\n      <td>{'clf__max_depth': 7, 'clf__min_samples_leaf':...</td>\n      <td>0.853541</td>\n      <td>0.816004</td>\n      <td>0.871889</td>\n      <td>0.847145</td>\n      <td>0.023259</td>\n      <td>868</td>\n    </tr>\n    <tr>\n      <th>700</th>\n      <td>0.091333</td>\n      <td>0.011086</td>\n      <td>0.016000</td>\n      <td>0.000816</td>\n      <td>9</td>\n      <td>2</td>\n      <td>2</td>\n      <td>10</td>\n      <td>{'clf__max_depth': 9, 'clf__min_samples_leaf':...</td>\n      <td>0.861550</td>\n      <td>0.815630</td>\n      <td>0.862181</td>\n      <td>0.846454</td>\n      <td>0.021797</td>\n      <td>873</td>\n    </tr>\n    <tr>\n      <th>705</th>\n      <td>0.094333</td>\n      <td>0.017461</td>\n      <td>0.015666</td>\n      <td>0.000943</td>\n      <td>9</td>\n      <td>2</td>\n      <td>3</td>\n      <td>10</td>\n      <td>{'clf__max_depth': 9, 'clf__min_samples_leaf':...</td>\n      <td>0.861550</td>\n      <td>0.815630</td>\n      <td>0.862181</td>\n      <td>0.846454</td>\n      <td>0.021797</td>\n      <td>873</td>\n    </tr>\n    <tr>\n      <th>710</th>\n      <td>0.085667</td>\n      <td>0.005735</td>\n      <td>0.015333</td>\n      <td>0.000471</td>\n      <td>9</td>\n      <td>2</td>\n      <td>4</td>\n      <td>10</td>\n      <td>{'clf__max_depth': 9, 'clf__min_samples_leaf':...</td>\n      <td>0.861550</td>\n      <td>0.815630</td>\n      <td>0.862181</td>\n      <td>0.846454</td>\n      <td>0.021797</td>\n      <td>873</td>\n    </tr>\n  </tbody>\n</table>\n<p>875 rows × 15 columns</p>\n</div>"
     },
     "metadata": {},
     "output_type": "display_data"
    },
    {
     "name": "stdout",
     "output_type": "stream",
     "text": [
      "параметры: {'clf__max_depth': 7, 'clf__min_samples_leaf': 6, 'clf__min_samples_split': 4, 'clf__n_estimators': 15} \n",
      "roc-auc: 0.8667\n"
     ]
    }
   ],
   "source": [
    "display(pd.DataFrame(rf_gs.cv_results_).sort_values('rank_test_score'))\n",
    "print(f'параметры: {pd.DataFrame(rf_gs.cv_results_).sort_values(\"rank_test_score\").head(1)[\"params\"].values[0]}',\n",
    "      f'\\nroc-auc: {pd.DataFrame(rf_gs.cv_results_).sort_values(\"rank_test_score\").head(1)[\"mean_test_score\"].values[0]:.4f}')"
   ],
   "metadata": {
    "collapsed": false,
    "pycharm": {
     "name": "#%%\n"
    }
   }
  },
  {
   "cell_type": "markdown",
   "source": [
    "### ExtraTreesClassifier"
   ],
   "metadata": {
    "collapsed": false,
    "pycharm": {
     "name": "#%% md\n"
    }
   }
  },
  {
   "cell_type": "code",
   "execution_count": 53,
   "outputs": [
    {
     "name": "stdout",
     "output_type": "stream",
     "text": [
      "CPU times: total: 9.14 s\n",
      "Wall time: 27.2 s\n"
     ]
    }
   ],
   "source": [
    "%%time\n",
    "num_ct = Pipeline(steps=[('imputer', IterativeImputer(random_state=123))])\n",
    "\n",
    "cat_ct = Pipeline(steps=[('imputer', SimpleImputer(strategy='most_frequent')),\n",
    "                         ('encoder', OneHotEncoder(drop='first'))])\n",
    "\n",
    "transformer = ColumnTransformer(transformers=[('nums', num_ct, selector(dtype_exclude=\"object\")),\n",
    "                                              ('cats', cat_ct, selector(dtype_include=\"object\"))],\n",
    "                                                remainder='passthrough')\n",
    "\n",
    "et_pipe = Pipeline(steps=[('transformer', transformer), ('clf', ExtraTreesClassifier(random_state=123))])\n",
    "\n",
    "et_params = {'clf__n_estimators': [10, 15, 20, 25, 30],\n",
    "             'clf__max_depth': [5, 6, 7, 8, 9],\n",
    "             'clf__min_samples_split': [2, 3, 4, 5, 6],\n",
    "             'clf__min_samples_leaf': [2, 3, 4, 5, 6, 7, 8]}\n",
    "\n",
    "et_gs = GridSearchCV(et_pipe, param_grid=et_params, scoring='roc_auc', cv=3, n_jobs=-1, refit=True)\n",
    "et_gs.fit(x_train, y_train);\n",
    "et_best = et_gs.best_estimator_"
   ],
   "metadata": {
    "collapsed": false,
    "pycharm": {
     "name": "#%%\n"
    }
   }
  },
  {
   "cell_type": "code",
   "execution_count": 54,
   "outputs": [
    {
     "data": {
      "text/plain": "     mean_fit_time  std_fit_time  mean_score_time  std_score_time  \\\n188       0.110000      0.000816         0.018334    4.714828e-04   \n178       0.111333      0.001886         0.019333    4.712580e-04   \n183       0.106666      0.001699         0.018667    4.716514e-04   \n179       0.129333      0.006600         0.020000    8.920806e-07   \n184       0.120000      0.003559         0.019667    4.714266e-04   \n..             ...           ...              ...             ...   \n145       0.082665      0.013670         0.016001    1.083865e-06   \n140       0.076999      0.006376         0.016000    2.247832e-07   \n130       0.081665      0.011614         0.016334    1.885819e-03   \n125       0.079667      0.008014         0.015333    4.712019e-04   \n135       0.078333      0.002625         0.016667    9.429094e-04   \n\n    param_clf__max_depth param_clf__min_samples_leaf  \\\n188                    6                           2   \n178                    6                           2   \n183                    6                           2   \n179                    6                           2   \n184                    6                           2   \n..                   ...                         ...   \n145                    5                           7   \n140                    5                           7   \n130                    5                           7   \n125                    5                           7   \n135                    5                           7   \n\n    param_clf__min_samples_split param_clf__n_estimators  \\\n188                            4                      25   \n178                            2                      25   \n183                            3                      25   \n179                            2                      30   \n184                            3                      30   \n..                           ...                     ...   \n145                            6                      10   \n140                            5                      10   \n130                            3                      10   \n125                            2                      10   \n135                            4                      10   \n\n                                                params  split0_test_score  \\\n188  {'clf__max_depth': 6, 'clf__min_samples_leaf':...           0.871116   \n178  {'clf__max_depth': 6, 'clf__min_samples_leaf':...           0.871116   \n183  {'clf__max_depth': 6, 'clf__min_samples_leaf':...           0.871116   \n179  {'clf__max_depth': 6, 'clf__min_samples_leaf':...           0.870152   \n184  {'clf__max_depth': 6, 'clf__min_samples_leaf':...           0.870152   \n..                                                 ...                ...   \n145  {'clf__max_depth': 5, 'clf__min_samples_leaf':...           0.853615   \n140  {'clf__max_depth': 5, 'clf__min_samples_leaf':...           0.853615   \n130  {'clf__max_depth': 5, 'clf__min_samples_leaf':...           0.853615   \n125  {'clf__max_depth': 5, 'clf__min_samples_leaf':...           0.853615   \n135  {'clf__max_depth': 5, 'clf__min_samples_leaf':...           0.853615   \n\n     split1_test_score  split2_test_score  mean_test_score  std_test_score  \\\n188           0.817091           0.904123         0.864110        0.035874   \n178           0.817091           0.904123         0.864110        0.035874   \n183           0.817091           0.904123         0.864110        0.035874   \n179           0.817354           0.903861         0.863789        0.035602   \n184           0.817354           0.903861         0.863789        0.035602   \n..                 ...                ...              ...             ...   \n145           0.808621           0.855735         0.839323        0.021727   \n140           0.808621           0.855735         0.839323        0.021727   \n130           0.808621           0.855735         0.839323        0.021727   \n125           0.808621           0.855735         0.839323        0.021727   \n135           0.808621           0.855735         0.839323        0.021727   \n\n     rank_test_score  \n188                1  \n178                1  \n183                1  \n179                4  \n184                4  \n..               ...  \n145              871  \n140              871  \n130              871  \n125              871  \n135              871  \n\n[875 rows x 15 columns]",
      "text/html": "<div>\n<style scoped>\n    .dataframe tbody tr th:only-of-type {\n        vertical-align: middle;\n    }\n\n    .dataframe tbody tr th {\n        vertical-align: top;\n    }\n\n    .dataframe thead th {\n        text-align: right;\n    }\n</style>\n<table border=\"1\" class=\"dataframe\">\n  <thead>\n    <tr style=\"text-align: right;\">\n      <th></th>\n      <th>mean_fit_time</th>\n      <th>std_fit_time</th>\n      <th>mean_score_time</th>\n      <th>std_score_time</th>\n      <th>param_clf__max_depth</th>\n      <th>param_clf__min_samples_leaf</th>\n      <th>param_clf__min_samples_split</th>\n      <th>param_clf__n_estimators</th>\n      <th>params</th>\n      <th>split0_test_score</th>\n      <th>split1_test_score</th>\n      <th>split2_test_score</th>\n      <th>mean_test_score</th>\n      <th>std_test_score</th>\n      <th>rank_test_score</th>\n    </tr>\n  </thead>\n  <tbody>\n    <tr>\n      <th>188</th>\n      <td>0.110000</td>\n      <td>0.000816</td>\n      <td>0.018334</td>\n      <td>4.714828e-04</td>\n      <td>6</td>\n      <td>2</td>\n      <td>4</td>\n      <td>25</td>\n      <td>{'clf__max_depth': 6, 'clf__min_samples_leaf':...</td>\n      <td>0.871116</td>\n      <td>0.817091</td>\n      <td>0.904123</td>\n      <td>0.864110</td>\n      <td>0.035874</td>\n      <td>1</td>\n    </tr>\n    <tr>\n      <th>178</th>\n      <td>0.111333</td>\n      <td>0.001886</td>\n      <td>0.019333</td>\n      <td>4.712580e-04</td>\n      <td>6</td>\n      <td>2</td>\n      <td>2</td>\n      <td>25</td>\n      <td>{'clf__max_depth': 6, 'clf__min_samples_leaf':...</td>\n      <td>0.871116</td>\n      <td>0.817091</td>\n      <td>0.904123</td>\n      <td>0.864110</td>\n      <td>0.035874</td>\n      <td>1</td>\n    </tr>\n    <tr>\n      <th>183</th>\n      <td>0.106666</td>\n      <td>0.001699</td>\n      <td>0.018667</td>\n      <td>4.716514e-04</td>\n      <td>6</td>\n      <td>2</td>\n      <td>3</td>\n      <td>25</td>\n      <td>{'clf__max_depth': 6, 'clf__min_samples_leaf':...</td>\n      <td>0.871116</td>\n      <td>0.817091</td>\n      <td>0.904123</td>\n      <td>0.864110</td>\n      <td>0.035874</td>\n      <td>1</td>\n    </tr>\n    <tr>\n      <th>179</th>\n      <td>0.129333</td>\n      <td>0.006600</td>\n      <td>0.020000</td>\n      <td>8.920806e-07</td>\n      <td>6</td>\n      <td>2</td>\n      <td>2</td>\n      <td>30</td>\n      <td>{'clf__max_depth': 6, 'clf__min_samples_leaf':...</td>\n      <td>0.870152</td>\n      <td>0.817354</td>\n      <td>0.903861</td>\n      <td>0.863789</td>\n      <td>0.035602</td>\n      <td>4</td>\n    </tr>\n    <tr>\n      <th>184</th>\n      <td>0.120000</td>\n      <td>0.003559</td>\n      <td>0.019667</td>\n      <td>4.714266e-04</td>\n      <td>6</td>\n      <td>2</td>\n      <td>3</td>\n      <td>30</td>\n      <td>{'clf__max_depth': 6, 'clf__min_samples_leaf':...</td>\n      <td>0.870152</td>\n      <td>0.817354</td>\n      <td>0.903861</td>\n      <td>0.863789</td>\n      <td>0.035602</td>\n      <td>4</td>\n    </tr>\n    <tr>\n      <th>...</th>\n      <td>...</td>\n      <td>...</td>\n      <td>...</td>\n      <td>...</td>\n      <td>...</td>\n      <td>...</td>\n      <td>...</td>\n      <td>...</td>\n      <td>...</td>\n      <td>...</td>\n      <td>...</td>\n      <td>...</td>\n      <td>...</td>\n      <td>...</td>\n      <td>...</td>\n    </tr>\n    <tr>\n      <th>145</th>\n      <td>0.082665</td>\n      <td>0.013670</td>\n      <td>0.016001</td>\n      <td>1.083865e-06</td>\n      <td>5</td>\n      <td>7</td>\n      <td>6</td>\n      <td>10</td>\n      <td>{'clf__max_depth': 5, 'clf__min_samples_leaf':...</td>\n      <td>0.853615</td>\n      <td>0.808621</td>\n      <td>0.855735</td>\n      <td>0.839323</td>\n      <td>0.021727</td>\n      <td>871</td>\n    </tr>\n    <tr>\n      <th>140</th>\n      <td>0.076999</td>\n      <td>0.006376</td>\n      <td>0.016000</td>\n      <td>2.247832e-07</td>\n      <td>5</td>\n      <td>7</td>\n      <td>5</td>\n      <td>10</td>\n      <td>{'clf__max_depth': 5, 'clf__min_samples_leaf':...</td>\n      <td>0.853615</td>\n      <td>0.808621</td>\n      <td>0.855735</td>\n      <td>0.839323</td>\n      <td>0.021727</td>\n      <td>871</td>\n    </tr>\n    <tr>\n      <th>130</th>\n      <td>0.081665</td>\n      <td>0.011614</td>\n      <td>0.016334</td>\n      <td>1.885819e-03</td>\n      <td>5</td>\n      <td>7</td>\n      <td>3</td>\n      <td>10</td>\n      <td>{'clf__max_depth': 5, 'clf__min_samples_leaf':...</td>\n      <td>0.853615</td>\n      <td>0.808621</td>\n      <td>0.855735</td>\n      <td>0.839323</td>\n      <td>0.021727</td>\n      <td>871</td>\n    </tr>\n    <tr>\n      <th>125</th>\n      <td>0.079667</td>\n      <td>0.008014</td>\n      <td>0.015333</td>\n      <td>4.712019e-04</td>\n      <td>5</td>\n      <td>7</td>\n      <td>2</td>\n      <td>10</td>\n      <td>{'clf__max_depth': 5, 'clf__min_samples_leaf':...</td>\n      <td>0.853615</td>\n      <td>0.808621</td>\n      <td>0.855735</td>\n      <td>0.839323</td>\n      <td>0.021727</td>\n      <td>871</td>\n    </tr>\n    <tr>\n      <th>135</th>\n      <td>0.078333</td>\n      <td>0.002625</td>\n      <td>0.016667</td>\n      <td>9.429094e-04</td>\n      <td>5</td>\n      <td>7</td>\n      <td>4</td>\n      <td>10</td>\n      <td>{'clf__max_depth': 5, 'clf__min_samples_leaf':...</td>\n      <td>0.853615</td>\n      <td>0.808621</td>\n      <td>0.855735</td>\n      <td>0.839323</td>\n      <td>0.021727</td>\n      <td>871</td>\n    </tr>\n  </tbody>\n</table>\n<p>875 rows × 15 columns</p>\n</div>"
     },
     "metadata": {},
     "output_type": "display_data"
    },
    {
     "name": "stdout",
     "output_type": "stream",
     "text": [
      "параметры: {'clf__max_depth': 6, 'clf__min_samples_leaf': 2, 'clf__min_samples_split': 4, 'clf__n_estimators': 25} \n",
      "roc-auc: 0.8641\n"
     ]
    }
   ],
   "source": [
    "display(pd.DataFrame(et_gs.cv_results_).sort_values('rank_test_score'))\n",
    "print(f'параметры: {pd.DataFrame(et_gs.cv_results_).sort_values(\"rank_test_score\").head(1)[\"params\"].values[0]}',\n",
    "      f'\\nroc-auc: {pd.DataFrame(et_gs.cv_results_).sort_values(\"rank_test_score\").head(1)[\"mean_test_score\"].values[0]:.4f}')"
   ],
   "metadata": {
    "collapsed": false,
    "pycharm": {
     "name": "#%%\n"
    }
   }
  },
  {
   "cell_type": "markdown",
   "source": [
    "### RandomTreesEmbedding"
   ],
   "metadata": {
    "collapsed": false,
    "pycharm": {
     "name": "#%% md\n"
    }
   }
  },
  {
   "cell_type": "code",
   "execution_count": 55,
   "outputs": [
    {
     "name": "stdout",
     "output_type": "stream",
     "text": [
      "CPU times: total: 9.06 s\n",
      "Wall time: 24.1 s\n"
     ]
    },
    {
     "name": "stderr",
     "output_type": "stream",
     "text": [
      "C:\\work_and_fun\\partisans\\PP\\mistakes-and-regrets\\lib\\site-packages\\sklearn\\model_selection\\_search.py:952: UserWarning: One or more of the test scores are non-finite: [nan nan nan nan nan nan nan nan nan nan nan nan nan nan nan nan nan nan\n",
      " nan nan nan nan nan nan nan nan nan nan nan nan nan nan nan nan nan nan\n",
      " nan nan nan nan nan nan nan nan nan nan nan nan nan nan nan nan nan nan\n",
      " nan nan nan nan nan nan nan nan nan nan nan nan nan nan nan nan nan nan\n",
      " nan nan nan nan nan nan nan nan nan nan nan nan nan nan nan nan nan nan\n",
      " nan nan nan nan nan nan nan nan nan nan nan nan nan nan nan nan nan nan\n",
      " nan nan nan nan nan nan nan nan nan nan nan nan nan nan nan nan nan nan\n",
      " nan nan nan nan nan nan nan nan nan nan nan nan nan nan nan nan nan nan\n",
      " nan nan nan nan nan nan nan nan nan nan nan nan nan nan nan nan nan nan\n",
      " nan nan nan nan nan nan nan nan nan nan nan nan nan nan nan nan nan nan\n",
      " nan nan nan nan nan nan nan nan nan nan nan nan nan nan nan nan nan nan\n",
      " nan nan nan nan nan nan nan nan nan nan nan nan nan nan nan nan nan nan\n",
      " nan nan nan nan nan nan nan nan nan nan nan nan nan nan nan nan nan nan\n",
      " nan nan nan nan nan nan nan nan nan nan nan nan nan nan nan nan nan nan\n",
      " nan nan nan nan nan nan nan nan nan nan nan nan nan nan nan nan nan nan\n",
      " nan nan nan nan nan nan nan nan nan nan nan nan nan nan nan nan nan nan\n",
      " nan nan nan nan nan nan nan nan nan nan nan nan nan nan nan nan nan nan\n",
      " nan nan nan nan nan nan nan nan nan nan nan nan nan nan nan nan nan nan\n",
      " nan nan nan nan nan nan nan nan nan nan nan nan nan nan nan nan nan nan\n",
      " nan nan nan nan nan nan nan nan nan nan nan nan nan nan nan nan nan nan\n",
      " nan nan nan nan nan nan nan nan nan nan nan nan nan nan nan nan nan nan\n",
      " nan nan nan nan nan nan nan nan nan nan nan nan nan nan nan nan nan nan\n",
      " nan nan nan nan nan nan nan nan nan nan nan nan nan nan nan nan nan nan\n",
      " nan nan nan nan nan nan nan nan nan nan nan nan nan nan nan nan nan nan\n",
      " nan nan nan nan nan nan nan nan nan nan nan nan nan nan nan nan nan nan\n",
      " nan nan nan nan nan nan nan nan nan nan nan nan nan nan nan nan nan nan\n",
      " nan nan nan nan nan nan nan nan nan nan nan nan nan nan nan nan nan nan\n",
      " nan nan nan nan nan nan nan nan nan nan nan nan nan nan nan nan nan nan\n",
      " nan nan nan nan nan nan nan nan nan nan nan nan nan nan nan nan nan nan\n",
      " nan nan nan nan nan nan nan nan nan nan nan nan nan nan nan nan nan nan\n",
      " nan nan nan nan nan nan nan nan nan nan nan nan nan nan nan nan nan nan\n",
      " nan nan nan nan nan nan nan nan nan nan nan nan nan nan nan nan nan nan\n",
      " nan nan nan nan nan nan nan nan nan nan nan nan nan nan nan nan nan nan\n",
      " nan nan nan nan nan nan nan nan nan nan nan nan nan nan nan nan nan nan\n",
      " nan nan nan nan nan nan nan nan nan nan nan nan nan nan nan nan nan nan\n",
      " nan nan nan nan nan nan nan nan nan nan nan nan nan nan nan nan nan nan\n",
      " nan nan nan nan nan nan nan nan nan nan nan nan nan nan nan nan nan nan\n",
      " nan nan nan nan nan nan nan nan nan nan nan nan nan nan nan nan nan nan\n",
      " nan nan nan nan nan nan nan nan nan nan nan nan nan nan nan nan nan nan\n",
      " nan nan nan nan nan nan nan nan nan nan nan nan nan nan nan nan nan nan\n",
      " nan nan nan nan nan nan nan nan nan nan nan nan nan nan nan nan nan nan\n",
      " nan nan nan nan nan nan nan nan nan nan nan nan nan nan nan nan nan nan\n",
      " nan nan nan nan nan nan nan nan nan nan nan nan nan nan nan nan nan nan\n",
      " nan nan nan nan nan nan nan nan nan nan nan nan nan nan nan nan nan nan\n",
      " nan nan nan nan nan nan nan nan nan nan nan nan nan nan nan nan nan nan\n",
      " nan nan nan nan nan nan nan nan nan nan nan nan nan nan nan nan nan nan\n",
      " nan nan nan nan nan nan nan nan nan nan nan nan nan nan nan nan nan nan\n",
      " nan nan nan nan nan nan nan nan nan nan nan nan nan nan nan nan nan nan\n",
      " nan nan nan nan nan nan nan nan nan nan nan]\n",
      "  warnings.warn(\n"
     ]
    }
   ],
   "source": [
    "%%time\n",
    "num_ct = Pipeline(steps=[('imputer', IterativeImputer(random_state=123))])\n",
    "\n",
    "cat_ct = Pipeline(steps=[('imputer', SimpleImputer(strategy='most_frequent')),\n",
    "                         ('encoder', OneHotEncoder(drop='first'))])\n",
    "\n",
    "transformer = ColumnTransformer(transformers=[('nums', num_ct, selector(dtype_exclude=\"object\")),\n",
    "                                              ('cats', cat_ct, selector(dtype_include=\"object\"))],\n",
    "                                                remainder='passthrough')\n",
    "\n",
    "rte_pipe = Pipeline(steps=[('transformer', transformer), ('clf', RandomTreesEmbedding(random_state=123))])\n",
    "\n",
    "rte_params = {'clf__n_estimators': [10, 15, 20, 25, 30],\n",
    "             'clf__max_depth': [5, 6, 7, 8, 9],\n",
    "             'clf__min_samples_split': [2, 3, 4, 5, 6],\n",
    "             'clf__min_samples_leaf': [2, 3, 4, 5, 6, 7, 8]}\n",
    "\n",
    "rte_gs = GridSearchCV(rte_pipe, param_grid=rte_params, scoring='roc_auc', cv=3, n_jobs=-1)\n",
    "rte_gs.fit(x_train, y_train);"
   ],
   "metadata": {
    "collapsed": false,
    "pycharm": {
     "name": "#%%\n"
    }
   }
  },
  {
   "cell_type": "code",
   "execution_count": 56,
   "outputs": [
    {
     "data": {
      "text/plain": "     mean_fit_time  std_fit_time  mean_score_time  std_score_time  \\\n0         0.070004      0.008602         0.002333    4.703589e-04   \n576       0.096667      0.005557         0.001334    4.709770e-04   \n577       0.110666      0.007760         0.001334    4.713705e-04   \n578       0.110333      0.002494         0.001333    4.713714e-04   \n579       0.118333      0.001248         0.001334    4.708084e-04   \n..             ...           ...              ...             ...   \n296       0.095001      0.002160         0.001000    0.000000e+00   \n297       0.098666      0.001700         0.001334    4.714831e-04   \n298       0.112001      0.002161         0.001999    1.184119e-06   \n287       0.102000      0.001413         0.001333    4.713142e-04   \n874       0.088330      0.008259         0.001000    4.052337e-07   \n\n    param_clf__max_depth param_clf__min_samples_leaf  \\\n0                      5                           2   \n576                    8                           4   \n577                    8                           4   \n578                    8                           4   \n579                    8                           4   \n..                   ...                         ...   \n296                    6                           6   \n297                    6                           6   \n298                    6                           6   \n287                    6                           6   \n874                    9                           8   \n\n    param_clf__min_samples_split param_clf__n_estimators  \\\n0                              2                      10   \n576                            2                      15   \n577                            2                      20   \n578                            2                      25   \n579                            2                      30   \n..                           ...                     ...   \n296                            6                      15   \n297                            6                      20   \n298                            6                      25   \n287                            4                      20   \n874                            6                      30   \n\n                                                params  split0_test_score  \\\n0    {'clf__max_depth': 5, 'clf__min_samples_leaf':...                NaN   \n576  {'clf__max_depth': 8, 'clf__min_samples_leaf':...                NaN   \n577  {'clf__max_depth': 8, 'clf__min_samples_leaf':...                NaN   \n578  {'clf__max_depth': 8, 'clf__min_samples_leaf':...                NaN   \n579  {'clf__max_depth': 8, 'clf__min_samples_leaf':...                NaN   \n..                                                 ...                ...   \n296  {'clf__max_depth': 6, 'clf__min_samples_leaf':...                NaN   \n297  {'clf__max_depth': 6, 'clf__min_samples_leaf':...                NaN   \n298  {'clf__max_depth': 6, 'clf__min_samples_leaf':...                NaN   \n287  {'clf__max_depth': 6, 'clf__min_samples_leaf':...                NaN   \n874  {'clf__max_depth': 9, 'clf__min_samples_leaf':...                NaN   \n\n     split1_test_score  split2_test_score  mean_test_score  std_test_score  \\\n0                  NaN                NaN              NaN             NaN   \n576                NaN                NaN              NaN             NaN   \n577                NaN                NaN              NaN             NaN   \n578                NaN                NaN              NaN             NaN   \n579                NaN                NaN              NaN             NaN   \n..                 ...                ...              ...             ...   \n296                NaN                NaN              NaN             NaN   \n297                NaN                NaN              NaN             NaN   \n298                NaN                NaN              NaN             NaN   \n287                NaN                NaN              NaN             NaN   \n874                NaN                NaN              NaN             NaN   \n\n     rank_test_score  \n0                  1  \n576                1  \n577                1  \n578                1  \n579                1  \n..               ...  \n296                1  \n297                1  \n298                1  \n287                1  \n874                1  \n\n[875 rows x 15 columns]",
      "text/html": "<div>\n<style scoped>\n    .dataframe tbody tr th:only-of-type {\n        vertical-align: middle;\n    }\n\n    .dataframe tbody tr th {\n        vertical-align: top;\n    }\n\n    .dataframe thead th {\n        text-align: right;\n    }\n</style>\n<table border=\"1\" class=\"dataframe\">\n  <thead>\n    <tr style=\"text-align: right;\">\n      <th></th>\n      <th>mean_fit_time</th>\n      <th>std_fit_time</th>\n      <th>mean_score_time</th>\n      <th>std_score_time</th>\n      <th>param_clf__max_depth</th>\n      <th>param_clf__min_samples_leaf</th>\n      <th>param_clf__min_samples_split</th>\n      <th>param_clf__n_estimators</th>\n      <th>params</th>\n      <th>split0_test_score</th>\n      <th>split1_test_score</th>\n      <th>split2_test_score</th>\n      <th>mean_test_score</th>\n      <th>std_test_score</th>\n      <th>rank_test_score</th>\n    </tr>\n  </thead>\n  <tbody>\n    <tr>\n      <th>0</th>\n      <td>0.070004</td>\n      <td>0.008602</td>\n      <td>0.002333</td>\n      <td>4.703589e-04</td>\n      <td>5</td>\n      <td>2</td>\n      <td>2</td>\n      <td>10</td>\n      <td>{'clf__max_depth': 5, 'clf__min_samples_leaf':...</td>\n      <td>NaN</td>\n      <td>NaN</td>\n      <td>NaN</td>\n      <td>NaN</td>\n      <td>NaN</td>\n      <td>1</td>\n    </tr>\n    <tr>\n      <th>576</th>\n      <td>0.096667</td>\n      <td>0.005557</td>\n      <td>0.001334</td>\n      <td>4.709770e-04</td>\n      <td>8</td>\n      <td>4</td>\n      <td>2</td>\n      <td>15</td>\n      <td>{'clf__max_depth': 8, 'clf__min_samples_leaf':...</td>\n      <td>NaN</td>\n      <td>NaN</td>\n      <td>NaN</td>\n      <td>NaN</td>\n      <td>NaN</td>\n      <td>1</td>\n    </tr>\n    <tr>\n      <th>577</th>\n      <td>0.110666</td>\n      <td>0.007760</td>\n      <td>0.001334</td>\n      <td>4.713705e-04</td>\n      <td>8</td>\n      <td>4</td>\n      <td>2</td>\n      <td>20</td>\n      <td>{'clf__max_depth': 8, 'clf__min_samples_leaf':...</td>\n      <td>NaN</td>\n      <td>NaN</td>\n      <td>NaN</td>\n      <td>NaN</td>\n      <td>NaN</td>\n      <td>1</td>\n    </tr>\n    <tr>\n      <th>578</th>\n      <td>0.110333</td>\n      <td>0.002494</td>\n      <td>0.001333</td>\n      <td>4.713714e-04</td>\n      <td>8</td>\n      <td>4</td>\n      <td>2</td>\n      <td>25</td>\n      <td>{'clf__max_depth': 8, 'clf__min_samples_leaf':...</td>\n      <td>NaN</td>\n      <td>NaN</td>\n      <td>NaN</td>\n      <td>NaN</td>\n      <td>NaN</td>\n      <td>1</td>\n    </tr>\n    <tr>\n      <th>579</th>\n      <td>0.118333</td>\n      <td>0.001248</td>\n      <td>0.001334</td>\n      <td>4.708084e-04</td>\n      <td>8</td>\n      <td>4</td>\n      <td>2</td>\n      <td>30</td>\n      <td>{'clf__max_depth': 8, 'clf__min_samples_leaf':...</td>\n      <td>NaN</td>\n      <td>NaN</td>\n      <td>NaN</td>\n      <td>NaN</td>\n      <td>NaN</td>\n      <td>1</td>\n    </tr>\n    <tr>\n      <th>...</th>\n      <td>...</td>\n      <td>...</td>\n      <td>...</td>\n      <td>...</td>\n      <td>...</td>\n      <td>...</td>\n      <td>...</td>\n      <td>...</td>\n      <td>...</td>\n      <td>...</td>\n      <td>...</td>\n      <td>...</td>\n      <td>...</td>\n      <td>...</td>\n      <td>...</td>\n    </tr>\n    <tr>\n      <th>296</th>\n      <td>0.095001</td>\n      <td>0.002160</td>\n      <td>0.001000</td>\n      <td>0.000000e+00</td>\n      <td>6</td>\n      <td>6</td>\n      <td>6</td>\n      <td>15</td>\n      <td>{'clf__max_depth': 6, 'clf__min_samples_leaf':...</td>\n      <td>NaN</td>\n      <td>NaN</td>\n      <td>NaN</td>\n      <td>NaN</td>\n      <td>NaN</td>\n      <td>1</td>\n    </tr>\n    <tr>\n      <th>297</th>\n      <td>0.098666</td>\n      <td>0.001700</td>\n      <td>0.001334</td>\n      <td>4.714831e-04</td>\n      <td>6</td>\n      <td>6</td>\n      <td>6</td>\n      <td>20</td>\n      <td>{'clf__max_depth': 6, 'clf__min_samples_leaf':...</td>\n      <td>NaN</td>\n      <td>NaN</td>\n      <td>NaN</td>\n      <td>NaN</td>\n      <td>NaN</td>\n      <td>1</td>\n    </tr>\n    <tr>\n      <th>298</th>\n      <td>0.112001</td>\n      <td>0.002161</td>\n      <td>0.001999</td>\n      <td>1.184119e-06</td>\n      <td>6</td>\n      <td>6</td>\n      <td>6</td>\n      <td>25</td>\n      <td>{'clf__max_depth': 6, 'clf__min_samples_leaf':...</td>\n      <td>NaN</td>\n      <td>NaN</td>\n      <td>NaN</td>\n      <td>NaN</td>\n      <td>NaN</td>\n      <td>1</td>\n    </tr>\n    <tr>\n      <th>287</th>\n      <td>0.102000</td>\n      <td>0.001413</td>\n      <td>0.001333</td>\n      <td>4.713142e-04</td>\n      <td>6</td>\n      <td>6</td>\n      <td>4</td>\n      <td>20</td>\n      <td>{'clf__max_depth': 6, 'clf__min_samples_leaf':...</td>\n      <td>NaN</td>\n      <td>NaN</td>\n      <td>NaN</td>\n      <td>NaN</td>\n      <td>NaN</td>\n      <td>1</td>\n    </tr>\n    <tr>\n      <th>874</th>\n      <td>0.088330</td>\n      <td>0.008259</td>\n      <td>0.001000</td>\n      <td>4.052337e-07</td>\n      <td>9</td>\n      <td>8</td>\n      <td>6</td>\n      <td>30</td>\n      <td>{'clf__max_depth': 9, 'clf__min_samples_leaf':...</td>\n      <td>NaN</td>\n      <td>NaN</td>\n      <td>NaN</td>\n      <td>NaN</td>\n      <td>NaN</td>\n      <td>1</td>\n    </tr>\n  </tbody>\n</table>\n<p>875 rows × 15 columns</p>\n</div>"
     },
     "metadata": {},
     "output_type": "display_data"
    },
    {
     "name": "stdout",
     "output_type": "stream",
     "text": [
      "параметры: {'clf__max_depth': 5, 'clf__min_samples_leaf': 2, 'clf__min_samples_split': 2, 'clf__n_estimators': 10} \n",
      "roc-auc: nan\n"
     ]
    }
   ],
   "source": [
    "display(pd.DataFrame(rte_gs.cv_results_).sort_values('rank_test_score'))\n",
    "print(f'параметры: {pd.DataFrame(rte_gs.cv_results_).sort_values(\"rank_test_score\").head(1)[\"params\"].values[0]}',\n",
    "      f'\\nroc-auc: {pd.DataFrame(rte_gs.cv_results_).sort_values(\"rank_test_score\").head(1)[\"mean_test_score\"].values[0]:.4f}')"
   ],
   "metadata": {
    "collapsed": false,
    "pycharm": {
     "name": "#%%\n"
    }
   }
  },
  {
   "cell_type": "markdown",
   "source": [
    "## Ансамбли"
   ],
   "metadata": {
    "collapsed": false,
    "pycharm": {
     "name": "#%% md\n"
    }
   }
  },
  {
   "cell_type": "markdown",
   "source": [
    "### BaggingClassifier"
   ],
   "metadata": {
    "collapsed": false,
    "pycharm": {
     "name": "#%% md\n"
    }
   }
  },
  {
   "cell_type": "markdown",
   "source": [
    "BaggingClassifier почему-то не воспринимает трансформации по типам колонок внутри пайплайна, поэтому перепишем трансформер и пересоберем пайплайн, указав трансформируемые признаки индексами"
   ],
   "metadata": {
    "collapsed": false,
    "pycharm": {
     "name": "#%% md\n"
    }
   }
  },
  {
   "cell_type": "code",
   "execution_count": 57,
   "outputs": [
    {
     "name": "stdout",
     "output_type": "stream",
     "text": [
      "Fitting 3 folds for each of 24 candidates, totalling 72 fits\n"
     ]
    }
   ],
   "source": [
    "num_ct = Pipeline(steps=[('imputer', SimpleImputer(strategy='mean')),\n",
    "                         ('scaler', StandardScaler())])\n",
    "\n",
    "cat_ct = Pipeline(steps=[('imputer', SimpleImputer(strategy='most_frequent')),\n",
    "                         ('ohe', OneHotEncoder(drop='first'))])\n",
    "\n",
    "transformer = ColumnTransformer(transformers=[('nums', num_ct, (1, 2, 3, 4, 5, 7)),\n",
    "                                              ('cats', cat_ct, [0, 6])],\n",
    "                                remainder='passthrough')\n",
    "\n",
    "lr_pipe = Pipeline(steps=[('transformer', transformer), ('clf', LogisticRegression(random_state=123))])\n",
    "\n",
    "params = [{'transformer__nums__imputer': [SimpleImputer()],\n",
    "           'transformer__nums__imputer__strategy': ['mean', 'median'],\n",
    "           'clf__penalty': ['none', 'l2'],\n",
    "           'clf__C': [0.1, 1, 10, 100]\n",
    "          },\n",
    "          { 'transformer__nums__imputer': [IterativeImputer(random_state=123)],\n",
    "           'clf__penalty': ['none', 'l2'],\n",
    "           'clf__C': [0.1, 1, 10, 100]\n",
    "          }]\n",
    "\n",
    "lr_gs    = GridSearchCV(estimator=lr_pipe,\n",
    "                        param_grid=params,\n",
    "                        scoring='roc_auc',\n",
    "                        refit=True,\n",
    "                        cv=3,\n",
    "                        n_jobs=-1,\n",
    "                        verbose=10)\n",
    "lr_gs.fit(x_train, y_train)\n",
    "lr_best = lr_gs.best_estimator_;"
   ],
   "metadata": {
    "collapsed": false,
    "pycharm": {
     "name": "#%%\n"
    }
   }
  },
  {
   "cell_type": "code",
   "execution_count": 58,
   "outputs": [
    {
     "data": {
      "text/plain": "0.8526"
     },
     "execution_count": 58,
     "metadata": {},
     "output_type": "execute_result"
    }
   ],
   "source": [
    "bc = BaggingClassifier(estimator=lr_best, n_estimators=10, random_state=123)\n",
    "cross_val_score(bc, x_train, y_train, scoring='roc_auc', cv=5, n_jobs=-1).mean().round(4)"
   ],
   "metadata": {
    "collapsed": false,
    "pycharm": {
     "name": "#%%\n"
    }
   }
  },
  {
   "cell_type": "markdown",
   "source": [
    "ну хз"
   ],
   "metadata": {
    "collapsed": false,
    "pycharm": {
     "name": "#%% md\n"
    }
   }
  },
  {
   "cell_type": "markdown",
   "source": [
    "### StackingClassifier"
   ],
   "metadata": {
    "collapsed": false,
    "pycharm": {
     "name": "#%% md\n"
    }
   }
  },
  {
   "cell_type": "code",
   "execution_count": 59,
   "outputs": [
    {
     "data": {
      "text/plain": "0.8153"
     },
     "execution_count": 59,
     "metadata": {},
     "output_type": "execute_result"
    }
   ],
   "source": [
    "sc = StackingClassifier(estimators=[('rf', rf_best), ('et', et_best)],\n",
    "                        final_estimator=RandomForestClassifier(n_estimators=15, max_depth=7),\n",
    "                        cv=3,\n",
    "                        n_jobs=-1)\n",
    "cross_val_score(sc, x_train, y_train, scoring='roc_auc', cv=5, n_jobs=-1).mean().round(4)"
   ],
   "metadata": {
    "collapsed": false,
    "pycharm": {
     "name": "#%%\n"
    }
   }
  },
  {
   "cell_type": "markdown",
   "source": [
    "### VotingClassifier"
   ],
   "metadata": {
    "collapsed": false,
    "pycharm": {
     "name": "#%% md\n"
    }
   }
  },
  {
   "cell_type": "code",
   "execution_count": 60,
   "outputs": [
    {
     "name": "stdout",
     "output_type": "stream",
     "text": [
      "0.8703\n"
     ]
    }
   ],
   "source": [
    "vc = VotingClassifier(estimators=[('lr', lr_best),\n",
    "                                  ('tree', tree_best),\n",
    "                                  ('rf', rf_best),\n",
    "                                  ('et', et_best)],\n",
    "                      voting='soft', n_jobs=-1)\n",
    "print(cross_val_score(vc, x_train, y_train, scoring='roc_auc', cv=3, n_jobs=-1).mean().round(4))"
   ],
   "metadata": {
    "collapsed": false,
    "pycharm": {
     "name": "#%%\n"
    }
   }
  },
  {
   "cell_type": "markdown",
   "source": [
    "## Градиентный бустинг"
   ],
   "metadata": {
    "collapsed": false,
    "pycharm": {
     "name": "#%% md\n"
    }
   }
  },
  {
   "cell_type": "markdown",
   "source": [
    "### XGBoost"
   ],
   "metadata": {
    "collapsed": false,
    "pycharm": {
     "name": "#%% md\n"
    }
   }
  },
  {
   "cell_type": "code",
   "execution_count": 65,
   "outputs": [
    {
     "ename": "ValueError",
     "evalue": "Experimental support for categorical data is not implemented for current tree method yet.",
     "output_type": "error",
     "traceback": [
      "\u001B[1;31m---------------------------------------------------------------------------\u001B[0m",
      "\u001B[1;31mValueError\u001B[0m                                Traceback (most recent call last)",
      "File \u001B[1;32m<timed exec>:2\u001B[0m\n",
      "File \u001B[1;32mC:\\work_and_fun\\partisans\\PP\\mistakes-and-regrets\\lib\\site-packages\\xgboost\\core.py:620\u001B[0m, in \u001B[0;36mrequire_keyword_args.<locals>.throw_if.<locals>.inner_f\u001B[1;34m(*args, **kwargs)\u001B[0m\n\u001B[0;32m    618\u001B[0m \u001B[38;5;28;01mfor\u001B[39;00m k, arg \u001B[38;5;129;01min\u001B[39;00m \u001B[38;5;28mzip\u001B[39m(sig\u001B[38;5;241m.\u001B[39mparameters, args):\n\u001B[0;32m    619\u001B[0m     kwargs[k] \u001B[38;5;241m=\u001B[39m arg\n\u001B[1;32m--> 620\u001B[0m \u001B[38;5;28;01mreturn\u001B[39;00m func(\u001B[38;5;241m*\u001B[39m\u001B[38;5;241m*\u001B[39mkwargs)\n",
      "File \u001B[1;32mC:\\work_and_fun\\partisans\\PP\\mistakes-and-regrets\\lib\\site-packages\\xgboost\\sklearn.py:1468\u001B[0m, in \u001B[0;36mXGBClassifier.fit\u001B[1;34m(self, X, y, sample_weight, base_margin, eval_set, eval_metric, early_stopping_rounds, verbose, xgb_model, sample_weight_eval_set, base_margin_eval_set, feature_weights, callbacks)\u001B[0m\n\u001B[0;32m   1459\u001B[0m         params[\u001B[38;5;124m\"\u001B[39m\u001B[38;5;124mobjective\u001B[39m\u001B[38;5;124m\"\u001B[39m] \u001B[38;5;241m=\u001B[39m \u001B[38;5;124m\"\u001B[39m\u001B[38;5;124mmulti:softprob\u001B[39m\u001B[38;5;124m\"\u001B[39m\n\u001B[0;32m   1460\u001B[0m     params[\u001B[38;5;124m\"\u001B[39m\u001B[38;5;124mnum_class\u001B[39m\u001B[38;5;124m\"\u001B[39m] \u001B[38;5;241m=\u001B[39m \u001B[38;5;28mself\u001B[39m\u001B[38;5;241m.\u001B[39mn_classes_\n\u001B[0;32m   1462\u001B[0m (\n\u001B[0;32m   1463\u001B[0m     model,\n\u001B[0;32m   1464\u001B[0m     metric,\n\u001B[0;32m   1465\u001B[0m     params,\n\u001B[0;32m   1466\u001B[0m     early_stopping_rounds,\n\u001B[0;32m   1467\u001B[0m     callbacks,\n\u001B[1;32m-> 1468\u001B[0m ) \u001B[38;5;241m=\u001B[39m \u001B[38;5;28;43mself\u001B[39;49m\u001B[38;5;241;43m.\u001B[39;49m\u001B[43m_configure_fit\u001B[49m\u001B[43m(\u001B[49m\n\u001B[0;32m   1469\u001B[0m \u001B[43m    \u001B[49m\u001B[43mxgb_model\u001B[49m\u001B[43m,\u001B[49m\u001B[43m \u001B[49m\u001B[43meval_metric\u001B[49m\u001B[43m,\u001B[49m\u001B[43m \u001B[49m\u001B[43mparams\u001B[49m\u001B[43m,\u001B[49m\u001B[43m \u001B[49m\u001B[43mearly_stopping_rounds\u001B[49m\u001B[43m,\u001B[49m\u001B[43m \u001B[49m\u001B[43mcallbacks\u001B[49m\n\u001B[0;32m   1470\u001B[0m \u001B[43m\u001B[49m\u001B[43m)\u001B[49m\n\u001B[0;32m   1471\u001B[0m train_dmatrix, evals \u001B[38;5;241m=\u001B[39m _wrap_evaluation_matrices(\n\u001B[0;32m   1472\u001B[0m     missing\u001B[38;5;241m=\u001B[39m\u001B[38;5;28mself\u001B[39m\u001B[38;5;241m.\u001B[39mmissing,\n\u001B[0;32m   1473\u001B[0m     X\u001B[38;5;241m=\u001B[39mX,\n\u001B[1;32m   (...)\u001B[0m\n\u001B[0;32m   1487\u001B[0m     feature_types\u001B[38;5;241m=\u001B[39m\u001B[38;5;28mself\u001B[39m\u001B[38;5;241m.\u001B[39mfeature_types,\n\u001B[0;32m   1488\u001B[0m )\n\u001B[0;32m   1490\u001B[0m \u001B[38;5;28mself\u001B[39m\u001B[38;5;241m.\u001B[39m_Booster \u001B[38;5;241m=\u001B[39m train(\n\u001B[0;32m   1491\u001B[0m     params,\n\u001B[0;32m   1492\u001B[0m     train_dmatrix,\n\u001B[1;32m   (...)\u001B[0m\n\u001B[0;32m   1501\u001B[0m     callbacks\u001B[38;5;241m=\u001B[39mcallbacks,\n\u001B[0;32m   1502\u001B[0m )\n",
      "File \u001B[1;32mC:\\work_and_fun\\partisans\\PP\\mistakes-and-regrets\\lib\\site-packages\\xgboost\\sklearn.py:892\u001B[0m, in \u001B[0;36mXGBModel._configure_fit\u001B[1;34m(self, booster, eval_metric, params, early_stopping_rounds, callbacks)\u001B[0m\n\u001B[0;32m    890\u001B[0m cat_support \u001B[38;5;241m=\u001B[39m {\u001B[38;5;124m\"\u001B[39m\u001B[38;5;124mgpu_hist\u001B[39m\u001B[38;5;124m\"\u001B[39m, \u001B[38;5;124m\"\u001B[39m\u001B[38;5;124mapprox\u001B[39m\u001B[38;5;124m\"\u001B[39m, \u001B[38;5;124m\"\u001B[39m\u001B[38;5;124mhist\u001B[39m\u001B[38;5;124m\"\u001B[39m}\n\u001B[0;32m    891\u001B[0m \u001B[38;5;28;01mif\u001B[39;00m \u001B[38;5;28mself\u001B[39m\u001B[38;5;241m.\u001B[39menable_categorical \u001B[38;5;129;01mand\u001B[39;00m tree_method \u001B[38;5;129;01mnot\u001B[39;00m \u001B[38;5;129;01min\u001B[39;00m cat_support:\n\u001B[1;32m--> 892\u001B[0m     \u001B[38;5;28;01mraise\u001B[39;00m \u001B[38;5;167;01mValueError\u001B[39;00m(\n\u001B[0;32m    893\u001B[0m         \u001B[38;5;124m\"\u001B[39m\u001B[38;5;124mExperimental support for categorical data is not implemented for\u001B[39m\u001B[38;5;124m\"\u001B[39m\n\u001B[0;32m    894\u001B[0m         \u001B[38;5;124m\"\u001B[39m\u001B[38;5;124m current tree method yet.\u001B[39m\u001B[38;5;124m\"\u001B[39m\n\u001B[0;32m    895\u001B[0m     )\n\u001B[0;32m    897\u001B[0m \u001B[38;5;28;01mreturn\u001B[39;00m model, metric, params, early_stopping_rounds, callbacks\n",
      "\u001B[1;31mValueError\u001B[0m: Experimental support for categorical data is not implemented for current tree method yet."
     ]
    }
   ],
   "source": [
    "%%time\n",
    "xgbst = XGBClassifier(n_estimators=2, max_depth=2, learning_rate=1, objective='binary:logistic', enable_categorical=True)\n",
    "xgbst.fit(x_train, y_train)"
   ],
   "metadata": {
    "collapsed": false,
    "pycharm": {
     "name": "#%%\n"
    }
   }
  },
  {
   "cell_type": "code",
   "execution_count": 61,
   "outputs": [],
   "source": [],
   "metadata": {
    "collapsed": false,
    "pycharm": {
     "name": "#%%\n"
    }
   }
  },
  {
   "cell_type": "code",
   "execution_count": 61,
   "outputs": [],
   "source": [],
   "metadata": {
    "collapsed": false,
    "pycharm": {
     "name": "#%%\n"
    }
   }
  },
  {
   "cell_type": "code",
   "execution_count": 61,
   "outputs": [],
   "source": [],
   "metadata": {
    "collapsed": false,
    "pycharm": {
     "name": "#%%\n"
    }
   }
  },
  {
   "cell_type": "code",
   "execution_count": 61,
   "outputs": [],
   "source": [],
   "metadata": {
    "collapsed": false,
    "pycharm": {
     "name": "#%%\n"
    }
   }
  },
  {
   "cell_type": "code",
   "execution_count": 61,
   "outputs": [],
   "source": [],
   "metadata": {
    "collapsed": false,
    "pycharm": {
     "name": "#%%\n"
    }
   }
  },
  {
   "cell_type": "code",
   "execution_count": 61,
   "outputs": [],
   "source": [],
   "metadata": {
    "collapsed": false,
    "pycharm": {
     "name": "#%%\n"
    }
   }
  },
  {
   "cell_type": "code",
   "execution_count": 61,
   "outputs": [],
   "source": [],
   "metadata": {
    "collapsed": false,
    "pycharm": {
     "name": "#%%\n"
    }
   }
  },
  {
   "cell_type": "code",
   "execution_count": 61,
   "outputs": [],
   "source": [],
   "metadata": {
    "collapsed": false,
    "pycharm": {
     "name": "#%%\n"
    }
   }
  },
  {
   "cell_type": "code",
   "execution_count": 61,
   "outputs": [],
   "source": [],
   "metadata": {
    "collapsed": false,
    "pycharm": {
     "name": "#%%\n"
    }
   }
  },
  {
   "cell_type": "code",
   "execution_count": 61,
   "outputs": [],
   "source": [],
   "metadata": {
    "collapsed": false,
    "pycharm": {
     "name": "#%%\n"
    }
   }
  },
  {
   "cell_type": "code",
   "execution_count": 61,
   "outputs": [],
   "source": [],
   "metadata": {
    "collapsed": false,
    "pycharm": {
     "name": "#%%\n"
    }
   }
  },
  {
   "cell_type": "code",
   "execution_count": 61,
   "outputs": [],
   "source": [],
   "metadata": {
    "collapsed": false,
    "pycharm": {
     "name": "#%%\n"
    }
   }
  },
  {
   "cell_type": "code",
   "execution_count": 61,
   "outputs": [],
   "source": [],
   "metadata": {
    "collapsed": false,
    "pycharm": {
     "name": "#%%\n"
    }
   }
  },
  {
   "cell_type": "code",
   "execution_count": 61,
   "outputs": [],
   "source": [],
   "metadata": {
    "collapsed": false,
    "pycharm": {
     "name": "#%%\n"
    }
   }
  },
  {
   "cell_type": "code",
   "execution_count": 61,
   "outputs": [],
   "source": [],
   "metadata": {
    "collapsed": false,
    "pycharm": {
     "name": "#%%\n"
    }
   }
  },
  {
   "cell_type": "code",
   "execution_count": 61,
   "outputs": [],
   "source": [],
   "metadata": {
    "collapsed": false,
    "pycharm": {
     "name": "#%%\n"
    }
   }
  },
  {
   "cell_type": "code",
   "execution_count": 61,
   "outputs": [],
   "source": [],
   "metadata": {
    "collapsed": false,
    "pycharm": {
     "name": "#%%\n"
    }
   }
  },
  {
   "cell_type": "code",
   "execution_count": 61,
   "outputs": [],
   "source": [],
   "metadata": {
    "collapsed": false,
    "pycharm": {
     "name": "#%%\n"
    }
   }
  },
  {
   "cell_type": "code",
   "execution_count": 61,
   "outputs": [],
   "source": [],
   "metadata": {
    "collapsed": false,
    "pycharm": {
     "name": "#%%\n"
    }
   }
  },
  {
   "cell_type": "code",
   "execution_count": 61,
   "outputs": [],
   "source": [],
   "metadata": {
    "collapsed": false,
    "pycharm": {
     "name": "#%%\n"
    }
   }
  },
  {
   "cell_type": "code",
   "execution_count": 61,
   "outputs": [],
   "source": [],
   "metadata": {
    "collapsed": false,
    "pycharm": {
     "name": "#%%\n"
    }
   }
  },
  {
   "cell_type": "code",
   "execution_count": 61,
   "outputs": [],
   "source": [],
   "metadata": {
    "collapsed": false,
    "pycharm": {
     "name": "#%%\n"
    }
   }
  },
  {
   "cell_type": "code",
   "execution_count": 61,
   "outputs": [],
   "source": [],
   "metadata": {
    "collapsed": false,
    "pycharm": {
     "name": "#%%\n"
    }
   }
  },
  {
   "cell_type": "code",
   "execution_count": 61,
   "outputs": [],
   "source": [],
   "metadata": {
    "collapsed": false,
    "pycharm": {
     "name": "#%%\n"
    }
   }
  },
  {
   "cell_type": "code",
   "execution_count": 61,
   "outputs": [],
   "source": [],
   "metadata": {
    "collapsed": false,
    "pycharm": {
     "name": "#%%\n"
    }
   }
  },
  {
   "cell_type": "code",
   "execution_count": 61,
   "outputs": [],
   "source": [],
   "metadata": {
    "collapsed": false,
    "pycharm": {
     "name": "#%%\n"
    }
   }
  },
  {
   "cell_type": "code",
   "execution_count": 61,
   "outputs": [],
   "source": [],
   "metadata": {
    "collapsed": false,
    "pycharm": {
     "name": "#%%\n"
    }
   }
  },
  {
   "cell_type": "code",
   "execution_count": 61,
   "outputs": [],
   "source": [],
   "metadata": {
    "collapsed": false,
    "pycharm": {
     "name": "#%%\n"
    }
   }
  },
  {
   "cell_type": "code",
   "execution_count": 61,
   "outputs": [],
   "source": [],
   "metadata": {
    "collapsed": false,
    "pycharm": {
     "name": "#%%\n"
    }
   }
  },
  {
   "cell_type": "code",
   "execution_count": 61,
   "outputs": [],
   "source": [],
   "metadata": {
    "collapsed": false,
    "pycharm": {
     "name": "#%%\n"
    }
   }
  },
  {
   "cell_type": "code",
   "execution_count": 61,
   "outputs": [],
   "source": [],
   "metadata": {
    "collapsed": false,
    "pycharm": {
     "name": "#%%\n"
    }
   }
  },
  {
   "cell_type": "code",
   "execution_count": 61,
   "outputs": [],
   "source": [],
   "metadata": {
    "collapsed": false,
    "pycharm": {
     "name": "#%%\n"
    }
   }
  },
  {
   "cell_type": "code",
   "execution_count": 61,
   "outputs": [],
   "source": [],
   "metadata": {
    "collapsed": false,
    "pycharm": {
     "name": "#%%\n"
    }
   }
  },
  {
   "cell_type": "code",
   "execution_count": 61,
   "outputs": [],
   "source": [],
   "metadata": {
    "collapsed": false,
    "pycharm": {
     "name": "#%%\n"
    }
   }
  },
  {
   "cell_type": "code",
   "execution_count": 61,
   "outputs": [],
   "source": [],
   "metadata": {
    "collapsed": false,
    "pycharm": {
     "name": "#%%\n"
    }
   }
  },
  {
   "cell_type": "markdown",
   "source": [
    "## Построение графиков roc-auc кривых"
   ],
   "metadata": {
    "collapsed": false,
    "pycharm": {
     "name": "#%% md\n"
    }
   }
  },
  {
   "cell_type": "code",
   "execution_count": 62,
   "outputs": [
    {
     "data": {
      "text/plain": "<Figure size 1500x600 with 1 Axes>",
      "image/png": "[encoded data removed]"
     },
     "metadata": {},
     "output_type": "display_data"
    }
   ],
   "source": [
    "plt.figure(figsize=(15, 6));\n",
    "plt.xlim([0, 1])\n",
    "plt.ylim([0, 1])\n",
    "\n",
    "plt.plot([0, 1], [0, 1]);\n",
    "\n",
    "for model, label in zip((vc, sc, bc, rf_best),\n",
    "                        ('VotingClassifier', 'StackingClassifier', 'BaggingClassifier', 'RandomForest')):\n",
    "    fpr, tpr, thresholds = roc_curve(y_train, model.fit(x_train, y_train).predict_proba(x_train)[:, 0])\n",
    "    plt.plot(tpr, fpr, label=label);\n",
    "    plt.legend(loc='lower right')\n",
    "    plt.legend(loc='upper left')"
   ],
   "metadata": {
    "collapsed": false,
    "pycharm": {
     "name": "#%%\n"
    }
   }
  },
  {
   "cell_type": "code",
   "execution_count": 62,
   "outputs": [],
   "source": [],
   "metadata": {
    "collapsed": false,
    "pycharm": {
     "name": "#%%\n"
    }
   }
  },
  {
   "cell_type": "code",
   "execution_count": 63,
   "outputs": [
    {
     "data": {
      "text/plain": "0.8363708037677912"
     },
     "execution_count": 63,
     "metadata": {},
     "output_type": "execute_result"
    }
   ],
   "source": [
    "roc_auc_score(y_train, vc.fit(x_train, y_train).predict(x_train))"
   ],
   "metadata": {
    "collapsed": false,
    "pycharm": {
     "name": "#%%\n"
    }
   }
  },
  {
   "cell_type": "code",
   "execution_count": 64,
   "outputs": [
    {
     "data": {
      "text/plain": "0.8322751981410017"
     },
     "execution_count": 64,
     "metadata": {},
     "output_type": "execute_result"
    }
   ],
   "source": [
    "roc_auc_score(y_train, rf_best.fit(x_train, y_train).predict(x_train))"
   ],
   "metadata": {
    "collapsed": false,
    "pycharm": {
     "name": "#%%\n"
    }
   }
  },
  {
   "cell_type": "code",
   "execution_count": 64,
   "outputs": [],
   "source": [],
   "metadata": {
    "collapsed": false,
    "pycharm": {
     "name": "#%%\n"
    }
   }
  },
  {
   "cell_type": "code",
   "execution_count": 64,
   "outputs": [],
   "source": [],
   "metadata": {
    "collapsed": false,
    "pycharm": {
     "name": "#%%\n"
    }
   }
  },
  {
   "cell_type": "code",
   "execution_count": 64,
   "outputs": [],
   "source": [],
   "metadata": {
    "collapsed": false,
    "pycharm": {
     "name": "#%%\n"
    }
   }
  }
 ],
 "metadata": {
  "kernelspec": {
   "display_name": "Python 3",
   "language": "python",
   "name": "python3"
  },
  "language_info": {
   "codemirror_mode": {
    "name": "ipython",
    "version": 2
   },
   "file_extension": ".py",
   "mimetype": "text/x-python",
   "name": "python",
   "nbconvert_exporter": "python",
   "pygments_lexer": "ipython2",
   "version": "2.7.6"
  }
 },
 "nbformat": 4,
 "nbformat_minor": 0
}