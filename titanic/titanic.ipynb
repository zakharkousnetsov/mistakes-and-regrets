{
 "cells": [
  {
   "cell_type": "code",
   "execution_count": 123,
   "metadata": {
    "collapsed": true,
    "pycharm": {
     "name": "#%%\n"
    }
   },
   "outputs": [],
   "source": [
    "import pandas as pd\n",
    "import matplotlib.pyplot as plt\n",
    "import seaborn as sns\n",
    "from sklearn.compose import ColumnTransformer\n",
    "from sklearn.experimental import enable_iterative_imputer\n",
    "from sklearn.impute import SimpleImputer, IterativeImputer\n",
    "from sklearn.preprocessing import StandardScaler, MinMaxScaler, OneHotEncoder, LabelEncoder, OrdinalEncoder, PolynomialFeatures\n",
    "from sklearn.pipeline import Pipeline\n",
    "from sklearn.compose import make_column_selector as selector\n",
    "from sklearn.linear_model import LogisticRegression\n",
    "from sklearn.model_selection import cross_val_score\n",
    "from sklearn.model_selection import GridSearchCV\n",
    "from sklearn.inspection import permutation_importance\n",
    "from sklearn.feature_selection import RFECV\n",
    "from sklearn.feature_selection import RFE\n",
    "from sklearn.svm import SVC, LinearSVC\n",
    "from sklearn.naive_bayes import BernoulliNB, CategoricalNB, ComplementNB, GaussianNB, MultinomialNB\n",
    "from sklearn.tree import DecisionTreeClassifier\n",
    "from sklearn.ensemble import RandomForestClassifier, ExtraTreesClassifier, RandomTreesEmbedding, BaggingClassifier"
   ]
  },
  {
   "cell_type": "markdown",
   "source": [
    "# Импорт библиотек"
   ],
   "metadata": {
    "collapsed": false,
    "pycharm": {
     "name": "#%% md\n"
    }
   }
  },
  {
   "cell_type": "code",
   "execution_count": 2,
   "outputs": [
    {
     "data": {
      "text/plain": "     PassengerId  Survived  Pclass                            Name     Sex  \\\n244          245         0       3            Attalah, Mr. Sleiman    male   \n285          286         0       3             Stankovic, Mr. Ivan    male   \n233          234         1       3  Asplund, Miss. Lillian Gertrud  female   \n\n      Age  SibSp  Parch  Ticket     Fare Cabin Embarked  \n244  30.0      0      0    2694   7.2250   NaN        C  \n285  33.0      0      0  349239   8.6625   NaN        C  \n233   5.0      4      2  347077  31.3875   NaN        S  ",
      "text/html": "<div>\n<style scoped>\n    .dataframe tbody tr th:only-of-type {\n        vertical-align: middle;\n    }\n\n    .dataframe tbody tr th {\n        vertical-align: top;\n    }\n\n    .dataframe thead th {\n        text-align: right;\n    }\n</style>\n<table border=\"1\" class=\"dataframe\">\n  <thead>\n    <tr style=\"text-align: right;\">\n      <th></th>\n      <th>PassengerId</th>\n      <th>Survived</th>\n      <th>Pclass</th>\n      <th>Name</th>\n      <th>Sex</th>\n      <th>Age</th>\n      <th>SibSp</th>\n      <th>Parch</th>\n      <th>Ticket</th>\n      <th>Fare</th>\n      <th>Cabin</th>\n      <th>Embarked</th>\n    </tr>\n  </thead>\n  <tbody>\n    <tr>\n      <th>244</th>\n      <td>245</td>\n      <td>0</td>\n      <td>3</td>\n      <td>Attalah, Mr. Sleiman</td>\n      <td>male</td>\n      <td>30.0</td>\n      <td>0</td>\n      <td>0</td>\n      <td>2694</td>\n      <td>7.2250</td>\n      <td>NaN</td>\n      <td>C</td>\n    </tr>\n    <tr>\n      <th>285</th>\n      <td>286</td>\n      <td>0</td>\n      <td>3</td>\n      <td>Stankovic, Mr. Ivan</td>\n      <td>male</td>\n      <td>33.0</td>\n      <td>0</td>\n      <td>0</td>\n      <td>349239</td>\n      <td>8.6625</td>\n      <td>NaN</td>\n      <td>C</td>\n    </tr>\n    <tr>\n      <th>233</th>\n      <td>234</td>\n      <td>1</td>\n      <td>3</td>\n      <td>Asplund, Miss. Lillian Gertrud</td>\n      <td>female</td>\n      <td>5.0</td>\n      <td>4</td>\n      <td>2</td>\n      <td>347077</td>\n      <td>31.3875</td>\n      <td>NaN</td>\n      <td>S</td>\n    </tr>\n  </tbody>\n</table>\n</div>"
     },
     "execution_count": 2,
     "metadata": {},
     "output_type": "execute_result"
    }
   ],
   "source": [
    "df = pd.read_csv('train.csv')\n",
    "test = pd.read_csv('test.csv')\n",
    "df.sample(3)"
   ],
   "metadata": {
    "collapsed": false,
    "pycharm": {
     "name": "#%%\n"
    }
   }
  },
  {
   "cell_type": "markdown",
   "source": [
    "## Выставление настроек"
   ],
   "metadata": {
    "collapsed": false,
    "pycharm": {
     "name": "#%% md\n"
    }
   }
  },
  {
   "cell_type": "code",
   "execution_count": 3,
   "outputs": [
    {
     "data": {
      "text/plain": "4"
     },
     "execution_count": 3,
     "metadata": {},
     "output_type": "execute_result"
    }
   ],
   "source": [
    "2+2"
   ],
   "metadata": {
    "collapsed": false,
    "pycharm": {
     "name": "#%%\n"
    }
   }
  },
  {
   "cell_type": "code",
   "execution_count": 3,
   "outputs": [],
   "source": [],
   "metadata": {
    "collapsed": false,
    "pycharm": {
     "name": "#%%\n"
    }
   }
  },
  {
   "cell_type": "markdown",
   "source": [
    "# Обработка данных"
   ],
   "metadata": {
    "collapsed": false,
    "pycharm": {
     "name": "#%% md\n"
    }
   }
  },
  {
   "cell_type": "markdown",
   "source": [
    "Начнем с того, что приведем все названия колонок к \"змеиной нотации\""
   ],
   "metadata": {
    "collapsed": false,
    "pycharm": {
     "name": "#%% md\n"
    }
   }
  },
  {
   "cell_type": "code",
   "execution_count": 4,
   "outputs": [],
   "source": [
    "df.columns = df.columns.str.lower()\n",
    "test.columns = test.columns.str.lower()"
   ],
   "metadata": {
    "collapsed": false,
    "pycharm": {
     "name": "#%%\n"
    }
   }
  },
  {
   "cell_type": "markdown",
   "source": [
    "Переведем колонку с индексом в индекс датафрейма"
   ],
   "metadata": {
    "collapsed": false,
    "pycharm": {
     "name": "#%% md\n"
    }
   }
  },
  {
   "cell_type": "code",
   "execution_count": 5,
   "outputs": [],
   "source": [
    "df = df.set_index('passengerid')\n",
    "test = test.set_index('passengerid')"
   ],
   "metadata": {
    "collapsed": false,
    "pycharm": {
     "name": "#%%\n"
    }
   }
  },
  {
   "cell_type": "markdown",
   "source": [
    "Выведем общую информацию об обучающем и тестовом датасетах"
   ],
   "metadata": {
    "collapsed": false,
    "pycharm": {
     "name": "#%% md\n"
    }
   }
  },
  {
   "cell_type": "code",
   "execution_count": 6,
   "outputs": [],
   "source": [
    "def full_info(df):\n",
    "    display(pd.DataFrame({'Non-Null Count': (~df.isna()).sum(),\n",
    "                          'Null Count': df.isna().sum(),\n",
    "                          'Dtype': df.dtypes}).join(df.describe().T).rename_axis('Feature', axis=1).fillna(''))"
   ],
   "metadata": {
    "collapsed": false,
    "pycharm": {
     "name": "#%%\n"
    }
   }
  },
  {
   "cell_type": "code",
   "execution_count": 7,
   "outputs": [
    {
     "data": {
      "text/plain": "Feature   Non-Null Count  Null Count    Dtype  count       mean        std  \\\nsurvived             891           0    int64  891.0   0.383838   0.486592   \npclass               891           0    int64  891.0   2.308642   0.836071   \nname                 891           0   object                                \nsex                  891           0   object                                \nage                  714         177  float64  714.0  29.699118  14.526497   \nsibsp                891           0    int64  891.0   0.523008   1.102743   \nparch                891           0    int64  891.0   0.381594   0.806057   \nticket               891           0   object                                \nfare                 891           0  float64  891.0  32.204208  49.693429   \ncabin                204         687   object                                \nembarked             889           2   object                                \n\nFeature    min     25%      50%   75%       max  \nsurvived   0.0     0.0      0.0   1.0       1.0  \npclass     1.0     2.0      3.0   3.0       3.0  \nname                                             \nsex                                              \nage       0.42  20.125     28.0  38.0      80.0  \nsibsp      0.0     0.0      0.0   1.0       8.0  \nparch      0.0     0.0      0.0   0.0       6.0  \nticket                                           \nfare       0.0  7.9104  14.4542  31.0  512.3292  \ncabin                                            \nembarked                                         ",
      "text/html": "<div>\n<style scoped>\n    .dataframe tbody tr th:only-of-type {\n        vertical-align: middle;\n    }\n\n    .dataframe tbody tr th {\n        vertical-align: top;\n    }\n\n    .dataframe thead th {\n        text-align: right;\n    }\n</style>\n<table border=\"1\" class=\"dataframe\">\n  <thead>\n    <tr style=\"text-align: right;\">\n      <th>Feature</th>\n      <th>Non-Null Count</th>\n      <th>Null Count</th>\n      <th>Dtype</th>\n      <th>count</th>\n      <th>mean</th>\n      <th>std</th>\n      <th>min</th>\n      <th>25%</th>\n      <th>50%</th>\n      <th>75%</th>\n      <th>max</th>\n    </tr>\n  </thead>\n  <tbody>\n    <tr>\n      <th>survived</th>\n      <td>891</td>\n      <td>0</td>\n      <td>int64</td>\n      <td>891.0</td>\n      <td>0.383838</td>\n      <td>0.486592</td>\n      <td>0.0</td>\n      <td>0.0</td>\n      <td>0.0</td>\n      <td>1.0</td>\n      <td>1.0</td>\n    </tr>\n    <tr>\n      <th>pclass</th>\n      <td>891</td>\n      <td>0</td>\n      <td>int64</td>\n      <td>891.0</td>\n      <td>2.308642</td>\n      <td>0.836071</td>\n      <td>1.0</td>\n      <td>2.0</td>\n      <td>3.0</td>\n      <td>3.0</td>\n      <td>3.0</td>\n    </tr>\n    <tr>\n      <th>name</th>\n      <td>891</td>\n      <td>0</td>\n      <td>object</td>\n      <td></td>\n      <td></td>\n      <td></td>\n      <td></td>\n      <td></td>\n      <td></td>\n      <td></td>\n      <td></td>\n    </tr>\n    <tr>\n      <th>sex</th>\n      <td>891</td>\n      <td>0</td>\n      <td>object</td>\n      <td></td>\n      <td></td>\n      <td></td>\n      <td></td>\n      <td></td>\n      <td></td>\n      <td></td>\n      <td></td>\n    </tr>\n    <tr>\n      <th>age</th>\n      <td>714</td>\n      <td>177</td>\n      <td>float64</td>\n      <td>714.0</td>\n      <td>29.699118</td>\n      <td>14.526497</td>\n      <td>0.42</td>\n      <td>20.125</td>\n      <td>28.0</td>\n      <td>38.0</td>\n      <td>80.0</td>\n    </tr>\n    <tr>\n      <th>sibsp</th>\n      <td>891</td>\n      <td>0</td>\n      <td>int64</td>\n      <td>891.0</td>\n      <td>0.523008</td>\n      <td>1.102743</td>\n      <td>0.0</td>\n      <td>0.0</td>\n      <td>0.0</td>\n      <td>1.0</td>\n      <td>8.0</td>\n    </tr>\n    <tr>\n      <th>parch</th>\n      <td>891</td>\n      <td>0</td>\n      <td>int64</td>\n      <td>891.0</td>\n      <td>0.381594</td>\n      <td>0.806057</td>\n      <td>0.0</td>\n      <td>0.0</td>\n      <td>0.0</td>\n      <td>0.0</td>\n      <td>6.0</td>\n    </tr>\n    <tr>\n      <th>ticket</th>\n      <td>891</td>\n      <td>0</td>\n      <td>object</td>\n      <td></td>\n      <td></td>\n      <td></td>\n      <td></td>\n      <td></td>\n      <td></td>\n      <td></td>\n      <td></td>\n    </tr>\n    <tr>\n      <th>fare</th>\n      <td>891</td>\n      <td>0</td>\n      <td>float64</td>\n      <td>891.0</td>\n      <td>32.204208</td>\n      <td>49.693429</td>\n      <td>0.0</td>\n      <td>7.9104</td>\n      <td>14.4542</td>\n      <td>31.0</td>\n      <td>512.3292</td>\n    </tr>\n    <tr>\n      <th>cabin</th>\n      <td>204</td>\n      <td>687</td>\n      <td>object</td>\n      <td></td>\n      <td></td>\n      <td></td>\n      <td></td>\n      <td></td>\n      <td></td>\n      <td></td>\n      <td></td>\n    </tr>\n    <tr>\n      <th>embarked</th>\n      <td>889</td>\n      <td>2</td>\n      <td>object</td>\n      <td></td>\n      <td></td>\n      <td></td>\n      <td></td>\n      <td></td>\n      <td></td>\n      <td></td>\n      <td></td>\n    </tr>\n  </tbody>\n</table>\n</div>"
     },
     "metadata": {},
     "output_type": "display_data"
    }
   ],
   "source": [
    "full_info(df)"
   ],
   "metadata": {
    "collapsed": false,
    "pycharm": {
     "name": "#%%\n"
    }
   }
  },
  {
   "cell_type": "code",
   "execution_count": 8,
   "outputs": [
    {
     "data": {
      "text/plain": "Feature   Non-Null Count  Null Count    Dtype  count       mean        std  \\\npclass               418           0    int64  418.0    2.26555   0.841838   \nname                 418           0   object                                \nsex                  418           0   object                                \nage                  332          86  float64  332.0   30.27259  14.181209   \nsibsp                418           0    int64  418.0   0.447368    0.89676   \nparch                418           0    int64  418.0   0.392344   0.981429   \nticket               418           0   object                                \nfare                 417           1  float64  417.0  35.627188  55.907576   \ncabin                 91         327   object                                \nembarked             418           0   object                                \n\nFeature    min     25%      50%   75%       max  \npclass     1.0     1.0      3.0   3.0       3.0  \nname                                             \nsex                                              \nage       0.17    21.0     27.0  39.0      76.0  \nsibsp      0.0     0.0      0.0   1.0       8.0  \nparch      0.0     0.0      0.0   0.0       9.0  \nticket                                           \nfare       0.0  7.8958  14.4542  31.5  512.3292  \ncabin                                            \nembarked                                         ",
      "text/html": "<div>\n<style scoped>\n    .dataframe tbody tr th:only-of-type {\n        vertical-align: middle;\n    }\n\n    .dataframe tbody tr th {\n        vertical-align: top;\n    }\n\n    .dataframe thead th {\n        text-align: right;\n    }\n</style>\n<table border=\"1\" class=\"dataframe\">\n  <thead>\n    <tr style=\"text-align: right;\">\n      <th>Feature</th>\n      <th>Non-Null Count</th>\n      <th>Null Count</th>\n      <th>Dtype</th>\n      <th>count</th>\n      <th>mean</th>\n      <th>std</th>\n      <th>min</th>\n      <th>25%</th>\n      <th>50%</th>\n      <th>75%</th>\n      <th>max</th>\n    </tr>\n  </thead>\n  <tbody>\n    <tr>\n      <th>pclass</th>\n      <td>418</td>\n      <td>0</td>\n      <td>int64</td>\n      <td>418.0</td>\n      <td>2.26555</td>\n      <td>0.841838</td>\n      <td>1.0</td>\n      <td>1.0</td>\n      <td>3.0</td>\n      <td>3.0</td>\n      <td>3.0</td>\n    </tr>\n    <tr>\n      <th>name</th>\n      <td>418</td>\n      <td>0</td>\n      <td>object</td>\n      <td></td>\n      <td></td>\n      <td></td>\n      <td></td>\n      <td></td>\n      <td></td>\n      <td></td>\n      <td></td>\n    </tr>\n    <tr>\n      <th>sex</th>\n      <td>418</td>\n      <td>0</td>\n      <td>object</td>\n      <td></td>\n      <td></td>\n      <td></td>\n      <td></td>\n      <td></td>\n      <td></td>\n      <td></td>\n      <td></td>\n    </tr>\n    <tr>\n      <th>age</th>\n      <td>332</td>\n      <td>86</td>\n      <td>float64</td>\n      <td>332.0</td>\n      <td>30.27259</td>\n      <td>14.181209</td>\n      <td>0.17</td>\n      <td>21.0</td>\n      <td>27.0</td>\n      <td>39.0</td>\n      <td>76.0</td>\n    </tr>\n    <tr>\n      <th>sibsp</th>\n      <td>418</td>\n      <td>0</td>\n      <td>int64</td>\n      <td>418.0</td>\n      <td>0.447368</td>\n      <td>0.89676</td>\n      <td>0.0</td>\n      <td>0.0</td>\n      <td>0.0</td>\n      <td>1.0</td>\n      <td>8.0</td>\n    </tr>\n    <tr>\n      <th>parch</th>\n      <td>418</td>\n      <td>0</td>\n      <td>int64</td>\n      <td>418.0</td>\n      <td>0.392344</td>\n      <td>0.981429</td>\n      <td>0.0</td>\n      <td>0.0</td>\n      <td>0.0</td>\n      <td>0.0</td>\n      <td>9.0</td>\n    </tr>\n    <tr>\n      <th>ticket</th>\n      <td>418</td>\n      <td>0</td>\n      <td>object</td>\n      <td></td>\n      <td></td>\n      <td></td>\n      <td></td>\n      <td></td>\n      <td></td>\n      <td></td>\n      <td></td>\n    </tr>\n    <tr>\n      <th>fare</th>\n      <td>417</td>\n      <td>1</td>\n      <td>float64</td>\n      <td>417.0</td>\n      <td>35.627188</td>\n      <td>55.907576</td>\n      <td>0.0</td>\n      <td>7.8958</td>\n      <td>14.4542</td>\n      <td>31.5</td>\n      <td>512.3292</td>\n    </tr>\n    <tr>\n      <th>cabin</th>\n      <td>91</td>\n      <td>327</td>\n      <td>object</td>\n      <td></td>\n      <td></td>\n      <td></td>\n      <td></td>\n      <td></td>\n      <td></td>\n      <td></td>\n      <td></td>\n    </tr>\n    <tr>\n      <th>embarked</th>\n      <td>418</td>\n      <td>0</td>\n      <td>object</td>\n      <td></td>\n      <td></td>\n      <td></td>\n      <td></td>\n      <td></td>\n      <td></td>\n      <td></td>\n      <td></td>\n    </tr>\n  </tbody>\n</table>\n</div>"
     },
     "metadata": {},
     "output_type": "display_data"
    }
   ],
   "source": [
    "full_info(test)"
   ],
   "metadata": {
    "collapsed": false,
    "pycharm": {
     "name": "#%%\n"
    }
   }
  },
  {
   "cell_type": "markdown",
   "source": [
    "Выводы следующие:\n",
    "* В обучающем датасете 891 наблюдение\n",
    "* Пропуски есть в колонках с возрастом и номером кабины(?). Пропуски есть также и в тестовом датасете, поэтому модель должна уметь работать с ними\n",
    "* Не все типы данных оптимальны\n",
    "* есть небольшой дисбаланс в пользу погибших"
   ],
   "metadata": {
    "collapsed": false,
    "pycharm": {
     "name": "#%% md\n"
    }
   }
  },
  {
   "cell_type": "markdown",
   "source": [
    "Удалим признак с номером кабины, так как восстановить эту информацию и использовать далее не удастся"
   ],
   "metadata": {
    "collapsed": false,
    "pycharm": {
     "name": "#%% md\n"
    }
   }
  },
  {
   "cell_type": "code",
   "execution_count": 9,
   "outputs": [],
   "source": [
    "try:\n",
    "    df = df.drop('cabin', axis=1)\n",
    "    test = test.drop('cabin', axis=1)\n",
    "except:\n",
    "    print('Признака уже нет')"
   ],
   "metadata": {
    "collapsed": false,
    "pycharm": {
     "name": "#%%\n"
    }
   }
  },
  {
   "cell_type": "markdown",
   "source": [
    "Поменяем типы данных"
   ],
   "metadata": {
    "collapsed": false,
    "pycharm": {
     "name": "#%% md\n"
    }
   }
  },
  {
   "cell_type": "code",
   "execution_count": 10,
   "outputs": [],
   "source": [
    "df['pclass'] = df['pclass'].replace({1: 'first', 2: 'second', 3: 'third'})\n",
    "test['pclass'] = test['pclass'].replace({1: 'first', 2: 'second', 3: 'third'})"
   ],
   "metadata": {
    "collapsed": false,
    "pycharm": {
     "name": "#%%\n"
    }
   }
  },
  {
   "cell_type": "code",
   "execution_count": 11,
   "outputs": [],
   "source": [
    "df['sex'] = df['sex'].replace({'male': 0, 'female': 1}).astype('bool')\n",
    "test['sex'] = test['sex'].replace({'male': 0, 'female': 1}).astype('bool')"
   ],
   "metadata": {
    "collapsed": false,
    "pycharm": {
     "name": "#%%\n"
    }
   }
  },
  {
   "cell_type": "markdown",
   "source": [
    "Добавим новый признак, равный длине имени. Позже проверим, как это влияет на шансы выжить"
   ],
   "metadata": {
    "collapsed": false,
    "pycharm": {
     "name": "#%% md\n"
    }
   }
  },
  {
   "cell_type": "code",
   "execution_count": 12,
   "outputs": [],
   "source": [
    "df['name_length'] = df['name'].apply(len)\n",
    "test['name_length'] = test['name'].apply(len)"
   ],
   "metadata": {
    "collapsed": false,
    "pycharm": {
     "name": "#%%\n"
    }
   }
  },
  {
   "cell_type": "markdown",
   "source": [
    "Посмотрим на признак \"номер билета\""
   ],
   "metadata": {
    "collapsed": false,
    "pycharm": {
     "name": "#%% md\n"
    }
   }
  },
  {
   "cell_type": "code",
   "execution_count": 13,
   "outputs": [
    {
     "data": {
      "text/plain": "ticket\n347082      7\nCA. 2343    7\n1601        7\n3101295     6\nCA 2144     6\n           ..\n9234        1\n19988       1\n2693        1\nPC 17612    1\n370376      1\nName: count, Length: 681, dtype: int64"
     },
     "execution_count": 13,
     "metadata": {},
     "output_type": "execute_result"
    }
   ],
   "source": [
    "df['ticket'].value_counts()"
   ],
   "metadata": {
    "collapsed": false,
    "pycharm": {
     "name": "#%%\n"
    }
   }
  },
  {
   "cell_type": "markdown",
   "source": [
    "Совпадающих значений мало, удалим признак"
   ],
   "metadata": {
    "collapsed": false,
    "pycharm": {
     "name": "#%% md\n"
    }
   }
  },
  {
   "cell_type": "code",
   "execution_count": 14,
   "outputs": [],
   "source": [
    "df = df.drop('ticket', axis=1)\n",
    "test = test.drop('ticket', axis=1)"
   ],
   "metadata": {
    "collapsed": false,
    "pycharm": {
     "name": "#%%\n"
    }
   }
  },
  {
   "cell_type": "markdown",
   "source": [
    "# Исследование данных"
   ],
   "metadata": {
    "collapsed": false,
    "pycharm": {
     "name": "#%% md\n"
    }
   }
  },
  {
   "cell_type": "markdown",
   "source": [
    "Построим по порядку для всех признаков графики, позволяющие пока визуально оценить влияние признака на целевую переменную"
   ],
   "metadata": {
    "collapsed": false,
    "pycharm": {
     "name": "#%% md\n"
    }
   }
  },
  {
   "cell_type": "markdown",
   "source": [
    "## Номер класса"
   ],
   "metadata": {
    "collapsed": false,
    "pycharm": {
     "name": "#%% md\n"
    }
   }
  },
  {
   "cell_type": "code",
   "execution_count": 15,
   "outputs": [
    {
     "data": {
      "text/plain": "pclass  survived\nfirst   1           0.63\n        0           0.37\nsecond  0           0.53\n        1           0.47\nthird   0           0.76\n        1           0.24\nName: proportion, dtype: float64"
     },
     "execution_count": 15,
     "metadata": {},
     "output_type": "execute_result"
    }
   ],
   "source": [
    "df.groupby('pclass')['survived'].value_counts(normalize=True).round(2)"
   ],
   "metadata": {
    "collapsed": false,
    "pycharm": {
     "name": "#%%\n"
    }
   }
  },
  {
   "cell_type": "code",
   "execution_count": 16,
   "outputs": [
    {
     "data": {
      "text/plain": "<Figure size 1600x600 with 2 Axes>",
      "image/png": "[encoded data removed]"
     },
     "metadata": {},
     "output_type": "display_data"
    }
   ],
   "source": [
    "fig, [ax1, ax2] = plt.subplots(1, 2, figsize=(16, 6))\n",
    "\n",
    "plt.suptitle('Барчарты выживаемости для пассажиров разного класса')\n",
    "df.groupby(['pclass', 'survived'])['survived'].value_counts().unstack().plot.barh(ax=ax1);\n",
    "ax1.legend(loc='lower right');\n",
    "ax1.set_title('матплотлиб')\n",
    "\n",
    "sns.barplot(data=df.groupby(['pclass', 'survived'])['survived'].value_counts().reset_index(),\n",
    "            y='pclass',\n",
    "            order=['third', 'second', 'first'],\n",
    "            x='count',\n",
    "            hue='survived',\n",
    "            # hue_order=[0, 1],\n",
    "            orient='h',\n",
    "            ax=ax2);\n",
    "ax2.set_title('сиборн');"
   ],
   "metadata": {
    "collapsed": false,
    "pycharm": {
     "name": "#%%\n"
    }
   }
  },
  {
   "cell_type": "markdown",
   "source": [
    "Предсказуемо, шансы выжить у пассажиров первого класса были выше"
   ],
   "metadata": {
    "collapsed": false,
    "pycharm": {
     "name": "#%% md\n"
    }
   }
  },
  {
   "cell_type": "markdown",
   "source": [
    "## Имя\n",
    "\n",
    "Проверим, существует ли связь между длиной имени и вероятностью выжить."
   ],
   "metadata": {
    "collapsed": false,
    "pycharm": {
     "name": "#%% md\n"
    }
   }
  },
  {
   "cell_type": "code",
   "execution_count": 17,
   "outputs": [
    {
     "data": {
      "text/plain": "<Figure size 640x480 with 1 Axes>",
      "image/png": "[encoded data removed]"
     },
     "metadata": {},
     "output_type": "display_data"
    }
   ],
   "source": [
    "df.groupby('survived')['name_length'].plot(bins=20, alpha=0.5, kind='hist', grid=False);\n",
    "plt.legend();\n",
    "plt.title('Зависимость длины имени от вероятности выжить')\n",
    "plt.xlabel('Длина имени в билете');"
   ],
   "metadata": {
    "collapsed": false,
    "pycharm": {
     "name": "#%%\n"
    }
   }
  },
  {
   "cell_type": "markdown",
   "source": [
    "Удалим признак с именем"
   ],
   "metadata": {
    "collapsed": false,
    "pycharm": {
     "name": "#%% md\n"
    }
   }
  },
  {
   "cell_type": "code",
   "execution_count": 18,
   "outputs": [],
   "source": [
    "df = df.drop('name', axis=1)"
   ],
   "metadata": {
    "collapsed": false,
    "pycharm": {
     "name": "#%%\n"
    }
   }
  },
  {
   "cell_type": "markdown",
   "source": [
    "## Пол"
   ],
   "metadata": {
    "collapsed": false,
    "pycharm": {
     "name": "#%% md\n"
    }
   }
  },
  {
   "cell_type": "code",
   "execution_count": 19,
   "outputs": [
    {
     "data": {
      "text/plain": "<Figure size 640x480 with 2 Axes>",
      "image/png": "[encoded data removed]"
     },
     "metadata": {},
     "output_type": "display_data"
    }
   ],
   "source": [
    "sns.heatmap(df.groupby(['sex', 'survived'])['survived'].count().unstack(), annot=True, fmt='.3g');"
   ],
   "metadata": {
    "collapsed": false,
    "pycharm": {
     "name": "#%%\n"
    }
   }
  },
  {
   "cell_type": "markdown",
   "source": [
    "Среди женщин выжило примерно 75%, среди мужчин - 20%"
   ],
   "metadata": {
    "collapsed": false,
    "pycharm": {
     "name": "#%% md\n"
    }
   }
  },
  {
   "cell_type": "markdown",
   "source": [
    "## Возраст"
   ],
   "metadata": {
    "collapsed": false,
    "pycharm": {
     "name": "#%% md\n"
    }
   }
  },
  {
   "cell_type": "code",
   "execution_count": 20,
   "outputs": [
    {
     "data": {
      "text/plain": "<Figure size 1600x600 with 2 Axes>",
      "image/png": "[encoded data removed]"
     },
     "metadata": {},
     "output_type": "display_data"
    }
   ],
   "source": [
    "fig, [ax1, ax2] = plt.subplots(1, 2, figsize=(16, 6))\n",
    "\n",
    "# fig.title('a')\n",
    "fig.suptitle('b')\n",
    "plt.title('c')\n",
    "plt.suptitle('d')\n",
    "\n",
    "df.groupby('survived')['age'].plot(bins=20, alpha=0.5, kind='hist', grid=False, ax=ax1);\n",
    "ax1.legend();\n",
    "ax1.set_xlabel('Возраст');\n",
    "\n",
    "df.boxplot(column='age', by='survived', grid=False, ax=ax2);\n",
    "ax2.set_xlabel('');\n",
    "ax2.set_title('')\n",
    "ax2.set_xlabel('Выжил/нет выжил')\n",
    "ax2.set_ylabel('Возраст');"
   ],
   "metadata": {
    "collapsed": false,
    "pycharm": {
     "name": "#%%\n"
    }
   }
  },
  {
   "cell_type": "markdown",
   "source": [
    "# Обучение моделей"
   ],
   "metadata": {
    "collapsed": false,
    "pycharm": {
     "name": "#%% md\n"
    }
   }
  },
  {
   "cell_type": "markdown",
   "source": [
    "## Разделение датасета на признаки и таргет"
   ],
   "metadata": {
    "collapsed": false,
    "pycharm": {
     "name": "#%% md\n"
    }
   }
  },
  {
   "cell_type": "code",
   "execution_count": 21,
   "outputs": [],
   "source": [
    "x = df.drop('survived', axis=1)\n",
    "y = df['survived']"
   ],
   "metadata": {
    "collapsed": false,
    "pycharm": {
     "name": "#%%\n"
    }
   }
  },
  {
   "cell_type": "markdown",
   "source": [
    "## Линейные модели"
   ],
   "metadata": {
    "collapsed": false,
    "pycharm": {
     "name": "#%% md\n"
    }
   }
  },
  {
   "cell_type": "markdown",
   "source": [
    "Построим пайплайн преобразования признаков для линейной модели"
   ],
   "metadata": {
    "collapsed": false,
    "pycharm": {
     "name": "#%% md\n"
    }
   }
  },
  {
   "cell_type": "code",
   "execution_count": 22,
   "outputs": [
    {
     "data": {
      "text/plain": "Pipeline(steps=[('',\n                 ColumnTransformer(remainder='passthrough',\n                                   transformers=[('nums',\n                                                  Pipeline(steps=[('imputer',\n                                                                   SimpleImputer()),\n                                                                  ('scaler',\n                                                                   StandardScaler())]),\n                                                  <sklearn.compose._column_transformer.make_column_selector object at 0x000001D832BE9E20>),\n                                                 ('cats',\n                                                  Pipeline(steps=[('imputer',\n                                                                   SimpleImputer(strategy='most_frequent')),\n                                                                  ('ohe',\n                                                                   OneHotEncoder(drop='first'))]),\n                                                  <sklearn.compose._column_transformer.make_column_selector object at 0x000001D832BE9DF0>)]))])",
      "text/html": "<style>#sk-container-id-1 {color: black;background-color: white;}#sk-container-id-1 pre{padding: 0;}#sk-container-id-1 div.sk-toggleable {background-color: white;}#sk-container-id-1 label.sk-toggleable__label {cursor: pointer;display: block;width: 100%;margin-bottom: 0;padding: 0.3em;box-sizing: border-box;text-align: center;}#sk-container-id-1 label.sk-toggleable__label-arrow:before {content: \"▸\";float: left;margin-right: 0.25em;color: #696969;}#sk-container-id-1 label.sk-toggleable__label-arrow:hover:before {color: black;}#sk-container-id-1 div.sk-estimator:hover label.sk-toggleable__label-arrow:before {color: black;}#sk-container-id-1 div.sk-toggleable__content {max-height: 0;max-width: 0;overflow: hidden;text-align: left;background-color: #f0f8ff;}#sk-container-id-1 div.sk-toggleable__content pre {margin: 0.2em;color: black;border-radius: 0.25em;background-color: #f0f8ff;}#sk-container-id-1 input.sk-toggleable__control:checked~div.sk-toggleable__content {max-height: 200px;max-width: 100%;overflow: auto;}#sk-container-id-1 input.sk-toggleable__control:checked~label.sk-toggleable__label-arrow:before {content: \"▾\";}#sk-container-id-1 div.sk-estimator input.sk-toggleable__control:checked~label.sk-toggleable__label {background-color: #d4ebff;}#sk-container-id-1 div.sk-label input.sk-toggleable__control:checked~label.sk-toggleable__label {background-color: #d4ebff;}#sk-container-id-1 input.sk-hidden--visually {border: 0;clip: rect(1px 1px 1px 1px);clip: rect(1px, 1px, 1px, 1px);height: 1px;margin: -1px;overflow: hidden;padding: 0;position: absolute;width: 1px;}#sk-container-id-1 div.sk-estimator {font-family: monospace;background-color: #f0f8ff;border: 1px dotted black;border-radius: 0.25em;box-sizing: border-box;margin-bottom: 0.5em;}#sk-container-id-1 div.sk-estimator:hover {background-color: #d4ebff;}#sk-container-id-1 div.sk-parallel-item::after {content: \"\";width: 100%;border-bottom: 1px solid gray;flex-grow: 1;}#sk-container-id-1 div.sk-label:hover label.sk-toggleable__label {background-color: #d4ebff;}#sk-container-id-1 div.sk-serial::before {content: \"\";position: absolute;border-left: 1px solid gray;box-sizing: border-box;top: 0;bottom: 0;left: 50%;z-index: 0;}#sk-container-id-1 div.sk-serial {display: flex;flex-direction: column;align-items: center;background-color: white;padding-right: 0.2em;padding-left: 0.2em;position: relative;}#sk-container-id-1 div.sk-item {position: relative;z-index: 1;}#sk-container-id-1 div.sk-parallel {display: flex;align-items: stretch;justify-content: center;background-color: white;position: relative;}#sk-container-id-1 div.sk-item::before, #sk-container-id-1 div.sk-parallel-item::before {content: \"\";position: absolute;border-left: 1px solid gray;box-sizing: border-box;top: 0;bottom: 0;left: 50%;z-index: -1;}#sk-container-id-1 div.sk-parallel-item {display: flex;flex-direction: column;z-index: 1;position: relative;background-color: white;}#sk-container-id-1 div.sk-parallel-item:first-child::after {align-self: flex-end;width: 50%;}#sk-container-id-1 div.sk-parallel-item:last-child::after {align-self: flex-start;width: 50%;}#sk-container-id-1 div.sk-parallel-item:only-child::after {width: 0;}#sk-container-id-1 div.sk-dashed-wrapped {border: 1px dashed gray;margin: 0 0.4em 0.5em 0.4em;box-sizing: border-box;padding-bottom: 0.4em;background-color: white;}#sk-container-id-1 div.sk-label label {font-family: monospace;font-weight: bold;display: inline-block;line-height: 1.2em;}#sk-container-id-1 div.sk-label-container {text-align: center;}#sk-container-id-1 div.sk-container {/* jupyter's `normalize.less` sets `[hidden] { display: none; }` but bootstrap.min.css set `[hidden] { display: none !important; }` so we also need the `!important` here to be able to override the default hidden behavior on the sphinx rendered scikit-learn.org. See: https://github.com/scikit-learn/scikit-learn/issues/21755 */display: inline-block !important;position: relative;}#sk-container-id-1 div.sk-text-repr-fallback {display: none;}</style><div id=\"sk-container-id-1\" class=\"sk-top-container\"><div class=\"sk-text-repr-fallback\"><pre>Pipeline(steps=[(&#x27;&#x27;,\n                 ColumnTransformer(remainder=&#x27;passthrough&#x27;,\n                                   transformers=[(&#x27;nums&#x27;,\n                                                  Pipeline(steps=[(&#x27;imputer&#x27;,\n                                                                   SimpleImputer()),\n                                                                  (&#x27;scaler&#x27;,\n                                                                   StandardScaler())]),\n                                                  &lt;sklearn.compose._column_transformer.make_column_selector object at 0x000001D832BE9E20&gt;),\n                                                 (&#x27;cats&#x27;,\n                                                  Pipeline(steps=[(&#x27;imputer&#x27;,\n                                                                   SimpleImputer(strategy=&#x27;most_frequent&#x27;)),\n                                                                  (&#x27;ohe&#x27;,\n                                                                   OneHotEncoder(drop=&#x27;first&#x27;))]),\n                                                  &lt;sklearn.compose._column_transformer.make_column_selector object at 0x000001D832BE9DF0&gt;)]))])</pre><b>In a Jupyter environment, please rerun this cell to show the HTML representation or trust the notebook. <br />On GitHub, the HTML representation is unable to render, please try loading this page with nbviewer.org.</b></div><div class=\"sk-container\" hidden><div class=\"sk-item sk-dashed-wrapped\"><div class=\"sk-label-container\"><div class=\"sk-label sk-toggleable\"><input class=\"sk-toggleable__control sk-hidden--visually\" id=\"sk-estimator-id-1\" type=\"checkbox\" ><label for=\"sk-estimator-id-1\" class=\"sk-toggleable__label sk-toggleable__label-arrow\">Pipeline</label><div class=\"sk-toggleable__content\"><pre>Pipeline(steps=[(&#x27;&#x27;,\n                 ColumnTransformer(remainder=&#x27;passthrough&#x27;,\n                                   transformers=[(&#x27;nums&#x27;,\n                                                  Pipeline(steps=[(&#x27;imputer&#x27;,\n                                                                   SimpleImputer()),\n                                                                  (&#x27;scaler&#x27;,\n                                                                   StandardScaler())]),\n                                                  &lt;sklearn.compose._column_transformer.make_column_selector object at 0x000001D832BE9E20&gt;),\n                                                 (&#x27;cats&#x27;,\n                                                  Pipeline(steps=[(&#x27;imputer&#x27;,\n                                                                   SimpleImputer(strategy=&#x27;most_frequent&#x27;)),\n                                                                  (&#x27;ohe&#x27;,\n                                                                   OneHotEncoder(drop=&#x27;first&#x27;))]),\n                                                  &lt;sklearn.compose._column_transformer.make_column_selector object at 0x000001D832BE9DF0&gt;)]))])</pre></div></div></div><div class=\"sk-serial\"><div class=\"sk-item sk-dashed-wrapped\"><div class=\"sk-label-container\"><div class=\"sk-label sk-toggleable\"><input class=\"sk-toggleable__control sk-hidden--visually\" id=\"sk-estimator-id-2\" type=\"checkbox\" ><label for=\"sk-estimator-id-2\" class=\"sk-toggleable__label sk-toggleable__label-arrow\">: ColumnTransformer</label><div class=\"sk-toggleable__content\"><pre>ColumnTransformer(remainder=&#x27;passthrough&#x27;,\n                  transformers=[(&#x27;nums&#x27;,\n                                 Pipeline(steps=[(&#x27;imputer&#x27;, SimpleImputer()),\n                                                 (&#x27;scaler&#x27;, StandardScaler())]),\n                                 &lt;sklearn.compose._column_transformer.make_column_selector object at 0x000001D832BE9E20&gt;),\n                                (&#x27;cats&#x27;,\n                                 Pipeline(steps=[(&#x27;imputer&#x27;,\n                                                  SimpleImputer(strategy=&#x27;most_frequent&#x27;)),\n                                                 (&#x27;ohe&#x27;,\n                                                  OneHotEncoder(drop=&#x27;first&#x27;))]),\n                                 &lt;sklearn.compose._column_transformer.make_column_selector object at 0x000001D832BE9DF0&gt;)])</pre></div></div></div><div class=\"sk-parallel\"><div class=\"sk-parallel-item\"><div class=\"sk-item\"><div class=\"sk-label-container\"><div class=\"sk-label sk-toggleable\"><input class=\"sk-toggleable__control sk-hidden--visually\" id=\"sk-estimator-id-3\" type=\"checkbox\" ><label for=\"sk-estimator-id-3\" class=\"sk-toggleable__label sk-toggleable__label-arrow\">nums</label><div class=\"sk-toggleable__content\"><pre>&lt;sklearn.compose._column_transformer.make_column_selector object at 0x000001D832BE9E20&gt;</pre></div></div></div><div class=\"sk-serial\"><div class=\"sk-item\"><div class=\"sk-serial\"><div class=\"sk-item\"><div class=\"sk-estimator sk-toggleable\"><input class=\"sk-toggleable__control sk-hidden--visually\" id=\"sk-estimator-id-4\" type=\"checkbox\" ><label for=\"sk-estimator-id-4\" class=\"sk-toggleable__label sk-toggleable__label-arrow\">SimpleImputer</label><div class=\"sk-toggleable__content\"><pre>SimpleImputer()</pre></div></div></div><div class=\"sk-item\"><div class=\"sk-estimator sk-toggleable\"><input class=\"sk-toggleable__control sk-hidden--visually\" id=\"sk-estimator-id-5\" type=\"checkbox\" ><label for=\"sk-estimator-id-5\" class=\"sk-toggleable__label sk-toggleable__label-arrow\">StandardScaler</label><div class=\"sk-toggleable__content\"><pre>StandardScaler()</pre></div></div></div></div></div></div></div></div><div class=\"sk-parallel-item\"><div class=\"sk-item\"><div class=\"sk-label-container\"><div class=\"sk-label sk-toggleable\"><input class=\"sk-toggleable__control sk-hidden--visually\" id=\"sk-estimator-id-6\" type=\"checkbox\" ><label for=\"sk-estimator-id-6\" class=\"sk-toggleable__label sk-toggleable__label-arrow\">cats</label><div class=\"sk-toggleable__content\"><pre>&lt;sklearn.compose._column_transformer.make_column_selector object at 0x000001D832BE9DF0&gt;</pre></div></div></div><div class=\"sk-serial\"><div class=\"sk-item\"><div class=\"sk-serial\"><div class=\"sk-item\"><div class=\"sk-estimator sk-toggleable\"><input class=\"sk-toggleable__control sk-hidden--visually\" id=\"sk-estimator-id-7\" type=\"checkbox\" ><label for=\"sk-estimator-id-7\" class=\"sk-toggleable__label sk-toggleable__label-arrow\">SimpleImputer</label><div class=\"sk-toggleable__content\"><pre>SimpleImputer(strategy=&#x27;most_frequent&#x27;)</pre></div></div></div><div class=\"sk-item\"><div class=\"sk-estimator sk-toggleable\"><input class=\"sk-toggleable__control sk-hidden--visually\" id=\"sk-estimator-id-8\" type=\"checkbox\" ><label for=\"sk-estimator-id-8\" class=\"sk-toggleable__label sk-toggleable__label-arrow\">OneHotEncoder</label><div class=\"sk-toggleable__content\"><pre>OneHotEncoder(drop=&#x27;first&#x27;)</pre></div></div></div></div></div></div></div></div><div class=\"sk-parallel-item\"><div class=\"sk-item\"><div class=\"sk-label-container\"><div class=\"sk-label sk-toggleable\"><input class=\"sk-toggleable__control sk-hidden--visually\" id=\"sk-estimator-id-9\" type=\"checkbox\" ><label for=\"sk-estimator-id-9\" class=\"sk-toggleable__label sk-toggleable__label-arrow\">remainder</label><div class=\"sk-toggleable__content\"><pre></pre></div></div></div><div class=\"sk-serial\"><div class=\"sk-item\"><div class=\"sk-estimator sk-toggleable\"><input class=\"sk-toggleable__control sk-hidden--visually\" id=\"sk-estimator-id-10\" type=\"checkbox\" ><label for=\"sk-estimator-id-10\" class=\"sk-toggleable__label sk-toggleable__label-arrow\">passthrough</label><div class=\"sk-toggleable__content\"><pre>passthrough</pre></div></div></div></div></div></div></div></div></div></div></div></div>"
     },
     "execution_count": 22,
     "metadata": {},
     "output_type": "execute_result"
    }
   ],
   "source": [
    "num_ct = Pipeline(steps=[('imputer', SimpleImputer(strategy='mean')),\n",
    "                         ('scaler', StandardScaler())])\n",
    "\n",
    "cat_ct = Pipeline(steps=[('imputer', SimpleImputer(strategy='most_frequent')),\n",
    "                         ('ohe', OneHotEncoder(drop='first'))])\n",
    "\n",
    "transformer = ColumnTransformer(transformers=[('nums', num_ct, selector(dtype_exclude=\"object\")),\n",
    "                                              ('cats', cat_ct, selector(dtype_include=\"object\"))],\n",
    "                                remainder='passthrough')\n",
    "Pipeline(steps=[('', transformer)])"
   ],
   "metadata": {
    "collapsed": false,
    "pycharm": {
     "name": "#%%\n"
    }
   }
  },
  {
   "cell_type": "markdown",
   "source": [
    "Посмотрим на получившиеся признаки. У них теперь нет имен, но по порядку преобразвоаний можно увидеть, что последние 4 признака - это категориальные признаки, подвергнутые OHE."
   ],
   "metadata": {
    "collapsed": false,
    "pycharm": {
     "name": "#%% md\n"
    }
   }
  },
  {
   "cell_type": "code",
   "execution_count": 23,
   "outputs": [
    {
     "data": {
      "text/plain": "Feature  Non-Null Count  Null Count    Dtype  count          mean       std  \\\n0                   891           0  float64  891.0  3.987333e-17  1.000562   \n1                   891           0  float64  891.0  2.232906e-16  1.000562   \n2                   891           0  float64  891.0  4.386066e-17  1.000562   \n3                   891           0  float64  891.0  5.382900e-17  1.000562   \n4                   891           0  float64  891.0  3.987333e-18  1.000562   \n5                   891           0  float64  891.0 -1.415503e-16  1.000562   \n6                   891           0  float64  891.0  2.065095e-01  0.405028   \n7                   891           0  float64  891.0  5.510662e-01  0.497665   \n8                   891           0  float64  891.0  8.641975e-02  0.281141   \n9                   891           0  float64  891.0  7.250281e-01  0.446751   \n\nFeature       min       25%       50%       75%       max  \n0       -0.737695 -0.737695 -0.737695  1.355574  1.355574  \n1       -2.253155 -0.592481  0.000000  0.407926  3.870872  \n2       -0.474545 -0.474545 -0.474545  0.432793  6.784163  \n3       -0.473674 -0.473674 -0.473674 -0.473674  6.974147  \n4       -0.648422 -0.489148 -0.357391 -0.024246  9.667167  \n5       -1.613257 -0.750853 -0.211850  0.327152  5.932777  \n6        0.000000  0.000000  0.000000  0.000000  1.000000  \n7        0.000000  0.000000  1.000000  1.000000  1.000000  \n8        0.000000  0.000000  0.000000  0.000000  1.000000  \n9        0.000000  0.000000  1.000000  1.000000  1.000000  ",
      "text/html": "<div>\n<style scoped>\n    .dataframe tbody tr th:only-of-type {\n        vertical-align: middle;\n    }\n\n    .dataframe tbody tr th {\n        vertical-align: top;\n    }\n\n    .dataframe thead th {\n        text-align: right;\n    }\n</style>\n<table border=\"1\" class=\"dataframe\">\n  <thead>\n    <tr style=\"text-align: right;\">\n      <th>Feature</th>\n      <th>Non-Null Count</th>\n      <th>Null Count</th>\n      <th>Dtype</th>\n      <th>count</th>\n      <th>mean</th>\n      <th>std</th>\n      <th>min</th>\n      <th>25%</th>\n      <th>50%</th>\n      <th>75%</th>\n      <th>max</th>\n    </tr>\n  </thead>\n  <tbody>\n    <tr>\n      <th>0</th>\n      <td>891</td>\n      <td>0</td>\n      <td>float64</td>\n      <td>891.0</td>\n      <td>3.987333e-17</td>\n      <td>1.000562</td>\n      <td>-0.737695</td>\n      <td>-0.737695</td>\n      <td>-0.737695</td>\n      <td>1.355574</td>\n      <td>1.355574</td>\n    </tr>\n    <tr>\n      <th>1</th>\n      <td>891</td>\n      <td>0</td>\n      <td>float64</td>\n      <td>891.0</td>\n      <td>2.232906e-16</td>\n      <td>1.000562</td>\n      <td>-2.253155</td>\n      <td>-0.592481</td>\n      <td>0.000000</td>\n      <td>0.407926</td>\n      <td>3.870872</td>\n    </tr>\n    <tr>\n      <th>2</th>\n      <td>891</td>\n      <td>0</td>\n      <td>float64</td>\n      <td>891.0</td>\n      <td>4.386066e-17</td>\n      <td>1.000562</td>\n      <td>-0.474545</td>\n      <td>-0.474545</td>\n      <td>-0.474545</td>\n      <td>0.432793</td>\n      <td>6.784163</td>\n    </tr>\n    <tr>\n      <th>3</th>\n      <td>891</td>\n      <td>0</td>\n      <td>float64</td>\n      <td>891.0</td>\n      <td>5.382900e-17</td>\n      <td>1.000562</td>\n      <td>-0.473674</td>\n      <td>-0.473674</td>\n      <td>-0.473674</td>\n      <td>-0.473674</td>\n      <td>6.974147</td>\n    </tr>\n    <tr>\n      <th>4</th>\n      <td>891</td>\n      <td>0</td>\n      <td>float64</td>\n      <td>891.0</td>\n      <td>3.987333e-18</td>\n      <td>1.000562</td>\n      <td>-0.648422</td>\n      <td>-0.489148</td>\n      <td>-0.357391</td>\n      <td>-0.024246</td>\n      <td>9.667167</td>\n    </tr>\n    <tr>\n      <th>5</th>\n      <td>891</td>\n      <td>0</td>\n      <td>float64</td>\n      <td>891.0</td>\n      <td>-1.415503e-16</td>\n      <td>1.000562</td>\n      <td>-1.613257</td>\n      <td>-0.750853</td>\n      <td>-0.211850</td>\n      <td>0.327152</td>\n      <td>5.932777</td>\n    </tr>\n    <tr>\n      <th>6</th>\n      <td>891</td>\n      <td>0</td>\n      <td>float64</td>\n      <td>891.0</td>\n      <td>2.065095e-01</td>\n      <td>0.405028</td>\n      <td>0.000000</td>\n      <td>0.000000</td>\n      <td>0.000000</td>\n      <td>0.000000</td>\n      <td>1.000000</td>\n    </tr>\n    <tr>\n      <th>7</th>\n      <td>891</td>\n      <td>0</td>\n      <td>float64</td>\n      <td>891.0</td>\n      <td>5.510662e-01</td>\n      <td>0.497665</td>\n      <td>0.000000</td>\n      <td>0.000000</td>\n      <td>1.000000</td>\n      <td>1.000000</td>\n      <td>1.000000</td>\n    </tr>\n    <tr>\n      <th>8</th>\n      <td>891</td>\n      <td>0</td>\n      <td>float64</td>\n      <td>891.0</td>\n      <td>8.641975e-02</td>\n      <td>0.281141</td>\n      <td>0.000000</td>\n      <td>0.000000</td>\n      <td>0.000000</td>\n      <td>0.000000</td>\n      <td>1.000000</td>\n    </tr>\n    <tr>\n      <th>9</th>\n      <td>891</td>\n      <td>0</td>\n      <td>float64</td>\n      <td>891.0</td>\n      <td>7.250281e-01</td>\n      <td>0.446751</td>\n      <td>0.000000</td>\n      <td>0.000000</td>\n      <td>1.000000</td>\n      <td>1.000000</td>\n      <td>1.000000</td>\n    </tr>\n  </tbody>\n</table>\n</div>"
     },
     "metadata": {},
     "output_type": "display_data"
    }
   ],
   "source": [
    "full_info(pd.DataFrame(transformer.fit_transform(x)).astype('float'))"
   ],
   "metadata": {
    "collapsed": false,
    "pycharm": {
     "name": "#%%\n"
    }
   }
  },
  {
   "cell_type": "markdown",
   "source": [
    "Добавим в пайплайн классификатор"
   ],
   "metadata": {
    "collapsed": false,
    "pycharm": {
     "name": "#%% md\n"
    }
   }
  },
  {
   "cell_type": "code",
   "execution_count": 24,
   "outputs": [
    {
     "name": "stdout",
     "output_type": "stream",
     "text": [
      "Fitting 3 folds for each of 24 candidates, totalling 72 fits\n"
     ]
    },
    {
     "data": {
      "text/plain": "GridSearchCV(cv=3,\n             estimator=Pipeline(steps=[('transformer',\n                                        ColumnTransformer(remainder='passthrough',\n                                                          transformers=[('nums',\n                                                                         Pipeline(steps=[('imputer',\n                                                                                          SimpleImputer()),\n                                                                                         ('scaler',\n                                                                                          StandardScaler())]),\n                                                                         <sklearn.compose._column_transformer.make_column_selector object at 0x000001D832BE9E20>),\n                                                                        ('cats',\n                                                                         Pipeline(steps=[('imputer',\n                                                                                          SimpleImputer(strategy='most_fre...\n                                        LogisticRegression(random_state=123))]),\n             n_jobs=-1,\n             param_grid=[{'clf__C': [0.1, 1, 10, 100],\n                          'clf__penalty': ['none', 'l2'],\n                          'transformer__nums__imputer': [SimpleImputer()],\n                          'transformer__nums__imputer__strategy': ['mean',\n                                                                   'median']},\n                         {'clf__C': [0.1, 1, 10, 100],\n                          'clf__penalty': ['none', 'l2'],\n                          'transformer__nums__imputer': [IterativeImputer(random_state=123)]}],\n             scoring='roc_auc', verbose=10)",
      "text/html": "<style>#sk-container-id-2 {color: black;background-color: white;}#sk-container-id-2 pre{padding: 0;}#sk-container-id-2 div.sk-toggleable {background-color: white;}#sk-container-id-2 label.sk-toggleable__label {cursor: pointer;display: block;width: 100%;margin-bottom: 0;padding: 0.3em;box-sizing: border-box;text-align: center;}#sk-container-id-2 label.sk-toggleable__label-arrow:before {content: \"▸\";float: left;margin-right: 0.25em;color: #696969;}#sk-container-id-2 label.sk-toggleable__label-arrow:hover:before {color: black;}#sk-container-id-2 div.sk-estimator:hover label.sk-toggleable__label-arrow:before {color: black;}#sk-container-id-2 div.sk-toggleable__content {max-height: 0;max-width: 0;overflow: hidden;text-align: left;background-color: #f0f8ff;}#sk-container-id-2 div.sk-toggleable__content pre {margin: 0.2em;color: black;border-radius: 0.25em;background-color: #f0f8ff;}#sk-container-id-2 input.sk-toggleable__control:checked~div.sk-toggleable__content {max-height: 200px;max-width: 100%;overflow: auto;}#sk-container-id-2 input.sk-toggleable__control:checked~label.sk-toggleable__label-arrow:before {content: \"▾\";}#sk-container-id-2 div.sk-estimator input.sk-toggleable__control:checked~label.sk-toggleable__label {background-color: #d4ebff;}#sk-container-id-2 div.sk-label input.sk-toggleable__control:checked~label.sk-toggleable__label {background-color: #d4ebff;}#sk-container-id-2 input.sk-hidden--visually {border: 0;clip: rect(1px 1px 1px 1px);clip: rect(1px, 1px, 1px, 1px);height: 1px;margin: -1px;overflow: hidden;padding: 0;position: absolute;width: 1px;}#sk-container-id-2 div.sk-estimator {font-family: monospace;background-color: #f0f8ff;border: 1px dotted black;border-radius: 0.25em;box-sizing: border-box;margin-bottom: 0.5em;}#sk-container-id-2 div.sk-estimator:hover {background-color: #d4ebff;}#sk-container-id-2 div.sk-parallel-item::after {content: \"\";width: 100%;border-bottom: 1px solid gray;flex-grow: 1;}#sk-container-id-2 div.sk-label:hover label.sk-toggleable__label {background-color: #d4ebff;}#sk-container-id-2 div.sk-serial::before {content: \"\";position: absolute;border-left: 1px solid gray;box-sizing: border-box;top: 0;bottom: 0;left: 50%;z-index: 0;}#sk-container-id-2 div.sk-serial {display: flex;flex-direction: column;align-items: center;background-color: white;padding-right: 0.2em;padding-left: 0.2em;position: relative;}#sk-container-id-2 div.sk-item {position: relative;z-index: 1;}#sk-container-id-2 div.sk-parallel {display: flex;align-items: stretch;justify-content: center;background-color: white;position: relative;}#sk-container-id-2 div.sk-item::before, #sk-container-id-2 div.sk-parallel-item::before {content: \"\";position: absolute;border-left: 1px solid gray;box-sizing: border-box;top: 0;bottom: 0;left: 50%;z-index: -1;}#sk-container-id-2 div.sk-parallel-item {display: flex;flex-direction: column;z-index: 1;position: relative;background-color: white;}#sk-container-id-2 div.sk-parallel-item:first-child::after {align-self: flex-end;width: 50%;}#sk-container-id-2 div.sk-parallel-item:last-child::after {align-self: flex-start;width: 50%;}#sk-container-id-2 div.sk-parallel-item:only-child::after {width: 0;}#sk-container-id-2 div.sk-dashed-wrapped {border: 1px dashed gray;margin: 0 0.4em 0.5em 0.4em;box-sizing: border-box;padding-bottom: 0.4em;background-color: white;}#sk-container-id-2 div.sk-label label {font-family: monospace;font-weight: bold;display: inline-block;line-height: 1.2em;}#sk-container-id-2 div.sk-label-container {text-align: center;}#sk-container-id-2 div.sk-container {/* jupyter's `normalize.less` sets `[hidden] { display: none; }` but bootstrap.min.css set `[hidden] { display: none !important; }` so we also need the `!important` here to be able to override the default hidden behavior on the sphinx rendered scikit-learn.org. See: https://github.com/scikit-learn/scikit-learn/issues/21755 */display: inline-block !important;position: relative;}#sk-container-id-2 div.sk-text-repr-fallback {display: none;}</style><div id=\"sk-container-id-2\" class=\"sk-top-container\"><div class=\"sk-text-repr-fallback\"><pre>GridSearchCV(cv=3,\n             estimator=Pipeline(steps=[(&#x27;transformer&#x27;,\n                                        ColumnTransformer(remainder=&#x27;passthrough&#x27;,\n                                                          transformers=[(&#x27;nums&#x27;,\n                                                                         Pipeline(steps=[(&#x27;imputer&#x27;,\n                                                                                          SimpleImputer()),\n                                                                                         (&#x27;scaler&#x27;,\n                                                                                          StandardScaler())]),\n                                                                         &lt;sklearn.compose._column_transformer.make_column_selector object at 0x000001D832BE9E20&gt;),\n                                                                        (&#x27;cats&#x27;,\n                                                                         Pipeline(steps=[(&#x27;imputer&#x27;,\n                                                                                          SimpleImputer(strategy=&#x27;most_fre...\n                                        LogisticRegression(random_state=123))]),\n             n_jobs=-1,\n             param_grid=[{&#x27;clf__C&#x27;: [0.1, 1, 10, 100],\n                          &#x27;clf__penalty&#x27;: [&#x27;none&#x27;, &#x27;l2&#x27;],\n                          &#x27;transformer__nums__imputer&#x27;: [SimpleImputer()],\n                          &#x27;transformer__nums__imputer__strategy&#x27;: [&#x27;mean&#x27;,\n                                                                   &#x27;median&#x27;]},\n                         {&#x27;clf__C&#x27;: [0.1, 1, 10, 100],\n                          &#x27;clf__penalty&#x27;: [&#x27;none&#x27;, &#x27;l2&#x27;],\n                          &#x27;transformer__nums__imputer&#x27;: [IterativeImputer(random_state=123)]}],\n             scoring=&#x27;roc_auc&#x27;, verbose=10)</pre><b>In a Jupyter environment, please rerun this cell to show the HTML representation or trust the notebook. <br />On GitHub, the HTML representation is unable to render, please try loading this page with nbviewer.org.</b></div><div class=\"sk-container\" hidden><div class=\"sk-item sk-dashed-wrapped\"><div class=\"sk-label-container\"><div class=\"sk-label sk-toggleable\"><input class=\"sk-toggleable__control sk-hidden--visually\" id=\"sk-estimator-id-11\" type=\"checkbox\" ><label for=\"sk-estimator-id-11\" class=\"sk-toggleable__label sk-toggleable__label-arrow\">GridSearchCV</label><div class=\"sk-toggleable__content\"><pre>GridSearchCV(cv=3,\n             estimator=Pipeline(steps=[(&#x27;transformer&#x27;,\n                                        ColumnTransformer(remainder=&#x27;passthrough&#x27;,\n                                                          transformers=[(&#x27;nums&#x27;,\n                                                                         Pipeline(steps=[(&#x27;imputer&#x27;,\n                                                                                          SimpleImputer()),\n                                                                                         (&#x27;scaler&#x27;,\n                                                                                          StandardScaler())]),\n                                                                         &lt;sklearn.compose._column_transformer.make_column_selector object at 0x000001D832BE9E20&gt;),\n                                                                        (&#x27;cats&#x27;,\n                                                                         Pipeline(steps=[(&#x27;imputer&#x27;,\n                                                                                          SimpleImputer(strategy=&#x27;most_fre...\n                                        LogisticRegression(random_state=123))]),\n             n_jobs=-1,\n             param_grid=[{&#x27;clf__C&#x27;: [0.1, 1, 10, 100],\n                          &#x27;clf__penalty&#x27;: [&#x27;none&#x27;, &#x27;l2&#x27;],\n                          &#x27;transformer__nums__imputer&#x27;: [SimpleImputer()],\n                          &#x27;transformer__nums__imputer__strategy&#x27;: [&#x27;mean&#x27;,\n                                                                   &#x27;median&#x27;]},\n                         {&#x27;clf__C&#x27;: [0.1, 1, 10, 100],\n                          &#x27;clf__penalty&#x27;: [&#x27;none&#x27;, &#x27;l2&#x27;],\n                          &#x27;transformer__nums__imputer&#x27;: [IterativeImputer(random_state=123)]}],\n             scoring=&#x27;roc_auc&#x27;, verbose=10)</pre></div></div></div><div class=\"sk-parallel\"><div class=\"sk-parallel-item\"><div class=\"sk-item\"><div class=\"sk-label-container\"><div class=\"sk-label sk-toggleable\"><input class=\"sk-toggleable__control sk-hidden--visually\" id=\"sk-estimator-id-12\" type=\"checkbox\" ><label for=\"sk-estimator-id-12\" class=\"sk-toggleable__label sk-toggleable__label-arrow\">estimator: Pipeline</label><div class=\"sk-toggleable__content\"><pre>Pipeline(steps=[(&#x27;transformer&#x27;,\n                 ColumnTransformer(remainder=&#x27;passthrough&#x27;,\n                                   transformers=[(&#x27;nums&#x27;,\n                                                  Pipeline(steps=[(&#x27;imputer&#x27;,\n                                                                   SimpleImputer()),\n                                                                  (&#x27;scaler&#x27;,\n                                                                   StandardScaler())]),\n                                                  &lt;sklearn.compose._column_transformer.make_column_selector object at 0x000001D832BE9E20&gt;),\n                                                 (&#x27;cats&#x27;,\n                                                  Pipeline(steps=[(&#x27;imputer&#x27;,\n                                                                   SimpleImputer(strategy=&#x27;most_frequent&#x27;)),\n                                                                  (&#x27;ohe&#x27;,\n                                                                   OneHotEncoder(drop=&#x27;first&#x27;))]),\n                                                  &lt;sklearn.compose._column_transformer.make_column_selector object at 0x000001D832BE9DF0&gt;)])),\n                (&#x27;clf&#x27;, LogisticRegression(random_state=123))])</pre></div></div></div><div class=\"sk-serial\"><div class=\"sk-item\"><div class=\"sk-serial\"><div class=\"sk-item sk-dashed-wrapped\"><div class=\"sk-label-container\"><div class=\"sk-label sk-toggleable\"><input class=\"sk-toggleable__control sk-hidden--visually\" id=\"sk-estimator-id-13\" type=\"checkbox\" ><label for=\"sk-estimator-id-13\" class=\"sk-toggleable__label sk-toggleable__label-arrow\">transformer: ColumnTransformer</label><div class=\"sk-toggleable__content\"><pre>ColumnTransformer(remainder=&#x27;passthrough&#x27;,\n                  transformers=[(&#x27;nums&#x27;,\n                                 Pipeline(steps=[(&#x27;imputer&#x27;, SimpleImputer()),\n                                                 (&#x27;scaler&#x27;, StandardScaler())]),\n                                 &lt;sklearn.compose._column_transformer.make_column_selector object at 0x000001D832BE9E20&gt;),\n                                (&#x27;cats&#x27;,\n                                 Pipeline(steps=[(&#x27;imputer&#x27;,\n                                                  SimpleImputer(strategy=&#x27;most_frequent&#x27;)),\n                                                 (&#x27;ohe&#x27;,\n                                                  OneHotEncoder(drop=&#x27;first&#x27;))]),\n                                 &lt;sklearn.compose._column_transformer.make_column_selector object at 0x000001D832BE9DF0&gt;)])</pre></div></div></div><div class=\"sk-parallel\"><div class=\"sk-parallel-item\"><div class=\"sk-item\"><div class=\"sk-label-container\"><div class=\"sk-label sk-toggleable\"><input class=\"sk-toggleable__control sk-hidden--visually\" id=\"sk-estimator-id-14\" type=\"checkbox\" ><label for=\"sk-estimator-id-14\" class=\"sk-toggleable__label sk-toggleable__label-arrow\">nums</label><div class=\"sk-toggleable__content\"><pre>&lt;sklearn.compose._column_transformer.make_column_selector object at 0x000001D832BE9E20&gt;</pre></div></div></div><div class=\"sk-serial\"><div class=\"sk-item\"><div class=\"sk-serial\"><div class=\"sk-item\"><div class=\"sk-estimator sk-toggleable\"><input class=\"sk-toggleable__control sk-hidden--visually\" id=\"sk-estimator-id-15\" type=\"checkbox\" ><label for=\"sk-estimator-id-15\" class=\"sk-toggleable__label sk-toggleable__label-arrow\">SimpleImputer</label><div class=\"sk-toggleable__content\"><pre>SimpleImputer()</pre></div></div></div><div class=\"sk-item\"><div class=\"sk-estimator sk-toggleable\"><input class=\"sk-toggleable__control sk-hidden--visually\" id=\"sk-estimator-id-16\" type=\"checkbox\" ><label for=\"sk-estimator-id-16\" class=\"sk-toggleable__label sk-toggleable__label-arrow\">StandardScaler</label><div class=\"sk-toggleable__content\"><pre>StandardScaler()</pre></div></div></div></div></div></div></div></div><div class=\"sk-parallel-item\"><div class=\"sk-item\"><div class=\"sk-label-container\"><div class=\"sk-label sk-toggleable\"><input class=\"sk-toggleable__control sk-hidden--visually\" id=\"sk-estimator-id-17\" type=\"checkbox\" ><label for=\"sk-estimator-id-17\" class=\"sk-toggleable__label sk-toggleable__label-arrow\">cats</label><div class=\"sk-toggleable__content\"><pre>&lt;sklearn.compose._column_transformer.make_column_selector object at 0x000001D832BE9DF0&gt;</pre></div></div></div><div class=\"sk-serial\"><div class=\"sk-item\"><div class=\"sk-serial\"><div class=\"sk-item\"><div class=\"sk-estimator sk-toggleable\"><input class=\"sk-toggleable__control sk-hidden--visually\" id=\"sk-estimator-id-18\" type=\"checkbox\" ><label for=\"sk-estimator-id-18\" class=\"sk-toggleable__label sk-toggleable__label-arrow\">SimpleImputer</label><div class=\"sk-toggleable__content\"><pre>SimpleImputer(strategy=&#x27;most_frequent&#x27;)</pre></div></div></div><div class=\"sk-item\"><div class=\"sk-estimator sk-toggleable\"><input class=\"sk-toggleable__control sk-hidden--visually\" id=\"sk-estimator-id-19\" type=\"checkbox\" ><label for=\"sk-estimator-id-19\" class=\"sk-toggleable__label sk-toggleable__label-arrow\">OneHotEncoder</label><div class=\"sk-toggleable__content\"><pre>OneHotEncoder(drop=&#x27;first&#x27;)</pre></div></div></div></div></div></div></div></div><div class=\"sk-parallel-item\"><div class=\"sk-item\"><div class=\"sk-label-container\"><div class=\"sk-label sk-toggleable\"><input class=\"sk-toggleable__control sk-hidden--visually\" id=\"sk-estimator-id-20\" type=\"checkbox\" ><label for=\"sk-estimator-id-20\" class=\"sk-toggleable__label sk-toggleable__label-arrow\">remainder</label><div class=\"sk-toggleable__content\"><pre>[]</pre></div></div></div><div class=\"sk-serial\"><div class=\"sk-item\"><div class=\"sk-estimator sk-toggleable\"><input class=\"sk-toggleable__control sk-hidden--visually\" id=\"sk-estimator-id-21\" type=\"checkbox\" ><label for=\"sk-estimator-id-21\" class=\"sk-toggleable__label sk-toggleable__label-arrow\">passthrough</label><div class=\"sk-toggleable__content\"><pre>passthrough</pre></div></div></div></div></div></div></div></div><div class=\"sk-item\"><div class=\"sk-estimator sk-toggleable\"><input class=\"sk-toggleable__control sk-hidden--visually\" id=\"sk-estimator-id-22\" type=\"checkbox\" ><label for=\"sk-estimator-id-22\" class=\"sk-toggleable__label sk-toggleable__label-arrow\">LogisticRegression</label><div class=\"sk-toggleable__content\"><pre>LogisticRegression(random_state=123)</pre></div></div></div></div></div></div></div></div></div></div></div></div>"
     },
     "execution_count": 24,
     "metadata": {},
     "output_type": "execute_result"
    }
   ],
   "source": [
    "lr_pipe = Pipeline(steps=[('transformer', transformer), ('clf', LogisticRegression(random_state=123))])\n",
    "\n",
    "params = [{'transformer__nums__imputer': [SimpleImputer()],\n",
    "           'transformer__nums__imputer__strategy': ['mean', 'median'],\n",
    "           'clf__penalty': ['none', 'l2'],\n",
    "           'clf__C': [0.1, 1, 10, 100]\n",
    "          },\n",
    "          { 'transformer__nums__imputer': [IterativeImputer(random_state=123)],\n",
    "           'clf__penalty': ['none', 'l2'],\n",
    "           'clf__C': [0.1, 1, 10, 100]\n",
    "          }]\n",
    "\n",
    "lr_gs    = GridSearchCV(estimator=lr_pipe,\n",
    "                        param_grid=params,\n",
    "                        scoring='roc_auc',\n",
    "                        refit=True,\n",
    "                        cv=3,\n",
    "                        n_jobs=-1,\n",
    "                        verbose=10)\n",
    "lr_gs.fit(x, y)"
   ],
   "metadata": {
    "collapsed": false,
    "pycharm": {
     "name": "#%%\n"
    }
   }
  },
  {
   "cell_type": "code",
   "execution_count": 25,
   "outputs": [
    {
     "data": {
      "text/plain": "    mean_fit_time  std_fit_time  mean_score_time  std_score_time param_clf__C  \\\n19       0.071000      0.002944         0.024666        0.013768            1   \n20       0.062000      0.000816         0.014334        0.000472           10   \n18       0.064668      0.002494         0.015333        0.000472            1   \n16       0.064333      0.002625         0.014667        0.001247          0.1   \n22       0.065001      0.002944         0.012331        0.000944          100   \n21       0.063666      0.002357         0.013000        0.000817           10   \n23       0.056997      0.003558         0.007333        0.000946          100   \n6        0.031668      0.002493         0.016000        0.003559            1   \n10       0.036668      0.004111         0.015000        0.003558           10   \n14       0.032332      0.002625         0.010667        0.002055          100   \n12       0.031668      0.000471         0.013000        0.000817          100   \n0        0.036334      0.002358         0.014000        0.000817          0.1   \n8        0.033001      0.001415         0.013333        0.000472           10   \n4        0.034669      0.002053         0.014333        0.000472            1   \n7        0.034000      0.002160         0.013666        0.001698            1   \n15       0.031665      0.000471         0.014667        0.001700          100   \n11       0.033666      0.001700         0.013334        0.000471           10   \n13       0.037333      0.007587         0.012666        0.000942          100   \n5        0.033335      0.000472         0.013335        0.001247            1   \n1        0.040000      0.002826         0.014335        0.001246          0.1   \n9        0.037002      0.002449         0.013332        0.001247           10   \n2        0.037336      0.003683         0.016999        0.004320          0.1   \n17       0.065667      0.003400         0.015668        0.001700          0.1   \n3        0.038665      0.005249         0.014335        0.000472          0.1   \n\n   param_clf__penalty    param_transformer__nums__imputer  \\\n19                 l2  IterativeImputer(random_state=123)   \n20               none  IterativeImputer(random_state=123)   \n18               none  IterativeImputer(random_state=123)   \n16               none  IterativeImputer(random_state=123)   \n22               none  IterativeImputer(random_state=123)   \n21                 l2  IterativeImputer(random_state=123)   \n23                 l2  IterativeImputer(random_state=123)   \n6                  l2                     SimpleImputer()   \n10                 l2                     SimpleImputer()   \n14                 l2                     SimpleImputer()   \n12               none                     SimpleImputer()   \n0                none                     SimpleImputer()   \n8                none                     SimpleImputer()   \n4                none                     SimpleImputer()   \n7                  l2                     SimpleImputer()   \n15                 l2                     SimpleImputer()   \n11                 l2                     SimpleImputer()   \n13               none                     SimpleImputer()   \n5                none                     SimpleImputer()   \n1                none                     SimpleImputer()   \n9                none                     SimpleImputer()   \n2                  l2                     SimpleImputer()   \n17                 l2  IterativeImputer(random_state=123)   \n3                  l2                     SimpleImputer()   \n\n   param_transformer__nums__imputer__strategy  \\\n19                                        NaN   \n20                                        NaN   \n18                                        NaN   \n16                                        NaN   \n22                                        NaN   \n21                                        NaN   \n23                                        NaN   \n6                                        mean   \n10                                       mean   \n14                                       mean   \n12                                       mean   \n0                                        mean   \n8                                        mean   \n4                                        mean   \n7                                      median   \n15                                     median   \n11                                     median   \n13                                     median   \n5                                      median   \n1                                      median   \n9                                      median   \n2                                        mean   \n17                                        NaN   \n3                                      median   \n\n                                               params  split0_test_score  \\\n19  {'clf__C': 1, 'clf__penalty': 'l2', 'transform...           0.839133   \n20  {'clf__C': 10, 'clf__penalty': 'none', 'transf...           0.838414   \n18  {'clf__C': 1, 'clf__penalty': 'none', 'transfo...           0.838414   \n16  {'clf__C': 0.1, 'clf__penalty': 'none', 'trans...           0.838414   \n22  {'clf__C': 100, 'clf__penalty': 'none', 'trans...           0.838414   \n21  {'clf__C': 10, 'clf__penalty': 'l2', 'transfor...           0.838462   \n23  {'clf__C': 100, 'clf__penalty': 'l2', 'transfo...           0.838462   \n6   {'clf__C': 1, 'clf__penalty': 'l2', 'transform...           0.839804   \n10  {'clf__C': 10, 'clf__penalty': 'l2', 'transfor...           0.838606   \n14  {'clf__C': 100, 'clf__penalty': 'l2', 'transfo...           0.838366   \n12  {'clf__C': 100, 'clf__penalty': 'none', 'trans...           0.838223   \n0   {'clf__C': 0.1, 'clf__penalty': 'none', 'trans...           0.838223   \n8   {'clf__C': 10, 'clf__penalty': 'none', 'transf...           0.838223   \n4   {'clf__C': 1, 'clf__penalty': 'none', 'transfo...           0.838223   \n7   {'clf__C': 1, 'clf__penalty': 'l2', 'transform...           0.839948   \n15  {'clf__C': 100, 'clf__penalty': 'l2', 'transfo...           0.838846   \n11  {'clf__C': 10, 'clf__penalty': 'l2', 'transfor...           0.838942   \n13  {'clf__C': 100, 'clf__penalty': 'none', 'trans...           0.838798   \n5   {'clf__C': 1, 'clf__penalty': 'none', 'transfo...           0.838798   \n1   {'clf__C': 0.1, 'clf__penalty': 'none', 'trans...           0.838798   \n9   {'clf__C': 10, 'clf__penalty': 'none', 'transf...           0.838798   \n2   {'clf__C': 0.1, 'clf__penalty': 'l2', 'transfo...           0.838175   \n17  {'clf__C': 0.1, 'clf__penalty': 'l2', 'transfo...           0.837072   \n3   {'clf__C': 0.1, 'clf__penalty': 'l2', 'transfo...           0.837695   \n\n    split1_test_score  split2_test_score  mean_test_score  std_test_score  \\\n19           0.862957           0.855119         0.852403        0.009914   \n20           0.861806           0.856941         0.852387        0.010078   \n18           0.861806           0.856941         0.852387        0.010078   \n16           0.861806           0.856941         0.852387        0.010078   \n22           0.861806           0.856941         0.852387        0.010078   \n21           0.861710           0.856845         0.852339        0.010011   \n23           0.861710           0.856797         0.852323        0.010004   \n6            0.861135           0.854688         0.851876        0.008932   \n10           0.860128           0.855742         0.851492        0.009286   \n14           0.859889           0.855982         0.851412        0.009362   \n12           0.859889           0.856078         0.851396        0.009444   \n0            0.859889           0.856078         0.851396        0.009444   \n8            0.859889           0.856078         0.851396        0.009444   \n4            0.859889           0.856078         0.851396        0.009444   \n7            0.859745           0.854209         0.851301        0.008339   \n15           0.859026           0.854976         0.850949        0.008717   \n11           0.859074           0.854832         0.850949        0.008665   \n13           0.858882           0.854976         0.850885        0.008695   \n5            0.858882           0.854976         0.850885        0.008695   \n1            0.858882           0.854976         0.850885        0.008695   \n9            0.858882           0.854976         0.850885        0.008695   \n2            0.863100           0.850086         0.850454        0.010179   \n17           0.863724           0.849176         0.849990        0.010896   \n3            0.861662           0.849847         0.849735        0.009785   \n\n    rank_test_score  \n19                1  \n20                2  \n18                2  \n16                2  \n22                2  \n21                6  \n23                7  \n6                 8  \n10                9  \n14               10  \n12               11  \n0                11  \n8                11  \n4                11  \n7                15  \n15               16  \n11               16  \n13               18  \n5                18  \n1                18  \n9                18  \n2                22  \n17               23  \n3                24  ",
      "text/html": "<div>\n<style scoped>\n    .dataframe tbody tr th:only-of-type {\n        vertical-align: middle;\n    }\n\n    .dataframe tbody tr th {\n        vertical-align: top;\n    }\n\n    .dataframe thead th {\n        text-align: right;\n    }\n</style>\n<table border=\"1\" class=\"dataframe\">\n  <thead>\n    <tr style=\"text-align: right;\">\n      <th></th>\n      <th>mean_fit_time</th>\n      <th>std_fit_time</th>\n      <th>mean_score_time</th>\n      <th>std_score_time</th>\n      <th>param_clf__C</th>\n      <th>param_clf__penalty</th>\n      <th>param_transformer__nums__imputer</th>\n      <th>param_transformer__nums__imputer__strategy</th>\n      <th>params</th>\n      <th>split0_test_score</th>\n      <th>split1_test_score</th>\n      <th>split2_test_score</th>\n      <th>mean_test_score</th>\n      <th>std_test_score</th>\n      <th>rank_test_score</th>\n    </tr>\n  </thead>\n  <tbody>\n    <tr>\n      <th>19</th>\n      <td>0.071000</td>\n      <td>0.002944</td>\n      <td>0.024666</td>\n      <td>0.013768</td>\n      <td>1</td>\n      <td>l2</td>\n      <td>IterativeImputer(random_state=123)</td>\n      <td>NaN</td>\n      <td>{'clf__C': 1, 'clf__penalty': 'l2', 'transform...</td>\n      <td>0.839133</td>\n      <td>0.862957</td>\n      <td>0.855119</td>\n      <td>0.852403</td>\n      <td>0.009914</td>\n      <td>1</td>\n    </tr>\n    <tr>\n      <th>20</th>\n      <td>0.062000</td>\n      <td>0.000816</td>\n      <td>0.014334</td>\n      <td>0.000472</td>\n      <td>10</td>\n      <td>none</td>\n      <td>IterativeImputer(random_state=123)</td>\n      <td>NaN</td>\n      <td>{'clf__C': 10, 'clf__penalty': 'none', 'transf...</td>\n      <td>0.838414</td>\n      <td>0.861806</td>\n      <td>0.856941</td>\n      <td>0.852387</td>\n      <td>0.010078</td>\n      <td>2</td>\n    </tr>\n    <tr>\n      <th>18</th>\n      <td>0.064668</td>\n      <td>0.002494</td>\n      <td>0.015333</td>\n      <td>0.000472</td>\n      <td>1</td>\n      <td>none</td>\n      <td>IterativeImputer(random_state=123)</td>\n      <td>NaN</td>\n      <td>{'clf__C': 1, 'clf__penalty': 'none', 'transfo...</td>\n      <td>0.838414</td>\n      <td>0.861806</td>\n      <td>0.856941</td>\n      <td>0.852387</td>\n      <td>0.010078</td>\n      <td>2</td>\n    </tr>\n    <tr>\n      <th>16</th>\n      <td>0.064333</td>\n      <td>0.002625</td>\n      <td>0.014667</td>\n      <td>0.001247</td>\n      <td>0.1</td>\n      <td>none</td>\n      <td>IterativeImputer(random_state=123)</td>\n      <td>NaN</td>\n      <td>{'clf__C': 0.1, 'clf__penalty': 'none', 'trans...</td>\n      <td>0.838414</td>\n      <td>0.861806</td>\n      <td>0.856941</td>\n      <td>0.852387</td>\n      <td>0.010078</td>\n      <td>2</td>\n    </tr>\n    <tr>\n      <th>22</th>\n      <td>0.065001</td>\n      <td>0.002944</td>\n      <td>0.012331</td>\n      <td>0.000944</td>\n      <td>100</td>\n      <td>none</td>\n      <td>IterativeImputer(random_state=123)</td>\n      <td>NaN</td>\n      <td>{'clf__C': 100, 'clf__penalty': 'none', 'trans...</td>\n      <td>0.838414</td>\n      <td>0.861806</td>\n      <td>0.856941</td>\n      <td>0.852387</td>\n      <td>0.010078</td>\n      <td>2</td>\n    </tr>\n    <tr>\n      <th>21</th>\n      <td>0.063666</td>\n      <td>0.002357</td>\n      <td>0.013000</td>\n      <td>0.000817</td>\n      <td>10</td>\n      <td>l2</td>\n      <td>IterativeImputer(random_state=123)</td>\n      <td>NaN</td>\n      <td>{'clf__C': 10, 'clf__penalty': 'l2', 'transfor...</td>\n      <td>0.838462</td>\n      <td>0.861710</td>\n      <td>0.856845</td>\n      <td>0.852339</td>\n      <td>0.010011</td>\n      <td>6</td>\n    </tr>\n    <tr>\n      <th>23</th>\n      <td>0.056997</td>\n      <td>0.003558</td>\n      <td>0.007333</td>\n      <td>0.000946</td>\n      <td>100</td>\n      <td>l2</td>\n      <td>IterativeImputer(random_state=123)</td>\n      <td>NaN</td>\n      <td>{'clf__C': 100, 'clf__penalty': 'l2', 'transfo...</td>\n      <td>0.838462</td>\n      <td>0.861710</td>\n      <td>0.856797</td>\n      <td>0.852323</td>\n      <td>0.010004</td>\n      <td>7</td>\n    </tr>\n    <tr>\n      <th>6</th>\n      <td>0.031668</td>\n      <td>0.002493</td>\n      <td>0.016000</td>\n      <td>0.003559</td>\n      <td>1</td>\n      <td>l2</td>\n      <td>SimpleImputer()</td>\n      <td>mean</td>\n      <td>{'clf__C': 1, 'clf__penalty': 'l2', 'transform...</td>\n      <td>0.839804</td>\n      <td>0.861135</td>\n      <td>0.854688</td>\n      <td>0.851876</td>\n      <td>0.008932</td>\n      <td>8</td>\n    </tr>\n    <tr>\n      <th>10</th>\n      <td>0.036668</td>\n      <td>0.004111</td>\n      <td>0.015000</td>\n      <td>0.003558</td>\n      <td>10</td>\n      <td>l2</td>\n      <td>SimpleImputer()</td>\n      <td>mean</td>\n      <td>{'clf__C': 10, 'clf__penalty': 'l2', 'transfor...</td>\n      <td>0.838606</td>\n      <td>0.860128</td>\n      <td>0.855742</td>\n      <td>0.851492</td>\n      <td>0.009286</td>\n      <td>9</td>\n    </tr>\n    <tr>\n      <th>14</th>\n      <td>0.032332</td>\n      <td>0.002625</td>\n      <td>0.010667</td>\n      <td>0.002055</td>\n      <td>100</td>\n      <td>l2</td>\n      <td>SimpleImputer()</td>\n      <td>mean</td>\n      <td>{'clf__C': 100, 'clf__penalty': 'l2', 'transfo...</td>\n      <td>0.838366</td>\n      <td>0.859889</td>\n      <td>0.855982</td>\n      <td>0.851412</td>\n      <td>0.009362</td>\n      <td>10</td>\n    </tr>\n    <tr>\n      <th>12</th>\n      <td>0.031668</td>\n      <td>0.000471</td>\n      <td>0.013000</td>\n      <td>0.000817</td>\n      <td>100</td>\n      <td>none</td>\n      <td>SimpleImputer()</td>\n      <td>mean</td>\n      <td>{'clf__C': 100, 'clf__penalty': 'none', 'trans...</td>\n      <td>0.838223</td>\n      <td>0.859889</td>\n      <td>0.856078</td>\n      <td>0.851396</td>\n      <td>0.009444</td>\n      <td>11</td>\n    </tr>\n    <tr>\n      <th>0</th>\n      <td>0.036334</td>\n      <td>0.002358</td>\n      <td>0.014000</td>\n      <td>0.000817</td>\n      <td>0.1</td>\n      <td>none</td>\n      <td>SimpleImputer()</td>\n      <td>mean</td>\n      <td>{'clf__C': 0.1, 'clf__penalty': 'none', 'trans...</td>\n      <td>0.838223</td>\n      <td>0.859889</td>\n      <td>0.856078</td>\n      <td>0.851396</td>\n      <td>0.009444</td>\n      <td>11</td>\n    </tr>\n    <tr>\n      <th>8</th>\n      <td>0.033001</td>\n      <td>0.001415</td>\n      <td>0.013333</td>\n      <td>0.000472</td>\n      <td>10</td>\n      <td>none</td>\n      <td>SimpleImputer()</td>\n      <td>mean</td>\n      <td>{'clf__C': 10, 'clf__penalty': 'none', 'transf...</td>\n      <td>0.838223</td>\n      <td>0.859889</td>\n      <td>0.856078</td>\n      <td>0.851396</td>\n      <td>0.009444</td>\n      <td>11</td>\n    </tr>\n    <tr>\n      <th>4</th>\n      <td>0.034669</td>\n      <td>0.002053</td>\n      <td>0.014333</td>\n      <td>0.000472</td>\n      <td>1</td>\n      <td>none</td>\n      <td>SimpleImputer()</td>\n      <td>mean</td>\n      <td>{'clf__C': 1, 'clf__penalty': 'none', 'transfo...</td>\n      <td>0.838223</td>\n      <td>0.859889</td>\n      <td>0.856078</td>\n      <td>0.851396</td>\n      <td>0.009444</td>\n      <td>11</td>\n    </tr>\n    <tr>\n      <th>7</th>\n      <td>0.034000</td>\n      <td>0.002160</td>\n      <td>0.013666</td>\n      <td>0.001698</td>\n      <td>1</td>\n      <td>l2</td>\n      <td>SimpleImputer()</td>\n      <td>median</td>\n      <td>{'clf__C': 1, 'clf__penalty': 'l2', 'transform...</td>\n      <td>0.839948</td>\n      <td>0.859745</td>\n      <td>0.854209</td>\n      <td>0.851301</td>\n      <td>0.008339</td>\n      <td>15</td>\n    </tr>\n    <tr>\n      <th>15</th>\n      <td>0.031665</td>\n      <td>0.000471</td>\n      <td>0.014667</td>\n      <td>0.001700</td>\n      <td>100</td>\n      <td>l2</td>\n      <td>SimpleImputer()</td>\n      <td>median</td>\n      <td>{'clf__C': 100, 'clf__penalty': 'l2', 'transfo...</td>\n      <td>0.838846</td>\n      <td>0.859026</td>\n      <td>0.854976</td>\n      <td>0.850949</td>\n      <td>0.008717</td>\n      <td>16</td>\n    </tr>\n    <tr>\n      <th>11</th>\n      <td>0.033666</td>\n      <td>0.001700</td>\n      <td>0.013334</td>\n      <td>0.000471</td>\n      <td>10</td>\n      <td>l2</td>\n      <td>SimpleImputer()</td>\n      <td>median</td>\n      <td>{'clf__C': 10, 'clf__penalty': 'l2', 'transfor...</td>\n      <td>0.838942</td>\n      <td>0.859074</td>\n      <td>0.854832</td>\n      <td>0.850949</td>\n      <td>0.008665</td>\n      <td>16</td>\n    </tr>\n    <tr>\n      <th>13</th>\n      <td>0.037333</td>\n      <td>0.007587</td>\n      <td>0.012666</td>\n      <td>0.000942</td>\n      <td>100</td>\n      <td>none</td>\n      <td>SimpleImputer()</td>\n      <td>median</td>\n      <td>{'clf__C': 100, 'clf__penalty': 'none', 'trans...</td>\n      <td>0.838798</td>\n      <td>0.858882</td>\n      <td>0.854976</td>\n      <td>0.850885</td>\n      <td>0.008695</td>\n      <td>18</td>\n    </tr>\n    <tr>\n      <th>5</th>\n      <td>0.033335</td>\n      <td>0.000472</td>\n      <td>0.013335</td>\n      <td>0.001247</td>\n      <td>1</td>\n      <td>none</td>\n      <td>SimpleImputer()</td>\n      <td>median</td>\n      <td>{'clf__C': 1, 'clf__penalty': 'none', 'transfo...</td>\n      <td>0.838798</td>\n      <td>0.858882</td>\n      <td>0.854976</td>\n      <td>0.850885</td>\n      <td>0.008695</td>\n      <td>18</td>\n    </tr>\n    <tr>\n      <th>1</th>\n      <td>0.040000</td>\n      <td>0.002826</td>\n      <td>0.014335</td>\n      <td>0.001246</td>\n      <td>0.1</td>\n      <td>none</td>\n      <td>SimpleImputer()</td>\n      <td>median</td>\n      <td>{'clf__C': 0.1, 'clf__penalty': 'none', 'trans...</td>\n      <td>0.838798</td>\n      <td>0.858882</td>\n      <td>0.854976</td>\n      <td>0.850885</td>\n      <td>0.008695</td>\n      <td>18</td>\n    </tr>\n    <tr>\n      <th>9</th>\n      <td>0.037002</td>\n      <td>0.002449</td>\n      <td>0.013332</td>\n      <td>0.001247</td>\n      <td>10</td>\n      <td>none</td>\n      <td>SimpleImputer()</td>\n      <td>median</td>\n      <td>{'clf__C': 10, 'clf__penalty': 'none', 'transf...</td>\n      <td>0.838798</td>\n      <td>0.858882</td>\n      <td>0.854976</td>\n      <td>0.850885</td>\n      <td>0.008695</td>\n      <td>18</td>\n    </tr>\n    <tr>\n      <th>2</th>\n      <td>0.037336</td>\n      <td>0.003683</td>\n      <td>0.016999</td>\n      <td>0.004320</td>\n      <td>0.1</td>\n      <td>l2</td>\n      <td>SimpleImputer()</td>\n      <td>mean</td>\n      <td>{'clf__C': 0.1, 'clf__penalty': 'l2', 'transfo...</td>\n      <td>0.838175</td>\n      <td>0.863100</td>\n      <td>0.850086</td>\n      <td>0.850454</td>\n      <td>0.010179</td>\n      <td>22</td>\n    </tr>\n    <tr>\n      <th>17</th>\n      <td>0.065667</td>\n      <td>0.003400</td>\n      <td>0.015668</td>\n      <td>0.001700</td>\n      <td>0.1</td>\n      <td>l2</td>\n      <td>IterativeImputer(random_state=123)</td>\n      <td>NaN</td>\n      <td>{'clf__C': 0.1, 'clf__penalty': 'l2', 'transfo...</td>\n      <td>0.837072</td>\n      <td>0.863724</td>\n      <td>0.849176</td>\n      <td>0.849990</td>\n      <td>0.010896</td>\n      <td>23</td>\n    </tr>\n    <tr>\n      <th>3</th>\n      <td>0.038665</td>\n      <td>0.005249</td>\n      <td>0.014335</td>\n      <td>0.000472</td>\n      <td>0.1</td>\n      <td>l2</td>\n      <td>SimpleImputer()</td>\n      <td>median</td>\n      <td>{'clf__C': 0.1, 'clf__penalty': 'l2', 'transfo...</td>\n      <td>0.837695</td>\n      <td>0.861662</td>\n      <td>0.849847</td>\n      <td>0.849735</td>\n      <td>0.009785</td>\n      <td>24</td>\n    </tr>\n  </tbody>\n</table>\n</div>"
     },
     "metadata": {},
     "output_type": "display_data"
    },
    {
     "name": "stdout",
     "output_type": "stream",
     "text": [
      "параметры: {'clf__C': 1, 'clf__penalty': 'l2', 'transformer__nums__imputer': IterativeImputer(random_state=123)} \n",
      "roc-auc: 0.8524\n"
     ]
    }
   ],
   "source": [
    "display(pd.DataFrame(lr_gs.cv_results_).sort_values('rank_test_score'))\n",
    "print(f'параметры: {pd.DataFrame(lr_gs.cv_results_).sort_values(\"rank_test_score\").head(1)[\"params\"].values[0]}',\n",
    "      f'\\nroc-auc: {pd.DataFrame(lr_gs.cv_results_).sort_values(\"rank_test_score\").head(1)[\"mean_test_score\"].values[0]:.4f}')"
   ],
   "metadata": {
    "collapsed": false,
    "pycharm": {
     "name": "#%%\n"
    }
   }
  },
  {
   "cell_type": "code",
   "execution_count": 26,
   "outputs": [],
   "source": [
    "lr = lr_gs.best_estimator_"
   ],
   "metadata": {
    "collapsed": false,
    "pycharm": {
     "name": "#%%\n"
    }
   }
  },
  {
   "cell_type": "markdown",
   "source": [
    "Классификатор обучен и может уже что-то предсказывать. Посмотрим на важность признаков с точки зрения коэффициентов логистической регрессии и permutation_importance"
   ],
   "metadata": {
    "collapsed": false,
    "pycharm": {
     "name": "#%% md\n"
    }
   }
  },
  {
   "cell_type": "code",
   "execution_count": 27,
   "outputs": [
    {
     "data": {
      "text/plain": "<Figure size 1600x600 with 2 Axes>",
      "image/png": "[encoded data removed]"
     },
     "metadata": {},
     "output_type": "display_data"
    }
   ],
   "source": [
    "fig, (ax1, ax2) = plt.subplots(1, 2, figsize=(16, 6))\n",
    "\n",
    "pd.Series(lr.named_steps['clf'].coef_.reshape(-1), index=lr.named_steps['transformer'].get_feature_names_out()).sort_values().plot.barh(ax=ax1);\n",
    "ax1.set_title('LR coefs');\n",
    "\n",
    "r = permutation_importance(lr, x, y, scoring='roc_auc', n_repeats=30, random_state=123)\n",
    "pd.Series(r.importances_mean, index=x.columns).sort_values().plot.barh(xerr=r.importances_std, ax=ax2);\n",
    "ax2.set_title('Permutation importances');"
   ],
   "metadata": {
    "collapsed": false,
    "pycharm": {
     "name": "#%%\n"
    }
   }
  },
  {
   "cell_type": "markdown",
   "source": [
    "### Добавление полиномиальных признаков"
   ],
   "metadata": {
    "collapsed": false,
    "pycharm": {
     "name": "#%% md\n"
    }
   }
  },
  {
   "cell_type": "code",
   "execution_count": 28,
   "outputs": [],
   "source": [
    "num_ct_poly = Pipeline(steps=[('imputer', IterativeImputer(random_state=123)),\n",
    "                              ('scaler', StandardScaler()),\n",
    "                              ('poly', PolynomialFeatures())])\n",
    "\n",
    "cat_ct = Pipeline(steps=[('imputer', SimpleImputer(strategy='most_frequent')),\n",
    "                         ('ohe', OneHotEncoder(drop='first'))])\n",
    "\n",
    "transformer_poly = ColumnTransformer(transformers=[('nums', num_ct_poly, selector(dtype_exclude=\"object\")),\n",
    "                                                   ('cats', cat_ct, selector(dtype_include=\"object\"))],\n",
    "                                                    remainder='passthrough')\n",
    "\n",
    "clf_lr = LogisticRegression()\n",
    "# lr_pipe = Pipeline(steps=[('transformer', transformer_poly), ('clf', clf_lr)])\n",
    "#\n",
    "# lr_pipe.fit(x, y)"
   ],
   "metadata": {
    "collapsed": false,
    "pycharm": {
     "name": "#%%\n"
    }
   }
  },
  {
   "cell_type": "code",
   "execution_count": 29,
   "outputs": [],
   "source": [
    "rfe = RFE(clf_lr)"
   ],
   "metadata": {
    "collapsed": false,
    "pycharm": {
     "name": "#%%\n"
    }
   }
  },
  {
   "cell_type": "code",
   "execution_count": 30,
   "outputs": [
    {
     "data": {
      "text/plain": "(891, 32)"
     },
     "execution_count": 30,
     "metadata": {},
     "output_type": "execute_result"
    }
   ],
   "source": [
    "transformer_poly.fit_transform(x).shape"
   ],
   "metadata": {
    "collapsed": false,
    "pycharm": {
     "name": "#%%\n"
    }
   }
  },
  {
   "cell_type": "code",
   "execution_count": 31,
   "outputs": [
    {
     "data": {
      "text/plain": "           x1      x2        x3        x4        x5        x6        x7  \\\n584 -0.737695  0.1088 -0.474545 -0.473674 -0.472998 -0.858653  0.544194   \n\n           x8       x9       x10  ...       x22       x23       x24       x25  \\\n584 -0.080261  0.35007  0.349427  ...  0.224367  0.224047  0.406721  0.223727   \n\n          x26       x27  x28  x29  x30  x31  \n584  0.406141  0.737285  0.0  1.0  0.0  0.0  \n\n[1 rows x 31 columns]",
      "text/html": "<div>\n<style scoped>\n    .dataframe tbody tr th:only-of-type {\n        vertical-align: middle;\n    }\n\n    .dataframe tbody tr th {\n        vertical-align: top;\n    }\n\n    .dataframe thead th {\n        text-align: right;\n    }\n</style>\n<table border=\"1\" class=\"dataframe\">\n  <thead>\n    <tr style=\"text-align: right;\">\n      <th></th>\n      <th>x1</th>\n      <th>x2</th>\n      <th>x3</th>\n      <th>x4</th>\n      <th>x5</th>\n      <th>x6</th>\n      <th>x7</th>\n      <th>x8</th>\n      <th>x9</th>\n      <th>x10</th>\n      <th>...</th>\n      <th>x22</th>\n      <th>x23</th>\n      <th>x24</th>\n      <th>x25</th>\n      <th>x26</th>\n      <th>x27</th>\n      <th>x28</th>\n      <th>x29</th>\n      <th>x30</th>\n      <th>x31</th>\n    </tr>\n  </thead>\n  <tbody>\n    <tr>\n      <th>584</th>\n      <td>-0.737695</td>\n      <td>0.1088</td>\n      <td>-0.474545</td>\n      <td>-0.473674</td>\n      <td>-0.472998</td>\n      <td>-0.858653</td>\n      <td>0.544194</td>\n      <td>-0.080261</td>\n      <td>0.35007</td>\n      <td>0.349427</td>\n      <td>...</td>\n      <td>0.224367</td>\n      <td>0.224047</td>\n      <td>0.406721</td>\n      <td>0.223727</td>\n      <td>0.406141</td>\n      <td>0.737285</td>\n      <td>0.0</td>\n      <td>1.0</td>\n      <td>0.0</td>\n      <td>0.0</td>\n    </tr>\n  </tbody>\n</table>\n<p>1 rows × 31 columns</p>\n</div>"
     },
     "execution_count": 31,
     "metadata": {},
     "output_type": "execute_result"
    }
   ],
   "source": [
    "# создание словаря с признаками после всех преобразований можно было использовать rfe.support_\n",
    "poly_features = pd.DataFrame({f'x{i}': transformer_poly.fit_transform(x)[: ,i] for i in range(1, transformer_poly.fit_transform(x).shape[1])})\n",
    "poly_features.sample()"
   ],
   "metadata": {
    "collapsed": false,
    "pycharm": {
     "name": "#%%\n"
    }
   }
  },
  {
   "cell_type": "code",
   "execution_count": 32,
   "outputs": [
    {
     "name": "stderr",
     "output_type": "stream",
     "text": [
      "C:\\work_and_fun\\partisans\\PP\\mistakes-and-regrets\\lib\\site-packages\\sklearn\\linear_model\\_logistic.py:458: ConvergenceWarning: lbfgs failed to converge (status=1):\n",
      "STOP: TOTAL NO. of ITERATIONS REACHED LIMIT.\n",
      "\n",
      "Increase the number of iterations (max_iter) or scale the data as shown in:\n",
      "    https://scikit-learn.org/stable/modules/preprocessing.html\n",
      "Please also refer to the documentation for alternative solver options:\n",
      "    https://scikit-learn.org/stable/modules/linear_model.html#logistic-regression\n",
      "  n_iter_i = _check_optimize_result(\n"
     ]
    },
    {
     "data": {
      "text/plain": "RFE(estimator=LogisticRegression())",
      "text/html": "<style>#sk-container-id-3 {color: black;background-color: white;}#sk-container-id-3 pre{padding: 0;}#sk-container-id-3 div.sk-toggleable {background-color: white;}#sk-container-id-3 label.sk-toggleable__label {cursor: pointer;display: block;width: 100%;margin-bottom: 0;padding: 0.3em;box-sizing: border-box;text-align: center;}#sk-container-id-3 label.sk-toggleable__label-arrow:before {content: \"▸\";float: left;margin-right: 0.25em;color: #696969;}#sk-container-id-3 label.sk-toggleable__label-arrow:hover:before {color: black;}#sk-container-id-3 div.sk-estimator:hover label.sk-toggleable__label-arrow:before {color: black;}#sk-container-id-3 div.sk-toggleable__content {max-height: 0;max-width: 0;overflow: hidden;text-align: left;background-color: #f0f8ff;}#sk-container-id-3 div.sk-toggleable__content pre {margin: 0.2em;color: black;border-radius: 0.25em;background-color: #f0f8ff;}#sk-container-id-3 input.sk-toggleable__control:checked~div.sk-toggleable__content {max-height: 200px;max-width: 100%;overflow: auto;}#sk-container-id-3 input.sk-toggleable__control:checked~label.sk-toggleable__label-arrow:before {content: \"▾\";}#sk-container-id-3 div.sk-estimator input.sk-toggleable__control:checked~label.sk-toggleable__label {background-color: #d4ebff;}#sk-container-id-3 div.sk-label input.sk-toggleable__control:checked~label.sk-toggleable__label {background-color: #d4ebff;}#sk-container-id-3 input.sk-hidden--visually {border: 0;clip: rect(1px 1px 1px 1px);clip: rect(1px, 1px, 1px, 1px);height: 1px;margin: -1px;overflow: hidden;padding: 0;position: absolute;width: 1px;}#sk-container-id-3 div.sk-estimator {font-family: monospace;background-color: #f0f8ff;border: 1px dotted black;border-radius: 0.25em;box-sizing: border-box;margin-bottom: 0.5em;}#sk-container-id-3 div.sk-estimator:hover {background-color: #d4ebff;}#sk-container-id-3 div.sk-parallel-item::after {content: \"\";width: 100%;border-bottom: 1px solid gray;flex-grow: 1;}#sk-container-id-3 div.sk-label:hover label.sk-toggleable__label {background-color: #d4ebff;}#sk-container-id-3 div.sk-serial::before {content: \"\";position: absolute;border-left: 1px solid gray;box-sizing: border-box;top: 0;bottom: 0;left: 50%;z-index: 0;}#sk-container-id-3 div.sk-serial {display: flex;flex-direction: column;align-items: center;background-color: white;padding-right: 0.2em;padding-left: 0.2em;position: relative;}#sk-container-id-3 div.sk-item {position: relative;z-index: 1;}#sk-container-id-3 div.sk-parallel {display: flex;align-items: stretch;justify-content: center;background-color: white;position: relative;}#sk-container-id-3 div.sk-item::before, #sk-container-id-3 div.sk-parallel-item::before {content: \"\";position: absolute;border-left: 1px solid gray;box-sizing: border-box;top: 0;bottom: 0;left: 50%;z-index: -1;}#sk-container-id-3 div.sk-parallel-item {display: flex;flex-direction: column;z-index: 1;position: relative;background-color: white;}#sk-container-id-3 div.sk-parallel-item:first-child::after {align-self: flex-end;width: 50%;}#sk-container-id-3 div.sk-parallel-item:last-child::after {align-self: flex-start;width: 50%;}#sk-container-id-3 div.sk-parallel-item:only-child::after {width: 0;}#sk-container-id-3 div.sk-dashed-wrapped {border: 1px dashed gray;margin: 0 0.4em 0.5em 0.4em;box-sizing: border-box;padding-bottom: 0.4em;background-color: white;}#sk-container-id-3 div.sk-label label {font-family: monospace;font-weight: bold;display: inline-block;line-height: 1.2em;}#sk-container-id-3 div.sk-label-container {text-align: center;}#sk-container-id-3 div.sk-container {/* jupyter's `normalize.less` sets `[hidden] { display: none; }` but bootstrap.min.css set `[hidden] { display: none !important; }` so we also need the `!important` here to be able to override the default hidden behavior on the sphinx rendered scikit-learn.org. See: https://github.com/scikit-learn/scikit-learn/issues/21755 */display: inline-block !important;position: relative;}#sk-container-id-3 div.sk-text-repr-fallback {display: none;}</style><div id=\"sk-container-id-3\" class=\"sk-top-container\"><div class=\"sk-text-repr-fallback\"><pre>RFE(estimator=LogisticRegression())</pre><b>In a Jupyter environment, please rerun this cell to show the HTML representation or trust the notebook. <br />On GitHub, the HTML representation is unable to render, please try loading this page with nbviewer.org.</b></div><div class=\"sk-container\" hidden><div class=\"sk-item sk-dashed-wrapped\"><div class=\"sk-label-container\"><div class=\"sk-label sk-toggleable\"><input class=\"sk-toggleable__control sk-hidden--visually\" id=\"sk-estimator-id-23\" type=\"checkbox\" ><label for=\"sk-estimator-id-23\" class=\"sk-toggleable__label sk-toggleable__label-arrow\">RFE</label><div class=\"sk-toggleable__content\"><pre>RFE(estimator=LogisticRegression())</pre></div></div></div><div class=\"sk-parallel\"><div class=\"sk-parallel-item\"><div class=\"sk-item\"><div class=\"sk-label-container\"><div class=\"sk-label sk-toggleable\"><input class=\"sk-toggleable__control sk-hidden--visually\" id=\"sk-estimator-id-24\" type=\"checkbox\" ><label for=\"sk-estimator-id-24\" class=\"sk-toggleable__label sk-toggleable__label-arrow\">estimator: LogisticRegression</label><div class=\"sk-toggleable__content\"><pre>LogisticRegression()</pre></div></div></div><div class=\"sk-serial\"><div class=\"sk-item\"><div class=\"sk-estimator sk-toggleable\"><input class=\"sk-toggleable__control sk-hidden--visually\" id=\"sk-estimator-id-25\" type=\"checkbox\" ><label for=\"sk-estimator-id-25\" class=\"sk-toggleable__label sk-toggleable__label-arrow\">LogisticRegression</label><div class=\"sk-toggleable__content\"><pre>LogisticRegression()</pre></div></div></div></div></div></div></div></div></div></div>"
     },
     "execution_count": 32,
     "metadata": {},
     "output_type": "execute_result"
    }
   ],
   "source": [
    "rfe.fit(poly_features, y)"
   ],
   "metadata": {
    "collapsed": false,
    "pycharm": {
     "name": "#%%\n"
    }
   }
  },
  {
   "cell_type": "code",
   "execution_count": 33,
   "outputs": [
    {
     "data": {
      "text/plain": "array([ 1,  1,  1, 11,  1,  1,  1,  1, 17,  3,  1,  1,  5,  1,  1,  1, 14,\n        8, 16, 12, 15,  9,  2,  4, 13, 10,  6,  1,  1,  7,  1])"
     },
     "execution_count": 33,
     "metadata": {},
     "output_type": "execute_result"
    }
   ],
   "source": [
    "rfe.ranking_"
   ],
   "metadata": {
    "collapsed": false,
    "pycharm": {
     "name": "#%%\n"
    }
   }
  },
  {
   "cell_type": "code",
   "execution_count": 34,
   "outputs": [
    {
     "data": {
      "text/plain": "array([[ 0.9154101 , -0.34736833, -0.25125235,  0.13423565,  0.40161387,\n         0.56564827,  0.41212765,  0.26360236, -0.22254533,  0.34463278,\n        -0.49118614,  0.46454723, -0.75305254, -1.76528364, -0.60311648]])"
     },
     "execution_count": 34,
     "metadata": {},
     "output_type": "execute_result"
    }
   ],
   "source": [
    "rfe.estimator_.coef_"
   ],
   "metadata": {
    "collapsed": false,
    "pycharm": {
     "name": "#%%\n"
    }
   }
  },
  {
   "cell_type": "code",
   "execution_count": 35,
   "outputs": [
    {
     "data": {
      "text/plain": "(15,)"
     },
     "execution_count": 35,
     "metadata": {},
     "output_type": "execute_result"
    }
   ],
   "source": [
    "rfe_imp_features = rfe.get_feature_names_out()\n",
    "rfe_imp_features.shape"
   ],
   "metadata": {
    "collapsed": false,
    "pycharm": {
     "name": "#%%\n"
    }
   }
  },
  {
   "cell_type": "code",
   "execution_count": 36,
   "outputs": [
    {
     "data": {
      "text/plain": "0.8622135940945258"
     },
     "execution_count": 36,
     "metadata": {},
     "output_type": "execute_result"
    }
   ],
   "source": [
    "cross_val_score(clf_lr, poly_features[rfe_imp_features], y, cv=3, scoring='roc_auc').mean()"
   ],
   "metadata": {
    "collapsed": false,
    "pycharm": {
     "name": "#%%\n"
    }
   }
  },
  {
   "cell_type": "markdown",
   "source": [
    "### Встраивание RFE в Gridsearch"
   ],
   "metadata": {
    "collapsed": false,
    "pycharm": {
     "name": "#%% md\n"
    }
   }
  },
  {
   "cell_type": "code",
   "execution_count": 37,
   "outputs": [],
   "source": [
    "# класс, который возвращает коэффициенты логистической регрессии\n",
    "# https://stackoverflow.com/questions/36683230/grid-search-with-recursive-feature-elimination-in-scikit-learn-pipeline-returns\n",
    "\n",
    "class MyPipe(Pipeline):\n",
    "\n",
    "    def fit(self, X, y=None, **fit_params):\n",
    "        \"\"\"Calls last elements .coef_ method.\n",
    "        Based on the sourcecode for decision_function(X).\n",
    "        Link: https://github.com/scikit-learn/scikit-learn/blob/master/sklearn/pipeline.py\n",
    "        ----------\n",
    "        \"\"\"\n",
    "        super(MyPipe, self).fit(X, y, **fit_params)\n",
    "        self.coef_ = self.steps[-1][-1].coef_\n",
    "        return self"
   ],
   "metadata": {
    "collapsed": false,
    "pycharm": {
     "name": "#%%\n"
    }
   }
  },
  {
   "cell_type": "code",
   "execution_count": 38,
   "outputs": [
    {
     "name": "stdout",
     "output_type": "stream",
     "text": [
      "Fitting 3 folds for each of 120 candidates, totalling 360 fits\n",
      "Fitting estimator with 32 features.\n",
      "Fitting estimator with 31 features.\n",
      "Fitting estimator with 30 features.\n",
      "Fitting estimator with 29 features.\n",
      "Fitting estimator with 28 features.\n",
      "Fitting estimator with 27 features.\n"
     ]
    },
    {
     "name": "stderr",
     "output_type": "stream",
     "text": [
      "C:\\work_and_fun\\partisans\\PP\\mistakes-and-regrets\\lib\\site-packages\\sklearn\\linear_model\\_logistic.py:1181: UserWarning: Setting penalty=None will ignore the C and l1_ratio parameters\n",
      "  warnings.warn(\n",
      "C:\\work_and_fun\\partisans\\PP\\mistakes-and-regrets\\lib\\site-packages\\sklearn\\linear_model\\_logistic.py:1181: UserWarning: Setting penalty=None will ignore the C and l1_ratio parameters\n",
      "  warnings.warn(\n",
      "C:\\work_and_fun\\partisans\\PP\\mistakes-and-regrets\\lib\\site-packages\\sklearn\\linear_model\\_logistic.py:1181: UserWarning: Setting penalty=None will ignore the C and l1_ratio parameters\n",
      "  warnings.warn(\n",
      "C:\\work_and_fun\\partisans\\PP\\mistakes-and-regrets\\lib\\site-packages\\sklearn\\linear_model\\_logistic.py:1181: UserWarning: Setting penalty=None will ignore the C and l1_ratio parameters\n",
      "  warnings.warn(\n",
      "C:\\work_and_fun\\partisans\\PP\\mistakes-and-regrets\\lib\\site-packages\\sklearn\\linear_model\\_logistic.py:1181: UserWarning: Setting penalty=None will ignore the C and l1_ratio parameters\n",
      "  warnings.warn(\n",
      "C:\\work_and_fun\\partisans\\PP\\mistakes-and-regrets\\lib\\site-packages\\sklearn\\linear_model\\_logistic.py:1181: UserWarning: Setting penalty=None will ignore the C and l1_ratio parameters\n",
      "  warnings.warn(\n"
     ]
    },
    {
     "name": "stdout",
     "output_type": "stream",
     "text": [
      "Fitting estimator with 26 features.\n",
      "Fitting estimator with 25 features.\n",
      "Fitting estimator with 24 features.\n",
      "Fitting estimator with 23 features.\n",
      "Fitting estimator with 22 features.\n",
      "Fitting estimator with 21 features.\n",
      "Fitting estimator with 20 features.\n",
      "Fitting estimator with 19 features.\n"
     ]
    },
    {
     "name": "stderr",
     "output_type": "stream",
     "text": [
      "C:\\work_and_fun\\partisans\\PP\\mistakes-and-regrets\\lib\\site-packages\\sklearn\\linear_model\\_logistic.py:1181: UserWarning: Setting penalty=None will ignore the C and l1_ratio parameters\n",
      "  warnings.warn(\n",
      "C:\\work_and_fun\\partisans\\PP\\mistakes-and-regrets\\lib\\site-packages\\sklearn\\linear_model\\_logistic.py:1181: UserWarning: Setting penalty=None will ignore the C and l1_ratio parameters\n",
      "  warnings.warn(\n",
      "C:\\work_and_fun\\partisans\\PP\\mistakes-and-regrets\\lib\\site-packages\\sklearn\\linear_model\\_logistic.py:1181: UserWarning: Setting penalty=None will ignore the C and l1_ratio parameters\n",
      "  warnings.warn(\n",
      "C:\\work_and_fun\\partisans\\PP\\mistakes-and-regrets\\lib\\site-packages\\sklearn\\linear_model\\_logistic.py:1181: UserWarning: Setting penalty=None will ignore the C and l1_ratio parameters\n",
      "  warnings.warn(\n",
      "C:\\work_and_fun\\partisans\\PP\\mistakes-and-regrets\\lib\\site-packages\\sklearn\\linear_model\\_logistic.py:1181: UserWarning: Setting penalty=None will ignore the C and l1_ratio parameters\n",
      "  warnings.warn(\n",
      "C:\\work_and_fun\\partisans\\PP\\mistakes-and-regrets\\lib\\site-packages\\sklearn\\linear_model\\_logistic.py:1181: UserWarning: Setting penalty=None will ignore the C and l1_ratio parameters\n",
      "  warnings.warn(\n",
      "C:\\work_and_fun\\partisans\\PP\\mistakes-and-regrets\\lib\\site-packages\\sklearn\\linear_model\\_logistic.py:1181: UserWarning: Setting penalty=None will ignore the C and l1_ratio parameters\n",
      "  warnings.warn(\n",
      "C:\\work_and_fun\\partisans\\PP\\mistakes-and-regrets\\lib\\site-packages\\sklearn\\linear_model\\_logistic.py:1181: UserWarning: Setting penalty=None will ignore the C and l1_ratio parameters\n",
      "  warnings.warn(\n"
     ]
    },
    {
     "name": "stdout",
     "output_type": "stream",
     "text": [
      "Fitting estimator with 18 features.\n",
      "Fitting estimator with 17 features.\n",
      "Fitting estimator with 16 features.\n"
     ]
    },
    {
     "name": "stderr",
     "output_type": "stream",
     "text": [
      "C:\\work_and_fun\\partisans\\PP\\mistakes-and-regrets\\lib\\site-packages\\sklearn\\linear_model\\_logistic.py:1181: UserWarning: Setting penalty=None will ignore the C and l1_ratio parameters\n",
      "  warnings.warn(\n",
      "C:\\work_and_fun\\partisans\\PP\\mistakes-and-regrets\\lib\\site-packages\\sklearn\\linear_model\\_logistic.py:1181: UserWarning: Setting penalty=None will ignore the C and l1_ratio parameters\n",
      "  warnings.warn(\n",
      "C:\\work_and_fun\\partisans\\PP\\mistakes-and-regrets\\lib\\site-packages\\sklearn\\linear_model\\_logistic.py:1181: UserWarning: Setting penalty=None will ignore the C and l1_ratio parameters\n",
      "  warnings.warn(\n",
      "C:\\work_and_fun\\partisans\\PP\\mistakes-and-regrets\\lib\\site-packages\\sklearn\\linear_model\\_logistic.py:1181: UserWarning: Setting penalty=None will ignore the C and l1_ratio parameters\n",
      "  warnings.warn(\n"
     ]
    },
    {
     "data": {
      "text/plain": "GridSearchCV(cv=3,\n             estimator=Pipeline(steps=[('transformer',\n                                        ColumnTransformer(remainder='passthrough',\n                                                          transformers=[('nums',\n                                                                         Pipeline(steps=[('imputer',\n                                                                                          IterativeImputer(random_state=123)),\n                                                                                         ('scaler',\n                                                                                          StandardScaler()),\n                                                                                         ('poly',\n                                                                                          PolynomialFeatures())]),\n                                                                         <sklearn.compose._column_transformer.make_column_selector object at 0x000001D832BDC250>),\n                                                                        ('cats',\n                                                                         Pipeline(s...\n                                                                                         ('ohe',\n                                                                                          OneHotEncoder(drop='first'))]),\n                                                                         <sklearn.compose._column_transformer.make_column_selector object at 0x000001D832BDC220>)])),\n                                       ('rfe',\n                                        RFE(estimator=LogisticRegression(),\n                                            verbose=99))]),\n             n_jobs=-1,\n             param_grid=[{'rfe__estimator__C': [0.1, 1, 10, 100],\n                          'rfe__estimator__penalty': [None, 'l2'],\n                          'rfe__n_features_to_select': range(5, 20)}],\n             scoring='roc_auc', verbose=10)",
      "text/html": "<style>#sk-container-id-4 {color: black;background-color: white;}#sk-container-id-4 pre{padding: 0;}#sk-container-id-4 div.sk-toggleable {background-color: white;}#sk-container-id-4 label.sk-toggleable__label {cursor: pointer;display: block;width: 100%;margin-bottom: 0;padding: 0.3em;box-sizing: border-box;text-align: center;}#sk-container-id-4 label.sk-toggleable__label-arrow:before {content: \"▸\";float: left;margin-right: 0.25em;color: #696969;}#sk-container-id-4 label.sk-toggleable__label-arrow:hover:before {color: black;}#sk-container-id-4 div.sk-estimator:hover label.sk-toggleable__label-arrow:before {color: black;}#sk-container-id-4 div.sk-toggleable__content {max-height: 0;max-width: 0;overflow: hidden;text-align: left;background-color: #f0f8ff;}#sk-container-id-4 div.sk-toggleable__content pre {margin: 0.2em;color: black;border-radius: 0.25em;background-color: #f0f8ff;}#sk-container-id-4 input.sk-toggleable__control:checked~div.sk-toggleable__content {max-height: 200px;max-width: 100%;overflow: auto;}#sk-container-id-4 input.sk-toggleable__control:checked~label.sk-toggleable__label-arrow:before {content: \"▾\";}#sk-container-id-4 div.sk-estimator input.sk-toggleable__control:checked~label.sk-toggleable__label {background-color: #d4ebff;}#sk-container-id-4 div.sk-label input.sk-toggleable__control:checked~label.sk-toggleable__label {background-color: #d4ebff;}#sk-container-id-4 input.sk-hidden--visually {border: 0;clip: rect(1px 1px 1px 1px);clip: rect(1px, 1px, 1px, 1px);height: 1px;margin: -1px;overflow: hidden;padding: 0;position: absolute;width: 1px;}#sk-container-id-4 div.sk-estimator {font-family: monospace;background-color: #f0f8ff;border: 1px dotted black;border-radius: 0.25em;box-sizing: border-box;margin-bottom: 0.5em;}#sk-container-id-4 div.sk-estimator:hover {background-color: #d4ebff;}#sk-container-id-4 div.sk-parallel-item::after {content: \"\";width: 100%;border-bottom: 1px solid gray;flex-grow: 1;}#sk-container-id-4 div.sk-label:hover label.sk-toggleable__label {background-color: #d4ebff;}#sk-container-id-4 div.sk-serial::before {content: \"\";position: absolute;border-left: 1px solid gray;box-sizing: border-box;top: 0;bottom: 0;left: 50%;z-index: 0;}#sk-container-id-4 div.sk-serial {display: flex;flex-direction: column;align-items: center;background-color: white;padding-right: 0.2em;padding-left: 0.2em;position: relative;}#sk-container-id-4 div.sk-item {position: relative;z-index: 1;}#sk-container-id-4 div.sk-parallel {display: flex;align-items: stretch;justify-content: center;background-color: white;position: relative;}#sk-container-id-4 div.sk-item::before, #sk-container-id-4 div.sk-parallel-item::before {content: \"\";position: absolute;border-left: 1px solid gray;box-sizing: border-box;top: 0;bottom: 0;left: 50%;z-index: -1;}#sk-container-id-4 div.sk-parallel-item {display: flex;flex-direction: column;z-index: 1;position: relative;background-color: white;}#sk-container-id-4 div.sk-parallel-item:first-child::after {align-self: flex-end;width: 50%;}#sk-container-id-4 div.sk-parallel-item:last-child::after {align-self: flex-start;width: 50%;}#sk-container-id-4 div.sk-parallel-item:only-child::after {width: 0;}#sk-container-id-4 div.sk-dashed-wrapped {border: 1px dashed gray;margin: 0 0.4em 0.5em 0.4em;box-sizing: border-box;padding-bottom: 0.4em;background-color: white;}#sk-container-id-4 div.sk-label label {font-family: monospace;font-weight: bold;display: inline-block;line-height: 1.2em;}#sk-container-id-4 div.sk-label-container {text-align: center;}#sk-container-id-4 div.sk-container {/* jupyter's `normalize.less` sets `[hidden] { display: none; }` but bootstrap.min.css set `[hidden] { display: none !important; }` so we also need the `!important` here to be able to override the default hidden behavior on the sphinx rendered scikit-learn.org. See: https://github.com/scikit-learn/scikit-learn/issues/21755 */display: inline-block !important;position: relative;}#sk-container-id-4 div.sk-text-repr-fallback {display: none;}</style><div id=\"sk-container-id-4\" class=\"sk-top-container\"><div class=\"sk-text-repr-fallback\"><pre>GridSearchCV(cv=3,\n             estimator=Pipeline(steps=[(&#x27;transformer&#x27;,\n                                        ColumnTransformer(remainder=&#x27;passthrough&#x27;,\n                                                          transformers=[(&#x27;nums&#x27;,\n                                                                         Pipeline(steps=[(&#x27;imputer&#x27;,\n                                                                                          IterativeImputer(random_state=123)),\n                                                                                         (&#x27;scaler&#x27;,\n                                                                                          StandardScaler()),\n                                                                                         (&#x27;poly&#x27;,\n                                                                                          PolynomialFeatures())]),\n                                                                         &lt;sklearn.compose._column_transformer.make_column_selector object at 0x000001D832BDC250&gt;),\n                                                                        (&#x27;cats&#x27;,\n                                                                         Pipeline(s...\n                                                                                         (&#x27;ohe&#x27;,\n                                                                                          OneHotEncoder(drop=&#x27;first&#x27;))]),\n                                                                         &lt;sklearn.compose._column_transformer.make_column_selector object at 0x000001D832BDC220&gt;)])),\n                                       (&#x27;rfe&#x27;,\n                                        RFE(estimator=LogisticRegression(),\n                                            verbose=99))]),\n             n_jobs=-1,\n             param_grid=[{&#x27;rfe__estimator__C&#x27;: [0.1, 1, 10, 100],\n                          &#x27;rfe__estimator__penalty&#x27;: [None, &#x27;l2&#x27;],\n                          &#x27;rfe__n_features_to_select&#x27;: range(5, 20)}],\n             scoring=&#x27;roc_auc&#x27;, verbose=10)</pre><b>In a Jupyter environment, please rerun this cell to show the HTML representation or trust the notebook. <br />On GitHub, the HTML representation is unable to render, please try loading this page with nbviewer.org.</b></div><div class=\"sk-container\" hidden><div class=\"sk-item sk-dashed-wrapped\"><div class=\"sk-label-container\"><div class=\"sk-label sk-toggleable\"><input class=\"sk-toggleable__control sk-hidden--visually\" id=\"sk-estimator-id-26\" type=\"checkbox\" ><label for=\"sk-estimator-id-26\" class=\"sk-toggleable__label sk-toggleable__label-arrow\">GridSearchCV</label><div class=\"sk-toggleable__content\"><pre>GridSearchCV(cv=3,\n             estimator=Pipeline(steps=[(&#x27;transformer&#x27;,\n                                        ColumnTransformer(remainder=&#x27;passthrough&#x27;,\n                                                          transformers=[(&#x27;nums&#x27;,\n                                                                         Pipeline(steps=[(&#x27;imputer&#x27;,\n                                                                                          IterativeImputer(random_state=123)),\n                                                                                         (&#x27;scaler&#x27;,\n                                                                                          StandardScaler()),\n                                                                                         (&#x27;poly&#x27;,\n                                                                                          PolynomialFeatures())]),\n                                                                         &lt;sklearn.compose._column_transformer.make_column_selector object at 0x000001D832BDC250&gt;),\n                                                                        (&#x27;cats&#x27;,\n                                                                         Pipeline(s...\n                                                                                         (&#x27;ohe&#x27;,\n                                                                                          OneHotEncoder(drop=&#x27;first&#x27;))]),\n                                                                         &lt;sklearn.compose._column_transformer.make_column_selector object at 0x000001D832BDC220&gt;)])),\n                                       (&#x27;rfe&#x27;,\n                                        RFE(estimator=LogisticRegression(),\n                                            verbose=99))]),\n             n_jobs=-1,\n             param_grid=[{&#x27;rfe__estimator__C&#x27;: [0.1, 1, 10, 100],\n                          &#x27;rfe__estimator__penalty&#x27;: [None, &#x27;l2&#x27;],\n                          &#x27;rfe__n_features_to_select&#x27;: range(5, 20)}],\n             scoring=&#x27;roc_auc&#x27;, verbose=10)</pre></div></div></div><div class=\"sk-parallel\"><div class=\"sk-parallel-item\"><div class=\"sk-item\"><div class=\"sk-label-container\"><div class=\"sk-label sk-toggleable\"><input class=\"sk-toggleable__control sk-hidden--visually\" id=\"sk-estimator-id-27\" type=\"checkbox\" ><label for=\"sk-estimator-id-27\" class=\"sk-toggleable__label sk-toggleable__label-arrow\">estimator: Pipeline</label><div class=\"sk-toggleable__content\"><pre>Pipeline(steps=[(&#x27;transformer&#x27;,\n                 ColumnTransformer(remainder=&#x27;passthrough&#x27;,\n                                   transformers=[(&#x27;nums&#x27;,\n                                                  Pipeline(steps=[(&#x27;imputer&#x27;,\n                                                                   IterativeImputer(random_state=123)),\n                                                                  (&#x27;scaler&#x27;,\n                                                                   StandardScaler()),\n                                                                  (&#x27;poly&#x27;,\n                                                                   PolynomialFeatures())]),\n                                                  &lt;sklearn.compose._column_transformer.make_column_selector object at 0x000001D832BDC250&gt;),\n                                                 (&#x27;cats&#x27;,\n                                                  Pipeline(steps=[(&#x27;imputer&#x27;,\n                                                                   SimpleImputer(strategy=&#x27;most_frequent&#x27;)),\n                                                                  (&#x27;ohe&#x27;,\n                                                                   OneHotEncoder(drop=&#x27;first&#x27;))]),\n                                                  &lt;sklearn.compose._column_transformer.make_column_selector object at 0x000001D832BDC220&gt;)])),\n                (&#x27;rfe&#x27;, RFE(estimator=LogisticRegression(), verbose=99))])</pre></div></div></div><div class=\"sk-serial\"><div class=\"sk-item\"><div class=\"sk-serial\"><div class=\"sk-item sk-dashed-wrapped\"><div class=\"sk-label-container\"><div class=\"sk-label sk-toggleable\"><input class=\"sk-toggleable__control sk-hidden--visually\" id=\"sk-estimator-id-28\" type=\"checkbox\" ><label for=\"sk-estimator-id-28\" class=\"sk-toggleable__label sk-toggleable__label-arrow\">transformer: ColumnTransformer</label><div class=\"sk-toggleable__content\"><pre>ColumnTransformer(remainder=&#x27;passthrough&#x27;,\n                  transformers=[(&#x27;nums&#x27;,\n                                 Pipeline(steps=[(&#x27;imputer&#x27;,\n                                                  IterativeImputer(random_state=123)),\n                                                 (&#x27;scaler&#x27;, StandardScaler()),\n                                                 (&#x27;poly&#x27;,\n                                                  PolynomialFeatures())]),\n                                 &lt;sklearn.compose._column_transformer.make_column_selector object at 0x000001D832BDC250&gt;),\n                                (&#x27;cats&#x27;,\n                                 Pipeline(steps=[(&#x27;imputer&#x27;,\n                                                  SimpleImputer(strategy=&#x27;most_frequent&#x27;)),\n                                                 (&#x27;ohe&#x27;,\n                                                  OneHotEncoder(drop=&#x27;first&#x27;))]),\n                                 &lt;sklearn.compose._column_transformer.make_column_selector object at 0x000001D832BDC220&gt;)])</pre></div></div></div><div class=\"sk-parallel\"><div class=\"sk-parallel-item\"><div class=\"sk-item\"><div class=\"sk-label-container\"><div class=\"sk-label sk-toggleable\"><input class=\"sk-toggleable__control sk-hidden--visually\" id=\"sk-estimator-id-29\" type=\"checkbox\" ><label for=\"sk-estimator-id-29\" class=\"sk-toggleable__label sk-toggleable__label-arrow\">nums</label><div class=\"sk-toggleable__content\"><pre>&lt;sklearn.compose._column_transformer.make_column_selector object at 0x000001D832BDC250&gt;</pre></div></div></div><div class=\"sk-serial\"><div class=\"sk-item\"><div class=\"sk-serial\"><div class=\"sk-item\"><div class=\"sk-estimator sk-toggleable\"><input class=\"sk-toggleable__control sk-hidden--visually\" id=\"sk-estimator-id-30\" type=\"checkbox\" ><label for=\"sk-estimator-id-30\" class=\"sk-toggleable__label sk-toggleable__label-arrow\">IterativeImputer</label><div class=\"sk-toggleable__content\"><pre>IterativeImputer(random_state=123)</pre></div></div></div><div class=\"sk-item\"><div class=\"sk-estimator sk-toggleable\"><input class=\"sk-toggleable__control sk-hidden--visually\" id=\"sk-estimator-id-31\" type=\"checkbox\" ><label for=\"sk-estimator-id-31\" class=\"sk-toggleable__label sk-toggleable__label-arrow\">StandardScaler</label><div class=\"sk-toggleable__content\"><pre>StandardScaler()</pre></div></div></div><div class=\"sk-item\"><div class=\"sk-estimator sk-toggleable\"><input class=\"sk-toggleable__control sk-hidden--visually\" id=\"sk-estimator-id-32\" type=\"checkbox\" ><label for=\"sk-estimator-id-32\" class=\"sk-toggleable__label sk-toggleable__label-arrow\">PolynomialFeatures</label><div class=\"sk-toggleable__content\"><pre>PolynomialFeatures()</pre></div></div></div></div></div></div></div></div><div class=\"sk-parallel-item\"><div class=\"sk-item\"><div class=\"sk-label-container\"><div class=\"sk-label sk-toggleable\"><input class=\"sk-toggleable__control sk-hidden--visually\" id=\"sk-estimator-id-33\" type=\"checkbox\" ><label for=\"sk-estimator-id-33\" class=\"sk-toggleable__label sk-toggleable__label-arrow\">cats</label><div class=\"sk-toggleable__content\"><pre>&lt;sklearn.compose._column_transformer.make_column_selector object at 0x000001D832BDC220&gt;</pre></div></div></div><div class=\"sk-serial\"><div class=\"sk-item\"><div class=\"sk-serial\"><div class=\"sk-item\"><div class=\"sk-estimator sk-toggleable\"><input class=\"sk-toggleable__control sk-hidden--visually\" id=\"sk-estimator-id-34\" type=\"checkbox\" ><label for=\"sk-estimator-id-34\" class=\"sk-toggleable__label sk-toggleable__label-arrow\">SimpleImputer</label><div class=\"sk-toggleable__content\"><pre>SimpleImputer(strategy=&#x27;most_frequent&#x27;)</pre></div></div></div><div class=\"sk-item\"><div class=\"sk-estimator sk-toggleable\"><input class=\"sk-toggleable__control sk-hidden--visually\" id=\"sk-estimator-id-35\" type=\"checkbox\" ><label for=\"sk-estimator-id-35\" class=\"sk-toggleable__label sk-toggleable__label-arrow\">OneHotEncoder</label><div class=\"sk-toggleable__content\"><pre>OneHotEncoder(drop=&#x27;first&#x27;)</pre></div></div></div></div></div></div></div></div><div class=\"sk-parallel-item\"><div class=\"sk-item\"><div class=\"sk-label-container\"><div class=\"sk-label sk-toggleable\"><input class=\"sk-toggleable__control sk-hidden--visually\" id=\"sk-estimator-id-36\" type=\"checkbox\" ><label for=\"sk-estimator-id-36\" class=\"sk-toggleable__label sk-toggleable__label-arrow\">remainder</label><div class=\"sk-toggleable__content\"><pre>[]</pre></div></div></div><div class=\"sk-serial\"><div class=\"sk-item\"><div class=\"sk-estimator sk-toggleable\"><input class=\"sk-toggleable__control sk-hidden--visually\" id=\"sk-estimator-id-37\" type=\"checkbox\" ><label for=\"sk-estimator-id-37\" class=\"sk-toggleable__label sk-toggleable__label-arrow\">passthrough</label><div class=\"sk-toggleable__content\"><pre>passthrough</pre></div></div></div></div></div></div></div></div><div class=\"sk-item sk-dashed-wrapped\"><div class=\"sk-label-container\"><div class=\"sk-label sk-toggleable\"><input class=\"sk-toggleable__control sk-hidden--visually\" id=\"sk-estimator-id-38\" type=\"checkbox\" ><label for=\"sk-estimator-id-38\" class=\"sk-toggleable__label sk-toggleable__label-arrow\">rfe: RFE</label><div class=\"sk-toggleable__content\"><pre>RFE(estimator=LogisticRegression(), verbose=99)</pre></div></div></div><div class=\"sk-parallel\"><div class=\"sk-parallel-item\"><div class=\"sk-item\"><div class=\"sk-label-container\"><div class=\"sk-label sk-toggleable\"><input class=\"sk-toggleable__control sk-hidden--visually\" id=\"sk-estimator-id-39\" type=\"checkbox\" ><label for=\"sk-estimator-id-39\" class=\"sk-toggleable__label sk-toggleable__label-arrow\">estimator: LogisticRegression</label><div class=\"sk-toggleable__content\"><pre>LogisticRegression()</pre></div></div></div><div class=\"sk-serial\"><div class=\"sk-item\"><div class=\"sk-estimator sk-toggleable\"><input class=\"sk-toggleable__control sk-hidden--visually\" id=\"sk-estimator-id-40\" type=\"checkbox\" ><label for=\"sk-estimator-id-40\" class=\"sk-toggleable__label sk-toggleable__label-arrow\">LogisticRegression</label><div class=\"sk-toggleable__content\"><pre>LogisticRegression()</pre></div></div></div></div></div></div></div></div></div></div></div></div></div></div></div></div></div>"
     },
     "execution_count": 38,
     "metadata": {},
     "output_type": "execute_result"
    }
   ],
   "source": [
    "num_ct_poly = Pipeline(steps=[('imputer', IterativeImputer(random_state=123)),\n",
    "                              ('scaler', StandardScaler()),\n",
    "                              ('poly', PolynomialFeatures())])\n",
    "\n",
    "cat_ct = Pipeline(steps=[('imputer', SimpleImputer(strategy='most_frequent')),\n",
    "                         ('ohe', OneHotEncoder(drop='first'))])\n",
    "\n",
    "transformer_poly = ColumnTransformer(transformers=[('nums', num_ct_poly, selector(dtype_exclude=\"object\")),\n",
    "                                                   ('cats', cat_ct, selector(dtype_include=\"object\"))],\n",
    "                                                    remainder='passthrough')\n",
    "\n",
    "x_poly = transformer_poly.fit_transform(x)\n",
    "\n",
    "params = [{'rfe__estimator__penalty': [None, 'l2'],\n",
    "           'rfe__estimator__C': [0.1, 1, 10, 100],\n",
    "           'rfe__n_features_to_select': range(5, 20)\n",
    "          }]\n",
    "\n",
    "clf_lr = LogisticRegression()\n",
    "rfe = RFE(estimator=clf_lr, verbose=99)\n",
    "\n",
    "lr_pipe_poly = Pipeline(steps=[('transformer', transformer_poly), ('rfe', rfe)])\n",
    "\n",
    "lr_gs_poly=GridSearchCV(estimator=lr_pipe_poly,\n",
    "                        param_grid=params,\n",
    "                        scoring='roc_auc',\n",
    "                        refit=True,\n",
    "                        cv=3,\n",
    "                        n_jobs=-1,\n",
    "                        verbose=10)\n",
    "\n",
    "lr_gs_poly.fit(x, y)"
   ],
   "metadata": {
    "collapsed": false,
    "pycharm": {
     "name": "#%%\n"
    }
   }
  },
  {
   "cell_type": "code",
   "execution_count": 39,
   "outputs": [
    {
     "data": {
      "text/plain": "     mean_fit_time  std_fit_time  mean_score_time  std_score_time  \\\n40        0.370274      0.008957         0.015000    8.161460e-04   \n70        0.436000      0.024537         0.015999    8.167296e-04   \n10        0.382666      0.031202         0.016333    1.247214e-03   \n100       0.368666      0.014840         0.015000    8.160481e-04   \n115       0.373664      0.013099         0.014333    4.700217e-04   \n85        0.493666      0.018873         0.014666    4.717082e-04   \n55        0.467001      0.022197         0.014999    8.158536e-04   \n26        0.332667      0.028121         0.015667    4.712590e-04   \n28        0.278666      0.009427         0.017334    1.248170e-03   \n56        0.432001      0.032538         0.014333    4.719330e-04   \n58        0.475334      0.023471         0.022667    4.109105e-03   \n57        0.481666      0.023442         0.016000    1.413268e-03   \n27        0.299664      0.012710         0.015668    4.714266e-04   \n116       0.386999      0.024834         0.014999    2.944895e-03   \n101       0.371332      0.015282         0.014999    2.973602e-07   \n11        0.372333      0.022395         0.014333    4.720447e-04   \n71        0.436668      0.050764         0.015668    9.420665e-04   \n41        0.382274      0.021297         0.019333    3.400378e-03   \n59        0.450332      0.029488         0.016333    1.247171e-03   \n29        0.246658      0.013821         0.015000    8.163403e-04   \n25        0.280672      0.016362         0.018333    2.635423e-03   \n117       0.353997      0.021969         0.014000    8.166332e-04   \n86        0.523330      0.024147         0.014001    8.169245e-04   \n72        0.370332      0.013121         0.015333    4.718769e-04   \n42        0.359537      0.011998         0.014999    1.474002e-06   \n102       0.384332      0.047975         0.020667    6.599578e-03   \n12        0.340001      0.011431         0.015000    1.083865e-06   \n88        0.447334      0.014521         0.015667    1.700173e-03   \n103       0.381999      0.033534         0.016333    1.247809e-03   \n13        0.329333      0.007317         0.016666    1.246577e-03   \n43        0.349333      0.012658         0.017334    1.246768e-03   \n73        0.398331      0.074235         0.022668    1.014381e-02   \n118       0.312663      0.006799         0.009334    1.887280e-03   \n\n    param_rfe__estimator__C param_rfe__estimator__penalty  \\\n40                        1                          None   \n70                       10                          None   \n10                      0.1                          None   \n100                     100                          None   \n115                     100                            l2   \n85                       10                            l2   \n55                        1                            l2   \n26                      0.1                            l2   \n28                      0.1                            l2   \n56                        1                            l2   \n58                        1                            l2   \n57                        1                            l2   \n27                      0.1                            l2   \n116                     100                            l2   \n101                     100                          None   \n11                      0.1                          None   \n71                       10                          None   \n41                        1                          None   \n59                        1                            l2   \n29                      0.1                            l2   \n25                      0.1                            l2   \n117                     100                            l2   \n86                       10                            l2   \n72                       10                          None   \n42                        1                          None   \n102                     100                          None   \n12                      0.1                          None   \n88                       10                            l2   \n103                     100                          None   \n13                      0.1                          None   \n43                        1                          None   \n73                       10                          None   \n118                     100                            l2   \n\n    param_rfe__n_features_to_select  \\\n40                               15   \n70                               15   \n10                               15   \n100                              15   \n115                              15   \n85                               15   \n55                               15   \n26                               16   \n28                               18   \n56                               16   \n58                               18   \n57                               17   \n27                               17   \n116                              16   \n101                              16   \n11                               16   \n71                               16   \n41                               16   \n59                               19   \n29                               19   \n25                               15   \n117                              17   \n86                               16   \n72                               17   \n42                               17   \n102                              17   \n12                               17   \n88                               18   \n103                              18   \n13                               18   \n43                               18   \n73                               18   \n118                              18   \n\n                                                params  split0_test_score  \\\n40   {'rfe__estimator__C': 1, 'rfe__estimator__pena...           0.837887   \n70   {'rfe__estimator__C': 10, 'rfe__estimator__pen...           0.837887   \n10   {'rfe__estimator__C': 0.1, 'rfe__estimator__pe...           0.837887   \n100  {'rfe__estimator__C': 100, 'rfe__estimator__pe...           0.837887   \n115  {'rfe__estimator__C': 100, 'rfe__estimator__pe...           0.837839   \n85   {'rfe__estimator__C': 10, 'rfe__estimator__pen...           0.836497   \n55   {'rfe__estimator__C': 1, 'rfe__estimator__pena...           0.836497   \n26   {'rfe__estimator__C': 0.1, 'rfe__estimator__pe...           0.828971   \n28   {'rfe__estimator__C': 0.1, 'rfe__estimator__pe...           0.828061   \n56   {'rfe__estimator__C': 1, 'rfe__estimator__pena...           0.836833   \n58   {'rfe__estimator__C': 1, 'rfe__estimator__pena...           0.837120   \n57   {'rfe__estimator__C': 1, 'rfe__estimator__pena...           0.835874   \n27   {'rfe__estimator__C': 0.1, 'rfe__estimator__pe...           0.828348   \n116  {'rfe__estimator__C': 100, 'rfe__estimator__pe...           0.836593   \n101  {'rfe__estimator__C': 100, 'rfe__estimator__pe...           0.836497   \n11   {'rfe__estimator__C': 0.1, 'rfe__estimator__pe...           0.836497   \n71   {'rfe__estimator__C': 10, 'rfe__estimator__pen...           0.836497   \n41   {'rfe__estimator__C': 1, 'rfe__estimator__pena...           0.836497   \n59   {'rfe__estimator__C': 1, 'rfe__estimator__pena...           0.839421   \n29   {'rfe__estimator__C': 0.1, 'rfe__estimator__pe...           0.827342   \n25   {'rfe__estimator__C': 0.1, 'rfe__estimator__pe...           0.827581   \n117  {'rfe__estimator__C': 100, 'rfe__estimator__pe...           0.834628   \n86   {'rfe__estimator__C': 10, 'rfe__estimator__pen...           0.834580   \n72   {'rfe__estimator__C': 10, 'rfe__estimator__pen...           0.834675   \n42   {'rfe__estimator__C': 1, 'rfe__estimator__pena...           0.834675   \n102  {'rfe__estimator__C': 100, 'rfe__estimator__pe...           0.834675   \n12   {'rfe__estimator__C': 0.1, 'rfe__estimator__pe...           0.834675   \n88   {'rfe__estimator__C': 10, 'rfe__estimator__pen...           0.835203   \n103  {'rfe__estimator__C': 100, 'rfe__estimator__pe...           0.834148   \n13   {'rfe__estimator__C': 0.1, 'rfe__estimator__pe...           0.834148   \n43   {'rfe__estimator__C': 1, 'rfe__estimator__pena...           0.834148   \n73   {'rfe__estimator__C': 10, 'rfe__estimator__pen...           0.834148   \n118  {'rfe__estimator__C': 100, 'rfe__estimator__pe...           0.834100   \n\n     split1_test_score  split2_test_score  mean_test_score  std_test_score  \\\n40            0.867223           0.853777         0.852962        0.011990   \n70            0.867223           0.853777         0.852962        0.011990   \n10            0.867223           0.853777         0.852962        0.011990   \n100           0.867223           0.853777         0.852962        0.011990   \n115           0.867175           0.853825         0.852946        0.011992   \n85            0.867079           0.853777         0.852451        0.012520   \n55            0.866791           0.853106         0.852131        0.012387   \n26            0.869476           0.854736         0.851061        0.016739   \n28            0.868757           0.855599         0.850805        0.016956   \n56            0.868757           0.846539         0.850709        0.013362   \n58            0.867127           0.846779         0.850342        0.012507   \n57            0.867031           0.847881         0.850262        0.012831   \n27            0.868757           0.853346         0.850150        0.016651   \n116           0.869428           0.843999         0.850006        0.014062   \n101           0.869524           0.843855         0.849958        0.014157   \n11            0.869524           0.843855         0.849958        0.014157   \n71            0.869524           0.843855         0.849958        0.014157   \n41            0.869524           0.843855         0.849958        0.014157   \n59            0.865257           0.844814         0.849831        0.011128   \n29            0.867558           0.853585         0.849495        0.016671   \n25            0.868757           0.851908         0.849415        0.016902   \n117           0.869140           0.843999         0.849255        0.014572   \n86            0.869332           0.843807         0.849239        0.014698   \n72            0.869044           0.843855         0.849192        0.014530   \n42            0.869044           0.843855         0.849192        0.014530   \n102           0.869044           0.843855         0.849192        0.014530   \n12            0.869044           0.843855         0.849192        0.014530   \n88            0.866695           0.842800         0.848233        0.013418   \n103           0.869619           0.840739         0.848169        0.015405   \n13            0.869619           0.840739         0.848169        0.015405   \n43            0.869619           0.840739         0.848169        0.015405   \n73            0.869619           0.840739         0.848169        0.015405   \n118           0.869571           0.840739         0.848137        0.015397   \n\n     rank_test_score  \n40                 1  \n70                 1  \n10                 1  \n100                1  \n115                5  \n85                 6  \n55                 7  \n26                 8  \n28                 9  \n56                10  \n58                11  \n57                12  \n27                13  \n116               14  \n101               15  \n11                15  \n71                15  \n41                15  \n59                19  \n29                20  \n25                21  \n117               22  \n86                23  \n72                24  \n42                24  \n102               24  \n12                24  \n88                28  \n103               29  \n13                29  \n43                29  \n73                29  \n118               33  ",
      "text/html": "<div>\n<style scoped>\n    .dataframe tbody tr th:only-of-type {\n        vertical-align: middle;\n    }\n\n    .dataframe tbody tr th {\n        vertical-align: top;\n    }\n\n    .dataframe thead th {\n        text-align: right;\n    }\n</style>\n<table border=\"1\" class=\"dataframe\">\n  <thead>\n    <tr style=\"text-align: right;\">\n      <th></th>\n      <th>mean_fit_time</th>\n      <th>std_fit_time</th>\n      <th>mean_score_time</th>\n      <th>std_score_time</th>\n      <th>param_rfe__estimator__C</th>\n      <th>param_rfe__estimator__penalty</th>\n      <th>param_rfe__n_features_to_select</th>\n      <th>params</th>\n      <th>split0_test_score</th>\n      <th>split1_test_score</th>\n      <th>split2_test_score</th>\n      <th>mean_test_score</th>\n      <th>std_test_score</th>\n      <th>rank_test_score</th>\n    </tr>\n  </thead>\n  <tbody>\n    <tr>\n      <th>40</th>\n      <td>0.370274</td>\n      <td>0.008957</td>\n      <td>0.015000</td>\n      <td>8.161460e-04</td>\n      <td>1</td>\n      <td>None</td>\n      <td>15</td>\n      <td>{'rfe__estimator__C': 1, 'rfe__estimator__pena...</td>\n      <td>0.837887</td>\n      <td>0.867223</td>\n      <td>0.853777</td>\n      <td>0.852962</td>\n      <td>0.011990</td>\n      <td>1</td>\n    </tr>\n    <tr>\n      <th>70</th>\n      <td>0.436000</td>\n      <td>0.024537</td>\n      <td>0.015999</td>\n      <td>8.167296e-04</td>\n      <td>10</td>\n      <td>None</td>\n      <td>15</td>\n      <td>{'rfe__estimator__C': 10, 'rfe__estimator__pen...</td>\n      <td>0.837887</td>\n      <td>0.867223</td>\n      <td>0.853777</td>\n      <td>0.852962</td>\n      <td>0.011990</td>\n      <td>1</td>\n    </tr>\n    <tr>\n      <th>10</th>\n      <td>0.382666</td>\n      <td>0.031202</td>\n      <td>0.016333</td>\n      <td>1.247214e-03</td>\n      <td>0.1</td>\n      <td>None</td>\n      <td>15</td>\n      <td>{'rfe__estimator__C': 0.1, 'rfe__estimator__pe...</td>\n      <td>0.837887</td>\n      <td>0.867223</td>\n      <td>0.853777</td>\n      <td>0.852962</td>\n      <td>0.011990</td>\n      <td>1</td>\n    </tr>\n    <tr>\n      <th>100</th>\n      <td>0.368666</td>\n      <td>0.014840</td>\n      <td>0.015000</td>\n      <td>8.160481e-04</td>\n      <td>100</td>\n      <td>None</td>\n      <td>15</td>\n      <td>{'rfe__estimator__C': 100, 'rfe__estimator__pe...</td>\n      <td>0.837887</td>\n      <td>0.867223</td>\n      <td>0.853777</td>\n      <td>0.852962</td>\n      <td>0.011990</td>\n      <td>1</td>\n    </tr>\n    <tr>\n      <th>115</th>\n      <td>0.373664</td>\n      <td>0.013099</td>\n      <td>0.014333</td>\n      <td>4.700217e-04</td>\n      <td>100</td>\n      <td>l2</td>\n      <td>15</td>\n      <td>{'rfe__estimator__C': 100, 'rfe__estimator__pe...</td>\n      <td>0.837839</td>\n      <td>0.867175</td>\n      <td>0.853825</td>\n      <td>0.852946</td>\n      <td>0.011992</td>\n      <td>5</td>\n    </tr>\n    <tr>\n      <th>85</th>\n      <td>0.493666</td>\n      <td>0.018873</td>\n      <td>0.014666</td>\n      <td>4.717082e-04</td>\n      <td>10</td>\n      <td>l2</td>\n      <td>15</td>\n      <td>{'rfe__estimator__C': 10, 'rfe__estimator__pen...</td>\n      <td>0.836497</td>\n      <td>0.867079</td>\n      <td>0.853777</td>\n      <td>0.852451</td>\n      <td>0.012520</td>\n      <td>6</td>\n    </tr>\n    <tr>\n      <th>55</th>\n      <td>0.467001</td>\n      <td>0.022197</td>\n      <td>0.014999</td>\n      <td>8.158536e-04</td>\n      <td>1</td>\n      <td>l2</td>\n      <td>15</td>\n      <td>{'rfe__estimator__C': 1, 'rfe__estimator__pena...</td>\n      <td>0.836497</td>\n      <td>0.866791</td>\n      <td>0.853106</td>\n      <td>0.852131</td>\n      <td>0.012387</td>\n      <td>7</td>\n    </tr>\n    <tr>\n      <th>26</th>\n      <td>0.332667</td>\n      <td>0.028121</td>\n      <td>0.015667</td>\n      <td>4.712590e-04</td>\n      <td>0.1</td>\n      <td>l2</td>\n      <td>16</td>\n      <td>{'rfe__estimator__C': 0.1, 'rfe__estimator__pe...</td>\n      <td>0.828971</td>\n      <td>0.869476</td>\n      <td>0.854736</td>\n      <td>0.851061</td>\n      <td>0.016739</td>\n      <td>8</td>\n    </tr>\n    <tr>\n      <th>28</th>\n      <td>0.278666</td>\n      <td>0.009427</td>\n      <td>0.017334</td>\n      <td>1.248170e-03</td>\n      <td>0.1</td>\n      <td>l2</td>\n      <td>18</td>\n      <td>{'rfe__estimator__C': 0.1, 'rfe__estimator__pe...</td>\n      <td>0.828061</td>\n      <td>0.868757</td>\n      <td>0.855599</td>\n      <td>0.850805</td>\n      <td>0.016956</td>\n      <td>9</td>\n    </tr>\n    <tr>\n      <th>56</th>\n      <td>0.432001</td>\n      <td>0.032538</td>\n      <td>0.014333</td>\n      <td>4.719330e-04</td>\n      <td>1</td>\n      <td>l2</td>\n      <td>16</td>\n      <td>{'rfe__estimator__C': 1, 'rfe__estimator__pena...</td>\n      <td>0.836833</td>\n      <td>0.868757</td>\n      <td>0.846539</td>\n      <td>0.850709</td>\n      <td>0.013362</td>\n      <td>10</td>\n    </tr>\n    <tr>\n      <th>58</th>\n      <td>0.475334</td>\n      <td>0.023471</td>\n      <td>0.022667</td>\n      <td>4.109105e-03</td>\n      <td>1</td>\n      <td>l2</td>\n      <td>18</td>\n      <td>{'rfe__estimator__C': 1, 'rfe__estimator__pena...</td>\n      <td>0.837120</td>\n      <td>0.867127</td>\n      <td>0.846779</td>\n      <td>0.850342</td>\n      <td>0.012507</td>\n      <td>11</td>\n    </tr>\n    <tr>\n      <th>57</th>\n      <td>0.481666</td>\n      <td>0.023442</td>\n      <td>0.016000</td>\n      <td>1.413268e-03</td>\n      <td>1</td>\n      <td>l2</td>\n      <td>17</td>\n      <td>{'rfe__estimator__C': 1, 'rfe__estimator__pena...</td>\n      <td>0.835874</td>\n      <td>0.867031</td>\n      <td>0.847881</td>\n      <td>0.850262</td>\n      <td>0.012831</td>\n      <td>12</td>\n    </tr>\n    <tr>\n      <th>27</th>\n      <td>0.299664</td>\n      <td>0.012710</td>\n      <td>0.015668</td>\n      <td>4.714266e-04</td>\n      <td>0.1</td>\n      <td>l2</td>\n      <td>17</td>\n      <td>{'rfe__estimator__C': 0.1, 'rfe__estimator__pe...</td>\n      <td>0.828348</td>\n      <td>0.868757</td>\n      <td>0.853346</td>\n      <td>0.850150</td>\n      <td>0.016651</td>\n      <td>13</td>\n    </tr>\n    <tr>\n      <th>116</th>\n      <td>0.386999</td>\n      <td>0.024834</td>\n      <td>0.014999</td>\n      <td>2.944895e-03</td>\n      <td>100</td>\n      <td>l2</td>\n      <td>16</td>\n      <td>{'rfe__estimator__C': 100, 'rfe__estimator__pe...</td>\n      <td>0.836593</td>\n      <td>0.869428</td>\n      <td>0.843999</td>\n      <td>0.850006</td>\n      <td>0.014062</td>\n      <td>14</td>\n    </tr>\n    <tr>\n      <th>101</th>\n      <td>0.371332</td>\n      <td>0.015282</td>\n      <td>0.014999</td>\n      <td>2.973602e-07</td>\n      <td>100</td>\n      <td>None</td>\n      <td>16</td>\n      <td>{'rfe__estimator__C': 100, 'rfe__estimator__pe...</td>\n      <td>0.836497</td>\n      <td>0.869524</td>\n      <td>0.843855</td>\n      <td>0.849958</td>\n      <td>0.014157</td>\n      <td>15</td>\n    </tr>\n    <tr>\n      <th>11</th>\n      <td>0.372333</td>\n      <td>0.022395</td>\n      <td>0.014333</td>\n      <td>4.720447e-04</td>\n      <td>0.1</td>\n      <td>None</td>\n      <td>16</td>\n      <td>{'rfe__estimator__C': 0.1, 'rfe__estimator__pe...</td>\n      <td>0.836497</td>\n      <td>0.869524</td>\n      <td>0.843855</td>\n      <td>0.849958</td>\n      <td>0.014157</td>\n      <td>15</td>\n    </tr>\n    <tr>\n      <th>71</th>\n      <td>0.436668</td>\n      <td>0.050764</td>\n      <td>0.015668</td>\n      <td>9.420665e-04</td>\n      <td>10</td>\n      <td>None</td>\n      <td>16</td>\n      <td>{'rfe__estimator__C': 10, 'rfe__estimator__pen...</td>\n      <td>0.836497</td>\n      <td>0.869524</td>\n      <td>0.843855</td>\n      <td>0.849958</td>\n      <td>0.014157</td>\n      <td>15</td>\n    </tr>\n    <tr>\n      <th>41</th>\n      <td>0.382274</td>\n      <td>0.021297</td>\n      <td>0.019333</td>\n      <td>3.400378e-03</td>\n      <td>1</td>\n      <td>None</td>\n      <td>16</td>\n      <td>{'rfe__estimator__C': 1, 'rfe__estimator__pena...</td>\n      <td>0.836497</td>\n      <td>0.869524</td>\n      <td>0.843855</td>\n      <td>0.849958</td>\n      <td>0.014157</td>\n      <td>15</td>\n    </tr>\n    <tr>\n      <th>59</th>\n      <td>0.450332</td>\n      <td>0.029488</td>\n      <td>0.016333</td>\n      <td>1.247171e-03</td>\n      <td>1</td>\n      <td>l2</td>\n      <td>19</td>\n      <td>{'rfe__estimator__C': 1, 'rfe__estimator__pena...</td>\n      <td>0.839421</td>\n      <td>0.865257</td>\n      <td>0.844814</td>\n      <td>0.849831</td>\n      <td>0.011128</td>\n      <td>19</td>\n    </tr>\n    <tr>\n      <th>29</th>\n      <td>0.246658</td>\n      <td>0.013821</td>\n      <td>0.015000</td>\n      <td>8.163403e-04</td>\n      <td>0.1</td>\n      <td>l2</td>\n      <td>19</td>\n      <td>{'rfe__estimator__C': 0.1, 'rfe__estimator__pe...</td>\n      <td>0.827342</td>\n      <td>0.867558</td>\n      <td>0.853585</td>\n      <td>0.849495</td>\n      <td>0.016671</td>\n      <td>20</td>\n    </tr>\n    <tr>\n      <th>25</th>\n      <td>0.280672</td>\n      <td>0.016362</td>\n      <td>0.018333</td>\n      <td>2.635423e-03</td>\n      <td>0.1</td>\n      <td>l2</td>\n      <td>15</td>\n      <td>{'rfe__estimator__C': 0.1, 'rfe__estimator__pe...</td>\n      <td>0.827581</td>\n      <td>0.868757</td>\n      <td>0.851908</td>\n      <td>0.849415</td>\n      <td>0.016902</td>\n      <td>21</td>\n    </tr>\n    <tr>\n      <th>117</th>\n      <td>0.353997</td>\n      <td>0.021969</td>\n      <td>0.014000</td>\n      <td>8.166332e-04</td>\n      <td>100</td>\n      <td>l2</td>\n      <td>17</td>\n      <td>{'rfe__estimator__C': 100, 'rfe__estimator__pe...</td>\n      <td>0.834628</td>\n      <td>0.869140</td>\n      <td>0.843999</td>\n      <td>0.849255</td>\n      <td>0.014572</td>\n      <td>22</td>\n    </tr>\n    <tr>\n      <th>86</th>\n      <td>0.523330</td>\n      <td>0.024147</td>\n      <td>0.014001</td>\n      <td>8.169245e-04</td>\n      <td>10</td>\n      <td>l2</td>\n      <td>16</td>\n      <td>{'rfe__estimator__C': 10, 'rfe__estimator__pen...</td>\n      <td>0.834580</td>\n      <td>0.869332</td>\n      <td>0.843807</td>\n      <td>0.849239</td>\n      <td>0.014698</td>\n      <td>23</td>\n    </tr>\n    <tr>\n      <th>72</th>\n      <td>0.370332</td>\n      <td>0.013121</td>\n      <td>0.015333</td>\n      <td>4.718769e-04</td>\n      <td>10</td>\n      <td>None</td>\n      <td>17</td>\n      <td>{'rfe__estimator__C': 10, 'rfe__estimator__pen...</td>\n      <td>0.834675</td>\n      <td>0.869044</td>\n      <td>0.843855</td>\n      <td>0.849192</td>\n      <td>0.014530</td>\n      <td>24</td>\n    </tr>\n    <tr>\n      <th>42</th>\n      <td>0.359537</td>\n      <td>0.011998</td>\n      <td>0.014999</td>\n      <td>1.474002e-06</td>\n      <td>1</td>\n      <td>None</td>\n      <td>17</td>\n      <td>{'rfe__estimator__C': 1, 'rfe__estimator__pena...</td>\n      <td>0.834675</td>\n      <td>0.869044</td>\n      <td>0.843855</td>\n      <td>0.849192</td>\n      <td>0.014530</td>\n      <td>24</td>\n    </tr>\n    <tr>\n      <th>102</th>\n      <td>0.384332</td>\n      <td>0.047975</td>\n      <td>0.020667</td>\n      <td>6.599578e-03</td>\n      <td>100</td>\n      <td>None</td>\n      <td>17</td>\n      <td>{'rfe__estimator__C': 100, 'rfe__estimator__pe...</td>\n      <td>0.834675</td>\n      <td>0.869044</td>\n      <td>0.843855</td>\n      <td>0.849192</td>\n      <td>0.014530</td>\n      <td>24</td>\n    </tr>\n    <tr>\n      <th>12</th>\n      <td>0.340001</td>\n      <td>0.011431</td>\n      <td>0.015000</td>\n      <td>1.083865e-06</td>\n      <td>0.1</td>\n      <td>None</td>\n      <td>17</td>\n      <td>{'rfe__estimator__C': 0.1, 'rfe__estimator__pe...</td>\n      <td>0.834675</td>\n      <td>0.869044</td>\n      <td>0.843855</td>\n      <td>0.849192</td>\n      <td>0.014530</td>\n      <td>24</td>\n    </tr>\n    <tr>\n      <th>88</th>\n      <td>0.447334</td>\n      <td>0.014521</td>\n      <td>0.015667</td>\n      <td>1.700173e-03</td>\n      <td>10</td>\n      <td>l2</td>\n      <td>18</td>\n      <td>{'rfe__estimator__C': 10, 'rfe__estimator__pen...</td>\n      <td>0.835203</td>\n      <td>0.866695</td>\n      <td>0.842800</td>\n      <td>0.848233</td>\n      <td>0.013418</td>\n      <td>28</td>\n    </tr>\n    <tr>\n      <th>103</th>\n      <td>0.381999</td>\n      <td>0.033534</td>\n      <td>0.016333</td>\n      <td>1.247809e-03</td>\n      <td>100</td>\n      <td>None</td>\n      <td>18</td>\n      <td>{'rfe__estimator__C': 100, 'rfe__estimator__pe...</td>\n      <td>0.834148</td>\n      <td>0.869619</td>\n      <td>0.840739</td>\n      <td>0.848169</td>\n      <td>0.015405</td>\n      <td>29</td>\n    </tr>\n    <tr>\n      <th>13</th>\n      <td>0.329333</td>\n      <td>0.007317</td>\n      <td>0.016666</td>\n      <td>1.246577e-03</td>\n      <td>0.1</td>\n      <td>None</td>\n      <td>18</td>\n      <td>{'rfe__estimator__C': 0.1, 'rfe__estimator__pe...</td>\n      <td>0.834148</td>\n      <td>0.869619</td>\n      <td>0.840739</td>\n      <td>0.848169</td>\n      <td>0.015405</td>\n      <td>29</td>\n    </tr>\n    <tr>\n      <th>43</th>\n      <td>0.349333</td>\n      <td>0.012658</td>\n      <td>0.017334</td>\n      <td>1.246768e-03</td>\n      <td>1</td>\n      <td>None</td>\n      <td>18</td>\n      <td>{'rfe__estimator__C': 1, 'rfe__estimator__pena...</td>\n      <td>0.834148</td>\n      <td>0.869619</td>\n      <td>0.840739</td>\n      <td>0.848169</td>\n      <td>0.015405</td>\n      <td>29</td>\n    </tr>\n    <tr>\n      <th>73</th>\n      <td>0.398331</td>\n      <td>0.074235</td>\n      <td>0.022668</td>\n      <td>1.014381e-02</td>\n      <td>10</td>\n      <td>None</td>\n      <td>18</td>\n      <td>{'rfe__estimator__C': 10, 'rfe__estimator__pen...</td>\n      <td>0.834148</td>\n      <td>0.869619</td>\n      <td>0.840739</td>\n      <td>0.848169</td>\n      <td>0.015405</td>\n      <td>29</td>\n    </tr>\n    <tr>\n      <th>118</th>\n      <td>0.312663</td>\n      <td>0.006799</td>\n      <td>0.009334</td>\n      <td>1.887280e-03</td>\n      <td>100</td>\n      <td>l2</td>\n      <td>18</td>\n      <td>{'rfe__estimator__C': 100, 'rfe__estimator__pe...</td>\n      <td>0.834100</td>\n      <td>0.869571</td>\n      <td>0.840739</td>\n      <td>0.848137</td>\n      <td>0.015397</td>\n      <td>33</td>\n    </tr>\n  </tbody>\n</table>\n</div>"
     },
     "execution_count": 39,
     "metadata": {},
     "output_type": "execute_result"
    }
   ],
   "source": [
    "pd.DataFrame(lr_gs_poly.cv_results_).sort_values('rank_test_score').head(33)"
   ],
   "metadata": {
    "collapsed": false,
    "pycharm": {
     "name": "#%%\n"
    }
   }
  },
  {
   "cell_type": "markdown",
   "source": [
    "НИЧЕГО НЕ ПОЛУЧИЛОСЬ"
   ],
   "metadata": {
    "collapsed": false,
    "pycharm": {
     "name": "#%% md\n"
    }
   }
  },
  {
   "cell_type": "markdown",
   "source": [
    "### Метод опорных векторов"
   ],
   "metadata": {
    "collapsed": false,
    "pycharm": {
     "name": "#%% md\n"
    }
   }
  },
  {
   "cell_type": "markdown",
   "source": [
    "#### SVC"
   ],
   "metadata": {
    "collapsed": false,
    "pycharm": {
     "name": "#%% md\n"
    }
   }
  },
  {
   "cell_type": "code",
   "execution_count": 40,
   "outputs": [
    {
     "name": "stdout",
     "output_type": "stream",
     "text": [
      "CPU times: total: 4.05 s\n",
      "Wall time: 13.4 s\n"
     ]
    },
    {
     "data": {
      "text/plain": "GridSearchCV(cv=3,\n             estimator=Pipeline(steps=[('transformer',\n                                        ColumnTransformer(remainder='passthrough',\n                                                          transformers=[('nums',\n                                                                         Pipeline(steps=[('imputer',\n                                                                                          IterativeImputer(random_state=123)),\n                                                                                         ('scaler',\n                                                                                          StandardScaler())]),\n                                                                         <sklearn.compose._column_transformer.make_column_selector object at 0x000001D832905DC0>),\n                                                                        ('cats',\n                                                                         Pipeline(steps=[('imputer',\n                                                                                          SimpleImputer...\n                                                                                          OneHotEncoder(drop='first'))]),\n                                                                         <sklearn.compose._column_transformer.make_column_selector object at 0x000001D8329050A0>)])),\n                                       ('estimator', SVC(random_state=123))]),\n             n_jobs=-1,\n             param_grid={'estimator__C': range(1, 20),\n                         'estimator__gamma': [0.0, 0.0001, 0.0002, 0.0003,\n                                              0.0004, 0.0005, 0.0006, 0.0007,\n                                              0.0008, 0.0009],\n                         'transformer__nums__scaler': [StandardScaler(),\n                                                       MinMaxScaler()]},\n             scoring='roc_auc')",
      "text/html": "<style>#sk-container-id-5 {color: black;background-color: white;}#sk-container-id-5 pre{padding: 0;}#sk-container-id-5 div.sk-toggleable {background-color: white;}#sk-container-id-5 label.sk-toggleable__label {cursor: pointer;display: block;width: 100%;margin-bottom: 0;padding: 0.3em;box-sizing: border-box;text-align: center;}#sk-container-id-5 label.sk-toggleable__label-arrow:before {content: \"▸\";float: left;margin-right: 0.25em;color: #696969;}#sk-container-id-5 label.sk-toggleable__label-arrow:hover:before {color: black;}#sk-container-id-5 div.sk-estimator:hover label.sk-toggleable__label-arrow:before {color: black;}#sk-container-id-5 div.sk-toggleable__content {max-height: 0;max-width: 0;overflow: hidden;text-align: left;background-color: #f0f8ff;}#sk-container-id-5 div.sk-toggleable__content pre {margin: 0.2em;color: black;border-radius: 0.25em;background-color: #f0f8ff;}#sk-container-id-5 input.sk-toggleable__control:checked~div.sk-toggleable__content {max-height: 200px;max-width: 100%;overflow: auto;}#sk-container-id-5 input.sk-toggleable__control:checked~label.sk-toggleable__label-arrow:before {content: \"▾\";}#sk-container-id-5 div.sk-estimator input.sk-toggleable__control:checked~label.sk-toggleable__label {background-color: #d4ebff;}#sk-container-id-5 div.sk-label input.sk-toggleable__control:checked~label.sk-toggleable__label {background-color: #d4ebff;}#sk-container-id-5 input.sk-hidden--visually {border: 0;clip: rect(1px 1px 1px 1px);clip: rect(1px, 1px, 1px, 1px);height: 1px;margin: -1px;overflow: hidden;padding: 0;position: absolute;width: 1px;}#sk-container-id-5 div.sk-estimator {font-family: monospace;background-color: #f0f8ff;border: 1px dotted black;border-radius: 0.25em;box-sizing: border-box;margin-bottom: 0.5em;}#sk-container-id-5 div.sk-estimator:hover {background-color: #d4ebff;}#sk-container-id-5 div.sk-parallel-item::after {content: \"\";width: 100%;border-bottom: 1px solid gray;flex-grow: 1;}#sk-container-id-5 div.sk-label:hover label.sk-toggleable__label {background-color: #d4ebff;}#sk-container-id-5 div.sk-serial::before {content: \"\";position: absolute;border-left: 1px solid gray;box-sizing: border-box;top: 0;bottom: 0;left: 50%;z-index: 0;}#sk-container-id-5 div.sk-serial {display: flex;flex-direction: column;align-items: center;background-color: white;padding-right: 0.2em;padding-left: 0.2em;position: relative;}#sk-container-id-5 div.sk-item {position: relative;z-index: 1;}#sk-container-id-5 div.sk-parallel {display: flex;align-items: stretch;justify-content: center;background-color: white;position: relative;}#sk-container-id-5 div.sk-item::before, #sk-container-id-5 div.sk-parallel-item::before {content: \"\";position: absolute;border-left: 1px solid gray;box-sizing: border-box;top: 0;bottom: 0;left: 50%;z-index: -1;}#sk-container-id-5 div.sk-parallel-item {display: flex;flex-direction: column;z-index: 1;position: relative;background-color: white;}#sk-container-id-5 div.sk-parallel-item:first-child::after {align-self: flex-end;width: 50%;}#sk-container-id-5 div.sk-parallel-item:last-child::after {align-self: flex-start;width: 50%;}#sk-container-id-5 div.sk-parallel-item:only-child::after {width: 0;}#sk-container-id-5 div.sk-dashed-wrapped {border: 1px dashed gray;margin: 0 0.4em 0.5em 0.4em;box-sizing: border-box;padding-bottom: 0.4em;background-color: white;}#sk-container-id-5 div.sk-label label {font-family: monospace;font-weight: bold;display: inline-block;line-height: 1.2em;}#sk-container-id-5 div.sk-label-container {text-align: center;}#sk-container-id-5 div.sk-container {/* jupyter's `normalize.less` sets `[hidden] { display: none; }` but bootstrap.min.css set `[hidden] { display: none !important; }` so we also need the `!important` here to be able to override the default hidden behavior on the sphinx rendered scikit-learn.org. See: https://github.com/scikit-learn/scikit-learn/issues/21755 */display: inline-block !important;position: relative;}#sk-container-id-5 div.sk-text-repr-fallback {display: none;}</style><div id=\"sk-container-id-5\" class=\"sk-top-container\"><div class=\"sk-text-repr-fallback\"><pre>GridSearchCV(cv=3,\n             estimator=Pipeline(steps=[(&#x27;transformer&#x27;,\n                                        ColumnTransformer(remainder=&#x27;passthrough&#x27;,\n                                                          transformers=[(&#x27;nums&#x27;,\n                                                                         Pipeline(steps=[(&#x27;imputer&#x27;,\n                                                                                          IterativeImputer(random_state=123)),\n                                                                                         (&#x27;scaler&#x27;,\n                                                                                          StandardScaler())]),\n                                                                         &lt;sklearn.compose._column_transformer.make_column_selector object at 0x000001D832905DC0&gt;),\n                                                                        (&#x27;cats&#x27;,\n                                                                         Pipeline(steps=[(&#x27;imputer&#x27;,\n                                                                                          SimpleImputer...\n                                                                                          OneHotEncoder(drop=&#x27;first&#x27;))]),\n                                                                         &lt;sklearn.compose._column_transformer.make_column_selector object at 0x000001D8329050A0&gt;)])),\n                                       (&#x27;estimator&#x27;, SVC(random_state=123))]),\n             n_jobs=-1,\n             param_grid={&#x27;estimator__C&#x27;: range(1, 20),\n                         &#x27;estimator__gamma&#x27;: [0.0, 0.0001, 0.0002, 0.0003,\n                                              0.0004, 0.0005, 0.0006, 0.0007,\n                                              0.0008, 0.0009],\n                         &#x27;transformer__nums__scaler&#x27;: [StandardScaler(),\n                                                       MinMaxScaler()]},\n             scoring=&#x27;roc_auc&#x27;)</pre><b>In a Jupyter environment, please rerun this cell to show the HTML representation or trust the notebook. <br />On GitHub, the HTML representation is unable to render, please try loading this page with nbviewer.org.</b></div><div class=\"sk-container\" hidden><div class=\"sk-item sk-dashed-wrapped\"><div class=\"sk-label-container\"><div class=\"sk-label sk-toggleable\"><input class=\"sk-toggleable__control sk-hidden--visually\" id=\"sk-estimator-id-41\" type=\"checkbox\" ><label for=\"sk-estimator-id-41\" class=\"sk-toggleable__label sk-toggleable__label-arrow\">GridSearchCV</label><div class=\"sk-toggleable__content\"><pre>GridSearchCV(cv=3,\n             estimator=Pipeline(steps=[(&#x27;transformer&#x27;,\n                                        ColumnTransformer(remainder=&#x27;passthrough&#x27;,\n                                                          transformers=[(&#x27;nums&#x27;,\n                                                                         Pipeline(steps=[(&#x27;imputer&#x27;,\n                                                                                          IterativeImputer(random_state=123)),\n                                                                                         (&#x27;scaler&#x27;,\n                                                                                          StandardScaler())]),\n                                                                         &lt;sklearn.compose._column_transformer.make_column_selector object at 0x000001D832905DC0&gt;),\n                                                                        (&#x27;cats&#x27;,\n                                                                         Pipeline(steps=[(&#x27;imputer&#x27;,\n                                                                                          SimpleImputer...\n                                                                                          OneHotEncoder(drop=&#x27;first&#x27;))]),\n                                                                         &lt;sklearn.compose._column_transformer.make_column_selector object at 0x000001D8329050A0&gt;)])),\n                                       (&#x27;estimator&#x27;, SVC(random_state=123))]),\n             n_jobs=-1,\n             param_grid={&#x27;estimator__C&#x27;: range(1, 20),\n                         &#x27;estimator__gamma&#x27;: [0.0, 0.0001, 0.0002, 0.0003,\n                                              0.0004, 0.0005, 0.0006, 0.0007,\n                                              0.0008, 0.0009],\n                         &#x27;transformer__nums__scaler&#x27;: [StandardScaler(),\n                                                       MinMaxScaler()]},\n             scoring=&#x27;roc_auc&#x27;)</pre></div></div></div><div class=\"sk-parallel\"><div class=\"sk-parallel-item\"><div class=\"sk-item\"><div class=\"sk-label-container\"><div class=\"sk-label sk-toggleable\"><input class=\"sk-toggleable__control sk-hidden--visually\" id=\"sk-estimator-id-42\" type=\"checkbox\" ><label for=\"sk-estimator-id-42\" class=\"sk-toggleable__label sk-toggleable__label-arrow\">estimator: Pipeline</label><div class=\"sk-toggleable__content\"><pre>Pipeline(steps=[(&#x27;transformer&#x27;,\n                 ColumnTransformer(remainder=&#x27;passthrough&#x27;,\n                                   transformers=[(&#x27;nums&#x27;,\n                                                  Pipeline(steps=[(&#x27;imputer&#x27;,\n                                                                   IterativeImputer(random_state=123)),\n                                                                  (&#x27;scaler&#x27;,\n                                                                   StandardScaler())]),\n                                                  &lt;sklearn.compose._column_transformer.make_column_selector object at 0x000001D832905DC0&gt;),\n                                                 (&#x27;cats&#x27;,\n                                                  Pipeline(steps=[(&#x27;imputer&#x27;,\n                                                                   SimpleImputer(strategy=&#x27;most_frequent&#x27;)),\n                                                                  (&#x27;ohe&#x27;,\n                                                                   OneHotEncoder(drop=&#x27;first&#x27;))]),\n                                                  &lt;sklearn.compose._column_transformer.make_column_selector object at 0x000001D8329050A0&gt;)])),\n                (&#x27;estimator&#x27;, SVC(random_state=123))])</pre></div></div></div><div class=\"sk-serial\"><div class=\"sk-item\"><div class=\"sk-serial\"><div class=\"sk-item sk-dashed-wrapped\"><div class=\"sk-label-container\"><div class=\"sk-label sk-toggleable\"><input class=\"sk-toggleable__control sk-hidden--visually\" id=\"sk-estimator-id-43\" type=\"checkbox\" ><label for=\"sk-estimator-id-43\" class=\"sk-toggleable__label sk-toggleable__label-arrow\">transformer: ColumnTransformer</label><div class=\"sk-toggleable__content\"><pre>ColumnTransformer(remainder=&#x27;passthrough&#x27;,\n                  transformers=[(&#x27;nums&#x27;,\n                                 Pipeline(steps=[(&#x27;imputer&#x27;,\n                                                  IterativeImputer(random_state=123)),\n                                                 (&#x27;scaler&#x27;, StandardScaler())]),\n                                 &lt;sklearn.compose._column_transformer.make_column_selector object at 0x000001D832905DC0&gt;),\n                                (&#x27;cats&#x27;,\n                                 Pipeline(steps=[(&#x27;imputer&#x27;,\n                                                  SimpleImputer(strategy=&#x27;most_frequent&#x27;)),\n                                                 (&#x27;ohe&#x27;,\n                                                  OneHotEncoder(drop=&#x27;first&#x27;))]),\n                                 &lt;sklearn.compose._column_transformer.make_column_selector object at 0x000001D8329050A0&gt;)])</pre></div></div></div><div class=\"sk-parallel\"><div class=\"sk-parallel-item\"><div class=\"sk-item\"><div class=\"sk-label-container\"><div class=\"sk-label sk-toggleable\"><input class=\"sk-toggleable__control sk-hidden--visually\" id=\"sk-estimator-id-44\" type=\"checkbox\" ><label for=\"sk-estimator-id-44\" class=\"sk-toggleable__label sk-toggleable__label-arrow\">nums</label><div class=\"sk-toggleable__content\"><pre>&lt;sklearn.compose._column_transformer.make_column_selector object at 0x000001D832905DC0&gt;</pre></div></div></div><div class=\"sk-serial\"><div class=\"sk-item\"><div class=\"sk-serial\"><div class=\"sk-item\"><div class=\"sk-estimator sk-toggleable\"><input class=\"sk-toggleable__control sk-hidden--visually\" id=\"sk-estimator-id-45\" type=\"checkbox\" ><label for=\"sk-estimator-id-45\" class=\"sk-toggleable__label sk-toggleable__label-arrow\">IterativeImputer</label><div class=\"sk-toggleable__content\"><pre>IterativeImputer(random_state=123)</pre></div></div></div><div class=\"sk-item\"><div class=\"sk-estimator sk-toggleable\"><input class=\"sk-toggleable__control sk-hidden--visually\" id=\"sk-estimator-id-46\" type=\"checkbox\" ><label for=\"sk-estimator-id-46\" class=\"sk-toggleable__label sk-toggleable__label-arrow\">StandardScaler</label><div class=\"sk-toggleable__content\"><pre>StandardScaler()</pre></div></div></div></div></div></div></div></div><div class=\"sk-parallel-item\"><div class=\"sk-item\"><div class=\"sk-label-container\"><div class=\"sk-label sk-toggleable\"><input class=\"sk-toggleable__control sk-hidden--visually\" id=\"sk-estimator-id-47\" type=\"checkbox\" ><label for=\"sk-estimator-id-47\" class=\"sk-toggleable__label sk-toggleable__label-arrow\">cats</label><div class=\"sk-toggleable__content\"><pre>&lt;sklearn.compose._column_transformer.make_column_selector object at 0x000001D8329050A0&gt;</pre></div></div></div><div class=\"sk-serial\"><div class=\"sk-item\"><div class=\"sk-serial\"><div class=\"sk-item\"><div class=\"sk-estimator sk-toggleable\"><input class=\"sk-toggleable__control sk-hidden--visually\" id=\"sk-estimator-id-48\" type=\"checkbox\" ><label for=\"sk-estimator-id-48\" class=\"sk-toggleable__label sk-toggleable__label-arrow\">SimpleImputer</label><div class=\"sk-toggleable__content\"><pre>SimpleImputer(strategy=&#x27;most_frequent&#x27;)</pre></div></div></div><div class=\"sk-item\"><div class=\"sk-estimator sk-toggleable\"><input class=\"sk-toggleable__control sk-hidden--visually\" id=\"sk-estimator-id-49\" type=\"checkbox\" ><label for=\"sk-estimator-id-49\" class=\"sk-toggleable__label sk-toggleable__label-arrow\">OneHotEncoder</label><div class=\"sk-toggleable__content\"><pre>OneHotEncoder(drop=&#x27;first&#x27;)</pre></div></div></div></div></div></div></div></div><div class=\"sk-parallel-item\"><div class=\"sk-item\"><div class=\"sk-label-container\"><div class=\"sk-label sk-toggleable\"><input class=\"sk-toggleable__control sk-hidden--visually\" id=\"sk-estimator-id-50\" type=\"checkbox\" ><label for=\"sk-estimator-id-50\" class=\"sk-toggleable__label sk-toggleable__label-arrow\">remainder</label><div class=\"sk-toggleable__content\"><pre></pre></div></div></div><div class=\"sk-serial\"><div class=\"sk-item\"><div class=\"sk-estimator sk-toggleable\"><input class=\"sk-toggleable__control sk-hidden--visually\" id=\"sk-estimator-id-51\" type=\"checkbox\" ><label for=\"sk-estimator-id-51\" class=\"sk-toggleable__label sk-toggleable__label-arrow\">passthrough</label><div class=\"sk-toggleable__content\"><pre>passthrough</pre></div></div></div></div></div></div></div></div><div class=\"sk-item\"><div class=\"sk-estimator sk-toggleable\"><input class=\"sk-toggleable__control sk-hidden--visually\" id=\"sk-estimator-id-52\" type=\"checkbox\" ><label for=\"sk-estimator-id-52\" class=\"sk-toggleable__label sk-toggleable__label-arrow\">SVC</label><div class=\"sk-toggleable__content\"><pre>SVC(random_state=123)</pre></div></div></div></div></div></div></div></div></div></div></div></div>"
     },
     "execution_count": 40,
     "metadata": {},
     "output_type": "execute_result"
    }
   ],
   "source": [
    "%%time\n",
    "num_ct = Pipeline(steps=[('imputer', IterativeImputer(random_state=123)),\n",
    "                         ('scaler', StandardScaler())])\n",
    "\n",
    "cat_ct = Pipeline(steps=[('imputer', SimpleImputer(strategy='most_frequent')),\n",
    "                         ('ohe', OneHotEncoder(drop='first'))])\n",
    "\n",
    "transformer = ColumnTransformer(transformers=[('nums', num_ct, selector(dtype_exclude=\"object\")),\n",
    "                                              ('cats', cat_ct, selector(dtype_include=\"object\"))],\n",
    "                                                    remainder='passthrough')\n",
    "\n",
    "\n",
    "svm_pipe = Pipeline(steps=[('transformer', transformer), ('estimator', SVC(random_state=123))])\n",
    "\n",
    "params = {'transformer__nums__scaler': [StandardScaler(), MinMaxScaler()],\n",
    "          'estimator__C': range(1, 20),\n",
    "          'estimator__gamma': [i/10000 for i in range(10)]}\n",
    "\n",
    "gs_svm = GridSearchCV(svm_pipe, param_grid=params, scoring='roc_auc', cv=3, n_jobs=-1)\n",
    "\n",
    "gs_svm.fit(x, y)\n",
    "# {'estimator__C': 9, 'estimator__gamma': 0.009\n"
   ],
   "metadata": {
    "collapsed": false,
    "pycharm": {
     "name": "#%%\n"
    }
   }
  },
  {
   "cell_type": "code",
   "execution_count": 41,
   "outputs": [
    {
     "data": {
      "text/plain": "     mean_fit_time  std_fit_time  mean_score_time  std_score_time  \\\n156       0.086332      0.018120         0.037001        0.000817   \n174       0.079341      0.006939         0.035326        0.002059   \n138       0.070331      0.001700         0.037001        0.003559   \n212       0.073332      0.006235         0.036668        0.002055   \n308       0.069666      0.004109         0.037333        0.004189   \n..             ...           ...              ...             ...   \n61        0.070001      0.001633         0.041999        0.002450   \n60        0.086667      0.007547         0.047666        0.004494   \n340       0.102331      0.025630         0.065003        0.025703   \n41        0.071999      0.004901         0.049335        0.004786   \n0         0.075668      0.004027         0.040998        0.000815   \n\n    param_estimator__C param_estimator__gamma param_transformer__nums__scaler  \\\n156                  8                 0.0008                StandardScaler()   \n174                  9                 0.0007                StandardScaler()   \n138                  7                 0.0009                StandardScaler()   \n212                 11                 0.0006                StandardScaler()   \n308                 16                 0.0004                StandardScaler()   \n..                 ...                    ...                             ...   \n61                   4                    0.0                  MinMaxScaler()   \n60                   4                    0.0                StandardScaler()   \n340                 18                    0.0                StandardScaler()   \n41                   3                    0.0                  MinMaxScaler()   \n0                    1                    0.0                StandardScaler()   \n\n                                                params  split0_test_score  \\\n156  {'estimator__C': 8, 'estimator__gamma': 0.0008...           0.844694   \n174  {'estimator__C': 9, 'estimator__gamma': 0.0007...           0.844933   \n138  {'estimator__C': 7, 'estimator__gamma': 0.0009...           0.845125   \n212  {'estimator__C': 11, 'estimator__gamma': 0.000...           0.844502   \n308  {'estimator__C': 16, 'estimator__gamma': 0.000...           0.843831   \n..                                                 ...                ...   \n61   {'estimator__C': 4, 'estimator__gamma': 0.0, '...           0.500000   \n60   {'estimator__C': 4, 'estimator__gamma': 0.0, '...           0.500000   \n340  {'estimator__C': 18, 'estimator__gamma': 0.0, ...           0.500000   \n41   {'estimator__C': 3, 'estimator__gamma': 0.0, '...           0.500000   \n0    {'estimator__C': 1, 'estimator__gamma': 0.0, '...           0.500000   \n\n     split1_test_score  split2_test_score  mean_test_score  std_test_score  \\\n156           0.863915           0.844909         0.851173        0.009011   \n174           0.863676           0.844286         0.850965        0.008992   \n138           0.864011           0.843759         0.850965        0.009242   \n212           0.863148           0.844574         0.850741        0.008773   \n308           0.862909           0.845437         0.850725        0.008640   \n..                 ...                ...              ...             ...   \n61            0.500000           0.500000         0.500000        0.000000   \n60            0.500000           0.500000         0.500000        0.000000   \n340           0.500000           0.500000         0.500000        0.000000   \n41            0.500000           0.500000         0.500000        0.000000   \n0             0.500000           0.500000         0.500000        0.000000   \n\n     rank_test_score  \n156                1  \n174                2  \n138                2  \n212                4  \n308                5  \n..               ...  \n61               343  \n60               343  \n340              343  \n41               343  \n0                343  \n\n[380 rows x 14 columns]",
      "text/html": "<div>\n<style scoped>\n    .dataframe tbody tr th:only-of-type {\n        vertical-align: middle;\n    }\n\n    .dataframe tbody tr th {\n        vertical-align: top;\n    }\n\n    .dataframe thead th {\n        text-align: right;\n    }\n</style>\n<table border=\"1\" class=\"dataframe\">\n  <thead>\n    <tr style=\"text-align: right;\">\n      <th></th>\n      <th>mean_fit_time</th>\n      <th>std_fit_time</th>\n      <th>mean_score_time</th>\n      <th>std_score_time</th>\n      <th>param_estimator__C</th>\n      <th>param_estimator__gamma</th>\n      <th>param_transformer__nums__scaler</th>\n      <th>params</th>\n      <th>split0_test_score</th>\n      <th>split1_test_score</th>\n      <th>split2_test_score</th>\n      <th>mean_test_score</th>\n      <th>std_test_score</th>\n      <th>rank_test_score</th>\n    </tr>\n  </thead>\n  <tbody>\n    <tr>\n      <th>156</th>\n      <td>0.086332</td>\n      <td>0.018120</td>\n      <td>0.037001</td>\n      <td>0.000817</td>\n      <td>8</td>\n      <td>0.0008</td>\n      <td>StandardScaler()</td>\n      <td>{'estimator__C': 8, 'estimator__gamma': 0.0008...</td>\n      <td>0.844694</td>\n      <td>0.863915</td>\n      <td>0.844909</td>\n      <td>0.851173</td>\n      <td>0.009011</td>\n      <td>1</td>\n    </tr>\n    <tr>\n      <th>174</th>\n      <td>0.079341</td>\n      <td>0.006939</td>\n      <td>0.035326</td>\n      <td>0.002059</td>\n      <td>9</td>\n      <td>0.0007</td>\n      <td>StandardScaler()</td>\n      <td>{'estimator__C': 9, 'estimator__gamma': 0.0007...</td>\n      <td>0.844933</td>\n      <td>0.863676</td>\n      <td>0.844286</td>\n      <td>0.850965</td>\n      <td>0.008992</td>\n      <td>2</td>\n    </tr>\n    <tr>\n      <th>138</th>\n      <td>0.070331</td>\n      <td>0.001700</td>\n      <td>0.037001</td>\n      <td>0.003559</td>\n      <td>7</td>\n      <td>0.0009</td>\n      <td>StandardScaler()</td>\n      <td>{'estimator__C': 7, 'estimator__gamma': 0.0009...</td>\n      <td>0.845125</td>\n      <td>0.864011</td>\n      <td>0.843759</td>\n      <td>0.850965</td>\n      <td>0.009242</td>\n      <td>2</td>\n    </tr>\n    <tr>\n      <th>212</th>\n      <td>0.073332</td>\n      <td>0.006235</td>\n      <td>0.036668</td>\n      <td>0.002055</td>\n      <td>11</td>\n      <td>0.0006</td>\n      <td>StandardScaler()</td>\n      <td>{'estimator__C': 11, 'estimator__gamma': 0.000...</td>\n      <td>0.844502</td>\n      <td>0.863148</td>\n      <td>0.844574</td>\n      <td>0.850741</td>\n      <td>0.008773</td>\n      <td>4</td>\n    </tr>\n    <tr>\n      <th>308</th>\n      <td>0.069666</td>\n      <td>0.004109</td>\n      <td>0.037333</td>\n      <td>0.004189</td>\n      <td>16</td>\n      <td>0.0004</td>\n      <td>StandardScaler()</td>\n      <td>{'estimator__C': 16, 'estimator__gamma': 0.000...</td>\n      <td>0.843831</td>\n      <td>0.862909</td>\n      <td>0.845437</td>\n      <td>0.850725</td>\n      <td>0.008640</td>\n      <td>5</td>\n    </tr>\n    <tr>\n      <th>...</th>\n      <td>...</td>\n      <td>...</td>\n      <td>...</td>\n      <td>...</td>\n      <td>...</td>\n      <td>...</td>\n      <td>...</td>\n      <td>...</td>\n      <td>...</td>\n      <td>...</td>\n      <td>...</td>\n      <td>...</td>\n      <td>...</td>\n      <td>...</td>\n    </tr>\n    <tr>\n      <th>61</th>\n      <td>0.070001</td>\n      <td>0.001633</td>\n      <td>0.041999</td>\n      <td>0.002450</td>\n      <td>4</td>\n      <td>0.0</td>\n      <td>MinMaxScaler()</td>\n      <td>{'estimator__C': 4, 'estimator__gamma': 0.0, '...</td>\n      <td>0.500000</td>\n      <td>0.500000</td>\n      <td>0.500000</td>\n      <td>0.500000</td>\n      <td>0.000000</td>\n      <td>343</td>\n    </tr>\n    <tr>\n      <th>60</th>\n      <td>0.086667</td>\n      <td>0.007547</td>\n      <td>0.047666</td>\n      <td>0.004494</td>\n      <td>4</td>\n      <td>0.0</td>\n      <td>StandardScaler()</td>\n      <td>{'estimator__C': 4, 'estimator__gamma': 0.0, '...</td>\n      <td>0.500000</td>\n      <td>0.500000</td>\n      <td>0.500000</td>\n      <td>0.500000</td>\n      <td>0.000000</td>\n      <td>343</td>\n    </tr>\n    <tr>\n      <th>340</th>\n      <td>0.102331</td>\n      <td>0.025630</td>\n      <td>0.065003</td>\n      <td>0.025703</td>\n      <td>18</td>\n      <td>0.0</td>\n      <td>StandardScaler()</td>\n      <td>{'estimator__C': 18, 'estimator__gamma': 0.0, ...</td>\n      <td>0.500000</td>\n      <td>0.500000</td>\n      <td>0.500000</td>\n      <td>0.500000</td>\n      <td>0.000000</td>\n      <td>343</td>\n    </tr>\n    <tr>\n      <th>41</th>\n      <td>0.071999</td>\n      <td>0.004901</td>\n      <td>0.049335</td>\n      <td>0.004786</td>\n      <td>3</td>\n      <td>0.0</td>\n      <td>MinMaxScaler()</td>\n      <td>{'estimator__C': 3, 'estimator__gamma': 0.0, '...</td>\n      <td>0.500000</td>\n      <td>0.500000</td>\n      <td>0.500000</td>\n      <td>0.500000</td>\n      <td>0.000000</td>\n      <td>343</td>\n    </tr>\n    <tr>\n      <th>0</th>\n      <td>0.075668</td>\n      <td>0.004027</td>\n      <td>0.040998</td>\n      <td>0.000815</td>\n      <td>1</td>\n      <td>0.0</td>\n      <td>StandardScaler()</td>\n      <td>{'estimator__C': 1, 'estimator__gamma': 0.0, '...</td>\n      <td>0.500000</td>\n      <td>0.500000</td>\n      <td>0.500000</td>\n      <td>0.500000</td>\n      <td>0.000000</td>\n      <td>343</td>\n    </tr>\n  </tbody>\n</table>\n<p>380 rows × 14 columns</p>\n</div>"
     },
     "metadata": {},
     "output_type": "display_data"
    },
    {
     "name": "stdout",
     "output_type": "stream",
     "text": [
      "параметры: {'estimator__C': 8, 'estimator__gamma': 0.0008, 'transformer__nums__scaler': StandardScaler()} \n",
      "roc-auc: 0.8512\n"
     ]
    }
   ],
   "source": [
    "display(pd.DataFrame(gs_svm.cv_results_).sort_values('rank_test_score'))\n",
    "print(f'параметры: {pd.DataFrame(gs_svm.cv_results_).sort_values(\"rank_test_score\").head(1)[\"params\"].values[0]}',\n",
    "      f'\\nroc-auc: {pd.DataFrame(gs_svm.cv_results_).sort_values(\"rank_test_score\").head(1)[\"mean_test_score\"].values[0]:.4f}')"
   ],
   "metadata": {
    "collapsed": false,
    "pycharm": {
     "name": "#%%\n"
    }
   }
  },
  {
   "cell_type": "markdown",
   "source": [
    "#### LinearSVC"
   ],
   "metadata": {
    "collapsed": false,
    "pycharm": {
     "name": "#%% md\n"
    }
   }
  },
  {
   "cell_type": "code",
   "execution_count": 42,
   "outputs": [
    {
     "name": "stdout",
     "output_type": "stream",
     "text": [
      "CPU times: total: 2.17 s\n",
      "Wall time: 6.26 s\n"
     ]
    },
    {
     "name": "stderr",
     "output_type": "stream",
     "text": [
      "C:\\work_and_fun\\partisans\\PP\\mistakes-and-regrets\\lib\\site-packages\\sklearn\\svm\\_base.py:1244: ConvergenceWarning: Liblinear failed to converge, increase the number of iterations.\n",
      "  warnings.warn(\n"
     ]
    }
   ],
   "source": [
    "%%time\n",
    "num_ct = Pipeline(steps=[('imputer', IterativeImputer(random_state=123)),\n",
    "                         ('scaler', StandardScaler())])\n",
    "\n",
    "cat_ct = Pipeline(steps=[('imputer', SimpleImputer(strategy='most_frequent')),\n",
    "                         ('ohe', OneHotEncoder(drop='first'))])\n",
    "\n",
    "transformer = ColumnTransformer(transformers=[('nums', num_ct, selector(dtype_exclude=\"object\")),\n",
    "                                              ('cats', cat_ct, selector(dtype_include=\"object\"))],\n",
    "                                                    remainder='passthrough')\n",
    "\n",
    "\n",
    "svm_pipe = Pipeline(steps=[('transformer', transformer), ('estimator', LinearSVC(random_state=123))])\n",
    "\n",
    "params = {'transformer__nums__scaler': [StandardScaler(), MinMaxScaler()],\n",
    "          'estimator__C': [2*i/100 for i in range(1, 100)]}\n",
    "\n",
    "gs_lsvm = GridSearchCV(svm_pipe, param_grid=params, scoring='roc_auc', cv=3, n_jobs=-1)\n",
    "\n",
    "gs_lsvm.fit(x, y);"
   ],
   "metadata": {
    "collapsed": false,
    "pycharm": {
     "name": "#%%\n"
    }
   }
  },
  {
   "cell_type": "code",
   "execution_count": 43,
   "outputs": [
    {
     "data": {
      "text/plain": "     mean_fit_time  std_fit_time  mean_score_time  std_score_time  \\\n124       0.094667      0.003399         0.013001    5.947204e-07   \n140       0.106666      0.011672         0.012668    9.431345e-04   \n126       0.225000      0.188090         0.013334    4.714829e-04   \n122       0.088999      0.001633         0.013667    4.710332e-04   \n128       0.139999      0.068600         0.045000    3.894314e-02   \n..             ...           ...              ...             ...   \n7         0.066000      0.008601         0.014001    8.163401e-04   \n2         0.091663      0.033630         0.015665    9.422911e-04   \n5         0.062998      0.000816         0.018000    5.658074e-03   \n3         0.066332      0.001886         0.016666    1.701109e-03   \n1         0.069666      0.010143         0.020669    3.299875e-03   \n\n    param_estimator__C param_transformer__nums__scaler  \\\n124               1.26                StandardScaler()   \n140               1.42                StandardScaler()   \n126               1.28                StandardScaler()   \n122               1.24                StandardScaler()   \n128                1.3                StandardScaler()   \n..                 ...                             ...   \n7                 0.08                  MinMaxScaler()   \n2                 0.04                StandardScaler()   \n5                 0.06                  MinMaxScaler()   \n3                 0.04                  MinMaxScaler()   \n1                 0.02                  MinMaxScaler()   \n\n                                                params  split0_test_score  \\\n124  {'estimator__C': 1.26, 'transformer__nums__sca...           0.840140   \n140  {'estimator__C': 1.42, 'transformer__nums__sca...           0.840044   \n126  {'estimator__C': 1.28, 'transformer__nums__sca...           0.840092   \n122  {'estimator__C': 1.24, 'transformer__nums__sca...           0.840140   \n128  {'estimator__C': 1.3, 'transformer__nums__scal...           0.840092   \n..                                                 ...                ...   \n7    {'estimator__C': 0.08, 'transformer__nums__sca...           0.835634   \n2    {'estimator__C': 0.04, 'transformer__nums__sca...           0.840092   \n5    {'estimator__C': 0.06, 'transformer__nums__sca...           0.834723   \n3    {'estimator__C': 0.04, 'transformer__nums__sca...           0.834675   \n1    {'estimator__C': 0.02, 'transformer__nums__sca...           0.833285   \n\n     split1_test_score  split2_test_score  mean_test_score  std_test_score  \\\n124           0.864586           0.852866         0.852531        0.009983   \n140           0.864634           0.852866         0.852515        0.010042   \n126           0.864586           0.852866         0.852515        0.010003   \n122           0.864538           0.852866         0.852515        0.009964   \n128           0.864586           0.852866         0.852515        0.010003   \n..                 ...                ...              ...             ...   \n7             0.866312           0.851428         0.851125        0.012526   \n2             0.864203           0.848888         0.851061        0.009962   \n5             0.865162           0.851237         0.850374        0.012441   \n3             0.863771           0.850661         0.849703        0.011898   \n1             0.863292           0.847162         0.847913        0.012262   \n\n     rank_test_score  \n124                1  \n140                2  \n126                2  \n122                2  \n128                2  \n..               ...  \n7                194  \n2                195  \n5                196  \n3                197  \n1                198  \n\n[198 rows x 13 columns]",
      "text/html": "<div>\n<style scoped>\n    .dataframe tbody tr th:only-of-type {\n        vertical-align: middle;\n    }\n\n    .dataframe tbody tr th {\n        vertical-align: top;\n    }\n\n    .dataframe thead th {\n        text-align: right;\n    }\n</style>\n<table border=\"1\" class=\"dataframe\">\n  <thead>\n    <tr style=\"text-align: right;\">\n      <th></th>\n      <th>mean_fit_time</th>\n      <th>std_fit_time</th>\n      <th>mean_score_time</th>\n      <th>std_score_time</th>\n      <th>param_estimator__C</th>\n      <th>param_transformer__nums__scaler</th>\n      <th>params</th>\n      <th>split0_test_score</th>\n      <th>split1_test_score</th>\n      <th>split2_test_score</th>\n      <th>mean_test_score</th>\n      <th>std_test_score</th>\n      <th>rank_test_score</th>\n    </tr>\n  </thead>\n  <tbody>\n    <tr>\n      <th>124</th>\n      <td>0.094667</td>\n      <td>0.003399</td>\n      <td>0.013001</td>\n      <td>5.947204e-07</td>\n      <td>1.26</td>\n      <td>StandardScaler()</td>\n      <td>{'estimator__C': 1.26, 'transformer__nums__sca...</td>\n      <td>0.840140</td>\n      <td>0.864586</td>\n      <td>0.852866</td>\n      <td>0.852531</td>\n      <td>0.009983</td>\n      <td>1</td>\n    </tr>\n    <tr>\n      <th>140</th>\n      <td>0.106666</td>\n      <td>0.011672</td>\n      <td>0.012668</td>\n      <td>9.431345e-04</td>\n      <td>1.42</td>\n      <td>StandardScaler()</td>\n      <td>{'estimator__C': 1.42, 'transformer__nums__sca...</td>\n      <td>0.840044</td>\n      <td>0.864634</td>\n      <td>0.852866</td>\n      <td>0.852515</td>\n      <td>0.010042</td>\n      <td>2</td>\n    </tr>\n    <tr>\n      <th>126</th>\n      <td>0.225000</td>\n      <td>0.188090</td>\n      <td>0.013334</td>\n      <td>4.714829e-04</td>\n      <td>1.28</td>\n      <td>StandardScaler()</td>\n      <td>{'estimator__C': 1.28, 'transformer__nums__sca...</td>\n      <td>0.840092</td>\n      <td>0.864586</td>\n      <td>0.852866</td>\n      <td>0.852515</td>\n      <td>0.010003</td>\n      <td>2</td>\n    </tr>\n    <tr>\n      <th>122</th>\n      <td>0.088999</td>\n      <td>0.001633</td>\n      <td>0.013667</td>\n      <td>4.710332e-04</td>\n      <td>1.24</td>\n      <td>StandardScaler()</td>\n      <td>{'estimator__C': 1.24, 'transformer__nums__sca...</td>\n      <td>0.840140</td>\n      <td>0.864538</td>\n      <td>0.852866</td>\n      <td>0.852515</td>\n      <td>0.009964</td>\n      <td>2</td>\n    </tr>\n    <tr>\n      <th>128</th>\n      <td>0.139999</td>\n      <td>0.068600</td>\n      <td>0.045000</td>\n      <td>3.894314e-02</td>\n      <td>1.3</td>\n      <td>StandardScaler()</td>\n      <td>{'estimator__C': 1.3, 'transformer__nums__scal...</td>\n      <td>0.840092</td>\n      <td>0.864586</td>\n      <td>0.852866</td>\n      <td>0.852515</td>\n      <td>0.010003</td>\n      <td>2</td>\n    </tr>\n    <tr>\n      <th>...</th>\n      <td>...</td>\n      <td>...</td>\n      <td>...</td>\n      <td>...</td>\n      <td>...</td>\n      <td>...</td>\n      <td>...</td>\n      <td>...</td>\n      <td>...</td>\n      <td>...</td>\n      <td>...</td>\n      <td>...</td>\n      <td>...</td>\n    </tr>\n    <tr>\n      <th>7</th>\n      <td>0.066000</td>\n      <td>0.008601</td>\n      <td>0.014001</td>\n      <td>8.163401e-04</td>\n      <td>0.08</td>\n      <td>MinMaxScaler()</td>\n      <td>{'estimator__C': 0.08, 'transformer__nums__sca...</td>\n      <td>0.835634</td>\n      <td>0.866312</td>\n      <td>0.851428</td>\n      <td>0.851125</td>\n      <td>0.012526</td>\n      <td>194</td>\n    </tr>\n    <tr>\n      <th>2</th>\n      <td>0.091663</td>\n      <td>0.033630</td>\n      <td>0.015665</td>\n      <td>9.422911e-04</td>\n      <td>0.04</td>\n      <td>StandardScaler()</td>\n      <td>{'estimator__C': 0.04, 'transformer__nums__sca...</td>\n      <td>0.840092</td>\n      <td>0.864203</td>\n      <td>0.848888</td>\n      <td>0.851061</td>\n      <td>0.009962</td>\n      <td>195</td>\n    </tr>\n    <tr>\n      <th>5</th>\n      <td>0.062998</td>\n      <td>0.000816</td>\n      <td>0.018000</td>\n      <td>5.658074e-03</td>\n      <td>0.06</td>\n      <td>MinMaxScaler()</td>\n      <td>{'estimator__C': 0.06, 'transformer__nums__sca...</td>\n      <td>0.834723</td>\n      <td>0.865162</td>\n      <td>0.851237</td>\n      <td>0.850374</td>\n      <td>0.012441</td>\n      <td>196</td>\n    </tr>\n    <tr>\n      <th>3</th>\n      <td>0.066332</td>\n      <td>0.001886</td>\n      <td>0.016666</td>\n      <td>1.701109e-03</td>\n      <td>0.04</td>\n      <td>MinMaxScaler()</td>\n      <td>{'estimator__C': 0.04, 'transformer__nums__sca...</td>\n      <td>0.834675</td>\n      <td>0.863771</td>\n      <td>0.850661</td>\n      <td>0.849703</td>\n      <td>0.011898</td>\n      <td>197</td>\n    </tr>\n    <tr>\n      <th>1</th>\n      <td>0.069666</td>\n      <td>0.010143</td>\n      <td>0.020669</td>\n      <td>3.299875e-03</td>\n      <td>0.02</td>\n      <td>MinMaxScaler()</td>\n      <td>{'estimator__C': 0.02, 'transformer__nums__sca...</td>\n      <td>0.833285</td>\n      <td>0.863292</td>\n      <td>0.847162</td>\n      <td>0.847913</td>\n      <td>0.012262</td>\n      <td>198</td>\n    </tr>\n  </tbody>\n</table>\n<p>198 rows × 13 columns</p>\n</div>"
     },
     "metadata": {},
     "output_type": "display_data"
    },
    {
     "name": "stdout",
     "output_type": "stream",
     "text": [
      "параметры: {'estimator__C': 1.26, 'transformer__nums__scaler': StandardScaler()} \n",
      "roc-auc: 0.8525\n"
     ]
    }
   ],
   "source": [
    "display(pd.DataFrame(gs_lsvm.cv_results_).sort_values('rank_test_score'))\n",
    "print(f'параметры: {pd.DataFrame(gs_lsvm.cv_results_).sort_values(\"rank_test_score\").head(1)[\"params\"].values[0]}',\n",
    "      f'\\nroc-auc: {pd.DataFrame(gs_lsvm.cv_results_).sort_values(\"rank_test_score\").head(1)[\"mean_test_score\"].values[0]:.4f}')"
   ],
   "metadata": {
    "collapsed": false,
    "pycharm": {
     "name": "#%%\n"
    }
   }
  },
  {
   "cell_type": "markdown",
   "source": [
    "## Наивный Байес"
   ],
   "metadata": {
    "collapsed": false,
    "pycharm": {
     "name": "#%% md\n"
    }
   }
  },
  {
   "cell_type": "code",
   "execution_count": 46,
   "outputs": [
    {
     "name": "stdout",
     "output_type": "stream",
     "text": [
      "CPU times: total: 234 ms\n",
      "Wall time: 5.8 s\n"
     ]
    },
    {
     "name": "stderr",
     "output_type": "stream",
     "text": [
      "C:\\work_and_fun\\partisans\\PP\\mistakes-and-regrets\\lib\\site-packages\\sklearn\\model_selection\\_search.py:952: UserWarning: One or more of the test scores are non-finite: [0.82731761 0.82587959 0.82407407        nan        nan        nan\n",
      " 0.82471319 0.82570383 0.83086473 0.81667625]\n",
      "  warnings.warn(\n"
     ]
    }
   ],
   "source": [
    "%%time\n",
    "num_ct = Pipeline(steps=[('imputer', IterativeImputer(random_state=123)),\n",
    "                         ('scaler', MinMaxScaler())])\n",
    "\n",
    "cat_ct = Pipeline(steps=[('imputer', SimpleImputer(strategy='most_frequent')),\n",
    "                         ('ohe', OneHotEncoder(drop='first'))])\n",
    "\n",
    "transformer_poly = ColumnTransformer(transformers=[('nums', num_ct, selector(dtype_exclude=\"object\")),\n",
    "                                                   ('cats', cat_ct, selector(dtype_include=\"object\"))],\n",
    "                                                    remainder='passthrough')\n",
    "\n",
    "bayes_pipe = Pipeline(steps=[('transformer', transformer_poly), ('estimator', BernoulliNB())])\n",
    "\n",
    "params = [{'estimator': [BernoulliNB(), CategoricalNB(), ComplementNB()],\n",
    "           'estimator__alpha': [0.1, 1, 10]},\n",
    "\n",
    "          {'estimator': [GaussianNB()]}\n",
    "         ]\n",
    "\n",
    "gs_bayes = GridSearchCV(bayes_pipe, param_grid=params, scoring='roc_auc', cv=3, n_jobs=-1)\n",
    "\n",
    "gs_bayes.fit(x, y);"
   ],
   "metadata": {
    "collapsed": false,
    "pycharm": {
     "name": "#%%\n"
    }
   }
  },
  {
   "cell_type": "code",
   "execution_count": 47,
   "outputs": [
    {
     "data": {
      "text/plain": "   mean_fit_time  std_fit_time  mean_score_time  std_score_time  \\\n8       0.057999      0.002943         0.014668        0.000473   \n0       0.063667      0.003299         0.016666        0.000471   \n1       0.073667      0.005736         0.016667        0.000942   \n7       0.055999      0.000818         0.015333        0.000942   \n6       0.057333      0.003094         0.014666        0.000944   \n2       0.068000      0.000816         0.016999        0.001414   \n9       0.058332      0.003399         0.013666        0.000472   \n3       0.052333      0.013598         0.010664        0.003773   \n4       0.063999      0.002830         0.014667        0.000941   \n5       0.058668      0.000943         0.016000        0.000816   \n\n          param_estimator param_estimator__alpha  \\\n8  ComplementNB(alpha=10)                     10   \n0           BernoulliNB()                    0.1   \n1           BernoulliNB()                      1   \n7  ComplementNB(alpha=10)                      1   \n6  ComplementNB(alpha=10)                    0.1   \n2           BernoulliNB()                     10   \n9            GaussianNB()                    NaN   \n3         CategoricalNB()                    0.1   \n4         CategoricalNB()                      1   \n5         CategoricalNB()                     10   \n\n                                              params  split0_test_score  \\\n8  {'estimator': ComplementNB(alpha=10), 'estimat...           0.807497   \n0  {'estimator': BernoulliNB(), 'estimator__alpha...           0.792949   \n1  {'estimator': BernoulliNB(), 'estimator__alpha...           0.792517   \n7  {'estimator': ComplementNB(alpha=10), 'estimat...           0.789665   \n6  {'estimator': ComplementNB(alpha=10), 'estimat...           0.785974   \n2  {'estimator': BernoulliNB(), 'estimator__alpha...           0.792613   \n9                        {'estimator': GaussianNB()}           0.774231   \n3  {'estimator': CategoricalNB(), 'estimator__alp...                NaN   \n4  {'estimator': CategoricalNB(), 'estimator__alp...                NaN   \n5  {'estimator': CategoricalNB(), 'estimator__alp...                NaN   \n\n   split1_test_score  split2_test_score  mean_test_score  std_test_score  \\\n8           0.855575           0.829523         0.830865        0.019651   \n0           0.852986           0.836018         0.827318        0.025270   \n1           0.851836           0.833285         0.825880        0.024776   \n7           0.858882           0.828564         0.825704        0.028330   \n6           0.859601           0.828564         0.824713        0.030181   \n2           0.850062           0.829547         0.824074        0.023771   \n9           0.848624           0.827174         0.816676        0.031265   \n3           0.850134           0.826910              NaN             NaN   \n4           0.850134           0.827054              NaN             NaN   \n5           0.850134           0.824322              NaN             NaN   \n\n   rank_test_score  \n8                1  \n0                2  \n1                3  \n7                4  \n6                5  \n2                6  \n9                7  \n3                8  \n4                8  \n5                8  ",
      "text/html": "<div>\n<style scoped>\n    .dataframe tbody tr th:only-of-type {\n        vertical-align: middle;\n    }\n\n    .dataframe tbody tr th {\n        vertical-align: top;\n    }\n\n    .dataframe thead th {\n        text-align: right;\n    }\n</style>\n<table border=\"1\" class=\"dataframe\">\n  <thead>\n    <tr style=\"text-align: right;\">\n      <th></th>\n      <th>mean_fit_time</th>\n      <th>std_fit_time</th>\n      <th>mean_score_time</th>\n      <th>std_score_time</th>\n      <th>param_estimator</th>\n      <th>param_estimator__alpha</th>\n      <th>params</th>\n      <th>split0_test_score</th>\n      <th>split1_test_score</th>\n      <th>split2_test_score</th>\n      <th>mean_test_score</th>\n      <th>std_test_score</th>\n      <th>rank_test_score</th>\n    </tr>\n  </thead>\n  <tbody>\n    <tr>\n      <th>8</th>\n      <td>0.057999</td>\n      <td>0.002943</td>\n      <td>0.014668</td>\n      <td>0.000473</td>\n      <td>ComplementNB(alpha=10)</td>\n      <td>10</td>\n      <td>{'estimator': ComplementNB(alpha=10), 'estimat...</td>\n      <td>0.807497</td>\n      <td>0.855575</td>\n      <td>0.829523</td>\n      <td>0.830865</td>\n      <td>0.019651</td>\n      <td>1</td>\n    </tr>\n    <tr>\n      <th>0</th>\n      <td>0.063667</td>\n      <td>0.003299</td>\n      <td>0.016666</td>\n      <td>0.000471</td>\n      <td>BernoulliNB()</td>\n      <td>0.1</td>\n      <td>{'estimator': BernoulliNB(), 'estimator__alpha...</td>\n      <td>0.792949</td>\n      <td>0.852986</td>\n      <td>0.836018</td>\n      <td>0.827318</td>\n      <td>0.025270</td>\n      <td>2</td>\n    </tr>\n    <tr>\n      <th>1</th>\n      <td>0.073667</td>\n      <td>0.005736</td>\n      <td>0.016667</td>\n      <td>0.000942</td>\n      <td>BernoulliNB()</td>\n      <td>1</td>\n      <td>{'estimator': BernoulliNB(), 'estimator__alpha...</td>\n      <td>0.792517</td>\n      <td>0.851836</td>\n      <td>0.833285</td>\n      <td>0.825880</td>\n      <td>0.024776</td>\n      <td>3</td>\n    </tr>\n    <tr>\n      <th>7</th>\n      <td>0.055999</td>\n      <td>0.000818</td>\n      <td>0.015333</td>\n      <td>0.000942</td>\n      <td>ComplementNB(alpha=10)</td>\n      <td>1</td>\n      <td>{'estimator': ComplementNB(alpha=10), 'estimat...</td>\n      <td>0.789665</td>\n      <td>0.858882</td>\n      <td>0.828564</td>\n      <td>0.825704</td>\n      <td>0.028330</td>\n      <td>4</td>\n    </tr>\n    <tr>\n      <th>6</th>\n      <td>0.057333</td>\n      <td>0.003094</td>\n      <td>0.014666</td>\n      <td>0.000944</td>\n      <td>ComplementNB(alpha=10)</td>\n      <td>0.1</td>\n      <td>{'estimator': ComplementNB(alpha=10), 'estimat...</td>\n      <td>0.785974</td>\n      <td>0.859601</td>\n      <td>0.828564</td>\n      <td>0.824713</td>\n      <td>0.030181</td>\n      <td>5</td>\n    </tr>\n    <tr>\n      <th>2</th>\n      <td>0.068000</td>\n      <td>0.000816</td>\n      <td>0.016999</td>\n      <td>0.001414</td>\n      <td>BernoulliNB()</td>\n      <td>10</td>\n      <td>{'estimator': BernoulliNB(), 'estimator__alpha...</td>\n      <td>0.792613</td>\n      <td>0.850062</td>\n      <td>0.829547</td>\n      <td>0.824074</td>\n      <td>0.023771</td>\n      <td>6</td>\n    </tr>\n    <tr>\n      <th>9</th>\n      <td>0.058332</td>\n      <td>0.003399</td>\n      <td>0.013666</td>\n      <td>0.000472</td>\n      <td>GaussianNB()</td>\n      <td>NaN</td>\n      <td>{'estimator': GaussianNB()}</td>\n      <td>0.774231</td>\n      <td>0.848624</td>\n      <td>0.827174</td>\n      <td>0.816676</td>\n      <td>0.031265</td>\n      <td>7</td>\n    </tr>\n    <tr>\n      <th>3</th>\n      <td>0.052333</td>\n      <td>0.013598</td>\n      <td>0.010664</td>\n      <td>0.003773</td>\n      <td>CategoricalNB()</td>\n      <td>0.1</td>\n      <td>{'estimator': CategoricalNB(), 'estimator__alp...</td>\n      <td>NaN</td>\n      <td>0.850134</td>\n      <td>0.826910</td>\n      <td>NaN</td>\n      <td>NaN</td>\n      <td>8</td>\n    </tr>\n    <tr>\n      <th>4</th>\n      <td>0.063999</td>\n      <td>0.002830</td>\n      <td>0.014667</td>\n      <td>0.000941</td>\n      <td>CategoricalNB()</td>\n      <td>1</td>\n      <td>{'estimator': CategoricalNB(), 'estimator__alp...</td>\n      <td>NaN</td>\n      <td>0.850134</td>\n      <td>0.827054</td>\n      <td>NaN</td>\n      <td>NaN</td>\n      <td>8</td>\n    </tr>\n    <tr>\n      <th>5</th>\n      <td>0.058668</td>\n      <td>0.000943</td>\n      <td>0.016000</td>\n      <td>0.000816</td>\n      <td>CategoricalNB()</td>\n      <td>10</td>\n      <td>{'estimator': CategoricalNB(), 'estimator__alp...</td>\n      <td>NaN</td>\n      <td>0.850134</td>\n      <td>0.824322</td>\n      <td>NaN</td>\n      <td>NaN</td>\n      <td>8</td>\n    </tr>\n  </tbody>\n</table>\n</div>"
     },
     "metadata": {},
     "output_type": "display_data"
    },
    {
     "name": "stdout",
     "output_type": "stream",
     "text": [
      "параметры: {'estimator': ComplementNB(alpha=10), 'estimator__alpha': 10} \n",
      "roc-auc: 0.8309\n"
     ]
    }
   ],
   "source": [
    "display(pd.DataFrame(gs_bayes.cv_results_).sort_values('rank_test_score'))\n",
    "print(f'параметры: {pd.DataFrame(gs_bayes.cv_results_).sort_values(\"rank_test_score\").head(1)[\"params\"].values[0]}',\n",
    "      f'\\nroc-auc: {pd.DataFrame(gs_bayes.cv_results_).sort_values(\"rank_test_score\").head(1)[\"mean_test_score\"].values[0]:.4f}')"
   ],
   "metadata": {
    "collapsed": false,
    "pycharm": {
     "name": "#%%\n"
    }
   }
  },
  {
   "cell_type": "markdown",
   "source": [
    "## Деревянные модели"
   ],
   "metadata": {
    "collapsed": false,
    "pycharm": {
     "name": "#%% md\n"
    }
   }
  },
  {
   "cell_type": "markdown",
   "source": [
    "### Дерево решений"
   ],
   "metadata": {
    "collapsed": false,
    "pycharm": {
     "name": "#%% md\n"
    }
   }
  },
  {
   "cell_type": "code",
   "execution_count": 107,
   "outputs": [
    {
     "name": "stdout",
     "output_type": "stream",
     "text": [
      "CPU times: total: 8.12 s\n",
      "Wall time: 37 s\n"
     ]
    },
    {
     "name": "stderr",
     "output_type": "stream",
     "text": [
      "C:\\work_and_fun\\partisans\\PP\\mistakes-and-regrets\\lib\\site-packages\\sklearn\\model_selection\\_validation.py:378: FitFailedWarning: \n",
      "1458 fits failed out of a total of 2916.\n",
      "The score on these train-test partitions for these parameters will be set to nan.\n",
      "If these failures are not expected, you can try to debug them by setting error_score='raise'.\n",
      "\n",
      "Below are more details about the failures:\n",
      "--------------------------------------------------------------------------------\n",
      "1458 fits failed with the following error:\n",
      "Traceback (most recent call last):\n",
      "  File \"C:\\work_and_fun\\partisans\\PP\\mistakes-and-regrets\\lib\\site-packages\\sklearn\\model_selection\\_validation.py\", line 686, in _fit_and_score\n",
      "    estimator.fit(X_train, y_train, **fit_params)\n",
      "  File \"C:\\work_and_fun\\partisans\\PP\\mistakes-and-regrets\\lib\\site-packages\\sklearn\\pipeline.py\", line 401, in fit\n",
      "    Xt = self._fit(X, y, **fit_params_steps)\n",
      "  File \"C:\\work_and_fun\\partisans\\PP\\mistakes-and-regrets\\lib\\site-packages\\sklearn\\pipeline.py\", line 359, in _fit\n",
      "    X, fitted_transformer = fit_transform_one_cached(\n",
      "  File \"C:\\work_and_fun\\partisans\\PP\\mistakes-and-regrets\\lib\\site-packages\\joblib\\memory.py\", line 349, in __call__\n",
      "    return self.func(*args, **kwargs)\n",
      "  File \"C:\\work_and_fun\\partisans\\PP\\mistakes-and-regrets\\lib\\site-packages\\sklearn\\pipeline.py\", line 893, in _fit_transform_one\n",
      "    res = transformer.fit_transform(X, y, **fit_params)\n",
      "  File \"C:\\work_and_fun\\partisans\\PP\\mistakes-and-regrets\\lib\\site-packages\\sklearn\\utils\\_set_output.py\", line 140, in wrapped\n",
      "    data_to_wrap = f(self, X, *args, **kwargs)\n",
      "  File \"C:\\work_and_fun\\partisans\\PP\\mistakes-and-regrets\\lib\\site-packages\\sklearn\\compose\\_column_transformer.py\", line 727, in fit_transform\n",
      "    result = self._fit_transform(X, y, _fit_transform_one)\n",
      "  File \"C:\\work_and_fun\\partisans\\PP\\mistakes-and-regrets\\lib\\site-packages\\sklearn\\compose\\_column_transformer.py\", line 658, in _fit_transform\n",
      "    return Parallel(n_jobs=self.n_jobs)(\n",
      "  File \"C:\\work_and_fun\\partisans\\PP\\mistakes-and-regrets\\lib\\site-packages\\sklearn\\utils\\parallel.py\", line 63, in __call__\n",
      "    return super().__call__(iterable_with_config)\n",
      "  File \"C:\\work_and_fun\\partisans\\PP\\mistakes-and-regrets\\lib\\site-packages\\joblib\\parallel.py\", line 1088, in __call__\n",
      "    while self.dispatch_one_batch(iterator):\n",
      "  File \"C:\\work_and_fun\\partisans\\PP\\mistakes-and-regrets\\lib\\site-packages\\joblib\\parallel.py\", line 901, in dispatch_one_batch\n",
      "    self._dispatch(tasks)\n",
      "  File \"C:\\work_and_fun\\partisans\\PP\\mistakes-and-regrets\\lib\\site-packages\\joblib\\parallel.py\", line 819, in _dispatch\n",
      "    job = self._backend.apply_async(batch, callback=cb)\n",
      "  File \"C:\\work_and_fun\\partisans\\PP\\mistakes-and-regrets\\lib\\site-packages\\joblib\\_parallel_backends.py\", line 208, in apply_async\n",
      "    result = ImmediateResult(func)\n",
      "  File \"C:\\work_and_fun\\partisans\\PP\\mistakes-and-regrets\\lib\\site-packages\\joblib\\_parallel_backends.py\", line 597, in __init__\n",
      "    self.results = batch()\n",
      "  File \"C:\\work_and_fun\\partisans\\PP\\mistakes-and-regrets\\lib\\site-packages\\joblib\\parallel.py\", line 288, in __call__\n",
      "    return [func(*args, **kwargs)\n",
      "  File \"C:\\work_and_fun\\partisans\\PP\\mistakes-and-regrets\\lib\\site-packages\\joblib\\parallel.py\", line 288, in <listcomp>\n",
      "    return [func(*args, **kwargs)\n",
      "  File \"C:\\work_and_fun\\partisans\\PP\\mistakes-and-regrets\\lib\\site-packages\\sklearn\\utils\\parallel.py\", line 123, in __call__\n",
      "    return self.function(*args, **kwargs)\n",
      "  File \"C:\\work_and_fun\\partisans\\PP\\mistakes-and-regrets\\lib\\site-packages\\sklearn\\pipeline.py\", line 893, in _fit_transform_one\n",
      "    res = transformer.fit_transform(X, y, **fit_params)\n",
      "  File \"C:\\work_and_fun\\partisans\\PP\\mistakes-and-regrets\\lib\\site-packages\\sklearn\\pipeline.py\", line 445, in fit_transform\n",
      "    return last_step.fit_transform(Xt, y, **fit_params_last_step)\n",
      "  File \"C:\\work_and_fun\\partisans\\PP\\mistakes-and-regrets\\lib\\site-packages\\sklearn\\utils\\_set_output.py\", line 140, in wrapped\n",
      "    data_to_wrap = f(self, X, *args, **kwargs)\n",
      "TypeError: fit_transform() takes 2 positional arguments but 3 were given\n",
      "\n",
      "  warnings.warn(some_fits_failed_message, FitFailedWarning)\n",
      "C:\\work_and_fun\\partisans\\PP\\mistakes-and-regrets\\lib\\site-packages\\sklearn\\model_selection\\_search.py:952: UserWarning: One or more of the test scores are non-finite: [0.81140351        nan 0.81140351        nan 0.81140351        nan\n",
      " 0.81140351        nan 0.81140351        nan 0.81140351        nan\n",
      " 0.81140351        nan 0.81140351        nan 0.81140351        nan\n",
      " 0.81759499        nan 0.81759499        nan 0.81759499        nan\n",
      " 0.81759499        nan 0.81759499        nan 0.81759499        nan\n",
      " 0.81759499        nan 0.81759499        nan 0.81759499        nan\n",
      " 0.81759499        nan 0.81759499        nan 0.81759499        nan\n",
      " 0.81759499        nan 0.81759499        nan 0.81759499        nan\n",
      " 0.81759499        nan 0.81759499        nan 0.81759499        nan\n",
      " 0.81759499        nan 0.81759499        nan 0.81759499        nan\n",
      " 0.81759499        nan 0.81759499        nan 0.81759499        nan\n",
      " 0.81759499        nan 0.81759499        nan 0.81759499        nan\n",
      " 0.81759499        nan 0.81759499        nan 0.81759499        nan\n",
      " 0.81759499        nan 0.81759499        nan 0.81759499        nan\n",
      " 0.81759499        nan 0.81759499        nan 0.81759499        nan\n",
      " 0.81759499        nan 0.81759499        nan 0.81759499        nan\n",
      " 0.81759499        nan 0.81759499        nan 0.81759499        nan\n",
      " 0.81759499        nan 0.81759499        nan 0.81759499        nan\n",
      " 0.81759499        nan 0.81759499        nan 0.81759499        nan\n",
      " 0.81759499        nan 0.81759499        nan 0.81759499        nan\n",
      " 0.81759499        nan 0.81759499        nan 0.81759499        nan\n",
      " 0.81759499        nan 0.81759499        nan 0.81759499        nan\n",
      " 0.81759499        nan 0.81759499        nan 0.81759499        nan\n",
      " 0.81759499        nan 0.81759499        nan 0.81759499        nan\n",
      " 0.81759499        nan 0.81759499        nan 0.81759499        nan\n",
      " 0.81759499        nan 0.81759499        nan 0.81759499        nan\n",
      " 0.81759499        nan 0.81759499        nan 0.81759499        nan\n",
      " 0.83236666        nan 0.83236666        nan 0.83236666        nan\n",
      " 0.83236666        nan 0.83236666        nan 0.83236666        nan\n",
      " 0.83236666        nan 0.83236666        nan 0.83236666        nan\n",
      " 0.83709616        nan 0.83709616        nan 0.83709616        nan\n",
      " 0.83709616        nan 0.83709616        nan 0.83709616        nan\n",
      " 0.83709616        nan 0.83709616        nan 0.83709616        nan\n",
      " 0.85899402        nan 0.85899402        nan 0.85899402        nan\n",
      " 0.85899402        nan 0.85899402        nan 0.85899402        nan\n",
      " 0.85899402        nan 0.85899402        nan 0.85899402        nan\n",
      " 0.85899402        nan 0.85899402        nan 0.85899402        nan\n",
      " 0.85899402        nan 0.85899402        nan 0.85899402        nan\n",
      " 0.85899402        nan 0.85899402        nan 0.85899402        nan\n",
      " 0.85899402        nan 0.85899402        nan 0.85899402        nan\n",
      " 0.85899402        nan 0.85899402        nan 0.85899402        nan\n",
      " 0.85899402        nan 0.85899402        nan 0.85899402        nan\n",
      " 0.85964912        nan 0.85964912        nan 0.85964912        nan\n",
      " 0.85964912        nan 0.85964912        nan 0.85964912        nan\n",
      " 0.85964912        nan 0.85964912        nan 0.85964912        nan\n",
      " 0.85738823        nan 0.85738823        nan 0.85738823        nan\n",
      " 0.85738823        nan 0.85738823        nan 0.85738823        nan\n",
      " 0.85738823        nan 0.85738823        nan 0.85738823        nan\n",
      " 0.84995047        nan 0.84995047        nan 0.84995047        nan\n",
      " 0.84995047        nan 0.84995047        nan 0.84995047        nan\n",
      " 0.84995047        nan 0.84995047        nan 0.84995047        nan\n",
      " 0.84995047        nan 0.84995047        nan 0.84995047        nan\n",
      " 0.84995047        nan 0.84995047        nan 0.84995047        nan\n",
      " 0.84995047        nan 0.84995047        nan 0.84995047        nan\n",
      " 0.85317004        nan 0.85317004        nan 0.85317004        nan\n",
      " 0.85317004        nan 0.85317004        nan 0.85317004        nan\n",
      " 0.85317004        nan 0.85317004        nan 0.85317004        nan\n",
      " 0.85560669        nan 0.85560669        nan 0.85560669        nan\n",
      " 0.85560669        nan 0.85560669        nan 0.85560669        nan\n",
      " 0.85560669        nan 0.85560669        nan 0.85560669        nan\n",
      " 0.85434442        nan 0.85434442        nan 0.85434442        nan\n",
      " 0.85434442        nan 0.85434442        nan 0.85434442        nan\n",
      " 0.85434442        nan 0.85434442        nan 0.85434442        nan\n",
      " 0.85448822        nan 0.85448822        nan 0.85448822        nan\n",
      " 0.85448822        nan 0.85448822        nan 0.85448822        nan\n",
      " 0.85448822        nan 0.85448822        nan 0.85448822        nan\n",
      " 0.85328987        nan 0.85328987        nan 0.85328987        nan\n",
      " 0.85328987        nan 0.85328987        nan 0.85328987        nan\n",
      " 0.85328987        nan 0.85328987        nan 0.85328987        nan\n",
      " 0.85613396        nan 0.85613396        nan 0.85613396        nan\n",
      " 0.85613396        nan 0.85613396        nan 0.85613396        nan\n",
      " 0.85613396        nan 0.85613396        nan 0.85613396        nan\n",
      " 0.85428051        nan 0.85428051        nan 0.85428051        nan\n",
      " 0.85428051        nan 0.85428051        nan 0.85428051        nan\n",
      " 0.85428051        nan 0.85428051        nan 0.85428051        nan\n",
      " 0.83082479        nan 0.83082479        nan 0.83082479        nan\n",
      " 0.83082479        nan 0.83082479        nan 0.83082479        nan\n",
      " 0.83082479        nan 0.83082479        nan 0.83082479        nan\n",
      " 0.8256559         nan 0.8256559         nan 0.8256559         nan\n",
      " 0.8256559         nan 0.8256559         nan 0.8256559         nan\n",
      " 0.8256559         nan 0.8256559         nan 0.8256559         nan\n",
      " 0.83493113        nan 0.83493113        nan 0.83493113        nan\n",
      " 0.83493113        nan 0.83493113        nan 0.83512287        nan\n",
      " 0.83512287        nan 0.83512287        nan 0.83512287        nan\n",
      " 0.84160196        nan 0.84160196        nan 0.84160196        nan\n",
      " 0.84160196        nan 0.84160196        nan 0.84160196        nan\n",
      " 0.84160196        nan 0.84160196        nan 0.84160196        nan\n",
      " 0.83571406        nan 0.83571406        nan 0.83571406        nan\n",
      " 0.83571406        nan 0.83571406        nan 0.83571406        nan\n",
      " 0.83571406        nan 0.83571406        nan 0.83571406        nan\n",
      " 0.83620938        nan 0.83620938        nan 0.83620938        nan\n",
      " 0.83620938        nan 0.83620938        nan 0.83620938        nan\n",
      " 0.83620938        nan 0.83620938        nan 0.83620938        nan\n",
      " 0.83469945        nan 0.83469945        nan 0.83469945        nan\n",
      " 0.83469945        nan 0.83469945        nan 0.83469945        nan\n",
      " 0.83469945        nan 0.83469945        nan 0.83469945        nan\n",
      " 0.83534656        nan 0.83534656        nan 0.83534656        nan\n",
      " 0.83534656        nan 0.83534656        nan 0.83534656        nan\n",
      " 0.83534656        nan 0.83534656        nan 0.83534656        nan\n",
      " 0.83507494        nan 0.83507494        nan 0.83507494        nan\n",
      " 0.83507494        nan 0.83507494        nan 0.83507494        nan\n",
      " 0.83507494        nan 0.83507494        nan 0.83507494        nan\n",
      " 0.84166587        nan 0.84166587        nan 0.84166587        nan\n",
      " 0.84166587        nan 0.84166587        nan 0.84166587        nan\n",
      " 0.84166587        nan 0.84166587        nan 0.84166587        nan\n",
      " 0.83334931        nan 0.83334931        nan 0.83334931        nan\n",
      " 0.83334931        nan 0.83334931        nan 0.83334931        nan\n",
      " 0.83334931        nan 0.83334931        nan 0.83334931        nan\n",
      " 0.82904324        nan 0.82904324        nan 0.82904324        nan\n",
      " 0.82904324        nan 0.82904324        nan 0.82921101        nan\n",
      " 0.83208705        nan 0.83129614        nan 0.83056914        nan\n",
      " 0.8326303         nan 0.8326303         nan 0.8326303         nan\n",
      " 0.8326303         nan 0.8326303         nan 0.8326303         nan\n",
      " 0.8326303         nan 0.8326303         nan 0.83226281        nan\n",
      " 0.83414022        nan 0.83414022        nan 0.83414022        nan\n",
      " 0.83414022        nan 0.83414022        nan 0.83414022        nan\n",
      " 0.83414022        nan 0.83414022        nan 0.83414022        nan\n",
      " 0.83227878        nan 0.83227878        nan 0.83227878        nan\n",
      " 0.83227878        nan 0.83227878        nan 0.83227878        nan\n",
      " 0.83227878        nan 0.83227878        nan 0.83227878        nan\n",
      " 0.8341562         nan 0.8341562         nan 0.8341562         nan\n",
      " 0.8341562         nan 0.8341562         nan 0.8341562         nan\n",
      " 0.8341562         nan 0.8341562         nan 0.8341562         nan\n",
      " 0.84070719        nan 0.84070719        nan 0.84070719        nan\n",
      " 0.84070719        nan 0.84070719        nan 0.84070719        nan\n",
      " 0.84070719        nan 0.84070719        nan 0.84070719        nan\n",
      " 0.835027          nan 0.835027          nan 0.835027          nan\n",
      " 0.835027          nan 0.835027          nan 0.835027          nan\n",
      " 0.835027          nan 0.835027          nan 0.835027          nan\n",
      " 0.82859585        nan 0.82859585        nan 0.82859585        nan\n",
      " 0.82859585        nan 0.82859585        nan 0.82859585        nan\n",
      " 0.82859585        nan 0.82859585        nan 0.82859585        nan\n",
      " 0.8276132         nan 0.8276132         nan 0.8276132         nan\n",
      " 0.8276132         nan 0.8276132         nan 0.8276132         nan\n",
      " 0.8276132         nan 0.8276132         nan 0.8276132         nan\n",
      " 0.8071933         nan 0.8071933         nan 0.8071933         nan\n",
      " 0.8071933         nan 0.8071933         nan 0.80925447        nan\n",
      " 0.80947816        nan 0.80892692        nan 0.80910267        nan\n",
      " 0.83075288        nan 0.83075288        nan 0.83075288        nan\n",
      " 0.83075288        nan 0.83075288        nan 0.83075288        nan\n",
      " 0.83075288        nan 0.83075288        nan 0.8319033         nan\n",
      " 0.83120027        nan 0.83120027        nan 0.83120027        nan\n",
      " 0.83120027        nan 0.83120027        nan 0.83120027        nan\n",
      " 0.83120027        nan 0.83120027        nan 0.83120027        nan\n",
      " 0.83556227        nan 0.83556227        nan 0.83556227        nan\n",
      " 0.83556227        nan 0.83556227        nan 0.83556227        nan\n",
      " 0.83556227        nan 0.83556227        nan 0.83556227        nan\n",
      " 0.8373518         nan 0.8373518         nan 0.8373518         nan\n",
      " 0.8373518         nan 0.8373518         nan 0.8373518         nan\n",
      " 0.8373518         nan 0.8373518         nan 0.8373518         nan\n",
      " 0.84270444        nan 0.84270444        nan 0.84270444        nan\n",
      " 0.84270444        nan 0.84270444        nan 0.84270444        nan\n",
      " 0.84270444        nan 0.84270444        nan 0.84270444        nan\n",
      " 0.83739974        nan 0.83739974        nan 0.83739974        nan\n",
      " 0.83739974        nan 0.83739974        nan 0.83739974        nan\n",
      " 0.83739974        nan 0.83739974        nan 0.83739974        nan\n",
      " 0.82953855        nan 0.82953855        nan 0.82953855        nan\n",
      " 0.82953855        nan 0.82953855        nan 0.82953855        nan\n",
      " 0.82953855        nan 0.82953855        nan 0.82953855        nan\n",
      " 0.82455341        nan 0.82455341        nan 0.82455341        nan\n",
      " 0.82455341        nan 0.82455341        nan 0.82455341        nan\n",
      " 0.82455341        nan 0.82455341        nan 0.82455341        nan]\n",
      "  warnings.warn(\n"
     ]
    }
   ],
   "source": [
    "%%time\n",
    "num_ct = Pipeline(steps=[('imputer', IterativeImputer(random_state=123))])\n",
    "\n",
    "cat_ct = Pipeline(steps=[('imputer', SimpleImputer(strategy='most_frequent')),\n",
    "                         ('encoder', OneHotEncoder(drop='first'))])\n",
    "\n",
    "transformer = ColumnTransformer(transformers=[('nums', num_ct, selector(dtype_exclude=\"object\")),\n",
    "                                                   ('cats', cat_ct, selector(dtype_include=\"object\"))],\n",
    "                                                    remainder='passthrough')\n",
    "\n",
    "tree_pipe = Pipeline(steps=[('transformer', transformer), ('clf', DecisionTreeClassifier(random_state=123))])\n",
    "\n",
    "tree_params = {'transformer__cats__encoder': [OneHotEncoder(drop='first'), LabelEncoder()],\n",
    "               'clf__max_depth': [2, 3, 4, 5, 7, 9],\n",
    "               'clf__min_samples_split': [2, 3, 4, 5, 6, 8, 9, 10, 11],\n",
    "               'clf__min_samples_leaf': [3, 5, 8, 9, 10, 11, 12, 14, 16]}\n",
    "\n",
    "tree_gs = GridSearchCV(tree_pipe, param_grid=tree_params, scoring='roc_auc', cv=3, n_jobs=-1)\n",
    "tree_gs.fit(x, y);"
   ],
   "metadata": {
    "collapsed": false,
    "pycharm": {
     "name": "#%%\n"
    }
   }
  },
  {
   "cell_type": "code",
   "execution_count": 108,
   "outputs": [
    {
     "data": {
      "text/plain": "     mean_fit_time  std_fit_time  mean_score_time  std_score_time  \\\n256       0.054334      0.001247         0.013334        0.000471   \n252       0.054334      0.001247         0.014336        0.000470   \n254       0.053667      0.001247         0.013333        0.000471   \n258       0.054668      0.000471         0.013666        0.000943   \n260       0.054668      0.001248         0.014666        0.000942   \n..             ...           ...              ...             ...   \n435       0.048667      0.001246         0.000000        0.000000   \n437       0.054000      0.004320         0.000000        0.000000   \n439       0.054332      0.006126         0.000000        0.000000   \n403       0.054335      0.008339         0.000000        0.000000   \n971       0.043334      0.001700         0.000000        0.000000   \n\n    param_clf__max_depth param_clf__min_samples_leaf  \\\n256                    3                          11   \n252                    3                          11   \n254                    3                          11   \n258                    3                          11   \n260                    3                          11   \n..                   ...                         ...   \n435                    4                          12   \n437                    4                          12   \n439                    4                          12   \n403                    4                          10   \n971                    9                          16   \n\n    param_clf__min_samples_split param_transformer__cats__encoder  \\\n256                            4      OneHotEncoder(drop='first')   \n252                            2      OneHotEncoder(drop='first')   \n254                            3      OneHotEncoder(drop='first')   \n258                            5      OneHotEncoder(drop='first')   \n260                            6      OneHotEncoder(drop='first')   \n..                           ...                              ...   \n435                            3                   LabelEncoder()   \n437                            4                   LabelEncoder()   \n439                            5                   LabelEncoder()   \n403                            5                   LabelEncoder()   \n971                           11                   LabelEncoder()   \n\n                                                params  split0_test_score  \\\n256  {'clf__max_depth': 3, 'clf__min_samples_leaf':...           0.818378   \n252  {'clf__max_depth': 3, 'clf__min_samples_leaf':...           0.818378   \n254  {'clf__max_depth': 3, 'clf__min_samples_leaf':...           0.818378   \n258  {'clf__max_depth': 3, 'clf__min_samples_leaf':...           0.818378   \n260  {'clf__max_depth': 3, 'clf__min_samples_leaf':...           0.818378   \n..                                                 ...                ...   \n435  {'clf__max_depth': 4, 'clf__min_samples_leaf':...                NaN   \n437  {'clf__max_depth': 4, 'clf__min_samples_leaf':...                NaN   \n439  {'clf__max_depth': 4, 'clf__min_samples_leaf':...                NaN   \n403  {'clf__max_depth': 4, 'clf__min_samples_leaf':...                NaN   \n971  {'clf__max_depth': 9, 'clf__min_samples_leaf':...                NaN   \n\n     split1_test_score  split2_test_score  mean_test_score  std_test_score  \\\n256           0.877984           0.882586         0.859649        0.029244   \n252           0.877984           0.882586         0.859649        0.029244   \n254           0.877984           0.882586         0.859649        0.029244   \n258           0.877984           0.882586         0.859649        0.029244   \n260           0.877984           0.882586         0.859649        0.029244   \n..                 ...                ...              ...             ...   \n435                NaN                NaN              NaN             NaN   \n437                NaN                NaN              NaN             NaN   \n439                NaN                NaN              NaN             NaN   \n403                NaN                NaN              NaN             NaN   \n971                NaN                NaN              NaN             NaN   \n\n     rank_test_score  \n256                1  \n252                1  \n254                1  \n258                1  \n260                1  \n..               ...  \n435              487  \n437              487  \n439              487  \n403              487  \n971              487  \n\n[972 rows x 15 columns]",
      "text/html": "<div>\n<style scoped>\n    .dataframe tbody tr th:only-of-type {\n        vertical-align: middle;\n    }\n\n    .dataframe tbody tr th {\n        vertical-align: top;\n    }\n\n    .dataframe thead th {\n        text-align: right;\n    }\n</style>\n<table border=\"1\" class=\"dataframe\">\n  <thead>\n    <tr style=\"text-align: right;\">\n      <th></th>\n      <th>mean_fit_time</th>\n      <th>std_fit_time</th>\n      <th>mean_score_time</th>\n      <th>std_score_time</th>\n      <th>param_clf__max_depth</th>\n      <th>param_clf__min_samples_leaf</th>\n      <th>param_clf__min_samples_split</th>\n      <th>param_transformer__cats__encoder</th>\n      <th>params</th>\n      <th>split0_test_score</th>\n      <th>split1_test_score</th>\n      <th>split2_test_score</th>\n      <th>mean_test_score</th>\n      <th>std_test_score</th>\n      <th>rank_test_score</th>\n    </tr>\n  </thead>\n  <tbody>\n    <tr>\n      <th>256</th>\n      <td>0.054334</td>\n      <td>0.001247</td>\n      <td>0.013334</td>\n      <td>0.000471</td>\n      <td>3</td>\n      <td>11</td>\n      <td>4</td>\n      <td>OneHotEncoder(drop='first')</td>\n      <td>{'clf__max_depth': 3, 'clf__min_samples_leaf':...</td>\n      <td>0.818378</td>\n      <td>0.877984</td>\n      <td>0.882586</td>\n      <td>0.859649</td>\n      <td>0.029244</td>\n      <td>1</td>\n    </tr>\n    <tr>\n      <th>252</th>\n      <td>0.054334</td>\n      <td>0.001247</td>\n      <td>0.014336</td>\n      <td>0.000470</td>\n      <td>3</td>\n      <td>11</td>\n      <td>2</td>\n      <td>OneHotEncoder(drop='first')</td>\n      <td>{'clf__max_depth': 3, 'clf__min_samples_leaf':...</td>\n      <td>0.818378</td>\n      <td>0.877984</td>\n      <td>0.882586</td>\n      <td>0.859649</td>\n      <td>0.029244</td>\n      <td>1</td>\n    </tr>\n    <tr>\n      <th>254</th>\n      <td>0.053667</td>\n      <td>0.001247</td>\n      <td>0.013333</td>\n      <td>0.000471</td>\n      <td>3</td>\n      <td>11</td>\n      <td>3</td>\n      <td>OneHotEncoder(drop='first')</td>\n      <td>{'clf__max_depth': 3, 'clf__min_samples_leaf':...</td>\n      <td>0.818378</td>\n      <td>0.877984</td>\n      <td>0.882586</td>\n      <td>0.859649</td>\n      <td>0.029244</td>\n      <td>1</td>\n    </tr>\n    <tr>\n      <th>258</th>\n      <td>0.054668</td>\n      <td>0.000471</td>\n      <td>0.013666</td>\n      <td>0.000943</td>\n      <td>3</td>\n      <td>11</td>\n      <td>5</td>\n      <td>OneHotEncoder(drop='first')</td>\n      <td>{'clf__max_depth': 3, 'clf__min_samples_leaf':...</td>\n      <td>0.818378</td>\n      <td>0.877984</td>\n      <td>0.882586</td>\n      <td>0.859649</td>\n      <td>0.029244</td>\n      <td>1</td>\n    </tr>\n    <tr>\n      <th>260</th>\n      <td>0.054668</td>\n      <td>0.001248</td>\n      <td>0.014666</td>\n      <td>0.000942</td>\n      <td>3</td>\n      <td>11</td>\n      <td>6</td>\n      <td>OneHotEncoder(drop='first')</td>\n      <td>{'clf__max_depth': 3, 'clf__min_samples_leaf':...</td>\n      <td>0.818378</td>\n      <td>0.877984</td>\n      <td>0.882586</td>\n      <td>0.859649</td>\n      <td>0.029244</td>\n      <td>1</td>\n    </tr>\n    <tr>\n      <th>...</th>\n      <td>...</td>\n      <td>...</td>\n      <td>...</td>\n      <td>...</td>\n      <td>...</td>\n      <td>...</td>\n      <td>...</td>\n      <td>...</td>\n      <td>...</td>\n      <td>...</td>\n      <td>...</td>\n      <td>...</td>\n      <td>...</td>\n      <td>...</td>\n      <td>...</td>\n    </tr>\n    <tr>\n      <th>435</th>\n      <td>0.048667</td>\n      <td>0.001246</td>\n      <td>0.000000</td>\n      <td>0.000000</td>\n      <td>4</td>\n      <td>12</td>\n      <td>3</td>\n      <td>LabelEncoder()</td>\n      <td>{'clf__max_depth': 4, 'clf__min_samples_leaf':...</td>\n      <td>NaN</td>\n      <td>NaN</td>\n      <td>NaN</td>\n      <td>NaN</td>\n      <td>NaN</td>\n      <td>487</td>\n    </tr>\n    <tr>\n      <th>437</th>\n      <td>0.054000</td>\n      <td>0.004320</td>\n      <td>0.000000</td>\n      <td>0.000000</td>\n      <td>4</td>\n      <td>12</td>\n      <td>4</td>\n      <td>LabelEncoder()</td>\n      <td>{'clf__max_depth': 4, 'clf__min_samples_leaf':...</td>\n      <td>NaN</td>\n      <td>NaN</td>\n      <td>NaN</td>\n      <td>NaN</td>\n      <td>NaN</td>\n      <td>487</td>\n    </tr>\n    <tr>\n      <th>439</th>\n      <td>0.054332</td>\n      <td>0.006126</td>\n      <td>0.000000</td>\n      <td>0.000000</td>\n      <td>4</td>\n      <td>12</td>\n      <td>5</td>\n      <td>LabelEncoder()</td>\n      <td>{'clf__max_depth': 4, 'clf__min_samples_leaf':...</td>\n      <td>NaN</td>\n      <td>NaN</td>\n      <td>NaN</td>\n      <td>NaN</td>\n      <td>NaN</td>\n      <td>487</td>\n    </tr>\n    <tr>\n      <th>403</th>\n      <td>0.054335</td>\n      <td>0.008339</td>\n      <td>0.000000</td>\n      <td>0.000000</td>\n      <td>4</td>\n      <td>10</td>\n      <td>5</td>\n      <td>LabelEncoder()</td>\n      <td>{'clf__max_depth': 4, 'clf__min_samples_leaf':...</td>\n      <td>NaN</td>\n      <td>NaN</td>\n      <td>NaN</td>\n      <td>NaN</td>\n      <td>NaN</td>\n      <td>487</td>\n    </tr>\n    <tr>\n      <th>971</th>\n      <td>0.043334</td>\n      <td>0.001700</td>\n      <td>0.000000</td>\n      <td>0.000000</td>\n      <td>9</td>\n      <td>16</td>\n      <td>11</td>\n      <td>LabelEncoder()</td>\n      <td>{'clf__max_depth': 9, 'clf__min_samples_leaf':...</td>\n      <td>NaN</td>\n      <td>NaN</td>\n      <td>NaN</td>\n      <td>NaN</td>\n      <td>NaN</td>\n      <td>487</td>\n    </tr>\n  </tbody>\n</table>\n<p>972 rows × 15 columns</p>\n</div>"
     },
     "metadata": {},
     "output_type": "display_data"
    },
    {
     "name": "stdout",
     "output_type": "stream",
     "text": [
      "параметры: {'clf__max_depth': 3, 'clf__min_samples_leaf': 11, 'clf__min_samples_split': 4, 'transformer__cats__encoder': OneHotEncoder(drop='first')} \n",
      "roc-auc: 0.8596\n"
     ]
    }
   ],
   "source": [
    "display(pd.DataFrame(tree_gs.cv_results_).sort_values('rank_test_score'))\n",
    "print(f'параметры: {pd.DataFrame(tree_gs.cv_results_).sort_values(\"rank_test_score\").head(1)[\"params\"].values[0]}',\n",
    "      f'\\nroc-auc: {pd.DataFrame(tree_gs.cv_results_).sort_values(\"rank_test_score\").head(1)[\"mean_test_score\"].values[0]:.4f}')"
   ],
   "metadata": {
    "collapsed": false,
    "pycharm": {
     "name": "#%%\n"
    }
   }
  },
  {
   "cell_type": "markdown",
   "source": [
    "### Случайный лес"
   ],
   "metadata": {
    "collapsed": false,
    "pycharm": {
     "name": "#%% md\n"
    }
   }
  },
  {
   "cell_type": "code",
   "execution_count": 111,
   "outputs": [
    {
     "name": "stdout",
     "output_type": "stream",
     "text": [
      "CPU times: total: 9.56 s\n",
      "Wall time: 33.9 s\n"
     ]
    }
   ],
   "source": [
    "%%time\n",
    "num_ct = Pipeline(steps=[('imputer', IterativeImputer(random_state=123))])\n",
    "\n",
    "cat_ct = Pipeline(steps=[('imputer', SimpleImputer(strategy='most_frequent')),\n",
    "                         ('encoder', OneHotEncoder(drop='first'))])\n",
    "\n",
    "transformer = ColumnTransformer(transformers=[('nums', num_ct, selector(dtype_exclude=\"object\")),\n",
    "                                              ('cats', cat_ct, selector(dtype_include=\"object\"))],\n",
    "                                                remainder='passthrough')\n",
    "\n",
    "rf_pipe = Pipeline(steps=[('transformer', transformer), ('clf', RandomForestClassifier(random_state=123))])\n",
    "\n",
    "rf_params = {'clf__n_estimators': [10, 15, 20, 25, 30],\n",
    "             'clf__max_depth': [5, 6, 7, 8, 9],\n",
    "             'clf__min_samples_split': [2, 3, 4, 5, 6],\n",
    "             'clf__min_samples_leaf': [2, 3, 4, 5, 6, 7, 8]}\n",
    "\n",
    "rf_gs = GridSearchCV(rf_pipe, param_grid=rf_params, scoring='roc_auc', cv=3, n_jobs=-1)\n",
    "rf_gs.fit(x, y);"
   ],
   "metadata": {
    "collapsed": false,
    "pycharm": {
     "name": "#%%\n"
    }
   }
  },
  {
   "cell_type": "code",
   "execution_count": 112,
   "outputs": [
    {
     "data": {
      "text/plain": "     mean_fit_time  std_fit_time  mean_score_time  std_score_time  \\\n431       0.117667      0.019155         0.019333        0.002624   \n441       0.132000      0.030475         0.018335        0.002625   \n426       0.107000      0.004545         0.017666        0.000943   \n446       0.108333      0.005314         0.020001        0.001634   \n436       0.101333      0.000943         0.017666        0.000472   \n..             ...           ...              ...             ...   \n90        0.091686      0.005932         0.019334        0.004027   \n95        0.083333      0.001884         0.016334        0.000471   \n85        0.092685      0.011921         0.015999        0.000816   \n75        0.083334      0.004189         0.016000        0.000816   \n545       0.099333      0.017328         0.017000        0.001633   \n\n    param_clf__max_depth param_clf__min_samples_leaf  \\\n431                    7                           5   \n441                    7                           5   \n426                    7                           5   \n446                    7                           5   \n436                    7                           5   \n..                   ...                         ...   \n90                     5                           5   \n95                     5                           5   \n85                     5                           5   \n75                     5                           5   \n545                    8                           2   \n\n    param_clf__min_samples_split param_clf__n_estimators  \\\n431                            3                      15   \n441                            5                      15   \n426                            2                      15   \n446                            6                      15   \n436                            4                      15   \n..                           ...                     ...   \n90                             5                      10   \n95                             6                      10   \n85                             4                      10   \n75                             2                      10   \n545                            6                      10   \n\n                                                params  split0_test_score  \\\n431  {'clf__max_depth': 7, 'clf__min_samples_leaf':...           0.833717   \n441  {'clf__max_depth': 7, 'clf__min_samples_leaf':...           0.833717   \n426  {'clf__max_depth': 7, 'clf__min_samples_leaf':...           0.833717   \n446  {'clf__max_depth': 7, 'clf__min_samples_leaf':...           0.833717   \n436  {'clf__max_depth': 7, 'clf__min_samples_leaf':...           0.833717   \n..                                                 ...                ...   \n90   {'clf__max_depth': 5, 'clf__min_samples_leaf':...           0.813776   \n95   {'clf__max_depth': 5, 'clf__min_samples_leaf':...           0.813776   \n85   {'clf__max_depth': 5, 'clf__min_samples_leaf':...           0.813776   \n75   {'clf__max_depth': 5, 'clf__min_samples_leaf':...           0.813776   \n545  {'clf__max_depth': 8, 'clf__min_samples_leaf':...           0.805627   \n\n     split1_test_score  split2_test_score  mean_test_score  std_test_score  \\\n431           0.882202           0.887619         0.867846        0.024234   \n441           0.882202           0.887619         0.867846        0.024234   \n426           0.882202           0.887619         0.867846        0.024234   \n446           0.882202           0.887619         0.867846        0.024234   \n436           0.882202           0.887619         0.867846        0.024234   \n..                 ...                ...              ...             ...   \n90            0.868181           0.850230         0.844063        0.022635   \n95            0.868181           0.850230         0.844063        0.022635   \n85            0.868181           0.850230         0.844063        0.022635   \n75            0.868181           0.850230         0.844063        0.022635   \n545           0.860824           0.856797         0.841083        0.025124   \n\n     rank_test_score  \n431                1  \n441                1  \n426                1  \n446                1  \n436                1  \n..               ...  \n90               870  \n95               870  \n85               870  \n75               870  \n545              875  \n\n[875 rows x 15 columns]",
      "text/html": "<div>\n<style scoped>\n    .dataframe tbody tr th:only-of-type {\n        vertical-align: middle;\n    }\n\n    .dataframe tbody tr th {\n        vertical-align: top;\n    }\n\n    .dataframe thead th {\n        text-align: right;\n    }\n</style>\n<table border=\"1\" class=\"dataframe\">\n  <thead>\n    <tr style=\"text-align: right;\">\n      <th></th>\n      <th>mean_fit_time</th>\n      <th>std_fit_time</th>\n      <th>mean_score_time</th>\n      <th>std_score_time</th>\n      <th>param_clf__max_depth</th>\n      <th>param_clf__min_samples_leaf</th>\n      <th>param_clf__min_samples_split</th>\n      <th>param_clf__n_estimators</th>\n      <th>params</th>\n      <th>split0_test_score</th>\n      <th>split1_test_score</th>\n      <th>split2_test_score</th>\n      <th>mean_test_score</th>\n      <th>std_test_score</th>\n      <th>rank_test_score</th>\n    </tr>\n  </thead>\n  <tbody>\n    <tr>\n      <th>431</th>\n      <td>0.117667</td>\n      <td>0.019155</td>\n      <td>0.019333</td>\n      <td>0.002624</td>\n      <td>7</td>\n      <td>5</td>\n      <td>3</td>\n      <td>15</td>\n      <td>{'clf__max_depth': 7, 'clf__min_samples_leaf':...</td>\n      <td>0.833717</td>\n      <td>0.882202</td>\n      <td>0.887619</td>\n      <td>0.867846</td>\n      <td>0.024234</td>\n      <td>1</td>\n    </tr>\n    <tr>\n      <th>441</th>\n      <td>0.132000</td>\n      <td>0.030475</td>\n      <td>0.018335</td>\n      <td>0.002625</td>\n      <td>7</td>\n      <td>5</td>\n      <td>5</td>\n      <td>15</td>\n      <td>{'clf__max_depth': 7, 'clf__min_samples_leaf':...</td>\n      <td>0.833717</td>\n      <td>0.882202</td>\n      <td>0.887619</td>\n      <td>0.867846</td>\n      <td>0.024234</td>\n      <td>1</td>\n    </tr>\n    <tr>\n      <th>426</th>\n      <td>0.107000</td>\n      <td>0.004545</td>\n      <td>0.017666</td>\n      <td>0.000943</td>\n      <td>7</td>\n      <td>5</td>\n      <td>2</td>\n      <td>15</td>\n      <td>{'clf__max_depth': 7, 'clf__min_samples_leaf':...</td>\n      <td>0.833717</td>\n      <td>0.882202</td>\n      <td>0.887619</td>\n      <td>0.867846</td>\n      <td>0.024234</td>\n      <td>1</td>\n    </tr>\n    <tr>\n      <th>446</th>\n      <td>0.108333</td>\n      <td>0.005314</td>\n      <td>0.020001</td>\n      <td>0.001634</td>\n      <td>7</td>\n      <td>5</td>\n      <td>6</td>\n      <td>15</td>\n      <td>{'clf__max_depth': 7, 'clf__min_samples_leaf':...</td>\n      <td>0.833717</td>\n      <td>0.882202</td>\n      <td>0.887619</td>\n      <td>0.867846</td>\n      <td>0.024234</td>\n      <td>1</td>\n    </tr>\n    <tr>\n      <th>436</th>\n      <td>0.101333</td>\n      <td>0.000943</td>\n      <td>0.017666</td>\n      <td>0.000472</td>\n      <td>7</td>\n      <td>5</td>\n      <td>4</td>\n      <td>15</td>\n      <td>{'clf__max_depth': 7, 'clf__min_samples_leaf':...</td>\n      <td>0.833717</td>\n      <td>0.882202</td>\n      <td>0.887619</td>\n      <td>0.867846</td>\n      <td>0.024234</td>\n      <td>1</td>\n    </tr>\n    <tr>\n      <th>...</th>\n      <td>...</td>\n      <td>...</td>\n      <td>...</td>\n      <td>...</td>\n      <td>...</td>\n      <td>...</td>\n      <td>...</td>\n      <td>...</td>\n      <td>...</td>\n      <td>...</td>\n      <td>...</td>\n      <td>...</td>\n      <td>...</td>\n      <td>...</td>\n      <td>...</td>\n    </tr>\n    <tr>\n      <th>90</th>\n      <td>0.091686</td>\n      <td>0.005932</td>\n      <td>0.019334</td>\n      <td>0.004027</td>\n      <td>5</td>\n      <td>5</td>\n      <td>5</td>\n      <td>10</td>\n      <td>{'clf__max_depth': 5, 'clf__min_samples_leaf':...</td>\n      <td>0.813776</td>\n      <td>0.868181</td>\n      <td>0.850230</td>\n      <td>0.844063</td>\n      <td>0.022635</td>\n      <td>870</td>\n    </tr>\n    <tr>\n      <th>95</th>\n      <td>0.083333</td>\n      <td>0.001884</td>\n      <td>0.016334</td>\n      <td>0.000471</td>\n      <td>5</td>\n      <td>5</td>\n      <td>6</td>\n      <td>10</td>\n      <td>{'clf__max_depth': 5, 'clf__min_samples_leaf':...</td>\n      <td>0.813776</td>\n      <td>0.868181</td>\n      <td>0.850230</td>\n      <td>0.844063</td>\n      <td>0.022635</td>\n      <td>870</td>\n    </tr>\n    <tr>\n      <th>85</th>\n      <td>0.092685</td>\n      <td>0.011921</td>\n      <td>0.015999</td>\n      <td>0.000816</td>\n      <td>5</td>\n      <td>5</td>\n      <td>4</td>\n      <td>10</td>\n      <td>{'clf__max_depth': 5, 'clf__min_samples_leaf':...</td>\n      <td>0.813776</td>\n      <td>0.868181</td>\n      <td>0.850230</td>\n      <td>0.844063</td>\n      <td>0.022635</td>\n      <td>870</td>\n    </tr>\n    <tr>\n      <th>75</th>\n      <td>0.083334</td>\n      <td>0.004189</td>\n      <td>0.016000</td>\n      <td>0.000816</td>\n      <td>5</td>\n      <td>5</td>\n      <td>2</td>\n      <td>10</td>\n      <td>{'clf__max_depth': 5, 'clf__min_samples_leaf':...</td>\n      <td>0.813776</td>\n      <td>0.868181</td>\n      <td>0.850230</td>\n      <td>0.844063</td>\n      <td>0.022635</td>\n      <td>870</td>\n    </tr>\n    <tr>\n      <th>545</th>\n      <td>0.099333</td>\n      <td>0.017328</td>\n      <td>0.017000</td>\n      <td>0.001633</td>\n      <td>8</td>\n      <td>2</td>\n      <td>6</td>\n      <td>10</td>\n      <td>{'clf__max_depth': 8, 'clf__min_samples_leaf':...</td>\n      <td>0.805627</td>\n      <td>0.860824</td>\n      <td>0.856797</td>\n      <td>0.841083</td>\n      <td>0.025124</td>\n      <td>875</td>\n    </tr>\n  </tbody>\n</table>\n<p>875 rows × 15 columns</p>\n</div>"
     },
     "metadata": {},
     "output_type": "display_data"
    },
    {
     "name": "stdout",
     "output_type": "stream",
     "text": [
      "параметры: {'clf__max_depth': 7, 'clf__min_samples_leaf': 5, 'clf__min_samples_split': 3, 'clf__n_estimators': 15} \n",
      "roc-auc: 0.8678\n"
     ]
    }
   ],
   "source": [
    "display(pd.DataFrame(rf_gs.cv_results_).sort_values('rank_test_score'))\n",
    "print(f'параметры: {pd.DataFrame(rf_gs.cv_results_).sort_values(\"rank_test_score\").head(1)[\"params\"].values[0]}',\n",
    "      f'\\nroc-auc: {pd.DataFrame(rf_gs.cv_results_).sort_values(\"rank_test_score\").head(1)[\"mean_test_score\"].values[0]:.4f}')"
   ],
   "metadata": {
    "collapsed": false,
    "pycharm": {
     "name": "#%%\n"
    }
   }
  },
  {
   "cell_type": "markdown",
   "source": [
    "### ExtraTreesClassifier"
   ],
   "metadata": {
    "collapsed": false,
    "pycharm": {
     "name": "#%% md\n"
    }
   }
  },
  {
   "cell_type": "code",
   "execution_count": 116,
   "outputs": [
    {
     "name": "stdout",
     "output_type": "stream",
     "text": [
      "CPU times: total: 12.9 s\n",
      "Wall time: 35.3 s\n"
     ]
    }
   ],
   "source": [
    "%%time\n",
    "num_ct = Pipeline(steps=[('imputer', IterativeImputer(random_state=123))])\n",
    "\n",
    "cat_ct = Pipeline(steps=[('imputer', SimpleImputer(strategy='most_frequent')),\n",
    "                         ('encoder', OneHotEncoder(drop='first'))])\n",
    "\n",
    "transformer = ColumnTransformer(transformers=[('nums', num_ct, selector(dtype_exclude=\"object\")),\n",
    "                                              ('cats', cat_ct, selector(dtype_include=\"object\"))],\n",
    "                                                remainder='passthrough')\n",
    "\n",
    "et_pipe = Pipeline(steps=[('transformer', transformer), ('clf', ExtraTreesClassifier(random_state=123))])\n",
    "\n",
    "et_params = {'clf__n_estimators': [10, 15, 20, 25, 30],\n",
    "             'clf__max_depth': [5, 6, 7, 8, 9],\n",
    "             'clf__min_samples_split': [2, 3, 4, 5, 6],\n",
    "             'clf__min_samples_leaf': [2, 3, 4, 5, 6, 7, 8]}\n",
    "\n",
    "et_gs = GridSearchCV(et_pipe, param_grid=et_params, scoring='roc_auc', cv=3, n_jobs=-1)\n",
    "et_gs.fit(x, y);"
   ],
   "metadata": {
    "collapsed": false,
    "pycharm": {
     "name": "#%%\n"
    }
   }
  },
  {
   "cell_type": "code",
   "execution_count": 117,
   "outputs": [
    {
     "data": {
      "text/plain": "     mean_fit_time  std_fit_time  mean_score_time  std_score_time  \\\n194       0.125000      0.003741         0.021666        0.000472   \n198       0.110668      0.001248         0.020000        0.000817   \n199       0.129667      0.009462         0.020333        0.000473   \n193       0.119332      0.006549         0.020001        0.000817   \n192       0.116000      0.019200         0.019333        0.000944   \n..             ...           ...              ...             ...   \n150       0.079999      0.005656         0.015668        0.000472   \n155       0.075335      0.003302         0.015999        0.000814   \n160       0.074334      0.002055         0.016667        0.001700   \n165       0.075333      0.000472         0.016666        0.000471   \n170       0.075000      0.000817         0.016666        0.000473   \n\n    param_clf__max_depth param_clf__min_samples_leaf  \\\n194                    6                           2   \n198                    6                           2   \n199                    6                           2   \n193                    6                           2   \n192                    6                           2   \n..                   ...                         ...   \n150                    5                           8   \n155                    5                           8   \n160                    5                           8   \n165                    5                           8   \n170                    5                           8   \n\n    param_clf__min_samples_split param_clf__n_estimators  \\\n194                            5                      30   \n198                            6                      25   \n199                            6                      30   \n193                            5                      25   \n192                            5                      20   \n..                           ...                     ...   \n150                            2                      10   \n155                            3                      10   \n160                            4                      10   \n165                            5                      10   \n170                            6                      10   \n\n                                                params  split0_test_score  \\\n194  {'clf__max_depth': 6, 'clf__min_samples_leaf':...           0.839037   \n198  {'clf__max_depth': 6, 'clf__min_samples_leaf':...           0.842417   \n199  {'clf__max_depth': 6, 'clf__min_samples_leaf':...           0.840835   \n193  {'clf__max_depth': 6, 'clf__min_samples_leaf':...           0.840236   \n192  {'clf__max_depth': 6, 'clf__min_samples_leaf':...           0.839517   \n..                                                 ...                ...   \n150  {'clf__max_depth': 5, 'clf__min_samples_leaf':...           0.804669   \n155  {'clf__max_depth': 5, 'clf__min_samples_leaf':...           0.804669   \n160  {'clf__max_depth': 5, 'clf__min_samples_leaf':...           0.804669   \n165  {'clf__max_depth': 5, 'clf__min_samples_leaf':...           0.804669   \n170  {'clf__max_depth': 5, 'clf__min_samples_leaf':...           0.804669   \n\n     split1_test_score  split2_test_score  mean_test_score  std_test_score  \\\n194           0.881172           0.872783         0.864331        0.018210   \n198           0.876234           0.873862         0.864171        0.015413   \n199           0.879662           0.870794         0.863763        0.016612   \n193           0.877792           0.872256         0.863428        0.016554   \n192           0.880189           0.870051         0.863252        0.017286   \n..                 ...                ...              ...             ...   \n150           0.855047           0.854928         0.838215        0.023721   \n155           0.855047           0.854928         0.838215        0.023721   \n160           0.855047           0.854928         0.838215        0.023721   \n165           0.855047           0.854928         0.838215        0.023721   \n170           0.855047           0.854928         0.838215        0.023721   \n\n     rank_test_score  \n194                1  \n198                2  \n199                3  \n193                4  \n192                5  \n..               ...  \n150              871  \n155              871  \n160              871  \n165              871  \n170              871  \n\n[875 rows x 15 columns]",
      "text/html": "<div>\n<style scoped>\n    .dataframe tbody tr th:only-of-type {\n        vertical-align: middle;\n    }\n\n    .dataframe tbody tr th {\n        vertical-align: top;\n    }\n\n    .dataframe thead th {\n        text-align: right;\n    }\n</style>\n<table border=\"1\" class=\"dataframe\">\n  <thead>\n    <tr style=\"text-align: right;\">\n      <th></th>\n      <th>mean_fit_time</th>\n      <th>std_fit_time</th>\n      <th>mean_score_time</th>\n      <th>std_score_time</th>\n      <th>param_clf__max_depth</th>\n      <th>param_clf__min_samples_leaf</th>\n      <th>param_clf__min_samples_split</th>\n      <th>param_clf__n_estimators</th>\n      <th>params</th>\n      <th>split0_test_score</th>\n      <th>split1_test_score</th>\n      <th>split2_test_score</th>\n      <th>mean_test_score</th>\n      <th>std_test_score</th>\n      <th>rank_test_score</th>\n    </tr>\n  </thead>\n  <tbody>\n    <tr>\n      <th>194</th>\n      <td>0.125000</td>\n      <td>0.003741</td>\n      <td>0.021666</td>\n      <td>0.000472</td>\n      <td>6</td>\n      <td>2</td>\n      <td>5</td>\n      <td>30</td>\n      <td>{'clf__max_depth': 6, 'clf__min_samples_leaf':...</td>\n      <td>0.839037</td>\n      <td>0.881172</td>\n      <td>0.872783</td>\n      <td>0.864331</td>\n      <td>0.018210</td>\n      <td>1</td>\n    </tr>\n    <tr>\n      <th>198</th>\n      <td>0.110668</td>\n      <td>0.001248</td>\n      <td>0.020000</td>\n      <td>0.000817</td>\n      <td>6</td>\n      <td>2</td>\n      <td>6</td>\n      <td>25</td>\n      <td>{'clf__max_depth': 6, 'clf__min_samples_leaf':...</td>\n      <td>0.842417</td>\n      <td>0.876234</td>\n      <td>0.873862</td>\n      <td>0.864171</td>\n      <td>0.015413</td>\n      <td>2</td>\n    </tr>\n    <tr>\n      <th>199</th>\n      <td>0.129667</td>\n      <td>0.009462</td>\n      <td>0.020333</td>\n      <td>0.000473</td>\n      <td>6</td>\n      <td>2</td>\n      <td>6</td>\n      <td>30</td>\n      <td>{'clf__max_depth': 6, 'clf__min_samples_leaf':...</td>\n      <td>0.840835</td>\n      <td>0.879662</td>\n      <td>0.870794</td>\n      <td>0.863763</td>\n      <td>0.016612</td>\n      <td>3</td>\n    </tr>\n    <tr>\n      <th>193</th>\n      <td>0.119332</td>\n      <td>0.006549</td>\n      <td>0.020001</td>\n      <td>0.000817</td>\n      <td>6</td>\n      <td>2</td>\n      <td>5</td>\n      <td>25</td>\n      <td>{'clf__max_depth': 6, 'clf__min_samples_leaf':...</td>\n      <td>0.840236</td>\n      <td>0.877792</td>\n      <td>0.872256</td>\n      <td>0.863428</td>\n      <td>0.016554</td>\n      <td>4</td>\n    </tr>\n    <tr>\n      <th>192</th>\n      <td>0.116000</td>\n      <td>0.019200</td>\n      <td>0.019333</td>\n      <td>0.000944</td>\n      <td>6</td>\n      <td>2</td>\n      <td>5</td>\n      <td>20</td>\n      <td>{'clf__max_depth': 6, 'clf__min_samples_leaf':...</td>\n      <td>0.839517</td>\n      <td>0.880189</td>\n      <td>0.870051</td>\n      <td>0.863252</td>\n      <td>0.017286</td>\n      <td>5</td>\n    </tr>\n    <tr>\n      <th>...</th>\n      <td>...</td>\n      <td>...</td>\n      <td>...</td>\n      <td>...</td>\n      <td>...</td>\n      <td>...</td>\n      <td>...</td>\n      <td>...</td>\n      <td>...</td>\n      <td>...</td>\n      <td>...</td>\n      <td>...</td>\n      <td>...</td>\n      <td>...</td>\n      <td>...</td>\n    </tr>\n    <tr>\n      <th>150</th>\n      <td>0.079999</td>\n      <td>0.005656</td>\n      <td>0.015668</td>\n      <td>0.000472</td>\n      <td>5</td>\n      <td>8</td>\n      <td>2</td>\n      <td>10</td>\n      <td>{'clf__max_depth': 5, 'clf__min_samples_leaf':...</td>\n      <td>0.804669</td>\n      <td>0.855047</td>\n      <td>0.854928</td>\n      <td>0.838215</td>\n      <td>0.023721</td>\n      <td>871</td>\n    </tr>\n    <tr>\n      <th>155</th>\n      <td>0.075335</td>\n      <td>0.003302</td>\n      <td>0.015999</td>\n      <td>0.000814</td>\n      <td>5</td>\n      <td>8</td>\n      <td>3</td>\n      <td>10</td>\n      <td>{'clf__max_depth': 5, 'clf__min_samples_leaf':...</td>\n      <td>0.804669</td>\n      <td>0.855047</td>\n      <td>0.854928</td>\n      <td>0.838215</td>\n      <td>0.023721</td>\n      <td>871</td>\n    </tr>\n    <tr>\n      <th>160</th>\n      <td>0.074334</td>\n      <td>0.002055</td>\n      <td>0.016667</td>\n      <td>0.001700</td>\n      <td>5</td>\n      <td>8</td>\n      <td>4</td>\n      <td>10</td>\n      <td>{'clf__max_depth': 5, 'clf__min_samples_leaf':...</td>\n      <td>0.804669</td>\n      <td>0.855047</td>\n      <td>0.854928</td>\n      <td>0.838215</td>\n      <td>0.023721</td>\n      <td>871</td>\n    </tr>\n    <tr>\n      <th>165</th>\n      <td>0.075333</td>\n      <td>0.000472</td>\n      <td>0.016666</td>\n      <td>0.000471</td>\n      <td>5</td>\n      <td>8</td>\n      <td>5</td>\n      <td>10</td>\n      <td>{'clf__max_depth': 5, 'clf__min_samples_leaf':...</td>\n      <td>0.804669</td>\n      <td>0.855047</td>\n      <td>0.854928</td>\n      <td>0.838215</td>\n      <td>0.023721</td>\n      <td>871</td>\n    </tr>\n    <tr>\n      <th>170</th>\n      <td>0.075000</td>\n      <td>0.000817</td>\n      <td>0.016666</td>\n      <td>0.000473</td>\n      <td>5</td>\n      <td>8</td>\n      <td>6</td>\n      <td>10</td>\n      <td>{'clf__max_depth': 5, 'clf__min_samples_leaf':...</td>\n      <td>0.804669</td>\n      <td>0.855047</td>\n      <td>0.854928</td>\n      <td>0.838215</td>\n      <td>0.023721</td>\n      <td>871</td>\n    </tr>\n  </tbody>\n</table>\n<p>875 rows × 15 columns</p>\n</div>"
     },
     "metadata": {},
     "output_type": "display_data"
    },
    {
     "name": "stdout",
     "output_type": "stream",
     "text": [
      "параметры: {'clf__max_depth': 6, 'clf__min_samples_leaf': 2, 'clf__min_samples_split': 5, 'clf__n_estimators': 30} \n",
      "roc-auc: 0.8643\n"
     ]
    }
   ],
   "source": [
    "display(pd.DataFrame(et_gs.cv_results_).sort_values('rank_test_score'))\n",
    "print(f'параметры: {pd.DataFrame(et_gs.cv_results_).sort_values(\"rank_test_score\").head(1)[\"params\"].values[0]}',\n",
    "      f'\\nroc-auc: {pd.DataFrame(et_gs.cv_results_).sort_values(\"rank_test_score\").head(1)[\"mean_test_score\"].values[0]:.4f}')"
   ],
   "metadata": {
    "collapsed": false,
    "pycharm": {
     "name": "#%%\n"
    }
   }
  },
  {
   "cell_type": "markdown",
   "source": [
    "### RandomTreesEmbedding"
   ],
   "metadata": {
    "collapsed": false,
    "pycharm": {
     "name": "#%% md\n"
    }
   }
  },
  {
   "cell_type": "code",
   "execution_count": 121,
   "outputs": [
    {
     "name": "stdout",
     "output_type": "stream",
     "text": [
      "CPU times: total: 8.84 s\n",
      "Wall time: 26.5 s\n"
     ]
    },
    {
     "name": "stderr",
     "output_type": "stream",
     "text": [
      "C:\\work_and_fun\\partisans\\PP\\mistakes-and-regrets\\lib\\site-packages\\sklearn\\model_selection\\_search.py:952: UserWarning: One or more of the test scores are non-finite: [nan nan nan nan nan nan nan nan nan nan nan nan nan nan nan nan nan nan\n",
      " nan nan nan nan nan nan nan nan nan nan nan nan nan nan nan nan nan nan\n",
      " nan nan nan nan nan nan nan nan nan nan nan nan nan nan nan nan nan nan\n",
      " nan nan nan nan nan nan nan nan nan nan nan nan nan nan nan nan nan nan\n",
      " nan nan nan nan nan nan nan nan nan nan nan nan nan nan nan nan nan nan\n",
      " nan nan nan nan nan nan nan nan nan nan nan nan nan nan nan nan nan nan\n",
      " nan nan nan nan nan nan nan nan nan nan nan nan nan nan nan nan nan nan\n",
      " nan nan nan nan nan nan nan nan nan nan nan nan nan nan nan nan nan nan\n",
      " nan nan nan nan nan nan nan nan nan nan nan nan nan nan nan nan nan nan\n",
      " nan nan nan nan nan nan nan nan nan nan nan nan nan nan nan nan nan nan\n",
      " nan nan nan nan nan nan nan nan nan nan nan nan nan nan nan nan nan nan\n",
      " nan nan nan nan nan nan nan nan nan nan nan nan nan nan nan nan nan nan\n",
      " nan nan nan nan nan nan nan nan nan nan nan nan nan nan nan nan nan nan\n",
      " nan nan nan nan nan nan nan nan nan nan nan nan nan nan nan nan nan nan\n",
      " nan nan nan nan nan nan nan nan nan nan nan nan nan nan nan nan nan nan\n",
      " nan nan nan nan nan nan nan nan nan nan nan nan nan nan nan nan nan nan\n",
      " nan nan nan nan nan nan nan nan nan nan nan nan nan nan nan nan nan nan\n",
      " nan nan nan nan nan nan nan nan nan nan nan nan nan nan nan nan nan nan\n",
      " nan nan nan nan nan nan nan nan nan nan nan nan nan nan nan nan nan nan\n",
      " nan nan nan nan nan nan nan nan nan nan nan nan nan nan nan nan nan nan\n",
      " nan nan nan nan nan nan nan nan nan nan nan nan nan nan nan nan nan nan\n",
      " nan nan nan nan nan nan nan nan nan nan nan nan nan nan nan nan nan nan\n",
      " nan nan nan nan nan nan nan nan nan nan nan nan nan nan nan nan nan nan\n",
      " nan nan nan nan nan nan nan nan nan nan nan nan nan nan nan nan nan nan\n",
      " nan nan nan nan nan nan nan nan nan nan nan nan nan nan nan nan nan nan\n",
      " nan nan nan nan nan nan nan nan nan nan nan nan nan nan nan nan nan nan\n",
      " nan nan nan nan nan nan nan nan nan nan nan nan nan nan nan nan nan nan\n",
      " nan nan nan nan nan nan nan nan nan nan nan nan nan nan nan nan nan nan\n",
      " nan nan nan nan nan nan nan nan nan nan nan nan nan nan nan nan nan nan\n",
      " nan nan nan nan nan nan nan nan nan nan nan nan nan nan nan nan nan nan\n",
      " nan nan nan nan nan nan nan nan nan nan nan nan nan nan nan nan nan nan\n",
      " nan nan nan nan nan nan nan nan nan nan nan nan nan nan nan nan nan nan\n",
      " nan nan nan nan nan nan nan nan nan nan nan nan nan nan nan nan nan nan\n",
      " nan nan nan nan nan nan nan nan nan nan nan nan nan nan nan nan nan nan\n",
      " nan nan nan nan nan nan nan nan nan nan nan nan nan nan nan nan nan nan\n",
      " nan nan nan nan nan nan nan nan nan nan nan nan nan nan nan nan nan nan\n",
      " nan nan nan nan nan nan nan nan nan nan nan nan nan nan nan nan nan nan\n",
      " nan nan nan nan nan nan nan nan nan nan nan nan nan nan nan nan nan nan\n",
      " nan nan nan nan nan nan nan nan nan nan nan nan nan nan nan nan nan nan\n",
      " nan nan nan nan nan nan nan nan nan nan nan nan nan nan nan nan nan nan\n",
      " nan nan nan nan nan nan nan nan nan nan nan nan nan nan nan nan nan nan\n",
      " nan nan nan nan nan nan nan nan nan nan nan nan nan nan nan nan nan nan\n",
      " nan nan nan nan nan nan nan nan nan nan nan nan nan nan nan nan nan nan\n",
      " nan nan nan nan nan nan nan nan nan nan nan nan nan nan nan nan nan nan\n",
      " nan nan nan nan nan nan nan nan nan nan nan nan nan nan nan nan nan nan\n",
      " nan nan nan nan nan nan nan nan nan nan nan nan nan nan nan nan nan nan\n",
      " nan nan nan nan nan nan nan nan nan nan nan nan nan nan nan nan nan nan\n",
      " nan nan nan nan nan nan nan nan nan nan nan nan nan nan nan nan nan nan\n",
      " nan nan nan nan nan nan nan nan nan nan nan]\n",
      "  warnings.warn(\n"
     ]
    }
   ],
   "source": [
    "%%time\n",
    "num_ct = Pipeline(steps=[('imputer', IterativeImputer(random_state=123))])\n",
    "\n",
    "cat_ct = Pipeline(steps=[('imputer', SimpleImputer(strategy='most_frequent')),\n",
    "                         ('encoder', OneHotEncoder(drop='first'))])\n",
    "\n",
    "transformer = ColumnTransformer(transformers=[('nums', num_ct, selector(dtype_exclude=\"object\")),\n",
    "                                              ('cats', cat_ct, selector(dtype_include=\"object\"))],\n",
    "                                                remainder='passthrough')\n",
    "\n",
    "rte_pipe = Pipeline(steps=[('transformer', transformer), ('clf', RandomTreesEmbedding(random_state=123))])\n",
    "\n",
    "rte_params = {'clf__n_estimators': [10, 15, 20, 25, 30],\n",
    "             'clf__max_depth': [5, 6, 7, 8, 9],\n",
    "             'clf__min_samples_split': [2, 3, 4, 5, 6],\n",
    "             'clf__min_samples_leaf': [2, 3, 4, 5, 6, 7, 8]}\n",
    "\n",
    "rte_gs = GridSearchCV(rte_pipe, param_grid=rte_params, scoring='roc_auc', cv=3, n_jobs=-1)\n",
    "rte_gs.fit(x, y);"
   ],
   "metadata": {
    "collapsed": false,
    "pycharm": {
     "name": "#%%\n"
    }
   }
  },
  {
   "cell_type": "code",
   "execution_count": 122,
   "outputs": [
    {
     "data": {
      "text/plain": "     mean_fit_time  std_fit_time  mean_score_time  std_score_time  \\\n0         0.077665      0.008181         0.002000    9.989584e-07   \n576       0.090667      0.002054         0.001333    4.708088e-04   \n577       0.107000      0.006481         0.001000    3.371748e-07   \n578       0.116667      0.006129         0.001666    4.708084e-04   \n579       0.121668      0.004496         0.001667    4.732256e-04   \n..             ...           ...              ...             ...   \n296       0.115333      0.035121         0.001666    4.703027e-04   \n297       0.118333      0.025617         0.001000    5.947204e-07   \n298       0.118666      0.012365         0.001001    6.743496e-07   \n287       0.101333      0.002055         0.002000    8.920806e-07   \n874       0.087665      0.005907         0.000667    4.714827e-04   \n\n    param_clf__max_depth param_clf__min_samples_leaf  \\\n0                      5                           2   \n576                    8                           4   \n577                    8                           4   \n578                    8                           4   \n579                    8                           4   \n..                   ...                         ...   \n296                    6                           6   \n297                    6                           6   \n298                    6                           6   \n287                    6                           6   \n874                    9                           8   \n\n    param_clf__min_samples_split param_clf__n_estimators  \\\n0                              2                      10   \n576                            2                      15   \n577                            2                      20   \n578                            2                      25   \n579                            2                      30   \n..                           ...                     ...   \n296                            6                      15   \n297                            6                      20   \n298                            6                      25   \n287                            4                      20   \n874                            6                      30   \n\n                                                params  split0_test_score  \\\n0    {'clf__max_depth': 5, 'clf__min_samples_leaf':...                NaN   \n576  {'clf__max_depth': 8, 'clf__min_samples_leaf':...                NaN   \n577  {'clf__max_depth': 8, 'clf__min_samples_leaf':...                NaN   \n578  {'clf__max_depth': 8, 'clf__min_samples_leaf':...                NaN   \n579  {'clf__max_depth': 8, 'clf__min_samples_leaf':...                NaN   \n..                                                 ...                ...   \n296  {'clf__max_depth': 6, 'clf__min_samples_leaf':...                NaN   \n297  {'clf__max_depth': 6, 'clf__min_samples_leaf':...                NaN   \n298  {'clf__max_depth': 6, 'clf__min_samples_leaf':...                NaN   \n287  {'clf__max_depth': 6, 'clf__min_samples_leaf':...                NaN   \n874  {'clf__max_depth': 9, 'clf__min_samples_leaf':...                NaN   \n\n     split1_test_score  split2_test_score  mean_test_score  std_test_score  \\\n0                  NaN                NaN              NaN             NaN   \n576                NaN                NaN              NaN             NaN   \n577                NaN                NaN              NaN             NaN   \n578                NaN                NaN              NaN             NaN   \n579                NaN                NaN              NaN             NaN   \n..                 ...                ...              ...             ...   \n296                NaN                NaN              NaN             NaN   \n297                NaN                NaN              NaN             NaN   \n298                NaN                NaN              NaN             NaN   \n287                NaN                NaN              NaN             NaN   \n874                NaN                NaN              NaN             NaN   \n\n     rank_test_score  \n0                  1  \n576                1  \n577                1  \n578                1  \n579                1  \n..               ...  \n296                1  \n297                1  \n298                1  \n287                1  \n874                1  \n\n[875 rows x 15 columns]",
      "text/html": "<div>\n<style scoped>\n    .dataframe tbody tr th:only-of-type {\n        vertical-align: middle;\n    }\n\n    .dataframe tbody tr th {\n        vertical-align: top;\n    }\n\n    .dataframe thead th {\n        text-align: right;\n    }\n</style>\n<table border=\"1\" class=\"dataframe\">\n  <thead>\n    <tr style=\"text-align: right;\">\n      <th></th>\n      <th>mean_fit_time</th>\n      <th>std_fit_time</th>\n      <th>mean_score_time</th>\n      <th>std_score_time</th>\n      <th>param_clf__max_depth</th>\n      <th>param_clf__min_samples_leaf</th>\n      <th>param_clf__min_samples_split</th>\n      <th>param_clf__n_estimators</th>\n      <th>params</th>\n      <th>split0_test_score</th>\n      <th>split1_test_score</th>\n      <th>split2_test_score</th>\n      <th>mean_test_score</th>\n      <th>std_test_score</th>\n      <th>rank_test_score</th>\n    </tr>\n  </thead>\n  <tbody>\n    <tr>\n      <th>0</th>\n      <td>0.077665</td>\n      <td>0.008181</td>\n      <td>0.002000</td>\n      <td>9.989584e-07</td>\n      <td>5</td>\n      <td>2</td>\n      <td>2</td>\n      <td>10</td>\n      <td>{'clf__max_depth': 5, 'clf__min_samples_leaf':...</td>\n      <td>NaN</td>\n      <td>NaN</td>\n      <td>NaN</td>\n      <td>NaN</td>\n      <td>NaN</td>\n      <td>1</td>\n    </tr>\n    <tr>\n      <th>576</th>\n      <td>0.090667</td>\n      <td>0.002054</td>\n      <td>0.001333</td>\n      <td>4.708088e-04</td>\n      <td>8</td>\n      <td>4</td>\n      <td>2</td>\n      <td>15</td>\n      <td>{'clf__max_depth': 8, 'clf__min_samples_leaf':...</td>\n      <td>NaN</td>\n      <td>NaN</td>\n      <td>NaN</td>\n      <td>NaN</td>\n      <td>NaN</td>\n      <td>1</td>\n    </tr>\n    <tr>\n      <th>577</th>\n      <td>0.107000</td>\n      <td>0.006481</td>\n      <td>0.001000</td>\n      <td>3.371748e-07</td>\n      <td>8</td>\n      <td>4</td>\n      <td>2</td>\n      <td>20</td>\n      <td>{'clf__max_depth': 8, 'clf__min_samples_leaf':...</td>\n      <td>NaN</td>\n      <td>NaN</td>\n      <td>NaN</td>\n      <td>NaN</td>\n      <td>NaN</td>\n      <td>1</td>\n    </tr>\n    <tr>\n      <th>578</th>\n      <td>0.116667</td>\n      <td>0.006129</td>\n      <td>0.001666</td>\n      <td>4.708084e-04</td>\n      <td>8</td>\n      <td>4</td>\n      <td>2</td>\n      <td>25</td>\n      <td>{'clf__max_depth': 8, 'clf__min_samples_leaf':...</td>\n      <td>NaN</td>\n      <td>NaN</td>\n      <td>NaN</td>\n      <td>NaN</td>\n      <td>NaN</td>\n      <td>1</td>\n    </tr>\n    <tr>\n      <th>579</th>\n      <td>0.121668</td>\n      <td>0.004496</td>\n      <td>0.001667</td>\n      <td>4.732256e-04</td>\n      <td>8</td>\n      <td>4</td>\n      <td>2</td>\n      <td>30</td>\n      <td>{'clf__max_depth': 8, 'clf__min_samples_leaf':...</td>\n      <td>NaN</td>\n      <td>NaN</td>\n      <td>NaN</td>\n      <td>NaN</td>\n      <td>NaN</td>\n      <td>1</td>\n    </tr>\n    <tr>\n      <th>...</th>\n      <td>...</td>\n      <td>...</td>\n      <td>...</td>\n      <td>...</td>\n      <td>...</td>\n      <td>...</td>\n      <td>...</td>\n      <td>...</td>\n      <td>...</td>\n      <td>...</td>\n      <td>...</td>\n      <td>...</td>\n      <td>...</td>\n      <td>...</td>\n      <td>...</td>\n    </tr>\n    <tr>\n      <th>296</th>\n      <td>0.115333</td>\n      <td>0.035121</td>\n      <td>0.001666</td>\n      <td>4.703027e-04</td>\n      <td>6</td>\n      <td>6</td>\n      <td>6</td>\n      <td>15</td>\n      <td>{'clf__max_depth': 6, 'clf__min_samples_leaf':...</td>\n      <td>NaN</td>\n      <td>NaN</td>\n      <td>NaN</td>\n      <td>NaN</td>\n      <td>NaN</td>\n      <td>1</td>\n    </tr>\n    <tr>\n      <th>297</th>\n      <td>0.118333</td>\n      <td>0.025617</td>\n      <td>0.001000</td>\n      <td>5.947204e-07</td>\n      <td>6</td>\n      <td>6</td>\n      <td>6</td>\n      <td>20</td>\n      <td>{'clf__max_depth': 6, 'clf__min_samples_leaf':...</td>\n      <td>NaN</td>\n      <td>NaN</td>\n      <td>NaN</td>\n      <td>NaN</td>\n      <td>NaN</td>\n      <td>1</td>\n    </tr>\n    <tr>\n      <th>298</th>\n      <td>0.118666</td>\n      <td>0.012365</td>\n      <td>0.001001</td>\n      <td>6.743496e-07</td>\n      <td>6</td>\n      <td>6</td>\n      <td>6</td>\n      <td>25</td>\n      <td>{'clf__max_depth': 6, 'clf__min_samples_leaf':...</td>\n      <td>NaN</td>\n      <td>NaN</td>\n      <td>NaN</td>\n      <td>NaN</td>\n      <td>NaN</td>\n      <td>1</td>\n    </tr>\n    <tr>\n      <th>287</th>\n      <td>0.101333</td>\n      <td>0.002055</td>\n      <td>0.002000</td>\n      <td>8.920806e-07</td>\n      <td>6</td>\n      <td>6</td>\n      <td>4</td>\n      <td>20</td>\n      <td>{'clf__max_depth': 6, 'clf__min_samples_leaf':...</td>\n      <td>NaN</td>\n      <td>NaN</td>\n      <td>NaN</td>\n      <td>NaN</td>\n      <td>NaN</td>\n      <td>1</td>\n    </tr>\n    <tr>\n      <th>874</th>\n      <td>0.087665</td>\n      <td>0.005907</td>\n      <td>0.000667</td>\n      <td>4.714827e-04</td>\n      <td>9</td>\n      <td>8</td>\n      <td>6</td>\n      <td>30</td>\n      <td>{'clf__max_depth': 9, 'clf__min_samples_leaf':...</td>\n      <td>NaN</td>\n      <td>NaN</td>\n      <td>NaN</td>\n      <td>NaN</td>\n      <td>NaN</td>\n      <td>1</td>\n    </tr>\n  </tbody>\n</table>\n<p>875 rows × 15 columns</p>\n</div>"
     },
     "metadata": {},
     "output_type": "display_data"
    },
    {
     "name": "stdout",
     "output_type": "stream",
     "text": [
      "параметры: {'clf__max_depth': 5, 'clf__min_samples_leaf': 2, 'clf__min_samples_split': 2, 'clf__n_estimators': 10} \n",
      "roc-auc: nan\n"
     ]
    }
   ],
   "source": [
    "display(pd.DataFrame(rte_gs.cv_results_).sort_values('rank_test_score'))\n",
    "print(f'параметры: {pd.DataFrame(rte_gs.cv_results_).sort_values(\"rank_test_score\").head(1)[\"params\"].values[0]}',\n",
    "      f'\\nroc-auc: {pd.DataFrame(rte_gs.cv_results_).sort_values(\"rank_test_score\").head(1)[\"mean_test_score\"].values[0]:.4f}')"
   ],
   "metadata": {
    "collapsed": false,
    "pycharm": {
     "name": "#%%\n"
    }
   }
  },
  {
   "cell_type": "markdown",
   "source": [
    "## Ансамбли"
   ],
   "metadata": {
    "collapsed": false,
    "pycharm": {
     "name": "#%% md\n"
    }
   }
  },
  {
   "cell_type": "markdown",
   "source": [
    "### BaggingClassifier"
   ],
   "metadata": {
    "collapsed": false,
    "pycharm": {
     "name": "#%% md\n"
    }
   }
  },
  {
   "cell_type": "code",
   "execution_count": 132,
   "outputs": [
    {
     "ename": "ValueError",
     "evalue": "make_column_selector can only be applied to pandas dataframes",
     "output_type": "error",
     "traceback": [
      "\u001B[1;31m---------------------------------------------------------------------------\u001B[0m",
      "\u001B[1;31mValueError\u001B[0m                                Traceback (most recent call last)",
      "Cell \u001B[1;32mIn[132], line 3\u001B[0m\n\u001B[0;32m      1\u001B[0m bc \u001B[38;5;241m=\u001B[39m BaggingClassifier(estimator\u001B[38;5;241m=\u001B[39mlr_pipe, n_estimators\u001B[38;5;241m=\u001B[39m\u001B[38;5;241m10\u001B[39m, random_state\u001B[38;5;241m=\u001B[39m\u001B[38;5;241m123\u001B[39m)\n\u001B[0;32m      2\u001B[0m \u001B[38;5;66;03m# cross_val_score(bc, x, y, scoring='roc_auc', n_jobs=-1).mean()\u001B[39;00m\n\u001B[1;32m----> 3\u001B[0m \u001B[43mbc\u001B[49m\u001B[38;5;241;43m.\u001B[39;49m\u001B[43mfit\u001B[49m\u001B[43m(\u001B[49m\u001B[43mx\u001B[49m\u001B[43m,\u001B[49m\u001B[43m \u001B[49m\u001B[43my\u001B[49m\u001B[43m)\u001B[49m\n",
      "File \u001B[1;32mC:\\work_and_fun\\partisans\\PP\\mistakes-and-regrets\\lib\\site-packages\\sklearn\\ensemble\\_bagging.py:337\u001B[0m, in \u001B[0;36mBaseBagging.fit\u001B[1;34m(self, X, y, sample_weight)\u001B[0m\n\u001B[0;32m    328\u001B[0m \u001B[38;5;66;03m# Convert data (X is required to be 2d and indexable)\u001B[39;00m\n\u001B[0;32m    329\u001B[0m X, y \u001B[38;5;241m=\u001B[39m \u001B[38;5;28mself\u001B[39m\u001B[38;5;241m.\u001B[39m_validate_data(\n\u001B[0;32m    330\u001B[0m     X,\n\u001B[0;32m    331\u001B[0m     y,\n\u001B[1;32m   (...)\u001B[0m\n\u001B[0;32m    335\u001B[0m     multi_output\u001B[38;5;241m=\u001B[39m\u001B[38;5;28;01mTrue\u001B[39;00m,\n\u001B[0;32m    336\u001B[0m )\n\u001B[1;32m--> 337\u001B[0m \u001B[38;5;28;01mreturn\u001B[39;00m \u001B[38;5;28;43mself\u001B[39;49m\u001B[38;5;241;43m.\u001B[39;49m\u001B[43m_fit\u001B[49m\u001B[43m(\u001B[49m\u001B[43mX\u001B[49m\u001B[43m,\u001B[49m\u001B[43m \u001B[49m\u001B[43my\u001B[49m\u001B[43m,\u001B[49m\u001B[43m \u001B[49m\u001B[38;5;28;43mself\u001B[39;49m\u001B[38;5;241;43m.\u001B[39;49m\u001B[43mmax_samples\u001B[49m\u001B[43m,\u001B[49m\u001B[43m \u001B[49m\u001B[43msample_weight\u001B[49m\u001B[38;5;241;43m=\u001B[39;49m\u001B[43msample_weight\u001B[49m\u001B[43m)\u001B[49m\n",
      "File \u001B[1;32mC:\\work_and_fun\\partisans\\PP\\mistakes-and-regrets\\lib\\site-packages\\sklearn\\ensemble\\_bagging.py:472\u001B[0m, in \u001B[0;36mBaseBagging._fit\u001B[1;34m(self, X, y, max_samples, max_depth, sample_weight, check_input)\u001B[0m\n\u001B[0;32m    469\u001B[0m seeds \u001B[38;5;241m=\u001B[39m random_state\u001B[38;5;241m.\u001B[39mrandint(MAX_INT, size\u001B[38;5;241m=\u001B[39mn_more_estimators)\n\u001B[0;32m    470\u001B[0m \u001B[38;5;28mself\u001B[39m\u001B[38;5;241m.\u001B[39m_seeds \u001B[38;5;241m=\u001B[39m seeds\n\u001B[1;32m--> 472\u001B[0m all_results \u001B[38;5;241m=\u001B[39m \u001B[43mParallel\u001B[49m\u001B[43m(\u001B[49m\n\u001B[0;32m    473\u001B[0m \u001B[43m    \u001B[49m\u001B[43mn_jobs\u001B[49m\u001B[38;5;241;43m=\u001B[39;49m\u001B[43mn_jobs\u001B[49m\u001B[43m,\u001B[49m\u001B[43m \u001B[49m\u001B[43mverbose\u001B[49m\u001B[38;5;241;43m=\u001B[39;49m\u001B[38;5;28;43mself\u001B[39;49m\u001B[38;5;241;43m.\u001B[39;49m\u001B[43mverbose\u001B[49m\u001B[43m,\u001B[49m\u001B[43m \u001B[49m\u001B[38;5;241;43m*\u001B[39;49m\u001B[38;5;241;43m*\u001B[39;49m\u001B[38;5;28;43mself\u001B[39;49m\u001B[38;5;241;43m.\u001B[39;49m\u001B[43m_parallel_args\u001B[49m\u001B[43m(\u001B[49m\u001B[43m)\u001B[49m\n\u001B[0;32m    474\u001B[0m \u001B[43m\u001B[49m\u001B[43m)\u001B[49m\u001B[43m(\u001B[49m\n\u001B[0;32m    475\u001B[0m \u001B[43m    \u001B[49m\u001B[43mdelayed\u001B[49m\u001B[43m(\u001B[49m\u001B[43m_parallel_build_estimators\u001B[49m\u001B[43m)\u001B[49m\u001B[43m(\u001B[49m\n\u001B[0;32m    476\u001B[0m \u001B[43m        \u001B[49m\u001B[43mn_estimators\u001B[49m\u001B[43m[\u001B[49m\u001B[43mi\u001B[49m\u001B[43m]\u001B[49m\u001B[43m,\u001B[49m\n\u001B[0;32m    477\u001B[0m \u001B[43m        \u001B[49m\u001B[38;5;28;43mself\u001B[39;49m\u001B[43m,\u001B[49m\n\u001B[0;32m    478\u001B[0m \u001B[43m        \u001B[49m\u001B[43mX\u001B[49m\u001B[43m,\u001B[49m\n\u001B[0;32m    479\u001B[0m \u001B[43m        \u001B[49m\u001B[43my\u001B[49m\u001B[43m,\u001B[49m\n\u001B[0;32m    480\u001B[0m \u001B[43m        \u001B[49m\u001B[43msample_weight\u001B[49m\u001B[43m,\u001B[49m\n\u001B[0;32m    481\u001B[0m \u001B[43m        \u001B[49m\u001B[43mseeds\u001B[49m\u001B[43m[\u001B[49m\u001B[43mstarts\u001B[49m\u001B[43m[\u001B[49m\u001B[43mi\u001B[49m\u001B[43m]\u001B[49m\u001B[43m \u001B[49m\u001B[43m:\u001B[49m\u001B[43m \u001B[49m\u001B[43mstarts\u001B[49m\u001B[43m[\u001B[49m\u001B[43mi\u001B[49m\u001B[43m \u001B[49m\u001B[38;5;241;43m+\u001B[39;49m\u001B[43m \u001B[49m\u001B[38;5;241;43m1\u001B[39;49m\u001B[43m]\u001B[49m\u001B[43m]\u001B[49m\u001B[43m,\u001B[49m\n\u001B[0;32m    482\u001B[0m \u001B[43m        \u001B[49m\u001B[43mtotal_n_estimators\u001B[49m\u001B[43m,\u001B[49m\n\u001B[0;32m    483\u001B[0m \u001B[43m        \u001B[49m\u001B[43mverbose\u001B[49m\u001B[38;5;241;43m=\u001B[39;49m\u001B[38;5;28;43mself\u001B[39;49m\u001B[38;5;241;43m.\u001B[39;49m\u001B[43mverbose\u001B[49m\u001B[43m,\u001B[49m\n\u001B[0;32m    484\u001B[0m \u001B[43m        \u001B[49m\u001B[43mcheck_input\u001B[49m\u001B[38;5;241;43m=\u001B[39;49m\u001B[43mcheck_input\u001B[49m\u001B[43m,\u001B[49m\n\u001B[0;32m    485\u001B[0m \u001B[43m    \u001B[49m\u001B[43m)\u001B[49m\n\u001B[0;32m    486\u001B[0m \u001B[43m    \u001B[49m\u001B[38;5;28;43;01mfor\u001B[39;49;00m\u001B[43m \u001B[49m\u001B[43mi\u001B[49m\u001B[43m \u001B[49m\u001B[38;5;129;43;01min\u001B[39;49;00m\u001B[43m \u001B[49m\u001B[38;5;28;43mrange\u001B[39;49m\u001B[43m(\u001B[49m\u001B[43mn_jobs\u001B[49m\u001B[43m)\u001B[49m\n\u001B[0;32m    487\u001B[0m \u001B[43m\u001B[49m\u001B[43m)\u001B[49m\n\u001B[0;32m    489\u001B[0m \u001B[38;5;66;03m# Reduce\u001B[39;00m\n\u001B[0;32m    490\u001B[0m \u001B[38;5;28mself\u001B[39m\u001B[38;5;241m.\u001B[39mestimators_ \u001B[38;5;241m+\u001B[39m\u001B[38;5;241m=\u001B[39m \u001B[38;5;28mlist\u001B[39m(\n\u001B[0;32m    491\u001B[0m     itertools\u001B[38;5;241m.\u001B[39mchain\u001B[38;5;241m.\u001B[39mfrom_iterable(t[\u001B[38;5;241m0\u001B[39m] \u001B[38;5;28;01mfor\u001B[39;00m t \u001B[38;5;129;01min\u001B[39;00m all_results)\n\u001B[0;32m    492\u001B[0m )\n",
      "File \u001B[1;32mC:\\work_and_fun\\partisans\\PP\\mistakes-and-regrets\\lib\\site-packages\\sklearn\\utils\\parallel.py:63\u001B[0m, in \u001B[0;36mParallel.__call__\u001B[1;34m(self, iterable)\u001B[0m\n\u001B[0;32m     58\u001B[0m config \u001B[38;5;241m=\u001B[39m get_config()\n\u001B[0;32m     59\u001B[0m iterable_with_config \u001B[38;5;241m=\u001B[39m (\n\u001B[0;32m     60\u001B[0m     (_with_config(delayed_func, config), args, kwargs)\n\u001B[0;32m     61\u001B[0m     \u001B[38;5;28;01mfor\u001B[39;00m delayed_func, args, kwargs \u001B[38;5;129;01min\u001B[39;00m iterable\n\u001B[0;32m     62\u001B[0m )\n\u001B[1;32m---> 63\u001B[0m \u001B[38;5;28;01mreturn\u001B[39;00m \u001B[38;5;28;43msuper\u001B[39;49m\u001B[43m(\u001B[49m\u001B[43m)\u001B[49m\u001B[38;5;241;43m.\u001B[39;49m\u001B[38;5;21;43m__call__\u001B[39;49m\u001B[43m(\u001B[49m\u001B[43miterable_with_config\u001B[49m\u001B[43m)\u001B[49m\n",
      "File \u001B[1;32mC:\\work_and_fun\\partisans\\PP\\mistakes-and-regrets\\lib\\site-packages\\joblib\\parallel.py:1085\u001B[0m, in \u001B[0;36mParallel.__call__\u001B[1;34m(self, iterable)\u001B[0m\n\u001B[0;32m   1076\u001B[0m \u001B[38;5;28;01mtry\u001B[39;00m:\n\u001B[0;32m   1077\u001B[0m     \u001B[38;5;66;03m# Only set self._iterating to True if at least a batch\u001B[39;00m\n\u001B[0;32m   1078\u001B[0m     \u001B[38;5;66;03m# was dispatched. In particular this covers the edge\u001B[39;00m\n\u001B[1;32m   (...)\u001B[0m\n\u001B[0;32m   1082\u001B[0m     \u001B[38;5;66;03m# was very quick and its callback already dispatched all the\u001B[39;00m\n\u001B[0;32m   1083\u001B[0m     \u001B[38;5;66;03m# remaining jobs.\u001B[39;00m\n\u001B[0;32m   1084\u001B[0m     \u001B[38;5;28mself\u001B[39m\u001B[38;5;241m.\u001B[39m_iterating \u001B[38;5;241m=\u001B[39m \u001B[38;5;28;01mFalse\u001B[39;00m\n\u001B[1;32m-> 1085\u001B[0m     \u001B[38;5;28;01mif\u001B[39;00m \u001B[38;5;28;43mself\u001B[39;49m\u001B[38;5;241;43m.\u001B[39;49m\u001B[43mdispatch_one_batch\u001B[49m\u001B[43m(\u001B[49m\u001B[43miterator\u001B[49m\u001B[43m)\u001B[49m:\n\u001B[0;32m   1086\u001B[0m         \u001B[38;5;28mself\u001B[39m\u001B[38;5;241m.\u001B[39m_iterating \u001B[38;5;241m=\u001B[39m \u001B[38;5;28mself\u001B[39m\u001B[38;5;241m.\u001B[39m_original_iterator \u001B[38;5;129;01mis\u001B[39;00m \u001B[38;5;129;01mnot\u001B[39;00m \u001B[38;5;28;01mNone\u001B[39;00m\n\u001B[0;32m   1088\u001B[0m     \u001B[38;5;28;01mwhile\u001B[39;00m \u001B[38;5;28mself\u001B[39m\u001B[38;5;241m.\u001B[39mdispatch_one_batch(iterator):\n",
      "File \u001B[1;32mC:\\work_and_fun\\partisans\\PP\\mistakes-and-regrets\\lib\\site-packages\\joblib\\parallel.py:901\u001B[0m, in \u001B[0;36mParallel.dispatch_one_batch\u001B[1;34m(self, iterator)\u001B[0m\n\u001B[0;32m    899\u001B[0m     \u001B[38;5;28;01mreturn\u001B[39;00m \u001B[38;5;28;01mFalse\u001B[39;00m\n\u001B[0;32m    900\u001B[0m \u001B[38;5;28;01melse\u001B[39;00m:\n\u001B[1;32m--> 901\u001B[0m     \u001B[38;5;28;43mself\u001B[39;49m\u001B[38;5;241;43m.\u001B[39;49m\u001B[43m_dispatch\u001B[49m\u001B[43m(\u001B[49m\u001B[43mtasks\u001B[49m\u001B[43m)\u001B[49m\n\u001B[0;32m    902\u001B[0m     \u001B[38;5;28;01mreturn\u001B[39;00m \u001B[38;5;28;01mTrue\u001B[39;00m\n",
      "File \u001B[1;32mC:\\work_and_fun\\partisans\\PP\\mistakes-and-regrets\\lib\\site-packages\\joblib\\parallel.py:819\u001B[0m, in \u001B[0;36mParallel._dispatch\u001B[1;34m(self, batch)\u001B[0m\n\u001B[0;32m    817\u001B[0m \u001B[38;5;28;01mwith\u001B[39;00m \u001B[38;5;28mself\u001B[39m\u001B[38;5;241m.\u001B[39m_lock:\n\u001B[0;32m    818\u001B[0m     job_idx \u001B[38;5;241m=\u001B[39m \u001B[38;5;28mlen\u001B[39m(\u001B[38;5;28mself\u001B[39m\u001B[38;5;241m.\u001B[39m_jobs)\n\u001B[1;32m--> 819\u001B[0m     job \u001B[38;5;241m=\u001B[39m \u001B[38;5;28;43mself\u001B[39;49m\u001B[38;5;241;43m.\u001B[39;49m\u001B[43m_backend\u001B[49m\u001B[38;5;241;43m.\u001B[39;49m\u001B[43mapply_async\u001B[49m\u001B[43m(\u001B[49m\u001B[43mbatch\u001B[49m\u001B[43m,\u001B[49m\u001B[43m \u001B[49m\u001B[43mcallback\u001B[49m\u001B[38;5;241;43m=\u001B[39;49m\u001B[43mcb\u001B[49m\u001B[43m)\u001B[49m\n\u001B[0;32m    820\u001B[0m     \u001B[38;5;66;03m# A job can complete so quickly than its callback is\u001B[39;00m\n\u001B[0;32m    821\u001B[0m     \u001B[38;5;66;03m# called before we get here, causing self._jobs to\u001B[39;00m\n\u001B[0;32m    822\u001B[0m     \u001B[38;5;66;03m# grow. To ensure correct results ordering, .insert is\u001B[39;00m\n\u001B[0;32m    823\u001B[0m     \u001B[38;5;66;03m# used (rather than .append) in the following line\u001B[39;00m\n\u001B[0;32m    824\u001B[0m     \u001B[38;5;28mself\u001B[39m\u001B[38;5;241m.\u001B[39m_jobs\u001B[38;5;241m.\u001B[39minsert(job_idx, job)\n",
      "File \u001B[1;32mC:\\work_and_fun\\partisans\\PP\\mistakes-and-regrets\\lib\\site-packages\\joblib\\_parallel_backends.py:208\u001B[0m, in \u001B[0;36mSequentialBackend.apply_async\u001B[1;34m(self, func, callback)\u001B[0m\n\u001B[0;32m    206\u001B[0m \u001B[38;5;28;01mdef\u001B[39;00m \u001B[38;5;21mapply_async\u001B[39m(\u001B[38;5;28mself\u001B[39m, func, callback\u001B[38;5;241m=\u001B[39m\u001B[38;5;28;01mNone\u001B[39;00m):\n\u001B[0;32m    207\u001B[0m \u001B[38;5;250m    \u001B[39m\u001B[38;5;124;03m\"\"\"Schedule a func to be run\"\"\"\u001B[39;00m\n\u001B[1;32m--> 208\u001B[0m     result \u001B[38;5;241m=\u001B[39m \u001B[43mImmediateResult\u001B[49m\u001B[43m(\u001B[49m\u001B[43mfunc\u001B[49m\u001B[43m)\u001B[49m\n\u001B[0;32m    209\u001B[0m     \u001B[38;5;28;01mif\u001B[39;00m callback:\n\u001B[0;32m    210\u001B[0m         callback(result)\n",
      "File \u001B[1;32mC:\\work_and_fun\\partisans\\PP\\mistakes-and-regrets\\lib\\site-packages\\joblib\\_parallel_backends.py:597\u001B[0m, in \u001B[0;36mImmediateResult.__init__\u001B[1;34m(self, batch)\u001B[0m\n\u001B[0;32m    594\u001B[0m \u001B[38;5;28;01mdef\u001B[39;00m \u001B[38;5;21m__init__\u001B[39m(\u001B[38;5;28mself\u001B[39m, batch):\n\u001B[0;32m    595\u001B[0m     \u001B[38;5;66;03m# Don't delay the application, to avoid keeping the input\u001B[39;00m\n\u001B[0;32m    596\u001B[0m     \u001B[38;5;66;03m# arguments in memory\u001B[39;00m\n\u001B[1;32m--> 597\u001B[0m     \u001B[38;5;28mself\u001B[39m\u001B[38;5;241m.\u001B[39mresults \u001B[38;5;241m=\u001B[39m \u001B[43mbatch\u001B[49m\u001B[43m(\u001B[49m\u001B[43m)\u001B[49m\n",
      "File \u001B[1;32mC:\\work_and_fun\\partisans\\PP\\mistakes-and-regrets\\lib\\site-packages\\joblib\\parallel.py:288\u001B[0m, in \u001B[0;36mBatchedCalls.__call__\u001B[1;34m(self)\u001B[0m\n\u001B[0;32m    284\u001B[0m \u001B[38;5;28;01mdef\u001B[39;00m \u001B[38;5;21m__call__\u001B[39m(\u001B[38;5;28mself\u001B[39m):\n\u001B[0;32m    285\u001B[0m     \u001B[38;5;66;03m# Set the default nested backend to self._backend but do not set the\u001B[39;00m\n\u001B[0;32m    286\u001B[0m     \u001B[38;5;66;03m# change the default number of processes to -1\u001B[39;00m\n\u001B[0;32m    287\u001B[0m     \u001B[38;5;28;01mwith\u001B[39;00m parallel_backend(\u001B[38;5;28mself\u001B[39m\u001B[38;5;241m.\u001B[39m_backend, n_jobs\u001B[38;5;241m=\u001B[39m\u001B[38;5;28mself\u001B[39m\u001B[38;5;241m.\u001B[39m_n_jobs):\n\u001B[1;32m--> 288\u001B[0m         \u001B[38;5;28;01mreturn\u001B[39;00m [func(\u001B[38;5;241m*\u001B[39margs, \u001B[38;5;241m*\u001B[39m\u001B[38;5;241m*\u001B[39mkwargs)\n\u001B[0;32m    289\u001B[0m                 \u001B[38;5;28;01mfor\u001B[39;00m func, args, kwargs \u001B[38;5;129;01min\u001B[39;00m \u001B[38;5;28mself\u001B[39m\u001B[38;5;241m.\u001B[39mitems]\n",
      "File \u001B[1;32mC:\\work_and_fun\\partisans\\PP\\mistakes-and-regrets\\lib\\site-packages\\joblib\\parallel.py:288\u001B[0m, in \u001B[0;36m<listcomp>\u001B[1;34m(.0)\u001B[0m\n\u001B[0;32m    284\u001B[0m \u001B[38;5;28;01mdef\u001B[39;00m \u001B[38;5;21m__call__\u001B[39m(\u001B[38;5;28mself\u001B[39m):\n\u001B[0;32m    285\u001B[0m     \u001B[38;5;66;03m# Set the default nested backend to self._backend but do not set the\u001B[39;00m\n\u001B[0;32m    286\u001B[0m     \u001B[38;5;66;03m# change the default number of processes to -1\u001B[39;00m\n\u001B[0;32m    287\u001B[0m     \u001B[38;5;28;01mwith\u001B[39;00m parallel_backend(\u001B[38;5;28mself\u001B[39m\u001B[38;5;241m.\u001B[39m_backend, n_jobs\u001B[38;5;241m=\u001B[39m\u001B[38;5;28mself\u001B[39m\u001B[38;5;241m.\u001B[39m_n_jobs):\n\u001B[1;32m--> 288\u001B[0m         \u001B[38;5;28;01mreturn\u001B[39;00m [func(\u001B[38;5;241m*\u001B[39margs, \u001B[38;5;241m*\u001B[39m\u001B[38;5;241m*\u001B[39mkwargs)\n\u001B[0;32m    289\u001B[0m                 \u001B[38;5;28;01mfor\u001B[39;00m func, args, kwargs \u001B[38;5;129;01min\u001B[39;00m \u001B[38;5;28mself\u001B[39m\u001B[38;5;241m.\u001B[39mitems]\n",
      "File \u001B[1;32mC:\\work_and_fun\\partisans\\PP\\mistakes-and-regrets\\lib\\site-packages\\sklearn\\utils\\parallel.py:123\u001B[0m, in \u001B[0;36m_FuncWrapper.__call__\u001B[1;34m(self, *args, **kwargs)\u001B[0m\n\u001B[0;32m    121\u001B[0m     config \u001B[38;5;241m=\u001B[39m {}\n\u001B[0;32m    122\u001B[0m \u001B[38;5;28;01mwith\u001B[39;00m config_context(\u001B[38;5;241m*\u001B[39m\u001B[38;5;241m*\u001B[39mconfig):\n\u001B[1;32m--> 123\u001B[0m     \u001B[38;5;28;01mreturn\u001B[39;00m \u001B[38;5;28mself\u001B[39m\u001B[38;5;241m.\u001B[39mfunction(\u001B[38;5;241m*\u001B[39margs, \u001B[38;5;241m*\u001B[39m\u001B[38;5;241m*\u001B[39mkwargs)\n",
      "File \u001B[1;32mC:\\work_and_fun\\partisans\\PP\\mistakes-and-regrets\\lib\\site-packages\\sklearn\\ensemble\\_bagging.py:144\u001B[0m, in \u001B[0;36m_parallel_build_estimators\u001B[1;34m(n_estimators, ensemble, X, y, sample_weight, seeds, total_n_estimators, verbose, check_input)\u001B[0m\n\u001B[0;32m    142\u001B[0m \u001B[38;5;28;01melse\u001B[39;00m:\n\u001B[0;32m    143\u001B[0m     X_ \u001B[38;5;241m=\u001B[39m X[indices][:, features] \u001B[38;5;28;01mif\u001B[39;00m requires_feature_indexing \u001B[38;5;28;01melse\u001B[39;00m X[indices]\n\u001B[1;32m--> 144\u001B[0m     \u001B[43mestimator_fit\u001B[49m\u001B[43m(\u001B[49m\u001B[43mX_\u001B[49m\u001B[43m,\u001B[49m\u001B[43m \u001B[49m\u001B[43my\u001B[49m\u001B[43m[\u001B[49m\u001B[43mindices\u001B[49m\u001B[43m]\u001B[49m\u001B[43m)\u001B[49m\n\u001B[0;32m    146\u001B[0m estimators\u001B[38;5;241m.\u001B[39mappend(estimator)\n\u001B[0;32m    147\u001B[0m estimators_features\u001B[38;5;241m.\u001B[39mappend(features)\n",
      "File \u001B[1;32mC:\\work_and_fun\\partisans\\PP\\mistakes-and-regrets\\lib\\site-packages\\sklearn\\pipeline.py:401\u001B[0m, in \u001B[0;36mPipeline.fit\u001B[1;34m(self, X, y, **fit_params)\u001B[0m\n\u001B[0;32m    375\u001B[0m \u001B[38;5;250m\u001B[39m\u001B[38;5;124;03m\"\"\"Fit the model.\u001B[39;00m\n\u001B[0;32m    376\u001B[0m \n\u001B[0;32m    377\u001B[0m \u001B[38;5;124;03mFit all the transformers one after the other and transform the\u001B[39;00m\n\u001B[1;32m   (...)\u001B[0m\n\u001B[0;32m    398\u001B[0m \u001B[38;5;124;03m    Pipeline with fitted steps.\u001B[39;00m\n\u001B[0;32m    399\u001B[0m \u001B[38;5;124;03m\"\"\"\u001B[39;00m\n\u001B[0;32m    400\u001B[0m fit_params_steps \u001B[38;5;241m=\u001B[39m \u001B[38;5;28mself\u001B[39m\u001B[38;5;241m.\u001B[39m_check_fit_params(\u001B[38;5;241m*\u001B[39m\u001B[38;5;241m*\u001B[39mfit_params)\n\u001B[1;32m--> 401\u001B[0m Xt \u001B[38;5;241m=\u001B[39m \u001B[38;5;28mself\u001B[39m\u001B[38;5;241m.\u001B[39m_fit(X, y, \u001B[38;5;241m*\u001B[39m\u001B[38;5;241m*\u001B[39mfit_params_steps)\n\u001B[0;32m    402\u001B[0m \u001B[38;5;28;01mwith\u001B[39;00m _print_elapsed_time(\u001B[38;5;124m\"\u001B[39m\u001B[38;5;124mPipeline\u001B[39m\u001B[38;5;124m\"\u001B[39m, \u001B[38;5;28mself\u001B[39m\u001B[38;5;241m.\u001B[39m_log_message(\u001B[38;5;28mlen\u001B[39m(\u001B[38;5;28mself\u001B[39m\u001B[38;5;241m.\u001B[39msteps) \u001B[38;5;241m-\u001B[39m \u001B[38;5;241m1\u001B[39m)):\n\u001B[0;32m    403\u001B[0m     \u001B[38;5;28;01mif\u001B[39;00m \u001B[38;5;28mself\u001B[39m\u001B[38;5;241m.\u001B[39m_final_estimator \u001B[38;5;241m!=\u001B[39m \u001B[38;5;124m\"\u001B[39m\u001B[38;5;124mpassthrough\u001B[39m\u001B[38;5;124m\"\u001B[39m:\n",
      "File \u001B[1;32mC:\\work_and_fun\\partisans\\PP\\mistakes-and-regrets\\lib\\site-packages\\sklearn\\pipeline.py:359\u001B[0m, in \u001B[0;36mPipeline._fit\u001B[1;34m(self, X, y, **fit_params_steps)\u001B[0m\n\u001B[0;32m    357\u001B[0m     cloned_transformer \u001B[38;5;241m=\u001B[39m clone(transformer)\n\u001B[0;32m    358\u001B[0m \u001B[38;5;66;03m# Fit or load from cache the current transformer\u001B[39;00m\n\u001B[1;32m--> 359\u001B[0m X, fitted_transformer \u001B[38;5;241m=\u001B[39m fit_transform_one_cached(\n\u001B[0;32m    360\u001B[0m     cloned_transformer,\n\u001B[0;32m    361\u001B[0m     X,\n\u001B[0;32m    362\u001B[0m     y,\n\u001B[0;32m    363\u001B[0m     \u001B[38;5;28;01mNone\u001B[39;00m,\n\u001B[0;32m    364\u001B[0m     message_clsname\u001B[38;5;241m=\u001B[39m\u001B[38;5;124m\"\u001B[39m\u001B[38;5;124mPipeline\u001B[39m\u001B[38;5;124m\"\u001B[39m,\n\u001B[0;32m    365\u001B[0m     message\u001B[38;5;241m=\u001B[39m\u001B[38;5;28mself\u001B[39m\u001B[38;5;241m.\u001B[39m_log_message(step_idx),\n\u001B[0;32m    366\u001B[0m     \u001B[38;5;241m*\u001B[39m\u001B[38;5;241m*\u001B[39mfit_params_steps[name],\n\u001B[0;32m    367\u001B[0m )\n\u001B[0;32m    368\u001B[0m \u001B[38;5;66;03m# Replace the transformer of the step with the fitted\u001B[39;00m\n\u001B[0;32m    369\u001B[0m \u001B[38;5;66;03m# transformer. This is necessary when loading the transformer\u001B[39;00m\n\u001B[0;32m    370\u001B[0m \u001B[38;5;66;03m# from the cache.\u001B[39;00m\n\u001B[0;32m    371\u001B[0m \u001B[38;5;28mself\u001B[39m\u001B[38;5;241m.\u001B[39msteps[step_idx] \u001B[38;5;241m=\u001B[39m (name, fitted_transformer)\n",
      "File \u001B[1;32mC:\\work_and_fun\\partisans\\PP\\mistakes-and-regrets\\lib\\site-packages\\joblib\\memory.py:349\u001B[0m, in \u001B[0;36mNotMemorizedFunc.__call__\u001B[1;34m(self, *args, **kwargs)\u001B[0m\n\u001B[0;32m    348\u001B[0m \u001B[38;5;28;01mdef\u001B[39;00m \u001B[38;5;21m__call__\u001B[39m(\u001B[38;5;28mself\u001B[39m, \u001B[38;5;241m*\u001B[39margs, \u001B[38;5;241m*\u001B[39m\u001B[38;5;241m*\u001B[39mkwargs):\n\u001B[1;32m--> 349\u001B[0m     \u001B[38;5;28;01mreturn\u001B[39;00m \u001B[38;5;28mself\u001B[39m\u001B[38;5;241m.\u001B[39mfunc(\u001B[38;5;241m*\u001B[39margs, \u001B[38;5;241m*\u001B[39m\u001B[38;5;241m*\u001B[39mkwargs)\n",
      "File \u001B[1;32mC:\\work_and_fun\\partisans\\PP\\mistakes-and-regrets\\lib\\site-packages\\sklearn\\pipeline.py:893\u001B[0m, in \u001B[0;36m_fit_transform_one\u001B[1;34m(transformer, X, y, weight, message_clsname, message, **fit_params)\u001B[0m\n\u001B[0;32m    891\u001B[0m \u001B[38;5;28;01mwith\u001B[39;00m _print_elapsed_time(message_clsname, message):\n\u001B[0;32m    892\u001B[0m     \u001B[38;5;28;01mif\u001B[39;00m \u001B[38;5;28mhasattr\u001B[39m(transformer, \u001B[38;5;124m\"\u001B[39m\u001B[38;5;124mfit_transform\u001B[39m\u001B[38;5;124m\"\u001B[39m):\n\u001B[1;32m--> 893\u001B[0m         res \u001B[38;5;241m=\u001B[39m transformer\u001B[38;5;241m.\u001B[39mfit_transform(X, y, \u001B[38;5;241m*\u001B[39m\u001B[38;5;241m*\u001B[39mfit_params)\n\u001B[0;32m    894\u001B[0m     \u001B[38;5;28;01melse\u001B[39;00m:\n\u001B[0;32m    895\u001B[0m         res \u001B[38;5;241m=\u001B[39m transformer\u001B[38;5;241m.\u001B[39mfit(X, y, \u001B[38;5;241m*\u001B[39m\u001B[38;5;241m*\u001B[39mfit_params)\u001B[38;5;241m.\u001B[39mtransform(X)\n",
      "File \u001B[1;32mC:\\work_and_fun\\partisans\\PP\\mistakes-and-regrets\\lib\\site-packages\\sklearn\\utils\\_set_output.py:140\u001B[0m, in \u001B[0;36m_wrap_method_output.<locals>.wrapped\u001B[1;34m(self, X, *args, **kwargs)\u001B[0m\n\u001B[0;32m    138\u001B[0m \u001B[38;5;129m@wraps\u001B[39m(f)\n\u001B[0;32m    139\u001B[0m \u001B[38;5;28;01mdef\u001B[39;00m \u001B[38;5;21mwrapped\u001B[39m(\u001B[38;5;28mself\u001B[39m, X, \u001B[38;5;241m*\u001B[39margs, \u001B[38;5;241m*\u001B[39m\u001B[38;5;241m*\u001B[39mkwargs):\n\u001B[1;32m--> 140\u001B[0m     data_to_wrap \u001B[38;5;241m=\u001B[39m f(\u001B[38;5;28mself\u001B[39m, X, \u001B[38;5;241m*\u001B[39margs, \u001B[38;5;241m*\u001B[39m\u001B[38;5;241m*\u001B[39mkwargs)\n\u001B[0;32m    141\u001B[0m     \u001B[38;5;28;01mif\u001B[39;00m \u001B[38;5;28misinstance\u001B[39m(data_to_wrap, \u001B[38;5;28mtuple\u001B[39m):\n\u001B[0;32m    142\u001B[0m         \u001B[38;5;66;03m# only wrap the first output for cross decomposition\u001B[39;00m\n\u001B[0;32m    143\u001B[0m         \u001B[38;5;28;01mreturn\u001B[39;00m (\n\u001B[0;32m    144\u001B[0m             _wrap_data_with_container(method, data_to_wrap[\u001B[38;5;241m0\u001B[39m], X, \u001B[38;5;28mself\u001B[39m),\n\u001B[0;32m    145\u001B[0m             \u001B[38;5;241m*\u001B[39mdata_to_wrap[\u001B[38;5;241m1\u001B[39m:],\n\u001B[0;32m    146\u001B[0m         )\n",
      "File \u001B[1;32mC:\\work_and_fun\\partisans\\PP\\mistakes-and-regrets\\lib\\site-packages\\sklearn\\compose\\_column_transformer.py:724\u001B[0m, in \u001B[0;36mColumnTransformer.fit_transform\u001B[1;34m(self, X, y)\u001B[0m\n\u001B[0;32m    722\u001B[0m \u001B[38;5;28mself\u001B[39m\u001B[38;5;241m.\u001B[39m_check_n_features(X, reset\u001B[38;5;241m=\u001B[39m\u001B[38;5;28;01mTrue\u001B[39;00m)\n\u001B[0;32m    723\u001B[0m \u001B[38;5;28mself\u001B[39m\u001B[38;5;241m.\u001B[39m_validate_transformers()\n\u001B[1;32m--> 724\u001B[0m \u001B[38;5;28;43mself\u001B[39;49m\u001B[38;5;241;43m.\u001B[39;49m\u001B[43m_validate_column_callables\u001B[49m\u001B[43m(\u001B[49m\u001B[43mX\u001B[49m\u001B[43m)\u001B[49m\n\u001B[0;32m    725\u001B[0m \u001B[38;5;28mself\u001B[39m\u001B[38;5;241m.\u001B[39m_validate_remainder(X)\n\u001B[0;32m    727\u001B[0m result \u001B[38;5;241m=\u001B[39m \u001B[38;5;28mself\u001B[39m\u001B[38;5;241m.\u001B[39m_fit_transform(X, y, _fit_transform_one)\n",
      "File \u001B[1;32mC:\\work_and_fun\\partisans\\PP\\mistakes-and-regrets\\lib\\site-packages\\sklearn\\compose\\_column_transformer.py:424\u001B[0m, in \u001B[0;36mColumnTransformer._validate_column_callables\u001B[1;34m(self, X)\u001B[0m\n\u001B[0;32m    422\u001B[0m \u001B[38;5;28;01mfor\u001B[39;00m name, _, columns \u001B[38;5;129;01min\u001B[39;00m \u001B[38;5;28mself\u001B[39m\u001B[38;5;241m.\u001B[39mtransformers:\n\u001B[0;32m    423\u001B[0m     \u001B[38;5;28;01mif\u001B[39;00m \u001B[38;5;28mcallable\u001B[39m(columns):\n\u001B[1;32m--> 424\u001B[0m         columns \u001B[38;5;241m=\u001B[39m \u001B[43mcolumns\u001B[49m\u001B[43m(\u001B[49m\u001B[43mX\u001B[49m\u001B[43m)\u001B[49m\n\u001B[0;32m    425\u001B[0m     all_columns\u001B[38;5;241m.\u001B[39mappend(columns)\n\u001B[0;32m    426\u001B[0m     transformer_to_input_indices[name] \u001B[38;5;241m=\u001B[39m _get_column_indices(X, columns)\n",
      "File \u001B[1;32mC:\\work_and_fun\\partisans\\PP\\mistakes-and-regrets\\lib\\site-packages\\sklearn\\compose\\_column_transformer.py:1113\u001B[0m, in \u001B[0;36mmake_column_selector.__call__\u001B[1;34m(self, df)\u001B[0m\n\u001B[0;32m   1104\u001B[0m \u001B[38;5;250m\u001B[39m\u001B[38;5;124;03m\"\"\"Callable for column selection to be used by a\u001B[39;00m\n\u001B[0;32m   1105\u001B[0m \u001B[38;5;124;03m:class:`ColumnTransformer`.\u001B[39;00m\n\u001B[0;32m   1106\u001B[0m \n\u001B[1;32m   (...)\u001B[0m\n\u001B[0;32m   1110\u001B[0m \u001B[38;5;124;03m    DataFrame to select columns from.\u001B[39;00m\n\u001B[0;32m   1111\u001B[0m \u001B[38;5;124;03m\"\"\"\u001B[39;00m\n\u001B[0;32m   1112\u001B[0m \u001B[38;5;28;01mif\u001B[39;00m \u001B[38;5;129;01mnot\u001B[39;00m \u001B[38;5;28mhasattr\u001B[39m(df, \u001B[38;5;124m\"\u001B[39m\u001B[38;5;124miloc\u001B[39m\u001B[38;5;124m\"\u001B[39m):\n\u001B[1;32m-> 1113\u001B[0m     \u001B[38;5;28;01mraise\u001B[39;00m \u001B[38;5;167;01mValueError\u001B[39;00m(\n\u001B[0;32m   1114\u001B[0m         \u001B[38;5;124m\"\u001B[39m\u001B[38;5;124mmake_column_selector can only be applied to pandas dataframes\u001B[39m\u001B[38;5;124m\"\u001B[39m\n\u001B[0;32m   1115\u001B[0m     )\n\u001B[0;32m   1116\u001B[0m df_row \u001B[38;5;241m=\u001B[39m df\u001B[38;5;241m.\u001B[39miloc[:\u001B[38;5;241m1\u001B[39m]\n\u001B[0;32m   1117\u001B[0m \u001B[38;5;28;01mif\u001B[39;00m \u001B[38;5;28mself\u001B[39m\u001B[38;5;241m.\u001B[39mdtype_include \u001B[38;5;129;01mis\u001B[39;00m \u001B[38;5;129;01mnot\u001B[39;00m \u001B[38;5;28;01mNone\u001B[39;00m \u001B[38;5;129;01mor\u001B[39;00m \u001B[38;5;28mself\u001B[39m\u001B[38;5;241m.\u001B[39mdtype_exclude \u001B[38;5;129;01mis\u001B[39;00m \u001B[38;5;129;01mnot\u001B[39;00m \u001B[38;5;28;01mNone\u001B[39;00m:\n",
      "\u001B[1;31mValueError\u001B[0m: make_column_selector can only be applied to pandas dataframes"
     ]
    }
   ],
   "source": [
    "bc = BaggingClassifier(estimator=lr_pipe, n_estimators=10, random_state=123)\n",
    "# cross_val_score(bc, x, y, scoring='roc_auc', n_jobs=-1).mean()\n",
    "bc.fit(x, y)"
   ],
   "metadata": {
    "collapsed": false,
    "pycharm": {
     "name": "#%%\n"
    }
   }
  },
  {
   "cell_type": "code",
   "execution_count": null,
   "outputs": [],
   "source": [],
   "metadata": {
    "collapsed": false,
    "pycharm": {
     "name": "#%%\n"
    }
   }
  },
  {
   "cell_type": "code",
   "execution_count": 131,
   "outputs": [
    {
     "data": {
      "text/plain": "passengerid\n1      0\n2      1\n3      1\n4      1\n5      0\n      ..\n887    0\n888    1\n889    0\n890    1\n891    0\nName: survived, Length: 891, dtype: int64"
     },
     "metadata": {},
     "output_type": "display_data"
    }
   ],
   "source": [
    "display(y)"
   ],
   "metadata": {
    "collapsed": false,
    "pycharm": {
     "name": "#%%\n"
    }
   }
  },
  {
   "cell_type": "code",
   "execution_count": null,
   "outputs": [],
   "source": [],
   "metadata": {
    "collapsed": false,
    "pycharm": {
     "name": "#%%\n"
    }
   }
  },
  {
   "cell_type": "code",
   "execution_count": null,
   "outputs": [],
   "source": [],
   "metadata": {
    "collapsed": false,
    "pycharm": {
     "name": "#%%\n"
    }
   }
  },
  {
   "cell_type": "code",
   "execution_count": null,
   "outputs": [],
   "source": [],
   "metadata": {
    "collapsed": false,
    "pycharm": {
     "name": "#%%\n"
    }
   }
  },
  {
   "cell_type": "code",
   "execution_count": null,
   "outputs": [],
   "source": [],
   "metadata": {
    "collapsed": false,
    "pycharm": {
     "name": "#%%\n"
    }
   }
  },
  {
   "cell_type": "code",
   "execution_count": null,
   "outputs": [],
   "source": [],
   "metadata": {
    "collapsed": false,
    "pycharm": {
     "name": "#%%\n"
    }
   }
  },
  {
   "cell_type": "code",
   "execution_count": null,
   "outputs": [],
   "source": [],
   "metadata": {
    "collapsed": false,
    "pycharm": {
     "name": "#%%\n"
    }
   }
  },
  {
   "cell_type": "code",
   "execution_count": null,
   "outputs": [],
   "source": [],
   "metadata": {
    "collapsed": false,
    "pycharm": {
     "name": "#%%\n"
    }
   }
  },
  {
   "cell_type": "code",
   "execution_count": null,
   "outputs": [],
   "source": [],
   "metadata": {
    "collapsed": false,
    "pycharm": {
     "name": "#%%\n"
    }
   }
  },
  {
   "cell_type": "code",
   "execution_count": 45,
   "outputs": [],
   "source": [],
   "metadata": {
    "collapsed": false,
    "pycharm": {
     "name": "#%%\n"
    }
   }
  }
 ],
 "metadata": {
  "kernelspec": {
   "display_name": "Python 3",
   "language": "python",
   "name": "python3"
  },
  "language_info": {
   "codemirror_mode": {
    "name": "ipython",
    "version": 2
   },
   "file_extension": ".py",
   "mimetype": "text/x-python",
   "name": "python",
   "nbconvert_exporter": "python",
   "pygments_lexer": "ipython2",
   "version": "2.7.6"
  }
 },
 "nbformat": 4,
 "nbformat_minor": 0
}