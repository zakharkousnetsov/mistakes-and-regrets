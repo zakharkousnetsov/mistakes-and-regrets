{
 "cells": [
  {
   "cell_type": "code",
   "execution_count": 18,
   "metadata": {
    "collapsed": true,
    "pycharm": {
     "name": "#%%\n"
    }
   },
   "outputs": [],
   "source": [
    "import pandas as pd\n",
    "import numpy as np\n",
    "import matplotlib.pyplot as plt\n",
    "import seaborn as sns\n",
    "from sklearn.compose import ColumnTransformer\n",
    "from sklearn.experimental import enable_iterative_imputer\n",
    "from sklearn.impute import SimpleImputer, IterativeImputer\n",
    "from sklearn.preprocessing import StandardScaler, MinMaxScaler, OneHotEncoder, LabelEncoder, OrdinalEncoder, PolynomialFeatures\n",
    "from sklearn.pipeline import Pipeline\n",
    "from sklearn.compose import make_column_selector as selector\n",
    "from sklearn.linear_model import LogisticRegression\n",
    "from sklearn.model_selection import cross_val_score\n",
    "from sklearn.model_selection import GridSearchCV\n",
    "from sklearn.inspection import permutation_importance\n",
    "from sklearn.feature_selection import RFECV\n",
    "from sklearn.feature_selection import RFE\n",
    "from sklearn.svm import SVC, LinearSVC\n",
    "from sklearn.naive_bayes import BernoulliNB, CategoricalNB, ComplementNB, GaussianNB, MultinomialNB\n",
    "from sklearn.tree import DecisionTreeClassifier\n",
    "from sklearn.ensemble import RandomForestClassifier, ExtraTreesClassifier, RandomTreesEmbedding, BaggingClassifier, StackingClassifier, VotingClassifier\n",
    "from sklearn.metrics import roc_curve, roc_auc_score\n",
    "from sklearn.model_selection import train_test_split\n",
    "\n",
    "import xgboost as xgb\n",
    "import optuna\n"
   ]
  },
  {
   "cell_type": "markdown",
   "source": [
    "# Импорт библиотек"
   ],
   "metadata": {
    "collapsed": false,
    "pycharm": {
     "name": "#%% md\n"
    }
   }
  },
  {
   "cell_type": "code",
   "execution_count": 19,
   "outputs": [
    {
     "data": {
      "text/plain": "     PassengerId  Survived  Pclass                      Name     Sex  Age  \\\n479          480         1       3  Hirvonen, Miss. Hildur E  female  2.0   \n773          774         0       3           Elias, Mr. Dibo    male  NaN   \n738          739         0       3        Ivanoff, Mr. Kanio    male  NaN   \n\n     SibSp  Parch   Ticket     Fare Cabin Embarked  \n479      0      1  3101298  12.2875   NaN        S  \n773      0      0     2674   7.2250   NaN        C  \n738      0      0   349201   7.8958   NaN        S  ",
      "text/html": "<div>\n<style scoped>\n    .dataframe tbody tr th:only-of-type {\n        vertical-align: middle;\n    }\n\n    .dataframe tbody tr th {\n        vertical-align: top;\n    }\n\n    .dataframe thead th {\n        text-align: right;\n    }\n</style>\n<table border=\"1\" class=\"dataframe\">\n  <thead>\n    <tr style=\"text-align: right;\">\n      <th></th>\n      <th>PassengerId</th>\n      <th>Survived</th>\n      <th>Pclass</th>\n      <th>Name</th>\n      <th>Sex</th>\n      <th>Age</th>\n      <th>SibSp</th>\n      <th>Parch</th>\n      <th>Ticket</th>\n      <th>Fare</th>\n      <th>Cabin</th>\n      <th>Embarked</th>\n    </tr>\n  </thead>\n  <tbody>\n    <tr>\n      <th>479</th>\n      <td>480</td>\n      <td>1</td>\n      <td>3</td>\n      <td>Hirvonen, Miss. Hildur E</td>\n      <td>female</td>\n      <td>2.0</td>\n      <td>0</td>\n      <td>1</td>\n      <td>3101298</td>\n      <td>12.2875</td>\n      <td>NaN</td>\n      <td>S</td>\n    </tr>\n    <tr>\n      <th>773</th>\n      <td>774</td>\n      <td>0</td>\n      <td>3</td>\n      <td>Elias, Mr. Dibo</td>\n      <td>male</td>\n      <td>NaN</td>\n      <td>0</td>\n      <td>0</td>\n      <td>2674</td>\n      <td>7.2250</td>\n      <td>NaN</td>\n      <td>C</td>\n    </tr>\n    <tr>\n      <th>738</th>\n      <td>739</td>\n      <td>0</td>\n      <td>3</td>\n      <td>Ivanoff, Mr. Kanio</td>\n      <td>male</td>\n      <td>NaN</td>\n      <td>0</td>\n      <td>0</td>\n      <td>349201</td>\n      <td>7.8958</td>\n      <td>NaN</td>\n      <td>S</td>\n    </tr>\n  </tbody>\n</table>\n</div>"
     },
     "execution_count": 19,
     "metadata": {},
     "output_type": "execute_result"
    }
   ],
   "source": [
    "df = pd.read_csv('train.csv')\n",
    "test = pd.read_csv('test.csv')\n",
    "df.sample(3)"
   ],
   "metadata": {
    "collapsed": false,
    "pycharm": {
     "name": "#%%\n"
    }
   }
  },
  {
   "cell_type": "markdown",
   "source": [
    "## Выставление настроек"
   ],
   "metadata": {
    "collapsed": false,
    "pycharm": {
     "name": "#%% md\n"
    }
   }
  },
  {
   "cell_type": "code",
   "execution_count": 20,
   "outputs": [
    {
     "data": {
      "text/plain": "4"
     },
     "execution_count": 20,
     "metadata": {},
     "output_type": "execute_result"
    }
   ],
   "source": [
    "2+2"
   ],
   "metadata": {
    "collapsed": false,
    "pycharm": {
     "name": "#%%\n"
    }
   }
  },
  {
   "cell_type": "code",
   "execution_count": 20,
   "outputs": [],
   "source": [],
   "metadata": {
    "collapsed": false,
    "pycharm": {
     "name": "#%%\n"
    }
   }
  },
  {
   "cell_type": "markdown",
   "source": [
    "# Обработка данных"
   ],
   "metadata": {
    "collapsed": false,
    "pycharm": {
     "name": "#%% md\n"
    }
   }
  },
  {
   "cell_type": "markdown",
   "source": [
    "Начнем с того, что приведем все названия колонок к \"змеиной нотации\""
   ],
   "metadata": {
    "collapsed": false,
    "pycharm": {
     "name": "#%% md\n"
    }
   }
  },
  {
   "cell_type": "code",
   "execution_count": 21,
   "outputs": [],
   "source": [
    "df.columns = df.columns.str.lower()\n",
    "test.columns = test.columns.str.lower()"
   ],
   "metadata": {
    "collapsed": false,
    "pycharm": {
     "name": "#%%\n"
    }
   }
  },
  {
   "cell_type": "markdown",
   "source": [
    "Переведем колонку с индексом в индекс датафрейма"
   ],
   "metadata": {
    "collapsed": false,
    "pycharm": {
     "name": "#%% md\n"
    }
   }
  },
  {
   "cell_type": "code",
   "execution_count": 22,
   "outputs": [],
   "source": [
    "df = df.set_index('passengerid')\n",
    "test = test.set_index('passengerid')"
   ],
   "metadata": {
    "collapsed": false,
    "pycharm": {
     "name": "#%%\n"
    }
   }
  },
  {
   "cell_type": "markdown",
   "source": [
    "Выведем общую информацию об обучающем и тестовом датасетах"
   ],
   "metadata": {
    "collapsed": false,
    "pycharm": {
     "name": "#%% md\n"
    }
   }
  },
  {
   "cell_type": "code",
   "execution_count": 23,
   "outputs": [],
   "source": [
    "def full_info(df):\n",
    "    display(pd.DataFrame({'Non-Null Count': (~df.isna()).sum(),\n",
    "                          'Null Count': df.isna().sum(),\n",
    "                          'Dtype': df.dtypes}).join(df.describe().T).rename_axis('Feature', axis=1).fillna(''))"
   ],
   "metadata": {
    "collapsed": false,
    "pycharm": {
     "name": "#%%\n"
    }
   }
  },
  {
   "cell_type": "code",
   "execution_count": 24,
   "outputs": [
    {
     "data": {
      "text/plain": "Feature   Non-Null Count  Null Count    Dtype  count       mean        std  \\\nsurvived             891           0    int64  891.0   0.383838   0.486592   \npclass               891           0    int64  891.0   2.308642   0.836071   \nname                 891           0   object                                \nsex                  891           0   object                                \nage                  714         177  float64  714.0  29.699118  14.526497   \nsibsp                891           0    int64  891.0   0.523008   1.102743   \nparch                891           0    int64  891.0   0.381594   0.806057   \nticket               891           0   object                                \nfare                 891           0  float64  891.0  32.204208  49.693429   \ncabin                204         687   object                                \nembarked             889           2   object                                \n\nFeature    min     25%      50%   75%       max  \nsurvived   0.0     0.0      0.0   1.0       1.0  \npclass     1.0     2.0      3.0   3.0       3.0  \nname                                             \nsex                                              \nage       0.42  20.125     28.0  38.0      80.0  \nsibsp      0.0     0.0      0.0   1.0       8.0  \nparch      0.0     0.0      0.0   0.0       6.0  \nticket                                           \nfare       0.0  7.9104  14.4542  31.0  512.3292  \ncabin                                            \nembarked                                         ",
      "text/html": "<div>\n<style scoped>\n    .dataframe tbody tr th:only-of-type {\n        vertical-align: middle;\n    }\n\n    .dataframe tbody tr th {\n        vertical-align: top;\n    }\n\n    .dataframe thead th {\n        text-align: right;\n    }\n</style>\n<table border=\"1\" class=\"dataframe\">\n  <thead>\n    <tr style=\"text-align: right;\">\n      <th>Feature</th>\n      <th>Non-Null Count</th>\n      <th>Null Count</th>\n      <th>Dtype</th>\n      <th>count</th>\n      <th>mean</th>\n      <th>std</th>\n      <th>min</th>\n      <th>25%</th>\n      <th>50%</th>\n      <th>75%</th>\n      <th>max</th>\n    </tr>\n  </thead>\n  <tbody>\n    <tr>\n      <th>survived</th>\n      <td>891</td>\n      <td>0</td>\n      <td>int64</td>\n      <td>891.0</td>\n      <td>0.383838</td>\n      <td>0.486592</td>\n      <td>0.0</td>\n      <td>0.0</td>\n      <td>0.0</td>\n      <td>1.0</td>\n      <td>1.0</td>\n    </tr>\n    <tr>\n      <th>pclass</th>\n      <td>891</td>\n      <td>0</td>\n      <td>int64</td>\n      <td>891.0</td>\n      <td>2.308642</td>\n      <td>0.836071</td>\n      <td>1.0</td>\n      <td>2.0</td>\n      <td>3.0</td>\n      <td>3.0</td>\n      <td>3.0</td>\n    </tr>\n    <tr>\n      <th>name</th>\n      <td>891</td>\n      <td>0</td>\n      <td>object</td>\n      <td></td>\n      <td></td>\n      <td></td>\n      <td></td>\n      <td></td>\n      <td></td>\n      <td></td>\n      <td></td>\n    </tr>\n    <tr>\n      <th>sex</th>\n      <td>891</td>\n      <td>0</td>\n      <td>object</td>\n      <td></td>\n      <td></td>\n      <td></td>\n      <td></td>\n      <td></td>\n      <td></td>\n      <td></td>\n      <td></td>\n    </tr>\n    <tr>\n      <th>age</th>\n      <td>714</td>\n      <td>177</td>\n      <td>float64</td>\n      <td>714.0</td>\n      <td>29.699118</td>\n      <td>14.526497</td>\n      <td>0.42</td>\n      <td>20.125</td>\n      <td>28.0</td>\n      <td>38.0</td>\n      <td>80.0</td>\n    </tr>\n    <tr>\n      <th>sibsp</th>\n      <td>891</td>\n      <td>0</td>\n      <td>int64</td>\n      <td>891.0</td>\n      <td>0.523008</td>\n      <td>1.102743</td>\n      <td>0.0</td>\n      <td>0.0</td>\n      <td>0.0</td>\n      <td>1.0</td>\n      <td>8.0</td>\n    </tr>\n    <tr>\n      <th>parch</th>\n      <td>891</td>\n      <td>0</td>\n      <td>int64</td>\n      <td>891.0</td>\n      <td>0.381594</td>\n      <td>0.806057</td>\n      <td>0.0</td>\n      <td>0.0</td>\n      <td>0.0</td>\n      <td>0.0</td>\n      <td>6.0</td>\n    </tr>\n    <tr>\n      <th>ticket</th>\n      <td>891</td>\n      <td>0</td>\n      <td>object</td>\n      <td></td>\n      <td></td>\n      <td></td>\n      <td></td>\n      <td></td>\n      <td></td>\n      <td></td>\n      <td></td>\n    </tr>\n    <tr>\n      <th>fare</th>\n      <td>891</td>\n      <td>0</td>\n      <td>float64</td>\n      <td>891.0</td>\n      <td>32.204208</td>\n      <td>49.693429</td>\n      <td>0.0</td>\n      <td>7.9104</td>\n      <td>14.4542</td>\n      <td>31.0</td>\n      <td>512.3292</td>\n    </tr>\n    <tr>\n      <th>cabin</th>\n      <td>204</td>\n      <td>687</td>\n      <td>object</td>\n      <td></td>\n      <td></td>\n      <td></td>\n      <td></td>\n      <td></td>\n      <td></td>\n      <td></td>\n      <td></td>\n    </tr>\n    <tr>\n      <th>embarked</th>\n      <td>889</td>\n      <td>2</td>\n      <td>object</td>\n      <td></td>\n      <td></td>\n      <td></td>\n      <td></td>\n      <td></td>\n      <td></td>\n      <td></td>\n      <td></td>\n    </tr>\n  </tbody>\n</table>\n</div>"
     },
     "metadata": {},
     "output_type": "display_data"
    }
   ],
   "source": [
    "full_info(df)"
   ],
   "metadata": {
    "collapsed": false,
    "pycharm": {
     "name": "#%%\n"
    }
   }
  },
  {
   "cell_type": "code",
   "execution_count": 25,
   "outputs": [
    {
     "data": {
      "text/plain": "Feature   Non-Null Count  Null Count    Dtype  count       mean        std  \\\npclass               418           0    int64  418.0    2.26555   0.841838   \nname                 418           0   object                                \nsex                  418           0   object                                \nage                  332          86  float64  332.0   30.27259  14.181209   \nsibsp                418           0    int64  418.0   0.447368    0.89676   \nparch                418           0    int64  418.0   0.392344   0.981429   \nticket               418           0   object                                \nfare                 417           1  float64  417.0  35.627188  55.907576   \ncabin                 91         327   object                                \nembarked             418           0   object                                \n\nFeature    min     25%      50%   75%       max  \npclass     1.0     1.0      3.0   3.0       3.0  \nname                                             \nsex                                              \nage       0.17    21.0     27.0  39.0      76.0  \nsibsp      0.0     0.0      0.0   1.0       8.0  \nparch      0.0     0.0      0.0   0.0       9.0  \nticket                                           \nfare       0.0  7.8958  14.4542  31.5  512.3292  \ncabin                                            \nembarked                                         ",
      "text/html": "<div>\n<style scoped>\n    .dataframe tbody tr th:only-of-type {\n        vertical-align: middle;\n    }\n\n    .dataframe tbody tr th {\n        vertical-align: top;\n    }\n\n    .dataframe thead th {\n        text-align: right;\n    }\n</style>\n<table border=\"1\" class=\"dataframe\">\n  <thead>\n    <tr style=\"text-align: right;\">\n      <th>Feature</th>\n      <th>Non-Null Count</th>\n      <th>Null Count</th>\n      <th>Dtype</th>\n      <th>count</th>\n      <th>mean</th>\n      <th>std</th>\n      <th>min</th>\n      <th>25%</th>\n      <th>50%</th>\n      <th>75%</th>\n      <th>max</th>\n    </tr>\n  </thead>\n  <tbody>\n    <tr>\n      <th>pclass</th>\n      <td>418</td>\n      <td>0</td>\n      <td>int64</td>\n      <td>418.0</td>\n      <td>2.26555</td>\n      <td>0.841838</td>\n      <td>1.0</td>\n      <td>1.0</td>\n      <td>3.0</td>\n      <td>3.0</td>\n      <td>3.0</td>\n    </tr>\n    <tr>\n      <th>name</th>\n      <td>418</td>\n      <td>0</td>\n      <td>object</td>\n      <td></td>\n      <td></td>\n      <td></td>\n      <td></td>\n      <td></td>\n      <td></td>\n      <td></td>\n      <td></td>\n    </tr>\n    <tr>\n      <th>sex</th>\n      <td>418</td>\n      <td>0</td>\n      <td>object</td>\n      <td></td>\n      <td></td>\n      <td></td>\n      <td></td>\n      <td></td>\n      <td></td>\n      <td></td>\n      <td></td>\n    </tr>\n    <tr>\n      <th>age</th>\n      <td>332</td>\n      <td>86</td>\n      <td>float64</td>\n      <td>332.0</td>\n      <td>30.27259</td>\n      <td>14.181209</td>\n      <td>0.17</td>\n      <td>21.0</td>\n      <td>27.0</td>\n      <td>39.0</td>\n      <td>76.0</td>\n    </tr>\n    <tr>\n      <th>sibsp</th>\n      <td>418</td>\n      <td>0</td>\n      <td>int64</td>\n      <td>418.0</td>\n      <td>0.447368</td>\n      <td>0.89676</td>\n      <td>0.0</td>\n      <td>0.0</td>\n      <td>0.0</td>\n      <td>1.0</td>\n      <td>8.0</td>\n    </tr>\n    <tr>\n      <th>parch</th>\n      <td>418</td>\n      <td>0</td>\n      <td>int64</td>\n      <td>418.0</td>\n      <td>0.392344</td>\n      <td>0.981429</td>\n      <td>0.0</td>\n      <td>0.0</td>\n      <td>0.0</td>\n      <td>0.0</td>\n      <td>9.0</td>\n    </tr>\n    <tr>\n      <th>ticket</th>\n      <td>418</td>\n      <td>0</td>\n      <td>object</td>\n      <td></td>\n      <td></td>\n      <td></td>\n      <td></td>\n      <td></td>\n      <td></td>\n      <td></td>\n      <td></td>\n    </tr>\n    <tr>\n      <th>fare</th>\n      <td>417</td>\n      <td>1</td>\n      <td>float64</td>\n      <td>417.0</td>\n      <td>35.627188</td>\n      <td>55.907576</td>\n      <td>0.0</td>\n      <td>7.8958</td>\n      <td>14.4542</td>\n      <td>31.5</td>\n      <td>512.3292</td>\n    </tr>\n    <tr>\n      <th>cabin</th>\n      <td>91</td>\n      <td>327</td>\n      <td>object</td>\n      <td></td>\n      <td></td>\n      <td></td>\n      <td></td>\n      <td></td>\n      <td></td>\n      <td></td>\n      <td></td>\n    </tr>\n    <tr>\n      <th>embarked</th>\n      <td>418</td>\n      <td>0</td>\n      <td>object</td>\n      <td></td>\n      <td></td>\n      <td></td>\n      <td></td>\n      <td></td>\n      <td></td>\n      <td></td>\n      <td></td>\n    </tr>\n  </tbody>\n</table>\n</div>"
     },
     "metadata": {},
     "output_type": "display_data"
    }
   ],
   "source": [
    "full_info(test)"
   ],
   "metadata": {
    "collapsed": false,
    "pycharm": {
     "name": "#%%\n"
    }
   }
  },
  {
   "cell_type": "markdown",
   "source": [
    "Выводы следующие:\n",
    "* В обучающем датасете 891 наблюдение\n",
    "* Пропуски есть в колонках с возрастом и номером кабины(?). Пропуски есть также и в тестовом датасете, поэтому модель должна уметь работать с ними\n",
    "* Не все типы данных оптимальны\n",
    "* есть небольшой дисбаланс в пользу погибших"
   ],
   "metadata": {
    "collapsed": false,
    "pycharm": {
     "name": "#%% md\n"
    }
   }
  },
  {
   "cell_type": "markdown",
   "source": [
    "Удалим признак с номером кабины, так как восстановить эту информацию и использовать далее не удастся"
   ],
   "metadata": {
    "collapsed": false,
    "pycharm": {
     "name": "#%% md\n"
    }
   }
  },
  {
   "cell_type": "code",
   "execution_count": 26,
   "outputs": [],
   "source": [
    "try:\n",
    "    df = df.drop('cabin', axis=1)\n",
    "    test = test.drop('cabin', axis=1)\n",
    "except:\n",
    "    print('Признака уже нет')"
   ],
   "metadata": {
    "collapsed": false,
    "pycharm": {
     "name": "#%%\n"
    }
   }
  },
  {
   "cell_type": "markdown",
   "source": [
    "Поменяем типы данных"
   ],
   "metadata": {
    "collapsed": false,
    "pycharm": {
     "name": "#%% md\n"
    }
   }
  },
  {
   "cell_type": "code",
   "execution_count": 27,
   "outputs": [],
   "source": [
    "df['pclass'] = df['pclass'].replace({1: 'first', 2: 'second', 3: 'third'})\n",
    "test['pclass'] = test['pclass'].replace({1: 'first', 2: 'second', 3: 'third'})"
   ],
   "metadata": {
    "collapsed": false,
    "pycharm": {
     "name": "#%%\n"
    }
   }
  },
  {
   "cell_type": "code",
   "execution_count": 28,
   "outputs": [],
   "source": [
    "df['sex'] = df['sex'].replace({'male': 0, 'female': 1}).astype('bool')\n",
    "test['sex'] = test['sex'].replace({'male': 0, 'female': 1}).astype('bool')"
   ],
   "metadata": {
    "collapsed": false,
    "pycharm": {
     "name": "#%%\n"
    }
   }
  },
  {
   "cell_type": "markdown",
   "source": [
    "Добавим новый признак, равный длине имени. Позже проверим, как это влияет на шансы выжить"
   ],
   "metadata": {
    "collapsed": false,
    "pycharm": {
     "name": "#%% md\n"
    }
   }
  },
  {
   "cell_type": "code",
   "execution_count": 29,
   "outputs": [],
   "source": [
    "df['name_length'] = df['name'].apply(len)\n",
    "test['name_length'] = test['name'].apply(len)"
   ],
   "metadata": {
    "collapsed": false,
    "pycharm": {
     "name": "#%%\n"
    }
   }
  },
  {
   "cell_type": "markdown",
   "source": [
    "Посмотрим на признак \"номер билета\""
   ],
   "metadata": {
    "collapsed": false,
    "pycharm": {
     "name": "#%% md\n"
    }
   }
  },
  {
   "cell_type": "code",
   "execution_count": 30,
   "outputs": [
    {
     "data": {
      "text/plain": "ticket\n347082      7\nCA. 2343    7\n1601        7\n3101295     6\nCA 2144     6\n           ..\n9234        1\n19988       1\n2693        1\nPC 17612    1\n370376      1\nName: count, Length: 681, dtype: int64"
     },
     "execution_count": 30,
     "metadata": {},
     "output_type": "execute_result"
    }
   ],
   "source": [
    "df['ticket'].value_counts()"
   ],
   "metadata": {
    "collapsed": false,
    "pycharm": {
     "name": "#%%\n"
    }
   }
  },
  {
   "cell_type": "markdown",
   "source": [
    "Совпадающих значений мало, удалим признак"
   ],
   "metadata": {
    "collapsed": false,
    "pycharm": {
     "name": "#%% md\n"
    }
   }
  },
  {
   "cell_type": "code",
   "execution_count": 31,
   "outputs": [],
   "source": [
    "df = df.drop('ticket', axis=1)\n",
    "test = test.drop('ticket', axis=1)"
   ],
   "metadata": {
    "collapsed": false,
    "pycharm": {
     "name": "#%%\n"
    }
   }
  },
  {
   "cell_type": "markdown",
   "source": [
    "# Исследование данных"
   ],
   "metadata": {
    "collapsed": false,
    "pycharm": {
     "name": "#%% md\n"
    }
   }
  },
  {
   "cell_type": "markdown",
   "source": [
    "Построим по порядку для всех признаков графики, позволяющие пока визуально оценить влияние признака на целевую переменную"
   ],
   "metadata": {
    "collapsed": false,
    "pycharm": {
     "name": "#%% md\n"
    }
   }
  },
  {
   "cell_type": "markdown",
   "source": [
    "## Номер класса"
   ],
   "metadata": {
    "collapsed": false,
    "pycharm": {
     "name": "#%% md\n"
    }
   }
  },
  {
   "cell_type": "code",
   "execution_count": 32,
   "outputs": [
    {
     "data": {
      "text/plain": "pclass  survived\nfirst   1           0.63\n        0           0.37\nsecond  0           0.53\n        1           0.47\nthird   0           0.76\n        1           0.24\nName: proportion, dtype: float64"
     },
     "execution_count": 32,
     "metadata": {},
     "output_type": "execute_result"
    }
   ],
   "source": [
    "df.groupby('pclass')['survived'].value_counts(normalize=True).round(2)"
   ],
   "metadata": {
    "collapsed": false,
    "pycharm": {
     "name": "#%%\n"
    }
   }
  },
  {
   "cell_type": "code",
   "execution_count": 33,
   "outputs": [
    {
     "data": {
      "text/plain": "<Figure size 1600x600 with 2 Axes>",
      "image/png": "[encoded data removed]"
     },
     "metadata": {},
     "output_type": "display_data"
    }
   ],
   "source": [
    "fig, [ax1, ax2] = plt.subplots(1, 2, figsize=(16, 6))\n",
    "\n",
    "plt.suptitle('Барчарты выживаемости для пассажиров разного класса')\n",
    "df.groupby(['pclass', 'survived'])['survived'].value_counts().unstack().plot.barh(ax=ax1);\n",
    "ax1.legend(loc='lower right');\n",
    "ax1.set_title('матплотлиб')\n",
    "\n",
    "sns.barplot(data=df.groupby(['pclass', 'survived'])['survived'].value_counts().reset_index(),\n",
    "            y='pclass',\n",
    "            order=['third', 'second', 'first'],\n",
    "            x='count',\n",
    "            hue='survived',\n",
    "            # hue_order=[0, 1],\n",
    "            orient='h',\n",
    "            ax=ax2);\n",
    "ax2.set_title('сиборн');"
   ],
   "metadata": {
    "collapsed": false,
    "pycharm": {
     "name": "#%%\n"
    }
   }
  },
  {
   "cell_type": "markdown",
   "source": [
    "Предсказуемо, шансы выжить у пассажиров первого класса были выше"
   ],
   "metadata": {
    "collapsed": false,
    "pycharm": {
     "name": "#%% md\n"
    }
   }
  },
  {
   "cell_type": "markdown",
   "source": [
    "## Имя\n",
    "\n",
    "Проверим, существует ли связь между длиной имени и вероятностью выжить."
   ],
   "metadata": {
    "collapsed": false,
    "pycharm": {
     "name": "#%% md\n"
    }
   }
  },
  {
   "cell_type": "code",
   "execution_count": 34,
   "outputs": [
    {
     "data": {
      "text/plain": "<Figure size 640x480 with 1 Axes>",
      "image/png": "[encoded data removed]"
     },
     "metadata": {},
     "output_type": "display_data"
    }
   ],
   "source": [
    "df.groupby('survived')['name_length'].plot(bins=20, alpha=0.5, kind='hist', grid=False);\n",
    "plt.legend();\n",
    "plt.title('Зависимость длины имени от вероятности выжить')\n",
    "plt.xlabel('Длина имени в билете');"
   ],
   "metadata": {
    "collapsed": false,
    "pycharm": {
     "name": "#%%\n"
    }
   }
  },
  {
   "cell_type": "markdown",
   "source": [
    "Удалим признак с именем"
   ],
   "metadata": {
    "collapsed": false,
    "pycharm": {
     "name": "#%% md\n"
    }
   }
  },
  {
   "cell_type": "code",
   "execution_count": 35,
   "outputs": [],
   "source": [
    "df = df.drop('name', axis=1)"
   ],
   "metadata": {
    "collapsed": false,
    "pycharm": {
     "name": "#%%\n"
    }
   }
  },
  {
   "cell_type": "markdown",
   "source": [
    "## Пол"
   ],
   "metadata": {
    "collapsed": false,
    "pycharm": {
     "name": "#%% md\n"
    }
   }
  },
  {
   "cell_type": "code",
   "execution_count": 36,
   "outputs": [
    {
     "data": {
      "text/plain": "<Figure size 640x480 with 2 Axes>",
      "image/png": "[encoded data removed]"
     },
     "metadata": {},
     "output_type": "display_data"
    }
   ],
   "source": [
    "sns.heatmap(df.groupby(['sex', 'survived'])['survived'].count().unstack(), annot=True, fmt='.3g');"
   ],
   "metadata": {
    "collapsed": false,
    "pycharm": {
     "name": "#%%\n"
    }
   }
  },
  {
   "cell_type": "markdown",
   "source": [
    "Среди женщин выжило примерно 75%, среди мужчин - 20%"
   ],
   "metadata": {
    "collapsed": false,
    "pycharm": {
     "name": "#%% md\n"
    }
   }
  },
  {
   "cell_type": "markdown",
   "source": [
    "## Возраст"
   ],
   "metadata": {
    "collapsed": false,
    "pycharm": {
     "name": "#%% md\n"
    }
   }
  },
  {
   "cell_type": "code",
   "execution_count": 37,
   "outputs": [
    {
     "data": {
      "text/plain": "<Figure size 1600x600 with 2 Axes>",
      "image/png": "[encoded data removed]"
     },
     "metadata": {},
     "output_type": "display_data"
    }
   ],
   "source": [
    "fig, [ax1, ax2] = plt.subplots(1, 2, figsize=(16, 6))\n",
    "\n",
    "# fig.title('a')\n",
    "fig.suptitle('b')\n",
    "plt.title('c')\n",
    "plt.suptitle('d')\n",
    "\n",
    "df.groupby('survived')['age'].plot(bins=20, alpha=0.5, kind='hist', grid=False, ax=ax1);\n",
    "ax1.legend();\n",
    "ax1.set_xlabel('Возраст');\n",
    "\n",
    "df.boxplot(column='age', by='survived', grid=False, ax=ax2);\n",
    "ax2.set_xlabel('');\n",
    "ax2.set_title('')\n",
    "ax2.set_xlabel('Выжил/нет выжил')\n",
    "ax2.set_ylabel('Возраст');"
   ],
   "metadata": {
    "collapsed": false,
    "pycharm": {
     "name": "#%%\n"
    }
   }
  },
  {
   "cell_type": "markdown",
   "source": [
    "# Обучение моделей"
   ],
   "metadata": {
    "collapsed": false,
    "pycharm": {
     "name": "#%% md\n"
    }
   }
  },
  {
   "cell_type": "markdown",
   "source": [
    "## Разделение датасета на признаки и таргет, на обучающую и тестовую выборки"
   ],
   "metadata": {
    "collapsed": false,
    "pycharm": {
     "name": "#%% md\n"
    }
   }
  },
  {
   "cell_type": "code",
   "execution_count": 38,
   "outputs": [],
   "source": [
    "x = df.drop('survived', axis=1)\n",
    "y = df['survived']\n",
    "x_train, x_test, y_train, y_test = train_test_split(x, y, test_size=0.2, random_state=123)"
   ],
   "metadata": {
    "collapsed": false,
    "pycharm": {
     "name": "#%%\n"
    }
   }
  },
  {
   "cell_type": "markdown",
   "source": [
    "## Создание таблицы с результатами"
   ],
   "metadata": {
    "collapsed": false,
    "pycharm": {
     "name": "#%% md\n"
    }
   }
  },
  {
   "cell_type": "code",
   "execution_count": 138,
   "outputs": [],
   "source": [
    "final_score = pd.DataFrame(columns=('model', 'searcher', 'params', 'cv_roc_auc', 'train_roc_auc', 'test_roc_auc'))"
   ],
   "metadata": {
    "collapsed": false,
    "pycharm": {
     "name": "#%%\n"
    }
   }
  },
  {
   "cell_type": "markdown",
   "source": [
    "Напишем функцию, заполняющую таблицу с результатами"
   ],
   "metadata": {
    "collapsed": false,
    "pycharm": {
     "name": "#%% md\n"
    }
   }
  },
  {
   "cell_type": "code",
   "execution_count": 139,
   "outputs": [],
   "source": [
    "def final_scorer(model_name='unknown',\n",
    "                 searcher='unknown',\n",
    "                 best_params={},\n",
    "                 cv_best_score=np.nan,\n",
    "                 train_roc_auc=np.nan,\n",
    "                 test_roc_auc=np.nan):\n",
    "    index = final_score.shape[0] + 1\n",
    "\n",
    "    final_score.loc[index, 'model'] = model_name\n",
    "    final_score.loc[index, 'searcher'] = searcher\n",
    "    final_score.loc[index, 'params'] = list(best_params.items())\n",
    "    final_score.loc[index, 'cv_roc_auc'] = round(cv_best_score, 4)\n",
    "    final_score.loc[index, 'train_roc_auc'] = round(train_roc_auc, 4)\n",
    "    final_score.loc[index, 'test_roc_auc'] = round(test_roc_auc, 4)\n",
    "\n",
    "    return final_score\n"
   ],
   "metadata": {
    "collapsed": false,
    "pycharm": {
     "name": "#%%\n"
    }
   }
  },
  {
   "cell_type": "code",
   "execution_count": 140,
   "outputs": [
    {
     "data": {
      "text/plain": "  model searcher    params cv_roc_auc train_roc_auc test_roc_auc\n1    lr     some  [(d, 3)]        5.6        6.2454          NaN",
      "text/html": "<div>\n<style scoped>\n    .dataframe tbody tr th:only-of-type {\n        vertical-align: middle;\n    }\n\n    .dataframe tbody tr th {\n        vertical-align: top;\n    }\n\n    .dataframe thead th {\n        text-align: right;\n    }\n</style>\n<table border=\"1\" class=\"dataframe\">\n  <thead>\n    <tr style=\"text-align: right;\">\n      <th></th>\n      <th>model</th>\n      <th>searcher</th>\n      <th>params</th>\n      <th>cv_roc_auc</th>\n      <th>train_roc_auc</th>\n      <th>test_roc_auc</th>\n    </tr>\n  </thead>\n  <tbody>\n    <tr>\n      <th>1</th>\n      <td>lr</td>\n      <td>some</td>\n      <td>[(d, 3)]</td>\n      <td>5.6</td>\n      <td>6.2454</td>\n      <td>NaN</td>\n    </tr>\n  </tbody>\n</table>\n</div>"
     },
     "execution_count": 140,
     "metadata": {},
     "output_type": "execute_result"
    }
   ],
   "source": [
    "final_scorer('lr', 'some', {'d': 3}, 5.6, 6.24543535)"
   ],
   "metadata": {
    "collapsed": false,
    "pycharm": {
     "name": "#%%\n"
    }
   }
  },
  {
   "cell_type": "markdown",
   "source": [
    "## Линейные модели"
   ],
   "metadata": {
    "collapsed": false,
    "pycharm": {
     "name": "#%% md\n"
    }
   }
  },
  {
   "cell_type": "markdown",
   "source": [
    "Построим пайплайн преобразования признаков для линейной модели"
   ],
   "metadata": {
    "collapsed": false,
    "pycharm": {
     "name": "#%% md\n"
    }
   }
  },
  {
   "cell_type": "code",
   "execution_count": 141,
   "outputs": [
    {
     "data": {
      "text/plain": "Pipeline(steps=[('',\n                 ColumnTransformer(remainder='passthrough',\n                                   transformers=[('nums',\n                                                  Pipeline(steps=[('imputer',\n                                                                   SimpleImputer()),\n                                                                  ('scaler',\n                                                                   StandardScaler())]),\n                                                  <sklearn.compose._column_transformer.make_column_selector object at 0x0000026DA1804670>),\n                                                 ('cats',\n                                                  Pipeline(steps=[('imputer',\n                                                                   SimpleImputer(strategy='most_frequent')),\n                                                                  ('ohe',\n                                                                   OneHotEncoder(drop='first'))]),\n                                                  <sklearn.compose._column_transformer.make_column_selector object at 0x0000026DA1804A90>)]))])",
      "text/html": "<style>#sk-container-id-3 {color: black;background-color: white;}#sk-container-id-3 pre{padding: 0;}#sk-container-id-3 div.sk-toggleable {background-color: white;}#sk-container-id-3 label.sk-toggleable__label {cursor: pointer;display: block;width: 100%;margin-bottom: 0;padding: 0.3em;box-sizing: border-box;text-align: center;}#sk-container-id-3 label.sk-toggleable__label-arrow:before {content: \"▸\";float: left;margin-right: 0.25em;color: #696969;}#sk-container-id-3 label.sk-toggleable__label-arrow:hover:before {color: black;}#sk-container-id-3 div.sk-estimator:hover label.sk-toggleable__label-arrow:before {color: black;}#sk-container-id-3 div.sk-toggleable__content {max-height: 0;max-width: 0;overflow: hidden;text-align: left;background-color: #f0f8ff;}#sk-container-id-3 div.sk-toggleable__content pre {margin: 0.2em;color: black;border-radius: 0.25em;background-color: #f0f8ff;}#sk-container-id-3 input.sk-toggleable__control:checked~div.sk-toggleable__content {max-height: 200px;max-width: 100%;overflow: auto;}#sk-container-id-3 input.sk-toggleable__control:checked~label.sk-toggleable__label-arrow:before {content: \"▾\";}#sk-container-id-3 div.sk-estimator input.sk-toggleable__control:checked~label.sk-toggleable__label {background-color: #d4ebff;}#sk-container-id-3 div.sk-label input.sk-toggleable__control:checked~label.sk-toggleable__label {background-color: #d4ebff;}#sk-container-id-3 input.sk-hidden--visually {border: 0;clip: rect(1px 1px 1px 1px);clip: rect(1px, 1px, 1px, 1px);height: 1px;margin: -1px;overflow: hidden;padding: 0;position: absolute;width: 1px;}#sk-container-id-3 div.sk-estimator {font-family: monospace;background-color: #f0f8ff;border: 1px dotted black;border-radius: 0.25em;box-sizing: border-box;margin-bottom: 0.5em;}#sk-container-id-3 div.sk-estimator:hover {background-color: #d4ebff;}#sk-container-id-3 div.sk-parallel-item::after {content: \"\";width: 100%;border-bottom: 1px solid gray;flex-grow: 1;}#sk-container-id-3 div.sk-label:hover label.sk-toggleable__label {background-color: #d4ebff;}#sk-container-id-3 div.sk-serial::before {content: \"\";position: absolute;border-left: 1px solid gray;box-sizing: border-box;top: 0;bottom: 0;left: 50%;z-index: 0;}#sk-container-id-3 div.sk-serial {display: flex;flex-direction: column;align-items: center;background-color: white;padding-right: 0.2em;padding-left: 0.2em;position: relative;}#sk-container-id-3 div.sk-item {position: relative;z-index: 1;}#sk-container-id-3 div.sk-parallel {display: flex;align-items: stretch;justify-content: center;background-color: white;position: relative;}#sk-container-id-3 div.sk-item::before, #sk-container-id-3 div.sk-parallel-item::before {content: \"\";position: absolute;border-left: 1px solid gray;box-sizing: border-box;top: 0;bottom: 0;left: 50%;z-index: -1;}#sk-container-id-3 div.sk-parallel-item {display: flex;flex-direction: column;z-index: 1;position: relative;background-color: white;}#sk-container-id-3 div.sk-parallel-item:first-child::after {align-self: flex-end;width: 50%;}#sk-container-id-3 div.sk-parallel-item:last-child::after {align-self: flex-start;width: 50%;}#sk-container-id-3 div.sk-parallel-item:only-child::after {width: 0;}#sk-container-id-3 div.sk-dashed-wrapped {border: 1px dashed gray;margin: 0 0.4em 0.5em 0.4em;box-sizing: border-box;padding-bottom: 0.4em;background-color: white;}#sk-container-id-3 div.sk-label label {font-family: monospace;font-weight: bold;display: inline-block;line-height: 1.2em;}#sk-container-id-3 div.sk-label-container {text-align: center;}#sk-container-id-3 div.sk-container {/* jupyter's `normalize.less` sets `[hidden] { display: none; }` but bootstrap.min.css set `[hidden] { display: none !important; }` so we also need the `!important` here to be able to override the default hidden behavior on the sphinx rendered scikit-learn.org. See: https://github.com/scikit-learn/scikit-learn/issues/21755 */display: inline-block !important;position: relative;}#sk-container-id-3 div.sk-text-repr-fallback {display: none;}</style><div id=\"sk-container-id-3\" class=\"sk-top-container\"><div class=\"sk-text-repr-fallback\"><pre>Pipeline(steps=[(&#x27;&#x27;,\n                 ColumnTransformer(remainder=&#x27;passthrough&#x27;,\n                                   transformers=[(&#x27;nums&#x27;,\n                                                  Pipeline(steps=[(&#x27;imputer&#x27;,\n                                                                   SimpleImputer()),\n                                                                  (&#x27;scaler&#x27;,\n                                                                   StandardScaler())]),\n                                                  &lt;sklearn.compose._column_transformer.make_column_selector object at 0x0000026DA1804670&gt;),\n                                                 (&#x27;cats&#x27;,\n                                                  Pipeline(steps=[(&#x27;imputer&#x27;,\n                                                                   SimpleImputer(strategy=&#x27;most_frequent&#x27;)),\n                                                                  (&#x27;ohe&#x27;,\n                                                                   OneHotEncoder(drop=&#x27;first&#x27;))]),\n                                                  &lt;sklearn.compose._column_transformer.make_column_selector object at 0x0000026DA1804A90&gt;)]))])</pre><b>In a Jupyter environment, please rerun this cell to show the HTML representation or trust the notebook. <br />On GitHub, the HTML representation is unable to render, please try loading this page with nbviewer.org.</b></div><div class=\"sk-container\" hidden><div class=\"sk-item sk-dashed-wrapped\"><div class=\"sk-label-container\"><div class=\"sk-label sk-toggleable\"><input class=\"sk-toggleable__control sk-hidden--visually\" id=\"sk-estimator-id-21\" type=\"checkbox\" ><label for=\"sk-estimator-id-21\" class=\"sk-toggleable__label sk-toggleable__label-arrow\">Pipeline</label><div class=\"sk-toggleable__content\"><pre>Pipeline(steps=[(&#x27;&#x27;,\n                 ColumnTransformer(remainder=&#x27;passthrough&#x27;,\n                                   transformers=[(&#x27;nums&#x27;,\n                                                  Pipeline(steps=[(&#x27;imputer&#x27;,\n                                                                   SimpleImputer()),\n                                                                  (&#x27;scaler&#x27;,\n                                                                   StandardScaler())]),\n                                                  &lt;sklearn.compose._column_transformer.make_column_selector object at 0x0000026DA1804670&gt;),\n                                                 (&#x27;cats&#x27;,\n                                                  Pipeline(steps=[(&#x27;imputer&#x27;,\n                                                                   SimpleImputer(strategy=&#x27;most_frequent&#x27;)),\n                                                                  (&#x27;ohe&#x27;,\n                                                                   OneHotEncoder(drop=&#x27;first&#x27;))]),\n                                                  &lt;sklearn.compose._column_transformer.make_column_selector object at 0x0000026DA1804A90&gt;)]))])</pre></div></div></div><div class=\"sk-serial\"><div class=\"sk-item sk-dashed-wrapped\"><div class=\"sk-label-container\"><div class=\"sk-label sk-toggleable\"><input class=\"sk-toggleable__control sk-hidden--visually\" id=\"sk-estimator-id-22\" type=\"checkbox\" ><label for=\"sk-estimator-id-22\" class=\"sk-toggleable__label sk-toggleable__label-arrow\">: ColumnTransformer</label><div class=\"sk-toggleable__content\"><pre>ColumnTransformer(remainder=&#x27;passthrough&#x27;,\n                  transformers=[(&#x27;nums&#x27;,\n                                 Pipeline(steps=[(&#x27;imputer&#x27;, SimpleImputer()),\n                                                 (&#x27;scaler&#x27;, StandardScaler())]),\n                                 &lt;sklearn.compose._column_transformer.make_column_selector object at 0x0000026DA1804670&gt;),\n                                (&#x27;cats&#x27;,\n                                 Pipeline(steps=[(&#x27;imputer&#x27;,\n                                                  SimpleImputer(strategy=&#x27;most_frequent&#x27;)),\n                                                 (&#x27;ohe&#x27;,\n                                                  OneHotEncoder(drop=&#x27;first&#x27;))]),\n                                 &lt;sklearn.compose._column_transformer.make_column_selector object at 0x0000026DA1804A90&gt;)])</pre></div></div></div><div class=\"sk-parallel\"><div class=\"sk-parallel-item\"><div class=\"sk-item\"><div class=\"sk-label-container\"><div class=\"sk-label sk-toggleable\"><input class=\"sk-toggleable__control sk-hidden--visually\" id=\"sk-estimator-id-23\" type=\"checkbox\" ><label for=\"sk-estimator-id-23\" class=\"sk-toggleable__label sk-toggleable__label-arrow\">nums</label><div class=\"sk-toggleable__content\"><pre>&lt;sklearn.compose._column_transformer.make_column_selector object at 0x0000026DA1804670&gt;</pre></div></div></div><div class=\"sk-serial\"><div class=\"sk-item\"><div class=\"sk-serial\"><div class=\"sk-item\"><div class=\"sk-estimator sk-toggleable\"><input class=\"sk-toggleable__control sk-hidden--visually\" id=\"sk-estimator-id-24\" type=\"checkbox\" ><label for=\"sk-estimator-id-24\" class=\"sk-toggleable__label sk-toggleable__label-arrow\">SimpleImputer</label><div class=\"sk-toggleable__content\"><pre>SimpleImputer()</pre></div></div></div><div class=\"sk-item\"><div class=\"sk-estimator sk-toggleable\"><input class=\"sk-toggleable__control sk-hidden--visually\" id=\"sk-estimator-id-25\" type=\"checkbox\" ><label for=\"sk-estimator-id-25\" class=\"sk-toggleable__label sk-toggleable__label-arrow\">StandardScaler</label><div class=\"sk-toggleable__content\"><pre>StandardScaler()</pre></div></div></div></div></div></div></div></div><div class=\"sk-parallel-item\"><div class=\"sk-item\"><div class=\"sk-label-container\"><div class=\"sk-label sk-toggleable\"><input class=\"sk-toggleable__control sk-hidden--visually\" id=\"sk-estimator-id-26\" type=\"checkbox\" ><label for=\"sk-estimator-id-26\" class=\"sk-toggleable__label sk-toggleable__label-arrow\">cats</label><div class=\"sk-toggleable__content\"><pre>&lt;sklearn.compose._column_transformer.make_column_selector object at 0x0000026DA1804A90&gt;</pre></div></div></div><div class=\"sk-serial\"><div class=\"sk-item\"><div class=\"sk-serial\"><div class=\"sk-item\"><div class=\"sk-estimator sk-toggleable\"><input class=\"sk-toggleable__control sk-hidden--visually\" id=\"sk-estimator-id-27\" type=\"checkbox\" ><label for=\"sk-estimator-id-27\" class=\"sk-toggleable__label sk-toggleable__label-arrow\">SimpleImputer</label><div class=\"sk-toggleable__content\"><pre>SimpleImputer(strategy=&#x27;most_frequent&#x27;)</pre></div></div></div><div class=\"sk-item\"><div class=\"sk-estimator sk-toggleable\"><input class=\"sk-toggleable__control sk-hidden--visually\" id=\"sk-estimator-id-28\" type=\"checkbox\" ><label for=\"sk-estimator-id-28\" class=\"sk-toggleable__label sk-toggleable__label-arrow\">OneHotEncoder</label><div class=\"sk-toggleable__content\"><pre>OneHotEncoder(drop=&#x27;first&#x27;)</pre></div></div></div></div></div></div></div></div><div class=\"sk-parallel-item\"><div class=\"sk-item\"><div class=\"sk-label-container\"><div class=\"sk-label sk-toggleable\"><input class=\"sk-toggleable__control sk-hidden--visually\" id=\"sk-estimator-id-29\" type=\"checkbox\" ><label for=\"sk-estimator-id-29\" class=\"sk-toggleable__label sk-toggleable__label-arrow\">remainder</label><div class=\"sk-toggleable__content\"><pre></pre></div></div></div><div class=\"sk-serial\"><div class=\"sk-item\"><div class=\"sk-estimator sk-toggleable\"><input class=\"sk-toggleable__control sk-hidden--visually\" id=\"sk-estimator-id-30\" type=\"checkbox\" ><label for=\"sk-estimator-id-30\" class=\"sk-toggleable__label sk-toggleable__label-arrow\">passthrough</label><div class=\"sk-toggleable__content\"><pre>passthrough</pre></div></div></div></div></div></div></div></div></div></div></div></div>"
     },
     "execution_count": 141,
     "metadata": {},
     "output_type": "execute_result"
    }
   ],
   "source": [
    "num_ct = Pipeline(steps=[('imputer', SimpleImputer(strategy='mean')),\n",
    "                         ('scaler', StandardScaler())])\n",
    "\n",
    "cat_ct = Pipeline(steps=[('imputer', SimpleImputer(strategy='most_frequent')),\n",
    "                         ('ohe', OneHotEncoder(drop='first'))])\n",
    "\n",
    "transformer = ColumnTransformer(transformers=[('nums', num_ct, selector(dtype_exclude=\"object\")),\n",
    "                                              ('cats', cat_ct, selector(dtype_include=\"object\"))],\n",
    "                                remainder='passthrough')\n",
    "Pipeline(steps=[('', transformer)])"
   ],
   "metadata": {
    "collapsed": false,
    "pycharm": {
     "name": "#%%\n"
    }
   }
  },
  {
   "cell_type": "markdown",
   "source": [
    "Посмотрим на получившиеся признаки. У них теперь нет имен, но по порядку преобразвоаний можно увидеть, что последние 4 признака - это категориальные признаки, подвергнутые OHE."
   ],
   "metadata": {
    "collapsed": false,
    "pycharm": {
     "name": "#%% md\n"
    }
   }
  },
  {
   "cell_type": "code",
   "execution_count": 142,
   "outputs": [
    {
     "data": {
      "text/plain": "Feature  Non-Null Count  Null Count    Dtype  count          mean       std  \\\n0                   712           0  float64  712.0  2.993860e-17  1.000703   \n1                   712           0  float64  712.0 -2.183023e-16  1.000703   \n2                   712           0  float64  712.0  5.738231e-17  1.000703   \n3                   712           0  float64  712.0 -1.247442e-17  1.000703   \n4                   712           0  float64  712.0 -7.235161e-17  1.000703   \n5                   712           0  float64  712.0 -1.459507e-16  1.000703   \n6                   712           0  float64  712.0  2.092697e-01  0.407073   \n7                   712           0  float64  712.0  5.575843e-01  0.497022   \n8                   712           0  float64  712.0  9.410112e-02  0.292175   \n9                   712           0  float64  712.0  7.261236e-01  0.446260   \n\nFeature       min       25%       50%       75%       max  \n0       -0.737881 -0.737881 -0.737881  1.355232  1.355232  \n1       -2.310194 -0.615224  0.000000  0.405842  3.940300  \n2       -0.460103 -0.460103 -0.460103  0.437413  6.720019  \n3       -0.474312 -0.474312 -0.474312 -0.474312  6.045189  \n4       -0.620689 -0.469374 -0.361976 -0.044414  9.197546  \n5       -1.640237 -0.749089 -0.192122  0.364845  4.486401  \n6        0.000000  0.000000  0.000000  0.000000  1.000000  \n7        0.000000  0.000000  1.000000  1.000000  1.000000  \n8        0.000000  0.000000  0.000000  0.000000  1.000000  \n9        0.000000  0.000000  1.000000  1.000000  1.000000  ",
      "text/html": "<div>\n<style scoped>\n    .dataframe tbody tr th:only-of-type {\n        vertical-align: middle;\n    }\n\n    .dataframe tbody tr th {\n        vertical-align: top;\n    }\n\n    .dataframe thead th {\n        text-align: right;\n    }\n</style>\n<table border=\"1\" class=\"dataframe\">\n  <thead>\n    <tr style=\"text-align: right;\">\n      <th>Feature</th>\n      <th>Non-Null Count</th>\n      <th>Null Count</th>\n      <th>Dtype</th>\n      <th>count</th>\n      <th>mean</th>\n      <th>std</th>\n      <th>min</th>\n      <th>25%</th>\n      <th>50%</th>\n      <th>75%</th>\n      <th>max</th>\n    </tr>\n  </thead>\n  <tbody>\n    <tr>\n      <th>0</th>\n      <td>712</td>\n      <td>0</td>\n      <td>float64</td>\n      <td>712.0</td>\n      <td>2.993860e-17</td>\n      <td>1.000703</td>\n      <td>-0.737881</td>\n      <td>-0.737881</td>\n      <td>-0.737881</td>\n      <td>1.355232</td>\n      <td>1.355232</td>\n    </tr>\n    <tr>\n      <th>1</th>\n      <td>712</td>\n      <td>0</td>\n      <td>float64</td>\n      <td>712.0</td>\n      <td>-2.183023e-16</td>\n      <td>1.000703</td>\n      <td>-2.310194</td>\n      <td>-0.615224</td>\n      <td>0.000000</td>\n      <td>0.405842</td>\n      <td>3.940300</td>\n    </tr>\n    <tr>\n      <th>2</th>\n      <td>712</td>\n      <td>0</td>\n      <td>float64</td>\n      <td>712.0</td>\n      <td>5.738231e-17</td>\n      <td>1.000703</td>\n      <td>-0.460103</td>\n      <td>-0.460103</td>\n      <td>-0.460103</td>\n      <td>0.437413</td>\n      <td>6.720019</td>\n    </tr>\n    <tr>\n      <th>3</th>\n      <td>712</td>\n      <td>0</td>\n      <td>float64</td>\n      <td>712.0</td>\n      <td>-1.247442e-17</td>\n      <td>1.000703</td>\n      <td>-0.474312</td>\n      <td>-0.474312</td>\n      <td>-0.474312</td>\n      <td>-0.474312</td>\n      <td>6.045189</td>\n    </tr>\n    <tr>\n      <th>4</th>\n      <td>712</td>\n      <td>0</td>\n      <td>float64</td>\n      <td>712.0</td>\n      <td>-7.235161e-17</td>\n      <td>1.000703</td>\n      <td>-0.620689</td>\n      <td>-0.469374</td>\n      <td>-0.361976</td>\n      <td>-0.044414</td>\n      <td>9.197546</td>\n    </tr>\n    <tr>\n      <th>5</th>\n      <td>712</td>\n      <td>0</td>\n      <td>float64</td>\n      <td>712.0</td>\n      <td>-1.459507e-16</td>\n      <td>1.000703</td>\n      <td>-1.640237</td>\n      <td>-0.749089</td>\n      <td>-0.192122</td>\n      <td>0.364845</td>\n      <td>4.486401</td>\n    </tr>\n    <tr>\n      <th>6</th>\n      <td>712</td>\n      <td>0</td>\n      <td>float64</td>\n      <td>712.0</td>\n      <td>2.092697e-01</td>\n      <td>0.407073</td>\n      <td>0.000000</td>\n      <td>0.000000</td>\n      <td>0.000000</td>\n      <td>0.000000</td>\n      <td>1.000000</td>\n    </tr>\n    <tr>\n      <th>7</th>\n      <td>712</td>\n      <td>0</td>\n      <td>float64</td>\n      <td>712.0</td>\n      <td>5.575843e-01</td>\n      <td>0.497022</td>\n      <td>0.000000</td>\n      <td>0.000000</td>\n      <td>1.000000</td>\n      <td>1.000000</td>\n      <td>1.000000</td>\n    </tr>\n    <tr>\n      <th>8</th>\n      <td>712</td>\n      <td>0</td>\n      <td>float64</td>\n      <td>712.0</td>\n      <td>9.410112e-02</td>\n      <td>0.292175</td>\n      <td>0.000000</td>\n      <td>0.000000</td>\n      <td>0.000000</td>\n      <td>0.000000</td>\n      <td>1.000000</td>\n    </tr>\n    <tr>\n      <th>9</th>\n      <td>712</td>\n      <td>0</td>\n      <td>float64</td>\n      <td>712.0</td>\n      <td>7.261236e-01</td>\n      <td>0.446260</td>\n      <td>0.000000</td>\n      <td>0.000000</td>\n      <td>1.000000</td>\n      <td>1.000000</td>\n      <td>1.000000</td>\n    </tr>\n  </tbody>\n</table>\n</div>"
     },
     "metadata": {},
     "output_type": "display_data"
    }
   ],
   "source": [
    "full_info(pd.DataFrame(transformer.fit_transform(x_train)).astype('float'))"
   ],
   "metadata": {
    "collapsed": false,
    "pycharm": {
     "name": "#%%\n"
    }
   }
  },
  {
   "cell_type": "markdown",
   "source": [
    "Добавим в пайплайн классификатор"
   ],
   "metadata": {
    "collapsed": false,
    "pycharm": {
     "name": "#%% md\n"
    }
   }
  },
  {
   "cell_type": "code",
   "execution_count": 143,
   "outputs": [
    {
     "name": "stdout",
     "output_type": "stream",
     "text": [
      "Fitting 3 folds for each of 24 candidates, totalling 72 fits\n"
     ]
    }
   ],
   "source": [
    "lr_pipe = Pipeline(steps=[('transformer', transformer), ('clf', LogisticRegression(random_state=123))])\n",
    "\n",
    "params = [{'transformer__nums__imputer': [SimpleImputer()],\n",
    "           'transformer__nums__imputer__strategy': ['mean', 'median'],\n",
    "           'clf__penalty': ['none', 'l2'],\n",
    "           'clf__C': [0.1, 1, 10, 100]\n",
    "          },\n",
    "          { 'transformer__nums__imputer': [IterativeImputer(random_state=123)],\n",
    "           'clf__penalty': ['none', 'l2'],\n",
    "           'clf__C': [0.1, 1, 10, 100]\n",
    "          }]\n",
    "\n",
    "lr_gs    = GridSearchCV(estimator=lr_pipe,\n",
    "                        param_grid=params,\n",
    "                        scoring='roc_auc',\n",
    "                        refit=True,\n",
    "                        cv=3,\n",
    "                        n_jobs=-1,\n",
    "                        verbose=10)\n",
    "lr_gs.fit(x_train, y_train)\n",
    "lr_best = lr_gs.best_estimator_;"
   ],
   "metadata": {
    "collapsed": false,
    "pycharm": {
     "name": "#%%\n"
    }
   }
  },
  {
   "cell_type": "code",
   "execution_count": 144,
   "outputs": [
    {
     "data": {
      "text/plain": "    rank_test_score  std_test_score  mean_test_score  split2_test_score  \\\n23                1        0.032609         0.855235           0.886582   \n20                2        0.032643         0.855210           0.886582   \n18                2        0.032643         0.855210           0.886582   \n16                2        0.032643         0.855210           0.886582   \n22                2        0.032643         0.855210           0.886582   \n21                6        0.032868         0.854835           0.886207   \n12                7        0.033457         0.854610           0.886507   \n8                 7        0.033457         0.854610           0.886507   \n0                 7        0.033457         0.854610           0.886507   \n4                 7        0.033457         0.854610           0.886507   \n10               11        0.033274         0.854561           0.886357   \n14               12        0.033436         0.854561           0.886507   \n6                13        0.034011         0.854256           0.885532   \n19               14        0.033237         0.854083           0.884633   \n11               15        0.033103         0.853939           0.885607   \n15               16        0.033419         0.853815           0.885907   \n7                17        0.033965         0.853808           0.885082   \n9                18        0.033430         0.853765           0.885832   \n5                18        0.033430         0.853765           0.885832   \n13               18        0.033430         0.853765           0.885832   \n1                18        0.033430         0.853765           0.885832   \n2                22        0.034882         0.851158           0.881184   \n3                23        0.034922         0.850509           0.880285   \n17               24        0.034593         0.850487           0.880510   \n\n    split1_test_score  split0_test_score  \\\n23           0.810270           0.868854   \n20           0.810195           0.868854   \n18           0.810195           0.868854   \n16           0.810195           0.868854   \n22           0.810195           0.868854   \n21           0.809445           0.868854   \n12           0.808396           0.868928   \n8            0.808396           0.868928   \n0            0.808396           0.868928   \n4            0.808396           0.868928   \n10           0.808621           0.868706   \n14           0.808396           0.868780   \n6            0.806972           0.870263   \n19           0.807871           0.869744   \n11           0.808246           0.867964   \n15           0.807721           0.867816   \n7            0.806597           0.869744   \n9            0.807646           0.867816   \n5            0.807646           0.867816   \n13           0.807646           0.867816   \n1            0.807646           0.867816   \n2            0.802249           0.870041   \n3            0.801499           0.869744   \n17           0.802024           0.868928   \n\n                                               params  \\\n23  {'clf__C': 100, 'clf__penalty': 'l2', 'transfo...   \n20  {'clf__C': 10, 'clf__penalty': 'none', 'transf...   \n18  {'clf__C': 1, 'clf__penalty': 'none', 'transfo...   \n16  {'clf__C': 0.1, 'clf__penalty': 'none', 'trans...   \n22  {'clf__C': 100, 'clf__penalty': 'none', 'trans...   \n21  {'clf__C': 10, 'clf__penalty': 'l2', 'transfor...   \n12  {'clf__C': 100, 'clf__penalty': 'none', 'trans...   \n8   {'clf__C': 10, 'clf__penalty': 'none', 'transf...   \n0   {'clf__C': 0.1, 'clf__penalty': 'none', 'trans...   \n4   {'clf__C': 1, 'clf__penalty': 'none', 'transfo...   \n10  {'clf__C': 10, 'clf__penalty': 'l2', 'transfor...   \n14  {'clf__C': 100, 'clf__penalty': 'l2', 'transfo...   \n6   {'clf__C': 1, 'clf__penalty': 'l2', 'transform...   \n19  {'clf__C': 1, 'clf__penalty': 'l2', 'transform...   \n11  {'clf__C': 10, 'clf__penalty': 'l2', 'transfor...   \n15  {'clf__C': 100, 'clf__penalty': 'l2', 'transfo...   \n7   {'clf__C': 1, 'clf__penalty': 'l2', 'transform...   \n9   {'clf__C': 10, 'clf__penalty': 'none', 'transf...   \n5   {'clf__C': 1, 'clf__penalty': 'none', 'transfo...   \n13  {'clf__C': 100, 'clf__penalty': 'none', 'trans...   \n1   {'clf__C': 0.1, 'clf__penalty': 'none', 'trans...   \n2   {'clf__C': 0.1, 'clf__penalty': 'l2', 'transfo...   \n3   {'clf__C': 0.1, 'clf__penalty': 'l2', 'transfo...   \n17  {'clf__C': 0.1, 'clf__penalty': 'l2', 'transfo...   \n\n   param_transformer__nums__imputer__strategy  \\\n23                                        NaN   \n20                                        NaN   \n18                                        NaN   \n16                                        NaN   \n22                                        NaN   \n21                                        NaN   \n12                                       mean   \n8                                        mean   \n0                                        mean   \n4                                        mean   \n10                                       mean   \n14                                       mean   \n6                                        mean   \n19                                        NaN   \n11                                     median   \n15                                     median   \n7                                      median   \n9                                      median   \n5                                      median   \n13                                     median   \n1                                      median   \n2                                        mean   \n3                                      median   \n17                                        NaN   \n\n      param_transformer__nums__imputer param_clf__penalty param_clf__C  \\\n23  IterativeImputer(random_state=123)                 l2          100   \n20  IterativeImputer(random_state=123)               none           10   \n18  IterativeImputer(random_state=123)               none            1   \n16  IterativeImputer(random_state=123)               none          0.1   \n22  IterativeImputer(random_state=123)               none          100   \n21  IterativeImputer(random_state=123)                 l2           10   \n12                     SimpleImputer()               none          100   \n8                      SimpleImputer()               none           10   \n0                      SimpleImputer()               none          0.1   \n4                      SimpleImputer()               none            1   \n10                     SimpleImputer()                 l2           10   \n14                     SimpleImputer()                 l2          100   \n6                      SimpleImputer()                 l2            1   \n19  IterativeImputer(random_state=123)                 l2            1   \n11                     SimpleImputer()                 l2           10   \n15                     SimpleImputer()                 l2          100   \n7                      SimpleImputer()                 l2            1   \n9                      SimpleImputer()               none           10   \n5                      SimpleImputer()               none            1   \n13                     SimpleImputer()               none          100   \n1                      SimpleImputer()               none          0.1   \n2                      SimpleImputer()                 l2          0.1   \n3                      SimpleImputer()                 l2          0.1   \n17  IterativeImputer(random_state=123)                 l2          0.1   \n\n    std_score_time  mean_score_time  std_fit_time  mean_fit_time  \n23        0.000943         0.010665      0.002624       0.061526  \n20        0.000525         0.013732      0.001714       0.064064  \n18        0.001247         0.018334      0.004898       0.072999  \n16        0.000942         0.014669      0.005249       0.069609  \n22        0.000818         0.012999      0.002356       0.061860  \n21        0.000815         0.012999      0.002159       0.065194  \n12        0.000472         0.012516      0.000819       0.031049  \n8         0.000458         0.013336      0.000816       0.032482  \n0         0.000487         0.013447      0.000639       0.044206  \n4         0.001415         0.012998      0.004988       0.037073  \n10        0.000412         0.012615      0.002724       0.032725  \n14        0.001246         0.012666      0.004110       0.035848  \n6         0.002358         0.014666      0.005658       0.035000  \n19        0.000817         0.013999      0.003091       0.063667  \n11        0.011181         0.021455      0.001464       0.032638  \n15        0.001221         0.011314      0.002710       0.031788  \n7         0.001247         0.014667      0.008562       0.037492  \n9         0.000818         0.012543      0.000982       0.032885  \n5         0.001886         0.014334      0.008056       0.037669  \n13        0.000386         0.013454      0.000661       0.031448  \n1         0.002124         0.015542      0.004880       0.047445  \n2         0.000950         0.012703      0.002386       0.035345  \n3         0.001016         0.012843      0.008497       0.044872  \n17        0.000001         0.013999      0.007117       0.065002  ",
      "text/html": "<div>\n<style scoped>\n    .dataframe tbody tr th:only-of-type {\n        vertical-align: middle;\n    }\n\n    .dataframe tbody tr th {\n        vertical-align: top;\n    }\n\n    .dataframe thead th {\n        text-align: right;\n    }\n</style>\n<table border=\"1\" class=\"dataframe\">\n  <thead>\n    <tr style=\"text-align: right;\">\n      <th></th>\n      <th>rank_test_score</th>\n      <th>std_test_score</th>\n      <th>mean_test_score</th>\n      <th>split2_test_score</th>\n      <th>split1_test_score</th>\n      <th>split0_test_score</th>\n      <th>params</th>\n      <th>param_transformer__nums__imputer__strategy</th>\n      <th>param_transformer__nums__imputer</th>\n      <th>param_clf__penalty</th>\n      <th>param_clf__C</th>\n      <th>std_score_time</th>\n      <th>mean_score_time</th>\n      <th>std_fit_time</th>\n      <th>mean_fit_time</th>\n    </tr>\n  </thead>\n  <tbody>\n    <tr>\n      <th>23</th>\n      <td>1</td>\n      <td>0.032609</td>\n      <td>0.855235</td>\n      <td>0.886582</td>\n      <td>0.810270</td>\n      <td>0.868854</td>\n      <td>{'clf__C': 100, 'clf__penalty': 'l2', 'transfo...</td>\n      <td>NaN</td>\n      <td>IterativeImputer(random_state=123)</td>\n      <td>l2</td>\n      <td>100</td>\n      <td>0.000943</td>\n      <td>0.010665</td>\n      <td>0.002624</td>\n      <td>0.061526</td>\n    </tr>\n    <tr>\n      <th>20</th>\n      <td>2</td>\n      <td>0.032643</td>\n      <td>0.855210</td>\n      <td>0.886582</td>\n      <td>0.810195</td>\n      <td>0.868854</td>\n      <td>{'clf__C': 10, 'clf__penalty': 'none', 'transf...</td>\n      <td>NaN</td>\n      <td>IterativeImputer(random_state=123)</td>\n      <td>none</td>\n      <td>10</td>\n      <td>0.000525</td>\n      <td>0.013732</td>\n      <td>0.001714</td>\n      <td>0.064064</td>\n    </tr>\n    <tr>\n      <th>18</th>\n      <td>2</td>\n      <td>0.032643</td>\n      <td>0.855210</td>\n      <td>0.886582</td>\n      <td>0.810195</td>\n      <td>0.868854</td>\n      <td>{'clf__C': 1, 'clf__penalty': 'none', 'transfo...</td>\n      <td>NaN</td>\n      <td>IterativeImputer(random_state=123)</td>\n      <td>none</td>\n      <td>1</td>\n      <td>0.001247</td>\n      <td>0.018334</td>\n      <td>0.004898</td>\n      <td>0.072999</td>\n    </tr>\n    <tr>\n      <th>16</th>\n      <td>2</td>\n      <td>0.032643</td>\n      <td>0.855210</td>\n      <td>0.886582</td>\n      <td>0.810195</td>\n      <td>0.868854</td>\n      <td>{'clf__C': 0.1, 'clf__penalty': 'none', 'trans...</td>\n      <td>NaN</td>\n      <td>IterativeImputer(random_state=123)</td>\n      <td>none</td>\n      <td>0.1</td>\n      <td>0.000942</td>\n      <td>0.014669</td>\n      <td>0.005249</td>\n      <td>0.069609</td>\n    </tr>\n    <tr>\n      <th>22</th>\n      <td>2</td>\n      <td>0.032643</td>\n      <td>0.855210</td>\n      <td>0.886582</td>\n      <td>0.810195</td>\n      <td>0.868854</td>\n      <td>{'clf__C': 100, 'clf__penalty': 'none', 'trans...</td>\n      <td>NaN</td>\n      <td>IterativeImputer(random_state=123)</td>\n      <td>none</td>\n      <td>100</td>\n      <td>0.000818</td>\n      <td>0.012999</td>\n      <td>0.002356</td>\n      <td>0.061860</td>\n    </tr>\n    <tr>\n      <th>21</th>\n      <td>6</td>\n      <td>0.032868</td>\n      <td>0.854835</td>\n      <td>0.886207</td>\n      <td>0.809445</td>\n      <td>0.868854</td>\n      <td>{'clf__C': 10, 'clf__penalty': 'l2', 'transfor...</td>\n      <td>NaN</td>\n      <td>IterativeImputer(random_state=123)</td>\n      <td>l2</td>\n      <td>10</td>\n      <td>0.000815</td>\n      <td>0.012999</td>\n      <td>0.002159</td>\n      <td>0.065194</td>\n    </tr>\n    <tr>\n      <th>12</th>\n      <td>7</td>\n      <td>0.033457</td>\n      <td>0.854610</td>\n      <td>0.886507</td>\n      <td>0.808396</td>\n      <td>0.868928</td>\n      <td>{'clf__C': 100, 'clf__penalty': 'none', 'trans...</td>\n      <td>mean</td>\n      <td>SimpleImputer()</td>\n      <td>none</td>\n      <td>100</td>\n      <td>0.000472</td>\n      <td>0.012516</td>\n      <td>0.000819</td>\n      <td>0.031049</td>\n    </tr>\n    <tr>\n      <th>8</th>\n      <td>7</td>\n      <td>0.033457</td>\n      <td>0.854610</td>\n      <td>0.886507</td>\n      <td>0.808396</td>\n      <td>0.868928</td>\n      <td>{'clf__C': 10, 'clf__penalty': 'none', 'transf...</td>\n      <td>mean</td>\n      <td>SimpleImputer()</td>\n      <td>none</td>\n      <td>10</td>\n      <td>0.000458</td>\n      <td>0.013336</td>\n      <td>0.000816</td>\n      <td>0.032482</td>\n    </tr>\n    <tr>\n      <th>0</th>\n      <td>7</td>\n      <td>0.033457</td>\n      <td>0.854610</td>\n      <td>0.886507</td>\n      <td>0.808396</td>\n      <td>0.868928</td>\n      <td>{'clf__C': 0.1, 'clf__penalty': 'none', 'trans...</td>\n      <td>mean</td>\n      <td>SimpleImputer()</td>\n      <td>none</td>\n      <td>0.1</td>\n      <td>0.000487</td>\n      <td>0.013447</td>\n      <td>0.000639</td>\n      <td>0.044206</td>\n    </tr>\n    <tr>\n      <th>4</th>\n      <td>7</td>\n      <td>0.033457</td>\n      <td>0.854610</td>\n      <td>0.886507</td>\n      <td>0.808396</td>\n      <td>0.868928</td>\n      <td>{'clf__C': 1, 'clf__penalty': 'none', 'transfo...</td>\n      <td>mean</td>\n      <td>SimpleImputer()</td>\n      <td>none</td>\n      <td>1</td>\n      <td>0.001415</td>\n      <td>0.012998</td>\n      <td>0.004988</td>\n      <td>0.037073</td>\n    </tr>\n    <tr>\n      <th>10</th>\n      <td>11</td>\n      <td>0.033274</td>\n      <td>0.854561</td>\n      <td>0.886357</td>\n      <td>0.808621</td>\n      <td>0.868706</td>\n      <td>{'clf__C': 10, 'clf__penalty': 'l2', 'transfor...</td>\n      <td>mean</td>\n      <td>SimpleImputer()</td>\n      <td>l2</td>\n      <td>10</td>\n      <td>0.000412</td>\n      <td>0.012615</td>\n      <td>0.002724</td>\n      <td>0.032725</td>\n    </tr>\n    <tr>\n      <th>14</th>\n      <td>12</td>\n      <td>0.033436</td>\n      <td>0.854561</td>\n      <td>0.886507</td>\n      <td>0.808396</td>\n      <td>0.868780</td>\n      <td>{'clf__C': 100, 'clf__penalty': 'l2', 'transfo...</td>\n      <td>mean</td>\n      <td>SimpleImputer()</td>\n      <td>l2</td>\n      <td>100</td>\n      <td>0.001246</td>\n      <td>0.012666</td>\n      <td>0.004110</td>\n      <td>0.035848</td>\n    </tr>\n    <tr>\n      <th>6</th>\n      <td>13</td>\n      <td>0.034011</td>\n      <td>0.854256</td>\n      <td>0.885532</td>\n      <td>0.806972</td>\n      <td>0.870263</td>\n      <td>{'clf__C': 1, 'clf__penalty': 'l2', 'transform...</td>\n      <td>mean</td>\n      <td>SimpleImputer()</td>\n      <td>l2</td>\n      <td>1</td>\n      <td>0.002358</td>\n      <td>0.014666</td>\n      <td>0.005658</td>\n      <td>0.035000</td>\n    </tr>\n    <tr>\n      <th>19</th>\n      <td>14</td>\n      <td>0.033237</td>\n      <td>0.854083</td>\n      <td>0.884633</td>\n      <td>0.807871</td>\n      <td>0.869744</td>\n      <td>{'clf__C': 1, 'clf__penalty': 'l2', 'transform...</td>\n      <td>NaN</td>\n      <td>IterativeImputer(random_state=123)</td>\n      <td>l2</td>\n      <td>1</td>\n      <td>0.000817</td>\n      <td>0.013999</td>\n      <td>0.003091</td>\n      <td>0.063667</td>\n    </tr>\n    <tr>\n      <th>11</th>\n      <td>15</td>\n      <td>0.033103</td>\n      <td>0.853939</td>\n      <td>0.885607</td>\n      <td>0.808246</td>\n      <td>0.867964</td>\n      <td>{'clf__C': 10, 'clf__penalty': 'l2', 'transfor...</td>\n      <td>median</td>\n      <td>SimpleImputer()</td>\n      <td>l2</td>\n      <td>10</td>\n      <td>0.011181</td>\n      <td>0.021455</td>\n      <td>0.001464</td>\n      <td>0.032638</td>\n    </tr>\n    <tr>\n      <th>15</th>\n      <td>16</td>\n      <td>0.033419</td>\n      <td>0.853815</td>\n      <td>0.885907</td>\n      <td>0.807721</td>\n      <td>0.867816</td>\n      <td>{'clf__C': 100, 'clf__penalty': 'l2', 'transfo...</td>\n      <td>median</td>\n      <td>SimpleImputer()</td>\n      <td>l2</td>\n      <td>100</td>\n      <td>0.001221</td>\n      <td>0.011314</td>\n      <td>0.002710</td>\n      <td>0.031788</td>\n    </tr>\n    <tr>\n      <th>7</th>\n      <td>17</td>\n      <td>0.033965</td>\n      <td>0.853808</td>\n      <td>0.885082</td>\n      <td>0.806597</td>\n      <td>0.869744</td>\n      <td>{'clf__C': 1, 'clf__penalty': 'l2', 'transform...</td>\n      <td>median</td>\n      <td>SimpleImputer()</td>\n      <td>l2</td>\n      <td>1</td>\n      <td>0.001247</td>\n      <td>0.014667</td>\n      <td>0.008562</td>\n      <td>0.037492</td>\n    </tr>\n    <tr>\n      <th>9</th>\n      <td>18</td>\n      <td>0.033430</td>\n      <td>0.853765</td>\n      <td>0.885832</td>\n      <td>0.807646</td>\n      <td>0.867816</td>\n      <td>{'clf__C': 10, 'clf__penalty': 'none', 'transf...</td>\n      <td>median</td>\n      <td>SimpleImputer()</td>\n      <td>none</td>\n      <td>10</td>\n      <td>0.000818</td>\n      <td>0.012543</td>\n      <td>0.000982</td>\n      <td>0.032885</td>\n    </tr>\n    <tr>\n      <th>5</th>\n      <td>18</td>\n      <td>0.033430</td>\n      <td>0.853765</td>\n      <td>0.885832</td>\n      <td>0.807646</td>\n      <td>0.867816</td>\n      <td>{'clf__C': 1, 'clf__penalty': 'none', 'transfo...</td>\n      <td>median</td>\n      <td>SimpleImputer()</td>\n      <td>none</td>\n      <td>1</td>\n      <td>0.001886</td>\n      <td>0.014334</td>\n      <td>0.008056</td>\n      <td>0.037669</td>\n    </tr>\n    <tr>\n      <th>13</th>\n      <td>18</td>\n      <td>0.033430</td>\n      <td>0.853765</td>\n      <td>0.885832</td>\n      <td>0.807646</td>\n      <td>0.867816</td>\n      <td>{'clf__C': 100, 'clf__penalty': 'none', 'trans...</td>\n      <td>median</td>\n      <td>SimpleImputer()</td>\n      <td>none</td>\n      <td>100</td>\n      <td>0.000386</td>\n      <td>0.013454</td>\n      <td>0.000661</td>\n      <td>0.031448</td>\n    </tr>\n    <tr>\n      <th>1</th>\n      <td>18</td>\n      <td>0.033430</td>\n      <td>0.853765</td>\n      <td>0.885832</td>\n      <td>0.807646</td>\n      <td>0.867816</td>\n      <td>{'clf__C': 0.1, 'clf__penalty': 'none', 'trans...</td>\n      <td>median</td>\n      <td>SimpleImputer()</td>\n      <td>none</td>\n      <td>0.1</td>\n      <td>0.002124</td>\n      <td>0.015542</td>\n      <td>0.004880</td>\n      <td>0.047445</td>\n    </tr>\n    <tr>\n      <th>2</th>\n      <td>22</td>\n      <td>0.034882</td>\n      <td>0.851158</td>\n      <td>0.881184</td>\n      <td>0.802249</td>\n      <td>0.870041</td>\n      <td>{'clf__C': 0.1, 'clf__penalty': 'l2', 'transfo...</td>\n      <td>mean</td>\n      <td>SimpleImputer()</td>\n      <td>l2</td>\n      <td>0.1</td>\n      <td>0.000950</td>\n      <td>0.012703</td>\n      <td>0.002386</td>\n      <td>0.035345</td>\n    </tr>\n    <tr>\n      <th>3</th>\n      <td>23</td>\n      <td>0.034922</td>\n      <td>0.850509</td>\n      <td>0.880285</td>\n      <td>0.801499</td>\n      <td>0.869744</td>\n      <td>{'clf__C': 0.1, 'clf__penalty': 'l2', 'transfo...</td>\n      <td>median</td>\n      <td>SimpleImputer()</td>\n      <td>l2</td>\n      <td>0.1</td>\n      <td>0.001016</td>\n      <td>0.012843</td>\n      <td>0.008497</td>\n      <td>0.044872</td>\n    </tr>\n    <tr>\n      <th>17</th>\n      <td>24</td>\n      <td>0.034593</td>\n      <td>0.850487</td>\n      <td>0.880510</td>\n      <td>0.802024</td>\n      <td>0.868928</td>\n      <td>{'clf__C': 0.1, 'clf__penalty': 'l2', 'transfo...</td>\n      <td>NaN</td>\n      <td>IterativeImputer(random_state=123)</td>\n      <td>l2</td>\n      <td>0.1</td>\n      <td>0.000001</td>\n      <td>0.013999</td>\n      <td>0.007117</td>\n      <td>0.065002</td>\n    </tr>\n  </tbody>\n</table>\n</div>"
     },
     "metadata": {},
     "output_type": "display_data"
    },
    {
     "name": "stdout",
     "output_type": "stream",
     "text": [
      "параметры: {'clf__C': 100, 'clf__penalty': 'l2', 'transformer__nums__imputer': IterativeImputer(random_state=123)} \n",
      "roc-auc: 0.8552\n"
     ]
    }
   ],
   "source": [
    "display(pd.DataFrame(lr_gs.cv_results_).sort_values('rank_test_score').loc[:, ::-1])\n",
    "print(f'параметры: {lr_gs.best_params_}',\n",
    "      f'\\nroc-auc: {lr_gs.best_score_:.4f}')"
   ],
   "metadata": {
    "collapsed": false,
    "pycharm": {
     "name": "#%%\n"
    }
   }
  },
  {
   "cell_type": "code",
   "execution_count": 157,
   "outputs": [
    {
     "data": {
      "text/plain": "                 model      searcher  \\\n1                   lr          some   \n2  Logistic Regression  GridSearchCV   \n\n                                              params cv_roc_auc train_roc_auc  \\\n1                                           [(d, 3)]        5.6        6.2454   \n2  [(clf__C, 100), (clf__penalty, l2), (transform...     0.8552        0.8629   \n\n  test_roc_auc  \n1          NaN  \n2       0.8648  ",
      "text/html": "<div>\n<style scoped>\n    .dataframe tbody tr th:only-of-type {\n        vertical-align: middle;\n    }\n\n    .dataframe tbody tr th {\n        vertical-align: top;\n    }\n\n    .dataframe thead th {\n        text-align: right;\n    }\n</style>\n<table border=\"1\" class=\"dataframe\">\n  <thead>\n    <tr style=\"text-align: right;\">\n      <th></th>\n      <th>model</th>\n      <th>searcher</th>\n      <th>params</th>\n      <th>cv_roc_auc</th>\n      <th>train_roc_auc</th>\n      <th>test_roc_auc</th>\n    </tr>\n  </thead>\n  <tbody>\n    <tr>\n      <th>1</th>\n      <td>lr</td>\n      <td>some</td>\n      <td>[(d, 3)]</td>\n      <td>5.6</td>\n      <td>6.2454</td>\n      <td>NaN</td>\n    </tr>\n    <tr>\n      <th>2</th>\n      <td>Logistic Regression</td>\n      <td>GridSearchCV</td>\n      <td>[(clf__C, 100), (clf__penalty, l2), (transform...</td>\n      <td>0.8552</td>\n      <td>0.8629</td>\n      <td>0.8648</td>\n    </tr>\n  </tbody>\n</table>\n</div>"
     },
     "execution_count": 157,
     "metadata": {},
     "output_type": "execute_result"
    }
   ],
   "source": [
    "final_scorer(model_name='Logistic Regression',\n",
    "             searcher='GridSearchCV',\n",
    "             best_params=lr_gs.best_params_,\n",
    "             cv_best_score=lr_gs.best_score_,\n",
    "             train_roc_auc=roc_auc_score(y_train, lr_gs.best_estimator_.predict_proba(x_train)[:, 1]),\n",
    "             test_roc_auc=roc_auc_score(y_test, lr_gs.best_estimator_.predict_proba(x_test)[:, 1]))"
   ],
   "metadata": {
    "collapsed": false,
    "pycharm": {
     "name": "#%%\n"
    }
   }
  },
  {
   "cell_type": "code",
   "execution_count": 26,
   "outputs": [],
   "source": [
    "lr = lr_gs.best_estimator_"
   ],
   "metadata": {
    "collapsed": false,
    "pycharm": {
     "name": "#%%\n"
    }
   }
  },
  {
   "cell_type": "markdown",
   "source": [
    "Классификатор обучен и может уже что-то предсказывать. Посмотрим на важность признаков с точки зрения коэффициентов логистической регрессии и permutation_importance"
   ],
   "metadata": {
    "collapsed": false,
    "pycharm": {
     "name": "#%% md\n"
    }
   }
  },
  {
   "cell_type": "code",
   "execution_count": 27,
   "outputs": [
    {
     "data": {
      "text/plain": "<Figure size 1600x600 with 2 Axes>",
      "image/png": "[encoded data removed]"
     },
     "metadata": {},
     "output_type": "display_data"
    }
   ],
   "source": [
    "fig, (ax1, ax2) = plt.subplots(1, 2, figsize=(16, 6))\n",
    "\n",
    "pd.Series(lr.named_steps['clf'].coef_.reshape(-1), index=lr.named_steps['transformer'].get_feature_names_out()).sort_values().plot.barh(ax=ax1);\n",
    "ax1.set_title('LR coefs');\n",
    "\n",
    "r = permutation_importance(lr, x_train, y_train, scoring='roc_auc', n_repeats=30, random_state=123)\n",
    "pd.Series(r.importances_mean, index=x_train.columns).sort_values().plot.barh(xerr=r.importances_std, ax=ax2);\n",
    "ax2.set_title('Permutation importances');"
   ],
   "metadata": {
    "collapsed": false,
    "pycharm": {
     "name": "#%%\n"
    }
   }
  },
  {
   "cell_type": "markdown",
   "source": [
    "### Добавление полиномиальных признаков"
   ],
   "metadata": {
    "collapsed": false,
    "pycharm": {
     "name": "#%% md\n"
    }
   }
  },
  {
   "cell_type": "code",
   "execution_count": 28,
   "outputs": [],
   "source": [
    "num_ct_poly = Pipeline(steps=[('imputer', IterativeImputer(random_state=123)),\n",
    "                              ('scaler', StandardScaler()),\n",
    "                              ('poly', PolynomialFeatures())])\n",
    "\n",
    "cat_ct = Pipeline(steps=[('imputer', SimpleImputer(strategy='most_frequent')),\n",
    "                         ('ohe', OneHotEncoder(drop='first'))])\n",
    "\n",
    "transformer_poly = ColumnTransformer(transformers=[('nums', num_ct_poly, selector(dtype_exclude=\"object\")),\n",
    "                                                   ('cats', cat_ct, selector(dtype_include=\"object\"))],\n",
    "                                                    remainder='passthrough')\n",
    "\n",
    "clf_lr = LogisticRegression()\n",
    "# lr_pipe = Pipeline(steps=[('transformer', transformer_poly), ('clf', clf_lr)])\n",
    "#\n",
    "# lr_pipe.fit(x, y)"
   ],
   "metadata": {
    "collapsed": false,
    "pycharm": {
     "name": "#%%\n"
    }
   }
  },
  {
   "cell_type": "code",
   "execution_count": 29,
   "outputs": [],
   "source": [
    "rfe = RFE(clf_lr)"
   ],
   "metadata": {
    "collapsed": false,
    "pycharm": {
     "name": "#%%\n"
    }
   }
  },
  {
   "cell_type": "code",
   "execution_count": 30,
   "outputs": [
    {
     "data": {
      "text/plain": "           x1        x2        x3        x4        x5        x6        x7  \\\n632  1.355232  0.633343 -0.460103 -0.474312 -0.371558 -0.192122  1.836653   \n\n           x8        x9       x10  ...       x22       x23       x24  \\\n632  0.858326 -0.623546 -0.642803  ...  0.224972  0.176234  0.091126   \n\n          x25       x26       x27  x28  x29  x30  x31  \n632  0.138055  0.071385  0.036911  1.0  0.0  0.0  1.0  \n\n[1 rows x 31 columns]",
      "text/html": "<div>\n<style scoped>\n    .dataframe tbody tr th:only-of-type {\n        vertical-align: middle;\n    }\n\n    .dataframe tbody tr th {\n        vertical-align: top;\n    }\n\n    .dataframe thead th {\n        text-align: right;\n    }\n</style>\n<table border=\"1\" class=\"dataframe\">\n  <thead>\n    <tr style=\"text-align: right;\">\n      <th></th>\n      <th>x1</th>\n      <th>x2</th>\n      <th>x3</th>\n      <th>x4</th>\n      <th>x5</th>\n      <th>x6</th>\n      <th>x7</th>\n      <th>x8</th>\n      <th>x9</th>\n      <th>x10</th>\n      <th>...</th>\n      <th>x22</th>\n      <th>x23</th>\n      <th>x24</th>\n      <th>x25</th>\n      <th>x26</th>\n      <th>x27</th>\n      <th>x28</th>\n      <th>x29</th>\n      <th>x30</th>\n      <th>x31</th>\n    </tr>\n  </thead>\n  <tbody>\n    <tr>\n      <th>632</th>\n      <td>1.355232</td>\n      <td>0.633343</td>\n      <td>-0.460103</td>\n      <td>-0.474312</td>\n      <td>-0.371558</td>\n      <td>-0.192122</td>\n      <td>1.836653</td>\n      <td>0.858326</td>\n      <td>-0.623546</td>\n      <td>-0.642803</td>\n      <td>...</td>\n      <td>0.224972</td>\n      <td>0.176234</td>\n      <td>0.091126</td>\n      <td>0.138055</td>\n      <td>0.071385</td>\n      <td>0.036911</td>\n      <td>1.0</td>\n      <td>0.0</td>\n      <td>0.0</td>\n      <td>1.0</td>\n    </tr>\n  </tbody>\n</table>\n<p>1 rows × 31 columns</p>\n</div>"
     },
     "execution_count": 30,
     "metadata": {},
     "output_type": "execute_result"
    }
   ],
   "source": [
    "# создание словаря с признаками после всех преобразований можно было использовать rfe.support_\n",
    "poly_features = pd.DataFrame({f'x{i}': transformer_poly.fit_transform(x_train)[: , i] for i in range(1, transformer_poly.fit_transform(x_train).shape[1])})\n",
    "poly_features.sample()"
   ],
   "metadata": {
    "collapsed": false,
    "pycharm": {
     "name": "#%%\n"
    }
   }
  },
  {
   "cell_type": "code",
   "execution_count": 31,
   "outputs": [
    {
     "name": "stderr",
     "output_type": "stream",
     "text": [
      "C:\\work_and_fun\\partisans\\PP\\mistakes-and-regrets\\lib\\site-packages\\sklearn\\linear_model\\_logistic.py:458: ConvergenceWarning: lbfgs failed to converge (status=1):\n",
      "STOP: TOTAL NO. of ITERATIONS REACHED LIMIT.\n",
      "\n",
      "Increase the number of iterations (max_iter) or scale the data as shown in:\n",
      "    https://scikit-learn.org/stable/modules/preprocessing.html\n",
      "Please also refer to the documentation for alternative solver options:\n",
      "    https://scikit-learn.org/stable/modules/linear_model.html#logistic-regression\n",
      "  n_iter_i = _check_optimize_result(\n"
     ]
    },
    {
     "data": {
      "text/plain": "RFE(estimator=LogisticRegression())",
      "text/html": "<style>#sk-container-id-2 {color: black;background-color: white;}#sk-container-id-2 pre{padding: 0;}#sk-container-id-2 div.sk-toggleable {background-color: white;}#sk-container-id-2 label.sk-toggleable__label {cursor: pointer;display: block;width: 100%;margin-bottom: 0;padding: 0.3em;box-sizing: border-box;text-align: center;}#sk-container-id-2 label.sk-toggleable__label-arrow:before {content: \"▸\";float: left;margin-right: 0.25em;color: #696969;}#sk-container-id-2 label.sk-toggleable__label-arrow:hover:before {color: black;}#sk-container-id-2 div.sk-estimator:hover label.sk-toggleable__label-arrow:before {color: black;}#sk-container-id-2 div.sk-toggleable__content {max-height: 0;max-width: 0;overflow: hidden;text-align: left;background-color: #f0f8ff;}#sk-container-id-2 div.sk-toggleable__content pre {margin: 0.2em;color: black;border-radius: 0.25em;background-color: #f0f8ff;}#sk-container-id-2 input.sk-toggleable__control:checked~div.sk-toggleable__content {max-height: 200px;max-width: 100%;overflow: auto;}#sk-container-id-2 input.sk-toggleable__control:checked~label.sk-toggleable__label-arrow:before {content: \"▾\";}#sk-container-id-2 div.sk-estimator input.sk-toggleable__control:checked~label.sk-toggleable__label {background-color: #d4ebff;}#sk-container-id-2 div.sk-label input.sk-toggleable__control:checked~label.sk-toggleable__label {background-color: #d4ebff;}#sk-container-id-2 input.sk-hidden--visually {border: 0;clip: rect(1px 1px 1px 1px);clip: rect(1px, 1px, 1px, 1px);height: 1px;margin: -1px;overflow: hidden;padding: 0;position: absolute;width: 1px;}#sk-container-id-2 div.sk-estimator {font-family: monospace;background-color: #f0f8ff;border: 1px dotted black;border-radius: 0.25em;box-sizing: border-box;margin-bottom: 0.5em;}#sk-container-id-2 div.sk-estimator:hover {background-color: #d4ebff;}#sk-container-id-2 div.sk-parallel-item::after {content: \"\";width: 100%;border-bottom: 1px solid gray;flex-grow: 1;}#sk-container-id-2 div.sk-label:hover label.sk-toggleable__label {background-color: #d4ebff;}#sk-container-id-2 div.sk-serial::before {content: \"\";position: absolute;border-left: 1px solid gray;box-sizing: border-box;top: 0;bottom: 0;left: 50%;z-index: 0;}#sk-container-id-2 div.sk-serial {display: flex;flex-direction: column;align-items: center;background-color: white;padding-right: 0.2em;padding-left: 0.2em;position: relative;}#sk-container-id-2 div.sk-item {position: relative;z-index: 1;}#sk-container-id-2 div.sk-parallel {display: flex;align-items: stretch;justify-content: center;background-color: white;position: relative;}#sk-container-id-2 div.sk-item::before, #sk-container-id-2 div.sk-parallel-item::before {content: \"\";position: absolute;border-left: 1px solid gray;box-sizing: border-box;top: 0;bottom: 0;left: 50%;z-index: -1;}#sk-container-id-2 div.sk-parallel-item {display: flex;flex-direction: column;z-index: 1;position: relative;background-color: white;}#sk-container-id-2 div.sk-parallel-item:first-child::after {align-self: flex-end;width: 50%;}#sk-container-id-2 div.sk-parallel-item:last-child::after {align-self: flex-start;width: 50%;}#sk-container-id-2 div.sk-parallel-item:only-child::after {width: 0;}#sk-container-id-2 div.sk-dashed-wrapped {border: 1px dashed gray;margin: 0 0.4em 0.5em 0.4em;box-sizing: border-box;padding-bottom: 0.4em;background-color: white;}#sk-container-id-2 div.sk-label label {font-family: monospace;font-weight: bold;display: inline-block;line-height: 1.2em;}#sk-container-id-2 div.sk-label-container {text-align: center;}#sk-container-id-2 div.sk-container {/* jupyter's `normalize.less` sets `[hidden] { display: none; }` but bootstrap.min.css set `[hidden] { display: none !important; }` so we also need the `!important` here to be able to override the default hidden behavior on the sphinx rendered scikit-learn.org. See: https://github.com/scikit-learn/scikit-learn/issues/21755 */display: inline-block !important;position: relative;}#sk-container-id-2 div.sk-text-repr-fallback {display: none;}</style><div id=\"sk-container-id-2\" class=\"sk-top-container\"><div class=\"sk-text-repr-fallback\"><pre>RFE(estimator=LogisticRegression())</pre><b>In a Jupyter environment, please rerun this cell to show the HTML representation or trust the notebook. <br />On GitHub, the HTML representation is unable to render, please try loading this page with nbviewer.org.</b></div><div class=\"sk-container\" hidden><div class=\"sk-item sk-dashed-wrapped\"><div class=\"sk-label-container\"><div class=\"sk-label sk-toggleable\"><input class=\"sk-toggleable__control sk-hidden--visually\" id=\"sk-estimator-id-11\" type=\"checkbox\" ><label for=\"sk-estimator-id-11\" class=\"sk-toggleable__label sk-toggleable__label-arrow\">RFE</label><div class=\"sk-toggleable__content\"><pre>RFE(estimator=LogisticRegression())</pre></div></div></div><div class=\"sk-parallel\"><div class=\"sk-parallel-item\"><div class=\"sk-item\"><div class=\"sk-label-container\"><div class=\"sk-label sk-toggleable\"><input class=\"sk-toggleable__control sk-hidden--visually\" id=\"sk-estimator-id-12\" type=\"checkbox\" ><label for=\"sk-estimator-id-12\" class=\"sk-toggleable__label sk-toggleable__label-arrow\">estimator: LogisticRegression</label><div class=\"sk-toggleable__content\"><pre>LogisticRegression()</pre></div></div></div><div class=\"sk-serial\"><div class=\"sk-item\"><div class=\"sk-estimator sk-toggleable\"><input class=\"sk-toggleable__control sk-hidden--visually\" id=\"sk-estimator-id-13\" type=\"checkbox\" ><label for=\"sk-estimator-id-13\" class=\"sk-toggleable__label sk-toggleable__label-arrow\">LogisticRegression</label><div class=\"sk-toggleable__content\"><pre>LogisticRegression()</pre></div></div></div></div></div></div></div></div></div></div>"
     },
     "execution_count": 31,
     "metadata": {},
     "output_type": "execute_result"
    }
   ],
   "source": [
    "rfe.fit(poly_features, y_train)"
   ],
   "metadata": {
    "collapsed": false,
    "pycharm": {
     "name": "#%%\n"
    }
   }
  },
  {
   "cell_type": "code",
   "execution_count": 32,
   "outputs": [
    {
     "data": {
      "text/plain": "array([ 1,  1, 14, 11,  1,  1,  1,  1, 10,  2,  1,  1,  7,  1,  1,  1,  9,\n        1, 15, 17,  8,  5, 12,  3, 13, 16,  6,  1,  1,  4,  1])"
     },
     "execution_count": 32,
     "metadata": {},
     "output_type": "execute_result"
    }
   ],
   "source": [
    "rfe.ranking_"
   ],
   "metadata": {
    "collapsed": false,
    "pycharm": {
     "name": "#%%\n"
    }
   }
  },
  {
   "cell_type": "code",
   "execution_count": 33,
   "outputs": [
    {
     "data": {
      "text/plain": "array([[ 0.91629682, -0.35695898,  0.21786848,  0.52987345,  0.56544174,\n         0.37042107,  0.47137532, -0.27034299,  0.18905224, -0.49893444,\n         0.58547265, -0.27852124, -0.82206213, -1.63396132, -0.49676722]])"
     },
     "execution_count": 33,
     "metadata": {},
     "output_type": "execute_result"
    }
   ],
   "source": [
    "rfe.estimator_.coef_"
   ],
   "metadata": {
    "collapsed": false,
    "pycharm": {
     "name": "#%%\n"
    }
   }
  },
  {
   "cell_type": "code",
   "execution_count": 34,
   "outputs": [
    {
     "data": {
      "text/plain": "(15,)"
     },
     "execution_count": 34,
     "metadata": {},
     "output_type": "execute_result"
    }
   ],
   "source": [
    "rfe_imp_features = rfe.get_feature_names_out()\n",
    "rfe_imp_features.shape"
   ],
   "metadata": {
    "collapsed": false,
    "pycharm": {
     "name": "#%%\n"
    }
   }
  },
  {
   "cell_type": "code",
   "execution_count": 35,
   "outputs": [
    {
     "data": {
      "text/plain": "0.868694147549881"
     },
     "execution_count": 35,
     "metadata": {},
     "output_type": "execute_result"
    }
   ],
   "source": [
    "cross_val_score(clf_lr, poly_features[rfe_imp_features], y_train, cv=3, scoring='roc_auc').mean()"
   ],
   "metadata": {
    "collapsed": false,
    "pycharm": {
     "name": "#%%\n"
    }
   }
  },
  {
   "cell_type": "markdown",
   "source": [
    "### Встраивание RFE в Gridsearch"
   ],
   "metadata": {
    "collapsed": false,
    "pycharm": {
     "name": "#%% md\n"
    }
   }
  },
  {
   "cell_type": "code",
   "execution_count": 36,
   "outputs": [],
   "source": [
    "# класс, который возвращает коэффициенты логистической регрессии\n",
    "# https://stackoverflow.com/questions/36683230/grid-search-with-recursive-feature-elimination-in-scikit-learn-pipeline-returns\n",
    "\n",
    "class MyPipe(Pipeline):\n",
    "\n",
    "    def fit(self, X, y=None, **fit_params):\n",
    "        \"\"\"Calls last elements .coef_ method.\n",
    "        Based on the sourcecode for decision_function(X).\n",
    "        Link: https://github.com/scikit-learn/scikit-learn/blob/master/sklearn/pipeline.py\n",
    "        ----------\n",
    "        \"\"\"\n",
    "        super(MyPipe, self).fit(X, y, **fit_params)\n",
    "        self.coef_ = self.steps[-1][-1].coef_\n",
    "        return self"
   ],
   "metadata": {
    "collapsed": false,
    "pycharm": {
     "name": "#%%\n"
    }
   }
  },
  {
   "cell_type": "code",
   "execution_count": 37,
   "outputs": [
    {
     "name": "stdout",
     "output_type": "stream",
     "text": [
      "Fitting 3 folds for each of 120 candidates, totalling 360 fits\n",
      "Fitting estimator with 32 features.\n",
      "Fitting estimator with 31 features.\n",
      "Fitting estimator with 30 features.\n",
      "Fitting estimator with 29 features.\n",
      "Fitting estimator with 28 features.\n",
      "Fitting estimator with 27 features.\n",
      "Fitting estimator with 26 features.\n",
      "Fitting estimator with 25 features.\n",
      "Fitting estimator with 24 features.\n",
      "Fitting estimator with 23 features.\n",
      "Fitting estimator with 22 features.\n",
      "Fitting estimator with 21 features.\n",
      "Fitting estimator with 20 features.\n",
      "Fitting estimator with 19 features.\n",
      "Fitting estimator with 18 features.\n",
      "Fitting estimator with 17 features.\n",
      "Fitting estimator with 16 features.\n",
      "Fitting estimator with 15 features.\n"
     ]
    },
    {
     "data": {
      "text/plain": "GridSearchCV(cv=3,\n             estimator=Pipeline(steps=[('transformer',\n                                        ColumnTransformer(remainder='passthrough',\n                                                          transformers=[('nums',\n                                                                         Pipeline(steps=[('imputer',\n                                                                                          IterativeImputer(random_state=123)),\n                                                                                         ('scaler',\n                                                                                          StandardScaler()),\n                                                                                         ('poly',\n                                                                                          PolynomialFeatures())]),\n                                                                         <sklearn.compose._column_transformer.make_column_selector object at 0x0000022EB007ECA0>),\n                                                                        ('cats',\n                                                                         Pipeline(s...\n                                                                                         ('ohe',\n                                                                                          OneHotEncoder(drop='first'))]),\n                                                                         <sklearn.compose._column_transformer.make_column_selector object at 0x0000022EB007EC70>)])),\n                                       ('rfe',\n                                        RFE(estimator=LogisticRegression(),\n                                            verbose=99))]),\n             n_jobs=-1,\n             param_grid=[{'rfe__estimator__C': [0.1, 1, 10, 100],\n                          'rfe__estimator__penalty': [None, 'l2'],\n                          'rfe__n_features_to_select': range(5, 20)}],\n             scoring='roc_auc', verbose=10)",
      "text/html": "<style>#sk-container-id-3 {color: black;background-color: white;}#sk-container-id-3 pre{padding: 0;}#sk-container-id-3 div.sk-toggleable {background-color: white;}#sk-container-id-3 label.sk-toggleable__label {cursor: pointer;display: block;width: 100%;margin-bottom: 0;padding: 0.3em;box-sizing: border-box;text-align: center;}#sk-container-id-3 label.sk-toggleable__label-arrow:before {content: \"▸\";float: left;margin-right: 0.25em;color: #696969;}#sk-container-id-3 label.sk-toggleable__label-arrow:hover:before {color: black;}#sk-container-id-3 div.sk-estimator:hover label.sk-toggleable__label-arrow:before {color: black;}#sk-container-id-3 div.sk-toggleable__content {max-height: 0;max-width: 0;overflow: hidden;text-align: left;background-color: #f0f8ff;}#sk-container-id-3 div.sk-toggleable__content pre {margin: 0.2em;color: black;border-radius: 0.25em;background-color: #f0f8ff;}#sk-container-id-3 input.sk-toggleable__control:checked~div.sk-toggleable__content {max-height: 200px;max-width: 100%;overflow: auto;}#sk-container-id-3 input.sk-toggleable__control:checked~label.sk-toggleable__label-arrow:before {content: \"▾\";}#sk-container-id-3 div.sk-estimator input.sk-toggleable__control:checked~label.sk-toggleable__label {background-color: #d4ebff;}#sk-container-id-3 div.sk-label input.sk-toggleable__control:checked~label.sk-toggleable__label {background-color: #d4ebff;}#sk-container-id-3 input.sk-hidden--visually {border: 0;clip: rect(1px 1px 1px 1px);clip: rect(1px, 1px, 1px, 1px);height: 1px;margin: -1px;overflow: hidden;padding: 0;position: absolute;width: 1px;}#sk-container-id-3 div.sk-estimator {font-family: monospace;background-color: #f0f8ff;border: 1px dotted black;border-radius: 0.25em;box-sizing: border-box;margin-bottom: 0.5em;}#sk-container-id-3 div.sk-estimator:hover {background-color: #d4ebff;}#sk-container-id-3 div.sk-parallel-item::after {content: \"\";width: 100%;border-bottom: 1px solid gray;flex-grow: 1;}#sk-container-id-3 div.sk-label:hover label.sk-toggleable__label {background-color: #d4ebff;}#sk-container-id-3 div.sk-serial::before {content: \"\";position: absolute;border-left: 1px solid gray;box-sizing: border-box;top: 0;bottom: 0;left: 50%;z-index: 0;}#sk-container-id-3 div.sk-serial {display: flex;flex-direction: column;align-items: center;background-color: white;padding-right: 0.2em;padding-left: 0.2em;position: relative;}#sk-container-id-3 div.sk-item {position: relative;z-index: 1;}#sk-container-id-3 div.sk-parallel {display: flex;align-items: stretch;justify-content: center;background-color: white;position: relative;}#sk-container-id-3 div.sk-item::before, #sk-container-id-3 div.sk-parallel-item::before {content: \"\";position: absolute;border-left: 1px solid gray;box-sizing: border-box;top: 0;bottom: 0;left: 50%;z-index: -1;}#sk-container-id-3 div.sk-parallel-item {display: flex;flex-direction: column;z-index: 1;position: relative;background-color: white;}#sk-container-id-3 div.sk-parallel-item:first-child::after {align-self: flex-end;width: 50%;}#sk-container-id-3 div.sk-parallel-item:last-child::after {align-self: flex-start;width: 50%;}#sk-container-id-3 div.sk-parallel-item:only-child::after {width: 0;}#sk-container-id-3 div.sk-dashed-wrapped {border: 1px dashed gray;margin: 0 0.4em 0.5em 0.4em;box-sizing: border-box;padding-bottom: 0.4em;background-color: white;}#sk-container-id-3 div.sk-label label {font-family: monospace;font-weight: bold;display: inline-block;line-height: 1.2em;}#sk-container-id-3 div.sk-label-container {text-align: center;}#sk-container-id-3 div.sk-container {/* jupyter's `normalize.less` sets `[hidden] { display: none; }` but bootstrap.min.css set `[hidden] { display: none !important; }` so we also need the `!important` here to be able to override the default hidden behavior on the sphinx rendered scikit-learn.org. See: https://github.com/scikit-learn/scikit-learn/issues/21755 */display: inline-block !important;position: relative;}#sk-container-id-3 div.sk-text-repr-fallback {display: none;}</style><div id=\"sk-container-id-3\" class=\"sk-top-container\"><div class=\"sk-text-repr-fallback\"><pre>GridSearchCV(cv=3,\n             estimator=Pipeline(steps=[(&#x27;transformer&#x27;,\n                                        ColumnTransformer(remainder=&#x27;passthrough&#x27;,\n                                                          transformers=[(&#x27;nums&#x27;,\n                                                                         Pipeline(steps=[(&#x27;imputer&#x27;,\n                                                                                          IterativeImputer(random_state=123)),\n                                                                                         (&#x27;scaler&#x27;,\n                                                                                          StandardScaler()),\n                                                                                         (&#x27;poly&#x27;,\n                                                                                          PolynomialFeatures())]),\n                                                                         &lt;sklearn.compose._column_transformer.make_column_selector object at 0x0000022EB007ECA0&gt;),\n                                                                        (&#x27;cats&#x27;,\n                                                                         Pipeline(s...\n                                                                                         (&#x27;ohe&#x27;,\n                                                                                          OneHotEncoder(drop=&#x27;first&#x27;))]),\n                                                                         &lt;sklearn.compose._column_transformer.make_column_selector object at 0x0000022EB007EC70&gt;)])),\n                                       (&#x27;rfe&#x27;,\n                                        RFE(estimator=LogisticRegression(),\n                                            verbose=99))]),\n             n_jobs=-1,\n             param_grid=[{&#x27;rfe__estimator__C&#x27;: [0.1, 1, 10, 100],\n                          &#x27;rfe__estimator__penalty&#x27;: [None, &#x27;l2&#x27;],\n                          &#x27;rfe__n_features_to_select&#x27;: range(5, 20)}],\n             scoring=&#x27;roc_auc&#x27;, verbose=10)</pre><b>In a Jupyter environment, please rerun this cell to show the HTML representation or trust the notebook. <br />On GitHub, the HTML representation is unable to render, please try loading this page with nbviewer.org.</b></div><div class=\"sk-container\" hidden><div class=\"sk-item sk-dashed-wrapped\"><div class=\"sk-label-container\"><div class=\"sk-label sk-toggleable\"><input class=\"sk-toggleable__control sk-hidden--visually\" id=\"sk-estimator-id-14\" type=\"checkbox\" ><label for=\"sk-estimator-id-14\" class=\"sk-toggleable__label sk-toggleable__label-arrow\">GridSearchCV</label><div class=\"sk-toggleable__content\"><pre>GridSearchCV(cv=3,\n             estimator=Pipeline(steps=[(&#x27;transformer&#x27;,\n                                        ColumnTransformer(remainder=&#x27;passthrough&#x27;,\n                                                          transformers=[(&#x27;nums&#x27;,\n                                                                         Pipeline(steps=[(&#x27;imputer&#x27;,\n                                                                                          IterativeImputer(random_state=123)),\n                                                                                         (&#x27;scaler&#x27;,\n                                                                                          StandardScaler()),\n                                                                                         (&#x27;poly&#x27;,\n                                                                                          PolynomialFeatures())]),\n                                                                         &lt;sklearn.compose._column_transformer.make_column_selector object at 0x0000022EB007ECA0&gt;),\n                                                                        (&#x27;cats&#x27;,\n                                                                         Pipeline(s...\n                                                                                         (&#x27;ohe&#x27;,\n                                                                                          OneHotEncoder(drop=&#x27;first&#x27;))]),\n                                                                         &lt;sklearn.compose._column_transformer.make_column_selector object at 0x0000022EB007EC70&gt;)])),\n                                       (&#x27;rfe&#x27;,\n                                        RFE(estimator=LogisticRegression(),\n                                            verbose=99))]),\n             n_jobs=-1,\n             param_grid=[{&#x27;rfe__estimator__C&#x27;: [0.1, 1, 10, 100],\n                          &#x27;rfe__estimator__penalty&#x27;: [None, &#x27;l2&#x27;],\n                          &#x27;rfe__n_features_to_select&#x27;: range(5, 20)}],\n             scoring=&#x27;roc_auc&#x27;, verbose=10)</pre></div></div></div><div class=\"sk-parallel\"><div class=\"sk-parallel-item\"><div class=\"sk-item\"><div class=\"sk-label-container\"><div class=\"sk-label sk-toggleable\"><input class=\"sk-toggleable__control sk-hidden--visually\" id=\"sk-estimator-id-15\" type=\"checkbox\" ><label for=\"sk-estimator-id-15\" class=\"sk-toggleable__label sk-toggleable__label-arrow\">estimator: Pipeline</label><div class=\"sk-toggleable__content\"><pre>Pipeline(steps=[(&#x27;transformer&#x27;,\n                 ColumnTransformer(remainder=&#x27;passthrough&#x27;,\n                                   transformers=[(&#x27;nums&#x27;,\n                                                  Pipeline(steps=[(&#x27;imputer&#x27;,\n                                                                   IterativeImputer(random_state=123)),\n                                                                  (&#x27;scaler&#x27;,\n                                                                   StandardScaler()),\n                                                                  (&#x27;poly&#x27;,\n                                                                   PolynomialFeatures())]),\n                                                  &lt;sklearn.compose._column_transformer.make_column_selector object at 0x0000022EB007ECA0&gt;),\n                                                 (&#x27;cats&#x27;,\n                                                  Pipeline(steps=[(&#x27;imputer&#x27;,\n                                                                   SimpleImputer(strategy=&#x27;most_frequent&#x27;)),\n                                                                  (&#x27;ohe&#x27;,\n                                                                   OneHotEncoder(drop=&#x27;first&#x27;))]),\n                                                  &lt;sklearn.compose._column_transformer.make_column_selector object at 0x0000022EB007EC70&gt;)])),\n                (&#x27;rfe&#x27;, RFE(estimator=LogisticRegression(), verbose=99))])</pre></div></div></div><div class=\"sk-serial\"><div class=\"sk-item\"><div class=\"sk-serial\"><div class=\"sk-item sk-dashed-wrapped\"><div class=\"sk-label-container\"><div class=\"sk-label sk-toggleable\"><input class=\"sk-toggleable__control sk-hidden--visually\" id=\"sk-estimator-id-16\" type=\"checkbox\" ><label for=\"sk-estimator-id-16\" class=\"sk-toggleable__label sk-toggleable__label-arrow\">transformer: ColumnTransformer</label><div class=\"sk-toggleable__content\"><pre>ColumnTransformer(remainder=&#x27;passthrough&#x27;,\n                  transformers=[(&#x27;nums&#x27;,\n                                 Pipeline(steps=[(&#x27;imputer&#x27;,\n                                                  IterativeImputer(random_state=123)),\n                                                 (&#x27;scaler&#x27;, StandardScaler()),\n                                                 (&#x27;poly&#x27;,\n                                                  PolynomialFeatures())]),\n                                 &lt;sklearn.compose._column_transformer.make_column_selector object at 0x0000022EB007ECA0&gt;),\n                                (&#x27;cats&#x27;,\n                                 Pipeline(steps=[(&#x27;imputer&#x27;,\n                                                  SimpleImputer(strategy=&#x27;most_frequent&#x27;)),\n                                                 (&#x27;ohe&#x27;,\n                                                  OneHotEncoder(drop=&#x27;first&#x27;))]),\n                                 &lt;sklearn.compose._column_transformer.make_column_selector object at 0x0000022EB007EC70&gt;)])</pre></div></div></div><div class=\"sk-parallel\"><div class=\"sk-parallel-item\"><div class=\"sk-item\"><div class=\"sk-label-container\"><div class=\"sk-label sk-toggleable\"><input class=\"sk-toggleable__control sk-hidden--visually\" id=\"sk-estimator-id-17\" type=\"checkbox\" ><label for=\"sk-estimator-id-17\" class=\"sk-toggleable__label sk-toggleable__label-arrow\">nums</label><div class=\"sk-toggleable__content\"><pre>&lt;sklearn.compose._column_transformer.make_column_selector object at 0x0000022EB007ECA0&gt;</pre></div></div></div><div class=\"sk-serial\"><div class=\"sk-item\"><div class=\"sk-serial\"><div class=\"sk-item\"><div class=\"sk-estimator sk-toggleable\"><input class=\"sk-toggleable__control sk-hidden--visually\" id=\"sk-estimator-id-18\" type=\"checkbox\" ><label for=\"sk-estimator-id-18\" class=\"sk-toggleable__label sk-toggleable__label-arrow\">IterativeImputer</label><div class=\"sk-toggleable__content\"><pre>IterativeImputer(random_state=123)</pre></div></div></div><div class=\"sk-item\"><div class=\"sk-estimator sk-toggleable\"><input class=\"sk-toggleable__control sk-hidden--visually\" id=\"sk-estimator-id-19\" type=\"checkbox\" ><label for=\"sk-estimator-id-19\" class=\"sk-toggleable__label sk-toggleable__label-arrow\">StandardScaler</label><div class=\"sk-toggleable__content\"><pre>StandardScaler()</pre></div></div></div><div class=\"sk-item\"><div class=\"sk-estimator sk-toggleable\"><input class=\"sk-toggleable__control sk-hidden--visually\" id=\"sk-estimator-id-20\" type=\"checkbox\" ><label for=\"sk-estimator-id-20\" class=\"sk-toggleable__label sk-toggleable__label-arrow\">PolynomialFeatures</label><div class=\"sk-toggleable__content\"><pre>PolynomialFeatures()</pre></div></div></div></div></div></div></div></div><div class=\"sk-parallel-item\"><div class=\"sk-item\"><div class=\"sk-label-container\"><div class=\"sk-label sk-toggleable\"><input class=\"sk-toggleable__control sk-hidden--visually\" id=\"sk-estimator-id-21\" type=\"checkbox\" ><label for=\"sk-estimator-id-21\" class=\"sk-toggleable__label sk-toggleable__label-arrow\">cats</label><div class=\"sk-toggleable__content\"><pre>&lt;sklearn.compose._column_transformer.make_column_selector object at 0x0000022EB007EC70&gt;</pre></div></div></div><div class=\"sk-serial\"><div class=\"sk-item\"><div class=\"sk-serial\"><div class=\"sk-item\"><div class=\"sk-estimator sk-toggleable\"><input class=\"sk-toggleable__control sk-hidden--visually\" id=\"sk-estimator-id-22\" type=\"checkbox\" ><label for=\"sk-estimator-id-22\" class=\"sk-toggleable__label sk-toggleable__label-arrow\">SimpleImputer</label><div class=\"sk-toggleable__content\"><pre>SimpleImputer(strategy=&#x27;most_frequent&#x27;)</pre></div></div></div><div class=\"sk-item\"><div class=\"sk-estimator sk-toggleable\"><input class=\"sk-toggleable__control sk-hidden--visually\" id=\"sk-estimator-id-23\" type=\"checkbox\" ><label for=\"sk-estimator-id-23\" class=\"sk-toggleable__label sk-toggleable__label-arrow\">OneHotEncoder</label><div class=\"sk-toggleable__content\"><pre>OneHotEncoder(drop=&#x27;first&#x27;)</pre></div></div></div></div></div></div></div></div><div class=\"sk-parallel-item\"><div class=\"sk-item\"><div class=\"sk-label-container\"><div class=\"sk-label sk-toggleable\"><input class=\"sk-toggleable__control sk-hidden--visually\" id=\"sk-estimator-id-24\" type=\"checkbox\" ><label for=\"sk-estimator-id-24\" class=\"sk-toggleable__label sk-toggleable__label-arrow\">remainder</label><div class=\"sk-toggleable__content\"><pre>[]</pre></div></div></div><div class=\"sk-serial\"><div class=\"sk-item\"><div class=\"sk-estimator sk-toggleable\"><input class=\"sk-toggleable__control sk-hidden--visually\" id=\"sk-estimator-id-25\" type=\"checkbox\" ><label for=\"sk-estimator-id-25\" class=\"sk-toggleable__label sk-toggleable__label-arrow\">passthrough</label><div class=\"sk-toggleable__content\"><pre>passthrough</pre></div></div></div></div></div></div></div></div><div class=\"sk-item sk-dashed-wrapped\"><div class=\"sk-label-container\"><div class=\"sk-label sk-toggleable\"><input class=\"sk-toggleable__control sk-hidden--visually\" id=\"sk-estimator-id-26\" type=\"checkbox\" ><label for=\"sk-estimator-id-26\" class=\"sk-toggleable__label sk-toggleable__label-arrow\">rfe: RFE</label><div class=\"sk-toggleable__content\"><pre>RFE(estimator=LogisticRegression(), verbose=99)</pre></div></div></div><div class=\"sk-parallel\"><div class=\"sk-parallel-item\"><div class=\"sk-item\"><div class=\"sk-label-container\"><div class=\"sk-label sk-toggleable\"><input class=\"sk-toggleable__control sk-hidden--visually\" id=\"sk-estimator-id-27\" type=\"checkbox\" ><label for=\"sk-estimator-id-27\" class=\"sk-toggleable__label sk-toggleable__label-arrow\">estimator: LogisticRegression</label><div class=\"sk-toggleable__content\"><pre>LogisticRegression()</pre></div></div></div><div class=\"sk-serial\"><div class=\"sk-item\"><div class=\"sk-estimator sk-toggleable\"><input class=\"sk-toggleable__control sk-hidden--visually\" id=\"sk-estimator-id-28\" type=\"checkbox\" ><label for=\"sk-estimator-id-28\" class=\"sk-toggleable__label sk-toggleable__label-arrow\">LogisticRegression</label><div class=\"sk-toggleable__content\"><pre>LogisticRegression()</pre></div></div></div></div></div></div></div></div></div></div></div></div></div></div></div></div></div>"
     },
     "execution_count": 37,
     "metadata": {},
     "output_type": "execute_result"
    }
   ],
   "source": [
    "num_ct_poly = Pipeline(steps=[('imputer', IterativeImputer(random_state=123)),\n",
    "                              ('scaler', StandardScaler()),\n",
    "                              ('poly', PolynomialFeatures())])\n",
    "\n",
    "cat_ct = Pipeline(steps=[('imputer', SimpleImputer(strategy='most_frequent')),\n",
    "                         ('ohe', OneHotEncoder(drop='first'))])\n",
    "\n",
    "transformer_poly = ColumnTransformer(transformers=[('nums', num_ct_poly, selector(dtype_exclude=\"object\")),\n",
    "                                                   ('cats', cat_ct, selector(dtype_include=\"object\"))],\n",
    "                                                    remainder='passthrough')\n",
    "\n",
    "x_poly = transformer_poly.fit_transform(x_train)\n",
    "\n",
    "params = [{'rfe__estimator__penalty': [None, 'l2'],\n",
    "           'rfe__estimator__C': [0.1, 1, 10, 100],\n",
    "           'rfe__n_features_to_select': range(5, 20)\n",
    "          }]\n",
    "\n",
    "clf_lr = LogisticRegression()\n",
    "rfe = RFE(estimator=clf_lr, verbose=99)\n",
    "\n",
    "lr_pipe_poly = Pipeline(steps=[('transformer', transformer_poly), ('rfe', rfe)])\n",
    "\n",
    "lr_gs_poly=GridSearchCV(estimator=lr_pipe_poly,\n",
    "                        param_grid=params,\n",
    "                        scoring='roc_auc',\n",
    "                        refit=True,\n",
    "                        cv=3,\n",
    "                        n_jobs=-1,\n",
    "                        verbose=10)\n",
    "\n",
    "lr_gs_poly.fit(x_train, y_train)"
   ],
   "metadata": {
    "collapsed": false,
    "pycharm": {
     "name": "#%%\n"
    }
   }
  },
  {
   "cell_type": "code",
   "execution_count": 38,
   "outputs": [
    {
     "data": {
      "text/plain": "     mean_fit_time  std_fit_time  mean_score_time  std_score_time  \\\n24        0.273665      0.013425         0.014002    9.199649e-07   \n85        0.456002      0.027314         0.014666    9.429095e-04   \n115       0.427668      0.110551         0.013333    2.493960e-03   \n11        0.344000      0.021275         0.013666    4.715406e-04   \n41        0.327333      0.017517         0.013000    1.173403e-06   \n101       0.363332      0.042501         0.015334    2.624600e-03   \n71        0.384000      0.029676         0.014333    4.712026e-04   \n26        0.250666      0.013426         0.014335    4.718762e-04   \n25        0.269000      0.014990         0.014666    1.248063e-03   \n28        0.263332      0.013572         0.018334    4.190346e-03   \n116       0.384000      0.073558         0.012999    8.151722e-04   \n27        0.260999      0.019202         0.014668    4.701907e-04   \n29        0.251332      0.017308         0.016001    1.414055e-03   \n58        0.353665      0.008731         0.015335    4.713710e-04   \n70        0.360332      0.012710         0.014333    4.728877e-04   \n40        0.338666      0.021060         0.014000    1.072147e-06   \n100       0.415001      0.058726         0.018999    2.159612e-03   \n10        0.371667      0.040476         0.015333    1.885257e-03   \n86        0.449668      0.036235         0.015666    9.431341e-04   \n55        0.393999      0.004547         0.014333    1.246746e-03   \n57        0.364666      0.012365         0.016001    1.413718e-03   \n56        0.377000      0.006531         0.014333    4.717082e-04   \n59        0.347001      0.018672         0.015666    9.424040e-04   \n54        0.389333      0.008380         0.014000    5.150430e-07   \n83        0.477999      0.033026         0.014000    4.052337e-07   \n42        0.319000      0.016991         0.014667    9.435838e-04   \n102       0.367333      0.023794         0.015001    8.162432e-04   \n72        0.360528      0.034236         0.014667    4.718209e-04   \n12        0.338333      0.040368         0.015334    1.886212e-03   \n114       0.524999      0.129130         0.016333    4.988876e-03   \n84        0.466335      0.007845         0.014667    9.428533e-04   \n23        0.295000      0.025782         0.015000    8.167294e-04   \n117       0.369666      0.066805         0.011332    3.090528e-03   \n\n    param_rfe__estimator__C param_rfe__estimator__penalty  \\\n24                      0.1                            l2   \n85                       10                            l2   \n115                     100                            l2   \n11                      0.1                          None   \n41                        1                          None   \n101                     100                          None   \n71                       10                          None   \n26                      0.1                            l2   \n25                      0.1                            l2   \n28                      0.1                            l2   \n116                     100                            l2   \n27                      0.1                            l2   \n29                      0.1                            l2   \n58                        1                            l2   \n70                       10                          None   \n40                        1                          None   \n100                     100                          None   \n10                      0.1                          None   \n86                       10                            l2   \n55                        1                            l2   \n57                        1                            l2   \n56                        1                            l2   \n59                        1                            l2   \n54                        1                            l2   \n83                       10                            l2   \n42                        1                          None   \n102                     100                          None   \n72                       10                          None   \n12                      0.1                          None   \n114                     100                            l2   \n84                       10                            l2   \n23                      0.1                            l2   \n117                     100                            l2   \n\n    param_rfe__n_features_to_select  \\\n24                               14   \n85                               15   \n115                              15   \n11                               16   \n41                               16   \n101                              16   \n71                               16   \n26                               16   \n25                               15   \n28                               18   \n116                              16   \n27                               17   \n29                               19   \n58                               18   \n70                               15   \n40                               15   \n100                              15   \n10                               15   \n86                               16   \n55                               15   \n57                               17   \n56                               16   \n59                               19   \n54                               14   \n83                               13   \n42                               17   \n102                              17   \n72                               17   \n12                               17   \n114                              14   \n84                               14   \n23                               13   \n117                              17   \n\n                                                params  split0_test_score  \\\n24   {'rfe__estimator__C': 0.1, 'rfe__estimator__pe...           0.876863   \n85   {'rfe__estimator__C': 10, 'rfe__estimator__pen...           0.875454   \n115  {'rfe__estimator__C': 100, 'rfe__estimator__pe...           0.875232   \n11   {'rfe__estimator__C': 0.1, 'rfe__estimator__pe...           0.875158   \n41   {'rfe__estimator__C': 1, 'rfe__estimator__pena...           0.875158   \n101  {'rfe__estimator__C': 100, 'rfe__estimator__pe...           0.875158   \n71   {'rfe__estimator__C': 10, 'rfe__estimator__pen...           0.875158   \n26   {'rfe__estimator__C': 0.1, 'rfe__estimator__pe...           0.875380   \n25   {'rfe__estimator__C': 0.1, 'rfe__estimator__pe...           0.874713   \n28   {'rfe__estimator__C': 0.1, 'rfe__estimator__pe...           0.877308   \n116  {'rfe__estimator__C': 100, 'rfe__estimator__pe...           0.875232   \n27   {'rfe__estimator__C': 0.1, 'rfe__estimator__pe...           0.875528   \n29   {'rfe__estimator__C': 0.1, 'rfe__estimator__pe...           0.876047   \n58   {'rfe__estimator__C': 1, 'rfe__estimator__pena...           0.874490   \n70   {'rfe__estimator__C': 10, 'rfe__estimator__pen...           0.867742   \n40   {'rfe__estimator__C': 1, 'rfe__estimator__pena...           0.867742   \n100  {'rfe__estimator__C': 100, 'rfe__estimator__pe...           0.867742   \n10   {'rfe__estimator__C': 0.1, 'rfe__estimator__pe...           0.867742   \n86   {'rfe__estimator__C': 10, 'rfe__estimator__pen...           0.871598   \n55   {'rfe__estimator__C': 1, 'rfe__estimator__pena...           0.874564   \n57   {'rfe__estimator__C': 1, 'rfe__estimator__pena...           0.873452   \n56   {'rfe__estimator__C': 1, 'rfe__estimator__pena...           0.874194   \n59   {'rfe__estimator__C': 1, 'rfe__estimator__pena...           0.874490   \n54   {'rfe__estimator__C': 1, 'rfe__estimator__pena...           0.877234   \n83   {'rfe__estimator__C': 10, 'rfe__estimator__pen...           0.871821   \n42   {'rfe__estimator__C': 1, 'rfe__estimator__pena...           0.871079   \n102  {'rfe__estimator__C': 100, 'rfe__estimator__pe...           0.871079   \n72   {'rfe__estimator__C': 10, 'rfe__estimator__pen...           0.871079   \n12   {'rfe__estimator__C': 0.1, 'rfe__estimator__pe...           0.871079   \n114  {'rfe__estimator__C': 100, 'rfe__estimator__pe...           0.867964   \n84   {'rfe__estimator__C': 10, 'rfe__estimator__pen...           0.868113   \n23   {'rfe__estimator__C': 0.1, 'rfe__estimator__pe...           0.869818   \n117  {'rfe__estimator__C': 100, 'rfe__estimator__pe...           0.871376   \n\n     split1_test_score  split2_test_score  mean_test_score  std_test_score  \\\n24            0.811019           0.890555         0.859479        0.034719   \n85            0.821664           0.880960         0.859359        0.026749   \n115           0.821064           0.881409         0.859235        0.027108   \n11            0.821139           0.881334         0.859210        0.027038   \n41            0.821139           0.881334         0.859210        0.027038   \n101           0.821139           0.881334         0.859210        0.027038   \n71            0.821139           0.881334         0.859210        0.027038   \n26            0.816567           0.883208         0.858385        0.029742   \n25            0.814543           0.885307         0.858188        0.031163   \n28            0.812369           0.884858         0.858178        0.032538   \n116           0.817916           0.881259         0.858136        0.028546   \n27            0.814318           0.884483         0.858110        0.031181   \n29            0.812519           0.884708         0.857758        0.032184   \n58            0.817841           0.879835         0.857389        0.028049   \n70            0.822939           0.881409         0.857363        0.024973   \n40            0.822939           0.881409         0.857363        0.024973   \n100           0.822939           0.881409         0.857363        0.024973   \n10            0.822939           0.881409         0.857363        0.024973   \n86            0.817616           0.881484         0.856900        0.028069   \n55            0.819640           0.876162         0.856789        0.026276   \n57            0.816792           0.879835         0.856693        0.028335   \n56            0.816042           0.879610         0.856615        0.028775   \n59            0.817691           0.877361         0.856514        0.027477   \n54            0.815892           0.876387         0.856504        0.028719   \n83            0.824888           0.872564         0.856424        0.022302   \n42            0.817766           0.878561         0.855802        0.027068   \n102           0.817766           0.878561         0.855802        0.027068   \n72            0.817766           0.878561         0.855802        0.027068   \n12            0.817766           0.878561         0.855802        0.027068   \n114           0.823088           0.876087         0.855713        0.023306   \n84            0.822564           0.876162         0.855613        0.023599   \n23            0.811844           0.885157         0.855607        0.031572   \n117           0.816792           0.878561         0.855576        0.027581   \n\n     rank_test_score  \n24                 1  \n85                 2  \n115                3  \n11                 4  \n41                 4  \n101                4  \n71                 4  \n26                 8  \n25                 9  \n28                10  \n116               11  \n27                12  \n29                13  \n58                14  \n70                15  \n40                15  \n100               15  \n10                15  \n86                19  \n55                20  \n57                21  \n56                22  \n59                23  \n54                24  \n83                25  \n42                26  \n102               26  \n72                26  \n12                26  \n114               30  \n84                31  \n23                32  \n117               33  ",
      "text/html": "<div>\n<style scoped>\n    .dataframe tbody tr th:only-of-type {\n        vertical-align: middle;\n    }\n\n    .dataframe tbody tr th {\n        vertical-align: top;\n    }\n\n    .dataframe thead th {\n        text-align: right;\n    }\n</style>\n<table border=\"1\" class=\"dataframe\">\n  <thead>\n    <tr style=\"text-align: right;\">\n      <th></th>\n      <th>mean_fit_time</th>\n      <th>std_fit_time</th>\n      <th>mean_score_time</th>\n      <th>std_score_time</th>\n      <th>param_rfe__estimator__C</th>\n      <th>param_rfe__estimator__penalty</th>\n      <th>param_rfe__n_features_to_select</th>\n      <th>params</th>\n      <th>split0_test_score</th>\n      <th>split1_test_score</th>\n      <th>split2_test_score</th>\n      <th>mean_test_score</th>\n      <th>std_test_score</th>\n      <th>rank_test_score</th>\n    </tr>\n  </thead>\n  <tbody>\n    <tr>\n      <th>24</th>\n      <td>0.273665</td>\n      <td>0.013425</td>\n      <td>0.014002</td>\n      <td>9.199649e-07</td>\n      <td>0.1</td>\n      <td>l2</td>\n      <td>14</td>\n      <td>{'rfe__estimator__C': 0.1, 'rfe__estimator__pe...</td>\n      <td>0.876863</td>\n      <td>0.811019</td>\n      <td>0.890555</td>\n      <td>0.859479</td>\n      <td>0.034719</td>\n      <td>1</td>\n    </tr>\n    <tr>\n      <th>85</th>\n      <td>0.456002</td>\n      <td>0.027314</td>\n      <td>0.014666</td>\n      <td>9.429095e-04</td>\n      <td>10</td>\n      <td>l2</td>\n      <td>15</td>\n      <td>{'rfe__estimator__C': 10, 'rfe__estimator__pen...</td>\n      <td>0.875454</td>\n      <td>0.821664</td>\n      <td>0.880960</td>\n      <td>0.859359</td>\n      <td>0.026749</td>\n      <td>2</td>\n    </tr>\n    <tr>\n      <th>115</th>\n      <td>0.427668</td>\n      <td>0.110551</td>\n      <td>0.013333</td>\n      <td>2.493960e-03</td>\n      <td>100</td>\n      <td>l2</td>\n      <td>15</td>\n      <td>{'rfe__estimator__C': 100, 'rfe__estimator__pe...</td>\n      <td>0.875232</td>\n      <td>0.821064</td>\n      <td>0.881409</td>\n      <td>0.859235</td>\n      <td>0.027108</td>\n      <td>3</td>\n    </tr>\n    <tr>\n      <th>11</th>\n      <td>0.344000</td>\n      <td>0.021275</td>\n      <td>0.013666</td>\n      <td>4.715406e-04</td>\n      <td>0.1</td>\n      <td>None</td>\n      <td>16</td>\n      <td>{'rfe__estimator__C': 0.1, 'rfe__estimator__pe...</td>\n      <td>0.875158</td>\n      <td>0.821139</td>\n      <td>0.881334</td>\n      <td>0.859210</td>\n      <td>0.027038</td>\n      <td>4</td>\n    </tr>\n    <tr>\n      <th>41</th>\n      <td>0.327333</td>\n      <td>0.017517</td>\n      <td>0.013000</td>\n      <td>1.173403e-06</td>\n      <td>1</td>\n      <td>None</td>\n      <td>16</td>\n      <td>{'rfe__estimator__C': 1, 'rfe__estimator__pena...</td>\n      <td>0.875158</td>\n      <td>0.821139</td>\n      <td>0.881334</td>\n      <td>0.859210</td>\n      <td>0.027038</td>\n      <td>4</td>\n    </tr>\n    <tr>\n      <th>101</th>\n      <td>0.363332</td>\n      <td>0.042501</td>\n      <td>0.015334</td>\n      <td>2.624600e-03</td>\n      <td>100</td>\n      <td>None</td>\n      <td>16</td>\n      <td>{'rfe__estimator__C': 100, 'rfe__estimator__pe...</td>\n      <td>0.875158</td>\n      <td>0.821139</td>\n      <td>0.881334</td>\n      <td>0.859210</td>\n      <td>0.027038</td>\n      <td>4</td>\n    </tr>\n    <tr>\n      <th>71</th>\n      <td>0.384000</td>\n      <td>0.029676</td>\n      <td>0.014333</td>\n      <td>4.712026e-04</td>\n      <td>10</td>\n      <td>None</td>\n      <td>16</td>\n      <td>{'rfe__estimator__C': 10, 'rfe__estimator__pen...</td>\n      <td>0.875158</td>\n      <td>0.821139</td>\n      <td>0.881334</td>\n      <td>0.859210</td>\n      <td>0.027038</td>\n      <td>4</td>\n    </tr>\n    <tr>\n      <th>26</th>\n      <td>0.250666</td>\n      <td>0.013426</td>\n      <td>0.014335</td>\n      <td>4.718762e-04</td>\n      <td>0.1</td>\n      <td>l2</td>\n      <td>16</td>\n      <td>{'rfe__estimator__C': 0.1, 'rfe__estimator__pe...</td>\n      <td>0.875380</td>\n      <td>0.816567</td>\n      <td>0.883208</td>\n      <td>0.858385</td>\n      <td>0.029742</td>\n      <td>8</td>\n    </tr>\n    <tr>\n      <th>25</th>\n      <td>0.269000</td>\n      <td>0.014990</td>\n      <td>0.014666</td>\n      <td>1.248063e-03</td>\n      <td>0.1</td>\n      <td>l2</td>\n      <td>15</td>\n      <td>{'rfe__estimator__C': 0.1, 'rfe__estimator__pe...</td>\n      <td>0.874713</td>\n      <td>0.814543</td>\n      <td>0.885307</td>\n      <td>0.858188</td>\n      <td>0.031163</td>\n      <td>9</td>\n    </tr>\n    <tr>\n      <th>28</th>\n      <td>0.263332</td>\n      <td>0.013572</td>\n      <td>0.018334</td>\n      <td>4.190346e-03</td>\n      <td>0.1</td>\n      <td>l2</td>\n      <td>18</td>\n      <td>{'rfe__estimator__C': 0.1, 'rfe__estimator__pe...</td>\n      <td>0.877308</td>\n      <td>0.812369</td>\n      <td>0.884858</td>\n      <td>0.858178</td>\n      <td>0.032538</td>\n      <td>10</td>\n    </tr>\n    <tr>\n      <th>116</th>\n      <td>0.384000</td>\n      <td>0.073558</td>\n      <td>0.012999</td>\n      <td>8.151722e-04</td>\n      <td>100</td>\n      <td>l2</td>\n      <td>16</td>\n      <td>{'rfe__estimator__C': 100, 'rfe__estimator__pe...</td>\n      <td>0.875232</td>\n      <td>0.817916</td>\n      <td>0.881259</td>\n      <td>0.858136</td>\n      <td>0.028546</td>\n      <td>11</td>\n    </tr>\n    <tr>\n      <th>27</th>\n      <td>0.260999</td>\n      <td>0.019202</td>\n      <td>0.014668</td>\n      <td>4.701907e-04</td>\n      <td>0.1</td>\n      <td>l2</td>\n      <td>17</td>\n      <td>{'rfe__estimator__C': 0.1, 'rfe__estimator__pe...</td>\n      <td>0.875528</td>\n      <td>0.814318</td>\n      <td>0.884483</td>\n      <td>0.858110</td>\n      <td>0.031181</td>\n      <td>12</td>\n    </tr>\n    <tr>\n      <th>29</th>\n      <td>0.251332</td>\n      <td>0.017308</td>\n      <td>0.016001</td>\n      <td>1.414055e-03</td>\n      <td>0.1</td>\n      <td>l2</td>\n      <td>19</td>\n      <td>{'rfe__estimator__C': 0.1, 'rfe__estimator__pe...</td>\n      <td>0.876047</td>\n      <td>0.812519</td>\n      <td>0.884708</td>\n      <td>0.857758</td>\n      <td>0.032184</td>\n      <td>13</td>\n    </tr>\n    <tr>\n      <th>58</th>\n      <td>0.353665</td>\n      <td>0.008731</td>\n      <td>0.015335</td>\n      <td>4.713710e-04</td>\n      <td>1</td>\n      <td>l2</td>\n      <td>18</td>\n      <td>{'rfe__estimator__C': 1, 'rfe__estimator__pena...</td>\n      <td>0.874490</td>\n      <td>0.817841</td>\n      <td>0.879835</td>\n      <td>0.857389</td>\n      <td>0.028049</td>\n      <td>14</td>\n    </tr>\n    <tr>\n      <th>70</th>\n      <td>0.360332</td>\n      <td>0.012710</td>\n      <td>0.014333</td>\n      <td>4.728877e-04</td>\n      <td>10</td>\n      <td>None</td>\n      <td>15</td>\n      <td>{'rfe__estimator__C': 10, 'rfe__estimator__pen...</td>\n      <td>0.867742</td>\n      <td>0.822939</td>\n      <td>0.881409</td>\n      <td>0.857363</td>\n      <td>0.024973</td>\n      <td>15</td>\n    </tr>\n    <tr>\n      <th>40</th>\n      <td>0.338666</td>\n      <td>0.021060</td>\n      <td>0.014000</td>\n      <td>1.072147e-06</td>\n      <td>1</td>\n      <td>None</td>\n      <td>15</td>\n      <td>{'rfe__estimator__C': 1, 'rfe__estimator__pena...</td>\n      <td>0.867742</td>\n      <td>0.822939</td>\n      <td>0.881409</td>\n      <td>0.857363</td>\n      <td>0.024973</td>\n      <td>15</td>\n    </tr>\n    <tr>\n      <th>100</th>\n      <td>0.415001</td>\n      <td>0.058726</td>\n      <td>0.018999</td>\n      <td>2.159612e-03</td>\n      <td>100</td>\n      <td>None</td>\n      <td>15</td>\n      <td>{'rfe__estimator__C': 100, 'rfe__estimator__pe...</td>\n      <td>0.867742</td>\n      <td>0.822939</td>\n      <td>0.881409</td>\n      <td>0.857363</td>\n      <td>0.024973</td>\n      <td>15</td>\n    </tr>\n    <tr>\n      <th>10</th>\n      <td>0.371667</td>\n      <td>0.040476</td>\n      <td>0.015333</td>\n      <td>1.885257e-03</td>\n      <td>0.1</td>\n      <td>None</td>\n      <td>15</td>\n      <td>{'rfe__estimator__C': 0.1, 'rfe__estimator__pe...</td>\n      <td>0.867742</td>\n      <td>0.822939</td>\n      <td>0.881409</td>\n      <td>0.857363</td>\n      <td>0.024973</td>\n      <td>15</td>\n    </tr>\n    <tr>\n      <th>86</th>\n      <td>0.449668</td>\n      <td>0.036235</td>\n      <td>0.015666</td>\n      <td>9.431341e-04</td>\n      <td>10</td>\n      <td>l2</td>\n      <td>16</td>\n      <td>{'rfe__estimator__C': 10, 'rfe__estimator__pen...</td>\n      <td>0.871598</td>\n      <td>0.817616</td>\n      <td>0.881484</td>\n      <td>0.856900</td>\n      <td>0.028069</td>\n      <td>19</td>\n    </tr>\n    <tr>\n      <th>55</th>\n      <td>0.393999</td>\n      <td>0.004547</td>\n      <td>0.014333</td>\n      <td>1.246746e-03</td>\n      <td>1</td>\n      <td>l2</td>\n      <td>15</td>\n      <td>{'rfe__estimator__C': 1, 'rfe__estimator__pena...</td>\n      <td>0.874564</td>\n      <td>0.819640</td>\n      <td>0.876162</td>\n      <td>0.856789</td>\n      <td>0.026276</td>\n      <td>20</td>\n    </tr>\n    <tr>\n      <th>57</th>\n      <td>0.364666</td>\n      <td>0.012365</td>\n      <td>0.016001</td>\n      <td>1.413718e-03</td>\n      <td>1</td>\n      <td>l2</td>\n      <td>17</td>\n      <td>{'rfe__estimator__C': 1, 'rfe__estimator__pena...</td>\n      <td>0.873452</td>\n      <td>0.816792</td>\n      <td>0.879835</td>\n      <td>0.856693</td>\n      <td>0.028335</td>\n      <td>21</td>\n    </tr>\n    <tr>\n      <th>56</th>\n      <td>0.377000</td>\n      <td>0.006531</td>\n      <td>0.014333</td>\n      <td>4.717082e-04</td>\n      <td>1</td>\n      <td>l2</td>\n      <td>16</td>\n      <td>{'rfe__estimator__C': 1, 'rfe__estimator__pena...</td>\n      <td>0.874194</td>\n      <td>0.816042</td>\n      <td>0.879610</td>\n      <td>0.856615</td>\n      <td>0.028775</td>\n      <td>22</td>\n    </tr>\n    <tr>\n      <th>59</th>\n      <td>0.347001</td>\n      <td>0.018672</td>\n      <td>0.015666</td>\n      <td>9.424040e-04</td>\n      <td>1</td>\n      <td>l2</td>\n      <td>19</td>\n      <td>{'rfe__estimator__C': 1, 'rfe__estimator__pena...</td>\n      <td>0.874490</td>\n      <td>0.817691</td>\n      <td>0.877361</td>\n      <td>0.856514</td>\n      <td>0.027477</td>\n      <td>23</td>\n    </tr>\n    <tr>\n      <th>54</th>\n      <td>0.389333</td>\n      <td>0.008380</td>\n      <td>0.014000</td>\n      <td>5.150430e-07</td>\n      <td>1</td>\n      <td>l2</td>\n      <td>14</td>\n      <td>{'rfe__estimator__C': 1, 'rfe__estimator__pena...</td>\n      <td>0.877234</td>\n      <td>0.815892</td>\n      <td>0.876387</td>\n      <td>0.856504</td>\n      <td>0.028719</td>\n      <td>24</td>\n    </tr>\n    <tr>\n      <th>83</th>\n      <td>0.477999</td>\n      <td>0.033026</td>\n      <td>0.014000</td>\n      <td>4.052337e-07</td>\n      <td>10</td>\n      <td>l2</td>\n      <td>13</td>\n      <td>{'rfe__estimator__C': 10, 'rfe__estimator__pen...</td>\n      <td>0.871821</td>\n      <td>0.824888</td>\n      <td>0.872564</td>\n      <td>0.856424</td>\n      <td>0.022302</td>\n      <td>25</td>\n    </tr>\n    <tr>\n      <th>42</th>\n      <td>0.319000</td>\n      <td>0.016991</td>\n      <td>0.014667</td>\n      <td>9.435838e-04</td>\n      <td>1</td>\n      <td>None</td>\n      <td>17</td>\n      <td>{'rfe__estimator__C': 1, 'rfe__estimator__pena...</td>\n      <td>0.871079</td>\n      <td>0.817766</td>\n      <td>0.878561</td>\n      <td>0.855802</td>\n      <td>0.027068</td>\n      <td>26</td>\n    </tr>\n    <tr>\n      <th>102</th>\n      <td>0.367333</td>\n      <td>0.023794</td>\n      <td>0.015001</td>\n      <td>8.162432e-04</td>\n      <td>100</td>\n      <td>None</td>\n      <td>17</td>\n      <td>{'rfe__estimator__C': 100, 'rfe__estimator__pe...</td>\n      <td>0.871079</td>\n      <td>0.817766</td>\n      <td>0.878561</td>\n      <td>0.855802</td>\n      <td>0.027068</td>\n      <td>26</td>\n    </tr>\n    <tr>\n      <th>72</th>\n      <td>0.360528</td>\n      <td>0.034236</td>\n      <td>0.014667</td>\n      <td>4.718209e-04</td>\n      <td>10</td>\n      <td>None</td>\n      <td>17</td>\n      <td>{'rfe__estimator__C': 10, 'rfe__estimator__pen...</td>\n      <td>0.871079</td>\n      <td>0.817766</td>\n      <td>0.878561</td>\n      <td>0.855802</td>\n      <td>0.027068</td>\n      <td>26</td>\n    </tr>\n    <tr>\n      <th>12</th>\n      <td>0.338333</td>\n      <td>0.040368</td>\n      <td>0.015334</td>\n      <td>1.886212e-03</td>\n      <td>0.1</td>\n      <td>None</td>\n      <td>17</td>\n      <td>{'rfe__estimator__C': 0.1, 'rfe__estimator__pe...</td>\n      <td>0.871079</td>\n      <td>0.817766</td>\n      <td>0.878561</td>\n      <td>0.855802</td>\n      <td>0.027068</td>\n      <td>26</td>\n    </tr>\n    <tr>\n      <th>114</th>\n      <td>0.524999</td>\n      <td>0.129130</td>\n      <td>0.016333</td>\n      <td>4.988876e-03</td>\n      <td>100</td>\n      <td>l2</td>\n      <td>14</td>\n      <td>{'rfe__estimator__C': 100, 'rfe__estimator__pe...</td>\n      <td>0.867964</td>\n      <td>0.823088</td>\n      <td>0.876087</td>\n      <td>0.855713</td>\n      <td>0.023306</td>\n      <td>30</td>\n    </tr>\n    <tr>\n      <th>84</th>\n      <td>0.466335</td>\n      <td>0.007845</td>\n      <td>0.014667</td>\n      <td>9.428533e-04</td>\n      <td>10</td>\n      <td>l2</td>\n      <td>14</td>\n      <td>{'rfe__estimator__C': 10, 'rfe__estimator__pen...</td>\n      <td>0.868113</td>\n      <td>0.822564</td>\n      <td>0.876162</td>\n      <td>0.855613</td>\n      <td>0.023599</td>\n      <td>31</td>\n    </tr>\n    <tr>\n      <th>23</th>\n      <td>0.295000</td>\n      <td>0.025782</td>\n      <td>0.015000</td>\n      <td>8.167294e-04</td>\n      <td>0.1</td>\n      <td>l2</td>\n      <td>13</td>\n      <td>{'rfe__estimator__C': 0.1, 'rfe__estimator__pe...</td>\n      <td>0.869818</td>\n      <td>0.811844</td>\n      <td>0.885157</td>\n      <td>0.855607</td>\n      <td>0.031572</td>\n      <td>32</td>\n    </tr>\n    <tr>\n      <th>117</th>\n      <td>0.369666</td>\n      <td>0.066805</td>\n      <td>0.011332</td>\n      <td>3.090528e-03</td>\n      <td>100</td>\n      <td>l2</td>\n      <td>17</td>\n      <td>{'rfe__estimator__C': 100, 'rfe__estimator__pe...</td>\n      <td>0.871376</td>\n      <td>0.816792</td>\n      <td>0.878561</td>\n      <td>0.855576</td>\n      <td>0.027581</td>\n      <td>33</td>\n    </tr>\n  </tbody>\n</table>\n</div>"
     },
     "execution_count": 38,
     "metadata": {},
     "output_type": "execute_result"
    }
   ],
   "source": [
    "pd.DataFrame(lr_gs_poly.cv_results_).sort_values('rank_test_score').head(33)"
   ],
   "metadata": {
    "collapsed": false,
    "pycharm": {
     "name": "#%%\n"
    }
   }
  },
  {
   "cell_type": "markdown",
   "source": [
    "НИЧЕГО НЕ ПОЛУЧИЛОСЬ"
   ],
   "metadata": {
    "collapsed": false,
    "pycharm": {
     "name": "#%% md\n"
    }
   }
  },
  {
   "cell_type": "markdown",
   "source": [
    "### Метод опорных векторов"
   ],
   "metadata": {
    "collapsed": false,
    "pycharm": {
     "name": "#%% md\n"
    }
   }
  },
  {
   "cell_type": "markdown",
   "source": [
    "#### SVC"
   ],
   "metadata": {
    "collapsed": false,
    "pycharm": {
     "name": "#%% md\n"
    }
   }
  },
  {
   "cell_type": "code",
   "execution_count": 159,
   "outputs": [
    {
     "name": "stdout",
     "output_type": "stream",
     "text": [
      "CPU times: total: 5.55 s\n",
      "Wall time: 23.6 s\n"
     ]
    }
   ],
   "source": [
    "%%time\n",
    "num_ct = Pipeline(steps=[('imputer', IterativeImputer(random_state=123)),\n",
    "                         ('scaler', StandardScaler())])\n",
    "\n",
    "cat_ct = Pipeline(steps=[('imputer', SimpleImputer(strategy='most_frequent')),\n",
    "                         ('ohe', OneHotEncoder(drop='first'))])\n",
    "\n",
    "transformer = ColumnTransformer(transformers=[('nums', num_ct, selector(dtype_exclude=\"object\")),\n",
    "                                              ('cats', cat_ct, selector(dtype_include=\"object\"))],\n",
    "                                                    remainder='passthrough')\n",
    "\n",
    "# Параметр probability нужен, чтобы вернулись predict_proba. Это нужно для построения roc-auc и soft-voting\n",
    "svm_pipe = Pipeline(steps=[('transformer', transformer), ('estimator', SVC(random_state=123, probability=True))])\n",
    "\n",
    "params = {'transformer__nums__scaler': [StandardScaler(), MinMaxScaler()],\n",
    "          'estimator__C': range(1, 20),\n",
    "          'estimator__gamma': [i/10000 for i in range(10)]}\n",
    "\n",
    "gs_svc = GridSearchCV(svm_pipe, param_grid=params, scoring='roc_auc', cv=3, n_jobs=-1, refit=True)\n",
    "\n",
    "gs_svc.fit(x_train, y_train)\n",
    "# {'estimator__C': 9, 'estimator__gamma': 0.009\n",
    "svm_best = gs_svc.best_estimator_\n"
   ],
   "metadata": {
    "collapsed": false,
    "pycharm": {
     "name": "#%%\n"
    }
   }
  },
  {
   "cell_type": "code",
   "execution_count": 160,
   "outputs": [
    {
     "data": {
      "text/plain": "     rank_test_score  std_test_score  mean_test_score  split2_test_score  \\\n319                1        0.035841         0.848618           0.885157   \n379                2        0.037244         0.848593           0.886882   \n299                3        0.035381         0.848572           0.885232   \n357                4        0.035893         0.848518           0.885157   \n375                5        0.035358         0.848498           0.885232   \n..               ...             ...              ...                ...   \n261              343        0.000000         0.500000           0.500000   \n260              343        0.000000         0.500000           0.500000   \n80               343        0.000000         0.500000           0.500000   \n300              343        0.000000         0.500000           0.500000   \n0                343        0.000000         0.500000           0.500000   \n\n     split1_test_score  split0_test_score  \\\n319           0.799925           0.860771   \n379           0.798126           0.860771   \n299           0.800750           0.859733   \n357           0.799775           0.860623   \n375           0.800750           0.859511   \n..                 ...                ...   \n261           0.500000           0.500000   \n260           0.500000           0.500000   \n80            0.500000           0.500000   \n300           0.500000           0.500000   \n0             0.500000           0.500000   \n\n                                                params  \\\n319  {'estimator__C': 16, 'estimator__gamma': 0.000...   \n379  {'estimator__C': 19, 'estimator__gamma': 0.000...   \n299  {'estimator__C': 15, 'estimator__gamma': 0.000...   \n357  {'estimator__C': 18, 'estimator__gamma': 0.000...   \n375  {'estimator__C': 19, 'estimator__gamma': 0.000...   \n..                                                 ...   \n261  {'estimator__C': 14, 'estimator__gamma': 0.0, ...   \n260  {'estimator__C': 14, 'estimator__gamma': 0.0, ...   \n80   {'estimator__C': 5, 'estimator__gamma': 0.0, '...   \n300  {'estimator__C': 16, 'estimator__gamma': 0.0, ...   \n0    {'estimator__C': 1, 'estimator__gamma': 0.0, '...   \n\n    param_transformer__nums__scaler param_estimator__gamma param_estimator__C  \\\n319                  MinMaxScaler()                 0.0009                 16   \n379                  MinMaxScaler()                 0.0009                 19   \n299                  MinMaxScaler()                 0.0009                 15   \n357                  MinMaxScaler()                 0.0008                 18   \n375                  MinMaxScaler()                 0.0007                 19   \n..                              ...                    ...                ...   \n261                  MinMaxScaler()                    0.0                 14   \n260                StandardScaler()                    0.0                 14   \n80                 StandardScaler()                    0.0                  5   \n300                StandardScaler()                    0.0                 16   \n0                  StandardScaler()                    0.0                  1   \n\n     std_score_time  mean_score_time  std_fit_time  mean_fit_time  \n319        0.001247         0.029667      0.006129       0.160669  \n379        0.000471         0.015334      0.003560       0.100000  \n299        0.001246         0.032332      0.018857       0.159332  \n357        0.001247         0.030331      0.007762       0.141668  \n375        0.000816         0.031998      0.005097       0.139001  \n..              ...              ...           ...            ...  \n261        0.000471         0.031334      0.003740       0.125001  \n260        0.001413         0.034000      0.003860       0.131332  \n80         0.016048         0.053666      0.004921       0.125754  \n300        0.004321         0.037002      0.009179       0.135330  \n0          0.005436         0.035334      0.012764       0.150667  \n\n[380 rows x 14 columns]",
      "text/html": "<div>\n<style scoped>\n    .dataframe tbody tr th:only-of-type {\n        vertical-align: middle;\n    }\n\n    .dataframe tbody tr th {\n        vertical-align: top;\n    }\n\n    .dataframe thead th {\n        text-align: right;\n    }\n</style>\n<table border=\"1\" class=\"dataframe\">\n  <thead>\n    <tr style=\"text-align: right;\">\n      <th></th>\n      <th>rank_test_score</th>\n      <th>std_test_score</th>\n      <th>mean_test_score</th>\n      <th>split2_test_score</th>\n      <th>split1_test_score</th>\n      <th>split0_test_score</th>\n      <th>params</th>\n      <th>param_transformer__nums__scaler</th>\n      <th>param_estimator__gamma</th>\n      <th>param_estimator__C</th>\n      <th>std_score_time</th>\n      <th>mean_score_time</th>\n      <th>std_fit_time</th>\n      <th>mean_fit_time</th>\n    </tr>\n  </thead>\n  <tbody>\n    <tr>\n      <th>319</th>\n      <td>1</td>\n      <td>0.035841</td>\n      <td>0.848618</td>\n      <td>0.885157</td>\n      <td>0.799925</td>\n      <td>0.860771</td>\n      <td>{'estimator__C': 16, 'estimator__gamma': 0.000...</td>\n      <td>MinMaxScaler()</td>\n      <td>0.0009</td>\n      <td>16</td>\n      <td>0.001247</td>\n      <td>0.029667</td>\n      <td>0.006129</td>\n      <td>0.160669</td>\n    </tr>\n    <tr>\n      <th>379</th>\n      <td>2</td>\n      <td>0.037244</td>\n      <td>0.848593</td>\n      <td>0.886882</td>\n      <td>0.798126</td>\n      <td>0.860771</td>\n      <td>{'estimator__C': 19, 'estimator__gamma': 0.000...</td>\n      <td>MinMaxScaler()</td>\n      <td>0.0009</td>\n      <td>19</td>\n      <td>0.000471</td>\n      <td>0.015334</td>\n      <td>0.003560</td>\n      <td>0.100000</td>\n    </tr>\n    <tr>\n      <th>299</th>\n      <td>3</td>\n      <td>0.035381</td>\n      <td>0.848572</td>\n      <td>0.885232</td>\n      <td>0.800750</td>\n      <td>0.859733</td>\n      <td>{'estimator__C': 15, 'estimator__gamma': 0.000...</td>\n      <td>MinMaxScaler()</td>\n      <td>0.0009</td>\n      <td>15</td>\n      <td>0.001246</td>\n      <td>0.032332</td>\n      <td>0.018857</td>\n      <td>0.159332</td>\n    </tr>\n    <tr>\n      <th>357</th>\n      <td>4</td>\n      <td>0.035893</td>\n      <td>0.848518</td>\n      <td>0.885157</td>\n      <td>0.799775</td>\n      <td>0.860623</td>\n      <td>{'estimator__C': 18, 'estimator__gamma': 0.000...</td>\n      <td>MinMaxScaler()</td>\n      <td>0.0008</td>\n      <td>18</td>\n      <td>0.001247</td>\n      <td>0.030331</td>\n      <td>0.007762</td>\n      <td>0.141668</td>\n    </tr>\n    <tr>\n      <th>375</th>\n      <td>5</td>\n      <td>0.035358</td>\n      <td>0.848498</td>\n      <td>0.885232</td>\n      <td>0.800750</td>\n      <td>0.859511</td>\n      <td>{'estimator__C': 19, 'estimator__gamma': 0.000...</td>\n      <td>MinMaxScaler()</td>\n      <td>0.0007</td>\n      <td>19</td>\n      <td>0.000816</td>\n      <td>0.031998</td>\n      <td>0.005097</td>\n      <td>0.139001</td>\n    </tr>\n    <tr>\n      <th>...</th>\n      <td>...</td>\n      <td>...</td>\n      <td>...</td>\n      <td>...</td>\n      <td>...</td>\n      <td>...</td>\n      <td>...</td>\n      <td>...</td>\n      <td>...</td>\n      <td>...</td>\n      <td>...</td>\n      <td>...</td>\n      <td>...</td>\n      <td>...</td>\n    </tr>\n    <tr>\n      <th>261</th>\n      <td>343</td>\n      <td>0.000000</td>\n      <td>0.500000</td>\n      <td>0.500000</td>\n      <td>0.500000</td>\n      <td>0.500000</td>\n      <td>{'estimator__C': 14, 'estimator__gamma': 0.0, ...</td>\n      <td>MinMaxScaler()</td>\n      <td>0.0</td>\n      <td>14</td>\n      <td>0.000471</td>\n      <td>0.031334</td>\n      <td>0.003740</td>\n      <td>0.125001</td>\n    </tr>\n    <tr>\n      <th>260</th>\n      <td>343</td>\n      <td>0.000000</td>\n      <td>0.500000</td>\n      <td>0.500000</td>\n      <td>0.500000</td>\n      <td>0.500000</td>\n      <td>{'estimator__C': 14, 'estimator__gamma': 0.0, ...</td>\n      <td>StandardScaler()</td>\n      <td>0.0</td>\n      <td>14</td>\n      <td>0.001413</td>\n      <td>0.034000</td>\n      <td>0.003860</td>\n      <td>0.131332</td>\n    </tr>\n    <tr>\n      <th>80</th>\n      <td>343</td>\n      <td>0.000000</td>\n      <td>0.500000</td>\n      <td>0.500000</td>\n      <td>0.500000</td>\n      <td>0.500000</td>\n      <td>{'estimator__C': 5, 'estimator__gamma': 0.0, '...</td>\n      <td>StandardScaler()</td>\n      <td>0.0</td>\n      <td>5</td>\n      <td>0.016048</td>\n      <td>0.053666</td>\n      <td>0.004921</td>\n      <td>0.125754</td>\n    </tr>\n    <tr>\n      <th>300</th>\n      <td>343</td>\n      <td>0.000000</td>\n      <td>0.500000</td>\n      <td>0.500000</td>\n      <td>0.500000</td>\n      <td>0.500000</td>\n      <td>{'estimator__C': 16, 'estimator__gamma': 0.0, ...</td>\n      <td>StandardScaler()</td>\n      <td>0.0</td>\n      <td>16</td>\n      <td>0.004321</td>\n      <td>0.037002</td>\n      <td>0.009179</td>\n      <td>0.135330</td>\n    </tr>\n    <tr>\n      <th>0</th>\n      <td>343</td>\n      <td>0.000000</td>\n      <td>0.500000</td>\n      <td>0.500000</td>\n      <td>0.500000</td>\n      <td>0.500000</td>\n      <td>{'estimator__C': 1, 'estimator__gamma': 0.0, '...</td>\n      <td>StandardScaler()</td>\n      <td>0.0</td>\n      <td>1</td>\n      <td>0.005436</td>\n      <td>0.035334</td>\n      <td>0.012764</td>\n      <td>0.150667</td>\n    </tr>\n  </tbody>\n</table>\n<p>380 rows × 14 columns</p>\n</div>"
     },
     "metadata": {},
     "output_type": "display_data"
    },
    {
     "name": "stdout",
     "output_type": "stream",
     "text": [
      "параметры: {'estimator__C': 16, 'estimator__gamma': 0.0009, 'transformer__nums__scaler': MinMaxScaler()} \n",
      "roc-auc: 0.8486\n"
     ]
    }
   ],
   "source": [
    "display(pd.DataFrame(gs_svc.cv_results_).sort_values('rank_test_score').loc[:, ::-1])\n",
    "print(f'параметры: {gs_svc.best_params_}',\n",
    "      f'\\nroc-auc: {gs_svc.best_score_:.4f}')"
   ],
   "metadata": {
    "collapsed": false,
    "pycharm": {
     "name": "#%%\n"
    }
   }
  },
  {
   "cell_type": "code",
   "execution_count": 161,
   "outputs": [
    {
     "data": {
      "text/plain": "                 model      searcher  \\\n1                   lr          some   \n2  Logistic Regression  GridSearchCV   \n3                  SVC  GridSearchCV   \n\n                                              params cv_roc_auc train_roc_auc  \\\n1                                           [(d, 3)]        5.6        6.2454   \n2  [(clf__C, 100), (clf__penalty, l2), (transform...     0.8552        0.8629   \n3  [(estimator__C, 16), (estimator__gamma, 0.0009...     0.8486        0.8545   \n\n  test_roc_auc  \n1          NaN  \n2       0.8648  \n3       0.8505  ",
      "text/html": "<div>\n<style scoped>\n    .dataframe tbody tr th:only-of-type {\n        vertical-align: middle;\n    }\n\n    .dataframe tbody tr th {\n        vertical-align: top;\n    }\n\n    .dataframe thead th {\n        text-align: right;\n    }\n</style>\n<table border=\"1\" class=\"dataframe\">\n  <thead>\n    <tr style=\"text-align: right;\">\n      <th></th>\n      <th>model</th>\n      <th>searcher</th>\n      <th>params</th>\n      <th>cv_roc_auc</th>\n      <th>train_roc_auc</th>\n      <th>test_roc_auc</th>\n    </tr>\n  </thead>\n  <tbody>\n    <tr>\n      <th>1</th>\n      <td>lr</td>\n      <td>some</td>\n      <td>[(d, 3)]</td>\n      <td>5.6</td>\n      <td>6.2454</td>\n      <td>NaN</td>\n    </tr>\n    <tr>\n      <th>2</th>\n      <td>Logistic Regression</td>\n      <td>GridSearchCV</td>\n      <td>[(clf__C, 100), (clf__penalty, l2), (transform...</td>\n      <td>0.8552</td>\n      <td>0.8629</td>\n      <td>0.8648</td>\n    </tr>\n    <tr>\n      <th>3</th>\n      <td>SVC</td>\n      <td>GridSearchCV</td>\n      <td>[(estimator__C, 16), (estimator__gamma, 0.0009...</td>\n      <td>0.8486</td>\n      <td>0.8545</td>\n      <td>0.8505</td>\n    </tr>\n  </tbody>\n</table>\n</div>"
     },
     "execution_count": 161,
     "metadata": {},
     "output_type": "execute_result"
    }
   ],
   "source": [
    "final_scorer(model_name='SVC',\n",
    "             searcher='GridSearchCV',\n",
    "             best_params=gs_svc.best_params_,\n",
    "             cv_best_score=gs_svc.best_score_,\n",
    "             train_roc_auc=roc_auc_score(y_train, gs_svc.best_estimator_.predict_proba(x_train)[:, 1]),\n",
    "             test_roc_auc=roc_auc_score(y_test, gs_svc.best_estimator_.predict_proba(x_test)[:, 1]))"
   ],
   "metadata": {
    "collapsed": false,
    "pycharm": {
     "name": "#%%\n"
    }
   }
  },
  {
   "cell_type": "markdown",
   "source": [
    "#### LinearSVC"
   ],
   "metadata": {
    "collapsed": false,
    "pycharm": {
     "name": "#%% md\n"
    }
   }
  },
  {
   "cell_type": "code",
   "execution_count": 163,
   "outputs": [
    {
     "name": "stdout",
     "output_type": "stream",
     "text": [
      "CPU times: total: 2.03 s\n",
      "Wall time: 6.89 s\n"
     ]
    }
   ],
   "source": [
    "%%time\n",
    "num_ct = Pipeline(steps=[('imputer', IterativeImputer(random_state=123)),\n",
    "                         ('scaler', StandardScaler())])\n",
    "\n",
    "cat_ct = Pipeline(steps=[('imputer', SimpleImputer(strategy='most_frequent')),\n",
    "                         ('ohe', OneHotEncoder(drop='first'))])\n",
    "\n",
    "transformer = ColumnTransformer(transformers=[('nums', num_ct, selector(dtype_exclude=\"object\")),\n",
    "                                              ('cats', cat_ct, selector(dtype_include=\"object\"))],\n",
    "                                                    remainder='passthrough')\n",
    "\n",
    "svm_pipe = Pipeline(steps=[('transformer', transformer), ('estimator', LinearSVC(max_iter=100000, random_state=123))])\n",
    "\n",
    "params = {'transformer__nums__scaler': [StandardScaler(), MinMaxScaler()],\n",
    "          'estimator__C': [2*i/100 for i in range(1, 100)]}\n",
    "\n",
    "gs_lsvm = GridSearchCV(svm_pipe, param_grid=params, scoring='roc_auc', cv=3, n_jobs=-1, refit=True, error_score='raise')\n",
    "gs_lsvm.fit(x_train, y_train);\n",
    "lsvm_best = gs_lsvm.best_estimator_"
   ],
   "metadata": {
    "collapsed": false,
    "pycharm": {
     "name": "#%%\n"
    }
   }
  },
  {
   "cell_type": "code",
   "execution_count": 164,
   "outputs": [
    {
     "data": {
      "text/plain": "     rank_test_score  std_test_score  mean_test_score  split2_test_score  \\\n189                1        0.032169         0.855376           0.884258   \n191                2        0.032156         0.855351           0.884258   \n187                2        0.032156         0.855351           0.884258   \n183                4        0.032191         0.855326           0.884258   \n185                4        0.032191         0.855326           0.884258   \n..               ...             ...              ...                ...   \n9                194        0.032961         0.851240           0.880435   \n7                195        0.033166         0.850720           0.880735   \n5                196        0.032862         0.850200           0.880660   \n3                197        0.032499         0.849183           0.879835   \n1                198        0.033508         0.847346           0.880435   \n\n     split1_test_score  split0_test_score  \\\n189           0.810495           0.871376   \n191           0.810495           0.871301   \n187           0.810495           0.871301   \n183           0.810420           0.871301   \n185           0.810420           0.871301   \n..                 ...                ...   \n9             0.805172           0.868113   \n7             0.804498           0.866926   \n5             0.804573           0.865369   \n3             0.804198           0.863515   \n1             0.801424           0.860178   \n\n                                                params  \\\n189  {'estimator__C': 1.9, 'transformer__nums__scal...   \n191  {'estimator__C': 1.92, 'transformer__nums__sca...   \n187  {'estimator__C': 1.88, 'transformer__nums__sca...   \n183  {'estimator__C': 1.84, 'transformer__nums__sca...   \n185  {'estimator__C': 1.86, 'transformer__nums__sca...   \n..                                                 ...   \n9    {'estimator__C': 0.1, 'transformer__nums__scal...   \n7    {'estimator__C': 0.08, 'transformer__nums__sca...   \n5    {'estimator__C': 0.06, 'transformer__nums__sca...   \n3    {'estimator__C': 0.04, 'transformer__nums__sca...   \n1    {'estimator__C': 0.02, 'transformer__nums__sca...   \n\n    param_transformer__nums__scaler param_estimator__C  std_score_time  \\\n189                  MinMaxScaler()                1.9    8.159508e-04   \n191                  MinMaxScaler()               1.92    9.427408e-04   \n187                  MinMaxScaler()               1.88    1.413943e-03   \n183                  MinMaxScaler()               1.84    1.246045e-03   \n185                  MinMaxScaler()               1.86    4.717077e-04   \n..                              ...                ...             ...   \n9                    MinMaxScaler()                0.1    8.172161e-04   \n7                    MinMaxScaler()               0.08    1.885931e-03   \n5                    MinMaxScaler()               0.06    1.700299e-03   \n3                    MinMaxScaler()               0.04    1.246577e-03   \n1                    MinMaxScaler()               0.02    4.495664e-07   \n\n     mean_score_time  std_fit_time  mean_fit_time  \n189         0.012000      0.003400       0.058333  \n191         0.012667      0.002053       0.058666  \n187         0.013000      0.001632       0.058000  \n183         0.013334      0.001459       0.057502  \n185         0.012334      0.000942       0.057333  \n..               ...           ...            ...  \n9           0.014000      0.028523       0.115333  \n7           0.014333      0.007587       0.061333  \n5           0.015333      0.011557       0.065667  \n3           0.013666      0.004027       0.053667  \n1           0.013999      0.000943       0.053667  \n\n[198 rows x 13 columns]",
      "text/html": "<div>\n<style scoped>\n    .dataframe tbody tr th:only-of-type {\n        vertical-align: middle;\n    }\n\n    .dataframe tbody tr th {\n        vertical-align: top;\n    }\n\n    .dataframe thead th {\n        text-align: right;\n    }\n</style>\n<table border=\"1\" class=\"dataframe\">\n  <thead>\n    <tr style=\"text-align: right;\">\n      <th></th>\n      <th>rank_test_score</th>\n      <th>std_test_score</th>\n      <th>mean_test_score</th>\n      <th>split2_test_score</th>\n      <th>split1_test_score</th>\n      <th>split0_test_score</th>\n      <th>params</th>\n      <th>param_transformer__nums__scaler</th>\n      <th>param_estimator__C</th>\n      <th>std_score_time</th>\n      <th>mean_score_time</th>\n      <th>std_fit_time</th>\n      <th>mean_fit_time</th>\n    </tr>\n  </thead>\n  <tbody>\n    <tr>\n      <th>189</th>\n      <td>1</td>\n      <td>0.032169</td>\n      <td>0.855376</td>\n      <td>0.884258</td>\n      <td>0.810495</td>\n      <td>0.871376</td>\n      <td>{'estimator__C': 1.9, 'transformer__nums__scal...</td>\n      <td>MinMaxScaler()</td>\n      <td>1.9</td>\n      <td>8.159508e-04</td>\n      <td>0.012000</td>\n      <td>0.003400</td>\n      <td>0.058333</td>\n    </tr>\n    <tr>\n      <th>191</th>\n      <td>2</td>\n      <td>0.032156</td>\n      <td>0.855351</td>\n      <td>0.884258</td>\n      <td>0.810495</td>\n      <td>0.871301</td>\n      <td>{'estimator__C': 1.92, 'transformer__nums__sca...</td>\n      <td>MinMaxScaler()</td>\n      <td>1.92</td>\n      <td>9.427408e-04</td>\n      <td>0.012667</td>\n      <td>0.002053</td>\n      <td>0.058666</td>\n    </tr>\n    <tr>\n      <th>187</th>\n      <td>2</td>\n      <td>0.032156</td>\n      <td>0.855351</td>\n      <td>0.884258</td>\n      <td>0.810495</td>\n      <td>0.871301</td>\n      <td>{'estimator__C': 1.88, 'transformer__nums__sca...</td>\n      <td>MinMaxScaler()</td>\n      <td>1.88</td>\n      <td>1.413943e-03</td>\n      <td>0.013000</td>\n      <td>0.001632</td>\n      <td>0.058000</td>\n    </tr>\n    <tr>\n      <th>183</th>\n      <td>4</td>\n      <td>0.032191</td>\n      <td>0.855326</td>\n      <td>0.884258</td>\n      <td>0.810420</td>\n      <td>0.871301</td>\n      <td>{'estimator__C': 1.84, 'transformer__nums__sca...</td>\n      <td>MinMaxScaler()</td>\n      <td>1.84</td>\n      <td>1.246045e-03</td>\n      <td>0.013334</td>\n      <td>0.001459</td>\n      <td>0.057502</td>\n    </tr>\n    <tr>\n      <th>185</th>\n      <td>4</td>\n      <td>0.032191</td>\n      <td>0.855326</td>\n      <td>0.884258</td>\n      <td>0.810420</td>\n      <td>0.871301</td>\n      <td>{'estimator__C': 1.86, 'transformer__nums__sca...</td>\n      <td>MinMaxScaler()</td>\n      <td>1.86</td>\n      <td>4.717077e-04</td>\n      <td>0.012334</td>\n      <td>0.000942</td>\n      <td>0.057333</td>\n    </tr>\n    <tr>\n      <th>...</th>\n      <td>...</td>\n      <td>...</td>\n      <td>...</td>\n      <td>...</td>\n      <td>...</td>\n      <td>...</td>\n      <td>...</td>\n      <td>...</td>\n      <td>...</td>\n      <td>...</td>\n      <td>...</td>\n      <td>...</td>\n      <td>...</td>\n    </tr>\n    <tr>\n      <th>9</th>\n      <td>194</td>\n      <td>0.032961</td>\n      <td>0.851240</td>\n      <td>0.880435</td>\n      <td>0.805172</td>\n      <td>0.868113</td>\n      <td>{'estimator__C': 0.1, 'transformer__nums__scal...</td>\n      <td>MinMaxScaler()</td>\n      <td>0.1</td>\n      <td>8.172161e-04</td>\n      <td>0.014000</td>\n      <td>0.028523</td>\n      <td>0.115333</td>\n    </tr>\n    <tr>\n      <th>7</th>\n      <td>195</td>\n      <td>0.033166</td>\n      <td>0.850720</td>\n      <td>0.880735</td>\n      <td>0.804498</td>\n      <td>0.866926</td>\n      <td>{'estimator__C': 0.08, 'transformer__nums__sca...</td>\n      <td>MinMaxScaler()</td>\n      <td>0.08</td>\n      <td>1.885931e-03</td>\n      <td>0.014333</td>\n      <td>0.007587</td>\n      <td>0.061333</td>\n    </tr>\n    <tr>\n      <th>5</th>\n      <td>196</td>\n      <td>0.032862</td>\n      <td>0.850200</td>\n      <td>0.880660</td>\n      <td>0.804573</td>\n      <td>0.865369</td>\n      <td>{'estimator__C': 0.06, 'transformer__nums__sca...</td>\n      <td>MinMaxScaler()</td>\n      <td>0.06</td>\n      <td>1.700299e-03</td>\n      <td>0.015333</td>\n      <td>0.011557</td>\n      <td>0.065667</td>\n    </tr>\n    <tr>\n      <th>3</th>\n      <td>197</td>\n      <td>0.032499</td>\n      <td>0.849183</td>\n      <td>0.879835</td>\n      <td>0.804198</td>\n      <td>0.863515</td>\n      <td>{'estimator__C': 0.04, 'transformer__nums__sca...</td>\n      <td>MinMaxScaler()</td>\n      <td>0.04</td>\n      <td>1.246577e-03</td>\n      <td>0.013666</td>\n      <td>0.004027</td>\n      <td>0.053667</td>\n    </tr>\n    <tr>\n      <th>1</th>\n      <td>198</td>\n      <td>0.033508</td>\n      <td>0.847346</td>\n      <td>0.880435</td>\n      <td>0.801424</td>\n      <td>0.860178</td>\n      <td>{'estimator__C': 0.02, 'transformer__nums__sca...</td>\n      <td>MinMaxScaler()</td>\n      <td>0.02</td>\n      <td>4.495664e-07</td>\n      <td>0.013999</td>\n      <td>0.000943</td>\n      <td>0.053667</td>\n    </tr>\n  </tbody>\n</table>\n<p>198 rows × 13 columns</p>\n</div>"
     },
     "metadata": {},
     "output_type": "display_data"
    },
    {
     "name": "stdout",
     "output_type": "stream",
     "text": [
      "параметры: {'estimator__C': 1.9, 'transformer__nums__scaler': MinMaxScaler()} \n",
      "roc-auc: 0.8554\n"
     ]
    }
   ],
   "source": [
    "display(pd.DataFrame(gs_lsvm.cv_results_).sort_values('rank_test_score').loc[:, ::-1])\n",
    "print(f'параметры: {gs_lsvm.best_params_}',\n",
    "      f'\\nroc-auc: {gs_lsvm.best_score_:.4f}')"
   ],
   "metadata": {
    "collapsed": false,
    "pycharm": {
     "name": "#%%\n"
    }
   }
  },
  {
   "cell_type": "code",
   "execution_count": 169,
   "outputs": [
    {
     "data": {
      "text/plain": "                 model      searcher  \\\n1                   lr          some   \n2  Logistic Regression  GridSearchCV   \n3                  SVC  GridSearchCV   \n4            LinearSVC  GridSearchCV   \n\n                                              params cv_roc_auc train_roc_auc  \\\n1                                           [(d, 3)]        5.6        6.2454   \n2  [(clf__C, 100), (clf__penalty, l2), (transform...     0.8552        0.8629   \n3  [(estimator__C, 16), (estimator__gamma, 0.0009...     0.8486        0.8545   \n4  [(estimator__C, 1.9), (transformer__nums__scal...     0.8554        0.8616   \n\n  test_roc_auc  \n1          NaN  \n2       0.8648  \n3       0.8505  \n4       0.8625  ",
      "text/html": "<div>\n<style scoped>\n    .dataframe tbody tr th:only-of-type {\n        vertical-align: middle;\n    }\n\n    .dataframe tbody tr th {\n        vertical-align: top;\n    }\n\n    .dataframe thead th {\n        text-align: right;\n    }\n</style>\n<table border=\"1\" class=\"dataframe\">\n  <thead>\n    <tr style=\"text-align: right;\">\n      <th></th>\n      <th>model</th>\n      <th>searcher</th>\n      <th>params</th>\n      <th>cv_roc_auc</th>\n      <th>train_roc_auc</th>\n      <th>test_roc_auc</th>\n    </tr>\n  </thead>\n  <tbody>\n    <tr>\n      <th>1</th>\n      <td>lr</td>\n      <td>some</td>\n      <td>[(d, 3)]</td>\n      <td>5.6</td>\n      <td>6.2454</td>\n      <td>NaN</td>\n    </tr>\n    <tr>\n      <th>2</th>\n      <td>Logistic Regression</td>\n      <td>GridSearchCV</td>\n      <td>[(clf__C, 100), (clf__penalty, l2), (transform...</td>\n      <td>0.8552</td>\n      <td>0.8629</td>\n      <td>0.8648</td>\n    </tr>\n    <tr>\n      <th>3</th>\n      <td>SVC</td>\n      <td>GridSearchCV</td>\n      <td>[(estimator__C, 16), (estimator__gamma, 0.0009...</td>\n      <td>0.8486</td>\n      <td>0.8545</td>\n      <td>0.8505</td>\n    </tr>\n    <tr>\n      <th>4</th>\n      <td>LinearSVC</td>\n      <td>GridSearchCV</td>\n      <td>[(estimator__C, 1.9), (transformer__nums__scal...</td>\n      <td>0.8554</td>\n      <td>0.8616</td>\n      <td>0.8625</td>\n    </tr>\n  </tbody>\n</table>\n</div>"
     },
     "execution_count": 169,
     "metadata": {},
     "output_type": "execute_result"
    }
   ],
   "source": [
    "final_scorer(model_name='LinearSVC',\n",
    "             searcher='GridSearchCV',\n",
    "             best_params=gs_lsvm.best_params_,\n",
    "             cv_best_score=gs_lsvm.best_score_,\n",
    "             train_roc_auc=roc_auc_score(y_train, gs_lsvm.best_estimator_.decision_function(x_train)),\n",
    "             test_roc_auc=roc_auc_score(y_test, gs_lsvm.best_estimator_.decision_function(x_test)))"
   ],
   "metadata": {
    "collapsed": false,
    "pycharm": {
     "name": "#%%\n"
    }
   }
  },
  {
   "cell_type": "markdown",
   "source": [
    "## Наивный Байес"
   ],
   "metadata": {
    "collapsed": false,
    "pycharm": {
     "name": "#%% md\n"
    }
   }
  },
  {
   "cell_type": "code",
   "execution_count": 170,
   "outputs": [
    {
     "name": "stdout",
     "output_type": "stream",
     "text": [
      "CPU times: total: 172 ms\n",
      "Wall time: 5.78 s\n"
     ]
    }
   ],
   "source": [
    "%%time\n",
    "num_ct = Pipeline(steps=[('imputer', IterativeImputer(random_state=123)),\n",
    "                         ('scaler', MinMaxScaler())])\n",
    "\n",
    "cat_ct = Pipeline(steps=[('imputer', SimpleImputer(strategy='most_frequent')),\n",
    "                         ('ohe', OneHotEncoder(drop='first'))])\n",
    "\n",
    "transformer_poly = ColumnTransformer(transformers=[('nums', num_ct, selector(dtype_exclude=\"object\")),\n",
    "                                                   ('cats', cat_ct, selector(dtype_include=\"object\"))],\n",
    "                                                    remainder='passthrough')\n",
    "\n",
    "bayes_pipe = Pipeline(steps=[('transformer', transformer_poly), ('estimator', BernoulliNB())])\n",
    "\n",
    "params = [{'estimator': [BernoulliNB(), CategoricalNB(), ComplementNB()],\n",
    "           'estimator__alpha': [0.1, 1, 10]},\n",
    "\n",
    "          {'estimator': [GaussianNB()]}\n",
    "         ]\n",
    "\n",
    "gs_bayes = GridSearchCV(bayes_pipe, param_grid=params, scoring='roc_auc', cv=3, n_jobs=-1)\n",
    "\n",
    "gs_bayes.fit(x_train, y_train);"
   ],
   "metadata": {
    "collapsed": false,
    "pycharm": {
     "name": "#%%\n"
    }
   }
  },
  {
   "cell_type": "code",
   "execution_count": 171,
   "outputs": [
    {
     "data": {
      "text/plain": "   rank_test_score  std_test_score  mean_test_score  split2_test_score  \\\n7                1        0.033375         0.832073           0.867766   \n6                2        0.032532         0.831672           0.865892   \n8                3        0.034526         0.830656           0.868216   \n9                4        0.026125         0.828027           0.860720   \n0                5        0.032430         0.819763           0.854648   \n1                6        0.034377         0.819366           0.856897   \n4                7        0.031300         0.819178           0.854835   \n3                8        0.028991         0.818925           0.850937   \n5                9        0.031876         0.818456           0.854835   \n2               10        0.035050         0.817601           0.856447   \n\n   split1_test_score  split0_test_score  \\\n7           0.787481           0.840971   \n6           0.787931           0.841194   \n8           0.784858           0.838895   \n9           0.796777           0.826585   \n0           0.776537           0.828105   \n1           0.773838           0.827364   \n4           0.778636           0.824064   \n3           0.780735           0.825102   \n5           0.777211           0.823322   \n2           0.771514           0.824842   \n\n                                              params param_estimator__alpha  \\\n7  {'estimator': ComplementNB(alpha=1), 'estimato...                      1   \n6  {'estimator': ComplementNB(alpha=1), 'estimato...                    0.1   \n8  {'estimator': ComplementNB(alpha=1), 'estimato...                     10   \n9                        {'estimator': GaussianNB()}                    NaN   \n0  {'estimator': BernoulliNB(), 'estimator__alpha...                    0.1   \n1  {'estimator': BernoulliNB(), 'estimator__alpha...                      1   \n4  {'estimator': CategoricalNB(), 'estimator__alp...                      1   \n3  {'estimator': CategoricalNB(), 'estimator__alp...                    0.1   \n5  {'estimator': CategoricalNB(), 'estimator__alp...                     10   \n2  {'estimator': BernoulliNB(), 'estimator__alpha...                     10   \n\n         param_estimator  std_score_time  mean_score_time  std_fit_time  \\\n7  ComplementNB(alpha=1)        0.001227         0.015351      0.003299   \n6  ComplementNB(alpha=1)        0.000447         0.013685      0.012484   \n8  ComplementNB(alpha=1)        0.008765         0.019689      0.002449   \n9           GaussianNB()        0.003304         0.015400      0.005443   \n0          BernoulliNB()        0.004642         0.014332      0.011029   \n1          BernoulliNB()        0.064283         0.096998      0.031480   \n4        CategoricalNB()        0.030473         0.037000      0.028295   \n3        CategoricalNB()        0.002490         0.014335      0.006147   \n5        CategoricalNB()        0.011121         0.038684      0.032714   \n2          BernoulliNB()        0.001222         0.014684      0.005130   \n\n   mean_fit_time  \n7       0.057724  \n6       0.070404  \n8       0.058058  \n9       0.059732  \n0       0.080728  \n1       0.110334  \n4       0.113998  \n3       0.053348  \n5       0.205666  \n2       0.070102  ",
      "text/html": "<div>\n<style scoped>\n    .dataframe tbody tr th:only-of-type {\n        vertical-align: middle;\n    }\n\n    .dataframe tbody tr th {\n        vertical-align: top;\n    }\n\n    .dataframe thead th {\n        text-align: right;\n    }\n</style>\n<table border=\"1\" class=\"dataframe\">\n  <thead>\n    <tr style=\"text-align: right;\">\n      <th></th>\n      <th>rank_test_score</th>\n      <th>std_test_score</th>\n      <th>mean_test_score</th>\n      <th>split2_test_score</th>\n      <th>split1_test_score</th>\n      <th>split0_test_score</th>\n      <th>params</th>\n      <th>param_estimator__alpha</th>\n      <th>param_estimator</th>\n      <th>std_score_time</th>\n      <th>mean_score_time</th>\n      <th>std_fit_time</th>\n      <th>mean_fit_time</th>\n    </tr>\n  </thead>\n  <tbody>\n    <tr>\n      <th>7</th>\n      <td>1</td>\n      <td>0.033375</td>\n      <td>0.832073</td>\n      <td>0.867766</td>\n      <td>0.787481</td>\n      <td>0.840971</td>\n      <td>{'estimator': ComplementNB(alpha=1), 'estimato...</td>\n      <td>1</td>\n      <td>ComplementNB(alpha=1)</td>\n      <td>0.001227</td>\n      <td>0.015351</td>\n      <td>0.003299</td>\n      <td>0.057724</td>\n    </tr>\n    <tr>\n      <th>6</th>\n      <td>2</td>\n      <td>0.032532</td>\n      <td>0.831672</td>\n      <td>0.865892</td>\n      <td>0.787931</td>\n      <td>0.841194</td>\n      <td>{'estimator': ComplementNB(alpha=1), 'estimato...</td>\n      <td>0.1</td>\n      <td>ComplementNB(alpha=1)</td>\n      <td>0.000447</td>\n      <td>0.013685</td>\n      <td>0.012484</td>\n      <td>0.070404</td>\n    </tr>\n    <tr>\n      <th>8</th>\n      <td>3</td>\n      <td>0.034526</td>\n      <td>0.830656</td>\n      <td>0.868216</td>\n      <td>0.784858</td>\n      <td>0.838895</td>\n      <td>{'estimator': ComplementNB(alpha=1), 'estimato...</td>\n      <td>10</td>\n      <td>ComplementNB(alpha=1)</td>\n      <td>0.008765</td>\n      <td>0.019689</td>\n      <td>0.002449</td>\n      <td>0.058058</td>\n    </tr>\n    <tr>\n      <th>9</th>\n      <td>4</td>\n      <td>0.026125</td>\n      <td>0.828027</td>\n      <td>0.860720</td>\n      <td>0.796777</td>\n      <td>0.826585</td>\n      <td>{'estimator': GaussianNB()}</td>\n      <td>NaN</td>\n      <td>GaussianNB()</td>\n      <td>0.003304</td>\n      <td>0.015400</td>\n      <td>0.005443</td>\n      <td>0.059732</td>\n    </tr>\n    <tr>\n      <th>0</th>\n      <td>5</td>\n      <td>0.032430</td>\n      <td>0.819763</td>\n      <td>0.854648</td>\n      <td>0.776537</td>\n      <td>0.828105</td>\n      <td>{'estimator': BernoulliNB(), 'estimator__alpha...</td>\n      <td>0.1</td>\n      <td>BernoulliNB()</td>\n      <td>0.004642</td>\n      <td>0.014332</td>\n      <td>0.011029</td>\n      <td>0.080728</td>\n    </tr>\n    <tr>\n      <th>1</th>\n      <td>6</td>\n      <td>0.034377</td>\n      <td>0.819366</td>\n      <td>0.856897</td>\n      <td>0.773838</td>\n      <td>0.827364</td>\n      <td>{'estimator': BernoulliNB(), 'estimator__alpha...</td>\n      <td>1</td>\n      <td>BernoulliNB()</td>\n      <td>0.064283</td>\n      <td>0.096998</td>\n      <td>0.031480</td>\n      <td>0.110334</td>\n    </tr>\n    <tr>\n      <th>4</th>\n      <td>7</td>\n      <td>0.031300</td>\n      <td>0.819178</td>\n      <td>0.854835</td>\n      <td>0.778636</td>\n      <td>0.824064</td>\n      <td>{'estimator': CategoricalNB(), 'estimator__alp...</td>\n      <td>1</td>\n      <td>CategoricalNB()</td>\n      <td>0.030473</td>\n      <td>0.037000</td>\n      <td>0.028295</td>\n      <td>0.113998</td>\n    </tr>\n    <tr>\n      <th>3</th>\n      <td>8</td>\n      <td>0.028991</td>\n      <td>0.818925</td>\n      <td>0.850937</td>\n      <td>0.780735</td>\n      <td>0.825102</td>\n      <td>{'estimator': CategoricalNB(), 'estimator__alp...</td>\n      <td>0.1</td>\n      <td>CategoricalNB()</td>\n      <td>0.002490</td>\n      <td>0.014335</td>\n      <td>0.006147</td>\n      <td>0.053348</td>\n    </tr>\n    <tr>\n      <th>5</th>\n      <td>9</td>\n      <td>0.031876</td>\n      <td>0.818456</td>\n      <td>0.854835</td>\n      <td>0.777211</td>\n      <td>0.823322</td>\n      <td>{'estimator': CategoricalNB(), 'estimator__alp...</td>\n      <td>10</td>\n      <td>CategoricalNB()</td>\n      <td>0.011121</td>\n      <td>0.038684</td>\n      <td>0.032714</td>\n      <td>0.205666</td>\n    </tr>\n    <tr>\n      <th>2</th>\n      <td>10</td>\n      <td>0.035050</td>\n      <td>0.817601</td>\n      <td>0.856447</td>\n      <td>0.771514</td>\n      <td>0.824842</td>\n      <td>{'estimator': BernoulliNB(), 'estimator__alpha...</td>\n      <td>10</td>\n      <td>BernoulliNB()</td>\n      <td>0.001222</td>\n      <td>0.014684</td>\n      <td>0.005130</td>\n      <td>0.070102</td>\n    </tr>\n  </tbody>\n</table>\n</div>"
     },
     "metadata": {},
     "output_type": "display_data"
    },
    {
     "name": "stdout",
     "output_type": "stream",
     "text": [
      "параметры: {'estimator': ComplementNB(alpha=1), 'estimator__alpha': 1} \n",
      "roc-auc: 0.8321\n"
     ]
    }
   ],
   "source": [
    "display(pd.DataFrame(gs_bayes.cv_results_).sort_values('rank_test_score').loc[:, ::-1])\n",
    "print(f'параметры: {gs_bayes.best_params_}',\n",
    "      f'\\nroc-auc: {gs_bayes.best_score_:.4f}')"
   ],
   "metadata": {
    "collapsed": false,
    "pycharm": {
     "name": "#%%\n"
    }
   }
  },
  {
   "cell_type": "code",
   "execution_count": 172,
   "outputs": [
    {
     "data": {
      "text/plain": "                 model      searcher  \\\n1                   lr          some   \n2  Logistic Regression  GridSearchCV   \n3                  SVC  GridSearchCV   \n4            LinearSVC  GridSearchCV   \n5          Naive Bayes  GridSearchCV   \n\n                                              params cv_roc_auc train_roc_auc  \\\n1                                           [(d, 3)]        5.6        6.2454   \n2  [(clf__C, 100), (clf__penalty, l2), (transform...     0.8552        0.8629   \n3  [(estimator__C, 16), (estimator__gamma, 0.0009...     0.8486        0.8545   \n4  [(estimator__C, 1.9), (transformer__nums__scal...     0.8554        0.8616   \n5  [(estimator, ComplementNB(alpha=1)), (estimato...     0.8321        0.8348   \n\n  test_roc_auc  \n1          NaN  \n2       0.8648  \n3       0.8505  \n4       0.8625  \n5        0.858  ",
      "text/html": "<div>\n<style scoped>\n    .dataframe tbody tr th:only-of-type {\n        vertical-align: middle;\n    }\n\n    .dataframe tbody tr th {\n        vertical-align: top;\n    }\n\n    .dataframe thead th {\n        text-align: right;\n    }\n</style>\n<table border=\"1\" class=\"dataframe\">\n  <thead>\n    <tr style=\"text-align: right;\">\n      <th></th>\n      <th>model</th>\n      <th>searcher</th>\n      <th>params</th>\n      <th>cv_roc_auc</th>\n      <th>train_roc_auc</th>\n      <th>test_roc_auc</th>\n    </tr>\n  </thead>\n  <tbody>\n    <tr>\n      <th>1</th>\n      <td>lr</td>\n      <td>some</td>\n      <td>[(d, 3)]</td>\n      <td>5.6</td>\n      <td>6.2454</td>\n      <td>NaN</td>\n    </tr>\n    <tr>\n      <th>2</th>\n      <td>Logistic Regression</td>\n      <td>GridSearchCV</td>\n      <td>[(clf__C, 100), (clf__penalty, l2), (transform...</td>\n      <td>0.8552</td>\n      <td>0.8629</td>\n      <td>0.8648</td>\n    </tr>\n    <tr>\n      <th>3</th>\n      <td>SVC</td>\n      <td>GridSearchCV</td>\n      <td>[(estimator__C, 16), (estimator__gamma, 0.0009...</td>\n      <td>0.8486</td>\n      <td>0.8545</td>\n      <td>0.8505</td>\n    </tr>\n    <tr>\n      <th>4</th>\n      <td>LinearSVC</td>\n      <td>GridSearchCV</td>\n      <td>[(estimator__C, 1.9), (transformer__nums__scal...</td>\n      <td>0.8554</td>\n      <td>0.8616</td>\n      <td>0.8625</td>\n    </tr>\n    <tr>\n      <th>5</th>\n      <td>Naive Bayes</td>\n      <td>GridSearchCV</td>\n      <td>[(estimator, ComplementNB(alpha=1)), (estimato...</td>\n      <td>0.8321</td>\n      <td>0.8348</td>\n      <td>0.858</td>\n    </tr>\n  </tbody>\n</table>\n</div>"
     },
     "execution_count": 172,
     "metadata": {},
     "output_type": "execute_result"
    }
   ],
   "source": [
    "final_scorer(model_name='Naive Bayes',\n",
    "             searcher='GridSearchCV',\n",
    "             best_params=gs_bayes.best_params_,\n",
    "             cv_best_score=gs_bayes.best_score_,\n",
    "             train_roc_auc=roc_auc_score(y_train, gs_bayes.best_estimator_.predict_proba(x_train)[:, 1]),\n",
    "             test_roc_auc=roc_auc_score(y_test, gs_bayes.best_estimator_.predict_proba(x_test)[:, 1]))"
   ],
   "metadata": {
    "collapsed": false,
    "pycharm": {
     "name": "#%%\n"
    }
   }
  },
  {
   "cell_type": "markdown",
   "source": [
    "## Деревянные модели"
   ],
   "metadata": {
    "collapsed": false,
    "pycharm": {
     "name": "#%% md\n"
    }
   }
  },
  {
   "cell_type": "markdown",
   "source": [
    "### Дерево решений"
   ],
   "metadata": {
    "collapsed": false,
    "pycharm": {
     "name": "#%% md\n"
    }
   }
  },
  {
   "cell_type": "code",
   "execution_count": 173,
   "outputs": [
    {
     "name": "stdout",
     "output_type": "stream",
     "text": [
      "CPU times: total: 9.81 s\n",
      "Wall time: 24.7 s\n"
     ]
    },
    {
     "name": "stderr",
     "output_type": "stream",
     "text": [
      "C:\\work_and_fun\\partisans\\PP\\mistakes-and-regrets\\lib\\site-packages\\sklearn\\model_selection\\_validation.py:378: FitFailedWarning: \n",
      "1458 fits failed out of a total of 2916.\n",
      "The score on these train-test partitions for these parameters will be set to nan.\n",
      "If these failures are not expected, you can try to debug them by setting error_score='raise'.\n",
      "\n",
      "Below are more details about the failures:\n",
      "--------------------------------------------------------------------------------\n",
      "1458 fits failed with the following error:\n",
      "Traceback (most recent call last):\n",
      "  File \"C:\\work_and_fun\\partisans\\PP\\mistakes-and-regrets\\lib\\site-packages\\sklearn\\model_selection\\_validation.py\", line 686, in _fit_and_score\n",
      "    estimator.fit(X_train, y_train, **fit_params)\n",
      "  File \"C:\\work_and_fun\\partisans\\PP\\mistakes-and-regrets\\lib\\site-packages\\sklearn\\pipeline.py\", line 401, in fit\n",
      "    Xt = self._fit(X, y, **fit_params_steps)\n",
      "  File \"C:\\work_and_fun\\partisans\\PP\\mistakes-and-regrets\\lib\\site-packages\\sklearn\\pipeline.py\", line 359, in _fit\n",
      "    X, fitted_transformer = fit_transform_one_cached(\n",
      "  File \"C:\\work_and_fun\\partisans\\PP\\mistakes-and-regrets\\lib\\site-packages\\joblib\\memory.py\", line 349, in __call__\n",
      "    return self.func(*args, **kwargs)\n",
      "  File \"C:\\work_and_fun\\partisans\\PP\\mistakes-and-regrets\\lib\\site-packages\\sklearn\\pipeline.py\", line 893, in _fit_transform_one\n",
      "    res = transformer.fit_transform(X, y, **fit_params)\n",
      "  File \"C:\\work_and_fun\\partisans\\PP\\mistakes-and-regrets\\lib\\site-packages\\sklearn\\utils\\_set_output.py\", line 140, in wrapped\n",
      "    data_to_wrap = f(self, X, *args, **kwargs)\n",
      "  File \"C:\\work_and_fun\\partisans\\PP\\mistakes-and-regrets\\lib\\site-packages\\sklearn\\compose\\_column_transformer.py\", line 727, in fit_transform\n",
      "    result = self._fit_transform(X, y, _fit_transform_one)\n",
      "  File \"C:\\work_and_fun\\partisans\\PP\\mistakes-and-regrets\\lib\\site-packages\\sklearn\\compose\\_column_transformer.py\", line 658, in _fit_transform\n",
      "    return Parallel(n_jobs=self.n_jobs)(\n",
      "  File \"C:\\work_and_fun\\partisans\\PP\\mistakes-and-regrets\\lib\\site-packages\\sklearn\\utils\\parallel.py\", line 63, in __call__\n",
      "    return super().__call__(iterable_with_config)\n",
      "  File \"C:\\work_and_fun\\partisans\\PP\\mistakes-and-regrets\\lib\\site-packages\\joblib\\parallel.py\", line 1088, in __call__\n",
      "    while self.dispatch_one_batch(iterator):\n",
      "  File \"C:\\work_and_fun\\partisans\\PP\\mistakes-and-regrets\\lib\\site-packages\\joblib\\parallel.py\", line 901, in dispatch_one_batch\n",
      "    self._dispatch(tasks)\n",
      "  File \"C:\\work_and_fun\\partisans\\PP\\mistakes-and-regrets\\lib\\site-packages\\joblib\\parallel.py\", line 819, in _dispatch\n",
      "    job = self._backend.apply_async(batch, callback=cb)\n",
      "  File \"C:\\work_and_fun\\partisans\\PP\\mistakes-and-regrets\\lib\\site-packages\\joblib\\_parallel_backends.py\", line 208, in apply_async\n",
      "    result = ImmediateResult(func)\n",
      "  File \"C:\\work_and_fun\\partisans\\PP\\mistakes-and-regrets\\lib\\site-packages\\joblib\\_parallel_backends.py\", line 597, in __init__\n",
      "    self.results = batch()\n",
      "  File \"C:\\work_and_fun\\partisans\\PP\\mistakes-and-regrets\\lib\\site-packages\\joblib\\parallel.py\", line 288, in __call__\n",
      "    return [func(*args, **kwargs)\n",
      "  File \"C:\\work_and_fun\\partisans\\PP\\mistakes-and-regrets\\lib\\site-packages\\joblib\\parallel.py\", line 288, in <listcomp>\n",
      "    return [func(*args, **kwargs)\n",
      "  File \"C:\\work_and_fun\\partisans\\PP\\mistakes-and-regrets\\lib\\site-packages\\sklearn\\utils\\parallel.py\", line 123, in __call__\n",
      "    return self.function(*args, **kwargs)\n",
      "  File \"C:\\work_and_fun\\partisans\\PP\\mistakes-and-regrets\\lib\\site-packages\\sklearn\\pipeline.py\", line 893, in _fit_transform_one\n",
      "    res = transformer.fit_transform(X, y, **fit_params)\n",
      "  File \"C:\\work_and_fun\\partisans\\PP\\mistakes-and-regrets\\lib\\site-packages\\sklearn\\pipeline.py\", line 445, in fit_transform\n",
      "    return last_step.fit_transform(Xt, y, **fit_params_last_step)\n",
      "  File \"C:\\work_and_fun\\partisans\\PP\\mistakes-and-regrets\\lib\\site-packages\\sklearn\\utils\\_set_output.py\", line 140, in wrapped\n",
      "    data_to_wrap = f(self, X, *args, **kwargs)\n",
      "TypeError: fit_transform() takes 2 positional arguments but 3 were given\n",
      "\n",
      "  warnings.warn(some_fits_failed_message, FitFailedWarning)\n",
      "C:\\work_and_fun\\partisans\\PP\\mistakes-and-regrets\\lib\\site-packages\\sklearn\\model_selection\\_search.py:952: UserWarning: One or more of the test scores are non-finite: [0.80833992        nan 0.80833992        nan 0.80833992        nan\n",
      " 0.80833992        nan 0.80833992        nan 0.80833992        nan\n",
      " 0.80833992        nan 0.80833992        nan 0.80833992        nan\n",
      " 0.80833992        nan 0.80833992        nan 0.80833992        nan\n",
      " 0.80833992        nan 0.80833992        nan 0.80833992        nan\n",
      " 0.80833992        nan 0.80833992        nan 0.80833992        nan\n",
      " 0.80833992        nan 0.80833992        nan 0.80833992        nan\n",
      " 0.80833992        nan 0.80833992        nan 0.80833992        nan\n",
      " 0.80833992        nan 0.80833992        nan 0.80833992        nan\n",
      " 0.80833992        nan 0.80833992        nan 0.80833992        nan\n",
      " 0.80833992        nan 0.80833992        nan 0.80833992        nan\n",
      " 0.80833992        nan 0.80833992        nan 0.80833992        nan\n",
      " 0.80833992        nan 0.80833992        nan 0.80833992        nan\n",
      " 0.80833992        nan 0.80833992        nan 0.80833992        nan\n",
      " 0.80833992        nan 0.80833992        nan 0.80833992        nan\n",
      " 0.80833992        nan 0.80833992        nan 0.80833992        nan\n",
      " 0.80833992        nan 0.80833992        nan 0.80833992        nan\n",
      " 0.80833992        nan 0.80833992        nan 0.80833992        nan\n",
      " 0.80833992        nan 0.80833992        nan 0.80833992        nan\n",
      " 0.80833992        nan 0.80833992        nan 0.80833992        nan\n",
      " 0.80833992        nan 0.80833992        nan 0.80833992        nan\n",
      " 0.80833992        nan 0.80833992        nan 0.80833992        nan\n",
      " 0.80833992        nan 0.80833992        nan 0.80833992        nan\n",
      " 0.80833992        nan 0.80833992        nan 0.80833992        nan\n",
      " 0.80833992        nan 0.80833992        nan 0.80833992        nan\n",
      " 0.80833992        nan 0.80833992        nan 0.80833992        nan\n",
      " 0.80833992        nan 0.80833992        nan 0.80833992        nan\n",
      " 0.81636749        nan 0.81636749        nan 0.81636749        nan\n",
      " 0.81636749        nan 0.81636749        nan 0.81636749        nan\n",
      " 0.81636749        nan 0.81636749        nan 0.81636749        nan\n",
      " 0.81711711        nan 0.81711711        nan 0.81711711        nan\n",
      " 0.81711711        nan 0.81711711        nan 0.81711711        nan\n",
      " 0.81711711        nan 0.81711711        nan 0.81711711        nan\n",
      " 0.80457755        nan 0.80457755        nan 0.80457755        nan\n",
      " 0.80457755        nan 0.80457755        nan 0.80457755        nan\n",
      " 0.80457755        nan 0.80457755        nan 0.80457755        nan\n",
      " 0.80412777        nan 0.80412777        nan 0.80412777        nan\n",
      " 0.80412777        nan 0.80412777        nan 0.80412777        nan\n",
      " 0.80412777        nan 0.80412777        nan 0.80412777        nan\n",
      " 0.79498235        nan 0.79498235        nan 0.79498235        nan\n",
      " 0.79498235        nan 0.79498235        nan 0.79498235        nan\n",
      " 0.79498235        nan 0.79498235        nan 0.79498235        nan\n",
      " 0.79422023        nan 0.79422023        nan 0.79422023        nan\n",
      " 0.79422023        nan 0.79422023        nan 0.79422023        nan\n",
      " 0.79422023        nan 0.79422023        nan 0.79422023        nan\n",
      " 0.79684392        nan 0.79684392        nan 0.79684392        nan\n",
      " 0.79684392        nan 0.79684392        nan 0.79684392        nan\n",
      " 0.79684392        nan 0.79684392        nan 0.79684392        nan\n",
      " 0.79684392        nan 0.79684392        nan 0.79684392        nan\n",
      " 0.79684392        nan 0.79684392        nan 0.79684392        nan\n",
      " 0.79684392        nan 0.79684392        nan 0.79684392        nan\n",
      " 0.80077166        nan 0.80077166        nan 0.80077166        nan\n",
      " 0.80077166        nan 0.80077166        nan 0.80077166        nan\n",
      " 0.80077166        nan 0.80077166        nan 0.80077166        nan\n",
      " 0.83075962        nan 0.83075962        nan 0.83075962        nan\n",
      " 0.83075962        nan 0.83075962        nan 0.82753623        nan\n",
      " 0.82753623        nan 0.82753623        nan 0.826999          nan\n",
      " 0.82318679        nan 0.82318679        nan 0.82318679        nan\n",
      " 0.82318679        nan 0.82318679        nan 0.82318679        nan\n",
      " 0.82318679        nan 0.82318679        nan 0.82268704        nan\n",
      " 0.80884141        nan 0.80884141        nan 0.80884141        nan\n",
      " 0.80884141        nan 0.80884141        nan 0.80884141        nan\n",
      " 0.80884141        nan 0.80884141        nan 0.80884141        nan\n",
      " 0.81247871        nan 0.81247871        nan 0.81247871        nan\n",
      " 0.81247871        nan 0.81247871        nan 0.81247871        nan\n",
      " 0.81247871        nan 0.81247871        nan 0.81247871        nan\n",
      " 0.81095447        nan 0.81095447        nan 0.81095447        nan\n",
      " 0.81095447        nan 0.81095447        nan 0.81095447        nan\n",
      " 0.81095447        nan 0.81095447        nan 0.81095447        nan\n",
      " 0.80969542        nan 0.80969542        nan 0.80969542        nan\n",
      " 0.80969542        nan 0.80969542        nan 0.80969542        nan\n",
      " 0.80969542        nan 0.80969542        nan 0.80969542        nan\n",
      " 0.81159743        nan 0.81159743        nan 0.81159743        nan\n",
      " 0.81159743        nan 0.81159743        nan 0.81159743        nan\n",
      " 0.81159743        nan 0.81159743        nan 0.81159743        nan\n",
      " 0.82220744        nan 0.82220744        nan 0.82220744        nan\n",
      " 0.82220744        nan 0.82220744        nan 0.82220744        nan\n",
      " 0.82220744        nan 0.82220744        nan 0.82220744        nan\n",
      " 0.82274468        nan 0.82274468        nan 0.82274468        nan\n",
      " 0.82274468        nan 0.82274468        nan 0.82274468        nan\n",
      " 0.82274468        nan 0.82274468        nan 0.82274468        nan\n",
      " 0.83945917        nan 0.83945917        nan 0.83945917        nan\n",
      " 0.83945917        nan 0.83945917        nan 0.83392188        nan\n",
      " 0.83685792        nan 0.83685792        nan 0.83665802        nan\n",
      " 0.83109735        nan 0.83109735        nan 0.83109735        nan\n",
      " 0.83109735        nan 0.83109735        nan 0.83109735        nan\n",
      " 0.83109735        nan 0.83109735        nan 0.83022279        nan\n",
      " 0.82318935        nan 0.82318935        nan 0.82318935        nan\n",
      " 0.82318935        nan 0.82318935        nan 0.82318935        nan\n",
      " 0.82318935        nan 0.82318935        nan 0.82318935        nan\n",
      " 0.82511432        nan 0.82511432        nan 0.82511432        nan\n",
      " 0.82511432        nan 0.82511432        nan 0.82511432        nan\n",
      " 0.82511432        nan 0.82511432        nan 0.82511432        nan\n",
      " 0.82752938        nan 0.82752938        nan 0.82752938        nan\n",
      " 0.82752938        nan 0.82752938        nan 0.82752938        nan\n",
      " 0.82752938        nan 0.82752938        nan 0.82752938        nan\n",
      " 0.82750184        nan 0.82750184        nan 0.82750184        nan\n",
      " 0.82750184        nan 0.82750184        nan 0.82750184        nan\n",
      " 0.82750184        nan 0.82750184        nan 0.82750184        nan\n",
      " 0.81838315        nan 0.81838315        nan 0.81838315        nan\n",
      " 0.81838315        nan 0.81838315        nan 0.81838315        nan\n",
      " 0.81838315        nan 0.81838315        nan 0.81838315        nan\n",
      " 0.82264217        nan 0.82264217        nan 0.82264217        nan\n",
      " 0.82264217        nan 0.82264217        nan 0.82264217        nan\n",
      " 0.82264217        nan 0.82264217        nan 0.82264217        nan\n",
      " 0.82747202        nan 0.82747202        nan 0.82747202        nan\n",
      " 0.82747202        nan 0.82747202        nan 0.82747202        nan\n",
      " 0.82747202        nan 0.82747202        nan 0.82747202        nan\n",
      " 0.81761391        nan 0.81761391        nan 0.81761391        nan\n",
      " 0.81761391        nan 0.81761391        nan 0.82534378        nan\n",
      " 0.8249245         nan 0.82583654        nan 0.82458717        nan\n",
      " 0.8348792         nan 0.8348792         nan 0.8348792         nan\n",
      " 0.8348792         nan 0.8348792         nan 0.8348792         nan\n",
      " 0.8348792         nan 0.8348792         nan 0.83405461        nan\n",
      " 0.81250732        nan 0.81250732        nan 0.81250732        nan\n",
      " 0.81250732        nan 0.81250732        nan 0.81250732        nan\n",
      " 0.81250732        nan 0.81250732        nan 0.81250732        nan\n",
      " 0.81569377        nan 0.81569377        nan 0.81569377        nan\n",
      " 0.81569377        nan 0.81569377        nan 0.81569377        nan\n",
      " 0.81569377        nan 0.81569377        nan 0.81569377        nan\n",
      " 0.83029278        nan 0.83029278        nan 0.83029278        nan\n",
      " 0.83029278        nan 0.83029278        nan 0.83029278        nan\n",
      " 0.83029278        nan 0.83029278        nan 0.83029278        nan\n",
      " 0.82565854        nan 0.82565854        nan 0.82565854        nan\n",
      " 0.82565854        nan 0.82565854        nan 0.82565854        nan\n",
      " 0.82565854        nan 0.82565854        nan 0.82565854        nan\n",
      " 0.820434          nan 0.820434          nan 0.820434          nan\n",
      " 0.820434          nan 0.820434          nan 0.820434          nan\n",
      " 0.820434          nan 0.820434          nan 0.820434          nan\n",
      " 0.8213263         nan 0.8213263         nan 0.8213263         nan\n",
      " 0.8213263         nan 0.8213263         nan 0.8213263         nan\n",
      " 0.8213263         nan 0.8213263         nan 0.8213263         nan\n",
      " 0.82212509        nan 0.82212509        nan 0.82212509        nan\n",
      " 0.82212509        nan 0.82212509        nan 0.82212509        nan\n",
      " 0.82212509        nan 0.82212509        nan 0.82212509        nan\n",
      " 0.81327052        nan 0.81327052        nan 0.81327052        nan\n",
      " 0.81327052        nan 0.81327052        nan 0.81232005        nan\n",
      " 0.81551267        nan 0.81932569        nan 0.81763903        nan\n",
      " 0.82391345        nan 0.82391345        nan 0.82391345        nan\n",
      " 0.82391345        nan 0.82391345        nan 0.82391345        nan\n",
      " 0.82391345        nan 0.82391345        nan 0.82844868        nan\n",
      " 0.81210376        nan 0.81210376        nan 0.81210376        nan\n",
      " 0.81210376        nan 0.81210376        nan 0.81210376        nan\n",
      " 0.81210376        nan 0.81210376        nan 0.81210376        nan\n",
      " 0.81442934        nan 0.81442934        nan 0.81442934        nan\n",
      " 0.81442934        nan 0.81442934        nan 0.81442934        nan\n",
      " 0.81442934        nan 0.81442934        nan 0.81442934        nan\n",
      " 0.82692363        nan 0.82692363        nan 0.82692363        nan\n",
      " 0.82692363        nan 0.82692363        nan 0.82692363        nan\n",
      " 0.82692363        nan 0.82692363        nan 0.82692363        nan\n",
      " 0.82704602        nan 0.82704602        nan 0.82704602        nan\n",
      " 0.82704602        nan 0.82704602        nan 0.82704602        nan\n",
      " 0.82704602        nan 0.82704602        nan 0.82704602        nan\n",
      " 0.81378813        nan 0.81378813        nan 0.81378813        nan\n",
      " 0.81378813        nan 0.81378813        nan 0.81378813        nan\n",
      " 0.81378813        nan 0.81378813        nan 0.81378813        nan\n",
      " 0.82086403        nan 0.82086403        nan 0.82086403        nan\n",
      " 0.82086403        nan 0.82086403        nan 0.82086403        nan\n",
      " 0.82086403        nan 0.82086403        nan 0.82086403        nan\n",
      " 0.82138796        nan 0.82138796        nan 0.82138796        nan\n",
      " 0.82138796        nan 0.82138796        nan 0.82138796        nan\n",
      " 0.82138796        nan 0.82138796        nan 0.82138796        nan]\n",
      "  warnings.warn(\n"
     ]
    }
   ],
   "source": [
    "%%time\n",
    "num_ct = Pipeline(steps=[('imputer', IterativeImputer(random_state=123))])\n",
    "\n",
    "cat_ct = Pipeline(steps=[('imputer', SimpleImputer(strategy='most_frequent')),\n",
    "                         ('encoder', OneHotEncoder(drop='first'))])\n",
    "\n",
    "transformer = ColumnTransformer(transformers=[('nums', num_ct, selector(dtype_exclude=\"object\")),\n",
    "                                                   ('cats', cat_ct, selector(dtype_include=\"object\"))],\n",
    "                                                    remainder='passthrough')\n",
    "\n",
    "tree_pipe = Pipeline(steps=[('transformer', transformer), ('clf', DecisionTreeClassifier(random_state=123))])\n",
    "\n",
    "tree_params = {'transformer__cats__encoder': [OneHotEncoder(drop='first'), LabelEncoder()],\n",
    "               'clf__max_depth': [2, 3, 4, 5, 7, 9],\n",
    "               'clf__min_samples_split': [2, 3, 4, 5, 6, 8, 9, 10, 11],\n",
    "               'clf__min_samples_leaf': [3, 5, 8, 9, 10, 11, 12, 14, 16]}\n",
    "\n",
    "tree_gs = GridSearchCV(tree_pipe, param_grid=tree_params, scoring='roc_auc', cv=3, n_jobs=-1)\n",
    "tree_gs.fit(x_train, y_train);\n",
    "tree_best = tree_gs.best_estimator_"
   ],
   "metadata": {
    "collapsed": false,
    "pycharm": {
     "name": "#%%\n"
    }
   }
  },
  {
   "cell_type": "code",
   "execution_count": 174,
   "outputs": [
    {
     "data": {
      "text/plain": "     rank_test_score  std_test_score  mean_test_score  split2_test_score  \\\n494                1        0.033613         0.839459           0.837256   \n492                1        0.033613         0.839459           0.837256   \n490                1        0.033613         0.839459           0.837256   \n488                1        0.033613         0.839459           0.837256   \n486                1        0.033613         0.839459           0.837256   \n..               ...             ...              ...                ...   \n435              487             NaN              NaN                NaN   \n437              487             NaN              NaN                NaN   \n439              487             NaN              NaN                NaN   \n403              487             NaN              NaN                NaN   \n971              487             NaN              NaN                NaN   \n\n     split1_test_score  split0_test_score  \\\n494           0.799438           0.881683   \n492           0.799438           0.881683   \n490           0.799438           0.881683   \n488           0.799438           0.881683   \n486           0.799438           0.881683   \n..                 ...                ...   \n435                NaN                NaN   \n437                NaN                NaN   \n439                NaN                NaN   \n403                NaN                NaN   \n971                NaN                NaN   \n\n                                                params  \\\n494  {'clf__max_depth': 5, 'clf__min_samples_leaf':...   \n492  {'clf__max_depth': 5, 'clf__min_samples_leaf':...   \n490  {'clf__max_depth': 5, 'clf__min_samples_leaf':...   \n488  {'clf__max_depth': 5, 'clf__min_samples_leaf':...   \n486  {'clf__max_depth': 5, 'clf__min_samples_leaf':...   \n..                                                 ...   \n435  {'clf__max_depth': 4, 'clf__min_samples_leaf':...   \n437  {'clf__max_depth': 4, 'clf__min_samples_leaf':...   \n439  {'clf__max_depth': 4, 'clf__min_samples_leaf':...   \n403  {'clf__max_depth': 4, 'clf__min_samples_leaf':...   \n971  {'clf__max_depth': 9, 'clf__min_samples_leaf':...   \n\n    param_transformer__cats__encoder param_clf__min_samples_split  \\\n494      OneHotEncoder(drop='first')                            6   \n492      OneHotEncoder(drop='first')                            5   \n490      OneHotEncoder(drop='first')                            4   \n488      OneHotEncoder(drop='first')                            3   \n486      OneHotEncoder(drop='first')                            2   \n..                               ...                          ...   \n435                   LabelEncoder()                            3   \n437                   LabelEncoder()                            4   \n439                   LabelEncoder()                            5   \n403                   LabelEncoder()                            5   \n971                   LabelEncoder()                           11   \n\n    param_clf__min_samples_leaf param_clf__max_depth  std_score_time  \\\n494                           3                    5        0.020510   \n492                           3                    5        0.002625   \n490                           3                    5        0.001247   \n488                           3                    5        0.005716   \n486                           3                    5        0.000471   \n..                          ...                  ...             ...   \n435                          12                    4        0.000000   \n437                          12                    4        0.000000   \n439                          12                    4        0.000000   \n403                          10                    4        0.000000   \n971                          16                    9        0.000000   \n\n     mean_score_time  std_fit_time  mean_fit_time  \n494         0.028000      0.038193       0.082000  \n492         0.016669      0.023697       0.084665  \n490         0.013667      0.002159       0.055999  \n488         0.020999      0.002055       0.060333  \n486         0.014666      0.007039       0.063667  \n..               ...           ...            ...  \n435         0.000000      0.020040       0.062666  \n437         0.000000      0.002358       0.050667  \n439         0.000000      0.002160       0.050999  \n403         0.000000      0.033911       0.111334  \n971         0.000000      0.003299       0.036665  \n\n[972 rows x 15 columns]",
      "text/html": "<div>\n<style scoped>\n    .dataframe tbody tr th:only-of-type {\n        vertical-align: middle;\n    }\n\n    .dataframe tbody tr th {\n        vertical-align: top;\n    }\n\n    .dataframe thead th {\n        text-align: right;\n    }\n</style>\n<table border=\"1\" class=\"dataframe\">\n  <thead>\n    <tr style=\"text-align: right;\">\n      <th></th>\n      <th>rank_test_score</th>\n      <th>std_test_score</th>\n      <th>mean_test_score</th>\n      <th>split2_test_score</th>\n      <th>split1_test_score</th>\n      <th>split0_test_score</th>\n      <th>params</th>\n      <th>param_transformer__cats__encoder</th>\n      <th>param_clf__min_samples_split</th>\n      <th>param_clf__min_samples_leaf</th>\n      <th>param_clf__max_depth</th>\n      <th>std_score_time</th>\n      <th>mean_score_time</th>\n      <th>std_fit_time</th>\n      <th>mean_fit_time</th>\n    </tr>\n  </thead>\n  <tbody>\n    <tr>\n      <th>494</th>\n      <td>1</td>\n      <td>0.033613</td>\n      <td>0.839459</td>\n      <td>0.837256</td>\n      <td>0.799438</td>\n      <td>0.881683</td>\n      <td>{'clf__max_depth': 5, 'clf__min_samples_leaf':...</td>\n      <td>OneHotEncoder(drop='first')</td>\n      <td>6</td>\n      <td>3</td>\n      <td>5</td>\n      <td>0.020510</td>\n      <td>0.028000</td>\n      <td>0.038193</td>\n      <td>0.082000</td>\n    </tr>\n    <tr>\n      <th>492</th>\n      <td>1</td>\n      <td>0.033613</td>\n      <td>0.839459</td>\n      <td>0.837256</td>\n      <td>0.799438</td>\n      <td>0.881683</td>\n      <td>{'clf__max_depth': 5, 'clf__min_samples_leaf':...</td>\n      <td>OneHotEncoder(drop='first')</td>\n      <td>5</td>\n      <td>3</td>\n      <td>5</td>\n      <td>0.002625</td>\n      <td>0.016669</td>\n      <td>0.023697</td>\n      <td>0.084665</td>\n    </tr>\n    <tr>\n      <th>490</th>\n      <td>1</td>\n      <td>0.033613</td>\n      <td>0.839459</td>\n      <td>0.837256</td>\n      <td>0.799438</td>\n      <td>0.881683</td>\n      <td>{'clf__max_depth': 5, 'clf__min_samples_leaf':...</td>\n      <td>OneHotEncoder(drop='first')</td>\n      <td>4</td>\n      <td>3</td>\n      <td>5</td>\n      <td>0.001247</td>\n      <td>0.013667</td>\n      <td>0.002159</td>\n      <td>0.055999</td>\n    </tr>\n    <tr>\n      <th>488</th>\n      <td>1</td>\n      <td>0.033613</td>\n      <td>0.839459</td>\n      <td>0.837256</td>\n      <td>0.799438</td>\n      <td>0.881683</td>\n      <td>{'clf__max_depth': 5, 'clf__min_samples_leaf':...</td>\n      <td>OneHotEncoder(drop='first')</td>\n      <td>3</td>\n      <td>3</td>\n      <td>5</td>\n      <td>0.005716</td>\n      <td>0.020999</td>\n      <td>0.002055</td>\n      <td>0.060333</td>\n    </tr>\n    <tr>\n      <th>486</th>\n      <td>1</td>\n      <td>0.033613</td>\n      <td>0.839459</td>\n      <td>0.837256</td>\n      <td>0.799438</td>\n      <td>0.881683</td>\n      <td>{'clf__max_depth': 5, 'clf__min_samples_leaf':...</td>\n      <td>OneHotEncoder(drop='first')</td>\n      <td>2</td>\n      <td>3</td>\n      <td>5</td>\n      <td>0.000471</td>\n      <td>0.014666</td>\n      <td>0.007039</td>\n      <td>0.063667</td>\n    </tr>\n    <tr>\n      <th>...</th>\n      <td>...</td>\n      <td>...</td>\n      <td>...</td>\n      <td>...</td>\n      <td>...</td>\n      <td>...</td>\n      <td>...</td>\n      <td>...</td>\n      <td>...</td>\n      <td>...</td>\n      <td>...</td>\n      <td>...</td>\n      <td>...</td>\n      <td>...</td>\n      <td>...</td>\n    </tr>\n    <tr>\n      <th>435</th>\n      <td>487</td>\n      <td>NaN</td>\n      <td>NaN</td>\n      <td>NaN</td>\n      <td>NaN</td>\n      <td>NaN</td>\n      <td>{'clf__max_depth': 4, 'clf__min_samples_leaf':...</td>\n      <td>LabelEncoder()</td>\n      <td>3</td>\n      <td>12</td>\n      <td>4</td>\n      <td>0.000000</td>\n      <td>0.000000</td>\n      <td>0.020040</td>\n      <td>0.062666</td>\n    </tr>\n    <tr>\n      <th>437</th>\n      <td>487</td>\n      <td>NaN</td>\n      <td>NaN</td>\n      <td>NaN</td>\n      <td>NaN</td>\n      <td>NaN</td>\n      <td>{'clf__max_depth': 4, 'clf__min_samples_leaf':...</td>\n      <td>LabelEncoder()</td>\n      <td>4</td>\n      <td>12</td>\n      <td>4</td>\n      <td>0.000000</td>\n      <td>0.000000</td>\n      <td>0.002358</td>\n      <td>0.050667</td>\n    </tr>\n    <tr>\n      <th>439</th>\n      <td>487</td>\n      <td>NaN</td>\n      <td>NaN</td>\n      <td>NaN</td>\n      <td>NaN</td>\n      <td>NaN</td>\n      <td>{'clf__max_depth': 4, 'clf__min_samples_leaf':...</td>\n      <td>LabelEncoder()</td>\n      <td>5</td>\n      <td>12</td>\n      <td>4</td>\n      <td>0.000000</td>\n      <td>0.000000</td>\n      <td>0.002160</td>\n      <td>0.050999</td>\n    </tr>\n    <tr>\n      <th>403</th>\n      <td>487</td>\n      <td>NaN</td>\n      <td>NaN</td>\n      <td>NaN</td>\n      <td>NaN</td>\n      <td>NaN</td>\n      <td>{'clf__max_depth': 4, 'clf__min_samples_leaf':...</td>\n      <td>LabelEncoder()</td>\n      <td>5</td>\n      <td>10</td>\n      <td>4</td>\n      <td>0.000000</td>\n      <td>0.000000</td>\n      <td>0.033911</td>\n      <td>0.111334</td>\n    </tr>\n    <tr>\n      <th>971</th>\n      <td>487</td>\n      <td>NaN</td>\n      <td>NaN</td>\n      <td>NaN</td>\n      <td>NaN</td>\n      <td>NaN</td>\n      <td>{'clf__max_depth': 9, 'clf__min_samples_leaf':...</td>\n      <td>LabelEncoder()</td>\n      <td>11</td>\n      <td>16</td>\n      <td>9</td>\n      <td>0.000000</td>\n      <td>0.000000</td>\n      <td>0.003299</td>\n      <td>0.036665</td>\n    </tr>\n  </tbody>\n</table>\n<p>972 rows × 15 columns</p>\n</div>"
     },
     "metadata": {},
     "output_type": "display_data"
    },
    {
     "name": "stdout",
     "output_type": "stream",
     "text": [
      "параметры: {'clf__max_depth': 5, 'clf__min_samples_leaf': 3, 'clf__min_samples_split': 2, 'transformer__cats__encoder': OneHotEncoder(drop='first')} \n",
      "roc-auc: 0.8395\n"
     ]
    }
   ],
   "source": [
    "display(pd.DataFrame(tree_gs.cv_results_).sort_values('rank_test_score').loc[:, ::-1])\n",
    "print(f'параметры: {tree_gs.best_params_}',\n",
    "      f'\\nroc-auc: {tree_gs.best_score_:.4f}')"
   ],
   "metadata": {
    "collapsed": false,
    "pycharm": {
     "name": "#%%\n"
    }
   }
  },
  {
   "cell_type": "code",
   "execution_count": 175,
   "outputs": [
    {
     "data": {
      "text/plain": "                    model      searcher  \\\n1                      lr          some   \n2     Logistic Regression  GridSearchCV   \n3                     SVC  GridSearchCV   \n4               LinearSVC  GridSearchCV   \n5             Naive Bayes  GridSearchCV   \n6  DecisionTreeClassifier  GridSearchCV   \n\n                                              params cv_roc_auc train_roc_auc  \\\n1                                           [(d, 3)]        5.6        6.2454   \n2  [(clf__C, 100), (clf__penalty, l2), (transform...     0.8552        0.8629   \n3  [(estimator__C, 16), (estimator__gamma, 0.0009...     0.8486        0.8545   \n4  [(estimator__C, 1.9), (transformer__nums__scal...     0.8554        0.8616   \n5  [(estimator, ComplementNB(alpha=1)), (estimato...     0.8321        0.8348   \n6  [(clf__max_depth, 5), (clf__min_samples_leaf, ...     0.8395        0.9042   \n\n  test_roc_auc  \n1          NaN  \n2       0.8648  \n3       0.8505  \n4       0.8625  \n5        0.858  \n6       0.8632  ",
      "text/html": "<div>\n<style scoped>\n    .dataframe tbody tr th:only-of-type {\n        vertical-align: middle;\n    }\n\n    .dataframe tbody tr th {\n        vertical-align: top;\n    }\n\n    .dataframe thead th {\n        text-align: right;\n    }\n</style>\n<table border=\"1\" class=\"dataframe\">\n  <thead>\n    <tr style=\"text-align: right;\">\n      <th></th>\n      <th>model</th>\n      <th>searcher</th>\n      <th>params</th>\n      <th>cv_roc_auc</th>\n      <th>train_roc_auc</th>\n      <th>test_roc_auc</th>\n    </tr>\n  </thead>\n  <tbody>\n    <tr>\n      <th>1</th>\n      <td>lr</td>\n      <td>some</td>\n      <td>[(d, 3)]</td>\n      <td>5.6</td>\n      <td>6.2454</td>\n      <td>NaN</td>\n    </tr>\n    <tr>\n      <th>2</th>\n      <td>Logistic Regression</td>\n      <td>GridSearchCV</td>\n      <td>[(clf__C, 100), (clf__penalty, l2), (transform...</td>\n      <td>0.8552</td>\n      <td>0.8629</td>\n      <td>0.8648</td>\n    </tr>\n    <tr>\n      <th>3</th>\n      <td>SVC</td>\n      <td>GridSearchCV</td>\n      <td>[(estimator__C, 16), (estimator__gamma, 0.0009...</td>\n      <td>0.8486</td>\n      <td>0.8545</td>\n      <td>0.8505</td>\n    </tr>\n    <tr>\n      <th>4</th>\n      <td>LinearSVC</td>\n      <td>GridSearchCV</td>\n      <td>[(estimator__C, 1.9), (transformer__nums__scal...</td>\n      <td>0.8554</td>\n      <td>0.8616</td>\n      <td>0.8625</td>\n    </tr>\n    <tr>\n      <th>5</th>\n      <td>Naive Bayes</td>\n      <td>GridSearchCV</td>\n      <td>[(estimator, ComplementNB(alpha=1)), (estimato...</td>\n      <td>0.8321</td>\n      <td>0.8348</td>\n      <td>0.858</td>\n    </tr>\n    <tr>\n      <th>6</th>\n      <td>DecisionTreeClassifier</td>\n      <td>GridSearchCV</td>\n      <td>[(clf__max_depth, 5), (clf__min_samples_leaf, ...</td>\n      <td>0.8395</td>\n      <td>0.9042</td>\n      <td>0.8632</td>\n    </tr>\n  </tbody>\n</table>\n</div>"
     },
     "execution_count": 175,
     "metadata": {},
     "output_type": "execute_result"
    }
   ],
   "source": [
    "final_scorer(model_name='DecisionTreeClassifier',\n",
    "             searcher='GridSearchCV',\n",
    "             best_params=tree_gs.best_params_,\n",
    "             cv_best_score=tree_gs.best_score_,\n",
    "             train_roc_auc=roc_auc_score(y_train, tree_gs.best_estimator_.predict_proba(x_train)[:, 1]),\n",
    "             test_roc_auc=roc_auc_score(y_test, tree_gs.best_estimator_.predict_proba(x_test)[:, 1]))"
   ],
   "metadata": {
    "collapsed": false,
    "pycharm": {
     "name": "#%%\n"
    }
   }
  },
  {
   "cell_type": "markdown",
   "source": [
    "### Случайный лес"
   ],
   "metadata": {
    "collapsed": false,
    "pycharm": {
     "name": "#%% md\n"
    }
   }
  },
  {
   "cell_type": "code",
   "execution_count": 177,
   "outputs": [
    {
     "name": "stdout",
     "output_type": "stream",
     "text": [
      "CPU times: total: 12.4 s\n",
      "Wall time: 33.9 s\n"
     ]
    }
   ],
   "source": [
    "%%time\n",
    "num_ct = Pipeline(steps=[('imputer', IterativeImputer(random_state=123))])\n",
    "\n",
    "cat_ct = Pipeline(steps=[('imputer', SimpleImputer(strategy='most_frequent')),\n",
    "                         ('encoder', OneHotEncoder(drop='first'))])\n",
    "\n",
    "transformer = ColumnTransformer(transformers=[('nums', num_ct, selector(dtype_exclude=\"object\")),\n",
    "                                              ('cats', cat_ct, selector(dtype_include=\"object\"))],\n",
    "                                                remainder='passthrough')\n",
    "\n",
    "rf_pipe = Pipeline(steps=[('transformer', transformer), ('clf', RandomForestClassifier(random_state=123))])\n",
    "\n",
    "rf_params = {'clf__n_estimators': [10, 15, 20, 25, 30],\n",
    "             'clf__max_depth': [5, 6, 7, 8, 9],\n",
    "             'clf__min_samples_split': [2, 3, 4, 5, 6],\n",
    "             'clf__min_samples_leaf': [2, 3, 4, 5, 6, 7, 8]}\n",
    "\n",
    "rf_gs = GridSearchCV(rf_pipe, param_grid=rf_params, scoring='roc_auc', cv=3, n_jobs=-1, refit=True)\n",
    "rf_gs.fit(x_train, y_train);\n",
    "rf_best = rf_gs.best_estimator_"
   ],
   "metadata": {
    "collapsed": false,
    "pycharm": {
     "name": "#%%\n"
    }
   }
  },
  {
   "cell_type": "code",
   "execution_count": 178,
   "outputs": [
    {
     "data": {
      "text/plain": "     rank_test_score  std_test_score  mean_test_score  split2_test_score  \\\n461                1        0.028478         0.866693           0.896252   \n456                1        0.028478         0.866693           0.896252   \n471                1        0.028478         0.866693           0.896252   \n451                1        0.028478         0.866693           0.896252   \n466                1        0.028478         0.866693           0.896252   \n..               ...             ...              ...                ...   \n508              868        0.023259         0.847145           0.871889   \n503              868        0.023259         0.847145           0.871889   \n700              873        0.021797         0.846454           0.862181   \n705              873        0.021797         0.846454           0.862181   \n710              873        0.021797         0.846454           0.862181   \n\n     split1_test_score  split0_test_score  \\\n461           0.828223           0.875603   \n456           0.828223           0.875603   \n471           0.828223           0.875603   \n451           0.828223           0.875603   \n466           0.828223           0.875603   \n..                 ...                ...   \n508           0.816004           0.853541   \n503           0.816004           0.853541   \n700           0.815630           0.861550   \n705           0.815630           0.861550   \n710           0.815630           0.861550   \n\n                                                params  \\\n461  {'clf__max_depth': 7, 'clf__min_samples_leaf':...   \n456  {'clf__max_depth': 7, 'clf__min_samples_leaf':...   \n471  {'clf__max_depth': 7, 'clf__min_samples_leaf':...   \n451  {'clf__max_depth': 7, 'clf__min_samples_leaf':...   \n466  {'clf__max_depth': 7, 'clf__min_samples_leaf':...   \n..                                                 ...   \n508  {'clf__max_depth': 7, 'clf__min_samples_leaf':...   \n503  {'clf__max_depth': 7, 'clf__min_samples_leaf':...   \n700  {'clf__max_depth': 9, 'clf__min_samples_leaf':...   \n705  {'clf__max_depth': 9, 'clf__min_samples_leaf':...   \n710  {'clf__max_depth': 9, 'clf__min_samples_leaf':...   \n\n    param_clf__n_estimators param_clf__min_samples_split  \\\n461                      15                            4   \n456                      15                            3   \n471                      15                            6   \n451                      15                            2   \n466                      15                            5   \n..                      ...                          ...   \n508                      25                            3   \n503                      25                            2   \n700                      10                            2   \n705                      10                            3   \n710                      10                            4   \n\n    param_clf__min_samples_leaf param_clf__max_depth  std_score_time  \\\n461                           6                    7    8.169241e-04   \n456                           6                    7    4.721011e-04   \n471                           6                    7    6.743496e-07   \n451                           6                    7    4.722133e-04   \n466                           6                    7    4.319923e-03   \n..                          ...                  ...             ...   \n508                           8                    7    4.242558e-03   \n503                           8                    7    8.157561e-04   \n700                           2                    9    1.412088e-03   \n705                           2                    9    8.168267e-04   \n710                           2                    9    1.247447e-03   \n\n     mean_score_time  std_fit_time  mean_fit_time  \n461         0.017000      0.000816       0.100000  \n456         0.016333      0.008380       0.104668  \n471         0.015999      0.009673       0.104335  \n451         0.017333      0.001247       0.099666  \n466         0.022002      0.004082       0.098998  \n..               ...           ...            ...  \n508         0.022001      0.011776       0.141999  \n503         0.019001      0.005313       0.133665  \n700         0.017001      0.002626       0.089334  \n705         0.016001      0.001247       0.086666  \n710         0.016334      0.004028       0.090331  \n\n[875 rows x 15 columns]",
      "text/html": "<div>\n<style scoped>\n    .dataframe tbody tr th:only-of-type {\n        vertical-align: middle;\n    }\n\n    .dataframe tbody tr th {\n        vertical-align: top;\n    }\n\n    .dataframe thead th {\n        text-align: right;\n    }\n</style>\n<table border=\"1\" class=\"dataframe\">\n  <thead>\n    <tr style=\"text-align: right;\">\n      <th></th>\n      <th>rank_test_score</th>\n      <th>std_test_score</th>\n      <th>mean_test_score</th>\n      <th>split2_test_score</th>\n      <th>split1_test_score</th>\n      <th>split0_test_score</th>\n      <th>params</th>\n      <th>param_clf__n_estimators</th>\n      <th>param_clf__min_samples_split</th>\n      <th>param_clf__min_samples_leaf</th>\n      <th>param_clf__max_depth</th>\n      <th>std_score_time</th>\n      <th>mean_score_time</th>\n      <th>std_fit_time</th>\n      <th>mean_fit_time</th>\n    </tr>\n  </thead>\n  <tbody>\n    <tr>\n      <th>461</th>\n      <td>1</td>\n      <td>0.028478</td>\n      <td>0.866693</td>\n      <td>0.896252</td>\n      <td>0.828223</td>\n      <td>0.875603</td>\n      <td>{'clf__max_depth': 7, 'clf__min_samples_leaf':...</td>\n      <td>15</td>\n      <td>4</td>\n      <td>6</td>\n      <td>7</td>\n      <td>8.169241e-04</td>\n      <td>0.017000</td>\n      <td>0.000816</td>\n      <td>0.100000</td>\n    </tr>\n    <tr>\n      <th>456</th>\n      <td>1</td>\n      <td>0.028478</td>\n      <td>0.866693</td>\n      <td>0.896252</td>\n      <td>0.828223</td>\n      <td>0.875603</td>\n      <td>{'clf__max_depth': 7, 'clf__min_samples_leaf':...</td>\n      <td>15</td>\n      <td>3</td>\n      <td>6</td>\n      <td>7</td>\n      <td>4.721011e-04</td>\n      <td>0.016333</td>\n      <td>0.008380</td>\n      <td>0.104668</td>\n    </tr>\n    <tr>\n      <th>471</th>\n      <td>1</td>\n      <td>0.028478</td>\n      <td>0.866693</td>\n      <td>0.896252</td>\n      <td>0.828223</td>\n      <td>0.875603</td>\n      <td>{'clf__max_depth': 7, 'clf__min_samples_leaf':...</td>\n      <td>15</td>\n      <td>6</td>\n      <td>6</td>\n      <td>7</td>\n      <td>6.743496e-07</td>\n      <td>0.015999</td>\n      <td>0.009673</td>\n      <td>0.104335</td>\n    </tr>\n    <tr>\n      <th>451</th>\n      <td>1</td>\n      <td>0.028478</td>\n      <td>0.866693</td>\n      <td>0.896252</td>\n      <td>0.828223</td>\n      <td>0.875603</td>\n      <td>{'clf__max_depth': 7, 'clf__min_samples_leaf':...</td>\n      <td>15</td>\n      <td>2</td>\n      <td>6</td>\n      <td>7</td>\n      <td>4.722133e-04</td>\n      <td>0.017333</td>\n      <td>0.001247</td>\n      <td>0.099666</td>\n    </tr>\n    <tr>\n      <th>466</th>\n      <td>1</td>\n      <td>0.028478</td>\n      <td>0.866693</td>\n      <td>0.896252</td>\n      <td>0.828223</td>\n      <td>0.875603</td>\n      <td>{'clf__max_depth': 7, 'clf__min_samples_leaf':...</td>\n      <td>15</td>\n      <td>5</td>\n      <td>6</td>\n      <td>7</td>\n      <td>4.319923e-03</td>\n      <td>0.022002</td>\n      <td>0.004082</td>\n      <td>0.098998</td>\n    </tr>\n    <tr>\n      <th>...</th>\n      <td>...</td>\n      <td>...</td>\n      <td>...</td>\n      <td>...</td>\n      <td>...</td>\n      <td>...</td>\n      <td>...</td>\n      <td>...</td>\n      <td>...</td>\n      <td>...</td>\n      <td>...</td>\n      <td>...</td>\n      <td>...</td>\n      <td>...</td>\n      <td>...</td>\n    </tr>\n    <tr>\n      <th>508</th>\n      <td>868</td>\n      <td>0.023259</td>\n      <td>0.847145</td>\n      <td>0.871889</td>\n      <td>0.816004</td>\n      <td>0.853541</td>\n      <td>{'clf__max_depth': 7, 'clf__min_samples_leaf':...</td>\n      <td>25</td>\n      <td>3</td>\n      <td>8</td>\n      <td>7</td>\n      <td>4.242558e-03</td>\n      <td>0.022001</td>\n      <td>0.011776</td>\n      <td>0.141999</td>\n    </tr>\n    <tr>\n      <th>503</th>\n      <td>868</td>\n      <td>0.023259</td>\n      <td>0.847145</td>\n      <td>0.871889</td>\n      <td>0.816004</td>\n      <td>0.853541</td>\n      <td>{'clf__max_depth': 7, 'clf__min_samples_leaf':...</td>\n      <td>25</td>\n      <td>2</td>\n      <td>8</td>\n      <td>7</td>\n      <td>8.157561e-04</td>\n      <td>0.019001</td>\n      <td>0.005313</td>\n      <td>0.133665</td>\n    </tr>\n    <tr>\n      <th>700</th>\n      <td>873</td>\n      <td>0.021797</td>\n      <td>0.846454</td>\n      <td>0.862181</td>\n      <td>0.815630</td>\n      <td>0.861550</td>\n      <td>{'clf__max_depth': 9, 'clf__min_samples_leaf':...</td>\n      <td>10</td>\n      <td>2</td>\n      <td>2</td>\n      <td>9</td>\n      <td>1.412088e-03</td>\n      <td>0.017001</td>\n      <td>0.002626</td>\n      <td>0.089334</td>\n    </tr>\n    <tr>\n      <th>705</th>\n      <td>873</td>\n      <td>0.021797</td>\n      <td>0.846454</td>\n      <td>0.862181</td>\n      <td>0.815630</td>\n      <td>0.861550</td>\n      <td>{'clf__max_depth': 9, 'clf__min_samples_leaf':...</td>\n      <td>10</td>\n      <td>3</td>\n      <td>2</td>\n      <td>9</td>\n      <td>8.168267e-04</td>\n      <td>0.016001</td>\n      <td>0.001247</td>\n      <td>0.086666</td>\n    </tr>\n    <tr>\n      <th>710</th>\n      <td>873</td>\n      <td>0.021797</td>\n      <td>0.846454</td>\n      <td>0.862181</td>\n      <td>0.815630</td>\n      <td>0.861550</td>\n      <td>{'clf__max_depth': 9, 'clf__min_samples_leaf':...</td>\n      <td>10</td>\n      <td>4</td>\n      <td>2</td>\n      <td>9</td>\n      <td>1.247447e-03</td>\n      <td>0.016334</td>\n      <td>0.004028</td>\n      <td>0.090331</td>\n    </tr>\n  </tbody>\n</table>\n<p>875 rows × 15 columns</p>\n</div>"
     },
     "metadata": {},
     "output_type": "display_data"
    },
    {
     "name": "stdout",
     "output_type": "stream",
     "text": [
      "параметры: {'clf__max_depth': 7, 'clf__min_samples_leaf': 6, 'clf__min_samples_split': 2, 'clf__n_estimators': 15} \n",
      "roc-auc: 0.8667\n"
     ]
    }
   ],
   "source": [
    "display(pd.DataFrame(rf_gs.cv_results_).sort_values('rank_test_score').loc[:, ::-1])\n",
    "print(f'параметры: {rf_gs.best_params_}',\n",
    "      f'\\nroc-auc: {rf_gs.best_score_:.4f}')"
   ],
   "metadata": {
    "collapsed": false,
    "pycharm": {
     "name": "#%%\n"
    }
   }
  },
  {
   "cell_type": "code",
   "execution_count": 179,
   "outputs": [
    {
     "data": {
      "text/plain": "                    model      searcher  \\\n1                      lr          some   \n2     Logistic Regression  GridSearchCV   \n3                     SVC  GridSearchCV   \n4               LinearSVC  GridSearchCV   \n5             Naive Bayes  GridSearchCV   \n6  DecisionTreeClassifier  GridSearchCV   \n7  RandomForestClassifier  GridSearchCV   \n\n                                              params cv_roc_auc train_roc_auc  \\\n1                                           [(d, 3)]        5.6        6.2454   \n2  [(clf__C, 100), (clf__penalty, l2), (transform...     0.8552        0.8629   \n3  [(estimator__C, 16), (estimator__gamma, 0.0009...     0.8486        0.8545   \n4  [(estimator__C, 1.9), (transformer__nums__scal...     0.8554        0.8616   \n5  [(estimator, ComplementNB(alpha=1)), (estimato...     0.8321        0.8348   \n6  [(clf__max_depth, 5), (clf__min_samples_leaf, ...     0.8395        0.9042   \n7  [(clf__max_depth, 7), (clf__min_samples_leaf, ...     0.8667        0.9191   \n\n  test_roc_auc  \n1          NaN  \n2       0.8648  \n3       0.8505  \n4       0.8625  \n5        0.858  \n6       0.8632  \n7       0.8819  ",
      "text/html": "<div>\n<style scoped>\n    .dataframe tbody tr th:only-of-type {\n        vertical-align: middle;\n    }\n\n    .dataframe tbody tr th {\n        vertical-align: top;\n    }\n\n    .dataframe thead th {\n        text-align: right;\n    }\n</style>\n<table border=\"1\" class=\"dataframe\">\n  <thead>\n    <tr style=\"text-align: right;\">\n      <th></th>\n      <th>model</th>\n      <th>searcher</th>\n      <th>params</th>\n      <th>cv_roc_auc</th>\n      <th>train_roc_auc</th>\n      <th>test_roc_auc</th>\n    </tr>\n  </thead>\n  <tbody>\n    <tr>\n      <th>1</th>\n      <td>lr</td>\n      <td>some</td>\n      <td>[(d, 3)]</td>\n      <td>5.6</td>\n      <td>6.2454</td>\n      <td>NaN</td>\n    </tr>\n    <tr>\n      <th>2</th>\n      <td>Logistic Regression</td>\n      <td>GridSearchCV</td>\n      <td>[(clf__C, 100), (clf__penalty, l2), (transform...</td>\n      <td>0.8552</td>\n      <td>0.8629</td>\n      <td>0.8648</td>\n    </tr>\n    <tr>\n      <th>3</th>\n      <td>SVC</td>\n      <td>GridSearchCV</td>\n      <td>[(estimator__C, 16), (estimator__gamma, 0.0009...</td>\n      <td>0.8486</td>\n      <td>0.8545</td>\n      <td>0.8505</td>\n    </tr>\n    <tr>\n      <th>4</th>\n      <td>LinearSVC</td>\n      <td>GridSearchCV</td>\n      <td>[(estimator__C, 1.9), (transformer__nums__scal...</td>\n      <td>0.8554</td>\n      <td>0.8616</td>\n      <td>0.8625</td>\n    </tr>\n    <tr>\n      <th>5</th>\n      <td>Naive Bayes</td>\n      <td>GridSearchCV</td>\n      <td>[(estimator, ComplementNB(alpha=1)), (estimato...</td>\n      <td>0.8321</td>\n      <td>0.8348</td>\n      <td>0.858</td>\n    </tr>\n    <tr>\n      <th>6</th>\n      <td>DecisionTreeClassifier</td>\n      <td>GridSearchCV</td>\n      <td>[(clf__max_depth, 5), (clf__min_samples_leaf, ...</td>\n      <td>0.8395</td>\n      <td>0.9042</td>\n      <td>0.8632</td>\n    </tr>\n    <tr>\n      <th>7</th>\n      <td>RandomForestClassifier</td>\n      <td>GridSearchCV</td>\n      <td>[(clf__max_depth, 7), (clf__min_samples_leaf, ...</td>\n      <td>0.8667</td>\n      <td>0.9191</td>\n      <td>0.8819</td>\n    </tr>\n  </tbody>\n</table>\n</div>"
     },
     "execution_count": 179,
     "metadata": {},
     "output_type": "execute_result"
    }
   ],
   "source": [
    "final_scorer(model_name='RandomForestClassifier',\n",
    "             searcher='GridSearchCV',\n",
    "             best_params=rf_gs.best_params_,\n",
    "             cv_best_score=rf_gs.best_score_,\n",
    "             train_roc_auc=roc_auc_score(y_train, rf_gs.best_estimator_.predict_proba(x_train)[:, 1]),\n",
    "             test_roc_auc=roc_auc_score(y_test, rf_gs.best_estimator_.predict_proba(x_test)[:, 1]))"
   ],
   "metadata": {
    "collapsed": false,
    "pycharm": {
     "name": "#%%\n"
    }
   }
  },
  {
   "cell_type": "markdown",
   "source": [
    "### ExtraTreesClassifier"
   ],
   "metadata": {
    "collapsed": false,
    "pycharm": {
     "name": "#%% md\n"
    }
   }
  },
  {
   "cell_type": "code",
   "execution_count": 180,
   "outputs": [
    {
     "name": "stdout",
     "output_type": "stream",
     "text": [
      "CPU times: total: 9.09 s\n",
      "Wall time: 31.8 s\n"
     ]
    }
   ],
   "source": [
    "%%time\n",
    "num_ct = Pipeline(steps=[('imputer', IterativeImputer(random_state=123))])\n",
    "\n",
    "cat_ct = Pipeline(steps=[('imputer', SimpleImputer(strategy='most_frequent')),\n",
    "                         ('encoder', OneHotEncoder(drop='first'))])\n",
    "\n",
    "transformer = ColumnTransformer(transformers=[('nums', num_ct, selector(dtype_exclude=\"object\")),\n",
    "                                              ('cats', cat_ct, selector(dtype_include=\"object\"))],\n",
    "                                                remainder='passthrough')\n",
    "\n",
    "et_pipe = Pipeline(steps=[('transformer', transformer), ('clf', ExtraTreesClassifier(random_state=123))])\n",
    "\n",
    "et_params = {'clf__n_estimators': [10, 15, 20, 25, 30],\n",
    "             'clf__max_depth': [5, 6, 7, 8, 9],\n",
    "             'clf__min_samples_split': [2, 3, 4, 5, 6],\n",
    "             'clf__min_samples_leaf': [2, 3, 4, 5, 6, 7, 8]}\n",
    "\n",
    "et_gs = GridSearchCV(et_pipe, param_grid=et_params, scoring='roc_auc', cv=3, n_jobs=-1, refit=True)\n",
    "et_gs.fit(x_train, y_train);\n",
    "et_best = et_gs.best_estimator_"
   ],
   "metadata": {
    "collapsed": false,
    "pycharm": {
     "name": "#%%\n"
    }
   }
  },
  {
   "cell_type": "code",
   "execution_count": 181,
   "outputs": [
    {
     "data": {
      "text/plain": "     rank_test_score  std_test_score  mean_test_score  split2_test_score  \\\n188                1        0.035874         0.864110           0.904123   \n178                1        0.035874         0.864110           0.904123   \n183                1        0.035874         0.864110           0.904123   \n179                4        0.035602         0.863789           0.903861   \n184                4        0.035602         0.863789           0.903861   \n..               ...             ...              ...                ...   \n145              871        0.021727         0.839323           0.855735   \n140              871        0.021727         0.839323           0.855735   \n130              871        0.021727         0.839323           0.855735   \n125              871        0.021727         0.839323           0.855735   \n135              871        0.021727         0.839323           0.855735   \n\n     split1_test_score  split0_test_score  \\\n188           0.817091           0.871116   \n178           0.817091           0.871116   \n183           0.817091           0.871116   \n179           0.817354           0.870152   \n184           0.817354           0.870152   \n..                 ...                ...   \n145           0.808621           0.853615   \n140           0.808621           0.853615   \n130           0.808621           0.853615   \n125           0.808621           0.853615   \n135           0.808621           0.853615   \n\n                                                params  \\\n188  {'clf__max_depth': 6, 'clf__min_samples_leaf':...   \n178  {'clf__max_depth': 6, 'clf__min_samples_leaf':...   \n183  {'clf__max_depth': 6, 'clf__min_samples_leaf':...   \n179  {'clf__max_depth': 6, 'clf__min_samples_leaf':...   \n184  {'clf__max_depth': 6, 'clf__min_samples_leaf':...   \n..                                                 ...   \n145  {'clf__max_depth': 5, 'clf__min_samples_leaf':...   \n140  {'clf__max_depth': 5, 'clf__min_samples_leaf':...   \n130  {'clf__max_depth': 5, 'clf__min_samples_leaf':...   \n125  {'clf__max_depth': 5, 'clf__min_samples_leaf':...   \n135  {'clf__max_depth': 5, 'clf__min_samples_leaf':...   \n\n    param_clf__n_estimators param_clf__min_samples_split  \\\n188                      25                            4   \n178                      25                            2   \n183                      25                            3   \n179                      30                            2   \n184                      30                            3   \n..                      ...                          ...   \n145                      10                            6   \n140                      10                            5   \n130                      10                            3   \n125                      10                            2   \n135                      10                            4   \n\n    param_clf__min_samples_leaf param_clf__max_depth  std_score_time  \\\n188                           2                    6    9.422354e-04   \n178                           2                    6    1.885819e-03   \n183                           2                    6    5.947204e-07   \n179                           2                    6    3.300098e-03   \n184                           2                    6    4.715390e-04   \n..                          ...                  ...             ...   \n145                           7                    5    1.413100e-03   \n140                           7                    5    1.886156e-03   \n130                           7                    5    1.700064e-03   \n125                           7                    5    3.558009e-03   \n135                           7                    5    8.532098e-04   \n\n     mean_score_time  std_fit_time  mean_fit_time  \n188         0.019334      0.011954       0.123666  \n178         0.026334      0.010677       0.128000  \n183         0.018000      0.003858       0.107666  \n179         0.021333      0.005250       0.121333  \n184         0.020334      0.000817       0.118000  \n..               ...           ...            ...  \n145         0.016999      0.012711       0.084666  \n140         0.016334      0.001420       0.073349  \n130         0.017334      0.021276       0.093000  \n125         0.020000      0.002161       0.074000  \n135         0.015175      0.003680       0.074335  \n\n[875 rows x 15 columns]",
      "text/html": "<div>\n<style scoped>\n    .dataframe tbody tr th:only-of-type {\n        vertical-align: middle;\n    }\n\n    .dataframe tbody tr th {\n        vertical-align: top;\n    }\n\n    .dataframe thead th {\n        text-align: right;\n    }\n</style>\n<table border=\"1\" class=\"dataframe\">\n  <thead>\n    <tr style=\"text-align: right;\">\n      <th></th>\n      <th>rank_test_score</th>\n      <th>std_test_score</th>\n      <th>mean_test_score</th>\n      <th>split2_test_score</th>\n      <th>split1_test_score</th>\n      <th>split0_test_score</th>\n      <th>params</th>\n      <th>param_clf__n_estimators</th>\n      <th>param_clf__min_samples_split</th>\n      <th>param_clf__min_samples_leaf</th>\n      <th>param_clf__max_depth</th>\n      <th>std_score_time</th>\n      <th>mean_score_time</th>\n      <th>std_fit_time</th>\n      <th>mean_fit_time</th>\n    </tr>\n  </thead>\n  <tbody>\n    <tr>\n      <th>188</th>\n      <td>1</td>\n      <td>0.035874</td>\n      <td>0.864110</td>\n      <td>0.904123</td>\n      <td>0.817091</td>\n      <td>0.871116</td>\n      <td>{'clf__max_depth': 6, 'clf__min_samples_leaf':...</td>\n      <td>25</td>\n      <td>4</td>\n      <td>2</td>\n      <td>6</td>\n      <td>9.422354e-04</td>\n      <td>0.019334</td>\n      <td>0.011954</td>\n      <td>0.123666</td>\n    </tr>\n    <tr>\n      <th>178</th>\n      <td>1</td>\n      <td>0.035874</td>\n      <td>0.864110</td>\n      <td>0.904123</td>\n      <td>0.817091</td>\n      <td>0.871116</td>\n      <td>{'clf__max_depth': 6, 'clf__min_samples_leaf':...</td>\n      <td>25</td>\n      <td>2</td>\n      <td>2</td>\n      <td>6</td>\n      <td>1.885819e-03</td>\n      <td>0.026334</td>\n      <td>0.010677</td>\n      <td>0.128000</td>\n    </tr>\n    <tr>\n      <th>183</th>\n      <td>1</td>\n      <td>0.035874</td>\n      <td>0.864110</td>\n      <td>0.904123</td>\n      <td>0.817091</td>\n      <td>0.871116</td>\n      <td>{'clf__max_depth': 6, 'clf__min_samples_leaf':...</td>\n      <td>25</td>\n      <td>3</td>\n      <td>2</td>\n      <td>6</td>\n      <td>5.947204e-07</td>\n      <td>0.018000</td>\n      <td>0.003858</td>\n      <td>0.107666</td>\n    </tr>\n    <tr>\n      <th>179</th>\n      <td>4</td>\n      <td>0.035602</td>\n      <td>0.863789</td>\n      <td>0.903861</td>\n      <td>0.817354</td>\n      <td>0.870152</td>\n      <td>{'clf__max_depth': 6, 'clf__min_samples_leaf':...</td>\n      <td>30</td>\n      <td>2</td>\n      <td>2</td>\n      <td>6</td>\n      <td>3.300098e-03</td>\n      <td>0.021333</td>\n      <td>0.005250</td>\n      <td>0.121333</td>\n    </tr>\n    <tr>\n      <th>184</th>\n      <td>4</td>\n      <td>0.035602</td>\n      <td>0.863789</td>\n      <td>0.903861</td>\n      <td>0.817354</td>\n      <td>0.870152</td>\n      <td>{'clf__max_depth': 6, 'clf__min_samples_leaf':...</td>\n      <td>30</td>\n      <td>3</td>\n      <td>2</td>\n      <td>6</td>\n      <td>4.715390e-04</td>\n      <td>0.020334</td>\n      <td>0.000817</td>\n      <td>0.118000</td>\n    </tr>\n    <tr>\n      <th>...</th>\n      <td>...</td>\n      <td>...</td>\n      <td>...</td>\n      <td>...</td>\n      <td>...</td>\n      <td>...</td>\n      <td>...</td>\n      <td>...</td>\n      <td>...</td>\n      <td>...</td>\n      <td>...</td>\n      <td>...</td>\n      <td>...</td>\n      <td>...</td>\n      <td>...</td>\n    </tr>\n    <tr>\n      <th>145</th>\n      <td>871</td>\n      <td>0.021727</td>\n      <td>0.839323</td>\n      <td>0.855735</td>\n      <td>0.808621</td>\n      <td>0.853615</td>\n      <td>{'clf__max_depth': 5, 'clf__min_samples_leaf':...</td>\n      <td>10</td>\n      <td>6</td>\n      <td>7</td>\n      <td>5</td>\n      <td>1.413100e-03</td>\n      <td>0.016999</td>\n      <td>0.012711</td>\n      <td>0.084666</td>\n    </tr>\n    <tr>\n      <th>140</th>\n      <td>871</td>\n      <td>0.021727</td>\n      <td>0.839323</td>\n      <td>0.855735</td>\n      <td>0.808621</td>\n      <td>0.853615</td>\n      <td>{'clf__max_depth': 5, 'clf__min_samples_leaf':...</td>\n      <td>10</td>\n      <td>5</td>\n      <td>7</td>\n      <td>5</td>\n      <td>1.886156e-03</td>\n      <td>0.016334</td>\n      <td>0.001420</td>\n      <td>0.073349</td>\n    </tr>\n    <tr>\n      <th>130</th>\n      <td>871</td>\n      <td>0.021727</td>\n      <td>0.839323</td>\n      <td>0.855735</td>\n      <td>0.808621</td>\n      <td>0.853615</td>\n      <td>{'clf__max_depth': 5, 'clf__min_samples_leaf':...</td>\n      <td>10</td>\n      <td>3</td>\n      <td>7</td>\n      <td>5</td>\n      <td>1.700064e-03</td>\n      <td>0.017334</td>\n      <td>0.021276</td>\n      <td>0.093000</td>\n    </tr>\n    <tr>\n      <th>125</th>\n      <td>871</td>\n      <td>0.021727</td>\n      <td>0.839323</td>\n      <td>0.855735</td>\n      <td>0.808621</td>\n      <td>0.853615</td>\n      <td>{'clf__max_depth': 5, 'clf__min_samples_leaf':...</td>\n      <td>10</td>\n      <td>2</td>\n      <td>7</td>\n      <td>5</td>\n      <td>3.558009e-03</td>\n      <td>0.020000</td>\n      <td>0.002161</td>\n      <td>0.074000</td>\n    </tr>\n    <tr>\n      <th>135</th>\n      <td>871</td>\n      <td>0.021727</td>\n      <td>0.839323</td>\n      <td>0.855735</td>\n      <td>0.808621</td>\n      <td>0.853615</td>\n      <td>{'clf__max_depth': 5, 'clf__min_samples_leaf':...</td>\n      <td>10</td>\n      <td>4</td>\n      <td>7</td>\n      <td>5</td>\n      <td>8.532098e-04</td>\n      <td>0.015175</td>\n      <td>0.003680</td>\n      <td>0.074335</td>\n    </tr>\n  </tbody>\n</table>\n<p>875 rows × 15 columns</p>\n</div>"
     },
     "metadata": {},
     "output_type": "display_data"
    },
    {
     "name": "stdout",
     "output_type": "stream",
     "text": [
      "параметры: {'clf__max_depth': 6, 'clf__min_samples_leaf': 2, 'clf__min_samples_split': 2, 'clf__n_estimators': 25} \n",
      "roc-auc: 0.8641\n"
     ]
    }
   ],
   "source": [
    "display(pd.DataFrame(et_gs.cv_results_).sort_values('rank_test_score').loc[:, ::-1])\n",
    "print(f'параметры: {et_gs.best_params_}',\n",
    "      f'\\nroc-auc: {et_gs.best_score_:.4f}')"
   ],
   "metadata": {
    "collapsed": false,
    "pycharm": {
     "name": "#%%\n"
    }
   }
  },
  {
   "cell_type": "code",
   "execution_count": 182,
   "outputs": [
    {
     "data": {
      "text/plain": "                    model      searcher  \\\n1                      lr          some   \n2     Logistic Regression  GridSearchCV   \n3                     SVC  GridSearchCV   \n4               LinearSVC  GridSearchCV   \n5             Naive Bayes  GridSearchCV   \n6  DecisionTreeClassifier  GridSearchCV   \n7  RandomForestClassifier  GridSearchCV   \n8    ExtraTreesClassifier  GridSearchCV   \n\n                                              params cv_roc_auc train_roc_auc  \\\n1                                           [(d, 3)]        5.6        6.2454   \n2  [(clf__C, 100), (clf__penalty, l2), (transform...     0.8552        0.8629   \n3  [(estimator__C, 16), (estimator__gamma, 0.0009...     0.8486        0.8545   \n4  [(estimator__C, 1.9), (transformer__nums__scal...     0.8554        0.8616   \n5  [(estimator, ComplementNB(alpha=1)), (estimato...     0.8321        0.8348   \n6  [(clf__max_depth, 5), (clf__min_samples_leaf, ...     0.8395        0.9042   \n7  [(clf__max_depth, 7), (clf__min_samples_leaf, ...     0.8667        0.9191   \n8  [(clf__max_depth, 6), (clf__min_samples_leaf, ...     0.8641        0.8996   \n\n  test_roc_auc  \n1          NaN  \n2       0.8648  \n3       0.8505  \n4       0.8625  \n5        0.858  \n6       0.8632  \n7       0.8819  \n8       0.8926  ",
      "text/html": "<div>\n<style scoped>\n    .dataframe tbody tr th:only-of-type {\n        vertical-align: middle;\n    }\n\n    .dataframe tbody tr th {\n        vertical-align: top;\n    }\n\n    .dataframe thead th {\n        text-align: right;\n    }\n</style>\n<table border=\"1\" class=\"dataframe\">\n  <thead>\n    <tr style=\"text-align: right;\">\n      <th></th>\n      <th>model</th>\n      <th>searcher</th>\n      <th>params</th>\n      <th>cv_roc_auc</th>\n      <th>train_roc_auc</th>\n      <th>test_roc_auc</th>\n    </tr>\n  </thead>\n  <tbody>\n    <tr>\n      <th>1</th>\n      <td>lr</td>\n      <td>some</td>\n      <td>[(d, 3)]</td>\n      <td>5.6</td>\n      <td>6.2454</td>\n      <td>NaN</td>\n    </tr>\n    <tr>\n      <th>2</th>\n      <td>Logistic Regression</td>\n      <td>GridSearchCV</td>\n      <td>[(clf__C, 100), (clf__penalty, l2), (transform...</td>\n      <td>0.8552</td>\n      <td>0.8629</td>\n      <td>0.8648</td>\n    </tr>\n    <tr>\n      <th>3</th>\n      <td>SVC</td>\n      <td>GridSearchCV</td>\n      <td>[(estimator__C, 16), (estimator__gamma, 0.0009...</td>\n      <td>0.8486</td>\n      <td>0.8545</td>\n      <td>0.8505</td>\n    </tr>\n    <tr>\n      <th>4</th>\n      <td>LinearSVC</td>\n      <td>GridSearchCV</td>\n      <td>[(estimator__C, 1.9), (transformer__nums__scal...</td>\n      <td>0.8554</td>\n      <td>0.8616</td>\n      <td>0.8625</td>\n    </tr>\n    <tr>\n      <th>5</th>\n      <td>Naive Bayes</td>\n      <td>GridSearchCV</td>\n      <td>[(estimator, ComplementNB(alpha=1)), (estimato...</td>\n      <td>0.8321</td>\n      <td>0.8348</td>\n      <td>0.858</td>\n    </tr>\n    <tr>\n      <th>6</th>\n      <td>DecisionTreeClassifier</td>\n      <td>GridSearchCV</td>\n      <td>[(clf__max_depth, 5), (clf__min_samples_leaf, ...</td>\n      <td>0.8395</td>\n      <td>0.9042</td>\n      <td>0.8632</td>\n    </tr>\n    <tr>\n      <th>7</th>\n      <td>RandomForestClassifier</td>\n      <td>GridSearchCV</td>\n      <td>[(clf__max_depth, 7), (clf__min_samples_leaf, ...</td>\n      <td>0.8667</td>\n      <td>0.9191</td>\n      <td>0.8819</td>\n    </tr>\n    <tr>\n      <th>8</th>\n      <td>ExtraTreesClassifier</td>\n      <td>GridSearchCV</td>\n      <td>[(clf__max_depth, 6), (clf__min_samples_leaf, ...</td>\n      <td>0.8641</td>\n      <td>0.8996</td>\n      <td>0.8926</td>\n    </tr>\n  </tbody>\n</table>\n</div>"
     },
     "execution_count": 182,
     "metadata": {},
     "output_type": "execute_result"
    }
   ],
   "source": [
    "final_scorer(model_name='ExtraTreesClassifier',\n",
    "             searcher='GridSearchCV',\n",
    "             best_params=et_gs.best_params_,\n",
    "             cv_best_score=et_gs.best_score_,\n",
    "             train_roc_auc=roc_auc_score(y_train, et_gs.best_estimator_.predict_proba(x_train)[:, 1]),\n",
    "             test_roc_auc=roc_auc_score(y_test, et_gs.best_estimator_.predict_proba(x_test)[:, 1]))"
   ],
   "metadata": {
    "collapsed": false,
    "pycharm": {
     "name": "#%%\n"
    }
   }
  },
  {
   "cell_type": "markdown",
   "source": [
    "### RandomTreesEmbedding"
   ],
   "metadata": {
    "collapsed": false,
    "pycharm": {
     "name": "#%% md\n"
    }
   }
  },
  {
   "cell_type": "code",
   "execution_count": 51,
   "outputs": [
    {
     "name": "stdout",
     "output_type": "stream",
     "text": [
      "CPU times: total: 9.08 s\n",
      "Wall time: 24.6 s\n"
     ]
    },
    {
     "name": "stderr",
     "output_type": "stream",
     "text": [
      "C:\\work_and_fun\\partisans\\PP\\mistakes-and-regrets\\lib\\site-packages\\sklearn\\model_selection\\_search.py:952: UserWarning: One or more of the test scores are non-finite: [nan nan nan nan nan nan nan nan nan nan nan nan nan nan nan nan nan nan\n",
      " nan nan nan nan nan nan nan nan nan nan nan nan nan nan nan nan nan nan\n",
      " nan nan nan nan nan nan nan nan nan nan nan nan nan nan nan nan nan nan\n",
      " nan nan nan nan nan nan nan nan nan nan nan nan nan nan nan nan nan nan\n",
      " nan nan nan nan nan nan nan nan nan nan nan nan nan nan nan nan nan nan\n",
      " nan nan nan nan nan nan nan nan nan nan nan nan nan nan nan nan nan nan\n",
      " nan nan nan nan nan nan nan nan nan nan nan nan nan nan nan nan nan nan\n",
      " nan nan nan nan nan nan nan nan nan nan nan nan nan nan nan nan nan nan\n",
      " nan nan nan nan nan nan nan nan nan nan nan nan nan nan nan nan nan nan\n",
      " nan nan nan nan nan nan nan nan nan nan nan nan nan nan nan nan nan nan\n",
      " nan nan nan nan nan nan nan nan nan nan nan nan nan nan nan nan nan nan\n",
      " nan nan nan nan nan nan nan nan nan nan nan nan nan nan nan nan nan nan\n",
      " nan nan nan nan nan nan nan nan nan nan nan nan nan nan nan nan nan nan\n",
      " nan nan nan nan nan nan nan nan nan nan nan nan nan nan nan nan nan nan\n",
      " nan nan nan nan nan nan nan nan nan nan nan nan nan nan nan nan nan nan\n",
      " nan nan nan nan nan nan nan nan nan nan nan nan nan nan nan nan nan nan\n",
      " nan nan nan nan nan nan nan nan nan nan nan nan nan nan nan nan nan nan\n",
      " nan nan nan nan nan nan nan nan nan nan nan nan nan nan nan nan nan nan\n",
      " nan nan nan nan nan nan nan nan nan nan nan nan nan nan nan nan nan nan\n",
      " nan nan nan nan nan nan nan nan nan nan nan nan nan nan nan nan nan nan\n",
      " nan nan nan nan nan nan nan nan nan nan nan nan nan nan nan nan nan nan\n",
      " nan nan nan nan nan nan nan nan nan nan nan nan nan nan nan nan nan nan\n",
      " nan nan nan nan nan nan nan nan nan nan nan nan nan nan nan nan nan nan\n",
      " nan nan nan nan nan nan nan nan nan nan nan nan nan nan nan nan nan nan\n",
      " nan nan nan nan nan nan nan nan nan nan nan nan nan nan nan nan nan nan\n",
      " nan nan nan nan nan nan nan nan nan nan nan nan nan nan nan nan nan nan\n",
      " nan nan nan nan nan nan nan nan nan nan nan nan nan nan nan nan nan nan\n",
      " nan nan nan nan nan nan nan nan nan nan nan nan nan nan nan nan nan nan\n",
      " nan nan nan nan nan nan nan nan nan nan nan nan nan nan nan nan nan nan\n",
      " nan nan nan nan nan nan nan nan nan nan nan nan nan nan nan nan nan nan\n",
      " nan nan nan nan nan nan nan nan nan nan nan nan nan nan nan nan nan nan\n",
      " nan nan nan nan nan nan nan nan nan nan nan nan nan nan nan nan nan nan\n",
      " nan nan nan nan nan nan nan nan nan nan nan nan nan nan nan nan nan nan\n",
      " nan nan nan nan nan nan nan nan nan nan nan nan nan nan nan nan nan nan\n",
      " nan nan nan nan nan nan nan nan nan nan nan nan nan nan nan nan nan nan\n",
      " nan nan nan nan nan nan nan nan nan nan nan nan nan nan nan nan nan nan\n",
      " nan nan nan nan nan nan nan nan nan nan nan nan nan nan nan nan nan nan\n",
      " nan nan nan nan nan nan nan nan nan nan nan nan nan nan nan nan nan nan\n",
      " nan nan nan nan nan nan nan nan nan nan nan nan nan nan nan nan nan nan\n",
      " nan nan nan nan nan nan nan nan nan nan nan nan nan nan nan nan nan nan\n",
      " nan nan nan nan nan nan nan nan nan nan nan nan nan nan nan nan nan nan\n",
      " nan nan nan nan nan nan nan nan nan nan nan nan nan nan nan nan nan nan\n",
      " nan nan nan nan nan nan nan nan nan nan nan nan nan nan nan nan nan nan\n",
      " nan nan nan nan nan nan nan nan nan nan nan nan nan nan nan nan nan nan\n",
      " nan nan nan nan nan nan nan nan nan nan nan nan nan nan nan nan nan nan\n",
      " nan nan nan nan nan nan nan nan nan nan nan nan nan nan nan nan nan nan\n",
      " nan nan nan nan nan nan nan nan nan nan nan nan nan nan nan nan nan nan\n",
      " nan nan nan nan nan nan nan nan nan nan nan nan nan nan nan nan nan nan\n",
      " nan nan nan nan nan nan nan nan nan nan nan]\n",
      "  warnings.warn(\n"
     ]
    }
   ],
   "source": [
    "%%time\n",
    "num_ct = Pipeline(steps=[('imputer', IterativeImputer(random_state=123))])\n",
    "\n",
    "cat_ct = Pipeline(steps=[('imputer', SimpleImputer(strategy='most_frequent')),\n",
    "                         ('encoder', OneHotEncoder(drop='first'))])\n",
    "\n",
    "transformer = ColumnTransformer(transformers=[('nums', num_ct, selector(dtype_exclude=\"object\")),\n",
    "                                              ('cats', cat_ct, selector(dtype_include=\"object\"))],\n",
    "                                                remainder='passthrough')\n",
    "\n",
    "rte_pipe = Pipeline(steps=[('transformer', transformer), ('clf', RandomTreesEmbedding(random_state=123))])\n",
    "\n",
    "rte_params = {'clf__n_estimators': [10, 15, 20, 25, 30],\n",
    "             'clf__max_depth': [5, 6, 7, 8, 9],\n",
    "             'clf__min_samples_split': [2, 3, 4, 5, 6],\n",
    "             'clf__min_samples_leaf': [2, 3, 4, 5, 6, 7, 8]}\n",
    "\n",
    "rte_gs = GridSearchCV(rte_pipe, param_grid=rte_params, scoring='roc_auc', cv=3, n_jobs=-1)\n",
    "rte_gs.fit(x_train, y_train);"
   ],
   "metadata": {
    "collapsed": false,
    "pycharm": {
     "name": "#%%\n"
    }
   }
  },
  {
   "cell_type": "code",
   "execution_count": 52,
   "outputs": [
    {
     "data": {
      "text/plain": "     mean_fit_time  std_fit_time  mean_score_time  std_score_time  \\\n0         0.075311      0.003413         0.007999    4.319886e-03   \n576       0.092333      0.004713         0.001667    4.706401e-04   \n577       0.114000      0.009417         0.001332    4.719325e-04   \n578       0.115666      0.004922         0.002667    9.419540e-04   \n579       0.125666      0.003859         0.001334    4.715953e-04   \n..             ...           ...              ...             ...   \n296       0.091333      0.001248         0.001334    4.708646e-04   \n297       0.106666      0.006600         0.001667    4.718762e-04   \n298       0.123332      0.008218         0.002001    8.160484e-04   \n287       0.080666      0.011441         0.001001    5.947204e-07   \n874       0.095663      0.004030         0.001001    9.602742e-07   \n\n    param_clf__max_depth param_clf__min_samples_leaf  \\\n0                      5                           2   \n576                    8                           4   \n577                    8                           4   \n578                    8                           4   \n579                    8                           4   \n..                   ...                         ...   \n296                    6                           6   \n297                    6                           6   \n298                    6                           6   \n287                    6                           6   \n874                    9                           8   \n\n    param_clf__min_samples_split param_clf__n_estimators  \\\n0                              2                      10   \n576                            2                      15   \n577                            2                      20   \n578                            2                      25   \n579                            2                      30   \n..                           ...                     ...   \n296                            6                      15   \n297                            6                      20   \n298                            6                      25   \n287                            4                      20   \n874                            6                      30   \n\n                                                params  split0_test_score  \\\n0    {'clf__max_depth': 5, 'clf__min_samples_leaf':...                NaN   \n576  {'clf__max_depth': 8, 'clf__min_samples_leaf':...                NaN   \n577  {'clf__max_depth': 8, 'clf__min_samples_leaf':...                NaN   \n578  {'clf__max_depth': 8, 'clf__min_samples_leaf':...                NaN   \n579  {'clf__max_depth': 8, 'clf__min_samples_leaf':...                NaN   \n..                                                 ...                ...   \n296  {'clf__max_depth': 6, 'clf__min_samples_leaf':...                NaN   \n297  {'clf__max_depth': 6, 'clf__min_samples_leaf':...                NaN   \n298  {'clf__max_depth': 6, 'clf__min_samples_leaf':...                NaN   \n287  {'clf__max_depth': 6, 'clf__min_samples_leaf':...                NaN   \n874  {'clf__max_depth': 9, 'clf__min_samples_leaf':...                NaN   \n\n     split1_test_score  split2_test_score  mean_test_score  std_test_score  \\\n0                  NaN                NaN              NaN             NaN   \n576                NaN                NaN              NaN             NaN   \n577                NaN                NaN              NaN             NaN   \n578                NaN                NaN              NaN             NaN   \n579                NaN                NaN              NaN             NaN   \n..                 ...                ...              ...             ...   \n296                NaN                NaN              NaN             NaN   \n297                NaN                NaN              NaN             NaN   \n298                NaN                NaN              NaN             NaN   \n287                NaN                NaN              NaN             NaN   \n874                NaN                NaN              NaN             NaN   \n\n     rank_test_score  \n0                  1  \n576                1  \n577                1  \n578                1  \n579                1  \n..               ...  \n296                1  \n297                1  \n298                1  \n287                1  \n874                1  \n\n[875 rows x 15 columns]",
      "text/html": "<div>\n<style scoped>\n    .dataframe tbody tr th:only-of-type {\n        vertical-align: middle;\n    }\n\n    .dataframe tbody tr th {\n        vertical-align: top;\n    }\n\n    .dataframe thead th {\n        text-align: right;\n    }\n</style>\n<table border=\"1\" class=\"dataframe\">\n  <thead>\n    <tr style=\"text-align: right;\">\n      <th></th>\n      <th>mean_fit_time</th>\n      <th>std_fit_time</th>\n      <th>mean_score_time</th>\n      <th>std_score_time</th>\n      <th>param_clf__max_depth</th>\n      <th>param_clf__min_samples_leaf</th>\n      <th>param_clf__min_samples_split</th>\n      <th>param_clf__n_estimators</th>\n      <th>params</th>\n      <th>split0_test_score</th>\n      <th>split1_test_score</th>\n      <th>split2_test_score</th>\n      <th>mean_test_score</th>\n      <th>std_test_score</th>\n      <th>rank_test_score</th>\n    </tr>\n  </thead>\n  <tbody>\n    <tr>\n      <th>0</th>\n      <td>0.075311</td>\n      <td>0.003413</td>\n      <td>0.007999</td>\n      <td>4.319886e-03</td>\n      <td>5</td>\n      <td>2</td>\n      <td>2</td>\n      <td>10</td>\n      <td>{'clf__max_depth': 5, 'clf__min_samples_leaf':...</td>\n      <td>NaN</td>\n      <td>NaN</td>\n      <td>NaN</td>\n      <td>NaN</td>\n      <td>NaN</td>\n      <td>1</td>\n    </tr>\n    <tr>\n      <th>576</th>\n      <td>0.092333</td>\n      <td>0.004713</td>\n      <td>0.001667</td>\n      <td>4.706401e-04</td>\n      <td>8</td>\n      <td>4</td>\n      <td>2</td>\n      <td>15</td>\n      <td>{'clf__max_depth': 8, 'clf__min_samples_leaf':...</td>\n      <td>NaN</td>\n      <td>NaN</td>\n      <td>NaN</td>\n      <td>NaN</td>\n      <td>NaN</td>\n      <td>1</td>\n    </tr>\n    <tr>\n      <th>577</th>\n      <td>0.114000</td>\n      <td>0.009417</td>\n      <td>0.001332</td>\n      <td>4.719325e-04</td>\n      <td>8</td>\n      <td>4</td>\n      <td>2</td>\n      <td>20</td>\n      <td>{'clf__max_depth': 8, 'clf__min_samples_leaf':...</td>\n      <td>NaN</td>\n      <td>NaN</td>\n      <td>NaN</td>\n      <td>NaN</td>\n      <td>NaN</td>\n      <td>1</td>\n    </tr>\n    <tr>\n      <th>578</th>\n      <td>0.115666</td>\n      <td>0.004922</td>\n      <td>0.002667</td>\n      <td>9.419540e-04</td>\n      <td>8</td>\n      <td>4</td>\n      <td>2</td>\n      <td>25</td>\n      <td>{'clf__max_depth': 8, 'clf__min_samples_leaf':...</td>\n      <td>NaN</td>\n      <td>NaN</td>\n      <td>NaN</td>\n      <td>NaN</td>\n      <td>NaN</td>\n      <td>1</td>\n    </tr>\n    <tr>\n      <th>579</th>\n      <td>0.125666</td>\n      <td>0.003859</td>\n      <td>0.001334</td>\n      <td>4.715953e-04</td>\n      <td>8</td>\n      <td>4</td>\n      <td>2</td>\n      <td>30</td>\n      <td>{'clf__max_depth': 8, 'clf__min_samples_leaf':...</td>\n      <td>NaN</td>\n      <td>NaN</td>\n      <td>NaN</td>\n      <td>NaN</td>\n      <td>NaN</td>\n      <td>1</td>\n    </tr>\n    <tr>\n      <th>...</th>\n      <td>...</td>\n      <td>...</td>\n      <td>...</td>\n      <td>...</td>\n      <td>...</td>\n      <td>...</td>\n      <td>...</td>\n      <td>...</td>\n      <td>...</td>\n      <td>...</td>\n      <td>...</td>\n      <td>...</td>\n      <td>...</td>\n      <td>...</td>\n      <td>...</td>\n    </tr>\n    <tr>\n      <th>296</th>\n      <td>0.091333</td>\n      <td>0.001248</td>\n      <td>0.001334</td>\n      <td>4.708646e-04</td>\n      <td>6</td>\n      <td>6</td>\n      <td>6</td>\n      <td>15</td>\n      <td>{'clf__max_depth': 6, 'clf__min_samples_leaf':...</td>\n      <td>NaN</td>\n      <td>NaN</td>\n      <td>NaN</td>\n      <td>NaN</td>\n      <td>NaN</td>\n      <td>1</td>\n    </tr>\n    <tr>\n      <th>297</th>\n      <td>0.106666</td>\n      <td>0.006600</td>\n      <td>0.001667</td>\n      <td>4.718762e-04</td>\n      <td>6</td>\n      <td>6</td>\n      <td>6</td>\n      <td>20</td>\n      <td>{'clf__max_depth': 6, 'clf__min_samples_leaf':...</td>\n      <td>NaN</td>\n      <td>NaN</td>\n      <td>NaN</td>\n      <td>NaN</td>\n      <td>NaN</td>\n      <td>1</td>\n    </tr>\n    <tr>\n      <th>298</th>\n      <td>0.123332</td>\n      <td>0.008218</td>\n      <td>0.002001</td>\n      <td>8.160484e-04</td>\n      <td>6</td>\n      <td>6</td>\n      <td>6</td>\n      <td>25</td>\n      <td>{'clf__max_depth': 6, 'clf__min_samples_leaf':...</td>\n      <td>NaN</td>\n      <td>NaN</td>\n      <td>NaN</td>\n      <td>NaN</td>\n      <td>NaN</td>\n      <td>1</td>\n    </tr>\n    <tr>\n      <th>287</th>\n      <td>0.080666</td>\n      <td>0.011441</td>\n      <td>0.001001</td>\n      <td>5.947204e-07</td>\n      <td>6</td>\n      <td>6</td>\n      <td>4</td>\n      <td>20</td>\n      <td>{'clf__max_depth': 6, 'clf__min_samples_leaf':...</td>\n      <td>NaN</td>\n      <td>NaN</td>\n      <td>NaN</td>\n      <td>NaN</td>\n      <td>NaN</td>\n      <td>1</td>\n    </tr>\n    <tr>\n      <th>874</th>\n      <td>0.095663</td>\n      <td>0.004030</td>\n      <td>0.001001</td>\n      <td>9.602742e-07</td>\n      <td>9</td>\n      <td>8</td>\n      <td>6</td>\n      <td>30</td>\n      <td>{'clf__max_depth': 9, 'clf__min_samples_leaf':...</td>\n      <td>NaN</td>\n      <td>NaN</td>\n      <td>NaN</td>\n      <td>NaN</td>\n      <td>NaN</td>\n      <td>1</td>\n    </tr>\n  </tbody>\n</table>\n<p>875 rows × 15 columns</p>\n</div>"
     },
     "metadata": {},
     "output_type": "display_data"
    },
    {
     "name": "stdout",
     "output_type": "stream",
     "text": [
      "параметры: {'clf__max_depth': 5, 'clf__min_samples_leaf': 2, 'clf__min_samples_split': 2, 'clf__n_estimators': 10} \n",
      "roc-auc: nan\n"
     ]
    }
   ],
   "source": [
    "display(pd.DataFrame(rte_gs.cv_results_).sort_values('rank_test_score'))\n",
    "print(f'параметры: {pd.DataFrame(rte_gs.cv_results_).sort_values(\"rank_test_score\").head(1)[\"params\"].values[0]}',\n",
    "      f'\\nroc-auc: {pd.DataFrame(rte_gs.cv_results_).sort_values(\"rank_test_score\").head(1)[\"mean_test_score\"].values[0]:.4f}')"
   ],
   "metadata": {
    "collapsed": false,
    "pycharm": {
     "name": "#%%\n"
    }
   }
  },
  {
   "cell_type": "markdown",
   "source": [
    "## Ансамбли"
   ],
   "metadata": {
    "collapsed": false,
    "pycharm": {
     "name": "#%% md\n"
    }
   }
  },
  {
   "cell_type": "markdown",
   "source": [
    "### BaggingClassifier"
   ],
   "metadata": {
    "collapsed": false,
    "pycharm": {
     "name": "#%% md\n"
    }
   }
  },
  {
   "cell_type": "markdown",
   "source": [
    "BaggingClassifier почему-то не воспринимает трансформации по типам колонок внутри пайплайна, поэтому перепишем трансформер и пересоберем пайплайн, указав трансформируемые признаки индексами"
   ],
   "metadata": {
    "collapsed": false,
    "pycharm": {
     "name": "#%% md\n"
    }
   }
  },
  {
   "cell_type": "code",
   "execution_count": 53,
   "outputs": [
    {
     "name": "stdout",
     "output_type": "stream",
     "text": [
      "Fitting 3 folds for each of 24 candidates, totalling 72 fits\n"
     ]
    }
   ],
   "source": [
    "num_ct = Pipeline(steps=[('imputer', SimpleImputer(strategy='mean')),\n",
    "                         ('scaler', StandardScaler())])\n",
    "\n",
    "cat_ct = Pipeline(steps=[('imputer', SimpleImputer(strategy='most_frequent')),\n",
    "                         ('ohe', OneHotEncoder(drop='first'))])\n",
    "\n",
    "transformer = ColumnTransformer(transformers=[('nums', num_ct, (1, 2, 3, 4, 5, 7)),\n",
    "                                              ('cats', cat_ct, [0, 6])],\n",
    "                                remainder='passthrough')\n",
    "\n",
    "lr_pipe = Pipeline(steps=[('transformer', transformer), ('clf', LogisticRegression(random_state=123))])\n",
    "\n",
    "params = [{'transformer__nums__imputer': [SimpleImputer()],\n",
    "           'transformer__nums__imputer__strategy': ['mean', 'median'],\n",
    "           'clf__penalty': ['none', 'l2'],\n",
    "           'clf__C': [0.1, 1, 10, 100]\n",
    "          },\n",
    "          { 'transformer__nums__imputer': [IterativeImputer(random_state=123)],\n",
    "           'clf__penalty': ['none', 'l2'],\n",
    "           'clf__C': [0.1, 1, 10, 100]\n",
    "          }]\n",
    "\n",
    "lr_gs    = GridSearchCV(estimator=lr_pipe,\n",
    "                        param_grid=params,\n",
    "                        scoring='roc_auc',\n",
    "                        refit=True,\n",
    "                        cv=3,\n",
    "                        n_jobs=-1,\n",
    "                        verbose=10)\n",
    "lr_gs.fit(x_train, y_train)\n",
    "lr_best = lr_gs.best_estimator_;"
   ],
   "metadata": {
    "collapsed": false,
    "pycharm": {
     "name": "#%%\n"
    }
   }
  },
  {
   "cell_type": "code",
   "execution_count": 54,
   "outputs": [
    {
     "data": {
      "text/plain": "0.8526"
     },
     "execution_count": 54,
     "metadata": {},
     "output_type": "execute_result"
    }
   ],
   "source": [
    "bc = BaggingClassifier(estimator=lr_best, n_estimators=10, random_state=123)\n",
    "cross_val_score(bc, x_train, y_train, scoring='roc_auc', cv=5, n_jobs=-1).mean().round(4)"
   ],
   "metadata": {
    "collapsed": false,
    "pycharm": {
     "name": "#%%\n"
    }
   }
  },
  {
   "cell_type": "markdown",
   "source": [
    "ну хз"
   ],
   "metadata": {
    "collapsed": false,
    "pycharm": {
     "name": "#%% md\n"
    }
   }
  },
  {
   "cell_type": "markdown",
   "source": [
    "### StackingClassifier"
   ],
   "metadata": {
    "collapsed": false,
    "pycharm": {
     "name": "#%% md\n"
    }
   }
  },
  {
   "cell_type": "code",
   "execution_count": 55,
   "outputs": [
    {
     "data": {
      "text/plain": "0.8261"
     },
     "execution_count": 55,
     "metadata": {},
     "output_type": "execute_result"
    }
   ],
   "source": [
    "sc = StackingClassifier(estimators=[('rf', rf_best), ('et', et_best)],\n",
    "                        final_estimator=RandomForestClassifier(n_estimators=15, max_depth=7),\n",
    "                        cv=3,\n",
    "                        n_jobs=-1)\n",
    "sc_cv = cross_val_score(sc, x_train, y_train, scoring='roc_auc', cv=5, n_jobs=-1).mean().round(4)\n",
    "sc_cv"
   ],
   "metadata": {
    "collapsed": false,
    "pycharm": {
     "name": "#%%\n"
    }
   }
  },
  {
   "cell_type": "code",
   "execution_count": null,
   "outputs": [],
   "source": [
    "final_scorer(model_name='StackingClassifier',\n",
    "             searcher='',\n",
    "             best_params='',\n",
    "             cv_best_score=sc_cv,\n",
    "             train_roc_auc=roc_auc_score(y_train, sc.predict_proba(x_train)[:, 1]),\n",
    "             test_roc_auc=roc_auc_score(y_test, sc.predict_proba(x_test)[:, 1]))"
   ],
   "metadata": {
    "collapsed": false,
    "pycharm": {
     "name": "#%%\n"
    }
   }
  },
  {
   "cell_type": "code",
   "execution_count": null,
   "outputs": [],
   "source": [],
   "metadata": {
    "collapsed": false,
    "pycharm": {
     "name": "#%%\n"
    }
   }
  },
  {
   "cell_type": "code",
   "execution_count": null,
   "outputs": [],
   "source": [],
   "metadata": {
    "collapsed": false,
    "pycharm": {
     "name": "#%%\n"
    }
   }
  },
  {
   "cell_type": "code",
   "execution_count": null,
   "outputs": [],
   "source": [],
   "metadata": {
    "collapsed": false,
    "pycharm": {
     "name": "#%%\n"
    }
   }
  },
  {
   "cell_type": "markdown",
   "source": [
    "### VotingClassifier"
   ],
   "metadata": {
    "collapsed": false,
    "pycharm": {
     "name": "#%% md\n"
    }
   }
  },
  {
   "cell_type": "code",
   "execution_count": 56,
   "outputs": [
    {
     "name": "stdout",
     "output_type": "stream",
     "text": [
      "0.8703\n"
     ]
    }
   ],
   "source": [
    "vc = VotingClassifier(estimators=[('lr', lr_best),\n",
    "                                  ('tree', tree_best),\n",
    "                                  ('rf', rf_best),\n",
    "                                  ('et', et_best)],\n",
    "                      voting='soft', n_jobs=-1)\n",
    "vc_cv = cross_val_score(vc, x_train, y_train, scoring='roc_auc', cv=3, n_jobs=-1).mean().round(4)"
   ],
   "metadata": {
    "collapsed": false,
    "pycharm": {
     "name": "#%%\n"
    }
   }
  },
  {
   "cell_type": "code",
   "execution_count": null,
   "outputs": [],
   "source": [
    "final_scorer(model_name='VotingClassifier',\n",
    "             searcher='',\n",
    "             best_params='',\n",
    "             cv_best_score=vc_cv,\n",
    "             train_roc_auc=roc_auc_score(y_train, vc.predict_proba(x_train)[:, 1]),\n",
    "             test_roc_auc=roc_auc_score(y_test, vc.predict_proba(x_test)[:, 1]))"
   ],
   "metadata": {
    "collapsed": false,
    "pycharm": {
     "name": "#%%\n"
    }
   }
  },
  {
   "cell_type": "markdown",
   "source": [
    "## Градиентный бустинг"
   ],
   "metadata": {
    "collapsed": false,
    "pycharm": {
     "name": "#%% md\n"
    }
   }
  },
  {
   "cell_type": "markdown",
   "source": [
    "### XGBoost"
   ],
   "metadata": {
    "collapsed": false,
    "pycharm": {
     "name": "#%% md\n"
    }
   }
  },
  {
   "cell_type": "markdown",
   "source": [
    "XGBoost не умеет работать с категориальными признаками напрямую, поэтому преобразуем данные заранее"
   ],
   "metadata": {
    "collapsed": false,
    "pycharm": {
     "name": "#%% md\n"
    }
   }
  },
  {
   "cell_type": "code",
   "execution_count": 57,
   "outputs": [
    {
     "name": "stdout",
     "output_type": "stream",
     "text": [
      "Fitting 3 folds for each of 45 candidates, totalling 135 fits\n",
      "CPU times: total: 844 ms\n",
      "Wall time: 3.25 s\n"
     ]
    }
   ],
   "source": [
    "%%time\n",
    "num_ct = Pipeline(steps=[('imputer', SimpleImputer(strategy='mean')),\n",
    "                         ('scaler', StandardScaler())])\n",
    "\n",
    "cat_ct = Pipeline(steps=[('imputer', SimpleImputer(strategy='most_frequent')),\n",
    "                         ('ohe', OneHotEncoder(drop='first'))])\n",
    "\n",
    "transformer = ColumnTransformer(transformers=[('nums', num_ct, (1, 2, 3, 4, 5, 7)),\n",
    "                                              ('cats', cat_ct, [0, 6])],\n",
    "                                remainder='passthrough')\n",
    "\n",
    "xgb_pipe = Pipeline(steps=[('transformer', transformer), ('clf', xgb.XGBClassifier())])\n",
    "\n",
    "params = {'clf__n_estimators': [15, 25, 50],\n",
    "          'clf__max_depth': [3, 4, 5, 6, 7],\n",
    "          'clf__learning_rate': [00.1, 0.1, 0.4]}\n",
    "\n",
    "xgb_gs   = GridSearchCV(estimator=xgb_pipe,\n",
    "                        param_grid=params,\n",
    "                        scoring='roc_auc',\n",
    "                        refit=True,\n",
    "                        cv=3,\n",
    "                        n_jobs=-1,\n",
    "                        verbose=10)\n",
    "xgb_gs.fit(x_train, y_train)\n",
    "xgb_best = xgb_gs.best_estimator_;"
   ],
   "metadata": {
    "collapsed": false,
    "pycharm": {
     "name": "#%%\n"
    }
   }
  },
  {
   "cell_type": "code",
   "execution_count": 58,
   "outputs": [
    {
     "data": {
      "text/plain": "    mean_fit_time  std_fit_time  mean_score_time  std_score_time  \\\n22       0.207334      0.009978         0.013666    4.711456e-04   \n7        0.238999      0.008041         0.014666    9.427970e-04   \n4        0.275334      0.002868         0.015666    9.426284e-04   \n19       0.194000      0.026981         0.014000    2.973602e-07   \n2        0.313665      0.007408         0.016000    2.160753e-03   \n17       0.279000      0.018992         0.015000    8.485379e-07   \n8        0.412999      0.023282         0.013667    4.710338e-04   \n23       0.393000      0.010198         0.014000    8.920806e-07   \n5        0.366999      0.003742         0.014334    4.714270e-04   \n20       0.338999      0.008603         0.014335    4.721571e-04   \n6        0.162333      0.003091         0.015334    4.713147e-04   \n21       0.139666      0.023837         0.014334    4.714829e-04   \n1        0.149665      0.007409         0.028667    9.534523e-03   \n16       0.140668      0.006599         0.014333    1.247745e-03   \n30       0.086334      0.014818         0.014000    8.171188e-04   \n10       0.237998      0.004547         0.014335    4.708646e-04   \n25       0.238666      0.006599         0.013667    9.431341e-04   \n31       0.145333      0.017461         0.013667    9.425727e-04   \n36       0.142334      0.012120         0.015333    1.247256e-03   \n34       0.174332      0.017932         0.014333    4.707525e-04   \n42       0.159334      0.007409         0.014000    1.946680e-07   \n11       0.477666      0.024797         0.014667    4.712581e-04   \n26       0.478666      0.016132         0.016333    4.784003e-03   \n33       0.116665      0.007408         0.014000    7.370010e-07   \n32       0.261334      0.012285         0.014333    4.712594e-04   \n3        0.106998      0.007118         0.017668    2.867428e-03   \n18       0.123334      0.006550         0.013999    1.946680e-07   \n0        0.084331      0.002868         0.015333    1.247426e-03   \n15       0.096999      0.012330         0.013334    4.719888e-04   \n29       0.568333      0.008056         0.015001    4.052337e-07   \n14       0.548000      0.012193         0.015668    1.247129e-03   \n43       0.223000      0.006164         0.014333    4.715390e-04   \n35       0.326334      0.002055         0.014666    1.700283e-03   \n28       0.303333      0.011843         0.014001    8.176060e-04   \n13       0.288667      0.010532         0.014333    1.247150e-03   \n39       0.166001      0.016871         0.014333    4.716518e-04   \n24       0.158667      0.016819         0.014334    4.709775e-04   \n9        0.148666      0.008731         0.014333    9.435278e-04   \n40       0.230333      0.016740         0.014000    1.123916e-07   \n44       0.254332      0.003399         0.013333    4.702464e-04   \n37       0.209001      0.015254         0.014666    1.247787e-03   \n27       0.166334      0.013572         0.014334    9.425722e-04   \n12       0.172666      0.001248         0.015333    4.714838e-04   \n38       0.377999      0.039858         0.014000    5.619580e-07   \n41       0.398667      0.004028         0.014333    4.713147e-04   \n\n   param_clf__learning_rate param_clf__max_depth param_clf__n_estimators  \\\n22                      0.1                    5                      25   \n7                       0.1                    5                      25   \n4                       0.1                    4                      25   \n19                      0.1                    4                      25   \n2                       0.1                    3                      50   \n17                      0.1                    3                      50   \n8                       0.1                    5                      50   \n23                      0.1                    5                      50   \n5                       0.1                    4                      50   \n20                      0.1                    4                      50   \n6                       0.1                    5                      15   \n21                      0.1                    5                      15   \n1                       0.1                    3                      25   \n16                      0.1                    3                      25   \n30                      0.4                    3                      15   \n10                      0.1                    6                      25   \n25                      0.1                    6                      25   \n31                      0.4                    3                      25   \n36                      0.4                    5                      15   \n34                      0.4                    4                      25   \n42                      0.4                    7                      15   \n11                      0.1                    6                      50   \n26                      0.1                    6                      50   \n33                      0.4                    4                      15   \n32                      0.4                    3                      50   \n3                       0.1                    4                      15   \n18                      0.1                    4                      15   \n0                       0.1                    3                      15   \n15                      0.1                    3                      15   \n29                      0.1                    7                      50   \n14                      0.1                    7                      50   \n43                      0.4                    7                      25   \n35                      0.4                    4                      50   \n28                      0.1                    7                      25   \n13                      0.1                    7                      25   \n39                      0.4                    6                      15   \n24                      0.1                    6                      15   \n9                       0.1                    6                      15   \n40                      0.4                    6                      25   \n44                      0.4                    7                      50   \n37                      0.4                    5                      25   \n27                      0.1                    7                      15   \n12                      0.1                    7                      15   \n38                      0.4                    5                      50   \n41                      0.4                    6                      50   \n\n                                               params  split0_test_score  \\\n22  {'clf__learning_rate': 0.1, 'clf__max_depth': ...           0.878198   \n7   {'clf__learning_rate': 0.1, 'clf__max_depth': ...           0.878198   \n4   {'clf__learning_rate': 0.1, 'clf__max_depth': ...           0.871635   \n19  {'clf__learning_rate': 0.1, 'clf__max_depth': ...           0.871635   \n2   {'clf__learning_rate': 0.1, 'clf__max_depth': ...           0.871376   \n17  {'clf__learning_rate': 0.1, 'clf__max_depth': ...           0.871376   \n8   {'clf__learning_rate': 0.1, 'clf__max_depth': ...           0.875603   \n23  {'clf__learning_rate': 0.1, 'clf__max_depth': ...           0.875603   \n5   {'clf__learning_rate': 0.1, 'clf__max_depth': ...           0.876567   \n20  {'clf__learning_rate': 0.1, 'clf__max_depth': ...           0.876567   \n6   {'clf__learning_rate': 0.1, 'clf__max_depth': ...           0.872933   \n21  {'clf__learning_rate': 0.1, 'clf__max_depth': ...           0.872933   \n1   {'clf__learning_rate': 0.1, 'clf__max_depth': ...           0.866555   \n16  {'clf__learning_rate': 0.1, 'clf__max_depth': ...           0.866555   \n30  {'clf__learning_rate': 0.4, 'clf__max_depth': ...           0.867482   \n10  {'clf__learning_rate': 0.1, 'clf__max_depth': ...           0.866407   \n25  {'clf__learning_rate': 0.1, 'clf__max_depth': ...           0.866407   \n31  {'clf__learning_rate': 0.4, 'clf__max_depth': ...           0.867853   \n36  {'clf__learning_rate': 0.4, 'clf__max_depth': ...           0.871116   \n34  {'clf__learning_rate': 0.4, 'clf__max_depth': ...           0.874119   \n42  {'clf__learning_rate': 0.4, 'clf__max_depth': ...           0.865703   \n11  {'clf__learning_rate': 0.1, 'clf__max_depth': ...           0.865591   \n26  {'clf__learning_rate': 0.1, 'clf__max_depth': ...           0.865591   \n33  {'clf__learning_rate': 0.4, 'clf__max_depth': ...           0.874601   \n32  {'clf__learning_rate': 0.4, 'clf__max_depth': ...           0.874045   \n3   {'clf__learning_rate': 0.1, 'clf__max_depth': ...           0.860215   \n18  {'clf__learning_rate': 0.1, 'clf__max_depth': ...           0.860215   \n0   {'clf__learning_rate': 0.1, 'clf__max_depth': ...           0.864850   \n15  {'clf__learning_rate': 0.1, 'clf__max_depth': ...           0.864850   \n29  {'clf__learning_rate': 0.1, 'clf__max_depth': ...           0.864887   \n14  {'clf__learning_rate': 0.1, 'clf__max_depth': ...           0.864887   \n43  {'clf__learning_rate': 0.4, 'clf__max_depth': ...           0.868076   \n35  {'clf__learning_rate': 0.4, 'clf__max_depth': ...           0.873489   \n28  {'clf__learning_rate': 0.1, 'clf__max_depth': ...           0.865591   \n13  {'clf__learning_rate': 0.1, 'clf__max_depth': ...           0.865591   \n39  {'clf__learning_rate': 0.4, 'clf__max_depth': ...           0.861031   \n24  {'clf__learning_rate': 0.1, 'clf__max_depth': ...           0.862143   \n9   {'clf__learning_rate': 0.1, 'clf__max_depth': ...           0.862143   \n40  {'clf__learning_rate': 0.4, 'clf__max_depth': ...           0.864961   \n44  {'clf__learning_rate': 0.4, 'clf__max_depth': ...           0.859548   \n37  {'clf__learning_rate': 0.4, 'clf__max_depth': ...           0.870374   \n27  {'clf__learning_rate': 0.1, 'clf__max_depth': ...           0.863552   \n12  {'clf__learning_rate': 0.1, 'clf__max_depth': ...           0.863552   \n38  {'clf__learning_rate': 0.4, 'clf__max_depth': ...           0.866667   \n41  {'clf__learning_rate': 0.4, 'clf__max_depth': ...           0.854579   \n\n    split1_test_score  split2_test_score  mean_test_score  std_test_score  \\\n22           0.822039           0.889393         0.863210        0.029469   \n7            0.822039           0.889393         0.863210        0.029469   \n4            0.807834           0.903148         0.860872        0.039649   \n19           0.807834           0.903148         0.860872        0.039649   \n2            0.821064           0.889543         0.860661        0.028965   \n17           0.821064           0.889543         0.860661        0.028965   \n8            0.818478           0.887631         0.860571        0.030166   \n23           0.818478           0.887631         0.860571        0.030166   \n5            0.813531           0.890517         0.860205        0.033491   \n20           0.813531           0.890517         0.860205        0.033491   \n6            0.822601           0.879760         0.858431        0.025489   \n21           0.822601           0.879760         0.858431        0.025489   \n1            0.809370           0.896814         0.857580        0.036259   \n16           0.809370           0.896814         0.857580        0.036259   \n30           0.815892           0.887706         0.857027        0.030236   \n10           0.814543           0.888081         0.856344        0.030854   \n25           0.814543           0.888081         0.856344        0.030854   \n31           0.813456           0.884820         0.855376        0.030441   \n36           0.822751           0.872114         0.855327        0.023038   \n34           0.814655           0.876499         0.855091        0.028609   \n42           0.825187           0.872264         0.854385        0.020819   \n11           0.816342           0.880547         0.854160        0.027430   \n26           0.816342           0.880547         0.854160        0.027430   \n33           0.801087           0.886694         0.854128        0.037829   \n32           0.809783           0.877624         0.853817        0.031171   \n3            0.805997           0.894153         0.853455        0.036306   \n18           0.805997           0.894153         0.853455        0.036306   \n0            0.807346           0.888118         0.853438        0.033948   \n15           0.807346           0.888118         0.853438        0.033948   \n29           0.816004           0.879348         0.853413        0.027103   \n14           0.816004           0.879348         0.853413        0.027103   \n43           0.825375           0.865367         0.852939        0.019522   \n35           0.819865           0.864730         0.852695        0.023488   \n28           0.811019           0.878898         0.851836        0.029369   \n13           0.811019           0.878898         0.851836        0.029369   \n39           0.823163           0.866267         0.850154        0.019204   \n24           0.815630           0.868816         0.848863        0.023657   \n9            0.815630           0.868816         0.848863        0.023657   \n40           0.820652           0.860270         0.848628        0.019874   \n44           0.824888           0.860270         0.848235        0.016512   \n37           0.817541           0.854460         0.847459        0.022130   \n27           0.809295           0.867616         0.846821        0.026587   \n12           0.809295           0.867616         0.846821        0.026587   \n38           0.817016           0.846552         0.843412        0.020391   \n41           0.808583           0.843928         0.835697        0.019659   \n\n    rank_test_score  \n22                1  \n7                 1  \n4                 3  \n19                3  \n2                 5  \n17                5  \n8                 7  \n23                7  \n5                 9  \n20                9  \n6                11  \n21               11  \n1                13  \n16               13  \n30               15  \n10               16  \n25               16  \n31               18  \n36               19  \n34               20  \n42               21  \n11               22  \n26               22  \n33               24  \n32               25  \n3                26  \n18               26  \n0                28  \n15               28  \n29               30  \n14               30  \n43               32  \n35               33  \n28               34  \n13               34  \n39               36  \n24               37  \n9                37  \n40               39  \n44               40  \n37               41  \n27               42  \n12               42  \n38               44  \n41               45  ",
      "text/html": "<div>\n<style scoped>\n    .dataframe tbody tr th:only-of-type {\n        vertical-align: middle;\n    }\n\n    .dataframe tbody tr th {\n        vertical-align: top;\n    }\n\n    .dataframe thead th {\n        text-align: right;\n    }\n</style>\n<table border=\"1\" class=\"dataframe\">\n  <thead>\n    <tr style=\"text-align: right;\">\n      <th></th>\n      <th>mean_fit_time</th>\n      <th>std_fit_time</th>\n      <th>mean_score_time</th>\n      <th>std_score_time</th>\n      <th>param_clf__learning_rate</th>\n      <th>param_clf__max_depth</th>\n      <th>param_clf__n_estimators</th>\n      <th>params</th>\n      <th>split0_test_score</th>\n      <th>split1_test_score</th>\n      <th>split2_test_score</th>\n      <th>mean_test_score</th>\n      <th>std_test_score</th>\n      <th>rank_test_score</th>\n    </tr>\n  </thead>\n  <tbody>\n    <tr>\n      <th>22</th>\n      <td>0.207334</td>\n      <td>0.009978</td>\n      <td>0.013666</td>\n      <td>4.711456e-04</td>\n      <td>0.1</td>\n      <td>5</td>\n      <td>25</td>\n      <td>{'clf__learning_rate': 0.1, 'clf__max_depth': ...</td>\n      <td>0.878198</td>\n      <td>0.822039</td>\n      <td>0.889393</td>\n      <td>0.863210</td>\n      <td>0.029469</td>\n      <td>1</td>\n    </tr>\n    <tr>\n      <th>7</th>\n      <td>0.238999</td>\n      <td>0.008041</td>\n      <td>0.014666</td>\n      <td>9.427970e-04</td>\n      <td>0.1</td>\n      <td>5</td>\n      <td>25</td>\n      <td>{'clf__learning_rate': 0.1, 'clf__max_depth': ...</td>\n      <td>0.878198</td>\n      <td>0.822039</td>\n      <td>0.889393</td>\n      <td>0.863210</td>\n      <td>0.029469</td>\n      <td>1</td>\n    </tr>\n    <tr>\n      <th>4</th>\n      <td>0.275334</td>\n      <td>0.002868</td>\n      <td>0.015666</td>\n      <td>9.426284e-04</td>\n      <td>0.1</td>\n      <td>4</td>\n      <td>25</td>\n      <td>{'clf__learning_rate': 0.1, 'clf__max_depth': ...</td>\n      <td>0.871635</td>\n      <td>0.807834</td>\n      <td>0.903148</td>\n      <td>0.860872</td>\n      <td>0.039649</td>\n      <td>3</td>\n    </tr>\n    <tr>\n      <th>19</th>\n      <td>0.194000</td>\n      <td>0.026981</td>\n      <td>0.014000</td>\n      <td>2.973602e-07</td>\n      <td>0.1</td>\n      <td>4</td>\n      <td>25</td>\n      <td>{'clf__learning_rate': 0.1, 'clf__max_depth': ...</td>\n      <td>0.871635</td>\n      <td>0.807834</td>\n      <td>0.903148</td>\n      <td>0.860872</td>\n      <td>0.039649</td>\n      <td>3</td>\n    </tr>\n    <tr>\n      <th>2</th>\n      <td>0.313665</td>\n      <td>0.007408</td>\n      <td>0.016000</td>\n      <td>2.160753e-03</td>\n      <td>0.1</td>\n      <td>3</td>\n      <td>50</td>\n      <td>{'clf__learning_rate': 0.1, 'clf__max_depth': ...</td>\n      <td>0.871376</td>\n      <td>0.821064</td>\n      <td>0.889543</td>\n      <td>0.860661</td>\n      <td>0.028965</td>\n      <td>5</td>\n    </tr>\n    <tr>\n      <th>17</th>\n      <td>0.279000</td>\n      <td>0.018992</td>\n      <td>0.015000</td>\n      <td>8.485379e-07</td>\n      <td>0.1</td>\n      <td>3</td>\n      <td>50</td>\n      <td>{'clf__learning_rate': 0.1, 'clf__max_depth': ...</td>\n      <td>0.871376</td>\n      <td>0.821064</td>\n      <td>0.889543</td>\n      <td>0.860661</td>\n      <td>0.028965</td>\n      <td>5</td>\n    </tr>\n    <tr>\n      <th>8</th>\n      <td>0.412999</td>\n      <td>0.023282</td>\n      <td>0.013667</td>\n      <td>4.710338e-04</td>\n      <td>0.1</td>\n      <td>5</td>\n      <td>50</td>\n      <td>{'clf__learning_rate': 0.1, 'clf__max_depth': ...</td>\n      <td>0.875603</td>\n      <td>0.818478</td>\n      <td>0.887631</td>\n      <td>0.860571</td>\n      <td>0.030166</td>\n      <td>7</td>\n    </tr>\n    <tr>\n      <th>23</th>\n      <td>0.393000</td>\n      <td>0.010198</td>\n      <td>0.014000</td>\n      <td>8.920806e-07</td>\n      <td>0.1</td>\n      <td>5</td>\n      <td>50</td>\n      <td>{'clf__learning_rate': 0.1, 'clf__max_depth': ...</td>\n      <td>0.875603</td>\n      <td>0.818478</td>\n      <td>0.887631</td>\n      <td>0.860571</td>\n      <td>0.030166</td>\n      <td>7</td>\n    </tr>\n    <tr>\n      <th>5</th>\n      <td>0.366999</td>\n      <td>0.003742</td>\n      <td>0.014334</td>\n      <td>4.714270e-04</td>\n      <td>0.1</td>\n      <td>4</td>\n      <td>50</td>\n      <td>{'clf__learning_rate': 0.1, 'clf__max_depth': ...</td>\n      <td>0.876567</td>\n      <td>0.813531</td>\n      <td>0.890517</td>\n      <td>0.860205</td>\n      <td>0.033491</td>\n      <td>9</td>\n    </tr>\n    <tr>\n      <th>20</th>\n      <td>0.338999</td>\n      <td>0.008603</td>\n      <td>0.014335</td>\n      <td>4.721571e-04</td>\n      <td>0.1</td>\n      <td>4</td>\n      <td>50</td>\n      <td>{'clf__learning_rate': 0.1, 'clf__max_depth': ...</td>\n      <td>0.876567</td>\n      <td>0.813531</td>\n      <td>0.890517</td>\n      <td>0.860205</td>\n      <td>0.033491</td>\n      <td>9</td>\n    </tr>\n    <tr>\n      <th>6</th>\n      <td>0.162333</td>\n      <td>0.003091</td>\n      <td>0.015334</td>\n      <td>4.713147e-04</td>\n      <td>0.1</td>\n      <td>5</td>\n      <td>15</td>\n      <td>{'clf__learning_rate': 0.1, 'clf__max_depth': ...</td>\n      <td>0.872933</td>\n      <td>0.822601</td>\n      <td>0.879760</td>\n      <td>0.858431</td>\n      <td>0.025489</td>\n      <td>11</td>\n    </tr>\n    <tr>\n      <th>21</th>\n      <td>0.139666</td>\n      <td>0.023837</td>\n      <td>0.014334</td>\n      <td>4.714829e-04</td>\n      <td>0.1</td>\n      <td>5</td>\n      <td>15</td>\n      <td>{'clf__learning_rate': 0.1, 'clf__max_depth': ...</td>\n      <td>0.872933</td>\n      <td>0.822601</td>\n      <td>0.879760</td>\n      <td>0.858431</td>\n      <td>0.025489</td>\n      <td>11</td>\n    </tr>\n    <tr>\n      <th>1</th>\n      <td>0.149665</td>\n      <td>0.007409</td>\n      <td>0.028667</td>\n      <td>9.534523e-03</td>\n      <td>0.1</td>\n      <td>3</td>\n      <td>25</td>\n      <td>{'clf__learning_rate': 0.1, 'clf__max_depth': ...</td>\n      <td>0.866555</td>\n      <td>0.809370</td>\n      <td>0.896814</td>\n      <td>0.857580</td>\n      <td>0.036259</td>\n      <td>13</td>\n    </tr>\n    <tr>\n      <th>16</th>\n      <td>0.140668</td>\n      <td>0.006599</td>\n      <td>0.014333</td>\n      <td>1.247745e-03</td>\n      <td>0.1</td>\n      <td>3</td>\n      <td>25</td>\n      <td>{'clf__learning_rate': 0.1, 'clf__max_depth': ...</td>\n      <td>0.866555</td>\n      <td>0.809370</td>\n      <td>0.896814</td>\n      <td>0.857580</td>\n      <td>0.036259</td>\n      <td>13</td>\n    </tr>\n    <tr>\n      <th>30</th>\n      <td>0.086334</td>\n      <td>0.014818</td>\n      <td>0.014000</td>\n      <td>8.171188e-04</td>\n      <td>0.4</td>\n      <td>3</td>\n      <td>15</td>\n      <td>{'clf__learning_rate': 0.4, 'clf__max_depth': ...</td>\n      <td>0.867482</td>\n      <td>0.815892</td>\n      <td>0.887706</td>\n      <td>0.857027</td>\n      <td>0.030236</td>\n      <td>15</td>\n    </tr>\n    <tr>\n      <th>10</th>\n      <td>0.237998</td>\n      <td>0.004547</td>\n      <td>0.014335</td>\n      <td>4.708646e-04</td>\n      <td>0.1</td>\n      <td>6</td>\n      <td>25</td>\n      <td>{'clf__learning_rate': 0.1, 'clf__max_depth': ...</td>\n      <td>0.866407</td>\n      <td>0.814543</td>\n      <td>0.888081</td>\n      <td>0.856344</td>\n      <td>0.030854</td>\n      <td>16</td>\n    </tr>\n    <tr>\n      <th>25</th>\n      <td>0.238666</td>\n      <td>0.006599</td>\n      <td>0.013667</td>\n      <td>9.431341e-04</td>\n      <td>0.1</td>\n      <td>6</td>\n      <td>25</td>\n      <td>{'clf__learning_rate': 0.1, 'clf__max_depth': ...</td>\n      <td>0.866407</td>\n      <td>0.814543</td>\n      <td>0.888081</td>\n      <td>0.856344</td>\n      <td>0.030854</td>\n      <td>16</td>\n    </tr>\n    <tr>\n      <th>31</th>\n      <td>0.145333</td>\n      <td>0.017461</td>\n      <td>0.013667</td>\n      <td>9.425727e-04</td>\n      <td>0.4</td>\n      <td>3</td>\n      <td>25</td>\n      <td>{'clf__learning_rate': 0.4, 'clf__max_depth': ...</td>\n      <td>0.867853</td>\n      <td>0.813456</td>\n      <td>0.884820</td>\n      <td>0.855376</td>\n      <td>0.030441</td>\n      <td>18</td>\n    </tr>\n    <tr>\n      <th>36</th>\n      <td>0.142334</td>\n      <td>0.012120</td>\n      <td>0.015333</td>\n      <td>1.247256e-03</td>\n      <td>0.4</td>\n      <td>5</td>\n      <td>15</td>\n      <td>{'clf__learning_rate': 0.4, 'clf__max_depth': ...</td>\n      <td>0.871116</td>\n      <td>0.822751</td>\n      <td>0.872114</td>\n      <td>0.855327</td>\n      <td>0.023038</td>\n      <td>19</td>\n    </tr>\n    <tr>\n      <th>34</th>\n      <td>0.174332</td>\n      <td>0.017932</td>\n      <td>0.014333</td>\n      <td>4.707525e-04</td>\n      <td>0.4</td>\n      <td>4</td>\n      <td>25</td>\n      <td>{'clf__learning_rate': 0.4, 'clf__max_depth': ...</td>\n      <td>0.874119</td>\n      <td>0.814655</td>\n      <td>0.876499</td>\n      <td>0.855091</td>\n      <td>0.028609</td>\n      <td>20</td>\n    </tr>\n    <tr>\n      <th>42</th>\n      <td>0.159334</td>\n      <td>0.007409</td>\n      <td>0.014000</td>\n      <td>1.946680e-07</td>\n      <td>0.4</td>\n      <td>7</td>\n      <td>15</td>\n      <td>{'clf__learning_rate': 0.4, 'clf__max_depth': ...</td>\n      <td>0.865703</td>\n      <td>0.825187</td>\n      <td>0.872264</td>\n      <td>0.854385</td>\n      <td>0.020819</td>\n      <td>21</td>\n    </tr>\n    <tr>\n      <th>11</th>\n      <td>0.477666</td>\n      <td>0.024797</td>\n      <td>0.014667</td>\n      <td>4.712581e-04</td>\n      <td>0.1</td>\n      <td>6</td>\n      <td>50</td>\n      <td>{'clf__learning_rate': 0.1, 'clf__max_depth': ...</td>\n      <td>0.865591</td>\n      <td>0.816342</td>\n      <td>0.880547</td>\n      <td>0.854160</td>\n      <td>0.027430</td>\n      <td>22</td>\n    </tr>\n    <tr>\n      <th>26</th>\n      <td>0.478666</td>\n      <td>0.016132</td>\n      <td>0.016333</td>\n      <td>4.784003e-03</td>\n      <td>0.1</td>\n      <td>6</td>\n      <td>50</td>\n      <td>{'clf__learning_rate': 0.1, 'clf__max_depth': ...</td>\n      <td>0.865591</td>\n      <td>0.816342</td>\n      <td>0.880547</td>\n      <td>0.854160</td>\n      <td>0.027430</td>\n      <td>22</td>\n    </tr>\n    <tr>\n      <th>33</th>\n      <td>0.116665</td>\n      <td>0.007408</td>\n      <td>0.014000</td>\n      <td>7.370010e-07</td>\n      <td>0.4</td>\n      <td>4</td>\n      <td>15</td>\n      <td>{'clf__learning_rate': 0.4, 'clf__max_depth': ...</td>\n      <td>0.874601</td>\n      <td>0.801087</td>\n      <td>0.886694</td>\n      <td>0.854128</td>\n      <td>0.037829</td>\n      <td>24</td>\n    </tr>\n    <tr>\n      <th>32</th>\n      <td>0.261334</td>\n      <td>0.012285</td>\n      <td>0.014333</td>\n      <td>4.712594e-04</td>\n      <td>0.4</td>\n      <td>3</td>\n      <td>50</td>\n      <td>{'clf__learning_rate': 0.4, 'clf__max_depth': ...</td>\n      <td>0.874045</td>\n      <td>0.809783</td>\n      <td>0.877624</td>\n      <td>0.853817</td>\n      <td>0.031171</td>\n      <td>25</td>\n    </tr>\n    <tr>\n      <th>3</th>\n      <td>0.106998</td>\n      <td>0.007118</td>\n      <td>0.017668</td>\n      <td>2.867428e-03</td>\n      <td>0.1</td>\n      <td>4</td>\n      <td>15</td>\n      <td>{'clf__learning_rate': 0.1, 'clf__max_depth': ...</td>\n      <td>0.860215</td>\n      <td>0.805997</td>\n      <td>0.894153</td>\n      <td>0.853455</td>\n      <td>0.036306</td>\n      <td>26</td>\n    </tr>\n    <tr>\n      <th>18</th>\n      <td>0.123334</td>\n      <td>0.006550</td>\n      <td>0.013999</td>\n      <td>1.946680e-07</td>\n      <td>0.1</td>\n      <td>4</td>\n      <td>15</td>\n      <td>{'clf__learning_rate': 0.1, 'clf__max_depth': ...</td>\n      <td>0.860215</td>\n      <td>0.805997</td>\n      <td>0.894153</td>\n      <td>0.853455</td>\n      <td>0.036306</td>\n      <td>26</td>\n    </tr>\n    <tr>\n      <th>0</th>\n      <td>0.084331</td>\n      <td>0.002868</td>\n      <td>0.015333</td>\n      <td>1.247426e-03</td>\n      <td>0.1</td>\n      <td>3</td>\n      <td>15</td>\n      <td>{'clf__learning_rate': 0.1, 'clf__max_depth': ...</td>\n      <td>0.864850</td>\n      <td>0.807346</td>\n      <td>0.888118</td>\n      <td>0.853438</td>\n      <td>0.033948</td>\n      <td>28</td>\n    </tr>\n    <tr>\n      <th>15</th>\n      <td>0.096999</td>\n      <td>0.012330</td>\n      <td>0.013334</td>\n      <td>4.719888e-04</td>\n      <td>0.1</td>\n      <td>3</td>\n      <td>15</td>\n      <td>{'clf__learning_rate': 0.1, 'clf__max_depth': ...</td>\n      <td>0.864850</td>\n      <td>0.807346</td>\n      <td>0.888118</td>\n      <td>0.853438</td>\n      <td>0.033948</td>\n      <td>28</td>\n    </tr>\n    <tr>\n      <th>29</th>\n      <td>0.568333</td>\n      <td>0.008056</td>\n      <td>0.015001</td>\n      <td>4.052337e-07</td>\n      <td>0.1</td>\n      <td>7</td>\n      <td>50</td>\n      <td>{'clf__learning_rate': 0.1, 'clf__max_depth': ...</td>\n      <td>0.864887</td>\n      <td>0.816004</td>\n      <td>0.879348</td>\n      <td>0.853413</td>\n      <td>0.027103</td>\n      <td>30</td>\n    </tr>\n    <tr>\n      <th>14</th>\n      <td>0.548000</td>\n      <td>0.012193</td>\n      <td>0.015668</td>\n      <td>1.247129e-03</td>\n      <td>0.1</td>\n      <td>7</td>\n      <td>50</td>\n      <td>{'clf__learning_rate': 0.1, 'clf__max_depth': ...</td>\n      <td>0.864887</td>\n      <td>0.816004</td>\n      <td>0.879348</td>\n      <td>0.853413</td>\n      <td>0.027103</td>\n      <td>30</td>\n    </tr>\n    <tr>\n      <th>43</th>\n      <td>0.223000</td>\n      <td>0.006164</td>\n      <td>0.014333</td>\n      <td>4.715390e-04</td>\n      <td>0.4</td>\n      <td>7</td>\n      <td>25</td>\n      <td>{'clf__learning_rate': 0.4, 'clf__max_depth': ...</td>\n      <td>0.868076</td>\n      <td>0.825375</td>\n      <td>0.865367</td>\n      <td>0.852939</td>\n      <td>0.019522</td>\n      <td>32</td>\n    </tr>\n    <tr>\n      <th>35</th>\n      <td>0.326334</td>\n      <td>0.002055</td>\n      <td>0.014666</td>\n      <td>1.700283e-03</td>\n      <td>0.4</td>\n      <td>4</td>\n      <td>50</td>\n      <td>{'clf__learning_rate': 0.4, 'clf__max_depth': ...</td>\n      <td>0.873489</td>\n      <td>0.819865</td>\n      <td>0.864730</td>\n      <td>0.852695</td>\n      <td>0.023488</td>\n      <td>33</td>\n    </tr>\n    <tr>\n      <th>28</th>\n      <td>0.303333</td>\n      <td>0.011843</td>\n      <td>0.014001</td>\n      <td>8.176060e-04</td>\n      <td>0.1</td>\n      <td>7</td>\n      <td>25</td>\n      <td>{'clf__learning_rate': 0.1, 'clf__max_depth': ...</td>\n      <td>0.865591</td>\n      <td>0.811019</td>\n      <td>0.878898</td>\n      <td>0.851836</td>\n      <td>0.029369</td>\n      <td>34</td>\n    </tr>\n    <tr>\n      <th>13</th>\n      <td>0.288667</td>\n      <td>0.010532</td>\n      <td>0.014333</td>\n      <td>1.247150e-03</td>\n      <td>0.1</td>\n      <td>7</td>\n      <td>25</td>\n      <td>{'clf__learning_rate': 0.1, 'clf__max_depth': ...</td>\n      <td>0.865591</td>\n      <td>0.811019</td>\n      <td>0.878898</td>\n      <td>0.851836</td>\n      <td>0.029369</td>\n      <td>34</td>\n    </tr>\n    <tr>\n      <th>39</th>\n      <td>0.166001</td>\n      <td>0.016871</td>\n      <td>0.014333</td>\n      <td>4.716518e-04</td>\n      <td>0.4</td>\n      <td>6</td>\n      <td>15</td>\n      <td>{'clf__learning_rate': 0.4, 'clf__max_depth': ...</td>\n      <td>0.861031</td>\n      <td>0.823163</td>\n      <td>0.866267</td>\n      <td>0.850154</td>\n      <td>0.019204</td>\n      <td>36</td>\n    </tr>\n    <tr>\n      <th>24</th>\n      <td>0.158667</td>\n      <td>0.016819</td>\n      <td>0.014334</td>\n      <td>4.709775e-04</td>\n      <td>0.1</td>\n      <td>6</td>\n      <td>15</td>\n      <td>{'clf__learning_rate': 0.1, 'clf__max_depth': ...</td>\n      <td>0.862143</td>\n      <td>0.815630</td>\n      <td>0.868816</td>\n      <td>0.848863</td>\n      <td>0.023657</td>\n      <td>37</td>\n    </tr>\n    <tr>\n      <th>9</th>\n      <td>0.148666</td>\n      <td>0.008731</td>\n      <td>0.014333</td>\n      <td>9.435278e-04</td>\n      <td>0.1</td>\n      <td>6</td>\n      <td>15</td>\n      <td>{'clf__learning_rate': 0.1, 'clf__max_depth': ...</td>\n      <td>0.862143</td>\n      <td>0.815630</td>\n      <td>0.868816</td>\n      <td>0.848863</td>\n      <td>0.023657</td>\n      <td>37</td>\n    </tr>\n    <tr>\n      <th>40</th>\n      <td>0.230333</td>\n      <td>0.016740</td>\n      <td>0.014000</td>\n      <td>1.123916e-07</td>\n      <td>0.4</td>\n      <td>6</td>\n      <td>25</td>\n      <td>{'clf__learning_rate': 0.4, 'clf__max_depth': ...</td>\n      <td>0.864961</td>\n      <td>0.820652</td>\n      <td>0.860270</td>\n      <td>0.848628</td>\n      <td>0.019874</td>\n      <td>39</td>\n    </tr>\n    <tr>\n      <th>44</th>\n      <td>0.254332</td>\n      <td>0.003399</td>\n      <td>0.013333</td>\n      <td>4.702464e-04</td>\n      <td>0.4</td>\n      <td>7</td>\n      <td>50</td>\n      <td>{'clf__learning_rate': 0.4, 'clf__max_depth': ...</td>\n      <td>0.859548</td>\n      <td>0.824888</td>\n      <td>0.860270</td>\n      <td>0.848235</td>\n      <td>0.016512</td>\n      <td>40</td>\n    </tr>\n    <tr>\n      <th>37</th>\n      <td>0.209001</td>\n      <td>0.015254</td>\n      <td>0.014666</td>\n      <td>1.247787e-03</td>\n      <td>0.4</td>\n      <td>5</td>\n      <td>25</td>\n      <td>{'clf__learning_rate': 0.4, 'clf__max_depth': ...</td>\n      <td>0.870374</td>\n      <td>0.817541</td>\n      <td>0.854460</td>\n      <td>0.847459</td>\n      <td>0.022130</td>\n      <td>41</td>\n    </tr>\n    <tr>\n      <th>27</th>\n      <td>0.166334</td>\n      <td>0.013572</td>\n      <td>0.014334</td>\n      <td>9.425722e-04</td>\n      <td>0.1</td>\n      <td>7</td>\n      <td>15</td>\n      <td>{'clf__learning_rate': 0.1, 'clf__max_depth': ...</td>\n      <td>0.863552</td>\n      <td>0.809295</td>\n      <td>0.867616</td>\n      <td>0.846821</td>\n      <td>0.026587</td>\n      <td>42</td>\n    </tr>\n    <tr>\n      <th>12</th>\n      <td>0.172666</td>\n      <td>0.001248</td>\n      <td>0.015333</td>\n      <td>4.714838e-04</td>\n      <td>0.1</td>\n      <td>7</td>\n      <td>15</td>\n      <td>{'clf__learning_rate': 0.1, 'clf__max_depth': ...</td>\n      <td>0.863552</td>\n      <td>0.809295</td>\n      <td>0.867616</td>\n      <td>0.846821</td>\n      <td>0.026587</td>\n      <td>42</td>\n    </tr>\n    <tr>\n      <th>38</th>\n      <td>0.377999</td>\n      <td>0.039858</td>\n      <td>0.014000</td>\n      <td>5.619580e-07</td>\n      <td>0.4</td>\n      <td>5</td>\n      <td>50</td>\n      <td>{'clf__learning_rate': 0.4, 'clf__max_depth': ...</td>\n      <td>0.866667</td>\n      <td>0.817016</td>\n      <td>0.846552</td>\n      <td>0.843412</td>\n      <td>0.020391</td>\n      <td>44</td>\n    </tr>\n    <tr>\n      <th>41</th>\n      <td>0.398667</td>\n      <td>0.004028</td>\n      <td>0.014333</td>\n      <td>4.713147e-04</td>\n      <td>0.4</td>\n      <td>6</td>\n      <td>50</td>\n      <td>{'clf__learning_rate': 0.4, 'clf__max_depth': ...</td>\n      <td>0.854579</td>\n      <td>0.808583</td>\n      <td>0.843928</td>\n      <td>0.835697</td>\n      <td>0.019659</td>\n      <td>45</td>\n    </tr>\n  </tbody>\n</table>\n</div>"
     },
     "metadata": {},
     "output_type": "display_data"
    },
    {
     "name": "stdout",
     "output_type": "stream",
     "text": [
      "параметры: {'clf__learning_rate': 0.1, 'clf__max_depth': 5, 'clf__n_estimators': 25} \n",
      "roc-auc: 0.8632\n"
     ]
    }
   ],
   "source": [
    "display(pd.DataFrame(xgb_gs.cv_results_).sort_values('rank_test_score'))\n",
    "print(f'параметры: {pd.DataFrame(xgb_gs.cv_results_).sort_values(\"rank_test_score\").head(1)[\"params\"].values[0]}',\n",
    "      f'\\nroc-auc: {pd.DataFrame(xgb_gs.cv_results_).sort_values(\"rank_test_score\").head(1)[\"mean_test_score\"].values[0]:.4f}')"
   ],
   "metadata": {
    "collapsed": false,
    "pycharm": {
     "name": "#%%\n"
    }
   }
  },
  {
   "cell_type": "code",
   "execution_count": 59,
   "outputs": [
    {
     "data": {
      "text/plain": "    mean_fit_time  std_fit_time  mean_score_time  std_score_time  \\\n22       0.207334      0.009978         0.013666    4.711456e-04   \n7        0.238999      0.008041         0.014666    9.427970e-04   \n4        0.275334      0.002868         0.015666    9.426284e-04   \n19       0.194000      0.026981         0.014000    2.973602e-07   \n2        0.313665      0.007408         0.016000    2.160753e-03   \n17       0.279000      0.018992         0.015000    8.485379e-07   \n8        0.412999      0.023282         0.013667    4.710338e-04   \n23       0.393000      0.010198         0.014000    8.920806e-07   \n5        0.366999      0.003742         0.014334    4.714270e-04   \n20       0.338999      0.008603         0.014335    4.721571e-04   \n6        0.162333      0.003091         0.015334    4.713147e-04   \n21       0.139666      0.023837         0.014334    4.714829e-04   \n1        0.149665      0.007409         0.028667    9.534523e-03   \n16       0.140668      0.006599         0.014333    1.247745e-03   \n30       0.086334      0.014818         0.014000    8.171188e-04   \n10       0.237998      0.004547         0.014335    4.708646e-04   \n25       0.238666      0.006599         0.013667    9.431341e-04   \n31       0.145333      0.017461         0.013667    9.425727e-04   \n36       0.142334      0.012120         0.015333    1.247256e-03   \n34       0.174332      0.017932         0.014333    4.707525e-04   \n42       0.159334      0.007409         0.014000    1.946680e-07   \n11       0.477666      0.024797         0.014667    4.712581e-04   \n26       0.478666      0.016132         0.016333    4.784003e-03   \n33       0.116665      0.007408         0.014000    7.370010e-07   \n32       0.261334      0.012285         0.014333    4.712594e-04   \n3        0.106998      0.007118         0.017668    2.867428e-03   \n18       0.123334      0.006550         0.013999    1.946680e-07   \n0        0.084331      0.002868         0.015333    1.247426e-03   \n15       0.096999      0.012330         0.013334    4.719888e-04   \n29       0.568333      0.008056         0.015001    4.052337e-07   \n14       0.548000      0.012193         0.015668    1.247129e-03   \n43       0.223000      0.006164         0.014333    4.715390e-04   \n35       0.326334      0.002055         0.014666    1.700283e-03   \n28       0.303333      0.011843         0.014001    8.176060e-04   \n13       0.288667      0.010532         0.014333    1.247150e-03   \n39       0.166001      0.016871         0.014333    4.716518e-04   \n24       0.158667      0.016819         0.014334    4.709775e-04   \n9        0.148666      0.008731         0.014333    9.435278e-04   \n40       0.230333      0.016740         0.014000    1.123916e-07   \n44       0.254332      0.003399         0.013333    4.702464e-04   \n37       0.209001      0.015254         0.014666    1.247787e-03   \n27       0.166334      0.013572         0.014334    9.425722e-04   \n12       0.172666      0.001248         0.015333    4.714838e-04   \n38       0.377999      0.039858         0.014000    5.619580e-07   \n41       0.398667      0.004028         0.014333    4.713147e-04   \n\n   param_clf__learning_rate param_clf__max_depth param_clf__n_estimators  \\\n22                      0.1                    5                      25   \n7                       0.1                    5                      25   \n4                       0.1                    4                      25   \n19                      0.1                    4                      25   \n2                       0.1                    3                      50   \n17                      0.1                    3                      50   \n8                       0.1                    5                      50   \n23                      0.1                    5                      50   \n5                       0.1                    4                      50   \n20                      0.1                    4                      50   \n6                       0.1                    5                      15   \n21                      0.1                    5                      15   \n1                       0.1                    3                      25   \n16                      0.1                    3                      25   \n30                      0.4                    3                      15   \n10                      0.1                    6                      25   \n25                      0.1                    6                      25   \n31                      0.4                    3                      25   \n36                      0.4                    5                      15   \n34                      0.4                    4                      25   \n42                      0.4                    7                      15   \n11                      0.1                    6                      50   \n26                      0.1                    6                      50   \n33                      0.4                    4                      15   \n32                      0.4                    3                      50   \n3                       0.1                    4                      15   \n18                      0.1                    4                      15   \n0                       0.1                    3                      15   \n15                      0.1                    3                      15   \n29                      0.1                    7                      50   \n14                      0.1                    7                      50   \n43                      0.4                    7                      25   \n35                      0.4                    4                      50   \n28                      0.1                    7                      25   \n13                      0.1                    7                      25   \n39                      0.4                    6                      15   \n24                      0.1                    6                      15   \n9                       0.1                    6                      15   \n40                      0.4                    6                      25   \n44                      0.4                    7                      50   \n37                      0.4                    5                      25   \n27                      0.1                    7                      15   \n12                      0.1                    7                      15   \n38                      0.4                    5                      50   \n41                      0.4                    6                      50   \n\n                                               params  split0_test_score  \\\n22  {'clf__learning_rate': 0.1, 'clf__max_depth': ...           0.878198   \n7   {'clf__learning_rate': 0.1, 'clf__max_depth': ...           0.878198   \n4   {'clf__learning_rate': 0.1, 'clf__max_depth': ...           0.871635   \n19  {'clf__learning_rate': 0.1, 'clf__max_depth': ...           0.871635   \n2   {'clf__learning_rate': 0.1, 'clf__max_depth': ...           0.871376   \n17  {'clf__learning_rate': 0.1, 'clf__max_depth': ...           0.871376   \n8   {'clf__learning_rate': 0.1, 'clf__max_depth': ...           0.875603   \n23  {'clf__learning_rate': 0.1, 'clf__max_depth': ...           0.875603   \n5   {'clf__learning_rate': 0.1, 'clf__max_depth': ...           0.876567   \n20  {'clf__learning_rate': 0.1, 'clf__max_depth': ...           0.876567   \n6   {'clf__learning_rate': 0.1, 'clf__max_depth': ...           0.872933   \n21  {'clf__learning_rate': 0.1, 'clf__max_depth': ...           0.872933   \n1   {'clf__learning_rate': 0.1, 'clf__max_depth': ...           0.866555   \n16  {'clf__learning_rate': 0.1, 'clf__max_depth': ...           0.866555   \n30  {'clf__learning_rate': 0.4, 'clf__max_depth': ...           0.867482   \n10  {'clf__learning_rate': 0.1, 'clf__max_depth': ...           0.866407   \n25  {'clf__learning_rate': 0.1, 'clf__max_depth': ...           0.866407   \n31  {'clf__learning_rate': 0.4, 'clf__max_depth': ...           0.867853   \n36  {'clf__learning_rate': 0.4, 'clf__max_depth': ...           0.871116   \n34  {'clf__learning_rate': 0.4, 'clf__max_depth': ...           0.874119   \n42  {'clf__learning_rate': 0.4, 'clf__max_depth': ...           0.865703   \n11  {'clf__learning_rate': 0.1, 'clf__max_depth': ...           0.865591   \n26  {'clf__learning_rate': 0.1, 'clf__max_depth': ...           0.865591   \n33  {'clf__learning_rate': 0.4, 'clf__max_depth': ...           0.874601   \n32  {'clf__learning_rate': 0.4, 'clf__max_depth': ...           0.874045   \n3   {'clf__learning_rate': 0.1, 'clf__max_depth': ...           0.860215   \n18  {'clf__learning_rate': 0.1, 'clf__max_depth': ...           0.860215   \n0   {'clf__learning_rate': 0.1, 'clf__max_depth': ...           0.864850   \n15  {'clf__learning_rate': 0.1, 'clf__max_depth': ...           0.864850   \n29  {'clf__learning_rate': 0.1, 'clf__max_depth': ...           0.864887   \n14  {'clf__learning_rate': 0.1, 'clf__max_depth': ...           0.864887   \n43  {'clf__learning_rate': 0.4, 'clf__max_depth': ...           0.868076   \n35  {'clf__learning_rate': 0.4, 'clf__max_depth': ...           0.873489   \n28  {'clf__learning_rate': 0.1, 'clf__max_depth': ...           0.865591   \n13  {'clf__learning_rate': 0.1, 'clf__max_depth': ...           0.865591   \n39  {'clf__learning_rate': 0.4, 'clf__max_depth': ...           0.861031   \n24  {'clf__learning_rate': 0.1, 'clf__max_depth': ...           0.862143   \n9   {'clf__learning_rate': 0.1, 'clf__max_depth': ...           0.862143   \n40  {'clf__learning_rate': 0.4, 'clf__max_depth': ...           0.864961   \n44  {'clf__learning_rate': 0.4, 'clf__max_depth': ...           0.859548   \n37  {'clf__learning_rate': 0.4, 'clf__max_depth': ...           0.870374   \n27  {'clf__learning_rate': 0.1, 'clf__max_depth': ...           0.863552   \n12  {'clf__learning_rate': 0.1, 'clf__max_depth': ...           0.863552   \n38  {'clf__learning_rate': 0.4, 'clf__max_depth': ...           0.866667   \n41  {'clf__learning_rate': 0.4, 'clf__max_depth': ...           0.854579   \n\n    split1_test_score  split2_test_score  mean_test_score  std_test_score  \\\n22           0.822039           0.889393         0.863210        0.029469   \n7            0.822039           0.889393         0.863210        0.029469   \n4            0.807834           0.903148         0.860872        0.039649   \n19           0.807834           0.903148         0.860872        0.039649   \n2            0.821064           0.889543         0.860661        0.028965   \n17           0.821064           0.889543         0.860661        0.028965   \n8            0.818478           0.887631         0.860571        0.030166   \n23           0.818478           0.887631         0.860571        0.030166   \n5            0.813531           0.890517         0.860205        0.033491   \n20           0.813531           0.890517         0.860205        0.033491   \n6            0.822601           0.879760         0.858431        0.025489   \n21           0.822601           0.879760         0.858431        0.025489   \n1            0.809370           0.896814         0.857580        0.036259   \n16           0.809370           0.896814         0.857580        0.036259   \n30           0.815892           0.887706         0.857027        0.030236   \n10           0.814543           0.888081         0.856344        0.030854   \n25           0.814543           0.888081         0.856344        0.030854   \n31           0.813456           0.884820         0.855376        0.030441   \n36           0.822751           0.872114         0.855327        0.023038   \n34           0.814655           0.876499         0.855091        0.028609   \n42           0.825187           0.872264         0.854385        0.020819   \n11           0.816342           0.880547         0.854160        0.027430   \n26           0.816342           0.880547         0.854160        0.027430   \n33           0.801087           0.886694         0.854128        0.037829   \n32           0.809783           0.877624         0.853817        0.031171   \n3            0.805997           0.894153         0.853455        0.036306   \n18           0.805997           0.894153         0.853455        0.036306   \n0            0.807346           0.888118         0.853438        0.033948   \n15           0.807346           0.888118         0.853438        0.033948   \n29           0.816004           0.879348         0.853413        0.027103   \n14           0.816004           0.879348         0.853413        0.027103   \n43           0.825375           0.865367         0.852939        0.019522   \n35           0.819865           0.864730         0.852695        0.023488   \n28           0.811019           0.878898         0.851836        0.029369   \n13           0.811019           0.878898         0.851836        0.029369   \n39           0.823163           0.866267         0.850154        0.019204   \n24           0.815630           0.868816         0.848863        0.023657   \n9            0.815630           0.868816         0.848863        0.023657   \n40           0.820652           0.860270         0.848628        0.019874   \n44           0.824888           0.860270         0.848235        0.016512   \n37           0.817541           0.854460         0.847459        0.022130   \n27           0.809295           0.867616         0.846821        0.026587   \n12           0.809295           0.867616         0.846821        0.026587   \n38           0.817016           0.846552         0.843412        0.020391   \n41           0.808583           0.843928         0.835697        0.019659   \n\n    rank_test_score  \n22                1  \n7                 1  \n4                 3  \n19                3  \n2                 5  \n17                5  \n8                 7  \n23                7  \n5                 9  \n20                9  \n6                11  \n21               11  \n1                13  \n16               13  \n30               15  \n10               16  \n25               16  \n31               18  \n36               19  \n34               20  \n42               21  \n11               22  \n26               22  \n33               24  \n32               25  \n3                26  \n18               26  \n0                28  \n15               28  \n29               30  \n14               30  \n43               32  \n35               33  \n28               34  \n13               34  \n39               36  \n24               37  \n9                37  \n40               39  \n44               40  \n37               41  \n27               42  \n12               42  \n38               44  \n41               45  ",
      "text/html": "<div>\n<style scoped>\n    .dataframe tbody tr th:only-of-type {\n        vertical-align: middle;\n    }\n\n    .dataframe tbody tr th {\n        vertical-align: top;\n    }\n\n    .dataframe thead th {\n        text-align: right;\n    }\n</style>\n<table border=\"1\" class=\"dataframe\">\n  <thead>\n    <tr style=\"text-align: right;\">\n      <th></th>\n      <th>mean_fit_time</th>\n      <th>std_fit_time</th>\n      <th>mean_score_time</th>\n      <th>std_score_time</th>\n      <th>param_clf__learning_rate</th>\n      <th>param_clf__max_depth</th>\n      <th>param_clf__n_estimators</th>\n      <th>params</th>\n      <th>split0_test_score</th>\n      <th>split1_test_score</th>\n      <th>split2_test_score</th>\n      <th>mean_test_score</th>\n      <th>std_test_score</th>\n      <th>rank_test_score</th>\n    </tr>\n  </thead>\n  <tbody>\n    <tr>\n      <th>22</th>\n      <td>0.207334</td>\n      <td>0.009978</td>\n      <td>0.013666</td>\n      <td>4.711456e-04</td>\n      <td>0.1</td>\n      <td>5</td>\n      <td>25</td>\n      <td>{'clf__learning_rate': 0.1, 'clf__max_depth': ...</td>\n      <td>0.878198</td>\n      <td>0.822039</td>\n      <td>0.889393</td>\n      <td>0.863210</td>\n      <td>0.029469</td>\n      <td>1</td>\n    </tr>\n    <tr>\n      <th>7</th>\n      <td>0.238999</td>\n      <td>0.008041</td>\n      <td>0.014666</td>\n      <td>9.427970e-04</td>\n      <td>0.1</td>\n      <td>5</td>\n      <td>25</td>\n      <td>{'clf__learning_rate': 0.1, 'clf__max_depth': ...</td>\n      <td>0.878198</td>\n      <td>0.822039</td>\n      <td>0.889393</td>\n      <td>0.863210</td>\n      <td>0.029469</td>\n      <td>1</td>\n    </tr>\n    <tr>\n      <th>4</th>\n      <td>0.275334</td>\n      <td>0.002868</td>\n      <td>0.015666</td>\n      <td>9.426284e-04</td>\n      <td>0.1</td>\n      <td>4</td>\n      <td>25</td>\n      <td>{'clf__learning_rate': 0.1, 'clf__max_depth': ...</td>\n      <td>0.871635</td>\n      <td>0.807834</td>\n      <td>0.903148</td>\n      <td>0.860872</td>\n      <td>0.039649</td>\n      <td>3</td>\n    </tr>\n    <tr>\n      <th>19</th>\n      <td>0.194000</td>\n      <td>0.026981</td>\n      <td>0.014000</td>\n      <td>2.973602e-07</td>\n      <td>0.1</td>\n      <td>4</td>\n      <td>25</td>\n      <td>{'clf__learning_rate': 0.1, 'clf__max_depth': ...</td>\n      <td>0.871635</td>\n      <td>0.807834</td>\n      <td>0.903148</td>\n      <td>0.860872</td>\n      <td>0.039649</td>\n      <td>3</td>\n    </tr>\n    <tr>\n      <th>2</th>\n      <td>0.313665</td>\n      <td>0.007408</td>\n      <td>0.016000</td>\n      <td>2.160753e-03</td>\n      <td>0.1</td>\n      <td>3</td>\n      <td>50</td>\n      <td>{'clf__learning_rate': 0.1, 'clf__max_depth': ...</td>\n      <td>0.871376</td>\n      <td>0.821064</td>\n      <td>0.889543</td>\n      <td>0.860661</td>\n      <td>0.028965</td>\n      <td>5</td>\n    </tr>\n    <tr>\n      <th>17</th>\n      <td>0.279000</td>\n      <td>0.018992</td>\n      <td>0.015000</td>\n      <td>8.485379e-07</td>\n      <td>0.1</td>\n      <td>3</td>\n      <td>50</td>\n      <td>{'clf__learning_rate': 0.1, 'clf__max_depth': ...</td>\n      <td>0.871376</td>\n      <td>0.821064</td>\n      <td>0.889543</td>\n      <td>0.860661</td>\n      <td>0.028965</td>\n      <td>5</td>\n    </tr>\n    <tr>\n      <th>8</th>\n      <td>0.412999</td>\n      <td>0.023282</td>\n      <td>0.013667</td>\n      <td>4.710338e-04</td>\n      <td>0.1</td>\n      <td>5</td>\n      <td>50</td>\n      <td>{'clf__learning_rate': 0.1, 'clf__max_depth': ...</td>\n      <td>0.875603</td>\n      <td>0.818478</td>\n      <td>0.887631</td>\n      <td>0.860571</td>\n      <td>0.030166</td>\n      <td>7</td>\n    </tr>\n    <tr>\n      <th>23</th>\n      <td>0.393000</td>\n      <td>0.010198</td>\n      <td>0.014000</td>\n      <td>8.920806e-07</td>\n      <td>0.1</td>\n      <td>5</td>\n      <td>50</td>\n      <td>{'clf__learning_rate': 0.1, 'clf__max_depth': ...</td>\n      <td>0.875603</td>\n      <td>0.818478</td>\n      <td>0.887631</td>\n      <td>0.860571</td>\n      <td>0.030166</td>\n      <td>7</td>\n    </tr>\n    <tr>\n      <th>5</th>\n      <td>0.366999</td>\n      <td>0.003742</td>\n      <td>0.014334</td>\n      <td>4.714270e-04</td>\n      <td>0.1</td>\n      <td>4</td>\n      <td>50</td>\n      <td>{'clf__learning_rate': 0.1, 'clf__max_depth': ...</td>\n      <td>0.876567</td>\n      <td>0.813531</td>\n      <td>0.890517</td>\n      <td>0.860205</td>\n      <td>0.033491</td>\n      <td>9</td>\n    </tr>\n    <tr>\n      <th>20</th>\n      <td>0.338999</td>\n      <td>0.008603</td>\n      <td>0.014335</td>\n      <td>4.721571e-04</td>\n      <td>0.1</td>\n      <td>4</td>\n      <td>50</td>\n      <td>{'clf__learning_rate': 0.1, 'clf__max_depth': ...</td>\n      <td>0.876567</td>\n      <td>0.813531</td>\n      <td>0.890517</td>\n      <td>0.860205</td>\n      <td>0.033491</td>\n      <td>9</td>\n    </tr>\n    <tr>\n      <th>6</th>\n      <td>0.162333</td>\n      <td>0.003091</td>\n      <td>0.015334</td>\n      <td>4.713147e-04</td>\n      <td>0.1</td>\n      <td>5</td>\n      <td>15</td>\n      <td>{'clf__learning_rate': 0.1, 'clf__max_depth': ...</td>\n      <td>0.872933</td>\n      <td>0.822601</td>\n      <td>0.879760</td>\n      <td>0.858431</td>\n      <td>0.025489</td>\n      <td>11</td>\n    </tr>\n    <tr>\n      <th>21</th>\n      <td>0.139666</td>\n      <td>0.023837</td>\n      <td>0.014334</td>\n      <td>4.714829e-04</td>\n      <td>0.1</td>\n      <td>5</td>\n      <td>15</td>\n      <td>{'clf__learning_rate': 0.1, 'clf__max_depth': ...</td>\n      <td>0.872933</td>\n      <td>0.822601</td>\n      <td>0.879760</td>\n      <td>0.858431</td>\n      <td>0.025489</td>\n      <td>11</td>\n    </tr>\n    <tr>\n      <th>1</th>\n      <td>0.149665</td>\n      <td>0.007409</td>\n      <td>0.028667</td>\n      <td>9.534523e-03</td>\n      <td>0.1</td>\n      <td>3</td>\n      <td>25</td>\n      <td>{'clf__learning_rate': 0.1, 'clf__max_depth': ...</td>\n      <td>0.866555</td>\n      <td>0.809370</td>\n      <td>0.896814</td>\n      <td>0.857580</td>\n      <td>0.036259</td>\n      <td>13</td>\n    </tr>\n    <tr>\n      <th>16</th>\n      <td>0.140668</td>\n      <td>0.006599</td>\n      <td>0.014333</td>\n      <td>1.247745e-03</td>\n      <td>0.1</td>\n      <td>3</td>\n      <td>25</td>\n      <td>{'clf__learning_rate': 0.1, 'clf__max_depth': ...</td>\n      <td>0.866555</td>\n      <td>0.809370</td>\n      <td>0.896814</td>\n      <td>0.857580</td>\n      <td>0.036259</td>\n      <td>13</td>\n    </tr>\n    <tr>\n      <th>30</th>\n      <td>0.086334</td>\n      <td>0.014818</td>\n      <td>0.014000</td>\n      <td>8.171188e-04</td>\n      <td>0.4</td>\n      <td>3</td>\n      <td>15</td>\n      <td>{'clf__learning_rate': 0.4, 'clf__max_depth': ...</td>\n      <td>0.867482</td>\n      <td>0.815892</td>\n      <td>0.887706</td>\n      <td>0.857027</td>\n      <td>0.030236</td>\n      <td>15</td>\n    </tr>\n    <tr>\n      <th>10</th>\n      <td>0.237998</td>\n      <td>0.004547</td>\n      <td>0.014335</td>\n      <td>4.708646e-04</td>\n      <td>0.1</td>\n      <td>6</td>\n      <td>25</td>\n      <td>{'clf__learning_rate': 0.1, 'clf__max_depth': ...</td>\n      <td>0.866407</td>\n      <td>0.814543</td>\n      <td>0.888081</td>\n      <td>0.856344</td>\n      <td>0.030854</td>\n      <td>16</td>\n    </tr>\n    <tr>\n      <th>25</th>\n      <td>0.238666</td>\n      <td>0.006599</td>\n      <td>0.013667</td>\n      <td>9.431341e-04</td>\n      <td>0.1</td>\n      <td>6</td>\n      <td>25</td>\n      <td>{'clf__learning_rate': 0.1, 'clf__max_depth': ...</td>\n      <td>0.866407</td>\n      <td>0.814543</td>\n      <td>0.888081</td>\n      <td>0.856344</td>\n      <td>0.030854</td>\n      <td>16</td>\n    </tr>\n    <tr>\n      <th>31</th>\n      <td>0.145333</td>\n      <td>0.017461</td>\n      <td>0.013667</td>\n      <td>9.425727e-04</td>\n      <td>0.4</td>\n      <td>3</td>\n      <td>25</td>\n      <td>{'clf__learning_rate': 0.4, 'clf__max_depth': ...</td>\n      <td>0.867853</td>\n      <td>0.813456</td>\n      <td>0.884820</td>\n      <td>0.855376</td>\n      <td>0.030441</td>\n      <td>18</td>\n    </tr>\n    <tr>\n      <th>36</th>\n      <td>0.142334</td>\n      <td>0.012120</td>\n      <td>0.015333</td>\n      <td>1.247256e-03</td>\n      <td>0.4</td>\n      <td>5</td>\n      <td>15</td>\n      <td>{'clf__learning_rate': 0.4, 'clf__max_depth': ...</td>\n      <td>0.871116</td>\n      <td>0.822751</td>\n      <td>0.872114</td>\n      <td>0.855327</td>\n      <td>0.023038</td>\n      <td>19</td>\n    </tr>\n    <tr>\n      <th>34</th>\n      <td>0.174332</td>\n      <td>0.017932</td>\n      <td>0.014333</td>\n      <td>4.707525e-04</td>\n      <td>0.4</td>\n      <td>4</td>\n      <td>25</td>\n      <td>{'clf__learning_rate': 0.4, 'clf__max_depth': ...</td>\n      <td>0.874119</td>\n      <td>0.814655</td>\n      <td>0.876499</td>\n      <td>0.855091</td>\n      <td>0.028609</td>\n      <td>20</td>\n    </tr>\n    <tr>\n      <th>42</th>\n      <td>0.159334</td>\n      <td>0.007409</td>\n      <td>0.014000</td>\n      <td>1.946680e-07</td>\n      <td>0.4</td>\n      <td>7</td>\n      <td>15</td>\n      <td>{'clf__learning_rate': 0.4, 'clf__max_depth': ...</td>\n      <td>0.865703</td>\n      <td>0.825187</td>\n      <td>0.872264</td>\n      <td>0.854385</td>\n      <td>0.020819</td>\n      <td>21</td>\n    </tr>\n    <tr>\n      <th>11</th>\n      <td>0.477666</td>\n      <td>0.024797</td>\n      <td>0.014667</td>\n      <td>4.712581e-04</td>\n      <td>0.1</td>\n      <td>6</td>\n      <td>50</td>\n      <td>{'clf__learning_rate': 0.1, 'clf__max_depth': ...</td>\n      <td>0.865591</td>\n      <td>0.816342</td>\n      <td>0.880547</td>\n      <td>0.854160</td>\n      <td>0.027430</td>\n      <td>22</td>\n    </tr>\n    <tr>\n      <th>26</th>\n      <td>0.478666</td>\n      <td>0.016132</td>\n      <td>0.016333</td>\n      <td>4.784003e-03</td>\n      <td>0.1</td>\n      <td>6</td>\n      <td>50</td>\n      <td>{'clf__learning_rate': 0.1, 'clf__max_depth': ...</td>\n      <td>0.865591</td>\n      <td>0.816342</td>\n      <td>0.880547</td>\n      <td>0.854160</td>\n      <td>0.027430</td>\n      <td>22</td>\n    </tr>\n    <tr>\n      <th>33</th>\n      <td>0.116665</td>\n      <td>0.007408</td>\n      <td>0.014000</td>\n      <td>7.370010e-07</td>\n      <td>0.4</td>\n      <td>4</td>\n      <td>15</td>\n      <td>{'clf__learning_rate': 0.4, 'clf__max_depth': ...</td>\n      <td>0.874601</td>\n      <td>0.801087</td>\n      <td>0.886694</td>\n      <td>0.854128</td>\n      <td>0.037829</td>\n      <td>24</td>\n    </tr>\n    <tr>\n      <th>32</th>\n      <td>0.261334</td>\n      <td>0.012285</td>\n      <td>0.014333</td>\n      <td>4.712594e-04</td>\n      <td>0.4</td>\n      <td>3</td>\n      <td>50</td>\n      <td>{'clf__learning_rate': 0.4, 'clf__max_depth': ...</td>\n      <td>0.874045</td>\n      <td>0.809783</td>\n      <td>0.877624</td>\n      <td>0.853817</td>\n      <td>0.031171</td>\n      <td>25</td>\n    </tr>\n    <tr>\n      <th>3</th>\n      <td>0.106998</td>\n      <td>0.007118</td>\n      <td>0.017668</td>\n      <td>2.867428e-03</td>\n      <td>0.1</td>\n      <td>4</td>\n      <td>15</td>\n      <td>{'clf__learning_rate': 0.1, 'clf__max_depth': ...</td>\n      <td>0.860215</td>\n      <td>0.805997</td>\n      <td>0.894153</td>\n      <td>0.853455</td>\n      <td>0.036306</td>\n      <td>26</td>\n    </tr>\n    <tr>\n      <th>18</th>\n      <td>0.123334</td>\n      <td>0.006550</td>\n      <td>0.013999</td>\n      <td>1.946680e-07</td>\n      <td>0.1</td>\n      <td>4</td>\n      <td>15</td>\n      <td>{'clf__learning_rate': 0.1, 'clf__max_depth': ...</td>\n      <td>0.860215</td>\n      <td>0.805997</td>\n      <td>0.894153</td>\n      <td>0.853455</td>\n      <td>0.036306</td>\n      <td>26</td>\n    </tr>\n    <tr>\n      <th>0</th>\n      <td>0.084331</td>\n      <td>0.002868</td>\n      <td>0.015333</td>\n      <td>1.247426e-03</td>\n      <td>0.1</td>\n      <td>3</td>\n      <td>15</td>\n      <td>{'clf__learning_rate': 0.1, 'clf__max_depth': ...</td>\n      <td>0.864850</td>\n      <td>0.807346</td>\n      <td>0.888118</td>\n      <td>0.853438</td>\n      <td>0.033948</td>\n      <td>28</td>\n    </tr>\n    <tr>\n      <th>15</th>\n      <td>0.096999</td>\n      <td>0.012330</td>\n      <td>0.013334</td>\n      <td>4.719888e-04</td>\n      <td>0.1</td>\n      <td>3</td>\n      <td>15</td>\n      <td>{'clf__learning_rate': 0.1, 'clf__max_depth': ...</td>\n      <td>0.864850</td>\n      <td>0.807346</td>\n      <td>0.888118</td>\n      <td>0.853438</td>\n      <td>0.033948</td>\n      <td>28</td>\n    </tr>\n    <tr>\n      <th>29</th>\n      <td>0.568333</td>\n      <td>0.008056</td>\n      <td>0.015001</td>\n      <td>4.052337e-07</td>\n      <td>0.1</td>\n      <td>7</td>\n      <td>50</td>\n      <td>{'clf__learning_rate': 0.1, 'clf__max_depth': ...</td>\n      <td>0.864887</td>\n      <td>0.816004</td>\n      <td>0.879348</td>\n      <td>0.853413</td>\n      <td>0.027103</td>\n      <td>30</td>\n    </tr>\n    <tr>\n      <th>14</th>\n      <td>0.548000</td>\n      <td>0.012193</td>\n      <td>0.015668</td>\n      <td>1.247129e-03</td>\n      <td>0.1</td>\n      <td>7</td>\n      <td>50</td>\n      <td>{'clf__learning_rate': 0.1, 'clf__max_depth': ...</td>\n      <td>0.864887</td>\n      <td>0.816004</td>\n      <td>0.879348</td>\n      <td>0.853413</td>\n      <td>0.027103</td>\n      <td>30</td>\n    </tr>\n    <tr>\n      <th>43</th>\n      <td>0.223000</td>\n      <td>0.006164</td>\n      <td>0.014333</td>\n      <td>4.715390e-04</td>\n      <td>0.4</td>\n      <td>7</td>\n      <td>25</td>\n      <td>{'clf__learning_rate': 0.4, 'clf__max_depth': ...</td>\n      <td>0.868076</td>\n      <td>0.825375</td>\n      <td>0.865367</td>\n      <td>0.852939</td>\n      <td>0.019522</td>\n      <td>32</td>\n    </tr>\n    <tr>\n      <th>35</th>\n      <td>0.326334</td>\n      <td>0.002055</td>\n      <td>0.014666</td>\n      <td>1.700283e-03</td>\n      <td>0.4</td>\n      <td>4</td>\n      <td>50</td>\n      <td>{'clf__learning_rate': 0.4, 'clf__max_depth': ...</td>\n      <td>0.873489</td>\n      <td>0.819865</td>\n      <td>0.864730</td>\n      <td>0.852695</td>\n      <td>0.023488</td>\n      <td>33</td>\n    </tr>\n    <tr>\n      <th>28</th>\n      <td>0.303333</td>\n      <td>0.011843</td>\n      <td>0.014001</td>\n      <td>8.176060e-04</td>\n      <td>0.1</td>\n      <td>7</td>\n      <td>25</td>\n      <td>{'clf__learning_rate': 0.1, 'clf__max_depth': ...</td>\n      <td>0.865591</td>\n      <td>0.811019</td>\n      <td>0.878898</td>\n      <td>0.851836</td>\n      <td>0.029369</td>\n      <td>34</td>\n    </tr>\n    <tr>\n      <th>13</th>\n      <td>0.288667</td>\n      <td>0.010532</td>\n      <td>0.014333</td>\n      <td>1.247150e-03</td>\n      <td>0.1</td>\n      <td>7</td>\n      <td>25</td>\n      <td>{'clf__learning_rate': 0.1, 'clf__max_depth': ...</td>\n      <td>0.865591</td>\n      <td>0.811019</td>\n      <td>0.878898</td>\n      <td>0.851836</td>\n      <td>0.029369</td>\n      <td>34</td>\n    </tr>\n    <tr>\n      <th>39</th>\n      <td>0.166001</td>\n      <td>0.016871</td>\n      <td>0.014333</td>\n      <td>4.716518e-04</td>\n      <td>0.4</td>\n      <td>6</td>\n      <td>15</td>\n      <td>{'clf__learning_rate': 0.4, 'clf__max_depth': ...</td>\n      <td>0.861031</td>\n      <td>0.823163</td>\n      <td>0.866267</td>\n      <td>0.850154</td>\n      <td>0.019204</td>\n      <td>36</td>\n    </tr>\n    <tr>\n      <th>24</th>\n      <td>0.158667</td>\n      <td>0.016819</td>\n      <td>0.014334</td>\n      <td>4.709775e-04</td>\n      <td>0.1</td>\n      <td>6</td>\n      <td>15</td>\n      <td>{'clf__learning_rate': 0.1, 'clf__max_depth': ...</td>\n      <td>0.862143</td>\n      <td>0.815630</td>\n      <td>0.868816</td>\n      <td>0.848863</td>\n      <td>0.023657</td>\n      <td>37</td>\n    </tr>\n    <tr>\n      <th>9</th>\n      <td>0.148666</td>\n      <td>0.008731</td>\n      <td>0.014333</td>\n      <td>9.435278e-04</td>\n      <td>0.1</td>\n      <td>6</td>\n      <td>15</td>\n      <td>{'clf__learning_rate': 0.1, 'clf__max_depth': ...</td>\n      <td>0.862143</td>\n      <td>0.815630</td>\n      <td>0.868816</td>\n      <td>0.848863</td>\n      <td>0.023657</td>\n      <td>37</td>\n    </tr>\n    <tr>\n      <th>40</th>\n      <td>0.230333</td>\n      <td>0.016740</td>\n      <td>0.014000</td>\n      <td>1.123916e-07</td>\n      <td>0.4</td>\n      <td>6</td>\n      <td>25</td>\n      <td>{'clf__learning_rate': 0.4, 'clf__max_depth': ...</td>\n      <td>0.864961</td>\n      <td>0.820652</td>\n      <td>0.860270</td>\n      <td>0.848628</td>\n      <td>0.019874</td>\n      <td>39</td>\n    </tr>\n    <tr>\n      <th>44</th>\n      <td>0.254332</td>\n      <td>0.003399</td>\n      <td>0.013333</td>\n      <td>4.702464e-04</td>\n      <td>0.4</td>\n      <td>7</td>\n      <td>50</td>\n      <td>{'clf__learning_rate': 0.4, 'clf__max_depth': ...</td>\n      <td>0.859548</td>\n      <td>0.824888</td>\n      <td>0.860270</td>\n      <td>0.848235</td>\n      <td>0.016512</td>\n      <td>40</td>\n    </tr>\n    <tr>\n      <th>37</th>\n      <td>0.209001</td>\n      <td>0.015254</td>\n      <td>0.014666</td>\n      <td>1.247787e-03</td>\n      <td>0.4</td>\n      <td>5</td>\n      <td>25</td>\n      <td>{'clf__learning_rate': 0.4, 'clf__max_depth': ...</td>\n      <td>0.870374</td>\n      <td>0.817541</td>\n      <td>0.854460</td>\n      <td>0.847459</td>\n      <td>0.022130</td>\n      <td>41</td>\n    </tr>\n    <tr>\n      <th>27</th>\n      <td>0.166334</td>\n      <td>0.013572</td>\n      <td>0.014334</td>\n      <td>9.425722e-04</td>\n      <td>0.1</td>\n      <td>7</td>\n      <td>15</td>\n      <td>{'clf__learning_rate': 0.1, 'clf__max_depth': ...</td>\n      <td>0.863552</td>\n      <td>0.809295</td>\n      <td>0.867616</td>\n      <td>0.846821</td>\n      <td>0.026587</td>\n      <td>42</td>\n    </tr>\n    <tr>\n      <th>12</th>\n      <td>0.172666</td>\n      <td>0.001248</td>\n      <td>0.015333</td>\n      <td>4.714838e-04</td>\n      <td>0.1</td>\n      <td>7</td>\n      <td>15</td>\n      <td>{'clf__learning_rate': 0.1, 'clf__max_depth': ...</td>\n      <td>0.863552</td>\n      <td>0.809295</td>\n      <td>0.867616</td>\n      <td>0.846821</td>\n      <td>0.026587</td>\n      <td>42</td>\n    </tr>\n    <tr>\n      <th>38</th>\n      <td>0.377999</td>\n      <td>0.039858</td>\n      <td>0.014000</td>\n      <td>5.619580e-07</td>\n      <td>0.4</td>\n      <td>5</td>\n      <td>50</td>\n      <td>{'clf__learning_rate': 0.4, 'clf__max_depth': ...</td>\n      <td>0.866667</td>\n      <td>0.817016</td>\n      <td>0.846552</td>\n      <td>0.843412</td>\n      <td>0.020391</td>\n      <td>44</td>\n    </tr>\n    <tr>\n      <th>41</th>\n      <td>0.398667</td>\n      <td>0.004028</td>\n      <td>0.014333</td>\n      <td>4.713147e-04</td>\n      <td>0.4</td>\n      <td>6</td>\n      <td>50</td>\n      <td>{'clf__learning_rate': 0.4, 'clf__max_depth': ...</td>\n      <td>0.854579</td>\n      <td>0.808583</td>\n      <td>0.843928</td>\n      <td>0.835697</td>\n      <td>0.019659</td>\n      <td>45</td>\n    </tr>\n  </tbody>\n</table>\n</div>"
     },
     "metadata": {},
     "output_type": "display_data"
    },
    {
     "name": "stdout",
     "output_type": "stream",
     "text": [
      "параметры: {'clf__learning_rate': 0.1, 'clf__max_depth': 5, 'clf__n_estimators': 25} \n",
      "roc-auc: 0.8632\n"
     ]
    }
   ],
   "source": [
    "display(pd.DataFrame(xgb_gs.cv_results_).sort_values('rank_test_score'))\n",
    "print(f'параметры: {pd.DataFrame(xgb_gs.cv_results_).sort_values(\"rank_test_score\").head(1)[\"params\"].values[0]}',\n",
    "      f'\\nroc-auc: {pd.DataFrame(xgb_gs.cv_results_).sort_values(\"rank_test_score\").head(1)[\"mean_test_score\"].values[0]:.4f}')"
   ],
   "metadata": {
    "collapsed": false,
    "pycharm": {
     "name": "#%%\n"
    }
   }
  },
  {
   "cell_type": "markdown",
   "source": [],
   "metadata": {
    "collapsed": false,
    "pycharm": {
     "name": "#%% md\n"
    }
   }
  },
  {
   "cell_type": "markdown",
   "source": [
    "Попробуем добавить регуляризацию при помощи early_stopping. Встроить такую конструкцию в ГридСерч не получилось"
   ],
   "metadata": {
    "collapsed": false,
    "pycharm": {
     "name": "#%% md\n"
    }
   }
  },
  {
   "cell_type": "code",
   "execution_count": 60,
   "outputs": [
    {
     "name": "stdout",
     "output_type": "stream",
     "text": [
      "[0]\tvalidation_0-auc:0.86484\tvalidation_1-auc:0.89447\n",
      "[1]\tvalidation_0-auc:0.86484\tvalidation_1-auc:0.89447\n",
      "[2]\tvalidation_0-auc:0.86484\tvalidation_1-auc:0.89447\n",
      "[3]\tvalidation_0-auc:0.86484\tvalidation_1-auc:0.89447\n",
      "[4]\tvalidation_0-auc:0.86701\tvalidation_1-auc:0.89784\n",
      "[5]\tvalidation_0-auc:0.87450\tvalidation_1-auc:0.89568\n",
      "[6]\tvalidation_0-auc:0.87585\tvalidation_1-auc:0.89723\n",
      "[7]\tvalidation_0-auc:0.87585\tvalidation_1-auc:0.89723\n",
      "[8]\tvalidation_0-auc:0.87603\tvalidation_1-auc:0.89177\n",
      "[9]\tvalidation_0-auc:0.87775\tvalidation_1-auc:0.89595\n",
      "[10]\tvalidation_0-auc:0.87642\tvalidation_1-auc:0.89055\n",
      "[11]\tvalidation_0-auc:0.87630\tvalidation_1-auc:0.89069\n",
      "[12]\tvalidation_0-auc:0.87634\tvalidation_1-auc:0.89069\n",
      "[13]\tvalidation_0-auc:0.87834\tvalidation_1-auc:0.89062\n",
      "[14]\tvalidation_0-auc:0.87910\tvalidation_1-auc:0.89143\n",
      "[15]\tvalidation_0-auc:0.87965\tvalidation_1-auc:0.89157\n",
      "[16]\tvalidation_0-auc:0.87990\tvalidation_1-auc:0.89170\n",
      "[17]\tvalidation_0-auc:0.88101\tvalidation_1-auc:0.88880\n",
      "[18]\tvalidation_0-auc:0.88063\tvalidation_1-auc:0.88954\n",
      "[19]\tvalidation_0-auc:0.88360\tvalidation_1-auc:0.88988\n",
      "[20]\tvalidation_0-auc:0.88317\tvalidation_1-auc:0.88961\n",
      "[21]\tvalidation_0-auc:0.88276\tvalidation_1-auc:0.88907\n",
      "[22]\tvalidation_0-auc:0.88630\tvalidation_1-auc:0.89035\n",
      "[23]\tvalidation_0-auc:0.88613\tvalidation_1-auc:0.89062\n",
      "[24]\tvalidation_0-auc:0.88628\tvalidation_1-auc:0.89089\n",
      "[25]\tvalidation_0-auc:0.88670\tvalidation_1-auc:0.89076\n",
      "[26]\tvalidation_0-auc:0.88659\tvalidation_1-auc:0.89062\n",
      "[27]\tvalidation_0-auc:0.88654\tvalidation_1-auc:0.89076\n",
      "[28]\tvalidation_0-auc:0.88719\tvalidation_1-auc:0.89049\n",
      "[29]\tvalidation_0-auc:0.88663\tvalidation_1-auc:0.89062\n",
      "[30]\tvalidation_0-auc:0.88755\tvalidation_1-auc:0.89076\n",
      "[31]\tvalidation_0-auc:0.88758\tvalidation_1-auc:0.89116\n",
      "[32]\tvalidation_0-auc:0.88759\tvalidation_1-auc:0.89062\n",
      "[33]\tvalidation_0-auc:0.88755\tvalidation_1-auc:0.89089\n",
      "[34]\tvalidation_0-auc:0.88762\tvalidation_1-auc:0.89089\n",
      "[35]\tvalidation_0-auc:0.88895\tvalidation_1-auc:0.89103\n",
      "[36]\tvalidation_0-auc:0.89112\tvalidation_1-auc:0.88839\n",
      "[37]\tvalidation_0-auc:0.89165\tvalidation_1-auc:0.88839\n",
      "[38]\tvalidation_0-auc:0.89185\tvalidation_1-auc:0.88974\n",
      "[39]\tvalidation_0-auc:0.89214\tvalidation_1-auc:0.89177\n",
      "[40]\tvalidation_0-auc:0.89270\tvalidation_1-auc:0.89130\n",
      "[41]\tvalidation_0-auc:0.89309\tvalidation_1-auc:0.89157\n",
      "[42]\tvalidation_0-auc:0.89295\tvalidation_1-auc:0.89157\n",
      "[43]\tvalidation_0-auc:0.89402\tvalidation_1-auc:0.89103\n",
      "[44]\tvalidation_0-auc:0.89488\tvalidation_1-auc:0.89109\n",
      "[45]\tvalidation_0-auc:0.89519\tvalidation_1-auc:0.89244\n",
      "[46]\tvalidation_0-auc:0.89543\tvalidation_1-auc:0.89305\n",
      "[47]\tvalidation_0-auc:0.89638\tvalidation_1-auc:0.89426\n",
      "[48]\tvalidation_0-auc:0.89683\tvalidation_1-auc:0.89453\n",
      "[49]\tvalidation_0-auc:0.89734\tvalidation_1-auc:0.89507\n",
      "[50]\tvalidation_0-auc:0.89805\tvalidation_1-auc:0.89480\n",
      "[51]\tvalidation_0-auc:0.89834\tvalidation_1-auc:0.89399\n",
      "[52]\tvalidation_0-auc:0.89821\tvalidation_1-auc:0.89521\n",
      "[53]\tvalidation_0-auc:0.89859\tvalidation_1-auc:0.89332\n",
      "CPU times: total: 1.31 s\n",
      "Wall time: 174 ms\n"
     ]
    }
   ],
   "source": [
    "%%time\n",
    "num_ct = Pipeline(steps=[('imputer', SimpleImputer(strategy='mean')),\n",
    "                         ('scaler', StandardScaler())])\n",
    "\n",
    "cat_ct = Pipeline(steps=[('imputer', SimpleImputer(strategy='most_frequent')),\n",
    "                         ('ohe', OneHotEncoder(drop='first'))])\n",
    "\n",
    "transformer = ColumnTransformer(transformers=[('nums', num_ct, (1, 2, 3, 4, 5, 7)),\n",
    "                                              ('cats', cat_ct, [0, 6])],\n",
    "                                remainder='passthrough')\n",
    "\n",
    "x_train_tr = transformer.fit_transform(x_train)\n",
    "x_test_tr = transformer.fit_transform(x_test)\n",
    "\n",
    "xgb_clf = xgb.XGBClassifier(n_estimators=500,\n",
    "                            max_depth=3,\n",
    "                            eval_metric=\"auc\",\n",
    "                            learning_rate=0.05,\n",
    "                            early_stopping_rounds=50)\n",
    "\n",
    "xgb_clf.fit(x_train_tr, y_train, eval_set=[(x_train_tr, y_train), (x_test_tr, y_test)]);"
   ],
   "metadata": {
    "collapsed": false,
    "pycharm": {
     "name": "#%%\n"
    }
   }
  },
  {
   "cell_type": "code",
   "execution_count": 60,
   "outputs": [],
   "source": [],
   "metadata": {
    "collapsed": false,
    "pycharm": {
     "name": "#%%\n"
    }
   }
  },
  {
   "cell_type": "code",
   "execution_count": 61,
   "outputs": [
    {
     "data": {
      "text/plain": "{'validation_0': OrderedDict([('auc',\n               [0.8648408647661728,\n                0.8648408647661728,\n                0.8648408647661728,\n                0.8648408647661728,\n                0.8670110792978962,\n                0.8745010166396946,\n                0.8758496203161957,\n                0.8758496203161957,\n                0.8760280509564712,\n                0.8777459645628449,\n                0.8764181086352131,\n                0.8763019212415453,\n                0.8763434167392838,\n                0.8783352006307316,\n                0.8790987177891199,\n                0.879646458359268,\n                0.8799037304452467,\n                0.8810075106850906,\n                0.8806340512054442,\n                0.8835968297439728,\n                0.8831735756670401,\n                0.8827586206896552,\n                0.8863023361965227,\n                0.886128055106021,\n                0.8862774388978796,\n                0.8867006929748122,\n                0.8865928046806921,\n                0.886543010083406,\n                0.8871903398481265,\n                0.8866343001784306,\n                0.8875472011286776,\n                0.8875803975268683,\n                0.887588696626416,\n                0.8875472011286776,\n                0.8876218930246068,\n                0.8889455994024649,\n                0.8911158139341882,\n                0.8916469563052409,\n                0.8918544337939334,\n                0.8921449022781028,\n                0.8927009419477987,\n                0.8930909996265405,\n                0.8929499149342296,\n                0.8940204987758829,\n                0.8948794555790697,\n                0.8951948213618822,\n                0.8954313456989916,\n                0.8963774430474294,\n                0.8968255944230051,\n                0.8973401385949624,\n                0.8980455620565169,\n                0.8983360305406863,\n                0.8982115440474708,\n                0.8985850035271173,\n                0.8988007801153575])]),\n 'validation_1': OrderedDict([('auc',\n               [0.8944669365721998,\n                0.8944669365721998,\n                0.8944669365721998,\n                0.8944669365721998,\n                0.8978407557354926,\n                0.8956815114709852,\n                0.8972334682860998,\n                0.8972334682860998,\n                0.8917678812415655,\n                0.8959514170040486,\n                0.8905533063427801,\n                0.8906882591093117,\n                0.8906882591093117,\n                0.8906207827260458,\n                0.8914304993252362,\n                0.8915654520917679,\n                0.8917004048582996,\n                0.8887989203778678,\n                0.8895411605937922,\n                0.8898785425101214,\n                0.889608636977058,\n                0.8890688259109312,\n                0.8903508771929824,\n                0.8906207827260458,\n                0.8908906882591093,\n                0.8907557354925776,\n                0.8906207827260458,\n                0.8907557354925776,\n                0.8904858299595142,\n                0.8906207827260458,\n                0.8907557354925776,\n                0.8911605937921727,\n                0.8906207827260458,\n                0.8908906882591093,\n                0.8908906882591093,\n                0.8910256410256411,\n                0.8883940620782727,\n                0.8883940620782727,\n                0.8897435897435897,\n                0.8917678812415655,\n                0.8912955465587045,\n                0.8915654520917679,\n                0.8915654520917679,\n                0.8910256410256411,\n                0.8910931174089068,\n                0.892442645074224,\n                0.8930499325236168,\n                0.8942645074224022,\n                0.8945344129554655,\n                0.8950742240215924,\n                0.894804318488529,\n                0.8939946018893388,\n                0.8952091767881242,\n                0.8933198380566801,\n                0.893859649122807])])}"
     },
     "execution_count": 61,
     "metadata": {},
     "output_type": "execute_result"
    }
   ],
   "source": [
    "xgb_clf.evals_result_"
   ],
   "metadata": {
    "collapsed": false,
    "pycharm": {
     "name": "#%%\n"
    }
   }
  },
  {
   "cell_type": "markdown",
   "source": [
    "Прикрутим Оптуну"
   ],
   "metadata": {
    "collapsed": false,
    "pycharm": {
     "name": "#%% md\n"
    }
   }
  },
  {
   "cell_type": "code",
   "execution_count": null,
   "outputs": [
    {
     "name": "stderr",
     "output_type": "stream",
     "text": [
      "[I 2023-06-20 13:12:31,179] A new study created in memory with name: no-name-fcfab61a-8144-4574-961b-bf4b8617f21e\n"
     ]
    },
    {
     "name": "stdout",
     "output_type": "stream",
     "text": [
      "[0]\tvalidation-auc:0.84916\n",
      "[0]\tvalidation-auc:0.84186\n",
      "[0]\tvalidation-auc:0.84186\n",
      "[0]\tvalidation-auc:0.83946[0]\tvalidation-auc:0.83946\n",
      "[0]\tvalidation-auc:0.83946\n",
      "[0]\tvalidation-auc:0.84916\n",
      "\n",
      "[0]\tvalidation-auc:0.83986\n",
      "[0]\tvalidation-auc:0.83946\n",
      "[0]\tvalidation-auc:0.83946\n",
      "[1]\tvalidation-auc:0.86645\n",
      "[0]\tvalidation-auc:0.84056\n",
      "[1]\tvalidation-auc:0.83407\n",
      "[1]\tvalidation-auc:0.85966\n",
      "[1]\tvalidation-auc:0.84166[1]\tvalidation-auc:0.87795\n",
      "[1]\tvalidation-auc:0.87485\n",
      "\n",
      "[1]\tvalidation-auc:0.83537\n",
      "[2]\tvalidation-auc:0.86086[0]\tvalidation-auc:0.84916[1]\tvalidation-auc:0.83537\n",
      "\n",
      "\n",
      "[1]\tvalidation-auc:0.85986\n",
      "[2]\tvalidation-auc:0.84986\n",
      "[1]\tvalidation-auc:0.84026\n",
      "[1]\tvalidation-auc:0.83507\n",
      "[2]\tvalidation-auc:0.84346\n",
      "[2]\tvalidation-auc:0.87275\n",
      "[2]\tvalidation-auc:0.86196\n",
      "[2]\tvalidation-auc:0.86325\n",
      "[2]\tvalidation-auc:0.83896\n",
      "[2]\tvalidation-auc:0.84206[3]\tvalidation-auc:0.86445\n",
      "[1]\tvalidation-auc:0.86645\n",
      "\n",
      "[2]\tvalidation-auc:0.86515\n",
      "[3]\tvalidation-auc:0.87535[3]\tvalidation-auc:0.85676\n",
      "\n",
      "[2]\tvalidation-auc:0.83896\n",
      "[2]\tvalidation-auc:0.86076\n",
      "[3]\tvalidation-auc:0.87035\n",
      "[3]\tvalidation-auc:0.85836[2]\tvalidation-auc:0.86086\n",
      "\n",
      "[3]\tvalidation-auc:0.86315\n",
      "[3]\tvalidation-auc:0.84566[3]\tvalidation-auc:0.83677\n",
      "\n",
      "[4]\tvalidation-auc:0.86945\n",
      "[4]\tvalidation-auc:0.85676\n",
      "[3]\tvalidation-auc:0.86136\n",
      "[3]\tvalidation-auc:0.86445\n",
      "[3]\tvalidation-auc:0.86805[4]\tvalidation-auc:0.86196\n",
      "[3]\tvalidation-auc:0.83677\n",
      "\n",
      "[4]\tvalidation-auc:0.86725\n",
      "[4]\tvalidation-auc:0.86475\n",
      "[4]\tvalidation-auc:0.85896\n",
      "[5]\tvalidation-auc:0.86565\n",
      "[5]\tvalidation-auc:0.86305\n",
      "[4]\tvalidation-auc:0.87075\n",
      "[4]\tvalidation-auc:0.86945[4]\tvalidation-auc:0.86206\n",
      "\n",
      "[4]\tvalidation-auc:0.83717\n",
      "[5]\tvalidation-auc:0.86985\n",
      "[6]\tvalidation-auc:0.86845[6]\tvalidation-auc:0.85936\n",
      "[5]\tvalidation-auc:0.86765\n",
      "[5]\tvalidation-auc:0.86036\n",
      "[5]\tvalidation-auc:0.86305\n",
      "\n",
      "[5]\tvalidation-auc:0.85356\n",
      "[4]\tvalidation-auc:0.86575\n",
      "[4]\tvalidation-auc:0.87355\n",
      "[5]\tvalidation-auc:0.85466\n",
      "[5]\tvalidation-auc:0.85146\n",
      "[5]\tvalidation-auc:0.86216\n",
      "[7]\tvalidation-auc:0.85736\n",
      "[7]\tvalidation-auc:0.86825[6]\tvalidation-auc:0.86375\n",
      "\n",
      "[6]\tvalidation-auc:0.86645\n",
      "[6]\tvalidation-auc:0.86845[6]\tvalidation-auc:0.87115\n",
      "\n",
      "[6]\tvalidation-auc:0.86196\n",
      "[5]\tvalidation-auc:0.86206\n",
      "[6]\tvalidation-auc:0.86325\n",
      "[6]\tvalidation-auc:0.86655\n",
      "[8]\tvalidation-auc:0.86395\n",
      "[8]\tvalidation-auc:0.86725\n",
      "[6]\tvalidation-auc:0.86056\n",
      "[5]\tvalidation-auc:0.86945[7]\tvalidation-auc:0.86925\n",
      "\n",
      "[7]\tvalidation-auc:0.86665[7]\tvalidation-auc:0.86825\n",
      "\n",
      "[7]\tvalidation-auc:0.86985\n",
      "[7]\tvalidation-auc:0.87095\n",
      "[9]\tvalidation-auc:0.86156[6]\tvalidation-auc:0.86355\n",
      "[9]\tvalidation-auc:0.86355[7]\tvalidation-auc:0.86595\n",
      "\n",
      "\n",
      "[7]\tvalidation-auc:0.86026\n",
      "[8]\tvalidation-auc:0.87445\n",
      "[7]\tvalidation-auc:0.86645[8]\tvalidation-auc:0.86725\n",
      "[8]\tvalidation-auc:0.86775\n",
      "\n",
      "[6]\tvalidation-auc:0.86236\n",
      "[8]\tvalidation-auc:0.86925\n",
      "[8]\tvalidation-auc:0.87395\n",
      "[10]\tvalidation-auc:0.86615\n",
      "[8]\tvalidation-auc:0.86545\n",
      "[10]\tvalidation-auc:0.86365\n",
      "[7]\tvalidation-auc:0.86365\n",
      "[9]\tvalidation-auc:0.86515\n",
      "[8]\tvalidation-auc:0.86425\n",
      "[9]\tvalidation-auc:0.86156\n",
      "[9]\tvalidation-auc:0.87205\n",
      "[11]\tvalidation-auc:0.85656\n",
      "[8]\tvalidation-auc:0.87095\n",
      "[9]\tvalidation-auc:0.86485\n",
      "[11]\tvalidation-auc:0.86645\n",
      "[9]\tvalidation-auc:0.86745\n",
      "[10]\tvalidation-auc:0.85896[10]\tvalidation-auc:0.86925\n",
      "\n",
      "[8]\tvalidation-auc:0.86365\n",
      "[9]\tvalidation-auc:0.86365[10]\tvalidation-auc:0.87325\n",
      "[7]\tvalidation-auc:0.85316\n",
      "\n",
      "[9]\tvalidation-auc:0.86575\n",
      "[12]\tvalidation-auc:0.85836[10]\tvalidation-auc:0.85896\n",
      "[12]\tvalidation-auc:0.86365\n",
      "\n",
      "[11]\tvalidation-auc:0.87145\n",
      "[11]\tvalidation-auc:0.85966\n",
      "[11]\tvalidation-auc:0.87415\n",
      "[9]\tvalidation-auc:0.86765[10]\tvalidation-auc:0.87025\n",
      "\n",
      "[13]\tvalidation-auc:0.86525\n",
      "[13]\tvalidation-auc:0.86236\n",
      "[9]\tvalidation-auc:0.86675[11]\tvalidation-auc:0.85536\n",
      "\n",
      "[10]\tvalidation-auc:0.86086\n",
      "[12]\tvalidation-auc:0.86226\n",
      "[10]\tvalidation-auc:0.86315\n",
      "[12]\tvalidation-auc:0.87425\n",
      "[8]\tvalidation-auc:0.85166\n",
      "[12]\tvalidation-auc:0.87095\n",
      "[14]\tvalidation-auc:0.86365\n",
      "[11]\tvalidation-auc:0.86845\n",
      "[14]\tvalidation-auc:0.86275\n",
      "[13]\tvalidation-auc:0.86365\n",
      "[10]\tvalidation-auc:0.86395[12]\tvalidation-auc:0.85396\n",
      "\n",
      "[13]\tvalidation-auc:0.87095\n",
      "[15]\tvalidation-auc:0.86385\n",
      "[15]\tvalidation-auc:0.86345\n",
      "[13]\tvalidation-auc:0.87415\n",
      "[11]\tvalidation-auc:0.85686\n",
      "[14]\tvalidation-auc:0.86765\n",
      "[9]\tvalidation-auc:0.86166\n",
      "[10]\tvalidation-auc:0.86695\n",
      "[12]\tvalidation-auc:0.86985[11]\tvalidation-auc:0.86046\n",
      "[13]\tvalidation-auc:0.85506\n",
      "\n",
      "[14]\tvalidation-auc:0.87115\n",
      "[16]\tvalidation-auc:0.86365\n",
      "[14]\tvalidation-auc:0.87895\n",
      "[16]\tvalidation-auc:0.86345\n",
      "[15]\tvalidation-auc:0.86705\n",
      "[14]\tvalidation-auc:0.85486\n",
      "[11]\tvalidation-auc:0.85916[15]\tvalidation-auc:0.87175\n",
      "[13]\tvalidation-auc:0.86705\n",
      "\n",
      "[17]\tvalidation-auc:0.86925\n",
      "[12]\tvalidation-auc:0.85846\n",
      "[10]\tvalidation-auc:0.86645\n",
      "[15]\tvalidation-auc:0.88655\n",
      "[11]\tvalidation-auc:0.86885\n",
      "[17]\tvalidation-auc:0.86615\n",
      "[12]\tvalidation-auc:0.85906\n",
      "[16]\tvalidation-auc:0.87005\n",
      "[15]\tvalidation-auc:0.85506\n",
      "[17]\tvalidation-auc:0.87245\n",
      "[18]\tvalidation-auc:0.86815\n",
      "[16]\tvalidation-auc:0.88325\n",
      "[18]\tvalidation-auc:0.86975\n",
      "[16]\tvalidation-auc:0.87515\n",
      "[14]\tvalidation-auc:0.86705\n",
      "[16]\tvalidation-auc:0.85776\n",
      "[13]\tvalidation-auc:0.86026\n",
      "[17]\tvalidation-auc:0.88804\n",
      "[18]\tvalidation-auc:0.87265\n",
      "[12]\tvalidation-auc:0.86995\n",
      "[13]\tvalidation-auc:0.86226\n",
      "[19]\tvalidation-auc:0.86915\n",
      "[19]\tvalidation-auc:0.87105\n",
      "[12]\tvalidation-auc:0.86126\n",
      "[11]\tvalidation-auc:0.86066\n",
      "[15]\tvalidation-auc:0.87205\n",
      "[17]\tvalidation-auc:0.86695\n",
      "[17]\tvalidation-auc:0.86056\n",
      "[19]\tvalidation-auc:0.87285\n",
      "[18]\tvalidation-auc:0.88784\n",
      "[14]\tvalidation-auc:0.86106\n",
      "[20]\tvalidation-auc:0.87145\n",
      "[13]\tvalidation-auc:0.87035\n",
      "[20]\tvalidation-auc:0.87055\n",
      "[20]\tvalidation-auc:0.87525\n",
      "[19]\tvalidation-auc:0.88635[18]\tvalidation-auc:0.86116\n",
      "\n",
      "[14]\tvalidation-auc:0.86385\n",
      "[18]\tvalidation-auc:0.87335\n",
      "[16]\tvalidation-auc:0.87265\n",
      "[13]\tvalidation-auc:0.86066\n",
      "[12]\tvalidation-auc:0.86385\n",
      "[21]\tvalidation-auc:0.87245[21]\tvalidation-auc:0.87335\n",
      "\n",
      "[15]\tvalidation-auc:0.86475\n",
      "[19]\tvalidation-auc:0.87295\n",
      "[17]\tvalidation-auc:0.87325\n",
      "[14]\tvalidation-auc:0.86975\n",
      "[20]\tvalidation-auc:0.88395\n",
      "[21]\tvalidation-auc:0.87315\n",
      "[19]\tvalidation-auc:0.86435\n",
      "[22]\tvalidation-auc:0.87325\n",
      "[15]\tvalidation-auc:0.86975\n",
      "[22]\tvalidation-auc:0.86975\n",
      "[14]\tvalidation-auc:0.86046[13]\tvalidation-auc:0.86765\n",
      "\n",
      "[22]\tvalidation-auc:0.87075\n",
      "[20]\tvalidation-auc:0.87655\n",
      "[18]\tvalidation-auc:0.87625\n",
      "[23]\tvalidation-auc:0.86995\n",
      "[23]\tvalidation-auc:0.87445\n",
      "[20]\tvalidation-auc:0.86745\n",
      "[21]\tvalidation-auc:0.88315\n",
      "[16]\tvalidation-auc:0.87085\n",
      "[23]\tvalidation-auc:0.87195\n",
      "[15]\tvalidation-auc:0.86575\n",
      "[24]\tvalidation-auc:0.87035[21]\tvalidation-auc:0.87475\n",
      "[15]\tvalidation-auc:0.86685\n",
      "\n",
      "[16]\tvalidation-auc:0.86755\n",
      "[24]\tvalidation-auc:0.87605\n",
      "[19]\tvalidation-auc:0.87765\n",
      "[14]\tvalidation-auc:0.87125\n",
      "[21]\tvalidation-auc:0.86845\n",
      "[24]\tvalidation-auc:0.87315\n",
      "[25]\tvalidation-auc:0.87585\n",
      "[22]\tvalidation-auc:0.87675\n",
      "[22]\tvalidation-auc:0.88425[25]\tvalidation-auc:0.86635\n",
      "\n",
      "[17]\tvalidation-auc:0.87005\n",
      "[20]\tvalidation-auc:0.87805\n",
      "[16]\tvalidation-auc:0.85856\n",
      "[17]\tvalidation-auc:0.87285\n",
      "[26]\tvalidation-auc:0.87455\n",
      "[25]\tvalidation-auc:0.87345\n",
      "[15]\tvalidation-auc:0.86895\n",
      "[22]\tvalidation-auc:0.87345\n",
      "[26]\tvalidation-auc:0.86635[23]\tvalidation-auc:0.87705\n",
      "[23]\tvalidation-auc:0.88475\n",
      "\n",
      "[16]\tvalidation-auc:0.86705\n",
      "[27]\tvalidation-auc:0.86635[21]\tvalidation-auc:0.87705\n",
      "[27]\tvalidation-auc:0.87435\n",
      "\n",
      "[26]\tvalidation-auc:0.87405[24]\tvalidation-auc:0.87485\n",
      "\n",
      "[23]\tvalidation-auc:0.87265\n",
      "[17]\tvalidation-auc:0.85276\n",
      "[18]\tvalidation-auc:0.86655\n",
      "[18]\tvalidation-auc:0.87685\n",
      "[24]\tvalidation-auc:0.88575\n",
      "[28]\tvalidation-auc:0.86595[16]\tvalidation-auc:0.86955\n",
      "\n",
      "[17]\tvalidation-auc:0.87405\n",
      "[28]\tvalidation-auc:0.87495\n",
      "[27]\tvalidation-auc:0.87345\n",
      "[25]\tvalidation-auc:0.87465[25]\tvalidation-auc:0.88715\n",
      "\n",
      "[29]\tvalidation-auc:0.86555\n",
      "[22]\tvalidation-auc:0.87665\n",
      "[24]\tvalidation-auc:0.87465\n",
      "[29]\tvalidation-auc:0.87465\n",
      "[28]\tvalidation-auc:0.87465[19]\tvalidation-auc:0.86475\n",
      "\n",
      "[17]\tvalidation-auc:0.87065\n",
      "[19]\tvalidation-auc:0.87555\n",
      "[18]\tvalidation-auc:0.85236\n",
      "[18]\tvalidation-auc:0.87485\n",
      "[30]\tvalidation-auc:0.86575\n",
      "[26]\tvalidation-auc:0.87285\n",
      "[23]\tvalidation-auc:0.87485[26]\tvalidation-auc:0.88515\n",
      "[25]\tvalidation-auc:0.87325\n",
      "[30]\tvalidation-auc:0.87445\n",
      "[29]\tvalidation-auc:0.87465\n",
      "\n",
      "[31]\tvalidation-auc:0.86455[27]\tvalidation-auc:0.87045\n",
      "\n",
      "[31]\tvalidation-auc:0.87505\n",
      "[27]\tvalidation-auc:0.88754\n",
      "[20]\tvalidation-auc:0.86166\n",
      "[26]\tvalidation-auc:0.87425[18]\tvalidation-auc:0.87145\n",
      "\n",
      "[24]\tvalidation-auc:0.87405[19]\tvalidation-auc:0.87785\n",
      "[32]\tvalidation-auc:0.86575\n",
      "[28]\tvalidation-auc:0.86865\n",
      "[20]\tvalidation-auc:0.87995\n",
      "[32]\tvalidation-auc:0.87605\n",
      "\n",
      "[30]\tvalidation-auc:0.87905\n",
      "[19]\tvalidation-auc:0.85266\n",
      "[28]\tvalidation-auc:0.88934\n",
      "[31]\tvalidation-auc:0.87685\n",
      "[33]\tvalidation-auc:0.87385\n",
      "[33]\tvalidation-auc:0.86635\n",
      "[27]\tvalidation-auc:0.87475[21]\tvalidation-auc:0.85666\n",
      "\n",
      "[29]\tvalidation-auc:0.88934\n",
      "[29]\tvalidation-auc:0.87385\n",
      "[19]\tvalidation-auc:0.87645\n",
      "[25]\tvalidation-auc:0.87665[20]\tvalidation-auc:0.87565\n",
      "\n",
      "[32]\tvalidation-auc:0.87785\n",
      "[34]\tvalidation-auc:0.87485\n",
      "[34]\tvalidation-auc:0.86565\n",
      "[21]\tvalidation-auc:0.87805[20]\tvalidation-auc:0.85336\n",
      "\n",
      "[28]\tvalidation-auc:0.87495\n",
      "[30]\tvalidation-auc:0.89094\n",
      "[30]\tvalidation-auc:0.87405\n",
      "[33]\tvalidation-auc:0.87745\n",
      "[22]\tvalidation-auc:0.85346\n",
      "[35]\tvalidation-auc:0.86565\n",
      "[26]\tvalidation-auc:0.87745\n",
      "[35]\tvalidation-auc:0.87625\n",
      "[20]\tvalidation-auc:0.87525[31]\tvalidation-auc:0.87325\n",
      "\n",
      "[21]\tvalidation-auc:0.87165\n",
      "[31]\tvalidation-auc:0.88994[34]\tvalidation-auc:0.87705\n",
      "[22]\tvalidation-auc:0.87705\n",
      "[29]\tvalidation-auc:0.87635\n",
      "[21]\tvalidation-auc:0.85776\n",
      "\n",
      "[36]\tvalidation-auc:0.86805\n",
      "[36]\tvalidation-auc:0.87645\n",
      "[23]\tvalidation-auc:0.85296\n",
      "[32]\tvalidation-auc:0.88974\n",
      "[27]\tvalidation-auc:0.87825\n",
      "[35]\tvalidation-auc:0.87785\n",
      "[37]\tvalidation-auc:0.86925\n",
      "[32]\tvalidation-auc:0.87385\n",
      "[30]\tvalidation-auc:0.87655\n",
      "[37]\tvalidation-auc:0.87445\n",
      "[22]\tvalidation-auc:0.87305\n",
      "[21]\tvalidation-auc:0.87345[23]\tvalidation-auc:0.87685\n",
      "\n",
      "[38]\tvalidation-auc:0.86945\n",
      "[22]\tvalidation-auc:0.85856\n",
      "[36]\tvalidation-auc:0.88045\n",
      "[33]\tvalidation-auc:0.89144\n",
      "[38]\tvalidation-auc:0.87845[33]\tvalidation-auc:0.87125\n",
      "\n",
      "[31]\tvalidation-auc:0.87775\n",
      "[24]\tvalidation-auc:0.85196\n",
      "[28]\tvalidation-auc:0.87845\n",
      "[37]\tvalidation-auc:0.88045\n",
      "[39]\tvalidation-auc:0.86845\n",
      "[23]\tvalidation-auc:0.87485\n",
      "[34]\tvalidation-auc:0.88824\n",
      "[24]\tvalidation-auc:0.87645\n",
      "[39]\tvalidation-auc:0.87825[40]\tvalidation-auc:0.86765\n",
      "\n",
      "[22]\tvalidation-auc:0.87445\n",
      "[34]\tvalidation-auc:0.87345\n",
      "[23]\tvalidation-auc:0.86136\n",
      "[38]\tvalidation-auc:0.87925\n",
      "[29]\tvalidation-auc:0.87745\n",
      "[35]\tvalidation-auc:0.88804\n",
      "[32]\tvalidation-auc:0.87825\n",
      "[41]\tvalidation-auc:0.86865\n",
      "[40]\tvalidation-auc:0.87765\n",
      "[25]\tvalidation-auc:0.85206\n",
      "[24]\tvalidation-auc:0.87565\n",
      "[25]\tvalidation-auc:0.87665\n",
      "[39]\tvalidation-auc:0.87945\n",
      "[35]\tvalidation-auc:0.87025\n",
      "[36]\tvalidation-auc:0.89024\n",
      "[42]\tvalidation-auc:0.86975\n",
      "[41]\tvalidation-auc:0.87545[33]\tvalidation-auc:0.87745\n",
      "\n",
      "[30]\tvalidation-auc:0.87545\n",
      "[40]\tvalidation-auc:0.87985\n",
      "[23]\tvalidation-auc:0.87545\n",
      "[24]\tvalidation-auc:0.86255\n",
      "[36]\tvalidation-auc:0.86985\n",
      "[43]\tvalidation-auc:0.86915\n",
      "[37]\tvalidation-auc:0.89284\n",
      "[26]\tvalidation-auc:0.87365\n",
      "[26]\tvalidation-auc:0.85106\n",
      "[25]\tvalidation-auc:0.87265\n",
      "[42]\tvalidation-auc:0.87545\n",
      "[41]\tvalidation-auc:0.87965\n",
      "[34]\tvalidation-auc:0.87845\n",
      "[31]\tvalidation-auc:0.87385\n",
      "[37]\tvalidation-auc:0.87005[44]\tvalidation-auc:0.86995\n",
      "\n",
      "[43]\tvalidation-auc:0.87825\n",
      "[42]\tvalidation-auc:0.88045\n",
      "[38]\tvalidation-auc:0.88804\n",
      "[25]\tvalidation-auc:0.86455[35]\tvalidation-auc:0.87925[24]\tvalidation-auc:0.87805\n",
      "\n",
      "\n",
      "[27]\tvalidation-auc:0.87385\n",
      "[27]\tvalidation-auc:0.84986\n",
      "[26]\tvalidation-auc:0.87185[45]\tvalidation-auc:0.86955\n",
      "\n",
      "[44]\tvalidation-auc:0.88065\n",
      "[43]\tvalidation-auc:0.88005\n",
      "[38]\tvalidation-auc:0.86965\n",
      "[32]\tvalidation-auc:0.87205[39]\tvalidation-auc:0.88685\n",
      "\n",
      "[36]\tvalidation-auc:0.87965\n",
      "[44]\tvalidation-auc:0.87945\n",
      "[39]\tvalidation-auc:0.87485\n",
      "[40]\tvalidation-auc:0.88605\n",
      "[45]\tvalidation-auc:0.88185\n",
      "[46]\tvalidation-auc:0.87195\n",
      "[28]\tvalidation-auc:0.87405[26]\tvalidation-auc:0.86555\n",
      "\n",
      "[28]\tvalidation-auc:0.85416\n",
      "[45]\tvalidation-auc:0.87945\n",
      "[25]\tvalidation-auc:0.87825\n",
      "[27]\tvalidation-auc:0.87285[33]\tvalidation-auc:0.87225\n",
      "\n",
      "[37]\tvalidation-auc:0.88055\n",
      "[40]\tvalidation-auc:0.87725\n",
      "[46]\tvalidation-auc:0.88045\n",
      "[47]\tvalidation-auc:0.87275\n",
      "[41]\tvalidation-auc:0.88365\n",
      "[46]\tvalidation-auc:0.88065\n",
      "[29]\tvalidation-auc:0.87465\n",
      "[29]\tvalidation-auc:0.85296[38]\tvalidation-auc:0.87965\n",
      "[48]\tvalidation-auc:0.87135\n",
      "[34]\tvalidation-auc:0.87205\n",
      "[47]\tvalidation-auc:0.88065\n",
      "[41]\tvalidation-auc:0.87785\n",
      "[47]\tvalidation-auc:0.87985[28]\tvalidation-auc:0.87085\n",
      "[42]\tvalidation-auc:0.88405\n",
      "[27]\tvalidation-auc:0.86825\n",
      "\n",
      "\n",
      "[26]\tvalidation-auc:0.87865\n",
      "[49]\tvalidation-auc:0.87295[48]\tvalidation-auc:0.87705\n",
      "[43]\tvalidation-auc:0.88225\n",
      "\n",
      "[30]\tvalidation-auc:0.87105\n",
      "[39]\tvalidation-auc:0.88045\n",
      "[48]\tvalidation-auc:0.87805\n",
      "[35]\tvalidation-auc:0.87465\n",
      "[29]\tvalidation-auc:0.86925\n",
      "[42]\tvalidation-auc:0.87725\n",
      "[44]\tvalidation-auc:0.88265[28]\tvalidation-auc:0.86645\n",
      "[49]\tvalidation-auc:0.87805\n",
      "[30]\tvalidation-auc:0.85616\n",
      "\n",
      "[27]\tvalidation-auc:0.87645\n",
      "[50]\tvalidation-auc:0.87355\n",
      "[36]\tvalidation-auc:0.87385\n",
      "[49]\tvalidation-auc:0.87825\n",
      "[31]\tvalidation-auc:0.87285[43]\tvalidation-auc:0.87565\n",
      "\n",
      "[45]\tvalidation-auc:0.88205\n",
      "[50]\tvalidation-auc:0.87745\n",
      "[30]\tvalidation-auc:0.86945[51]\tvalidation-auc:0.87435\n",
      "\n",
      "[40]\tvalidation-auc:0.88065\n",
      "[31]\tvalidation-auc:0.85816\n",
      "[37]\tvalidation-auc:0.87345[29]\tvalidation-auc:0.86945\n",
      "\n",
      "[28]\tvalidation-auc:0.87625[50]\tvalidation-auc:0.87825\n",
      "\n",
      "[46]\tvalidation-auc:0.88205\n",
      "[32]\tvalidation-auc:0.87285[51]\tvalidation-auc:0.87705\n",
      "[44]\tvalidation-auc:0.87285\n",
      "[52]\tvalidation-auc:0.87295\n",
      "\n",
      "[51]\tvalidation-auc:0.88085\n",
      "[41]\tvalidation-auc:0.88185\n",
      "[31]\tvalidation-auc:0.87265\n",
      "[38]\tvalidation-auc:0.87105\n",
      "[52]\tvalidation-auc:0.87665\n",
      "[47]\tvalidation-auc:0.87985[53]\tvalidation-auc:0.87415\n",
      "\n",
      "[45]\tvalidation-auc:0.87265[29]\tvalidation-auc:0.87905\n",
      "\n",
      "[52]\tvalidation-auc:0.88265\n",
      "[33]\tvalidation-auc:0.87405\n",
      "[30]\tvalidation-auc:0.87435\n",
      "[32]\tvalidation-auc:0.85916\n",
      "[42]\tvalidation-auc:0.88305\n",
      "[53]\tvalidation-auc:0.87605\n",
      "[54]\tvalidation-auc:0.87295\n",
      "[39]\tvalidation-auc:0.87245\n",
      "[48]\tvalidation-auc:0.87785\n",
      "[32]\tvalidation-auc:0.87205\n",
      "[53]\tvalidation-auc:0.88065\n",
      "[46]\tvalidation-auc:0.87165\n",
      "[30]\tvalidation-auc:0.87625\n",
      "[34]\tvalidation-auc:0.87425\n",
      "[55]\tvalidation-auc:0.87355[43]\tvalidation-auc:0.88325\n",
      "\n",
      "[54]\tvalidation-auc:0.88015[54]\tvalidation-auc:0.87645\n",
      "[33]\tvalidation-auc:0.86355\n",
      "\n",
      "[49]\tvalidation-auc:0.87885\n",
      "[31]\tvalidation-auc:0.87835\n",
      "[40]\tvalidation-auc:0.86765\n",
      "[47]\tvalidation-auc:0.87165[33]\tvalidation-auc:0.87265\n",
      "\n",
      "[31]\tvalidation-auc:0.87545\n",
      "[56]\tvalidation-auc:0.87455\n",
      "[55]\tvalidation-auc:0.87625\n",
      "[55]\tvalidation-auc:0.87895[50]\tvalidation-auc:0.87865\n",
      "\n",
      "[44]\tvalidation-auc:0.88165\n",
      "[35]\tvalidation-auc:0.87145\n",
      "[48]\tvalidation-auc:0.87385\n",
      "[41]\tvalidation-auc:0.86985[34]\tvalidation-auc:0.87045\n",
      "[34]\tvalidation-auc:0.87035\n",
      "\n",
      "[32]\tvalidation-auc:0.87615\n",
      "[57]\tvalidation-auc:0.87475\n",
      "[56]\tvalidation-auc:0.87665\n",
      "[51]\tvalidation-auc:0.87965\n",
      "[56]\tvalidation-auc:0.87955\n",
      "[45]\tvalidation-auc:0.88165\n",
      "[49]\tvalidation-auc:0.87145\n",
      "[32]\tvalidation-auc:0.87625[42]\tvalidation-auc:0.86925\n",
      "\n",
      "[36]\tvalidation-auc:0.87225\n",
      "[58]\tvalidation-auc:0.87395\n",
      "[57]\tvalidation-auc:0.87975\n",
      "[35]\tvalidation-auc:0.87465[35]\tvalidation-auc:0.87045\n",
      "\n",
      "[52]\tvalidation-auc:0.88125\n",
      "[50]\tvalidation-auc:0.87305\n",
      "[57]\tvalidation-auc:0.87625[33]\tvalidation-auc:0.87735\n",
      "[46]\tvalidation-auc:0.88145\n",
      "\n",
      "[59]\tvalidation-auc:0.87445\n",
      "[37]\tvalidation-auc:0.87225\n",
      "[58]\tvalidation-auc:0.87815[43]\tvalidation-auc:0.87045\n",
      "\n",
      "[33]\tvalidation-auc:0.87885\n",
      "[53]\tvalidation-auc:0.88305[36]\tvalidation-auc:0.87625\n",
      "\n",
      "[51]\tvalidation-auc:0.87225\n",
      "[36]\tvalidation-auc:0.87145\n",
      "[47]\tvalidation-auc:0.88105\n",
      "[58]\tvalidation-auc:0.87745\n",
      "[60]\tvalidation-auc:0.87525[59]\tvalidation-auc:0.87665\n",
      "[34]\tvalidation-auc:0.87945\n",
      "[44]\tvalidation-auc:0.86865[38]\tvalidation-auc:0.87065\n",
      "\n",
      "\n",
      "[52]\tvalidation-auc:0.87185\n",
      "[54]\tvalidation-auc:0.88305\n",
      "[34]\tvalidation-auc:0.87705\n",
      "[59]\tvalidation-auc:0.87815\n",
      "[60]\tvalidation-auc:0.87665\n",
      "[48]\tvalidation-auc:0.88025\n",
      "[37]\tvalidation-auc:0.87765\n",
      "[61]\tvalidation-auc:0.87475\n",
      "[39]\tvalidation-auc:0.87125\n",
      "[45]\tvalidation-auc:0.86925\n",
      "[37]\tvalidation-auc:0.86945\n",
      "[55]\tvalidation-auc:0.88225\n",
      "[35]\tvalidation-auc:0.87545\n",
      "[60]\tvalidation-auc:0.87795\n",
      "[53]\tvalidation-auc:0.87325\n",
      "[61]\tvalidation-auc:0.87665\n",
      "[35]\tvalidation-auc:0.87625\n",
      "[62]\tvalidation-auc:0.87435\n",
      "[49]\tvalidation-auc:0.88145\n",
      "[56]\tvalidation-auc:0.88365\n",
      "[38]\tvalidation-auc:0.87045\n",
      "[46]\tvalidation-auc:0.86865\n",
      "[61]\tvalidation-auc:0.87915\n",
      "[62]\tvalidation-auc:0.87885\n",
      "[54]\tvalidation-auc:0.87565\n",
      "[40]\tvalidation-auc:0.87265\n",
      "[57]\tvalidation-auc:0.88305\n",
      "[38]\tvalidation-auc:0.88055\n",
      "[50]\tvalidation-auc:0.88065\n",
      "[36]\tvalidation-auc:0.87725[63]\tvalidation-auc:0.87475\n",
      "[36]\tvalidation-auc:0.87385\n",
      "[63]\tvalidation-auc:0.88195\n",
      "\n",
      "[55]\tvalidation-auc:0.87965\n",
      "[62]\tvalidation-auc:0.87775\n",
      "[47]\tvalidation-auc:0.86445\n",
      "[39]\tvalidation-auc:0.86985\n",
      "[58]\tvalidation-auc:0.88485\n",
      "[41]\tvalidation-auc:0.87265\n",
      "[51]\tvalidation-auc:0.88205\n",
      "[64]\tvalidation-auc:0.87475\n",
      "[39]\tvalidation-auc:0.88255\n",
      "[63]\tvalidation-auc:0.87835[64]\tvalidation-auc:0.88035\n",
      "\n",
      "[56]\tvalidation-auc:0.87765\n",
      "[37]\tvalidation-auc:0.87225\n",
      "[59]\tvalidation-auc:0.88345\n",
      "[37]\tvalidation-auc:0.87745\n",
      "[48]\tvalidation-auc:0.86485\n",
      "[65]\tvalidation-auc:0.87415\n",
      "[40]\tvalidation-auc:0.86845\n",
      "[52]\tvalidation-auc:0.88305\n",
      "[42]\tvalidation-auc:0.87005\n",
      "[40]\tvalidation-auc:0.88275[65]\tvalidation-auc:0.88055\n",
      "[64]\tvalidation-auc:0.87835\n",
      "\n",
      "[57]\tvalidation-auc:0.87645\n",
      "[60]\tvalidation-auc:0.88425\n",
      "[38]\tvalidation-auc:0.87185\n",
      "[66]\tvalidation-auc:0.87395\n",
      "[53]\tvalidation-auc:0.88165\n",
      "[65]\tvalidation-auc:0.87955\n",
      "[58]\tvalidation-auc:0.87685\n",
      "[49]\tvalidation-auc:0.86605\n",
      "[38]\tvalidation-auc:0.87805\n",
      "[66]\tvalidation-auc:0.87775[61]\tvalidation-auc:0.88085[43]\tvalidation-auc:0.86865\n",
      "\n",
      "\n",
      "[41]\tvalidation-auc:0.86885\n",
      "[41]\tvalidation-auc:0.88175\n",
      "[54]\tvalidation-auc:0.88245\n",
      "[66]\tvalidation-auc:0.88015\n",
      "[39]\tvalidation-auc:0.86985\n",
      "[59]\tvalidation-auc:0.87805\n",
      "[67]\tvalidation-auc:0.87935\n",
      "[67]\tvalidation-auc:0.87415\n",
      "[62]\tvalidation-auc:0.88165\n",
      "[50]\tvalidation-auc:0.86365\n",
      "[44]\tvalidation-auc:0.86705[39]\tvalidation-auc:0.87805\n",
      "\n",
      "[42]\tvalidation-auc:0.86925\n",
      "[68]\tvalidation-auc:0.87855\n",
      "[68]\tvalidation-auc:0.87375\n",
      "[63]\tvalidation-auc:0.88045[67]\tvalidation-auc:0.88155\n",
      "\n",
      "[51]\tvalidation-auc:0.86405\n",
      "[42]\tvalidation-auc:0.88415\n",
      "[60]\tvalidation-auc:0.87925[55]\tvalidation-auc:0.88445\n",
      "[69]\tvalidation-auc:0.87855\n",
      "\n",
      "[40]\tvalidation-auc:0.86885\n",
      "[45]\tvalidation-auc:0.86725\n",
      "[64]\tvalidation-auc:0.87845[43]\tvalidation-auc:0.86945[68]\tvalidation-auc:0.88215\n",
      "\n",
      "\n",
      "[40]\tvalidation-auc:0.87785\n",
      "[69]\tvalidation-auc:0.87295\n",
      "[56]\tvalidation-auc:0.88325\n",
      "[70]\tvalidation-auc:0.88035\n",
      "[61]\tvalidation-auc:0.87905\n",
      "[52]\tvalidation-auc:0.86565\n",
      "[43]\tvalidation-auc:0.88615\n",
      "[41]\tvalidation-auc:0.86865[46]\tvalidation-auc:0.86825\n",
      "\n",
      "[71]\tvalidation-auc:0.88075\n",
      "[65]\tvalidation-auc:0.87925\n",
      "[69]\tvalidation-auc:0.88035\n",
      "[62]\tvalidation-auc:0.88065[53]\tvalidation-auc:0.86645\n",
      "\n",
      "[57]\tvalidation-auc:0.88185\n",
      "[70]\tvalidation-auc:0.87275\n",
      "[44]\tvalidation-auc:0.87165\n",
      "[41]\tvalidation-auc:0.87845[44]\tvalidation-auc:0.88735\n",
      "\n",
      "[47]\tvalidation-auc:0.86585[72]\tvalidation-auc:0.88035\n",
      "\n",
      "[58]\tvalidation-auc:0.88125[70]\tvalidation-auc:0.88035\n",
      "[71]\tvalidation-auc:0.87335\n",
      "[66]\tvalidation-auc:0.87825[54]\tvalidation-auc:0.86545\n",
      "\n",
      "\n",
      "[42]\tvalidation-auc:0.86725[45]\tvalidation-auc:0.87005\n",
      "\n",
      "[73]\tvalidation-auc:0.88255\n",
      "[63]\tvalidation-auc:0.87845\n",
      "[42]\tvalidation-auc:0.87945\n",
      "[45]\tvalidation-auc:0.88565\n",
      "[48]\tvalidation-auc:0.86285\n",
      "[71]\tvalidation-auc:0.88075\n",
      "[72]\tvalidation-auc:0.87395\n",
      "[67]\tvalidation-auc:0.87685\n",
      "[59]\tvalidation-auc:0.88125\n",
      "[64]\tvalidation-auc:0.87805[55]\tvalidation-auc:0.86445\n",
      "\n",
      "[72]\tvalidation-auc:0.88135\n",
      "[74]\tvalidation-auc:0.88315\n",
      "[49]\tvalidation-auc:0.86365\n",
      "[46]\tvalidation-auc:0.88725\n",
      "[73]\tvalidation-auc:0.87395\n",
      "[68]\tvalidation-auc:0.87645\n",
      "[43]\tvalidation-auc:0.86705\n",
      "[65]\tvalidation-auc:0.87725\n",
      "[43]\tvalidation-auc:0.87965\n",
      "[56]\tvalidation-auc:0.86405\n",
      "[60]\tvalidation-auc:0.88005\n",
      "[46]\tvalidation-auc:0.86945\n",
      "[73]\tvalidation-auc:0.88175\n",
      "[75]\tvalidation-auc:0.88255\n",
      "[74]\tvalidation-auc:0.87435\n",
      "[69]\tvalidation-auc:0.87645\n",
      "[66]\tvalidation-auc:0.87625\n",
      "[76]\tvalidation-auc:0.88235\n",
      "[74]\tvalidation-auc:0.88055\n",
      "[57]\tvalidation-auc:0.86525\n",
      "[75]\tvalidation-auc:0.87435\n",
      "[61]\tvalidation-auc:0.88125\n",
      "[47]\tvalidation-auc:0.88305\n",
      "[44]\tvalidation-auc:0.86645\n",
      "[44]\tvalidation-auc:0.87845\n",
      "[50]\tvalidation-auc:0.86385\n",
      "[47]\tvalidation-auc:0.87025\n",
      "[75]\tvalidation-auc:0.88055\n",
      "[70]\tvalidation-auc:0.87645\n",
      "[77]\tvalidation-auc:0.88255[67]\tvalidation-auc:0.87725\n",
      "\n",
      "[58]\tvalidation-auc:0.86505\n",
      "[62]\tvalidation-auc:0.88035\n",
      "[51]\tvalidation-auc:0.86285\n",
      "[48]\tvalidation-auc:0.88285[76]\tvalidation-auc:0.88015\n",
      "\n",
      "[76]\tvalidation-auc:0.87455\n",
      "[45]\tvalidation-auc:0.87925\n",
      "[71]\tvalidation-auc:0.87665\n",
      "[78]\tvalidation-auc:0.88155\n",
      "[48]\tvalidation-auc:0.87065\n",
      "[59]\tvalidation-auc:0.86425\n",
      "[45]\tvalidation-auc:0.86625\n",
      "[68]\tvalidation-auc:0.87925\n",
      "[63]\tvalidation-auc:0.88055\n",
      "[77]\tvalidation-auc:0.87415\n",
      "[77]\tvalidation-auc:0.88015\n",
      "[52]\tvalidation-auc:0.86365\n",
      "[79]\tvalidation-auc:0.88155\n",
      "[72]\tvalidation-auc:0.87505\n",
      "[69]\tvalidation-auc:0.87905\n",
      "[64]\tvalidation-auc:0.88075\n",
      "[49]\tvalidation-auc:0.88305\n",
      "[46]\tvalidation-auc:0.86485\n",
      "[78]\tvalidation-auc:0.87955\n",
      "[60]\tvalidation-auc:0.86146\n",
      "[49]\tvalidation-auc:0.86885\n",
      "[78]\tvalidation-auc:0.87435\n",
      "[46]\tvalidation-auc:0.88005\n",
      "[80]\tvalidation-auc:0.88015\n",
      "[53]\tvalidation-auc:0.86325\n",
      "[73]\tvalidation-auc:0.87565\n",
      "[70]\tvalidation-auc:0.87845\n",
      "[79]\tvalidation-auc:0.87475\n",
      "[65]\tvalidation-auc:0.88095\n",
      "[79]\tvalidation-auc:0.88015\n",
      "[81]\tvalidation-auc:0.88155\n",
      "[50]\tvalidation-auc:0.86885\n",
      "[61]\tvalidation-auc:0.86186\n",
      "[50]\tvalidation-auc:0.88285\n",
      "[74]\tvalidation-auc:0.87305\n",
      "[71]\tvalidation-auc:0.87685\n",
      "[66]\tvalidation-auc:0.88155\n",
      "[54]\tvalidation-auc:0.86385\n",
      "[47]\tvalidation-auc:0.86625\n",
      "[80]\tvalidation-auc:0.87395\n",
      "[47]\tvalidation-auc:0.87945\n",
      "[80]\tvalidation-auc:0.88015\n",
      "[82]\tvalidation-auc:0.88215\n",
      "[81]\tvalidation-auc:0.87395[75]\tvalidation-auc:0.87165\n",
      "\n",
      "[62]\tvalidation-auc:0.86365\n",
      "[72]\tvalidation-auc:0.87925\n",
      "[51]\tvalidation-auc:0.86865\n",
      "[81]\tvalidation-auc:0.88135\n",
      "[67]\tvalidation-auc:0.88075\n",
      "[83]\tvalidation-auc:0.88135[55]\tvalidation-auc:0.86365\n",
      "[51]\tvalidation-auc:0.88425\n",
      "\n",
      "[48]\tvalidation-auc:0.86865\n",
      "[48]\tvalidation-auc:0.87925\n",
      "[63]\tvalidation-auc:0.86345[76]\tvalidation-auc:0.87465\n",
      "[82]\tvalidation-auc:0.87565\n",
      "\n",
      "[73]\tvalidation-auc:0.87965\n",
      "[84]\tvalidation-auc:0.88135\n",
      "[52]\tvalidation-auc:0.86805\n",
      "[82]\tvalidation-auc:0.88015\n",
      "[68]\tvalidation-auc:0.88115\n",
      "[49]\tvalidation-auc:0.86945\n",
      "[49]\tvalidation-auc:0.87845\n",
      "[83]\tvalidation-auc:0.87705\n",
      "[56]\tvalidation-auc:0.86385[74]\tvalidation-auc:0.87845\n",
      "[83]\tvalidation-auc:0.87975\n",
      "[69]\tvalidation-auc:0.88055\n",
      "[52]\tvalidation-auc:0.88305\n",
      "\n",
      "[85]\tvalidation-auc:0.88215[53]\tvalidation-auc:0.86785\n",
      "\n",
      "[64]\tvalidation-auc:0.86385\n",
      "[77]\tvalidation-auc:0.87465\n",
      "[84]\tvalidation-auc:0.87465\n",
      "[84]\tvalidation-auc:0.87895\n",
      "[86]\tvalidation-auc:0.88015[50]\tvalidation-auc:0.87005\n",
      "[75]\tvalidation-auc:0.87785\n",
      "\n",
      "[78]\tvalidation-auc:0.87405\n",
      "[50]\tvalidation-auc:0.87785\n",
      "[53]\tvalidation-auc:0.88405[85]\tvalidation-auc:0.87605\n",
      "[70]\tvalidation-auc:0.88155\n",
      "\n",
      "[65]\tvalidation-auc:0.86305\n",
      "[57]\tvalidation-auc:0.86385[85]\tvalidation-auc:0.87995\n",
      "\n",
      "[54]\tvalidation-auc:0.86685\n",
      "[76]\tvalidation-auc:0.87625\n",
      "[86]\tvalidation-auc:0.87605\n",
      "[87]\tvalidation-auc:0.88135\n",
      "[79]\tvalidation-auc:0.87505\n",
      "[51]\tvalidation-auc:0.86925\n",
      "[86]\tvalidation-auc:0.87975\n",
      "[77]\tvalidation-auc:0.87665[51]\tvalidation-auc:0.87925\n",
      "\n",
      "[71]\tvalidation-auc:0.88115\n",
      "[87]\tvalidation-auc:0.87545\n",
      "[66]\tvalidation-auc:0.86405\n",
      "[55]\tvalidation-auc:0.86665\n",
      "[54]\tvalidation-auc:0.88345\n",
      "[80]\tvalidation-auc:0.87525\n",
      "[88]\tvalidation-auc:0.88135\n",
      "[58]\tvalidation-auc:0.86206\n",
      "[87]\tvalidation-auc:0.87955\n",
      "[52]\tvalidation-auc:0.86865\n",
      "[78]\tvalidation-auc:0.87405[72]\tvalidation-auc:0.88175\n",
      "[88]\tvalidation-auc:0.87585\n",
      "\n",
      "[67]\tvalidation-auc:0.86146\n",
      "[81]\tvalidation-auc:0.87325[56]\tvalidation-auc:0.86765\n",
      "[55]\tvalidation-auc:0.88205\n",
      "[88]\tvalidation-auc:0.88045\n",
      "\n",
      "[89]\tvalidation-auc:0.88135\n",
      "[52]\tvalidation-auc:0.87865\n",
      "[59]\tvalidation-auc:0.86285\n",
      "[53]\tvalidation-auc:0.86865[73]\tvalidation-auc:0.88075\n",
      "[89]\tvalidation-auc:0.87355\n",
      "\n",
      "[79]\tvalidation-auc:0.87685\n",
      "[68]\tvalidation-auc:0.86206\n",
      "[90]\tvalidation-auc:0.88335\n",
      "[89]\tvalidation-auc:0.88205\n",
      "[57]\tvalidation-auc:0.86705\n",
      "[82]\tvalidation-auc:0.87425\n",
      "[90]\tvalidation-auc:0.87435[80]\tvalidation-auc:0.87505\n",
      "\n",
      "[53]\tvalidation-auc:0.87985\n",
      "[69]\tvalidation-auc:0.86226\n",
      "[60]\tvalidation-auc:0.86345\n",
      "[54]\tvalidation-auc:0.87005\n",
      "[91]\tvalidation-auc:0.88415\n",
      "[74]\tvalidation-auc:0.88155\n",
      "[83]\tvalidation-auc:0.87325\n",
      "[56]\tvalidation-auc:0.88345\n",
      "[90]\tvalidation-auc:0.88265\n",
      "[91]\tvalidation-auc:0.87395\n",
      "[58]\tvalidation-auc:0.86765\n",
      "[81]\tvalidation-auc:0.87265\n",
      "[84]\tvalidation-auc:0.87325[70]\tvalidation-auc:0.86226\n",
      "[92]\tvalidation-auc:0.88415\n",
      "\n",
      "[54]\tvalidation-auc:0.88025\n",
      "[55]\tvalidation-auc:0.86865\n",
      "[61]\tvalidation-auc:0.86325\n",
      "[92]\tvalidation-auc:0.87375\n",
      "[91]\tvalidation-auc:0.88305\n",
      "[75]\tvalidation-auc:0.88235\n",
      "[57]\tvalidation-auc:0.88265\n",
      "[93]\tvalidation-auc:0.88335\n",
      "[59]\tvalidation-auc:0.86725\n",
      "[82]\tvalidation-auc:0.87465\n",
      "[85]\tvalidation-auc:0.87245\n",
      "[71]\tvalidation-auc:0.86226\n",
      "[92]\tvalidation-auc:0.88205[94]\tvalidation-auc:0.88415\n",
      "[93]\tvalidation-auc:0.87475\n",
      "[76]\tvalidation-auc:0.88195\n",
      "\n",
      "[55]\tvalidation-auc:0.87825[86]\tvalidation-auc:0.87345[83]\tvalidation-auc:0.87405\n",
      "[72]\tvalidation-auc:0.86265\n",
      "[62]\tvalidation-auc:0.86545\n",
      "\n",
      "\n",
      "[58]\tvalidation-auc:0.88125\n",
      "[56]\tvalidation-auc:0.87065\n",
      "[60]\tvalidation-auc:0.86805\n",
      "[95]\tvalidation-auc:0.88435[93]\tvalidation-auc:0.88185\n",
      "\n",
      "[94]\tvalidation-auc:0.87575\n",
      "[77]\tvalidation-auc:0.88075\n",
      "[87]\tvalidation-auc:0.87145\n",
      "[73]\tvalidation-auc:0.86325[84]\tvalidation-auc:0.87485\n",
      "[94]\tvalidation-auc:0.88105\n",
      "[56]\tvalidation-auc:0.87725\n",
      "\n",
      "[95]\tvalidation-auc:0.87675\n",
      "[61]\tvalidation-auc:0.86645[96]\tvalidation-auc:0.88435\n",
      "[63]\tvalidation-auc:0.86525\n",
      "[59]\tvalidation-auc:0.88065\n",
      "\n",
      "[57]\tvalidation-auc:0.86945\n",
      "[78]\tvalidation-auc:0.88035\n",
      "[95]\tvalidation-auc:0.88065\n",
      "[85]\tvalidation-auc:0.87525\n",
      "[57]\tvalidation-auc:0.87985\n",
      "[96]\tvalidation-auc:0.87735\n",
      "[97]\tvalidation-auc:0.88495\n",
      "[96]\tvalidation-auc:0.87905\n",
      "[74]\tvalidation-auc:0.86246\n",
      "[86]\tvalidation-auc:0.87245\n",
      "[64]\tvalidation-auc:0.86705\n",
      "[79]\tvalidation-auc:0.88195\n",
      "[62]\tvalidation-auc:0.86565\n",
      "[58]\tvalidation-auc:0.86945\n",
      "[60]\tvalidation-auc:0.88105\n",
      "[58]\tvalidation-auc:0.88005\n",
      "[75]\tvalidation-auc:0.86365\n",
      "[97]\tvalidation-auc:0.87615\n",
      "[97]\tvalidation-auc:0.87825\n",
      "[98]\tvalidation-auc:0.88455\n",
      "[80]\tvalidation-auc:0.88215\n",
      "[59]\tvalidation-auc:0.87065[61]\tvalidation-auc:0.88185\n",
      "[65]\tvalidation-auc:0.86725\n",
      "[63]\tvalidation-auc:0.86645\n",
      "\n",
      "[59]\tvalidation-auc:0.88005\n",
      "[98]\tvalidation-auc:0.87535\n",
      "[98]\tvalidation-auc:0.87745\n",
      "[87]\tvalidation-auc:0.87265\n",
      "[76]\tvalidation-auc:0.86405[99]\tvalidation-auc:0.88415\n",
      "\n",
      "[81]\tvalidation-auc:0.88135\n",
      "[64]\tvalidation-auc:0.86605\n",
      "[62]\tvalidation-auc:0.88085[66]\tvalidation-auc:0.86565[99]\tvalidation-auc:0.87985\n",
      "[88]\tvalidation-auc:0.87025\n",
      "\n",
      "[99]\tvalidation-auc:0.87755\n",
      "[100]\tvalidation-auc:0.88355\n",
      "\n",
      "[0]\tvalidation-auc:0.84186\n",
      "[60]\tvalidation-auc:0.87105\n",
      "[82]\tvalidation-auc:0.88235\n",
      "[77]\tvalidation-auc:0.86285\n",
      "[60]\tvalidation-auc:0.87925\n",
      "[65]\tvalidation-auc:0.86625\n",
      "[100]\tvalidation-auc:0.87965\n",
      "[89]\tvalidation-auc:0.86785\n",
      "[1]\tvalidation-auc:0.86166\n",
      "[101]\tvalidation-auc:0.88335\n",
      "[100]\tvalidation-auc:0.87695\n",
      "[83]\tvalidation-auc:0.88055\n",
      "[63]\tvalidation-auc:0.88165[101]\tvalidation-auc:0.88025[90]\tvalidation-auc:0.86985\n",
      "\n",
      "\n",
      "[61]\tvalidation-auc:0.87165\n",
      "[67]\tvalidation-auc:0.86465\n",
      "[61]\tvalidation-auc:0.87925\n",
      "[2]\tvalidation-auc:0.86755\n",
      "[102]\tvalidation-auc:0.88455\n",
      "[101]\tvalidation-auc:0.87715[66]\tvalidation-auc:0.86565\n",
      "\n",
      "[84]\tvalidation-auc:0.88055\n",
      "[102]\tvalidation-auc:0.88065\n",
      "[64]\tvalidation-auc:0.88145[3]\tvalidation-auc:0.86705\n",
      "[91]\tvalidation-auc:0.86925\n",
      "\n",
      "[85]\tvalidation-auc:0.87915\n",
      "[62]\tvalidation-auc:0.87185\n",
      "[68]\tvalidation-auc:0.86345\n",
      "[103]\tvalidation-auc:0.88415\n",
      "[67]\tvalidation-auc:0.86485\n",
      "[103]\tvalidation-auc:0.88185\n",
      "[62]\tvalidation-auc:0.87625\n",
      "[102]\tvalidation-auc:0.87755\n",
      "[63]\tvalidation-auc:0.87705[103]\tvalidation-auc:0.87815\n",
      "\n",
      "[68]\tvalidation-auc:0.86505[104]\tvalidation-auc:0.88125\n",
      "[104]\tvalidation-auc:0.88535\n",
      "[86]\tvalidation-auc:0.87975\n",
      "[92]\tvalidation-auc:0.86885\n",
      "\n",
      "[63]\tvalidation-auc:0.87065\n",
      "[65]\tvalidation-auc:0.88085\n",
      "[4]\tvalidation-auc:0.87935\n",
      "[104]\tvalidation-auc:0.87755\n",
      "[69]\tvalidation-auc:0.86465\n",
      "[105]\tvalidation-auc:0.88025\n",
      "[105]\tvalidation-auc:0.88575\n",
      "[105]\tvalidation-auc:0.87755\n",
      "[64]\tvalidation-auc:0.87705\n",
      "[87]\tvalidation-auc:0.87915\n",
      "[93]\tvalidation-auc:0.86825\n",
      "[5]\tvalidation-auc:0.87695\n",
      "[64]\tvalidation-auc:0.87185\n",
      "[66]\tvalidation-auc:0.88185\n",
      "[106]\tvalidation-auc:0.88205[106]\tvalidation-auc:0.88615\n",
      "[0]\tvalidation-auc:0.83946\n",
      "\n",
      "[106]\tvalidation-auc:0.87775\n",
      "[65]\tvalidation-auc:0.87725\n",
      "[94]\tvalidation-auc:0.86945[107]\tvalidation-auc:0.88655\n",
      "\n",
      "[88]\tvalidation-auc:0.88055\n",
      "[107]\tvalidation-auc:0.88185\n",
      "[6]\tvalidation-auc:0.87935\n",
      "[107]\tvalidation-auc:0.87795\n",
      "[67]\tvalidation-auc:0.88125\n",
      "[65]\tvalidation-auc:0.87045[1]\tvalidation-auc:0.87485\n",
      "\n",
      "[108]\tvalidation-auc:0.88585\n",
      "[89]\tvalidation-auc:0.87975\n",
      "[108]\tvalidation-auc:0.87855\n",
      "[95]\tvalidation-auc:0.86925\n",
      "[66]\tvalidation-auc:0.87685\n",
      "[108]\tvalidation-auc:0.88125\n",
      "[109]\tvalidation-auc:0.88645\n",
      "[109]\tvalidation-auc:0.87855\n",
      "[68]\tvalidation-auc:0.88125\n",
      "[7]\tvalidation-auc:0.87515\n",
      "[90]\tvalidation-auc:0.87975\n",
      "[109]\tvalidation-auc:0.87965\n",
      "[96]\tvalidation-auc:0.87065\n",
      "[2]\tvalidation-auc:0.87275\n",
      "[67]\tvalidation-auc:0.87645\n",
      "[110]\tvalidation-auc:0.88705\n",
      "[66]\tvalidation-auc:0.86985\n",
      "[110]\tvalidation-auc:0.87945[8]\tvalidation-auc:0.87925\n",
      "\n",
      "[91]\tvalidation-auc:0.87935\n",
      "[69]\tvalidation-auc:0.88185\n",
      "[97]\tvalidation-auc:0.86865\n",
      "[110]\tvalidation-auc:0.88055[3]\tvalidation-auc:0.87035\n",
      "\n",
      "[111]\tvalidation-auc:0.88665\n",
      "[68]\tvalidation-auc:0.87665\n",
      "[67]\tvalidation-auc:0.87005\n",
      "[111]\tvalidation-auc:0.87865\n",
      "[9]\tvalidation-auc:0.87365\n",
      "[98]\tvalidation-auc:0.86945\n",
      "[111]\tvalidation-auc:0.87995\n",
      "[92]\tvalidation-auc:0.88015\n",
      "[112]\tvalidation-auc:0.88645\n",
      "[0]\tvalidation-auc:0.84186[70]\tvalidation-auc:0.88225\n",
      "\n",
      "[4]\tvalidation-auc:0.86475\n",
      "[112]\tvalidation-auc:0.87905\n",
      "[68]\tvalidation-auc:0.87025[99]\tvalidation-auc:0.86785\n",
      "[0]\tvalidation-auc:0.83946\n",
      "[10]\tvalidation-auc:0.87305[69]\tvalidation-auc:0.87645\n",
      "\n",
      "\n",
      "[112]\tvalidation-auc:0.87995\n",
      "[93]\tvalidation-auc:0.88035\n",
      "[113]\tvalidation-auc:0.88625\n",
      "[113]\tvalidation-auc:0.87885\n",
      "[1]\tvalidation-auc:0.85096\n",
      "[100]\tvalidation-auc:0.86885\n",
      "[71]\tvalidation-auc:0.88065\n",
      "[113]\tvalidation-auc:0.87935\n",
      "[11]\tvalidation-auc:0.87295\n",
      "[5]\tvalidation-auc:0.85466\n",
      "[114]\tvalidation-auc:0.88485\n",
      "[114]\tvalidation-auc:0.87845\n",
      "[1]\tvalidation-auc:0.83507\n",
      "[70]\tvalidation-auc:0.87545\n",
      "[2]\tvalidation-auc:0.85836\n",
      "[94]\tvalidation-auc:0.88075\n",
      "[69]\tvalidation-auc:0.87005[114]\tvalidation-auc:0.87935\n",
      "\n",
      "[101]\tvalidation-auc:0.86865\n",
      "[72]\tvalidation-auc:0.88005\n",
      "[12]\tvalidation-auc:0.87305\n",
      "[115]\tvalidation-auc:0.88425[115]\tvalidation-auc:0.87745\n",
      "\n",
      "[6]\tvalidation-auc:0.86325\n",
      "[116]\tvalidation-auc:0.87645[2]\tvalidation-auc:0.87565\n",
      "\n",
      "[3]\tvalidation-auc:0.85826\n",
      "[95]\tvalidation-auc:0.88025\n",
      "[116]\tvalidation-auc:0.88425\n",
      "[115]\tvalidation-auc:0.88115[13]\tvalidation-auc:0.87425[102]\tvalidation-auc:0.86925\n",
      "[71]\tvalidation-auc:0.87645[73]\tvalidation-auc:0.88085\n",
      "\n",
      "\n",
      "\n",
      "[70]\tvalidation-auc:0.86985\n",
      "[7]\tvalidation-auc:0.86645\n",
      "[117]\tvalidation-auc:0.88285\n",
      "[117]\tvalidation-auc:0.87725[96]\tvalidation-auc:0.88065\n",
      "[4]\tvalidation-auc:0.85866\n",
      "\n",
      "[14]\tvalidation-auc:0.87185[116]\tvalidation-auc:0.88115[3]\tvalidation-auc:0.86965\n",
      "[118]\tvalidation-auc:0.88325\n",
      "\n",
      "[103]\tvalidation-auc:0.86765\n",
      "\n",
      "[74]\tvalidation-auc:0.88025\n",
      "[71]\tvalidation-auc:0.86985\n",
      "[72]\tvalidation-auc:0.87705\n",
      "[8]\tvalidation-auc:0.87095\n",
      "[5]\tvalidation-auc:0.86965\n",
      "[118]\tvalidation-auc:0.87745\n",
      "[117]\tvalidation-auc:0.88055[97]\tvalidation-auc:0.87905\n",
      "\n",
      "[119]\tvalidation-auc:0.88325\n",
      "[104]\tvalidation-auc:0.86685\n",
      "[15]\tvalidation-auc:0.87365\n",
      "[72]\tvalidation-auc:0.87085[75]\tvalidation-auc:0.87925\n",
      "\n",
      "[4]\tvalidation-auc:0.86206[119]\tvalidation-auc:0.87625\n",
      "\n",
      "[73]\tvalidation-auc:0.87565\n",
      "[6]\tvalidation-auc:0.86465\n",
      "[118]\tvalidation-auc:0.87995\n",
      "[120]\tvalidation-auc:0.88485\n",
      "[98]\tvalidation-auc:0.88005[16]\tvalidation-auc:0.87615\n",
      "\n",
      "[9]\tvalidation-auc:0.86765\n",
      "[76]\tvalidation-auc:0.87905[120]\tvalidation-auc:0.87665\n",
      "\n",
      "[105]\tvalidation-auc:0.86845\n",
      "[73]\tvalidation-auc:0.87065\n",
      "[119]\tvalidation-auc:0.88055\n",
      "[7]\tvalidation-auc:0.86495[121]\tvalidation-auc:0.88285\n",
      "\n",
      "[5]\tvalidation-auc:0.86146\n",
      "[74]\tvalidation-auc:0.87625\n",
      "[17]\tvalidation-auc:0.87615\n",
      "[99]\tvalidation-auc:0.87925\n",
      "[120]\tvalidation-auc:0.88095\n",
      "[121]\tvalidation-auc:0.87765\n",
      "[122]\tvalidation-auc:0.88365\n",
      "[77]\tvalidation-auc:0.88025\n",
      "[10]\tvalidation-auc:0.86375\n",
      "[106]\tvalidation-auc:0.86685\n",
      "[74]\tvalidation-auc:0.87025\n",
      "[6]\tvalidation-auc:0.87105[122]\tvalidation-auc:0.87805\n",
      "[18]\tvalidation-auc:0.87295\n",
      "[8]\tvalidation-auc:0.87395\n",
      "\n",
      "[100]\tvalidation-auc:0.87905[121]\tvalidation-auc:0.88195\n",
      "\n",
      "[75]\tvalidation-auc:0.87545\n",
      "[107]\tvalidation-auc:0.86585\n",
      "[78]\tvalidation-auc:0.87865\n",
      "[123]\tvalidation-auc:0.88365\n",
      "[19]\tvalidation-auc:0.87535[11]\tvalidation-auc:0.85916\n",
      "\n",
      "[9]\tvalidation-auc:0.87805\n",
      "[101]\tvalidation-auc:0.87925\n",
      "[123]\tvalidation-auc:0.87825\n",
      "[122]\tvalidation-auc:0.88195\n",
      "[75]\tvalidation-auc:0.87085\n",
      "[76]\tvalidation-auc:0.87605\n",
      "[108]\tvalidation-auc:0.86585\n",
      "[124]\tvalidation-auc:0.88365\n",
      "[7]\tvalidation-auc:0.86555\n",
      "[124]\tvalidation-auc:0.87825\n",
      "[102]\tvalidation-auc:0.87845\n",
      "[123]\tvalidation-auc:0.88175\n",
      "[10]\tvalidation-auc:0.87935[20]\tvalidation-auc:0.87135\n",
      "\n",
      "[79]\tvalidation-auc:0.87925\n",
      "[125]\tvalidation-auc:0.87845[76]\tvalidation-auc:0.87105\n",
      "\n",
      "[12]\tvalidation-auc:0.86126\n",
      "[125]\tvalidation-auc:0.88385\n",
      "[77]\tvalidation-auc:0.87485\n",
      "[124]\tvalidation-auc:0.88055[109]\tvalidation-auc:0.86405\n",
      "\n",
      "[8]\tvalidation-auc:0.86405\n",
      "[11]\tvalidation-auc:0.88075\n",
      "[103]\tvalidation-auc:0.87845\n",
      "[126]\tvalidation-auc:0.88465\n",
      "[21]\tvalidation-auc:0.87235[126]\tvalidation-auc:0.87825\n",
      "\n",
      "[125]\tvalidation-auc:0.88055\n",
      "[80]\tvalidation-auc:0.87785\n",
      "[110]\tvalidation-auc:0.86186\n",
      "[78]\tvalidation-auc:0.87565\n",
      "[77]\tvalidation-auc:0.87045\n",
      "[13]\tvalidation-auc:0.86066\n",
      "[127]\tvalidation-auc:0.88565\n",
      "[127]\tvalidation-auc:0.87885\n",
      "[12]\tvalidation-auc:0.87855\n",
      "[104]\tvalidation-auc:0.87785\n",
      "[9]\tvalidation-auc:0.86745\n",
      "[22]\tvalidation-auc:0.87215\n",
      "[126]\tvalidation-auc:0.88095\n",
      "[81]\tvalidation-auc:0.87825\n",
      "[111]\tvalidation-auc:0.86305\n",
      "[128]\tvalidation-auc:0.88605[128]\tvalidation-auc:0.87905\n",
      "\n",
      "[23]\tvalidation-auc:0.86995\n",
      "[13]\tvalidation-auc:0.87625\n",
      "[79]\tvalidation-auc:0.87485[78]\tvalidation-auc:0.86985\n",
      "\n",
      "[14]\tvalidation-auc:0.86046\n",
      "[127]\tvalidation-auc:0.88195[112]\tvalidation-auc:0.86385\n",
      "[10]\tvalidation-auc:0.86415\n",
      "\n",
      "[129]\tvalidation-auc:0.88405\n",
      "[129]\tvalidation-auc:0.87885\n",
      "[14]\tvalidation-auc:0.87995[24]\tvalidation-auc:0.87205\n",
      "\n",
      "[128]\tvalidation-auc:0.88235\n",
      "[130]\tvalidation-auc:0.87845\n",
      "[82]\tvalidation-auc:0.87945\n",
      "[130]\tvalidation-auc:0.88345\n",
      "[15]\tvalidation-auc:0.87915\n",
      "[25]\tvalidation-auc:0.86925[79]\tvalidation-auc:0.86925\n",
      "\n",
      "[80]\tvalidation-auc:0.87425\n",
      "[15]\tvalidation-auc:0.86685\n",
      "[131]\tvalidation-auc:0.87805\n",
      "[11]\tvalidation-auc:0.85926\n",
      "[129]\tvalidation-auc:0.88255\n",
      "[131]\tvalidation-auc:0.88365[83]\tvalidation-auc:0.87905\n",
      "\n",
      "[26]\tvalidation-auc:0.86785[16]\tvalidation-auc:0.88075\n",
      "\n",
      "[132]\tvalidation-auc:0.88545\n",
      "[132]\tvalidation-auc:0.87765\n",
      "[130]\tvalidation-auc:0.88255\n",
      "[81]\tvalidation-auc:0.87485[12]\tvalidation-auc:0.86885[16]\tvalidation-auc:0.86705\n",
      "\n",
      "[84]\tvalidation-auc:0.87925\n",
      "\n",
      "[133]\tvalidation-auc:0.88445\n",
      "[17]\tvalidation-auc:0.87935\n",
      "[133]\tvalidation-auc:0.87785[131]\tvalidation-auc:0.88355\n",
      "\n",
      "[27]\tvalidation-auc:0.87375\n",
      "[17]\tvalidation-auc:0.87405[134]\tvalidation-auc:0.88485\n",
      "[13]\tvalidation-auc:0.86905\n",
      "\n",
      "[82]\tvalidation-auc:0.87445\n",
      "[132]\tvalidation-auc:0.88355[85]\tvalidation-auc:0.87945\n",
      "\n",
      "[18]\tvalidation-auc:0.87865[135]\tvalidation-auc:0.88405\n",
      "[28]\tvalidation-auc:0.87155\n",
      "\n",
      "[134]\tvalidation-auc:0.87765\n",
      "[18]\tvalidation-auc:0.87385\n",
      "[83]\tvalidation-auc:0.87565\n",
      "[14]\tvalidation-auc:0.87265\n",
      "[133]\tvalidation-auc:0.88305\n",
      "[86]\tvalidation-auc:0.87945\n",
      "[0]\tvalidation-auc:0.83946\n",
      "[136]\tvalidation-auc:0.88345\n",
      "[29]\tvalidation-auc:0.86855\n",
      "[0]\tvalidation-auc:0.83946\n",
      "[135]\tvalidation-auc:0.87805\n",
      "[19]\tvalidation-auc:0.87925\n",
      "[134]\tvalidation-auc:0.88285\n",
      "[84]\tvalidation-auc:0.87745[137]\tvalidation-auc:0.88365\n",
      "\n",
      "[19]\tvalidation-auc:0.87265\n",
      "[0]\tvalidation-auc:0.83986\n",
      "[87]\tvalidation-auc:0.87865[136]\tvalidation-auc:0.87725\n",
      "[15]\tvalidation-auc:0.87285\n",
      "\n",
      "[135]\tvalidation-auc:0.88265\n",
      "[1]\tvalidation-auc:0.83537\n",
      "[30]\tvalidation-auc:0.86825\n",
      "[20]\tvalidation-auc:0.88185\n",
      "[138]\tvalidation-auc:0.88565\n",
      "[1]\tvalidation-auc:0.83537\n",
      "[85]\tvalidation-auc:0.87765\n",
      "[137]\tvalidation-auc:0.87725\n",
      "[136]\tvalidation-auc:0.88335\n",
      "[20]\tvalidation-auc:0.87465\n",
      "[21]\tvalidation-auc:0.88145\n",
      "[31]\tvalidation-auc:0.86905\n",
      "[139]\tvalidation-auc:0.88804\n",
      "[88]\tvalidation-auc:0.87885[2]\tvalidation-auc:0.83896\n",
      "[138]\tvalidation-auc:0.87805\n",
      "[16]\tvalidation-auc:0.87665\n",
      "\n",
      "[1]\tvalidation-auc:0.83527\n",
      "[86]\tvalidation-auc:0.87605\n",
      "[2]\tvalidation-auc:0.83896\n",
      "[137]\tvalidation-auc:0.88215\n",
      "[21]\tvalidation-auc:0.87405[32]\tvalidation-auc:0.86765\n",
      "\n",
      "[140]\tvalidation-auc:0.88844\n",
      "[22]\tvalidation-auc:0.87945\n",
      "[139]\tvalidation-auc:0.87845\n",
      "[3]\tvalidation-auc:0.83677\n",
      "[138]\tvalidation-auc:0.88125\n",
      "[87]\tvalidation-auc:0.87705\n",
      "[3]\tvalidation-auc:0.86845\n",
      "[89]\tvalidation-auc:0.87845\n",
      "[140]\tvalidation-auc:0.87885\n",
      "[33]\tvalidation-auc:0.86785[17]\tvalidation-auc:0.87465\n",
      "[22]\tvalidation-auc:0.87385\n",
      "\n",
      "[23]\tvalidation-auc:0.88105\n",
      "[2]\tvalidation-auc:0.84116\n",
      "[141]\tvalidation-auc:0.88844\n",
      "[139]\tvalidation-auc:0.88085[4]\tvalidation-auc:0.86575\n",
      "\n",
      "[88]\tvalidation-auc:0.87605\n",
      "[34]\tvalidation-auc:0.86705[24]\tvalidation-auc:0.88135\n",
      "\n",
      "[4]\tvalidation-auc:0.86785\n",
      "[90]\tvalidation-auc:0.87865\n",
      "[142]\tvalidation-auc:0.88884\n",
      "[140]\tvalidation-auc:0.88175[3]\tvalidation-auc:0.86865\n",
      "\n",
      "[5]\tvalidation-auc:0.86206\n",
      "[23]\tvalidation-auc:0.87385\n",
      "[18]\tvalidation-auc:0.87945\n",
      "[89]\tvalidation-auc:0.87565\n",
      "[141]\tvalidation-auc:0.88135[143]\tvalidation-auc:0.88864\n",
      "\n",
      "[35]\tvalidation-auc:0.87025\n",
      "[5]\tvalidation-auc:0.86535\n",
      "[4]\tvalidation-auc:0.86865\n",
      "[25]\tvalidation-auc:0.88095[24]\tvalidation-auc:0.87685\n",
      "\n",
      "[6]\tvalidation-auc:0.86355\n",
      "[91]\tvalidation-auc:0.87945\n",
      "[142]\tvalidation-auc:0.88035\n",
      "[19]\tvalidation-auc:0.87485\n",
      "[90]\tvalidation-auc:0.87525\n",
      "[144]\tvalidation-auc:0.88864\n",
      "[36]\tvalidation-auc:0.86925\n",
      "[5]\tvalidation-auc:0.86495\n",
      "[20]\tvalidation-auc:0.87445\n",
      "[6]\tvalidation-auc:0.86066\n",
      "[145]\tvalidation-auc:0.88824\n",
      "[25]\tvalidation-auc:0.87565\n",
      "[26]\tvalidation-auc:0.88295[91]\tvalidation-auc:0.87445\n",
      "[92]\tvalidation-auc:0.87925\n",
      "[7]\tvalidation-auc:0.86285\n",
      "[143]\tvalidation-auc:0.88035\n",
      "\n",
      "[37]\tvalidation-auc:0.87185\n",
      "[21]\tvalidation-auc:0.87545[6]\tvalidation-auc:0.85996\n",
      "\n",
      "[146]\tvalidation-auc:0.88725\n",
      "[7]\tvalidation-auc:0.86345\n",
      "[27]\tvalidation-auc:0.88175\n",
      "[26]\tvalidation-auc:0.87245\n",
      "[8]\tvalidation-auc:0.86345\n",
      "[92]\tvalidation-auc:0.87645\n",
      "[144]\tvalidation-auc:0.88015\n",
      "[38]\tvalidation-auc:0.87245\n",
      "[93]\tvalidation-auc:0.87945[147]\tvalidation-auc:0.88824\n",
      "\n",
      "[0]\tvalidation-auc:0.83946\n",
      "[7]\tvalidation-auc:0.85516[28]\tvalidation-auc:0.88215\n",
      "\n",
      "[22]\tvalidation-auc:0.87925\n",
      "[8]\tvalidation-auc:0.85766\n",
      "[39]\tvalidation-auc:0.86985\n",
      "[148]\tvalidation-auc:0.88804\n",
      "[145]\tvalidation-auc:0.87995[9]\tvalidation-auc:0.86455\n",
      "\n",
      "[93]\tvalidation-auc:0.87585\n",
      "[27]\tvalidation-auc:0.87865\n",
      "[29]\tvalidation-auc:0.88275\n",
      "[1]\tvalidation-auc:0.83507\n",
      "[8]\tvalidation-auc:0.85086\n",
      "[23]\tvalidation-auc:0.87485\n",
      "[149]\tvalidation-auc:0.88665[146]\tvalidation-auc:0.87975\n",
      "\n",
      "[40]\tvalidation-auc:0.87125\n",
      "[94]\tvalidation-auc:0.87585\n",
      "[30]\tvalidation-auc:0.88275\n",
      "[9]\tvalidation-auc:0.86405\n",
      "[150]\tvalidation-auc:0.88645\n",
      "[10]\tvalidation-auc:0.86615\n",
      "[28]\tvalidation-auc:0.87985\n",
      "[147]\tvalidation-auc:0.87915\n",
      "[41]\tvalidation-auc:0.87345[2]\tvalidation-auc:0.86076\n",
      "\n",
      "[9]\tvalidation-auc:0.84356\n",
      "[24]\tvalidation-auc:0.87705\n",
      "[31]\tvalidation-auc:0.88055\n",
      "[95]\tvalidation-auc:0.87465[151]\tvalidation-auc:0.88745\n",
      "\n",
      "[148]\tvalidation-auc:0.87915\n",
      "[42]\tvalidation-auc:0.87085\n",
      "[29]\tvalidation-auc:0.87965\n",
      "[11]\tvalidation-auc:0.86785\n",
      "[10]\tvalidation-auc:0.84326\n",
      "[10]\tvalidation-auc:0.86265\n",
      "[152]\tvalidation-auc:0.88784\n",
      "[149]\tvalidation-auc:0.87875\n",
      "[96]\tvalidation-auc:0.87465\n",
      "[32]\tvalidation-auc:0.88095[25]\tvalidation-auc:0.87765\n",
      "[3]\tvalidation-auc:0.86605\n",
      "\n",
      "[43]\tvalidation-auc:0.87005\n",
      "[150]\tvalidation-auc:0.87835[153]\tvalidation-auc:0.88924\n",
      "\n",
      "[33]\tvalidation-auc:0.88015\n",
      "[30]\tvalidation-auc:0.88125\n",
      "[11]\tvalidation-auc:0.84566\n",
      "[12]\tvalidation-auc:0.86465\n",
      "[44]\tvalidation-auc:0.86745\n",
      "[11]\tvalidation-auc:0.86196[151]\tvalidation-auc:0.87815\n",
      "[0]\tvalidation-auc:0.84186\n",
      "\n",
      "[97]\tvalidation-auc:0.87345\n",
      "[154]\tvalidation-auc:0.88864\n",
      "[26]\tvalidation-auc:0.88025\n",
      "[4]\tvalidation-auc:0.87445\n",
      "[155]\tvalidation-auc:0.88725\n",
      "[34]\tvalidation-auc:0.87835\n",
      "[152]\tvalidation-auc:0.87875\n",
      "[1]\tvalidation-auc:0.85096\n",
      "[45]\tvalidation-auc:0.86625\n",
      "[98]\tvalidation-auc:0.87465[31]\tvalidation-auc:0.87945\n",
      "[156]\tvalidation-auc:0.88824\n",
      "[35]\tvalidation-auc:0.87695\n",
      "[5]\tvalidation-auc:0.86935\n",
      "[12]\tvalidation-auc:0.85576\n",
      "[2]\tvalidation-auc:0.85836\n",
      "\n",
      "[27]\tvalidation-auc:0.88005\n",
      "[12]\tvalidation-auc:0.85806\n",
      "[13]\tvalidation-auc:0.86425\n",
      "[46]\tvalidation-auc:0.86745\n",
      "[153]\tvalidation-auc:0.87755\n",
      "[157]\tvalidation-auc:0.88864\n",
      "[3]\tvalidation-auc:0.85826[32]\tvalidation-auc:0.88025\n",
      "\n",
      "[36]\tvalidation-auc:0.87575\n",
      "[47]\tvalidation-auc:0.86585\n",
      "[154]\tvalidation-auc:0.87715\n",
      "[13]\tvalidation-auc:0.85436\n",
      "[13]\tvalidation-auc:0.86116\n",
      "[158]\tvalidation-auc:0.88944\n",
      "[14]\tvalidation-auc:0.85646\n",
      "[6]\tvalidation-auc:0.86106\n",
      "[155]\tvalidation-auc:0.87815\n",
      "[4]\tvalidation-auc:0.85866\n",
      "[99]\tvalidation-auc:0.87425\n",
      "[28]\tvalidation-auc:0.88385\n",
      "[33]\tvalidation-auc:0.88085\n",
      "[48]\tvalidation-auc:0.86845\n",
      "[156]\tvalidation-auc:0.87695\n",
      "[37]\tvalidation-auc:0.87635\n",
      "[159]\tvalidation-auc:0.89004\n",
      "[14]\tvalidation-auc:0.85886\n",
      "[7]\tvalidation-auc:0.86645\n",
      "[157]\tvalidation-auc:0.87695\n",
      "[38]\tvalidation-auc:0.87535\n",
      "[14]\tvalidation-auc:0.85016\n",
      "[15]\tvalidation-auc:0.85506\n",
      "[100]\tvalidation-auc:0.87505\n",
      "[49]\tvalidation-auc:0.86745[160]\tvalidation-auc:0.88864[29]\tvalidation-auc:0.88065\n",
      "[5]\tvalidation-auc:0.86325\n",
      "\n",
      "\n",
      "[34]\tvalidation-auc:0.87925[15]\tvalidation-auc:0.86246\n",
      "\n",
      "[158]\tvalidation-auc:0.87715\n",
      "[39]\tvalidation-auc:0.87075\n",
      "[16]\tvalidation-auc:0.85516\n",
      "[159]\tvalidation-auc:0.87715\n",
      "[15]\tvalidation-auc:0.85306\n",
      "[101]\tvalidation-auc:0.87445\n",
      "[6]\tvalidation-auc:0.86136\n",
      "[40]\tvalidation-auc:0.87095\n",
      "[50]\tvalidation-auc:0.86665\n",
      "[30]\tvalidation-auc:0.88325\n",
      "[35]\tvalidation-auc:0.87745\n",
      "[161]\tvalidation-auc:0.88745\n",
      "[8]\tvalidation-auc:0.86066\n",
      "[16]\tvalidation-auc:0.86565\n",
      "[160]\tvalidation-auc:0.87755\n",
      "[51]\tvalidation-auc:0.86605\n",
      "[17]\tvalidation-auc:0.85116\n",
      "[162]\tvalidation-auc:0.88665\n",
      "[41]\tvalidation-auc:0.87235\n",
      "[7]\tvalidation-auc:0.86365[16]\tvalidation-auc:0.85246\n",
      "\n",
      "[161]\tvalidation-auc:0.87755\n",
      "[36]\tvalidation-auc:0.87765\n",
      "[31]\tvalidation-auc:0.88325\n",
      "[52]\tvalidation-auc:0.86865\n",
      "[9]\tvalidation-auc:0.86236\n",
      "[17]\tvalidation-auc:0.86835\n",
      "[102]\tvalidation-auc:0.87445\n",
      "[18]\tvalidation-auc:0.84946\n",
      "[163]\tvalidation-auc:0.88605\n",
      "[42]\tvalidation-auc:0.87335\n",
      "[162]\tvalidation-auc:0.87795\n",
      "[8]\tvalidation-auc:0.86545\n",
      "[53]\tvalidation-auc:0.86845\n",
      "[37]\tvalidation-auc:0.87825\n",
      "[32]\tvalidation-auc:0.87965\n",
      "[17]\tvalidation-auc:0.85626\n",
      "[163]\tvalidation-auc:0.87795\n",
      "[10]\tvalidation-auc:0.86565\n",
      "[103]\tvalidation-auc:0.87365\n",
      "[43]\tvalidation-auc:0.87335\n",
      "[164]\tvalidation-auc:0.88705\n",
      "[18]\tvalidation-auc:0.87415\n",
      "[19]\tvalidation-auc:0.85166\n",
      "[9]\tvalidation-auc:0.86855\n",
      "[38]\tvalidation-auc:0.87885\n",
      "[165]\tvalidation-auc:0.88725[44]\tvalidation-auc:0.87575\n",
      "\n",
      "[164]\tvalidation-auc:0.87835\n",
      "[33]\tvalidation-auc:0.87985\n",
      "[10]\tvalidation-auc:0.86895[18]\tvalidation-auc:0.85926\n",
      "[19]\tvalidation-auc:0.86945\n",
      "[166]\tvalidation-auc:0.88605\n",
      "\n",
      "[11]\tvalidation-auc:0.87205[165]\tvalidation-auc:0.87755\n",
      "[45]\tvalidation-auc:0.87495\n",
      "\n",
      "[34]\tvalidation-auc:0.88065\n",
      "[20]\tvalidation-auc:0.84916\n",
      "[39]\tvalidation-auc:0.87665\n",
      "[11]\tvalidation-auc:0.86635[167]\tvalidation-auc:0.88625\n",
      "\n",
      "[46]\tvalidation-auc:0.87395\n",
      "[166]\tvalidation-auc:0.87735\n",
      "[20]\tvalidation-auc:0.87355\n",
      "[168]\tvalidation-auc:0.88425\n",
      "[19]\tvalidation-auc:0.86166\n",
      "[35]\tvalidation-auc:0.88085\n",
      "[47]\tvalidation-auc:0.87535\n",
      "[167]\tvalidation-auc:0.87795\n",
      "[40]\tvalidation-auc:0.87765\n",
      "[12]\tvalidation-auc:0.86585\n",
      "[21]\tvalidation-auc:0.84826\n",
      "[12]\tvalidation-auc:0.87285\n",
      "[21]\tvalidation-auc:0.87355\n",
      "[169]\tvalidation-auc:0.88385[48]\tvalidation-auc:0.87535\n",
      "\n",
      "[168]\tvalidation-auc:0.87815\n",
      "[20]\tvalidation-auc:0.86425\n",
      "[36]\tvalidation-auc:0.88185\n",
      "[13]\tvalidation-auc:0.87445\n",
      "[22]\tvalidation-auc:0.85086\n",
      "[22]\tvalidation-auc:0.87235\n",
      "[41]\tvalidation-auc:0.87905\n",
      "[13]\tvalidation-auc:0.86805\n",
      "[170]\tvalidation-auc:0.88525[49]\tvalidation-auc:0.87475\n",
      "\n",
      "[169]\tvalidation-auc:0.87815[37]\tvalidation-auc:0.88045\n",
      "[14]\tvalidation-auc:0.86975\n",
      "[42]\tvalidation-auc:0.87845\n",
      "\n",
      "[14]\tvalidation-auc:0.87155\n",
      "[23]\tvalidation-auc:0.85486\n",
      "[21]\tvalidation-auc:0.86485\n",
      "[23]\tvalidation-auc:0.87235\n",
      "[50]\tvalidation-auc:0.87315\n",
      "[171]\tvalidation-auc:0.88725\n",
      "[0]\tvalidation-auc:0.83946\n",
      "[38]\tvalidation-auc:0.88085\n",
      "[22]\tvalidation-auc:0.86925[15]\tvalidation-auc:0.87415\n",
      "\n",
      "[43]\tvalidation-auc:0.87825\n",
      "[170]\tvalidation-auc:0.87775[24]\tvalidation-auc:0.85646\n",
      "[15]\tvalidation-auc:0.87185\n",
      "\n",
      "[51]\tvalidation-auc:0.87255\n",
      "[172]\tvalidation-auc:0.88665\n",
      "[24]\tvalidation-auc:0.87615[16]\tvalidation-auc:0.86865\n",
      "[171]\tvalidation-auc:0.87755\n",
      "\n",
      "[39]\tvalidation-auc:0.88165\n",
      "[44]\tvalidation-auc:0.87825\n",
      "[52]\tvalidation-auc:0.87055[1]\tvalidation-auc:0.83577\n",
      "\n",
      "[25]\tvalidation-auc:0.86106\n",
      "[23]\tvalidation-auc:0.87295[16]\tvalidation-auc:0.87335\n",
      "\n",
      "[173]\tvalidation-auc:0.88685\n",
      "[0]\tvalidation-auc:0.83986\n",
      "[172]\tvalidation-auc:0.87775\n",
      "[17]\tvalidation-auc:0.87025\n",
      "[40]\tvalidation-auc:0.87925[53]\tvalidation-auc:0.86995\n",
      "\n",
      "[25]\tvalidation-auc:0.87655\n",
      "[2]\tvalidation-auc:0.83717[174]\tvalidation-auc:0.88844\n",
      "[173]\tvalidation-auc:0.87775\n",
      "\n",
      "[45]\tvalidation-auc:0.87925\n",
      "[18]\tvalidation-auc:0.86965\n",
      "[26]\tvalidation-auc:0.86545\n",
      "[17]\tvalidation-auc:0.87325\n",
      "[24]\tvalidation-auc:0.87315\n",
      "[1]\tvalidation-auc:0.83697\n",
      "[175]\tvalidation-auc:0.89004[41]\tvalidation-auc:0.88005\n",
      "[26]\tvalidation-auc:0.87375\n",
      "\n",
      "[174]\tvalidation-auc:0.87775\n",
      "[54]\tvalidation-auc:0.86995\n",
      "[3]\tvalidation-auc:0.83577[46]\tvalidation-auc:0.87805\n",
      "\n",
      "[27]\tvalidation-auc:0.86695\n",
      "[19]\tvalidation-auc:0.86745\n",
      "[176]\tvalidation-auc:0.88824[2]\tvalidation-auc:0.83836\n",
      "\n",
      "[25]\tvalidation-auc:0.87805\n",
      "[175]\tvalidation-auc:0.87915[55]\tvalidation-auc:0.87195\n",
      "[27]\tvalidation-auc:0.86995\n",
      "\n",
      "[18]\tvalidation-auc:0.87685\n",
      "[42]\tvalidation-auc:0.87765\n",
      "[4]\tvalidation-auc:0.83756\n",
      "[177]\tvalidation-auc:0.88884[20]\tvalidation-auc:0.87455\n",
      "[28]\tvalidation-auc:0.86715\n",
      "[47]\tvalidation-auc:0.87925\n",
      "\n",
      "[176]\tvalidation-auc:0.87875\n",
      "[3]\tvalidation-auc:0.83697\n",
      "[56]\tvalidation-auc:0.87095\n",
      "[26]\tvalidation-auc:0.87885\n",
      "[43]\tvalidation-auc:0.87705\n",
      "[28]\tvalidation-auc:0.86915\n",
      "[19]\tvalidation-auc:0.87705[178]\tvalidation-auc:0.88984\n",
      "[21]\tvalidation-auc:0.87595\n",
      "\n",
      "[48]\tvalidation-auc:0.88065\n",
      "[5]\tvalidation-auc:0.83737[57]\tvalidation-auc:0.87115\n",
      "[29]\tvalidation-auc:0.87055\n",
      "[4]\tvalidation-auc:0.83697\n",
      "[29]\tvalidation-auc:0.87115\n",
      "[177]\tvalidation-auc:0.87855\n",
      "\n",
      "[44]\tvalidation-auc:0.87765\n",
      "[27]\tvalidation-auc:0.87525\n",
      "[179]\tvalidation-auc:0.89004\n",
      "[22]\tvalidation-auc:0.87555\n",
      "[178]\tvalidation-auc:0.87895[58]\tvalidation-auc:0.87215\n",
      "\n",
      "[180]\tvalidation-auc:0.88984\n",
      "[49]\tvalidation-auc:0.88045\n",
      "[23]\tvalidation-auc:0.87075\n",
      "[20]\tvalidation-auc:0.87745\n",
      "[5]\tvalidation-auc:0.83677\n",
      "[179]\tvalidation-auc:0.87895\n",
      "[30]\tvalidation-auc:0.86975[6]\tvalidation-auc:0.83737\n",
      "[59]\tvalidation-auc:0.87195\n",
      "\n",
      "[45]\tvalidation-auc:0.87805\n",
      "[28]\tvalidation-auc:0.87385\n",
      "[30]\tvalidation-auc:0.87205[181]\tvalidation-auc:0.89024\n",
      "\n",
      "[24]\tvalidation-auc:0.87345\n",
      "[21]\tvalidation-auc:0.87545\n",
      "[6]\tvalidation-auc:0.83856\n",
      "[180]\tvalidation-auc:0.87895\n",
      "[60]\tvalidation-auc:0.87355[50]\tvalidation-auc:0.88105\n",
      "\n",
      "[182]\tvalidation-auc:0.88864\n",
      "[25]\tvalidation-auc:0.87385\n",
      "[46]\tvalidation-auc:0.87725\n",
      "[31]\tvalidation-auc:0.87305\n",
      "[7]\tvalidation-auc:0.83816\n",
      "[7]\tvalidation-auc:0.83717\n",
      "[31]\tvalidation-auc:0.86715\n",
      "[22]\tvalidation-auc:0.87645\n",
      "[61]\tvalidation-auc:0.87375\n",
      "[29]\tvalidation-auc:0.87545\n",
      "[183]\tvalidation-auc:0.89024\n",
      "[51]\tvalidation-auc:0.88245[26]\tvalidation-auc:0.87405\n",
      "[184]\tvalidation-auc:0.88944\n",
      "\n",
      "[8]\tvalidation-auc:0.83816[62]\tvalidation-auc:0.87415\n",
      "\n",
      "[32]\tvalidation-auc:0.87315\n",
      "[8]\tvalidation-auc:0.83697\n",
      "[47]\tvalidation-auc:0.87405\n",
      "[32]\tvalidation-auc:0.87245\n",
      "[23]\tvalidation-auc:0.88385\n",
      "[27]\tvalidation-auc:0.87145\n",
      "[30]\tvalidation-auc:0.87505\n",
      "[185]\tvalidation-auc:0.88784\n",
      "[52]\tvalidation-auc:0.87985\n",
      "[63]\tvalidation-auc:0.87275\n",
      "[9]\tvalidation-auc:0.83816\n",
      "[33]\tvalidation-auc:0.87305[33]\tvalidation-auc:0.87135\n",
      "\n",
      "[28]\tvalidation-auc:0.87225\n",
      "[9]\tvalidation-auc:0.83796\n",
      "[48]\tvalidation-auc:0.87145[31]\tvalidation-auc:0.87485\n",
      "\n",
      "[24]\tvalidation-auc:0.88125[64]\tvalidation-auc:0.87115\n",
      "\n",
      "[53]\tvalidation-auc:0.87785\n",
      "[186]\tvalidation-auc:0.88984\n",
      "[10]\tvalidation-auc:0.83816\n",
      "[34]\tvalidation-auc:0.87205\n",
      "[65]\tvalidation-auc:0.87175[11]\tvalidation-auc:0.83816\n",
      "[187]\tvalidation-auc:0.88884\n",
      "[25]\tvalidation-auc:0.88245\n",
      "[10]\tvalidation-auc:0.83737\n",
      "\n",
      "[29]\tvalidation-auc:0.87125\n",
      "[32]\tvalidation-auc:0.87365\n",
      "[34]\tvalidation-auc:0.87275\n",
      "[54]\tvalidation-auc:0.87705\n",
      "[49]\tvalidation-auc:0.87065\n",
      "[35]\tvalidation-auc:0.87165\n",
      "[188]\tvalidation-auc:0.88984\n",
      "[11]\tvalidation-auc:0.83697\n",
      "[66]\tvalidation-auc:0.86935\n",
      "[50]\tvalidation-auc:0.87165\n",
      "[35]\tvalidation-auc:0.87175\n",
      "[12]\tvalidation-auc:0.83816\n",
      "[30]\tvalidation-auc:0.86925\n",
      "[189]\tvalidation-auc:0.88924\n",
      "[36]\tvalidation-auc:0.86925\n",
      "[55]\tvalidation-auc:0.87625\n",
      "[33]\tvalidation-auc:0.87365\n",
      "[26]\tvalidation-auc:0.87945\n",
      "[12]\tvalidation-auc:0.85486\n",
      "[190]\tvalidation-auc:0.88844\n",
      "[36]\tvalidation-auc:0.87035\n",
      "[13]\tvalidation-auc:0.83956\n",
      "[67]\tvalidation-auc:0.86935\n",
      "[31]\tvalidation-auc:0.87005\n",
      "[51]\tvalidation-auc:0.87145\n",
      "[37]\tvalidation-auc:0.86985\n",
      "[0]\tvalidation-auc:0.83986[56]\tvalidation-auc:0.87545\n",
      "[27]\tvalidation-auc:0.87905\n",
      "[34]\tvalidation-auc:0.87265\n",
      "\n",
      "[191]\tvalidation-auc:0.88784[13]\tvalidation-auc:0.85196[68]\tvalidation-auc:0.87195\n",
      "[32]\tvalidation-auc:0.87275\n",
      "\n",
      "\n",
      "[14]\tvalidation-auc:0.84016[38]\tvalidation-auc:0.86925\n",
      "[37]\tvalidation-auc:0.87395\n",
      "\n",
      "[52]\tvalidation-auc:0.87225\n",
      "[192]\tvalidation-auc:0.88725[33]\tvalidation-auc:0.87235\n",
      "\n",
      "[69]\tvalidation-auc:0.87155\n",
      "[28]\tvalidation-auc:0.87745\n",
      "[57]\tvalidation-auc:0.87745\n",
      "[35]\tvalidation-auc:0.87325\n",
      "[1]\tvalidation-auc:0.83697\n",
      "[15]\tvalidation-auc:0.84156\n",
      "[14]\tvalidation-auc:0.85236\n",
      "[38]\tvalidation-auc:0.87435\n",
      "[39]\tvalidation-auc:0.86925\n",
      "[193]\tvalidation-auc:0.88685\n",
      "[34]\tvalidation-auc:0.87795\n",
      "[70]\tvalidation-auc:0.87375\n",
      "[53]\tvalidation-auc:0.87525\n",
      "[58]\tvalidation-auc:0.87725\n",
      "[194]\tvalidation-auc:0.88625\n",
      "[2]\tvalidation-auc:0.83836\n",
      "[16]\tvalidation-auc:0.84036\n",
      "[35]\tvalidation-auc:0.87895\n",
      "[29]\tvalidation-auc:0.88105\n",
      "[39]\tvalidation-auc:0.87355\n",
      "[40]\tvalidation-auc:0.86905[54]\tvalidation-auc:0.87425\n",
      "[71]\tvalidation-auc:0.87415\n",
      "[15]\tvalidation-auc:0.85626\n",
      "[36]\tvalidation-auc:0.87265\n",
      "\n",
      "[59]\tvalidation-auc:0.87685\n",
      "[195]\tvalidation-auc:0.88725\n",
      "[36]\tvalidation-auc:0.87895\n",
      "[3]\tvalidation-auc:0.83697[40]\tvalidation-auc:0.87195\n",
      "\n",
      "[17]\tvalidation-auc:0.84096\n",
      "[30]\tvalidation-auc:0.88045\n",
      "[72]\tvalidation-auc:0.87475\n",
      "[41]\tvalidation-auc:0.86885\n",
      "[55]\tvalidation-auc:0.87365[196]\tvalidation-auc:0.88485\n",
      "\n",
      "[16]\tvalidation-auc:0.85746\n",
      "[37]\tvalidation-auc:0.87285\n",
      "[60]\tvalidation-auc:0.87705[37]\tvalidation-auc:0.87735\n",
      "\n",
      "[4]\tvalidation-auc:0.83876\n",
      "[18]\tvalidation-auc:0.84266\n",
      "[31]\tvalidation-auc:0.87985\n",
      "[41]\tvalidation-auc:0.87235\n",
      "[73]\tvalidation-auc:0.87435\n",
      "[197]\tvalidation-auc:0.88784\n",
      "[42]\tvalidation-auc:0.86845\n",
      "[38]\tvalidation-auc:0.87715\n",
      "[17]\tvalidation-auc:0.85696\n",
      "[61]\tvalidation-auc:0.87525[38]\tvalidation-auc:0.87285\n",
      "\n",
      "[74]\tvalidation-auc:0.87415\n",
      "[32]\tvalidation-auc:0.88085\n",
      "[42]\tvalidation-auc:0.87225[5]\tvalidation-auc:0.83856\n",
      "[39]\tvalidation-auc:0.87955\n",
      "\n",
      "[198]\tvalidation-auc:0.88705\n",
      "[19]\tvalidation-auc:0.85766\n",
      "[56]\tvalidation-auc:0.87385\n",
      "[43]\tvalidation-auc:0.86805\n",
      "[39]\tvalidation-auc:0.87145\n",
      "[75]\tvalidation-auc:0.87395[40]\tvalidation-auc:0.87735[199]\tvalidation-auc:0.88665\n",
      "\n",
      "[18]\tvalidation-auc:0.86216\n",
      "[6]\tvalidation-auc:0.83856\n",
      "[62]\tvalidation-auc:0.87665\n",
      "\n",
      "[43]\tvalidation-auc:0.87125\n",
      "[33]\tvalidation-auc:0.88125\n",
      "[57]\tvalidation-auc:0.87445\n",
      "[44]\tvalidation-auc:0.86805\n",
      "[20]\tvalidation-auc:0.85606\n",
      "[40]\tvalidation-auc:0.87205\n",
      "[200]\tvalidation-auc:0.88625\n",
      "[41]\tvalidation-auc:0.87635\n",
      "[7]\tvalidation-auc:0.83876\n",
      "[44]\tvalidation-auc:0.87165[63]\tvalidation-auc:0.87565\n",
      "\n",
      "[21]\tvalidation-auc:0.85546\n",
      "[201]\tvalidation-auc:0.88545\n",
      "[45]\tvalidation-auc:0.86725\n",
      "[42]\tvalidation-auc:0.87895\n",
      "[58]\tvalidation-auc:0.87345\n",
      "[19]\tvalidation-auc:0.86176\n",
      "[34]\tvalidation-auc:0.87985\n",
      "[41]\tvalidation-auc:0.87305\n",
      "[8]\tvalidation-auc:0.83816\n",
      "[64]\tvalidation-auc:0.87365\n",
      "[43]\tvalidation-auc:0.87855\n",
      "[202]\tvalidation-auc:0.88505\n",
      "[46]\tvalidation-auc:0.86685\n",
      "[59]\tvalidation-auc:0.87205\n",
      "[20]\tvalidation-auc:0.86295\n",
      "[35]\tvalidation-auc:0.88305\n",
      "[22]\tvalidation-auc:0.85426\n",
      "[45]\tvalidation-auc:0.87085\n",
      "[9]\tvalidation-auc:0.83996\n",
      "[42]\tvalidation-auc:0.87305\n",
      "[203]\tvalidation-auc:0.88485[44]\tvalidation-auc:0.87835\n",
      "[65]\tvalidation-auc:0.87485\n",
      "\n",
      "[47]\tvalidation-auc:0.86645\n",
      "[23]\tvalidation-auc:0.85406[46]\tvalidation-auc:0.87005\n",
      "[21]\tvalidation-auc:0.86136\n",
      "[36]\tvalidation-auc:0.88145\n",
      "\n",
      "[60]\tvalidation-auc:0.87105\n",
      "[10]\tvalidation-auc:0.84036[43]\tvalidation-auc:0.87005\n",
      "\n",
      "[45]\tvalidation-auc:0.87735\n",
      "[204]\tvalidation-auc:0.88405\n",
      "[48]\tvalidation-auc:0.86845\n",
      "[22]\tvalidation-auc:0.86156[66]\tvalidation-auc:0.87425\n",
      "[47]\tvalidation-auc:0.86965\n",
      "[61]\tvalidation-auc:0.87065\n",
      "\n",
      "[37]\tvalidation-auc:0.88245\n",
      "[24]\tvalidation-auc:0.85786\n",
      "[46]\tvalidation-auc:0.87915[44]\tvalidation-auc:0.87065\n",
      "\n",
      "[11]\tvalidation-auc:0.84156\n",
      "[205]\tvalidation-auc:0.88305\n",
      "[47]\tvalidation-auc:0.87775\n",
      "[48]\tvalidation-auc:0.87025\n",
      "[206]\tvalidation-auc:0.88465\n",
      "[49]\tvalidation-auc:0.86925\n",
      "[25]\tvalidation-auc:0.85736\n",
      "[67]\tvalidation-auc:0.87625\n",
      "[38]\tvalidation-auc:0.88085\n",
      "[45]\tvalidation-auc:0.87245\n",
      "[62]\tvalidation-auc:0.87045\n",
      "[23]\tvalidation-auc:0.86216\n",
      "[12]\tvalidation-auc:0.84366[48]\tvalidation-auc:0.87995\n",
      "\n",
      "[0]\tvalidation-auc:0.83986\n",
      "[207]\tvalidation-auc:0.88485\n",
      "[49]\tvalidation-auc:0.87225\n",
      "[50]\tvalidation-auc:0.86925\n",
      "[26]\tvalidation-auc:0.85636[68]\tvalidation-auc:0.87785\n",
      "[63]\tvalidation-auc:0.86925\n",
      "[39]\tvalidation-auc:0.88085\n",
      "\n",
      "[46]\tvalidation-auc:0.87185\n",
      "[208]\tvalidation-auc:0.88445\n",
      "[50]\tvalidation-auc:0.87165\n",
      "[24]\tvalidation-auc:0.86375\n",
      "[1]\tvalidation-auc:0.83527\n",
      "[13]\tvalidation-auc:0.85796\n",
      "[49]\tvalidation-auc:0.87775\n",
      "[51]\tvalidation-auc:0.86965\n",
      "[209]\tvalidation-auc:0.88405[69]\tvalidation-auc:0.87545\n",
      "[64]\tvalidation-auc:0.86885\n",
      "[40]\tvalidation-auc:0.87785\n",
      "\n",
      "[14]\tvalidation-auc:0.85766\n",
      "[2]\tvalidation-auc:0.84116\n",
      "[51]\tvalidation-auc:0.87285\n",
      "[50]\tvalidation-auc:0.87825\n",
      "[52]\tvalidation-auc:0.87185\n",
      "[25]\tvalidation-auc:0.86236\n",
      "[27]\tvalidation-auc:0.85716[47]\tvalidation-auc:0.87245\n",
      "\n",
      "[210]\tvalidation-auc:0.88465\n",
      "[51]\tvalidation-auc:0.87785\n",
      "[3]\tvalidation-auc:0.86885\n",
      "[65]\tvalidation-auc:0.86965[70]\tvalidation-auc:0.87665\n",
      "[15]\tvalidation-auc:0.85766\n",
      "\n",
      "[41]\tvalidation-auc:0.87625\n",
      "[52]\tvalidation-auc:0.87665\n",
      "[28]\tvalidation-auc:0.85656[26]\tvalidation-auc:0.86176[48]\tvalidation-auc:0.87325\n",
      "[53]\tvalidation-auc:0.87085\n",
      "\n",
      "\n",
      "[52]\tvalidation-auc:0.87165\n",
      "[211]\tvalidation-auc:0.88385\n",
      "[4]\tvalidation-auc:0.86865\n",
      "[53]\tvalidation-auc:0.87685\n",
      "[212]\tvalidation-auc:0.88305[42]\tvalidation-auc:0.87585\n",
      "\n",
      "[29]\tvalidation-auc:0.85696\n",
      "[66]\tvalidation-auc:0.86965\n",
      "[16]\tvalidation-auc:0.85606\n",
      "[53]\tvalidation-auc:0.87145[71]\tvalidation-auc:0.87465\n",
      "[5]\tvalidation-auc:0.86535\n",
      "[54]\tvalidation-auc:0.87545\n",
      "[54]\tvalidation-auc:0.87325\n",
      "[49]\tvalidation-auc:0.87225\n",
      "[27]\tvalidation-auc:0.86415\n",
      "\n",
      "[213]\tvalidation-auc:0.88305\n",
      "[30]\tvalidation-auc:0.85916\n",
      "[43]\tvalidation-auc:0.87365\n",
      "[67]\tvalidation-auc:0.86885[55]\tvalidation-auc:0.87585\n",
      "[214]\tvalidation-auc:0.88345\n",
      "[72]\tvalidation-auc:0.87445\n",
      "\n",
      "[6]\tvalidation-auc:0.85996\n",
      "[54]\tvalidation-auc:0.87225\n",
      "[50]\tvalidation-auc:0.87225\n",
      "[55]\tvalidation-auc:0.87405\n",
      "[31]\tvalidation-auc:0.85956\n",
      "[17]\tvalidation-auc:0.85916[28]\tvalidation-auc:0.86435\n",
      "\n",
      "[44]\tvalidation-auc:0.87525\n",
      "[73]\tvalidation-auc:0.87625[215]\tvalidation-auc:0.88445\n",
      "\n",
      "[68]\tvalidation-auc:0.86905\n",
      "[56]\tvalidation-auc:0.87805\n",
      "[7]\tvalidation-auc:0.85636\n",
      "[55]\tvalidation-auc:0.87345\n",
      "[216]\tvalidation-auc:0.88425[32]\tvalidation-auc:0.85756\n",
      "[56]\tvalidation-auc:0.87565\n",
      "[74]\tvalidation-auc:0.87705\n",
      "[51]\tvalidation-auc:0.87145\n",
      "[18]\tvalidation-auc:0.85756\n",
      "\n",
      "[29]\tvalidation-auc:0.86415[45]\tvalidation-auc:0.87565\n",
      "\n",
      "[57]\tvalidation-auc:0.87965\n",
      "[8]\tvalidation-auc:0.85746\n",
      "[69]\tvalidation-auc:0.87005\n",
      "[56]\tvalidation-auc:0.87385\n",
      "[33]\tvalidation-auc:0.85796\n",
      "[75]\tvalidation-auc:0.87605\n",
      "[217]\tvalidation-auc:0.88425\n",
      "[57]\tvalidation-auc:0.87385\n",
      "[52]\tvalidation-auc:0.87145\n",
      "[58]\tvalidation-auc:0.87985\n",
      "[46]\tvalidation-auc:0.87665[30]\tvalidation-auc:0.86455\n",
      "\n",
      "[9]\tvalidation-auc:0.85086\n",
      "[19]\tvalidation-auc:0.85816\n",
      "[70]\tvalidation-auc:0.87025[57]\tvalidation-auc:0.87265\n",
      "\n",
      "[34]\tvalidation-auc:0.85856\n",
      "[218]\tvalidation-auc:0.88465\n",
      "[59]\tvalidation-auc:0.87925\n",
      "[76]\tvalidation-auc:0.87685\n",
      "[53]\tvalidation-auc:0.87045\n",
      "[58]\tvalidation-auc:0.87385\n",
      "[219]\tvalidation-auc:0.88365\n",
      "[20]\tvalidation-auc:0.85596\n",
      "[58]\tvalidation-auc:0.87185\n",
      "[10]\tvalidation-auc:0.84706\n",
      "[47]\tvalidation-auc:0.87645\n",
      "[31]\tvalidation-auc:0.86395\n",
      "[71]\tvalidation-auc:0.86945\n",
      "[60]\tvalidation-auc:0.87985\n",
      "[35]\tvalidation-auc:0.85716\n",
      "[59]\tvalidation-auc:0.87505[54]\tvalidation-auc:0.86965\n",
      "\n",
      "[77]\tvalidation-auc:0.87605\n",
      "[220]\tvalidation-auc:0.88445\n",
      "[59]\tvalidation-auc:0.86965\n",
      "[61]\tvalidation-auc:0.88085[72]\tvalidation-auc:0.86965\n",
      "\n",
      "[11]\tvalidation-auc:0.84626\n",
      "[48]\tvalidation-auc:0.87525\n",
      "[21]\tvalidation-auc:0.85956\n",
      "[32]\tvalidation-auc:0.86295\n",
      "[60]\tvalidation-auc:0.87505\n",
      "[221]\tvalidation-auc:0.88445\n",
      "[55]\tvalidation-auc:0.86965[78]\tvalidation-auc:0.87605[60]\tvalidation-auc:0.86965\n",
      "\n",
      "\n",
      "[36]\tvalidation-auc:0.85916\n",
      "[62]\tvalidation-auc:0.88025\n",
      "[12]\tvalidation-auc:0.85236[73]\tvalidation-auc:0.86985\n",
      "[22]\tvalidation-auc:0.85716\n",
      "\n",
      "[222]\tvalidation-auc:0.88425\n",
      "[49]\tvalidation-auc:0.87285\n",
      "[33]\tvalidation-auc:0.86196\n",
      "[61]\tvalidation-auc:0.87405\n",
      "[63]\tvalidation-auc:0.88045\n",
      "[56]\tvalidation-auc:0.86785[61]\tvalidation-auc:0.86845\n",
      "\n",
      "[79]\tvalidation-auc:0.87545\n",
      "[37]\tvalidation-auc:0.86076\n",
      "[223]\tvalidation-auc:0.88505\n",
      "[13]\tvalidation-auc:0.85716\n",
      "[64]\tvalidation-auc:0.88065\n",
      "[23]\tvalidation-auc:0.85776[34]\tvalidation-auc:0.86705[50]\tvalidation-auc:0.87285\n",
      "\n",
      "[62]\tvalidation-auc:0.87345\n",
      "[74]\tvalidation-auc:0.86965\n",
      "\n",
      "[224]\tvalidation-auc:0.88365\n",
      "[62]\tvalidation-auc:0.86825\n",
      "[65]\tvalidation-auc:0.87985\n",
      "[14]\tvalidation-auc:0.86186\n",
      "[225]\tvalidation-auc:0.88405\n",
      "[38]\tvalidation-auc:0.85976\n",
      "[80]\tvalidation-auc:0.87605\n",
      "[35]\tvalidation-auc:0.86995\n",
      "[75]\tvalidation-auc:0.86885\n",
      "[57]\tvalidation-auc:0.86625[24]\tvalidation-auc:0.85996\n",
      "\n",
      "[63]\tvalidation-auc:0.87405\n",
      "[63]\tvalidation-auc:0.86985\n",
      "[51]\tvalidation-auc:0.87205\n",
      "[66]\tvalidation-auc:0.87725\n",
      "[226]\tvalidation-auc:0.88445\n",
      "[15]\tvalidation-auc:0.86525\n",
      "[39]\tvalidation-auc:0.85896[81]\tvalidation-auc:0.87525\n",
      "\n",
      "[25]\tvalidation-auc:0.85876[76]\tvalidation-auc:0.87105\n",
      "\n",
      "[36]\tvalidation-auc:0.87005\n",
      "[67]\tvalidation-auc:0.87665\n",
      "[58]\tvalidation-auc:0.86485\n",
      "[64]\tvalidation-auc:0.87085\n",
      "[227]\tvalidation-auc:0.88445\n",
      "[16]\tvalidation-auc:0.86785\n",
      "[40]\tvalidation-auc:0.85936\n",
      "[52]\tvalidation-auc:0.87265\n",
      "[64]\tvalidation-auc:0.87505\n",
      "[82]\tvalidation-auc:0.87565\n",
      "[26]\tvalidation-auc:0.85836[77]\tvalidation-auc:0.87005\n",
      "\n",
      "[68]\tvalidation-auc:0.87685\n",
      "[228]\tvalidation-auc:0.88465\n",
      "[65]\tvalidation-auc:0.87125\n",
      "[59]\tvalidation-auc:0.86365\n",
      "[37]\tvalidation-auc:0.86965[65]\tvalidation-auc:0.87485\n",
      "\n",
      "[83]\tvalidation-auc:0.87445\n",
      "[41]\tvalidation-auc:0.86016\n",
      "[78]\tvalidation-auc:0.87025\n",
      "[27]\tvalidation-auc:0.85996\n",
      "[69]\tvalidation-auc:0.87665\n",
      "[17]\tvalidation-auc:0.86975[53]\tvalidation-auc:0.87245\n",
      "\n",
      "[229]\tvalidation-auc:0.88485\n",
      "[66]\tvalidation-auc:0.87165\n",
      "[60]\tvalidation-auc:0.86665\n",
      "[230]\tvalidation-auc:0.88505[70]\tvalidation-auc:0.87925\n",
      "\n",
      "[84]\tvalidation-auc:0.87545[38]\tvalidation-auc:0.86775\n",
      "[28]\tvalidation-auc:0.86196\n",
      "[67]\tvalidation-auc:0.87185\n",
      "[42]\tvalidation-auc:0.85976\n",
      "\n",
      "[18]\tvalidation-auc:0.87415\n",
      "[66]\tvalidation-auc:0.87485\n",
      "[54]\tvalidation-auc:0.87205\n",
      "[61]\tvalidation-auc:0.86645\n",
      "[67]\tvalidation-auc:0.87545[68]\tvalidation-auc:0.87305\n",
      "\n",
      "[43]\tvalidation-auc:0.86156\n",
      "[55]\tvalidation-auc:0.86985\n",
      "[85]\tvalidation-auc:0.87525\n",
      "[71]\tvalidation-auc:0.87945\n",
      "[29]\tvalidation-auc:0.86036\n",
      "[39]\tvalidation-auc:0.86605\n",
      "[19]\tvalidation-auc:0.87525\n",
      "[72]\tvalidation-auc:0.88105\n",
      "[62]\tvalidation-auc:0.86585[30]\tvalidation-auc:0.86176\n",
      "[86]\tvalidation-auc:0.87505\n",
      "\n",
      "[44]\tvalidation-auc:0.86076[68]\tvalidation-auc:0.87525\n",
      "\n",
      "[69]\tvalidation-auc:0.87285\n",
      "[56]\tvalidation-auc:0.87025\n",
      "[40]\tvalidation-auc:0.86485\n",
      "[63]\tvalidation-auc:0.86685\n",
      "[20]\tvalidation-auc:0.87955\n",
      "[87]\tvalidation-auc:0.87405[31]\tvalidation-auc:0.86076\n",
      "[69]\tvalidation-auc:0.87365\n",
      "\n",
      "[70]\tvalidation-auc:0.87205\n",
      "[41]\tvalidation-auc:0.86315\n",
      "[73]\tvalidation-auc:0.88165\n",
      "[45]\tvalidation-auc:0.86196[57]\tvalidation-auc:0.86985\n",
      "[64]\tvalidation-auc:0.86445\n",
      "\n",
      "[21]\tvalidation-auc:0.87885\n",
      "[32]\tvalidation-auc:0.86046\n",
      "[88]\tvalidation-auc:0.87445\n",
      "[71]\tvalidation-auc:0.87405\n",
      "[70]\tvalidation-auc:0.87305\n",
      "[74]\tvalidation-auc:0.88185\n",
      "[58]\tvalidation-auc:0.86985\n",
      "[46]\tvalidation-auc:0.86156\n",
      "[42]\tvalidation-auc:0.86595\n",
      "[33]\tvalidation-auc:0.86026\n",
      "[89]\tvalidation-auc:0.87485\n",
      "[22]\tvalidation-auc:0.87745\n",
      "[75]\tvalidation-auc:0.88145\n",
      "[72]\tvalidation-auc:0.87165\n",
      "[65]\tvalidation-auc:0.86645\n",
      "[71]\tvalidation-auc:0.87265\n",
      "[47]\tvalidation-auc:0.86056\n",
      "[59]\tvalidation-auc:0.86965\n",
      "[43]\tvalidation-auc:0.86475\n",
      "[60]\tvalidation-auc:0.86945\n",
      "[90]\tvalidation-auc:0.87445[66]\tvalidation-auc:0.86725\n",
      "[23]\tvalidation-auc:0.87645\n",
      "[34]\tvalidation-auc:0.86026\n",
      "[76]\tvalidation-auc:0.88125\n",
      "[0]\tvalidation-auc:0.83986\n",
      "[72]\tvalidation-auc:0.87325\n",
      "\n",
      "[73]\tvalidation-auc:0.87085\n",
      "[48]\tvalidation-auc:0.86106\n",
      "[77]\tvalidation-auc:0.87985[61]\tvalidation-auc:0.86925\n",
      "\n",
      "[67]\tvalidation-auc:0.86725[35]\tvalidation-auc:0.85966\n",
      "\n",
      "[44]\tvalidation-auc:0.86226\n",
      "[73]\tvalidation-auc:0.87305\n",
      "[91]\tvalidation-auc:0.87405\n",
      "[1]\tvalidation-auc:0.83697\n",
      "[49]\tvalidation-auc:0.86106\n",
      "[74]\tvalidation-auc:0.87045[24]\tvalidation-auc:0.87825\n",
      "[78]\tvalidation-auc:0.87885\n",
      "\n",
      "[0]\tvalidation-auc:0.83986\n",
      "[62]\tvalidation-auc:0.86725\n",
      "[74]\tvalidation-auc:0.87305[68]\tvalidation-auc:0.86745\n",
      "[36]\tvalidation-auc:0.85986\n",
      "\n",
      "[92]\tvalidation-auc:0.87345\n",
      "[50]\tvalidation-auc:0.86006\n",
      "[79]\tvalidation-auc:0.87725\n",
      "[2]\tvalidation-auc:0.83836\n",
      "[25]\tvalidation-auc:0.87585\n",
      "[1]\tvalidation-auc:0.83697\n",
      "[63]\tvalidation-auc:0.86805\n",
      "[45]\tvalidation-auc:0.86046\n",
      "[37]\tvalidation-auc:0.86026\n",
      "[93]\tvalidation-auc:0.87405\n",
      "[75]\tvalidation-auc:0.87365\n",
      "[69]\tvalidation-auc:0.86825\n",
      "[80]\tvalidation-auc:0.87845\n",
      "[51]\tvalidation-auc:0.85926[26]\tvalidation-auc:0.87645[3]\tvalidation-auc:0.83697\n",
      "\n",
      "[64]\tvalidation-auc:0.86685\n",
      "[46]\tvalidation-auc:0.86026\n",
      "\n",
      "[2]\tvalidation-auc:0.83836\n",
      "[38]\tvalidation-auc:0.86246\n",
      "[81]\tvalidation-auc:0.87885\n",
      "[94]\tvalidation-auc:0.87345\n",
      "[70]\tvalidation-auc:0.86845\n",
      "[76]\tvalidation-auc:0.87345\n",
      "[52]\tvalidation-auc:0.85906\n",
      "[3]\tvalidation-auc:0.83697\n",
      "[65]\tvalidation-auc:0.86785\n",
      "[82]\tvalidation-auc:0.87905\n",
      "[47]\tvalidation-auc:0.85906\n",
      "[4]\tvalidation-auc:0.83677\n",
      "[27]\tvalidation-auc:0.87555\n",
      "[39]\tvalidation-auc:0.85976\n",
      "[95]\tvalidation-auc:0.87245\n",
      "[71]\tvalidation-auc:0.86905[53]\tvalidation-auc:0.85866\n",
      "[28]\tvalidation-auc:0.87595\n",
      "[83]\tvalidation-auc:0.87925\n",
      "[5]\tvalidation-auc:0.83677\n",
      "[4]\tvalidation-auc:0.83697\n",
      "\n",
      "[48]\tvalidation-auc:0.85686\n",
      "[77]\tvalidation-auc:0.87385\n",
      "[66]\tvalidation-auc:0.86685\n",
      "[40]\tvalidation-auc:0.85996\n",
      "[96]\tvalidation-auc:0.87205\n",
      "[29]\tvalidation-auc:0.87575\n",
      "[84]\tvalidation-auc:0.87825\n",
      "[5]\tvalidation-auc:0.83677\n",
      "[72]\tvalidation-auc:0.86805\n",
      "[49]\tvalidation-auc:0.85566\n",
      "[6]\tvalidation-auc:0.83677[54]\tvalidation-auc:0.86226\n",
      "\n",
      "[78]\tvalidation-auc:0.87365\n",
      "[85]\tvalidation-auc:0.87965\n",
      "[41]\tvalidation-auc:0.86046[30]\tvalidation-auc:0.87575\n",
      "[6]\tvalidation-auc:0.83856\n",
      "[97]\tvalidation-auc:0.87225\n",
      "[67]\tvalidation-auc:0.86805\n",
      "\n",
      "[73]\tvalidation-auc:0.86685\n",
      "[50]\tvalidation-auc:0.85486\n",
      "[79]\tvalidation-auc:0.87505\n",
      "[55]\tvalidation-auc:0.86246\n",
      "[7]\tvalidation-auc:0.83637\n",
      "[86]\tvalidation-auc:0.87905\n",
      "[0]\tvalidation-auc:0.84106\n",
      "[98]\tvalidation-auc:0.87225[68]\tvalidation-auc:0.86965\n",
      "\n",
      "[7]\tvalidation-auc:0.83816\n",
      "[42]\tvalidation-auc:0.86036[87]\tvalidation-auc:0.87825\n",
      "\n",
      "[31]\tvalidation-auc:0.87365\n",
      "[74]\tvalidation-auc:0.86545\n",
      "[80]\tvalidation-auc:0.87505\n",
      "[56]\tvalidation-auc:0.86246\n",
      "[1]\tvalidation-auc:0.84236\n",
      "[51]\tvalidation-auc:0.85286\n",
      "[8]\tvalidation-auc:0.83816\n",
      "[99]\tvalidation-auc:0.87245\n",
      "[69]\tvalidation-auc:0.86965\n",
      "[2]\tvalidation-auc:0.84236\n",
      "[88]\tvalidation-auc:0.87725\n",
      "[9]\tvalidation-auc:0.83816[8]\tvalidation-auc:0.83816\n",
      "[81]\tvalidation-auc:0.87365\n",
      "[43]\tvalidation-auc:0.86096\n",
      "\n",
      "[32]\tvalidation-auc:0.87605\n",
      "[52]\tvalidation-auc:0.85366\n",
      "[57]\tvalidation-auc:0.86365\n",
      "[100]\tvalidation-auc:0.87185\n",
      "[75]\tvalidation-auc:0.86625\n",
      "[89]\tvalidation-auc:0.87765\n",
      "[70]\tvalidation-auc:0.86965\n",
      "[3]\tvalidation-auc:0.84236\n",
      "[10]\tvalidation-auc:0.83816\n",
      "[9]\tvalidation-auc:0.83816\n",
      "[33]\tvalidation-auc:0.87605\n",
      "[82]\tvalidation-auc:0.87265\n",
      "[53]\tvalidation-auc:0.85506\n",
      "[44]\tvalidation-auc:0.86036\n",
      "[90]\tvalidation-auc:0.87745[76]\tvalidation-auc:0.86645[58]\tvalidation-auc:0.86196\n",
      "\n",
      "[4]\tvalidation-auc:0.84456\n",
      "\n",
      "[11]\tvalidation-auc:0.83816\n",
      "[71]\tvalidation-auc:0.86905\n",
      "[34]\tvalidation-auc:0.87645\n",
      "[10]\tvalidation-auc:0.83816\n",
      "[45]\tvalidation-auc:0.85966\n",
      "[54]\tvalidation-auc:0.85436\n",
      "[83]\tvalidation-auc:0.87385\n",
      "[91]\tvalidation-auc:0.87605\n",
      "[59]\tvalidation-auc:0.86206[5]\tvalidation-auc:0.84456\n",
      "\n",
      "[35]\tvalidation-auc:0.87585\n",
      "[12]\tvalidation-auc:0.83816\n",
      "[46]\tvalidation-auc:0.86186[11]\tvalidation-auc:0.83816\n",
      "[72]\tvalidation-auc:0.86905\n",
      "\n",
      "[92]\tvalidation-auc:0.87565[84]\tvalidation-auc:0.87365\n",
      "[55]\tvalidation-auc:0.85366\n",
      "\n",
      "[60]\tvalidation-auc:0.86076\n",
      "[6]\tvalidation-auc:0.84456\n",
      "[36]\tvalidation-auc:0.87785\n",
      "[47]\tvalidation-auc:0.86086\n",
      "[13]\tvalidation-auc:0.83816\n",
      "[12]\tvalidation-auc:0.83816\n",
      "[93]\tvalidation-auc:0.87705\n",
      "[61]\tvalidation-auc:0.86036\n",
      "[56]\tvalidation-auc:0.85246\n",
      "[85]\tvalidation-auc:0.87425\n",
      "[14]\tvalidation-auc:0.83816[7]\tvalidation-auc:0.84456\n",
      "\n",
      "[37]\tvalidation-auc:0.87785\n",
      "[48]\tvalidation-auc:0.86226\n",
      "[94]\tvalidation-auc:0.87785\n",
      "[62]\tvalidation-auc:0.86006[57]\tvalidation-auc:0.85316\n",
      "\n",
      "[13]\tvalidation-auc:0.83956\n",
      "[86]\tvalidation-auc:0.87365\n",
      "[8]\tvalidation-auc:0.84456\n",
      "[38]\tvalidation-auc:0.87925\n",
      "[87]\tvalidation-auc:0.87445\n",
      "[14]\tvalidation-auc:0.84016\n",
      "[95]\tvalidation-auc:0.87705\n",
      "[63]\tvalidation-auc:0.85966[15]\tvalidation-auc:0.83816[49]\tvalidation-auc:0.86206\n",
      "\n",
      "[58]\tvalidation-auc:0.85396\n",
      "\n",
      "[9]\tvalidation-auc:0.84456\n",
      "[96]\tvalidation-auc:0.87645\n",
      "[88]\tvalidation-auc:0.87505\n",
      "[15]\tvalidation-auc:0.84156\n",
      "[50]\tvalidation-auc:0.85946\n",
      "[64]\tvalidation-auc:0.85986\n",
      "[0]\tvalidation-auc:0.84106\n",
      "[16]\tvalidation-auc:0.83816\n",
      "[39]\tvalidation-auc:0.87765\n",
      "[0]\tvalidation-auc:0.84106\n",
      "[97]\tvalidation-auc:0.87685\n",
      "[59]\tvalidation-auc:0.85276\n",
      "[89]\tvalidation-auc:0.87485[10]\tvalidation-auc:0.84456\n",
      "\n",
      "[51]\tvalidation-auc:0.85866\n",
      "[16]\tvalidation-auc:0.84036\n",
      "[65]\tvalidation-auc:0.85886\n",
      "[1]\tvalidation-auc:0.84236[40]\tvalidation-auc:0.87625\n",
      "\n",
      "[1]\tvalidation-auc:0.84236\n",
      "[17]\tvalidation-auc:0.83916\n",
      "[98]\tvalidation-auc:0.87825\n",
      "[52]\tvalidation-auc:0.85506[17]\tvalidation-auc:0.84096[60]\tvalidation-auc:0.85276\n",
      "\n",
      "[11]\tvalidation-auc:0.84626\n",
      "[66]\tvalidation-auc:0.85776\n",
      "[90]\tvalidation-auc:0.87425\n",
      "\n",
      "[0]\tvalidation-auc:0.84106\n",
      "[2]\tvalidation-auc:0.84236[2]\tvalidation-auc:0.84236\n",
      "\n",
      "[41]\tvalidation-auc:0.87565\n",
      "[18]\tvalidation-auc:0.83916\n",
      "[12]\tvalidation-auc:0.84626\n",
      "[99]\tvalidation-auc:0.87725\n",
      "[1]\tvalidation-auc:0.84236[91]\tvalidation-auc:0.87385\n",
      "[53]\tvalidation-auc:0.85606\n",
      "[18]\tvalidation-auc:0.84266\n",
      "[61]\tvalidation-auc:0.85136\n",
      "\n",
      "[67]\tvalidation-auc:0.85846[3]\tvalidation-auc:0.84276\n",
      "\n",
      "[3]\tvalidation-auc:0.84236\n",
      "[100]\tvalidation-auc:0.87685\n",
      "[13]\tvalidation-auc:0.84826\n",
      "[42]\tvalidation-auc:0.87465\n",
      "[19]\tvalidation-auc:0.84036\n",
      "[92]\tvalidation-auc:0.87385\n",
      "[54]\tvalidation-auc:0.85386\n",
      "[2]\tvalidation-auc:0.84236\n",
      "[4]\tvalidation-auc:0.84236[68]\tvalidation-auc:0.85926\n",
      "\n",
      "[19]\tvalidation-auc:0.85766\n",
      "[4]\tvalidation-auc:0.84456[93]\tvalidation-auc:0.87345\n",
      "[20]\tvalidation-auc:0.84036\n",
      "[62]\tvalidation-auc:0.85136\n",
      "\n",
      "[14]\tvalidation-auc:0.86315\n",
      "[55]\tvalidation-auc:0.84946[43]\tvalidation-auc:0.87385[101]\tvalidation-auc:0.87645\n",
      "\n",
      "\n",
      "[5]\tvalidation-auc:0.84276\n",
      "[3]\tvalidation-auc:0.84236[69]\tvalidation-auc:0.85906\n",
      "\n",
      "[5]\tvalidation-auc:0.84456\n",
      "[15]\tvalidation-auc:0.86116[102]\tvalidation-auc:0.87585\n",
      "\n",
      "[21]\tvalidation-auc:0.84036\n",
      "[20]\tvalidation-auc:0.85606\n",
      "[94]\tvalidation-auc:0.87405[63]\tvalidation-auc:0.84956\n",
      "[56]\tvalidation-auc:0.84906\n",
      "[44]\tvalidation-auc:0.87245\n",
      "\n",
      "[70]\tvalidation-auc:0.85846\n",
      "[4]\tvalidation-auc:0.84236\n",
      "[6]\tvalidation-auc:0.84456\n",
      "[6]\tvalidation-auc:0.84456\n",
      "[103]\tvalidation-auc:0.87565\n",
      "[16]\tvalidation-auc:0.85946\n",
      "[22]\tvalidation-auc:0.84156\n",
      "[21]\tvalidation-auc:0.85546[57]\tvalidation-auc:0.84546\n",
      "[7]\tvalidation-auc:0.84456\n",
      "[5]\tvalidation-auc:0.84236\n",
      "[7]\tvalidation-auc:0.84456\n",
      "\n",
      "[64]\tvalidation-auc:0.84976\n",
      "[95]\tvalidation-auc:0.87285[71]\tvalidation-auc:0.85926\n",
      "[45]\tvalidation-auc:0.87285\n",
      "[104]\tvalidation-auc:0.87605\n",
      "\n",
      "[17]\tvalidation-auc:0.86106[23]\tvalidation-auc:0.83976\n",
      "\n",
      "[65]\tvalidation-auc:0.84936[8]\tvalidation-auc:0.84456\n",
      "\n",
      "[58]\tvalidation-auc:0.84846\n",
      "[46]\tvalidation-auc:0.87405\n",
      "[22]\tvalidation-auc:0.85426\n",
      "[96]\tvalidation-auc:0.87205\n",
      "[105]\tvalidation-auc:0.87565\n",
      "[8]\tvalidation-auc:0.84456\n",
      "[24]\tvalidation-auc:0.84266[18]\tvalidation-auc:0.86265\n",
      "[6]\tvalidation-auc:0.84236\n",
      "\n",
      "[72]\tvalidation-auc:0.85926\n",
      "[9]\tvalidation-auc:0.84626\n",
      "[66]\tvalidation-auc:0.84916\n",
      "[106]\tvalidation-auc:0.87585\n",
      "[9]\tvalidation-auc:0.84456[23]\tvalidation-auc:0.85566\n",
      "\n",
      "[59]\tvalidation-auc:0.84686\n",
      "[19]\tvalidation-auc:0.86465\n",
      "[7]\tvalidation-auc:0.84276\n",
      "[97]\tvalidation-auc:0.87165[25]\tvalidation-auc:0.84246\n",
      "[73]\tvalidation-auc:0.85936\n",
      "\n",
      "[47]\tvalidation-auc:0.87425[67]\tvalidation-auc:0.84976\n",
      "[10]\tvalidation-auc:0.84826\n",
      "[107]\tvalidation-auc:0.87585\n",
      "\n",
      "[60]\tvalidation-auc:0.84636\n",
      "[24]\tvalidation-auc:0.85826\n",
      "[20]\tvalidation-auc:0.86525\n",
      "[10]\tvalidation-auc:0.84456\n",
      "[26]\tvalidation-auc:0.85716[74]\tvalidation-auc:0.85676\n",
      "[108]\tvalidation-auc:0.87705\n",
      "[98]\tvalidation-auc:0.87145\n",
      "\n",
      "[8]\tvalidation-auc:0.84456[48]\tvalidation-auc:0.87385\n",
      "[11]\tvalidation-auc:0.84826\n",
      "\n",
      "[68]\tvalidation-auc:0.85016\n",
      "[61]\tvalidation-auc:0.84716\n",
      "[21]\tvalidation-auc:0.86645[11]\tvalidation-auc:0.84456\n",
      "[25]\tvalidation-auc:0.85776\n",
      "\n",
      "[109]\tvalidation-auc:0.87625\n",
      "[99]\tvalidation-auc:0.87285\n",
      "[27]\tvalidation-auc:0.85686[75]\tvalidation-auc:0.85656\n",
      "[12]\tvalidation-auc:0.85596\n",
      "[9]\tvalidation-auc:0.84456\n",
      "\n",
      "[49]\tvalidation-auc:0.87425\n",
      "[110]\tvalidation-auc:0.87665\n",
      "[69]\tvalidation-auc:0.85136\n",
      "[12]\tvalidation-auc:0.84456\n",
      "[62]\tvalidation-auc:0.84756\n",
      "[26]\tvalidation-auc:0.85656\n",
      "[22]\tvalidation-auc:0.86745\n",
      "[100]\tvalidation-auc:0.87225\n",
      "[111]\tvalidation-auc:0.87585[28]\tvalidation-auc:0.85686\n",
      "\n",
      "[13]\tvalidation-auc:0.86156\n",
      "[10]\tvalidation-auc:0.84456\n",
      "[76]\tvalidation-auc:0.85736\n",
      "[50]\tvalidation-auc:0.87345\n",
      "[63]\tvalidation-auc:0.84676\n",
      "[70]\tvalidation-auc:0.85156[27]\tvalidation-auc:0.85716\n",
      "[13]\tvalidation-auc:0.84456\n",
      "\n",
      "[23]\tvalidation-auc:0.86625\n",
      "[101]\tvalidation-auc:0.87325\n",
      "[112]\tvalidation-auc:0.87585\n",
      "[11]\tvalidation-auc:0.84456\n",
      "[51]\tvalidation-auc:0.87525\n",
      "[14]\tvalidation-auc:0.86305\n",
      "[29]\tvalidation-auc:0.85606\n",
      "[77]\tvalidation-auc:0.85776\n",
      "[113]\tvalidation-auc:0.87525\n",
      "[28]\tvalidation-auc:0.85576\n",
      "[14]\tvalidation-auc:0.84456\n",
      "[102]\tvalidation-auc:0.87225\n",
      "[64]\tvalidation-auc:0.84816\n",
      "[12]\tvalidation-auc:0.84456[52]\tvalidation-auc:0.87505\n",
      "[24]\tvalidation-auc:0.86725\n",
      "\n",
      "[30]\tvalidation-auc:0.85826\n",
      "[78]\tvalidation-auc:0.85596\n",
      "[15]\tvalidation-auc:0.86465\n",
      "[71]\tvalidation-auc:0.85476\n",
      "[114]\tvalidation-auc:0.87625\n",
      "[15]\tvalidation-auc:0.84626\n",
      "[29]\tvalidation-auc:0.85776\n",
      "[13]\tvalidation-auc:0.84456\n",
      "[103]\tvalidation-auc:0.87265\n",
      "[65]\tvalidation-auc:0.84836\n",
      "[25]\tvalidation-auc:0.86905[53]\tvalidation-auc:0.87485\n",
      "[79]\tvalidation-auc:0.85596\n",
      "[115]\tvalidation-auc:0.87565\n",
      "[72]\tvalidation-auc:0.85536\n",
      "[31]\tvalidation-auc:0.85546\n",
      "\n",
      "[16]\tvalidation-auc:0.86585[16]\tvalidation-auc:0.84626\n",
      "\n",
      "[104]\tvalidation-auc:0.87325\n",
      "[30]\tvalidation-auc:0.85716\n",
      "[116]\tvalidation-auc:0.87525[14]\tvalidation-auc:0.84456\n",
      "[32]\tvalidation-auc:0.85526\n",
      "\n",
      "[80]\tvalidation-auc:0.85476[66]\tvalidation-auc:0.84896\n",
      "[54]\tvalidation-auc:0.87365\n",
      "[73]\tvalidation-auc:0.85336[26]\tvalidation-auc:0.86805\n",
      "[17]\tvalidation-auc:0.84626\n",
      "\n",
      "[17]\tvalidation-auc:0.86485\n",
      "[105]\tvalidation-auc:0.87285\n",
      "[117]\tvalidation-auc:0.87545\n",
      "[31]\tvalidation-auc:0.85656\n",
      "\n",
      "[67]\tvalidation-auc:0.84916\n",
      "[15]\tvalidation-auc:0.84456\n",
      "[33]\tvalidation-auc:0.85456\n",
      "[55]\tvalidation-auc:0.87305[18]\tvalidation-auc:0.84626\n",
      "\n",
      "[27]\tvalidation-auc:0.86905\n",
      "[106]\tvalidation-auc:0.87405\n",
      "[81]\tvalidation-auc:0.85296\n",
      "[118]\tvalidation-auc:0.87505\n",
      "[18]\tvalidation-auc:0.86665[74]\tvalidation-auc:0.85396\n",
      "\n",
      "[32]\tvalidation-auc:0.85656\n",
      "[34]\tvalidation-auc:0.85596[68]\tvalidation-auc:0.84976\n",
      "[19]\tvalidation-auc:0.86166\n",
      "[56]\tvalidation-auc:0.87285\n",
      "\n",
      "[16]\tvalidation-auc:0.84456\n",
      "[28]\tvalidation-auc:0.86805\n",
      "[119]\tvalidation-auc:0.87465\n",
      "[19]\tvalidation-auc:0.86665\n",
      "[82]\tvalidation-auc:0.85096\n",
      "[33]\tvalidation-auc:0.85816\n",
      "[35]\tvalidation-auc:0.85636[57]\tvalidation-auc:0.87385[17]\tvalidation-auc:0.84456\n",
      "\n",
      "\n",
      "[75]\tvalidation-auc:0.85476\n",
      "[20]\tvalidation-auc:0.86116\n",
      "[69]\tvalidation-auc:0.84976\n",
      "[120]\tvalidation-auc:0.87405\n",
      "[29]\tvalidation-auc:0.86765\n",
      "[20]\tvalidation-auc:0.86925\n",
      "[34]\tvalidation-auc:0.85736\n",
      "[83]\tvalidation-auc:0.84996\n",
      "[121]\tvalidation-auc:0.87425\n",
      "[58]\tvalidation-auc:0.87305\n",
      "[18]\tvalidation-auc:0.84456\n",
      "[30]\tvalidation-auc:0.86795\n",
      "[21]\tvalidation-auc:0.85966\n",
      "[70]\tvalidation-auc:0.84976\n",
      "[36]\tvalidation-auc:0.85576\n",
      "[76]\tvalidation-auc:0.85576\n",
      "[21]\tvalidation-auc:0.86765\n",
      "[84]\tvalidation-auc:0.84896\n",
      "[122]\tvalidation-auc:0.87405\n",
      "[31]\tvalidation-auc:0.86186\n",
      "[35]\tvalidation-auc:0.85776\n",
      "[59]\tvalidation-auc:0.87225\n",
      "[19]\tvalidation-auc:0.84456\n",
      "[22]\tvalidation-auc:0.86126\n",
      "[37]\tvalidation-auc:0.85696\n",
      "[123]\tvalidation-auc:0.87445\n",
      "[22]\tvalidation-auc:0.86865\n",
      "[32]\tvalidation-auc:0.86206\n",
      "[60]\tvalidation-auc:0.87425[36]\tvalidation-auc:0.85796\n",
      "[71]\tvalidation-auc:0.85096\n",
      "[20]\tvalidation-auc:0.84456[77]\tvalidation-auc:0.85756\n",
      "\n",
      "\n",
      "[33]\tvalidation-auc:0.86186[23]\tvalidation-auc:0.86285\n",
      "[124]\tvalidation-auc:0.87345\n",
      "[85]\tvalidation-auc:0.84916\n",
      "\n",
      "[23]\tvalidation-auc:0.86905\n",
      "[38]\tvalidation-auc:0.85516\n",
      "[72]\tvalidation-auc:0.85216\n",
      "[37]\tvalidation-auc:0.85936\n",
      "[21]\tvalidation-auc:0.84456\n",
      "[78]\tvalidation-auc:0.85776\n",
      "[61]\tvalidation-auc:0.87285[24]\tvalidation-auc:0.86226\n",
      "\n",
      "[24]\tvalidation-auc:0.86795\n",
      "[86]\tvalidation-auc:0.84916\n",
      "[39]\tvalidation-auc:0.85656\n",
      "[22]\tvalidation-auc:0.84626\n",
      "[34]\tvalidation-auc:0.86086\n",
      "[73]\tvalidation-auc:0.85436\n",
      "[38]\tvalidation-auc:0.86016\n",
      "[79]\tvalidation-auc:0.85876\n",
      "[74]\tvalidation-auc:0.85636[87]\tvalidation-auc:0.84896\n",
      "[62]\tvalidation-auc:0.87265\n",
      "[25]\tvalidation-auc:0.86775\n",
      "[35]\tvalidation-auc:0.86026\n",
      "\n",
      "[25]\tvalidation-auc:0.86226\n",
      "[40]\tvalidation-auc:0.85756\n",
      "[23]\tvalidation-auc:0.84626[0]\tvalidation-auc:0.84056[39]\tvalidation-auc:0.85956\n",
      "\n",
      "[80]\tvalidation-auc:0.85896\n",
      "\n",
      "[26]\tvalidation-auc:0.86595[63]\tvalidation-auc:0.87285\n",
      "\n",
      "[26]\tvalidation-auc:0.86285\n",
      "[41]\tvalidation-auc:0.85756\n",
      "[36]\tvalidation-auc:0.85946[40]\tvalidation-auc:0.85856\n",
      "[88]\tvalidation-auc:0.84866\n",
      "\n",
      "[1]\tvalidation-auc:0.84026\n",
      "[75]\tvalidation-auc:0.85796\n",
      "[27]\tvalidation-auc:0.86555\n",
      "[24]\tvalidation-auc:0.84626\n",
      "[81]\tvalidation-auc:0.85916\n",
      "[64]\tvalidation-auc:0.87305\n",
      "[27]\tvalidation-auc:0.86425\n",
      "[42]\tvalidation-auc:0.85676\n",
      "[37]\tvalidation-auc:0.85746[41]\tvalidation-auc:0.85876\n",
      "[89]\tvalidation-auc:0.84906\n",
      "\n",
      "[2]\tvalidation-auc:0.84026\n",
      "[28]\tvalidation-auc:0.86275\n",
      "[76]\tvalidation-auc:0.85876\n",
      "[25]\tvalidation-auc:0.84626\n",
      "[65]\tvalidation-auc:0.87125\n",
      "[82]\tvalidation-auc:0.85996\n",
      "[43]\tvalidation-auc:0.85696[3]\tvalidation-auc:0.84026\n",
      "\n",
      "[38]\tvalidation-auc:0.85746\n",
      "[90]\tvalidation-auc:0.84986\n",
      "[29]\tvalidation-auc:0.85996\n",
      "[28]\tvalidation-auc:0.86565\n",
      "[77]\tvalidation-auc:0.85856[42]\tvalidation-auc:0.85896\n",
      "[26]\tvalidation-auc:0.84626\n",
      "[66]\tvalidation-auc:0.87165\n",
      "\n",
      "[0]\tvalidation-auc:0.84106\n",
      "[83]\tvalidation-auc:0.85936\n",
      "[4]\tvalidation-auc:0.84206\n",
      "[91]\tvalidation-auc:0.84966\n",
      "[44]\tvalidation-auc:0.85856[30]\tvalidation-auc:0.86036\n",
      "\n",
      "[29]\tvalidation-auc:0.86765\n",
      "[5]\tvalidation-auc:0.84206\n",
      "[39]\tvalidation-auc:0.85806\n",
      "[43]\tvalidation-auc:0.86116\n",
      "[1]\tvalidation-auc:0.84236\n",
      "[67]\tvalidation-auc:0.87045\n",
      "[27]\tvalidation-auc:0.84626\n",
      "[84]\tvalidation-auc:0.86016\n",
      "[78]\tvalidation-auc:0.85976\n",
      "[92]\tvalidation-auc:0.85006\n",
      "[30]\tvalidation-auc:0.86765[6]\tvalidation-auc:0.84206\n",
      "\n",
      "[40]\tvalidation-auc:0.86345\n",
      "[44]\tvalidation-auc:0.86036[68]\tvalidation-auc:0.87205\n",
      "[45]\tvalidation-auc:0.85796\n",
      "\n",
      "[31]\tvalidation-auc:0.85976\n",
      "[28]\tvalidation-auc:0.84676\n",
      "[2]\tvalidation-auc:0.84236\n",
      "[93]\tvalidation-auc:0.84826[85]\tvalidation-auc:0.86056\n",
      "\n",
      "[79]\tvalidation-auc:0.85856\n",
      "[7]\tvalidation-auc:0.84226\n",
      "[31]\tvalidation-auc:0.86905\n",
      "[41]\tvalidation-auc:0.86365\n",
      "[69]\tvalidation-auc:0.87205\n",
      "[46]\tvalidation-auc:0.85736\n",
      "[45]\tvalidation-auc:0.85936\n",
      "[32]\tvalidation-auc:0.85816\n",
      "[29]\tvalidation-auc:0.86166\n",
      "[94]\tvalidation-auc:0.84886[3]\tvalidation-auc:0.84236\n",
      "\n",
      "[8]\tvalidation-auc:0.84226\n",
      "[80]\tvalidation-auc:0.85896\n",
      "[86]\tvalidation-auc:0.86156\n",
      "[32]\tvalidation-auc:0.86745\n",
      "[33]\tvalidation-auc:0.85776\n",
      "[47]\tvalidation-auc:0.86176\n",
      "[42]\tvalidation-auc:0.86365[46]\tvalidation-auc:0.86016\n",
      "\n",
      "[30]\tvalidation-auc:0.86036\n",
      "[95]\tvalidation-auc:0.84906\n",
      "[4]\tvalidation-auc:0.84276[9]\tvalidation-auc:0.84146\n",
      "\n",
      "[81]\tvalidation-auc:0.85916\n",
      "[48]\tvalidation-auc:0.85796\n",
      "[31]\tvalidation-auc:0.85966\n",
      "[43]\tvalidation-auc:0.86425\n",
      "[34]\tvalidation-auc:0.86246\n",
      "[5]\tvalidation-auc:0.84276\n",
      "[47]\tvalidation-auc:0.86106\n",
      "[96]\tvalidation-auc:0.84986\n",
      "[10]\tvalidation-auc:0.84646\n",
      "[33]\tvalidation-auc:0.86705\n",
      "[32]\tvalidation-auc:0.85986\n",
      "[82]\tvalidation-auc:0.86016\n",
      "[35]\tvalidation-auc:0.86166\n",
      "[44]\tvalidation-auc:0.86265\n",
      "[6]\tvalidation-auc:0.84456\n",
      "[49]\tvalidation-auc:0.85776\n",
      "[34]\tvalidation-auc:0.86905\n",
      "[11]\tvalidation-auc:0.84646\n",
      "[97]\tvalidation-auc:0.84926\n",
      "[48]\tvalidation-auc:0.86046\n",
      "[45]\tvalidation-auc:0.86006\n",
      "[33]\tvalidation-auc:0.85966\n",
      "[36]\tvalidation-auc:0.86246\n",
      "[83]\tvalidation-auc:0.86156\n",
      "[7]\tvalidation-auc:0.84456\n",
      "[50]\tvalidation-auc:0.85896\n",
      "[35]\tvalidation-auc:0.86925\n",
      "[8]\tvalidation-auc:0.84456\n",
      "[98]\tvalidation-auc:0.84986\n",
      "[46]\tvalidation-auc:0.85996\n",
      "[12]\tvalidation-auc:0.84646\n",
      "[34]\tvalidation-auc:0.86026\n",
      "[37]\tvalidation-auc:0.86265[36]\tvalidation-auc:0.86925[49]\tvalidation-auc:0.86046\n",
      "[84]\tvalidation-auc:0.86236\n",
      "\n",
      "\n",
      "[51]\tvalidation-auc:0.86036\n",
      "[13]\tvalidation-auc:0.86136\n",
      "[35]\tvalidation-auc:0.86086\n",
      "[9]\tvalidation-auc:0.84456\n",
      "[99]\tvalidation-auc:0.85066[47]\tvalidation-auc:0.86016\n",
      "[37]\tvalidation-auc:0.86945\n",
      "\n",
      "[52]\tvalidation-auc:0.85996\n",
      "[85]\tvalidation-auc:0.86335\n",
      "[38]\tvalidation-auc:0.86415\n",
      "[50]\tvalidation-auc:0.86066\n",
      "[0]\tvalidation-auc:0.84916\n",
      "[14]\tvalidation-auc:0.85826\n",
      "[10]\tvalidation-auc:0.84456\n",
      "[36]\tvalidation-auc:0.86046\n",
      "[100]\tvalidation-auc:0.85126\n",
      "[48]\tvalidation-auc:0.86096\n",
      "[38]\tvalidation-auc:0.86905\n",
      "[53]\tvalidation-auc:0.85896\n",
      "[51]\tvalidation-auc:0.86465\n",
      "[39]\tvalidation-auc:0.86315\n",
      "[1]\tvalidation-auc:0.86645\n",
      "[86]\tvalidation-auc:0.86375\n",
      "[15]\tvalidation-auc:0.85846\n",
      "[37]\tvalidation-auc:0.86166\n",
      "[11]\tvalidation-auc:0.84456\n",
      "[39]\tvalidation-auc:0.86825[49]\tvalidation-auc:0.86086\n",
      "\n",
      "[101]\tvalidation-auc:0.85086\n",
      "[2]\tvalidation-auc:0.86445\n",
      "[52]\tvalidation-auc:0.86265\n",
      "[87]\tvalidation-auc:0.86455\n",
      "[16]\tvalidation-auc:0.85756\n",
      "[54]\tvalidation-auc:0.85936\n",
      "[40]\tvalidation-auc:0.86295\n",
      "[38]\tvalidation-auc:0.86305\n",
      "[12]\tvalidation-auc:0.84456\n",
      "[50]\tvalidation-auc:0.86106\n",
      "[40]\tvalidation-auc:0.86805\n",
      "[102]\tvalidation-auc:0.85166\n",
      "[3]\tvalidation-auc:0.86285\n",
      "[17]\tvalidation-auc:0.85816\n",
      "[39]\tvalidation-auc:0.86226\n",
      "[53]\tvalidation-auc:0.86206\n",
      "[13]\tvalidation-auc:0.84626\n",
      "[88]\tvalidation-auc:0.86555\n",
      "[41]\tvalidation-auc:0.86265\n",
      "[55]\tvalidation-auc:0.86056\n",
      "[0]\tvalidation-auc:0.84916\n",
      "[51]\tvalidation-auc:0.86066[18]\tvalidation-auc:0.86116\n",
      "\n",
      "[41]\tvalidation-auc:0.86795\n",
      "[4]\tvalidation-auc:0.86945[103]\tvalidation-auc:0.85186\n",
      "[40]\tvalidation-auc:0.86345\n",
      "\n",
      "[54]\tvalidation-auc:0.86365\n",
      "[42]\tvalidation-auc:0.86146[14]\tvalidation-auc:0.84626\n",
      "\n",
      "[89]\tvalidation-auc:0.86655\n",
      "[56]\tvalidation-auc:0.86056\n",
      "[1]\tvalidation-auc:0.86645[19]\tvalidation-auc:0.86255\n",
      "\n",
      "[41]\tvalidation-auc:0.86405[5]\tvalidation-auc:0.86305\n",
      "\n",
      "[42]\tvalidation-auc:0.86695\n",
      "[52]\tvalidation-auc:0.85966[104]\tvalidation-auc:0.85226\n",
      "\n",
      "[2]\tvalidation-auc:0.86086\n",
      "[43]\tvalidation-auc:0.86265\n",
      "[55]\tvalidation-auc:0.86425\n",
      "[20]\tvalidation-auc:0.86315\n",
      "[90]\tvalidation-auc:0.86595\n",
      "[15]\tvalidation-auc:0.84626\n",
      "[57]\tvalidation-auc:0.86056\n",
      "[6]\tvalidation-auc:0.86845\n",
      "[42]\tvalidation-auc:0.86445\n",
      "[43]\tvalidation-auc:0.86226\n",
      "[3]\tvalidation-auc:0.86445\n",
      "[105]\tvalidation-auc:0.85286\n",
      "[7]\tvalidation-auc:0.86805[53]\tvalidation-auc:0.85966\n",
      "[16]\tvalidation-auc:0.84626\n",
      "[21]\tvalidation-auc:0.86495\n",
      "\n",
      "[43]\tvalidation-auc:0.86465\n",
      "[44]\tvalidation-auc:0.86106\n",
      "[58]\tvalidation-auc:0.86255\n",
      "[56]\tvalidation-auc:0.86345\n",
      "[4]\tvalidation-auc:0.86945\n",
      "[91]\tvalidation-auc:0.86755\n",
      "[44]\tvalidation-auc:0.86206\n",
      "[5]\tvalidation-auc:0.86305\n",
      "[8]\tvalidation-auc:0.86685\n",
      "[54]\tvalidation-auc:0.86006[17]\tvalidation-auc:0.85476\n",
      "[106]\tvalidation-auc:0.85466\n",
      "[57]\tvalidation-auc:0.86425\n",
      "[45]\tvalidation-auc:0.86206\n",
      "[44]\tvalidation-auc:0.86585\n",
      "[59]\tvalidation-auc:0.86156\n",
      "\n",
      "[22]\tvalidation-auc:0.86545\n",
      "[45]\tvalidation-auc:0.86206\n",
      "[6]\tvalidation-auc:0.86845\n",
      "[92]\tvalidation-auc:0.86795\n",
      "[9]\tvalidation-auc:0.86415\n",
      "[18]\tvalidation-auc:0.86076[7]\tvalidation-auc:0.86825\n",
      "\n",
      "[45]\tvalidation-auc:0.86745\n",
      "[58]\tvalidation-auc:0.86345\n",
      "[93]\tvalidation-auc:0.86775[46]\tvalidation-auc:0.86186\n",
      "[55]\tvalidation-auc:0.85966\n",
      "[60]\tvalidation-auc:0.86196\n",
      "[23]\tvalidation-auc:0.86485\n",
      "\n",
      "[10]\tvalidation-auc:0.86435[107]\tvalidation-auc:0.85626\n",
      "\n",
      "[46]\tvalidation-auc:0.86096\n",
      "[8]\tvalidation-auc:0.86505\n",
      "[19]\tvalidation-auc:0.85966\n",
      "[46]\tvalidation-auc:0.86805\n",
      "[11]\tvalidation-auc:0.86036\n",
      "[47]\tvalidation-auc:0.86086\n",
      "[56]\tvalidation-auc:0.86016\n",
      "[59]\tvalidation-auc:0.86275\n",
      "[24]\tvalidation-auc:0.86445\n",
      "[9]\tvalidation-auc:0.86375\n",
      "[61]\tvalidation-auc:0.86136\n",
      "[47]\tvalidation-auc:0.86096\n",
      "[12]\tvalidation-auc:0.86465\n",
      "[47]\tvalidation-auc:0.86625\n",
      "[94]\tvalidation-auc:0.86835\n",
      "[20]\tvalidation-auc:0.86026\n",
      "[10]\tvalidation-auc:0.86575\n",
      "[13]\tvalidation-auc:0.86325[62]\tvalidation-auc:0.86076\n",
      "[48]\tvalidation-auc:0.86066\n",
      "\n",
      "[11]\tvalidation-auc:0.86705\n",
      "[48]\tvalidation-auc:0.86745\n",
      "[25]\tvalidation-auc:0.86445\n",
      "[48]\tvalidation-auc:0.86016\n",
      "[60]\tvalidation-auc:0.86146\n",
      "[57]\tvalidation-auc:0.85876[95]\tvalidation-auc:0.86835\n",
      "\n",
      "[21]\tvalidation-auc:0.86166\n",
      "[14]\tvalidation-auc:0.86515\n",
      "[49]\tvalidation-auc:0.86066\n",
      "[26]\tvalidation-auc:0.86365\n",
      "[49]\tvalidation-auc:0.86745\n",
      "[12]\tvalidation-auc:0.86605[61]\tvalidation-auc:0.86116\n",
      "\n",
      "[49]\tvalidation-auc:0.85956\n",
      "[63]\tvalidation-auc:0.86066\n",
      "[58]\tvalidation-auc:0.85976\n",
      "[96]\tvalidation-auc:0.86915\n",
      "[22]\tvalidation-auc:0.86405\n",
      "[15]\tvalidation-auc:0.86475\n",
      "[27]\tvalidation-auc:0.86385\n",
      "[50]\tvalidation-auc:0.86725\n",
      "[50]\tvalidation-auc:0.85946\n",
      "[13]\tvalidation-auc:0.86745[59]\tvalidation-auc:0.86096\n",
      "[50]\tvalidation-auc:0.86106\n",
      "\n",
      "[64]\tvalidation-auc:0.86106\n",
      "[23]\tvalidation-auc:0.86226\n",
      "[16]\tvalidation-auc:0.86635[62]\tvalidation-auc:0.86096\n",
      "\n",
      "[97]\tvalidation-auc:0.86975\n",
      "[28]\tvalidation-auc:0.86365\n",
      "[51]\tvalidation-auc:0.86725\n",
      "[51]\tvalidation-auc:0.85886[14]\tvalidation-auc:0.86985\n",
      "\n",
      "[60]\tvalidation-auc:0.85906[51]\tvalidation-auc:0.86106\n",
      "[17]\tvalidation-auc:0.86655\n",
      "\n",
      "[63]\tvalidation-auc:0.85906\n",
      "[24]\tvalidation-auc:0.86465\n",
      "[98]\tvalidation-auc:0.87095\n",
      "[65]\tvalidation-auc:0.86086\n",
      "[29]\tvalidation-auc:0.86455\n",
      "[52]\tvalidation-auc:0.86805\n",
      "[15]\tvalidation-auc:0.87115\n",
      "[18]\tvalidation-auc:0.86875\n",
      "[52]\tvalidation-auc:0.85986\n",
      "[52]\tvalidation-auc:0.85936\n",
      "[64]\tvalidation-auc:0.85906\n",
      "[25]\tvalidation-auc:0.86645\n",
      "[30]\tvalidation-auc:0.86026\n",
      "[66]\tvalidation-auc:0.86106\n",
      "[99]\tvalidation-auc:0.87135\n",
      "[61]\tvalidation-auc:0.85886\n",
      "[19]\tvalidation-auc:0.87105[53]\tvalidation-auc:0.86805\n",
      "\n",
      "[16]\tvalidation-auc:0.87255\n",
      "[53]\tvalidation-auc:0.85846\n",
      "[53]\tvalidation-auc:0.85856\n",
      "[26]\tvalidation-auc:0.86685[65]\tvalidation-auc:0.85806\n",
      "\n",
      "[20]\tvalidation-auc:0.87165[100]\tvalidation-auc:0.87075\n",
      "\n",
      "[31]\tvalidation-auc:0.85926[62]\tvalidation-auc:0.85826\n",
      "\n",
      "[54]\tvalidation-auc:0.86805\n",
      "[17]\tvalidation-auc:0.87095\n",
      "[67]\tvalidation-auc:0.86106\n",
      "[54]\tvalidation-auc:0.86335\n",
      "[54]\tvalidation-auc:0.85436\n",
      "[66]\tvalidation-auc:0.85786\n",
      "[27]\tvalidation-auc:0.86585\n",
      "[18]\tvalidation-auc:0.87355\n",
      "[32]\tvalidation-auc:0.85906\n",
      "[21]\tvalidation-auc:0.87165\n",
      "[101]\tvalidation-auc:0.87215\n",
      "[63]\tvalidation-auc:0.85846\n",
      "[55]\tvalidation-auc:0.86785\n",
      "[68]\tvalidation-auc:0.86066[55]\tvalidation-auc:0.86315\n",
      "[55]\tvalidation-auc:0.85356\n",
      "\n",
      "[19]\tvalidation-auc:0.87435\n",
      "[22]\tvalidation-auc:0.87365\n",
      "[33]\tvalidation-auc:0.85736[28]\tvalidation-auc:0.86605\n",
      "[67]\tvalidation-auc:0.85926\n",
      "[69]\tvalidation-auc:0.86006\n",
      "\n",
      "[20]\tvalidation-auc:0.87515\n",
      "[56]\tvalidation-auc:0.86255\n",
      "[56]\tvalidation-auc:0.85356\n",
      "[102]\tvalidation-auc:0.87215[56]\tvalidation-auc:0.86825\n",
      "[64]\tvalidation-auc:0.85746\n",
      "\n",
      "[0]\tvalidation-auc:0.84916\n",
      "[23]\tvalidation-auc:0.87235\n",
      "[29]\tvalidation-auc:0.86815\n",
      "[34]\tvalidation-auc:0.85556[21]\tvalidation-auc:0.87635\n",
      "\n",
      "[24]\tvalidation-auc:0.87275\n",
      "[1]\tvalidation-auc:0.86645\n",
      "[68]\tvalidation-auc:0.86006[57]\tvalidation-auc:0.85256\n",
      "[57]\tvalidation-auc:0.86785\n",
      "[70]\tvalidation-auc:0.86006\n",
      "[57]\tvalidation-auc:0.86445\n",
      "\n",
      "[22]\tvalidation-auc:0.87755\n",
      "[103]\tvalidation-auc:0.87135\n",
      "[25]\tvalidation-auc:0.87435\n",
      "[65]\tvalidation-auc:0.85596\n",
      "[30]\tvalidation-auc:0.86915\n",
      "[35]\tvalidation-auc:0.85376\n",
      "[2]\tvalidation-auc:0.86086\n",
      "[23]\tvalidation-auc:0.87755\n",
      "[26]\tvalidation-auc:0.86915\n",
      "[58]\tvalidation-auc:0.85256\n",
      "[71]\tvalidation-auc:0.85966[36]\tvalidation-auc:0.85376\n",
      "[58]\tvalidation-auc:0.86885\n",
      "\n",
      "[3]\tvalidation-auc:0.86445\n",
      "[24]\tvalidation-auc:0.87385\n",
      "[66]\tvalidation-auc:0.85596\n",
      "[104]\tvalidation-auc:0.87195\n",
      "[69]\tvalidation-auc:0.86046\n",
      "[27]\tvalidation-auc:0.86955\n",
      "[58]\tvalidation-auc:0.86425\n",
      "[31]\tvalidation-auc:0.86835\n",
      "[59]\tvalidation-auc:0.85196\n",
      "[37]\tvalidation-auc:0.85866\n",
      "[4]\tvalidation-auc:0.86945\n",
      "[28]\tvalidation-auc:0.87075\n",
      "[25]\tvalidation-auc:0.87365\n",
      "[67]\tvalidation-auc:0.85296\n",
      "[105]\tvalidation-auc:0.87275\n",
      "[72]\tvalidation-auc:0.86186\n",
      "[5]\tvalidation-auc:0.86305\n",
      "[38]\tvalidation-auc:0.85766\n",
      "[70]\tvalidation-auc:0.85946\n",
      "[59]\tvalidation-auc:0.86186\n",
      "[60]\tvalidation-auc:0.85256\n",
      "[32]\tvalidation-auc:0.86955[59]\tvalidation-auc:0.86805\n",
      "[29]\tvalidation-auc:0.87255\n",
      "\n",
      "[26]\tvalidation-auc:0.87425\n",
      "[68]\tvalidation-auc:0.85196\n",
      "[106]\tvalidation-auc:0.87275\n",
      "[6]\tvalidation-auc:0.86845\n",
      "[71]\tvalidation-auc:0.86046[39]\tvalidation-auc:0.85606\n",
      "\n",
      "[60]\tvalidation-auc:0.86186\n",
      "[73]\tvalidation-auc:0.86186[61]\tvalidation-auc:0.85196\n",
      "\n",
      "[30]\tvalidation-auc:0.87255[60]\tvalidation-auc:0.86805\n",
      "\n",
      "[33]\tvalidation-auc:0.86915\n",
      "[27]\tvalidation-auc:0.87755[69]\tvalidation-auc:0.85416\n",
      "\n",
      "[107]\tvalidation-auc:0.87295\n",
      "[7]\tvalidation-auc:0.86825\n",
      "[40]\tvalidation-auc:0.85606\n",
      "[72]\tvalidation-auc:0.86046\n",
      "[31]\tvalidation-auc:0.87355\n",
      "[61]\tvalidation-auc:0.86086\n",
      "[62]\tvalidation-auc:0.85256\n",
      "[74]\tvalidation-auc:0.86206\n",
      "[28]\tvalidation-auc:0.87855[61]\tvalidation-auc:0.86825[34]\tvalidation-auc:0.86795\n",
      "\n",
      "\n",
      "[70]\tvalidation-auc:0.85236\n",
      "[8]\tvalidation-auc:0.86505\n",
      "[108]\tvalidation-auc:0.87275\n",
      "[73]\tvalidation-auc:0.86086\n",
      "[41]\tvalidation-auc:0.85726\n",
      "[32]\tvalidation-auc:0.87375\n",
      "[62]\tvalidation-auc:0.86285[63]\tvalidation-auc:0.85256\n",
      "[29]\tvalidation-auc:0.87495\n",
      "\n",
      "[9]\tvalidation-auc:0.86375[75]\tvalidation-auc:0.86226\n",
      "\n",
      "[42]\tvalidation-auc:0.85696[33]\tvalidation-auc:0.87335[71]\tvalidation-auc:0.85256\n",
      "[109]\tvalidation-auc:0.87215\n",
      "[30]\tvalidation-auc:0.87475\n",
      "[35]\tvalidation-auc:0.86855\n",
      "\n",
      "\n",
      "[74]\tvalidation-auc:0.85966\n",
      "[62]\tvalidation-auc:0.86805\n",
      "[63]\tvalidation-auc:0.86285\n",
      "[64]\tvalidation-auc:0.85136\n",
      "[10]\tvalidation-auc:0.86575\n",
      "[34]\tvalidation-auc:0.87255\n",
      "[31]\tvalidation-auc:0.87545\n",
      "[76]\tvalidation-auc:0.86166\n",
      "[65]\tvalidation-auc:0.85236[36]\tvalidation-auc:0.86795\n",
      "[43]\tvalidation-auc:0.85576\n",
      "\n",
      "[72]\tvalidation-auc:0.85206\n",
      "[110]\tvalidation-auc:0.87215\n",
      "[64]\tvalidation-auc:0.86226[11]\tvalidation-auc:0.86705\n",
      "\n",
      "[35]\tvalidation-auc:0.87195\n",
      "[32]\tvalidation-auc:0.87885\n",
      "[75]\tvalidation-auc:0.85866\n",
      "[77]\tvalidation-auc:0.86166\n",
      "[63]\tvalidation-auc:0.86735\n",
      "[44]\tvalidation-auc:0.85756\n",
      "[66]\tvalidation-auc:0.85276\n",
      "[12]\tvalidation-auc:0.86605\n",
      "[73]\tvalidation-auc:0.85166\n",
      "[33]\tvalidation-auc:0.87965[111]\tvalidation-auc:0.87075\n",
      "[37]\tvalidation-auc:0.86795\n",
      "\n",
      "[36]\tvalidation-auc:0.87395\n",
      "[78]\tvalidation-auc:0.86345\n",
      "[76]\tvalidation-auc:0.85726\n",
      "[65]\tvalidation-auc:0.86166[45]\tvalidation-auc:0.85496\n",
      "[64]\tvalidation-auc:0.86715\n",
      "\n",
      "[13]\tvalidation-auc:0.86745\n",
      "[67]\tvalidation-auc:0.85546\n",
      "[34]\tvalidation-auc:0.88045[74]\tvalidation-auc:0.85186\n",
      "\n",
      "[38]\tvalidation-auc:0.86196\n",
      "[112]\tvalidation-auc:0.87115[37]\tvalidation-auc:0.87455\n",
      "\n",
      "[77]\tvalidation-auc:0.85666\n",
      "[79]\tvalidation-auc:0.86176\n",
      "[46]\tvalidation-auc:0.85556\n",
      "[14]\tvalidation-auc:0.86745[66]\tvalidation-auc:0.86236\n",
      "\n",
      "[65]\tvalidation-auc:0.86675\n",
      "[68]\tvalidation-auc:0.85726\n",
      "[35]\tvalidation-auc:0.87985\n",
      "[38]\tvalidation-auc:0.87455\n",
      "[39]\tvalidation-auc:0.86196\n",
      "[15]\tvalidation-auc:0.87015\n",
      "[47]\tvalidation-auc:0.85616\n",
      "[113]\tvalidation-auc:0.87075\n",
      "[78]\tvalidation-auc:0.85626\n",
      "[80]\tvalidation-auc:0.86136\n",
      "[67]\tvalidation-auc:0.86295\n",
      "[39]\tvalidation-auc:0.87715\n",
      "[66]\tvalidation-auc:0.86186\n",
      "[36]\tvalidation-auc:0.87925[69]\tvalidation-auc:0.85766\n",
      "\n",
      "[16]\tvalidation-auc:0.87165[40]\tvalidation-auc:0.86236\n",
      "\n",
      "[48]\tvalidation-auc:0.85676\n",
      "[37]\tvalidation-auc:0.87945\n",
      "[40]\tvalidation-auc:0.87595\n",
      "[114]\tvalidation-auc:0.87095\n",
      "[67]\tvalidation-auc:0.86226\n",
      "[81]\tvalidation-auc:0.86076\n",
      "[79]\tvalidation-auc:0.85546\n",
      "[38]\tvalidation-auc:0.87665\n",
      "[17]\tvalidation-auc:0.87225\n",
      "[41]\tvalidation-auc:0.86116\n",
      "[68]\tvalidation-auc:0.86076\n",
      "[41]\tvalidation-auc:0.87755[68]\tvalidation-auc:0.86066\n",
      "\n",
      "[49]\tvalidation-auc:0.85876\n",
      "[115]\tvalidation-auc:0.87075\n",
      "[82]\tvalidation-auc:0.86086\n",
      "[80]\tvalidation-auc:0.85406[18]\tvalidation-auc:0.87515\n",
      "\n",
      "[69]\tvalidation-auc:0.85976\n",
      "[42]\tvalidation-auc:0.86236\n",
      "[50]\tvalidation-auc:0.85956\n",
      "[116]\tvalidation-auc:0.87075\n",
      "[83]\tvalidation-auc:0.86056\n",
      "[42]\tvalidation-auc:0.88035[39]\tvalidation-auc:0.87825\n",
      "[69]\tvalidation-auc:0.86066\n",
      "\n",
      "[51]\tvalidation-auc:0.85696\n",
      "[81]\tvalidation-auc:0.85286\n",
      "[70]\tvalidation-auc:0.85976[117]\tvalidation-auc:0.87075\n",
      "[43]\tvalidation-auc:0.86096\n",
      "[19]\tvalidation-auc:0.87595\n",
      "\n",
      "[43]\tvalidation-auc:0.88135[84]\tvalidation-auc:0.86136\n",
      "\n",
      "[40]\tvalidation-auc:0.87765[70]\tvalidation-auc:0.86076\n",
      "\n",
      "[20]\tvalidation-auc:0.87575\n",
      "[52]\tvalidation-auc:0.85896\n",
      "[44]\tvalidation-auc:0.88135\n",
      "[71]\tvalidation-auc:0.86056\n",
      "[82]\tvalidation-auc:0.85126\n",
      "[44]\tvalidation-auc:0.86096\n",
      "[118]\tvalidation-auc:0.87035\n",
      "[85]\tvalidation-auc:0.86096\n",
      "[71]\tvalidation-auc:0.86036\n",
      "[41]\tvalidation-auc:0.87905\n",
      "[21]\tvalidation-auc:0.87695\n",
      "[72]\tvalidation-auc:0.86076\n",
      "[83]\tvalidation-auc:0.84986\n",
      "[53]\tvalidation-auc:0.85696\n",
      "[42]\tvalidation-auc:0.87865\n",
      "[45]\tvalidation-auc:0.87975\n",
      "[45]\tvalidation-auc:0.86116\n",
      "[72]\tvalidation-auc:0.85956\n",
      "[86]\tvalidation-auc:0.86136\n",
      "[119]\tvalidation-auc:0.86915\n",
      "[54]\tvalidation-auc:0.85616[22]\tvalidation-auc:0.87415\n",
      "[46]\tvalidation-auc:0.85936\n",
      "[73]\tvalidation-auc:0.86076\n",
      "[46]\tvalidation-auc:0.87815[73]\tvalidation-auc:0.85996\n",
      "[43]\tvalidation-auc:0.87925\n",
      "\n",
      "\n",
      "[84]\tvalidation-auc:0.85066\n",
      "[87]\tvalidation-auc:0.86066\n",
      "[120]\tvalidation-auc:0.86935\n",
      "[74]\tvalidation-auc:0.86056\n",
      "[47]\tvalidation-auc:0.85796\n",
      "[47]\tvalidation-auc:0.87815\n",
      "[55]\tvalidation-auc:0.85596\n",
      "[44]\tvalidation-auc:0.87985[88]\tvalidation-auc:0.85946\n",
      "\n",
      "[74]\tvalidation-auc:0.86046\n",
      "[23]\tvalidation-auc:0.87355\n",
      "[85]\tvalidation-auc:0.84926\n",
      "[121]\tvalidation-auc:0.86855\n",
      "[56]\tvalidation-auc:0.85676\n",
      "[75]\tvalidation-auc:0.85936\n",
      "[48]\tvalidation-auc:0.88095\n",
      "[48]\tvalidation-auc:0.85916\n",
      "[45]\tvalidation-auc:0.87965\n",
      "[89]\tvalidation-auc:0.85906\n",
      "[86]\tvalidation-auc:0.84866[75]\tvalidation-auc:0.86086\n",
      "[24]\tvalidation-auc:0.87525\n",
      "\n",
      "[49]\tvalidation-auc:0.85776\n",
      "[57]\tvalidation-auc:0.85576\n",
      "[122]\tvalidation-auc:0.86735\n",
      "[49]\tvalidation-auc:0.87975\n",
      "[46]\tvalidation-auc:0.87805\n",
      "[76]\tvalidation-auc:0.86036\n",
      "[90]\tvalidation-auc:0.85906\n",
      "[50]\tvalidation-auc:0.87895\n",
      "[47]\tvalidation-auc:0.87845\n",
      "[25]\tvalidation-auc:0.87605\n",
      "[77]\tvalidation-auc:0.85816[123]\tvalidation-auc:0.86775\n",
      "\n",
      "[58]\tvalidation-auc:0.85476\n",
      "[76]\tvalidation-auc:0.86096[87]\tvalidation-auc:0.85026\n",
      "[50]\tvalidation-auc:0.86385\n",
      "\n",
      "[91]\tvalidation-auc:0.85906\n",
      "[26]\tvalidation-auc:0.87965\n",
      "[48]\tvalidation-auc:0.88085\n",
      "[51]\tvalidation-auc:0.87795\n",
      "[59]\tvalidation-auc:0.85416[0]\tvalidation-auc:0.84916\n",
      "[88]\tvalidation-auc:0.84956[27]\tvalidation-auc:0.87725\n",
      "[124]\tvalidation-auc:0.86695\n",
      "[52]\tvalidation-auc:0.87775\n",
      "[78]\tvalidation-auc:0.85876\n",
      "\n",
      "[77]\tvalidation-auc:0.86056[92]\tvalidation-auc:0.85806\n",
      "\n",
      "[49]\tvalidation-auc:0.87925\n",
      "\n",
      "[51]\tvalidation-auc:0.86345\n",
      "[28]\tvalidation-auc:0.87695[0]\tvalidation-auc:0.84916\n",
      "[1]\tvalidation-auc:0.86645\n",
      "[53]\tvalidation-auc:0.88055\n",
      "\n",
      "[50]\tvalidation-auc:0.87925\n",
      "[60]\tvalidation-auc:0.85416\n",
      "[125]\tvalidation-auc:0.86795[79]\tvalidation-auc:0.85856\n",
      "\n",
      "[93]\tvalidation-auc:0.85746\n",
      "[89]\tvalidation-auc:0.85096\n",
      "[52]\tvalidation-auc:0.86206\n",
      "[78]\tvalidation-auc:0.86156\n",
      "[2]\tvalidation-auc:0.86086\n",
      "[1]\tvalidation-auc:0.86645[29]\tvalidation-auc:0.87775\n",
      "\n",
      "[61]\tvalidation-auc:0.85616\n",
      "[54]\tvalidation-auc:0.87955\n",
      "[51]\tvalidation-auc:0.88005\n",
      "[126]\tvalidation-auc:0.86775\n",
      "[80]\tvalidation-auc:0.85836\n",
      "[30]\tvalidation-auc:0.87615\n",
      "[94]\tvalidation-auc:0.85586\n",
      "[90]\tvalidation-auc:0.85016\n",
      "[52]\tvalidation-auc:0.87885\n",
      "[55]\tvalidation-auc:0.87785\n",
      "[53]\tvalidation-auc:0.86146\n",
      "[2]\tvalidation-auc:0.86445\n",
      "[79]\tvalidation-auc:0.86176[3]\tvalidation-auc:0.86445\n",
      "\n",
      "[62]\tvalidation-auc:0.85466\n",
      "[127]\tvalidation-auc:0.86735\n",
      "[81]\tvalidation-auc:0.85836\n",
      "[31]\tvalidation-auc:0.87645\n",
      "[4]\tvalidation-auc:0.86945[3]\tvalidation-auc:0.86285\n",
      "\n",
      "[91]\tvalidation-auc:0.85036\n",
      "[56]\tvalidation-auc:0.87865\n",
      "[53]\tvalidation-auc:0.87865\n",
      "[54]\tvalidation-auc:0.86345\n",
      "[95]\tvalidation-auc:0.85506\n",
      "[80]\tvalidation-auc:0.86216[128]\tvalidation-auc:0.86735\n",
      "[82]\tvalidation-auc:0.85836\n",
      "\n",
      "[32]\tvalidation-auc:0.87665\n",
      "[63]\tvalidation-auc:0.85506\n",
      "[4]\tvalidation-auc:0.86945\n",
      "[57]\tvalidation-auc:0.87865\n",
      "[54]\tvalidation-auc:0.87525\n",
      "[92]\tvalidation-auc:0.84936\n",
      "[5]\tvalidation-auc:0.86305\n",
      "[64]\tvalidation-auc:0.85326\n",
      "[55]\tvalidation-auc:0.86236\n",
      "[33]\tvalidation-auc:0.87785\n",
      "[83]\tvalidation-auc:0.85776\n",
      "[5]\tvalidation-auc:0.86305\n",
      "[58]\tvalidation-auc:0.87765\n",
      "[96]\tvalidation-auc:0.85426\n",
      "[81]\tvalidation-auc:0.86076\n",
      "[55]\tvalidation-auc:0.87745\n",
      "[129]\tvalidation-auc:0.86735\n",
      "[93]\tvalidation-auc:0.84876\n",
      "[34]\tvalidation-auc:0.87825[6]\tvalidation-auc:0.86845\n",
      "\n",
      "[56]\tvalidation-auc:0.87765\n",
      "[65]\tvalidation-auc:0.85226\n",
      "[59]\tvalidation-auc:0.87845\n",
      "[84]\tvalidation-auc:0.86206[56]\tvalidation-auc:0.86375\n",
      "\n",
      "[130]\tvalidation-auc:0.86735\n",
      "[6]\tvalidation-auc:0.86845\n",
      "[82]\tvalidation-auc:0.86196\n",
      "[7]\tvalidation-auc:0.86825\n",
      "[94]\tvalidation-auc:0.84956[97]\tvalidation-auc:0.85406\n",
      "\n",
      "[35]\tvalidation-auc:0.87745\n",
      "[57]\tvalidation-auc:0.87685\n",
      "[60]\tvalidation-auc:0.87865\n",
      "[66]\tvalidation-auc:0.85166\n",
      "[57]\tvalidation-auc:0.86176[85]\tvalidation-auc:0.86405\n",
      "\n",
      "[7]\tvalidation-auc:0.86805\n",
      "[131]\tvalidation-auc:0.86695\n",
      "[8]\tvalidation-auc:0.86725\n",
      "[83]\tvalidation-auc:0.86116\n",
      "[61]\tvalidation-auc:0.87865\n",
      "[36]\tvalidation-auc:0.87825\n",
      "[98]\tvalidation-auc:0.85226\n",
      "[58]\tvalidation-auc:0.87585\n",
      "[8]\tvalidation-auc:0.86685[95]\tvalidation-auc:0.85016\n",
      "\n",
      "[9]\tvalidation-auc:0.86255\n",
      "[67]\tvalidation-auc:0.85126\n",
      "[86]\tvalidation-auc:0.86365\n",
      "[132]\tvalidation-auc:0.86595\n",
      "[58]\tvalidation-auc:0.86116\n",
      "[62]\tvalidation-auc:0.87805\n",
      "[37]\tvalidation-auc:0.87725\n",
      "[59]\tvalidation-auc:0.87685\n",
      "[99]\tvalidation-auc:0.85006\n",
      "[84]\tvalidation-auc:0.85976\n",
      "[9]\tvalidation-auc:0.86415\n",
      "[68]\tvalidation-auc:0.85156\n",
      "[10]\tvalidation-auc:0.86675\n",
      "[63]\tvalidation-auc:0.87785[38]\tvalidation-auc:0.87745\n",
      "\n",
      "[87]\tvalidation-auc:0.86246[133]\tvalidation-auc:0.86615\n",
      "[10]\tvalidation-auc:0.86435\n",
      "[59]\tvalidation-auc:0.86166\n",
      "[96]\tvalidation-auc:0.84896\n",
      "[60]\tvalidation-auc:0.87685\n",
      "\n",
      "[85]\tvalidation-auc:0.85996\n",
      "[100]\tvalidation-auc:0.85066\n",
      "[69]\tvalidation-auc:0.85106\n",
      "[11]\tvalidation-auc:0.85776\n",
      "[64]\tvalidation-auc:0.87605\n",
      "[39]\tvalidation-auc:0.87665\n",
      "[61]\tvalidation-auc:0.87465\n",
      "[11]\tvalidation-auc:0.86036\n",
      "[60]\tvalidation-auc:0.86106\n",
      "[134]\tvalidation-auc:0.86595\n",
      "[86]\tvalidation-auc:0.86106[88]\tvalidation-auc:0.86226\n",
      "\n",
      "[101]\tvalidation-auc:0.85006\n",
      "[65]\tvalidation-auc:0.87625\n",
      "[97]\tvalidation-auc:0.84976\n",
      "[12]\tvalidation-auc:0.86176\n",
      "[70]\tvalidation-auc:0.85286\n",
      "[40]\tvalidation-auc:0.87825\n",
      "[12]\tvalidation-auc:0.86465\n",
      "[62]\tvalidation-auc:0.87685\n",
      "[61]\tvalidation-auc:0.86126\n",
      "[89]\tvalidation-auc:0.86206\n",
      "[135]\tvalidation-auc:0.86535\n",
      "[41]\tvalidation-auc:0.88045\n",
      "[66]\tvalidation-auc:0.87595\n",
      "[13]\tvalidation-auc:0.86375\n",
      "[87]\tvalidation-auc:0.86006\n",
      "[13]\tvalidation-auc:0.86325\n",
      "[63]\tvalidation-auc:0.87665\n",
      "[102]\tvalidation-auc:0.85006[98]\tvalidation-auc:0.85056\n",
      "[71]\tvalidation-auc:0.85146\n",
      "\n",
      "[67]\tvalidation-auc:0.87555\n",
      "[62]\tvalidation-auc:0.85966[42]\tvalidation-auc:0.88185\n",
      "[14]\tvalidation-auc:0.86315\n",
      "[136]\tvalidation-auc:0.86515\n",
      "\n",
      "[90]\tvalidation-auc:0.86166\n",
      "[14]\tvalidation-auc:0.86515\n",
      "[64]\tvalidation-auc:0.87485\n",
      "[68]\tvalidation-auc:0.87615\n",
      "[15]\tvalidation-auc:0.86475[99]\tvalidation-auc:0.85096\n",
      "[103]\tvalidation-auc:0.84926\n",
      "[63]\tvalidation-auc:0.85906[15]\tvalidation-auc:0.86485\n",
      "[65]\tvalidation-auc:0.87545\n",
      "\n",
      "[91]\tvalidation-auc:0.86186\n",
      "\n",
      "[69]\tvalidation-auc:0.87415\n",
      "[43]\tvalidation-auc:0.88125\n",
      "[137]\tvalidation-auc:0.86575\n",
      "[104]\tvalidation-auc:0.84786\n",
      "[66]\tvalidation-auc:0.87585\n",
      "[100]\tvalidation-auc:0.85056\n",
      "[44]\tvalidation-auc:0.88045\n",
      "[70]\tvalidation-auc:0.87435\n",
      "[16]\tvalidation-auc:0.86585\n",
      "[138]\tvalidation-auc:0.86595\n",
      "[64]\tvalidation-auc:0.85906\n",
      "[16]\tvalidation-auc:0.86635\n",
      "[92]\tvalidation-auc:0.86146\n",
      "[105]\tvalidation-auc:0.84846\n",
      "[71]\tvalidation-auc:0.87355\n",
      "[139]\tvalidation-auc:0.86655[17]\tvalidation-auc:0.86655\n",
      "[65]\tvalidation-auc:0.85826\n",
      "[67]\tvalidation-auc:0.87605\n",
      "\n",
      "[17]\tvalidation-auc:0.87045\n",
      "[101]\tvalidation-auc:0.85036\n",
      "[93]\tvalidation-auc:0.86166\n",
      "[45]\tvalidation-auc:0.88185\n",
      "[106]\tvalidation-auc:0.84726\n",
      "[72]\tvalidation-auc:0.87335\n",
      "[66]\tvalidation-auc:0.85966\n",
      "[68]\tvalidation-auc:0.87585\n",
      "[18]\tvalidation-auc:0.86875[107]\tvalidation-auc:0.84506\n",
      "\n",
      "[73]\tvalidation-auc:0.87715\n",
      "[140]\tvalidation-auc:0.86555\n",
      "[46]\tvalidation-auc:0.88185\n",
      "[94]\tvalidation-auc:0.86146\n",
      "[18]\tvalidation-auc:0.87195\n",
      "[67]\tvalidation-auc:0.86265\n",
      "[47]\tvalidation-auc:0.88205\n",
      "[108]\tvalidation-auc:0.84466\n",
      "[74]\tvalidation-auc:0.87675\n",
      "[19]\tvalidation-auc:0.87105\n",
      "[95]\tvalidation-auc:0.86126\n",
      "[19]\tvalidation-auc:0.87175\n",
      "[141]\tvalidation-auc:0.86675\n",
      "[109]\tvalidation-auc:0.84366\n",
      "[69]\tvalidation-auc:0.87605\n",
      "[68]\tvalidation-auc:0.86226\n",
      "[142]\tvalidation-auc:0.86675[96]\tvalidation-auc:0.86006\n",
      "\n",
      "[20]\tvalidation-auc:0.87165\n",
      "[48]\tvalidation-auc:0.88045\n",
      "[75]\tvalidation-auc:0.87795\n",
      "[20]\tvalidation-auc:0.87335\n",
      "[110]\tvalidation-auc:0.84326\n",
      "[70]\tvalidation-auc:0.87605\n",
      "[69]\tvalidation-auc:0.86146\n",
      "[143]\tvalidation-auc:0.86755\n",
      "[97]\tvalidation-auc:0.85986\n",
      "[76]\tvalidation-auc:0.87835\n",
      "[21]\tvalidation-auc:0.87165\n",
      "[21]\tvalidation-auc:0.87375\n",
      "[71]\tvalidation-auc:0.87705\n",
      "[49]\tvalidation-auc:0.87745\n",
      "[111]\tvalidation-auc:0.84186\n",
      "[70]\tvalidation-auc:0.86106\n",
      "[144]\tvalidation-auc:0.86735\n",
      "[22]\tvalidation-auc:0.87365\n",
      "[98]\tvalidation-auc:0.85966\n",
      "[77]\tvalidation-auc:0.87955\n",
      "[112]\tvalidation-auc:0.84106[72]\tvalidation-auc:0.87895\n",
      "[71]\tvalidation-auc:0.86046\n",
      "[50]\tvalidation-auc:0.87725[22]\tvalidation-auc:0.87495\n",
      "\n",
      "\n",
      "[145]\tvalidation-auc:0.86715\n",
      "[73]\tvalidation-auc:0.87895[99]\tvalidation-auc:0.85966\n",
      "\n",
      "[23]\tvalidation-auc:0.87235\n",
      "[78]\tvalidation-auc:0.87975\n",
      "[23]\tvalidation-auc:0.87715[51]\tvalidation-auc:0.87985\n",
      "[72]\tvalidation-auc:0.86146\n",
      "[113]\tvalidation-auc:0.84046\n",
      "\n",
      "[74]\tvalidation-auc:0.87855\n",
      "[146]\tvalidation-auc:0.86895\n",
      "[24]\tvalidation-auc:0.87275\n",
      "[52]\tvalidation-auc:0.88225\n",
      "[24]\tvalidation-auc:0.88065\n",
      "[100]\tvalidation-auc:0.85946\n",
      "[75]\tvalidation-auc:0.87815\n",
      "[79]\tvalidation-auc:0.87955\n",
      "[73]\tvalidation-auc:0.85966\n",
      "[114]\tvalidation-auc:0.84106\n",
      "[0]\tvalidation-auc:0.84916\n",
      "[80]\tvalidation-auc:0.87975\n",
      "[74]\tvalidation-auc:0.85926[115]\tvalidation-auc:0.84086\n",
      "[101]\tvalidation-auc:0.85946[147]\tvalidation-auc:0.86895\n",
      "\n",
      "[25]\tvalidation-auc:0.87435\n",
      "[25]\tvalidation-auc:0.88025\n",
      "\n",
      "[1]\tvalidation-auc:0.86645\n",
      "[81]\tvalidation-auc:0.87955\n",
      "[53]\tvalidation-auc:0.88145\n",
      "[76]\tvalidation-auc:0.87815[116]\tvalidation-auc:0.84186\n",
      "\n",
      "[102]\tvalidation-auc:0.86036\n",
      "[26]\tvalidation-auc:0.87985\n",
      "[2]\tvalidation-auc:0.86086\n",
      "[75]\tvalidation-auc:0.85766\n",
      "[148]\tvalidation-auc:0.86855\n",
      "[0]\tvalidation-auc:0.83946[82]\tvalidation-auc:0.88095\n",
      "\n",
      "[26]\tvalidation-auc:0.86915\n",
      "[54]\tvalidation-auc:0.88045\n",
      "[77]\tvalidation-auc:0.87835\n",
      "[27]\tvalidation-auc:0.87985[117]\tvalidation-auc:0.84236[3]\tvalidation-auc:0.86445\n",
      "\n",
      "\n",
      "[83]\tvalidation-auc:0.88095\n",
      "[103]\tvalidation-auc:0.85996\n",
      "[76]\tvalidation-auc:0.85606\n",
      "[149]\tvalidation-auc:0.86955\n",
      "[1]\tvalidation-auc:0.83507\n",
      "[27]\tvalidation-auc:0.86955\n",
      "[55]\tvalidation-auc:0.88105\n",
      "[0]\tvalidation-auc:0.84916\n",
      "[78]\tvalidation-auc:0.87755\n",
      "[28]\tvalidation-auc:0.88035\n",
      "[4]\tvalidation-auc:0.86945\n",
      "[84]\tvalidation-auc:0.88075\n",
      "[104]\tvalidation-auc:0.85916\n",
      "[28]\tvalidation-auc:0.87075\n",
      "[77]\tvalidation-auc:0.85696\n",
      "[118]\tvalidation-auc:0.84286[150]\tvalidation-auc:0.86795\n",
      "\n",
      "[56]\tvalidation-auc:0.88005\n",
      "[1]\tvalidation-auc:0.86645\n",
      "[79]\tvalidation-auc:0.87735[2]\tvalidation-auc:0.87565\n",
      "\n",
      "[29]\tvalidation-auc:0.88015\n",
      "[5]\tvalidation-auc:0.86305\n",
      "[85]\tvalidation-auc:0.88095\n",
      "[29]\tvalidation-auc:0.87255\n",
      "[105]\tvalidation-auc:0.85956\n",
      "[57]\tvalidation-auc:0.88185[2]\tvalidation-auc:0.86086\n",
      "\n",
      "[80]\tvalidation-auc:0.87595\n",
      "[151]\tvalidation-auc:0.86795\n",
      "[78]\tvalidation-auc:0.85456\n",
      "[119]\tvalidation-auc:0.84126\n",
      "[3]\tvalidation-auc:0.86905\n",
      "[30]\tvalidation-auc:0.88215\n",
      "[86]\tvalidation-auc:0.88035\n",
      "[6]\tvalidation-auc:0.86845\n",
      "[30]\tvalidation-auc:0.87255[106]\tvalidation-auc:0.85916\n",
      "[3]\tvalidation-auc:0.86445\n",
      "\n",
      "[31]\tvalidation-auc:0.88125\n",
      "[58]\tvalidation-auc:0.88205\n",
      "[81]\tvalidation-auc:0.87555\n",
      "[7]\tvalidation-auc:0.86825\n",
      "[87]\tvalidation-auc:0.87955\n",
      "[4]\tvalidation-auc:0.86585\n",
      "[4]\tvalidation-auc:0.86945\n",
      "[152]\tvalidation-auc:0.86755\n",
      "[31]\tvalidation-auc:0.87355\n",
      "[79]\tvalidation-auc:0.85496\n",
      "[120]\tvalidation-auc:0.84186\n",
      "[32]\tvalidation-auc:0.87905\n",
      "[59]\tvalidation-auc:0.88145\n",
      "[107]\tvalidation-auc:0.85856\n",
      "[82]\tvalidation-auc:0.87495\n",
      "[5]\tvalidation-auc:0.86305\n",
      "[8]\tvalidation-auc:0.86725\n",
      "[88]\tvalidation-auc:0.87935\n",
      "[32]\tvalidation-auc:0.87375\n",
      "[33]\tvalidation-auc:0.88145\n",
      "[60]\tvalidation-auc:0.87985\n",
      "[80]\tvalidation-auc:0.85256\n",
      "[5]\tvalidation-auc:0.86335\n",
      "[121]\tvalidation-auc:0.84146\n",
      "[108]\tvalidation-auc:0.85976\n",
      "[153]\tvalidation-auc:0.86775\n",
      "[34]\tvalidation-auc:0.88285[83]\tvalidation-auc:0.87615\n",
      "[33]\tvalidation-auc:0.87335\n",
      "\n",
      "[61]\tvalidation-auc:0.87825\n",
      "[89]\tvalidation-auc:0.88075\n",
      "[81]\tvalidation-auc:0.85196[9]\tvalidation-auc:0.86156\n",
      "\n",
      "[6]\tvalidation-auc:0.86845\n",
      "[6]\tvalidation-auc:0.86745[122]\tvalidation-auc:0.84266\n",
      "[154]\tvalidation-auc:0.86795\n",
      "\n",
      "[34]\tvalidation-auc:0.87255\n",
      "[35]\tvalidation-auc:0.88145\n",
      "[62]\tvalidation-auc:0.87885[90]\tvalidation-auc:0.88095\n",
      "[84]\tvalidation-auc:0.87595\n",
      "\n",
      "[10]\tvalidation-auc:0.85896\n",
      "[7]\tvalidation-auc:0.86825\n",
      "[35]\tvalidation-auc:0.87195\n",
      "[63]\tvalidation-auc:0.87905\n",
      "[7]\tvalidation-auc:0.85946\n",
      "[155]\tvalidation-auc:0.86755\n",
      "[123]\tvalidation-auc:0.84326\n",
      "[91]\tvalidation-auc:0.88115[36]\tvalidation-auc:0.87945\n",
      "\n",
      "[85]\tvalidation-auc:0.87695\n",
      "[36]\tvalidation-auc:0.87395\n",
      "[64]\tvalidation-auc:0.87685\n",
      "[8]\tvalidation-auc:0.86725\n",
      "[11]\tvalidation-auc:0.85966\n",
      "[156]\tvalidation-auc:0.86795\n",
      "[8]\tvalidation-auc:0.85726\n",
      "[124]\tvalidation-auc:0.84286[92]\tvalidation-auc:0.88115\n",
      "\n",
      "[37]\tvalidation-auc:0.88025\n",
      "[86]\tvalidation-auc:0.87535\n",
      "[65]\tvalidation-auc:0.87645\n",
      "[37]\tvalidation-auc:0.87455[12]\tvalidation-auc:0.86226\n",
      "\n",
      "[9]\tvalidation-auc:0.86156\n",
      "[9]\tvalidation-auc:0.86156\n",
      "[87]\tvalidation-auc:0.87535\n",
      "[10]\tvalidation-auc:0.87385\n",
      "[66]\tvalidation-auc:0.87645\n",
      "[38]\tvalidation-auc:0.88085\n",
      "[125]\tvalidation-auc:0.84286\n",
      "[38]\tvalidation-auc:0.87455\n",
      "[13]\tvalidation-auc:0.86365\n",
      "[10]\tvalidation-auc:0.85896\n",
      "[39]\tvalidation-auc:0.88025\n",
      "[88]\tvalidation-auc:0.87675[126]\tvalidation-auc:0.84306\n",
      "[67]\tvalidation-auc:0.87585\n",
      "\n",
      "[39]\tvalidation-auc:0.87715\n",
      "[40]\tvalidation-auc:0.87865\n",
      "[11]\tvalidation-auc:0.85756\n",
      "[14]\tvalidation-auc:0.86765\n",
      "[11]\tvalidation-auc:0.87985\n",
      "[68]\tvalidation-auc:0.87725\n",
      "[41]\tvalidation-auc:0.87845\n",
      "[89]\tvalidation-auc:0.87675\n",
      "[69]\tvalidation-auc:0.87905\n",
      "[15]\tvalidation-auc:0.86705\n",
      "[12]\tvalidation-auc:0.85956\n",
      "[40]\tvalidation-auc:0.87595[127]\tvalidation-auc:0.84286\n",
      "\n",
      "[12]\tvalidation-auc:0.88315\n",
      "[42]\tvalidation-auc:0.87905[70]\tvalidation-auc:0.87805\n",
      "\n",
      "[41]\tvalidation-auc:0.87755[90]\tvalidation-auc:0.87755[16]\tvalidation-auc:0.87005\n",
      "\n",
      "\n",
      "[71]\tvalidation-auc:0.87845\n",
      "[13]\tvalidation-auc:0.86186\n",
      "[13]\tvalidation-auc:0.88535\n",
      "[43]\tvalidation-auc:0.87725\n",
      "[72]\tvalidation-auc:0.87845\n",
      "[17]\tvalidation-auc:0.87245\n",
      "[42]\tvalidation-auc:0.88035[14]\tvalidation-auc:0.86305\n",
      "[44]\tvalidation-auc:0.87625\n",
      "[73]\tvalidation-auc:0.87685\n",
      "\n",
      "[91]\tvalidation-auc:0.87695\n",
      "[14]\tvalidation-auc:0.88725\n",
      "[43]\tvalidation-auc:0.88135[45]\tvalidation-auc:0.87605\n",
      "\n",
      "[15]\tvalidation-auc:0.86665\n",
      "[74]\tvalidation-auc:0.87745\n",
      "[18]\tvalidation-auc:0.87265\n",
      "[92]\tvalidation-auc:0.87695\n",
      "[15]\tvalidation-auc:0.88784[46]\tvalidation-auc:0.87745\n",
      "\n",
      "[16]\tvalidation-auc:0.86725\n",
      "[75]\tvalidation-auc:0.87745\n",
      "[19]\tvalidation-auc:0.87285\n",
      "[44]\tvalidation-auc:0.88135\n",
      "[93]\tvalidation-auc:0.87935\n",
      "[16]\tvalidation-auc:0.89184\n",
      "[47]\tvalidation-auc:0.87645[17]\tvalidation-auc:0.87125\n",
      "[45]\tvalidation-auc:0.87975\n",
      "[20]\tvalidation-auc:0.87525\n",
      "\n",
      "[76]\tvalidation-auc:0.87705\n",
      "[94]\tvalidation-auc:0.87775\n",
      "[17]\tvalidation-auc:0.88745\n",
      "[21]\tvalidation-auc:0.87335\n",
      "[48]\tvalidation-auc:0.87805\n",
      "[18]\tvalidation-auc:0.87245\n",
      "[95]\tvalidation-auc:0.87875\n",
      "[18]\tvalidation-auc:0.88864\n",
      "[46]\tvalidation-auc:0.87815\n",
      "[77]\tvalidation-auc:0.87705\n",
      "[22]\tvalidation-auc:0.87325\n",
      "[0]\tvalidation-auc:0.84916\n",
      "[49]\tvalidation-auc:0.87885\n",
      "[96]\tvalidation-auc:0.87735\n",
      "[19]\tvalidation-auc:0.87155\n",
      "[78]\tvalidation-auc:0.88025\n",
      "[23]\tvalidation-auc:0.87445\n",
      "[19]\tvalidation-auc:0.88824\n",
      "[47]\tvalidation-auc:0.87815[1]\tvalidation-auc:0.84906\n",
      "\n",
      "[0]\tvalidation-auc:0.84916\n",
      "[50]\tvalidation-auc:0.88145\n",
      "[20]\tvalidation-auc:0.87415[79]\tvalidation-auc:0.87905\n",
      "\n",
      "[97]\tvalidation-auc:0.87915[24]\tvalidation-auc:0.87605\n",
      "[20]\tvalidation-auc:0.88675\n",
      "\n",
      "[48]\tvalidation-auc:0.88095\n",
      "[51]\tvalidation-auc:0.88285\n",
      "[2]\tvalidation-auc:0.84136[1]\tvalidation-auc:0.84906\n",
      "\n",
      "[80]\tvalidation-auc:0.87925\n",
      "[21]\tvalidation-auc:0.87105\n",
      "[25]\tvalidation-auc:0.87585[0]\tvalidation-auc:0.84916\n",
      "\n",
      "[21]\tvalidation-auc:0.88635\n",
      "[52]\tvalidation-auc:0.88125[2]\tvalidation-auc:0.84136\n",
      "\n",
      "[49]\tvalidation-auc:0.87975\n",
      "[3]\tvalidation-auc:0.85676\n",
      "[81]\tvalidation-auc:0.87865\n",
      "[22]\tvalidation-auc:0.87225\n",
      "[26]\tvalidation-auc:0.87455\n",
      "[50]\tvalidation-auc:0.87895\n",
      "[1]\tvalidation-auc:0.86645\n",
      "[0]\tvalidation-auc:0.84916\n",
      "[4]\tvalidation-auc:0.85676\n",
      "[53]\tvalidation-auc:0.88015\n",
      "[3]\tvalidation-auc:0.85676\n",
      "[22]\tvalidation-auc:0.88415\n",
      "[82]\tvalidation-auc:0.87705\n",
      "[27]\tvalidation-auc:0.87355\n",
      "[51]\tvalidation-auc:0.87795[23]\tvalidation-auc:0.87485\n",
      "\n",
      "[2]\tvalidation-auc:0.86445[4]\tvalidation-auc:0.85676\n",
      "[1]\tvalidation-auc:0.86645\n",
      "[28]\tvalidation-auc:0.87435\n",
      "[54]\tvalidation-auc:0.87735\n",
      "[83]\tvalidation-auc:0.87905\n",
      "[23]\tvalidation-auc:0.88435\n",
      "[52]\tvalidation-auc:0.87775\n",
      "\n",
      "[5]\tvalidation-auc:0.85716\n",
      "[24]\tvalidation-auc:0.87545\n",
      "[2]\tvalidation-auc:0.86086\n",
      "[55]\tvalidation-auc:0.87635[24]\tvalidation-auc:0.87995\n",
      "[84]\tvalidation-auc:0.87885\n",
      "\n",
      "[3]\tvalidation-auc:0.86285\n",
      "[53]\tvalidation-auc:0.88055\n",
      "[29]\tvalidation-auc:0.87555\n",
      "[5]\tvalidation-auc:0.85716\n",
      "[6]\tvalidation-auc:0.86146\n",
      "[25]\tvalidation-auc:0.87545\n",
      "[0]\tvalidation-auc:0.84916\n",
      "[30]\tvalidation-auc:0.87715[3]\tvalidation-auc:0.86445\n",
      "[7]\tvalidation-auc:0.85736\n",
      "\n",
      "[6]\tvalidation-auc:0.86146\n",
      "[54]\tvalidation-auc:0.87955\n",
      "[4]\tvalidation-auc:0.86945[56]\tvalidation-auc:0.87775\n",
      "[85]\tvalidation-auc:0.87765\n",
      "\n",
      "[4]\tvalidation-auc:0.86945\n",
      "[25]\tvalidation-auc:0.88435\n",
      "[8]\tvalidation-auc:0.86375\n",
      "[26]\tvalidation-auc:0.87605\n",
      "[55]\tvalidation-auc:0.87785\n",
      "[1]\tvalidation-auc:0.86645[31]\tvalidation-auc:0.87455\n",
      "\n",
      "[5]\tvalidation-auc:0.86305[57]\tvalidation-auc:0.87815\n",
      "\n",
      "[7]\tvalidation-auc:0.85736\n",
      "[86]\tvalidation-auc:0.87845\n",
      "[26]\tvalidation-auc:0.88135\n",
      "[56]\tvalidation-auc:0.87865\n",
      "[5]\tvalidation-auc:0.86305\n",
      "[9]\tvalidation-auc:0.86435\n",
      "[27]\tvalidation-auc:0.87645[32]\tvalidation-auc:0.87335\n",
      "\n",
      "[58]\tvalidation-auc:0.87695[6]\tvalidation-auc:0.86845\n",
      "\n",
      "[2]\tvalidation-auc:0.86086\n",
      "[8]\tvalidation-auc:0.86375\n",
      "[57]\tvalidation-auc:0.87865\n",
      "[6]\tvalidation-auc:0.86845[10]\tvalidation-auc:0.86435\n",
      "\n",
      "[87]\tvalidation-auc:0.87765\n",
      "[27]\tvalidation-auc:0.87915\n",
      "[28]\tvalidation-auc:0.87505[33]\tvalidation-auc:0.87255\n",
      "\n",
      "[7]\tvalidation-auc:0.86825\n",
      "[3]\tvalidation-auc:0.85746\n",
      "[88]\tvalidation-auc:0.87805\n",
      "[9]\tvalidation-auc:0.86435\n",
      "[59]\tvalidation-auc:0.88155\n",
      "[58]\tvalidation-auc:0.87765\n",
      "[7]\tvalidation-auc:0.86825\n",
      "[11]\tvalidation-auc:0.86685\n",
      "[28]\tvalidation-auc:0.87955\n",
      "[34]\tvalidation-auc:0.87755[29]\tvalidation-auc:0.87795\n",
      "[89]\tvalidation-auc:0.87765\n",
      "\n",
      "[8]\tvalidation-auc:0.86725\n",
      "[12]\tvalidation-auc:0.86825\n",
      "[59]\tvalidation-auc:0.87845\n",
      "[8]\tvalidation-auc:0.86685\n",
      "[4]\tvalidation-auc:0.86945\n",
      "[60]\tvalidation-auc:0.87865\n",
      "[10]\tvalidation-auc:0.86435\n",
      "[60]\tvalidation-auc:0.87865\n",
      "[9]\tvalidation-auc:0.86415\n",
      "[5]\tvalidation-auc:0.86305\n",
      "[29]\tvalidation-auc:0.87655\n",
      "[9]\tvalidation-auc:0.86156\n",
      "[30]\tvalidation-auc:0.87635[90]\tvalidation-auc:0.87825\n",
      "[35]\tvalidation-auc:0.87325[13]\tvalidation-auc:0.86345\n",
      "\n",
      "[61]\tvalidation-auc:0.87825\n",
      "\n",
      "[10]\tvalidation-auc:0.86435\n",
      "[11]\tvalidation-auc:0.86705\n",
      "[10]\tvalidation-auc:0.86615\n",
      "[30]\tvalidation-auc:0.87395\n",
      "[0]\tvalidation-auc:0.84916\n",
      "[61]\tvalidation-auc:0.87865\n",
      "[31]\tvalidation-auc:0.87455\n",
      "[6]\tvalidation-auc:0.86845\n",
      "[91]\tvalidation-auc:0.87765\n",
      "[14]\tvalidation-auc:0.86345\n",
      "[62]\tvalidation-auc:0.87745\n",
      "[36]\tvalidation-auc:0.87225\n",
      "[11]\tvalidation-auc:0.86036\n",
      "[12]\tvalidation-auc:0.86825\n",
      "[32]\tvalidation-auc:0.87435\n",
      "[1]\tvalidation-auc:0.86645[62]\tvalidation-auc:0.87805\n",
      "\n",
      "[92]\tvalidation-auc:0.87765[11]\tvalidation-auc:0.85656\n",
      "[31]\tvalidation-auc:0.87475\n",
      "\n",
      "[63]\tvalidation-auc:0.87785\n",
      "[15]\tvalidation-auc:0.86365\n",
      "[37]\tvalidation-auc:0.87385\n",
      "[7]\tvalidation-auc:0.86945\n",
      "[2]\tvalidation-auc:0.86445\n",
      "[12]\tvalidation-auc:0.86465\n",
      "[13]\tvalidation-auc:0.86345[33]\tvalidation-auc:0.87335\n",
      "\n",
      "[12]\tvalidation-auc:0.85836\n",
      "[16]\tvalidation-auc:0.86505\n",
      "[63]\tvalidation-auc:0.87785\n",
      "[64]\tvalidation-auc:0.87865\n",
      "[8]\tvalidation-auc:0.86705\n",
      "[32]\tvalidation-auc:0.87255\n",
      "[38]\tvalidation-auc:0.87645\n",
      "[93]\tvalidation-auc:0.87625\n",
      "[3]\tvalidation-auc:0.86285\n",
      "[9]\tvalidation-auc:0.87265\n",
      "[17]\tvalidation-auc:0.86505\n",
      "[13]\tvalidation-auc:0.86236\n",
      "[14]\tvalidation-auc:0.86345\n",
      "[34]\tvalidation-auc:0.87525[65]\tvalidation-auc:0.87845\n",
      "\n",
      "[33]\tvalidation-auc:0.87355[39]\tvalidation-auc:0.87725\n",
      "[64]\tvalidation-auc:0.87605\n",
      "\n",
      "[13]\tvalidation-auc:0.86325\n",
      "[94]\tvalidation-auc:0.87645\n",
      "[4]\tvalidation-auc:0.86945\n",
      "[15]\tvalidation-auc:0.86365\n",
      "[10]\tvalidation-auc:0.86515\n",
      "[14]\tvalidation-auc:0.86275[18]\tvalidation-auc:0.86735\n",
      "\n",
      "[65]\tvalidation-auc:0.87625\n",
      "[35]\tvalidation-auc:0.87725\n",
      "[66]\tvalidation-auc:0.88065\n",
      "[95]\tvalidation-auc:0.87845\n",
      "[34]\tvalidation-auc:0.87475\n",
      "[14]\tvalidation-auc:0.86515[40]\tvalidation-auc:0.87925\n",
      "[16]\tvalidation-auc:0.86505\n",
      "[5]\tvalidation-auc:0.86305\n",
      "\n",
      "[11]\tvalidation-auc:0.85676\n",
      "[19]\tvalidation-auc:0.86535[66]\tvalidation-auc:0.87595\n",
      "[15]\tvalidation-auc:0.86385\n",
      "\n",
      "[36]\tvalidation-auc:0.87735[15]\tvalidation-auc:0.86695\n",
      "[67]\tvalidation-auc:0.88065\n",
      "[6]\tvalidation-auc:0.86845\n",
      "\n",
      "[17]\tvalidation-auc:0.86345\n",
      "[41]\tvalidation-auc:0.87965[96]\tvalidation-auc:0.87805\n",
      "\n",
      "[67]\tvalidation-auc:0.87555\n",
      "[35]\tvalidation-auc:0.87795\n",
      "[12]\tvalidation-auc:0.86216\n",
      "[20]\tvalidation-auc:0.86375\n",
      "[16]\tvalidation-auc:0.86365\n",
      "[16]\tvalidation-auc:0.86775[7]\tvalidation-auc:0.86975\n",
      "\n",
      "[68]\tvalidation-auc:0.88065\n",
      "[68]\tvalidation-auc:0.87615\n",
      "[42]\tvalidation-auc:0.88205\n",
      "[21]\tvalidation-auc:0.86605\n",
      "[18]\tvalidation-auc:0.86585\n",
      "[13]\tvalidation-auc:0.86236[97]\tvalidation-auc:0.87985\n",
      "\n",
      "[37]\tvalidation-auc:0.87835\n",
      "[17]\tvalidation-auc:0.86925\n",
      "[36]\tvalidation-auc:0.87875\n",
      "[17]\tvalidation-auc:0.86815[69]\tvalidation-auc:0.88085\n",
      "\n",
      "[69]\tvalidation-auc:0.87415\n",
      "[19]\tvalidation-auc:0.86375[8]\tvalidation-auc:0.86685\n",
      "\n",
      "[98]\tvalidation-auc:0.87945\n",
      "[43]\tvalidation-auc:0.88065\n",
      "[38]\tvalidation-auc:0.87875\n",
      "[22]\tvalidation-auc:0.86865[14]\tvalidation-auc:0.86285\n",
      "\n",
      "[18]\tvalidation-auc:0.86655\n",
      "[9]\tvalidation-auc:0.86395[70]\tvalidation-auc:0.88105\n",
      "[18]\tvalidation-auc:0.86995\n",
      "\n",
      "[37]\tvalidation-auc:0.87975\n",
      "[99]\tvalidation-auc:0.88145\n",
      "[70]\tvalidation-auc:0.87435\n",
      "[44]\tvalidation-auc:0.88185\n",
      "[20]\tvalidation-auc:0.86935\n",
      "[39]\tvalidation-auc:0.88035\n",
      "[71]\tvalidation-auc:0.88105[15]\tvalidation-auc:0.86325\n",
      "\n",
      "[19]\tvalidation-auc:0.86915\n",
      "[10]\tvalidation-auc:0.86395[19]\tvalidation-auc:0.86985\n",
      "[45]\tvalidation-auc:0.88465\n",
      "[38]\tvalidation-auc:0.87735\n",
      "\n",
      "[21]\tvalidation-auc:0.87025\n",
      "[23]\tvalidation-auc:0.86705\n",
      "[71]\tvalidation-auc:0.87355[40]\tvalidation-auc:0.87915[72]\tvalidation-auc:0.88025\n",
      "\n",
      "[20]\tvalidation-auc:0.87055\n",
      "[16]\tvalidation-auc:0.86605\n",
      "\n",
      "[20]\tvalidation-auc:0.86845\n",
      "[100]\tvalidation-auc:0.88185\n",
      "[46]\tvalidation-auc:0.88824\n",
      "[39]\tvalidation-auc:0.87575[11]\tvalidation-auc:0.86525\n",
      "\n",
      "[73]\tvalidation-auc:0.87865\n",
      "[21]\tvalidation-auc:0.87315[72]\tvalidation-auc:0.87335\n",
      "[22]\tvalidation-auc:0.87225\n",
      "[41]\tvalidation-auc:0.87815\n",
      "\n",
      "[47]\tvalidation-auc:0.88784\n",
      "[24]\tvalidation-auc:0.87285\n",
      "[21]\tvalidation-auc:0.86785\n",
      "[17]\tvalidation-auc:0.86815\n",
      "[101]\tvalidation-auc:0.88025\n",
      "[40]\tvalidation-auc:0.87595\n",
      "[12]\tvalidation-auc:0.86505\n",
      "[73]\tvalidation-auc:0.87715\n",
      "[42]\tvalidation-auc:0.87735\n",
      "[22]\tvalidation-auc:0.86645\n",
      "[23]\tvalidation-auc:0.86885\n",
      "[48]\tvalidation-auc:0.88645\n",
      "[74]\tvalidation-auc:0.87965\n",
      "[22]\tvalidation-auc:0.87075[102]\tvalidation-auc:0.88025\n",
      "[25]\tvalidation-auc:0.87085\n",
      "\n",
      "[18]\tvalidation-auc:0.86975\n",
      "[74]\tvalidation-auc:0.87675\n",
      "[13]\tvalidation-auc:0.86385[23]\tvalidation-auc:0.87295\n",
      "\n",
      "[43]\tvalidation-auc:0.87775\n",
      "[41]\tvalidation-auc:0.87535\n",
      "[75]\tvalidation-auc:0.87785\n",
      "[26]\tvalidation-auc:0.86775\n",
      "[75]\tvalidation-auc:0.87795\n",
      "[23]\tvalidation-auc:0.87195\n",
      "[49]\tvalidation-auc:0.88665\n",
      "[24]\tvalidation-auc:0.87125\n",
      "[19]\tvalidation-auc:0.87155\n",
      "[14]\tvalidation-auc:0.86565\n",
      "[24]\tvalidation-auc:0.87295[25]\tvalidation-auc:0.87085\n",
      "[27]\tvalidation-auc:0.86955\n",
      "\n",
      "[44]\tvalidation-auc:0.87685\n",
      "[76]\tvalidation-auc:0.87835\n",
      "[76]\tvalidation-auc:0.87685\n",
      "[20]\tvalidation-auc:0.87275\n",
      "[24]\tvalidation-auc:0.87075\n",
      "[42]\tvalidation-auc:0.87635\n",
      "[50]\tvalidation-auc:0.88625\n",
      "[45]\tvalidation-auc:0.87505\n",
      "[15]\tvalidation-auc:0.86885\n",
      "[21]\tvalidation-auc:0.87515\n",
      "[25]\tvalidation-auc:0.87095\n",
      "[26]\tvalidation-auc:0.86835\n",
      "[25]\tvalidation-auc:0.87155\n",
      "[77]\tvalidation-auc:0.87955\n",
      "[43]\tvalidation-auc:0.87595\n",
      "[28]\tvalidation-auc:0.86935\n",
      "[77]\tvalidation-auc:0.87915\n",
      "[51]\tvalidation-auc:0.88565\n",
      "[22]\tvalidation-auc:0.87515[16]\tvalidation-auc:0.87045\n",
      "[46]\tvalidation-auc:0.87705\n",
      "\n",
      "[27]\tvalidation-auc:0.87055\n",
      "[26]\tvalidation-auc:0.87075\n",
      "[78]\tvalidation-auc:0.87975[26]\tvalidation-auc:0.87175\n",
      "\n",
      "[78]\tvalidation-auc:0.87955\n",
      "[29]\tvalidation-auc:0.86275\n",
      "[52]\tvalidation-auc:0.88605[23]\tvalidation-auc:0.87555[27]\tvalidation-auc:0.86995\n",
      "[27]\tvalidation-auc:0.87255\n",
      "[79]\tvalidation-auc:0.87955\n",
      "[30]\tvalidation-auc:0.86515\n",
      "[79]\tvalidation-auc:0.87935\n",
      "[28]\tvalidation-auc:0.87035\n",
      "\n",
      "\n",
      "[47]\tvalidation-auc:0.87665\n",
      "[17]\tvalidation-auc:0.86925\n",
      "[44]\tvalidation-auc:0.87755\n",
      "[31]\tvalidation-auc:0.86375\n",
      "[80]\tvalidation-auc:0.87955[53]\tvalidation-auc:0.88605\n",
      "[28]\tvalidation-auc:0.87295\n",
      "[80]\tvalidation-auc:0.87975\n",
      "[28]\tvalidation-auc:0.87135\n",
      "\n",
      "[45]\tvalidation-auc:0.87815\n",
      "[18]\tvalidation-auc:0.87185\n",
      "[29]\tvalidation-auc:0.86455\n",
      "[24]\tvalidation-auc:0.87865\n",
      "[29]\tvalidation-auc:0.87375[48]\tvalidation-auc:0.87545\n",
      "[54]\tvalidation-auc:0.88505\n",
      "\n",
      "[32]\tvalidation-auc:0.86475[19]\tvalidation-auc:0.87295\n",
      "[81]\tvalidation-auc:0.87695\n",
      "[81]\tvalidation-auc:0.87955\n",
      "[46]\tvalidation-auc:0.87515\n",
      "[30]\tvalidation-auc:0.86695\n",
      "\n",
      "[29]\tvalidation-auc:0.86825[25]\tvalidation-auc:0.87505[55]\tvalidation-auc:0.88505\n",
      "[49]\tvalidation-auc:0.87565\n",
      "\n",
      "\n",
      "[30]\tvalidation-auc:0.87625\n",
      "[82]\tvalidation-auc:0.87825\n",
      "[20]\tvalidation-auc:0.87475\n",
      "[31]\tvalidation-auc:0.86615\n",
      "[82]\tvalidation-auc:0.88095\n",
      "[56]\tvalidation-auc:0.88425\n",
      "[26]\tvalidation-auc:0.87565\n",
      "[47]\tvalidation-auc:0.87735[30]\tvalidation-auc:0.87025\n",
      "\n",
      "[31]\tvalidation-auc:0.87605\n",
      "[33]\tvalidation-auc:0.86335\n",
      "[50]\tvalidation-auc:0.87585\n",
      "[83]\tvalidation-auc:0.87865\n",
      "[21]\tvalidation-auc:0.87635\n",
      "[83]\tvalidation-auc:0.88095\n",
      "[27]\tvalidation-auc:0.87465\n",
      "[31]\tvalidation-auc:0.87085\n",
      "[32]\tvalidation-auc:0.87685\n",
      "[32]\tvalidation-auc:0.86675\n",
      "[48]\tvalidation-auc:0.87625\n",
      "[34]\tvalidation-auc:0.86535\n",
      "[51]\tvalidation-auc:0.87785\n",
      "[57]\tvalidation-auc:0.88425\n",
      "[22]\tvalidation-auc:0.87635[35]\tvalidation-auc:0.86176\n",
      "[52]\tvalidation-auc:0.87765\n",
      "[84]\tvalidation-auc:0.88075\n",
      "\n",
      "[33]\tvalidation-auc:0.87645\n",
      "[33]\tvalidation-auc:0.86575[28]\tvalidation-auc:0.87095\n",
      "[49]\tvalidation-auc:0.87765\n",
      "[32]\tvalidation-auc:0.87235\n",
      "\n",
      "[58]\tvalidation-auc:0.88325\n",
      "[85]\tvalidation-auc:0.88095\n",
      "[36]\tvalidation-auc:0.86305[34]\tvalidation-auc:0.87805\n",
      "[33]\tvalidation-auc:0.87075\n",
      "[34]\tvalidation-auc:0.86595\n",
      "[53]\tvalidation-auc:0.87605\n",
      "\n",
      "[50]\tvalidation-auc:0.87785\n",
      "[23]\tvalidation-auc:0.87735[59]\tvalidation-auc:0.88205\n",
      "[86]\tvalidation-auc:0.88035\n",
      "\n",
      "[29]\tvalidation-auc:0.87135\n",
      "[34]\tvalidation-auc:0.87175[60]\tvalidation-auc:0.88305\n",
      "[54]\tvalidation-auc:0.87285\n",
      "[35]\tvalidation-auc:0.87705\n",
      "[37]\tvalidation-auc:0.86365[24]\tvalidation-auc:0.87575\n",
      "\n",
      "\n",
      "[51]\tvalidation-auc:0.87785\n",
      "[35]\tvalidation-auc:0.86455\n",
      "[87]\tvalidation-auc:0.87955\n",
      "[30]\tvalidation-auc:0.87175\n",
      "[0]\tvalidation-auc:0.84916\n",
      "[61]\tvalidation-auc:0.88245\n",
      "[35]\tvalidation-auc:0.87015\n",
      "[25]\tvalidation-auc:0.87425\n",
      "[88]\tvalidation-auc:0.88115\n",
      "[1]\tvalidation-auc:0.84906\n",
      "[31]\tvalidation-auc:0.87155\n",
      "[52]\tvalidation-auc:0.87685\n",
      "[55]\tvalidation-auc:0.87305\n",
      "[38]\tvalidation-auc:0.86465\n",
      "[36]\tvalidation-auc:0.87725\n",
      "[36]\tvalidation-auc:0.86535\n",
      "[26]\tvalidation-auc:0.87465\n",
      "[89]\tvalidation-auc:0.88035[62]\tvalidation-auc:0.88545\n",
      "[56]\tvalidation-auc:0.87565\n",
      "\n",
      "[39]\tvalidation-auc:0.86265\n",
      "[2]\tvalidation-auc:0.84136\n",
      "[37]\tvalidation-auc:0.87725\n",
      "[37]\tvalidation-auc:0.86375\n",
      "[32]\tvalidation-auc:0.87475\n",
      "[36]\tvalidation-auc:0.87215\n",
      "[27]\tvalidation-auc:0.87565\n",
      "[53]\tvalidation-auc:0.87645\n",
      "[40]\tvalidation-auc:0.86226\n",
      "[90]\tvalidation-auc:0.88095\n",
      "[38]\tvalidation-auc:0.86465\n",
      "[57]\tvalidation-auc:0.87745\n",
      "[63]\tvalidation-auc:0.88485\n",
      "[33]\tvalidation-auc:0.87495\n",
      "[37]\tvalidation-auc:0.87175\n",
      "[28]\tvalidation-auc:0.87205\n",
      "[38]\tvalidation-auc:0.87685\n",
      "[54]\tvalidation-auc:0.87705\n",
      "[3]\tvalidation-auc:0.84316\n",
      "[34]\tvalidation-auc:0.87525\n",
      "[64]\tvalidation-auc:0.88445\n",
      "[58]\tvalidation-auc:0.87625\n",
      "[41]\tvalidation-auc:0.86645\n",
      "[91]\tvalidation-auc:0.88115\n",
      "[29]\tvalidation-auc:0.87305\n",
      "[38]\tvalidation-auc:0.87075\n",
      "[55]\tvalidation-auc:0.87685[39]\tvalidation-auc:0.86425\n",
      "\n",
      "[4]\tvalidation-auc:0.85676\n",
      "[35]\tvalidation-auc:0.87545\n",
      "[30]\tvalidation-auc:0.87525[59]\tvalidation-auc:0.87665\n",
      "\n",
      "[39]\tvalidation-auc:0.87585\n",
      "[65]\tvalidation-auc:0.88425\n",
      "[39]\tvalidation-auc:0.86915\n",
      "[42]\tvalidation-auc:0.86625\n",
      "[5]\tvalidation-auc:0.85716\n",
      "[40]\tvalidation-auc:0.86505\n",
      "[92]\tvalidation-auc:0.88135\n",
      "[56]\tvalidation-auc:0.87705\n",
      "[36]\tvalidation-auc:0.87465[93]\tvalidation-auc:0.88135\n",
      "[31]\tvalidation-auc:0.87725\n",
      "[40]\tvalidation-auc:0.87605\n",
      "[60]\tvalidation-auc:0.87685\n",
      "[43]\tvalidation-auc:0.86725\n",
      "[66]\tvalidation-auc:0.88465\n",
      "\n",
      "[40]\tvalidation-auc:0.86875\n",
      "[41]\tvalidation-auc:0.86515\n",
      "[6]\tvalidation-auc:0.86146\n",
      "[67]\tvalidation-auc:0.88595\n",
      "[32]\tvalidation-auc:0.87685[41]\tvalidation-auc:0.87195\n",
      "[42]\tvalidation-auc:0.86695\n",
      "\n",
      "[61]\tvalidation-auc:0.87845\n",
      "[7]\tvalidation-auc:0.85496\n",
      "[37]\tvalidation-auc:0.87425\n",
      "[44]\tvalidation-auc:0.86825\n",
      "[57]\tvalidation-auc:0.87565\n",
      "[68]\tvalidation-auc:0.88595\n",
      "[41]\tvalidation-auc:0.87445\n",
      "[43]\tvalidation-auc:0.86675[62]\tvalidation-auc:0.87825\n",
      "[38]\tvalidation-auc:0.87805\n",
      "[8]\tvalidation-auc:0.85656\n",
      "[45]\tvalidation-auc:0.86725\n",
      "\n",
      "[58]\tvalidation-auc:0.87465\n",
      "[69]\tvalidation-auc:0.88575\n",
      "[33]\tvalidation-auc:0.87705\n",
      "[42]\tvalidation-auc:0.87115\n",
      "[42]\tvalidation-auc:0.87345\n",
      "[63]\tvalidation-auc:0.87875\n",
      "[39]\tvalidation-auc:0.87965\n",
      "[46]\tvalidation-auc:0.87025\n",
      "[9]\tvalidation-auc:0.86475[44]\tvalidation-auc:0.86865\n",
      "\n",
      "[70]\tvalidation-auc:0.88555\n",
      "[47]\tvalidation-auc:0.87005\n",
      "[43]\tvalidation-auc:0.87345[64]\tvalidation-auc:0.87985\n",
      "[34]\tvalidation-auc:0.87545\n",
      "[43]\tvalidation-auc:0.87355\n",
      "[40]\tvalidation-auc:0.87945\n",
      "\n",
      "[10]\tvalidation-auc:0.86415\n",
      "[59]\tvalidation-auc:0.87345[45]\tvalidation-auc:0.86905\n",
      "\n",
      "[71]\tvalidation-auc:0.88535\n",
      "[0]\tvalidation-auc:0.84916[48]\tvalidation-auc:0.87005\n",
      "\n",
      "[65]\tvalidation-auc:0.88025\n",
      "[35]\tvalidation-auc:0.87465[41]\tvalidation-auc:0.87945\n",
      "\n",
      "[44]\tvalidation-auc:0.87445\n",
      "[44]\tvalidation-auc:0.87495\n",
      "[11]\tvalidation-auc:0.86775[1]\tvalidation-auc:0.84166\n",
      "[49]\tvalidation-auc:0.87195\n",
      "[60]\tvalidation-auc:0.87185\n",
      "[46]\tvalidation-auc:0.87005\n",
      "\n",
      "[72]\tvalidation-auc:0.88715\n",
      "[66]\tvalidation-auc:0.87745\n",
      "[36]\tvalidation-auc:0.87725\n",
      "[45]\tvalidation-auc:0.87595\n",
      "[42]\tvalidation-auc:0.87985\n",
      "[45]\tvalidation-auc:0.87405\n",
      "[73]\tvalidation-auc:0.88575\n",
      "[47]\tvalidation-auc:0.87165\n",
      "[2]\tvalidation-auc:0.85706\n",
      "[61]\tvalidation-auc:0.87145\n",
      "[12]\tvalidation-auc:0.86086[67]\tvalidation-auc:0.87745[50]\tvalidation-auc:0.87195\n",
      "\n",
      "\n",
      "[3]\tvalidation-auc:0.87255[43]\tvalidation-auc:0.88085\n",
      "\n",
      "[48]\tvalidation-auc:0.87245\n",
      "[37]\tvalidation-auc:0.87785\n",
      "[13]\tvalidation-auc:0.86465\n",
      "[74]\tvalidation-auc:0.88794\n",
      "[46]\tvalidation-auc:0.87305\n",
      "[62]\tvalidation-auc:0.87185\n",
      "[68]\tvalidation-auc:0.87835\n",
      "[46]\tvalidation-auc:0.87655\n",
      "[44]\tvalidation-auc:0.88045\n",
      "[51]\tvalidation-auc:0.87115\n",
      "[69]\tvalidation-auc:0.87925[4]\tvalidation-auc:0.87005\n",
      "[38]\tvalidation-auc:0.87605\n",
      "[49]\tvalidation-auc:0.87285\n",
      "\n",
      "[75]\tvalidation-auc:0.88794\n",
      "[47]\tvalidation-auc:0.87465\n",
      "[14]\tvalidation-auc:0.86126\n",
      "[63]\tvalidation-auc:0.87385\n",
      "[45]\tvalidation-auc:0.88085\n",
      "[52]\tvalidation-auc:0.87155[47]\tvalidation-auc:0.87615\n",
      "\n",
      "[70]\tvalidation-auc:0.87865[39]\tvalidation-auc:0.87865\n",
      "[50]\tvalidation-auc:0.87365\n",
      "\n",
      "[76]\tvalidation-auc:0.88894\n",
      "[48]\tvalidation-auc:0.87465[5]\tvalidation-auc:0.86465\n",
      "\n",
      "[15]\tvalidation-auc:0.85966\n",
      "[53]\tvalidation-auc:0.87355\n",
      "[64]\tvalidation-auc:0.87405\n",
      "[48]\tvalidation-auc:0.87635\n",
      "[40]\tvalidation-auc:0.87685\n",
      "[51]\tvalidation-auc:0.87345\n",
      "[46]\tvalidation-auc:0.88065\n",
      "[54]\tvalidation-auc:0.87335\n",
      "[77]\tvalidation-auc:0.88974\n",
      "[65]\tvalidation-auc:0.87345\n",
      "[49]\tvalidation-auc:0.87545\n",
      "[49]\tvalidation-auc:0.87575\n",
      "[52]\tvalidation-auc:0.87295[16]\tvalidation-auc:0.86665\n",
      "[41]\tvalidation-auc:0.87785\n",
      "[6]\tvalidation-auc:0.87125\n",
      "\n",
      "[71]\tvalidation-auc:0.87785\n",
      "[78]\tvalidation-auc:0.88794\n",
      "[47]\tvalidation-auc:0.88025\n",
      "[72]\tvalidation-auc:0.87745[55]\tvalidation-auc:0.87275\n",
      "[17]\tvalidation-auc:0.86345\n",
      "[50]\tvalidation-auc:0.87465\n",
      "[53]\tvalidation-auc:0.87295\n",
      "[42]\tvalidation-auc:0.87685\n",
      "[7]\tvalidation-auc:0.86405\n",
      "\n",
      "[50]\tvalidation-auc:0.87555\n",
      "[79]\tvalidation-auc:0.88774\n",
      "[48]\tvalidation-auc:0.88005[0]\tvalidation-auc:0.84056\n",
      "\n",
      "[56]\tvalidation-auc:0.87415\n",
      "[43]\tvalidation-auc:0.87725[51]\tvalidation-auc:0.87645\n",
      "[51]\tvalidation-auc:0.87855\n",
      "[18]\tvalidation-auc:0.86345\n",
      "[54]\tvalidation-auc:0.87375\n",
      "[80]\tvalidation-auc:0.88854\n",
      "\n",
      "[8]\tvalidation-auc:0.86635\n",
      "[73]\tvalidation-auc:0.87685\n",
      "[49]\tvalidation-auc:0.87925[1]\tvalidation-auc:0.84026\n",
      "[57]\tvalidation-auc:0.87395\n",
      "\n",
      "[55]\tvalidation-auc:0.87355\n",
      "[44]\tvalidation-auc:0.87625\n",
      "[74]\tvalidation-auc:0.87605\n",
      "[52]\tvalidation-auc:0.87855\n",
      "[81]\tvalidation-auc:0.88954\n",
      "[9]\tvalidation-auc:0.86355\n",
      "[52]\tvalidation-auc:0.87845\n",
      "[19]\tvalidation-auc:0.86565\n",
      "[45]\tvalidation-auc:0.87895[50]\tvalidation-auc:0.88085\n",
      "[82]\tvalidation-auc:0.88994\n",
      "\n",
      "[56]\tvalidation-auc:0.87335\n",
      "[75]\tvalidation-auc:0.87585\n",
      "[53]\tvalidation-auc:0.87915\n",
      "[58]\tvalidation-auc:0.87415\n",
      "[2]\tvalidation-auc:0.84206\n",
      "[10]\tvalidation-auc:0.87145\n",
      "[53]\tvalidation-auc:0.87775\n",
      "[20]\tvalidation-auc:0.86325\n",
      "[76]\tvalidation-auc:0.87785\n",
      "[59]\tvalidation-auc:0.87385\n",
      "[54]\tvalidation-auc:0.88035\n",
      "[46]\tvalidation-auc:0.87835\n",
      "[51]\tvalidation-auc:0.87925\n",
      "[3]\tvalidation-auc:0.84206\n",
      "[54]\tvalidation-auc:0.87615\n",
      "[11]\tvalidation-auc:0.86435\n",
      "[21]\tvalidation-auc:0.86325\n",
      "[57]\tvalidation-auc:0.87325\n",
      "[83]\tvalidation-auc:0.89014\n",
      "[77]\tvalidation-auc:0.87905\n",
      "[60]\tvalidation-auc:0.87385\n",
      "[52]\tvalidation-auc:0.87905[12]\tvalidation-auc:0.86825\n",
      "\n",
      "[4]\tvalidation-auc:0.84646\n",
      "[55]\tvalidation-auc:0.88095\n",
      "[22]\tvalidation-auc:0.86375\n",
      "[58]\tvalidation-auc:0.87445\n",
      "[78]\tvalidation-auc:0.87785\n",
      "[55]\tvalidation-auc:0.87815\n",
      "[47]\tvalidation-auc:0.87775\n",
      "[61]\tvalidation-auc:0.87525\n",
      "[84]\tvalidation-auc:0.88994\n",
      "[23]\tvalidation-auc:0.86415\n",
      "[59]\tvalidation-auc:0.87405\n",
      "[56]\tvalidation-auc:0.87955\n",
      "[79]\tvalidation-auc:0.87865\n",
      "[53]\tvalidation-auc:0.87925\n",
      "[13]\tvalidation-auc:0.86675\n",
      "[48]\tvalidation-auc:0.87755\n",
      "[56]\tvalidation-auc:0.87695\n",
      "[85]\tvalidation-auc:0.88854\n",
      "[5]\tvalidation-auc:0.84646\n",
      "[60]\tvalidation-auc:0.87445\n",
      "[62]\tvalidation-auc:0.87625\n",
      "[80]\tvalidation-auc:0.87765\n",
      "[86]\tvalidation-auc:0.88994\n",
      "[14]\tvalidation-auc:0.86635\n",
      "[57]\tvalidation-auc:0.87835\n",
      "[24]\tvalidation-auc:0.86975\n",
      "[49]\tvalidation-auc:0.87915\n",
      "[54]\tvalidation-auc:0.87945\n",
      "[6]\tvalidation-auc:0.85776[57]\tvalidation-auc:0.87815\n",
      "[61]\tvalidation-auc:0.87565\n",
      "\n",
      "[63]\tvalidation-auc:0.87645\n",
      "[87]\tvalidation-auc:0.88994[81]\tvalidation-auc:0.87945\n",
      "\n",
      "[50]\tvalidation-auc:0.87855\n",
      "[58]\tvalidation-auc:0.88035\n",
      "[58]\tvalidation-auc:0.87735\n",
      "[55]\tvalidation-auc:0.87925\n",
      "[15]\tvalidation-auc:0.86635\n",
      "[25]\tvalidation-auc:0.87085\n",
      "[62]\tvalidation-auc:0.87445\n",
      "[59]\tvalidation-auc:0.87955[82]\tvalidation-auc:0.87865\n",
      "[56]\tvalidation-auc:0.87925\n",
      "\n",
      "[51]\tvalidation-auc:0.87795\n",
      "[63]\tvalidation-auc:0.87445\n",
      "[64]\tvalidation-auc:0.87525\n",
      "[26]\tvalidation-auc:0.86925\n",
      "[88]\tvalidation-auc:0.88944\n",
      "[7]\tvalidation-auc:0.85786\n",
      "[16]\tvalidation-auc:0.86795[59]\tvalidation-auc:0.87835\n",
      "\n",
      "[83]\tvalidation-auc:0.87885\n",
      "[60]\tvalidation-auc:0.87875\n",
      "[27]\tvalidation-auc:0.87105\n",
      "[89]\tvalidation-auc:0.88904[52]\tvalidation-auc:0.87875\n",
      "[65]\tvalidation-auc:0.87605\n",
      "[64]\tvalidation-auc:0.87425\n",
      "\n",
      "[60]\tvalidation-auc:0.87715\n",
      "[17]\tvalidation-auc:0.86675\n",
      "[84]\tvalidation-auc:0.87865\n",
      "[28]\tvalidation-auc:0.86825\n",
      "[57]\tvalidation-auc:0.88045\n",
      "[8]\tvalidation-auc:0.86395[61]\tvalidation-auc:0.87735\n",
      "\n",
      "[65]\tvalidation-auc:0.87545\n",
      "[61]\tvalidation-auc:0.87915\n",
      "[90]\tvalidation-auc:0.89204\n",
      "[66]\tvalidation-auc:0.87605\n",
      "[29]\tvalidation-auc:0.87045\n",
      "[18]\tvalidation-auc:0.86645\n",
      "[85]\tvalidation-auc:0.87685\n",
      "[58]\tvalidation-auc:0.87945\n",
      "[53]\tvalidation-auc:0.87775[62]\tvalidation-auc:0.87675\n",
      "\n",
      "[9]\tvalidation-auc:0.86395\n",
      "[66]\tvalidation-auc:0.87505[86]\tvalidation-auc:0.87805\n",
      "[0]\tvalidation-auc:0.84916\n",
      "\n",
      "[62]\tvalidation-auc:0.87715\n",
      "[19]\tvalidation-auc:0.86805\n",
      "[59]\tvalidation-auc:0.87825\n",
      "[30]\tvalidation-auc:0.86975\n",
      "[67]\tvalidation-auc:0.87625\n",
      "[54]\tvalidation-auc:0.87595\n",
      "[91]\tvalidation-auc:0.89264\n",
      "[63]\tvalidation-auc:0.87675\n",
      "[10]\tvalidation-auc:0.86675\n",
      "[31]\tvalidation-auc:0.86835[1]\tvalidation-auc:0.84166\n",
      "[63]\tvalidation-auc:0.87555\n",
      "[55]\tvalidation-auc:0.87635\n",
      "\n",
      "[92]\tvalidation-auc:0.89144\n",
      "[60]\tvalidation-auc:0.87685\n",
      "[67]\tvalidation-auc:0.87595\n",
      "[87]\tvalidation-auc:0.87745\n",
      "[68]\tvalidation-auc:0.87565\n",
      "[20]\tvalidation-auc:0.86785\n",
      "[64]\tvalidation-auc:0.87675\n",
      "[2]\tvalidation-auc:0.85706\n",
      "[68]\tvalidation-auc:0.87615\n",
      "[61]\tvalidation-auc:0.87865\n",
      "[93]\tvalidation-auc:0.89144\n",
      "[56]\tvalidation-auc:0.87675\n",
      "[65]\tvalidation-auc:0.87675\n",
      "[11]\tvalidation-auc:0.86705\n",
      "[88]\tvalidation-auc:0.87665\n",
      "[32]\tvalidation-auc:0.86815\n",
      "[64]\tvalidation-auc:0.87535\n",
      "[69]\tvalidation-auc:0.87565\n",
      "[21]\tvalidation-auc:0.86865\n",
      "[3]\tvalidation-auc:0.87255\n",
      "[33]\tvalidation-auc:0.86855[62]\tvalidation-auc:0.87925\n",
      "[69]\tvalidation-auc:0.87515\n",
      "[94]\tvalidation-auc:0.89224\n",
      "\n",
      "[57]\tvalidation-auc:0.87615[89]\tvalidation-auc:0.87845\n",
      "[66]\tvalidation-auc:0.87615[22]\tvalidation-auc:0.86865\n",
      "\n",
      "\n",
      "[4]\tvalidation-auc:0.86985\n",
      "[70]\tvalidation-auc:0.87665\n",
      "[34]\tvalidation-auc:0.86855\n",
      "[12]\tvalidation-auc:0.86625\n",
      "[65]\tvalidation-auc:0.87735\n",
      "[63]\tvalidation-auc:0.87885[70]\tvalidation-auc:0.87575\n",
      "\n",
      "[95]\tvalidation-auc:0.89124\n",
      "[58]\tvalidation-auc:0.87595\n",
      "[23]\tvalidation-auc:0.86845\n",
      "[71]\tvalidation-auc:0.87525\n",
      "[35]\tvalidation-auc:0.86795\n",
      "[5]\tvalidation-auc:0.86465\n"
     ]
    }
   ],
   "source": [
    "def objective(trial):\n",
    "    # Define the search space for hyperparameters\n",
    "    param = {\n",
    "        'objective': 'binary:logitraw',\n",
    "        'eval_metric': 'auc',\n",
    "        'eta': trial.suggest_float('eta', 0.01, 0.3),\n",
    "        # 'num_boost_round': 100000, # Fix the boosting round and use early stopping\n",
    "        'max_depth': trial.suggest_int('max_depth', 3, 10)\n",
    "        # 'subsample': trial.suggest_float('subsample', 0.5, 1.0),\n",
    "        # 'colsample_bytree': trial.suggest_float('colsample_bytree', 0.5, 1.0),\n",
    "        # 'gamma': trial.suggest_float('gamma', 0.0, 10.0),\n",
    "        # 'min_child_weight': trial.suggest_float('min_child_weight', 0.1, 10.0),\n",
    "        # 'lambda': trial.suggest_float('lambda', 0.1, 10.0),\n",
    "        # 'alpha': trial.suggest_float('alpha', 0.0, 10.0),\n",
    "    }\n",
    "\n",
    "    # Split the data into further training and validation sets (three sets are preferable)\n",
    "    train_data, valid_data, train_target, valid_target = train_test_split(x_train_tr, y_train, test_size=0.2, random_state=42)\n",
    "\n",
    "    # Convert the data into DMatrix format\n",
    "    dtrain = xgb.DMatrix(train_data, label=train_target)\n",
    "    dvalid = xgb.DMatrix(valid_data, label=valid_target)\n",
    "\n",
    "    # Define the pruning callback for early stopping\n",
    "    pruning_callback = optuna.integration.XGBoostPruningCallback(trial, 'validation-rmse')\n",
    "\n",
    "    # Train the model with early stopping\n",
    "    model = xgb.train(param, dtrain, evals=[(dvalid, 'validation')], num_boost_round=1000000, early_stopping_rounds=50)\n",
    "\n",
    "                      # , callbacks=[pruning_callback])\n",
    "\n",
    "    # Make predictions on the test set\n",
    "    dtest = xgb.DMatrix(valid_data)\n",
    "    y_pred = model.predict(dtest)\n",
    "\n",
    "    # Calculate the root mean squared error\n",
    "    roc_auc = roc_auc_score(valid_target, y_pred)\n",
    "\n",
    "    return roc_auc\n",
    "\n",
    "# Create an Optuna study and optimize the objective function\n",
    "study = optuna.create_study(direction='maximize')\n",
    "optuna.logging.set_verbosity(optuna.logging.WARNING)\n",
    "study.optimize(objective, n_trials=100, timeout=10, n_jobs=-1) # Control the number of trials\n",
    "\n",
    "# Print the best hyperparameters and the best score\n",
    "best_params = study.best_params\n",
    "best_roc_auc = study.best_value\n",
    "print(\"Best Hyperparameters: \", best_params)\n",
    "print(\"Best roc_auc: \", best_roc_auc)"
   ],
   "metadata": {
    "collapsed": false,
    "pycharm": {
     "name": "#%%\n"
    }
   }
  },
  {
   "cell_type": "code",
   "execution_count": null,
   "outputs": [],
   "source": [],
   "metadata": {
    "collapsed": false,
    "pycharm": {
     "name": "#%%\n"
    }
   }
  },
  {
   "cell_type": "code",
   "execution_count": null,
   "outputs": [],
   "source": [],
   "metadata": {
    "collapsed": false,
    "pycharm": {
     "name": "#%%\n"
    }
   }
  },
  {
   "cell_type": "code",
   "execution_count": null,
   "outputs": [],
   "source": [],
   "metadata": {
    "collapsed": false,
    "pycharm": {
     "name": "#%%\n"
    }
   }
  },
  {
   "cell_type": "code",
   "execution_count": null,
   "outputs": [],
   "source": [],
   "metadata": {
    "collapsed": false,
    "pycharm": {
     "name": "#%%\n"
    }
   }
  },
  {
   "cell_type": "code",
   "execution_count": null,
   "outputs": [],
   "source": [],
   "metadata": {
    "collapsed": false,
    "pycharm": {
     "name": "#%%\n"
    }
   }
  },
  {
   "cell_type": "code",
   "execution_count": null,
   "outputs": [],
   "source": [],
   "metadata": {
    "collapsed": false,
    "pycharm": {
     "name": "#%%\n"
    }
   }
  },
  {
   "cell_type": "code",
   "execution_count": null,
   "outputs": [],
   "source": [],
   "metadata": {
    "collapsed": false,
    "pycharm": {
     "name": "#%%\n"
    }
   }
  },
  {
   "cell_type": "code",
   "execution_count": null,
   "outputs": [],
   "source": [],
   "metadata": {
    "collapsed": false,
    "pycharm": {
     "name": "#%%\n"
    }
   }
  },
  {
   "cell_type": "code",
   "execution_count": null,
   "outputs": [],
   "source": [],
   "metadata": {
    "collapsed": false,
    "pycharm": {
     "name": "#%%\n"
    }
   }
  },
  {
   "cell_type": "code",
   "execution_count": null,
   "outputs": [],
   "source": [],
   "metadata": {
    "collapsed": false,
    "pycharm": {
     "name": "#%%\n"
    }
   }
  },
  {
   "cell_type": "code",
   "execution_count": null,
   "outputs": [],
   "source": [],
   "metadata": {
    "collapsed": false,
    "pycharm": {
     "name": "#%%\n"
    }
   }
  },
  {
   "cell_type": "code",
   "execution_count": null,
   "outputs": [],
   "source": [],
   "metadata": {
    "collapsed": false,
    "pycharm": {
     "name": "#%%\n"
    }
   }
  },
  {
   "cell_type": "code",
   "execution_count": null,
   "outputs": [],
   "source": [],
   "metadata": {
    "collapsed": false,
    "pycharm": {
     "name": "#%%\n"
    }
   }
  },
  {
   "cell_type": "code",
   "execution_count": null,
   "outputs": [],
   "source": [],
   "metadata": {
    "collapsed": false,
    "pycharm": {
     "name": "#%%\n"
    }
   }
  },
  {
   "cell_type": "code",
   "execution_count": null,
   "outputs": [],
   "source": [],
   "metadata": {
    "collapsed": false,
    "pycharm": {
     "name": "#%%\n"
    }
   }
  },
  {
   "cell_type": "code",
   "execution_count": null,
   "outputs": [],
   "source": [],
   "metadata": {
    "collapsed": false,
    "pycharm": {
     "name": "#%%\n"
    }
   }
  },
  {
   "cell_type": "markdown",
   "source": [
    "## Построение графиков roc-auc кривых"
   ],
   "metadata": {
    "collapsed": false,
    "pycharm": {
     "name": "#%% md\n"
    }
   }
  },
  {
   "cell_type": "code",
   "execution_count": null,
   "outputs": [],
   "source": [
    "plt.figure(figsize=(15, 6));\n",
    "plt.xlim([0, 1])\n",
    "plt.ylim([0, 1])\n",
    "\n",
    "plt.plot([0, 1], [0, 1]);\n",
    "\n",
    "for model, label in zip((vc, sc, bc, rf_best),\n",
    "                        ('VotingClassifier', 'StackingClassifier', 'BaggingClassifier', 'RandomForest')):\n",
    "    fpr, tpr, thresholds = roc_curve(y_train, model.fit(x_train, y_train).predict_proba(x_train)[:, 0])\n",
    "    plt.plot(tpr, fpr, label=label);\n",
    "    plt.legend(loc='lower right')\n",
    "    plt.legend(loc='upper left')"
   ],
   "metadata": {
    "collapsed": false,
    "pycharm": {
     "name": "#%%\n"
    }
   }
  },
  {
   "cell_type": "code",
   "execution_count": null,
   "outputs": [],
   "source": [],
   "metadata": {
    "collapsed": false,
    "pycharm": {
     "name": "#%%\n"
    }
   }
  },
  {
   "cell_type": "code",
   "execution_count": null,
   "outputs": [],
   "source": [
    "roc_auc_score(y_train, vc.fit(x_train, y_train).predict(x_train))"
   ],
   "metadata": {
    "collapsed": false,
    "pycharm": {
     "name": "#%%\n"
    }
   }
  },
  {
   "cell_type": "code",
   "execution_count": null,
   "outputs": [],
   "source": [
    "roc_auc_score(y_train, rf_best.fit(x_train, y_train).predict(x_train))"
   ],
   "metadata": {
    "collapsed": false,
    "pycharm": {
     "name": "#%%\n"
    }
   }
  },
  {
   "cell_type": "code",
   "execution_count": null,
   "outputs": [],
   "source": [],
   "metadata": {
    "collapsed": false,
    "pycharm": {
     "name": "#%%\n"
    }
   }
  },
  {
   "cell_type": "code",
   "execution_count": null,
   "outputs": [],
   "source": [],
   "metadata": {
    "collapsed": false,
    "pycharm": {
     "name": "#%%\n"
    }
   }
  },
  {
   "cell_type": "code",
   "execution_count": null,
   "outputs": [],
   "source": [],
   "metadata": {
    "collapsed": false,
    "pycharm": {
     "name": "#%%\n"
    }
   }
  }
 ],
 "metadata": {
  "kernelspec": {
   "display_name": "Python 3",
   "language": "python",
   "name": "python3"
  },
  "language_info": {
   "codemirror_mode": {
    "name": "ipython",
    "version": 2
   },
   "file_extension": ".py",
   "mimetype": "text/x-python",
   "name": "python",
   "nbconvert_exporter": "python",
   "pygments_lexer": "ipython2",
   "version": "2.7.6"
  }
 },
 "nbformat": 4,
 "nbformat_minor": 0
}