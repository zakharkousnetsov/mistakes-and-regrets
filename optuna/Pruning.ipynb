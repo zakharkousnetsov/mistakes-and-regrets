{
 "cells": [
  {
   "cell_type": "markdown",
   "source": [
    "https://optuna.readthedocs.io/en/stable/tutorial/10_key_features/003_efficient_optimization_algorithms.html"
   ],
   "metadata": {
    "collapsed": false,
    "pycharm": {
     "name": "#%% md\n"
    }
   }
  },
  {
   "cell_type": "code",
   "execution_count": 12,
   "metadata": {
    "collapsed": true,
    "pycharm": {
     "name": "#%%\n"
    }
   },
   "outputs": [],
   "source": [
    "import optuna\n",
    "import sklearn\n",
    "import sys"
   ]
  },
  {
   "cell_type": "code",
   "execution_count": 13,
   "outputs": [],
   "source": [
    "import logging\n",
    "import sys\n",
    "\n",
    "import sklearn.datasets\n",
    "import sklearn.linear_model\n",
    "import sklearn.model_selection\n",
    "\n",
    "\n",
    "def objective(trial):\n",
    "    iris = sklearn.datasets.load_iris()\n",
    "    classes = list(set(iris.target))\n",
    "    train_x, valid_x, train_y, valid_y = sklearn.model_selection.train_test_split(\n",
    "        iris.data, iris.target, test_size=0.25, random_state=0\n",
    "    )\n",
    "\n",
    "    alpha = trial.suggest_float(\"alpha\", 1e-5, 1e-1, log=True)\n",
    "    clf = sklearn.linear_model.SGDClassifier(alpha=alpha)\n",
    "\n",
    "    for step in range(100):\n",
    "        clf.partial_fit(train_x, train_y, classes=classes)\n",
    "\n",
    "        # Report intermediate objective value.\n",
    "        intermediate_value = 1.0 - clf.score(valid_x, valid_y)\n",
    "        trial.report(intermediate_value, step)\n",
    "\n",
    "        # Handle pruning based on the intermediate value.\n",
    "        if trial.should_prune():\n",
    "            raise optuna.TrialPruned()\n",
    "\n",
    "    return 1.0 - clf.score(valid_x, valid_y)"
   ],
   "metadata": {
    "collapsed": false,
    "pycharm": {
     "name": "#%%\n"
    }
   }
  },
  {
   "cell_type": "code",
   "execution_count": 14,
   "outputs": [
    {
     "name": "stderr",
     "output_type": "stream",
     "text": [
      "[I 2023-06-19 16:13:45,450] A new study created in memory with name: no-name-e1af0e84-4c7d-49ed-a77d-758952d9db9f\n"
     ]
    },
    {
     "name": "stdout",
     "output_type": "stream",
     "text": [
      "A new study created in memory with name: no-name-e1af0e84-4c7d-49ed-a77d-758952d9db9f\n",
      "A new study created in memory with name: no-name-e1af0e84-4c7d-49ed-a77d-758952d9db9f\n",
      "A new study created in memory with name: no-name-e1af0e84-4c7d-49ed-a77d-758952d9db9f\n",
      "A new study created in memory with name: no-name-e1af0e84-4c7d-49ed-a77d-758952d9db9f\n"
     ]
    },
    {
     "name": "stderr",
     "output_type": "stream",
     "text": [
      "[I 2023-06-19 16:13:45,632] Trial 0 finished with value: 0.3157894736842105 and parameters: {'alpha': 6.810075689128465e-05}. Best is trial 0 with value: 0.3157894736842105.\n"
     ]
    },
    {
     "name": "stdout",
     "output_type": "stream",
     "text": [
      "Trial 0 finished with value: 0.3157894736842105 and parameters: {'alpha': 6.810075689128465e-05}. Best is trial 0 with value: 0.3157894736842105.\n",
      "Trial 0 finished with value: 0.3157894736842105 and parameters: {'alpha': 6.810075689128465e-05}. Best is trial 0 with value: 0.3157894736842105.\n",
      "Trial 0 finished with value: 0.3157894736842105 and parameters: {'alpha': 6.810075689128465e-05}. Best is trial 0 with value: 0.3157894736842105.\n",
      "Trial 0 finished with value: 0.3157894736842105 and parameters: {'alpha': 6.810075689128465e-05}. Best is trial 0 with value: 0.3157894736842105.\n"
     ]
    },
    {
     "name": "stderr",
     "output_type": "stream",
     "text": [
      "[I 2023-06-19 16:13:45,843] Trial 1 finished with value: 0.3421052631578947 and parameters: {'alpha': 0.012026617137939866}. Best is trial 0 with value: 0.3157894736842105.\n"
     ]
    },
    {
     "name": "stdout",
     "output_type": "stream",
     "text": [
      "Trial 1 finished with value: 0.3421052631578947 and parameters: {'alpha': 0.012026617137939866}. Best is trial 0 with value: 0.3157894736842105.\n",
      "Trial 1 finished with value: 0.3421052631578947 and parameters: {'alpha': 0.012026617137939866}. Best is trial 0 with value: 0.3157894736842105.\n",
      "Trial 1 finished with value: 0.3421052631578947 and parameters: {'alpha': 0.012026617137939866}. Best is trial 0 with value: 0.3157894736842105.\n",
      "Trial 1 finished with value: 0.3421052631578947 and parameters: {'alpha': 0.012026617137939866}. Best is trial 0 with value: 0.3157894736842105.\n"
     ]
    },
    {
     "name": "stderr",
     "output_type": "stream",
     "text": [
      "[I 2023-06-19 16:13:46,027] Trial 2 finished with value: 0.02631578947368418 and parameters: {'alpha': 0.0015911605246290868}. Best is trial 2 with value: 0.02631578947368418.\n"
     ]
    },
    {
     "name": "stdout",
     "output_type": "stream",
     "text": [
      "Trial 2 finished with value: 0.02631578947368418 and parameters: {'alpha': 0.0015911605246290868}. Best is trial 2 with value: 0.02631578947368418.\n",
      "Trial 2 finished with value: 0.02631578947368418 and parameters: {'alpha': 0.0015911605246290868}. Best is trial 2 with value: 0.02631578947368418.\n",
      "Trial 2 finished with value: 0.02631578947368418 and parameters: {'alpha': 0.0015911605246290868}. Best is trial 2 with value: 0.02631578947368418.\n",
      "Trial 2 finished with value: 0.02631578947368418 and parameters: {'alpha': 0.0015911605246290868}. Best is trial 2 with value: 0.02631578947368418.\n"
     ]
    },
    {
     "name": "stderr",
     "output_type": "stream",
     "text": [
      "[I 2023-06-19 16:13:46,231] Trial 3 finished with value: 0.07894736842105265 and parameters: {'alpha': 0.0009887306506270207}. Best is trial 2 with value: 0.02631578947368418.\n"
     ]
    },
    {
     "name": "stdout",
     "output_type": "stream",
     "text": [
      "Trial 3 finished with value: 0.07894736842105265 and parameters: {'alpha': 0.0009887306506270207}. Best is trial 2 with value: 0.02631578947368418.\n",
      "Trial 3 finished with value: 0.07894736842105265 and parameters: {'alpha': 0.0009887306506270207}. Best is trial 2 with value: 0.02631578947368418.\n",
      "Trial 3 finished with value: 0.07894736842105265 and parameters: {'alpha': 0.0009887306506270207}. Best is trial 2 with value: 0.02631578947368418.\n",
      "Trial 3 finished with value: 0.07894736842105265 and parameters: {'alpha': 0.0009887306506270207}. Best is trial 2 with value: 0.02631578947368418.\n"
     ]
    },
    {
     "name": "stderr",
     "output_type": "stream",
     "text": [
      "[I 2023-06-19 16:13:46,410] Trial 4 finished with value: 0.39473684210526316 and parameters: {'alpha': 8.110935671219784e-05}. Best is trial 2 with value: 0.02631578947368418.\n"
     ]
    },
    {
     "name": "stdout",
     "output_type": "stream",
     "text": [
      "Trial 4 finished with value: 0.39473684210526316 and parameters: {'alpha': 8.110935671219784e-05}. Best is trial 2 with value: 0.02631578947368418.\n",
      "Trial 4 finished with value: 0.39473684210526316 and parameters: {'alpha': 8.110935671219784e-05}. Best is trial 2 with value: 0.02631578947368418.\n",
      "Trial 4 finished with value: 0.39473684210526316 and parameters: {'alpha': 8.110935671219784e-05}. Best is trial 2 with value: 0.02631578947368418.\n",
      "Trial 4 finished with value: 0.39473684210526316 and parameters: {'alpha': 8.110935671219784e-05}. Best is trial 2 with value: 0.02631578947368418.\n"
     ]
    },
    {
     "name": "stderr",
     "output_type": "stream",
     "text": [
      "[I 2023-06-19 16:13:46,607] Trial 5 finished with value: 0.02631578947368418 and parameters: {'alpha': 0.0016232851566614671}. Best is trial 2 with value: 0.02631578947368418.\n"
     ]
    },
    {
     "name": "stdout",
     "output_type": "stream",
     "text": [
      "Trial 5 finished with value: 0.02631578947368418 and parameters: {'alpha': 0.0016232851566614671}. Best is trial 2 with value: 0.02631578947368418.\n",
      "Trial 5 finished with value: 0.02631578947368418 and parameters: {'alpha': 0.0016232851566614671}. Best is trial 2 with value: 0.02631578947368418.\n",
      "Trial 5 finished with value: 0.02631578947368418 and parameters: {'alpha': 0.0016232851566614671}. Best is trial 2 with value: 0.02631578947368418.\n",
      "Trial 5 finished with value: 0.02631578947368418 and parameters: {'alpha': 0.0016232851566614671}. Best is trial 2 with value: 0.02631578947368418.\n"
     ]
    },
    {
     "name": "stderr",
     "output_type": "stream",
     "text": [
      "[I 2023-06-19 16:13:46,615] Trial 6 pruned. \n"
     ]
    },
    {
     "name": "stdout",
     "output_type": "stream",
     "text": [
      "Trial 6 pruned. \n",
      "Trial 6 pruned. \n",
      "Trial 6 pruned. \n",
      "Trial 6 pruned. \n"
     ]
    },
    {
     "name": "stderr",
     "output_type": "stream",
     "text": [
      "[I 2023-06-19 16:13:46,625] Trial 7 pruned. \n"
     ]
    },
    {
     "name": "stdout",
     "output_type": "stream",
     "text": [
      "Trial 7 pruned. \n",
      "Trial 7 pruned. \n",
      "Trial 7 pruned. \n",
      "Trial 7 pruned. \n"
     ]
    },
    {
     "name": "stderr",
     "output_type": "stream",
     "text": [
      "[I 2023-06-19 16:13:46,861] Trial 8 finished with value: 0.07894736842105265 and parameters: {'alpha': 0.0032262776066192514}. Best is trial 2 with value: 0.02631578947368418.\n"
     ]
    },
    {
     "name": "stdout",
     "output_type": "stream",
     "text": [
      "Trial 8 finished with value: 0.07894736842105265 and parameters: {'alpha': 0.0032262776066192514}. Best is trial 2 with value: 0.02631578947368418.\n",
      "Trial 8 finished with value: 0.07894736842105265 and parameters: {'alpha': 0.0032262776066192514}. Best is trial 2 with value: 0.02631578947368418.\n",
      "Trial 8 finished with value: 0.07894736842105265 and parameters: {'alpha': 0.0032262776066192514}. Best is trial 2 with value: 0.02631578947368418.\n",
      "Trial 8 finished with value: 0.07894736842105265 and parameters: {'alpha': 0.0032262776066192514}. Best is trial 2 with value: 0.02631578947368418.\n"
     ]
    },
    {
     "name": "stderr",
     "output_type": "stream",
     "text": [
      "[I 2023-06-19 16:13:46,874] Trial 9 pruned. \n"
     ]
    },
    {
     "name": "stdout",
     "output_type": "stream",
     "text": [
      "Trial 9 pruned. \n",
      "Trial 9 pruned. \n",
      "Trial 9 pruned. \n",
      "Trial 9 pruned. \n"
     ]
    },
    {
     "name": "stderr",
     "output_type": "stream",
     "text": [
      "[I 2023-06-19 16:13:46,894] Trial 10 pruned. \n"
     ]
    },
    {
     "name": "stdout",
     "output_type": "stream",
     "text": [
      "Trial 10 pruned. \n",
      "Trial 10 pruned. \n",
      "Trial 10 pruned. \n",
      "Trial 10 pruned. \n"
     ]
    },
    {
     "name": "stderr",
     "output_type": "stream",
     "text": [
      "[I 2023-06-19 16:13:46,908] Trial 11 pruned. \n"
     ]
    },
    {
     "name": "stdout",
     "output_type": "stream",
     "text": [
      "Trial 11 pruned. \n",
      "Trial 11 pruned. \n",
      "Trial 11 pruned. \n",
      "Trial 11 pruned. \n"
     ]
    },
    {
     "name": "stderr",
     "output_type": "stream",
     "text": [
      "[I 2023-06-19 16:13:47,111] Trial 12 finished with value: 0.052631578947368474 and parameters: {'alpha': 0.00046765631022081117}. Best is trial 2 with value: 0.02631578947368418.\n"
     ]
    },
    {
     "name": "stdout",
     "output_type": "stream",
     "text": [
      "Trial 12 finished with value: 0.052631578947368474 and parameters: {'alpha': 0.00046765631022081117}. Best is trial 2 with value: 0.02631578947368418.\n",
      "Trial 12 finished with value: 0.052631578947368474 and parameters: {'alpha': 0.00046765631022081117}. Best is trial 2 with value: 0.02631578947368418.\n",
      "Trial 12 finished with value: 0.052631578947368474 and parameters: {'alpha': 0.00046765631022081117}. Best is trial 2 with value: 0.02631578947368418.\n",
      "Trial 12 finished with value: 0.052631578947368474 and parameters: {'alpha': 0.00046765631022081117}. Best is trial 2 with value: 0.02631578947368418.\n"
     ]
    },
    {
     "name": "stderr",
     "output_type": "stream",
     "text": [
      "[I 2023-06-19 16:13:47,181] Trial 13 pruned. \n"
     ]
    },
    {
     "name": "stdout",
     "output_type": "stream",
     "text": [
      "Trial 13 pruned. \n",
      "Trial 13 pruned. \n",
      "Trial 13 pruned. \n",
      "Trial 13 pruned. \n"
     ]
    },
    {
     "name": "stderr",
     "output_type": "stream",
     "text": [
      "[I 2023-06-19 16:13:47,198] Trial 14 pruned. \n"
     ]
    },
    {
     "name": "stdout",
     "output_type": "stream",
     "text": [
      "Trial 14 pruned. \n",
      "Trial 14 pruned. \n",
      "Trial 14 pruned. \n",
      "Trial 14 pruned. \n"
     ]
    },
    {
     "name": "stderr",
     "output_type": "stream",
     "text": [
      "[I 2023-06-19 16:13:47,399] Trial 15 finished with value: 0.02631578947368418 and parameters: {'alpha': 0.0016918410855219675}. Best is trial 2 with value: 0.02631578947368418.\n"
     ]
    },
    {
     "name": "stdout",
     "output_type": "stream",
     "text": [
      "Trial 15 finished with value: 0.02631578947368418 and parameters: {'alpha': 0.0016918410855219675}. Best is trial 2 with value: 0.02631578947368418.\n",
      "Trial 15 finished with value: 0.02631578947368418 and parameters: {'alpha': 0.0016918410855219675}. Best is trial 2 with value: 0.02631578947368418.\n",
      "Trial 15 finished with value: 0.02631578947368418 and parameters: {'alpha': 0.0016918410855219675}. Best is trial 2 with value: 0.02631578947368418.\n",
      "Trial 15 finished with value: 0.02631578947368418 and parameters: {'alpha': 0.0016918410855219675}. Best is trial 2 with value: 0.02631578947368418.\n"
     ]
    },
    {
     "name": "stderr",
     "output_type": "stream",
     "text": [
      "[I 2023-06-19 16:13:47,412] Trial 16 pruned. \n"
     ]
    },
    {
     "name": "stdout",
     "output_type": "stream",
     "text": [
      "Trial 16 pruned. \n",
      "Trial 16 pruned. \n",
      "Trial 16 pruned. \n",
      "Trial 16 pruned. \n"
     ]
    },
    {
     "name": "stderr",
     "output_type": "stream",
     "text": [
      "[I 2023-06-19 16:13:47,618] Trial 17 finished with value: 0.26315789473684215 and parameters: {'alpha': 0.00034791732274256786}. Best is trial 2 with value: 0.02631578947368418.\n"
     ]
    },
    {
     "name": "stdout",
     "output_type": "stream",
     "text": [
      "Trial 17 finished with value: 0.26315789473684215 and parameters: {'alpha': 0.00034791732274256786}. Best is trial 2 with value: 0.02631578947368418.\n",
      "Trial 17 finished with value: 0.26315789473684215 and parameters: {'alpha': 0.00034791732274256786}. Best is trial 2 with value: 0.02631578947368418.\n",
      "Trial 17 finished with value: 0.26315789473684215 and parameters: {'alpha': 0.00034791732274256786}. Best is trial 2 with value: 0.02631578947368418.\n",
      "Trial 17 finished with value: 0.26315789473684215 and parameters: {'alpha': 0.00034791732274256786}. Best is trial 2 with value: 0.02631578947368418.\n"
     ]
    },
    {
     "name": "stderr",
     "output_type": "stream",
     "text": [
      "[I 2023-06-19 16:13:47,836] Trial 18 finished with value: 0.02631578947368418 and parameters: {'alpha': 0.0017857722722068982}. Best is trial 2 with value: 0.02631578947368418.\n"
     ]
    },
    {
     "name": "stdout",
     "output_type": "stream",
     "text": [
      "Trial 18 finished with value: 0.02631578947368418 and parameters: {'alpha': 0.0017857722722068982}. Best is trial 2 with value: 0.02631578947368418.\n",
      "Trial 18 finished with value: 0.02631578947368418 and parameters: {'alpha': 0.0017857722722068982}. Best is trial 2 with value: 0.02631578947368418.\n",
      "Trial 18 finished with value: 0.02631578947368418 and parameters: {'alpha': 0.0017857722722068982}. Best is trial 2 with value: 0.02631578947368418.\n",
      "Trial 18 finished with value: 0.02631578947368418 and parameters: {'alpha': 0.0017857722722068982}. Best is trial 2 with value: 0.02631578947368418.\n"
     ]
    },
    {
     "name": "stderr",
     "output_type": "stream",
     "text": [
      "[I 2023-06-19 16:13:47,862] Trial 19 pruned. \n"
     ]
    },
    {
     "name": "stdout",
     "output_type": "stream",
     "text": [
      "Trial 19 pruned. \n",
      "Trial 19 pruned. \n",
      "Trial 19 pruned. \n",
      "Trial 19 pruned. \n"
     ]
    }
   ],
   "source": [
    "# Add stream handler of stdout to show the messages\n",
    "optuna.logging.get_logger(\"optuna\").addHandler(logging.StreamHandler(sys.stdout))\n",
    "study = optuna.create_study(pruner=optuna.pruners.MedianPruner())\n",
    "study.optimize(objective, n_trials=20)"
   ],
   "metadata": {
    "collapsed": false,
    "pycharm": {
     "name": "#%%\n"
    }
   }
  },
  {
   "cell_type": "code",
   "execution_count": 14,
   "outputs": [],
   "source": [],
   "metadata": {
    "collapsed": false,
    "pycharm": {
     "name": "#%%\n"
    }
   }
  },
  {
   "cell_type": "code",
   "execution_count": null,
   "outputs": [],
   "source": [],
   "metadata": {
    "collapsed": false,
    "pycharm": {
     "name": "#%%\n"
    }
   }
  },
  {
   "cell_type": "code",
   "execution_count": null,
   "outputs": [],
   "source": [],
   "metadata": {
    "collapsed": false,
    "pycharm": {
     "name": "#%%\n"
    }
   }
  }
 ],
 "metadata": {
  "kernelspec": {
   "display_name": "Python 3",
   "language": "python",
   "name": "python3"
  },
  "language_info": {
   "codemirror_mode": {
    "name": "ipython",
    "version": 2
   },
   "file_extension": ".py",
   "mimetype": "text/x-python",
   "name": "python",
   "nbconvert_exporter": "python",
   "pygments_lexer": "ipython2",
   "version": "2.7.6"
  }
 },
 "nbformat": 4,
 "nbformat_minor": 0
}